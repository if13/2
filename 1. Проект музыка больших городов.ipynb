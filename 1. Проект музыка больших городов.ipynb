{
 "cells": [
  {
   "cell_type": "markdown",
   "metadata": {
    "id": "E0vqbgi9ay0H"
   },
   "source": [
    "# Яндекс.Музыка"
   ]
  },
  {
   "cell_type": "markdown",
   "metadata": {
    "id": "VUC88oWjTJw2"
   },
   "source": [
    "Сравнение Москвы и Петербурга окружено мифами. Например:\n",
    " * Москва — мегаполис, подчинённый жёсткому ритму рабочей недели;\n",
    " * Петербург — культурная столица, со своими вкусами.\n",
    "\n",
    "На данных Яндекс.Музыки вы сравните поведение пользователей двух столиц.\n",
    "\n",
    "**Цель исследования** — проверьте три гипотезы:\n",
    "1. Активность пользователей зависит от дня недели. Причём в Москве и Петербурге это проявляется по-разному.\n",
    "2. В понедельник утром в Москве преобладают одни жанры, а в Петербурге — другие. Так же и вечером пятницы преобладают разные жанры — в зависимости от города. \n",
    "3. Москва и Петербург предпочитают разные жанры музыки. В Москве чаще слушают поп-музыку, в Петербурге — русский рэп.\n",
    "\n",
    "**Ход исследования**\n",
    "\n",
    "Данные о поведении пользователей вы получите из файла `yandex_music_project.csv`. О качестве данных ничего не известно. Поэтому перед проверкой гипотез понадобится обзор данных. \n",
    "\n",
    "Вы проверите данные на ошибки и оцените их влияние на исследование. Затем, на этапе предобработки вы поищете возможность исправить самые критичные ошибки данных.\n",
    " \n",
    "Таким образом, исследование пройдёт в три этапа:\n",
    " 1. Обзор данных.\n",
    " 2. Предобработка данных.\n",
    " 3. Проверка гипотез.\n",
    "\n"
   ]
  },
  {
   "cell_type": "markdown",
   "metadata": {
    "id": "Ml1hmfXC_Zcs"
   },
   "source": [
    "## Обзор данных\n",
    "\n",
    "Составьте первое представление о данных Яндекс.Музыки.\n",
    "\n",
    "\n"
   ]
  },
  {
   "cell_type": "markdown",
   "metadata": {
    "id": "57eAOGIz_Zcs"
   },
   "source": [
    "Основной инструмент аналитика — `pandas`. Импортируйте эту библиотеку."
   ]
  },
  {
   "cell_type": "code",
   "execution_count": 1,
   "metadata": {
    "id": "AXN7PHPN_Zcs"
   },
   "outputs": [],
   "source": [
    "import pandas as pd"
   ]
  },
  {
   "cell_type": "markdown",
   "metadata": {
    "id": "SG23P8tt_Zcs"
   },
   "source": [
    "Прочитайте файл `yandex_music_project.csv` из папки `/datasets` и сохраните его в переменной `df`:"
   ]
  },
  {
   "cell_type": "code",
   "execution_count": 2,
   "metadata": {
    "id": "fFVu7vqh_Zct"
   },
   "outputs": [],
   "source": [
    "df = pd.read_csv('/datasets/yandex_music_project.csv')"
   ]
  },
  {
   "cell_type": "markdown",
   "metadata": {
    "id": "rDoOMd3uTqnZ"
   },
   "source": [
    "Выведите на экран первые десять строк таблицы:"
   ]
  },
  {
   "cell_type": "code",
   "execution_count": 3,
   "metadata": {
    "id": "oWTVX3gW_Zct"
   },
   "outputs": [
    {
     "data": {
      "text/html": [
       "<div>\n",
       "<style scoped>\n",
       "    .dataframe tbody tr th:only-of-type {\n",
       "        vertical-align: middle;\n",
       "    }\n",
       "\n",
       "    .dataframe tbody tr th {\n",
       "        vertical-align: top;\n",
       "    }\n",
       "\n",
       "    .dataframe thead th {\n",
       "        text-align: right;\n",
       "    }\n",
       "</style>\n",
       "<table border=\"1\" class=\"dataframe\">\n",
       "  <thead>\n",
       "    <tr style=\"text-align: right;\">\n",
       "      <th></th>\n",
       "      <th>userID</th>\n",
       "      <th>Track</th>\n",
       "      <th>artist</th>\n",
       "      <th>genre</th>\n",
       "      <th>City</th>\n",
       "      <th>time</th>\n",
       "      <th>Day</th>\n",
       "    </tr>\n",
       "  </thead>\n",
       "  <tbody>\n",
       "    <tr>\n",
       "      <td>0</td>\n",
       "      <td>FFB692EC</td>\n",
       "      <td>Kamigata To Boots</td>\n",
       "      <td>The Mass Missile</td>\n",
       "      <td>rock</td>\n",
       "      <td>Saint-Petersburg</td>\n",
       "      <td>20:28:33</td>\n",
       "      <td>Wednesday</td>\n",
       "    </tr>\n",
       "    <tr>\n",
       "      <td>1</td>\n",
       "      <td>55204538</td>\n",
       "      <td>Delayed Because of Accident</td>\n",
       "      <td>Andreas Rönnberg</td>\n",
       "      <td>rock</td>\n",
       "      <td>Moscow</td>\n",
       "      <td>14:07:09</td>\n",
       "      <td>Friday</td>\n",
       "    </tr>\n",
       "    <tr>\n",
       "      <td>2</td>\n",
       "      <td>20EC38</td>\n",
       "      <td>Funiculì funiculà</td>\n",
       "      <td>Mario Lanza</td>\n",
       "      <td>pop</td>\n",
       "      <td>Saint-Petersburg</td>\n",
       "      <td>20:58:07</td>\n",
       "      <td>Wednesday</td>\n",
       "    </tr>\n",
       "    <tr>\n",
       "      <td>3</td>\n",
       "      <td>A3DD03C9</td>\n",
       "      <td>Dragons in the Sunset</td>\n",
       "      <td>Fire + Ice</td>\n",
       "      <td>folk</td>\n",
       "      <td>Saint-Petersburg</td>\n",
       "      <td>08:37:09</td>\n",
       "      <td>Monday</td>\n",
       "    </tr>\n",
       "    <tr>\n",
       "      <td>4</td>\n",
       "      <td>E2DC1FAE</td>\n",
       "      <td>Soul People</td>\n",
       "      <td>Space Echo</td>\n",
       "      <td>dance</td>\n",
       "      <td>Moscow</td>\n",
       "      <td>08:34:34</td>\n",
       "      <td>Monday</td>\n",
       "    </tr>\n",
       "    <tr>\n",
       "      <td>5</td>\n",
       "      <td>842029A1</td>\n",
       "      <td>Преданная</td>\n",
       "      <td>IMPERVTOR</td>\n",
       "      <td>rusrap</td>\n",
       "      <td>Saint-Petersburg</td>\n",
       "      <td>13:09:41</td>\n",
       "      <td>Friday</td>\n",
       "    </tr>\n",
       "    <tr>\n",
       "      <td>6</td>\n",
       "      <td>4CB90AA5</td>\n",
       "      <td>True</td>\n",
       "      <td>Roman Messer</td>\n",
       "      <td>dance</td>\n",
       "      <td>Moscow</td>\n",
       "      <td>13:00:07</td>\n",
       "      <td>Wednesday</td>\n",
       "    </tr>\n",
       "    <tr>\n",
       "      <td>7</td>\n",
       "      <td>F03E1C1F</td>\n",
       "      <td>Feeling This Way</td>\n",
       "      <td>Polina Griffith</td>\n",
       "      <td>dance</td>\n",
       "      <td>Moscow</td>\n",
       "      <td>20:47:49</td>\n",
       "      <td>Wednesday</td>\n",
       "    </tr>\n",
       "    <tr>\n",
       "      <td>8</td>\n",
       "      <td>8FA1D3BE</td>\n",
       "      <td>И вновь продолжается бой</td>\n",
       "      <td>NaN</td>\n",
       "      <td>ruspop</td>\n",
       "      <td>Moscow</td>\n",
       "      <td>09:17:40</td>\n",
       "      <td>Friday</td>\n",
       "    </tr>\n",
       "    <tr>\n",
       "      <td>9</td>\n",
       "      <td>E772D5C0</td>\n",
       "      <td>Pessimist</td>\n",
       "      <td>NaN</td>\n",
       "      <td>dance</td>\n",
       "      <td>Saint-Petersburg</td>\n",
       "      <td>21:20:49</td>\n",
       "      <td>Wednesday</td>\n",
       "    </tr>\n",
       "  </tbody>\n",
       "</table>\n",
       "</div>"
      ],
      "text/plain": [
       "     userID                        Track            artist   genre  \\\n",
       "0  FFB692EC            Kamigata To Boots  The Mass Missile    rock   \n",
       "1  55204538  Delayed Because of Accident  Andreas Rönnberg    rock   \n",
       "2    20EC38            Funiculì funiculà       Mario Lanza     pop   \n",
       "3  A3DD03C9        Dragons in the Sunset        Fire + Ice    folk   \n",
       "4  E2DC1FAE                  Soul People        Space Echo   dance   \n",
       "5  842029A1                    Преданная         IMPERVTOR  rusrap   \n",
       "6  4CB90AA5                         True      Roman Messer   dance   \n",
       "7  F03E1C1F             Feeling This Way   Polina Griffith   dance   \n",
       "8  8FA1D3BE     И вновь продолжается бой               NaN  ruspop   \n",
       "9  E772D5C0                    Pessimist               NaN   dance   \n",
       "\n",
       "             City        time        Day  \n",
       "0  Saint-Petersburg  20:28:33  Wednesday  \n",
       "1            Moscow  14:07:09     Friday  \n",
       "2  Saint-Petersburg  20:58:07  Wednesday  \n",
       "3  Saint-Petersburg  08:37:09     Monday  \n",
       "4            Moscow  08:34:34     Monday  \n",
       "5  Saint-Petersburg  13:09:41     Friday  \n",
       "6            Moscow  13:00:07  Wednesday  \n",
       "7            Moscow  20:47:49  Wednesday  \n",
       "8            Moscow  09:17:40     Friday  \n",
       "9  Saint-Petersburg  21:20:49  Wednesday  "
      ]
     },
     "execution_count": 3,
     "metadata": {},
     "output_type": "execute_result"
    }
   ],
   "source": [
    "df.head(10)"
   ]
  },
  {
   "cell_type": "markdown",
   "metadata": {
    "id": "EO73Kwic_Zct"
   },
   "source": [
    "Одной командой получить общую информацию о таблице:"
   ]
  },
  {
   "cell_type": "code",
   "execution_count": 4,
   "metadata": {
    "id": "DSf2kIb-_Zct"
   },
   "outputs": [
    {
     "name": "stdout",
     "output_type": "stream",
     "text": [
      "<class 'pandas.core.frame.DataFrame'>\n",
      "RangeIndex: 65079 entries, 0 to 65078\n",
      "Data columns (total 7 columns):\n",
      "  userID    65079 non-null object\n",
      "Track       63848 non-null object\n",
      "artist      57876 non-null object\n",
      "genre       63881 non-null object\n",
      "  City      65079 non-null object\n",
      "time        65079 non-null object\n",
      "Day         65079 non-null object\n",
      "dtypes: object(7)\n",
      "memory usage: 3.5+ MB\n"
     ]
    }
   ],
   "source": [
    "df.info()"
   ]
  },
  {
   "cell_type": "markdown",
   "metadata": {
    "id": "TaQ2Iwbr_Zct"
   },
   "source": [
    "Итак, в таблице семь столбцов. Тип данных во всех столбцах — `object`.\n",
    "\n",
    "Согласно документации к данным:\n",
    "* `userID` — идентификатор пользователя;\n",
    "* `Track` — название трека;  \n",
    "* `artist` — имя исполнителя;\n",
    "* `genre` — название жанра;\n",
    "* `City` — город пользователя;\n",
    "* `time` — время начала прослушивания;\n",
    "* `Day` — день недели.\n",
    "\n",
    "В названиях колонок видны три нарушения стиля:\n",
    "1. Строчные буквы сочетаются с прописными.\n",
    "2. Встречаются пробелы.\n",
    "3. Найдите ещё одну проблему в названии колонок и опишите её в этом пункте.\n",
    "\n",
    "\n",
    "\n",
    "Количество значений в столбцах различается. Значит, в данных есть пропущенные значения.\n"
   ]
  },
  {
   "cell_type": "markdown",
   "metadata": {
    "id": "MCB6-dXG_Zct"
   },
   "source": [
    "**Выводы**\n",
    "\n",
    "В каждой строке таблицы — данные о прослушанном треке. Часть колонок описывает саму композицию: название, исполнителя и жанр. Остальные данные рассказывают о пользователе: из какого он города, когда он слушал музыку. \n",
    "\n",
    "Предварительно можно утверждать, что, данных достаточно для проверки гипотез. Но встречаются пропуски в данных, а в названиях колонок — расхождения с хорошим стилем.\n",
    "\n",
    "Чтобы двигаться дальше, нужно устранить проблемы в данных."
   ]
  },
  {
   "cell_type": "markdown",
   "metadata": {
    "id": "SjYF6Ub9_Zct",
    "tags": []
   },
   "source": [
    "## Предобработка данных\n",
    "Исправьте стиль в заголовках столбцов, исключите пропуски. Затем проверьте данные на дубликаты."
   ]
  },
  {
   "cell_type": "markdown",
   "metadata": {
    "id": "dIaKXr29_Zct"
   },
   "source": [
    "### Стиль заголовков\n",
    "Выведите на экран названия столбцов:"
   ]
  },
  {
   "cell_type": "code",
   "execution_count": 5,
   "metadata": {
    "id": "oKOTdF_Q_Zct"
   },
   "outputs": [
    {
     "data": {
      "text/plain": [
       "Index(['  userID', 'Track', 'artist', 'genre', '  City  ', 'time', 'Day'], dtype='object')"
      ]
     },
     "execution_count": 5,
     "metadata": {},
     "output_type": "execute_result"
    }
   ],
   "source": [
    "df.columns"
   ]
  },
  {
   "cell_type": "markdown",
   "metadata": {
    "id": "zj5534cv_Zct"
   },
   "source": [
    "Приведите названия в соответствие с хорошим стилем:\n",
    "* несколько слов в названии запишите в «змеином_регистре»,\n",
    "* все символы сделайте строчными,\n",
    "* устраните пробелы.\n",
    "\n",
    "Для этого переименуйте колонки так:\n",
    "* `'  userID'` → `'user_id'`;\n",
    "* `'Track'` → `'track'`;\n",
    "* `'  City  '` → `'city'`;\n",
    "* `'Day'` → `'day'`."
   ]
  },
  {
   "cell_type": "code",
   "execution_count": 6,
   "metadata": {
    "id": "ISlFqs5y_Zct"
   },
   "outputs": [
    {
     "data": {
      "text/html": [
       "<div>\n",
       "<style scoped>\n",
       "    .dataframe tbody tr th:only-of-type {\n",
       "        vertical-align: middle;\n",
       "    }\n",
       "\n",
       "    .dataframe tbody tr th {\n",
       "        vertical-align: top;\n",
       "    }\n",
       "\n",
       "    .dataframe thead th {\n",
       "        text-align: right;\n",
       "    }\n",
       "</style>\n",
       "<table border=\"1\" class=\"dataframe\">\n",
       "  <thead>\n",
       "    <tr style=\"text-align: right;\">\n",
       "      <th></th>\n",
       "      <th>userID</th>\n",
       "      <th>Track</th>\n",
       "      <th>artist</th>\n",
       "      <th>genre</th>\n",
       "      <th>City</th>\n",
       "      <th>time</th>\n",
       "      <th>Day</th>\n",
       "    </tr>\n",
       "  </thead>\n",
       "  <tbody>\n",
       "    <tr>\n",
       "      <td>0</td>\n",
       "      <td>FFB692EC</td>\n",
       "      <td>Kamigata To Boots</td>\n",
       "      <td>The Mass Missile</td>\n",
       "      <td>rock</td>\n",
       "      <td>Saint-Petersburg</td>\n",
       "      <td>20:28:33</td>\n",
       "      <td>Wednesday</td>\n",
       "    </tr>\n",
       "    <tr>\n",
       "      <td>1</td>\n",
       "      <td>55204538</td>\n",
       "      <td>Delayed Because of Accident</td>\n",
       "      <td>Andreas Rönnberg</td>\n",
       "      <td>rock</td>\n",
       "      <td>Moscow</td>\n",
       "      <td>14:07:09</td>\n",
       "      <td>Friday</td>\n",
       "    </tr>\n",
       "    <tr>\n",
       "      <td>2</td>\n",
       "      <td>20EC38</td>\n",
       "      <td>Funiculì funiculà</td>\n",
       "      <td>Mario Lanza</td>\n",
       "      <td>pop</td>\n",
       "      <td>Saint-Petersburg</td>\n",
       "      <td>20:58:07</td>\n",
       "      <td>Wednesday</td>\n",
       "    </tr>\n",
       "    <tr>\n",
       "      <td>3</td>\n",
       "      <td>A3DD03C9</td>\n",
       "      <td>Dragons in the Sunset</td>\n",
       "      <td>Fire + Ice</td>\n",
       "      <td>folk</td>\n",
       "      <td>Saint-Petersburg</td>\n",
       "      <td>08:37:09</td>\n",
       "      <td>Monday</td>\n",
       "    </tr>\n",
       "    <tr>\n",
       "      <td>4</td>\n",
       "      <td>E2DC1FAE</td>\n",
       "      <td>Soul People</td>\n",
       "      <td>Space Echo</td>\n",
       "      <td>dance</td>\n",
       "      <td>Moscow</td>\n",
       "      <td>08:34:34</td>\n",
       "      <td>Monday</td>\n",
       "    </tr>\n",
       "  </tbody>\n",
       "</table>\n",
       "</div>"
      ],
      "text/plain": [
       "     userID                        Track            artist  genre  \\\n",
       "0  FFB692EC            Kamigata To Boots  The Mass Missile   rock   \n",
       "1  55204538  Delayed Because of Accident  Andreas Rönnberg   rock   \n",
       "2    20EC38            Funiculì funiculà       Mario Lanza    pop   \n",
       "3  A3DD03C9        Dragons in the Sunset        Fire + Ice   folk   \n",
       "4  E2DC1FAE                  Soul People        Space Echo  dance   \n",
       "\n",
       "             City        time        Day  \n",
       "0  Saint-Petersburg  20:28:33  Wednesday  \n",
       "1            Moscow  14:07:09     Friday  \n",
       "2  Saint-Petersburg  20:58:07  Wednesday  \n",
       "3  Saint-Petersburg  08:37:09     Monday  \n",
       "4            Moscow  08:34:34     Monday  "
      ]
     },
     "metadata": {},
     "output_type": "display_data"
    }
   ],
   "source": [
    "display(df.head())\n",
    "replace_str = \"{'  userID' → 'user_id'; 'Track' → 'track'; '  City  ' → 'city'; 'Day' → 'day'}\"\n",
    "replace_str = replace_str.replace('→', ':').replace(';', ',')\n",
    "replace_dict = eval(replace_str)\n",
    "df.rename(columns=replace_dict, inplace=True)"
   ]
  },
  {
   "cell_type": "markdown",
   "metadata": {
    "id": "1dqbh00J_Zct"
   },
   "source": [
    "Проверьте результат. Для этого ещё раз выведите на экран названия столбцов:"
   ]
  },
  {
   "cell_type": "code",
   "execution_count": 7,
   "metadata": {
    "id": "d4NOAmTW_Zct"
   },
   "outputs": [
    {
     "data": {
      "text/plain": [
       "Index(['user_id', 'track', 'artist', 'genre', 'city', 'time', 'day'], dtype='object')"
      ]
     },
     "execution_count": 7,
     "metadata": {},
     "output_type": "execute_result"
    }
   ],
   "source": [
    "df.columns\n"
   ]
  },
  {
   "cell_type": "markdown",
   "metadata": {
    "id": "5ISfbcfY_Zct"
   },
   "source": [
    "### Пропуски значений\n",
    "Сначала посчитайте, сколько в таблице пропущенных значений. Для этого достаточно двух методов `pandas`:"
   ]
  },
  {
   "cell_type": "code",
   "execution_count": 8,
   "metadata": {
    "id": "RskX29qr_Zct"
   },
   "outputs": [
    {
     "data": {
      "text/plain": [
       "user_id       0\n",
       "track      1231\n",
       "artist     7203\n",
       "genre      1198\n",
       "city          0\n",
       "time          0\n",
       "day           0\n",
       "dtype: int64"
      ]
     },
     "execution_count": 8,
     "metadata": {},
     "output_type": "execute_result"
    }
   ],
   "source": [
    "df.isna().sum()"
   ]
  },
  {
   "cell_type": "markdown",
   "metadata": {
    "id": "qubhgnlO_Zct"
   },
   "source": [
    "Не все пропущенные значения влияют на исследование. Так в `track` и `artist` пропуски не важны для вашей работы. Достаточно заменить их явными обозначениями.\n",
    "\n",
    "Но пропуски в `genre` могут помешать сравнению музыкальных вкусов в Москве и Санкт-Петербурге. На практике было бы правильно установить причину пропусков и восстановить данные. Такой возможности нет в учебном проекте. Придётся:\n",
    "* заполнить и эти пропуски явными обозначениями,\n",
    "* оценить, насколько они повредят расчётам. "
   ]
  },
  {
   "cell_type": "markdown",
   "metadata": {
    "id": "fSv2laPA_Zct"
   },
   "source": [
    "Замените пропущенные значения в столбцах `track`, `artist` и `genre` на строку `'unknown'`. Для этого создайте список `columns_to_replace`, переберите его элементы циклом `for` и для каждого столбца выполните замену пропущенных значений:"
   ]
  },
  {
   "cell_type": "code",
   "execution_count": 9,
   "metadata": {
    "id": "KplB5qWs_Zct"
   },
   "outputs": [],
   "source": [
    "replace_col = ['track', 'artist', 'genre']\n",
    "\n",
    "for i in replace_col:\n",
    "    df[i] = df[i].fillna('unknown')\n",
    "    "
   ]
  },
  {
   "cell_type": "markdown",
   "metadata": {
    "id": "Ilsm-MZo_Zct"
   },
   "source": [
    "Убедитесь, что в таблице не осталось пропусков. Для этого ещё раз посчитайте пропущенные значения."
   ]
  },
  {
   "cell_type": "code",
   "execution_count": 10,
   "metadata": {
    "id": "Tq4nYRX4_Zct"
   },
   "outputs": [
    {
     "data": {
      "text/plain": [
       "user_id    0\n",
       "track      0\n",
       "artist     0\n",
       "genre      0\n",
       "city       0\n",
       "time       0\n",
       "day        0\n",
       "dtype: int64"
      ]
     },
     "execution_count": 10,
     "metadata": {},
     "output_type": "execute_result"
    }
   ],
   "source": [
    "df.isna().sum()"
   ]
  },
  {
   "cell_type": "markdown",
   "metadata": {
    "id": "BWKRtBJ3_Zct"
   },
   "source": [
    "### Дубликаты\n",
    "Посчитайте явные дубликаты в таблице одной командой:"
   ]
  },
  {
   "cell_type": "code",
   "execution_count": 11,
   "metadata": {
    "id": "36eES_S0_Zct"
   },
   "outputs": [
    {
     "data": {
      "text/plain": [
       "3826"
      ]
     },
     "execution_count": 11,
     "metadata": {},
     "output_type": "execute_result"
    }
   ],
   "source": [
    "df.duplicated().sum()"
   ]
  },
  {
   "cell_type": "markdown",
   "metadata": {
    "id": "Ot25h6XR_Zct"
   },
   "source": [
    "Вызовите специальный метод `pandas`, чтобы удалить явные дубликаты:"
   ]
  },
  {
   "cell_type": "code",
   "execution_count": 12,
   "metadata": {
    "id": "exFHq6tt_Zct"
   },
   "outputs": [
    {
     "data": {
      "text/html": [
       "<div>\n",
       "<style scoped>\n",
       "    .dataframe tbody tr th:only-of-type {\n",
       "        vertical-align: middle;\n",
       "    }\n",
       "\n",
       "    .dataframe tbody tr th {\n",
       "        vertical-align: top;\n",
       "    }\n",
       "\n",
       "    .dataframe thead th {\n",
       "        text-align: right;\n",
       "    }\n",
       "</style>\n",
       "<table border=\"1\" class=\"dataframe\">\n",
       "  <thead>\n",
       "    <tr style=\"text-align: right;\">\n",
       "      <th></th>\n",
       "      <th>user_id</th>\n",
       "      <th>track</th>\n",
       "      <th>artist</th>\n",
       "      <th>genre</th>\n",
       "      <th>city</th>\n",
       "      <th>time</th>\n",
       "      <th>day</th>\n",
       "    </tr>\n",
       "  </thead>\n",
       "  <tbody>\n",
       "    <tr>\n",
       "      <td>0</td>\n",
       "      <td>FFB692EC</td>\n",
       "      <td>Kamigata To Boots</td>\n",
       "      <td>The Mass Missile</td>\n",
       "      <td>rock</td>\n",
       "      <td>Saint-Petersburg</td>\n",
       "      <td>20:28:33</td>\n",
       "      <td>Wednesday</td>\n",
       "    </tr>\n",
       "    <tr>\n",
       "      <td>1</td>\n",
       "      <td>55204538</td>\n",
       "      <td>Delayed Because of Accident</td>\n",
       "      <td>Andreas Rönnberg</td>\n",
       "      <td>rock</td>\n",
       "      <td>Moscow</td>\n",
       "      <td>14:07:09</td>\n",
       "      <td>Friday</td>\n",
       "    </tr>\n",
       "    <tr>\n",
       "      <td>2</td>\n",
       "      <td>20EC38</td>\n",
       "      <td>Funiculì funiculà</td>\n",
       "      <td>Mario Lanza</td>\n",
       "      <td>pop</td>\n",
       "      <td>Saint-Petersburg</td>\n",
       "      <td>20:58:07</td>\n",
       "      <td>Wednesday</td>\n",
       "    </tr>\n",
       "    <tr>\n",
       "      <td>3</td>\n",
       "      <td>A3DD03C9</td>\n",
       "      <td>Dragons in the Sunset</td>\n",
       "      <td>Fire + Ice</td>\n",
       "      <td>folk</td>\n",
       "      <td>Saint-Petersburg</td>\n",
       "      <td>08:37:09</td>\n",
       "      <td>Monday</td>\n",
       "    </tr>\n",
       "    <tr>\n",
       "      <td>4</td>\n",
       "      <td>E2DC1FAE</td>\n",
       "      <td>Soul People</td>\n",
       "      <td>Space Echo</td>\n",
       "      <td>dance</td>\n",
       "      <td>Moscow</td>\n",
       "      <td>08:34:34</td>\n",
       "      <td>Monday</td>\n",
       "    </tr>\n",
       "    <tr>\n",
       "      <td>...</td>\n",
       "      <td>...</td>\n",
       "      <td>...</td>\n",
       "      <td>...</td>\n",
       "      <td>...</td>\n",
       "      <td>...</td>\n",
       "      <td>...</td>\n",
       "      <td>...</td>\n",
       "    </tr>\n",
       "    <tr>\n",
       "      <td>61248</td>\n",
       "      <td>729CBB09</td>\n",
       "      <td>My Name</td>\n",
       "      <td>McLean</td>\n",
       "      <td>rnb</td>\n",
       "      <td>Moscow</td>\n",
       "      <td>13:32:28</td>\n",
       "      <td>Wednesday</td>\n",
       "    </tr>\n",
       "    <tr>\n",
       "      <td>61249</td>\n",
       "      <td>D08D4A55</td>\n",
       "      <td>Maybe One Day (feat. Black Spade)</td>\n",
       "      <td>Blu &amp; Exile</td>\n",
       "      <td>hip</td>\n",
       "      <td>Saint-Petersburg</td>\n",
       "      <td>10:00:00</td>\n",
       "      <td>Monday</td>\n",
       "    </tr>\n",
       "    <tr>\n",
       "      <td>61250</td>\n",
       "      <td>C5E3A0D5</td>\n",
       "      <td>Jalopiina</td>\n",
       "      <td>unknown</td>\n",
       "      <td>industrial</td>\n",
       "      <td>Moscow</td>\n",
       "      <td>20:09:26</td>\n",
       "      <td>Friday</td>\n",
       "    </tr>\n",
       "    <tr>\n",
       "      <td>61251</td>\n",
       "      <td>321D0506</td>\n",
       "      <td>Freight Train</td>\n",
       "      <td>Chas McDevitt</td>\n",
       "      <td>rock</td>\n",
       "      <td>Moscow</td>\n",
       "      <td>21:43:59</td>\n",
       "      <td>Friday</td>\n",
       "    </tr>\n",
       "    <tr>\n",
       "      <td>61252</td>\n",
       "      <td>3A64EF84</td>\n",
       "      <td>Tell Me Sweet Little Lies</td>\n",
       "      <td>Monica Lopez</td>\n",
       "      <td>country</td>\n",
       "      <td>Moscow</td>\n",
       "      <td>21:59:46</td>\n",
       "      <td>Friday</td>\n",
       "    </tr>\n",
       "  </tbody>\n",
       "</table>\n",
       "<p>61253 rows × 7 columns</p>\n",
       "</div>"
      ],
      "text/plain": [
       "        user_id                              track            artist  \\\n",
       "0      FFB692EC                  Kamigata To Boots  The Mass Missile   \n",
       "1      55204538        Delayed Because of Accident  Andreas Rönnberg   \n",
       "2        20EC38                  Funiculì funiculà       Mario Lanza   \n",
       "3      A3DD03C9              Dragons in the Sunset        Fire + Ice   \n",
       "4      E2DC1FAE                        Soul People        Space Echo   \n",
       "...         ...                                ...               ...   \n",
       "61248  729CBB09                            My Name            McLean   \n",
       "61249  D08D4A55  Maybe One Day (feat. Black Spade)       Blu & Exile   \n",
       "61250  C5E3A0D5                          Jalopiina           unknown   \n",
       "61251  321D0506                      Freight Train     Chas McDevitt   \n",
       "61252  3A64EF84          Tell Me Sweet Little Lies      Monica Lopez   \n",
       "\n",
       "            genre              city      time        day  \n",
       "0            rock  Saint-Petersburg  20:28:33  Wednesday  \n",
       "1            rock            Moscow  14:07:09     Friday  \n",
       "2             pop  Saint-Petersburg  20:58:07  Wednesday  \n",
       "3            folk  Saint-Petersburg  08:37:09     Monday  \n",
       "4           dance            Moscow  08:34:34     Monday  \n",
       "...           ...               ...       ...        ...  \n",
       "61248         rnb            Moscow  13:32:28  Wednesday  \n",
       "61249         hip  Saint-Petersburg  10:00:00     Monday  \n",
       "61250  industrial            Moscow  20:09:26     Friday  \n",
       "61251        rock            Moscow  21:43:59     Friday  \n",
       "61252     country            Moscow  21:59:46     Friday  \n",
       "\n",
       "[61253 rows x 7 columns]"
      ]
     },
     "execution_count": 12,
     "metadata": {},
     "output_type": "execute_result"
    }
   ],
   "source": [
    "df.drop_duplicates(inplace=True)\n",
    "df.reset_index(drop=True)"
   ]
  },
  {
   "cell_type": "markdown",
   "metadata": {
    "id": "Im2YwBEG_Zct"
   },
   "source": [
    "Ещё раз посчитайте явные дубликаты в таблице — убедитесь, что полностью от них избавились:"
   ]
  },
  {
   "cell_type": "code",
   "execution_count": 13,
   "metadata": {
    "id": "-8PuNWQ0_Zct"
   },
   "outputs": [
    {
     "data": {
      "text/plain": [
       "user_id    0\n",
       "track      0\n",
       "artist     0\n",
       "genre      0\n",
       "city       0\n",
       "time       0\n",
       "day        0\n",
       "dtype: int64"
      ]
     },
     "execution_count": 13,
     "metadata": {},
     "output_type": "execute_result"
    }
   ],
   "source": [
    "df.isna().sum()"
   ]
  },
  {
   "cell_type": "markdown",
   "metadata": {
    "id": "QlFBsxAr_Zct"
   },
   "source": [
    "Теперь избавьтесь от неявных дубликатов в колонке `genre`. Например, название одного и того же жанра может быть записано немного по-разному. Такие ошибки тоже повлияют на результат исследования."
   ]
  },
  {
   "cell_type": "markdown",
   "metadata": {
    "id": "eSjWwsOh_Zct"
   },
   "source": [
    "Выведите на экран список уникальных названий жанров, отсортированный в алфавитном порядке. Для этого:\n",
    "* извлеките нужный столбец датафрейма, \n",
    "* примените к нему метод сортировки,\n",
    "* для отсортированного столбца вызовите метод, который вернёт уникальные значения из столбца."
   ]
  },
  {
   "cell_type": "code",
   "execution_count": 14,
   "metadata": {
    "id": "JIUcqzZN_Zct"
   },
   "outputs": [
    {
     "data": {
      "text/plain": [
       "array(['acid', 'acoustic', 'action', 'adult', 'africa', 'afrikaans',\n",
       "       'alternative', 'alternativepunk', 'ambient', 'americana',\n",
       "       'animated', 'anime', 'arabesk', 'arabic', 'arena',\n",
       "       'argentinetango', 'art', 'audiobook', 'author', 'avantgarde',\n",
       "       'axé', 'baile', 'balkan', 'beats', 'bigroom', 'black', 'bluegrass',\n",
       "       'blues', 'bollywood', 'bossa', 'brazilian', 'breakbeat', 'breaks',\n",
       "       'broadway', 'cantautori', 'cantopop', 'canzone', 'caribbean',\n",
       "       'caucasian', 'celtic', 'chamber', 'chanson', 'children', 'chill',\n",
       "       'chinese', 'choral', 'christian', 'christmas', 'classical',\n",
       "       'classicmetal', 'club', 'colombian', 'comedy', 'conjazz',\n",
       "       'contemporary', 'country', 'cuban', 'dance', 'dancehall',\n",
       "       'dancepop', 'dark', 'death', 'deep', 'deutschrock', 'deutschspr',\n",
       "       'dirty', 'disco', 'dnb', 'documentary', 'downbeat', 'downtempo',\n",
       "       'drum', 'dub', 'dubstep', 'eastern', 'easy', 'electronic',\n",
       "       'electropop', 'emo', 'entehno', 'epicmetal', 'estrada', 'ethnic',\n",
       "       'eurofolk', 'european', 'experimental', 'extrememetal', 'fado',\n",
       "       'fairytail', 'film', 'fitness', 'flamenco', 'folk', 'folklore',\n",
       "       'folkmetal', 'folkrock', 'folktronica', 'forró', 'frankreich',\n",
       "       'französisch', 'french', 'funk', 'future', 'gangsta', 'garage',\n",
       "       'german', 'ghazal', 'gitarre', 'glitch', 'gospel', 'gothic',\n",
       "       'grime', 'grunge', 'gypsy', 'handsup', \"hard'n'heavy\", 'hardcore',\n",
       "       'hardstyle', 'hardtechno', 'hip', 'hip-hop', 'hiphop',\n",
       "       'historisch', 'holiday', 'hop', 'horror', 'house', 'hymn', 'idm',\n",
       "       'independent', 'indian', 'indie', 'indipop', 'industrial',\n",
       "       'inspirational', 'instrumental', 'international', 'irish', 'jam',\n",
       "       'japanese', 'jazz', 'jewish', 'jpop', 'jungle', 'k-pop',\n",
       "       'karadeniz', 'karaoke', 'kayokyoku', 'korean', 'laiko', 'latin',\n",
       "       'latino', 'leftfield', 'local', 'lounge', 'loungeelectronic',\n",
       "       'lovers', 'malaysian', 'mandopop', 'marschmusik', 'meditative',\n",
       "       'mediterranean', 'melodic', 'metal', 'metalcore', 'mexican',\n",
       "       'middle', 'minimal', 'miscellaneous', 'modern', 'mood', 'mpb',\n",
       "       'muslim', 'native', 'neoklassik', 'neue', 'new', 'newage',\n",
       "       'newwave', 'nu', 'nujazz', 'numetal', 'oceania', 'old', 'opera',\n",
       "       'orchestral', 'other', 'piano', 'podcasts', 'pop', 'popdance',\n",
       "       'popelectronic', 'popeurodance', 'poprussian', 'post',\n",
       "       'posthardcore', 'postrock', 'power', 'progmetal', 'progressive',\n",
       "       'psychedelic', 'punjabi', 'punk', 'quebecois', 'ragga', 'ram',\n",
       "       'rancheras', 'rap', 'rave', 'reggae', 'reggaeton', 'regional',\n",
       "       'relax', 'religious', 'retro', 'rhythm', 'rnb', 'rnr', 'rock',\n",
       "       'rockabilly', 'rockalternative', 'rockindie', 'rockother',\n",
       "       'romance', 'roots', 'ruspop', 'rusrap', 'rusrock', 'russian',\n",
       "       'salsa', 'samba', 'scenic', 'schlager', 'self', 'sertanejo',\n",
       "       'shanson', 'shoegazing', 'showtunes', 'singer', 'ska', 'skarock',\n",
       "       'slow', 'smooth', 'soft', 'soul', 'soulful', 'sound', 'soundtrack',\n",
       "       'southern', 'specialty', 'speech', 'spiritual', 'sport',\n",
       "       'stonerrock', 'surf', 'swing', 'synthpop', 'synthrock',\n",
       "       'sängerportrait', 'tango', 'tanzorchester', 'taraftar', 'tatar',\n",
       "       'tech', 'techno', 'teen', 'thrash', 'top', 'traditional',\n",
       "       'tradjazz', 'trance', 'tribal', 'trip', 'triphop', 'tropical',\n",
       "       'türk', 'türkçe', 'ukrrock', 'unknown', 'urban', 'uzbek',\n",
       "       'variété', 'vi', 'videogame', 'vocal', 'western', 'world',\n",
       "       'worldbeat', 'ïîï', 'электроника'], dtype=object)"
      ]
     },
     "execution_count": 14,
     "metadata": {},
     "output_type": "execute_result"
    }
   ],
   "source": [
    "df['genre'].sort_values().unique()"
   ]
  },
  {
   "cell_type": "markdown",
   "metadata": {
    "id": "qej-Qmuo_Zct"
   },
   "source": [
    "Просмотрите список и найдите неявные дубликаты названия `hiphop`. Это могут быть названия с ошибками или альтернативные названия того же жанра.\n",
    "\n",
    "Вы увидите следующие неявные дубликаты:\n",
    "* *hip*,\n",
    "* *hop*,\n",
    "* *hip-hop*.\n",
    "\n",
    "Чтобы очистить от них таблицу, напишите функцию `replace_wrong_genres()` с двумя параметрами: \n",
    "* `wrong_genres` — список дубликатов,\n",
    "* `correct_genre` — строка с правильным значением.\n",
    "\n",
    "Функция должна исправить колонку `genre` в таблице `df`: заменить каждое значение из списка `wrong_genres` на значение из `correct_genre`."
   ]
  },
  {
   "cell_type": "code",
   "execution_count": 15,
   "metadata": {
    "id": "ErNDkmns_Zct"
   },
   "outputs": [],
   "source": [
    "def replace_wrong_genres(wrong_genres, correct_genre):\n",
    "    df['genre'].replace(to_replace=wrong_genres, value=correct_genre, inplace=True)"
   ]
  },
  {
   "cell_type": "markdown",
   "metadata": {
    "id": "aDoBJxbA_Zct"
   },
   "source": [
    "Вызовите `replace_wrong_genres()` и передайте ей такие аргументы, чтобы она устранила неявные дубликаты: вместо `hip`, `hop` и `hip-hop` в таблице должно быть значение `hiphop`:"
   ]
  },
  {
   "cell_type": "code",
   "execution_count": 16,
   "metadata": {
    "id": "YN5i2hpmSo09"
   },
   "outputs": [],
   "source": [
    "wrong_genres = ['hip', 'hop', 'hip-hop']\n",
    "correct_genre = 'hiphop'\n",
    "replace_wrong_genres(wrong_genres, correct_genre)\n",
    "\n",
    "#df['genre'].replace(to_replace=wrong_genres, value=correct_genre, inplace=True) # просто бы вызвал встроенный метод замены"
   ]
  },
  {
   "cell_type": "markdown",
   "metadata": {
    "id": "zQKF16_RG15m"
   },
   "source": [
    "Проверьте, что заменили неправильные названия:\n",
    "\n",
    "*   hip\n",
    "*   hop\n",
    "*   hip-hop\n",
    "\n",
    "Выведите отсортированный список уникальных значений столбца `genre`:"
   ]
  },
  {
   "cell_type": "code",
   "execution_count": 17,
   "metadata": {
    "id": "wvixALnFG15m"
   },
   "outputs": [
    {
     "data": {
      "text/plain": [
       "array(['acid', 'acoustic', 'action', 'adult', 'africa', 'afrikaans',\n",
       "       'alternative', 'alternativepunk', 'ambient', 'americana',\n",
       "       'animated', 'anime', 'arabesk', 'arabic', 'arena',\n",
       "       'argentinetango', 'art', 'audiobook', 'author', 'avantgarde',\n",
       "       'axé', 'baile', 'balkan', 'beats', 'bigroom', 'black', 'bluegrass',\n",
       "       'blues', 'bollywood', 'bossa', 'brazilian', 'breakbeat', 'breaks',\n",
       "       'broadway', 'cantautori', 'cantopop', 'canzone', 'caribbean',\n",
       "       'caucasian', 'celtic', 'chamber', 'chanson', 'children', 'chill',\n",
       "       'chinese', 'choral', 'christian', 'christmas', 'classical',\n",
       "       'classicmetal', 'club', 'colombian', 'comedy', 'conjazz',\n",
       "       'contemporary', 'country', 'cuban', 'dance', 'dancehall',\n",
       "       'dancepop', 'dark', 'death', 'deep', 'deutschrock', 'deutschspr',\n",
       "       'dirty', 'disco', 'dnb', 'documentary', 'downbeat', 'downtempo',\n",
       "       'drum', 'dub', 'dubstep', 'eastern', 'easy', 'electronic',\n",
       "       'electropop', 'emo', 'entehno', 'epicmetal', 'estrada', 'ethnic',\n",
       "       'eurofolk', 'european', 'experimental', 'extrememetal', 'fado',\n",
       "       'fairytail', 'film', 'fitness', 'flamenco', 'folk', 'folklore',\n",
       "       'folkmetal', 'folkrock', 'folktronica', 'forró', 'frankreich',\n",
       "       'französisch', 'french', 'funk', 'future', 'gangsta', 'garage',\n",
       "       'german', 'ghazal', 'gitarre', 'glitch', 'gospel', 'gothic',\n",
       "       'grime', 'grunge', 'gypsy', 'handsup', \"hard'n'heavy\", 'hardcore',\n",
       "       'hardstyle', 'hardtechno', 'hiphop', 'historisch', 'holiday',\n",
       "       'horror', 'house', 'hymn', 'idm', 'independent', 'indian', 'indie',\n",
       "       'indipop', 'industrial', 'inspirational', 'instrumental',\n",
       "       'international', 'irish', 'jam', 'japanese', 'jazz', 'jewish',\n",
       "       'jpop', 'jungle', 'k-pop', 'karadeniz', 'karaoke', 'kayokyoku',\n",
       "       'korean', 'laiko', 'latin', 'latino', 'leftfield', 'local',\n",
       "       'lounge', 'loungeelectronic', 'lovers', 'malaysian', 'mandopop',\n",
       "       'marschmusik', 'meditative', 'mediterranean', 'melodic', 'metal',\n",
       "       'metalcore', 'mexican', 'middle', 'minimal', 'miscellaneous',\n",
       "       'modern', 'mood', 'mpb', 'muslim', 'native', 'neoklassik', 'neue',\n",
       "       'new', 'newage', 'newwave', 'nu', 'nujazz', 'numetal', 'oceania',\n",
       "       'old', 'opera', 'orchestral', 'other', 'piano', 'podcasts', 'pop',\n",
       "       'popdance', 'popelectronic', 'popeurodance', 'poprussian', 'post',\n",
       "       'posthardcore', 'postrock', 'power', 'progmetal', 'progressive',\n",
       "       'psychedelic', 'punjabi', 'punk', 'quebecois', 'ragga', 'ram',\n",
       "       'rancheras', 'rap', 'rave', 'reggae', 'reggaeton', 'regional',\n",
       "       'relax', 'religious', 'retro', 'rhythm', 'rnb', 'rnr', 'rock',\n",
       "       'rockabilly', 'rockalternative', 'rockindie', 'rockother',\n",
       "       'romance', 'roots', 'ruspop', 'rusrap', 'rusrock', 'russian',\n",
       "       'salsa', 'samba', 'scenic', 'schlager', 'self', 'sertanejo',\n",
       "       'shanson', 'shoegazing', 'showtunes', 'singer', 'ska', 'skarock',\n",
       "       'slow', 'smooth', 'soft', 'soul', 'soulful', 'sound', 'soundtrack',\n",
       "       'southern', 'specialty', 'speech', 'spiritual', 'sport',\n",
       "       'stonerrock', 'surf', 'swing', 'synthpop', 'synthrock',\n",
       "       'sängerportrait', 'tango', 'tanzorchester', 'taraftar', 'tatar',\n",
       "       'tech', 'techno', 'teen', 'thrash', 'top', 'traditional',\n",
       "       'tradjazz', 'trance', 'tribal', 'trip', 'triphop', 'tropical',\n",
       "       'türk', 'türkçe', 'ukrrock', 'unknown', 'urban', 'uzbek',\n",
       "       'variété', 'vi', 'videogame', 'vocal', 'western', 'world',\n",
       "       'worldbeat', 'ïîï', 'электроника'], dtype=object)"
      ]
     },
     "execution_count": 17,
     "metadata": {},
     "output_type": "execute_result"
    }
   ],
   "source": [
    "df['genre'].sort_values().unique()"
   ]
  },
  {
   "cell_type": "markdown",
   "metadata": {
    "id": "jz6a9-7HQUDd"
   },
   "source": [
    "**Выводы**\n",
    "\n",
    "Предобработка обнаружила три проблемы в данных:\n",
    "\n",
    "- нарушения в стиле заголовков,\n",
    "- пропущенные значения,\n",
    "- дубликаты — явные и неявные.\n",
    "\n",
    "Вы исправили заголовки, чтобы упростить работу с таблицей. Без дубликатов исследование станет более точным.\n",
    "\n",
    "Пропущенные значения вы заменили на `'unknown'`. Ещё предстоит увидеть, не повредят ли исследованию пропуски в колонке `genre`.\n",
    "\n",
    "Теперь можно перейти к проверке гипотез. "
   ]
  },
  {
   "cell_type": "markdown",
   "metadata": {
    "id": "WttZHXH0SqKk"
   },
   "source": [
    "## Проверка гипотез"
   ]
  },
  {
   "cell_type": "markdown",
   "metadata": {
    "id": "Im936VVi_Zcu"
   },
   "source": [
    "### Сравнение поведения пользователей двух столиц"
   ]
  },
  {
   "cell_type": "markdown",
   "metadata": {
    "id": "nwt_MuaL_Zcu"
   },
   "source": [
    "Первая гипотеза утверждает, что пользователи по-разному слушают музыку в Москве и Санкт-Петербурге. Проверьте это предположение по данным о трёх днях недели — понедельнике, среде и пятнице. Для этого:\n",
    "\n",
    "* Разделите пользователей Москвы и Санкт-Петербурга\n",
    "* Сравните, сколько треков послушала каждая группа пользователей в понедельник, среду и пятницу.\n"
   ]
  },
  {
   "cell_type": "markdown",
   "metadata": {
    "id": "8Dw_YMmT_Zcu"
   },
   "source": [
    "Для тренировки сначала выполните каждый из расчётов по отдельности. \n",
    "\n",
    "Оцените активность пользователей в каждом городе. Сгруппируйте данные по городу и посчитайте прослушивания в каждой группе.\n",
    "\n"
   ]
  },
  {
   "cell_type": "code",
   "execution_count": 18,
   "metadata": {
    "id": "0_Qs96oh_Zcu"
   },
   "outputs": [
    {
     "data": {
      "text/plain": [
       "city\n",
       "Moscow              42741\n",
       "Saint-Petersburg    18512\n",
       "Name: user_id, dtype: int64"
      ]
     },
     "execution_count": 18,
     "metadata": {},
     "output_type": "execute_result"
    }
   ],
   "source": [
    "df.groupby('city')['user_id'].count()"
   ]
  },
  {
   "cell_type": "markdown",
   "metadata": {
    "id": "dzli3w8o_Zcu"
   },
   "source": [
    "В Москве прослушиваний больше, чем в Петербурге. Из этого не следует, что московские пользователи чаще слушают музыку. Просто самих пользователей в Москве больше.\n",
    "\n",
    "Теперь сгруппируйте данные по дню недели и подсчитайте прослушивания в понедельник, среду и пятницу. Учтите, что в данных есть информация только о прослушиваниях только за эти дни.\n"
   ]
  },
  {
   "cell_type": "code",
   "execution_count": 19,
   "metadata": {
    "id": "uZMKjiJz_Zcu"
   },
   "outputs": [
    {
     "data": {
      "text/plain": [
       "day\n",
       "Friday       21840\n",
       "Monday       21354\n",
       "Wednesday    18059\n",
       "Name: user_id, dtype: int64"
      ]
     },
     "execution_count": 19,
     "metadata": {},
     "output_type": "execute_result"
    }
   ],
   "source": [
    "df.groupby('day')['user_id'].count()"
   ]
  },
  {
   "cell_type": "markdown",
   "metadata": {
    "id": "cC2tNrlL_Zcu"
   },
   "source": [
    "В среднем пользователи из двух городов менее активны по средам. Но картина может измениться, если рассмотреть каждый город в отдельности."
   ]
  },
  {
   "cell_type": "markdown",
   "metadata": {
    "id": "POzs8bGa_Zcu"
   },
   "source": [
    "Вы видели, как работает группировка по городу и по дням недели. Теперь напишите функцию, которая объединит два эти расчёта.\n",
    "\n",
    "Создайте функцию `number_tracks()`, которая посчитает прослушивания для заданного дня и города. Ей понадобятся два параметра:\n",
    "* день недели,\n",
    "* название города.\n",
    "\n",
    "В функции сохраните в переменную строки исходной таблицы, у которых значение:\n",
    "  * в колонке `day` равно параметру `day`,\n",
    "  * в колонке `city` равно параметру `city`.\n",
    "\n",
    "Для этого примените последовательную фильтрацию с логической индексацией.\n",
    "\n",
    "Затем посчитайте значения в столбце `user_id` получившейся таблицы. Результат сохраните в новую переменную. Верните эту переменную из функции."
   ]
  },
  {
   "cell_type": "code",
   "execution_count": 20,
   "metadata": {
    "id": "Nz3GdQB1_Zcu"
   },
   "outputs": [],
   "source": [
    "def number_tracks(day, city):\n",
    "    track_list = df[(df['day']==day) & (df['city']==city)]\n",
    "    track_list_count = track_list['user_id'].count()\n",
    "    return track_list_count"
   ]
  },
  {
   "cell_type": "markdown",
   "metadata": {
    "id": "ytf7xFrFJQ2r"
   },
   "source": [
    "Вызовите `number_tracks()` шесть раз, меняя значение параметров — так, чтобы получить данные для каждого города в каждый из трёх дней."
   ]
  },
  {
   "cell_type": "code",
   "execution_count": 21,
   "metadata": {
    "id": "rJcRATNQ_Zcu"
   },
   "outputs": [
    {
     "name": "stdout",
     "output_type": "stream",
     "text": [
      "['Wednesday' 'Friday' 'Monday']\n",
      "['Saint-Petersburg' 'Moscow']\n"
     ]
    },
    {
     "data": {
      "text/plain": [
       "15740"
      ]
     },
     "execution_count": 21,
     "metadata": {},
     "output_type": "execute_result"
    }
   ],
   "source": [
    "# количество прослушиваний в Москве по понедельникам\n",
    "print(df.day.unique())\n",
    "print(df.city.unique())\n",
    "number_tracks('Monday', 'Moscow')"
   ]
  },
  {
   "cell_type": "code",
   "execution_count": 22,
   "metadata": {
    "id": "hq_ncZ5T_Zcu"
   },
   "outputs": [
    {
     "data": {
      "text/plain": [
       "5614"
      ]
     },
     "execution_count": 22,
     "metadata": {},
     "output_type": "execute_result"
    }
   ],
   "source": [
    "# количество прослушиваний в Санкт-Петербурге по понедельникам\n",
    "number_tracks('Monday', 'Saint-Petersburg')"
   ]
  },
  {
   "cell_type": "code",
   "execution_count": 23,
   "metadata": {
    "id": "_NTy2VPU_Zcu"
   },
   "outputs": [
    {
     "data": {
      "text/plain": [
       "11056"
      ]
     },
     "execution_count": 23,
     "metadata": {},
     "output_type": "execute_result"
    }
   ],
   "source": [
    "# количество прослушиваний в Москве по средам\n",
    "number_tracks('Wednesday', 'Moscow')"
   ]
  },
  {
   "cell_type": "code",
   "execution_count": 24,
   "metadata": {
    "id": "j2y3TAwo_Zcu"
   },
   "outputs": [
    {
     "data": {
      "text/plain": [
       "7003"
      ]
     },
     "execution_count": 24,
     "metadata": {},
     "output_type": "execute_result"
    }
   ],
   "source": [
    "# количество прослушиваний в Санкт-Петербурге по средам\n",
    "number_tracks('Wednesday', 'Saint-Petersburg')"
   ]
  },
  {
   "cell_type": "code",
   "execution_count": 25,
   "metadata": {
    "id": "vYDw5u_K_Zcu"
   },
   "outputs": [
    {
     "data": {
      "text/plain": [
       "15945"
      ]
     },
     "execution_count": 25,
     "metadata": {},
     "output_type": "execute_result"
    }
   ],
   "source": [
    "# количество прослушиваний в Москве по пятницам\n",
    "number_tracks('Friday', 'Moscow')"
   ]
  },
  {
   "cell_type": "code",
   "execution_count": 26,
   "metadata": {
    "id": "8_yzFtW3_Zcu"
   },
   "outputs": [
    {
     "data": {
      "text/plain": [
       "5895"
      ]
     },
     "execution_count": 26,
     "metadata": {},
     "output_type": "execute_result"
    }
   ],
   "source": [
    "# количество прослушиваний в Санкт-Петербурге по пятницам\n",
    "number_tracks('Friday', 'Saint-Petersburg')"
   ]
  },
  {
   "cell_type": "markdown",
   "metadata": {
    "id": "7QXffbO-_Zcu"
   },
   "source": [
    "Создайте c помощью конструктора `pd.DataFrame` таблицу, где\n",
    "* названия колонок — `['city', 'monday', 'wednesday', 'friday']`;\n",
    "* данные — результаты, которые вы получили с помощью `number_tracks`."
   ]
  },
  {
   "cell_type": "code",
   "execution_count": 27,
   "metadata": {
    "id": "APAcLpOr_Zcu"
   },
   "outputs": [
    {
     "data": {
      "text/html": [
       "<div>\n",
       "<style scoped>\n",
       "    .dataframe tbody tr th:only-of-type {\n",
       "        vertical-align: middle;\n",
       "    }\n",
       "\n",
       "    .dataframe tbody tr th {\n",
       "        vertical-align: top;\n",
       "    }\n",
       "\n",
       "    .dataframe thead th {\n",
       "        text-align: right;\n",
       "    }\n",
       "</style>\n",
       "<table border=\"1\" class=\"dataframe\">\n",
       "  <thead>\n",
       "    <tr style=\"text-align: right;\">\n",
       "      <th></th>\n",
       "      <th>city</th>\n",
       "      <th>monday</th>\n",
       "      <th>wednesday</th>\n",
       "      <th>friday</th>\n",
       "    </tr>\n",
       "  </thead>\n",
       "  <tbody>\n",
       "    <tr>\n",
       "      <td>0</td>\n",
       "      <td>Moscow</td>\n",
       "      <td>15740</td>\n",
       "      <td>11056</td>\n",
       "      <td>15945</td>\n",
       "    </tr>\n",
       "    <tr>\n",
       "      <td>1</td>\n",
       "      <td>Saint-Petersburg</td>\n",
       "      <td>5614</td>\n",
       "      <td>7003</td>\n",
       "      <td>5895</td>\n",
       "    </tr>\n",
       "  </tbody>\n",
       "</table>\n",
       "</div>"
      ],
      "text/plain": [
       "               city  monday  wednesday  friday\n",
       "0            Moscow   15740      11056   15945\n",
       "1  Saint-Petersburg    5614       7003    5895"
      ]
     },
     "execution_count": 27,
     "metadata": {},
     "output_type": "execute_result"
    }
   ],
   "source": [
    "columns = ['city', 'monday', 'wednesday', 'friday']\n",
    "data = [['Moscow', 15740, 11056, 15945], [ 'Saint-Petersburg', 5614, 7003, 5895]]\n",
    "\n",
    "tracks_city_per_days = pd.DataFrame(columns=columns, data=data)\n",
    "tracks_city_per_days"
   ]
  },
  {
   "cell_type": "markdown",
   "metadata": {
    "id": "-EgPIHYu_Zcu"
   },
   "source": [
    "**Выводы**\n",
    "\n",
    "Данные показывают разницу поведения пользователей:\n",
    "\n",
    "- В Москве пик прослушиваний приходится на понедельник и пятницу, а в среду заметен спад.\n",
    "- В Петербурге, наоборот, больше слушают музыку по средам. Активность в понедельник и пятницу здесь почти в равной мере уступает среде.\n",
    "\n",
    "Значит, данные говорят в пользу первой гипотезы."
   ]
  },
  {
   "cell_type": "markdown",
   "metadata": {
    "id": "atZAxtq4_Zcu"
   },
   "source": [
    "### Музыка в начале и в конце недели"
   ]
  },
  {
   "cell_type": "markdown",
   "metadata": {
    "id": "eXrQqXFH_Zcu"
   },
   "source": [
    "Согласно второй гипотезе, утром в понедельник в Москве преобладают одни жанры, а в Петербурге — другие. Так же и вечером пятницы преобладают разные жанры — в зависимости от города."
   ]
  },
  {
   "cell_type": "markdown",
   "metadata": {
    "id": "S8UcW6Hw_Zcu"
   },
   "source": [
    "Сохраните таблицы с данными в две переменные:\n",
    "* по Москве — в `moscow_general`;\n",
    "* по Санкт-Петербургу — в `spb_general`."
   ]
  },
  {
   "cell_type": "code",
   "execution_count": 28,
   "metadata": {
    "id": "qeaFfM_P_Zcu"
   },
   "outputs": [],
   "source": [
    "moscow_general = df[df.city == 'Moscow']"
   ]
  },
  {
   "cell_type": "code",
   "execution_count": 29,
   "metadata": {
    "id": "ORaVRKto_Zcu"
   },
   "outputs": [
    {
     "data": {
      "text/html": [
       "<div>\n",
       "<style scoped>\n",
       "    .dataframe tbody tr th:only-of-type {\n",
       "        vertical-align: middle;\n",
       "    }\n",
       "\n",
       "    .dataframe tbody tr th {\n",
       "        vertical-align: top;\n",
       "    }\n",
       "\n",
       "    .dataframe thead th {\n",
       "        text-align: right;\n",
       "    }\n",
       "</style>\n",
       "<table border=\"1\" class=\"dataframe\">\n",
       "  <thead>\n",
       "    <tr style=\"text-align: right;\">\n",
       "      <th></th>\n",
       "      <th>user_id</th>\n",
       "      <th>track</th>\n",
       "      <th>artist</th>\n",
       "      <th>genre</th>\n",
       "      <th>city</th>\n",
       "      <th>time</th>\n",
       "      <th>day</th>\n",
       "    </tr>\n",
       "  </thead>\n",
       "  <tbody>\n",
       "    <tr>\n",
       "      <td>0</td>\n",
       "      <td>FFB692EC</td>\n",
       "      <td>Kamigata To Boots</td>\n",
       "      <td>The Mass Missile</td>\n",
       "      <td>rock</td>\n",
       "      <td>Saint-Petersburg</td>\n",
       "      <td>20:28:33</td>\n",
       "      <td>Wednesday</td>\n",
       "    </tr>\n",
       "    <tr>\n",
       "      <td>2</td>\n",
       "      <td>20EC38</td>\n",
       "      <td>Funiculì funiculà</td>\n",
       "      <td>Mario Lanza</td>\n",
       "      <td>pop</td>\n",
       "      <td>Saint-Petersburg</td>\n",
       "      <td>20:58:07</td>\n",
       "      <td>Wednesday</td>\n",
       "    </tr>\n",
       "    <tr>\n",
       "      <td>3</td>\n",
       "      <td>A3DD03C9</td>\n",
       "      <td>Dragons in the Sunset</td>\n",
       "      <td>Fire + Ice</td>\n",
       "      <td>folk</td>\n",
       "      <td>Saint-Petersburg</td>\n",
       "      <td>08:37:09</td>\n",
       "      <td>Monday</td>\n",
       "    </tr>\n",
       "    <tr>\n",
       "      <td>5</td>\n",
       "      <td>842029A1</td>\n",
       "      <td>Преданная</td>\n",
       "      <td>IMPERVTOR</td>\n",
       "      <td>rusrap</td>\n",
       "      <td>Saint-Petersburg</td>\n",
       "      <td>13:09:41</td>\n",
       "      <td>Friday</td>\n",
       "    </tr>\n",
       "    <tr>\n",
       "      <td>9</td>\n",
       "      <td>E772D5C0</td>\n",
       "      <td>Pessimist</td>\n",
       "      <td>unknown</td>\n",
       "      <td>dance</td>\n",
       "      <td>Saint-Petersburg</td>\n",
       "      <td>21:20:49</td>\n",
       "      <td>Wednesday</td>\n",
       "    </tr>\n",
       "    <tr>\n",
       "      <td>...</td>\n",
       "      <td>...</td>\n",
       "      <td>...</td>\n",
       "      <td>...</td>\n",
       "      <td>...</td>\n",
       "      <td>...</td>\n",
       "      <td>...</td>\n",
       "      <td>...</td>\n",
       "    </tr>\n",
       "    <tr>\n",
       "      <td>65063</td>\n",
       "      <td>D94F810B</td>\n",
       "      <td>Theme from the Walking Dead</td>\n",
       "      <td>Proyecto Halloween</td>\n",
       "      <td>film</td>\n",
       "      <td>Saint-Petersburg</td>\n",
       "      <td>21:14:40</td>\n",
       "      <td>Monday</td>\n",
       "    </tr>\n",
       "    <tr>\n",
       "      <td>65064</td>\n",
       "      <td>BC8EC5CF</td>\n",
       "      <td>Red Lips: Gta (Rover Rework)</td>\n",
       "      <td>Rover</td>\n",
       "      <td>electronic</td>\n",
       "      <td>Saint-Petersburg</td>\n",
       "      <td>21:06:50</td>\n",
       "      <td>Monday</td>\n",
       "    </tr>\n",
       "    <tr>\n",
       "      <td>65065</td>\n",
       "      <td>29E04611</td>\n",
       "      <td>Bre Petrunko</td>\n",
       "      <td>Perunika Trio</td>\n",
       "      <td>world</td>\n",
       "      <td>Saint-Petersburg</td>\n",
       "      <td>13:56:00</td>\n",
       "      <td>Monday</td>\n",
       "    </tr>\n",
       "    <tr>\n",
       "      <td>65066</td>\n",
       "      <td>1B91C621</td>\n",
       "      <td>(Hello) Cloud Mountain</td>\n",
       "      <td>sleepmakeswaves</td>\n",
       "      <td>postrock</td>\n",
       "      <td>Saint-Petersburg</td>\n",
       "      <td>09:22:13</td>\n",
       "      <td>Monday</td>\n",
       "    </tr>\n",
       "    <tr>\n",
       "      <td>65075</td>\n",
       "      <td>D08D4A55</td>\n",
       "      <td>Maybe One Day (feat. Black Spade)</td>\n",
       "      <td>Blu &amp; Exile</td>\n",
       "      <td>hiphop</td>\n",
       "      <td>Saint-Petersburg</td>\n",
       "      <td>10:00:00</td>\n",
       "      <td>Monday</td>\n",
       "    </tr>\n",
       "  </tbody>\n",
       "</table>\n",
       "<p>18512 rows × 7 columns</p>\n",
       "</div>"
      ],
      "text/plain": [
       "        user_id                              track              artist  \\\n",
       "0      FFB692EC                  Kamigata To Boots    The Mass Missile   \n",
       "2        20EC38                  Funiculì funiculà         Mario Lanza   \n",
       "3      A3DD03C9              Dragons in the Sunset          Fire + Ice   \n",
       "5      842029A1                          Преданная           IMPERVTOR   \n",
       "9      E772D5C0                          Pessimist             unknown   \n",
       "...         ...                                ...                 ...   \n",
       "65063  D94F810B        Theme from the Walking Dead  Proyecto Halloween   \n",
       "65064  BC8EC5CF       Red Lips: Gta (Rover Rework)               Rover   \n",
       "65065  29E04611                       Bre Petrunko       Perunika Trio   \n",
       "65066  1B91C621             (Hello) Cloud Mountain     sleepmakeswaves   \n",
       "65075  D08D4A55  Maybe One Day (feat. Black Spade)         Blu & Exile   \n",
       "\n",
       "            genre              city      time        day  \n",
       "0            rock  Saint-Petersburg  20:28:33  Wednesday  \n",
       "2             pop  Saint-Petersburg  20:58:07  Wednesday  \n",
       "3            folk  Saint-Petersburg  08:37:09     Monday  \n",
       "5          rusrap  Saint-Petersburg  13:09:41     Friday  \n",
       "9           dance  Saint-Petersburg  21:20:49  Wednesday  \n",
       "...           ...               ...       ...        ...  \n",
       "65063        film  Saint-Petersburg  21:14:40     Monday  \n",
       "65064  electronic  Saint-Petersburg  21:06:50     Monday  \n",
       "65065       world  Saint-Petersburg  13:56:00     Monday  \n",
       "65066    postrock  Saint-Petersburg  09:22:13     Monday  \n",
       "65075      hiphop  Saint-Petersburg  10:00:00     Monday  \n",
       "\n",
       "[18512 rows x 7 columns]"
      ]
     },
     "execution_count": 29,
     "metadata": {},
     "output_type": "execute_result"
    }
   ],
   "source": [
    "spb_general = df[df.city == 'Saint-Petersburg']\n",
    "spb_general"
   ]
  },
  {
   "cell_type": "markdown",
   "metadata": {
    "id": "MEJV-CX2_Zcu"
   },
   "source": [
    "Создайте функцию `genre_weekday()` с четырьмя параметрами:\n",
    "* таблица (датафрейм) с данными,\n",
    "* день недели,\n",
    "* начальная временная метка в формате 'hh:mm', \n",
    "* последняя временная метка в формате 'hh:mm'.\n",
    "\n",
    "Функция должна вернуть информацию о топ-10 жанров тех треков, которые прослушивали в указанный день, в промежутке между двумя отметками времени."
   ]
  },
  {
   "cell_type": "code",
   "execution_count": 30,
   "metadata": {
    "id": "laJT9BYl_Zcu"
   },
   "outputs": [],
   "source": [
    "# Объявление функции genre_weekday() с параметрами table, day, time1, time2,\n",
    "# которая возвращает информацию о самых популярных жанрах в указанный день в\n",
    "# заданное время:\n",
    "# 1) в переменную genre_df сохраняются те строки переданного датафрейма table, для\n",
    "#    которых одновременно:\n",
    "#    - значение в столбце day равно значению аргумента day\n",
    "#    - значение в столбце time больше значения аргумента time1\n",
    "#    - значение в столбце time меньше значения аргумента time2\n",
    "#    Используйте последовательную фильтрацию с помощью логической индексации.\n",
    "# 2) сгруппировать датафрейм genre_df по столбцу genre, взять один из его\n",
    "#    столбцов и посчитать методом count() количество записей для каждого из\n",
    "#    присутствующих жанров, получившийся Series записать в переменную\n",
    "#    genre_df_count\n",
    "# 3) отсортировать genre_df_count по убыванию встречаемости и сохранить\n",
    "#    в переменную genre_df_sorted\n",
    "# 4) вернуть Series из 10 первых значений genre_df_sorted, это будут топ-10\n",
    "#    популярных жанров (в указанный день, в заданное время)\n",
    "\n",
    "def genre_weekday(table, day, time1, time2):\n",
    "    genre_df = table[table['day'] == day]\n",
    "    genre_df = genre_df[genre_df['time'] > time1]\n",
    "    genre_df = genre_df[genre_df['time'] < time2]\n",
    "    genre_df_count = genre_df.groupby('genre')['genre'].count()\n",
    "    genre_df_sorted = genre_df_count.sort_values(ascending=False)\n",
    "    return genre_df_sorted.head(10)"
   ]
  },
  {
   "cell_type": "markdown",
   "metadata": {
    "id": "la2s2_PF_Zcu"
   },
   "source": [
    "Cравните результаты функции `genre_weekday()` для Москвы и Санкт-Петербурга в понедельник утром (с 7:00 до 11:00) и в пятницу вечером (с 17:00 до 23:00):"
   ]
  },
  {
   "cell_type": "code",
   "execution_count": 31,
   "metadata": {
    "id": "yz7itPUQ_Zcu"
   },
   "outputs": [
    {
     "data": {
      "text/plain": [
       "genre\n",
       "pop            781\n",
       "dance          549\n",
       "electronic     480\n",
       "rock           474\n",
       "hiphop         286\n",
       "ruspop         186\n",
       "world          181\n",
       "rusrap         175\n",
       "alternative    164\n",
       "unknown        161\n",
       "Name: genre, dtype: int64"
      ]
     },
     "execution_count": 31,
     "metadata": {},
     "output_type": "execute_result"
    }
   ],
   "source": [
    "# вызов функции для утра понедельника в Москве (вместо df — таблица moscow_general)\n",
    "# объекты, хранящие время, являются строками и сравниваются как строки\n",
    "# пример вызова: genre_weekday(moscow_general, 'Monday', '07:00', '11:00')\n",
    "genre_weekday(moscow_general, 'Monday', '07:00', '11:00')"
   ]
  },
  {
   "cell_type": "code",
   "execution_count": 32,
   "metadata": {
    "id": "kwUcHPdy_Zcu"
   },
   "outputs": [
    {
     "data": {
      "text/plain": [
       "genre\n",
       "pop            218\n",
       "dance          182\n",
       "rock           162\n",
       "electronic     147\n",
       "hiphop          80\n",
       "ruspop          64\n",
       "alternative     58\n",
       "rusrap          55\n",
       "jazz            44\n",
       "classical       40\n",
       "Name: genre, dtype: int64"
      ]
     },
     "execution_count": 32,
     "metadata": {},
     "output_type": "execute_result"
    }
   ],
   "source": [
    "# вызов функции для утра понедельника в Петербурге (вместо df — таблица spb_general)\n",
    "genre_weekday(spb_general, 'Monday', '07:00', '11:00')"
   ]
  },
  {
   "cell_type": "code",
   "execution_count": 33,
   "metadata": {
    "id": "EzXVRE1o_Zcu"
   },
   "outputs": [
    {
     "data": {
      "text/plain": [
       "genre\n",
       "pop            713\n",
       "rock           517\n",
       "dance          495\n",
       "electronic     482\n",
       "hiphop         273\n",
       "world          208\n",
       "ruspop         170\n",
       "alternative    163\n",
       "classical      163\n",
       "rusrap         142\n",
       "Name: genre, dtype: int64"
      ]
     },
     "execution_count": 33,
     "metadata": {},
     "output_type": "execute_result"
    }
   ],
   "source": [
    "# вызов функции для вечера пятницы в Москве\n",
    "genre_weekday(moscow_general, 'Friday', '17:00', '23:00')"
   ]
  },
  {
   "cell_type": "code",
   "execution_count": 34,
   "metadata": {
    "id": "JZaEKu5v_Zcu"
   },
   "outputs": [
    {
     "data": {
      "text/plain": [
       "genre\n",
       "pop            256\n",
       "rock           216\n",
       "electronic     216\n",
       "dance          210\n",
       "hiphop          97\n",
       "alternative     63\n",
       "jazz            61\n",
       "classical       60\n",
       "rusrap          59\n",
       "world           54\n",
       "Name: genre, dtype: int64"
      ]
     },
     "execution_count": 34,
     "metadata": {},
     "output_type": "execute_result"
    }
   ],
   "source": [
    "# вызов функции для вечера пятницы в Петербурге\n",
    "genre_weekday(spb_general, 'Friday', '17:00', '23:00')"
   ]
  },
  {
   "cell_type": "markdown",
   "metadata": {
    "id": "wrCe4MNX_Zcu"
   },
   "source": [
    "**Выводы**\n",
    "\n",
    "Если сравнить топ-10 жанров в понедельник утром, можно сделать такие выводы:\n",
    "\n",
    "1. В Москве и Петербурге слушают похожую музыку. Единственное отличие — в московский рейтинг вошёл жанр “world”, а в петербургский — джаз и классика.\n",
    "\n",
    "2. В Москве пропущенных значений оказалось так много, что значение `'unknown'` заняло десятое место среди самых популярных жанров. Значит, пропущенные значения занимают существенную долю в данных и угрожают достоверности исследования.\n",
    "\n",
    "Вечер пятницы не меняет эту картину. Некоторые жанры поднимаются немного выше, другие спускаются, но в целом топ-10 остаётся тем же самым.\n",
    "\n",
    "Таким образом, вторая гипотеза подтвердилась лишь частично:\n",
    "* Пользователи слушают похожую музыку в начале недели и в конце.\n",
    "* Разница между Москвой и Петербургом не слишком выражена. В Москве чаще слушают русскую популярную музыку, в Петербурге — джаз.\n",
    "\n",
    "Однако пропуски в данных ставят под сомнение этот результат. В Москве их так много, что рейтинг топ-10 мог бы выглядеть иначе, если бы не утерянные  данные о жанрах."
   ]
  },
  {
   "cell_type": "markdown",
   "metadata": {
    "id": "JolODAqr_Zcu"
   },
   "source": [
    "### Жанровые предпочтения в Москве и Петербурге\n",
    "\n",
    "Гипотеза: Петербург — столица рэпа, музыку этого жанра там слушают чаще, чем в Москве.  А Москва — город контрастов, в котором, тем не менее, преобладает поп-музыка."
   ]
  },
  {
   "cell_type": "markdown",
   "metadata": {
    "id": "DlegSvaT_Zcu"
   },
   "source": [
    "Сгруппируйте таблицу `moscow_general` по жанру и посчитайте прослушивания треков каждого жанра методом `count()`. Затем отсортируйте результат в порядке убывания и сохраните его в таблице `moscow_genres`."
   ]
  },
  {
   "cell_type": "code",
   "execution_count": 35,
   "metadata": {
    "id": "r19lIPke_Zcu"
   },
   "outputs": [],
   "source": [
    "moscow_genres = moscow_general.groupby('genre')['genre'].count().sort_values(ascending=False)"
   ]
  },
  {
   "cell_type": "markdown",
   "metadata": {
    "id": "6kMuomxTiIr8"
   },
   "source": [
    "Выведите на экран первые десять строк `moscow_genres`:"
   ]
  },
  {
   "cell_type": "code",
   "execution_count": 36,
   "metadata": {
    "id": "WhCSooF8_Zcv"
   },
   "outputs": [
    {
     "data": {
      "text/plain": [
       "genre\n",
       "pop            5892\n",
       "dance          4435\n",
       "rock           3965\n",
       "electronic     3786\n",
       "hiphop         2096\n",
       "classical      1616\n",
       "world          1432\n",
       "alternative    1379\n",
       "ruspop         1372\n",
       "rusrap         1161\n",
       "Name: genre, dtype: int64"
      ]
     },
     "execution_count": 36,
     "metadata": {},
     "output_type": "execute_result"
    }
   ],
   "source": [
    "moscow_genres.head(10)"
   ]
  },
  {
   "cell_type": "markdown",
   "metadata": {
    "id": "cnPG2vnN_Zcv"
   },
   "source": [
    "Теперь повторите то же и для Петербурга.\n",
    "\n",
    "Сгруппируйте таблицу `spb_general` по жанру. Посчитайте прослушивания треков каждого жанра. Результат отсортируйте в порядке убывания и сохраните в таблице `spb_genres`:\n"
   ]
  },
  {
   "cell_type": "code",
   "execution_count": 37,
   "metadata": {
    "id": "gluLIpE7_Zcv"
   },
   "outputs": [],
   "source": [
    "spb_genres = spb_general.groupby('genre')['genre'].count().sort_values(ascending=False)"
   ]
  },
  {
   "cell_type": "markdown",
   "metadata": {
    "id": "5Doha_ODgyQ8"
   },
   "source": [
    "Выведите на экран первые десять строк `spb_genres`:"
   ]
  },
  {
   "cell_type": "code",
   "execution_count": 38,
   "metadata": {
    "id": "uaGJHjVU_Zcv"
   },
   "outputs": [
    {
     "data": {
      "text/plain": [
       "genre\n",
       "pop            2431\n",
       "dance          1932\n",
       "rock           1879\n",
       "electronic     1736\n",
       "hiphop          960\n",
       "alternative     649\n",
       "classical       646\n",
       "rusrap          564\n",
       "ruspop          538\n",
       "world           515\n",
       "Name: genre, dtype: int64"
      ]
     },
     "execution_count": 38,
     "metadata": {},
     "output_type": "execute_result"
    }
   ],
   "source": [
    "spb_genres.head(10)"
   ]
  },
  {
   "cell_type": "markdown",
   "metadata": {
    "id": "RY51YJYu_Zcv"
   },
   "source": [
    "**Выводы**"
   ]
  },
  {
   "cell_type": "markdown",
   "metadata": {
    "id": "nVhnJEm__Zcv"
   },
   "source": [
    "Гипотеза частично подтвердилась:\n",
    "* Поп-музыка — самый популярный жанр в Москве, как и предполагала гипотеза. Более того, в топ-10 жанров встречается близкий жанр — русская популярная музыка.\n",
    "* Вопреки ожиданиям, рэп одинаково популярен в Москве и Петербурге. \n"
   ]
  },
  {
   "cell_type": "markdown",
   "metadata": {
    "id": "ykKQ0N65_Zcv"
   },
   "source": [
    "## Итоги исследования"
   ]
  },
  {
   "cell_type": "markdown",
   "metadata": {
    "id": "tjUwbHb3_Zcv"
   },
   "source": [
    "Вы проверили три гипотезы и установили:\n",
    "\n",
    "1. День недели по-разному влияет на активность пользователей в Москве и Петербурге. \n",
    "\n",
    "Первая гипотеза полностью подтвердилась.\n",
    "\n",
    "2. Музыкальные предпочтения не сильно меняются в течение недели — будь то Москва или Петербург. Небольшие различия заметны в начале недели, по понедельникам:\n",
    "* в Москве слушают музыку жанра “world”,\n",
    "* в Петербурге — джаз и классику.\n",
    "\n",
    "Таким образом, вторая гипотеза подтвердилась лишь отчасти. Этот результат мог оказаться иным, если бы не пропуски в данных.\n",
    "\n",
    "3. Во вкусах пользователей Москвы и Петербурга больше общего чем различий. Вопреки ожиданиям, предпочтения жанров в Петербурге напоминают московские.\n",
    "\n",
    "Третья гипотеза не подтвердилась. Если различия в предпочтениях и существуют, на основной массе пользователей они незаметны.\n",
    "\n",
    "**На практике исследования содержат проверки статистических гипотез.**\n",
    "Из данных одного сервиса не всегда можно сделать вывод о всех жителях города.\n",
    "Проверки статистических гипотез покажут, насколько они достоверны, исходя из имеющихся данных. \n",
    "С методами проверок гипотез вы ещё познакомитесь в следующих темах."
   ]
  }
 ],
 "metadata": {
  "ExecuteTimeLog": [
   {
    "duration": 560,
    "start_time": "2022-02-05T14:07:49.627Z"
   },
   {
    "duration": 839,
    "start_time": "2022-02-05T14:08:25.169Z"
   },
   {
    "duration": 16,
    "start_time": "2022-02-05T14:08:45.807Z"
   },
   {
    "duration": 39,
    "start_time": "2022-02-05T14:09:05.599Z"
   },
   {
    "duration": 9,
    "start_time": "2022-02-05T14:09:09.272Z"
   },
   {
    "duration": 24,
    "start_time": "2022-02-05T14:09:12.160Z"
   },
   {
    "duration": 4,
    "start_time": "2022-02-05T14:10:27.087Z"
   },
   {
    "duration": 459,
    "start_time": "2022-02-05T14:17:06.461Z"
   },
   {
    "duration": 19,
    "start_time": "2022-02-05T14:17:40.186Z"
   },
   {
    "duration": 4,
    "start_time": "2022-02-05T14:18:20.714Z"
   },
   {
    "duration": 298,
    "start_time": "2022-02-05T14:18:51.454Z"
   },
   {
    "duration": 509,
    "start_time": "2022-02-05T14:19:46.139Z"
   },
   {
    "duration": 234,
    "start_time": "2022-02-05T14:19:55.528Z"
   },
   {
    "duration": 465,
    "start_time": "2022-02-05T14:20:11.958Z"
   },
   {
    "duration": 3,
    "start_time": "2022-02-05T14:20:21.910Z"
   },
   {
    "duration": 30,
    "start_time": "2022-02-05T14:21:26.466Z"
   },
   {
    "duration": 4,
    "start_time": "2022-02-05T14:23:12.961Z"
   },
   {
    "duration": 7,
    "start_time": "2022-02-05T14:23:33.600Z"
   },
   {
    "duration": 4,
    "start_time": "2022-02-05T14:23:35.987Z"
   },
   {
    "duration": 3,
    "start_time": "2022-02-05T14:45:09.267Z"
   },
   {
    "duration": 11,
    "start_time": "2022-02-05T14:46:49.934Z"
   },
   {
    "duration": 3,
    "start_time": "2022-02-05T14:46:51.451Z"
   },
   {
    "duration": 448,
    "start_time": "2022-02-05T14:47:25.050Z"
   },
   {
    "duration": 343,
    "start_time": "2022-02-05T14:47:50.825Z"
   },
   {
    "duration": 21,
    "start_time": "2022-02-05T14:48:04.389Z"
   },
   {
    "duration": 91,
    "start_time": "2022-02-05T14:56:49.135Z"
   },
   {
    "duration": 20,
    "start_time": "2022-02-05T14:57:09.615Z"
   },
   {
    "duration": 47,
    "start_time": "2022-02-05T14:58:19.848Z"
   },
   {
    "duration": 44,
    "start_time": "2022-02-05T14:58:27.111Z"
   },
   {
    "duration": 358,
    "start_time": "2022-02-05T15:00:03.936Z"
   },
   {
    "duration": 53,
    "start_time": "2022-02-05T15:00:21.441Z"
   },
   {
    "duration": 57,
    "start_time": "2022-02-05T15:01:18.254Z"
   },
   {
    "duration": 5,
    "start_time": "2022-02-05T15:01:33.128Z"
   },
   {
    "duration": 58,
    "start_time": "2022-02-05T15:01:44.736Z"
   },
   {
    "duration": 53,
    "start_time": "2022-02-05T15:01:53.638Z"
   },
   {
    "duration": 19,
    "start_time": "2022-02-05T15:02:09.595Z"
   },
   {
    "duration": 359,
    "start_time": "2022-02-05T15:08:31.435Z"
   },
   {
    "duration": 10,
    "start_time": "2022-02-05T15:08:53.355Z"
   },
   {
    "duration": 4,
    "start_time": "2022-02-05T15:09:53.624Z"
   },
   {
    "duration": 9,
    "start_time": "2022-02-05T15:09:58.721Z"
   },
   {
    "duration": 4,
    "start_time": "2022-02-05T15:10:07.830Z"
   },
   {
    "duration": 6,
    "start_time": "2022-02-05T15:10:30.886Z"
   },
   {
    "duration": 17,
    "start_time": "2022-02-05T15:10:38.368Z"
   },
   {
    "duration": 6,
    "start_time": "2022-02-05T15:11:31.554Z"
   },
   {
    "duration": 11,
    "start_time": "2022-02-05T15:11:36.198Z"
   },
   {
    "duration": 314,
    "start_time": "2022-02-05T15:11:45.556Z"
   },
   {
    "duration": 14,
    "start_time": "2022-02-05T15:11:51.399Z"
   },
   {
    "duration": 4,
    "start_time": "2022-02-05T15:12:04.464Z"
   },
   {
    "duration": 4,
    "start_time": "2022-02-05T15:12:07.514Z"
   },
   {
    "duration": 9,
    "start_time": "2022-02-05T15:12:10.362Z"
   },
   {
    "duration": 120,
    "start_time": "2022-02-05T15:12:27.231Z"
   },
   {
    "duration": 9,
    "start_time": "2022-02-05T15:12:28.469Z"
   },
   {
    "duration": 23,
    "start_time": "2022-02-05T15:12:32.466Z"
   },
   {
    "duration": 119,
    "start_time": "2022-02-05T15:12:53.770Z"
   },
   {
    "duration": 9,
    "start_time": "2022-02-05T15:12:55.672Z"
   },
   {
    "duration": 22,
    "start_time": "2022-02-05T15:13:00.620Z"
   },
   {
    "duration": 9,
    "start_time": "2022-02-05T15:13:07.307Z"
   },
   {
    "duration": 17,
    "start_time": "2022-02-05T15:13:13.145Z"
   },
   {
    "duration": 9,
    "start_time": "2022-02-05T15:13:27.705Z"
   },
   {
    "duration": 21,
    "start_time": "2022-02-05T15:13:34.291Z"
   },
   {
    "duration": 23,
    "start_time": "2022-02-05T15:13:50.428Z"
   },
   {
    "duration": 56,
    "start_time": "2022-02-05T15:13:53.610Z"
   },
   {
    "duration": 62,
    "start_time": "2022-02-05T15:13:55.156Z"
   },
   {
    "duration": 4,
    "start_time": "2022-02-05T15:14:37.796Z"
   },
   {
    "duration": 3,
    "start_time": "2022-02-05T15:14:58.481Z"
   },
   {
    "duration": 122,
    "start_time": "2022-02-05T15:14:58.486Z"
   },
   {
    "duration": 9,
    "start_time": "2022-02-05T15:14:58.610Z"
   },
   {
    "duration": 21,
    "start_time": "2022-02-05T15:14:58.620Z"
   },
   {
    "duration": 8,
    "start_time": "2022-02-05T15:14:58.643Z"
   },
   {
    "duration": 12,
    "start_time": "2022-02-05T15:14:58.672Z"
   },
   {
    "duration": 3,
    "start_time": "2022-02-05T15:14:58.686Z"
   },
   {
    "duration": 21,
    "start_time": "2022-02-05T15:14:58.692Z"
   },
   {
    "duration": 135,
    "start_time": "2022-02-05T15:14:58.714Z"
   },
   {
    "duration": 24,
    "start_time": "2022-02-05T15:14:58.851Z"
   },
   {
    "duration": 46,
    "start_time": "2022-02-05T15:14:58.876Z"
   },
   {
    "duration": 65,
    "start_time": "2022-02-05T15:14:58.924Z"
   },
   {
    "duration": 18,
    "start_time": "2022-02-05T15:14:58.991Z"
   },
   {
    "duration": 10,
    "start_time": "2022-02-05T15:14:59.010Z"
   },
   {
    "duration": 2,
    "start_time": "2022-02-05T15:14:59.022Z"
   },
   {
    "duration": 3,
    "start_time": "2022-02-05T15:14:59.026Z"
   },
   {
    "duration": 4,
    "start_time": "2022-02-05T15:14:59.030Z"
   },
   {
    "duration": 35,
    "start_time": "2022-02-05T15:14:59.036Z"
   },
   {
    "duration": 2,
    "start_time": "2022-02-05T15:14:59.074Z"
   },
   {
    "duration": 4,
    "start_time": "2022-02-05T15:14:59.078Z"
   },
   {
    "duration": 10,
    "start_time": "2022-02-05T15:14:59.083Z"
   },
   {
    "duration": 7,
    "start_time": "2022-02-05T15:14:59.095Z"
   },
   {
    "duration": 8,
    "start_time": "2022-02-05T15:14:59.104Z"
   },
   {
    "duration": 9,
    "start_time": "2022-02-05T15:14:59.113Z"
   },
   {
    "duration": 8,
    "start_time": "2022-02-05T15:14:59.124Z"
   },
   {
    "duration": 11,
    "start_time": "2022-02-05T15:14:59.133Z"
   },
   {
    "duration": 8,
    "start_time": "2022-02-05T15:14:59.146Z"
   },
   {
    "duration": 8,
    "start_time": "2022-02-05T15:14:59.155Z"
   },
   {
    "duration": 8,
    "start_time": "2022-02-05T15:14:59.165Z"
   },
   {
    "duration": 8,
    "start_time": "2022-02-05T15:14:59.175Z"
   },
   {
    "duration": 10,
    "start_time": "2022-02-05T15:14:59.185Z"
   },
   {
    "duration": 9,
    "start_time": "2022-02-05T15:14:59.196Z"
   },
   {
    "duration": 11,
    "start_time": "2022-02-05T15:14:59.207Z"
   },
   {
    "duration": 7,
    "start_time": "2022-02-05T15:14:59.220Z"
   },
   {
    "duration": 8,
    "start_time": "2022-02-05T15:14:59.228Z"
   },
   {
    "duration": 11,
    "start_time": "2022-02-05T15:14:59.237Z"
   },
   {
    "duration": 16,
    "start_time": "2022-02-05T15:14:59.250Z"
   },
   {
    "duration": 22,
    "start_time": "2022-02-05T15:14:59.268Z"
   },
   {
    "duration": 48,
    "start_time": "2022-02-05T15:15:38.544Z"
   },
   {
    "duration": 3,
    "start_time": "2022-02-05T15:15:45.960Z"
   },
   {
    "duration": 143,
    "start_time": "2022-02-05T15:15:45.965Z"
   },
   {
    "duration": 9,
    "start_time": "2022-02-05T15:15:46.109Z"
   },
   {
    "duration": 38,
    "start_time": "2022-02-05T15:15:46.120Z"
   },
   {
    "duration": 18,
    "start_time": "2022-02-05T15:15:46.159Z"
   },
   {
    "duration": 17,
    "start_time": "2022-02-05T15:15:46.179Z"
   },
   {
    "duration": 8,
    "start_time": "2022-02-05T15:15:46.197Z"
   },
   {
    "duration": 30,
    "start_time": "2022-02-05T15:15:46.208Z"
   },
   {
    "duration": 138,
    "start_time": "2022-02-05T15:15:46.240Z"
   },
   {
    "duration": 21,
    "start_time": "2022-02-05T15:15:46.380Z"
   },
   {
    "duration": 58,
    "start_time": "2022-02-05T15:15:46.402Z"
   },
   {
    "duration": 66,
    "start_time": "2022-02-05T15:15:46.461Z"
   },
   {
    "duration": 19,
    "start_time": "2022-02-05T15:15:46.528Z"
   },
   {
    "duration": 28,
    "start_time": "2022-02-05T15:15:46.549Z"
   },
   {
    "duration": 3,
    "start_time": "2022-02-05T15:15:46.578Z"
   },
   {
    "duration": 16,
    "start_time": "2022-02-05T15:15:46.582Z"
   },
   {
    "duration": 21,
    "start_time": "2022-02-05T15:15:46.599Z"
   },
   {
    "duration": 10,
    "start_time": "2022-02-05T15:15:46.622Z"
   },
   {
    "duration": 7,
    "start_time": "2022-02-05T15:15:46.634Z"
   },
   {
    "duration": 20,
    "start_time": "2022-02-05T15:15:46.643Z"
   },
   {
    "duration": 5,
    "start_time": "2022-02-05T15:15:46.665Z"
   },
   {
    "duration": 15,
    "start_time": "2022-02-05T15:15:46.671Z"
   },
   {
    "duration": 15,
    "start_time": "2022-02-05T15:15:46.688Z"
   },
   {
    "duration": 12,
    "start_time": "2022-02-05T15:15:46.705Z"
   },
   {
    "duration": 11,
    "start_time": "2022-02-05T15:15:46.719Z"
   },
   {
    "duration": 21,
    "start_time": "2022-02-05T15:15:46.731Z"
   },
   {
    "duration": 15,
    "start_time": "2022-02-05T15:15:46.753Z"
   },
   {
    "duration": 17,
    "start_time": "2022-02-05T15:15:46.770Z"
   },
   {
    "duration": 19,
    "start_time": "2022-02-05T15:15:46.788Z"
   },
   {
    "duration": 9,
    "start_time": "2022-02-05T15:15:46.809Z"
   },
   {
    "duration": 22,
    "start_time": "2022-02-05T15:15:46.819Z"
   },
   {
    "duration": 19,
    "start_time": "2022-02-05T15:15:46.843Z"
   },
   {
    "duration": 22,
    "start_time": "2022-02-05T15:15:46.863Z"
   },
   {
    "duration": 13,
    "start_time": "2022-02-05T15:15:46.886Z"
   },
   {
    "duration": 17,
    "start_time": "2022-02-05T15:15:46.900Z"
   },
   {
    "duration": 14,
    "start_time": "2022-02-05T15:15:46.919Z"
   },
   {
    "duration": 15,
    "start_time": "2022-02-05T15:15:46.934Z"
   },
   {
    "duration": 13,
    "start_time": "2022-02-05T15:15:46.951Z"
   },
   {
    "duration": 2,
    "start_time": "2022-02-05T15:16:47.600Z"
   },
   {
    "duration": 118,
    "start_time": "2022-02-05T15:16:47.605Z"
   },
   {
    "duration": 9,
    "start_time": "2022-02-05T15:16:47.725Z"
   },
   {
    "duration": 41,
    "start_time": "2022-02-05T15:16:47.736Z"
   },
   {
    "duration": 8,
    "start_time": "2022-02-05T15:16:47.779Z"
   },
   {
    "duration": 17,
    "start_time": "2022-02-05T15:16:47.789Z"
   },
   {
    "duration": 3,
    "start_time": "2022-02-05T15:16:47.808Z"
   },
   {
    "duration": 24,
    "start_time": "2022-02-05T15:16:47.812Z"
   },
   {
    "duration": 39,
    "start_time": "2022-02-05T15:16:47.838Z"
   },
   {
    "duration": 20,
    "start_time": "2022-02-05T15:16:47.879Z"
   },
   {
    "duration": 52,
    "start_time": "2022-02-05T15:16:47.900Z"
   },
   {
    "duration": 73,
    "start_time": "2022-02-05T15:16:47.954Z"
   },
   {
    "duration": 18,
    "start_time": "2022-02-05T15:16:48.028Z"
   },
   {
    "duration": 6,
    "start_time": "2022-02-05T15:16:48.048Z"
   },
   {
    "duration": 2,
    "start_time": "2022-02-05T15:16:48.071Z"
   },
   {
    "duration": 4,
    "start_time": "2022-02-05T15:16:48.075Z"
   },
   {
    "duration": 9,
    "start_time": "2022-02-05T15:16:48.080Z"
   },
   {
    "duration": 8,
    "start_time": "2022-02-05T15:16:48.090Z"
   },
   {
    "duration": 7,
    "start_time": "2022-02-05T15:16:48.100Z"
   },
   {
    "duration": 8,
    "start_time": "2022-02-05T15:16:48.109Z"
   },
   {
    "duration": 8,
    "start_time": "2022-02-05T15:16:48.119Z"
   },
   {
    "duration": 11,
    "start_time": "2022-02-05T15:16:48.128Z"
   },
   {
    "duration": 11,
    "start_time": "2022-02-05T15:16:48.141Z"
   },
   {
    "duration": 6,
    "start_time": "2022-02-05T15:16:48.155Z"
   },
   {
    "duration": 8,
    "start_time": "2022-02-05T15:16:48.163Z"
   },
   {
    "duration": 8,
    "start_time": "2022-02-05T15:16:48.173Z"
   },
   {
    "duration": 9,
    "start_time": "2022-02-05T15:16:48.182Z"
   },
   {
    "duration": 8,
    "start_time": "2022-02-05T15:16:48.192Z"
   },
   {
    "duration": 8,
    "start_time": "2022-02-05T15:16:48.202Z"
   },
   {
    "duration": 8,
    "start_time": "2022-02-05T15:16:48.211Z"
   },
   {
    "duration": 12,
    "start_time": "2022-02-05T15:16:48.220Z"
   },
   {
    "duration": 8,
    "start_time": "2022-02-05T15:16:48.233Z"
   },
   {
    "duration": 10,
    "start_time": "2022-02-05T15:16:48.243Z"
   },
   {
    "duration": 8,
    "start_time": "2022-02-05T15:16:48.255Z"
   },
   {
    "duration": 8,
    "start_time": "2022-02-05T15:16:48.264Z"
   },
   {
    "duration": 8,
    "start_time": "2022-02-05T15:16:48.274Z"
   },
   {
    "duration": 8,
    "start_time": "2022-02-05T15:16:48.283Z"
   },
   {
    "duration": 8,
    "start_time": "2022-02-05T15:16:48.292Z"
   },
   {
    "duration": 317,
    "start_time": "2022-02-05T15:18:42.952Z"
   },
   {
    "duration": 38,
    "start_time": "2022-02-05T15:19:45.774Z"
   },
   {
    "duration": 777,
    "start_time": "2022-02-05T15:45:32.809Z"
   },
   {
    "duration": 2,
    "start_time": "2022-02-05T15:46:43.255Z"
   },
   {
    "duration": 39,
    "start_time": "2022-02-05T15:48:31.050Z"
   },
   {
    "duration": 3,
    "start_time": "2022-02-05T15:48:56.148Z"
   },
   {
    "duration": 330,
    "start_time": "2022-02-05T15:48:57.511Z"
   },
   {
    "duration": 39,
    "start_time": "2022-02-05T15:49:09.960Z"
   },
   {
    "duration": 3,
    "start_time": "2022-02-05T15:50:39.024Z"
   },
   {
    "duration": 33,
    "start_time": "2022-02-05T15:50:40.568Z"
   },
   {
    "duration": 3,
    "start_time": "2022-02-05T15:51:59.753Z"
   },
   {
    "duration": 597,
    "start_time": "2022-02-05T15:52:01.904Z"
   },
   {
    "duration": 2466,
    "start_time": "2022-02-05T15:54:23.761Z"
   },
   {
    "duration": 3,
    "start_time": "2022-02-05T15:56:45.365Z"
   },
   {
    "duration": 11,
    "start_time": "2022-02-05T15:56:46.631Z"
   },
   {
    "duration": 2,
    "start_time": "2022-02-05T15:57:20.660Z"
   },
   {
    "duration": 125,
    "start_time": "2022-02-05T15:57:20.664Z"
   },
   {
    "duration": 10,
    "start_time": "2022-02-05T15:57:20.791Z"
   },
   {
    "duration": 23,
    "start_time": "2022-02-05T15:57:20.803Z"
   },
   {
    "duration": 8,
    "start_time": "2022-02-05T15:57:20.828Z"
   },
   {
    "duration": 33,
    "start_time": "2022-02-05T15:57:20.838Z"
   },
   {
    "duration": 3,
    "start_time": "2022-02-05T15:57:20.874Z"
   },
   {
    "duration": 23,
    "start_time": "2022-02-05T15:57:20.879Z"
   },
   {
    "duration": 17,
    "start_time": "2022-02-05T15:57:20.903Z"
   },
   {
    "duration": 21,
    "start_time": "2022-02-05T15:57:20.921Z"
   },
   {
    "duration": 100,
    "start_time": "2022-02-05T15:57:20.943Z"
   },
   {
    "duration": 84,
    "start_time": "2022-02-05T15:57:21.044Z"
   },
   {
    "duration": 20,
    "start_time": "2022-02-05T15:57:21.129Z"
   },
   {
    "duration": 50,
    "start_time": "2022-02-05T15:57:21.151Z"
   },
   {
    "duration": 3,
    "start_time": "2022-02-05T15:57:21.203Z"
   },
   {
    "duration": 14,
    "start_time": "2022-02-05T15:57:21.207Z"
   },
   {
    "duration": 12,
    "start_time": "2022-02-05T15:57:21.223Z"
   },
   {
    "duration": 3,
    "start_time": "2022-02-05T15:57:21.236Z"
   },
   {
    "duration": 6,
    "start_time": "2022-02-05T15:57:21.240Z"
   },
   {
    "duration": 24,
    "start_time": "2022-02-05T15:57:21.247Z"
   },
   {
    "duration": 2,
    "start_time": "2022-02-05T15:57:21.274Z"
   },
   {
    "duration": 7,
    "start_time": "2022-02-05T15:57:21.277Z"
   },
   {
    "duration": 9,
    "start_time": "2022-02-05T15:57:21.286Z"
   },
   {
    "duration": 8,
    "start_time": "2022-02-05T15:57:21.297Z"
   },
   {
    "duration": 13,
    "start_time": "2022-02-05T15:57:21.307Z"
   },
   {
    "duration": 8,
    "start_time": "2022-02-05T15:57:21.321Z"
   },
   {
    "duration": 12,
    "start_time": "2022-02-05T15:57:21.331Z"
   },
   {
    "duration": 13,
    "start_time": "2022-02-05T15:57:21.344Z"
   },
   {
    "duration": 9,
    "start_time": "2022-02-05T15:57:21.359Z"
   },
   {
    "duration": 8,
    "start_time": "2022-02-05T15:57:21.369Z"
   },
   {
    "duration": 11,
    "start_time": "2022-02-05T15:57:21.379Z"
   },
   {
    "duration": 9,
    "start_time": "2022-02-05T15:57:21.391Z"
   },
   {
    "duration": 14,
    "start_time": "2022-02-05T15:57:21.402Z"
   },
   {
    "duration": 8,
    "start_time": "2022-02-05T15:57:21.417Z"
   },
   {
    "duration": 9,
    "start_time": "2022-02-05T15:57:21.426Z"
   },
   {
    "duration": 10,
    "start_time": "2022-02-05T15:57:21.437Z"
   },
   {
    "duration": 11,
    "start_time": "2022-02-05T15:57:21.449Z"
   },
   {
    "duration": 8,
    "start_time": "2022-02-05T15:57:21.462Z"
   },
   {
    "duration": 3,
    "start_time": "2022-02-05T15:57:45.579Z"
   },
   {
    "duration": 12,
    "start_time": "2022-02-05T15:57:49.426Z"
   },
   {
    "duration": 10,
    "start_time": "2022-02-05T15:57:54.447Z"
   },
   {
    "duration": 11,
    "start_time": "2022-02-05T15:58:02.525Z"
   },
   {
    "duration": 444,
    "start_time": "2022-02-05T15:58:16.585Z"
   },
   {
    "duration": 19,
    "start_time": "2022-02-05T15:58:22.415Z"
   },
   {
    "duration": 3,
    "start_time": "2022-02-05T16:03:02.983Z"
   },
   {
    "duration": 37,
    "start_time": "2022-02-05T16:03:05.309Z"
   },
   {
    "duration": 11,
    "start_time": "2022-02-05T16:03:09.966Z"
   },
   {
    "duration": 2,
    "start_time": "2022-02-05T16:03:13.189Z"
   },
   {
    "duration": 122,
    "start_time": "2022-02-05T16:03:13.194Z"
   },
   {
    "duration": 9,
    "start_time": "2022-02-05T16:03:13.318Z"
   },
   {
    "duration": 20,
    "start_time": "2022-02-05T16:03:13.329Z"
   },
   {
    "duration": 26,
    "start_time": "2022-02-05T16:03:13.351Z"
   },
   {
    "duration": 12,
    "start_time": "2022-02-05T16:03:13.378Z"
   },
   {
    "duration": 4,
    "start_time": "2022-02-05T16:03:13.391Z"
   },
   {
    "duration": 20,
    "start_time": "2022-02-05T16:03:13.396Z"
   },
   {
    "duration": 14,
    "start_time": "2022-02-05T16:03:13.417Z"
   },
   {
    "duration": 52,
    "start_time": "2022-02-05T16:03:13.433Z"
   },
   {
    "duration": 51,
    "start_time": "2022-02-05T16:03:13.487Z"
   },
   {
    "duration": 71,
    "start_time": "2022-02-05T16:03:13.540Z"
   },
   {
    "duration": 18,
    "start_time": "2022-02-05T16:03:13.613Z"
   },
   {
    "duration": 50,
    "start_time": "2022-02-05T16:03:13.632Z"
   },
   {
    "duration": 2,
    "start_time": "2022-02-05T16:03:13.684Z"
   },
   {
    "duration": 32,
    "start_time": "2022-02-05T16:03:13.687Z"
   },
   {
    "duration": 36,
    "start_time": "2022-02-05T16:03:13.720Z"
   },
   {
    "duration": 2,
    "start_time": "2022-02-05T16:03:13.772Z"
   },
   {
    "duration": 4,
    "start_time": "2022-02-05T16:03:13.775Z"
   },
   {
    "duration": 6,
    "start_time": "2022-02-05T16:03:13.781Z"
   },
   {
    "duration": 6,
    "start_time": "2022-02-05T16:03:13.788Z"
   },
   {
    "duration": 3,
    "start_time": "2022-02-05T16:03:13.796Z"
   },
   {
    "duration": 6,
    "start_time": "2022-02-05T16:03:13.800Z"
   },
   {
    "duration": 11,
    "start_time": "2022-02-05T16:03:13.807Z"
   },
   {
    "duration": 9,
    "start_time": "2022-02-05T16:03:13.820Z"
   },
   {
    "duration": 11,
    "start_time": "2022-02-05T16:03:13.830Z"
   },
   {
    "duration": 8,
    "start_time": "2022-02-05T16:03:13.842Z"
   },
   {
    "duration": 6,
    "start_time": "2022-02-05T16:03:13.853Z"
   },
   {
    "duration": 8,
    "start_time": "2022-02-05T16:03:13.861Z"
   },
   {
    "duration": 10,
    "start_time": "2022-02-05T16:03:13.871Z"
   },
   {
    "duration": 11,
    "start_time": "2022-02-05T16:03:13.882Z"
   },
   {
    "duration": 8,
    "start_time": "2022-02-05T16:03:13.895Z"
   },
   {
    "duration": 12,
    "start_time": "2022-02-05T16:03:13.905Z"
   },
   {
    "duration": 8,
    "start_time": "2022-02-05T16:03:13.919Z"
   },
   {
    "duration": 8,
    "start_time": "2022-02-05T16:03:13.929Z"
   },
   {
    "duration": 8,
    "start_time": "2022-02-05T16:03:13.938Z"
   },
   {
    "duration": 8,
    "start_time": "2022-02-05T16:03:13.947Z"
   },
   {
    "duration": 8,
    "start_time": "2022-02-05T16:03:13.957Z"
   },
   {
    "duration": 7,
    "start_time": "2022-02-05T16:04:29.864Z"
   },
   {
    "duration": 41,
    "start_time": "2022-02-05T16:04:31.696Z"
   },
   {
    "duration": 7,
    "start_time": "2022-02-05T16:04:48.171Z"
   },
   {
    "duration": 38,
    "start_time": "2022-02-05T16:04:49.113Z"
   },
   {
    "duration": 282,
    "start_time": "2022-02-05T16:09:38.862Z"
   },
   {
    "duration": 276,
    "start_time": "2022-02-05T16:10:00.523Z"
   },
   {
    "duration": 2270,
    "start_time": "2022-02-05T16:12:04.879Z"
   },
   {
    "duration": 2271,
    "start_time": "2022-02-05T16:12:16.584Z"
   },
   {
    "duration": 2295,
    "start_time": "2022-02-05T16:12:34.335Z"
   },
   {
    "duration": 2401,
    "start_time": "2022-02-05T16:12:48.432Z"
   },
   {
    "duration": 4600,
    "start_time": "2022-02-05T16:13:01.676Z"
   },
   {
    "duration": 4857,
    "start_time": "2022-02-05T16:13:52.767Z"
   },
   {
    "duration": 2,
    "start_time": "2022-02-05T16:14:02.739Z"
   },
   {
    "duration": 132,
    "start_time": "2022-02-05T16:14:02.744Z"
   },
   {
    "duration": 10,
    "start_time": "2022-02-05T16:14:02.878Z"
   },
   {
    "duration": 21,
    "start_time": "2022-02-05T16:14:02.890Z"
   },
   {
    "duration": 8,
    "start_time": "2022-02-05T16:14:02.913Z"
   },
   {
    "duration": 16,
    "start_time": "2022-02-05T16:14:02.922Z"
   },
   {
    "duration": 3,
    "start_time": "2022-02-05T16:14:02.939Z"
   },
   {
    "duration": 20,
    "start_time": "2022-02-05T16:14:02.972Z"
   },
   {
    "duration": 15,
    "start_time": "2022-02-05T16:14:02.994Z"
   },
   {
    "duration": 21,
    "start_time": "2022-02-05T16:14:03.010Z"
   },
   {
    "duration": 72,
    "start_time": "2022-02-05T16:14:03.032Z"
   },
   {
    "duration": 66,
    "start_time": "2022-02-05T16:14:03.106Z"
   },
   {
    "duration": 19,
    "start_time": "2022-02-05T16:14:03.174Z"
   },
   {
    "duration": 37,
    "start_time": "2022-02-05T16:14:03.194Z"
   },
   {
    "duration": 2,
    "start_time": "2022-02-05T16:14:03.232Z"
   },
   {
    "duration": 7,
    "start_time": "2022-02-05T16:14:03.236Z"
   },
   {
    "duration": 58,
    "start_time": "2022-02-05T16:14:03.245Z"
   },
   {
    "duration": 2877,
    "start_time": "2022-02-05T16:14:03.304Z"
   },
   {
    "duration": -126,
    "start_time": "2022-02-05T16:14:06.309Z"
   },
   {
    "duration": -135,
    "start_time": "2022-02-05T16:14:06.319Z"
   },
   {
    "duration": -137,
    "start_time": "2022-02-05T16:14:06.322Z"
   },
   {
    "duration": -140,
    "start_time": "2022-02-05T16:14:06.326Z"
   },
   {
    "duration": -143,
    "start_time": "2022-02-05T16:14:06.330Z"
   },
   {
    "duration": -146,
    "start_time": "2022-02-05T16:14:06.334Z"
   },
   {
    "duration": -148,
    "start_time": "2022-02-05T16:14:06.337Z"
   },
   {
    "duration": -151,
    "start_time": "2022-02-05T16:14:06.341Z"
   },
   {
    "duration": -153,
    "start_time": "2022-02-05T16:14:06.344Z"
   },
   {
    "duration": -156,
    "start_time": "2022-02-05T16:14:06.348Z"
   },
   {
    "duration": -159,
    "start_time": "2022-02-05T16:14:06.352Z"
   },
   {
    "duration": -161,
    "start_time": "2022-02-05T16:14:06.355Z"
   },
   {
    "duration": -163,
    "start_time": "2022-02-05T16:14:06.358Z"
   },
   {
    "duration": -166,
    "start_time": "2022-02-05T16:14:06.362Z"
   },
   {
    "duration": -168,
    "start_time": "2022-02-05T16:14:06.365Z"
   },
   {
    "duration": -171,
    "start_time": "2022-02-05T16:14:06.369Z"
   },
   {
    "duration": -173,
    "start_time": "2022-02-05T16:14:06.372Z"
   },
   {
    "duration": -176,
    "start_time": "2022-02-05T16:14:06.375Z"
   },
   {
    "duration": -179,
    "start_time": "2022-02-05T16:14:06.379Z"
   },
   {
    "duration": -181,
    "start_time": "2022-02-05T16:14:06.382Z"
   },
   {
    "duration": 36,
    "start_time": "2022-02-05T16:14:35.570Z"
   },
   {
    "duration": 36,
    "start_time": "2022-02-05T16:15:01.394Z"
   },
   {
    "duration": 2,
    "start_time": "2022-02-05T16:15:07.832Z"
   },
   {
    "duration": 144,
    "start_time": "2022-02-05T16:15:07.836Z"
   },
   {
    "duration": 10,
    "start_time": "2022-02-05T16:15:07.982Z"
   },
   {
    "duration": 21,
    "start_time": "2022-02-05T16:15:07.994Z"
   },
   {
    "duration": 8,
    "start_time": "2022-02-05T16:15:08.017Z"
   },
   {
    "duration": 16,
    "start_time": "2022-02-05T16:15:08.026Z"
   },
   {
    "duration": 29,
    "start_time": "2022-02-05T16:15:08.044Z"
   },
   {
    "duration": 22,
    "start_time": "2022-02-05T16:15:08.075Z"
   },
   {
    "duration": 15,
    "start_time": "2022-02-05T16:15:08.098Z"
   },
   {
    "duration": 23,
    "start_time": "2022-02-05T16:15:08.114Z"
   },
   {
    "duration": 86,
    "start_time": "2022-02-05T16:15:08.138Z"
   },
   {
    "duration": 71,
    "start_time": "2022-02-05T16:15:08.226Z"
   },
   {
    "duration": 18,
    "start_time": "2022-02-05T16:15:08.299Z"
   },
   {
    "duration": 38,
    "start_time": "2022-02-05T16:15:08.319Z"
   },
   {
    "duration": 2,
    "start_time": "2022-02-05T16:15:08.372Z"
   },
   {
    "duration": 8,
    "start_time": "2022-02-05T16:15:08.376Z"
   },
   {
    "duration": 40,
    "start_time": "2022-02-05T16:15:08.385Z"
   },
   {
    "duration": 2064,
    "start_time": "2022-02-05T16:15:08.427Z"
   },
   {
    "duration": 2,
    "start_time": "2022-02-05T16:15:10.494Z"
   },
   {
    "duration": 4,
    "start_time": "2022-02-05T16:15:10.498Z"
   },
   {
    "duration": 6,
    "start_time": "2022-02-05T16:15:10.503Z"
   },
   {
    "duration": 4,
    "start_time": "2022-02-05T16:15:10.510Z"
   },
   {
    "duration": 4,
    "start_time": "2022-02-05T16:15:10.515Z"
   },
   {
    "duration": 7,
    "start_time": "2022-02-05T16:15:10.520Z"
   },
   {
    "duration": 8,
    "start_time": "2022-02-05T16:15:10.529Z"
   },
   {
    "duration": 10,
    "start_time": "2022-02-05T16:15:10.538Z"
   },
   {
    "duration": 8,
    "start_time": "2022-02-05T16:15:10.549Z"
   },
   {
    "duration": 9,
    "start_time": "2022-02-05T16:15:10.558Z"
   },
   {
    "duration": 9,
    "start_time": "2022-02-05T16:15:10.568Z"
   },
   {
    "duration": 7,
    "start_time": "2022-02-05T16:15:10.578Z"
   },
   {
    "duration": 11,
    "start_time": "2022-02-05T16:15:10.587Z"
   },
   {
    "duration": 7,
    "start_time": "2022-02-05T16:15:10.600Z"
   },
   {
    "duration": 12,
    "start_time": "2022-02-05T16:15:10.608Z"
   },
   {
    "duration": 8,
    "start_time": "2022-02-05T16:15:10.621Z"
   },
   {
    "duration": 8,
    "start_time": "2022-02-05T16:15:10.631Z"
   },
   {
    "duration": 10,
    "start_time": "2022-02-05T16:15:10.640Z"
   },
   {
    "duration": 8,
    "start_time": "2022-02-05T16:15:10.651Z"
   },
   {
    "duration": 8,
    "start_time": "2022-02-05T16:15:10.661Z"
   },
   {
    "duration": 4615,
    "start_time": "2022-02-05T16:15:17.671Z"
   },
   {
    "duration": 2,
    "start_time": "2022-02-05T16:16:51.099Z"
   },
   {
    "duration": 124,
    "start_time": "2022-02-05T16:16:51.103Z"
   },
   {
    "duration": 9,
    "start_time": "2022-02-05T16:16:51.229Z"
   },
   {
    "duration": 33,
    "start_time": "2022-02-05T16:16:51.239Z"
   },
   {
    "duration": 8,
    "start_time": "2022-02-05T16:16:51.273Z"
   },
   {
    "duration": 12,
    "start_time": "2022-02-05T16:16:51.283Z"
   },
   {
    "duration": 3,
    "start_time": "2022-02-05T16:16:51.297Z"
   },
   {
    "duration": 22,
    "start_time": "2022-02-05T16:16:51.301Z"
   },
   {
    "duration": 14,
    "start_time": "2022-02-05T16:16:51.325Z"
   },
   {
    "duration": 44,
    "start_time": "2022-02-05T16:16:51.340Z"
   },
   {
    "duration": 50,
    "start_time": "2022-02-05T16:16:51.386Z"
   },
   {
    "duration": 79,
    "start_time": "2022-02-05T16:16:51.438Z"
   },
   {
    "duration": 18,
    "start_time": "2022-02-05T16:16:51.518Z"
   },
   {
    "duration": 44,
    "start_time": "2022-02-05T16:16:51.537Z"
   },
   {
    "duration": 3,
    "start_time": "2022-02-05T16:16:51.582Z"
   },
   {
    "duration": 9,
    "start_time": "2022-02-05T16:16:51.586Z"
   },
   {
    "duration": 37,
    "start_time": "2022-02-05T16:16:51.596Z"
   },
   {
    "duration": 302,
    "start_time": "2022-02-05T16:16:51.634Z"
   },
   {
    "duration": 13,
    "start_time": "2022-02-05T16:16:51.925Z"
   },
   {
    "duration": 10,
    "start_time": "2022-02-05T16:16:51.929Z"
   },
   {
    "duration": 6,
    "start_time": "2022-02-05T16:16:51.934Z"
   },
   {
    "duration": 3,
    "start_time": "2022-02-05T16:16:51.938Z"
   },
   {
    "duration": 0,
    "start_time": "2022-02-05T16:16:51.942Z"
   },
   {
    "duration": -3,
    "start_time": "2022-02-05T16:16:51.945Z"
   },
   {
    "duration": -6,
    "start_time": "2022-02-05T16:16:51.949Z"
   },
   {
    "duration": -12,
    "start_time": "2022-02-05T16:16:51.956Z"
   },
   {
    "duration": -14,
    "start_time": "2022-02-05T16:16:51.959Z"
   },
   {
    "duration": -16,
    "start_time": "2022-02-05T16:16:51.962Z"
   },
   {
    "duration": -19,
    "start_time": "2022-02-05T16:16:51.966Z"
   },
   {
    "duration": -23,
    "start_time": "2022-02-05T16:16:51.970Z"
   },
   {
    "duration": -25,
    "start_time": "2022-02-05T16:16:51.973Z"
   },
   {
    "duration": -28,
    "start_time": "2022-02-05T16:16:51.977Z"
   },
   {
    "duration": -30,
    "start_time": "2022-02-05T16:16:51.980Z"
   },
   {
    "duration": -33,
    "start_time": "2022-02-05T16:16:51.984Z"
   },
   {
    "duration": -36,
    "start_time": "2022-02-05T16:16:51.987Z"
   },
   {
    "duration": -38,
    "start_time": "2022-02-05T16:16:51.990Z"
   },
   {
    "duration": -40,
    "start_time": "2022-02-05T16:16:51.993Z"
   },
   {
    "duration": -43,
    "start_time": "2022-02-05T16:16:51.997Z"
   },
   {
    "duration": 3,
    "start_time": "2022-02-05T16:17:09.813Z"
   },
   {
    "duration": 125,
    "start_time": "2022-02-05T16:17:09.818Z"
   },
   {
    "duration": 9,
    "start_time": "2022-02-05T16:17:09.945Z"
   },
   {
    "duration": 23,
    "start_time": "2022-02-05T16:17:09.972Z"
   },
   {
    "duration": 8,
    "start_time": "2022-02-05T16:17:09.997Z"
   },
   {
    "duration": 13,
    "start_time": "2022-02-05T16:17:10.006Z"
   },
   {
    "duration": 3,
    "start_time": "2022-02-05T16:17:10.021Z"
   },
   {
    "duration": 46,
    "start_time": "2022-02-05T16:17:10.026Z"
   },
   {
    "duration": 15,
    "start_time": "2022-02-05T16:17:10.075Z"
   },
   {
    "duration": 20,
    "start_time": "2022-02-05T16:17:10.092Z"
   },
   {
    "duration": 68,
    "start_time": "2022-02-05T16:17:10.114Z"
   },
   {
    "duration": 60,
    "start_time": "2022-02-05T16:17:10.184Z"
   },
   {
    "duration": 32,
    "start_time": "2022-02-05T16:17:10.246Z"
   },
   {
    "duration": 36,
    "start_time": "2022-02-05T16:17:10.279Z"
   },
   {
    "duration": 2,
    "start_time": "2022-02-05T16:17:10.317Z"
   },
   {
    "duration": 7,
    "start_time": "2022-02-05T16:17:10.321Z"
   },
   {
    "duration": 53,
    "start_time": "2022-02-05T16:17:10.329Z"
   },
   {
    "duration": 859,
    "start_time": "2022-02-05T16:17:10.384Z"
   },
   {
    "duration": -29,
    "start_time": "2022-02-05T16:17:11.274Z"
   },
   {
    "duration": -32,
    "start_time": "2022-02-05T16:17:11.278Z"
   },
   {
    "duration": -35,
    "start_time": "2022-02-05T16:17:11.282Z"
   },
   {
    "duration": -37,
    "start_time": "2022-02-05T16:17:11.285Z"
   },
   {
    "duration": -40,
    "start_time": "2022-02-05T16:17:11.289Z"
   },
   {
    "duration": -42,
    "start_time": "2022-02-05T16:17:11.292Z"
   },
   {
    "duration": -44,
    "start_time": "2022-02-05T16:17:11.295Z"
   },
   {
    "duration": -47,
    "start_time": "2022-02-05T16:17:11.299Z"
   },
   {
    "duration": -49,
    "start_time": "2022-02-05T16:17:11.302Z"
   },
   {
    "duration": -52,
    "start_time": "2022-02-05T16:17:11.305Z"
   },
   {
    "duration": -54,
    "start_time": "2022-02-05T16:17:11.308Z"
   },
   {
    "duration": -57,
    "start_time": "2022-02-05T16:17:11.312Z"
   },
   {
    "duration": -59,
    "start_time": "2022-02-05T16:17:11.315Z"
   },
   {
    "duration": -62,
    "start_time": "2022-02-05T16:17:11.319Z"
   },
   {
    "duration": -64,
    "start_time": "2022-02-05T16:17:11.322Z"
   },
   {
    "duration": -67,
    "start_time": "2022-02-05T16:17:11.326Z"
   },
   {
    "duration": -69,
    "start_time": "2022-02-05T16:17:11.329Z"
   },
   {
    "duration": -71,
    "start_time": "2022-02-05T16:17:11.332Z"
   },
   {
    "duration": -73,
    "start_time": "2022-02-05T16:17:11.335Z"
   },
   {
    "duration": -77,
    "start_time": "2022-02-05T16:17:11.339Z"
   },
   {
    "duration": 3,
    "start_time": "2022-02-05T16:19:16.364Z"
   },
   {
    "duration": 134,
    "start_time": "2022-02-05T16:19:16.369Z"
   },
   {
    "duration": 9,
    "start_time": "2022-02-05T16:19:16.505Z"
   },
   {
    "duration": 23,
    "start_time": "2022-02-05T16:19:16.516Z"
   },
   {
    "duration": 9,
    "start_time": "2022-02-05T16:19:16.541Z"
   },
   {
    "duration": 29,
    "start_time": "2022-02-05T16:19:16.551Z"
   },
   {
    "duration": 3,
    "start_time": "2022-02-05T16:19:16.583Z"
   },
   {
    "duration": 20,
    "start_time": "2022-02-05T16:19:16.588Z"
   },
   {
    "duration": 14,
    "start_time": "2022-02-05T16:19:16.610Z"
   },
   {
    "duration": 46,
    "start_time": "2022-02-05T16:19:16.626Z"
   },
   {
    "duration": 57,
    "start_time": "2022-02-05T16:19:16.674Z"
   },
   {
    "duration": 87,
    "start_time": "2022-02-05T16:19:16.733Z"
   },
   {
    "duration": 19,
    "start_time": "2022-02-05T16:19:16.822Z"
   },
   {
    "duration": 50,
    "start_time": "2022-02-05T16:19:16.842Z"
   },
   {
    "duration": 3,
    "start_time": "2022-02-05T16:19:16.894Z"
   },
   {
    "duration": 8,
    "start_time": "2022-02-05T16:19:16.898Z"
   },
   {
    "duration": 39,
    "start_time": "2022-02-05T16:19:16.907Z"
   },
   {
    "duration": 33,
    "start_time": "2022-02-05T16:19:16.948Z"
   },
   {
    "duration": 2,
    "start_time": "2022-02-05T16:19:16.984Z"
   },
   {
    "duration": 4,
    "start_time": "2022-02-05T16:19:16.987Z"
   },
   {
    "duration": 6,
    "start_time": "2022-02-05T16:19:16.992Z"
   },
   {
    "duration": 3,
    "start_time": "2022-02-05T16:19:17.000Z"
   },
   {
    "duration": 5,
    "start_time": "2022-02-05T16:19:17.005Z"
   },
   {
    "duration": 6,
    "start_time": "2022-02-05T16:19:17.012Z"
   },
   {
    "duration": 6,
    "start_time": "2022-02-05T16:19:17.020Z"
   },
   {
    "duration": 11,
    "start_time": "2022-02-05T16:19:17.028Z"
   },
   {
    "duration": 8,
    "start_time": "2022-02-05T16:19:17.041Z"
   },
   {
    "duration": 7,
    "start_time": "2022-02-05T16:19:17.051Z"
   },
   {
    "duration": 11,
    "start_time": "2022-02-05T16:19:17.060Z"
   },
   {
    "duration": 6,
    "start_time": "2022-02-05T16:19:17.073Z"
   },
   {
    "duration": 12,
    "start_time": "2022-02-05T16:19:17.080Z"
   },
   {
    "duration": 11,
    "start_time": "2022-02-05T16:19:17.093Z"
   },
   {
    "duration": 19,
    "start_time": "2022-02-05T16:19:17.105Z"
   },
   {
    "duration": 8,
    "start_time": "2022-02-05T16:19:17.125Z"
   },
   {
    "duration": 8,
    "start_time": "2022-02-05T16:19:17.134Z"
   },
   {
    "duration": 7,
    "start_time": "2022-02-05T16:19:17.144Z"
   },
   {
    "duration": 7,
    "start_time": "2022-02-05T16:19:17.153Z"
   },
   {
    "duration": 11,
    "start_time": "2022-02-05T16:19:17.162Z"
   },
   {
    "duration": 342,
    "start_time": "2022-02-05T16:23:55.924Z"
   },
   {
    "duration": 374,
    "start_time": "2022-02-05T16:24:11.181Z"
   },
   {
    "duration": 408,
    "start_time": "2022-02-05T16:24:26.876Z"
   },
   {
    "duration": 10,
    "start_time": "2022-02-05T16:24:47.385Z"
   },
   {
    "duration": 2,
    "start_time": "2022-02-05T16:50:27.341Z"
   },
   {
    "duration": 143,
    "start_time": "2022-02-05T16:50:27.345Z"
   },
   {
    "duration": 9,
    "start_time": "2022-02-05T16:50:27.490Z"
   },
   {
    "duration": 22,
    "start_time": "2022-02-05T16:50:27.500Z"
   },
   {
    "duration": 8,
    "start_time": "2022-02-05T16:50:27.523Z"
   },
   {
    "duration": 13,
    "start_time": "2022-02-05T16:50:27.532Z"
   },
   {
    "duration": 3,
    "start_time": "2022-02-05T16:50:27.571Z"
   },
   {
    "duration": 21,
    "start_time": "2022-02-05T16:50:27.576Z"
   },
   {
    "duration": 15,
    "start_time": "2022-02-05T16:50:27.598Z"
   },
   {
    "duration": 19,
    "start_time": "2022-02-05T16:50:27.614Z"
   },
   {
    "duration": 77,
    "start_time": "2022-02-05T16:50:27.635Z"
   },
   {
    "duration": 64,
    "start_time": "2022-02-05T16:50:27.714Z"
   },
   {
    "duration": 18,
    "start_time": "2022-02-05T16:50:27.780Z"
   },
   {
    "duration": 38,
    "start_time": "2022-02-05T16:50:27.800Z"
   },
   {
    "duration": 3,
    "start_time": "2022-02-05T16:50:27.839Z"
   },
   {
    "duration": 29,
    "start_time": "2022-02-05T16:50:27.843Z"
   },
   {
    "duration": 41,
    "start_time": "2022-02-05T16:50:27.873Z"
   },
   {
    "duration": 10,
    "start_time": "2022-02-05T16:50:27.915Z"
   },
   {
    "duration": 8,
    "start_time": "2022-02-05T16:50:27.928Z"
   },
   {
    "duration": 3,
    "start_time": "2022-02-05T16:50:27.938Z"
   },
   {
    "duration": 4,
    "start_time": "2022-02-05T16:50:27.942Z"
   },
   {
    "duration": 7,
    "start_time": "2022-02-05T16:50:27.948Z"
   },
   {
    "duration": 6,
    "start_time": "2022-02-05T16:50:27.971Z"
   },
   {
    "duration": 4,
    "start_time": "2022-02-05T16:50:27.978Z"
   },
   {
    "duration": 9,
    "start_time": "2022-02-05T16:50:27.983Z"
   },
   {
    "duration": 8,
    "start_time": "2022-02-05T16:50:27.993Z"
   },
   {
    "duration": 8,
    "start_time": "2022-02-05T16:50:28.003Z"
   },
   {
    "duration": 8,
    "start_time": "2022-02-05T16:50:28.012Z"
   },
   {
    "duration": 9,
    "start_time": "2022-02-05T16:50:28.021Z"
   },
   {
    "duration": 8,
    "start_time": "2022-02-05T16:50:28.031Z"
   },
   {
    "duration": 12,
    "start_time": "2022-02-05T16:50:28.040Z"
   },
   {
    "duration": 8,
    "start_time": "2022-02-05T16:50:28.054Z"
   },
   {
    "duration": 12,
    "start_time": "2022-02-05T16:50:28.063Z"
   },
   {
    "duration": 8,
    "start_time": "2022-02-05T16:50:28.076Z"
   },
   {
    "duration": 12,
    "start_time": "2022-02-05T16:50:28.086Z"
   },
   {
    "duration": 9,
    "start_time": "2022-02-05T16:50:28.100Z"
   },
   {
    "duration": 9,
    "start_time": "2022-02-05T16:50:28.111Z"
   },
   {
    "duration": 9,
    "start_time": "2022-02-05T16:50:28.121Z"
   },
   {
    "duration": 5,
    "start_time": "2022-02-05T16:55:49.324Z"
   },
   {
    "duration": 5,
    "start_time": "2022-02-05T16:55:52.770Z"
   },
   {
    "duration": 7,
    "start_time": "2022-02-05T16:56:37.137Z"
   },
   {
    "duration": 16,
    "start_time": "2022-02-05T16:57:20.372Z"
   },
   {
    "duration": 16,
    "start_time": "2022-02-05T16:57:38.021Z"
   },
   {
    "duration": 19,
    "start_time": "2022-02-05T16:59:14.507Z"
   },
   {
    "duration": 13,
    "start_time": "2022-02-05T16:59:50.146Z"
   },
   {
    "duration": 14,
    "start_time": "2022-02-05T17:00:13.625Z"
   },
   {
    "duration": 13,
    "start_time": "2022-02-05T17:00:43.084Z"
   },
   {
    "duration": 15,
    "start_time": "2022-02-05T17:01:12.589Z"
   },
   {
    "duration": 13,
    "start_time": "2022-02-05T17:01:29.405Z"
   },
   {
    "duration": 13,
    "start_time": "2022-02-05T17:14:58.754Z"
   },
   {
    "duration": 108,
    "start_time": "2022-02-05T17:16:27.615Z"
   },
   {
    "duration": 4,
    "start_time": "2022-02-05T17:16:45.322Z"
   },
   {
    "duration": 8,
    "start_time": "2022-02-05T17:16:54.336Z"
   },
   {
    "duration": 14,
    "start_time": "2022-02-05T17:17:16.456Z"
   },
   {
    "duration": 10,
    "start_time": "2022-02-05T17:20:34.704Z"
   },
   {
    "duration": 9,
    "start_time": "2022-02-05T17:20:55.184Z"
   },
   {
    "duration": 4,
    "start_time": "2022-02-05T17:37:06.223Z"
   },
   {
    "duration": 19,
    "start_time": "2022-02-05T17:38:40.345Z"
   },
   {
    "duration": 8,
    "start_time": "2022-02-05T17:42:01.733Z"
   },
   {
    "duration": 18,
    "start_time": "2022-02-05T17:43:19.165Z"
   },
   {
    "duration": 9,
    "start_time": "2022-02-05T17:43:36.393Z"
   },
   {
    "duration": 15,
    "start_time": "2022-02-05T17:44:32.856Z"
   },
   {
    "duration": 9,
    "start_time": "2022-02-05T17:44:36.846Z"
   },
   {
    "duration": 8,
    "start_time": "2022-02-05T17:44:55.254Z"
   },
   {
    "duration": 9,
    "start_time": "2022-02-05T17:45:19.508Z"
   },
   {
    "duration": 8,
    "start_time": "2022-02-05T17:45:38.450Z"
   },
   {
    "duration": 10,
    "start_time": "2022-02-05T17:46:01.393Z"
   },
   {
    "duration": 12,
    "start_time": "2022-02-05T17:46:01.813Z"
   },
   {
    "duration": 3,
    "start_time": "2022-02-05T17:46:03.805Z"
   },
   {
    "duration": 19,
    "start_time": "2022-02-05T17:46:05.133Z"
   },
   {
    "duration": 8,
    "start_time": "2022-02-05T17:46:05.695Z"
   },
   {
    "duration": 16,
    "start_time": "2022-02-05T17:46:06.375Z"
   },
   {
    "duration": 17,
    "start_time": "2022-02-05T17:46:45.431Z"
   },
   {
    "duration": 17,
    "start_time": "2022-02-05T17:48:13.311Z"
   },
   {
    "duration": 15,
    "start_time": "2022-02-05T17:48:13.581Z"
   },
   {
    "duration": 12,
    "start_time": "2022-02-05T17:48:16.787Z"
   },
   {
    "duration": 8,
    "start_time": "2022-02-05T17:52:35.857Z"
   },
   {
    "duration": 5,
    "start_time": "2022-02-05T17:52:48.779Z"
   },
   {
    "duration": 5,
    "start_time": "2022-02-05T17:53:30.215Z"
   },
   {
    "duration": 5,
    "start_time": "2022-02-05T17:53:41.213Z"
   },
   {
    "duration": 3,
    "start_time": "2022-02-05T17:55:00.328Z"
   },
   {
    "duration": 142,
    "start_time": "2022-02-05T17:55:00.333Z"
   },
   {
    "duration": 10,
    "start_time": "2022-02-05T17:55:00.477Z"
   },
   {
    "duration": 31,
    "start_time": "2022-02-05T17:55:00.488Z"
   },
   {
    "duration": 11,
    "start_time": "2022-02-05T17:55:00.520Z"
   },
   {
    "duration": 22,
    "start_time": "2022-02-05T17:55:00.532Z"
   },
   {
    "duration": 3,
    "start_time": "2022-02-05T17:55:00.556Z"
   },
   {
    "duration": 30,
    "start_time": "2022-02-05T17:55:00.561Z"
   },
   {
    "duration": 18,
    "start_time": "2022-02-05T17:55:00.592Z"
   },
   {
    "duration": 22,
    "start_time": "2022-02-05T17:55:00.611Z"
   },
   {
    "duration": 75,
    "start_time": "2022-02-05T17:55:00.634Z"
   },
   {
    "duration": 76,
    "start_time": "2022-02-05T17:55:00.710Z"
   },
   {
    "duration": 20,
    "start_time": "2022-02-05T17:55:00.788Z"
   },
   {
    "duration": 42,
    "start_time": "2022-02-05T17:55:00.809Z"
   },
   {
    "duration": 3,
    "start_time": "2022-02-05T17:55:00.853Z"
   },
   {
    "duration": 20,
    "start_time": "2022-02-05T17:55:00.857Z"
   },
   {
    "duration": 40,
    "start_time": "2022-02-05T17:55:00.879Z"
   },
   {
    "duration": 9,
    "start_time": "2022-02-05T17:55:00.921Z"
   },
   {
    "duration": 10,
    "start_time": "2022-02-05T17:55:00.933Z"
   },
   {
    "duration": 28,
    "start_time": "2022-02-05T17:55:00.944Z"
   },
   {
    "duration": 26,
    "start_time": "2022-02-05T17:55:00.974Z"
   },
   {
    "duration": 14,
    "start_time": "2022-02-05T17:55:01.002Z"
   },
   {
    "duration": 20,
    "start_time": "2022-02-05T17:55:01.018Z"
   },
   {
    "duration": 35,
    "start_time": "2022-02-05T17:55:01.040Z"
   },
   {
    "duration": 18,
    "start_time": "2022-02-05T17:55:01.076Z"
   },
   {
    "duration": 15,
    "start_time": "2022-02-05T17:55:01.095Z"
   },
   {
    "duration": 8,
    "start_time": "2022-02-05T17:55:01.112Z"
   },
   {
    "duration": 26,
    "start_time": "2022-02-05T17:55:01.121Z"
   },
   {
    "duration": 35,
    "start_time": "2022-02-05T17:55:01.149Z"
   },
   {
    "duration": 4,
    "start_time": "2022-02-05T17:55:01.186Z"
   },
   {
    "duration": 34,
    "start_time": "2022-02-05T17:55:01.191Z"
   },
   {
    "duration": 14,
    "start_time": "2022-02-05T17:55:01.226Z"
   },
   {
    "duration": 15,
    "start_time": "2022-02-05T17:55:01.242Z"
   },
   {
    "duration": 23,
    "start_time": "2022-02-05T17:55:01.259Z"
   },
   {
    "duration": 7,
    "start_time": "2022-02-05T17:55:01.284Z"
   },
   {
    "duration": 6,
    "start_time": "2022-02-05T17:55:01.292Z"
   },
   {
    "duration": 11,
    "start_time": "2022-02-05T17:55:01.299Z"
   },
   {
    "duration": 7,
    "start_time": "2022-02-05T17:55:01.312Z"
   },
   {
    "duration": 682,
    "start_time": "2022-02-12T18:34:06.113Z"
   },
   {
    "duration": 301,
    "start_time": "2022-02-12T18:34:06.797Z"
   },
   {
    "duration": 30,
    "start_time": "2022-02-12T18:34:07.101Z"
   },
   {
    "duration": 44,
    "start_time": "2022-02-12T18:34:07.134Z"
   },
   {
    "duration": 31,
    "start_time": "2022-02-12T18:34:07.180Z"
   },
   {
    "duration": 348,
    "start_time": "2022-02-12T18:34:07.213Z"
   },
   {
    "duration": -31,
    "start_time": "2022-02-12T18:34:07.596Z"
   },
   {
    "duration": -32,
    "start_time": "2022-02-12T18:34:07.598Z"
   },
   {
    "duration": -34,
    "start_time": "2022-02-12T18:34:07.601Z"
   },
   {
    "duration": -35,
    "start_time": "2022-02-12T18:34:07.603Z"
   },
   {
    "duration": -37,
    "start_time": "2022-02-12T18:34:07.606Z"
   },
   {
    "duration": -39,
    "start_time": "2022-02-12T18:34:07.609Z"
   },
   {
    "duration": -79,
    "start_time": "2022-02-12T18:34:07.650Z"
   },
   {
    "duration": -80,
    "start_time": "2022-02-12T18:34:07.652Z"
   },
   {
    "duration": -82,
    "start_time": "2022-02-12T18:34:07.655Z"
   },
   {
    "duration": -82,
    "start_time": "2022-02-12T18:34:07.657Z"
   },
   {
    "duration": -85,
    "start_time": "2022-02-12T18:34:07.661Z"
   },
   {
    "duration": -88,
    "start_time": "2022-02-12T18:34:07.665Z"
   },
   {
    "duration": -90,
    "start_time": "2022-02-12T18:34:07.668Z"
   },
   {
    "duration": -92,
    "start_time": "2022-02-12T18:34:07.671Z"
   },
   {
    "duration": -94,
    "start_time": "2022-02-12T18:34:07.674Z"
   },
   {
    "duration": -95,
    "start_time": "2022-02-12T18:34:07.676Z"
   },
   {
    "duration": -96,
    "start_time": "2022-02-12T18:34:07.678Z"
   },
   {
    "duration": -97,
    "start_time": "2022-02-12T18:34:07.680Z"
   },
   {
    "duration": -98,
    "start_time": "2022-02-12T18:34:07.682Z"
   },
   {
    "duration": -97,
    "start_time": "2022-02-12T18:34:07.683Z"
   },
   {
    "duration": -98,
    "start_time": "2022-02-12T18:34:07.685Z"
   },
   {
    "duration": -99,
    "start_time": "2022-02-12T18:34:07.687Z"
   },
   {
    "duration": -101,
    "start_time": "2022-02-12T18:34:07.690Z"
   },
   {
    "duration": -101,
    "start_time": "2022-02-12T18:34:07.691Z"
   },
   {
    "duration": -102,
    "start_time": "2022-02-12T18:34:07.693Z"
   },
   {
    "duration": -103,
    "start_time": "2022-02-12T18:34:07.695Z"
   },
   {
    "duration": -104,
    "start_time": "2022-02-12T18:34:07.697Z"
   },
   {
    "duration": -106,
    "start_time": "2022-02-12T18:34:07.700Z"
   },
   {
    "duration": -107,
    "start_time": "2022-02-12T18:34:07.702Z"
   },
   {
    "duration": -108,
    "start_time": "2022-02-12T18:34:07.704Z"
   },
   {
    "duration": -109,
    "start_time": "2022-02-12T18:34:07.706Z"
   },
   {
    "duration": -110,
    "start_time": "2022-02-12T18:34:07.708Z"
   },
   {
    "duration": 6,
    "start_time": "2022-02-12T18:42:47.092Z"
   },
   {
    "duration": 24,
    "start_time": "2022-02-12T18:43:54.294Z"
   },
   {
    "duration": 6342,
    "start_time": "2022-02-12T18:43:54.320Z"
   },
   {
    "duration": -101,
    "start_time": "2022-02-12T18:44:00.766Z"
   },
   {
    "duration": -102,
    "start_time": "2022-02-12T18:44:00.768Z"
   },
   {
    "duration": -103,
    "start_time": "2022-02-12T18:44:00.770Z"
   },
   {
    "duration": -105,
    "start_time": "2022-02-12T18:44:00.773Z"
   },
   {
    "duration": -107,
    "start_time": "2022-02-12T18:44:00.776Z"
   },
   {
    "duration": -108,
    "start_time": "2022-02-12T18:44:00.778Z"
   },
   {
    "duration": -109,
    "start_time": "2022-02-12T18:44:00.780Z"
   },
   {
    "duration": -110,
    "start_time": "2022-02-12T18:44:00.782Z"
   },
   {
    "duration": -111,
    "start_time": "2022-02-12T18:44:00.784Z"
   },
   {
    "duration": -112,
    "start_time": "2022-02-12T18:44:00.786Z"
   },
   {
    "duration": -113,
    "start_time": "2022-02-12T18:44:00.788Z"
   },
   {
    "duration": -115,
    "start_time": "2022-02-12T18:44:00.791Z"
   },
   {
    "duration": -117,
    "start_time": "2022-02-12T18:44:00.794Z"
   },
   {
    "duration": -126,
    "start_time": "2022-02-12T18:44:00.804Z"
   },
   {
    "duration": -129,
    "start_time": "2022-02-12T18:44:00.808Z"
   },
   {
    "duration": -135,
    "start_time": "2022-02-12T18:44:00.815Z"
   },
   {
    "duration": -136,
    "start_time": "2022-02-12T18:44:00.817Z"
   },
   {
    "duration": -138,
    "start_time": "2022-02-12T18:44:00.820Z"
   },
   {
    "duration": -141,
    "start_time": "2022-02-12T18:44:00.824Z"
   },
   {
    "duration": -151,
    "start_time": "2022-02-12T18:44:00.835Z"
   },
   {
    "duration": -152,
    "start_time": "2022-02-12T18:44:00.837Z"
   },
   {
    "duration": -164,
    "start_time": "2022-02-12T18:44:00.850Z"
   },
   {
    "duration": -167,
    "start_time": "2022-02-12T18:44:00.854Z"
   },
   {
    "duration": -179,
    "start_time": "2022-02-12T18:44:00.867Z"
   },
   {
    "duration": -181,
    "start_time": "2022-02-12T18:44:00.869Z"
   },
   {
    "duration": -186,
    "start_time": "2022-02-12T18:44:00.875Z"
   },
   {
    "duration": -195,
    "start_time": "2022-02-12T18:44:00.885Z"
   },
   {
    "duration": -198,
    "start_time": "2022-02-12T18:44:00.889Z"
   },
   {
    "duration": -207,
    "start_time": "2022-02-12T18:44:00.900Z"
   },
   {
    "duration": 20,
    "start_time": "2022-02-12T18:44:38.452Z"
   },
   {
    "duration": 5,
    "start_time": "2022-02-12T18:44:45.984Z"
   },
   {
    "duration": 27,
    "start_time": "2022-02-12T18:44:45.995Z"
   },
   {
    "duration": 21,
    "start_time": "2022-02-12T18:44:46.024Z"
   },
   {
    "duration": 61,
    "start_time": "2022-02-12T18:44:46.047Z"
   },
   {
    "duration": 69,
    "start_time": "2022-02-12T18:44:46.110Z"
   },
   {
    "duration": 101,
    "start_time": "2022-02-12T18:44:46.180Z"
   },
   {
    "duration": 31,
    "start_time": "2022-02-12T18:44:46.283Z"
   },
   {
    "duration": 49,
    "start_time": "2022-02-12T18:44:46.316Z"
   },
   {
    "duration": 3,
    "start_time": "2022-02-12T18:44:46.367Z"
   },
   {
    "duration": 14,
    "start_time": "2022-02-12T18:44:46.372Z"
   },
   {
    "duration": 57,
    "start_time": "2022-02-12T18:44:46.388Z"
   },
   {
    "duration": 12,
    "start_time": "2022-02-12T18:44:46.447Z"
   },
   {
    "duration": 12,
    "start_time": "2022-02-12T18:44:46.461Z"
   },
   {
    "duration": 33,
    "start_time": "2022-02-12T18:44:46.475Z"
   },
   {
    "duration": 30,
    "start_time": "2022-02-12T18:44:46.510Z"
   },
   {
    "duration": 15,
    "start_time": "2022-02-12T18:44:46.541Z"
   },
   {
    "duration": 18,
    "start_time": "2022-02-12T18:44:46.558Z"
   },
   {
    "duration": 35,
    "start_time": "2022-02-12T18:44:46.579Z"
   },
   {
    "duration": 16,
    "start_time": "2022-02-12T18:44:46.616Z"
   },
   {
    "duration": 16,
    "start_time": "2022-02-12T18:44:46.634Z"
   },
   {
    "duration": 11,
    "start_time": "2022-02-12T18:44:46.652Z"
   },
   {
    "duration": 48,
    "start_time": "2022-02-12T18:44:46.665Z"
   },
   {
    "duration": 22,
    "start_time": "2022-02-12T18:44:46.716Z"
   },
   {
    "duration": 4,
    "start_time": "2022-02-12T18:44:46.740Z"
   },
   {
    "duration": 26,
    "start_time": "2022-02-12T18:44:46.747Z"
   },
   {
    "duration": 43,
    "start_time": "2022-02-12T18:44:46.775Z"
   },
   {
    "duration": 21,
    "start_time": "2022-02-12T18:44:46.819Z"
   },
   {
    "duration": 13,
    "start_time": "2022-02-12T18:44:46.844Z"
   },
   {
    "duration": 11,
    "start_time": "2022-02-12T18:44:46.858Z"
   },
   {
    "duration": 37,
    "start_time": "2022-02-12T18:44:46.871Z"
   },
   {
    "duration": 13,
    "start_time": "2022-02-12T18:44:46.910Z"
   },
   {
    "duration": 5,
    "start_time": "2022-02-12T18:44:46.926Z"
   },
   {
    "duration": 26,
    "start_time": "2022-02-12T18:45:59.312Z"
   },
   {
    "duration": 20,
    "start_time": "2022-02-12T18:46:09.732Z"
   },
   {
    "duration": 25,
    "start_time": "2022-02-12T18:46:10.740Z"
   },
   {
    "duration": 24,
    "start_time": "2022-02-12T18:48:02.643Z"
   },
   {
    "duration": 23,
    "start_time": "2022-02-12T18:48:05.073Z"
   },
   {
    "duration": 59,
    "start_time": "2022-02-12T18:50:20.562Z"
   },
   {
    "duration": 759,
    "start_time": "2022-02-13T11:02:55.779Z"
   },
   {
    "duration": 152,
    "start_time": "2022-02-13T11:02:56.541Z"
   },
   {
    "duration": 26,
    "start_time": "2022-02-13T11:02:56.696Z"
   },
   {
    "duration": 47,
    "start_time": "2022-02-13T11:02:56.725Z"
   },
   {
    "duration": 33,
    "start_time": "2022-02-13T11:02:56.774Z"
   },
   {
    "duration": 391,
    "start_time": "2022-02-13T11:02:56.810Z"
   },
   {
    "duration": -30,
    "start_time": "2022-02-13T11:02:57.235Z"
   },
   {
    "duration": -35,
    "start_time": "2022-02-13T11:02:57.241Z"
   },
   {
    "duration": -37,
    "start_time": "2022-02-13T11:02:57.245Z"
   },
   {
    "duration": -41,
    "start_time": "2022-02-13T11:02:57.250Z"
   },
   {
    "duration": -44,
    "start_time": "2022-02-13T11:02:57.255Z"
   },
   {
    "duration": -46,
    "start_time": "2022-02-13T11:02:57.259Z"
   },
   {
    "duration": -50,
    "start_time": "2022-02-13T11:02:57.264Z"
   },
   {
    "duration": -52,
    "start_time": "2022-02-13T11:02:57.267Z"
   },
   {
    "duration": -55,
    "start_time": "2022-02-13T11:02:57.272Z"
   },
   {
    "duration": -65,
    "start_time": "2022-02-13T11:02:57.283Z"
   },
   {
    "duration": -68,
    "start_time": "2022-02-13T11:02:57.288Z"
   },
   {
    "duration": -71,
    "start_time": "2022-02-13T11:02:57.292Z"
   },
   {
    "duration": -74,
    "start_time": "2022-02-13T11:02:57.297Z"
   },
   {
    "duration": -77,
    "start_time": "2022-02-13T11:02:57.301Z"
   },
   {
    "duration": -81,
    "start_time": "2022-02-13T11:02:57.306Z"
   },
   {
    "duration": -84,
    "start_time": "2022-02-13T11:02:57.310Z"
   },
   {
    "duration": -87,
    "start_time": "2022-02-13T11:02:57.315Z"
   },
   {
    "duration": -91,
    "start_time": "2022-02-13T11:02:57.320Z"
   },
   {
    "duration": -93,
    "start_time": "2022-02-13T11:02:57.324Z"
   },
   {
    "duration": -96,
    "start_time": "2022-02-13T11:02:57.328Z"
   },
   {
    "duration": -99,
    "start_time": "2022-02-13T11:02:57.333Z"
   },
   {
    "duration": -102,
    "start_time": "2022-02-13T11:02:57.337Z"
   },
   {
    "duration": -105,
    "start_time": "2022-02-13T11:02:57.341Z"
   },
   {
    "duration": -107,
    "start_time": "2022-02-13T11:02:57.345Z"
   },
   {
    "duration": -110,
    "start_time": "2022-02-13T11:02:57.350Z"
   },
   {
    "duration": -112,
    "start_time": "2022-02-13T11:02:57.354Z"
   },
   {
    "duration": -114,
    "start_time": "2022-02-13T11:02:57.358Z"
   },
   {
    "duration": -118,
    "start_time": "2022-02-13T11:02:57.363Z"
   },
   {
    "duration": -132,
    "start_time": "2022-02-13T11:02:57.379Z"
   },
   {
    "duration": -134,
    "start_time": "2022-02-13T11:02:57.383Z"
   },
   {
    "duration": -138,
    "start_time": "2022-02-13T11:02:57.388Z"
   },
   {
    "duration": -141,
    "start_time": "2022-02-13T11:02:57.392Z"
   },
   {
    "duration": 3,
    "start_time": "2022-02-13T11:03:28.804Z"
   },
   {
    "duration": 216,
    "start_time": "2022-02-13T11:03:28.809Z"
   },
   {
    "duration": 14,
    "start_time": "2022-02-13T11:03:29.028Z"
   },
   {
    "duration": 51,
    "start_time": "2022-02-13T11:03:29.044Z"
   },
   {
    "duration": 21,
    "start_time": "2022-02-13T11:03:29.098Z"
   },
   {
    "duration": 258,
    "start_time": "2022-02-13T11:03:29.121Z"
   },
   {
    "duration": -27,
    "start_time": "2022-02-13T11:03:29.408Z"
   },
   {
    "duration": -30,
    "start_time": "2022-02-13T11:03:29.413Z"
   },
   {
    "duration": -34,
    "start_time": "2022-02-13T11:03:29.418Z"
   },
   {
    "duration": -53,
    "start_time": "2022-02-13T11:03:29.438Z"
   },
   {
    "duration": -55,
    "start_time": "2022-02-13T11:03:29.442Z"
   },
   {
    "duration": -59,
    "start_time": "2022-02-13T11:03:29.446Z"
   },
   {
    "duration": -69,
    "start_time": "2022-02-13T11:03:29.458Z"
   },
   {
    "duration": -72,
    "start_time": "2022-02-13T11:03:29.462Z"
   },
   {
    "duration": -76,
    "start_time": "2022-02-13T11:03:29.467Z"
   },
   {
    "duration": -80,
    "start_time": "2022-02-13T11:03:29.472Z"
   },
   {
    "duration": -83,
    "start_time": "2022-02-13T11:03:29.476Z"
   },
   {
    "duration": -87,
    "start_time": "2022-02-13T11:03:29.481Z"
   },
   {
    "duration": -90,
    "start_time": "2022-02-13T11:03:29.485Z"
   },
   {
    "duration": -94,
    "start_time": "2022-02-13T11:03:29.490Z"
   },
   {
    "duration": -97,
    "start_time": "2022-02-13T11:03:29.494Z"
   },
   {
    "duration": -101,
    "start_time": "2022-02-13T11:03:29.499Z"
   },
   {
    "duration": -104,
    "start_time": "2022-02-13T11:03:29.503Z"
   },
   {
    "duration": -107,
    "start_time": "2022-02-13T11:03:29.507Z"
   },
   {
    "duration": -110,
    "start_time": "2022-02-13T11:03:29.511Z"
   },
   {
    "duration": -113,
    "start_time": "2022-02-13T11:03:29.515Z"
   },
   {
    "duration": -116,
    "start_time": "2022-02-13T11:03:29.519Z"
   },
   {
    "duration": -119,
    "start_time": "2022-02-13T11:03:29.523Z"
   },
   {
    "duration": -123,
    "start_time": "2022-02-13T11:03:29.528Z"
   },
   {
    "duration": -125,
    "start_time": "2022-02-13T11:03:29.531Z"
   },
   {
    "duration": -129,
    "start_time": "2022-02-13T11:03:29.536Z"
   },
   {
    "duration": -131,
    "start_time": "2022-02-13T11:03:29.539Z"
   },
   {
    "duration": -134,
    "start_time": "2022-02-13T11:03:29.543Z"
   },
   {
    "duration": -137,
    "start_time": "2022-02-13T11:03:29.547Z"
   },
   {
    "duration": -141,
    "start_time": "2022-02-13T11:03:29.552Z"
   },
   {
    "duration": -144,
    "start_time": "2022-02-13T11:03:29.556Z"
   },
   {
    "duration": -158,
    "start_time": "2022-02-13T11:03:29.571Z"
   },
   {
    "duration": -160,
    "start_time": "2022-02-13T11:03:29.575Z"
   },
   {
    "duration": 88,
    "start_time": "2022-02-13T11:09:48.100Z"
   },
   {
    "duration": 79,
    "start_time": "2022-02-13T11:11:17.319Z"
   },
   {
    "duration": 5,
    "start_time": "2022-02-13T11:13:58.079Z"
   },
   {
    "duration": 363,
    "start_time": "2022-02-13T11:14:43.328Z"
   },
   {
    "duration": 37,
    "start_time": "2022-02-13T11:14:51.401Z"
   },
   {
    "duration": 5,
    "start_time": "2022-02-13T11:16:20.607Z"
   },
   {
    "duration": 86,
    "start_time": "2022-02-13T11:17:07.697Z"
   },
   {
    "duration": 26,
    "start_time": "2022-02-13T11:17:50.995Z"
   },
   {
    "duration": 5,
    "start_time": "2022-02-13T11:17:58.283Z"
   },
   {
    "duration": 25,
    "start_time": "2022-02-13T11:18:09.754Z"
   },
   {
    "duration": 18,
    "start_time": "2022-02-13T11:18:14.301Z"
   },
   {
    "duration": 24,
    "start_time": "2022-02-13T11:18:23.066Z"
   },
   {
    "duration": 62,
    "start_time": "2022-02-13T11:19:24.044Z"
   },
   {
    "duration": 593,
    "start_time": "2022-02-13T14:59:45.400Z"
   },
   {
    "duration": 128,
    "start_time": "2022-02-13T14:59:45.995Z"
   },
   {
    "duration": 16,
    "start_time": "2022-02-13T14:59:46.125Z"
   },
   {
    "duration": 24,
    "start_time": "2022-02-13T14:59:46.143Z"
   },
   {
    "duration": 3,
    "start_time": "2022-02-13T14:59:46.169Z"
   },
   {
    "duration": 46,
    "start_time": "2022-02-13T14:59:46.174Z"
   },
   {
    "duration": 3,
    "start_time": "2022-02-13T14:59:46.222Z"
   },
   {
    "duration": 26,
    "start_time": "2022-02-13T14:59:46.228Z"
   },
   {
    "duration": 17,
    "start_time": "2022-02-13T14:59:46.256Z"
   },
   {
    "duration": 44,
    "start_time": "2022-02-13T14:59:46.274Z"
   },
   {
    "duration": 57,
    "start_time": "2022-02-13T14:59:46.319Z"
   },
   {
    "duration": 89,
    "start_time": "2022-02-13T14:59:46.377Z"
   },
   {
    "duration": 19,
    "start_time": "2022-02-13T14:59:46.468Z"
   },
   {
    "duration": 54,
    "start_time": "2022-02-13T14:59:46.489Z"
   },
   {
    "duration": 3,
    "start_time": "2022-02-13T14:59:46.544Z"
   },
   {
    "duration": 9,
    "start_time": "2022-02-13T14:59:46.548Z"
   },
   {
    "duration": 42,
    "start_time": "2022-02-13T14:59:46.558Z"
   },
   {
    "duration": 17,
    "start_time": "2022-02-13T14:59:46.602Z"
   },
   {
    "duration": 9,
    "start_time": "2022-02-13T14:59:46.621Z"
   },
   {
    "duration": 2,
    "start_time": "2022-02-13T14:59:46.632Z"
   },
   {
    "duration": 22,
    "start_time": "2022-02-13T14:59:46.635Z"
   },
   {
    "duration": 12,
    "start_time": "2022-02-13T14:59:46.659Z"
   },
   {
    "duration": 46,
    "start_time": "2022-02-13T14:59:46.674Z"
   },
   {
    "duration": 12,
    "start_time": "2022-02-13T14:59:46.722Z"
   },
   {
    "duration": 15,
    "start_time": "2022-02-13T14:59:46.735Z"
   },
   {
    "duration": 12,
    "start_time": "2022-02-13T14:59:46.752Z"
   },
   {
    "duration": 8,
    "start_time": "2022-02-13T14:59:46.766Z"
   },
   {
    "duration": 46,
    "start_time": "2022-02-13T14:59:46.776Z"
   },
   {
    "duration": 19,
    "start_time": "2022-02-13T14:59:46.824Z"
   },
   {
    "duration": 5,
    "start_time": "2022-02-13T14:59:46.846Z"
   },
   {
    "duration": 23,
    "start_time": "2022-02-13T14:59:46.852Z"
   },
   {
    "duration": 41,
    "start_time": "2022-02-13T14:59:46.877Z"
   },
   {
    "duration": 16,
    "start_time": "2022-02-13T14:59:46.919Z"
   },
   {
    "duration": 12,
    "start_time": "2022-02-13T14:59:46.937Z"
   },
   {
    "duration": 8,
    "start_time": "2022-02-13T14:59:46.950Z"
   },
   {
    "duration": 4,
    "start_time": "2022-02-13T14:59:46.960Z"
   },
   {
    "duration": 7,
    "start_time": "2022-02-13T14:59:46.965Z"
   },
   {
    "duration": 41,
    "start_time": "2022-02-13T14:59:46.973Z"
   }
  ],
  "colab": {
   "collapsed_sections": [
    "E0vqbgi9ay0H",
    "VUC88oWjTJw2"
   ],
   "name": "yandex_music_project_2021.2.ipynb",
   "provenance": []
  },
  "kernelspec": {
   "display_name": "Python 3 (ipykernel)",
   "language": "python",
   "name": "python3"
  },
  "language_info": {
   "codemirror_mode": {
    "name": "ipython",
    "version": 3
   },
   "file_extension": ".py",
   "mimetype": "text/x-python",
   "name": "python",
   "nbconvert_exporter": "python",
   "pygments_lexer": "ipython3",
   "version": "3.9.12"
  },
  "toc": {
   "base_numbering": 1,
   "nav_menu": {},
   "number_sections": true,
   "sideBar": true,
   "skip_h1_title": true,
   "title_cell": "Table of Contents",
   "title_sidebar": "Contents",
   "toc_cell": false,
   "toc_position": {},
   "toc_section_display": true,
   "toc_window_display": true
  }
 },
 "nbformat": 4,
 "nbformat_minor": 4
}
