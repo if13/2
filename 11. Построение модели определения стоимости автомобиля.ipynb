{
 "cells": [
  {
   "cell_type": "markdown",
   "metadata": {},
   "source": [
    "# Определение стоимости автомобилей"
   ]
  },
  {
   "cell_type": "markdown",
   "metadata": {},
   "source": [
    "Сервис по продаже автомобилей с пробегом «Не бит, не крашен» разрабатывает приложение для привлечения новых клиентов. В нём можно быстро узнать рыночную стоимость своего автомобиля. В вашем распоряжении исторические данные: технические характеристики, комплектации и цены автомобилей. Вам нужно построить модель для определения стоимости. \n",
    "\n",
    "Заказчику важны:\n",
    "\n",
    "- качество предсказания;\n",
    "- скорость предсказания;\n",
    "- время обучения."
   ]
  },
  {
   "cell_type": "markdown",
   "metadata": {},
   "source": [
    "Приветствую! Меня зовут Антон. И я совсем не против на \"ты\". Честно говоря, я сам не в восторге от результатов своей работы, не удалось агрегировать код для красивых функций и тп. Работа получилась в \"процедурном\" стиле. Но в целом, результат достигнут.\n",
    "Заранее спасибо за проверку! Также буду благодарен за лайфаки, советы, истории из своего опыта(-это очень интересно!)."
   ]
  },
  {
   "cell_type": "markdown",
   "metadata": {},
   "source": [
    "## Подготовка данных"
   ]
  },
  {
   "cell_type": "code",
   "execution_count": 1,
   "metadata": {},
   "outputs": [],
   "source": [
    "import numpy as np\n",
    "import pandas as pd\n",
    "\n",
    "import seaborn as sns\n",
    "sns.set_theme(style=\"whitegrid\")\n",
    "import matplotlib.pyplot as plt\n",
    "from sklearn.impute import KNNImputer\n",
    "from sklearn.model_selection import train_test_split\n",
    "from sklearn.metrics import mean_squared_error as mse\n",
    "from sklearn.linear_model import LinearRegression\n",
    "from sklearn.ensemble import RandomForestRegressor\n",
    "from sklearn.model_selection import GridSearchCV\n",
    "from sklearn.model_selection import RandomizedSearchCV\n",
    "from catboost import CatBoostRegressor\n",
    "import lightgbm as lgbm\n"
   ]
  },
  {
   "cell_type": "code",
   "execution_count": 2,
   "metadata": {},
   "outputs": [],
   "source": [
    "try:\n",
    "    df = pd.read_csv('/datasets/autos.csv')\n",
    "except:\n",
    "    print('Ошибка чтения файла')"
   ]
  },
  {
   "cell_type": "code",
   "execution_count": 3,
   "metadata": {},
   "outputs": [
    {
     "data": {
      "text/html": [
       "<div>\n",
       "<style scoped>\n",
       "    .dataframe tbody tr th:only-of-type {\n",
       "        vertical-align: middle;\n",
       "    }\n",
       "\n",
       "    .dataframe tbody tr th {\n",
       "        vertical-align: top;\n",
       "    }\n",
       "\n",
       "    .dataframe thead th {\n",
       "        text-align: right;\n",
       "    }\n",
       "</style>\n",
       "<table border=\"1\" class=\"dataframe\">\n",
       "  <thead>\n",
       "    <tr style=\"text-align: right;\">\n",
       "      <th></th>\n",
       "      <th>DateCrawled</th>\n",
       "      <th>Price</th>\n",
       "      <th>VehicleType</th>\n",
       "      <th>RegistrationYear</th>\n",
       "      <th>Gearbox</th>\n",
       "      <th>Power</th>\n",
       "      <th>Model</th>\n",
       "      <th>Kilometer</th>\n",
       "      <th>RegistrationMonth</th>\n",
       "      <th>FuelType</th>\n",
       "      <th>Brand</th>\n",
       "      <th>NotRepaired</th>\n",
       "      <th>DateCreated</th>\n",
       "      <th>NumberOfPictures</th>\n",
       "      <th>PostalCode</th>\n",
       "      <th>LastSeen</th>\n",
       "    </tr>\n",
       "  </thead>\n",
       "  <tbody>\n",
       "    <tr>\n",
       "      <th>323743</th>\n",
       "      <td>2016-03-05 20:59:19</td>\n",
       "      <td>1600</td>\n",
       "      <td>wagon</td>\n",
       "      <td>1996</td>\n",
       "      <td>manual</td>\n",
       "      <td>39</td>\n",
       "      <td>other</td>\n",
       "      <td>60000</td>\n",
       "      <td>11</td>\n",
       "      <td>petrol</td>\n",
       "      <td>trabant</td>\n",
       "      <td>no</td>\n",
       "      <td>2016-03-05 00:00:00</td>\n",
       "      <td>0</td>\n",
       "      <td>96181</td>\n",
       "      <td>2016-03-21 04:17:54</td>\n",
       "    </tr>\n",
       "    <tr>\n",
       "      <th>210966</th>\n",
       "      <td>2016-03-13 10:41:22</td>\n",
       "      <td>14999</td>\n",
       "      <td>NaN</td>\n",
       "      <td>2005</td>\n",
       "      <td>NaN</td>\n",
       "      <td>220</td>\n",
       "      <td>c_klasse</td>\n",
       "      <td>150000</td>\n",
       "      <td>2</td>\n",
       "      <td>NaN</td>\n",
       "      <td>mercedes_benz</td>\n",
       "      <td>NaN</td>\n",
       "      <td>2016-03-13 00:00:00</td>\n",
       "      <td>0</td>\n",
       "      <td>42327</td>\n",
       "      <td>2016-03-13 10:41:22</td>\n",
       "    </tr>\n",
       "    <tr>\n",
       "      <th>148373</th>\n",
       "      <td>2016-03-12 23:55:29</td>\n",
       "      <td>9999</td>\n",
       "      <td>coupe</td>\n",
       "      <td>1973</td>\n",
       "      <td>manual</td>\n",
       "      <td>50</td>\n",
       "      <td>kaefer</td>\n",
       "      <td>150000</td>\n",
       "      <td>10</td>\n",
       "      <td>petrol</td>\n",
       "      <td>volkswagen</td>\n",
       "      <td>NaN</td>\n",
       "      <td>2016-03-12 00:00:00</td>\n",
       "      <td>0</td>\n",
       "      <td>59494</td>\n",
       "      <td>2016-03-13 03:51:57</td>\n",
       "    </tr>\n",
       "    <tr>\n",
       "      <th>284325</th>\n",
       "      <td>2016-03-11 09:25:18</td>\n",
       "      <td>6999</td>\n",
       "      <td>small</td>\n",
       "      <td>2012</td>\n",
       "      <td>manual</td>\n",
       "      <td>69</td>\n",
       "      <td>corsa</td>\n",
       "      <td>50000</td>\n",
       "      <td>12</td>\n",
       "      <td>petrol</td>\n",
       "      <td>opel</td>\n",
       "      <td>no</td>\n",
       "      <td>2016-03-11 00:00:00</td>\n",
       "      <td>0</td>\n",
       "      <td>55124</td>\n",
       "      <td>2016-03-12 21:10:52</td>\n",
       "    </tr>\n",
       "    <tr>\n",
       "      <th>223983</th>\n",
       "      <td>2016-04-01 00:52:25</td>\n",
       "      <td>10850</td>\n",
       "      <td>wagon</td>\n",
       "      <td>2010</td>\n",
       "      <td>manual</td>\n",
       "      <td>140</td>\n",
       "      <td>passat</td>\n",
       "      <td>150000</td>\n",
       "      <td>11</td>\n",
       "      <td>gasoline</td>\n",
       "      <td>volkswagen</td>\n",
       "      <td>no</td>\n",
       "      <td>2016-03-31 00:00:00</td>\n",
       "      <td>0</td>\n",
       "      <td>66882</td>\n",
       "      <td>2016-04-05 01:18:15</td>\n",
       "    </tr>\n",
       "  </tbody>\n",
       "</table>\n",
       "</div>"
      ],
      "text/plain": [
       "                DateCrawled  Price VehicleType  RegistrationYear Gearbox  \\\n",
       "323743  2016-03-05 20:59:19   1600       wagon              1996  manual   \n",
       "210966  2016-03-13 10:41:22  14999         NaN              2005     NaN   \n",
       "148373  2016-03-12 23:55:29   9999       coupe              1973  manual   \n",
       "284325  2016-03-11 09:25:18   6999       small              2012  manual   \n",
       "223983  2016-04-01 00:52:25  10850       wagon              2010  manual   \n",
       "\n",
       "        Power     Model  Kilometer  RegistrationMonth  FuelType  \\\n",
       "323743     39     other      60000                 11    petrol   \n",
       "210966    220  c_klasse     150000                  2       NaN   \n",
       "148373     50    kaefer     150000                 10    petrol   \n",
       "284325     69     corsa      50000                 12    petrol   \n",
       "223983    140    passat     150000                 11  gasoline   \n",
       "\n",
       "                Brand NotRepaired          DateCreated  NumberOfPictures  \\\n",
       "323743        trabant          no  2016-03-05 00:00:00                 0   \n",
       "210966  mercedes_benz         NaN  2016-03-13 00:00:00                 0   \n",
       "148373     volkswagen         NaN  2016-03-12 00:00:00                 0   \n",
       "284325           opel          no  2016-03-11 00:00:00                 0   \n",
       "223983     volkswagen          no  2016-03-31 00:00:00                 0   \n",
       "\n",
       "        PostalCode             LastSeen  \n",
       "323743       96181  2016-03-21 04:17:54  \n",
       "210966       42327  2016-03-13 10:41:22  \n",
       "148373       59494  2016-03-13 03:51:57  \n",
       "284325       55124  2016-03-12 21:10:52  \n",
       "223983       66882  2016-04-05 01:18:15  "
      ]
     },
     "execution_count": 3,
     "metadata": {},
     "output_type": "execute_result"
    }
   ],
   "source": [
    "df.sample(5)"
   ]
  },
  {
   "cell_type": "code",
   "execution_count": 4,
   "metadata": {},
   "outputs": [
    {
     "data": {
      "text/plain": [
       "Timestamp('2016-04-07 14:36:58')"
      ]
     },
     "execution_count": 4,
     "metadata": {},
     "output_type": "execute_result"
    }
   ],
   "source": [
    "#глянем на правую границу дат размещения \n",
    "pd.to_datetime(df['DateCrawled']).max()\n"
   ]
  },
  {
   "cell_type": "markdown",
   "metadata": {},
   "source": [
    "Удалим несущественные признаки."
   ]
  },
  {
   "cell_type": "code",
   "execution_count": 5,
   "metadata": {},
   "outputs": [],
   "source": [
    "#df = df.drop(columns=['DateCrawled', 'RegistrationMonth', 'DateCreated', 'NumberOfPictures', 'LastSeen'])\n",
    "unused_cols =  ['DateCrawled', 'RegistrationMonth', 'DateCreated', \n",
    "                 'NumberOfPictures', 'PostalCode', 'LastSeen']\n",
    "df = df.drop(columns = unused_cols)"
   ]
  },
  {
   "cell_type": "code",
   "execution_count": 6,
   "metadata": {},
   "outputs": [
    {
     "name": "stdout",
     "output_type": "stream",
     "text": [
      "<class 'pandas.core.frame.DataFrame'>\n",
      "RangeIndex: 354369 entries, 0 to 354368\n",
      "Data columns (total 10 columns):\n",
      " #   Column            Non-Null Count   Dtype \n",
      "---  ------            --------------   ----- \n",
      " 0   Price             354369 non-null  int64 \n",
      " 1   VehicleType       316879 non-null  object\n",
      " 2   RegistrationYear  354369 non-null  int64 \n",
      " 3   Gearbox           334536 non-null  object\n",
      " 4   Power             354369 non-null  int64 \n",
      " 5   Model             334664 non-null  object\n",
      " 6   Kilometer         354369 non-null  int64 \n",
      " 7   FuelType          321474 non-null  object\n",
      " 8   Brand             354369 non-null  object\n",
      " 9   NotRepaired       283215 non-null  object\n",
      "dtypes: int64(4), object(6)\n",
      "memory usage: 27.0+ MB\n"
     ]
    }
   ],
   "source": [
    "df.info()"
   ]
  },
  {
   "cell_type": "code",
   "execution_count": 7,
   "metadata": {},
   "outputs": [
    {
     "data": {
      "text/plain": [
       "NotRepaired         71154\n",
       "VehicleType         37490\n",
       "FuelType            32895\n",
       "Gearbox             19833\n",
       "Model               19705\n",
       "Price                   0\n",
       "RegistrationYear        0\n",
       "dtype: int64"
      ]
     },
     "execution_count": 7,
     "metadata": {},
     "output_type": "execute_result"
    }
   ],
   "source": [
    "df.isna().sum().sort_values(ascending = False).head(7)"
   ]
  },
  {
   "cell_type": "markdown",
   "metadata": {},
   "source": [
    "В данных присутствуют как числовые так и строковые/категориальные данные. С последними будет отдельный разговор ниже :). Также имеем пропуски данных."
   ]
  },
  {
   "cell_type": "code",
   "execution_count": 8,
   "metadata": {},
   "outputs": [
    {
     "data": {
      "text/html": [
       "<div>\n",
       "<style scoped>\n",
       "    .dataframe tbody tr th:only-of-type {\n",
       "        vertical-align: middle;\n",
       "    }\n",
       "\n",
       "    .dataframe tbody tr th {\n",
       "        vertical-align: top;\n",
       "    }\n",
       "\n",
       "    .dataframe thead th {\n",
       "        text-align: right;\n",
       "    }\n",
       "</style>\n",
       "<table border=\"1\" class=\"dataframe\">\n",
       "  <thead>\n",
       "    <tr style=\"text-align: right;\">\n",
       "      <th></th>\n",
       "      <th>Price</th>\n",
       "      <th>RegistrationYear</th>\n",
       "      <th>Power</th>\n",
       "      <th>Kilometer</th>\n",
       "    </tr>\n",
       "  </thead>\n",
       "  <tbody>\n",
       "    <tr>\n",
       "      <th>count</th>\n",
       "      <td>354369.000000</td>\n",
       "      <td>354369.000000</td>\n",
       "      <td>354369.000000</td>\n",
       "      <td>354369.000000</td>\n",
       "    </tr>\n",
       "    <tr>\n",
       "      <th>mean</th>\n",
       "      <td>4416.656776</td>\n",
       "      <td>2004.234448</td>\n",
       "      <td>110.094337</td>\n",
       "      <td>128211.172535</td>\n",
       "    </tr>\n",
       "    <tr>\n",
       "      <th>std</th>\n",
       "      <td>4514.158514</td>\n",
       "      <td>90.227958</td>\n",
       "      <td>189.850405</td>\n",
       "      <td>37905.341530</td>\n",
       "    </tr>\n",
       "    <tr>\n",
       "      <th>min</th>\n",
       "      <td>0.000000</td>\n",
       "      <td>1000.000000</td>\n",
       "      <td>0.000000</td>\n",
       "      <td>5000.000000</td>\n",
       "    </tr>\n",
       "    <tr>\n",
       "      <th>25%</th>\n",
       "      <td>1050.000000</td>\n",
       "      <td>1999.000000</td>\n",
       "      <td>69.000000</td>\n",
       "      <td>125000.000000</td>\n",
       "    </tr>\n",
       "    <tr>\n",
       "      <th>50%</th>\n",
       "      <td>2700.000000</td>\n",
       "      <td>2003.000000</td>\n",
       "      <td>105.000000</td>\n",
       "      <td>150000.000000</td>\n",
       "    </tr>\n",
       "    <tr>\n",
       "      <th>75%</th>\n",
       "      <td>6400.000000</td>\n",
       "      <td>2008.000000</td>\n",
       "      <td>143.000000</td>\n",
       "      <td>150000.000000</td>\n",
       "    </tr>\n",
       "    <tr>\n",
       "      <th>max</th>\n",
       "      <td>20000.000000</td>\n",
       "      <td>9999.000000</td>\n",
       "      <td>20000.000000</td>\n",
       "      <td>150000.000000</td>\n",
       "    </tr>\n",
       "  </tbody>\n",
       "</table>\n",
       "</div>"
      ],
      "text/plain": [
       "               Price  RegistrationYear          Power      Kilometer\n",
       "count  354369.000000     354369.000000  354369.000000  354369.000000\n",
       "mean     4416.656776       2004.234448     110.094337  128211.172535\n",
       "std      4514.158514         90.227958     189.850405   37905.341530\n",
       "min         0.000000       1000.000000       0.000000    5000.000000\n",
       "25%      1050.000000       1999.000000      69.000000  125000.000000\n",
       "50%      2700.000000       2003.000000     105.000000  150000.000000\n",
       "75%      6400.000000       2008.000000     143.000000  150000.000000\n",
       "max     20000.000000       9999.000000   20000.000000  150000.000000"
      ]
     },
     "execution_count": 8,
     "metadata": {},
     "output_type": "execute_result"
    }
   ],
   "source": [
    "df.describe()"
   ]
  },
  {
   "cell_type": "markdown",
   "metadata": {},
   "source": [
    "Видны явные аномалии в следующих признаках : RegistrationYear, Power, RegistrationMonth, Price.\n",
    "(Стоит заметить, что и без обработки аномальных значений модели выдают значение rmse ниже 2500)"
   ]
  },
  {
   "cell_type": "code",
   "execution_count": 9,
   "metadata": {},
   "outputs": [],
   "source": [
    "anomal_cols = ['RegistrationYear', 'Power', 'Price']"
   ]
  },
  {
   "cell_type": "markdown",
   "metadata": {},
   "source": [
    "Построим графики распределения аномальных признаков."
   ]
  },
  {
   "cell_type": "code",
   "execution_count": 10,
   "metadata": {},
   "outputs": [],
   "source": [
    "def get_boxplot_gr(anomal_cols):\n",
    "    for anomal_col in anomal_cols:\n",
    "        print('Распределение:', anomal_col)\n",
    "        sns.boxplot(data = df[anomal_col])\n",
    "        plt.show()"
   ]
  },
  {
   "cell_type": "code",
   "execution_count": 11,
   "metadata": {},
   "outputs": [
    {
     "name": "stdout",
     "output_type": "stream",
     "text": [
      "Распределение: RegistrationYear\n"
     ]
    },
    {
     "data": {
      "image/png": "[encoded data removed]",
      "text/plain": [
       "<Figure size 432x288 with 1 Axes>"
      ]
     },
     "metadata": {},
     "output_type": "display_data"
    },
    {
     "name": "stdout",
     "output_type": "stream",
     "text": [
      "Распределение: Power\n"
     ]
    },
    {
     "data": {
      "image/png": "[encoded data removed]",
      "text/plain": [
       "<Figure size 432x288 with 1 Axes>"
      ]
     },
     "metadata": {},
     "output_type": "display_data"
    },
    {
     "name": "stdout",
     "output_type": "stream",
     "text": [
      "Распределение: Price\n"
     ]
    },
    {
     "data": {
      "image/png": "[encoded data removed]",
      "text/plain": [
       "<Figure size 432x288 with 1 Axes>"
      ]
     },
     "metadata": {},
     "output_type": "display_data"
    }
   ],
   "source": [
    "get_boxplot_gr(anomal_cols)"
   ]
  },
  {
   "cell_type": "markdown",
   "metadata": {},
   "source": [
    "Посмотрим на пропуски"
   ]
  },
  {
   "cell_type": "code",
   "execution_count": 12,
   "metadata": {},
   "outputs": [
    {
     "data": {
      "text/plain": [
       "NotRepaired    71154\n",
       "VehicleType    37490\n",
       "FuelType       32895\n",
       "Gearbox        19833\n",
       "Model          19705\n",
       "Price              0\n",
       "dtype: int64"
      ]
     },
     "execution_count": 12,
     "metadata": {},
     "output_type": "execute_result"
    }
   ],
   "source": [
    "df.isna().sum().sort_values(ascending = False).head(6)"
   ]
  },
  {
   "cell_type": "markdown",
   "metadata": {},
   "source": [
    "(Если забежать вперед, то ниже будет видно, что важность признаков FuelType, NotRepaired, Gearbox, VehicleType  менее 5%.\n",
    " Следовательно, пропуски в данных признаках логично заполнить, не боясь сильно исказить скрытые данные и предсказательную способность модели)\n",
    " Удалим аномальные значения:"
   ]
  },
  {
   "cell_type": "code",
   "execution_count": 13,
   "metadata": {},
   "outputs": [],
   "source": [
    "df.loc[(df['Power']<20) | (df['Power']>1000), 'Power'] = np.nan # отсекаем аномальные мощности двигателя.\n",
    "df.loc[(df['RegistrationYear']>=2016) | (df['RegistrationYear']<=1900), 'RegistrationYear'] = np.nan # отсекаем аномальные года"
   ]
  },
  {
   "cell_type": "code",
   "execution_count": 14,
   "metadata": {},
   "outputs": [
    {
     "data": {
      "text/plain": [
       "(13314, 10)"
      ]
     },
     "execution_count": 14,
     "metadata": {},
     "output_type": "execute_result"
    }
   ],
   "source": [
    "df.query(\"Price<100\").shape"
   ]
  },
  {
   "cell_type": "code",
   "execution_count": 15,
   "metadata": {},
   "outputs": [],
   "source": [
    "df.loc[(df['Price']<100), 'Price'] = np.nan # уберем аномальные цены слева"
   ]
  },
  {
   "cell_type": "code",
   "execution_count": 16,
   "metadata": {},
   "outputs": [
    {
     "data": {
      "text/plain": [
       "no     247161\n",
       "yes     36054\n",
       "Name: NotRepaired, dtype: int64"
      ]
     },
     "execution_count": 16,
     "metadata": {},
     "output_type": "execute_result"
    }
   ],
   "source": [
    "df['NotRepaired'].value_counts()"
   ]
  },
  {
   "cell_type": "code",
   "execution_count": 17,
   "metadata": {},
   "outputs": [],
   "source": [
    "df['NotRepaired'].fillna('no', inplace=True)"
   ]
  },
  {
   "cell_type": "code",
   "execution_count": 18,
   "metadata": {},
   "outputs": [],
   "source": [
    "#df['NotRepaired'] = np.where(df.Gearbox == 'yes' , 1, 0) # переведем признак в номинальный (бинарный)"
   ]
  },
  {
   "cell_type": "code",
   "execution_count": 19,
   "metadata": {},
   "outputs": [
    {
     "data": {
      "text/plain": [
       "sedan          91457\n",
       "small          79831\n",
       "wagon          65166\n",
       "bus            28775\n",
       "convertible    20203\n",
       "coupe          16163\n",
       "suv            11996\n",
       "other           3288\n",
       "Name: VehicleType, dtype: int64"
      ]
     },
     "execution_count": 19,
     "metadata": {},
     "output_type": "execute_result"
    }
   ],
   "source": [
    "df['VehicleType'].value_counts()"
   ]
  },
  {
   "cell_type": "markdown",
   "metadata": {},
   "source": [
    "Признаки, которые имеют значительное количество категорий или не имеют явное преобладание одного из значений, заполним значением 'unknown'"
   ]
  },
  {
   "cell_type": "code",
   "execution_count": 20,
   "metadata": {},
   "outputs": [],
   "source": [
    "df['VehicleType'].fillna('unknown', inplace=True)"
   ]
  },
  {
   "cell_type": "code",
   "execution_count": 21,
   "metadata": {},
   "outputs": [
    {
     "data": {
      "text/plain": [
       "petrol      216352\n",
       "gasoline     98720\n",
       "lpg           5310\n",
       "cng            565\n",
       "hybrid         233\n",
       "other          204\n",
       "electric        90\n",
       "Name: FuelType, dtype: int64"
      ]
     },
     "execution_count": 21,
     "metadata": {},
     "output_type": "execute_result"
    }
   ],
   "source": [
    "df['FuelType'].value_counts()"
   ]
  },
  {
   "cell_type": "code",
   "execution_count": 22,
   "metadata": {},
   "outputs": [],
   "source": [
    "df['FuelType'].fillna('unknown', inplace=True)"
   ]
  },
  {
   "cell_type": "code",
   "execution_count": 23,
   "metadata": {},
   "outputs": [
    {
     "data": {
      "text/plain": [
       "manual    268251\n",
       "auto       66285\n",
       "Name: Gearbox, dtype: int64"
      ]
     },
     "execution_count": 23,
     "metadata": {},
     "output_type": "execute_result"
    }
   ],
   "source": [
    "df['Gearbox'].value_counts()"
   ]
  },
  {
   "cell_type": "code",
   "execution_count": 49,
   "metadata": {},
   "outputs": [],
   "source": [
    "df['Gearbox'].fillna('unknown', inplace=True) # заполним пропуски другим значением\n",
    "#df['Gearbox'] = np.where(df.Gearbox == 'manual' , 1, 0) # переведем признак в номинальный (бинарный) # "
   ]
  },
  {
   "cell_type": "markdown",
   "metadata": {},
   "source": [
    "В результате пробного обучения, модели показали чуть худшие показатели, когда категориальные признаки преобразуем в номинальные.В результате было решено категориальные признаки не трогать."
   ]
  },
  {
   "cell_type": "code",
   "execution_count": 25,
   "metadata": {},
   "outputs": [
    {
     "data": {
      "text/plain": [
       "Power               40944\n",
       "RegistrationYear    24195\n",
       "Model               19705\n",
       "Price               13314\n",
       "VehicleType             0\n",
       "Gearbox                 0\n",
       "Kilometer               0\n",
       "FuelType                0\n",
       "Brand                   0\n",
       "NotRepaired             0\n",
       "dtype: int64"
      ]
     },
     "execution_count": 25,
     "metadata": {},
     "output_type": "execute_result"
    }
   ],
   "source": [
    "df.isna().sum().sort_values(ascending = False)"
   ]
  },
  {
   "cell_type": "markdown",
   "metadata": {},
   "source": [
    "Оставшиеся признака с пропусками явлюятся весомыми для моделей, поэтому, чтобы не вносить искажения в данные, удалим их."
   ]
  },
  {
   "cell_type": "code",
   "execution_count": null,
   "metadata": {},
   "outputs": [],
   "source": [
    "df = df.dropna()"
   ]
  },
  {
   "cell_type": "code",
   "execution_count": 27,
   "metadata": {},
   "outputs": [
    {
     "data": {
      "text/plain": [
       "(278673, 10)"
      ]
     },
     "execution_count": 27,
     "metadata": {},
     "output_type": "execute_result"
    }
   ],
   "source": [
    "df.shape"
   ]
  },
  {
   "cell_type": "code",
   "execution_count": 28,
   "metadata": {},
   "outputs": [],
   "source": [
    "df = df.astype({\"VehicleType\":  'category',\n",
    "                \"Model\":'category',\n",
    "                \"FuelType\":'category',\n",
    "                \"Brand\":'category',\n",
    "                \"NotRepaired\":'category',\n",
    "                \"Gearbox\":'category',\n",
    "                #\"PostalCode\":'category'})\n",
    "                })\n"
   ]
  },
  {
   "cell_type": "code",
   "execution_count": 29,
   "metadata": {},
   "outputs": [
    {
     "data": {
      "text/plain": [
       "Index(['Price', 'RegistrationYear', 'Power', 'Kilometer'], dtype='object')"
      ]
     },
     "execution_count": 29,
     "metadata": {},
     "output_type": "execute_result"
    }
   ],
   "source": [
    "num_cols = df._get_numeric_data().columns\n",
    "cat_col = list(df.select_dtypes(include=['category']).dtypes.index.values)\n",
    "num_cols\n"
   ]
  },
  {
   "cell_type": "markdown",
   "metadata": {},
   "source": [
    "## Обучение моделей"
   ]
  },
  {
   "cell_type": "markdown",
   "metadata": {},
   "source": [
    "<b>Обучим модели catboost, lightbgm, RandomForestRegressor, LinearRegressor."
   ]
  },
  {
   "cell_type": "markdown",
   "metadata": {},
   "source": [
    "Разделяем выборку:"
   ]
  },
  {
   "cell_type": "code",
   "execution_count": 31,
   "metadata": {},
   "outputs": [],
   "source": [
    "X = df.drop(columns=['Price'])\n",
    "y = df['Price']\n",
    "X_train, X_test, y_train, y_test = train_test_split(X, y, test_size=0.2, random_state=123)\n",
    "df.query(\"Price==0\")\n",
    "df = df.drop(index=df.query(\"Price==0\").index)\n",
    "df = df.drop(index=df.query(\"Power==0\").index)"
   ]
  },
  {
   "cell_type": "code",
   "execution_count": 32,
   "metadata": {},
   "outputs": [
    {
     "data": {
      "text/html": [
       "<div>\n",
       "<style scoped>\n",
       "    .dataframe tbody tr th:only-of-type {\n",
       "        vertical-align: middle;\n",
       "    }\n",
       "\n",
       "    .dataframe tbody tr th {\n",
       "        vertical-align: top;\n",
       "    }\n",
       "\n",
       "    .dataframe thead th {\n",
       "        text-align: right;\n",
       "    }\n",
       "</style>\n",
       "<table border=\"1\" class=\"dataframe\">\n",
       "  <thead>\n",
       "    <tr style=\"text-align: right;\">\n",
       "      <th></th>\n",
       "      <th>VehicleType</th>\n",
       "      <th>RegistrationYear</th>\n",
       "      <th>Gearbox</th>\n",
       "      <th>Power</th>\n",
       "      <th>Model</th>\n",
       "      <th>Kilometer</th>\n",
       "      <th>FuelType</th>\n",
       "      <th>Brand</th>\n",
       "      <th>NotRepaired</th>\n",
       "    </tr>\n",
       "  </thead>\n",
       "  <tbody>\n",
       "    <tr>\n",
       "      <th>54594</th>\n",
       "      <td>suv</td>\n",
       "      <td>2003.0</td>\n",
       "      <td>manual</td>\n",
       "      <td>140.0</td>\n",
       "      <td>x_trail</td>\n",
       "      <td>150000</td>\n",
       "      <td>petrol</td>\n",
       "      <td>nissan</td>\n",
       "      <td>no</td>\n",
       "    </tr>\n",
       "    <tr>\n",
       "      <th>5542</th>\n",
       "      <td>bus</td>\n",
       "      <td>2004.0</td>\n",
       "      <td>manual</td>\n",
       "      <td>101.0</td>\n",
       "      <td>transit</td>\n",
       "      <td>150000</td>\n",
       "      <td>gasoline</td>\n",
       "      <td>ford</td>\n",
       "      <td>no</td>\n",
       "    </tr>\n",
       "    <tr>\n",
       "      <th>26900</th>\n",
       "      <td>bus</td>\n",
       "      <td>2000.0</td>\n",
       "      <td>manual</td>\n",
       "      <td>116.0</td>\n",
       "      <td>sharan</td>\n",
       "      <td>150000</td>\n",
       "      <td>gasoline</td>\n",
       "      <td>volkswagen</td>\n",
       "      <td>yes</td>\n",
       "    </tr>\n",
       "    <tr>\n",
       "      <th>30145</th>\n",
       "      <td>sedan</td>\n",
       "      <td>1996.0</td>\n",
       "      <td>manual</td>\n",
       "      <td>95.0</td>\n",
       "      <td>c_klasse</td>\n",
       "      <td>150000</td>\n",
       "      <td>gasoline</td>\n",
       "      <td>mercedes_benz</td>\n",
       "      <td>no</td>\n",
       "    </tr>\n",
       "    <tr>\n",
       "      <th>159661</th>\n",
       "      <td>sedan</td>\n",
       "      <td>2002.0</td>\n",
       "      <td>manual</td>\n",
       "      <td>124.0</td>\n",
       "      <td>vectra</td>\n",
       "      <td>40000</td>\n",
       "      <td>unknown</td>\n",
       "      <td>opel</td>\n",
       "      <td>no</td>\n",
       "    </tr>\n",
       "  </tbody>\n",
       "</table>\n",
       "</div>"
      ],
      "text/plain": [
       "       VehicleType  RegistrationYear Gearbox  Power     Model  Kilometer  \\\n",
       "54594          suv            2003.0  manual  140.0   x_trail     150000   \n",
       "5542           bus            2004.0  manual  101.0   transit     150000   \n",
       "26900          bus            2000.0  manual  116.0    sharan     150000   \n",
       "30145        sedan            1996.0  manual   95.0  c_klasse     150000   \n",
       "159661       sedan            2002.0  manual  124.0    vectra      40000   \n",
       "\n",
       "        FuelType          Brand NotRepaired  \n",
       "54594     petrol         nissan          no  \n",
       "5542    gasoline           ford          no  \n",
       "26900   gasoline     volkswagen         yes  \n",
       "30145   gasoline  mercedes_benz          no  \n",
       "159661   unknown           opel          no  "
      ]
     },
     "execution_count": 32,
     "metadata": {},
     "output_type": "execute_result"
    }
   ],
   "source": [
    "X_train.head()"
   ]
  },
  {
   "cell_type": "code",
   "execution_count": 33,
   "metadata": {},
   "outputs": [
    {
     "data": {
      "application/vnd.jupyter.widget-view+json": {
       "model_id": "89174799a7d9419dad694db34412e4f2",
       "version_major": 2,
       "version_minor": 0
      },
      "text/plain": [
       "MetricVisualizer(layout=Layout(align_self='stretch', height='500px'))"
      ]
     },
     "metadata": {},
     "output_type": "display_data"
    },
    {
     "name": "stdout",
     "output_type": "stream",
     "text": [
      "0:\tlearn: 5046.3149799\ttest: 5018.7230479\tbest: 5018.7230479 (0)\ttotal: 184ms\tremaining: 18.2s\n",
      "1:\tlearn: 3876.9810109\ttest: 3858.3088198\tbest: 3858.3088198 (1)\ttotal: 326ms\tremaining: 15.9s\n",
      "2:\tlearn: 3141.0011355\ttest: 3132.9514005\tbest: 3132.9514005 (2)\ttotal: 441ms\tremaining: 14.3s\n",
      "3:\tlearn: 2667.0778065\ttest: 2669.9379961\tbest: 2669.9379961 (3)\ttotal: 577ms\tremaining: 13.9s\n",
      "4:\tlearn: 2378.9029759\ttest: 2390.1149536\tbest: 2390.1149536 (4)\ttotal: 728ms\tremaining: 13.8s\n",
      "5:\tlearn: 2160.3988988\ttest: 2174.9011576\tbest: 2174.9011576 (5)\ttotal: 869ms\tremaining: 13.6s\n",
      "6:\tlearn: 2026.8822988\ttest: 2043.5265941\tbest: 2043.5265941 (6)\ttotal: 1.01s\tremaining: 13.5s\n",
      "7:\tlearn: 1926.9156533\ttest: 1946.5314456\tbest: 1946.5314456 (7)\ttotal: 1.12s\tremaining: 12.9s\n",
      "8:\tlearn: 1864.5650831\ttest: 1886.5990274\tbest: 1886.5990274 (8)\ttotal: 1.24s\tremaining: 12.5s\n",
      "9:\tlearn: 1824.7117877\ttest: 1849.5391397\tbest: 1849.5391397 (9)\ttotal: 1.35s\tremaining: 12.1s\n",
      "10:\tlearn: 1799.4700668\ttest: 1827.6379999\tbest: 1827.6379999 (10)\ttotal: 1.46s\tremaining: 11.8s\n",
      "11:\tlearn: 1773.2472628\ttest: 1798.5596550\tbest: 1798.5596550 (11)\ttotal: 1.58s\tremaining: 11.6s\n",
      "12:\tlearn: 1756.8427721\ttest: 1784.6960991\tbest: 1784.6960991 (12)\ttotal: 1.7s\tremaining: 11.4s\n",
      "13:\tlearn: 1734.9344594\ttest: 1762.6257573\tbest: 1762.6257573 (13)\ttotal: 1.81s\tremaining: 11.1s\n",
      "14:\tlearn: 1720.8479592\ttest: 1750.5488604\tbest: 1750.5488604 (14)\ttotal: 1.93s\tremaining: 10.9s\n",
      "15:\tlearn: 1707.7235902\ttest: 1739.5875245\tbest: 1739.5875245 (15)\ttotal: 2.06s\tremaining: 10.8s\n",
      "16:\tlearn: 1692.3753372\ttest: 1729.5224609\tbest: 1729.5224609 (16)\ttotal: 2.17s\tremaining: 10.6s\n",
      "17:\tlearn: 1684.4980401\ttest: 1722.7786413\tbest: 1722.7786413 (17)\ttotal: 2.28s\tremaining: 10.4s\n",
      "18:\tlearn: 1677.8546291\ttest: 1716.8348612\tbest: 1716.8348612 (18)\ttotal: 2.39s\tremaining: 10.2s\n",
      "19:\tlearn: 1670.9220100\ttest: 1711.4828830\tbest: 1711.4828830 (19)\ttotal: 2.5s\tremaining: 10s\n",
      "20:\tlearn: 1665.5528325\ttest: 1706.1696313\tbest: 1706.1696313 (20)\ttotal: 2.62s\tremaining: 9.87s\n",
      "21:\tlearn: 1656.8852365\ttest: 1699.1005169\tbest: 1699.1005169 (21)\ttotal: 2.73s\tremaining: 9.69s\n",
      "22:\tlearn: 1651.8174674\ttest: 1695.1690804\tbest: 1695.1690804 (22)\ttotal: 2.84s\tremaining: 9.51s\n",
      "23:\tlearn: 1648.4643799\ttest: 1691.9788958\tbest: 1691.9788958 (23)\ttotal: 2.95s\tremaining: 9.35s\n",
      "24:\tlearn: 1643.6506864\ttest: 1687.2195247\tbest: 1687.2195247 (24)\ttotal: 3.06s\tremaining: 9.19s\n",
      "25:\tlearn: 1637.6055098\ttest: 1682.4973561\tbest: 1682.4973561 (25)\ttotal: 3.17s\tremaining: 9.03s\n",
      "26:\tlearn: 1633.2360172\ttest: 1679.8208494\tbest: 1679.8208494 (26)\ttotal: 3.28s\tremaining: 8.88s\n",
      "27:\tlearn: 1627.7323724\ttest: 1674.9684213\tbest: 1674.9684213 (27)\ttotal: 3.4s\tremaining: 8.74s\n",
      "28:\tlearn: 1623.1430661\ttest: 1671.0785409\tbest: 1671.0785409 (28)\ttotal: 3.5s\tremaining: 8.57s\n",
      "29:\tlearn: 1614.0021504\ttest: 1663.0780689\tbest: 1663.0780689 (29)\ttotal: 3.6s\tremaining: 8.41s\n",
      "30:\tlearn: 1604.7164341\ttest: 1655.9937345\tbest: 1655.9937345 (30)\ttotal: 3.71s\tremaining: 8.25s\n",
      "31:\tlearn: 1598.1214058\ttest: 1651.0742650\tbest: 1651.0742650 (31)\ttotal: 3.82s\tremaining: 8.13s\n",
      "32:\tlearn: 1594.6018456\ttest: 1648.2708051\tbest: 1648.2708051 (32)\ttotal: 3.93s\tremaining: 7.99s\n",
      "33:\tlearn: 1591.5719793\ttest: 1645.4253473\tbest: 1645.4253473 (33)\ttotal: 4.05s\tremaining: 7.86s\n",
      "34:\tlearn: 1588.6076336\ttest: 1642.4687257\tbest: 1642.4687257 (34)\ttotal: 4.16s\tremaining: 7.73s\n",
      "35:\tlearn: 1586.8152672\ttest: 1641.1679215\tbest: 1641.1679215 (35)\ttotal: 4.28s\tremaining: 7.61s\n",
      "36:\tlearn: 1582.9919833\ttest: 1638.8492281\tbest: 1638.8492281 (36)\ttotal: 4.38s\tremaining: 7.46s\n",
      "37:\tlearn: 1578.9698591\ttest: 1634.8708107\tbest: 1634.8708107 (37)\ttotal: 4.49s\tremaining: 7.32s\n",
      "38:\tlearn: 1575.2172381\ttest: 1632.2440260\tbest: 1632.2440260 (38)\ttotal: 4.61s\tremaining: 7.2s\n",
      "39:\tlearn: 1571.8118746\ttest: 1629.9411078\tbest: 1629.9411078 (39)\ttotal: 4.71s\tremaining: 7.07s\n",
      "40:\tlearn: 1565.8667496\ttest: 1625.9162589\tbest: 1625.9162589 (40)\ttotal: 4.82s\tremaining: 6.94s\n",
      "41:\tlearn: 1563.1006318\ttest: 1623.6095314\tbest: 1623.6095314 (41)\ttotal: 4.94s\tremaining: 6.83s\n",
      "42:\tlearn: 1558.3138229\ttest: 1619.1737410\tbest: 1619.1737410 (42)\ttotal: 5.05s\tremaining: 6.7s\n",
      "43:\tlearn: 1555.1094968\ttest: 1617.0999133\tbest: 1617.0999133 (43)\ttotal: 5.16s\tremaining: 6.57s\n",
      "44:\tlearn: 1552.2495602\ttest: 1615.5664221\tbest: 1615.5664221 (44)\ttotal: 5.27s\tremaining: 6.45s\n",
      "45:\tlearn: 1550.9432884\ttest: 1614.8387723\tbest: 1614.8387723 (45)\ttotal: 5.39s\tremaining: 6.33s\n",
      "46:\tlearn: 1549.0152119\ttest: 1613.2066705\tbest: 1613.2066705 (46)\ttotal: 5.5s\tremaining: 6.2s\n",
      "47:\tlearn: 1543.5958810\ttest: 1608.6511950\tbest: 1608.6511950 (47)\ttotal: 5.61s\tremaining: 6.08s\n",
      "48:\tlearn: 1542.5427997\ttest: 1608.1300986\tbest: 1608.1300986 (48)\ttotal: 5.72s\tremaining: 5.95s\n",
      "49:\tlearn: 1539.5869775\ttest: 1605.5394413\tbest: 1605.5394413 (49)\ttotal: 5.83s\tremaining: 5.83s\n",
      "50:\tlearn: 1535.8039218\ttest: 1602.8733916\tbest: 1602.8733916 (50)\ttotal: 5.94s\tremaining: 5.71s\n",
      "51:\tlearn: 1531.6055201\ttest: 1600.2171690\tbest: 1600.2171690 (51)\ttotal: 6.05s\tremaining: 5.59s\n",
      "52:\tlearn: 1529.8389566\ttest: 1599.8710126\tbest: 1599.8710126 (52)\ttotal: 6.16s\tremaining: 5.46s\n",
      "53:\tlearn: 1526.8269568\ttest: 1598.3527747\tbest: 1598.3527747 (53)\ttotal: 6.28s\tremaining: 5.34s\n",
      "54:\tlearn: 1523.8582981\ttest: 1597.2606805\tbest: 1597.2606805 (54)\ttotal: 6.38s\tremaining: 5.22s\n",
      "55:\tlearn: 1521.0763917\ttest: 1596.2301715\tbest: 1596.2301715 (55)\ttotal: 6.5s\tremaining: 5.1s\n",
      "56:\tlearn: 1519.7994081\ttest: 1595.2622269\tbest: 1595.2622269 (56)\ttotal: 6.63s\tremaining: 5s\n",
      "57:\tlearn: 1517.4035378\ttest: 1593.7294782\tbest: 1593.7294782 (57)\ttotal: 6.77s\tremaining: 4.9s\n",
      "58:\tlearn: 1515.8385863\ttest: 1592.9935346\tbest: 1592.9935346 (58)\ttotal: 6.9s\tremaining: 4.79s\n",
      "59:\tlearn: 1514.3400566\ttest: 1591.9129364\tbest: 1591.9129364 (59)\ttotal: 7s\tremaining: 4.67s\n",
      "60:\tlearn: 1512.5214114\ttest: 1590.4458845\tbest: 1590.4458845 (60)\ttotal: 7.11s\tremaining: 4.54s\n",
      "61:\tlearn: 1509.5392686\ttest: 1589.4448165\tbest: 1589.4448165 (61)\ttotal: 7.22s\tremaining: 4.43s\n",
      "62:\tlearn: 1508.1280313\ttest: 1588.6129882\tbest: 1588.6129882 (62)\ttotal: 7.33s\tremaining: 4.3s\n",
      "63:\tlearn: 1505.6678189\ttest: 1587.2654483\tbest: 1587.2654483 (63)\ttotal: 7.44s\tremaining: 4.19s\n",
      "64:\tlearn: 1502.1155475\ttest: 1585.5505183\tbest: 1585.5505183 (64)\ttotal: 7.55s\tremaining: 4.07s\n",
      "65:\tlearn: 1500.8651476\ttest: 1584.9784452\tbest: 1584.9784452 (65)\ttotal: 7.67s\tremaining: 3.95s\n",
      "66:\tlearn: 1499.2607477\ttest: 1584.3063167\tbest: 1584.3063167 (66)\ttotal: 7.77s\tremaining: 3.83s\n",
      "67:\tlearn: 1498.2314071\ttest: 1583.7614716\tbest: 1583.7614716 (67)\ttotal: 7.88s\tremaining: 3.71s\n",
      "68:\tlearn: 1495.7149069\ttest: 1581.9581516\tbest: 1581.9581516 (68)\ttotal: 7.98s\tremaining: 3.59s\n",
      "69:\tlearn: 1494.7196222\ttest: 1581.7041276\tbest: 1581.7041276 (69)\ttotal: 8.09s\tremaining: 3.46s\n",
      "70:\tlearn: 1493.7279114\ttest: 1581.0175312\tbest: 1581.0175312 (70)\ttotal: 8.19s\tremaining: 3.35s\n",
      "71:\tlearn: 1492.8270158\ttest: 1580.3789459\tbest: 1580.3789459 (71)\ttotal: 8.3s\tremaining: 3.23s\n",
      "72:\tlearn: 1490.2037148\ttest: 1579.3408723\tbest: 1579.3408723 (72)\ttotal: 8.4s\tremaining: 3.11s\n",
      "73:\tlearn: 1488.2642739\ttest: 1579.0406905\tbest: 1579.0406905 (73)\ttotal: 8.51s\tremaining: 2.99s\n",
      "74:\tlearn: 1485.6002934\ttest: 1577.1695306\tbest: 1577.1695306 (74)\ttotal: 8.62s\tremaining: 2.87s\n",
      "75:\tlearn: 1483.7351410\ttest: 1576.0150406\tbest: 1576.0150406 (75)\ttotal: 8.75s\tremaining: 2.76s\n",
      "76:\tlearn: 1481.2038230\ttest: 1573.7560596\tbest: 1573.7560596 (76)\ttotal: 8.86s\tremaining: 2.65s\n",
      "77:\tlearn: 1480.1528190\ttest: 1573.4432196\tbest: 1573.4432196 (77)\ttotal: 8.98s\tremaining: 2.53s\n",
      "78:\tlearn: 1478.8826682\ttest: 1573.0157479\tbest: 1573.0157479 (78)\ttotal: 9.11s\tremaining: 2.42s\n",
      "79:\tlearn: 1476.7222211\ttest: 1571.9751449\tbest: 1571.9751449 (79)\ttotal: 9.25s\tremaining: 2.31s\n",
      "80:\tlearn: 1475.0924710\ttest: 1571.2367363\tbest: 1571.2367363 (80)\ttotal: 9.36s\tremaining: 2.2s\n",
      "81:\tlearn: 1473.6611090\ttest: 1570.4724425\tbest: 1570.4724425 (81)\ttotal: 9.46s\tremaining: 2.08s\n",
      "82:\tlearn: 1472.5460918\ttest: 1570.0231338\tbest: 1570.0231338 (82)\ttotal: 9.57s\tremaining: 1.96s\n",
      "83:\tlearn: 1472.1177827\ttest: 1569.8476947\tbest: 1569.8476947 (83)\ttotal: 9.68s\tremaining: 1.84s\n",
      "84:\tlearn: 1470.3664158\ttest: 1569.1450250\tbest: 1569.1450250 (84)\ttotal: 9.8s\tremaining: 1.73s\n",
      "85:\tlearn: 1469.1994640\ttest: 1568.6583142\tbest: 1568.6583142 (85)\ttotal: 9.91s\tremaining: 1.61s\n",
      "86:\tlearn: 1467.8149892\ttest: 1567.9480041\tbest: 1567.9480041 (86)\ttotal: 10s\tremaining: 1.5s\n",
      "87:\tlearn: 1466.1901611\ttest: 1566.8770345\tbest: 1566.8770345 (87)\ttotal: 10.1s\tremaining: 1.38s\n",
      "88:\tlearn: 1465.3188813\ttest: 1566.1966358\tbest: 1566.1966358 (88)\ttotal: 10.3s\tremaining: 1.27s\n",
      "89:\tlearn: 1463.4238283\ttest: 1564.9855255\tbest: 1564.9855255 (89)\ttotal: 10.4s\tremaining: 1.15s\n",
      "90:\tlearn: 1462.4730077\ttest: 1564.6921426\tbest: 1564.6921426 (90)\ttotal: 10.5s\tremaining: 1.04s\n",
      "91:\tlearn: 1461.6465382\ttest: 1564.2077181\tbest: 1564.2077181 (91)\ttotal: 10.6s\tremaining: 921ms\n",
      "92:\tlearn: 1459.3199997\ttest: 1563.0985067\tbest: 1563.0985067 (92)\ttotal: 10.7s\tremaining: 808ms\n",
      "93:\tlearn: 1458.2684194\ttest: 1562.7073037\tbest: 1562.7073037 (93)\ttotal: 10.9s\tremaining: 694ms\n",
      "94:\tlearn: 1458.2005005\ttest: 1562.6206509\tbest: 1562.6206509 (94)\ttotal: 11s\tremaining: 581ms\n",
      "95:\tlearn: 1457.5679967\ttest: 1562.4396377\tbest: 1562.4396377 (95)\ttotal: 11.1s\tremaining: 464ms\n",
      "96:\tlearn: 1456.3047047\ttest: 1561.3837043\tbest: 1561.3837043 (96)\ttotal: 11.2s\tremaining: 348ms\n",
      "97:\tlearn: 1454.7501978\ttest: 1560.3479515\tbest: 1560.3479515 (97)\ttotal: 11.4s\tremaining: 232ms\n",
      "98:\tlearn: 1453.6655566\ttest: 1559.9551858\tbest: 1559.9551858 (98)\ttotal: 11.5s\tremaining: 116ms\n",
      "99:\tlearn: 1452.0826943\ttest: 1559.5456630\tbest: 1559.5456630 (99)\ttotal: 11.6s\tremaining: 0us\n",
      "\n",
      "bestTest = 1559.545663\n",
      "bestIteration = 99\n",
      "\n",
      "0:\tloss: 1559.5456630\tbest: 1559.5456630 (0)\ttotal: 12.3s\tremaining: 1m 38s\n",
      "0:\tlearn: 3962.5134072\ttest: 3942.9843613\tbest: 3942.9843613 (0)\ttotal: 124ms\tremaining: 12.3s\n",
      "1:\tlearn: 2744.0806945\ttest: 2739.4837816\tbest: 2739.4837816 (1)\ttotal: 253ms\tremaining: 12.4s\n",
      "2:\tlearn: 2263.4481373\ttest: 2273.4563825\tbest: 2273.4563825 (2)\ttotal: 368ms\tremaining: 11.9s\n",
      "3:\tlearn: 2010.6295576\ttest: 2027.0473726\tbest: 2027.0473726 (3)\ttotal: 493ms\tremaining: 11.8s\n",
      "4:\tlearn: 1878.4215828\ttest: 1897.7433188\tbest: 1897.7433188 (4)\ttotal: 605ms\tremaining: 11.5s\n",
      "5:\tlearn: 1823.7450074\ttest: 1847.5222034\tbest: 1847.5222034 (5)\ttotal: 711ms\tremaining: 11.1s\n",
      "6:\tlearn: 1785.3908039\ttest: 1812.5865560\tbest: 1812.5865560 (6)\ttotal: 821ms\tremaining: 10.9s\n",
      "7:\tlearn: 1755.0716341\ttest: 1782.8902274\tbest: 1782.8902274 (7)\ttotal: 929ms\tremaining: 10.7s\n",
      "8:\tlearn: 1740.8923093\ttest: 1770.3291378\tbest: 1770.3291378 (8)\ttotal: 1.05s\tremaining: 10.6s\n",
      "9:\tlearn: 1716.4740295\ttest: 1752.9810416\tbest: 1752.9810416 (9)\ttotal: 1.16s\tremaining: 10.4s\n",
      "10:\tlearn: 1705.6895838\ttest: 1744.9496679\tbest: 1744.9496679 (10)\ttotal: 1.26s\tremaining: 10.2s\n",
      "11:\tlearn: 1695.5239869\ttest: 1735.6271222\tbest: 1735.6271222 (11)\ttotal: 1.38s\tremaining: 10.1s\n",
      "12:\tlearn: 1691.2306084\ttest: 1732.3646221\tbest: 1732.3646221 (12)\ttotal: 1.48s\tremaining: 9.94s\n",
      "13:\tlearn: 1673.5125868\ttest: 1717.8810087\tbest: 1717.8810087 (13)\ttotal: 1.58s\tremaining: 9.73s\n",
      "14:\tlearn: 1667.7636718\ttest: 1712.0464792\tbest: 1712.0464792 (14)\ttotal: 1.69s\tremaining: 9.59s\n",
      "15:\tlearn: 1653.4798470\ttest: 1700.9489627\tbest: 1700.9489627 (15)\ttotal: 1.8s\tremaining: 9.44s\n",
      "16:\tlearn: 1644.6839497\ttest: 1693.0795151\tbest: 1693.0795151 (16)\ttotal: 1.91s\tremaining: 9.34s\n",
      "17:\tlearn: 1635.7596132\ttest: 1685.9432904\tbest: 1685.9432904 (17)\ttotal: 2.02s\tremaining: 9.21s\n",
      "18:\tlearn: 1631.1587169\ttest: 1683.5309080\tbest: 1683.5309080 (18)\ttotal: 2.14s\tremaining: 9.12s\n",
      "19:\tlearn: 1626.5678435\ttest: 1679.4188423\tbest: 1679.4188423 (19)\ttotal: 2.24s\tremaining: 8.98s\n",
      "20:\tlearn: 1620.7565001\ttest: 1675.5823636\tbest: 1675.5823636 (20)\ttotal: 2.36s\tremaining: 8.87s\n",
      "21:\tlearn: 1613.7764643\ttest: 1671.6076881\tbest: 1671.6076881 (21)\ttotal: 2.46s\tremaining: 8.74s\n",
      "22:\tlearn: 1604.1735240\ttest: 1664.3646150\tbest: 1664.3646150 (22)\ttotal: 2.57s\tremaining: 8.61s\n",
      "23:\tlearn: 1595.9266074\ttest: 1660.4280440\tbest: 1660.4280440 (23)\ttotal: 2.68s\tremaining: 8.48s\n",
      "24:\tlearn: 1593.1385793\ttest: 1659.3211209\tbest: 1659.3211209 (24)\ttotal: 2.79s\tremaining: 8.37s\n",
      "25:\tlearn: 1589.2126913\ttest: 1656.4512737\tbest: 1656.4512737 (25)\ttotal: 2.9s\tremaining: 8.25s\n",
      "26:\tlearn: 1584.2102547\ttest: 1653.3888401\tbest: 1653.3888401 (26)\ttotal: 3.02s\tremaining: 8.16s\n",
      "27:\tlearn: 1576.7623992\ttest: 1649.0427586\tbest: 1649.0427586 (27)\ttotal: 3.13s\tremaining: 8.06s\n",
      "28:\tlearn: 1574.8934174\ttest: 1647.5962797\tbest: 1647.5962797 (28)\ttotal: 3.24s\tremaining: 7.94s\n",
      "29:\tlearn: 1570.9484990\ttest: 1643.9804033\tbest: 1643.9804033 (29)\ttotal: 3.35s\tremaining: 7.82s\n",
      "30:\tlearn: 1566.0602834\ttest: 1640.3792750\tbest: 1640.3792750 (30)\ttotal: 3.47s\tremaining: 7.72s\n",
      "31:\tlearn: 1561.2625700\ttest: 1638.3653082\tbest: 1638.3653082 (31)\ttotal: 3.59s\tremaining: 7.62s\n",
      "32:\tlearn: 1557.1937030\ttest: 1635.8855522\tbest: 1635.8855522 (32)\ttotal: 3.69s\tremaining: 7.48s\n",
      "33:\tlearn: 1552.5602800\ttest: 1632.1886435\tbest: 1632.1886435 (33)\ttotal: 3.79s\tremaining: 7.35s\n",
      "34:\tlearn: 1551.6642542\ttest: 1631.7046867\tbest: 1631.7046867 (34)\ttotal: 3.9s\tremaining: 7.24s\n",
      "35:\tlearn: 1548.0021468\ttest: 1629.1378069\tbest: 1629.1378069 (35)\ttotal: 4s\tremaining: 7.11s\n",
      "36:\tlearn: 1544.9011612\ttest: 1626.6649831\tbest: 1626.6649831 (36)\ttotal: 4.12s\tremaining: 7.01s\n",
      "37:\tlearn: 1543.0889833\ttest: 1625.3812498\tbest: 1625.3812498 (37)\ttotal: 4.24s\tremaining: 6.92s\n",
      "38:\tlearn: 1539.9761418\ttest: 1622.4979008\tbest: 1622.4979008 (38)\ttotal: 4.35s\tremaining: 6.8s\n",
      "39:\tlearn: 1535.2050035\ttest: 1619.2375428\tbest: 1619.2375428 (39)\ttotal: 4.46s\tremaining: 6.69s\n",
      "40:\tlearn: 1532.4974587\ttest: 1617.8971569\tbest: 1617.8971569 (40)\ttotal: 4.57s\tremaining: 6.58s\n",
      "41:\tlearn: 1530.3542740\ttest: 1616.6692759\tbest: 1616.6692759 (41)\ttotal: 4.68s\tremaining: 6.47s\n",
      "42:\tlearn: 1527.5805185\ttest: 1615.2745047\tbest: 1615.2745047 (42)\ttotal: 4.8s\tremaining: 6.36s\n",
      "43:\tlearn: 1524.5312059\ttest: 1613.6833049\tbest: 1613.6833049 (43)\ttotal: 4.9s\tremaining: 6.24s\n",
      "44:\tlearn: 1520.3698501\ttest: 1611.1299300\tbest: 1611.1299300 (44)\ttotal: 5.01s\tremaining: 6.12s\n",
      "45:\tlearn: 1516.3931626\ttest: 1608.6603242\tbest: 1608.6603242 (45)\ttotal: 5.13s\tremaining: 6.02s\n",
      "46:\tlearn: 1514.5828005\ttest: 1607.7833178\tbest: 1607.7833178 (46)\ttotal: 5.24s\tremaining: 5.9s\n",
      "47:\tlearn: 1511.0533420\ttest: 1605.9879091\tbest: 1605.9879091 (47)\ttotal: 5.34s\tremaining: 5.79s\n",
      "48:\tlearn: 1508.7124813\ttest: 1605.3533980\tbest: 1605.3533980 (48)\ttotal: 5.45s\tremaining: 5.67s\n",
      "49:\tlearn: 1505.1269758\ttest: 1603.5519214\tbest: 1603.5519214 (49)\ttotal: 5.56s\tremaining: 5.56s\n",
      "50:\tlearn: 1502.4005582\ttest: 1601.6343411\tbest: 1601.6343411 (50)\ttotal: 5.67s\tremaining: 5.45s\n",
      "51:\tlearn: 1500.1700670\ttest: 1600.4881529\tbest: 1600.4881529 (51)\ttotal: 5.77s\tremaining: 5.33s\n",
      "52:\tlearn: 1497.1324114\ttest: 1599.8827105\tbest: 1599.8827105 (52)\ttotal: 5.88s\tremaining: 5.21s\n",
      "53:\tlearn: 1495.1928867\ttest: 1599.2271947\tbest: 1599.2271947 (53)\ttotal: 5.99s\tremaining: 5.1s\n",
      "54:\tlearn: 1494.0803727\ttest: 1599.2185383\tbest: 1599.2185383 (54)\ttotal: 6.1s\tremaining: 4.99s\n",
      "55:\tlearn: 1492.0023689\ttest: 1599.0372441\tbest: 1599.0372441 (55)\ttotal: 6.22s\tremaining: 4.88s\n",
      "56:\tlearn: 1490.0553227\ttest: 1598.5890487\tbest: 1598.5890487 (56)\ttotal: 6.33s\tremaining: 4.77s\n",
      "57:\tlearn: 1489.0250155\ttest: 1597.9928108\tbest: 1597.9928108 (57)\ttotal: 6.44s\tremaining: 4.66s\n",
      "58:\tlearn: 1486.5618519\ttest: 1597.6255946\tbest: 1597.6255946 (58)\ttotal: 6.55s\tremaining: 4.55s\n",
      "59:\tlearn: 1484.5514248\ttest: 1597.7330391\tbest: 1597.6255946 (58)\ttotal: 6.66s\tremaining: 4.44s\n",
      "60:\tlearn: 1482.6602035\ttest: 1596.5292780\tbest: 1596.5292780 (60)\ttotal: 6.79s\tremaining: 4.34s\n",
      "61:\tlearn: 1478.7927383\ttest: 1593.5559694\tbest: 1593.5559694 (61)\ttotal: 6.9s\tremaining: 4.23s\n",
      "62:\tlearn: 1472.1596985\ttest: 1589.4977752\tbest: 1589.4977752 (62)\ttotal: 7.01s\tremaining: 4.12s\n",
      "63:\tlearn: 1470.1197284\ttest: 1587.6872604\tbest: 1587.6872604 (63)\ttotal: 7.12s\tremaining: 4.01s\n",
      "64:\tlearn: 1469.0106183\ttest: 1587.1408877\tbest: 1587.1408877 (64)\ttotal: 7.24s\tremaining: 3.9s\n",
      "65:\tlearn: 1464.4946925\ttest: 1584.9595801\tbest: 1584.9595801 (65)\ttotal: 7.35s\tremaining: 3.79s\n",
      "66:\tlearn: 1461.9722420\ttest: 1583.3018923\tbest: 1583.3018923 (66)\ttotal: 7.48s\tremaining: 3.68s\n",
      "67:\tlearn: 1458.9074617\ttest: 1582.6467242\tbest: 1582.6467242 (67)\ttotal: 7.61s\tremaining: 3.58s\n",
      "68:\tlearn: 1457.3590327\ttest: 1581.5682702\tbest: 1581.5682702 (68)\ttotal: 7.73s\tremaining: 3.47s\n",
      "69:\tlearn: 1455.0975173\ttest: 1580.2983052\tbest: 1580.2983052 (69)\ttotal: 7.86s\tremaining: 3.37s\n",
      "70:\tlearn: 1452.9916299\ttest: 1579.6158109\tbest: 1579.6158109 (70)\ttotal: 7.98s\tremaining: 3.26s\n",
      "71:\tlearn: 1451.8322402\ttest: 1578.3304716\tbest: 1578.3304716 (71)\ttotal: 8.09s\tremaining: 3.15s\n",
      "72:\tlearn: 1450.0922797\ttest: 1578.2197257\tbest: 1578.2197257 (72)\ttotal: 8.2s\tremaining: 3.03s\n",
      "73:\tlearn: 1446.9900017\ttest: 1576.9854220\tbest: 1576.9854220 (73)\ttotal: 8.31s\tremaining: 2.92s\n",
      "74:\tlearn: 1444.4487647\ttest: 1575.8857715\tbest: 1575.8857715 (74)\ttotal: 8.43s\tremaining: 2.81s\n",
      "75:\tlearn: 1442.1852346\ttest: 1575.0070159\tbest: 1575.0070159 (75)\ttotal: 8.55s\tremaining: 2.7s\n",
      "76:\tlearn: 1439.9713597\ttest: 1573.3909291\tbest: 1573.3909291 (76)\ttotal: 8.66s\tremaining: 2.59s\n",
      "77:\tlearn: 1438.9121955\ttest: 1572.8028820\tbest: 1572.8028820 (77)\ttotal: 8.81s\tremaining: 2.48s\n",
      "78:\tlearn: 1435.8980430\ttest: 1572.3563216\tbest: 1572.3563216 (78)\ttotal: 8.95s\tremaining: 2.38s\n",
      "79:\tlearn: 1434.4566397\ttest: 1572.5993200\tbest: 1572.3563216 (78)\ttotal: 9.1s\tremaining: 2.27s\n",
      "80:\tlearn: 1432.0101047\ttest: 1572.4360132\tbest: 1572.3563216 (78)\ttotal: 9.21s\tremaining: 2.16s\n",
      "81:\tlearn: 1428.1494210\ttest: 1569.7585759\tbest: 1569.7585759 (81)\ttotal: 9.32s\tremaining: 2.05s\n",
      "82:\tlearn: 1426.2200446\ttest: 1569.2020444\tbest: 1569.2020444 (82)\ttotal: 9.44s\tremaining: 1.93s\n",
      "83:\tlearn: 1425.3782164\ttest: 1569.0241282\tbest: 1569.0241282 (83)\ttotal: 9.55s\tremaining: 1.82s\n",
      "84:\tlearn: 1424.2229669\ttest: 1568.7099504\tbest: 1568.7099504 (84)\ttotal: 9.66s\tremaining: 1.71s\n",
      "85:\tlearn: 1422.5396261\ttest: 1568.1295417\tbest: 1568.1295417 (85)\ttotal: 9.76s\tremaining: 1.59s\n",
      "86:\tlearn: 1421.3095962\ttest: 1567.8120578\tbest: 1567.8120578 (86)\ttotal: 9.88s\tremaining: 1.48s\n",
      "87:\tlearn: 1419.9671421\ttest: 1566.9372162\tbest: 1566.9372162 (87)\ttotal: 10s\tremaining: 1.37s\n",
      "88:\tlearn: 1418.5588139\ttest: 1566.6457041\tbest: 1566.6457041 (88)\ttotal: 10.1s\tremaining: 1.25s\n",
      "89:\tlearn: 1416.5587590\ttest: 1565.1262717\tbest: 1565.1262717 (89)\ttotal: 10.3s\tremaining: 1.14s\n",
      "90:\tlearn: 1415.8466960\ttest: 1565.1053606\tbest: 1565.1053606 (90)\ttotal: 10.4s\tremaining: 1.02s\n",
      "91:\tlearn: 1413.9297295\ttest: 1564.5484999\tbest: 1564.5484999 (91)\ttotal: 10.5s\tremaining: 911ms\n",
      "92:\tlearn: 1412.9379976\ttest: 1564.1387520\tbest: 1564.1387520 (92)\ttotal: 10.6s\tremaining: 796ms\n",
      "93:\tlearn: 1412.1855706\ttest: 1563.9198991\tbest: 1563.9198991 (93)\ttotal: 10.7s\tremaining: 683ms\n",
      "94:\tlearn: 1410.5106190\ttest: 1563.3746849\tbest: 1563.3746849 (94)\ttotal: 10.8s\tremaining: 569ms\n",
      "95:\tlearn: 1409.3909083\ttest: 1563.2252318\tbest: 1563.2252318 (95)\ttotal: 10.9s\tremaining: 455ms\n",
      "96:\tlearn: 1407.4958159\ttest: 1562.3433118\tbest: 1562.3433118 (96)\ttotal: 11s\tremaining: 341ms\n",
      "97:\tlearn: 1406.2765432\ttest: 1562.0914891\tbest: 1562.0914891 (97)\ttotal: 11.1s\tremaining: 227ms\n",
      "98:\tlearn: 1405.1550482\ttest: 1561.9732951\tbest: 1561.9732951 (98)\ttotal: 11.2s\tremaining: 114ms\n",
      "99:\tlearn: 1404.3042971\ttest: 1561.2572201\tbest: 1561.2572201 (99)\ttotal: 11.4s\tremaining: 0us\n",
      "\n",
      "bestTest = 1561.25722\n",
      "bestIteration = 99\n",
      "\n",
      "1:\tloss: 1561.2572201\tbest: 1559.5456630 (0)\ttotal: 23.7s\tremaining: 1m 23s\n",
      "0:\tlearn: 3029.8207836\ttest: 3020.8180991\tbest: 3020.8180991 (0)\ttotal: 118ms\tremaining: 11.7s\n",
      "1:\tlearn: 2234.1271052\ttest: 2250.3642283\tbest: 2250.3642283 (1)\ttotal: 239ms\tremaining: 11.7s\n",
      "2:\tlearn: 1988.8368383\ttest: 2003.5099509\tbest: 2003.5099509 (2)\ttotal: 346ms\tremaining: 11.2s\n",
      "3:\tlearn: 1887.5012865\ttest: 1902.3961951\tbest: 1902.3961951 (3)\ttotal: 460ms\tremaining: 11s\n",
      "4:\tlearn: 1838.7679498\ttest: 1860.0826434\tbest: 1860.0826434 (4)\ttotal: 578ms\tremaining: 11s\n",
      "5:\tlearn: 1786.8731107\ttest: 1806.7741993\tbest: 1806.7741993 (5)\ttotal: 692ms\tremaining: 10.8s\n",
      "6:\tlearn: 1760.0903313\ttest: 1783.5484937\tbest: 1783.5484937 (6)\ttotal: 794ms\tremaining: 10.5s\n",
      "7:\tlearn: 1738.6723138\ttest: 1766.9878874\tbest: 1766.9878874 (7)\ttotal: 906ms\tremaining: 10.4s\n",
      "8:\tlearn: 1722.9763693\ttest: 1753.0020207\tbest: 1753.0020207 (8)\ttotal: 1.02s\tremaining: 10.3s\n",
      "9:\tlearn: 1704.3085854\ttest: 1737.8380426\tbest: 1737.8380426 (9)\ttotal: 1.13s\tremaining: 10.2s\n",
      "10:\tlearn: 1684.9540341\ttest: 1722.5567099\tbest: 1722.5567099 (10)\ttotal: 1.24s\tremaining: 10s\n",
      "11:\tlearn: 1673.0530150\ttest: 1711.0005869\tbest: 1711.0005869 (11)\ttotal: 1.35s\tremaining: 9.89s\n",
      "12:\tlearn: 1664.7692862\ttest: 1705.0874055\tbest: 1705.0874055 (12)\ttotal: 1.46s\tremaining: 9.77s\n",
      "13:\tlearn: 1659.3742289\ttest: 1699.4174076\tbest: 1699.4174076 (13)\ttotal: 1.58s\tremaining: 9.72s\n",
      "14:\tlearn: 1645.2624785\ttest: 1690.8691693\tbest: 1690.8691693 (14)\ttotal: 1.69s\tremaining: 9.56s\n",
      "15:\tlearn: 1637.0132135\ttest: 1685.6060065\tbest: 1685.6060065 (15)\ttotal: 1.8s\tremaining: 9.44s\n",
      "16:\tlearn: 1617.4998855\ttest: 1676.6208901\tbest: 1676.6208901 (16)\ttotal: 1.91s\tremaining: 9.31s\n",
      "17:\tlearn: 1608.2217401\ttest: 1668.4465056\tbest: 1668.4465056 (17)\ttotal: 2.02s\tremaining: 9.2s\n",
      "18:\tlearn: 1601.0568400\ttest: 1664.2464572\tbest: 1664.2464572 (18)\ttotal: 2.15s\tremaining: 9.16s\n",
      "19:\tlearn: 1593.9381138\ttest: 1661.1061587\tbest: 1661.1061587 (19)\ttotal: 2.26s\tremaining: 9.04s\n",
      "20:\tlearn: 1588.4191599\ttest: 1657.4684194\tbest: 1657.4684194 (20)\ttotal: 2.36s\tremaining: 8.87s\n",
      "21:\tlearn: 1583.4230179\ttest: 1653.1714166\tbest: 1653.1714166 (21)\ttotal: 2.46s\tremaining: 8.73s\n",
      "22:\tlearn: 1577.8551406\ttest: 1648.2791950\tbest: 1648.2791950 (22)\ttotal: 2.57s\tremaining: 8.62s\n",
      "23:\tlearn: 1570.0693042\ttest: 1646.2876148\tbest: 1646.2876148 (23)\ttotal: 2.67s\tremaining: 8.47s\n",
      "24:\tlearn: 1566.1478785\ttest: 1644.5941905\tbest: 1644.5941905 (24)\ttotal: 2.77s\tremaining: 8.32s\n",
      "25:\tlearn: 1563.6389714\ttest: 1642.0454722\tbest: 1642.0454722 (25)\ttotal: 2.88s\tremaining: 8.19s\n",
      "26:\tlearn: 1559.1619501\ttest: 1639.3300373\tbest: 1639.3300373 (26)\ttotal: 2.98s\tremaining: 8.06s\n",
      "27:\tlearn: 1552.7512717\ttest: 1635.4430308\tbest: 1635.4430308 (27)\ttotal: 3.09s\tremaining: 7.93s\n",
      "28:\tlearn: 1552.4031926\ttest: 1635.0899486\tbest: 1635.0899486 (28)\ttotal: 3.15s\tremaining: 7.71s\n",
      "29:\tlearn: 1549.0038545\ttest: 1633.3754690\tbest: 1633.3754690 (29)\ttotal: 3.26s\tremaining: 7.61s\n",
      "30:\tlearn: 1543.7880941\ttest: 1629.4040203\tbest: 1629.4040203 (30)\ttotal: 3.36s\tremaining: 7.49s\n",
      "31:\tlearn: 1539.3386614\ttest: 1626.6344244\tbest: 1626.6344244 (31)\ttotal: 3.46s\tremaining: 7.35s\n",
      "32:\tlearn: 1536.0110223\ttest: 1623.7818347\tbest: 1623.7818347 (32)\ttotal: 3.56s\tremaining: 7.22s\n",
      "33:\tlearn: 1533.0950996\ttest: 1624.5270779\tbest: 1623.7818347 (32)\ttotal: 3.66s\tremaining: 7.11s\n",
      "34:\tlearn: 1532.1011316\ttest: 1624.3942593\tbest: 1623.7818347 (32)\ttotal: 3.77s\tremaining: 7s\n",
      "35:\tlearn: 1525.1611152\ttest: 1620.6737805\tbest: 1620.6737805 (35)\ttotal: 3.87s\tremaining: 6.88s\n",
      "36:\tlearn: 1521.4047782\ttest: 1619.5795450\tbest: 1619.5795450 (36)\ttotal: 3.98s\tremaining: 6.77s\n",
      "37:\tlearn: 1517.4874729\ttest: 1618.4196821\tbest: 1618.4196821 (37)\ttotal: 4.08s\tremaining: 6.65s\n",
      "38:\tlearn: 1514.1046701\ttest: 1618.5838268\tbest: 1618.4196821 (37)\ttotal: 4.19s\tremaining: 6.56s\n",
      "39:\tlearn: 1506.9868339\ttest: 1616.2711728\tbest: 1616.2711728 (39)\ttotal: 4.3s\tremaining: 6.45s\n",
      "40:\tlearn: 1502.2225330\ttest: 1612.3421146\tbest: 1612.3421146 (40)\ttotal: 4.41s\tremaining: 6.34s\n",
      "41:\tlearn: 1500.8400526\ttest: 1611.9883581\tbest: 1611.9883581 (41)\ttotal: 4.53s\tremaining: 6.25s\n",
      "42:\tlearn: 1498.1656622\ttest: 1610.5146651\tbest: 1610.5146651 (42)\ttotal: 4.63s\tremaining: 6.14s\n",
      "43:\tlearn: 1492.3187577\ttest: 1607.7966036\tbest: 1607.7966036 (43)\ttotal: 4.74s\tremaining: 6.03s\n",
      "44:\tlearn: 1491.2403787\ttest: 1607.2127333\tbest: 1607.2127333 (44)\ttotal: 4.84s\tremaining: 5.92s\n",
      "45:\tlearn: 1486.0980611\ttest: 1606.1496276\tbest: 1606.1496276 (45)\ttotal: 4.95s\tremaining: 5.81s\n",
      "46:\tlearn: 1482.2648158\ttest: 1604.0638184\tbest: 1604.0638184 (46)\ttotal: 5.05s\tremaining: 5.7s\n",
      "47:\tlearn: 1476.1792086\ttest: 1597.4471367\tbest: 1597.4471367 (47)\ttotal: 5.15s\tremaining: 5.58s\n",
      "48:\tlearn: 1470.9407458\ttest: 1594.3291158\tbest: 1594.3291158 (48)\ttotal: 5.27s\tremaining: 5.48s\n",
      "49:\tlearn: 1468.8880067\ttest: 1593.6691338\tbest: 1593.6691338 (49)\ttotal: 5.39s\tremaining: 5.39s\n",
      "50:\tlearn: 1467.7174644\ttest: 1592.7238811\tbest: 1592.7238811 (50)\ttotal: 5.5s\tremaining: 5.29s\n",
      "51:\tlearn: 1464.3275559\ttest: 1591.3935785\tbest: 1591.3935785 (51)\ttotal: 5.61s\tremaining: 5.17s\n",
      "52:\tlearn: 1460.4232231\ttest: 1589.6053252\tbest: 1589.6053252 (52)\ttotal: 5.71s\tremaining: 5.07s\n",
      "53:\tlearn: 1457.8607554\ttest: 1589.2879098\tbest: 1589.2879098 (53)\ttotal: 5.82s\tremaining: 4.96s\n",
      "54:\tlearn: 1455.5116440\ttest: 1588.4886197\tbest: 1588.4886197 (54)\ttotal: 5.93s\tremaining: 4.85s\n",
      "55:\tlearn: 1453.5243149\ttest: 1587.4093379\tbest: 1587.4093379 (55)\ttotal: 6.04s\tremaining: 4.75s\n",
      "56:\tlearn: 1449.4674661\ttest: 1586.1338022\tbest: 1586.1338022 (56)\ttotal: 6.16s\tremaining: 4.65s\n",
      "57:\tlearn: 1448.1857896\ttest: 1585.5484028\tbest: 1585.5484028 (57)\ttotal: 6.27s\tremaining: 4.54s\n",
      "58:\tlearn: 1445.1029198\ttest: 1584.2301134\tbest: 1584.2301134 (58)\ttotal: 6.38s\tremaining: 4.43s\n",
      "59:\tlearn: 1442.3371620\ttest: 1584.0786886\tbest: 1584.0786886 (59)\ttotal: 6.48s\tremaining: 4.32s\n",
      "60:\tlearn: 1441.0439956\ttest: 1583.9398152\tbest: 1583.9398152 (60)\ttotal: 6.62s\tremaining: 4.23s\n",
      "61:\tlearn: 1438.4029834\ttest: 1582.9134283\tbest: 1582.9134283 (61)\ttotal: 6.75s\tremaining: 4.14s\n",
      "62:\tlearn: 1435.5672678\ttest: 1581.8065655\tbest: 1581.8065655 (62)\ttotal: 6.86s\tremaining: 4.03s\n",
      "63:\tlearn: 1433.2644155\ttest: 1580.5505886\tbest: 1580.5505886 (63)\ttotal: 6.97s\tremaining: 3.92s\n",
      "64:\tlearn: 1428.6296077\ttest: 1578.3456258\tbest: 1578.3456258 (64)\ttotal: 7.08s\tremaining: 3.81s\n",
      "65:\tlearn: 1426.8970931\ttest: 1578.6089203\tbest: 1578.3456258 (64)\ttotal: 7.21s\tremaining: 3.71s\n",
      "66:\tlearn: 1424.5308040\ttest: 1578.1587032\tbest: 1578.1587032 (66)\ttotal: 7.34s\tremaining: 3.62s\n",
      "67:\tlearn: 1423.7408106\ttest: 1577.8701736\tbest: 1577.8701736 (67)\ttotal: 7.5s\tremaining: 3.53s\n",
      "68:\tlearn: 1421.2817720\ttest: 1576.6390124\tbest: 1576.6390124 (68)\ttotal: 7.68s\tremaining: 3.45s\n",
      "69:\tlearn: 1417.7122995\ttest: 1576.1593798\tbest: 1576.1593798 (69)\ttotal: 7.82s\tremaining: 3.35s\n",
      "70:\tlearn: 1414.4633246\ttest: 1575.8867541\tbest: 1575.8867541 (70)\ttotal: 7.93s\tremaining: 3.24s\n",
      "71:\tlearn: 1412.0598353\ttest: 1575.0865264\tbest: 1575.0865264 (71)\ttotal: 8.03s\tremaining: 3.12s\n",
      "72:\tlearn: 1411.4198455\ttest: 1574.8047755\tbest: 1574.8047755 (72)\ttotal: 8.14s\tremaining: 3.01s\n",
      "73:\tlearn: 1410.5879258\ttest: 1574.7885021\tbest: 1574.7885021 (73)\ttotal: 8.25s\tremaining: 2.9s\n",
      "74:\tlearn: 1408.7547434\ttest: 1573.7743874\tbest: 1573.7743874 (74)\ttotal: 8.38s\tremaining: 2.79s\n",
      "75:\tlearn: 1405.1287154\ttest: 1573.1414815\tbest: 1573.1414815 (75)\ttotal: 8.51s\tremaining: 2.69s\n",
      "76:\tlearn: 1403.5888184\ttest: 1572.3717589\tbest: 1572.3717589 (76)\ttotal: 8.62s\tremaining: 2.57s\n",
      "77:\tlearn: 1401.5690194\ttest: 1572.2825237\tbest: 1572.2825237 (77)\ttotal: 8.72s\tremaining: 2.46s\n",
      "78:\tlearn: 1399.0900056\ttest: 1571.9166603\tbest: 1571.9166603 (78)\ttotal: 8.83s\tremaining: 2.35s\n",
      "79:\tlearn: 1397.4192022\ttest: 1572.0466283\tbest: 1571.9166603 (78)\ttotal: 8.95s\tremaining: 2.24s\n",
      "80:\tlearn: 1395.6463702\ttest: 1571.0129902\tbest: 1571.0129902 (80)\ttotal: 9.06s\tremaining: 2.13s\n",
      "81:\tlearn: 1393.7837496\ttest: 1570.2615450\tbest: 1570.2615450 (81)\ttotal: 9.16s\tremaining: 2.01s\n",
      "82:\tlearn: 1392.6959198\ttest: 1570.0665276\tbest: 1570.0665276 (82)\ttotal: 9.27s\tremaining: 1.9s\n",
      "83:\tlearn: 1391.9106790\ttest: 1569.6872809\tbest: 1569.6872809 (83)\ttotal: 9.38s\tremaining: 1.78s\n",
      "84:\tlearn: 1390.3690081\ttest: 1569.5785219\tbest: 1569.5785219 (84)\ttotal: 9.48s\tremaining: 1.67s\n",
      "85:\tlearn: 1389.3228566\ttest: 1570.0644613\tbest: 1569.5785219 (84)\ttotal: 9.59s\tremaining: 1.56s\n",
      "86:\tlearn: 1388.6833646\ttest: 1570.4079746\tbest: 1569.5785219 (84)\ttotal: 9.69s\tremaining: 1.45s\n",
      "87:\tlearn: 1386.3087784\ttest: 1570.3212495\tbest: 1569.5785219 (84)\ttotal: 9.8s\tremaining: 1.34s\n",
      "88:\tlearn: 1385.1817237\ttest: 1570.2856051\tbest: 1569.5785219 (84)\ttotal: 9.91s\tremaining: 1.22s\n",
      "89:\tlearn: 1383.6976733\ttest: 1570.2011948\tbest: 1569.5785219 (84)\ttotal: 10s\tremaining: 1.11s\n",
      "90:\tlearn: 1381.8306636\ttest: 1570.2178017\tbest: 1569.5785219 (84)\ttotal: 10.1s\tremaining: 1s\n",
      "91:\tlearn: 1380.6446508\ttest: 1568.9231606\tbest: 1568.9231606 (91)\ttotal: 10.2s\tremaining: 890ms\n",
      "92:\tlearn: 1379.9586221\ttest: 1569.0371235\tbest: 1568.9231606 (91)\ttotal: 10.3s\tremaining: 778ms\n",
      "93:\tlearn: 1376.8045104\ttest: 1567.6405919\tbest: 1567.6405919 (93)\ttotal: 10.5s\tremaining: 667ms\n",
      "94:\tlearn: 1375.7151329\ttest: 1567.8042127\tbest: 1567.6405919 (93)\ttotal: 10.6s\tremaining: 556ms\n",
      "95:\tlearn: 1374.5024607\ttest: 1567.7504589\tbest: 1567.6405919 (93)\ttotal: 10.7s\tremaining: 444ms\n",
      "96:\tlearn: 1372.9908113\ttest: 1567.1400729\tbest: 1567.1400729 (96)\ttotal: 10.8s\tremaining: 333ms\n",
      "97:\tlearn: 1371.5207676\ttest: 1566.6929359\tbest: 1566.6929359 (97)\ttotal: 10.9s\tremaining: 222ms\n",
      "98:\tlearn: 1369.8147506\ttest: 1566.2096033\tbest: 1566.2096033 (98)\ttotal: 11s\tremaining: 111ms\n",
      "99:\tlearn: 1369.2891068\ttest: 1566.4185866\tbest: 1566.2096033 (98)\ttotal: 11.1s\tremaining: 0us\n",
      "\n",
      "bestTest = 1566.209603\n",
      "bestIteration = 98\n",
      "\n",
      "2:\tloss: 1566.2096033\tbest: 1559.5456630 (0)\ttotal: 34.9s\tremaining: 1m 9s\n",
      "Estimating final quality...\n",
      "Training on fold [0/3]\n",
      "0:\tlearn: 5050.2339566\ttest: 5021.7487285\tbest: 5021.7487285 (0)\ttotal: 132ms\tremaining: 13.1s\n",
      "1:\tlearn: 3893.0519042\ttest: 3870.5824971\tbest: 3870.5824971 (1)\ttotal: 238ms\tremaining: 11.7s\n",
      "2:\tlearn: 3142.3767998\ttest: 3121.7092850\tbest: 3121.7092850 (2)\ttotal: 348ms\tremaining: 11.2s\n",
      "3:\tlearn: 2668.7570095\ttest: 2653.0597681\tbest: 2653.0597681 (3)\ttotal: 440ms\tremaining: 10.6s\n",
      "4:\tlearn: 2369.2481295\ttest: 2354.8203190\tbest: 2354.8203190 (4)\ttotal: 530ms\tremaining: 10.1s\n",
      "5:\tlearn: 2147.1196595\ttest: 2135.1684380\tbest: 2135.1684380 (5)\ttotal: 625ms\tremaining: 9.79s\n",
      "6:\tlearn: 2018.4935603\ttest: 2007.4484076\tbest: 2007.4484076 (6)\ttotal: 714ms\tremaining: 9.49s\n",
      "7:\tlearn: 1919.3926076\ttest: 1909.9640369\tbest: 1909.9640369 (7)\ttotal: 799ms\tremaining: 9.19s\n",
      "8:\tlearn: 1860.2245087\ttest: 1852.8004474\tbest: 1852.8004474 (8)\ttotal: 889ms\tremaining: 8.98s\n",
      "9:\tlearn: 1820.5115471\ttest: 1814.5519365\tbest: 1814.5519365 (9)\ttotal: 984ms\tremaining: 8.86s\n",
      "10:\tlearn: 1795.9486129\ttest: 1791.6942156\tbest: 1791.6942156 (10)\ttotal: 1.09s\tremaining: 8.8s\n",
      "11:\tlearn: 1770.1280404\ttest: 1766.8482998\tbest: 1766.8482998 (11)\ttotal: 1.18s\tremaining: 8.68s\n",
      "12:\tlearn: 1742.0888489\ttest: 1744.0095067\tbest: 1744.0095067 (12)\ttotal: 1.27s\tremaining: 8.52s\n",
      "13:\tlearn: 1728.8824882\ttest: 1732.6218651\tbest: 1732.6218651 (13)\ttotal: 1.36s\tremaining: 8.36s\n",
      "14:\tlearn: 1720.0724313\ttest: 1724.5266111\tbest: 1724.5266111 (14)\ttotal: 1.46s\tremaining: 8.26s\n",
      "15:\tlearn: 1706.6117416\ttest: 1715.5803037\tbest: 1715.5803037 (15)\ttotal: 1.55s\tremaining: 8.13s\n",
      "16:\tlearn: 1697.5682907\ttest: 1708.4759877\tbest: 1708.4759877 (16)\ttotal: 1.64s\tremaining: 8s\n",
      "17:\tlearn: 1687.7802070\ttest: 1701.2192852\tbest: 1701.2192852 (17)\ttotal: 1.73s\tremaining: 7.88s\n",
      "18:\tlearn: 1681.4297625\ttest: 1695.9068499\tbest: 1695.9068499 (18)\ttotal: 1.84s\tremaining: 7.83s\n",
      "19:\tlearn: 1675.2684486\ttest: 1691.7780821\tbest: 1691.7780821 (19)\ttotal: 1.94s\tremaining: 7.78s\n",
      "20:\tlearn: 1669.2597356\ttest: 1686.1124552\tbest: 1686.1124552 (20)\ttotal: 2.06s\tremaining: 7.73s\n",
      "21:\tlearn: 1664.2989859\ttest: 1683.3803737\tbest: 1683.3803737 (21)\ttotal: 2.15s\tremaining: 7.62s\n",
      "22:\tlearn: 1655.9786768\ttest: 1677.0071658\tbest: 1677.0071658 (22)\ttotal: 2.24s\tremaining: 7.5s\n",
      "23:\tlearn: 1652.9823082\ttest: 1675.2115002\tbest: 1675.2115002 (23)\ttotal: 2.33s\tremaining: 7.39s\n",
      "24:\tlearn: 1647.3012688\ttest: 1672.1689879\tbest: 1672.1689879 (24)\ttotal: 2.42s\tremaining: 7.27s\n",
      "25:\tlearn: 1643.5569625\ttest: 1669.6538958\tbest: 1669.6538958 (25)\ttotal: 2.5s\tremaining: 7.13s\n",
      "26:\tlearn: 1637.7481896\ttest: 1665.2346331\tbest: 1665.2346331 (26)\ttotal: 2.59s\tremaining: 7.01s\n",
      "27:\tlearn: 1631.0443171\ttest: 1659.8676770\tbest: 1659.8676770 (27)\ttotal: 2.68s\tremaining: 6.9s\n",
      "28:\tlearn: 1627.4456261\ttest: 1658.6501161\tbest: 1658.6501161 (28)\ttotal: 2.78s\tremaining: 6.8s\n",
      "29:\tlearn: 1621.2501562\ttest: 1654.7957971\tbest: 1654.7957971 (29)\ttotal: 2.87s\tremaining: 6.69s\n",
      "30:\tlearn: 1619.5273077\ttest: 1654.3171361\tbest: 1654.3171361 (30)\ttotal: 2.96s\tremaining: 6.59s\n",
      "31:\tlearn: 1616.3536117\ttest: 1653.4094599\tbest: 1653.4094599 (31)\ttotal: 3.06s\tremaining: 6.51s\n",
      "32:\tlearn: 1613.7006942\ttest: 1652.1190732\tbest: 1652.1190732 (32)\ttotal: 3.16s\tremaining: 6.41s\n",
      "33:\tlearn: 1609.6392440\ttest: 1649.2149396\tbest: 1649.2149396 (33)\ttotal: 3.25s\tremaining: 6.31s\n",
      "34:\tlearn: 1602.2245564\ttest: 1644.4413783\tbest: 1644.4413783 (34)\ttotal: 3.34s\tremaining: 6.21s\n",
      "35:\tlearn: 1598.6202512\ttest: 1642.6970726\tbest: 1642.6970726 (35)\ttotal: 3.43s\tremaining: 6.09s\n",
      "36:\tlearn: 1591.6588337\ttest: 1635.7944452\tbest: 1635.7944452 (36)\ttotal: 3.52s\tremaining: 5.99s\n",
      "37:\tlearn: 1585.6826968\ttest: 1631.3249302\tbest: 1631.3249302 (37)\ttotal: 3.61s\tremaining: 5.89s\n",
      "38:\tlearn: 1579.0468095\ttest: 1626.0126576\tbest: 1626.0126576 (38)\ttotal: 3.69s\tremaining: 5.78s\n",
      "39:\tlearn: 1576.8696103\ttest: 1624.3744986\tbest: 1624.3744986 (39)\ttotal: 3.79s\tremaining: 5.68s\n",
      "40:\tlearn: 1573.6262520\ttest: 1622.1172299\tbest: 1622.1172299 (40)\ttotal: 3.9s\tremaining: 5.61s\n",
      "41:\tlearn: 1566.8022839\ttest: 1617.6541629\tbest: 1617.6541629 (41)\ttotal: 4s\tremaining: 5.52s\n",
      "42:\tlearn: 1562.7262691\ttest: 1614.7865324\tbest: 1614.7865324 (42)\ttotal: 4.08s\tremaining: 5.41s\n",
      "43:\tlearn: 1560.3010286\ttest: 1613.7412566\tbest: 1613.7412566 (43)\ttotal: 4.17s\tremaining: 5.31s\n",
      "44:\tlearn: 1557.7214113\ttest: 1612.9976390\tbest: 1612.9976390 (44)\ttotal: 4.26s\tremaining: 5.21s\n",
      "45:\tlearn: 1555.8856152\ttest: 1611.9999946\tbest: 1611.9999946 (45)\ttotal: 4.36s\tremaining: 5.12s\n",
      "46:\tlearn: 1551.9759652\ttest: 1609.5295431\tbest: 1609.5295431 (46)\ttotal: 4.46s\tremaining: 5.02s\n",
      "47:\tlearn: 1548.7553942\ttest: 1607.1720308\tbest: 1607.1720308 (47)\ttotal: 4.55s\tremaining: 4.93s\n",
      "48:\tlearn: 1546.5712455\ttest: 1606.0600599\tbest: 1606.0600599 (48)\ttotal: 4.64s\tremaining: 4.83s\n",
      "49:\tlearn: 1542.4318393\ttest: 1603.3740011\tbest: 1603.3740011 (49)\ttotal: 4.73s\tremaining: 4.73s\n",
      "50:\tlearn: 1539.3216988\ttest: 1601.4400551\tbest: 1601.4400551 (50)\ttotal: 4.82s\tremaining: 4.63s\n",
      "51:\tlearn: 1537.0383436\ttest: 1600.3097890\tbest: 1600.3097890 (51)\ttotal: 4.91s\tremaining: 4.53s\n",
      "52:\tlearn: 1535.6206555\ttest: 1600.0070451\tbest: 1600.0070451 (52)\ttotal: 4.99s\tremaining: 4.43s\n",
      "53:\tlearn: 1534.1412151\ttest: 1599.4877981\tbest: 1599.4877981 (53)\ttotal: 5.08s\tremaining: 4.33s\n",
      "54:\tlearn: 1531.3015495\ttest: 1598.6833188\tbest: 1598.6833188 (54)\ttotal: 5.18s\tremaining: 4.24s\n",
      "55:\tlearn: 1528.4147650\ttest: 1596.5511439\tbest: 1596.5511439 (55)\ttotal: 5.27s\tremaining: 4.14s\n",
      "56:\tlearn: 1527.1618065\ttest: 1595.8961254\tbest: 1595.8961254 (56)\ttotal: 5.36s\tremaining: 4.05s\n",
      "57:\tlearn: 1525.5124621\ttest: 1594.4761897\tbest: 1594.4761897 (57)\ttotal: 5.46s\tremaining: 3.95s\n",
      "58:\tlearn: 1522.8697201\ttest: 1593.1363622\tbest: 1593.1363622 (58)\ttotal: 5.55s\tremaining: 3.86s\n",
      "59:\tlearn: 1518.9716612\ttest: 1591.0587523\tbest: 1591.0587523 (59)\ttotal: 5.66s\tremaining: 3.78s\n",
      "60:\tlearn: 1516.9674842\ttest: 1590.5559510\tbest: 1590.5559510 (60)\ttotal: 5.77s\tremaining: 3.69s\n",
      "61:\tlearn: 1515.1437670\ttest: 1589.2961622\tbest: 1589.2961622 (61)\ttotal: 5.89s\tremaining: 3.61s\n",
      "62:\tlearn: 1514.3183477\ttest: 1588.6635120\tbest: 1588.6635120 (62)\ttotal: 6.03s\tremaining: 3.54s\n",
      "63:\tlearn: 1512.9563377\ttest: 1587.8993439\tbest: 1587.8993439 (63)\ttotal: 6.17s\tremaining: 3.47s\n",
      "64:\tlearn: 1511.2417996\ttest: 1587.0328271\tbest: 1587.0328271 (64)\ttotal: 6.29s\tremaining: 3.39s\n",
      "65:\tlearn: 1508.9858085\ttest: 1586.5830330\tbest: 1586.5830330 (65)\ttotal: 6.38s\tremaining: 3.29s\n",
      "66:\tlearn: 1507.4378481\ttest: 1585.9823053\tbest: 1585.9823053 (66)\ttotal: 6.48s\tremaining: 3.19s\n",
      "67:\tlearn: 1505.2332708\ttest: 1584.9948056\tbest: 1584.9948056 (67)\ttotal: 6.58s\tremaining: 3.1s\n",
      "68:\tlearn: 1502.0706969\ttest: 1582.8916791\tbest: 1582.8916791 (68)\ttotal: 6.67s\tremaining: 3s\n",
      "69:\tlearn: 1500.3750126\ttest: 1582.8252532\tbest: 1582.8252532 (69)\ttotal: 6.77s\tremaining: 2.9s\n",
      "70:\tlearn: 1499.4715600\ttest: 1582.6692130\tbest: 1582.6692130 (70)\ttotal: 6.86s\tremaining: 2.8s\n",
      "71:\tlearn: 1497.5437704\ttest: 1581.5625692\tbest: 1581.5625692 (71)\ttotal: 6.95s\tremaining: 2.7s\n",
      "72:\tlearn: 1496.3665632\ttest: 1580.7834982\tbest: 1580.7834982 (72)\ttotal: 7.05s\tremaining: 2.61s\n",
      "73:\tlearn: 1493.5493537\ttest: 1579.8808516\tbest: 1579.8808516 (73)\ttotal: 7.15s\tremaining: 2.51s\n",
      "74:\tlearn: 1492.4941624\ttest: 1579.2643435\tbest: 1579.2643435 (74)\ttotal: 7.25s\tremaining: 2.42s\n",
      "75:\tlearn: 1491.5103686\ttest: 1578.6539240\tbest: 1578.6539240 (75)\ttotal: 7.33s\tremaining: 2.32s\n",
      "76:\tlearn: 1489.8714055\ttest: 1578.2993449\tbest: 1578.2993449 (76)\ttotal: 7.43s\tremaining: 2.22s\n",
      "77:\tlearn: 1488.6921105\ttest: 1578.3490450\tbest: 1578.2993449 (76)\ttotal: 7.52s\tremaining: 2.12s\n",
      "78:\tlearn: 1487.1779779\ttest: 1577.4505615\tbest: 1577.4505615 (78)\ttotal: 7.61s\tremaining: 2.02s\n",
      "79:\tlearn: 1486.2236223\ttest: 1577.0348838\tbest: 1577.0348838 (79)\ttotal: 7.69s\tremaining: 1.92s\n",
      "80:\tlearn: 1485.4124965\ttest: 1577.0522023\tbest: 1577.0348838 (79)\ttotal: 7.78s\tremaining: 1.82s\n",
      "81:\tlearn: 1483.6181371\ttest: 1576.3737652\tbest: 1576.3737652 (81)\ttotal: 7.87s\tremaining: 1.73s\n",
      "82:\tlearn: 1481.0160828\ttest: 1575.4309590\tbest: 1575.4309590 (82)\ttotal: 7.96s\tremaining: 1.63s\n",
      "83:\tlearn: 1479.4392965\ttest: 1574.9228207\tbest: 1574.9228207 (83)\ttotal: 8.05s\tremaining: 1.53s\n",
      "84:\tlearn: 1478.4101451\ttest: 1574.2707769\tbest: 1574.2707769 (84)\ttotal: 8.14s\tremaining: 1.44s\n",
      "85:\tlearn: 1477.4757893\ttest: 1574.2133596\tbest: 1574.2133596 (85)\ttotal: 8.23s\tremaining: 1.34s\n",
      "86:\tlearn: 1475.7712676\ttest: 1573.2702568\tbest: 1573.2702568 (86)\ttotal: 8.33s\tremaining: 1.24s\n",
      "87:\tlearn: 1474.0510735\ttest: 1572.5174133\tbest: 1572.5174133 (87)\ttotal: 8.42s\tremaining: 1.15s\n",
      "88:\tlearn: 1472.5041081\ttest: 1572.0086481\tbest: 1572.0086481 (88)\ttotal: 8.5s\tremaining: 1.05s\n",
      "89:\tlearn: 1471.2199708\ttest: 1571.6755154\tbest: 1571.6755154 (89)\ttotal: 8.58s\tremaining: 954ms\n",
      "90:\tlearn: 1470.5099225\ttest: 1571.7325911\tbest: 1571.6755154 (89)\ttotal: 8.68s\tremaining: 858ms\n",
      "91:\tlearn: 1468.7386730\ttest: 1570.3544506\tbest: 1570.3544506 (91)\ttotal: 8.77s\tremaining: 762ms\n",
      "92:\tlearn: 1465.1634486\ttest: 1569.2841639\tbest: 1569.2841639 (92)\ttotal: 8.86s\tremaining: 667ms\n",
      "93:\tlearn: 1462.4288347\ttest: 1567.7473283\tbest: 1567.7473283 (93)\ttotal: 8.96s\tremaining: 572ms\n",
      "94:\tlearn: 1461.1747935\ttest: 1567.3228909\tbest: 1567.3228909 (94)\ttotal: 9.06s\tremaining: 477ms\n",
      "95:\tlearn: 1460.7305967\ttest: 1567.2755186\tbest: 1567.2755186 (95)\ttotal: 9.15s\tremaining: 381ms\n",
      "96:\tlearn: 1459.7486685\ttest: 1567.2554341\tbest: 1567.2554341 (96)\ttotal: 9.24s\tremaining: 286ms\n",
      "97:\tlearn: 1457.6156289\ttest: 1566.4298373\tbest: 1566.4298373 (97)\ttotal: 9.34s\tremaining: 191ms\n",
      "98:\tlearn: 1455.9605817\ttest: 1566.1595003\tbest: 1566.1595003 (98)\ttotal: 9.44s\tremaining: 95.3ms\n",
      "99:\tlearn: 1453.8384552\ttest: 1565.5297387\tbest: 1565.5297387 (99)\ttotal: 9.54s\tremaining: 0us\n",
      "\n",
      "bestTest = 1565.529739\n",
      "bestIteration = 99\n",
      "\n",
      "Training on fold [1/3]\n",
      "0:\tlearn: 5075.1294991\ttest: 5134.6871309\tbest: 5134.6871309 (0)\ttotal: 83.7ms\tremaining: 8.28s\n",
      "1:\tlearn: 3909.6214048\ttest: 3959.4951770\tbest: 3959.4951770 (1)\ttotal: 189ms\tremaining: 9.25s\n",
      "2:\tlearn: 3152.2902309\ttest: 3194.2182959\tbest: 3194.2182959 (2)\ttotal: 291ms\tremaining: 9.42s\n",
      "3:\tlearn: 2675.6992117\ttest: 2713.6246136\tbest: 2713.6246136 (3)\ttotal: 394ms\tremaining: 9.46s\n",
      "4:\tlearn: 2372.5772165\ttest: 2408.0431695\tbest: 2408.0431695 (4)\ttotal: 501ms\tremaining: 9.53s\n",
      "5:\tlearn: 2148.1115436\ttest: 2180.3378150\tbest: 2180.3378150 (5)\ttotal: 594ms\tremaining: 9.3s\n",
      "6:\tlearn: 2019.7553307\ttest: 2049.7407592\tbest: 2049.7407592 (6)\ttotal: 688ms\tremaining: 9.14s\n",
      "7:\tlearn: 1917.3873184\ttest: 1946.3810098\tbest: 1946.3810098 (7)\ttotal: 788ms\tremaining: 9.06s\n",
      "8:\tlearn: 1854.1147514\ttest: 1884.9496465\tbest: 1884.9496465 (8)\ttotal: 880ms\tremaining: 8.9s\n",
      "9:\tlearn: 1814.7801831\ttest: 1846.3448027\tbest: 1846.3448027 (9)\ttotal: 972ms\tremaining: 8.75s\n",
      "10:\tlearn: 1776.3153350\ttest: 1806.4655963\tbest: 1806.4655963 (10)\ttotal: 1.07s\tremaining: 8.65s\n",
      "11:\tlearn: 1749.8207203\ttest: 1781.6608982\tbest: 1781.6608982 (11)\ttotal: 1.16s\tremaining: 8.54s\n",
      "12:\tlearn: 1734.7692947\ttest: 1767.2964358\tbest: 1767.2964358 (12)\ttotal: 1.25s\tremaining: 8.38s\n",
      "13:\tlearn: 1720.9581763\ttest: 1754.4115619\tbest: 1754.4115619 (13)\ttotal: 1.35s\tremaining: 8.3s\n",
      "14:\tlearn: 1711.0397015\ttest: 1746.8312916\tbest: 1746.8312916 (14)\ttotal: 1.44s\tremaining: 8.18s\n",
      "15:\tlearn: 1697.5200699\ttest: 1736.1735109\tbest: 1736.1735109 (15)\ttotal: 1.53s\tremaining: 8.04s\n",
      "16:\tlearn: 1689.6409383\ttest: 1729.0280460\tbest: 1729.0280460 (16)\ttotal: 1.63s\tremaining: 7.94s\n",
      "17:\tlearn: 1684.1895562\ttest: 1724.1220436\tbest: 1724.1220436 (17)\ttotal: 1.71s\tremaining: 7.81s\n",
      "18:\tlearn: 1677.2649988\ttest: 1719.2461562\tbest: 1719.2461562 (18)\ttotal: 1.8s\tremaining: 7.69s\n",
      "19:\tlearn: 1669.9967707\ttest: 1712.5728791\tbest: 1712.5728791 (19)\ttotal: 1.9s\tremaining: 7.58s\n",
      "20:\tlearn: 1663.6058093\ttest: 1706.8830173\tbest: 1706.8830173 (20)\ttotal: 1.99s\tremaining: 7.48s\n",
      "21:\tlearn: 1658.3579074\ttest: 1703.5699203\tbest: 1703.5699203 (21)\ttotal: 2.08s\tremaining: 7.38s\n",
      "22:\tlearn: 1652.0427400\ttest: 1698.2241902\tbest: 1698.2241902 (22)\ttotal: 2.17s\tremaining: 7.28s\n",
      "23:\tlearn: 1645.5007110\ttest: 1693.4921221\tbest: 1693.4921221 (23)\ttotal: 2.27s\tremaining: 7.19s\n",
      "24:\tlearn: 1640.5827760\ttest: 1688.8197807\tbest: 1688.8197807 (24)\ttotal: 2.36s\tremaining: 7.08s\n",
      "25:\tlearn: 1633.6665464\ttest: 1686.5780699\tbest: 1686.5780699 (25)\ttotal: 2.46s\tremaining: 6.99s\n",
      "26:\tlearn: 1629.0636362\ttest: 1682.3835877\tbest: 1682.3835877 (26)\ttotal: 2.55s\tremaining: 6.88s\n",
      "27:\tlearn: 1624.9782045\ttest: 1680.4731826\tbest: 1680.4731826 (27)\ttotal: 2.63s\tremaining: 6.77s\n",
      "28:\tlearn: 1621.4826192\ttest: 1678.0113168\tbest: 1678.0113168 (28)\ttotal: 2.72s\tremaining: 6.66s\n",
      "29:\tlearn: 1618.0250677\ttest: 1675.9966517\tbest: 1675.9966517 (29)\ttotal: 2.81s\tremaining: 6.57s\n",
      "30:\tlearn: 1613.0636649\ttest: 1671.9399261\tbest: 1671.9399261 (30)\ttotal: 2.9s\tremaining: 6.45s\n",
      "31:\tlearn: 1608.2050987\ttest: 1669.4615907\tbest: 1669.4615907 (31)\ttotal: 2.99s\tremaining: 6.35s\n",
      "32:\tlearn: 1605.6486111\ttest: 1666.7062234\tbest: 1666.7062234 (32)\ttotal: 3.08s\tremaining: 6.26s\n",
      "33:\tlearn: 1603.7004021\ttest: 1665.1858836\tbest: 1665.1858836 (33)\ttotal: 3.18s\tremaining: 6.17s\n",
      "34:\tlearn: 1601.5492171\ttest: 1664.1858489\tbest: 1664.1858489 (34)\ttotal: 3.28s\tremaining: 6.09s\n",
      "35:\tlearn: 1596.7732443\ttest: 1660.5335444\tbest: 1660.5335444 (35)\ttotal: 3.38s\tremaining: 6.01s\n",
      "36:\tlearn: 1593.5487081\ttest: 1657.4166183\tbest: 1657.4166183 (36)\ttotal: 3.48s\tremaining: 5.92s\n",
      "37:\tlearn: 1589.9930575\ttest: 1655.0729544\tbest: 1655.0729544 (37)\ttotal: 3.57s\tremaining: 5.82s\n",
      "38:\tlearn: 1585.8932677\ttest: 1652.2887005\tbest: 1652.2887005 (38)\ttotal: 3.66s\tremaining: 5.73s\n",
      "39:\tlearn: 1580.5766175\ttest: 1648.8241594\tbest: 1648.8241594 (39)\ttotal: 3.76s\tremaining: 5.63s\n",
      "40:\tlearn: 1576.6032235\ttest: 1645.8840368\tbest: 1645.8840368 (40)\ttotal: 3.86s\tremaining: 5.55s\n",
      "41:\tlearn: 1571.7395259\ttest: 1642.1247011\tbest: 1642.1247011 (41)\ttotal: 3.95s\tremaining: 5.45s\n",
      "42:\tlearn: 1568.1879623\ttest: 1639.7660849\tbest: 1639.7660849 (42)\ttotal: 4.04s\tremaining: 5.36s\n",
      "43:\tlearn: 1566.0162752\ttest: 1638.6099411\tbest: 1638.6099411 (43)\ttotal: 4.14s\tremaining: 5.26s\n",
      "44:\tlearn: 1564.3411602\ttest: 1637.8733270\tbest: 1637.8733270 (44)\ttotal: 4.23s\tremaining: 5.17s\n",
      "45:\tlearn: 1561.3937816\ttest: 1636.8846443\tbest: 1636.8846443 (45)\ttotal: 4.33s\tremaining: 5.08s\n",
      "46:\tlearn: 1559.0068194\ttest: 1635.2481286\tbest: 1635.2481286 (46)\ttotal: 4.42s\tremaining: 4.98s\n",
      "47:\tlearn: 1553.7198047\ttest: 1632.6142538\tbest: 1632.6142538 (47)\ttotal: 4.5s\tremaining: 4.88s\n",
      "48:\tlearn: 1551.4557835\ttest: 1632.0549568\tbest: 1632.0549568 (48)\ttotal: 4.59s\tremaining: 4.78s\n",
      "49:\tlearn: 1547.8208872\ttest: 1630.3832472\tbest: 1630.3832472 (49)\ttotal: 4.68s\tremaining: 4.68s\n",
      "50:\tlearn: 1543.6090500\ttest: 1627.7277534\tbest: 1627.7277534 (50)\ttotal: 4.78s\tremaining: 4.59s\n",
      "51:\tlearn: 1541.6907523\ttest: 1627.0790815\tbest: 1627.0790815 (51)\ttotal: 4.88s\tremaining: 4.5s\n",
      "52:\tlearn: 1540.2208347\ttest: 1626.5136572\tbest: 1626.5136572 (52)\ttotal: 4.97s\tremaining: 4.41s\n",
      "53:\tlearn: 1536.9078687\ttest: 1623.2539757\tbest: 1623.2539757 (53)\ttotal: 5.06s\tremaining: 4.31s\n",
      "54:\tlearn: 1534.0919954\ttest: 1620.9333369\tbest: 1620.9333369 (54)\ttotal: 5.15s\tremaining: 4.22s\n",
      "55:\tlearn: 1532.5217924\ttest: 1619.7169365\tbest: 1619.7169365 (55)\ttotal: 5.25s\tremaining: 4.12s\n",
      "56:\tlearn: 1529.1945239\ttest: 1617.3412308\tbest: 1617.3412308 (56)\ttotal: 5.34s\tremaining: 4.03s\n",
      "57:\tlearn: 1527.7608720\ttest: 1616.8792549\tbest: 1616.8792549 (57)\ttotal: 5.43s\tremaining: 3.93s\n",
      "58:\tlearn: 1525.5672323\ttest: 1616.0417390\tbest: 1616.0417390 (58)\ttotal: 5.52s\tremaining: 3.83s\n",
      "59:\tlearn: 1522.9798132\ttest: 1614.9730033\tbest: 1614.9730033 (59)\ttotal: 5.61s\tremaining: 3.74s\n",
      "60:\tlearn: 1517.8355987\ttest: 1610.8840418\tbest: 1610.8840418 (60)\ttotal: 5.7s\tremaining: 3.64s\n",
      "61:\tlearn: 1514.4412476\ttest: 1609.6837393\tbest: 1609.6837393 (61)\ttotal: 5.79s\tremaining: 3.55s\n",
      "62:\tlearn: 1509.4491059\ttest: 1606.7846538\tbest: 1606.7846538 (62)\ttotal: 5.89s\tremaining: 3.46s\n",
      "63:\tlearn: 1507.0199755\ttest: 1604.5198573\tbest: 1604.5198573 (63)\ttotal: 5.99s\tremaining: 3.37s\n",
      "64:\tlearn: 1503.8129228\ttest: 1602.9848298\tbest: 1602.9848298 (64)\ttotal: 6.09s\tremaining: 3.28s\n",
      "65:\tlearn: 1501.4037308\ttest: 1601.2407334\tbest: 1601.2407334 (65)\ttotal: 6.21s\tremaining: 3.2s\n",
      "66:\tlearn: 1497.3851806\ttest: 1598.8932780\tbest: 1598.8932780 (66)\ttotal: 6.33s\tremaining: 3.12s\n",
      "67:\tlearn: 1495.1349337\ttest: 1597.5456695\tbest: 1597.5456695 (67)\ttotal: 6.43s\tremaining: 3.03s\n",
      "68:\tlearn: 1492.9309533\ttest: 1596.4459429\tbest: 1596.4459429 (68)\ttotal: 6.54s\tremaining: 2.94s\n",
      "69:\tlearn: 1490.4163577\ttest: 1594.8244966\tbest: 1594.8244966 (69)\ttotal: 6.65s\tremaining: 2.85s\n",
      "70:\tlearn: 1488.8476260\ttest: 1594.1476274\tbest: 1594.1476274 (70)\ttotal: 6.74s\tremaining: 2.75s\n",
      "71:\tlearn: 1486.4904993\ttest: 1593.5144836\tbest: 1593.5144836 (71)\ttotal: 6.84s\tremaining: 2.66s\n",
      "72:\tlearn: 1484.7645301\ttest: 1592.7548556\tbest: 1592.7548556 (72)\ttotal: 6.94s\tremaining: 2.57s\n",
      "73:\tlearn: 1483.3174722\ttest: 1592.0714909\tbest: 1592.0714909 (73)\ttotal: 7.03s\tremaining: 2.47s\n",
      "74:\tlearn: 1481.7728103\ttest: 1591.7880144\tbest: 1591.7880144 (74)\ttotal: 7.12s\tremaining: 2.37s\n",
      "75:\tlearn: 1480.3812532\ttest: 1591.0691443\tbest: 1591.0691443 (75)\ttotal: 7.21s\tremaining: 2.27s\n",
      "76:\tlearn: 1478.8654592\ttest: 1590.3888322\tbest: 1590.3888322 (76)\ttotal: 7.29s\tremaining: 2.18s\n",
      "77:\tlearn: 1477.8682154\ttest: 1589.7560343\tbest: 1589.7560343 (77)\ttotal: 7.4s\tremaining: 2.09s\n",
      "78:\tlearn: 1477.0720051\ttest: 1589.1883678\tbest: 1589.1883678 (78)\ttotal: 7.49s\tremaining: 1.99s\n",
      "79:\tlearn: 1475.6326537\ttest: 1588.8453327\tbest: 1588.8453327 (79)\ttotal: 7.58s\tremaining: 1.9s\n",
      "80:\tlearn: 1474.0068037\ttest: 1588.5259212\tbest: 1588.5259212 (80)\ttotal: 7.67s\tremaining: 1.8s\n",
      "81:\tlearn: 1472.1532859\ttest: 1587.4820835\tbest: 1587.4820835 (81)\ttotal: 7.76s\tremaining: 1.7s\n",
      "82:\tlearn: 1469.0758016\ttest: 1586.0255333\tbest: 1586.0255333 (82)\ttotal: 7.86s\tremaining: 1.61s\n",
      "83:\tlearn: 1467.2079932\ttest: 1585.2747704\tbest: 1585.2747704 (83)\ttotal: 7.97s\tremaining: 1.52s\n",
      "84:\tlearn: 1464.7592398\ttest: 1583.7056032\tbest: 1583.7056032 (84)\ttotal: 8.06s\tremaining: 1.42s\n",
      "85:\tlearn: 1463.8987170\ttest: 1583.2291096\tbest: 1583.2291096 (85)\ttotal: 8.16s\tremaining: 1.33s\n",
      "86:\tlearn: 1461.6040390\ttest: 1582.3058519\tbest: 1582.3058519 (86)\ttotal: 8.25s\tremaining: 1.23s\n",
      "87:\tlearn: 1460.1364011\ttest: 1581.7943706\tbest: 1581.7943706 (87)\ttotal: 8.35s\tremaining: 1.14s\n",
      "88:\tlearn: 1458.4393582\ttest: 1581.1650311\tbest: 1581.1650311 (88)\ttotal: 8.44s\tremaining: 1.04s\n",
      "89:\tlearn: 1457.2405854\ttest: 1580.9586322\tbest: 1580.9586322 (89)\ttotal: 8.53s\tremaining: 947ms\n",
      "90:\tlearn: 1456.8412005\ttest: 1580.9479550\tbest: 1580.9479550 (90)\ttotal: 8.62s\tremaining: 852ms\n",
      "91:\tlearn: 1455.3666403\ttest: 1580.7609833\tbest: 1580.7609833 (91)\ttotal: 8.7s\tremaining: 756ms\n",
      "92:\tlearn: 1453.7571744\ttest: 1580.3423896\tbest: 1580.3423896 (92)\ttotal: 8.79s\tremaining: 661ms\n",
      "93:\tlearn: 1451.6839934\ttest: 1579.2985745\tbest: 1579.2985745 (93)\ttotal: 8.88s\tremaining: 567ms\n",
      "94:\tlearn: 1450.7164339\ttest: 1579.0360108\tbest: 1579.0360108 (94)\ttotal: 8.98s\tremaining: 473ms\n",
      "95:\tlearn: 1449.0555983\ttest: 1578.7715325\tbest: 1578.7715325 (95)\ttotal: 9.08s\tremaining: 378ms\n",
      "96:\tlearn: 1447.7355440\ttest: 1578.4138485\tbest: 1578.4138485 (96)\ttotal: 9.17s\tremaining: 284ms\n",
      "97:\tlearn: 1444.0509307\ttest: 1576.0306707\tbest: 1576.0306707 (97)\ttotal: 9.26s\tremaining: 189ms\n",
      "98:\tlearn: 1442.8139172\ttest: 1575.6907652\tbest: 1575.6907652 (98)\ttotal: 9.37s\tremaining: 94.6ms\n",
      "99:\tlearn: 1442.2609889\ttest: 1575.3822543\tbest: 1575.3822543 (99)\ttotal: 9.46s\tremaining: 0us\n",
      "\n",
      "bestTest = 1575.382254\n",
      "bestIteration = 99\n",
      "\n",
      "Training on fold [2/3]\n",
      "0:\tlearn: 5052.7844219\ttest: 5027.1204566\tbest: 5027.1204566 (0)\ttotal: 99.9ms\tremaining: 9.88s\n",
      "1:\tlearn: 3898.9970860\ttest: 3882.2364783\tbest: 3882.2364783 (1)\ttotal: 204ms\tremaining: 9.98s\n",
      "2:\tlearn: 3160.4124671\ttest: 3148.9890643\tbest: 3148.9890643 (2)\ttotal: 297ms\tremaining: 9.62s\n",
      "3:\tlearn: 2673.2806027\ttest: 2669.5645889\tbest: 2669.5645889 (3)\ttotal: 391ms\tremaining: 9.39s\n",
      "4:\tlearn: 2381.7865482\ttest: 2382.9340062\tbest: 2382.9340062 (4)\ttotal: 487ms\tremaining: 9.26s\n",
      "5:\tlearn: 2163.9265436\ttest: 2168.5302031\tbest: 2168.5302031 (5)\ttotal: 586ms\tremaining: 9.18s\n",
      "6:\tlearn: 2034.6574402\ttest: 2042.2890371\tbest: 2042.2890371 (6)\ttotal: 678ms\tremaining: 9.01s\n",
      "7:\tlearn: 1930.0081102\ttest: 1942.0606269\tbest: 1942.0606269 (7)\ttotal: 781ms\tremaining: 8.98s\n",
      "8:\tlearn: 1868.6303688\ttest: 1883.9902549\tbest: 1883.9902549 (8)\ttotal: 881ms\tremaining: 8.91s\n",
      "9:\tlearn: 1826.8526246\ttest: 1846.0133085\tbest: 1846.0133085 (9)\ttotal: 977ms\tremaining: 8.79s\n",
      "10:\tlearn: 1786.9288471\ttest: 1808.1128129\tbest: 1808.1128129 (10)\ttotal: 1.07s\tremaining: 8.69s\n",
      "11:\tlearn: 1766.4930197\ttest: 1788.8223284\tbest: 1788.8223284 (11)\ttotal: 1.18s\tremaining: 8.65s\n",
      "12:\tlearn: 1750.9111624\ttest: 1775.8279090\tbest: 1775.8279090 (12)\ttotal: 1.27s\tremaining: 8.5s\n",
      "13:\tlearn: 1733.2649932\ttest: 1761.2583452\tbest: 1761.2583452 (13)\ttotal: 1.36s\tremaining: 8.36s\n",
      "14:\tlearn: 1718.3915662\ttest: 1749.8855671\tbest: 1749.8855671 (14)\ttotal: 1.46s\tremaining: 8.26s\n",
      "15:\tlearn: 1705.4953274\ttest: 1738.0544178\tbest: 1738.0544178 (15)\ttotal: 1.56s\tremaining: 8.18s\n",
      "16:\tlearn: 1695.8057877\ttest: 1731.4110252\tbest: 1731.4110252 (16)\ttotal: 1.65s\tremaining: 8.07s\n",
      "17:\tlearn: 1688.6132227\ttest: 1726.5621769\tbest: 1726.5621769 (17)\ttotal: 1.76s\tremaining: 8s\n",
      "18:\tlearn: 1679.4540877\ttest: 1719.1945128\tbest: 1719.1945128 (18)\ttotal: 1.85s\tremaining: 7.87s\n",
      "19:\tlearn: 1670.8429208\ttest: 1713.8955536\tbest: 1713.8955536 (19)\ttotal: 1.94s\tremaining: 7.75s\n",
      "20:\tlearn: 1659.6691734\ttest: 1705.0549305\tbest: 1705.0549305 (20)\ttotal: 2.03s\tremaining: 7.63s\n",
      "21:\tlearn: 1649.4767029\ttest: 1697.3531444\tbest: 1697.3531444 (21)\ttotal: 2.12s\tremaining: 7.5s\n",
      "22:\tlearn: 1646.7933604\ttest: 1695.4868808\tbest: 1695.4868808 (22)\ttotal: 2.2s\tremaining: 7.37s\n",
      "23:\tlearn: 1638.1098095\ttest: 1689.6568811\tbest: 1689.6568811 (23)\ttotal: 2.29s\tremaining: 7.25s\n",
      "24:\tlearn: 1633.3326053\ttest: 1685.7810304\tbest: 1685.7810304 (24)\ttotal: 2.39s\tremaining: 7.17s\n",
      "25:\tlearn: 1630.3007896\ttest: 1683.7657051\tbest: 1683.7657051 (25)\ttotal: 2.48s\tremaining: 7.05s\n",
      "26:\tlearn: 1625.8186427\ttest: 1680.1627615\tbest: 1680.1627615 (26)\ttotal: 2.57s\tremaining: 6.96s\n",
      "27:\tlearn: 1621.6038493\ttest: 1676.2546616\tbest: 1676.2546616 (27)\ttotal: 2.66s\tremaining: 6.85s\n",
      "28:\tlearn: 1618.2349318\ttest: 1673.7899413\tbest: 1673.7899413 (28)\ttotal: 2.75s\tremaining: 6.75s\n",
      "29:\tlearn: 1611.2353023\ttest: 1668.9839122\tbest: 1668.9839122 (29)\ttotal: 2.85s\tremaining: 6.66s\n",
      "30:\tlearn: 1608.7537198\ttest: 1667.7131558\tbest: 1667.7131558 (30)\ttotal: 2.94s\tremaining: 6.55s\n",
      "31:\tlearn: 1604.7982433\ttest: 1664.4857881\tbest: 1664.4857881 (31)\ttotal: 3.04s\tremaining: 6.46s\n",
      "32:\tlearn: 1600.0401029\ttest: 1661.5933069\tbest: 1661.5933069 (32)\ttotal: 3.13s\tremaining: 6.36s\n",
      "33:\tlearn: 1596.8447245\ttest: 1659.6218444\tbest: 1659.6218444 (33)\ttotal: 3.22s\tremaining: 6.25s\n",
      "34:\tlearn: 1593.6703367\ttest: 1657.7998670\tbest: 1657.7998670 (34)\ttotal: 3.3s\tremaining: 6.13s\n",
      "35:\tlearn: 1589.5195123\ttest: 1655.0598976\tbest: 1655.0598976 (35)\ttotal: 3.39s\tremaining: 6.02s\n",
      "36:\tlearn: 1586.9027152\ttest: 1653.2382254\tbest: 1653.2382254 (36)\ttotal: 3.48s\tremaining: 5.92s\n",
      "37:\tlearn: 1584.7227677\ttest: 1651.8953267\tbest: 1651.8953267 (37)\ttotal: 3.57s\tremaining: 5.83s\n",
      "38:\tlearn: 1581.1478963\ttest: 1649.9735797\tbest: 1649.9735797 (38)\ttotal: 3.66s\tremaining: 5.73s\n",
      "39:\tlearn: 1578.0746945\ttest: 1647.0269838\tbest: 1647.0269838 (39)\ttotal: 3.76s\tremaining: 5.64s\n",
      "40:\tlearn: 1572.1938357\ttest: 1643.3046264\tbest: 1643.3046264 (40)\ttotal: 3.86s\tremaining: 5.56s\n",
      "41:\tlearn: 1567.5178767\ttest: 1640.6030980\tbest: 1640.6030980 (41)\ttotal: 3.96s\tremaining: 5.47s\n",
      "42:\tlearn: 1563.5443778\ttest: 1637.9688697\tbest: 1637.9688697 (42)\ttotal: 4.05s\tremaining: 5.38s\n",
      "43:\tlearn: 1560.8370116\ttest: 1636.6379809\tbest: 1636.6379809 (43)\ttotal: 4.15s\tremaining: 5.28s\n",
      "44:\tlearn: 1558.2999955\ttest: 1635.1196366\tbest: 1635.1196366 (44)\ttotal: 4.24s\tremaining: 5.18s\n",
      "45:\tlearn: 1556.9375718\ttest: 1634.0949860\tbest: 1634.0949860 (45)\ttotal: 4.34s\tremaining: 5.09s\n",
      "46:\tlearn: 1552.2945414\ttest: 1632.8974129\tbest: 1632.8974129 (46)\ttotal: 4.44s\tremaining: 5s\n",
      "47:\tlearn: 1549.5950191\ttest: 1629.9720228\tbest: 1629.9720228 (47)\ttotal: 4.53s\tremaining: 4.91s\n",
      "48:\tlearn: 1545.9569024\ttest: 1627.7613389\tbest: 1627.7613389 (48)\ttotal: 4.65s\tremaining: 4.84s\n",
      "49:\tlearn: 1544.3417419\ttest: 1626.9471403\tbest: 1626.9471403 (49)\ttotal: 4.74s\tremaining: 4.74s\n",
      "50:\tlearn: 1538.7151857\ttest: 1623.6820341\tbest: 1623.6820341 (50)\ttotal: 4.83s\tremaining: 4.64s\n",
      "51:\tlearn: 1536.9854842\ttest: 1623.0938192\tbest: 1623.0938192 (51)\ttotal: 4.93s\tremaining: 4.55s\n",
      "52:\tlearn: 1536.8706632\ttest: 1622.9200913\tbest: 1622.9200913 (52)\ttotal: 5.01s\tremaining: 4.45s\n",
      "53:\tlearn: 1535.4644314\ttest: 1621.7999522\tbest: 1621.7999522 (53)\ttotal: 5.11s\tremaining: 4.35s\n",
      "54:\tlearn: 1531.2508869\ttest: 1618.8132992\tbest: 1618.8132992 (54)\ttotal: 5.21s\tremaining: 4.26s\n",
      "55:\tlearn: 1529.1795239\ttest: 1617.6944481\tbest: 1617.6944481 (55)\ttotal: 5.3s\tremaining: 4.16s\n",
      "56:\tlearn: 1525.8576592\ttest: 1615.9521440\tbest: 1615.9521440 (56)\ttotal: 5.39s\tremaining: 4.07s\n",
      "57:\tlearn: 1523.6593205\ttest: 1614.8299238\tbest: 1614.8299238 (57)\ttotal: 5.48s\tremaining: 3.97s\n",
      "58:\tlearn: 1520.9598006\ttest: 1612.6368121\tbest: 1612.6368121 (58)\ttotal: 5.57s\tremaining: 3.87s\n",
      "59:\tlearn: 1518.5017374\ttest: 1612.1736269\tbest: 1612.1736269 (59)\ttotal: 5.67s\tremaining: 3.78s\n",
      "60:\tlearn: 1518.2697538\ttest: 1612.1378475\tbest: 1612.1378475 (60)\ttotal: 5.76s\tremaining: 3.69s\n",
      "61:\tlearn: 1516.4924756\ttest: 1611.4517244\tbest: 1611.4517244 (61)\ttotal: 5.86s\tremaining: 3.59s\n",
      "62:\tlearn: 1514.2682308\ttest: 1610.2576840\tbest: 1610.2576840 (62)\ttotal: 5.96s\tremaining: 3.5s\n",
      "63:\tlearn: 1511.7929921\ttest: 1609.0667133\tbest: 1609.0667133 (63)\ttotal: 6.06s\tremaining: 3.41s\n",
      "64:\tlearn: 1510.1802760\ttest: 1608.7359982\tbest: 1608.7359982 (64)\ttotal: 6.16s\tremaining: 3.31s\n",
      "65:\tlearn: 1508.9736126\ttest: 1607.8948957\tbest: 1607.8948957 (65)\ttotal: 6.25s\tremaining: 3.22s\n",
      "66:\tlearn: 1507.5484083\ttest: 1606.5119197\tbest: 1606.5119197 (66)\ttotal: 6.35s\tremaining: 3.13s\n",
      "67:\tlearn: 1507.4692676\ttest: 1606.3826476\tbest: 1606.3826476 (67)\ttotal: 6.44s\tremaining: 3.03s\n",
      "68:\tlearn: 1505.5077350\ttest: 1605.7675236\tbest: 1605.7675236 (68)\ttotal: 6.55s\tremaining: 2.94s\n",
      "69:\tlearn: 1503.0994424\ttest: 1604.7411772\tbest: 1604.7411772 (69)\ttotal: 6.67s\tremaining: 2.86s\n",
      "70:\tlearn: 1501.1998106\ttest: 1604.4431078\tbest: 1604.4431078 (70)\ttotal: 6.78s\tremaining: 2.77s\n",
      "71:\tlearn: 1499.9143861\ttest: 1603.7749466\tbest: 1603.7749466 (71)\ttotal: 6.9s\tremaining: 2.68s\n",
      "72:\tlearn: 1497.3018731\ttest: 1601.7311662\tbest: 1601.7311662 (72)\ttotal: 7s\tremaining: 2.59s\n",
      "73:\tlearn: 1495.0723915\ttest: 1600.4964349\tbest: 1600.4964349 (73)\ttotal: 7.09s\tremaining: 2.49s\n",
      "74:\tlearn: 1492.3240965\ttest: 1598.6792869\tbest: 1598.6792869 (74)\ttotal: 7.2s\tremaining: 2.4s\n",
      "75:\tlearn: 1490.0280419\ttest: 1597.7422670\tbest: 1597.7422670 (75)\ttotal: 7.29s\tremaining: 2.3s\n",
      "76:\tlearn: 1489.9751759\ttest: 1597.6700043\tbest: 1597.6700043 (76)\ttotal: 7.38s\tremaining: 2.2s\n",
      "77:\tlearn: 1488.4917538\ttest: 1596.8921018\tbest: 1596.8921018 (77)\ttotal: 7.48s\tremaining: 2.11s\n",
      "78:\tlearn: 1487.0948115\ttest: 1595.9806301\tbest: 1595.9806301 (78)\ttotal: 7.57s\tremaining: 2.01s\n",
      "79:\tlearn: 1485.4573785\ttest: 1595.3901415\tbest: 1595.3901415 (79)\ttotal: 7.67s\tremaining: 1.92s\n",
      "80:\tlearn: 1483.6317378\ttest: 1594.7704598\tbest: 1594.7704598 (80)\ttotal: 7.79s\tremaining: 1.83s\n",
      "81:\tlearn: 1482.3274677\ttest: 1594.3250100\tbest: 1594.3250100 (81)\ttotal: 7.88s\tremaining: 1.73s\n",
      "82:\tlearn: 1481.3278898\ttest: 1593.9259911\tbest: 1593.9259911 (82)\ttotal: 7.98s\tremaining: 1.63s\n",
      "83:\tlearn: 1480.4897111\ttest: 1593.5789090\tbest: 1593.5789090 (83)\ttotal: 8.07s\tremaining: 1.54s\n",
      "84:\tlearn: 1478.8075579\ttest: 1592.6005106\tbest: 1592.6005106 (84)\ttotal: 8.17s\tremaining: 1.44s\n",
      "85:\tlearn: 1476.8749834\ttest: 1591.9559983\tbest: 1591.9559983 (85)\ttotal: 8.26s\tremaining: 1.34s\n",
      "86:\tlearn: 1476.1612854\ttest: 1591.6476746\tbest: 1591.6476746 (86)\ttotal: 8.37s\tremaining: 1.25s\n",
      "87:\tlearn: 1473.3914481\ttest: 1590.4919306\tbest: 1590.4919306 (87)\ttotal: 8.46s\tremaining: 1.15s\n",
      "88:\tlearn: 1472.3910477\ttest: 1590.3560413\tbest: 1590.3560413 (88)\ttotal: 8.55s\tremaining: 1.06s\n",
      "89:\tlearn: 1470.8710477\ttest: 1589.6994586\tbest: 1589.6994586 (89)\ttotal: 8.65s\tremaining: 961ms\n",
      "90:\tlearn: 1468.8172037\ttest: 1588.8262103\tbest: 1588.8262103 (90)\ttotal: 8.75s\tremaining: 865ms\n",
      "91:\tlearn: 1467.5568143\ttest: 1588.7746519\tbest: 1588.7746519 (91)\ttotal: 8.84s\tremaining: 768ms\n",
      "92:\tlearn: 1465.2862224\ttest: 1587.8402475\tbest: 1587.8402475 (92)\ttotal: 8.93s\tremaining: 672ms\n",
      "93:\tlearn: 1461.3113773\ttest: 1584.7453886\tbest: 1584.7453886 (93)\ttotal: 9.02s\tremaining: 576ms\n",
      "94:\tlearn: 1459.0392370\ttest: 1582.8962313\tbest: 1582.8962313 (94)\ttotal: 9.11s\tremaining: 480ms\n",
      "95:\tlearn: 1456.3781373\ttest: 1581.9274417\tbest: 1581.9274417 (95)\ttotal: 9.2s\tremaining: 383ms\n",
      "96:\tlearn: 1454.0263392\ttest: 1580.2427766\tbest: 1580.2427766 (96)\ttotal: 9.28s\tremaining: 287ms\n",
      "97:\tlearn: 1452.3765140\ttest: 1579.9788119\tbest: 1579.9788119 (97)\ttotal: 9.37s\tremaining: 191ms\n",
      "98:\tlearn: 1450.9238974\ttest: 1579.5625707\tbest: 1579.5625707 (98)\ttotal: 9.46s\tremaining: 95.6ms\n",
      "99:\tlearn: 1449.0365631\ttest: 1578.8025597\tbest: 1578.8025597 (99)\ttotal: 9.56s\tremaining: 0us\n",
      "\n",
      "bestTest = 1578.80256\n",
      "bestIteration = 99\n",
      "\n",
      "CPU times: user 1min 14s, sys: 1.63 s, total: 1min 16s\n",
      "Wall time: 1min 18s\n"
     ]
    }
   ],
   "source": [
    "%%time\n",
    "# catboost\n",
    "catboost_model = CatBoostRegressor(loss_function='RMSE', cat_features=cat_col)\n",
    "\n",
    "params = {'depth': [10, 20, 40],\n",
    "          'learning_rate' : [0.3,  0.5, 0.7],\n",
    "         #'l2_leaf_reg': [5, 10],\n",
    "         'iterations': [100]}\n",
    "\n",
    "catboost_grid = catboost_model.grid_search(param_grid = params, X=X_train, y=y_train, plot=True)"
   ]
  },
  {
   "cell_type": "markdown",
   "metadata": {},
   "source": [
    "<b> Модель catboost"
   ]
  },
  {
   "cell_type": "code",
   "execution_count": 34,
   "metadata": {},
   "outputs": [
    {
     "data": {
      "text/plain": [
       "{'depth': 10, 'iterations': 100, 'learning_rate': 0.3}"
      ]
     },
     "execution_count": 34,
     "metadata": {},
     "output_type": "execute_result"
    }
   ],
   "source": [
    "catboost_grid[\"params\"]"
   ]
  },
  {
   "cell_type": "code",
   "execution_count": 35,
   "metadata": {},
   "outputs": [
    {
     "data": {
      "text/plain": [
       "1538.2748718859962"
      ]
     },
     "execution_count": 35,
     "metadata": {},
     "output_type": "execute_result"
    }
   ],
   "source": [
    "mse(y_test, catboost_model.predict(X_test), squared=False)"
   ]
  },
  {
   "cell_type": "code",
   "execution_count": 36,
   "metadata": {},
   "outputs": [
    {
     "data": {
      "text/plain": [
       "<AxesSubplot:>"
      ]
     },
     "execution_count": 36,
     "metadata": {},
     "output_type": "execute_result"
    },
    {
     "data": {
      "image/png": "[encoded data removed]",
      "text/plain": [
       "<Figure size 432x288 with 1 Axes>"
      ]
     },
     "metadata": {},
     "output_type": "display_data"
    }
   ],
   "source": [
    "feat_imp = pd.Series(catboost_model.feature_importances_, X_train.columns).sort_values(ascending=True)\n",
    "feat_imp.plot(kind='barh')"
   ]
  },
  {
   "cell_type": "code",
   "execution_count": 37,
   "metadata": {},
   "outputs": [],
   "source": [
    "# %%time\n",
    "\n",
    "# lgbm_model = lgbm.LGBMRegressor(boosting_type='gbdt',\n",
    "#                                n_estimators=100,\n",
    "#                               categorical_feature=cat_col,\n",
    "#                               learning_rate=0.4,\n",
    "#                               objective='mse',\n",
    "#                               n_jobs=-1, random_state=0)\n",
    "\n",
    "# params = {\"max_depth\": [10, 100],\n",
    "#               \"learning_rate\" : [0.01,0.1,0.5],\n",
    "#               \"num_leaves\": [300,900,1200],\n",
    "#               \"n_estimators\": [100]\n",
    "#              }\n",
    "\n",
    "# gsearch = RandomizedSearchCV(estimator=lgbm_model, param_distributions=params, cv=3)\n",
    "# lgb_model_gs = gsearch.fit(X=X_train, y=y_train)\n",
    "\n",
    "# print(lgb_model_gs.best_params_, lgb_model.best_score_)\n",
    "\n",
    "# обучение очень длительное, оказываемся от поисков гиперпараметров."
   ]
  },
  {
   "cell_type": "code",
   "execution_count": 38,
   "metadata": {},
   "outputs": [],
   "source": [
    "lgbm_model = lgbm.LGBMRegressor(boosting_type='gbdt',\n",
    "                              max_depth=50,\n",
    "                              n_estimators=100,\n",
    "                              categorical_feature=cat_col,\n",
    "                              learning_rate=0.4,\n",
    "                              objective='mse',\n",
    "                              n_jobs=-1, random_state=0)"
   ]
  },
  {
   "cell_type": "code",
   "execution_count": 39,
   "metadata": {},
   "outputs": [
    {
     "name": "stderr",
     "output_type": "stream",
     "text": [
      "/opt/conda/lib/python3.9/site-packages/lightgbm/basic.py:1487: UserWarning: categorical_feature keyword has been found in `params` and will be ignored.\n",
      "Please use categorical_feature argument of the Dataset constructor to pass this parameter.\n",
      "  _log_warning(f'{key} keyword has been found in `params` and will be ignored.\\n'\n",
      "/opt/conda/lib/python3.9/site-packages/lightgbm/basic.py:1513: UserWarning: categorical_feature in param dict is overridden.\n",
      "  _log_warning(f'{cat_alias} in param dict is overridden.')\n"
     ]
    },
    {
     "name": "stdout",
     "output_type": "stream",
     "text": [
      "CPU times: user 6min 51s, sys: 6.34 s, total: 6min 57s\n",
      "Wall time: 6min 59s\n"
     ]
    },
    {
     "data": {
      "text/html": [
       "<style>#sk-container-id-1 {color: black;background-color: white;}#sk-container-id-1 pre{padding: 0;}#sk-container-id-1 div.sk-toggleable {background-color: white;}#sk-container-id-1 label.sk-toggleable__label {cursor: pointer;display: block;width: 100%;margin-bottom: 0;padding: 0.3em;box-sizing: border-box;text-align: center;}#sk-container-id-1 label.sk-toggleable__label-arrow:before {content: \"▸\";float: left;margin-right: 0.25em;color: #696969;}#sk-container-id-1 label.sk-toggleable__label-arrow:hover:before {color: black;}#sk-container-id-1 div.sk-estimator:hover label.sk-toggleable__label-arrow:before {color: black;}#sk-container-id-1 div.sk-toggleable__content {max-height: 0;max-width: 0;overflow: hidden;text-align: left;background-color: #f0f8ff;}#sk-container-id-1 div.sk-toggleable__content pre {margin: 0.2em;color: black;border-radius: 0.25em;background-color: #f0f8ff;}#sk-container-id-1 input.sk-toggleable__control:checked~div.sk-toggleable__content {max-height: 200px;max-width: 100%;overflow: auto;}#sk-container-id-1 input.sk-toggleable__control:checked~label.sk-toggleable__label-arrow:before {content: \"▾\";}#sk-container-id-1 div.sk-estimator input.sk-toggleable__control:checked~label.sk-toggleable__label {background-color: #d4ebff;}#sk-container-id-1 div.sk-label input.sk-toggleable__control:checked~label.sk-toggleable__label {background-color: #d4ebff;}#sk-container-id-1 input.sk-hidden--visually {border: 0;clip: rect(1px 1px 1px 1px);clip: rect(1px, 1px, 1px, 1px);height: 1px;margin: -1px;overflow: hidden;padding: 0;position: absolute;width: 1px;}#sk-container-id-1 div.sk-estimator {font-family: monospace;background-color: #f0f8ff;border: 1px dotted black;border-radius: 0.25em;box-sizing: border-box;margin-bottom: 0.5em;}#sk-container-id-1 div.sk-estimator:hover {background-color: #d4ebff;}#sk-container-id-1 div.sk-parallel-item::after {content: \"\";width: 100%;border-bottom: 1px solid gray;flex-grow: 1;}#sk-container-id-1 div.sk-label:hover label.sk-toggleable__label {background-color: #d4ebff;}#sk-container-id-1 div.sk-serial::before {content: \"\";position: absolute;border-left: 1px solid gray;box-sizing: border-box;top: 0;bottom: 0;left: 50%;z-index: 0;}#sk-container-id-1 div.sk-serial {display: flex;flex-direction: column;align-items: center;background-color: white;padding-right: 0.2em;padding-left: 0.2em;position: relative;}#sk-container-id-1 div.sk-item {position: relative;z-index: 1;}#sk-container-id-1 div.sk-parallel {display: flex;align-items: stretch;justify-content: center;background-color: white;position: relative;}#sk-container-id-1 div.sk-item::before, #sk-container-id-1 div.sk-parallel-item::before {content: \"\";position: absolute;border-left: 1px solid gray;box-sizing: border-box;top: 0;bottom: 0;left: 50%;z-index: -1;}#sk-container-id-1 div.sk-parallel-item {display: flex;flex-direction: column;z-index: 1;position: relative;background-color: white;}#sk-container-id-1 div.sk-parallel-item:first-child::after {align-self: flex-end;width: 50%;}#sk-container-id-1 div.sk-parallel-item:last-child::after {align-self: flex-start;width: 50%;}#sk-container-id-1 div.sk-parallel-item:only-child::after {width: 0;}#sk-container-id-1 div.sk-dashed-wrapped {border: 1px dashed gray;margin: 0 0.4em 0.5em 0.4em;box-sizing: border-box;padding-bottom: 0.4em;background-color: white;}#sk-container-id-1 div.sk-label label {font-family: monospace;font-weight: bold;display: inline-block;line-height: 1.2em;}#sk-container-id-1 div.sk-label-container {text-align: center;}#sk-container-id-1 div.sk-container {/* jupyter's `normalize.less` sets `[hidden] { display: none; }` but bootstrap.min.css set `[hidden] { display: none !important; }` so we also need the `!important` here to be able to override the default hidden behavior on the sphinx rendered scikit-learn.org. See: https://github.com/scikit-learn/scikit-learn/issues/21755 */display: inline-block !important;position: relative;}#sk-container-id-1 div.sk-text-repr-fallback {display: none;}</style><div id=\"sk-container-id-1\" class=\"sk-top-container\"><div class=\"sk-text-repr-fallback\"><pre>LGBMRegressor(categorical_feature=[&#x27;VehicleType&#x27;, &#x27;Gearbox&#x27;, &#x27;Model&#x27;,\n",
       "                                   &#x27;FuelType&#x27;, &#x27;Brand&#x27;, &#x27;NotRepaired&#x27;],\n",
       "              learning_rate=0.4, max_depth=50, objective=&#x27;mse&#x27;, random_state=0)</pre><b>In a Jupyter environment, please rerun this cell to show the HTML representation or trust the notebook. <br />On GitHub, the HTML representation is unable to render, please try loading this page with nbviewer.org.</b></div><div class=\"sk-container\" hidden><div class=\"sk-item\"><div class=\"sk-estimator sk-toggleable\"><input class=\"sk-toggleable__control sk-hidden--visually\" id=\"sk-estimator-id-1\" type=\"checkbox\" checked><label for=\"sk-estimator-id-1\" class=\"sk-toggleable__label sk-toggleable__label-arrow\">LGBMRegressor</label><div class=\"sk-toggleable__content\"><pre>LGBMRegressor(categorical_feature=[&#x27;VehicleType&#x27;, &#x27;Gearbox&#x27;, &#x27;Model&#x27;,\n",
       "                                   &#x27;FuelType&#x27;, &#x27;Brand&#x27;, &#x27;NotRepaired&#x27;],\n",
       "              learning_rate=0.4, max_depth=50, objective=&#x27;mse&#x27;, random_state=0)</pre></div></div></div></div></div>"
      ],
      "text/plain": [
       "LGBMRegressor(categorical_feature=['VehicleType', 'Gearbox', 'Model',\n",
       "                                   'FuelType', 'Brand', 'NotRepaired'],\n",
       "              learning_rate=0.4, max_depth=50, objective='mse', random_state=0)"
      ]
     },
     "execution_count": 39,
     "metadata": {},
     "output_type": "execute_result"
    }
   ],
   "source": [
    "%%time\n",
    "lgbm_model.fit(X_train, y_train)"
   ]
  },
  {
   "cell_type": "code",
   "execution_count": 40,
   "metadata": {},
   "outputs": [
    {
     "data": {
      "text/plain": [
       "1521.579003757714"
      ]
     },
     "execution_count": 40,
     "metadata": {},
     "output_type": "execute_result"
    }
   ],
   "source": [
    "mse(y_test, lgbm_model.predict(X_test), squared=False)"
   ]
  },
  {
   "cell_type": "code",
   "execution_count": 42,
   "metadata": {},
   "outputs": [
    {
     "data": {
      "text/plain": [
       "<AxesSubplot:>"
      ]
     },
     "execution_count": 42,
     "metadata": {},
     "output_type": "execute_result"
    },
    {
     "data": {
      "image/png": "[encoded data removed]",
      "text/plain": [
       "<Figure size 432x288 with 1 Axes>"
      ]
     },
     "metadata": {},
     "output_type": "display_data"
    }
   ],
   "source": [
    "feat_imp = pd.Series(lgbm_model.feature_importances_, X_train.columns).sort_values(ascending=True)\n",
    "feat_imp.plot(kind='barh')"
   ]
  },
  {
   "cell_type": "markdown",
   "metadata": {},
   "source": [
    "Попробуем модели случайного леса и линейную регрессию, будем использовать числовые признаки."
   ]
  },
  {
   "cell_type": "code",
   "execution_count": 43,
   "metadata": {},
   "outputs": [],
   "source": [
    "df1 = df[num_cols]\n",
    "X = df1.drop(columns=['Price'])\n",
    "y = df1['Price']\n",
    "X_train, X_test, y_train, y_test = train_test_split(X, y, test_size=0.3, random_state=123)"
   ]
  },
  {
   "cell_type": "code",
   "execution_count": 46,
   "metadata": {},
   "outputs": [],
   "source": [
    "param_grid = { \n",
    "    'n_estimators': [20, 50, 100],\n",
    "    'max_depth': [10, 30]\n",
    "}\n",
    "\n",
    "gs_rf_clf = GridSearchCV(RandomForestRegressor(), param_grid, cv=4, n_jobs=-1)"
   ]
  },
  {
   "cell_type": "code",
   "execution_count": 47,
   "metadata": {},
   "outputs": [
    {
     "name": "stdout",
     "output_type": "stream",
     "text": [
      "CPU times: user 2min 22s, sys: 1.16 s, total: 2min 23s\n",
      "Wall time: 2min 23s\n"
     ]
    },
    {
     "data": {
      "text/plain": [
       "2031.7893580501418"
      ]
     },
     "execution_count": 47,
     "metadata": {},
     "output_type": "execute_result"
    }
   ],
   "source": [
    "%%time\n",
    "gs_rf_clf.fit(X_train, y_train)\n",
    "mse(y_test, gs_rf_clf.predict(X_test), squared=False)"
   ]
  },
  {
   "cell_type": "code",
   "execution_count": 48,
   "metadata": {},
   "outputs": [
    {
     "name": "stdout",
     "output_type": "stream",
     "text": [
      "CPU times: user 37.6 ms, sys: 12.1 ms, total: 49.8 ms\n",
      "Wall time: 39.9 ms\n"
     ]
    },
    {
     "data": {
      "text/plain": [
       "3048.7128249912234"
      ]
     },
     "execution_count": 48,
     "metadata": {},
     "output_type": "execute_result"
    }
   ],
   "source": [
    "%%time\n",
    "lr_clf = LinearRegression()\n",
    "lr_clf.fit(X_train, y_train)\n",
    "mse(y_test, lr_clf.predict(X_test), squared=False)"
   ]
  },
  {
   "cell_type": "markdown",
   "metadata": {},
   "source": [
    "## Анализ моделей"
   ]
  },
  {
   "cell_type": "markdown",
   "metadata": {},
   "source": [
    "Резюмируем результаты обучения моделей с выбранными гиперпараметрами:\n",
    "1. catboost: время обучения: 1min 16s, rmse на тестовой выборке: 1538\n",
    "2. lightbgm: время обучения: 6min 57s, rmse на тестовой выборке: 1521\n",
    "3. random forest: время обучения: 2min 23s, rmse на тестовой выборке: 2031\n",
    "4. linear regression: время обучения: 49.8 ms, rmse на тестовой выборке: 3048\n",
    "\n",
    "Первые три модели удовлетворяют требованиям проекта: rmse < 2500.\n",
    "Скорость предсказания после обучения у всех моделей высокая, поэтому акцентировать внимание на этом не будем.\n",
    "Наилучший показатель rmse показала модель lightbgm, но время обучения сравнительно с остальными - очень велико.\n",
    "Линейная регрессия, максимальна быстрая, но предсказательная способность очень низкая.\n",
    "Резюмируя, можно сделать рекомендацию гипотетическому заказчику использовать модель catboost, которая по точности сравнима с lightbgm, но обучается в 6 раз быстрее и вероятнее всего, с более тонкой настройкой гиперпараметров, модель бы показала более точные результаты."
   ]
  }
 ],
 "metadata": {
  "ExecuteTimeLog": [
   {
    "duration": 443,
    "start_time": "2022-06-22T11:54:24.760Z"
   },
   {
    "duration": 1210,
    "start_time": "2022-06-22T11:55:16.551Z"
   },
   {
    "duration": 28,
    "start_time": "2022-06-22T11:55:31.954Z"
   },
   {
    "duration": 18,
    "start_time": "2022-06-22T11:55:40.894Z"
   },
   {
    "duration": 148,
    "start_time": "2022-06-22T11:55:53.669Z"
   },
   {
    "duration": 99,
    "start_time": "2022-06-22T11:56:05.456Z"
   },
   {
    "duration": 23,
    "start_time": "2022-06-22T11:56:21.244Z"
   },
   {
    "duration": 157,
    "start_time": "2022-06-22T13:27:46.225Z"
   },
   {
    "duration": 22,
    "start_time": "2022-06-22T13:29:09.066Z"
   },
   {
    "duration": 401,
    "start_time": "2022-06-27T08:53:21.833Z"
   },
   {
    "duration": 1049,
    "start_time": "2022-06-27T08:53:22.236Z"
   },
   {
    "duration": 28,
    "start_time": "2022-06-27T08:53:23.287Z"
   },
   {
    "duration": 135,
    "start_time": "2022-06-27T08:53:23.317Z"
   },
   {
    "duration": 93,
    "start_time": "2022-06-27T08:53:23.454Z"
   },
   {
    "duration": 126,
    "start_time": "2022-06-27T08:53:23.548Z"
   },
   {
    "duration": 141,
    "start_time": "2022-06-27T08:54:08.699Z"
   },
   {
    "duration": 133,
    "start_time": "2022-06-27T08:54:24.100Z"
   },
   {
    "duration": 119,
    "start_time": "2022-06-27T08:54:33.452Z"
   },
   {
    "duration": 132,
    "start_time": "2022-06-27T08:54:45.196Z"
   },
   {
    "duration": 7,
    "start_time": "2022-06-27T08:56:57.955Z"
   },
   {
    "duration": 63,
    "start_time": "2022-06-27T08:57:08.139Z"
   },
   {
    "duration": 12,
    "start_time": "2022-06-27T08:57:15.333Z"
   },
   {
    "duration": 10,
    "start_time": "2022-06-27T08:57:26.307Z"
   },
   {
    "duration": 13,
    "start_time": "2022-06-27T09:01:22.650Z"
   },
   {
    "duration": 21,
    "start_time": "2022-06-27T09:03:16.331Z"
   },
   {
    "duration": 20,
    "start_time": "2022-06-27T09:03:54.555Z"
   },
   {
    "duration": 26,
    "start_time": "2022-06-27T09:09:09.025Z"
   },
   {
    "duration": 13,
    "start_time": "2022-06-27T09:09:14.818Z"
   },
   {
    "duration": 15,
    "start_time": "2022-06-27T09:10:10.740Z"
   },
   {
    "duration": 16,
    "start_time": "2022-06-27T09:10:39.810Z"
   },
   {
    "duration": 1174,
    "start_time": "2022-06-27T09:10:50.963Z"
   },
   {
    "duration": 3,
    "start_time": "2022-06-27T09:11:01.685Z"
   },
   {
    "duration": 839,
    "start_time": "2022-06-27T09:11:01.690Z"
   },
   {
    "duration": 23,
    "start_time": "2022-06-27T09:11:02.531Z"
   },
   {
    "duration": 146,
    "start_time": "2022-06-27T09:11:02.556Z"
   },
   {
    "duration": 98,
    "start_time": "2022-06-27T09:11:02.704Z"
   },
   {
    "duration": 134,
    "start_time": "2022-06-27T09:11:02.803Z"
   },
   {
    "duration": 24,
    "start_time": "2022-06-27T09:11:02.939Z"
   },
   {
    "duration": 41,
    "start_time": "2022-06-27T09:11:02.964Z"
   },
   {
    "duration": 19,
    "start_time": "2022-06-27T09:11:17.835Z"
   },
   {
    "duration": 101,
    "start_time": "2022-06-27T10:06:59.092Z"
   },
   {
    "duration": 112,
    "start_time": "2022-06-27T10:07:16.309Z"
   },
   {
    "duration": 809,
    "start_time": "2022-06-27T10:18:51.558Z"
   },
   {
    "duration": 51,
    "start_time": "2022-06-27T10:21:10.572Z"
   },
   {
    "duration": 3,
    "start_time": "2022-06-27T10:21:16.996Z"
   },
   {
    "duration": 9,
    "start_time": "2022-06-27T10:23:58.682Z"
   },
   {
    "duration": 12,
    "start_time": "2022-06-27T10:24:47.826Z"
   },
   {
    "duration": 26,
    "start_time": "2022-06-27T10:27:50.986Z"
   },
   {
    "duration": 4,
    "start_time": "2022-06-27T10:27:51.314Z"
   },
   {
    "duration": 4,
    "start_time": "2022-06-27T10:27:57.466Z"
   },
   {
    "duration": 66,
    "start_time": "2022-06-27T10:28:02.332Z"
   },
   {
    "duration": 4,
    "start_time": "2022-06-27T10:28:05.122Z"
   },
   {
    "duration": 11131,
    "start_time": "2022-06-27T10:28:14.756Z"
   },
   {
    "duration": 11,
    "start_time": "2022-06-27T10:29:13.051Z"
   },
   {
    "duration": 56,
    "start_time": "2022-06-27T10:29:58.226Z"
   },
   {
    "duration": 3,
    "start_time": "2022-06-27T10:30:34.707Z"
   },
   {
    "duration": 60,
    "start_time": "2022-06-27T10:30:35.555Z"
   },
   {
    "duration": 11004,
    "start_time": "2022-06-27T10:30:36.558Z"
   },
   {
    "duration": 75,
    "start_time": "2022-06-27T10:39:06.298Z"
   },
   {
    "duration": 88,
    "start_time": "2022-06-27T10:39:15.761Z"
   },
   {
    "duration": 77,
    "start_time": "2022-06-27T10:39:58.474Z"
   },
   {
    "duration": 70,
    "start_time": "2022-06-27T10:40:25.490Z"
   },
   {
    "duration": 81,
    "start_time": "2022-06-27T10:40:49.242Z"
   },
   {
    "duration": 635,
    "start_time": "2022-06-27T10:41:19.770Z"
   },
   {
    "duration": 225,
    "start_time": "2022-06-27T10:42:25.868Z"
   },
   {
    "duration": 276,
    "start_time": "2022-06-27T10:42:36.865Z"
   },
   {
    "duration": 225,
    "start_time": "2022-06-27T10:42:52.146Z"
   },
   {
    "duration": 234,
    "start_time": "2022-06-27T10:43:01.864Z"
   },
   {
    "duration": 4,
    "start_time": "2022-06-27T10:43:04.881Z"
   },
   {
    "duration": 67,
    "start_time": "2022-06-27T10:43:05.320Z"
   },
   {
    "duration": 11858,
    "start_time": "2022-06-27T10:43:06.362Z"
   },
   {
    "duration": 12,
    "start_time": "2022-06-27T10:43:25.880Z"
   },
   {
    "duration": 6,
    "start_time": "2022-06-27T10:45:05.289Z"
   },
   {
    "duration": 72,
    "start_time": "2022-06-27T10:45:05.688Z"
   },
   {
    "duration": 11,
    "start_time": "2022-06-27T10:45:06.409Z"
   },
   {
    "duration": 5103,
    "start_time": "2022-06-27T10:45:09.377Z"
   },
   {
    "duration": 3,
    "start_time": "2022-06-27T10:49:34.385Z"
   },
   {
    "duration": 11,
    "start_time": "2022-06-27T10:49:50.265Z"
   },
   {
    "duration": 44,
    "start_time": "2022-06-27T10:49:54.969Z"
   },
   {
    "duration": 11,
    "start_time": "2022-06-27T10:51:03.610Z"
   },
   {
    "duration": 11,
    "start_time": "2022-06-27T10:51:24.944Z"
   },
   {
    "duration": 135,
    "start_time": "2022-06-27T10:51:34.105Z"
   },
   {
    "duration": 174,
    "start_time": "2022-06-27T10:53:05.017Z"
   },
   {
    "duration": 47,
    "start_time": "2022-06-27T10:57:11.178Z"
   },
   {
    "duration": 1187,
    "start_time": "2022-06-27T10:57:17.752Z"
   },
   {
    "duration": 1144,
    "start_time": "2022-06-27T10:57:18.941Z"
   },
   {
    "duration": 32,
    "start_time": "2022-06-27T10:57:20.087Z"
   },
   {
    "duration": 145,
    "start_time": "2022-06-27T10:57:20.128Z"
   },
   {
    "duration": 109,
    "start_time": "2022-06-27T10:57:20.274Z"
   },
   {
    "duration": 142,
    "start_time": "2022-06-27T10:57:20.384Z"
   },
   {
    "duration": 14,
    "start_time": "2022-06-27T10:57:20.528Z"
   },
   {
    "duration": 46,
    "start_time": "2022-06-27T10:57:20.543Z"
   },
   {
    "duration": 39,
    "start_time": "2022-06-27T10:57:20.591Z"
   },
   {
    "duration": 104,
    "start_time": "2022-06-27T10:57:20.633Z"
   },
   {
    "duration": 158,
    "start_time": "2022-06-27T10:57:20.739Z"
   },
   {
    "duration": 480,
    "start_time": "2022-06-27T10:57:20.900Z"
   },
   {
    "duration": 3,
    "start_time": "2022-06-27T10:57:21.382Z"
   },
   {
    "duration": 5699,
    "start_time": "2022-06-27T10:57:21.386Z"
   },
   {
    "duration": 0,
    "start_time": "2022-06-27T10:57:27.086Z"
   },
   {
    "duration": 0,
    "start_time": "2022-06-27T10:57:27.088Z"
   },
   {
    "duration": 247,
    "start_time": "2022-06-27T11:02:36.896Z"
   },
   {
    "duration": 5,
    "start_time": "2022-06-27T11:04:34.039Z"
   },
   {
    "duration": 12,
    "start_time": "2022-06-27T11:05:42.303Z"
   },
   {
    "duration": 9,
    "start_time": "2022-06-27T11:06:05.087Z"
   },
   {
    "duration": 7,
    "start_time": "2022-06-27T11:06:25.223Z"
   },
   {
    "duration": 20,
    "start_time": "2022-06-27T11:06:33.767Z"
   },
   {
    "duration": 16,
    "start_time": "2022-06-27T11:06:51.817Z"
   },
   {
    "duration": 11,
    "start_time": "2022-06-27T11:06:56.960Z"
   },
   {
    "duration": 11,
    "start_time": "2022-06-27T11:07:18.303Z"
   },
   {
    "duration": 8,
    "start_time": "2022-06-27T11:07:32.375Z"
   },
   {
    "duration": 17,
    "start_time": "2022-06-27T11:07:47.487Z"
   },
   {
    "duration": 22,
    "start_time": "2022-06-27T11:08:06.592Z"
   },
   {
    "duration": 19,
    "start_time": "2022-06-27T11:08:27.903Z"
   },
   {
    "duration": 13,
    "start_time": "2022-06-27T11:08:34.815Z"
   },
   {
    "duration": 4,
    "start_time": "2022-06-27T11:09:06.776Z"
   },
   {
    "duration": 24,
    "start_time": "2022-06-27T11:09:52.887Z"
   },
   {
    "duration": 5,
    "start_time": "2022-06-27T11:09:55.446Z"
   },
   {
    "duration": 149,
    "start_time": "2022-06-27T11:10:15.767Z"
   },
   {
    "duration": 181,
    "start_time": "2022-06-27T11:11:04.999Z"
   },
   {
    "duration": 291,
    "start_time": "2022-06-27T11:11:16.527Z"
   },
   {
    "duration": 11,
    "start_time": "2022-06-27T11:12:00.038Z"
   },
   {
    "duration": 120,
    "start_time": "2022-06-27T11:12:13.478Z"
   },
   {
    "duration": 93,
    "start_time": "2022-06-27T11:12:20.798Z"
   },
   {
    "duration": 131,
    "start_time": "2022-06-27T11:12:25.414Z"
   },
   {
    "duration": 9,
    "start_time": "2022-06-27T11:12:44.024Z"
   },
   {
    "duration": 174,
    "start_time": "2022-06-27T11:12:48.407Z"
   },
   {
    "duration": 633,
    "start_time": "2022-06-27T11:13:02.399Z"
   },
   {
    "duration": 60,
    "start_time": "2022-06-27T11:48:12.364Z"
   },
   {
    "duration": 2341,
    "start_time": "2022-06-27T11:49:22.692Z"
   },
   {
    "duration": 2570,
    "start_time": "2022-06-27T11:50:47.655Z"
   },
   {
    "duration": 10,
    "start_time": "2022-06-27T11:51:41.187Z"
   },
   {
    "duration": 4,
    "start_time": "2022-06-27T11:51:45.256Z"
   },
   {
    "duration": 13,
    "start_time": "2022-06-27T11:51:51.545Z"
   },
   {
    "duration": 4,
    "start_time": "2022-06-27T11:51:54.959Z"
   },
   {
    "duration": 22,
    "start_time": "2022-06-27T11:52:16.459Z"
   },
   {
    "duration": 9,
    "start_time": "2022-06-27T11:52:17.267Z"
   },
   {
    "duration": 4,
    "start_time": "2022-06-27T11:52:21.797Z"
   },
   {
    "duration": 2196,
    "start_time": "2022-06-27T11:52:27.507Z"
   },
   {
    "duration": 4,
    "start_time": "2022-06-27T11:52:51.820Z"
   },
   {
    "duration": 24,
    "start_time": "2022-06-27T11:53:08.179Z"
   },
   {
    "duration": 3,
    "start_time": "2022-06-27T11:53:10.987Z"
   },
   {
    "duration": 163,
    "start_time": "2022-06-27T11:53:16.196Z"
   },
   {
    "duration": 2682,
    "start_time": "2022-06-27T11:53:43.833Z"
   },
   {
    "duration": 11,
    "start_time": "2022-06-27T11:54:23.963Z"
   },
   {
    "duration": 15,
    "start_time": "2022-06-27T11:54:43.724Z"
   },
   {
    "duration": 112,
    "start_time": "2022-06-27T12:31:24.126Z"
   },
   {
    "duration": 2533,
    "start_time": "2022-06-27T12:31:26.784Z"
   },
   {
    "duration": 33,
    "start_time": "2022-06-27T12:31:56.151Z"
   },
   {
    "duration": 20,
    "start_time": "2022-06-27T12:32:45.624Z"
   },
   {
    "duration": 212,
    "start_time": "2022-06-27T12:32:46.296Z"
   },
   {
    "duration": 73,
    "start_time": "2022-06-27T12:32:54.217Z"
   },
   {
    "duration": 4,
    "start_time": "2022-06-27T12:32:55.756Z"
   },
   {
    "duration": 31,
    "start_time": "2022-06-27T12:32:56.722Z"
   },
   {
    "duration": 1016,
    "start_time": "2022-06-27T12:32:57.656Z"
   },
   {
    "duration": 872,
    "start_time": "2022-06-27T12:34:51.111Z"
   },
   {
    "duration": 1257,
    "start_time": "2022-06-27T12:35:30.399Z"
   },
   {
    "duration": 881,
    "start_time": "2022-06-27T12:35:31.661Z"
   },
   {
    "duration": 28,
    "start_time": "2022-06-27T12:35:32.544Z"
   },
   {
    "duration": 176,
    "start_time": "2022-06-27T12:35:32.574Z"
   },
   {
    "duration": 101,
    "start_time": "2022-06-27T12:35:32.753Z"
   },
   {
    "duration": 161,
    "start_time": "2022-06-27T12:35:32.856Z"
   },
   {
    "duration": 17,
    "start_time": "2022-06-27T12:35:33.019Z"
   },
   {
    "duration": 49,
    "start_time": "2022-06-27T12:35:33.039Z"
   },
   {
    "duration": 10,
    "start_time": "2022-06-27T12:35:33.090Z"
   },
   {
    "duration": 146,
    "start_time": "2022-06-27T12:35:33.103Z"
   },
   {
    "duration": 114,
    "start_time": "2022-06-27T12:35:33.251Z"
   },
   {
    "duration": 27,
    "start_time": "2022-06-27T12:35:33.366Z"
   },
   {
    "duration": 12,
    "start_time": "2022-06-27T12:35:33.395Z"
   },
   {
    "duration": 195,
    "start_time": "2022-06-27T12:35:33.409Z"
   },
   {
    "duration": 106,
    "start_time": "2022-06-27T12:35:33.605Z"
   },
   {
    "duration": 74,
    "start_time": "2022-06-27T12:35:33.713Z"
   },
   {
    "duration": 3,
    "start_time": "2022-06-27T12:35:33.789Z"
   },
   {
    "duration": 40,
    "start_time": "2022-06-27T12:35:33.794Z"
   },
   {
    "duration": 107,
    "start_time": "2022-06-27T12:35:33.836Z"
   },
   {
    "duration": 0,
    "start_time": "2022-06-27T12:35:33.945Z"
   },
   {
    "duration": 25,
    "start_time": "2022-06-27T12:35:50.574Z"
   },
   {
    "duration": 6767,
    "start_time": "2022-06-27T12:36:19.886Z"
   },
   {
    "duration": 65,
    "start_time": "2022-06-27T12:37:39.767Z"
   },
   {
    "duration": 11,
    "start_time": "2022-06-27T12:41:11.971Z"
   },
   {
    "duration": 90,
    "start_time": "2022-06-27T12:41:51.364Z"
   },
   {
    "duration": 25,
    "start_time": "2022-06-27T12:42:06.714Z"
   },
   {
    "duration": 3,
    "start_time": "2022-06-27T13:04:43.830Z"
   },
   {
    "duration": 56,
    "start_time": "2022-06-27T13:05:29.605Z"
   },
   {
    "duration": 55,
    "start_time": "2022-06-27T13:06:11.021Z"
   },
   {
    "duration": 52,
    "start_time": "2022-06-27T13:10:12.469Z"
   },
   {
    "duration": 16,
    "start_time": "2022-06-27T13:10:23.212Z"
   },
   {
    "duration": 11,
    "start_time": "2022-06-27T13:10:27.148Z"
   },
   {
    "duration": 10,
    "start_time": "2022-06-27T13:10:57.916Z"
   },
   {
    "duration": 3,
    "start_time": "2022-06-27T13:11:05.508Z"
   },
   {
    "duration": 3,
    "start_time": "2022-06-27T13:11:11.892Z"
   },
   {
    "duration": 147138,
    "start_time": "2022-06-27T13:11:36.108Z"
   },
   {
    "duration": 732,
    "start_time": "2022-06-27T13:24:25.395Z"
   },
   {
    "duration": 869,
    "start_time": "2022-06-27T13:25:44.763Z"
   },
   {
    "duration": 8,
    "start_time": "2022-06-27T13:25:52.466Z"
   },
   {
    "duration": 13,
    "start_time": "2022-06-27T13:26:00.722Z"
   },
   {
    "duration": 19,
    "start_time": "2022-06-27T13:26:23.154Z"
   },
   {
    "duration": 4,
    "start_time": "2022-06-27T13:26:42.394Z"
   },
   {
    "duration": 53,
    "start_time": "2022-06-27T13:34:41.714Z"
   },
   {
    "duration": 3,
    "start_time": "2022-06-27T13:34:45.984Z"
   },
   {
    "duration": 2529,
    "start_time": "2022-06-27T13:34:49.616Z"
   },
   {
    "duration": 393,
    "start_time": "2022-06-27T13:34:58.759Z"
   },
   {
    "duration": 3,
    "start_time": "2022-06-27T13:35:07.712Z"
   },
   {
    "duration": 8130,
    "start_time": "2022-06-27T13:35:08.417Z"
   },
   {
    "duration": 500,
    "start_time": "2022-06-27T13:35:18.433Z"
   },
   {
    "duration": 26,
    "start_time": "2022-06-27T13:36:49.560Z"
   },
   {
    "duration": 3,
    "start_time": "2022-06-27T13:36:50.320Z"
   },
   {
    "duration": 3,
    "start_time": "2022-06-27T13:37:13.617Z"
   },
   {
    "duration": 467643,
    "start_time": "2022-06-27T13:38:01.811Z"
   },
   {
    "duration": 3,
    "start_time": "2022-06-27T13:46:06.206Z"
   },
   {
    "duration": 97957,
    "start_time": "2022-06-27T13:46:06.679Z"
   },
   {
    "duration": 3,
    "start_time": "2022-06-27T13:48:12.055Z"
   },
   {
    "duration": 43635,
    "start_time": "2022-06-27T13:48:12.608Z"
   },
   {
    "duration": 4,
    "start_time": "2022-06-27T17:39:39.526Z"
   },
   {
    "duration": 874,
    "start_time": "2022-06-27T17:39:39.533Z"
   },
   {
    "duration": 36,
    "start_time": "2022-06-27T17:39:40.409Z"
   },
   {
    "duration": 146,
    "start_time": "2022-06-27T17:39:40.447Z"
   },
   {
    "duration": 113,
    "start_time": "2022-06-27T17:39:40.595Z"
   },
   {
    "duration": 149,
    "start_time": "2022-06-27T17:39:40.709Z"
   },
   {
    "duration": 12,
    "start_time": "2022-06-27T17:39:40.860Z"
   },
   {
    "duration": 75,
    "start_time": "2022-06-27T17:39:40.873Z"
   },
   {
    "duration": 11,
    "start_time": "2022-06-27T17:39:40.949Z"
   },
   {
    "duration": 10,
    "start_time": "2022-06-27T17:39:43.684Z"
   },
   {
    "duration": 64,
    "start_time": "2022-06-27T17:41:11.802Z"
   },
   {
    "duration": 201,
    "start_time": "2022-06-27T17:41:15.567Z"
   },
   {
    "duration": 20,
    "start_time": "2022-06-27T17:41:23.796Z"
   },
   {
    "duration": 3,
    "start_time": "2022-06-27T17:41:34.344Z"
   },
   {
    "duration": 23,
    "start_time": "2022-06-27T17:41:41.663Z"
   },
   {
    "duration": 3,
    "start_time": "2022-06-27T17:41:42.561Z"
   },
   {
    "duration": 26,
    "start_time": "2022-06-27T17:41:58.441Z"
   },
   {
    "duration": 4,
    "start_time": "2022-06-27T17:42:01.993Z"
   },
   {
    "duration": 42,
    "start_time": "2022-06-27T17:42:05.159Z"
   },
   {
    "duration": 4,
    "start_time": "2022-06-27T17:43:15.735Z"
   },
   {
    "duration": 745,
    "start_time": "2022-06-27T17:43:15.740Z"
   },
   {
    "duration": 20,
    "start_time": "2022-06-27T17:43:16.487Z"
   },
   {
    "duration": 132,
    "start_time": "2022-06-27T17:43:16.526Z"
   },
   {
    "duration": 97,
    "start_time": "2022-06-27T17:43:16.659Z"
   },
   {
    "duration": 127,
    "start_time": "2022-06-27T17:43:16.757Z"
   },
   {
    "duration": 11,
    "start_time": "2022-06-27T17:43:16.886Z"
   },
   {
    "duration": 59,
    "start_time": "2022-06-27T17:43:16.898Z"
   },
   {
    "duration": 10,
    "start_time": "2022-06-27T17:43:16.959Z"
   },
   {
    "duration": 106,
    "start_time": "2022-06-27T17:43:16.971Z"
   },
   {
    "duration": 105,
    "start_time": "2022-06-27T17:43:17.080Z"
   },
   {
    "duration": 119,
    "start_time": "2022-06-27T17:43:17.186Z"
   },
   {
    "duration": 27,
    "start_time": "2022-06-27T17:43:17.307Z"
   },
   {
    "duration": 3,
    "start_time": "2022-06-27T17:43:17.336Z"
   },
   {
    "duration": 29,
    "start_time": "2022-06-27T17:43:17.341Z"
   },
   {
    "duration": 88,
    "start_time": "2022-06-27T17:43:17.372Z"
   },
   {
    "duration": 3,
    "start_time": "2022-06-27T17:43:17.461Z"
   },
   {
    "duration": 25,
    "start_time": "2022-06-27T17:43:17.466Z"
   },
   {
    "duration": 6162,
    "start_time": "2022-06-27T17:43:17.493Z"
   },
   {
    "duration": 69,
    "start_time": "2022-06-27T17:43:23.657Z"
   },
   {
    "duration": 4,
    "start_time": "2022-06-27T17:43:23.729Z"
   },
   {
    "duration": 14514,
    "start_time": "2022-06-27T17:43:23.734Z"
   },
   {
    "duration": 882,
    "start_time": "2022-06-27T17:43:38.249Z"
   },
   {
    "duration": 13,
    "start_time": "2022-06-27T17:43:39.134Z"
   },
   {
    "duration": 28,
    "start_time": "2022-06-27T17:43:39.148Z"
   },
   {
    "duration": 5,
    "start_time": "2022-06-27T17:43:39.227Z"
   },
   {
    "duration": 106,
    "start_time": "2022-06-27T17:52:19.510Z"
   },
   {
    "duration": 3,
    "start_time": "2022-06-27T17:52:38.047Z"
   },
   {
    "duration": 782,
    "start_time": "2022-06-27T17:52:38.052Z"
   },
   {
    "duration": 28,
    "start_time": "2022-06-27T17:52:38.836Z"
   },
   {
    "duration": 161,
    "start_time": "2022-06-27T17:52:38.866Z"
   },
   {
    "duration": 99,
    "start_time": "2022-06-27T17:52:39.029Z"
   },
   {
    "duration": 135,
    "start_time": "2022-06-27T17:52:39.129Z"
   },
   {
    "duration": 10,
    "start_time": "2022-06-27T17:52:39.266Z"
   },
   {
    "duration": 66,
    "start_time": "2022-06-27T17:52:39.277Z"
   },
   {
    "duration": 10,
    "start_time": "2022-06-27T17:52:39.345Z"
   },
   {
    "duration": 111,
    "start_time": "2022-06-27T17:52:39.357Z"
   },
   {
    "duration": 139,
    "start_time": "2022-06-27T17:52:39.469Z"
   },
   {
    "duration": 119,
    "start_time": "2022-06-27T17:52:39.609Z"
   },
   {
    "duration": 21,
    "start_time": "2022-06-27T17:52:39.731Z"
   },
   {
    "duration": 4,
    "start_time": "2022-06-27T17:52:39.754Z"
   },
   {
    "duration": 34,
    "start_time": "2022-06-27T17:52:39.759Z"
   },
   {
    "duration": 123,
    "start_time": "2022-06-27T17:52:39.795Z"
   },
   {
    "duration": 4,
    "start_time": "2022-06-27T17:52:39.926Z"
   },
   {
    "duration": 34,
    "start_time": "2022-06-27T17:52:39.932Z"
   },
   {
    "duration": 6531,
    "start_time": "2022-06-27T17:52:39.967Z"
   },
   {
    "duration": 73,
    "start_time": "2022-06-27T17:52:46.499Z"
   },
   {
    "duration": 3,
    "start_time": "2022-06-27T17:52:46.574Z"
   },
   {
    "duration": 114052,
    "start_time": "2022-06-27T17:52:46.578Z"
   },
   {
    "duration": 995,
    "start_time": "2022-06-27T17:54:40.633Z"
   },
   {
    "duration": 18,
    "start_time": "2022-06-27T17:54:41.632Z"
   },
   {
    "duration": 92,
    "start_time": "2022-06-27T17:54:41.652Z"
   },
   {
    "duration": 6,
    "start_time": "2022-06-27T17:54:41.747Z"
   },
   {
    "duration": 12,
    "start_time": "2022-06-27T18:18:40.352Z"
   },
   {
    "duration": 9,
    "start_time": "2022-06-27T18:18:47.169Z"
   },
   {
    "duration": 305,
    "start_time": "2022-06-27T18:19:16.705Z"
   },
   {
    "duration": 35399,
    "start_time": "2022-06-27T18:41:03.304Z"
   },
   {
    "duration": 369,
    "start_time": "2022-06-27T18:41:41.701Z"
   },
   {
    "duration": 6,
    "start_time": "2022-06-27T18:46:22.282Z"
   },
   {
    "duration": 151,
    "start_time": "2022-06-27T18:46:47.749Z"
   },
   {
    "duration": 185,
    "start_time": "2022-06-27T18:47:08.128Z"
   },
   {
    "duration": 4,
    "start_time": "2022-06-27T18:47:35.273Z"
   },
   {
    "duration": 361048,
    "start_time": "2022-06-27T18:47:37.479Z"
   },
   {
    "duration": 1010,
    "start_time": "2022-06-27T18:53:38.531Z"
   },
   {
    "duration": 17,
    "start_time": "2022-06-27T19:06:34.454Z"
   },
   {
    "duration": 4,
    "start_time": "2022-06-27T19:13:46.054Z"
   },
   {
    "duration": 68,
    "start_time": "2022-06-27T19:14:44.194Z"
   },
   {
    "duration": 33,
    "start_time": "2022-06-27T19:15:00.489Z"
   },
   {
    "duration": 13,
    "start_time": "2022-06-27T19:15:01.339Z"
   },
   {
    "duration": 61,
    "start_time": "2022-06-27T19:15:13.379Z"
   },
   {
    "duration": 1321,
    "start_time": "2022-06-27T19:24:42.535Z"
   },
   {
    "duration": 912,
    "start_time": "2022-06-27T19:24:43.858Z"
   },
   {
    "duration": 29,
    "start_time": "2022-06-27T19:24:44.772Z"
   },
   {
    "duration": 144,
    "start_time": "2022-06-27T19:24:44.826Z"
   },
   {
    "duration": 138,
    "start_time": "2022-06-27T19:24:44.972Z"
   },
   {
    "duration": 150,
    "start_time": "2022-06-27T19:24:45.113Z"
   },
   {
    "duration": 28,
    "start_time": "2022-06-27T19:24:45.265Z"
   },
   {
    "duration": 67,
    "start_time": "2022-06-27T19:24:45.294Z"
   },
   {
    "duration": 28,
    "start_time": "2022-06-27T19:24:45.362Z"
   },
   {
    "duration": 107,
    "start_time": "2022-06-27T19:24:45.393Z"
   },
   {
    "duration": 129,
    "start_time": "2022-06-27T19:24:45.502Z"
   },
   {
    "duration": 139,
    "start_time": "2022-06-27T19:24:45.635Z"
   },
   {
    "duration": 23,
    "start_time": "2022-06-27T19:24:45.776Z"
   },
   {
    "duration": 27,
    "start_time": "2022-06-27T19:24:45.801Z"
   },
   {
    "duration": 55,
    "start_time": "2022-06-27T19:24:45.829Z"
   },
   {
    "duration": 139,
    "start_time": "2022-06-27T19:24:45.887Z"
   },
   {
    "duration": 4,
    "start_time": "2022-06-27T19:24:46.028Z"
   },
   {
    "duration": 53,
    "start_time": "2022-06-27T19:24:46.034Z"
   },
   {
    "duration": 28293,
    "start_time": "2022-06-27T19:24:46.090Z"
   },
   {
    "duration": 338,
    "start_time": "2022-06-27T19:25:14.385Z"
   },
   {
    "duration": 168,
    "start_time": "2022-06-27T19:25:14.727Z"
   },
   {
    "duration": 4,
    "start_time": "2022-06-27T19:25:14.897Z"
   },
   {
    "duration": 1312,
    "start_time": "2022-06-27T19:27:22.081Z"
   },
   {
    "duration": 908,
    "start_time": "2022-06-27T19:27:23.395Z"
   },
   {
    "duration": 36,
    "start_time": "2022-06-27T19:27:24.305Z"
   },
   {
    "duration": 168,
    "start_time": "2022-06-27T19:27:24.344Z"
   },
   {
    "duration": 153,
    "start_time": "2022-06-27T19:27:24.515Z"
   },
   {
    "duration": 199,
    "start_time": "2022-06-27T19:27:24.670Z"
   },
   {
    "duration": 14,
    "start_time": "2022-06-27T19:27:24.871Z"
   },
   {
    "duration": 77,
    "start_time": "2022-06-27T19:27:24.886Z"
   },
   {
    "duration": 16,
    "start_time": "2022-06-27T19:27:24.965Z"
   },
   {
    "duration": 171,
    "start_time": "2022-06-27T19:27:24.982Z"
   },
   {
    "duration": 132,
    "start_time": "2022-06-27T19:27:25.155Z"
   },
   {
    "duration": 175,
    "start_time": "2022-06-27T19:27:25.289Z"
   },
   {
    "duration": 187,
    "start_time": "2022-06-27T19:27:25.466Z"
   },
   {
    "duration": 0,
    "start_time": "2022-06-27T19:27:25.655Z"
   },
   {
    "duration": 0,
    "start_time": "2022-06-27T19:27:25.657Z"
   },
   {
    "duration": 0,
    "start_time": "2022-06-27T19:27:25.658Z"
   },
   {
    "duration": 0,
    "start_time": "2022-06-27T19:27:25.659Z"
   },
   {
    "duration": 0,
    "start_time": "2022-06-27T19:27:25.660Z"
   },
   {
    "duration": 0,
    "start_time": "2022-06-27T19:27:25.661Z"
   },
   {
    "duration": 0,
    "start_time": "2022-06-27T19:27:25.663Z"
   },
   {
    "duration": 0,
    "start_time": "2022-06-27T19:27:25.664Z"
   },
   {
    "duration": 0,
    "start_time": "2022-06-27T19:27:25.665Z"
   },
   {
    "duration": 0,
    "start_time": "2022-06-27T19:27:25.668Z"
   },
   {
    "duration": 0,
    "start_time": "2022-06-27T19:27:25.671Z"
   },
   {
    "duration": 0,
    "start_time": "2022-06-27T19:27:25.672Z"
   },
   {
    "duration": 0,
    "start_time": "2022-06-27T19:27:25.674Z"
   },
   {
    "duration": 0,
    "start_time": "2022-06-27T19:27:25.675Z"
   },
   {
    "duration": 0,
    "start_time": "2022-06-27T19:27:25.676Z"
   },
   {
    "duration": 0,
    "start_time": "2022-06-27T19:27:25.677Z"
   },
   {
    "duration": 0,
    "start_time": "2022-06-27T19:27:25.678Z"
   },
   {
    "duration": 0,
    "start_time": "2022-06-27T19:27:25.679Z"
   },
   {
    "duration": 0,
    "start_time": "2022-06-27T19:27:25.684Z"
   },
   {
    "duration": 20,
    "start_time": "2022-06-27T19:28:12.403Z"
   },
   {
    "duration": 1300,
    "start_time": "2022-06-27T19:28:58.550Z"
   },
   {
    "duration": 924,
    "start_time": "2022-06-27T19:28:59.851Z"
   },
   {
    "duration": 28,
    "start_time": "2022-06-27T19:29:00.777Z"
   },
   {
    "duration": 176,
    "start_time": "2022-06-27T19:29:00.807Z"
   },
   {
    "duration": 119,
    "start_time": "2022-06-27T19:29:00.986Z"
   },
   {
    "duration": 156,
    "start_time": "2022-06-27T19:29:01.106Z"
   },
   {
    "duration": 14,
    "start_time": "2022-06-27T19:29:01.264Z"
   },
   {
    "duration": 90,
    "start_time": "2022-06-27T19:29:01.280Z"
   },
   {
    "duration": 11,
    "start_time": "2022-06-27T19:29:01.372Z"
   },
   {
    "duration": 189,
    "start_time": "2022-06-27T19:29:01.385Z"
   },
   {
    "duration": 213,
    "start_time": "2022-06-27T19:29:01.576Z"
   },
   {
    "duration": 174,
    "start_time": "2022-06-27T19:29:01.792Z"
   },
   {
    "duration": 135,
    "start_time": "2022-06-27T19:29:01.968Z"
   },
   {
    "duration": 0,
    "start_time": "2022-06-27T19:29:02.105Z"
   },
   {
    "duration": 0,
    "start_time": "2022-06-27T19:29:02.106Z"
   },
   {
    "duration": 0,
    "start_time": "2022-06-27T19:29:02.108Z"
   },
   {
    "duration": 0,
    "start_time": "2022-06-27T19:29:02.110Z"
   },
   {
    "duration": 0,
    "start_time": "2022-06-27T19:29:02.111Z"
   },
   {
    "duration": 0,
    "start_time": "2022-06-27T19:29:02.132Z"
   },
   {
    "duration": 0,
    "start_time": "2022-06-27T19:29:02.133Z"
   },
   {
    "duration": 0,
    "start_time": "2022-06-27T19:29:02.134Z"
   },
   {
    "duration": 0,
    "start_time": "2022-06-27T19:29:02.136Z"
   },
   {
    "duration": 0,
    "start_time": "2022-06-27T19:29:02.137Z"
   },
   {
    "duration": 0,
    "start_time": "2022-06-27T19:29:02.139Z"
   },
   {
    "duration": 0,
    "start_time": "2022-06-27T19:29:02.143Z"
   },
   {
    "duration": 0,
    "start_time": "2022-06-27T19:29:02.143Z"
   },
   {
    "duration": 0,
    "start_time": "2022-06-27T19:29:02.144Z"
   },
   {
    "duration": 0,
    "start_time": "2022-06-27T19:29:02.145Z"
   },
   {
    "duration": 0,
    "start_time": "2022-06-27T19:29:02.148Z"
   },
   {
    "duration": 0,
    "start_time": "2022-06-27T19:29:02.149Z"
   },
   {
    "duration": 0,
    "start_time": "2022-06-27T19:29:02.150Z"
   },
   {
    "duration": 0,
    "start_time": "2022-06-27T19:29:02.152Z"
   },
   {
    "duration": 5,
    "start_time": "2022-06-27T19:30:14.318Z"
   },
   {
    "duration": 924,
    "start_time": "2022-06-27T19:30:14.326Z"
   },
   {
    "duration": 22,
    "start_time": "2022-06-27T19:30:15.252Z"
   },
   {
    "duration": 171,
    "start_time": "2022-06-27T19:30:15.276Z"
   },
   {
    "duration": 120,
    "start_time": "2022-06-27T19:30:15.450Z"
   },
   {
    "duration": 218,
    "start_time": "2022-06-27T19:30:15.572Z"
   },
   {
    "duration": 34,
    "start_time": "2022-06-27T19:30:15.792Z"
   },
   {
    "duration": 52,
    "start_time": "2022-06-27T19:30:15.834Z"
   },
   {
    "duration": 10,
    "start_time": "2022-06-27T19:30:15.889Z"
   },
   {
    "duration": 127,
    "start_time": "2022-06-27T19:30:15.901Z"
   },
   {
    "duration": 167,
    "start_time": "2022-06-27T19:30:16.034Z"
   },
   {
    "duration": 146,
    "start_time": "2022-06-27T19:30:16.202Z"
   },
   {
    "duration": 22,
    "start_time": "2022-06-27T19:30:16.350Z"
   },
   {
    "duration": 0,
    "start_time": "2022-06-27T19:30:16.374Z"
   },
   {
    "duration": 14,
    "start_time": "2022-06-27T19:30:30.616Z"
   },
   {
    "duration": 27,
    "start_time": "2022-06-27T19:30:31.322Z"
   },
   {
    "duration": 5,
    "start_time": "2022-06-27T19:30:58.983Z"
   },
   {
    "duration": 882,
    "start_time": "2022-06-27T19:30:58.991Z"
   },
   {
    "duration": 21,
    "start_time": "2022-06-27T19:30:59.875Z"
   },
   {
    "duration": 188,
    "start_time": "2022-06-27T19:30:59.898Z"
   },
   {
    "duration": 110,
    "start_time": "2022-06-27T19:31:00.088Z"
   },
   {
    "duration": 164,
    "start_time": "2022-06-27T19:31:00.199Z"
   },
   {
    "duration": 31,
    "start_time": "2022-06-27T19:31:00.366Z"
   },
   {
    "duration": 19,
    "start_time": "2022-06-27T19:31:06.520Z"
   },
   {
    "duration": 54,
    "start_time": "2022-06-27T19:31:09.357Z"
   },
   {
    "duration": 14,
    "start_time": "2022-06-27T19:31:11.147Z"
   },
   {
    "duration": 170,
    "start_time": "2022-06-27T19:31:21.463Z"
   },
   {
    "duration": 149,
    "start_time": "2022-06-27T19:31:25.745Z"
   },
   {
    "duration": 22,
    "start_time": "2022-06-27T19:31:33.864Z"
   },
   {
    "duration": 5,
    "start_time": "2022-06-27T19:31:37.258Z"
   },
   {
    "duration": 36,
    "start_time": "2022-06-27T19:31:38.669Z"
   },
   {
    "duration": 161,
    "start_time": "2022-06-27T19:31:42.990Z"
   },
   {
    "duration": 3,
    "start_time": "2022-06-27T19:31:43.470Z"
   },
   {
    "duration": 972,
    "start_time": "2022-06-27T19:32:08.393Z"
   },
   {
    "duration": 4,
    "start_time": "2022-06-27T19:32:40.636Z"
   },
   {
    "duration": 804,
    "start_time": "2022-06-27T19:32:40.643Z"
   },
   {
    "duration": 33,
    "start_time": "2022-06-27T19:32:41.449Z"
   },
   {
    "duration": 202,
    "start_time": "2022-06-27T19:32:41.484Z"
   },
   {
    "duration": 118,
    "start_time": "2022-06-27T19:32:41.689Z"
   },
   {
    "duration": 135,
    "start_time": "2022-06-27T19:32:41.809Z"
   },
   {
    "duration": 14,
    "start_time": "2022-06-27T19:32:41.946Z"
   },
   {
    "duration": 76,
    "start_time": "2022-06-27T19:32:41.962Z"
   },
   {
    "duration": 11,
    "start_time": "2022-06-27T19:32:42.040Z"
   },
   {
    "duration": 108,
    "start_time": "2022-06-27T19:32:42.053Z"
   },
   {
    "duration": 130,
    "start_time": "2022-06-27T19:32:42.163Z"
   },
   {
    "duration": 121,
    "start_time": "2022-06-27T19:32:42.294Z"
   },
   {
    "duration": 23,
    "start_time": "2022-06-27T19:32:42.417Z"
   },
   {
    "duration": 5,
    "start_time": "2022-06-27T19:32:42.442Z"
   },
   {
    "duration": 29,
    "start_time": "2022-06-27T19:32:42.448Z"
   },
   {
    "duration": 134,
    "start_time": "2022-06-27T19:32:42.479Z"
   },
   {
    "duration": 38,
    "start_time": "2022-06-27T19:32:42.615Z"
   },
   {
    "duration": 25578,
    "start_time": "2022-06-27T19:32:45.184Z"
   },
   {
    "duration": 278,
    "start_time": "2022-06-27T19:33:10.764Z"
   },
   {
    "duration": 162,
    "start_time": "2022-06-27T19:33:11.044Z"
   },
   {
    "duration": 4,
    "start_time": "2022-06-27T19:33:25.359Z"
   },
   {
    "duration": 345293,
    "start_time": "2022-06-27T19:33:26.941Z"
   },
   {
    "duration": 515,
    "start_time": "2022-06-27T19:39:12.236Z"
   },
   {
    "duration": 203,
    "start_time": "2022-06-27T19:39:12.753Z"
   },
   {
    "duration": 29,
    "start_time": "2022-06-28T07:35:15.698Z"
   },
   {
    "duration": 31,
    "start_time": "2022-06-28T07:36:27.671Z"
   },
   {
    "duration": 4,
    "start_time": "2022-06-28T07:36:46.065Z"
   },
   {
    "duration": 731,
    "start_time": "2022-06-28T07:36:46.072Z"
   },
   {
    "duration": 31,
    "start_time": "2022-06-28T07:36:46.804Z"
   },
   {
    "duration": 122,
    "start_time": "2022-06-28T07:36:46.837Z"
   },
   {
    "duration": 94,
    "start_time": "2022-06-28T07:36:46.961Z"
   },
   {
    "duration": 53,
    "start_time": "2022-06-28T07:36:47.056Z"
   },
   {
    "duration": 58,
    "start_time": "2022-06-28T07:36:48.846Z"
   },
   {
    "duration": 335,
    "start_time": "2022-06-28T07:36:49.638Z"
   },
   {
    "duration": 4773,
    "start_time": "2022-06-28T07:37:05.567Z"
   },
   {
    "duration": 17,
    "start_time": "2022-06-28T07:38:06.312Z"
   },
   {
    "duration": 770,
    "start_time": "2022-06-28T07:38:35.568Z"
   },
   {
    "duration": 3,
    "start_time": "2022-06-28T07:39:42.742Z"
   },
   {
    "duration": 17,
    "start_time": "2022-06-28T07:39:49.784Z"
   },
   {
    "duration": 18,
    "start_time": "2022-06-28T07:39:59.943Z"
   },
   {
    "duration": 2,
    "start_time": "2022-06-28T07:41:25.583Z"
   },
   {
    "duration": 3,
    "start_time": "2022-06-28T07:41:28.846Z"
   },
   {
    "duration": 2126,
    "start_time": "2022-06-28T07:41:49.959Z"
   },
   {
    "duration": 3,
    "start_time": "2022-06-28T07:43:54.247Z"
   },
   {
    "duration": 811,
    "start_time": "2022-06-28T07:43:56.038Z"
   },
   {
    "duration": 4,
    "start_time": "2022-06-28T07:44:23.319Z"
   },
   {
    "duration": 2309,
    "start_time": "2022-06-28T07:44:27.350Z"
   },
   {
    "duration": 3,
    "start_time": "2022-06-28T07:44:53.495Z"
   },
   {
    "duration": 2347,
    "start_time": "2022-06-28T07:44:54.191Z"
   },
   {
    "duration": 3,
    "start_time": "2022-06-28T07:46:23.007Z"
   },
   {
    "duration": 2330,
    "start_time": "2022-06-28T07:46:25.318Z"
   },
   {
    "duration": 4,
    "start_time": "2022-06-28T07:49:52.670Z"
   },
   {
    "duration": 2316,
    "start_time": "2022-06-28T07:49:54.863Z"
   },
   {
    "duration": 3,
    "start_time": "2022-06-28T07:50:04.063Z"
   },
   {
    "duration": 3368,
    "start_time": "2022-06-28T07:50:04.799Z"
   },
   {
    "duration": 3,
    "start_time": "2022-06-28T07:52:18.566Z"
   },
   {
    "duration": 3,
    "start_time": "2022-06-28T07:52:18.943Z"
   },
   {
    "duration": 3099,
    "start_time": "2022-06-28T07:52:19.511Z"
   },
   {
    "duration": 3,
    "start_time": "2022-06-28T07:52:32.574Z"
   },
   {
    "duration": 4,
    "start_time": "2022-06-28T07:52:32.941Z"
   },
   {
    "duration": 4125,
    "start_time": "2022-06-28T07:52:33.478Z"
   },
   {
    "duration": 3,
    "start_time": "2022-06-28T08:15:43.654Z"
   },
   {
    "duration": 135,
    "start_time": "2022-06-28T08:15:44.678Z"
   },
   {
    "duration": 3,
    "start_time": "2022-06-28T08:15:51.700Z"
   },
   {
    "duration": 145,
    "start_time": "2022-06-28T08:15:53.502Z"
   },
   {
    "duration": 3,
    "start_time": "2022-06-28T08:15:59.366Z"
   },
   {
    "duration": 590,
    "start_time": "2022-06-28T08:15:59.990Z"
   },
   {
    "duration": 3,
    "start_time": "2022-06-28T08:16:10.494Z"
   },
   {
    "duration": 504,
    "start_time": "2022-06-28T08:16:11.054Z"
   },
   {
    "duration": 11,
    "start_time": "2022-06-28T08:46:36.724Z"
   },
   {
    "duration": 15395,
    "start_time": "2022-06-28T08:46:52.356Z"
   },
   {
    "duration": 781,
    "start_time": "2022-06-28T08:48:00.563Z"
   },
   {
    "duration": 723,
    "start_time": "2022-06-28T08:48:48.435Z"
   },
   {
    "duration": 20,
    "start_time": "2022-06-28T08:48:49.160Z"
   },
   {
    "duration": 128,
    "start_time": "2022-06-28T08:48:50.635Z"
   },
   {
    "duration": 9,
    "start_time": "2022-06-28T08:49:00.924Z"
   },
   {
    "duration": 2301,
    "start_time": "2022-06-28T08:51:00.844Z"
   },
   {
    "duration": 6,
    "start_time": "2022-06-28T08:51:11.322Z"
   },
   {
    "duration": 10,
    "start_time": "2022-06-28T08:54:36.220Z"
   },
   {
    "duration": 13,
    "start_time": "2022-06-28T08:54:40.557Z"
   },
   {
    "duration": 1242,
    "start_time": "2022-06-28T08:55:23.329Z"
   },
   {
    "duration": 833,
    "start_time": "2022-06-28T08:55:25.213Z"
   },
   {
    "duration": 27,
    "start_time": "2022-06-28T08:55:26.048Z"
   },
   {
    "duration": 147,
    "start_time": "2022-06-28T08:55:27.337Z"
   },
   {
    "duration": 349,
    "start_time": "2022-06-28T08:55:28.890Z"
   },
   {
    "duration": 57,
    "start_time": "2022-06-28T09:06:25.495Z"
   },
   {
    "duration": 3,
    "start_time": "2022-06-28T10:34:37.206Z"
   },
   {
    "duration": 3,
    "start_time": "2022-06-28T10:36:52.103Z"
   },
   {
    "duration": 29,
    "start_time": "2022-06-28T10:36:56.150Z"
   },
   {
    "duration": 4,
    "start_time": "2022-06-28T10:37:13.056Z"
   },
   {
    "duration": 26,
    "start_time": "2022-06-28T10:37:13.431Z"
   },
   {
    "duration": 10,
    "start_time": "2022-06-28T10:38:01.872Z"
   },
   {
    "duration": 21,
    "start_time": "2022-06-28T10:38:21.254Z"
   },
   {
    "duration": 20,
    "start_time": "2022-06-28T10:38:28.046Z"
   },
   {
    "duration": 22,
    "start_time": "2022-06-28T11:04:56.997Z"
   },
   {
    "duration": 5,
    "start_time": "2022-06-28T11:06:17.189Z"
   },
   {
    "duration": 19,
    "start_time": "2022-06-28T11:06:18.892Z"
   },
   {
    "duration": 4,
    "start_time": "2022-06-28T11:06:44.441Z"
   },
   {
    "duration": 28,
    "start_time": "2022-06-28T11:06:45.797Z"
   },
   {
    "duration": 3,
    "start_time": "2022-06-28T11:07:48.157Z"
   },
   {
    "duration": 23,
    "start_time": "2022-06-28T11:07:48.691Z"
   },
   {
    "duration": 3,
    "start_time": "2022-06-28T11:08:02.227Z"
   },
   {
    "duration": 28,
    "start_time": "2022-06-28T11:08:02.724Z"
   },
   {
    "duration": 4,
    "start_time": "2022-06-28T11:08:39.341Z"
   },
   {
    "duration": 25,
    "start_time": "2022-06-28T11:08:39.638Z"
   },
   {
    "duration": 3,
    "start_time": "2022-06-28T11:09:25.659Z"
   },
   {
    "duration": 38,
    "start_time": "2022-06-28T11:09:25.938Z"
   },
   {
    "duration": 3,
    "start_time": "2022-06-28T11:09:49.371Z"
   },
   {
    "duration": 42,
    "start_time": "2022-06-28T11:09:49.628Z"
   },
   {
    "duration": 5,
    "start_time": "2022-06-28T11:10:01.936Z"
   },
   {
    "duration": 19,
    "start_time": "2022-06-28T11:10:02.445Z"
   },
   {
    "duration": 249,
    "start_time": "2022-06-28T11:11:24.619Z"
   },
   {
    "duration": 186,
    "start_time": "2022-06-28T11:12:04.779Z"
   },
   {
    "duration": 29,
    "start_time": "2022-06-28T11:19:47.177Z"
   },
   {
    "duration": 5,
    "start_time": "2022-06-28T11:29:36.838Z"
   },
   {
    "duration": 782,
    "start_time": "2022-06-28T11:29:36.845Z"
   },
   {
    "duration": 21,
    "start_time": "2022-06-28T11:29:37.629Z"
   },
   {
    "duration": 111,
    "start_time": "2022-06-28T11:29:37.652Z"
   },
   {
    "duration": 0,
    "start_time": "2022-06-28T11:29:37.765Z"
   },
   {
    "duration": 0,
    "start_time": "2022-06-28T11:29:37.766Z"
   },
   {
    "duration": 0,
    "start_time": "2022-06-28T11:29:37.767Z"
   },
   {
    "duration": 0,
    "start_time": "2022-06-28T11:29:37.768Z"
   },
   {
    "duration": 0,
    "start_time": "2022-06-28T11:29:37.769Z"
   },
   {
    "duration": 0,
    "start_time": "2022-06-28T11:29:37.770Z"
   },
   {
    "duration": 0,
    "start_time": "2022-06-28T11:29:37.771Z"
   },
   {
    "duration": 0,
    "start_time": "2022-06-28T11:29:37.772Z"
   },
   {
    "duration": 0,
    "start_time": "2022-06-28T11:29:37.774Z"
   },
   {
    "duration": 20,
    "start_time": "2022-06-28T11:29:41.967Z"
   },
   {
    "duration": 6,
    "start_time": "2022-06-28T11:30:43.051Z"
   },
   {
    "duration": 733,
    "start_time": "2022-06-28T11:30:43.059Z"
   },
   {
    "duration": 32,
    "start_time": "2022-06-28T11:30:43.794Z"
   },
   {
    "duration": 32,
    "start_time": "2022-06-28T11:30:43.829Z"
   },
   {
    "duration": 112,
    "start_time": "2022-06-28T11:30:43.863Z"
   },
   {
    "duration": 50,
    "start_time": "2022-06-28T11:30:43.977Z"
   },
   {
    "duration": 0,
    "start_time": "2022-06-28T11:30:44.029Z"
   },
   {
    "duration": 0,
    "start_time": "2022-06-28T11:30:44.031Z"
   },
   {
    "duration": 0,
    "start_time": "2022-06-28T11:30:44.032Z"
   },
   {
    "duration": 0,
    "start_time": "2022-06-28T11:30:44.034Z"
   },
   {
    "duration": 0,
    "start_time": "2022-06-28T11:30:44.035Z"
   },
   {
    "duration": 0,
    "start_time": "2022-06-28T11:30:44.037Z"
   },
   {
    "duration": 0,
    "start_time": "2022-06-28T11:30:44.038Z"
   },
   {
    "duration": 20,
    "start_time": "2022-06-28T11:30:46.152Z"
   },
   {
    "duration": 18,
    "start_time": "2022-06-28T11:30:52.102Z"
   },
   {
    "duration": 10,
    "start_time": "2022-06-28T11:33:15.207Z"
   },
   {
    "duration": 5,
    "start_time": "2022-06-28T11:33:26.809Z"
   },
   {
    "duration": 702,
    "start_time": "2022-06-28T11:33:26.816Z"
   },
   {
    "duration": 24,
    "start_time": "2022-06-28T11:33:27.519Z"
   },
   {
    "duration": 37,
    "start_time": "2022-06-28T11:33:27.545Z"
   },
   {
    "duration": 105,
    "start_time": "2022-06-28T11:33:27.584Z"
   },
   {
    "duration": 63,
    "start_time": "2022-06-28T11:33:27.692Z"
   },
   {
    "duration": 0,
    "start_time": "2022-06-28T11:33:27.757Z"
   },
   {
    "duration": 0,
    "start_time": "2022-06-28T11:33:27.759Z"
   },
   {
    "duration": 0,
    "start_time": "2022-06-28T11:33:27.761Z"
   },
   {
    "duration": 0,
    "start_time": "2022-06-28T11:33:27.762Z"
   },
   {
    "duration": 0,
    "start_time": "2022-06-28T11:33:27.763Z"
   },
   {
    "duration": 35,
    "start_time": "2022-06-28T11:33:32.735Z"
   },
   {
    "duration": 3,
    "start_time": "2022-06-28T11:33:43.806Z"
   },
   {
    "duration": 10,
    "start_time": "2022-06-28T11:37:01.654Z"
   },
   {
    "duration": 4,
    "start_time": "2022-06-28T11:37:02.005Z"
   },
   {
    "duration": 8,
    "start_time": "2022-06-28T11:37:40.213Z"
   },
   {
    "duration": 23,
    "start_time": "2022-06-28T11:37:40.662Z"
   },
   {
    "duration": 33,
    "start_time": "2022-06-28T11:38:41.695Z"
   },
   {
    "duration": 6,
    "start_time": "2022-06-28T11:38:50.309Z"
   },
   {
    "duration": 794,
    "start_time": "2022-06-28T11:38:50.317Z"
   },
   {
    "duration": 27,
    "start_time": "2022-06-28T11:38:51.113Z"
   },
   {
    "duration": 49,
    "start_time": "2022-06-28T11:38:51.142Z"
   },
   {
    "duration": 125,
    "start_time": "2022-06-28T11:38:51.194Z"
   },
   {
    "duration": 48,
    "start_time": "2022-06-28T11:38:51.320Z"
   },
   {
    "duration": 0,
    "start_time": "2022-06-28T11:38:51.370Z"
   },
   {
    "duration": 0,
    "start_time": "2022-06-28T11:38:51.373Z"
   },
   {
    "duration": 0,
    "start_time": "2022-06-28T11:38:51.374Z"
   },
   {
    "duration": 0,
    "start_time": "2022-06-28T11:38:51.375Z"
   },
   {
    "duration": 0,
    "start_time": "2022-06-28T11:38:51.375Z"
   },
   {
    "duration": 97,
    "start_time": "2022-06-28T11:38:52.845Z"
   },
   {
    "duration": 14,
    "start_time": "2022-06-28T11:39:12.885Z"
   },
   {
    "duration": 5,
    "start_time": "2022-06-28T11:39:25.960Z"
   },
   {
    "duration": 745,
    "start_time": "2022-06-28T11:39:25.967Z"
   },
   {
    "duration": 23,
    "start_time": "2022-06-28T11:39:26.714Z"
   },
   {
    "duration": 36,
    "start_time": "2022-06-28T11:39:26.739Z"
   },
   {
    "duration": 107,
    "start_time": "2022-06-28T11:39:26.777Z"
   },
   {
    "duration": 15,
    "start_time": "2022-06-28T11:39:26.886Z"
   },
   {
    "duration": 0,
    "start_time": "2022-06-28T11:39:26.903Z"
   },
   {
    "duration": 0,
    "start_time": "2022-06-28T11:39:26.905Z"
   },
   {
    "duration": 0,
    "start_time": "2022-06-28T11:39:26.907Z"
   },
   {
    "duration": 0,
    "start_time": "2022-06-28T11:39:26.927Z"
   },
   {
    "duration": 0,
    "start_time": "2022-06-28T11:39:26.928Z"
   },
   {
    "duration": 113,
    "start_time": "2022-06-28T11:39:29.389Z"
   },
   {
    "duration": 39,
    "start_time": "2022-06-28T11:39:30.653Z"
   },
   {
    "duration": 125,
    "start_time": "2022-06-28T11:39:54.221Z"
   },
   {
    "duration": 5,
    "start_time": "2022-06-28T11:40:15.941Z"
   },
   {
    "duration": 10,
    "start_time": "2022-06-28T11:40:18.542Z"
   },
   {
    "duration": 7,
    "start_time": "2022-06-28T11:40:35.055Z"
   },
   {
    "duration": 824,
    "start_time": "2022-06-28T11:40:35.064Z"
   },
   {
    "duration": 38,
    "start_time": "2022-06-28T11:40:35.890Z"
   },
   {
    "duration": 49,
    "start_time": "2022-06-28T11:40:35.931Z"
   },
   {
    "duration": 106,
    "start_time": "2022-06-28T11:40:35.982Z"
   },
   {
    "duration": 36,
    "start_time": "2022-06-28T11:40:36.090Z"
   },
   {
    "duration": 0,
    "start_time": "2022-06-28T11:40:36.128Z"
   },
   {
    "duration": 0,
    "start_time": "2022-06-28T11:40:36.129Z"
   },
   {
    "duration": 0,
    "start_time": "2022-06-28T11:40:36.130Z"
   },
   {
    "duration": 0,
    "start_time": "2022-06-28T11:40:36.131Z"
   },
   {
    "duration": 0,
    "start_time": "2022-06-28T11:40:36.132Z"
   },
   {
    "duration": 0,
    "start_time": "2022-06-28T11:40:36.133Z"
   },
   {
    "duration": 0,
    "start_time": "2022-06-28T11:40:36.134Z"
   },
   {
    "duration": 6,
    "start_time": "2022-06-28T11:41:03.590Z"
   },
   {
    "duration": 747,
    "start_time": "2022-06-28T11:41:03.598Z"
   },
   {
    "duration": 24,
    "start_time": "2022-06-28T11:41:04.347Z"
   },
   {
    "duration": 62,
    "start_time": "2022-06-28T11:41:04.373Z"
   },
   {
    "duration": 95,
    "start_time": "2022-06-28T11:41:04.438Z"
   },
   {
    "duration": 22,
    "start_time": "2022-06-28T11:41:07.901Z"
   },
   {
    "duration": 5,
    "start_time": "2022-06-28T11:41:35.392Z"
   },
   {
    "duration": 752,
    "start_time": "2022-06-28T11:41:35.399Z"
   },
   {
    "duration": 21,
    "start_time": "2022-06-28T11:41:36.152Z"
   },
   {
    "duration": 22,
    "start_time": "2022-06-28T11:41:36.175Z"
   },
   {
    "duration": 0,
    "start_time": "2022-06-28T11:41:36.207Z"
   },
   {
    "duration": 0,
    "start_time": "2022-06-28T11:41:36.208Z"
   },
   {
    "duration": 0,
    "start_time": "2022-06-28T11:41:36.209Z"
   },
   {
    "duration": 0,
    "start_time": "2022-06-28T11:41:36.211Z"
   },
   {
    "duration": 0,
    "start_time": "2022-06-28T11:41:36.228Z"
   },
   {
    "duration": 0,
    "start_time": "2022-06-28T11:41:36.229Z"
   },
   {
    "duration": 0,
    "start_time": "2022-06-28T11:41:36.230Z"
   },
   {
    "duration": 16,
    "start_time": "2022-06-28T11:41:40.052Z"
   },
   {
    "duration": 16,
    "start_time": "2022-06-28T11:41:43.179Z"
   },
   {
    "duration": 20,
    "start_time": "2022-06-28T11:41:43.908Z"
   },
   {
    "duration": 10,
    "start_time": "2022-06-28T11:41:59.107Z"
   },
   {
    "duration": 4,
    "start_time": "2022-06-28T11:42:06.536Z"
   },
   {
    "duration": 713,
    "start_time": "2022-06-28T11:42:06.542Z"
   },
   {
    "duration": 22,
    "start_time": "2022-06-28T11:42:07.256Z"
   },
   {
    "duration": 36,
    "start_time": "2022-06-28T11:42:07.280Z"
   },
   {
    "duration": 1,
    "start_time": "2022-06-28T11:42:07.317Z"
   },
   {
    "duration": 0,
    "start_time": "2022-06-28T11:42:07.319Z"
   },
   {
    "duration": 0,
    "start_time": "2022-06-28T11:42:07.320Z"
   },
   {
    "duration": 0,
    "start_time": "2022-06-28T11:42:07.321Z"
   },
   {
    "duration": 0,
    "start_time": "2022-06-28T11:42:07.322Z"
   },
   {
    "duration": 0,
    "start_time": "2022-06-28T11:42:07.322Z"
   },
   {
    "duration": 5,
    "start_time": "2022-06-28T11:42:29.088Z"
   },
   {
    "duration": 779,
    "start_time": "2022-06-28T11:42:29.096Z"
   },
   {
    "duration": 22,
    "start_time": "2022-06-28T11:42:29.877Z"
   },
   {
    "duration": 53,
    "start_time": "2022-06-28T11:42:29.901Z"
   },
   {
    "duration": 96,
    "start_time": "2022-06-28T11:42:29.957Z"
   },
   {
    "duration": 73,
    "start_time": "2022-06-28T11:42:30.055Z"
   },
   {
    "duration": 3,
    "start_time": "2022-06-28T11:42:30.130Z"
   },
   {
    "duration": 9,
    "start_time": "2022-06-28T11:42:30.135Z"
   },
   {
    "duration": 1191,
    "start_time": "2022-06-28T11:42:30.146Z"
   },
   {
    "duration": 0,
    "start_time": "2022-06-28T11:42:31.339Z"
   },
   {
    "duration": 4,
    "start_time": "2022-06-28T11:43:18.863Z"
   },
   {
    "duration": 760,
    "start_time": "2022-06-28T11:43:18.870Z"
   },
   {
    "duration": 22,
    "start_time": "2022-06-28T11:43:19.632Z"
   },
   {
    "duration": 47,
    "start_time": "2022-06-28T11:43:19.657Z"
   },
   {
    "duration": 125,
    "start_time": "2022-06-28T11:43:19.726Z"
   },
   {
    "duration": 74,
    "start_time": "2022-06-28T11:43:19.854Z"
   },
   {
    "duration": 3,
    "start_time": "2022-06-28T11:44:07.188Z"
   },
   {
    "duration": 4,
    "start_time": "2022-06-28T11:44:08.500Z"
   },
   {
    "duration": 417,
    "start_time": "2022-06-28T11:44:09.398Z"
   },
   {
    "duration": 158,
    "start_time": "2022-06-28T11:44:18.452Z"
   },
   {
    "duration": 16,
    "start_time": "2022-06-28T11:44:19.421Z"
   },
   {
    "duration": 87,
    "start_time": "2022-06-28T11:45:15.915Z"
   },
   {
    "duration": 96,
    "start_time": "2022-06-28T11:45:29.412Z"
   },
   {
    "duration": 87,
    "start_time": "2022-06-28T11:47:17.042Z"
   },
   {
    "duration": 120,
    "start_time": "2022-06-28T11:47:25.387Z"
   },
   {
    "duration": 8,
    "start_time": "2022-06-28T11:48:17.019Z"
   },
   {
    "duration": 13,
    "start_time": "2022-06-28T11:49:13.042Z"
   },
   {
    "duration": 858,
    "start_time": "2022-06-28T11:49:21.218Z"
   },
   {
    "duration": 252,
    "start_time": "2022-06-28T11:51:21.267Z"
   },
   {
    "duration": 14,
    "start_time": "2022-06-28T11:51:30.754Z"
   },
   {
    "duration": 14,
    "start_time": "2022-06-28T11:55:45.577Z"
   },
   {
    "duration": 19,
    "start_time": "2022-06-28T11:56:00.497Z"
   },
   {
    "duration": 13,
    "start_time": "2022-06-28T11:56:26.704Z"
   },
   {
    "duration": 10,
    "start_time": "2022-06-28T11:57:34.134Z"
   },
   {
    "duration": 7,
    "start_time": "2022-06-28T11:59:07.672Z"
   },
   {
    "duration": 11,
    "start_time": "2022-06-28T11:59:08.985Z"
   },
   {
    "duration": 8,
    "start_time": "2022-06-28T11:59:21.160Z"
   },
   {
    "duration": 14,
    "start_time": "2022-06-28T11:59:21.808Z"
   },
   {
    "duration": 14,
    "start_time": "2022-06-28T11:59:39.888Z"
   },
   {
    "duration": 14,
    "start_time": "2022-06-28T11:59:52.458Z"
   },
   {
    "duration": 8,
    "start_time": "2022-06-28T12:18:20.372Z"
   },
   {
    "duration": 51,
    "start_time": "2022-06-28T12:19:48.316Z"
   },
   {
    "duration": 11,
    "start_time": "2022-06-28T12:19:55.387Z"
   },
   {
    "duration": 343,
    "start_time": "2022-06-28T12:20:00.675Z"
   },
   {
    "duration": 5,
    "start_time": "2022-06-28T12:26:00.070Z"
   },
   {
    "duration": 254,
    "start_time": "2022-06-28T12:26:22.182Z"
   },
   {
    "duration": 404,
    "start_time": "2022-06-28T12:26:37.695Z"
   },
   {
    "duration": 240,
    "start_time": "2022-06-28T12:27:46.303Z"
   },
   {
    "duration": 12,
    "start_time": "2022-06-28T12:28:10.544Z"
   },
   {
    "duration": 9,
    "start_time": "2022-06-28T12:28:23.344Z"
   },
   {
    "duration": 10,
    "start_time": "2022-06-28T12:28:37.320Z"
   },
   {
    "duration": 302,
    "start_time": "2022-06-28T12:28:49.577Z"
   },
   {
    "duration": 272,
    "start_time": "2022-06-28T12:28:59.801Z"
   },
   {
    "duration": 5,
    "start_time": "2022-06-28T12:29:04.963Z"
   },
   {
    "duration": 7,
    "start_time": "2022-06-28T12:29:10.345Z"
   },
   {
    "duration": 238,
    "start_time": "2022-06-28T12:29:22.904Z"
   },
   {
    "duration": 11,
    "start_time": "2022-06-28T12:29:28.888Z"
   },
   {
    "duration": 11,
    "start_time": "2022-06-28T12:31:46.861Z"
   },
   {
    "duration": 12,
    "start_time": "2022-06-28T12:33:19.018Z"
   },
   {
    "duration": 18,
    "start_time": "2022-06-28T12:34:10.378Z"
   },
   {
    "duration": 70,
    "start_time": "2022-06-28T12:35:13.460Z"
   },
   {
    "duration": 48,
    "start_time": "2022-06-28T12:35:41.362Z"
   },
   {
    "duration": 10,
    "start_time": "2022-06-28T12:38:03.882Z"
   },
   {
    "duration": 953,
    "start_time": "2022-06-28T12:38:08.499Z"
   },
   {
    "duration": 4,
    "start_time": "2022-06-28T12:39:06.268Z"
   },
   {
    "duration": 765,
    "start_time": "2022-06-28T12:39:06.274Z"
   },
   {
    "duration": 22,
    "start_time": "2022-06-28T12:39:07.042Z"
   },
   {
    "duration": 93,
    "start_time": "2022-06-28T12:39:07.066Z"
   },
   {
    "duration": 36,
    "start_time": "2022-06-28T12:39:07.161Z"
   },
   {
    "duration": 102,
    "start_time": "2022-06-28T12:39:07.198Z"
   },
   {
    "duration": 105,
    "start_time": "2022-06-28T12:39:07.302Z"
   },
   {
    "duration": 73,
    "start_time": "2022-06-28T12:39:07.409Z"
   },
   {
    "duration": 3,
    "start_time": "2022-06-28T12:39:07.484Z"
   },
   {
    "duration": 14,
    "start_time": "2022-06-28T12:39:07.488Z"
   },
   {
    "duration": 279,
    "start_time": "2022-06-28T12:39:07.503Z"
   },
   {
    "duration": 6,
    "start_time": "2022-06-28T12:39:28.742Z"
   },
   {
    "duration": 755,
    "start_time": "2022-06-28T12:39:28.750Z"
   },
   {
    "duration": 30,
    "start_time": "2022-06-28T12:39:29.507Z"
   },
   {
    "duration": 25,
    "start_time": "2022-06-28T12:39:31.644Z"
   },
   {
    "duration": 68,
    "start_time": "2022-06-28T12:39:32.864Z"
   },
   {
    "duration": 157,
    "start_time": "2022-06-28T12:46:09.663Z"
   },
   {
    "duration": 6,
    "start_time": "2022-06-28T12:46:16.648Z"
   },
   {
    "duration": 838,
    "start_time": "2022-06-28T12:46:16.657Z"
   },
   {
    "duration": 35,
    "start_time": "2022-06-28T12:46:17.497Z"
   },
   {
    "duration": 82,
    "start_time": "2022-06-28T12:46:17.534Z"
   },
   {
    "duration": 45,
    "start_time": "2022-06-28T12:46:17.618Z"
   },
   {
    "duration": 117,
    "start_time": "2022-06-28T12:46:17.665Z"
   },
   {
    "duration": 105,
    "start_time": "2022-06-28T12:46:17.784Z"
   },
   {
    "duration": 78,
    "start_time": "2022-06-28T12:46:17.891Z"
   },
   {
    "duration": 3,
    "start_time": "2022-06-28T12:46:17.971Z"
   },
   {
    "duration": 13,
    "start_time": "2022-06-28T12:46:17.976Z"
   },
   {
    "duration": 280,
    "start_time": "2022-06-28T12:46:17.991Z"
   },
   {
    "duration": 100,
    "start_time": "2022-06-28T12:46:18.273Z"
   },
   {
    "duration": 88,
    "start_time": "2022-06-28T12:46:18.375Z"
   },
   {
    "duration": 107,
    "start_time": "2022-06-28T12:46:18.466Z"
   },
   {
    "duration": 96,
    "start_time": "2022-06-28T12:46:47.362Z"
   },
   {
    "duration": 116,
    "start_time": "2022-06-28T12:46:51.667Z"
   },
   {
    "duration": 114,
    "start_time": "2022-06-28T12:47:04.245Z"
   },
   {
    "duration": 104,
    "start_time": "2022-06-28T12:47:15.084Z"
   },
   {
    "duration": 5,
    "start_time": "2022-06-28T13:06:27.202Z"
   },
   {
    "duration": 809,
    "start_time": "2022-06-28T13:06:27.209Z"
   },
   {
    "duration": 32,
    "start_time": "2022-06-28T13:06:28.019Z"
   },
   {
    "duration": 76,
    "start_time": "2022-06-28T13:06:28.053Z"
   },
   {
    "duration": 40,
    "start_time": "2022-06-28T13:06:28.132Z"
   },
   {
    "duration": 108,
    "start_time": "2022-06-28T13:06:28.174Z"
   },
   {
    "duration": 109,
    "start_time": "2022-06-28T13:06:28.284Z"
   },
   {
    "duration": 65,
    "start_time": "2022-06-28T13:06:28.395Z"
   },
   {
    "duration": 3,
    "start_time": "2022-06-28T13:06:28.462Z"
   },
   {
    "duration": 6,
    "start_time": "2022-06-28T13:06:28.467Z"
   },
   {
    "duration": 279,
    "start_time": "2022-06-28T13:06:28.474Z"
   },
   {
    "duration": 97,
    "start_time": "2022-06-28T13:06:28.755Z"
   },
   {
    "duration": 89,
    "start_time": "2022-06-28T13:06:28.854Z"
   },
   {
    "duration": 96,
    "start_time": "2022-06-28T13:06:28.946Z"
   },
   {
    "duration": 108,
    "start_time": "2022-06-28T13:06:29.044Z"
   },
   {
    "duration": 106,
    "start_time": "2022-06-28T13:06:29.154Z"
   },
   {
    "duration": 20,
    "start_time": "2022-06-28T13:06:29.261Z"
   },
   {
    "duration": 7,
    "start_time": "2022-06-28T13:06:29.283Z"
   },
   {
    "duration": 59,
    "start_time": "2022-06-28T13:06:29.292Z"
   },
   {
    "duration": 107,
    "start_time": "2022-06-28T13:06:35.039Z"
   },
   {
    "duration": 28,
    "start_time": "2022-06-28T13:06:35.974Z"
   },
   {
    "duration": 27020,
    "start_time": "2022-06-28T13:06:51.358Z"
   },
   {
    "duration": 200,
    "start_time": "2022-06-28T13:07:18.380Z"
   },
   {
    "duration": 201,
    "start_time": "2022-06-28T13:39:47.956Z"
   },
   {
    "duration": 169,
    "start_time": "2022-06-28T13:39:52.154Z"
   },
   {
    "duration": 1524,
    "start_time": "2022-06-28T13:40:07.924Z"
   },
   {
    "duration": 1014,
    "start_time": "2022-06-28T13:40:09.453Z"
   },
   {
    "duration": 26,
    "start_time": "2022-06-28T13:40:10.468Z"
   },
   {
    "duration": 90,
    "start_time": "2022-06-28T13:40:10.496Z"
   },
   {
    "duration": 80,
    "start_time": "2022-06-28T13:40:10.588Z"
   },
   {
    "duration": 107,
    "start_time": "2022-06-28T13:40:10.669Z"
   },
   {
    "duration": 110,
    "start_time": "2022-06-28T13:40:10.778Z"
   },
   {
    "duration": 86,
    "start_time": "2022-06-28T13:40:10.890Z"
   },
   {
    "duration": 2,
    "start_time": "2022-06-28T13:40:10.978Z"
   },
   {
    "duration": 17,
    "start_time": "2022-06-28T13:40:10.982Z"
   },
   {
    "duration": 317,
    "start_time": "2022-06-28T13:40:11.000Z"
   },
   {
    "duration": 114,
    "start_time": "2022-06-28T13:40:11.319Z"
   },
   {
    "duration": 136,
    "start_time": "2022-06-28T13:40:11.435Z"
   },
   {
    "duration": 132,
    "start_time": "2022-06-28T13:40:11.574Z"
   },
   {
    "duration": 177,
    "start_time": "2022-06-28T13:40:11.709Z"
   },
   {
    "duration": 118,
    "start_time": "2022-06-28T13:40:11.888Z"
   },
   {
    "duration": 34,
    "start_time": "2022-06-28T13:40:12.008Z"
   },
   {
    "duration": 23,
    "start_time": "2022-06-28T13:40:12.044Z"
   },
   {
    "duration": 29,
    "start_time": "2022-06-28T13:40:12.069Z"
   },
   {
    "duration": 143,
    "start_time": "2022-06-28T13:40:12.100Z"
   },
   {
    "duration": 25,
    "start_time": "2022-06-28T13:40:12.245Z"
   },
   {
    "duration": 29381,
    "start_time": "2022-06-28T13:40:12.272Z"
   },
   {
    "duration": 259,
    "start_time": "2022-06-28T13:40:41.655Z"
   },
   {
    "duration": 193,
    "start_time": "2022-06-28T13:40:41.916Z"
   },
   {
    "duration": 4,
    "start_time": "2022-06-28T13:40:42.110Z"
   },
   {
    "duration": 135636,
    "start_time": "2022-06-28T13:40:42.115Z"
   },
   {
    "duration": 519,
    "start_time": "2022-06-28T13:42:57.753Z"
   },
   {
    "duration": 260,
    "start_time": "2022-06-28T13:42:58.273Z"
   },
   {
    "duration": 22,
    "start_time": "2022-06-28T13:42:58.536Z"
   },
   {
    "duration": 28,
    "start_time": "2022-06-28T13:42:58.560Z"
   },
   {
    "duration": 16,
    "start_time": "2022-06-28T13:42:58.589Z"
   },
   {
    "duration": 73,
    "start_time": "2022-06-28T13:42:58.607Z"
   },
   {
    "duration": 8,
    "start_time": "2022-06-28T13:42:58.682Z"
   },
   {
    "duration": 47939,
    "start_time": "2022-06-28T13:42:58.692Z"
   },
   {
    "duration": 99,
    "start_time": "2022-06-28T13:43:46.633Z"
   },
   {
    "duration": 4,
    "start_time": "2022-06-28T13:56:30.813Z"
   },
   {
    "duration": 992,
    "start_time": "2022-06-28T13:56:30.820Z"
   },
   {
    "duration": 38,
    "start_time": "2022-06-28T13:56:31.814Z"
   },
   {
    "duration": 88,
    "start_time": "2022-06-28T13:56:31.861Z"
   },
   {
    "duration": 54,
    "start_time": "2022-06-28T13:56:31.952Z"
   },
   {
    "duration": 105,
    "start_time": "2022-06-28T13:56:32.008Z"
   },
   {
    "duration": 105,
    "start_time": "2022-06-28T13:56:32.115Z"
   },
   {
    "duration": 93,
    "start_time": "2022-06-28T13:56:32.221Z"
   },
   {
    "duration": 2,
    "start_time": "2022-06-28T13:56:32.316Z"
   },
   {
    "duration": 47,
    "start_time": "2022-06-28T13:56:32.321Z"
   },
   {
    "duration": 279,
    "start_time": "2022-06-28T13:56:32.369Z"
   },
   {
    "duration": 97,
    "start_time": "2022-06-28T13:56:32.650Z"
   },
   {
    "duration": 88,
    "start_time": "2022-06-28T13:56:32.749Z"
   },
   {
    "duration": 101,
    "start_time": "2022-06-28T13:56:32.840Z"
   },
   {
    "duration": 5,
    "start_time": "2022-06-28T13:57:24.755Z"
   },
   {
    "duration": 897,
    "start_time": "2022-06-28T13:57:24.762Z"
   },
   {
    "duration": 29,
    "start_time": "2022-06-28T13:57:25.661Z"
   },
   {
    "duration": 102,
    "start_time": "2022-06-28T13:57:25.692Z"
   },
   {
    "duration": 69,
    "start_time": "2022-06-28T13:57:25.796Z"
   },
   {
    "duration": 98,
    "start_time": "2022-06-28T13:57:25.867Z"
   },
   {
    "duration": 104,
    "start_time": "2022-06-28T13:57:25.967Z"
   },
   {
    "duration": 87,
    "start_time": "2022-06-28T13:57:26.072Z"
   },
   {
    "duration": 3,
    "start_time": "2022-06-28T13:57:26.160Z"
   },
   {
    "duration": 6,
    "start_time": "2022-06-28T13:57:26.164Z"
   },
   {
    "duration": 248,
    "start_time": "2022-06-28T13:57:26.171Z"
   },
   {
    "duration": 120,
    "start_time": "2022-06-28T13:57:26.426Z"
   },
   {
    "duration": 19,
    "start_time": "2022-06-28T13:57:26.548Z"
   },
   {
    "duration": 100,
    "start_time": "2022-06-28T13:57:26.569Z"
   },
   {
    "duration": 1412,
    "start_time": "2022-06-28T14:00:24.560Z"
   },
   {
    "duration": 942,
    "start_time": "2022-06-28T14:00:25.974Z"
   },
   {
    "duration": 42,
    "start_time": "2022-06-28T14:00:26.918Z"
   },
   {
    "duration": 94,
    "start_time": "2022-06-28T14:00:26.962Z"
   },
   {
    "duration": 51,
    "start_time": "2022-06-28T14:00:27.059Z"
   },
   {
    "duration": 110,
    "start_time": "2022-06-28T14:00:27.112Z"
   },
   {
    "duration": 109,
    "start_time": "2022-06-28T14:00:27.223Z"
   },
   {
    "duration": 65,
    "start_time": "2022-06-28T14:00:27.339Z"
   },
   {
    "duration": 3,
    "start_time": "2022-06-28T14:00:27.405Z"
   },
   {
    "duration": 25,
    "start_time": "2022-06-28T14:00:27.409Z"
   },
   {
    "duration": 316,
    "start_time": "2022-06-28T14:00:27.436Z"
   },
   {
    "duration": 104,
    "start_time": "2022-06-28T14:00:27.755Z"
   },
   {
    "duration": 52,
    "start_time": "2022-06-28T14:00:27.862Z"
   },
   {
    "duration": 105,
    "start_time": "2022-06-28T14:00:27.917Z"
   },
   {
    "duration": 133,
    "start_time": "2022-06-28T14:00:28.028Z"
   },
   {
    "duration": 116,
    "start_time": "2022-06-28T14:00:28.163Z"
   },
   {
    "duration": 21,
    "start_time": "2022-06-28T14:00:28.280Z"
   },
   {
    "duration": 8,
    "start_time": "2022-06-28T14:00:28.302Z"
   },
   {
    "duration": 48,
    "start_time": "2022-06-28T14:00:28.312Z"
   },
   {
    "duration": 142,
    "start_time": "2022-06-28T14:00:28.362Z"
   },
   {
    "duration": 42,
    "start_time": "2022-06-28T14:00:28.506Z"
   },
   {
    "duration": 28932,
    "start_time": "2022-06-28T14:00:28.555Z"
   },
   {
    "duration": 214,
    "start_time": "2022-06-28T14:00:57.489Z"
   },
   {
    "duration": 182,
    "start_time": "2022-06-28T14:00:57.704Z"
   },
   {
    "duration": 4,
    "start_time": "2022-06-28T14:00:57.887Z"
   },
   {
    "duration": 106468,
    "start_time": "2022-06-28T14:00:57.893Z"
   },
   {
    "duration": 573,
    "start_time": "2022-06-28T14:02:44.364Z"
   },
   {
    "duration": 226,
    "start_time": "2022-06-28T14:02:44.938Z"
   },
   {
    "duration": 25,
    "start_time": "2022-06-28T14:02:45.166Z"
   },
   {
    "duration": 4,
    "start_time": "2022-06-28T14:02:45.192Z"
   },
   {
    "duration": 47525,
    "start_time": "2022-06-28T14:02:45.197Z"
   },
   {
    "duration": 120,
    "start_time": "2022-06-28T14:03:32.723Z"
   },
   {
    "duration": 1319,
    "start_time": "2022-06-28T14:11:57.501Z"
   },
   {
    "duration": 865,
    "start_time": "2022-06-28T14:11:58.822Z"
   },
   {
    "duration": 27,
    "start_time": "2022-06-28T14:11:59.688Z"
   },
   {
    "duration": 78,
    "start_time": "2022-06-28T14:11:59.717Z"
   },
   {
    "duration": 74,
    "start_time": "2022-06-28T14:11:59.798Z"
   },
   {
    "duration": 122,
    "start_time": "2022-06-28T14:11:59.873Z"
   },
   {
    "duration": 100,
    "start_time": "2022-06-28T14:11:59.997Z"
   },
   {
    "duration": 74,
    "start_time": "2022-06-28T14:12:00.099Z"
   },
   {
    "duration": 3,
    "start_time": "2022-06-28T14:12:00.174Z"
   },
   {
    "duration": 48,
    "start_time": "2022-06-28T14:12:00.178Z"
   },
   {
    "duration": 335,
    "start_time": "2022-06-28T14:12:00.228Z"
   },
   {
    "duration": 108,
    "start_time": "2022-06-28T14:12:00.565Z"
   },
   {
    "duration": 79,
    "start_time": "2022-06-28T14:12:00.675Z"
   },
   {
    "duration": 121,
    "start_time": "2022-06-28T14:12:00.757Z"
   },
   {
    "duration": 146,
    "start_time": "2022-06-28T14:12:00.880Z"
   },
   {
    "duration": 115,
    "start_time": "2022-06-28T14:12:01.029Z"
   },
   {
    "duration": 20,
    "start_time": "2022-06-28T14:12:01.146Z"
   },
   {
    "duration": 74,
    "start_time": "2022-06-28T14:12:01.168Z"
   },
   {
    "duration": 60,
    "start_time": "2022-06-28T14:12:01.244Z"
   },
   {
    "duration": 208,
    "start_time": "2022-06-28T14:12:01.306Z"
   },
   {
    "duration": 30,
    "start_time": "2022-06-28T14:12:01.516Z"
   },
   {
    "duration": 26007,
    "start_time": "2022-06-28T14:12:01.548Z"
   },
   {
    "duration": 190,
    "start_time": "2022-06-28T14:12:27.557Z"
   },
   {
    "duration": 157,
    "start_time": "2022-06-28T14:12:27.749Z"
   },
   {
    "duration": 3,
    "start_time": "2022-06-28T14:12:27.907Z"
   },
   {
    "duration": 30630,
    "start_time": "2022-06-28T14:12:27.912Z"
   },
   {
    "duration": 612,
    "start_time": "2022-06-28T14:12:58.543Z"
   },
   {
    "duration": 240,
    "start_time": "2022-06-28T14:12:59.156Z"
   },
   {
    "duration": 47,
    "start_time": "2022-06-28T14:12:59.397Z"
   },
   {
    "duration": 4,
    "start_time": "2022-06-28T14:12:59.446Z"
   },
   {
    "duration": 45462,
    "start_time": "2022-06-28T14:12:59.451Z"
   },
   {
    "duration": 46,
    "start_time": "2022-06-28T14:13:44.915Z"
   },
   {
    "duration": 5,
    "start_time": "2022-06-28T14:23:54.899Z"
   },
   {
    "duration": 763,
    "start_time": "2022-06-28T14:23:54.906Z"
   },
   {
    "duration": 22,
    "start_time": "2022-06-28T14:23:55.671Z"
   },
   {
    "duration": 92,
    "start_time": "2022-06-28T14:23:55.695Z"
   },
   {
    "duration": 51,
    "start_time": "2022-06-28T14:23:55.789Z"
   },
   {
    "duration": 91,
    "start_time": "2022-06-28T14:23:55.842Z"
   },
   {
    "duration": 93,
    "start_time": "2022-06-28T14:23:55.935Z"
   },
   {
    "duration": 59,
    "start_time": "2022-06-28T14:23:56.030Z"
   },
   {
    "duration": 3,
    "start_time": "2022-06-28T14:23:56.091Z"
   },
   {
    "duration": 30,
    "start_time": "2022-06-28T14:23:56.098Z"
   },
   {
    "duration": 239,
    "start_time": "2022-06-28T14:23:56.129Z"
   },
   {
    "duration": 87,
    "start_time": "2022-06-28T14:23:56.369Z"
   },
   {
    "duration": 14,
    "start_time": "2022-06-28T14:23:56.458Z"
   },
   {
    "duration": 107,
    "start_time": "2022-06-28T14:23:56.474Z"
   },
   {
    "duration": 130,
    "start_time": "2022-06-28T14:23:56.583Z"
   },
   {
    "duration": 101,
    "start_time": "2022-06-28T14:23:56.715Z"
   },
   {
    "duration": 26,
    "start_time": "2022-06-28T14:23:56.817Z"
   },
   {
    "duration": 4,
    "start_time": "2022-06-28T14:23:56.845Z"
   },
   {
    "duration": 24,
    "start_time": "2022-06-28T14:23:56.850Z"
   },
   {
    "duration": 119,
    "start_time": "2022-06-28T14:23:56.876Z"
   },
   {
    "duration": 32,
    "start_time": "2022-06-28T14:23:56.997Z"
   },
   {
    "duration": 9601,
    "start_time": "2022-06-28T14:23:57.031Z"
   },
   {
    "duration": 0,
    "start_time": "2022-06-28T14:24:06.634Z"
   },
   {
    "duration": 0,
    "start_time": "2022-06-28T14:24:06.636Z"
   },
   {
    "duration": 0,
    "start_time": "2022-06-28T14:24:06.637Z"
   },
   {
    "duration": 0,
    "start_time": "2022-06-28T14:24:06.638Z"
   },
   {
    "duration": 0,
    "start_time": "2022-06-28T14:24:06.639Z"
   },
   {
    "duration": 0,
    "start_time": "2022-06-28T14:24:06.640Z"
   },
   {
    "duration": 0,
    "start_time": "2022-06-28T14:24:06.642Z"
   },
   {
    "duration": 0,
    "start_time": "2022-06-28T14:24:06.643Z"
   },
   {
    "duration": 0,
    "start_time": "2022-06-28T14:24:06.644Z"
   },
   {
    "duration": 0,
    "start_time": "2022-06-28T14:24:06.646Z"
   },
   {
    "duration": 4,
    "start_time": "2022-06-28T14:24:13.478Z"
   },
   {
    "duration": 758,
    "start_time": "2022-06-28T14:24:13.485Z"
   },
   {
    "duration": 25,
    "start_time": "2022-06-28T14:24:14.244Z"
   },
   {
    "duration": 73,
    "start_time": "2022-06-28T14:24:14.272Z"
   },
   {
    "duration": 36,
    "start_time": "2022-06-28T14:24:14.347Z"
   },
   {
    "duration": 93,
    "start_time": "2022-06-28T14:24:14.385Z"
   },
   {
    "duration": 94,
    "start_time": "2022-06-28T14:24:14.479Z"
   },
   {
    "duration": 67,
    "start_time": "2022-06-28T14:24:14.575Z"
   },
   {
    "duration": 3,
    "start_time": "2022-06-28T14:24:14.644Z"
   },
   {
    "duration": 17,
    "start_time": "2022-06-28T14:24:14.649Z"
   },
   {
    "duration": 241,
    "start_time": "2022-06-28T14:24:14.667Z"
   },
   {
    "duration": 88,
    "start_time": "2022-06-28T14:24:14.909Z"
   },
   {
    "duration": 15,
    "start_time": "2022-06-28T14:24:14.998Z"
   },
   {
    "duration": 81,
    "start_time": "2022-06-28T14:24:15.028Z"
   },
   {
    "duration": 117,
    "start_time": "2022-06-28T14:24:15.111Z"
   },
   {
    "duration": 69,
    "start_time": "2022-06-28T14:24:21.011Z"
   },
   {
    "duration": 4,
    "start_time": "2022-06-28T14:24:27.169Z"
   },
   {
    "duration": 1270,
    "start_time": "2022-06-28T18:25:59.357Z"
   },
   {
    "duration": 881,
    "start_time": "2022-06-28T18:26:00.629Z"
   },
   {
    "duration": 39,
    "start_time": "2022-06-28T18:26:01.513Z"
   },
   {
    "duration": 106,
    "start_time": "2022-06-28T18:26:01.555Z"
   },
   {
    "duration": 76,
    "start_time": "2022-06-28T18:26:01.663Z"
   },
   {
    "duration": 114,
    "start_time": "2022-06-28T18:26:01.740Z"
   },
   {
    "duration": 98,
    "start_time": "2022-06-28T18:26:01.856Z"
   },
   {
    "duration": 77,
    "start_time": "2022-06-28T18:26:01.955Z"
   },
   {
    "duration": 3,
    "start_time": "2022-06-28T18:26:02.033Z"
   },
   {
    "duration": 19,
    "start_time": "2022-06-28T18:26:02.038Z"
   },
   {
    "duration": 287,
    "start_time": "2022-06-28T18:26:02.058Z"
   },
   {
    "duration": 93,
    "start_time": "2022-06-28T18:26:02.347Z"
   },
   {
    "duration": 30,
    "start_time": "2022-06-28T18:26:02.442Z"
   },
   {
    "duration": 106,
    "start_time": "2022-06-28T18:26:02.474Z"
   },
   {
    "duration": 130,
    "start_time": "2022-06-28T18:26:02.582Z"
   },
   {
    "duration": 15,
    "start_time": "2022-06-28T18:26:02.713Z"
   },
   {
    "duration": 117,
    "start_time": "2022-06-28T18:26:02.729Z"
   },
   {
    "duration": 20,
    "start_time": "2022-06-28T18:26:02.848Z"
   },
   {
    "duration": 4,
    "start_time": "2022-06-28T18:26:02.869Z"
   },
   {
    "duration": 63,
    "start_time": "2022-06-28T18:26:02.875Z"
   },
   {
    "duration": 138,
    "start_time": "2022-06-28T18:26:02.940Z"
   },
   {
    "duration": 21,
    "start_time": "2022-06-28T18:26:03.080Z"
   },
   {
    "duration": 24987,
    "start_time": "2022-06-28T18:26:03.103Z"
   },
   {
    "duration": 190,
    "start_time": "2022-06-28T18:26:28.092Z"
   },
   {
    "duration": 160,
    "start_time": "2022-06-28T18:26:28.284Z"
   },
   {
    "duration": 3,
    "start_time": "2022-06-28T18:26:28.446Z"
   },
   {
    "duration": 31383,
    "start_time": "2022-06-28T18:26:28.451Z"
   },
   {
    "duration": 513,
    "start_time": "2022-06-28T18:26:59.838Z"
   },
   {
    "duration": 261,
    "start_time": "2022-06-28T18:27:00.353Z"
   },
   {
    "duration": 35,
    "start_time": "2022-06-28T18:27:00.616Z"
   },
   {
    "duration": 4,
    "start_time": "2022-06-28T18:27:00.653Z"
   },
   {
    "duration": 42168,
    "start_time": "2022-06-28T18:27:00.658Z"
   },
   {
    "duration": 98,
    "start_time": "2022-06-28T18:27:42.828Z"
   },
   {
    "duration": 12,
    "start_time": "2022-06-28T18:42:21.633Z"
   },
   {
    "duration": 10,
    "start_time": "2022-06-28T18:42:32.103Z"
   },
   {
    "duration": 7,
    "start_time": "2022-06-28T18:43:03.498Z"
   },
   {
    "duration": 9,
    "start_time": "2022-06-28T18:43:23.185Z"
   },
   {
    "duration": 8,
    "start_time": "2022-06-28T18:43:33.679Z"
   },
   {
    "duration": 9,
    "start_time": "2022-06-28T18:43:46.659Z"
   },
   {
    "duration": 1061,
    "start_time": "2022-06-28T18:44:14.547Z"
   },
   {
    "duration": 7,
    "start_time": "2022-06-28T18:44:23.940Z"
   },
   {
    "duration": 14,
    "start_time": "2022-06-28T18:44:26.858Z"
   },
   {
    "duration": 9,
    "start_time": "2022-06-28T18:44:40.416Z"
   },
   {
    "duration": 5,
    "start_time": "2022-06-28T18:44:56.341Z"
   },
   {
    "duration": 784,
    "start_time": "2022-06-28T18:44:56.348Z"
   },
   {
    "duration": 20,
    "start_time": "2022-06-28T18:44:57.133Z"
   },
   {
    "duration": 88,
    "start_time": "2022-06-28T18:44:57.155Z"
   },
   {
    "duration": 37,
    "start_time": "2022-06-28T18:44:57.245Z"
   },
   {
    "duration": 114,
    "start_time": "2022-06-28T18:44:57.284Z"
   },
   {
    "duration": 103,
    "start_time": "2022-06-28T18:44:57.400Z"
   },
   {
    "duration": 77,
    "start_time": "2022-06-28T18:44:57.504Z"
   },
   {
    "duration": 3,
    "start_time": "2022-06-28T18:44:57.582Z"
   },
   {
    "duration": 5,
    "start_time": "2022-06-28T18:44:57.588Z"
   },
   {
    "duration": 394,
    "start_time": "2022-06-28T18:44:57.595Z"
   },
   {
    "duration": 96,
    "start_time": "2022-06-28T18:44:57.991Z"
   },
   {
    "duration": 39,
    "start_time": "2022-06-28T18:44:58.089Z"
   },
   {
    "duration": 16,
    "start_time": "2022-06-28T18:44:58.130Z"
   },
   {
    "duration": 8,
    "start_time": "2022-06-28T18:44:58.148Z"
   },
   {
    "duration": 16,
    "start_time": "2022-06-28T18:44:58.158Z"
   },
   {
    "duration": 85,
    "start_time": "2022-06-28T18:44:58.226Z"
   },
   {
    "duration": 1279,
    "start_time": "2022-06-28T18:50:58.828Z"
   },
   {
    "duration": 846,
    "start_time": "2022-06-28T18:51:00.109Z"
   },
   {
    "duration": 27,
    "start_time": "2022-06-28T18:51:00.957Z"
   },
   {
    "duration": 72,
    "start_time": "2022-06-28T18:51:00.986Z"
   },
   {
    "duration": 55,
    "start_time": "2022-06-28T18:51:01.062Z"
   },
   {
    "duration": 212,
    "start_time": "2022-06-28T18:51:01.119Z"
   },
   {
    "duration": 195,
    "start_time": "2022-06-28T18:51:01.333Z"
   },
   {
    "duration": 105,
    "start_time": "2022-06-28T18:51:01.530Z"
   },
   {
    "duration": 4,
    "start_time": "2022-06-28T18:51:01.638Z"
   },
   {
    "duration": 18,
    "start_time": "2022-06-28T18:51:01.644Z"
   },
   {
    "duration": 436,
    "start_time": "2022-06-28T18:51:01.664Z"
   },
   {
    "duration": 99,
    "start_time": "2022-06-28T18:51:02.101Z"
   },
   {
    "duration": 44,
    "start_time": "2022-06-28T18:51:02.202Z"
   },
   {
    "duration": 54,
    "start_time": "2022-06-28T18:51:02.249Z"
   },
   {
    "duration": 7,
    "start_time": "2022-06-28T18:51:02.306Z"
   },
   {
    "duration": 97,
    "start_time": "2022-06-28T18:51:02.315Z"
   },
   {
    "duration": 115,
    "start_time": "2022-06-28T18:51:02.413Z"
   },
   {
    "duration": 4,
    "start_time": "2022-06-28T18:51:02.530Z"
   },
   {
    "duration": 119,
    "start_time": "2022-06-28T18:51:02.535Z"
   },
   {
    "duration": 23,
    "start_time": "2022-06-28T18:51:02.656Z"
   },
   {
    "duration": 140,
    "start_time": "2022-06-28T18:51:02.681Z"
   },
   {
    "duration": 27,
    "start_time": "2022-06-28T18:51:02.823Z"
   },
   {
    "duration": 23586,
    "start_time": "2022-06-28T18:51:02.851Z"
   },
   {
    "duration": 180,
    "start_time": "2022-06-28T18:51:26.438Z"
   },
   {
    "duration": 136,
    "start_time": "2022-06-28T18:51:26.626Z"
   },
   {
    "duration": 3,
    "start_time": "2022-06-28T18:51:26.764Z"
   },
   {
    "duration": 3268,
    "start_time": "2022-06-28T18:51:26.768Z"
   },
   {
    "duration": 590,
    "start_time": "2022-06-28T18:51:30.038Z"
   },
   {
    "duration": 199,
    "start_time": "2022-06-28T18:51:30.630Z"
   },
   {
    "duration": 25,
    "start_time": "2022-06-28T18:51:30.830Z"
   },
   {
    "duration": 3,
    "start_time": "2022-06-28T18:51:30.857Z"
   },
   {
    "duration": 42376,
    "start_time": "2022-06-28T18:51:30.861Z"
   },
   {
    "duration": 33,
    "start_time": "2022-06-28T18:52:13.238Z"
   },
   {
    "duration": 6,
    "start_time": "2022-06-28T19:17:04.090Z"
   },
   {
    "duration": 113,
    "start_time": "2022-06-28T19:17:23.206Z"
   },
   {
    "duration": 11,
    "start_time": "2022-06-28T19:17:28.832Z"
   },
   {
    "duration": 6,
    "start_time": "2022-06-28T19:17:38.623Z"
   },
   {
    "duration": 7,
    "start_time": "2022-06-28T19:45:25.257Z"
   },
   {
    "duration": 12,
    "start_time": "2022-06-28T19:46:55.861Z"
   },
   {
    "duration": 8,
    "start_time": "2022-06-28T19:47:10.033Z"
   },
   {
    "duration": 4,
    "start_time": "2022-06-28T19:47:56.448Z"
   },
   {
    "duration": 12,
    "start_time": "2022-06-28T19:48:00.506Z"
   },
   {
    "duration": 4,
    "start_time": "2022-06-28T19:48:10.044Z"
   },
   {
    "duration": 761,
    "start_time": "2022-06-28T19:48:10.050Z"
   },
   {
    "duration": 25,
    "start_time": "2022-06-28T19:48:10.812Z"
   },
   {
    "duration": 60,
    "start_time": "2022-06-28T19:48:10.840Z"
   },
   {
    "duration": 60,
    "start_time": "2022-06-28T19:48:10.901Z"
   },
   {
    "duration": 103,
    "start_time": "2022-06-28T19:48:10.962Z"
   },
   {
    "duration": 97,
    "start_time": "2022-06-28T19:48:11.067Z"
   },
   {
    "duration": 87,
    "start_time": "2022-06-28T19:48:11.165Z"
   },
   {
    "duration": 3,
    "start_time": "2022-06-28T19:48:11.255Z"
   },
   {
    "duration": 13,
    "start_time": "2022-06-28T19:48:11.260Z"
   },
   {
    "duration": 487,
    "start_time": "2022-06-28T19:48:11.274Z"
   },
   {
    "duration": 100,
    "start_time": "2022-06-28T19:48:11.764Z"
   },
   {
    "duration": 32,
    "start_time": "2022-06-28T19:48:11.866Z"
   },
   {
    "duration": 16,
    "start_time": "2022-06-28T19:48:11.899Z"
   },
   {
    "duration": 18,
    "start_time": "2022-06-28T19:48:11.917Z"
   },
   {
    "duration": 45,
    "start_time": "2022-06-28T19:48:11.937Z"
   },
   {
    "duration": 20,
    "start_time": "2022-06-28T19:48:11.984Z"
   },
   {
    "duration": 97,
    "start_time": "2022-06-28T19:48:12.006Z"
   },
   {
    "duration": 33,
    "start_time": "2022-06-28T19:49:56.495Z"
   },
   {
    "duration": 18,
    "start_time": "2022-06-28T19:51:02.064Z"
   },
   {
    "duration": 28,
    "start_time": "2022-06-28T19:55:07.415Z"
   },
   {
    "duration": 82,
    "start_time": "2022-06-28T19:55:08.169Z"
   },
   {
    "duration": 111,
    "start_time": "2022-06-28T19:55:14.079Z"
   },
   {
    "duration": 4,
    "start_time": "2022-06-28T19:55:14.592Z"
   },
   {
    "duration": 1190,
    "start_time": "2022-06-28T19:55:24.576Z"
   },
   {
    "duration": 804,
    "start_time": "2022-06-28T19:55:25.769Z"
   },
   {
    "duration": 23,
    "start_time": "2022-06-28T19:55:26.575Z"
   },
   {
    "duration": 84,
    "start_time": "2022-06-28T19:55:26.600Z"
   },
   {
    "duration": 70,
    "start_time": "2022-06-28T19:55:26.686Z"
   },
   {
    "duration": 95,
    "start_time": "2022-06-28T19:55:26.758Z"
   },
   {
    "duration": 102,
    "start_time": "2022-06-28T19:55:26.855Z"
   },
   {
    "duration": 78,
    "start_time": "2022-06-28T19:55:26.959Z"
   },
   {
    "duration": 2,
    "start_time": "2022-06-28T19:55:27.039Z"
   },
   {
    "duration": 7,
    "start_time": "2022-06-28T19:55:27.043Z"
   },
   {
    "duration": 432,
    "start_time": "2022-06-28T19:55:27.051Z"
   },
   {
    "duration": 81,
    "start_time": "2022-06-28T19:55:27.484Z"
   },
   {
    "duration": 17,
    "start_time": "2022-06-28T19:55:27.567Z"
   },
   {
    "duration": 42,
    "start_time": "2022-06-28T19:55:27.587Z"
   },
   {
    "duration": 6,
    "start_time": "2022-06-28T19:55:27.631Z"
   },
   {
    "duration": 34,
    "start_time": "2022-06-28T19:55:27.638Z"
   },
   {
    "duration": 58,
    "start_time": "2022-06-28T19:55:27.673Z"
   },
   {
    "duration": 44,
    "start_time": "2022-06-28T19:55:27.733Z"
   },
   {
    "duration": 22,
    "start_time": "2022-06-28T19:55:27.778Z"
   },
   {
    "duration": 101,
    "start_time": "2022-06-28T19:55:27.802Z"
   },
   {
    "duration": 135,
    "start_time": "2022-06-28T19:55:27.905Z"
   },
   {
    "duration": 4,
    "start_time": "2022-06-28T19:55:28.042Z"
   },
   {
    "duration": 120,
    "start_time": "2022-06-28T19:55:28.048Z"
   },
   {
    "duration": 21,
    "start_time": "2022-06-28T19:55:28.169Z"
   },
   {
    "duration": 134,
    "start_time": "2022-06-28T19:55:28.192Z"
   },
   {
    "duration": 22,
    "start_time": "2022-06-28T19:55:28.328Z"
   },
   {
    "duration": 26868,
    "start_time": "2022-06-28T19:55:28.352Z"
   },
   {
    "duration": 187,
    "start_time": "2022-06-28T19:55:55.222Z"
   },
   {
    "duration": 16,
    "start_time": "2022-06-28T19:55:55.411Z"
   },
   {
    "duration": 157,
    "start_time": "2022-06-28T19:55:55.429Z"
   },
   {
    "duration": 3,
    "start_time": "2022-06-28T19:55:55.588Z"
   },
   {
    "duration": 171743,
    "start_time": "2022-06-28T19:55:55.593Z"
   },
   {
    "duration": 604,
    "start_time": "2022-06-28T19:58:47.338Z"
   },
   {
    "duration": 246,
    "start_time": "2022-06-28T19:58:47.944Z"
   },
   {
    "duration": 47,
    "start_time": "2022-06-28T19:58:48.191Z"
   },
   {
    "duration": 3,
    "start_time": "2022-06-28T19:58:48.240Z"
   },
   {
    "duration": 49586,
    "start_time": "2022-06-28T19:58:48.245Z"
   },
   {
    "duration": 94,
    "start_time": "2022-06-28T19:59:37.833Z"
   },
   {
    "duration": 1192,
    "start_time": "2022-06-29T05:29:31.585Z"
   },
   {
    "duration": 801,
    "start_time": "2022-06-29T05:29:32.779Z"
   },
   {
    "duration": 24,
    "start_time": "2022-06-29T05:29:33.582Z"
   },
   {
    "duration": 70,
    "start_time": "2022-06-29T05:29:33.608Z"
   },
   {
    "duration": 67,
    "start_time": "2022-06-29T05:29:33.679Z"
   },
   {
    "duration": 93,
    "start_time": "2022-06-29T05:29:33.747Z"
   },
   {
    "duration": 85,
    "start_time": "2022-06-29T05:29:33.842Z"
   },
   {
    "duration": 58,
    "start_time": "2022-06-29T05:29:33.929Z"
   },
   {
    "duration": 2,
    "start_time": "2022-06-29T05:29:33.989Z"
   },
   {
    "duration": 10,
    "start_time": "2022-06-29T05:29:33.994Z"
   },
   {
    "duration": 404,
    "start_time": "2022-06-29T05:29:34.005Z"
   },
   {
    "duration": 89,
    "start_time": "2022-06-29T05:29:34.410Z"
   },
   {
    "duration": 44,
    "start_time": "2022-06-29T05:29:34.501Z"
   },
   {
    "duration": 16,
    "start_time": "2022-06-29T05:29:34.547Z"
   },
   {
    "duration": 7,
    "start_time": "2022-06-29T05:29:34.565Z"
   },
   {
    "duration": 54,
    "start_time": "2022-06-29T05:29:34.573Z"
   },
   {
    "duration": 18,
    "start_time": "2022-06-29T05:29:34.629Z"
   },
   {
    "duration": 38,
    "start_time": "2022-06-29T05:29:34.649Z"
   },
   {
    "duration": 23,
    "start_time": "2022-06-29T05:29:34.688Z"
   },
   {
    "duration": 78,
    "start_time": "2022-06-29T05:29:34.726Z"
   },
   {
    "duration": 122,
    "start_time": "2022-06-29T05:29:34.806Z"
   },
   {
    "duration": 4,
    "start_time": "2022-06-29T05:29:34.929Z"
   },
   {
    "duration": 113,
    "start_time": "2022-06-29T05:29:34.935Z"
   },
   {
    "duration": 20,
    "start_time": "2022-06-29T05:29:35.050Z"
   },
   {
    "duration": 119,
    "start_time": "2022-06-29T05:29:35.072Z"
   },
   {
    "duration": 33,
    "start_time": "2022-06-29T05:29:35.193Z"
   },
   {
    "duration": 25871,
    "start_time": "2022-06-29T05:29:35.228Z"
   },
   {
    "duration": 196,
    "start_time": "2022-06-29T05:30:01.103Z"
   },
   {
    "duration": 7,
    "start_time": "2022-06-29T05:30:01.302Z"
   },
   {
    "duration": 178,
    "start_time": "2022-06-29T05:30:01.311Z"
   },
   {
    "duration": 4,
    "start_time": "2022-06-29T05:30:01.491Z"
   },
   {
    "duration": 425639,
    "start_time": "2022-06-29T05:30:01.497Z"
   },
   {
    "duration": 591,
    "start_time": "2022-06-29T05:37:07.137Z"
   },
   {
    "duration": 193,
    "start_time": "2022-06-29T05:37:07.730Z"
   },
   {
    "duration": 28,
    "start_time": "2022-06-29T05:37:07.926Z"
   },
   {
    "duration": 4,
    "start_time": "2022-06-29T05:37:07.956Z"
   },
   {
    "duration": 48273,
    "start_time": "2022-06-29T05:37:07.962Z"
   },
   {
    "duration": 91,
    "start_time": "2022-06-29T05:37:56.237Z"
   },
   {
    "duration": 7,
    "start_time": "2022-06-29T05:54:34.615Z"
   },
   {
    "duration": 1221,
    "start_time": "2022-06-29T05:55:15.575Z"
   },
   {
    "duration": 815,
    "start_time": "2022-06-29T05:55:16.798Z"
   },
   {
    "duration": 27,
    "start_time": "2022-06-29T05:55:17.615Z"
   },
   {
    "duration": 60,
    "start_time": "2022-06-29T05:55:17.643Z"
   },
   {
    "duration": 74,
    "start_time": "2022-06-29T05:55:17.705Z"
   },
   {
    "duration": 98,
    "start_time": "2022-06-29T05:55:17.780Z"
   },
   {
    "duration": 87,
    "start_time": "2022-06-29T05:55:17.880Z"
   },
   {
    "duration": 76,
    "start_time": "2022-06-29T05:55:17.969Z"
   },
   {
    "duration": 3,
    "start_time": "2022-06-29T05:55:18.047Z"
   },
   {
    "duration": 9,
    "start_time": "2022-06-29T05:55:18.051Z"
   },
   {
    "duration": 402,
    "start_time": "2022-06-29T05:55:18.062Z"
   },
   {
    "duration": 86,
    "start_time": "2022-06-29T05:55:18.465Z"
   },
   {
    "duration": 64,
    "start_time": "2022-06-29T05:55:18.552Z"
   },
   {
    "duration": 19,
    "start_time": "2022-06-29T05:55:18.620Z"
   },
   {
    "duration": 6,
    "start_time": "2022-06-29T05:55:18.641Z"
   },
   {
    "duration": 37,
    "start_time": "2022-06-29T05:55:18.649Z"
   },
   {
    "duration": 23,
    "start_time": "2022-06-29T05:55:18.687Z"
   },
   {
    "duration": 40,
    "start_time": "2022-06-29T05:55:18.712Z"
   },
   {
    "duration": 24,
    "start_time": "2022-06-29T05:55:18.754Z"
   },
   {
    "duration": 58,
    "start_time": "2022-06-29T05:55:18.779Z"
   },
   {
    "duration": 20,
    "start_time": "2022-06-29T05:55:18.838Z"
   },
   {
    "duration": 93,
    "start_time": "2022-06-29T05:55:18.860Z"
   },
   {
    "duration": 119,
    "start_time": "2022-06-29T05:55:18.956Z"
   },
   {
    "duration": 4,
    "start_time": "2022-06-29T05:55:19.077Z"
   },
   {
    "duration": 115,
    "start_time": "2022-06-29T05:55:19.083Z"
   },
   {
    "duration": 39,
    "start_time": "2022-06-29T05:55:19.200Z"
   },
   {
    "duration": 112,
    "start_time": "2022-06-29T05:55:19.241Z"
   },
   {
    "duration": 21,
    "start_time": "2022-06-29T05:55:19.354Z"
   },
   {
    "duration": 26329,
    "start_time": "2022-06-29T05:55:19.377Z"
   },
   {
    "duration": 184,
    "start_time": "2022-06-29T05:55:45.707Z"
   },
   {
    "duration": 6,
    "start_time": "2022-06-29T05:55:45.892Z"
   },
   {
    "duration": 155,
    "start_time": "2022-06-29T05:55:45.899Z"
   },
   {
    "duration": 3,
    "start_time": "2022-06-29T05:55:46.055Z"
   },
   {
    "duration": 422273,
    "start_time": "2022-06-29T05:55:46.060Z"
   },
   {
    "duration": 532,
    "start_time": "2022-06-29T06:02:48.334Z"
   },
   {
    "duration": 230,
    "start_time": "2022-06-29T06:02:48.868Z"
   },
   {
    "duration": 37,
    "start_time": "2022-06-29T06:02:49.099Z"
   },
   {
    "duration": 4,
    "start_time": "2022-06-29T06:02:49.137Z"
   },
   {
    "duration": 49203,
    "start_time": "2022-06-29T06:02:49.142Z"
   },
   {
    "duration": 181,
    "start_time": "2022-06-29T06:03:38.347Z"
   },
   {
    "duration": 9,
    "start_time": "2022-06-29T06:20:14.328Z"
   },
   {
    "duration": 4,
    "start_time": "2022-06-29T06:20:53.995Z"
   },
   {
    "duration": 822,
    "start_time": "2022-06-29T06:20:54.002Z"
   },
   {
    "duration": 21,
    "start_time": "2022-06-29T06:20:54.826Z"
   },
   {
    "duration": 62,
    "start_time": "2022-06-29T06:20:54.849Z"
   },
   {
    "duration": 44,
    "start_time": "2022-06-29T06:20:54.927Z"
   },
   {
    "duration": 103,
    "start_time": "2022-06-29T06:20:54.972Z"
   },
   {
    "duration": 95,
    "start_time": "2022-06-29T06:20:55.077Z"
   },
   {
    "duration": 65,
    "start_time": "2022-06-29T06:20:55.174Z"
   },
   {
    "duration": 3,
    "start_time": "2022-06-29T06:20:55.241Z"
   },
   {
    "duration": 7,
    "start_time": "2022-06-29T06:20:55.245Z"
   },
   {
    "duration": 410,
    "start_time": "2022-06-29T06:20:55.254Z"
   },
   {
    "duration": 96,
    "start_time": "2022-06-29T06:20:55.666Z"
   },
   {
    "duration": 15,
    "start_time": "2022-06-29T06:20:55.764Z"
   },
   {
    "duration": 14,
    "start_time": "2022-06-29T06:20:55.782Z"
   },
   {
    "duration": 34,
    "start_time": "2022-06-29T06:20:55.798Z"
   },
   {
    "duration": 163,
    "start_time": "2022-06-29T06:20:55.834Z"
   },
   {
    "duration": 0,
    "start_time": "2022-06-29T06:20:55.999Z"
   },
   {
    "duration": 0,
    "start_time": "2022-06-29T06:20:56.000Z"
   },
   {
    "duration": 0,
    "start_time": "2022-06-29T06:20:56.001Z"
   },
   {
    "duration": 0,
    "start_time": "2022-06-29T06:20:56.002Z"
   },
   {
    "duration": 0,
    "start_time": "2022-06-29T06:20:56.003Z"
   },
   {
    "duration": 0,
    "start_time": "2022-06-29T06:20:56.004Z"
   },
   {
    "duration": 0,
    "start_time": "2022-06-29T06:20:56.006Z"
   },
   {
    "duration": 0,
    "start_time": "2022-06-29T06:20:56.006Z"
   },
   {
    "duration": 0,
    "start_time": "2022-06-29T06:20:56.007Z"
   },
   {
    "duration": 0,
    "start_time": "2022-06-29T06:20:56.008Z"
   },
   {
    "duration": 0,
    "start_time": "2022-06-29T06:20:56.027Z"
   },
   {
    "duration": 0,
    "start_time": "2022-06-29T06:20:56.028Z"
   },
   {
    "duration": 0,
    "start_time": "2022-06-29T06:20:56.029Z"
   },
   {
    "duration": 0,
    "start_time": "2022-06-29T06:20:56.030Z"
   },
   {
    "duration": 0,
    "start_time": "2022-06-29T06:20:56.031Z"
   },
   {
    "duration": 0,
    "start_time": "2022-06-29T06:20:56.033Z"
   },
   {
    "duration": 0,
    "start_time": "2022-06-29T06:20:56.034Z"
   },
   {
    "duration": 0,
    "start_time": "2022-06-29T06:20:56.036Z"
   },
   {
    "duration": 0,
    "start_time": "2022-06-29T06:20:56.037Z"
   },
   {
    "duration": 0,
    "start_time": "2022-06-29T06:20:56.037Z"
   },
   {
    "duration": 0,
    "start_time": "2022-06-29T06:20:56.038Z"
   },
   {
    "duration": 1,
    "start_time": "2022-06-29T06:20:56.039Z"
   },
   {
    "duration": 0,
    "start_time": "2022-06-29T06:20:56.041Z"
   },
   {
    "duration": 0,
    "start_time": "2022-06-29T06:20:56.042Z"
   },
   {
    "duration": 0,
    "start_time": "2022-06-29T06:20:56.043Z"
   },
   {
    "duration": 0,
    "start_time": "2022-06-29T06:20:56.043Z"
   },
   {
    "duration": 5,
    "start_time": "2022-06-29T06:21:01.133Z"
   },
   {
    "duration": 888,
    "start_time": "2022-06-29T06:21:01.141Z"
   },
   {
    "duration": 20,
    "start_time": "2022-06-29T06:21:02.031Z"
   },
   {
    "duration": 80,
    "start_time": "2022-06-29T06:21:02.053Z"
   },
   {
    "duration": 67,
    "start_time": "2022-06-29T06:21:02.135Z"
   },
   {
    "duration": 97,
    "start_time": "2022-06-29T06:21:02.203Z"
   },
   {
    "duration": 101,
    "start_time": "2022-06-29T06:21:02.302Z"
   },
   {
    "duration": 61,
    "start_time": "2022-06-29T06:21:02.405Z"
   },
   {
    "duration": 3,
    "start_time": "2022-06-29T06:21:02.468Z"
   },
   {
    "duration": 34,
    "start_time": "2022-06-29T06:21:02.473Z"
   },
   {
    "duration": 404,
    "start_time": "2022-06-29T06:21:02.509Z"
   },
   {
    "duration": 90,
    "start_time": "2022-06-29T06:21:02.914Z"
   },
   {
    "duration": 48,
    "start_time": "2022-06-29T06:21:03.005Z"
   },
   {
    "duration": 28,
    "start_time": "2022-06-29T06:21:03.056Z"
   },
   {
    "duration": 38,
    "start_time": "2022-06-29T06:21:03.086Z"
   },
   {
    "duration": 54,
    "start_time": "2022-06-29T06:21:03.126Z"
   },
   {
    "duration": 59,
    "start_time": "2022-06-29T06:21:03.183Z"
   },
   {
    "duration": 71,
    "start_time": "2022-06-29T06:21:03.244Z"
   },
   {
    "duration": 40,
    "start_time": "2022-06-29T06:21:03.317Z"
   },
   {
    "duration": 78,
    "start_time": "2022-06-29T06:21:03.358Z"
   },
   {
    "duration": 48,
    "start_time": "2022-06-29T06:21:03.438Z"
   },
   {
    "duration": 66,
    "start_time": "2022-06-29T06:21:03.488Z"
   },
   {
    "duration": 62,
    "start_time": "2022-06-29T06:21:03.556Z"
   },
   {
    "duration": 148,
    "start_time": "2022-06-29T06:21:03.619Z"
   },
   {
    "duration": 113,
    "start_time": "2022-06-29T06:21:03.769Z"
   },
   {
    "duration": 4,
    "start_time": "2022-06-29T06:21:03.883Z"
   },
   {
    "duration": 1359,
    "start_time": "2022-06-29T06:22:00.722Z"
   },
   {
    "duration": 821,
    "start_time": "2022-06-29T06:22:02.083Z"
   },
   {
    "duration": 31,
    "start_time": "2022-06-29T06:22:02.906Z"
   },
   {
    "duration": 58,
    "start_time": "2022-06-29T06:22:02.939Z"
   },
   {
    "duration": 64,
    "start_time": "2022-06-29T06:22:02.999Z"
   },
   {
    "duration": 90,
    "start_time": "2022-06-29T06:22:03.065Z"
   },
   {
    "duration": 89,
    "start_time": "2022-06-29T06:22:03.157Z"
   },
   {
    "duration": 64,
    "start_time": "2022-06-29T06:22:03.248Z"
   },
   {
    "duration": 13,
    "start_time": "2022-06-29T06:22:03.314Z"
   },
   {
    "duration": 18,
    "start_time": "2022-06-29T06:22:03.329Z"
   },
   {
    "duration": 388,
    "start_time": "2022-06-29T06:22:03.348Z"
   },
   {
    "duration": 98,
    "start_time": "2022-06-29T06:22:03.738Z"
   },
   {
    "duration": 60,
    "start_time": "2022-06-29T06:22:03.837Z"
   },
   {
    "duration": 17,
    "start_time": "2022-06-29T06:22:03.899Z"
   },
   {
    "duration": 7,
    "start_time": "2022-06-29T06:22:03.917Z"
   },
   {
    "duration": 30,
    "start_time": "2022-06-29T06:22:03.926Z"
   },
   {
    "duration": 27,
    "start_time": "2022-06-29T06:22:03.958Z"
   },
   {
    "duration": 40,
    "start_time": "2022-06-29T06:22:03.987Z"
   },
   {
    "duration": 21,
    "start_time": "2022-06-29T06:22:04.029Z"
   },
   {
    "duration": 34,
    "start_time": "2022-06-29T06:22:04.051Z"
   },
   {
    "duration": 22,
    "start_time": "2022-06-29T06:22:04.087Z"
   },
   {
    "duration": 47,
    "start_time": "2022-06-29T06:22:04.110Z"
   },
   {
    "duration": 23,
    "start_time": "2022-06-29T06:22:04.159Z"
   },
   {
    "duration": 93,
    "start_time": "2022-06-29T06:22:04.184Z"
   },
   {
    "duration": 121,
    "start_time": "2022-06-29T06:22:04.279Z"
   },
   {
    "duration": 3,
    "start_time": "2022-06-29T06:22:04.402Z"
   },
   {
    "duration": 114,
    "start_time": "2022-06-29T06:22:04.407Z"
   },
   {
    "duration": 22,
    "start_time": "2022-06-29T06:22:04.523Z"
   },
   {
    "duration": 123,
    "start_time": "2022-06-29T06:22:04.547Z"
   },
   {
    "duration": 22,
    "start_time": "2022-06-29T06:22:04.672Z"
   },
   {
    "duration": 27492,
    "start_time": "2022-06-29T06:22:04.696Z"
   },
   {
    "duration": 162,
    "start_time": "2022-06-29T06:22:32.190Z"
   },
   {
    "duration": 6,
    "start_time": "2022-06-29T06:22:32.353Z"
   },
   {
    "duration": 174,
    "start_time": "2022-06-29T06:22:32.361Z"
   },
   {
    "duration": 3,
    "start_time": "2022-06-29T06:22:32.537Z"
   },
   {
    "duration": 345788,
    "start_time": "2022-06-29T06:22:32.542Z"
   },
   {
    "duration": 528,
    "start_time": "2022-06-29T06:28:18.333Z"
   },
   {
    "duration": 242,
    "start_time": "2022-06-29T06:28:18.862Z"
   },
   {
    "duration": 38,
    "start_time": "2022-06-29T06:28:19.106Z"
   },
   {
    "duration": 2,
    "start_time": "2022-06-29T06:28:19.146Z"
   },
   {
    "duration": 50795,
    "start_time": "2022-06-29T06:28:19.152Z"
   },
   {
    "duration": 83,
    "start_time": "2022-06-29T06:29:09.948Z"
   },
   {
    "duration": 5,
    "start_time": "2022-06-29T07:33:12.152Z"
   },
   {
    "duration": 788,
    "start_time": "2022-06-29T07:33:12.159Z"
   },
   {
    "duration": 22,
    "start_time": "2022-06-29T07:33:12.949Z"
   },
   {
    "duration": 69,
    "start_time": "2022-06-29T07:33:12.973Z"
   },
   {
    "duration": 43,
    "start_time": "2022-06-29T07:33:13.045Z"
   },
   {
    "duration": 112,
    "start_time": "2022-06-29T07:33:13.090Z"
   },
   {
    "duration": 93,
    "start_time": "2022-06-29T07:33:13.204Z"
   },
   {
    "duration": 80,
    "start_time": "2022-06-29T07:33:13.299Z"
   },
   {
    "duration": 2,
    "start_time": "2022-06-29T07:33:13.381Z"
   },
   {
    "duration": 7,
    "start_time": "2022-06-29T07:33:13.385Z"
   },
   {
    "duration": 395,
    "start_time": "2022-06-29T07:33:13.393Z"
   },
   {
    "duration": 89,
    "start_time": "2022-06-29T07:33:13.790Z"
   },
   {
    "duration": 19,
    "start_time": "2022-06-29T07:33:13.881Z"
   },
   {
    "duration": 28,
    "start_time": "2022-06-29T07:33:13.902Z"
   },
   {
    "duration": 7,
    "start_time": "2022-06-29T07:33:13.931Z"
   },
   {
    "duration": 46,
    "start_time": "2022-06-29T07:33:13.940Z"
   },
   {
    "duration": 40,
    "start_time": "2022-06-29T07:33:13.988Z"
   },
   {
    "duration": 40,
    "start_time": "2022-06-29T07:33:14.030Z"
   },
   {
    "duration": 25,
    "start_time": "2022-06-29T07:33:14.071Z"
   },
   {
    "duration": 47,
    "start_time": "2022-06-29T07:33:14.097Z"
   },
   {
    "duration": 25,
    "start_time": "2022-06-29T07:33:14.146Z"
   },
   {
    "duration": 44,
    "start_time": "2022-06-29T07:33:14.173Z"
   },
   {
    "duration": 44,
    "start_time": "2022-06-29T07:33:18.109Z"
   },
   {
    "duration": 62,
    "start_time": "2022-06-29T07:33:18.796Z"
   },
   {
    "duration": 72,
    "start_time": "2022-06-29T07:33:21.333Z"
   },
   {
    "duration": 112,
    "start_time": "2022-06-29T07:33:37.490Z"
   },
   {
    "duration": 105,
    "start_time": "2022-06-29T07:33:48.590Z"
   },
   {
    "duration": 1238,
    "start_time": "2022-06-29T07:38:46.133Z"
   },
   {
    "duration": 787,
    "start_time": "2022-06-29T07:38:47.373Z"
   },
   {
    "duration": 25,
    "start_time": "2022-06-29T07:38:48.165Z"
   },
   {
    "duration": 76,
    "start_time": "2022-06-29T07:38:48.191Z"
   },
   {
    "duration": 64,
    "start_time": "2022-06-29T07:38:48.268Z"
   },
   {
    "duration": 93,
    "start_time": "2022-06-29T07:38:48.334Z"
   },
   {
    "duration": 77,
    "start_time": "2022-06-29T07:38:48.429Z"
   },
   {
    "duration": 73,
    "start_time": "2022-06-29T07:38:48.508Z"
   },
   {
    "duration": 2,
    "start_time": "2022-06-29T07:38:48.584Z"
   },
   {
    "duration": 13,
    "start_time": "2022-06-29T07:38:48.588Z"
   },
   {
    "duration": 405,
    "start_time": "2022-06-29T07:38:48.602Z"
   },
   {
    "duration": 87,
    "start_time": "2022-06-29T07:38:49.009Z"
   },
   {
    "duration": 38,
    "start_time": "2022-06-29T07:38:49.097Z"
   },
   {
    "duration": 17,
    "start_time": "2022-06-29T07:38:49.137Z"
   },
   {
    "duration": 7,
    "start_time": "2022-06-29T07:38:49.155Z"
   },
   {
    "duration": 34,
    "start_time": "2022-06-29T07:38:49.164Z"
   },
   {
    "duration": 42,
    "start_time": "2022-06-29T07:38:49.200Z"
   },
   {
    "duration": 45,
    "start_time": "2022-06-29T07:38:49.244Z"
   },
   {
    "duration": 42,
    "start_time": "2022-06-29T07:38:49.291Z"
   },
   {
    "duration": 25,
    "start_time": "2022-06-29T07:38:49.334Z"
   },
   {
    "duration": 36,
    "start_time": "2022-06-29T07:38:49.361Z"
   },
   {
    "duration": 31,
    "start_time": "2022-06-29T07:38:49.399Z"
   },
   {
    "duration": 37,
    "start_time": "2022-06-29T07:38:49.432Z"
   },
   {
    "duration": 75,
    "start_time": "2022-06-29T07:38:49.471Z"
   },
   {
    "duration": 65,
    "start_time": "2022-06-29T07:38:49.548Z"
   },
   {
    "duration": 94,
    "start_time": "2022-06-29T07:38:49.615Z"
   },
   {
    "duration": 4,
    "start_time": "2022-06-29T07:38:49.727Z"
   },
   {
    "duration": 106,
    "start_time": "2022-06-29T07:38:49.732Z"
   },
   {
    "duration": 22,
    "start_time": "2022-06-29T07:38:49.840Z"
   },
   {
    "duration": 121,
    "start_time": "2022-06-29T07:38:49.863Z"
   },
   {
    "duration": 19,
    "start_time": "2022-06-29T07:38:49.986Z"
   },
   {
    "duration": 27599,
    "start_time": "2022-06-29T07:38:50.007Z"
   },
   {
    "duration": 193,
    "start_time": "2022-06-29T07:39:17.607Z"
   },
   {
    "duration": 5,
    "start_time": "2022-06-29T07:39:17.802Z"
   },
   {
    "duration": 159,
    "start_time": "2022-06-29T07:39:17.809Z"
   },
   {
    "duration": 3,
    "start_time": "2022-06-29T07:39:17.970Z"
   },
   {
    "duration": 229328,
    "start_time": "2022-06-29T07:39:17.974Z"
   },
   {
    "duration": 0,
    "start_time": "2022-06-29T07:43:07.304Z"
   },
   {
    "duration": 0,
    "start_time": "2022-06-29T07:43:07.306Z"
   },
   {
    "duration": 0,
    "start_time": "2022-06-29T07:43:07.308Z"
   },
   {
    "duration": 0,
    "start_time": "2022-06-29T07:43:07.310Z"
   },
   {
    "duration": 0,
    "start_time": "2022-06-29T07:43:07.311Z"
   },
   {
    "duration": 0,
    "start_time": "2022-06-29T07:43:07.326Z"
   },
   {
    "duration": 1336,
    "start_time": "2022-06-29T07:43:20.216Z"
   },
   {
    "duration": 829,
    "start_time": "2022-06-29T07:43:21.555Z"
   },
   {
    "duration": 26,
    "start_time": "2022-06-29T07:43:22.386Z"
   },
   {
    "duration": 61,
    "start_time": "2022-06-29T07:43:22.427Z"
   },
   {
    "duration": 70,
    "start_time": "2022-06-29T07:43:22.490Z"
   },
   {
    "duration": 94,
    "start_time": "2022-06-29T07:43:22.562Z"
   },
   {
    "duration": 100,
    "start_time": "2022-06-29T07:43:22.659Z"
   },
   {
    "duration": 69,
    "start_time": "2022-06-29T07:43:22.761Z"
   },
   {
    "duration": 3,
    "start_time": "2022-06-29T07:43:22.832Z"
   },
   {
    "duration": 9,
    "start_time": "2022-06-29T07:43:22.838Z"
   },
   {
    "duration": 398,
    "start_time": "2022-06-29T07:43:22.849Z"
   },
   {
    "duration": 81,
    "start_time": "2022-06-29T07:43:23.248Z"
   },
   {
    "duration": 59,
    "start_time": "2022-06-29T07:43:23.331Z"
   },
   {
    "duration": 17,
    "start_time": "2022-06-29T07:43:23.391Z"
   },
   {
    "duration": 7,
    "start_time": "2022-06-29T07:43:23.409Z"
   },
   {
    "duration": 41,
    "start_time": "2022-06-29T07:43:23.418Z"
   },
   {
    "duration": 24,
    "start_time": "2022-06-29T07:43:23.461Z"
   },
   {
    "duration": 59,
    "start_time": "2022-06-29T07:43:23.487Z"
   },
   {
    "duration": 32,
    "start_time": "2022-06-29T07:43:23.548Z"
   },
   {
    "duration": 22,
    "start_time": "2022-06-29T07:43:23.582Z"
   },
   {
    "duration": 75,
    "start_time": "2022-06-29T07:43:23.606Z"
   },
   {
    "duration": 43,
    "start_time": "2022-06-29T07:43:23.683Z"
   },
   {
    "duration": 37,
    "start_time": "2022-06-29T07:43:23.729Z"
   },
   {
    "duration": 65,
    "start_time": "2022-06-29T07:43:23.767Z"
   },
   {
    "duration": 59,
    "start_time": "2022-06-29T07:43:23.834Z"
   },
   {
    "duration": 104,
    "start_time": "2022-06-29T07:43:23.895Z"
   },
   {
    "duration": 5,
    "start_time": "2022-06-29T07:43:24.001Z"
   },
   {
    "duration": 77,
    "start_time": "2022-06-29T07:43:24.010Z"
   },
   {
    "duration": 0,
    "start_time": "2022-06-29T07:43:24.089Z"
   },
   {
    "duration": 0,
    "start_time": "2022-06-29T07:43:24.091Z"
   },
   {
    "duration": 0,
    "start_time": "2022-06-29T07:43:24.092Z"
   },
   {
    "duration": 0,
    "start_time": "2022-06-29T07:43:24.093Z"
   },
   {
    "duration": 0,
    "start_time": "2022-06-29T07:43:24.095Z"
   },
   {
    "duration": 0,
    "start_time": "2022-06-29T07:43:24.096Z"
   },
   {
    "duration": 0,
    "start_time": "2022-06-29T07:43:24.097Z"
   },
   {
    "duration": 0,
    "start_time": "2022-06-29T07:43:24.099Z"
   },
   {
    "duration": 0,
    "start_time": "2022-06-29T07:43:24.100Z"
   },
   {
    "duration": 0,
    "start_time": "2022-06-29T07:43:24.101Z"
   },
   {
    "duration": 0,
    "start_time": "2022-06-29T07:43:24.103Z"
   },
   {
    "duration": 0,
    "start_time": "2022-06-29T07:43:24.104Z"
   },
   {
    "duration": 0,
    "start_time": "2022-06-29T07:43:24.105Z"
   },
   {
    "duration": 0,
    "start_time": "2022-06-29T07:43:24.106Z"
   },
   {
    "duration": 1233,
    "start_time": "2022-06-29T07:43:48.764Z"
   },
   {
    "duration": 812,
    "start_time": "2022-06-29T07:43:49.999Z"
   },
   {
    "duration": 29,
    "start_time": "2022-06-29T07:43:50.812Z"
   },
   {
    "duration": 58,
    "start_time": "2022-06-29T07:43:50.842Z"
   },
   {
    "duration": 67,
    "start_time": "2022-06-29T07:43:50.902Z"
   },
   {
    "duration": 103,
    "start_time": "2022-06-29T07:43:50.971Z"
   },
   {
    "duration": 85,
    "start_time": "2022-06-29T07:43:51.076Z"
   },
   {
    "duration": 75,
    "start_time": "2022-06-29T07:43:51.162Z"
   },
   {
    "duration": 3,
    "start_time": "2022-06-29T07:43:51.239Z"
   },
   {
    "duration": 11,
    "start_time": "2022-06-29T07:43:51.243Z"
   },
   {
    "duration": 464,
    "start_time": "2022-06-29T07:43:51.255Z"
   },
   {
    "duration": 79,
    "start_time": "2022-06-29T07:43:51.726Z"
   },
   {
    "duration": 34,
    "start_time": "2022-06-29T07:43:51.807Z"
   },
   {
    "duration": 16,
    "start_time": "2022-06-29T07:43:51.844Z"
   },
   {
    "duration": 7,
    "start_time": "2022-06-29T07:43:51.861Z"
   },
   {
    "duration": 57,
    "start_time": "2022-06-29T07:43:51.869Z"
   },
   {
    "duration": 19,
    "start_time": "2022-06-29T07:43:51.928Z"
   },
   {
    "duration": 46,
    "start_time": "2022-06-29T07:43:51.948Z"
   },
   {
    "duration": 54,
    "start_time": "2022-06-29T07:43:51.996Z"
   },
   {
    "duration": 24,
    "start_time": "2022-06-29T07:43:52.052Z"
   },
   {
    "duration": 53,
    "start_time": "2022-06-29T07:43:52.078Z"
   },
   {
    "duration": 21,
    "start_time": "2022-06-29T07:43:52.132Z"
   },
   {
    "duration": 37,
    "start_time": "2022-06-29T07:43:52.155Z"
   },
   {
    "duration": 80,
    "start_time": "2022-06-29T07:43:52.194Z"
   },
   {
    "duration": 69,
    "start_time": "2022-06-29T07:43:52.275Z"
   },
   {
    "duration": 95,
    "start_time": "2022-06-29T07:43:52.346Z"
   },
   {
    "duration": 4,
    "start_time": "2022-06-29T07:43:52.443Z"
   },
   {
    "duration": 102,
    "start_time": "2022-06-29T07:43:52.448Z"
   },
   {
    "duration": 20,
    "start_time": "2022-06-29T07:43:52.552Z"
   },
   {
    "duration": 117,
    "start_time": "2022-06-29T07:43:52.574Z"
   },
   {
    "duration": 29245,
    "start_time": "2022-06-29T07:43:52.693Z"
   },
   {
    "duration": 187,
    "start_time": "2022-06-29T07:44:21.940Z"
   },
   {
    "duration": 6,
    "start_time": "2022-06-29T07:44:22.129Z"
   },
   {
    "duration": 173,
    "start_time": "2022-06-29T07:44:22.137Z"
   },
   {
    "duration": 4,
    "start_time": "2022-06-29T07:44:22.312Z"
   },
   {
    "duration": 90125,
    "start_time": "2022-06-29T07:44:22.326Z"
   },
   {
    "duration": 0,
    "start_time": "2022-06-29T07:45:52.452Z"
   },
   {
    "duration": 0,
    "start_time": "2022-06-29T07:45:52.454Z"
   },
   {
    "duration": 0,
    "start_time": "2022-06-29T07:45:52.455Z"
   },
   {
    "duration": 0,
    "start_time": "2022-06-29T07:45:52.456Z"
   },
   {
    "duration": 0,
    "start_time": "2022-06-29T07:45:52.457Z"
   },
   {
    "duration": 0,
    "start_time": "2022-06-29T07:45:52.458Z"
   },
   {
    "duration": 1233,
    "start_time": "2022-06-29T07:45:59.666Z"
   },
   {
    "duration": 909,
    "start_time": "2022-06-29T07:46:00.902Z"
   },
   {
    "duration": 37,
    "start_time": "2022-06-29T07:46:01.815Z"
   },
   {
    "duration": 78,
    "start_time": "2022-06-29T07:46:01.855Z"
   },
   {
    "duration": 52,
    "start_time": "2022-06-29T07:46:01.935Z"
   },
   {
    "duration": 113,
    "start_time": "2022-06-29T07:46:01.989Z"
   },
   {
    "duration": 92,
    "start_time": "2022-06-29T07:46:02.103Z"
   },
   {
    "duration": 87,
    "start_time": "2022-06-29T07:46:02.197Z"
   },
   {
    "duration": 4,
    "start_time": "2022-06-29T07:46:02.286Z"
   },
   {
    "duration": 21,
    "start_time": "2022-06-29T07:46:02.292Z"
   },
   {
    "duration": 429,
    "start_time": "2022-06-29T07:46:02.316Z"
   },
   {
    "duration": 88,
    "start_time": "2022-06-29T07:46:02.747Z"
   },
   {
    "duration": 44,
    "start_time": "2022-06-29T07:46:02.838Z"
   },
   {
    "duration": 75,
    "start_time": "2022-06-29T07:46:02.884Z"
   },
   {
    "duration": 10,
    "start_time": "2022-06-29T07:46:02.962Z"
   },
   {
    "duration": 34,
    "start_time": "2022-06-29T07:46:02.974Z"
   },
   {
    "duration": 26,
    "start_time": "2022-06-29T07:46:03.010Z"
   },
   {
    "duration": 5,
    "start_time": "2022-06-29T07:46:03.038Z"
   },
   {
    "duration": 38,
    "start_time": "2022-06-29T07:46:03.044Z"
   },
   {
    "duration": 19,
    "start_time": "2022-06-29T07:46:03.084Z"
   },
   {
    "duration": 52,
    "start_time": "2022-06-29T07:46:03.104Z"
   },
   {
    "duration": 20,
    "start_time": "2022-06-29T07:46:03.158Z"
   },
   {
    "duration": 48,
    "start_time": "2022-06-29T07:46:03.180Z"
   },
   {
    "duration": 19,
    "start_time": "2022-06-29T07:46:03.229Z"
   },
   {
    "duration": 100,
    "start_time": "2022-06-29T07:46:03.249Z"
   },
   {
    "duration": 122,
    "start_time": "2022-06-29T07:46:03.351Z"
   },
   {
    "duration": 4,
    "start_time": "2022-06-29T07:46:03.475Z"
   },
   {
    "duration": 127,
    "start_time": "2022-06-29T07:46:03.480Z"
   },
   {
    "duration": 32,
    "start_time": "2022-06-29T07:46:03.609Z"
   },
   {
    "duration": 118,
    "start_time": "2022-06-29T07:46:03.643Z"
   },
   {
    "duration": 28737,
    "start_time": "2022-06-29T07:46:03.763Z"
   },
   {
    "duration": 171,
    "start_time": "2022-06-29T07:46:32.503Z"
   },
   {
    "duration": 6,
    "start_time": "2022-06-29T07:46:32.675Z"
   },
   {
    "duration": 168,
    "start_time": "2022-06-29T07:46:32.682Z"
   },
   {
    "duration": 3,
    "start_time": "2022-06-29T07:46:32.852Z"
   },
   {
    "duration": 142601,
    "start_time": "2022-06-29T07:46:32.857Z"
   },
   {
    "duration": 11,
    "start_time": "2022-06-29T07:48:55.459Z"
   },
   {
    "duration": 0,
    "start_time": "2022-06-29T07:48:55.472Z"
   },
   {
    "duration": 0,
    "start_time": "2022-06-29T07:48:55.473Z"
   },
   {
    "duration": 0,
    "start_time": "2022-06-29T07:48:55.474Z"
   },
   {
    "duration": 0,
    "start_time": "2022-06-29T07:48:55.475Z"
   },
   {
    "duration": 0,
    "start_time": "2022-06-29T07:48:55.476Z"
   },
   {
    "duration": 9,
    "start_time": "2022-06-29T08:47:23.568Z"
   },
   {
    "duration": 17,
    "start_time": "2022-06-29T08:47:37.928Z"
   },
   {
    "duration": 84,
    "start_time": "2022-06-29T08:59:49.126Z"
   },
   {
    "duration": 80,
    "start_time": "2022-06-29T10:01:36.342Z"
   },
   {
    "duration": 109,
    "start_time": "2022-06-29T10:04:51.074Z"
   },
   {
    "duration": 76,
    "start_time": "2022-06-29T10:06:03.024Z"
   },
   {
    "duration": 149,
    "start_time": "2022-06-29T10:06:26.840Z"
   },
   {
    "duration": 68,
    "start_time": "2022-06-29T10:08:18.327Z"
   },
   {
    "duration": 76,
    "start_time": "2022-06-29T10:09:09.175Z"
   },
   {
    "duration": 6,
    "start_time": "2022-06-29T10:10:48.312Z"
   },
   {
    "duration": 791,
    "start_time": "2022-06-29T10:10:48.322Z"
   },
   {
    "duration": 39,
    "start_time": "2022-06-29T10:10:49.115Z"
   },
   {
    "duration": 68,
    "start_time": "2022-06-29T10:10:49.158Z"
   },
   {
    "duration": 59,
    "start_time": "2022-06-29T10:10:49.228Z"
   },
   {
    "duration": 100,
    "start_time": "2022-06-29T10:10:49.289Z"
   },
   {
    "duration": 110,
    "start_time": "2022-06-29T10:10:49.392Z"
   },
   {
    "duration": 73,
    "start_time": "2022-06-29T10:10:49.505Z"
   },
   {
    "duration": 3,
    "start_time": "2022-06-29T10:10:49.581Z"
   },
   {
    "duration": 13,
    "start_time": "2022-06-29T10:10:49.588Z"
   },
   {
    "duration": 452,
    "start_time": "2022-06-29T10:10:49.603Z"
   },
   {
    "duration": 100,
    "start_time": "2022-06-29T10:10:50.057Z"
   },
   {
    "duration": 23,
    "start_time": "2022-06-29T10:10:50.159Z"
   },
   {
    "duration": 59,
    "start_time": "2022-06-29T10:10:50.184Z"
   },
   {
    "duration": 9,
    "start_time": "2022-06-29T10:10:50.246Z"
   },
   {
    "duration": 35,
    "start_time": "2022-06-29T10:10:50.257Z"
   },
   {
    "duration": 36,
    "start_time": "2022-06-29T10:10:50.294Z"
   },
   {
    "duration": 3,
    "start_time": "2022-06-29T10:10:50.335Z"
   },
   {
    "duration": 51,
    "start_time": "2022-06-29T10:10:50.342Z"
   },
   {
    "duration": 21,
    "start_time": "2022-06-29T10:10:50.395Z"
   },
   {
    "duration": 48,
    "start_time": "2022-06-29T10:10:50.418Z"
   },
   {
    "duration": 37,
    "start_time": "2022-06-29T10:10:50.468Z"
   },
   {
    "duration": 55,
    "start_time": "2022-06-29T10:10:50.507Z"
   },
   {
    "duration": 20,
    "start_time": "2022-06-29T10:10:50.564Z"
   },
   {
    "duration": 122,
    "start_time": "2022-06-29T10:10:50.585Z"
   },
   {
    "duration": 158,
    "start_time": "2022-06-29T10:10:50.710Z"
   },
   {
    "duration": 6,
    "start_time": "2022-06-29T10:10:50.870Z"
   },
   {
    "duration": 135,
    "start_time": "2022-06-29T10:10:50.881Z"
   },
   {
    "duration": 22,
    "start_time": "2022-06-29T10:10:51.018Z"
   },
   {
    "duration": 262,
    "start_time": "2022-06-29T10:10:51.042Z"
   },
   {
    "duration": 76,
    "start_time": "2022-06-29T10:10:51.306Z"
   },
   {
    "duration": 82,
    "start_time": "2022-06-29T10:11:41.511Z"
   },
   {
    "duration": 20,
    "start_time": "2022-06-29T10:12:01.751Z"
   },
   {
    "duration": 17,
    "start_time": "2022-06-29T10:12:58.836Z"
   },
   {
    "duration": 1253,
    "start_time": "2022-06-29T10:13:28.173Z"
   },
   {
    "duration": 262556,
    "start_time": "2022-06-29T10:18:32.889Z"
   },
   {
    "duration": 95,
    "start_time": "2022-06-29T10:36:09.810Z"
   },
   {
    "duration": 88180,
    "start_time": "2022-06-29T10:36:16.106Z"
   },
   {
    "duration": 76889,
    "start_time": "2022-06-29T10:37:46.411Z"
   },
   {
    "duration": 78225,
    "start_time": "2022-06-29T10:40:38.374Z"
   },
   {
    "duration": 88842,
    "start_time": "2022-06-29T10:42:36.079Z"
   },
   {
    "duration": 5,
    "start_time": "2022-06-29T10:44:12.511Z"
   },
   {
    "duration": 134365,
    "start_time": "2022-06-29T10:44:29.257Z"
   },
   {
    "duration": 11,
    "start_time": "2022-06-29T10:56:42.907Z"
   },
   {
    "duration": 127549,
    "start_time": "2022-06-29T10:56:59.623Z"
   },
   {
    "duration": 4,
    "start_time": "2022-06-29T10:59:12.809Z"
   },
   {
    "duration": 12,
    "start_time": "2022-06-29T11:00:16.042Z"
   },
   {
    "duration": 10,
    "start_time": "2022-06-29T11:01:49.554Z"
   },
   {
    "duration": 111,
    "start_time": "2022-06-29T11:02:45.842Z"
   },
   {
    "duration": 6,
    "start_time": "2022-06-29T11:20:20.570Z"
   },
   {
    "duration": 875,
    "start_time": "2022-06-29T11:20:20.578Z"
   },
   {
    "duration": 36,
    "start_time": "2022-06-29T11:20:21.456Z"
   },
   {
    "duration": 127,
    "start_time": "2022-06-29T11:20:21.494Z"
   },
   {
    "duration": 92,
    "start_time": "2022-06-29T11:20:21.626Z"
   },
   {
    "duration": 161,
    "start_time": "2022-06-29T11:20:21.722Z"
   },
   {
    "duration": 185,
    "start_time": "2022-06-29T11:20:21.885Z"
   },
   {
    "duration": 81,
    "start_time": "2022-06-29T11:20:22.073Z"
   },
   {
    "duration": 3,
    "start_time": "2022-06-29T11:20:22.157Z"
   },
   {
    "duration": 10,
    "start_time": "2022-06-29T11:20:22.162Z"
   },
   {
    "duration": 590,
    "start_time": "2022-06-29T11:20:22.174Z"
   },
   {
    "duration": 153,
    "start_time": "2022-06-29T11:20:22.766Z"
   },
   {
    "duration": 23,
    "start_time": "2022-06-29T11:20:22.929Z"
   },
   {
    "duration": 23,
    "start_time": "2022-06-29T11:20:22.957Z"
   },
   {
    "duration": 9,
    "start_time": "2022-06-29T11:20:22.985Z"
   },
   {
    "duration": 73,
    "start_time": "2022-06-29T11:20:22.996Z"
   },
   {
    "duration": 21,
    "start_time": "2022-06-29T11:20:23.071Z"
   },
   {
    "duration": 10,
    "start_time": "2022-06-29T11:20:23.094Z"
   },
   {
    "duration": 83,
    "start_time": "2022-06-29T11:20:23.106Z"
   },
   {
    "duration": 52,
    "start_time": "2022-06-29T11:20:23.192Z"
   },
   {
    "duration": 49,
    "start_time": "2022-06-29T11:20:23.246Z"
   },
   {
    "duration": 38,
    "start_time": "2022-06-29T11:20:23.297Z"
   },
   {
    "duration": 81,
    "start_time": "2022-06-29T11:20:23.338Z"
   },
   {
    "duration": 43,
    "start_time": "2022-06-29T11:20:23.422Z"
   },
   {
    "duration": 117,
    "start_time": "2022-06-29T11:20:23.467Z"
   },
   {
    "duration": 129,
    "start_time": "2022-06-29T11:20:23.587Z"
   },
   {
    "duration": 18,
    "start_time": "2022-06-29T11:20:23.718Z"
   },
   {
    "duration": 163,
    "start_time": "2022-06-29T11:20:23.738Z"
   },
   {
    "duration": 27,
    "start_time": "2022-06-29T11:20:23.903Z"
   },
   {
    "duration": 42,
    "start_time": "2022-06-29T11:20:23.936Z"
   },
   {
    "duration": 165,
    "start_time": "2022-06-29T11:20:23.981Z"
   },
   {
    "duration": 14,
    "start_time": "2022-06-29T11:20:24.153Z"
   },
   {
    "duration": 88653,
    "start_time": "2022-06-29T11:20:24.170Z"
   },
   {
    "duration": 10,
    "start_time": "2022-06-29T11:21:52.827Z"
   },
   {
    "duration": 81,
    "start_time": "2022-06-29T11:21:52.838Z"
   },
   {
    "duration": 5,
    "start_time": "2022-06-29T11:28:40.370Z"
   },
   {
    "duration": 109,
    "start_time": "2022-06-29T11:28:48.646Z"
   },
   {
    "duration": 14,
    "start_time": "2022-06-29T11:28:51.660Z"
   },
   {
    "duration": 209,
    "start_time": "2022-06-29T11:29:00.690Z"
   },
   {
    "duration": 7,
    "start_time": "2022-06-29T11:45:48.817Z"
   },
   {
    "duration": 66,
    "start_time": "2022-06-29T11:47:17.547Z"
   },
   {
    "duration": 154604,
    "start_time": "2022-06-29T11:47:29.279Z"
   },
   {
    "duration": 80252,
    "start_time": "2022-06-29T11:51:36.181Z"
   },
   {
    "duration": 484756,
    "start_time": "2022-06-29T11:53:17.703Z"
   },
   {
    "duration": 4,
    "start_time": "2022-06-29T12:01:22.462Z"
   },
   {
    "duration": 145567,
    "start_time": "2022-06-29T12:01:49.714Z"
   },
   {
    "duration": 1116336,
    "start_time": "2022-06-29T12:04:32.582Z"
   },
   {
    "duration": 70,
    "start_time": "2022-06-29T12:23:56.276Z"
   },
   {
    "duration": 82,
    "start_time": "2022-06-29T12:24:40.571Z"
   },
   {
    "duration": 217359,
    "start_time": "2022-06-29T12:24:47.575Z"
   },
   {
    "duration": 2,
    "start_time": "2022-06-29T12:28:35.395Z"
   },
   {
    "duration": 4,
    "start_time": "2022-06-29T12:36:17.180Z"
   },
   {
    "duration": 4,
    "start_time": "2022-06-29T12:36:21.506Z"
   },
   {
    "duration": 1372,
    "start_time": "2022-06-29T12:40:55.757Z"
   },
   {
    "duration": 914,
    "start_time": "2022-06-29T12:40:57.131Z"
   },
   {
    "duration": 28,
    "start_time": "2022-06-29T12:40:58.047Z"
   },
   {
    "duration": 83,
    "start_time": "2022-06-29T12:40:58.077Z"
   },
   {
    "duration": 54,
    "start_time": "2022-06-29T12:40:58.161Z"
   },
   {
    "duration": 110,
    "start_time": "2022-06-29T12:40:58.226Z"
   },
   {
    "duration": 98,
    "start_time": "2022-06-29T12:40:58.337Z"
   },
   {
    "duration": 61,
    "start_time": "2022-06-29T12:40:58.437Z"
   },
   {
    "duration": 3,
    "start_time": "2022-06-29T12:40:58.500Z"
   },
   {
    "duration": 4,
    "start_time": "2022-06-29T12:40:58.507Z"
   },
   {
    "duration": 499,
    "start_time": "2022-06-29T12:40:58.512Z"
   },
   {
    "duration": 100,
    "start_time": "2022-06-29T12:40:59.013Z"
   },
   {
    "duration": 71,
    "start_time": "2022-06-29T12:40:59.114Z"
   },
   {
    "duration": 18,
    "start_time": "2022-06-29T12:40:59.186Z"
   },
   {
    "duration": 7,
    "start_time": "2022-06-29T12:40:59.206Z"
   },
   {
    "duration": 47,
    "start_time": "2022-06-29T12:40:59.215Z"
   },
   {
    "duration": 28,
    "start_time": "2022-06-29T12:40:59.263Z"
   },
   {
    "duration": 21,
    "start_time": "2022-06-29T12:40:59.293Z"
   },
   {
    "duration": 65,
    "start_time": "2022-06-29T12:40:59.316Z"
   },
   {
    "duration": 30,
    "start_time": "2022-06-29T12:40:59.383Z"
   },
   {
    "duration": 57,
    "start_time": "2022-06-29T12:40:59.415Z"
   },
   {
    "duration": 23,
    "start_time": "2022-06-29T12:40:59.474Z"
   },
   {
    "duration": 66,
    "start_time": "2022-06-29T12:40:59.500Z"
   },
   {
    "duration": 24,
    "start_time": "2022-06-29T12:40:59.568Z"
   },
   {
    "duration": 121,
    "start_time": "2022-06-29T12:40:59.594Z"
   },
   {
    "duration": 136,
    "start_time": "2022-06-29T12:40:59.717Z"
   },
   {
    "duration": 5,
    "start_time": "2022-06-29T12:40:59.855Z"
   },
   {
    "duration": 135,
    "start_time": "2022-06-29T12:40:59.863Z"
   },
   {
    "duration": 12,
    "start_time": "2022-06-29T12:41:00.000Z"
   },
   {
    "duration": 19,
    "start_time": "2022-06-29T12:41:00.031Z"
   },
   {
    "duration": 125,
    "start_time": "2022-06-29T12:41:00.052Z"
   },
   {
    "duration": 14,
    "start_time": "2022-06-29T12:41:00.179Z"
   },
   {
    "duration": 78491,
    "start_time": "2022-06-29T12:41:00.195Z"
   },
   {
    "duration": 5,
    "start_time": "2022-06-29T12:42:18.687Z"
   },
   {
    "duration": 68,
    "start_time": "2022-06-29T12:42:18.694Z"
   },
   {
    "duration": 201,
    "start_time": "2022-06-29T12:42:18.763Z"
   },
   {
    "duration": 3,
    "start_time": "2022-06-29T12:42:18.966Z"
   },
   {
    "duration": 12,
    "start_time": "2022-06-29T12:42:18.970Z"
   },
   {
    "duration": 419877,
    "start_time": "2022-06-29T12:42:18.984Z"
   },
   {
    "duration": 577,
    "start_time": "2022-06-29T12:49:18.863Z"
   },
   {
    "duration": 148,
    "start_time": "2022-06-29T12:49:19.444Z"
   },
   {
    "duration": 0,
    "start_time": "2022-06-29T12:49:19.594Z"
   },
   {
    "duration": 0,
    "start_time": "2022-06-29T12:49:19.595Z"
   },
   {
    "duration": 0,
    "start_time": "2022-06-29T12:49:19.596Z"
   },
   {
    "duration": 0,
    "start_time": "2022-06-29T12:49:19.597Z"
   },
   {
    "duration": 209,
    "start_time": "2022-06-29T13:02:30.646Z"
   },
   {
    "duration": 31,
    "start_time": "2022-06-29T13:02:32.790Z"
   },
   {
    "duration": 4,
    "start_time": "2022-06-29T13:02:35.656Z"
   },
   {
    "duration": 80,
    "start_time": "2022-06-29T13:02:46.487Z"
   },
   {
    "duration": 3,
    "start_time": "2022-06-29T13:03:16.047Z"
   },
   {
    "duration": 143860,
    "start_time": "2022-06-29T13:03:17.142Z"
   },
   {
    "duration": 45,
    "start_time": "2022-06-29T13:08:34.542Z"
   },
   {
    "duration": 5,
    "start_time": "2022-06-29T13:17:31.486Z"
   },
   {
    "duration": 114,
    "start_time": "2022-06-29T13:35:47.753Z"
   },
   {
    "duration": 73,
    "start_time": "2022-06-29T13:40:08.343Z"
   },
   {
    "duration": 99,
    "start_time": "2022-06-29T13:40:45.976Z"
   }
  ],
  "kernelspec": {
   "display_name": "Python 3 (ipykernel)",
   "language": "python",
   "name": "python3"
  },
  "language_info": {
   "codemirror_mode": {
    "name": "ipython",
    "version": 3
   },
   "file_extension": ".py",
   "mimetype": "text/x-python",
   "name": "python",
   "nbconvert_exporter": "python",
   "pygments_lexer": "ipython3",
   "version": "3.9.7"
  },
  "toc": {
   "base_numbering": 1,
   "nav_menu": {},
   "number_sections": true,
   "sideBar": true,
   "skip_h1_title": true,
   "title_cell": "Table of Contents",
   "title_sidebar": "Contents",
   "toc_cell": false,
   "toc_position": {},
   "toc_section_display": true,
   "toc_window_display": false
  }
 },
 "nbformat": 4,
 "nbformat_minor": 2
}
