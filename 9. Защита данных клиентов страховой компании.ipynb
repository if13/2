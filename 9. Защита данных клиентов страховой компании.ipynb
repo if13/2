{
 "cells": [
  {
   "cell_type": "markdown",
   "metadata": {
    "toc": true
   },
   "source": [
    "<h1>Содержание<span class=\"tocSkip\"></span></h1>\n",
    "<div class=\"toc\"><ul class=\"toc-item\"><li><span><a href=\"#Загрузка-данных\" data-toc-modified-id=\"Загрузка-данных-1\"><span class=\"toc-item-num\">1&nbsp;&nbsp;</span>Загрузка данных</a></span></li><li><span><a href=\"#Умножение-матриц\" data-toc-modified-id=\"Умножение-матриц-2\"><span class=\"toc-item-num\">2&nbsp;&nbsp;</span>Умножение матриц</a></span></li><li><span><a href=\"#Алгоритм-преобразования\" data-toc-modified-id=\"Алгоритм-преобразования-3\"><span class=\"toc-item-num\">3&nbsp;&nbsp;</span>Алгоритм преобразования</a></span></li><li><span><a href=\"#Проверка-алгоритма\" data-toc-modified-id=\"Проверка-алгоритма-4\"><span class=\"toc-item-num\">4&nbsp;&nbsp;</span>Проверка алгоритма</a></span></li><li><span><a href=\"#Чек-лист-проверки\" data-toc-modified-id=\"Чек-лист-проверки-5\"><span class=\"toc-item-num\">5&nbsp;&nbsp;</span>Чек-лист проверки</a></span></li></ul></div>"
   ]
  },
  {
   "cell_type": "markdown",
   "metadata": {},
   "source": [
    "# Защита персональных данных клиентов"
   ]
  },
  {
   "cell_type": "markdown",
   "metadata": {},
   "source": [
    "Вам нужно защитить данные клиентов страховой компании «Хоть потоп». Разработайте такой метод преобразования данных, чтобы по ним было сложно восстановить персональную информацию. Обоснуйте корректность его работы.\n",
    "\n",
    "Нужно защитить данные, чтобы при преобразовании качество моделей машинного обучения не ухудшилось. Подбирать наилучшую модель не требуется."
   ]
  },
  {
   "cell_type": "markdown",
   "metadata": {},
   "source": [
    "## Загрузка данных"
   ]
  },
  {
   "cell_type": "code",
   "execution_count": 1,
   "metadata": {},
   "outputs": [],
   "source": [
    "import numpy as np\n",
    "import pandas as pd\n",
    "from sklearn.linear_model import LinearRegression\n",
    "from sklearn.metrics import r2_score"
   ]
  },
  {
   "cell_type": "code",
   "execution_count": 2,
   "metadata": {},
   "outputs": [],
   "source": [
    "try:\n",
    "    df = pd.read_csv('/datasets/insurance.csv')\n",
    "except:\n",
    "    print('что-то пошло не так')"
   ]
  },
  {
   "cell_type": "code",
   "execution_count": 3,
   "metadata": {},
   "outputs": [
    {
     "data": {
      "text/html": [
       "<div>\n",
       "<style scoped>\n",
       "    .dataframe tbody tr th:only-of-type {\n",
       "        vertical-align: middle;\n",
       "    }\n",
       "\n",
       "    .dataframe tbody tr th {\n",
       "        vertical-align: top;\n",
       "    }\n",
       "\n",
       "    .dataframe thead th {\n",
       "        text-align: right;\n",
       "    }\n",
       "</style>\n",
       "<table border=\"1\" class=\"dataframe\">\n",
       "  <thead>\n",
       "    <tr style=\"text-align: right;\">\n",
       "      <th></th>\n",
       "      <th>Пол</th>\n",
       "      <th>Возраст</th>\n",
       "      <th>Зарплата</th>\n",
       "      <th>Члены семьи</th>\n",
       "      <th>Страховые выплаты</th>\n",
       "    </tr>\n",
       "  </thead>\n",
       "  <tbody>\n",
       "    <tr>\n",
       "      <th>1345</th>\n",
       "      <td>0</td>\n",
       "      <td>39.0</td>\n",
       "      <td>37400.0</td>\n",
       "      <td>0</td>\n",
       "      <td>0</td>\n",
       "    </tr>\n",
       "    <tr>\n",
       "      <th>1905</th>\n",
       "      <td>1</td>\n",
       "      <td>26.0</td>\n",
       "      <td>38000.0</td>\n",
       "      <td>2</td>\n",
       "      <td>0</td>\n",
       "    </tr>\n",
       "    <tr>\n",
       "      <th>3767</th>\n",
       "      <td>1</td>\n",
       "      <td>19.0</td>\n",
       "      <td>18700.0</td>\n",
       "      <td>2</td>\n",
       "      <td>0</td>\n",
       "    </tr>\n",
       "  </tbody>\n",
       "</table>\n",
       "</div>"
      ],
      "text/plain": [
       "      Пол  Возраст  Зарплата  Члены семьи  Страховые выплаты\n",
       "1345    0     39.0   37400.0            0                  0\n",
       "1905    1     26.0   38000.0            2                  0\n",
       "3767    1     19.0   18700.0            2                  0"
      ]
     },
     "execution_count": 3,
     "metadata": {},
     "output_type": "execute_result"
    }
   ],
   "source": [
    "df.sample(3)"
   ]
  },
  {
   "cell_type": "code",
   "execution_count": 4,
   "metadata": {},
   "outputs": [
    {
     "data": {
      "text/html": [
       "<div>\n",
       "<style scoped>\n",
       "    .dataframe tbody tr th:only-of-type {\n",
       "        vertical-align: middle;\n",
       "    }\n",
       "\n",
       "    .dataframe tbody tr th {\n",
       "        vertical-align: top;\n",
       "    }\n",
       "\n",
       "    .dataframe thead th {\n",
       "        text-align: right;\n",
       "    }\n",
       "</style>\n",
       "<table border=\"1\" class=\"dataframe\">\n",
       "  <thead>\n",
       "    <tr style=\"text-align: right;\">\n",
       "      <th></th>\n",
       "      <th>Пол</th>\n",
       "      <th>Возраст</th>\n",
       "      <th>Зарплата</th>\n",
       "      <th>Члены семьи</th>\n",
       "      <th>Страховые выплаты</th>\n",
       "    </tr>\n",
       "  </thead>\n",
       "  <tbody>\n",
       "    <tr>\n",
       "      <th>count</th>\n",
       "      <td>5000.000000</td>\n",
       "      <td>5000.000000</td>\n",
       "      <td>5000.000000</td>\n",
       "      <td>5000.000000</td>\n",
       "      <td>5000.000000</td>\n",
       "    </tr>\n",
       "    <tr>\n",
       "      <th>mean</th>\n",
       "      <td>0.499000</td>\n",
       "      <td>30.952800</td>\n",
       "      <td>39916.360000</td>\n",
       "      <td>1.194200</td>\n",
       "      <td>0.148000</td>\n",
       "    </tr>\n",
       "    <tr>\n",
       "      <th>std</th>\n",
       "      <td>0.500049</td>\n",
       "      <td>8.440807</td>\n",
       "      <td>9900.083569</td>\n",
       "      <td>1.091387</td>\n",
       "      <td>0.463183</td>\n",
       "    </tr>\n",
       "    <tr>\n",
       "      <th>min</th>\n",
       "      <td>0.000000</td>\n",
       "      <td>18.000000</td>\n",
       "      <td>5300.000000</td>\n",
       "      <td>0.000000</td>\n",
       "      <td>0.000000</td>\n",
       "    </tr>\n",
       "    <tr>\n",
       "      <th>25%</th>\n",
       "      <td>0.000000</td>\n",
       "      <td>24.000000</td>\n",
       "      <td>33300.000000</td>\n",
       "      <td>0.000000</td>\n",
       "      <td>0.000000</td>\n",
       "    </tr>\n",
       "    <tr>\n",
       "      <th>50%</th>\n",
       "      <td>0.000000</td>\n",
       "      <td>30.000000</td>\n",
       "      <td>40200.000000</td>\n",
       "      <td>1.000000</td>\n",
       "      <td>0.000000</td>\n",
       "    </tr>\n",
       "    <tr>\n",
       "      <th>75%</th>\n",
       "      <td>1.000000</td>\n",
       "      <td>37.000000</td>\n",
       "      <td>46600.000000</td>\n",
       "      <td>2.000000</td>\n",
       "      <td>0.000000</td>\n",
       "    </tr>\n",
       "    <tr>\n",
       "      <th>max</th>\n",
       "      <td>1.000000</td>\n",
       "      <td>65.000000</td>\n",
       "      <td>79000.000000</td>\n",
       "      <td>6.000000</td>\n",
       "      <td>5.000000</td>\n",
       "    </tr>\n",
       "  </tbody>\n",
       "</table>\n",
       "</div>"
      ],
      "text/plain": [
       "               Пол      Возраст      Зарплата  Члены семьи  Страховые выплаты\n",
       "count  5000.000000  5000.000000   5000.000000  5000.000000        5000.000000\n",
       "mean      0.499000    30.952800  39916.360000     1.194200           0.148000\n",
       "std       0.500049     8.440807   9900.083569     1.091387           0.463183\n",
       "min       0.000000    18.000000   5300.000000     0.000000           0.000000\n",
       "25%       0.000000    24.000000  33300.000000     0.000000           0.000000\n",
       "50%       0.000000    30.000000  40200.000000     1.000000           0.000000\n",
       "75%       1.000000    37.000000  46600.000000     2.000000           0.000000\n",
       "max       1.000000    65.000000  79000.000000     6.000000           5.000000"
      ]
     },
     "execution_count": 4,
     "metadata": {},
     "output_type": "execute_result"
    }
   ],
   "source": [
    "df.describe()"
   ]
  },
  {
   "cell_type": "code",
   "execution_count": 5,
   "metadata": {},
   "outputs": [
    {
     "name": "stdout",
     "output_type": "stream",
     "text": [
      "<class 'pandas.core.frame.DataFrame'>\n",
      "RangeIndex: 5000 entries, 0 to 4999\n",
      "Data columns (total 5 columns):\n",
      " #   Column             Non-Null Count  Dtype  \n",
      "---  ------             --------------  -----  \n",
      " 0   Пол                5000 non-null   int64  \n",
      " 1   Возраст            5000 non-null   float64\n",
      " 2   Зарплата           5000 non-null   float64\n",
      " 3   Члены семьи        5000 non-null   int64  \n",
      " 4   Страховые выплаты  5000 non-null   int64  \n",
      "dtypes: float64(2), int64(3)\n",
      "memory usage: 195.4 KB\n"
     ]
    }
   ],
   "source": [
    "df.info()"
   ]
  },
  {
   "cell_type": "markdown",
   "metadata": {},
   "source": [
    "Типы данных признаков корректны. Явных аномалий не видно. Так как целью задачи не является построить модель с хорошей предсказательной способность, на этом знакомство с данными можно завершить."
   ]
  },
  {
   "cell_type": "markdown",
   "metadata": {},
   "source": [
    "## Умножение матриц"
   ]
  },
  {
   "cell_type": "markdown",
   "metadata": {},
   "source": [
    "В этом задании вы можете записывать формулы в *Jupyter Notebook.*\n",
    "\n",
    "Чтобы записать формулу внутри текста, окружите её символами доллара \\\\$; если снаружи —  двойными символами \\\\$\\\\$. Эти формулы записываются на языке вёрстки *LaTeX.* \n",
    "\n",
    "Для примера мы записали формулы линейной регрессии. Можете их скопировать и отредактировать, чтобы решить задачу.\n",
    "\n",
    "Работать в *LaTeX* необязательно."
   ]
  },
  {
   "cell_type": "markdown",
   "metadata": {},
   "source": [
    "Обозначения:\n",
    "\n",
    "- $X$ — матрица признаков (нулевой столбец состоит из единиц)\n",
    "\n",
    "- $y$ — вектор целевого признака\n",
    "\n",
    "- $P$ — матрица, на которую умножаются признаки\n",
    "\n",
    "- $w$ — вектор весов линейной регрессии (нулевой элемент равен сдвигу)"
   ]
  },
  {
   "cell_type": "markdown",
   "metadata": {},
   "source": [
    "Предсказания:\n",
    "\n",
    "$$\n",
    "a = Xw\n",
    "$$\n",
    "\n",
    "Задача обучения:\n",
    "\n",
    "$$\n",
    "w = \\arg\\min_w MSE(Xw, y)\n",
    "$$\n",
    "\n",
    "Формула обучения:\n",
    "\n",
    "$$\n",
    "w = (X^T X)^{-1} X^T y\n",
    "$$"
   ]
  },
  {
   "cell_type": "markdown",
   "metadata": {},
   "source": [
    "---"
   ]
  },
  {
   "cell_type": "markdown",
   "metadata": {},
   "source": [
    "Цель задачи: выяснить, как изменятся предсказания $a$ и вектор весов $w$ после умножение вектора признаков $X$ на обратимую матрицу $R$ (reversible) Стоить заметить, что матрица $R$ должна иметь корректную размерность, и должна быть исходя из условия обратимости, квадратной."
   ]
  },
  {
   "cell_type": "markdown",
   "metadata": {},
   "source": [
    "$$X_{R} = X*R$$ тогда формула расчета весов измениться: \n",
    "\n",
    "$$ w_R = ((X R)^T (X R))^{-1} (X R)^T y $$\n",
    "\n",
    "Далее будем использовать свойства преобразований, про которые к слову сказать ничего не было сказано в обучающей части (при раскрытии скобок в произведении обратимости и транспонировании множители меняются местами!).\n",
    "Следует сделать важное замечание. Изначально хотелось раскрывать скобки $(...X...)^{-1}$, но это будет ошибкой, так как матрица признаков у нас, да и как правило, всегда, не квадратная.  \n",
    "\n",
    "Таким образом, выражение в скобках $(X^{T}X)^{-1}$, где матрица \"заквадрачивается\", нельзя подвергать преобразованиям. В свою очередь, с матрицей $R$, подобные преобразования допустимы, т.к. по условию она обратима.\n",
    "\n",
    "\n",
    "$$ w_R = ((XR)^T X R)^{-1} * (X R)^T * y = ((XR)^T X R)^{-1} (XR)^T y = $$\n",
    "\n",
    "$$ = (R^T X^T X R)^{-1} R^T X^T * y $$\n",
    "\n",
    "Воспользуемся свойством $A^{-1} B^{-1} = (B A)^{-1} $ и перенесем правую $R^T$ внутрь скобки обратимости:\n",
    "\n",
    "$$ = ((R^T)^{-1} R^T X^T X R)^{-1}  X^T * y $$\n",
    "\n",
    "$(R^T)^{-1} R^T$ \"сокращаются\", давая едbничный вектор в операции умножения\n",
    "\n",
    "$$ = (X^T X R)^{-1}  X^T * y $$\n",
    "\n",
    "Используем вышеупомянутое правило, но в другом направлении $(B A)^{-1} = A^{-1} B^{-1}$, вынесем за скобки $R$: \n",
    "\n",
    "$$ = R^{-1} (X^T X)^{-1}  X^T * y $$\n",
    "\n",
    "\n",
    "То есть получаем:\n",
    "\n",
    "$$ w_R = R^{-1}*(X^{T}X)^{-1}  X^T  y $$\n",
    "\n",
    "Учитывая что $ (X^T X)^{-1} X^T y = w$ \n",
    "\n",
    "$$ w_R = R^{-1}w  $$\n",
    "\n",
    "то есть \"закодированные\" матрицы можно \"декодировать\" путем умножения на матрицу R:\n",
    "$$ w_R = R^{-1}w  $$\n",
    "$$ w = R * w_R  $$\n",
    "\n",
    "\n",
    "тогда формула предсказаний $ a_R = X_R * w_R$  c учетом $ w_R = R^{-1}w $ примет вид:\n",
    "$$ a_R = X_R * w_R = (X*R) * (R^{-1}w)$$ \n",
    "\n",
    "учитывая свойство ассоциативности произведения матриц:\n",
    "\n",
    "$$ a_R = X (R  R^{-1})  w  = X E w = Xw = a $$\n",
    "\n",
    "--\n",
    "Т.к. $(R^T)^{-1} * R^T = E$ (единичная матрица не влияющая не результат произведения), перепишем результат:\n",
    "\n",
    "$$ R^{-1} * X^{-1}(X^T)^{-1} * X^T * y $$\n",
    "\n"
   ]
  },
  {
   "cell_type": "markdown",
   "metadata": {},
   "source": [
    "Таким образом доказано, что вектор предсказаний модели линейной регрессии при умножении признаков на обратимую матрицу не изменяется. Соотвественно не будут и изменяться метрики качества предсказаний.  \n",
    "\n",
    "Декодировать закодированную матрицу признаков легко, достаточно умножить ее слева на обратную к обратимой матрице."
   ]
  },
  {
   "cell_type": "markdown",
   "metadata": {},
   "source": [
    "## Алгоритм преобразования"
   ]
  },
  {
   "cell_type": "markdown",
   "metadata": {},
   "source": [
    "**Алгоритм**\n",
    "\n",
    "    1. Сгенерировать обратимую матрицу, которая поддерживает умножение X справа (соотв-щая размерность).\n",
    "    2. Умножить на признаки.\n",
    "    3. Находим метрики моделей на преобразованных и исходных данных.\n",
    "    4. Сравниваем метрики. В случае равенства метрик считаем задачу решенной.\n"
   ]
  },
  {
   "cell_type": "markdown",
   "metadata": {},
   "source": [
    "## Проверка алгоритма"
   ]
  },
  {
   "cell_type": "markdown",
   "metadata": {},
   "source": [
    "Выделяем фичи и целевой признак:"
   ]
  },
  {
   "cell_type": "code",
   "execution_count": 6,
   "metadata": {},
   "outputs": [],
   "source": [
    "X = df.drop('Страховые выплаты', axis=1)\n",
    "y = df['Страховые выплаты']"
   ]
  },
  {
   "cell_type": "code",
   "execution_count": 7,
   "metadata": {},
   "outputs": [],
   "source": [
    "def encode(X):\n",
    "    R = np.random.rand(X.shape[1], X.shape[1])\n",
    "    try:\n",
    "        decode = np.linalg.inv(R)\n",
    "        return X@R, decode\n",
    "    except:\n",
    "        print('сгенерирована необратимая матрица')\n",
    "    "
   ]
  },
  {
   "cell_type": "code",
   "execution_count": 9,
   "metadata": {},
   "outputs": [],
   "source": [
    "def decode(X_encode_, decode_):\n",
    "    return X_encode_@decode_"
   ]
  },
  {
   "cell_type": "code",
   "execution_count": 10,
   "metadata": {},
   "outputs": [],
   "source": [
    "def get_score(X, y):\n",
    "    reg = LinearRegression()\n",
    "    reg.fit(X, y)\n",
    "    y_pred = reg.predict(X)\n",
    "    return r2_score(y, y_pred)    "
   ]
  },
  {
   "cell_type": "code",
   "execution_count": 11,
   "metadata": {},
   "outputs": [
    {
     "data": {
      "text/plain": [
       "0.4249455028666801"
      ]
     },
     "execution_count": 11,
     "metadata": {},
     "output_type": "execute_result"
    }
   ],
   "source": [
    "get_score(X, y)"
   ]
  },
  {
   "cell_type": "code",
   "execution_count": 12,
   "metadata": {},
   "outputs": [
    {
     "data": {
      "text/plain": [
       "0.42494550286663757"
      ]
     },
     "execution_count": 12,
     "metadata": {},
     "output_type": "execute_result"
    }
   ],
   "source": [
    "get_score(encode(X)[0], y)"
   ]
  },
  {
   "cell_type": "markdown",
   "metadata": {},
   "source": [
    "Вывод: результаты r2-score можно считать идентичными (с учетом несущественной погрешности), следовательно, алгоритм указан верно."
   ]
  },
  {
   "cell_type": "markdown",
   "metadata": {},
   "source": [
    "Теперь \"закодируем-раскодируем\" признаки:"
   ]
  },
  {
   "cell_type": "code",
   "execution_count": 56,
   "metadata": {},
   "outputs": [],
   "source": [
    "(X_encode, decode) = encode(X)"
   ]
  },
  {
   "cell_type": "code",
   "execution_count": 57,
   "metadata": {},
   "outputs": [
    {
     "data": {
      "text/html": [
       "<div>\n",
       "<style scoped>\n",
       "    .dataframe tbody tr th:only-of-type {\n",
       "        vertical-align: middle;\n",
       "    }\n",
       "\n",
       "    .dataframe tbody tr th {\n",
       "        vertical-align: top;\n",
       "    }\n",
       "\n",
       "    .dataframe thead th {\n",
       "        text-align: right;\n",
       "    }\n",
       "</style>\n",
       "<table border=\"1\" class=\"dataframe\">\n",
       "  <thead>\n",
       "    <tr style=\"text-align: right;\">\n",
       "      <th></th>\n",
       "      <th>0</th>\n",
       "      <th>1</th>\n",
       "      <th>2</th>\n",
       "      <th>3</th>\n",
       "    </tr>\n",
       "  </thead>\n",
       "  <tbody>\n",
       "    <tr>\n",
       "      <th>0</th>\n",
       "      <td>1.000000e+00</td>\n",
       "      <td>41.0</td>\n",
       "      <td>49600.0</td>\n",
       "      <td>1.000000e+00</td>\n",
       "    </tr>\n",
       "    <tr>\n",
       "      <th>1</th>\n",
       "      <td>5.972440e-11</td>\n",
       "      <td>46.0</td>\n",
       "      <td>38000.0</td>\n",
       "      <td>1.000000e+00</td>\n",
       "    </tr>\n",
       "    <tr>\n",
       "      <th>2</th>\n",
       "      <td>1.559322e-11</td>\n",
       "      <td>29.0</td>\n",
       "      <td>21000.0</td>\n",
       "      <td>-1.344869e-11</td>\n",
       "    </tr>\n",
       "    <tr>\n",
       "      <th>3</th>\n",
       "      <td>5.780795e-13</td>\n",
       "      <td>21.0</td>\n",
       "      <td>41700.0</td>\n",
       "      <td>2.000000e+00</td>\n",
       "    </tr>\n",
       "    <tr>\n",
       "      <th>4</th>\n",
       "      <td>1.000000e+00</td>\n",
       "      <td>28.0</td>\n",
       "      <td>26100.0</td>\n",
       "      <td>9.504885e-12</td>\n",
       "    </tr>\n",
       "    <tr>\n",
       "      <th>...</th>\n",
       "      <td>...</td>\n",
       "      <td>...</td>\n",
       "      <td>...</td>\n",
       "      <td>...</td>\n",
       "    </tr>\n",
       "    <tr>\n",
       "      <th>4995</th>\n",
       "      <td>1.172243e-11</td>\n",
       "      <td>28.0</td>\n",
       "      <td>35700.0</td>\n",
       "      <td>2.000000e+00</td>\n",
       "    </tr>\n",
       "    <tr>\n",
       "      <th>4996</th>\n",
       "      <td>3.828506e-11</td>\n",
       "      <td>34.0</td>\n",
       "      <td>52400.0</td>\n",
       "      <td>1.000000e+00</td>\n",
       "    </tr>\n",
       "    <tr>\n",
       "      <th>4997</th>\n",
       "      <td>-6.993545e-12</td>\n",
       "      <td>20.0</td>\n",
       "      <td>33900.0</td>\n",
       "      <td>2.000000e+00</td>\n",
       "    </tr>\n",
       "    <tr>\n",
       "      <th>4998</th>\n",
       "      <td>1.000000e+00</td>\n",
       "      <td>22.0</td>\n",
       "      <td>32700.0</td>\n",
       "      <td>3.000000e+00</td>\n",
       "    </tr>\n",
       "    <tr>\n",
       "      <th>4999</th>\n",
       "      <td>1.000000e+00</td>\n",
       "      <td>28.0</td>\n",
       "      <td>40600.0</td>\n",
       "      <td>1.000000e+00</td>\n",
       "    </tr>\n",
       "  </tbody>\n",
       "</table>\n",
       "<p>5000 rows × 4 columns</p>\n",
       "</div>"
      ],
      "text/plain": [
       "                 0     1        2             3\n",
       "0     1.000000e+00  41.0  49600.0  1.000000e+00\n",
       "1     5.972440e-11  46.0  38000.0  1.000000e+00\n",
       "2     1.559322e-11  29.0  21000.0 -1.344869e-11\n",
       "3     5.780795e-13  21.0  41700.0  2.000000e+00\n",
       "4     1.000000e+00  28.0  26100.0  9.504885e-12\n",
       "...            ...   ...      ...           ...\n",
       "4995  1.172243e-11  28.0  35700.0  2.000000e+00\n",
       "4996  3.828506e-11  34.0  52400.0  1.000000e+00\n",
       "4997 -6.993545e-12  20.0  33900.0  2.000000e+00\n",
       "4998  1.000000e+00  22.0  32700.0  3.000000e+00\n",
       "4999  1.000000e+00  28.0  40600.0  1.000000e+00\n",
       "\n",
       "[5000 rows x 4 columns]"
      ]
     },
     "execution_count": 57,
     "metadata": {},
     "output_type": "execute_result"
    }
   ],
   "source": [
    "X_encode@decode"
   ]
  },
  {
   "cell_type": "markdown",
   "metadata": {},
   "source": [
    "Матрица без названия колонок и имеет погрешности, но видно, что данные восстановлены."
   ]
  },
  {
   "cell_type": "code",
   "execution_count": 58,
   "metadata": {},
   "outputs": [
    {
     "data": {
      "text/html": [
       "<div>\n",
       "<style scoped>\n",
       "    .dataframe tbody tr th:only-of-type {\n",
       "        vertical-align: middle;\n",
       "    }\n",
       "\n",
       "    .dataframe tbody tr th {\n",
       "        vertical-align: top;\n",
       "    }\n",
       "\n",
       "    .dataframe thead th {\n",
       "        text-align: right;\n",
       "    }\n",
       "</style>\n",
       "<table border=\"1\" class=\"dataframe\">\n",
       "  <thead>\n",
       "    <tr style=\"text-align: right;\">\n",
       "      <th></th>\n",
       "      <th>0</th>\n",
       "      <th>1</th>\n",
       "      <th>2</th>\n",
       "      <th>3</th>\n",
       "    </tr>\n",
       "  </thead>\n",
       "  <tbody>\n",
       "    <tr>\n",
       "      <th>0</th>\n",
       "      <td>46047.265108</td>\n",
       "      <td>13070.518213</td>\n",
       "      <td>42824.436779</td>\n",
       "      <td>19871.247025</td>\n",
       "    </tr>\n",
       "    <tr>\n",
       "      <th>1</th>\n",
       "      <td>35282.249101</td>\n",
       "      <td>10015.069234</td>\n",
       "      <td>32818.481542</td>\n",
       "      <td>15238.497144</td>\n",
       "    </tr>\n",
       "    <tr>\n",
       "      <th>2</th>\n",
       "      <td>19499.053545</td>\n",
       "      <td>5534.756871</td>\n",
       "      <td>18138.451508</td>\n",
       "      <td>8424.407583</td>\n",
       "    </tr>\n",
       "    <tr>\n",
       "      <th>3</th>\n",
       "      <td>38709.171303</td>\n",
       "      <td>10986.958566</td>\n",
       "      <td>35995.158450</td>\n",
       "      <td>16693.756602</td>\n",
       "    </tr>\n",
       "    <tr>\n",
       "      <th>4</th>\n",
       "      <td>24232.421804</td>\n",
       "      <td>6878.756292</td>\n",
       "      <td>22538.726400</td>\n",
       "      <td>10462.435420</td>\n",
       "    </tr>\n",
       "    <tr>\n",
       "      <th>...</th>\n",
       "      <td>...</td>\n",
       "      <td>...</td>\n",
       "      <td>...</td>\n",
       "      <td>...</td>\n",
       "    </tr>\n",
       "    <tr>\n",
       "      <th>4995</th>\n",
       "      <td>33142.458364</td>\n",
       "      <td>9407.589630</td>\n",
       "      <td>30822.877044</td>\n",
       "      <td>14301.899673</td>\n",
       "    </tr>\n",
       "    <tr>\n",
       "      <th>4996</th>\n",
       "      <td>48643.756035</td>\n",
       "      <td>13806.179632</td>\n",
       "      <td>45235.138966</td>\n",
       "      <td>20983.700688</td>\n",
       "    </tr>\n",
       "    <tr>\n",
       "      <th>4997</th>\n",
       "      <td>31469.507316</td>\n",
       "      <td>8932.463949</td>\n",
       "      <td>29264.497061</td>\n",
       "      <td>13574.354293</td>\n",
       "    </tr>\n",
       "    <tr>\n",
       "      <th>4998</th>\n",
       "      <td>30356.692752</td>\n",
       "      <td>8618.197708</td>\n",
       "      <td>28231.807655</td>\n",
       "      <td>13097.366074</td>\n",
       "    </tr>\n",
       "    <tr>\n",
       "      <th>4999</th>\n",
       "      <td>37690.361698</td>\n",
       "      <td>10698.405155</td>\n",
       "      <td>35050.435889</td>\n",
       "      <td>16260.221524</td>\n",
       "    </tr>\n",
       "  </tbody>\n",
       "</table>\n",
       "<p>5000 rows × 4 columns</p>\n",
       "</div>"
      ],
      "text/plain": [
       "                 0             1             2             3\n",
       "0     46047.265108  13070.518213  42824.436779  19871.247025\n",
       "1     35282.249101  10015.069234  32818.481542  15238.497144\n",
       "2     19499.053545   5534.756871  18138.451508   8424.407583\n",
       "3     38709.171303  10986.958566  35995.158450  16693.756602\n",
       "4     24232.421804   6878.756292  22538.726400  10462.435420\n",
       "...            ...           ...           ...           ...\n",
       "4995  33142.458364   9407.589630  30822.877044  14301.899673\n",
       "4996  48643.756035  13806.179632  45235.138966  20983.700688\n",
       "4997  31469.507316   8932.463949  29264.497061  13574.354293\n",
       "4998  30356.692752   8618.197708  28231.807655  13097.366074\n",
       "4999  37690.361698  10698.405155  35050.435889  16260.221524\n",
       "\n",
       "[5000 rows x 4 columns]"
      ]
     },
     "execution_count": 58,
     "metadata": {},
     "output_type": "execute_result"
    }
   ],
   "source": [
    "X_encode"
   ]
  },
  {
   "cell_type": "code",
   "execution_count": 59,
   "metadata": {},
   "outputs": [
    {
     "data": {
      "text/plain": [
       "array([[ 2.77279127,  3.21223333,  0.04629571, -4.5478918 ],\n",
       "       [ 3.40123439,  2.71111136, -1.20954257, -3.23795505],\n",
       "       [-4.98353393, -6.01749552,  2.04663377,  7.34460846],\n",
       "       [ 2.07750842,  3.7434322 , -1.22631363, -3.15974086]])"
      ]
     },
     "execution_count": 59,
     "metadata": {},
     "output_type": "execute_result"
    }
   ],
   "source": [
    "decode"
   ]
  },
  {
   "cell_type": "raw",
   "metadata": {},
   "source": [
    "decode(X_encode, decode) # не смог понять почему при этом функция работает с ошибкой. Просьба подсказать мою ошибку"
   ]
  },
  {
   "cell_type": "code",
   "execution_count": 63,
   "metadata": {},
   "outputs": [],
   "source": [
    "(X_encode_1, decode_1) = encode(X)"
   ]
  },
  {
   "cell_type": "code",
   "execution_count": 64,
   "metadata": {},
   "outputs": [],
   "source": [
    "def decode(X_encode_, decode_):\n",
    "    return X_encode_@decode_"
   ]
  },
  {
   "cell_type": "code",
   "execution_count": 65,
   "metadata": {},
   "outputs": [
    {
     "data": {
      "text/html": [
       "<div>\n",
       "<style scoped>\n",
       "    .dataframe tbody tr th:only-of-type {\n",
       "        vertical-align: middle;\n",
       "    }\n",
       "\n",
       "    .dataframe tbody tr th {\n",
       "        vertical-align: top;\n",
       "    }\n",
       "\n",
       "    .dataframe thead th {\n",
       "        text-align: right;\n",
       "    }\n",
       "</style>\n",
       "<table border=\"1\" class=\"dataframe\">\n",
       "  <thead>\n",
       "    <tr style=\"text-align: right;\">\n",
       "      <th></th>\n",
       "      <th>0</th>\n",
       "      <th>1</th>\n",
       "      <th>2</th>\n",
       "      <th>3</th>\n",
       "    </tr>\n",
       "  </thead>\n",
       "  <tbody>\n",
       "    <tr>\n",
       "      <th>0</th>\n",
       "      <td>1.000000e+00</td>\n",
       "      <td>41.0</td>\n",
       "      <td>49600.0</td>\n",
       "      <td>1.000000e+00</td>\n",
       "    </tr>\n",
       "    <tr>\n",
       "      <th>1</th>\n",
       "      <td>-2.377580e-12</td>\n",
       "      <td>46.0</td>\n",
       "      <td>38000.0</td>\n",
       "      <td>1.000000e+00</td>\n",
       "    </tr>\n",
       "    <tr>\n",
       "      <th>2</th>\n",
       "      <td>-2.169601e-13</td>\n",
       "      <td>29.0</td>\n",
       "      <td>21000.0</td>\n",
       "      <td>1.967806e-12</td>\n",
       "    </tr>\n",
       "    <tr>\n",
       "      <th>3</th>\n",
       "      <td>-1.482111e-12</td>\n",
       "      <td>21.0</td>\n",
       "      <td>41700.0</td>\n",
       "      <td>2.000000e+00</td>\n",
       "    </tr>\n",
       "    <tr>\n",
       "      <th>4</th>\n",
       "      <td>1.000000e+00</td>\n",
       "      <td>28.0</td>\n",
       "      <td>26100.0</td>\n",
       "      <td>-1.039084e-12</td>\n",
       "    </tr>\n",
       "    <tr>\n",
       "      <th>...</th>\n",
       "      <td>...</td>\n",
       "      <td>...</td>\n",
       "      <td>...</td>\n",
       "      <td>...</td>\n",
       "    </tr>\n",
       "    <tr>\n",
       "      <th>4995</th>\n",
       "      <td>-5.548213e-13</td>\n",
       "      <td>28.0</td>\n",
       "      <td>35700.0</td>\n",
       "      <td>2.000000e+00</td>\n",
       "    </tr>\n",
       "    <tr>\n",
       "      <th>4996</th>\n",
       "      <td>-2.347607e-12</td>\n",
       "      <td>34.0</td>\n",
       "      <td>52400.0</td>\n",
       "      <td>1.000000e+00</td>\n",
       "    </tr>\n",
       "    <tr>\n",
       "      <th>4997</th>\n",
       "      <td>-1.791695e-12</td>\n",
       "      <td>20.0</td>\n",
       "      <td>33900.0</td>\n",
       "      <td>2.000000e+00</td>\n",
       "    </tr>\n",
       "    <tr>\n",
       "      <th>4998</th>\n",
       "      <td>1.000000e+00</td>\n",
       "      <td>22.0</td>\n",
       "      <td>32700.0</td>\n",
       "      <td>3.000000e+00</td>\n",
       "    </tr>\n",
       "    <tr>\n",
       "      <th>4999</th>\n",
       "      <td>1.000000e+00</td>\n",
       "      <td>28.0</td>\n",
       "      <td>40600.0</td>\n",
       "      <td>1.000000e+00</td>\n",
       "    </tr>\n",
       "  </tbody>\n",
       "</table>\n",
       "<p>5000 rows × 4 columns</p>\n",
       "</div>"
      ],
      "text/plain": [
       "                 0     1        2             3\n",
       "0     1.000000e+00  41.0  49600.0  1.000000e+00\n",
       "1    -2.377580e-12  46.0  38000.0  1.000000e+00\n",
       "2    -2.169601e-13  29.0  21000.0  1.967806e-12\n",
       "3    -1.482111e-12  21.0  41700.0  2.000000e+00\n",
       "4     1.000000e+00  28.0  26100.0 -1.039084e-12\n",
       "...            ...   ...      ...           ...\n",
       "4995 -5.548213e-13  28.0  35700.0  2.000000e+00\n",
       "4996 -2.347607e-12  34.0  52400.0  1.000000e+00\n",
       "4997 -1.791695e-12  20.0  33900.0  2.000000e+00\n",
       "4998  1.000000e+00  22.0  32700.0  3.000000e+00\n",
       "4999  1.000000e+00  28.0  40600.0  1.000000e+00\n",
       "\n",
       "[5000 rows x 4 columns]"
      ]
     },
     "execution_count": 65,
     "metadata": {},
     "output_type": "execute_result"
    }
   ],
   "source": [
    "decode(X_encode_1, decode_1)"
   ]
  },
  {
   "cell_type": "markdown",
   "metadata": {},
   "source": [
    "<b>Общий вывод:</b>\n",
    "\n",
    "- Было доказано, что умножая матрицу признаков на обратимую матрицу, предсказания линейной регресии не меняются. Это связано с тем, что веса меняются соотвественно.\n",
    "\n",
    "- Показан рабочий алгоритм преобразования признаков с пом. обратимой матрицы\n",
    "\n",
    "- Алгоритм позволяет дешифровать данные в любой момент (если, конечно, известна исходная \"шифровальная\" матрица)\n",
    "\n"
   ]
  },
  {
   "cell_type": "code",
   "execution_count": null,
   "metadata": {},
   "outputs": [],
   "source": []
  }
 ],
 "metadata": {
  "ExecuteTimeLog": [
   {
    "duration": 412,
    "start_time": "2022-06-10T06:49:42.682Z"
   },
   {
    "duration": 71,
    "start_time": "2022-06-10T06:50:34.384Z"
   },
   {
    "duration": 58,
    "start_time": "2022-06-10T06:50:54.877Z"
   },
   {
    "duration": 27,
    "start_time": "2022-06-10T06:51:01.176Z"
   },
   {
    "duration": 24,
    "start_time": "2022-06-10T06:51:01.458Z"
   },
   {
    "duration": 72,
    "start_time": "2022-06-12T07:40:31.932Z"
   },
   {
    "duration": 476,
    "start_time": "2022-06-12T07:40:36.279Z"
   },
   {
    "duration": 88,
    "start_time": "2022-06-12T07:40:36.757Z"
   },
   {
    "duration": 14,
    "start_time": "2022-06-12T07:40:36.847Z"
   },
   {
    "duration": 27,
    "start_time": "2022-06-12T07:40:36.863Z"
   },
   {
    "duration": 11,
    "start_time": "2022-06-12T07:41:29.765Z"
   },
   {
    "duration": 582,
    "start_time": "2022-06-12T14:59:12.935Z"
   },
   {
    "duration": 5,
    "start_time": "2022-06-12T15:23:30.446Z"
   },
   {
    "duration": 7,
    "start_time": "2022-06-12T16:53:51.175Z"
   },
   {
    "duration": 960,
    "start_time": "2022-06-12T16:56:28.433Z"
   },
   {
    "duration": 82,
    "start_time": "2022-06-12T16:56:29.395Z"
   },
   {
    "duration": 13,
    "start_time": "2022-06-12T16:56:29.479Z"
   },
   {
    "duration": 19,
    "start_time": "2022-06-12T16:56:29.493Z"
   },
   {
    "duration": 9,
    "start_time": "2022-06-12T16:56:29.514Z"
   },
   {
    "duration": 3,
    "start_time": "2022-06-12T16:56:29.524Z"
   },
   {
    "duration": 6,
    "start_time": "2022-06-12T16:56:29.528Z"
   },
   {
    "duration": 4,
    "start_time": "2022-06-12T16:57:55.777Z"
   },
   {
    "duration": 250,
    "start_time": "2022-06-12T16:58:19.852Z"
   },
   {
    "duration": 3,
    "start_time": "2022-06-12T16:58:31.106Z"
   },
   {
    "duration": 10,
    "start_time": "2022-06-12T16:58:31.971Z"
   },
   {
    "duration": 8,
    "start_time": "2022-06-12T16:59:32.139Z"
   },
   {
    "duration": 8,
    "start_time": "2022-06-12T16:59:59.121Z"
   },
   {
    "duration": 8,
    "start_time": "2022-06-12T17:00:16.560Z"
   },
   {
    "duration": 3,
    "start_time": "2022-06-12T17:00:26.344Z"
   },
   {
    "duration": 3,
    "start_time": "2022-06-12T17:00:26.650Z"
   },
   {
    "duration": 12,
    "start_time": "2022-06-12T17:00:27.119Z"
   },
   {
    "duration": 407,
    "start_time": "2022-06-12T17:00:27.651Z"
   },
   {
    "duration": 342,
    "start_time": "2022-06-12T17:00:54.799Z"
   },
   {
    "duration": 3,
    "start_time": "2022-06-12T17:04:13.125Z"
   },
   {
    "duration": 10,
    "start_time": "2022-06-12T17:04:15.164Z"
   },
   {
    "duration": 37,
    "start_time": "2022-06-12T17:04:42.164Z"
   },
   {
    "duration": 3,
    "start_time": "2022-06-12T17:04:49.379Z"
   },
   {
    "duration": 5,
    "start_time": "2022-06-12T17:04:50.940Z"
   },
   {
    "duration": 3,
    "start_time": "2022-06-12T17:05:04.970Z"
   },
   {
    "duration": 213,
    "start_time": "2022-06-12T17:05:06.673Z"
   },
   {
    "duration": 20,
    "start_time": "2022-06-12T17:05:14.722Z"
   },
   {
    "duration": 41,
    "start_time": "2022-06-12T17:05:15.250Z"
   },
   {
    "duration": 38,
    "start_time": "2022-06-12T17:05:17.041Z"
   },
   {
    "duration": 2,
    "start_time": "2022-06-12T17:05:35.914Z"
   },
   {
    "duration": 9,
    "start_time": "2022-06-12T17:05:38.841Z"
   },
   {
    "duration": 11,
    "start_time": "2022-06-12T17:05:40.235Z"
   },
   {
    "duration": 3,
    "start_time": "2022-06-12T17:06:45.332Z"
   },
   {
    "duration": 9,
    "start_time": "2022-06-12T17:06:49.038Z"
   },
   {
    "duration": 13,
    "start_time": "2022-06-12T17:07:00.649Z"
   },
   {
    "duration": 12,
    "start_time": "2022-06-12T17:09:05.607Z"
   },
   {
    "duration": 5,
    "start_time": "2022-06-12T17:09:07.650Z"
   },
   {
    "duration": 8,
    "start_time": "2022-06-12T17:09:09.507Z"
   },
   {
    "duration": 3,
    "start_time": "2022-06-12T17:09:13.373Z"
   },
   {
    "duration": 8,
    "start_time": "2022-06-12T17:09:14.646Z"
   },
   {
    "duration": 10,
    "start_time": "2022-06-12T17:09:22.164Z"
   },
   {
    "duration": 8,
    "start_time": "2022-06-12T17:10:17.972Z"
   },
   {
    "duration": 12,
    "start_time": "2022-06-12T17:10:20.806Z"
   },
   {
    "duration": 3,
    "start_time": "2022-06-12T17:10:52.108Z"
   },
   {
    "duration": 7,
    "start_time": "2022-06-12T17:10:55.010Z"
   },
   {
    "duration": 17,
    "start_time": "2022-06-12T17:11:15.111Z"
   },
   {
    "duration": 16,
    "start_time": "2022-06-12T17:11:20.931Z"
   },
   {
    "duration": 12,
    "start_time": "2022-06-12T17:11:30.950Z"
   },
   {
    "duration": 17,
    "start_time": "2022-06-12T17:11:35.011Z"
   },
   {
    "duration": 16,
    "start_time": "2022-06-12T17:13:07.010Z"
   },
   {
    "duration": 4,
    "start_time": "2022-06-12T17:13:34.206Z"
   },
   {
    "duration": 346,
    "start_time": "2022-06-12T17:13:39.233Z"
   },
   {
    "duration": 4,
    "start_time": "2022-06-12T17:16:24.245Z"
   },
   {
    "duration": 17,
    "start_time": "2022-06-12T17:16:26.052Z"
   },
   {
    "duration": 56,
    "start_time": "2022-06-12T17:16:27.526Z"
   },
   {
    "duration": 3,
    "start_time": "2022-06-12T17:16:45.341Z"
   },
   {
    "duration": 3,
    "start_time": "2022-06-12T17:16:45.973Z"
   },
   {
    "duration": 9,
    "start_time": "2022-06-12T17:16:46.350Z"
   },
   {
    "duration": 13,
    "start_time": "2022-06-12T17:16:46.919Z"
   },
   {
    "duration": 2,
    "start_time": "2022-06-12T17:19:15.115Z"
   },
   {
    "duration": 3,
    "start_time": "2022-06-12T17:19:15.537Z"
   },
   {
    "duration": 13,
    "start_time": "2022-06-12T17:19:15.768Z"
   },
   {
    "duration": 12,
    "start_time": "2022-06-12T17:19:16.223Z"
   },
   {
    "duration": 4,
    "start_time": "2022-06-12T17:19:41.227Z"
   },
   {
    "duration": 3,
    "start_time": "2022-06-12T17:24:44.193Z"
   },
   {
    "duration": 12,
    "start_time": "2022-06-12T17:24:51.065Z"
   },
   {
    "duration": 13,
    "start_time": "2022-06-12T17:25:11.675Z"
   },
   {
    "duration": 4,
    "start_time": "2022-06-12T17:25:55.948Z"
   },
   {
    "duration": 3,
    "start_time": "2022-06-12T17:25:56.650Z"
   },
   {
    "duration": 21,
    "start_time": "2022-06-12T17:25:56.946Z"
   },
   {
    "duration": 11,
    "start_time": "2022-06-12T17:25:57.458Z"
   },
   {
    "duration": 32,
    "start_time": "2022-06-12T17:26:08.822Z"
   },
   {
    "duration": 3,
    "start_time": "2022-06-12T17:26:09.041Z"
   },
   {
    "duration": 13,
    "start_time": "2022-06-12T17:26:09.353Z"
   },
   {
    "duration": 3,
    "start_time": "2022-06-12T17:26:20.952Z"
   },
   {
    "duration": 2,
    "start_time": "2022-06-12T17:26:21.691Z"
   },
   {
    "duration": 10,
    "start_time": "2022-06-12T17:26:22.016Z"
   },
   {
    "duration": 6,
    "start_time": "2022-06-12T17:26:22.569Z"
   },
   {
    "duration": 11,
    "start_time": "2022-06-12T17:26:36.880Z"
   },
   {
    "duration": 13,
    "start_time": "2022-06-12T17:26:52.003Z"
   },
   {
    "duration": 5,
    "start_time": "2022-06-12T17:27:03.487Z"
   },
   {
    "duration": 16,
    "start_time": "2022-06-12T17:27:54.121Z"
   },
   {
    "duration": 3,
    "start_time": "2022-06-12T17:29:26.349Z"
   },
   {
    "duration": 3,
    "start_time": "2022-06-12T17:29:26.765Z"
   },
   {
    "duration": 13,
    "start_time": "2022-06-12T17:29:27.164Z"
   },
   {
    "duration": 21,
    "start_time": "2022-06-12T17:29:27.571Z"
   },
   {
    "duration": 16,
    "start_time": "2022-06-12T17:29:31.130Z"
   },
   {
    "duration": 23,
    "start_time": "2022-06-12T17:29:34.003Z"
   },
   {
    "duration": 3,
    "start_time": "2022-06-12T17:29:45.804Z"
   },
   {
    "duration": 3,
    "start_time": "2022-06-12T17:29:46.116Z"
   },
   {
    "duration": 16,
    "start_time": "2022-06-12T17:29:46.363Z"
   },
   {
    "duration": 10,
    "start_time": "2022-06-12T17:29:46.877Z"
   },
   {
    "duration": 10,
    "start_time": "2022-06-12T17:29:52.764Z"
   },
   {
    "duration": 10,
    "start_time": "2022-06-12T17:29:53.827Z"
   },
   {
    "duration": 12,
    "start_time": "2022-06-12T17:29:54.667Z"
   },
   {
    "duration": 10,
    "start_time": "2022-06-12T17:29:55.548Z"
   },
   {
    "duration": 11,
    "start_time": "2022-06-12T17:29:56.332Z"
   },
   {
    "duration": 11,
    "start_time": "2022-06-12T17:29:57.269Z"
   },
   {
    "duration": 10,
    "start_time": "2022-06-12T17:29:58.076Z"
   },
   {
    "duration": 26,
    "start_time": "2022-06-12T17:33:08.787Z"
   },
   {
    "duration": 23,
    "start_time": "2022-06-12T17:33:11.609Z"
   },
   {
    "duration": 3,
    "start_time": "2022-06-12T17:36:38.853Z"
   },
   {
    "duration": 3,
    "start_time": "2022-06-12T17:37:25.117Z"
   },
   {
    "duration": 4,
    "start_time": "2022-06-12T17:38:49.978Z"
   },
   {
    "duration": 3,
    "start_time": "2022-06-12T17:44:00.663Z"
   },
   {
    "duration": 4,
    "start_time": "2022-06-12T17:44:03.732Z"
   },
   {
    "duration": 8,
    "start_time": "2022-06-12T17:44:26.419Z"
   },
   {
    "duration": 4,
    "start_time": "2022-06-12T17:44:46.946Z"
   },
   {
    "duration": 11,
    "start_time": "2022-06-12T17:44:55.171Z"
   },
   {
    "duration": 8,
    "start_time": "2022-06-12T17:45:01.910Z"
   },
   {
    "duration": 4,
    "start_time": "2022-06-12T17:45:33.103Z"
   },
   {
    "duration": 5,
    "start_time": "2022-06-12T17:45:36.182Z"
   },
   {
    "duration": 8,
    "start_time": "2022-06-12T17:45:38.885Z"
   },
   {
    "duration": 7,
    "start_time": "2022-06-12T17:46:40.153Z"
   },
   {
    "duration": 10,
    "start_time": "2022-06-12T17:46:48.217Z"
   },
   {
    "duration": 13,
    "start_time": "2022-06-12T17:47:41.351Z"
   },
   {
    "duration": 8,
    "start_time": "2022-06-12T17:47:57.686Z"
   },
   {
    "duration": 3,
    "start_time": "2022-06-12T17:48:16.134Z"
   },
   {
    "duration": 13,
    "start_time": "2022-06-12T17:48:20.533Z"
   },
   {
    "duration": 2,
    "start_time": "2022-06-12T17:49:10.083Z"
   },
   {
    "duration": 952,
    "start_time": "2022-06-12T17:49:19.207Z"
   },
   {
    "duration": 28,
    "start_time": "2022-06-12T17:49:20.161Z"
   },
   {
    "duration": 15,
    "start_time": "2022-06-12T17:49:20.191Z"
   },
   {
    "duration": 21,
    "start_time": "2022-06-12T17:49:20.208Z"
   },
   {
    "duration": 10,
    "start_time": "2022-06-12T17:49:20.231Z"
   },
   {
    "duration": 7,
    "start_time": "2022-06-12T17:49:20.243Z"
   },
   {
    "duration": 10,
    "start_time": "2022-06-12T17:49:20.252Z"
   },
   {
    "duration": 21,
    "start_time": "2022-06-12T17:49:20.264Z"
   },
   {
    "duration": 6,
    "start_time": "2022-06-12T17:49:20.287Z"
   },
   {
    "duration": 20,
    "start_time": "2022-06-12T17:49:20.296Z"
   },
   {
    "duration": 333,
    "start_time": "2022-06-12T17:49:20.317Z"
   },
   {
    "duration": 0,
    "start_time": "2022-06-12T17:49:20.651Z"
   },
   {
    "duration": 0,
    "start_time": "2022-06-12T17:49:20.652Z"
   },
   {
    "duration": 0,
    "start_time": "2022-06-12T17:49:20.653Z"
   },
   {
    "duration": 15,
    "start_time": "2022-06-12T17:49:44.707Z"
   },
   {
    "duration": 6,
    "start_time": "2022-06-12T17:49:57.546Z"
   },
   {
    "duration": 11,
    "start_time": "2022-06-12T17:49:57.833Z"
   },
   {
    "duration": 8,
    "start_time": "2022-06-12T17:50:03.774Z"
   },
   {
    "duration": 9,
    "start_time": "2022-06-12T18:16:50.955Z"
   },
   {
    "duration": 8,
    "start_time": "2022-06-12T18:19:09.055Z"
   },
   {
    "duration": 12,
    "start_time": "2022-06-12T18:19:17.295Z"
   },
   {
    "duration": 16,
    "start_time": "2022-06-12T18:19:45.110Z"
   },
   {
    "duration": 10,
    "start_time": "2022-06-12T18:21:23.260Z"
   },
   {
    "duration": 2,
    "start_time": "2022-06-12T18:23:10.404Z"
   },
   {
    "duration": 6,
    "start_time": "2022-06-12T18:23:19.242Z"
   },
   {
    "duration": 11,
    "start_time": "2022-06-12T18:23:22.163Z"
   },
   {
    "duration": 14,
    "start_time": "2022-06-12T18:23:22.692Z"
   },
   {
    "duration": 11,
    "start_time": "2022-06-12T18:23:24.054Z"
   },
   {
    "duration": 8,
    "start_time": "2022-06-12T18:23:25.337Z"
   },
   {
    "duration": 3,
    "start_time": "2022-06-12T18:28:19.848Z"
   },
   {
    "duration": 7,
    "start_time": "2022-06-12T18:28:23.607Z"
   },
   {
    "duration": 4,
    "start_time": "2022-06-12T18:28:31.938Z"
   },
   {
    "duration": 9,
    "start_time": "2022-06-12T18:28:32.861Z"
   },
   {
    "duration": 11,
    "start_time": "2022-06-12T18:28:35.587Z"
   },
   {
    "duration": 9,
    "start_time": "2022-06-12T18:28:48.236Z"
   },
   {
    "duration": 3,
    "start_time": "2022-06-12T18:28:58.256Z"
   },
   {
    "duration": 932,
    "start_time": "2022-06-12T18:29:57.076Z"
   },
   {
    "duration": 28,
    "start_time": "2022-06-12T18:29:58.010Z"
   },
   {
    "duration": 14,
    "start_time": "2022-06-12T18:29:58.040Z"
   },
   {
    "duration": 19,
    "start_time": "2022-06-12T18:29:58.056Z"
   },
   {
    "duration": 9,
    "start_time": "2022-06-12T18:29:58.077Z"
   },
   {
    "duration": 3,
    "start_time": "2022-06-12T18:29:58.088Z"
   },
   {
    "duration": 14,
    "start_time": "2022-06-12T18:29:58.093Z"
   },
   {
    "duration": 19,
    "start_time": "2022-06-12T18:29:58.108Z"
   },
   {
    "duration": 10,
    "start_time": "2022-06-12T18:29:58.128Z"
   },
   {
    "duration": 31,
    "start_time": "2022-06-12T18:29:58.140Z"
   },
   {
    "duration": 213,
    "start_time": "2022-06-12T18:29:58.173Z"
   },
   {
    "duration": 190,
    "start_time": "2022-06-12T18:29:58.393Z"
   },
   {
    "duration": 97,
    "start_time": "2022-06-12T18:29:58.584Z"
   },
   {
    "duration": 170,
    "start_time": "2022-06-12T18:29:58.683Z"
   },
   {
    "duration": 5,
    "start_time": "2022-06-12T18:31:30.563Z"
   },
   {
    "duration": 38,
    "start_time": "2022-06-12T18:32:28.095Z"
   },
   {
    "duration": 70,
    "start_time": "2022-06-12T18:43:08.602Z"
   },
   {
    "duration": 1975,
    "start_time": "2022-06-13T05:25:24.345Z"
   },
   {
    "duration": 27,
    "start_time": "2022-06-13T05:25:26.322Z"
   },
   {
    "duration": 15,
    "start_time": "2022-06-13T05:25:26.351Z"
   },
   {
    "duration": 28,
    "start_time": "2022-06-13T05:25:26.373Z"
   },
   {
    "duration": 9,
    "start_time": "2022-06-13T05:25:26.403Z"
   },
   {
    "duration": 5,
    "start_time": "2022-06-13T05:27:44.775Z"
   },
   {
    "duration": 4,
    "start_time": "2022-06-13T05:27:45.475Z"
   },
   {
    "duration": 2,
    "start_time": "2022-06-13T05:27:46.407Z"
   },
   {
    "duration": 2,
    "start_time": "2022-06-13T05:28:38.212Z"
   },
   {
    "duration": 4,
    "start_time": "2022-06-13T05:28:38.900Z"
   },
   {
    "duration": 15,
    "start_time": "2022-06-13T05:28:39.618Z"
   },
   {
    "duration": 12,
    "start_time": "2022-06-13T05:28:39.847Z"
   },
   {
    "duration": 4,
    "start_time": "2022-06-13T05:28:41.122Z"
   },
   {
    "duration": 13,
    "start_time": "2022-06-13T05:28:41.324Z"
   },
   {
    "duration": 3,
    "start_time": "2022-06-13T05:28:41.667Z"
   },
   {
    "duration": 96,
    "start_time": "2022-06-13T05:28:51.226Z"
   },
   {
    "duration": 11,
    "start_time": "2022-06-13T05:31:38.400Z"
   },
   {
    "duration": 5,
    "start_time": "2022-06-13T05:31:46.039Z"
   },
   {
    "duration": 5,
    "start_time": "2022-06-13T05:32:43.039Z"
   },
   {
    "duration": 8,
    "start_time": "2022-06-13T05:32:54.380Z"
   },
   {
    "duration": 10,
    "start_time": "2022-06-13T05:40:17.325Z"
   },
   {
    "duration": 7,
    "start_time": "2022-06-13T05:40:28.486Z"
   },
   {
    "duration": 8,
    "start_time": "2022-06-13T05:45:24.002Z"
   },
   {
    "duration": 8,
    "start_time": "2022-06-13T05:45:33.635Z"
   },
   {
    "duration": 9,
    "start_time": "2022-06-13T05:45:49.953Z"
   },
   {
    "duration": 3,
    "start_time": "2022-06-13T05:46:53.303Z"
   },
   {
    "duration": 10,
    "start_time": "2022-06-13T05:46:54.945Z"
   },
   {
    "duration": 13,
    "start_time": "2022-06-13T05:47:19.367Z"
   },
   {
    "duration": 10,
    "start_time": "2022-06-13T05:48:00.433Z"
   },
   {
    "duration": 10,
    "start_time": "2022-06-13T05:48:06.605Z"
   },
   {
    "duration": 12,
    "start_time": "2022-06-13T05:48:29.300Z"
   },
   {
    "duration": 4,
    "start_time": "2022-06-13T05:49:31.499Z"
   },
   {
    "duration": 3,
    "start_time": "2022-06-13T05:59:06.785Z"
   },
   {
    "duration": 4,
    "start_time": "2022-06-13T05:59:20.701Z"
   },
   {
    "duration": 13,
    "start_time": "2022-06-13T05:59:21.441Z"
   },
   {
    "duration": 10,
    "start_time": "2022-06-13T05:59:25.426Z"
   },
   {
    "duration": 4,
    "start_time": "2022-06-13T05:59:26.364Z"
   },
   {
    "duration": 7,
    "start_time": "2022-06-13T05:59:27.876Z"
   },
   {
    "duration": 3,
    "start_time": "2022-06-13T06:00:08.967Z"
   },
   {
    "duration": 12,
    "start_time": "2022-06-13T06:00:10.407Z"
   },
   {
    "duration": 12,
    "start_time": "2022-06-13T06:00:13.744Z"
   },
   {
    "duration": 5,
    "start_time": "2022-06-13T06:00:30.973Z"
   },
   {
    "duration": 13,
    "start_time": "2022-06-13T06:00:31.521Z"
   },
   {
    "duration": 10,
    "start_time": "2022-06-13T06:00:32.803Z"
   },
   {
    "duration": 4,
    "start_time": "2022-06-13T06:00:33.303Z"
   },
   {
    "duration": 9,
    "start_time": "2022-06-13T06:00:34.107Z"
   },
   {
    "duration": 7,
    "start_time": "2022-06-13T06:00:36.803Z"
   },
   {
    "duration": 8,
    "start_time": "2022-06-13T06:00:39.300Z"
   },
   {
    "duration": 3,
    "start_time": "2022-06-13T06:00:39.732Z"
   },
   {
    "duration": 12,
    "start_time": "2022-06-13T06:00:41.556Z"
   },
   {
    "duration": 12,
    "start_time": "2022-06-13T06:00:49.999Z"
   },
   {
    "duration": 3,
    "start_time": "2022-06-13T06:00:52.209Z"
   },
   {
    "duration": 12,
    "start_time": "2022-06-13T06:00:53.782Z"
   },
   {
    "duration": 3,
    "start_time": "2022-06-13T06:04:42.688Z"
   },
   {
    "duration": 53,
    "start_time": "2022-06-13T06:04:44.798Z"
   },
   {
    "duration": 4,
    "start_time": "2022-06-13T06:05:24.271Z"
   },
   {
    "duration": 12,
    "start_time": "2022-06-13T06:05:25.632Z"
   },
   {
    "duration": 10,
    "start_time": "2022-06-13T06:05:26.708Z"
   },
   {
    "duration": 4,
    "start_time": "2022-06-13T06:05:27.257Z"
   },
   {
    "duration": 7,
    "start_time": "2022-06-13T06:05:27.813Z"
   },
   {
    "duration": 3,
    "start_time": "2022-06-13T06:05:29.440Z"
   },
   {
    "duration": 41,
    "start_time": "2022-06-13T06:05:31.224Z"
   },
   {
    "duration": 3,
    "start_time": "2022-06-13T06:08:11.032Z"
   },
   {
    "duration": 3,
    "start_time": "2022-06-13T06:08:11.769Z"
   },
   {
    "duration": 14,
    "start_time": "2022-06-13T06:08:12.410Z"
   },
   {
    "duration": 47,
    "start_time": "2022-06-13T06:10:25.375Z"
   }
  ],
  "kernelspec": {
   "display_name": "Python 3 (ipykernel)",
   "language": "python",
   "name": "python3"
  },
  "language_info": {
   "codemirror_mode": {
    "name": "ipython",
    "version": 3
   },
   "file_extension": ".py",
   "mimetype": "text/x-python",
   "name": "python",
   "nbconvert_exporter": "python",
   "pygments_lexer": "ipython3",
   "version": "3.9.7"
  },
  "toc": {
   "base_numbering": 1,
   "nav_menu": {},
   "number_sections": true,
   "sideBar": true,
   "skip_h1_title": true,
   "title_cell": "Содержание",
   "title_sidebar": "Contents",
   "toc_cell": true,
   "toc_position": {
    "height": "calc(100% - 180px)",
    "left": "10px",
    "top": "150px",
    "width": "165px"
   },
   "toc_section_display": true,
   "toc_window_display": true
  }
 },
 "nbformat": 4,
 "nbformat_minor": 2
}
