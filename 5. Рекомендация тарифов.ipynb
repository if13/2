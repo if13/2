{
 "cells": [
  {
   "cell_type": "markdown",
   "metadata": {},
   "source": [
    "# Рекомендация тарифов"
   ]
  },
  {
   "cell_type": "markdown",
   "metadata": {},
   "source": [
    "В вашем распоряжении данные о поведении клиентов, которые уже перешли на эти тарифы (из проекта курса «Статистический анализ данных»). Нужно построить модель для задачи классификации, которая выберет подходящий тариф. Предобработка данных не понадобится — вы её уже сделали.\n",
    "\n",
    "Постройте модель с максимально большим значением *accuracy*. Чтобы сдать проект успешно, нужно довести долю правильных ответов по крайней мере до 0.75. Проверьте *accuracy* на тестовой выборке самостоятельно."
   ]
  },
  {
   "cell_type": "markdown",
   "metadata": {},
   "source": [
    "## Откройте и изучите файл"
   ]
  },
  {
   "cell_type": "code",
   "execution_count": 1,
   "metadata": {},
   "outputs": [],
   "source": [
    "import numpy as np\n",
    "import pandas as pd\n",
    "import seaborn as sns\n",
    "from IPython.display import display, HTML\n",
    "import matplotlib.pyplot as plt\n",
    "from sklearn.linear_model import LogisticRegression\n",
    "from sklearn.tree import DecisionTreeClassifier\n",
    "from sklearn.ensemble import RandomForestClassifier\n",
    "from sklearn.model_selection import GridSearchCV\n",
    "from sklearn.model_selection import train_test_split\n",
    "from sklearn.metrics import accuracy_score\n",
    "from sklearn.metrics import confusion_matrix\n",
    "from sklearn.metrics import f1_score\n",
    "from sklearn.dummy import DummyClassifier\n",
    "from sklearn.model_selection import RandomizedSearchCV\n",
    "sns.set_style(\"darkgrid\")"
   ]
  },
  {
   "cell_type": "code",
   "execution_count": 2,
   "metadata": {},
   "outputs": [
    {
     "data": {
      "text/html": [
       "<div>\n",
       "<style scoped>\n",
       "    .dataframe tbody tr th:only-of-type {\n",
       "        vertical-align: middle;\n",
       "    }\n",
       "\n",
       "    .dataframe tbody tr th {\n",
       "        vertical-align: top;\n",
       "    }\n",
       "\n",
       "    .dataframe thead th {\n",
       "        text-align: right;\n",
       "    }\n",
       "</style>\n",
       "<table border=\"1\" class=\"dataframe\">\n",
       "  <thead>\n",
       "    <tr style=\"text-align: right;\">\n",
       "      <th></th>\n",
       "      <th>calls</th>\n",
       "      <th>minutes</th>\n",
       "      <th>messages</th>\n",
       "      <th>mb_used</th>\n",
       "      <th>is_ultra</th>\n",
       "    </tr>\n",
       "  </thead>\n",
       "  <tbody>\n",
       "    <tr>\n",
       "      <th>0</th>\n",
       "      <td>40.0</td>\n",
       "      <td>311.90</td>\n",
       "      <td>83.0</td>\n",
       "      <td>19915.42</td>\n",
       "      <td>0</td>\n",
       "    </tr>\n",
       "    <tr>\n",
       "      <th>1</th>\n",
       "      <td>85.0</td>\n",
       "      <td>516.75</td>\n",
       "      <td>56.0</td>\n",
       "      <td>22696.96</td>\n",
       "      <td>0</td>\n",
       "    </tr>\n",
       "    <tr>\n",
       "      <th>2</th>\n",
       "      <td>77.0</td>\n",
       "      <td>467.66</td>\n",
       "      <td>86.0</td>\n",
       "      <td>21060.45</td>\n",
       "      <td>0</td>\n",
       "    </tr>\n",
       "    <tr>\n",
       "      <th>3</th>\n",
       "      <td>106.0</td>\n",
       "      <td>745.53</td>\n",
       "      <td>81.0</td>\n",
       "      <td>8437.39</td>\n",
       "      <td>1</td>\n",
       "    </tr>\n",
       "    <tr>\n",
       "      <th>4</th>\n",
       "      <td>66.0</td>\n",
       "      <td>418.74</td>\n",
       "      <td>1.0</td>\n",
       "      <td>14502.75</td>\n",
       "      <td>0</td>\n",
       "    </tr>\n",
       "  </tbody>\n",
       "</table>\n",
       "</div>"
      ],
      "text/plain": [
       "   calls  minutes  messages   mb_used  is_ultra\n",
       "0   40.0   311.90      83.0  19915.42         0\n",
       "1   85.0   516.75      56.0  22696.96         0\n",
       "2   77.0   467.66      86.0  21060.45         0\n",
       "3  106.0   745.53      81.0   8437.39         1\n",
       "4   66.0   418.74       1.0  14502.75         0"
      ]
     },
     "execution_count": 2,
     "metadata": {},
     "output_type": "execute_result"
    }
   ],
   "source": [
    "df = pd.read_csv('/datasets/users_behavior.csv')\n",
    "df.head()"
   ]
  },
  {
   "cell_type": "code",
   "execution_count": 3,
   "metadata": {},
   "outputs": [
    {
     "name": "stdout",
     "output_type": "stream",
     "text": [
      "<class 'pandas.core.frame.DataFrame'>\n",
      "RangeIndex: 3214 entries, 0 to 3213\n",
      "Data columns (total 5 columns):\n",
      " #   Column    Non-Null Count  Dtype  \n",
      "---  ------    --------------  -----  \n",
      " 0   calls     3214 non-null   float64\n",
      " 1   minutes   3214 non-null   float64\n",
      " 2   messages  3214 non-null   float64\n",
      " 3   mb_used   3214 non-null   float64\n",
      " 4   is_ultra  3214 non-null   int64  \n",
      "dtypes: float64(4), int64(1)\n",
      "memory usage: 125.7 KB\n"
     ]
    }
   ],
   "source": [
    "df.info()"
   ]
  },
  {
   "cell_type": "code",
   "execution_count": 4,
   "metadata": {},
   "outputs": [
    {
     "data": {
      "text/plain": [
       "(2229, 5)"
      ]
     },
     "execution_count": 4,
     "metadata": {},
     "output_type": "execute_result"
    }
   ],
   "source": [
    "df.query(\"is_ultra==0\").shape"
   ]
  },
  {
   "cell_type": "markdown",
   "metadata": {},
   "source": [
    "Пропусков нет. Датасет не сбалансирован: примерно 70/30.  Использовать только метрику оценки точночти accuracy будет не очень правильно."
   ]
  },
  {
   "cell_type": "code",
   "execution_count": 5,
   "metadata": {},
   "outputs": [],
   "source": [
    "df['gb_used'] = df['mb_used'] / 1024 # немного отмасштабируем признак\n",
    "df.drop('mb_used', axis = 1, inplace=True) "
   ]
  },
  {
   "cell_type": "markdown",
   "metadata": {},
   "source": [
    "Построим взаимное распределение признаков."
   ]
  },
  {
   "cell_type": "code",
   "execution_count": 6,
   "metadata": {},
   "outputs": [
    {
     "data": {
      "image/png": "[encoded data removed]",
      "text/plain": [
       "<Figure size 764.5x720 with 20 Axes>"
      ]
     },
     "metadata": {},
     "output_type": "display_data"
    }
   ],
   "source": [
    "sns.pairplot(df, hue='is_ultra')\n",
    "plt.show()"
   ]
  },
  {
   "cell_type": "markdown",
   "metadata": {},
   "source": [
    "Видно явную линейную зависимость количества звонков от минут. Посчитаем точно:"
   ]
  },
  {
   "cell_type": "code",
   "execution_count": 7,
   "metadata": {},
   "outputs": [
    {
     "data": {
      "text/html": [
       "<div>\n",
       "<style scoped>\n",
       "    .dataframe tbody tr th:only-of-type {\n",
       "        vertical-align: middle;\n",
       "    }\n",
       "\n",
       "    .dataframe tbody tr th {\n",
       "        vertical-align: top;\n",
       "    }\n",
       "\n",
       "    .dataframe thead th {\n",
       "        text-align: right;\n",
       "    }\n",
       "</style>\n",
       "<table border=\"1\" class=\"dataframe\">\n",
       "  <thead>\n",
       "    <tr style=\"text-align: right;\">\n",
       "      <th></th>\n",
       "      <th>calls</th>\n",
       "      <th>minutes</th>\n",
       "      <th>messages</th>\n",
       "      <th>is_ultra</th>\n",
       "      <th>gb_used</th>\n",
       "    </tr>\n",
       "  </thead>\n",
       "  <tbody>\n",
       "    <tr>\n",
       "      <th>calls</th>\n",
       "      <td>1.000000</td>\n",
       "      <td>0.982083</td>\n",
       "      <td>0.177385</td>\n",
       "      <td>0.207122</td>\n",
       "      <td>0.286442</td>\n",
       "    </tr>\n",
       "    <tr>\n",
       "      <th>minutes</th>\n",
       "      <td>0.982083</td>\n",
       "      <td>1.000000</td>\n",
       "      <td>0.173110</td>\n",
       "      <td>0.206955</td>\n",
       "      <td>0.280967</td>\n",
       "    </tr>\n",
       "    <tr>\n",
       "      <th>messages</th>\n",
       "      <td>0.177385</td>\n",
       "      <td>0.173110</td>\n",
       "      <td>1.000000</td>\n",
       "      <td>0.203830</td>\n",
       "      <td>0.195721</td>\n",
       "    </tr>\n",
       "    <tr>\n",
       "      <th>is_ultra</th>\n",
       "      <td>0.207122</td>\n",
       "      <td>0.206955</td>\n",
       "      <td>0.203830</td>\n",
       "      <td>1.000000</td>\n",
       "      <td>0.198568</td>\n",
       "    </tr>\n",
       "    <tr>\n",
       "      <th>gb_used</th>\n",
       "      <td>0.286442</td>\n",
       "      <td>0.280967</td>\n",
       "      <td>0.195721</td>\n",
       "      <td>0.198568</td>\n",
       "      <td>1.000000</td>\n",
       "    </tr>\n",
       "  </tbody>\n",
       "</table>\n",
       "</div>"
      ],
      "text/plain": [
       "             calls   minutes  messages  is_ultra   gb_used\n",
       "calls     1.000000  0.982083  0.177385  0.207122  0.286442\n",
       "minutes   0.982083  1.000000  0.173110  0.206955  0.280967\n",
       "messages  0.177385  0.173110  1.000000  0.203830  0.195721\n",
       "is_ultra  0.207122  0.206955  0.203830  1.000000  0.198568\n",
       "gb_used   0.286442  0.280967  0.195721  0.198568  1.000000"
      ]
     },
     "execution_count": 7,
     "metadata": {},
     "output_type": "execute_result"
    }
   ],
   "source": [
    "df.corr()"
   ]
  },
  {
   "cell_type": "markdown",
   "metadata": {},
   "source": [
    "Попробовал удалить один из признаков (https://habr.com/ru/company/nix/blog/425253/), модели обучаются хуже."
   ]
  },
  {
   "cell_type": "code",
   "execution_count": 8,
   "metadata": {},
   "outputs": [],
   "source": [
    "#X = df.drop('calls', axis=1, inplace=True)"
   ]
  },
  {
   "cell_type": "markdown",
   "metadata": {},
   "source": [
    "Пробовал удалять оба признака, результат - модели обучаются чуточку хуже."
   ]
  },
  {
   "cell_type": "markdown",
   "metadata": {},
   "source": [
    "## Разбейте данные на выборки"
   ]
  },
  {
   "cell_type": "markdown",
   "metadata": {},
   "source": [
    "Выделим фичи и целевой признак:"
   ]
  },
  {
   "cell_type": "code",
   "execution_count": 9,
   "metadata": {},
   "outputs": [],
   "source": [
    "X = df.drop('is_ultra', axis=1)\n",
    "y = df['is_ultra']"
   ]
  },
  {
   "cell_type": "markdown",
   "metadata": {},
   "source": [
    "Разделим наши данные на тренировочную, валидационную и тестовую в соотношении 70/20/10. Валидационную выборку возьмем больше, чтобы получить более точную оценку сравнения моделей."
   ]
  },
  {
   "cell_type": "code",
   "execution_count": 10,
   "metadata": {},
   "outputs": [],
   "source": [
    "RS = 12345  # переменная со значением random_state"
   ]
  },
  {
   "cell_type": "code",
   "execution_count": 11,
   "metadata": {},
   "outputs": [],
   "source": [
    "(X_train, X_tmp, y_train, y_tmp) = train_test_split(X, y, test_size=3/10, random_state=RS)\n",
    "(X_vld, X_test, y_vld, y_test) = train_test_split(X_tmp, y_tmp, test_size=1/3, random_state=RS)"
   ]
  },
  {
   "cell_type": "code",
   "execution_count": 12,
   "metadata": {},
   "outputs": [
    {
     "data": {
      "text/plain": [
       "2249"
      ]
     },
     "execution_count": 12,
     "metadata": {},
     "output_type": "execute_result"
    }
   ],
   "source": [
    "X_train.shape[0] # размер тренировочный выборки"
   ]
  },
  {
   "cell_type": "markdown",
   "metadata": {},
   "source": [
    "<b> Итог: нам предостоит проверить модели бинарной классификации."
   ]
  },
  {
   "cell_type": "markdown",
   "metadata": {},
   "source": [
    "Да, я подумал над этим, но так как задание и обсуждения в Слаке требовали разбивки на три части, решил сделать три. Суть понял, если ты не против, оставлю как есть."
   ]
  },
  {
   "cell_type": "markdown",
   "metadata": {},
   "source": [
    "## Исследуйте модели"
   ]
  },
  {
   "cell_type": "markdown",
   "metadata": {},
   "source": [
    "Для поиска наилучших гиперпараметров для алгоритмов деревьев попробую использовать метод GridSearchCV\n",
    "https://scikit-learn.org/stable/modules/generated/sklearn.model_selection.GridSearchCV.html\n"
   ]
  },
  {
   "cell_type": "markdown",
   "metadata": {},
   "source": [
    "### LogisticRegression"
   ]
  },
  {
   "cell_type": "code",
   "execution_count": 13,
   "metadata": {},
   "outputs": [],
   "source": [
    "def fit_gsm(model, params, x, y):\n",
    "    clf = GridSearchCV(model, params)\n",
    "    clf.fit(x, y)\n",
    "    return clf"
   ]
  },
  {
   "cell_type": "code",
   "execution_count": 14,
   "metadata": {},
   "outputs": [],
   "source": [
    "lrc = LogisticRegression(random_state=12345) \n",
    "params = { 'tol' : [1e-2, 1e-3, 1e-4, 1e-5],\n",
    "          'max_iter': range(100, 1000, 50)}\n",
    "\n",
    "clf = fit_gsm(lrc, params, X_train, y_train)"
   ]
  },
  {
   "cell_type": "markdown",
   "metadata": {},
   "source": [
    "Для вывода информации по результатам обучения модели, будем использовать такую функцию"
   ]
  },
  {
   "cell_type": "code",
   "execution_count": 15,
   "metadata": {},
   "outputs": [],
   "source": [
    "def get_resume(clf, x, y, gs=True): #gs - GridSearchCV\n",
    "    print('Результаты обучения модели:')\n",
    "    if gs:\n",
    "        print('лучшие параметры:', clf.best_params_)\n",
    "    vld_pred = clf.predict(x)\n",
    "    acc = accuracy_score(y, vld_pred)\n",
    "    print('точность:', acc)\n",
    "    print('матрица ошибок:\\n', confusion_matrix(y, vld_pred))\n",
    "    print('f1-мера:', f1_score(y, vld_pred))"
   ]
  },
  {
   "cell_type": "markdown",
   "metadata": {},
   "source": [
    "Источники:\n",
    "Матрица ошибок https://scikit-learn.org/stable/modules/generated/sklearn.metrics.confusion_matrix.html\n",
    "Т.к. датасет не взвешенный по классам, глянем на еще одну меру точности модели:\n",
    "https://scikit-learn.org/stable/modules/generated/sklearn.metrics.f1_score.html"
   ]
  },
  {
   "cell_type": "code",
   "execution_count": 16,
   "metadata": {},
   "outputs": [
    {
     "name": "stdout",
     "output_type": "stream",
     "text": [
      "Результаты обучения модели:\n",
      "лучшие параметры: {'max_iter': 100, 'tol': 0.01}\n",
      "точность: 0.7620528771384136\n",
      "матрица ошибок:\n",
      " [[442   6]\n",
      " [147  48]]\n",
      "f1-мера: 0.3855421686746988\n"
     ]
    }
   ],
   "source": [
    "get_resume(clf, X_vld, y_vld)"
   ]
  },
  {
   "cell_type": "markdown",
   "metadata": {},
   "source": [
    "Модель сделала очень много ошибок  типа FP (ложно отрицательные), ошибок 1 рода, то есть для значений is_ultra == 0 ошибочно предсказывала значение 1.  \n",
    "Вывод: модель получилась низкого качества, но уже с точностью выше чем нужно в задании."
   ]
  },
  {
   "cell_type": "markdown",
   "metadata": {},
   "source": [
    "### DecisionTreeClassifier"
   ]
  },
  {
   "cell_type": "code",
   "execution_count": 17,
   "metadata": {},
   "outputs": [
    {
     "data": {
      "text/plain": [
       "GridSearchCV(estimator=DecisionTreeClassifier(random_state=12345),\n",
       "             param_grid={'max_depth': range(1, 30)})"
      ]
     },
     "execution_count": 17,
     "metadata": {},
     "output_type": "execute_result"
    }
   ],
   "source": [
    "params = {'max_depth': range(1, 30)}\n",
    "dtc = DecisionTreeClassifier(random_state=RS)\n",
    "clf = GridSearchCV(dtc, params)\n",
    "clf.fit(X_train, y_train)"
   ]
  },
  {
   "cell_type": "code",
   "execution_count": 18,
   "metadata": {},
   "outputs": [
    {
     "name": "stdout",
     "output_type": "stream",
     "text": [
      "Результаты обучения модели:\n",
      "лучшие параметры: {'max_depth': 3}\n",
      "точность: 0.7884914463452566\n",
      "матрица ошибок:\n",
      " [[422  26]\n",
      " [110  85]]\n",
      "f1-мера: 0.5555555555555556\n"
     ]
    }
   ],
   "source": [
    "get_resume(clf, X_vld, y_vld, gs=True)"
   ]
  },
  {
   "cell_type": "markdown",
   "metadata": {},
   "source": [
    "Качество модели получилось чуть лучше, но незначительно, также много ошибок 1 рода. Двигаемся дальше. Самые большие надежды на случайный лес :)"
   ]
  },
  {
   "cell_type": "markdown",
   "metadata": {},
   "source": [
    "### RandomForestClassifier"
   ]
  },
  {
   "cell_type": "markdown",
   "metadata": {},
   "source": [
    "Попробую по твоему совету использовать RandomizedSearchCV. Спойлер: модель действительно обучилась на порядки быстрее, но дала чуть меньшую точность."
   ]
  },
  {
   "cell_type": "code",
   "execution_count": 19,
   "metadata": {},
   "outputs": [
    {
     "data": {
      "text/plain": [
       "RandomizedSearchCV(estimator=RandomForestClassifier(random_state=12345),\n",
       "                   param_distributions={'max_depth': range(1, 20),\n",
       "                                        'max_features': ['auto', 'sqrt',\n",
       "                                                         'log2'],\n",
       "                                        'n_estimators': range(2, 30)})"
      ]
     },
     "execution_count": 19,
     "metadata": {},
     "output_type": "execute_result"
    }
   ],
   "source": [
    "params = {'n_estimators': range(2, 30) , 'max_depth': range(1, 20), 'max_features': ['auto', 'sqrt', 'log2']}\n",
    "rfc = RandomForestClassifier(random_state=RS)\n",
    "clf = RandomizedSearchCV(rfc, params)\n",
    "clf.fit(X_train, y_train)"
   ]
  },
  {
   "cell_type": "code",
   "execution_count": 20,
   "metadata": {},
   "outputs": [
    {
     "name": "stdout",
     "output_type": "stream",
     "text": [
      "Результаты обучения модели:\n",
      "лучшие параметры: {'n_estimators': 24, 'max_features': 'auto', 'max_depth': 7}\n",
      "точность: 0.7993779160186625\n",
      "матрица ошибок:\n",
      " [[418  30]\n",
      " [ 99  96]]\n",
      "f1-мера: 0.5981308411214953\n"
     ]
    }
   ],
   "source": [
    "get_resume(clf, X_vld, y_vld, gs=True)"
   ]
  },
  {
   "cell_type": "markdown",
   "metadata": {},
   "source": [
    "Из за большого количества вычислений, модель обучается долго. Как и предполагалось, классификатор \"случайный лес\" дал наилучшие результаты, хотя, к сожалению, опередил \"дерево\" незначительно. Предполагал, что он даст значительно более точные прогнозы. \n",
    "\n",
    "Предпологаю, что ошибки возникают на стыке и пересечении фичей у тарифов. А ошибки первого рода тут говорят о том, что клиентов на тарифе Смарт, которые пересходовали пакет и по фичам потребления приближались к клиентам \"Ультра\" алгоритм определял как 1, а вот наоборот - клиентов которые мало потребляли пакет Ultra было меньше  и ошибок этого типа, соот-но, тоже меньше."
   ]
  },
  {
   "cell_type": "markdown",
   "metadata": {},
   "source": [
    "## Проверьте модель на тестовой выборке"
   ]
  },
  {
   "cell_type": "code",
   "execution_count": 21,
   "metadata": {},
   "outputs": [
    {
     "name": "stdout",
     "output_type": "stream",
     "text": [
      "Результаты обучения модели:\n",
      "лучшие параметры: {'n_estimators': 24, 'max_features': 'auto', 'max_depth': 7}\n",
      "точность: 0.8229813664596274\n",
      "матрица ошибок:\n",
      " [[210  13]\n",
      " [ 44  55]]\n",
      "f1-мера: 0.6586826347305389\n"
     ]
    }
   ],
   "source": [
    "get_resume(clf, X_test, y_test, gs=True)"
   ]
  },
  {
   "cell_type": "markdown",
   "metadata": {},
   "source": [
    "<b>Вывод: опробовали 3 модели для прогнозирования тарифа для оператора сотовой связи изучив при этом несколько показателей точности предсказания моделей. Все модели наиболее склонны к ошибке 1 рода.\n",
    "    \n",
    "Ожидаемо, алгоритм \"случайный лес\" дал наилучшие результаты. Проверка на тестовой выборке подтвердили результаты, полученные на валидационной. Приз достается алгориму классификации \"случайный лес\"! :)"
   ]
  },
  {
   "cell_type": "markdown",
   "metadata": {},
   "source": [
    "А стоило ли тогда разбивать на валид. и тест. выборку в начале?"
   ]
  },
  {
   "cell_type": "markdown",
   "metadata": {},
   "source": [
    "## (бонус) Проверьте модели на адекватность"
   ]
  },
  {
   "cell_type": "code",
   "execution_count": 23,
   "metadata": {},
   "outputs": [
    {
     "name": "stdout",
     "output_type": "stream",
     "text": [
      "Результаты обучения модели:\n",
      "точность: 0.6925465838509317\n",
      "матрица ошибок:\n",
      " [[223   0]\n",
      " [ 99   0]]\n",
      "f1-мера: 0.0\n"
     ]
    }
   ],
   "source": [
    "dummy_clf = DummyClassifier(strategy=\"most_frequent\")\n",
    "dummy_clf.fit(X_test, y_test)\n",
    "get_resume(dummy_clf, X_test, y_test, gs=False)"
   ]
  },
  {
   "cell_type": "markdown",
   "metadata": {},
   "source": [
    "Как я писал ранее, несбалсированность классов 70/30, \"глупый\" классификатор как раз и показал примерно такую точность учитывая параметр strategy=\"most_frequent\". Сравнивая полученную точность, можно сделать вывод, что полученный ранее классификаторы - адекватные."
   ]
  }
 ],
 "metadata": {
  "ExecuteTimeLog": [
   {
    "duration": 51,
    "start_time": "2022-04-13T17:29:04.565Z"
   },
   {
    "duration": 520,
    "start_time": "2022-04-13T17:29:08.590Z"
   },
   {
    "duration": 30,
    "start_time": "2022-04-13T17:29:10.211Z"
   },
   {
    "duration": 982,
    "start_time": "2022-04-13T17:42:57.661Z"
   },
   {
    "duration": 29,
    "start_time": "2022-04-13T17:42:59.098Z"
   },
   {
    "duration": 3784,
    "start_time": "2022-04-13T17:43:10.298Z"
   },
   {
    "duration": 8021,
    "start_time": "2022-04-13T17:45:58.687Z"
   },
   {
    "duration": 5141,
    "start_time": "2022-04-13T17:46:28.237Z"
   },
   {
    "duration": 70,
    "start_time": "2022-04-13T17:48:07.193Z"
   },
   {
    "duration": 5148,
    "start_time": "2022-04-13T17:48:43.587Z"
   },
   {
    "duration": 5202,
    "start_time": "2022-04-13T17:51:49.571Z"
   },
   {
    "duration": 13,
    "start_time": "2022-04-13T18:21:21.271Z"
   },
   {
    "duration": 27,
    "start_time": "2022-04-13T18:26:49.109Z"
   },
   {
    "duration": 145,
    "start_time": "2022-04-14T11:52:20.517Z"
   },
   {
    "duration": 42,
    "start_time": "2022-04-14T11:52:34.780Z"
   },
   {
    "duration": 7,
    "start_time": "2022-04-14T11:52:40.875Z"
   },
   {
    "duration": 1488,
    "start_time": "2022-04-14T11:52:55.004Z"
   },
   {
    "duration": 36,
    "start_time": "2022-04-14T11:52:56.494Z"
   },
   {
    "duration": 16,
    "start_time": "2022-04-14T11:52:56.531Z"
   },
   {
    "duration": 5488,
    "start_time": "2022-04-14T11:52:56.549Z"
   },
   {
    "duration": 172,
    "start_time": "2022-04-14T11:53:02.039Z"
   },
   {
    "duration": 14,
    "start_time": "2022-04-14T11:53:36.803Z"
   },
   {
    "duration": 4,
    "start_time": "2022-04-14T12:23:33.719Z"
   },
   {
    "duration": 7,
    "start_time": "2022-04-14T12:24:00.328Z"
   },
   {
    "duration": 20,
    "start_time": "2022-04-14T12:24:15.288Z"
   },
   {
    "duration": 22,
    "start_time": "2022-04-14T12:25:08.912Z"
   },
   {
    "duration": 21,
    "start_time": "2022-04-14T12:26:46.232Z"
   },
   {
    "duration": 4594,
    "start_time": "2022-04-14T12:26:48.064Z"
   },
   {
    "duration": 13,
    "start_time": "2022-04-14T12:26:52.660Z"
   },
   {
    "duration": 19,
    "start_time": "2022-04-14T12:27:09.241Z"
   },
   {
    "duration": 10301,
    "start_time": "2022-04-14T12:27:10.103Z"
   },
   {
    "duration": 5,
    "start_time": "2022-04-14T12:29:25.576Z"
   },
   {
    "duration": 1690,
    "start_time": "2022-04-14T12:30:39.346Z"
   },
   {
    "duration": 22,
    "start_time": "2022-04-14T12:30:41.038Z"
   },
   {
    "duration": 10,
    "start_time": "2022-04-14T12:30:41.062Z"
   },
   {
    "duration": 17,
    "start_time": "2022-04-14T12:30:41.074Z"
   },
   {
    "duration": 38,
    "start_time": "2022-04-14T12:30:41.093Z"
   },
   {
    "duration": 6,
    "start_time": "2022-04-14T12:30:41.132Z"
   },
   {
    "duration": 6913,
    "start_time": "2022-04-14T12:30:41.139Z"
   },
   {
    "duration": 10,
    "start_time": "2022-04-14T12:30:48.054Z"
   },
   {
    "duration": 4,
    "start_time": "2022-04-14T12:30:48.066Z"
   },
   {
    "duration": 3,
    "start_time": "2022-04-14T12:31:27.914Z"
   },
   {
    "duration": 3,
    "start_time": "2022-04-14T12:52:08.307Z"
   },
   {
    "duration": 136,
    "start_time": "2022-04-14T13:09:31.192Z"
   },
   {
    "duration": 12,
    "start_time": "2022-04-14T13:09:36.010Z"
   },
   {
    "duration": 3,
    "start_time": "2022-04-14T13:09:41.601Z"
   },
   {
    "duration": 10,
    "start_time": "2022-04-14T13:09:41.889Z"
   },
   {
    "duration": 9,
    "start_time": "2022-04-14T13:09:47.635Z"
   },
   {
    "duration": 4,
    "start_time": "2022-04-14T13:09:48.321Z"
   },
   {
    "duration": 8,
    "start_time": "2022-04-14T13:09:48.706Z"
   },
   {
    "duration": 52,
    "start_time": "2022-04-14T13:09:51.514Z"
   },
   {
    "duration": 4,
    "start_time": "2022-04-14T13:10:22.993Z"
   },
   {
    "duration": 8,
    "start_time": "2022-04-14T13:10:28.152Z"
   },
   {
    "duration": 26,
    "start_time": "2022-04-14T13:10:31.361Z"
   },
   {
    "duration": 25,
    "start_time": "2022-04-14T13:10:36.553Z"
   },
   {
    "duration": 11,
    "start_time": "2022-04-14T13:11:22.722Z"
   },
   {
    "duration": 124,
    "start_time": "2022-04-14T13:11:58.641Z"
   },
   {
    "duration": 5,
    "start_time": "2022-04-14T13:15:06.506Z"
   },
   {
    "duration": 4,
    "start_time": "2022-04-14T13:16:18.609Z"
   },
   {
    "duration": 129,
    "start_time": "2022-04-14T13:20:35.865Z"
   },
   {
    "duration": 125,
    "start_time": "2022-04-14T13:20:44.096Z"
   },
   {
    "duration": 134,
    "start_time": "2022-04-14T13:29:57.111Z"
   },
   {
    "duration": 11,
    "start_time": "2022-04-14T13:30:06.198Z"
   },
   {
    "duration": 9,
    "start_time": "2022-04-14T13:32:25.774Z"
   },
   {
    "duration": 4,
    "start_time": "2022-04-14T13:33:10.174Z"
   },
   {
    "duration": 10,
    "start_time": "2022-04-14T13:33:16.021Z"
   },
   {
    "duration": 26,
    "start_time": "2022-04-14T13:33:38.358Z"
   },
   {
    "duration": 2767,
    "start_time": "2022-04-14T13:35:14.166Z"
   },
   {
    "duration": 4,
    "start_time": "2022-04-14T13:35:34.870Z"
   },
   {
    "duration": 4,
    "start_time": "2022-04-14T13:44:01.943Z"
   },
   {
    "duration": 6,
    "start_time": "2022-04-14T13:44:32.301Z"
   },
   {
    "duration": 6,
    "start_time": "2022-04-14T13:56:15.844Z"
   },
   {
    "duration": 140,
    "start_time": "2022-04-14T13:59:09.629Z"
   },
   {
    "duration": 12,
    "start_time": "2022-04-14T14:00:03.773Z"
   },
   {
    "duration": 40093,
    "start_time": "2022-04-14T14:00:30.597Z"
   },
   {
    "duration": 60712,
    "start_time": "2022-04-14T14:01:14.237Z"
   },
   {
    "duration": 38077,
    "start_time": "2022-04-14T14:02:17.773Z"
   },
   {
    "duration": 4,
    "start_time": "2022-04-14T14:03:07.708Z"
   },
   {
    "duration": 6,
    "start_time": "2022-04-14T14:03:12.076Z"
   },
   {
    "duration": 58520,
    "start_time": "2022-04-14T14:03:43.268Z"
   },
   {
    "duration": 4,
    "start_time": "2022-04-14T14:05:03.643Z"
   },
   {
    "duration": 6,
    "start_time": "2022-04-14T14:05:04.211Z"
   },
   {
    "duration": 6,
    "start_time": "2022-04-14T14:05:23.006Z"
   },
   {
    "duration": 5,
    "start_time": "2022-04-14T14:05:23.483Z"
   },
   {
    "duration": 61,
    "start_time": "2022-04-14T14:09:22.675Z"
   },
   {
    "duration": 131,
    "start_time": "2022-04-14T14:09:47.284Z"
   },
   {
    "duration": 317,
    "start_time": "2022-04-14T14:09:52.020Z"
   },
   {
    "duration": 422262,
    "start_time": "2022-04-14T14:10:06.700Z"
   },
   {
    "duration": 2160006,
    "start_time": "2022-04-14T14:17:16.963Z"
   },
   {
    "duration": 10,
    "start_time": "2022-04-14T17:24:14.689Z"
   },
   {
    "duration": 6,
    "start_time": "2022-04-14T17:24:33.795Z"
   },
   {
    "duration": 3,
    "start_time": "2022-04-14T17:25:17.656Z"
   },
   {
    "duration": 581280,
    "start_time": "2022-04-14T17:28:15.748Z"
   },
   {
    "duration": 4618,
    "start_time": "2022-04-14T17:38:07.110Z"
   },
   {
    "duration": 4,
    "start_time": "2022-04-14T17:38:17.729Z"
   },
   {
    "duration": 12,
    "start_time": "2022-04-14T17:38:21.071Z"
   },
   {
    "duration": 6,
    "start_time": "2022-04-14T17:38:44.704Z"
   },
   {
    "duration": 19305,
    "start_time": "2022-04-14T17:39:34.976Z"
   },
   {
    "duration": 31396,
    "start_time": "2022-04-14T17:42:32.784Z"
   },
   {
    "duration": 8,
    "start_time": "2022-04-14T17:43:08.201Z"
   },
   {
    "duration": 15,
    "start_time": "2022-04-14T17:43:12.970Z"
   },
   {
    "duration": 30138,
    "start_time": "2022-04-14T17:43:41.712Z"
   },
   {
    "duration": 14,
    "start_time": "2022-04-14T17:44:17.877Z"
   },
   {
    "duration": 166,
    "start_time": "2022-04-14T17:44:43.207Z"
   },
   {
    "duration": 40418,
    "start_time": "2022-04-14T17:45:03.055Z"
   },
   {
    "duration": 6,
    "start_time": "2022-04-14T17:45:48.895Z"
   },
   {
    "duration": 15,
    "start_time": "2022-04-14T17:45:51.062Z"
   },
   {
    "duration": 8,
    "start_time": "2022-04-14T17:46:00.134Z"
   },
   {
    "duration": 22050,
    "start_time": "2022-04-14T17:46:46.925Z"
   },
   {
    "duration": 5,
    "start_time": "2022-04-14T17:47:12.948Z"
   },
   {
    "duration": 13,
    "start_time": "2022-04-14T17:47:17.028Z"
   },
   {
    "duration": 15,
    "start_time": "2022-04-14T17:48:18.546Z"
   },
   {
    "duration": 32721,
    "start_time": "2022-04-14T17:48:35.413Z"
   },
   {
    "duration": 4,
    "start_time": "2022-04-14T17:49:17.869Z"
   },
   {
    "duration": 11,
    "start_time": "2022-04-14T17:49:29.297Z"
   },
   {
    "duration": 20617,
    "start_time": "2022-04-14T17:49:45.580Z"
   },
   {
    "duration": 5,
    "start_time": "2022-04-14T17:50:06.199Z"
   },
   {
    "duration": 9,
    "start_time": "2022-04-14T17:50:09.673Z"
   },
   {
    "duration": 6,
    "start_time": "2022-04-14T17:50:16.441Z"
   },
   {
    "duration": 15,
    "start_time": "2022-04-14T17:53:38.673Z"
   },
   {
    "duration": 9,
    "start_time": "2022-04-14T17:53:52.741Z"
   },
   {
    "duration": 1941,
    "start_time": "2022-04-14T17:54:05.077Z"
   },
   {
    "duration": 31,
    "start_time": "2022-04-14T17:54:07.023Z"
   },
   {
    "duration": 13,
    "start_time": "2022-04-14T17:54:07.056Z"
   },
   {
    "duration": 17,
    "start_time": "2022-04-14T17:54:07.072Z"
   },
   {
    "duration": 100,
    "start_time": "2022-04-14T17:54:07.091Z"
   },
   {
    "duration": 39,
    "start_time": "2022-04-14T17:54:07.192Z"
   },
   {
    "duration": 4800,
    "start_time": "2022-04-14T17:54:07.233Z"
   },
   {
    "duration": 12,
    "start_time": "2022-04-14T17:54:12.035Z"
   },
   {
    "duration": 7,
    "start_time": "2022-04-14T17:54:12.049Z"
   },
   {
    "duration": 3,
    "start_time": "2022-04-14T17:54:12.060Z"
   },
   {
    "duration": 11,
    "start_time": "2022-04-14T17:54:12.065Z"
   },
   {
    "duration": 49,
    "start_time": "2022-04-14T17:54:12.078Z"
   },
   {
    "duration": 22,
    "start_time": "2022-04-14T17:54:12.129Z"
   },
   {
    "duration": 6,
    "start_time": "2022-04-14T17:54:12.152Z"
   },
   {
    "duration": 98124,
    "start_time": "2022-04-14T17:54:12.160Z"
   },
   {
    "duration": 0,
    "start_time": "2022-04-14T17:55:50.286Z"
   },
   {
    "duration": 0,
    "start_time": "2022-04-14T17:55:50.288Z"
   },
   {
    "duration": 0,
    "start_time": "2022-04-14T17:55:50.290Z"
   },
   {
    "duration": 0,
    "start_time": "2022-04-14T17:55:50.291Z"
   },
   {
    "duration": 0,
    "start_time": "2022-04-14T17:55:50.292Z"
   },
   {
    "duration": 0,
    "start_time": "2022-04-14T17:55:50.294Z"
   },
   {
    "duration": 0,
    "start_time": "2022-04-14T17:55:50.295Z"
   },
   {
    "duration": 163,
    "start_time": "2022-04-14T17:57:14.976Z"
   },
   {
    "duration": 15,
    "start_time": "2022-04-14T17:57:27.362Z"
   },
   {
    "duration": 6,
    "start_time": "2022-04-14T17:58:39.042Z"
   },
   {
    "duration": 5,
    "start_time": "2022-04-14T17:59:12.091Z"
   },
   {
    "duration": 3716,
    "start_time": "2022-04-14T18:07:37.858Z"
   },
   {
    "duration": 4,
    "start_time": "2022-04-14T18:07:43.895Z"
   },
   {
    "duration": 3708,
    "start_time": "2022-04-14T18:07:45.083Z"
   },
   {
    "duration": 2955,
    "start_time": "2022-04-14T18:07:58.362Z"
   },
   {
    "duration": 6,
    "start_time": "2022-04-14T18:08:02.341Z"
   },
   {
    "duration": 12,
    "start_time": "2022-04-14T18:08:03.555Z"
   },
   {
    "duration": 3620,
    "start_time": "2022-04-14T18:08:42.849Z"
   },
   {
    "duration": 11,
    "start_time": "2022-04-14T18:08:48.222Z"
   },
   {
    "duration": 11,
    "start_time": "2022-04-14T18:08:49.267Z"
   },
   {
    "duration": 3,
    "start_time": "2022-04-14T18:10:14.781Z"
   },
   {
    "duration": 7,
    "start_time": "2022-04-14T18:10:15.496Z"
   },
   {
    "duration": 14,
    "start_time": "2022-04-14T18:10:18.100Z"
   },
   {
    "duration": 6,
    "start_time": "2022-04-14T18:10:19.480Z"
   },
   {
    "duration": 7,
    "start_time": "2022-04-14T18:14:54.282Z"
   },
   {
    "duration": 10,
    "start_time": "2022-04-14T18:14:55.183Z"
   },
   {
    "duration": 15,
    "start_time": "2022-04-14T18:15:11.245Z"
   },
   {
    "duration": 12,
    "start_time": "2022-04-14T18:15:43.384Z"
   },
   {
    "duration": 8,
    "start_time": "2022-04-14T18:15:48.694Z"
   },
   {
    "duration": 12,
    "start_time": "2022-04-14T18:16:18.641Z"
   },
   {
    "duration": 20,
    "start_time": "2022-04-14T18:17:51.732Z"
   },
   {
    "duration": 9,
    "start_time": "2022-04-14T18:17:59.258Z"
   },
   {
    "duration": 1390,
    "start_time": "2022-04-14T18:18:41.237Z"
   },
   {
    "duration": 4,
    "start_time": "2022-04-14T18:18:44.441Z"
   },
   {
    "duration": 20,
    "start_time": "2022-04-14T18:18:47.112Z"
   },
   {
    "duration": 6,
    "start_time": "2022-04-14T18:18:59.687Z"
   },
   {
    "duration": 6,
    "start_time": "2022-04-14T18:19:07.256Z"
   },
   {
    "duration": 5722,
    "start_time": "2022-04-14T18:20:02.078Z"
   },
   {
    "duration": 4,
    "start_time": "2022-04-14T18:20:07.802Z"
   },
   {
    "duration": 13,
    "start_time": "2022-04-14T18:20:11.493Z"
   },
   {
    "duration": 17739,
    "start_time": "2022-04-14T18:20:56.542Z"
   },
   {
    "duration": 3,
    "start_time": "2022-04-14T18:21:15.876Z"
   },
   {
    "duration": 14,
    "start_time": "2022-04-14T18:21:17.173Z"
   },
   {
    "duration": 17,
    "start_time": "2022-04-14T18:21:41.518Z"
   },
   {
    "duration": 144,
    "start_time": "2022-04-14T18:22:49.613Z"
   },
   {
    "duration": 148,
    "start_time": "2022-04-14T18:23:00.213Z"
   },
   {
    "duration": 1156,
    "start_time": "2022-04-14T18:23:15.009Z"
   },
   {
    "duration": 4,
    "start_time": "2022-04-14T18:23:22.284Z"
   },
   {
    "duration": 6,
    "start_time": "2022-04-14T18:23:24.402Z"
   },
   {
    "duration": 24,
    "start_time": "2022-04-14T18:23:52.148Z"
   },
   {
    "duration": 38,
    "start_time": "2022-04-14T18:24:24.016Z"
   },
   {
    "duration": 8,
    "start_time": "2022-04-14T18:24:25.585Z"
   },
   {
    "duration": 1023,
    "start_time": "2022-04-14T18:26:11.104Z"
   },
   {
    "duration": 4,
    "start_time": "2022-04-14T18:26:12.129Z"
   },
   {
    "duration": 8,
    "start_time": "2022-04-14T18:26:13.024Z"
   },
   {
    "duration": 5,
    "start_time": "2022-04-14T18:26:13.850Z"
   },
   {
    "duration": 158443,
    "start_time": "2022-04-14T18:26:56.037Z"
   },
   {
    "duration": 90101,
    "start_time": "2022-04-14T18:29:49.711Z"
   },
   {
    "duration": 4,
    "start_time": "2022-04-14T18:31:24.923Z"
   },
   {
    "duration": 11,
    "start_time": "2022-04-14T18:31:28.034Z"
   },
   {
    "duration": 5,
    "start_time": "2022-04-14T18:31:37.270Z"
   },
   {
    "duration": 5,
    "start_time": "2022-04-14T18:37:56.953Z"
   },
   {
    "duration": 3,
    "start_time": "2022-04-14T18:38:55.605Z"
   },
   {
    "duration": 6,
    "start_time": "2022-04-14T18:44:17.865Z"
   },
   {
    "duration": 6,
    "start_time": "2022-04-14T18:44:32.092Z"
   },
   {
    "duration": 6,
    "start_time": "2022-04-14T18:44:50.019Z"
   },
   {
    "duration": 1456,
    "start_time": "2022-04-14T18:45:07.185Z"
   },
   {
    "duration": 23,
    "start_time": "2022-04-14T18:45:08.643Z"
   },
   {
    "duration": 14,
    "start_time": "2022-04-14T18:45:08.667Z"
   },
   {
    "duration": 13,
    "start_time": "2022-04-14T18:45:08.684Z"
   },
   {
    "duration": 46,
    "start_time": "2022-04-14T18:45:08.698Z"
   },
   {
    "duration": 6,
    "start_time": "2022-04-14T18:45:08.746Z"
   },
   {
    "duration": 5509,
    "start_time": "2022-04-14T18:45:08.753Z"
   },
   {
    "duration": 10,
    "start_time": "2022-04-14T18:45:14.264Z"
   },
   {
    "duration": 10,
    "start_time": "2022-04-14T18:45:14.276Z"
   },
   {
    "duration": 4,
    "start_time": "2022-04-14T18:45:14.327Z"
   },
   {
    "duration": 18,
    "start_time": "2022-04-14T18:45:14.336Z"
   },
   {
    "duration": 6,
    "start_time": "2022-04-14T18:45:14.356Z"
   },
   {
    "duration": 20,
    "start_time": "2022-04-14T18:45:14.364Z"
   },
   {
    "duration": 5,
    "start_time": "2022-04-14T18:45:14.386Z"
   },
   {
    "duration": 37,
    "start_time": "2022-04-14T18:45:14.392Z"
   },
   {
    "duration": 1128,
    "start_time": "2022-04-14T18:45:14.430Z"
   },
   {
    "duration": 4,
    "start_time": "2022-04-14T18:45:15.560Z"
   },
   {
    "duration": 13,
    "start_time": "2022-04-14T18:45:15.566Z"
   },
   {
    "duration": 6,
    "start_time": "2022-04-14T18:45:15.581Z"
   },
   {
    "duration": 50,
    "start_time": "2022-04-14T18:45:15.589Z"
   },
   {
    "duration": 91958,
    "start_time": "2022-04-14T18:45:15.641Z"
   },
   {
    "duration": 3,
    "start_time": "2022-04-14T18:46:47.601Z"
   },
   {
    "duration": 27,
    "start_time": "2022-04-14T18:46:47.606Z"
   },
   {
    "duration": 11,
    "start_time": "2022-04-14T18:46:47.635Z"
   },
   {
    "duration": 5,
    "start_time": "2022-04-14T18:46:47.648Z"
   },
   {
    "duration": 5,
    "start_time": "2022-04-14T19:11:57.097Z"
   },
   {
    "duration": 146,
    "start_time": "2022-04-14T19:12:59.967Z"
   },
   {
    "duration": 3,
    "start_time": "2022-04-14T19:13:13.831Z"
   },
   {
    "duration": 5,
    "start_time": "2022-04-14T19:13:22.051Z"
   },
   {
    "duration": 5,
    "start_time": "2022-04-14T19:13:37.411Z"
   },
   {
    "duration": 4,
    "start_time": "2022-04-14T19:18:41.760Z"
   },
   {
    "duration": 13,
    "start_time": "2022-04-14T19:19:41.908Z"
   },
   {
    "duration": 4,
    "start_time": "2022-04-14T19:20:05.650Z"
   },
   {
    "duration": 19,
    "start_time": "2022-04-14T19:20:06.314Z"
   },
   {
    "duration": 30,
    "start_time": "2022-04-14T19:22:47.911Z"
   },
   {
    "duration": 141,
    "start_time": "2022-04-14T19:25:00.077Z"
   },
   {
    "duration": 5,
    "start_time": "2022-04-14T19:25:12.242Z"
   },
   {
    "duration": 11,
    "start_time": "2022-04-14T19:25:13.654Z"
   },
   {
    "duration": 13,
    "start_time": "2022-04-14T19:25:33.181Z"
   },
   {
    "duration": 1165,
    "start_time": "2022-04-14T19:25:36.565Z"
   },
   {
    "duration": 10,
    "start_time": "2022-04-14T19:25:37.733Z"
   },
   {
    "duration": 4,
    "start_time": "2022-04-14T19:37:52.855Z"
   },
   {
    "duration": 142,
    "start_time": "2022-04-14T19:38:25.047Z"
   },
   {
    "duration": 3,
    "start_time": "2022-04-14T19:38:56.486Z"
   },
   {
    "duration": 1471,
    "start_time": "2022-04-14T19:44:29.556Z"
   },
   {
    "duration": 27,
    "start_time": "2022-04-14T19:44:31.029Z"
   },
   {
    "duration": 10,
    "start_time": "2022-04-14T19:44:31.058Z"
   },
   {
    "duration": 13,
    "start_time": "2022-04-14T19:44:31.070Z"
   },
   {
    "duration": 4,
    "start_time": "2022-04-14T19:44:31.085Z"
   },
   {
    "duration": 4990,
    "start_time": "2022-04-14T19:44:31.091Z"
   },
   {
    "duration": 9,
    "start_time": "2022-04-14T19:44:36.083Z"
   },
   {
    "duration": 3,
    "start_time": "2022-04-14T19:44:36.094Z"
   },
   {
    "duration": 5,
    "start_time": "2022-04-14T19:44:36.099Z"
   },
   {
    "duration": 11,
    "start_time": "2022-04-14T19:44:36.123Z"
   },
   {
    "duration": 10,
    "start_time": "2022-04-14T19:44:36.135Z"
   },
   {
    "duration": 81,
    "start_time": "2022-04-14T19:44:36.146Z"
   },
   {
    "duration": 133,
    "start_time": "2022-04-14T19:44:36.229Z"
   },
   {
    "duration": 1,
    "start_time": "2022-04-14T19:44:36.364Z"
   },
   {
    "duration": 0,
    "start_time": "2022-04-14T19:44:36.366Z"
   },
   {
    "duration": 0,
    "start_time": "2022-04-14T19:44:36.368Z"
   },
   {
    "duration": 0,
    "start_time": "2022-04-14T19:44:36.369Z"
   },
   {
    "duration": 0,
    "start_time": "2022-04-14T19:44:36.370Z"
   },
   {
    "duration": 0,
    "start_time": "2022-04-14T19:44:36.371Z"
   },
   {
    "duration": 0,
    "start_time": "2022-04-14T19:44:36.373Z"
   },
   {
    "duration": 0,
    "start_time": "2022-04-14T19:44:36.374Z"
   },
   {
    "duration": 0,
    "start_time": "2022-04-14T19:44:36.375Z"
   },
   {
    "duration": 0,
    "start_time": "2022-04-14T19:44:36.376Z"
   },
   {
    "duration": 3,
    "start_time": "2022-04-14T19:45:28.596Z"
   },
   {
    "duration": 25,
    "start_time": "2022-04-14T19:45:28.601Z"
   },
   {
    "duration": 3,
    "start_time": "2022-04-14T19:45:28.628Z"
   },
   {
    "duration": 17,
    "start_time": "2022-04-14T19:45:28.635Z"
   },
   {
    "duration": 1237,
    "start_time": "2022-04-14T19:45:28.655Z"
   },
   {
    "duration": 7,
    "start_time": "2022-04-14T19:45:29.894Z"
   },
   {
    "duration": 114892,
    "start_time": "2022-04-14T19:45:29.903Z"
   },
   {
    "duration": 12,
    "start_time": "2022-04-14T19:47:24.797Z"
   },
   {
    "duration": 15,
    "start_time": "2022-04-14T19:47:24.823Z"
   },
   {
    "duration": 1369,
    "start_time": "2022-04-14T19:58:26.651Z"
   },
   {
    "duration": 25,
    "start_time": "2022-04-14T19:58:28.022Z"
   },
   {
    "duration": 13,
    "start_time": "2022-04-14T19:58:28.049Z"
   },
   {
    "duration": 11,
    "start_time": "2022-04-14T19:58:28.064Z"
   },
   {
    "duration": 5,
    "start_time": "2022-04-14T19:58:28.078Z"
   },
   {
    "duration": 4259,
    "start_time": "2022-04-14T19:58:28.084Z"
   },
   {
    "duration": 13,
    "start_time": "2022-04-14T19:58:32.345Z"
   },
   {
    "duration": 3,
    "start_time": "2022-04-14T19:58:32.360Z"
   },
   {
    "duration": 5,
    "start_time": "2022-04-14T19:58:32.365Z"
   },
   {
    "duration": 52,
    "start_time": "2022-04-14T19:58:32.372Z"
   },
   {
    "duration": 4,
    "start_time": "2022-04-14T19:58:32.426Z"
   },
   {
    "duration": 35,
    "start_time": "2022-04-14T19:58:32.432Z"
   },
   {
    "duration": 5,
    "start_time": "2022-04-14T19:58:32.468Z"
   },
   {
    "duration": 9,
    "start_time": "2022-04-14T19:58:32.524Z"
   },
   {
    "duration": 1174,
    "start_time": "2022-04-14T19:58:32.534Z"
   },
   {
    "duration": 17,
    "start_time": "2022-04-14T19:58:33.710Z"
   },
   {
    "duration": 144345,
    "start_time": "2022-04-14T19:58:33.728Z"
   },
   {
    "duration": 17,
    "start_time": "2022-04-14T20:00:58.075Z"
   },
   {
    "duration": 36,
    "start_time": "2022-04-14T20:00:58.094Z"
   },
   {
    "duration": 1489,
    "start_time": "2022-04-15T08:45:06.806Z"
   },
   {
    "duration": 22,
    "start_time": "2022-04-15T08:45:08.297Z"
   },
   {
    "duration": 12,
    "start_time": "2022-04-15T08:45:08.320Z"
   },
   {
    "duration": 23,
    "start_time": "2022-04-15T08:45:08.334Z"
   },
   {
    "duration": 4,
    "start_time": "2022-04-15T08:45:08.359Z"
   },
   {
    "duration": 4683,
    "start_time": "2022-04-15T08:45:08.365Z"
   },
   {
    "duration": 10,
    "start_time": "2022-04-15T08:45:13.050Z"
   },
   {
    "duration": 4,
    "start_time": "2022-04-15T08:45:13.062Z"
   },
   {
    "duration": 5,
    "start_time": "2022-04-15T08:45:13.068Z"
   },
   {
    "duration": 8,
    "start_time": "2022-04-15T08:45:13.075Z"
   },
   {
    "duration": 5,
    "start_time": "2022-04-15T08:45:13.084Z"
   },
   {
    "duration": 56,
    "start_time": "2022-04-15T08:45:13.090Z"
   },
   {
    "duration": 4,
    "start_time": "2022-04-15T08:45:13.147Z"
   },
   {
    "duration": 11,
    "start_time": "2022-04-15T08:45:13.152Z"
   },
   {
    "duration": 1232,
    "start_time": "2022-04-15T08:45:13.165Z"
   },
   {
    "duration": 9,
    "start_time": "2022-04-15T08:45:14.398Z"
   },
   {
    "duration": 8204,
    "start_time": "2022-04-15T08:45:14.409Z"
   },
   {
    "duration": 23,
    "start_time": "2022-04-15T08:45:22.615Z"
   },
   {
    "duration": 16,
    "start_time": "2022-04-15T08:45:22.639Z"
   },
   {
    "duration": 3,
    "start_time": "2022-04-15T08:51:10.972Z"
   },
   {
    "duration": 4,
    "start_time": "2022-04-15T08:52:25.406Z"
   },
   {
    "duration": 29,
    "start_time": "2022-04-15T08:52:25.412Z"
   },
   {
    "duration": 11,
    "start_time": "2022-04-15T08:52:25.443Z"
   },
   {
    "duration": 6,
    "start_time": "2022-04-15T08:52:25.456Z"
   },
   {
    "duration": 6,
    "start_time": "2022-04-15T08:52:25.463Z"
   },
   {
    "duration": 4689,
    "start_time": "2022-04-15T08:52:25.471Z"
   },
   {
    "duration": 10,
    "start_time": "2022-04-15T08:52:30.162Z"
   },
   {
    "duration": 12,
    "start_time": "2022-04-15T08:52:30.173Z"
   },
   {
    "duration": 18,
    "start_time": "2022-04-15T08:52:30.186Z"
   },
   {
    "duration": 19,
    "start_time": "2022-04-15T08:52:30.207Z"
   },
   {
    "duration": 17,
    "start_time": "2022-04-15T08:52:30.228Z"
   },
   {
    "duration": 15,
    "start_time": "2022-04-15T08:52:30.246Z"
   },
   {
    "duration": 157,
    "start_time": "2022-04-15T08:52:30.263Z"
   },
   {
    "duration": 0,
    "start_time": "2022-04-15T08:52:30.422Z"
   },
   {
    "duration": 0,
    "start_time": "2022-04-15T08:52:30.423Z"
   },
   {
    "duration": 4,
    "start_time": "2022-04-15T08:53:10.646Z"
   },
   {
    "duration": 51,
    "start_time": "2022-04-15T08:53:10.652Z"
   },
   {
    "duration": 18,
    "start_time": "2022-04-15T08:53:10.704Z"
   },
   {
    "duration": 28,
    "start_time": "2022-04-15T08:53:10.725Z"
   },
   {
    "duration": 21,
    "start_time": "2022-04-15T08:53:10.755Z"
   },
   {
    "duration": 4615,
    "start_time": "2022-04-15T08:53:10.777Z"
   },
   {
    "duration": 31,
    "start_time": "2022-04-15T08:53:15.394Z"
   },
   {
    "duration": 7,
    "start_time": "2022-04-15T08:53:15.427Z"
   },
   {
    "duration": 13,
    "start_time": "2022-04-15T08:53:15.437Z"
   },
   {
    "duration": 11,
    "start_time": "2022-04-15T08:53:15.453Z"
   },
   {
    "duration": 4,
    "start_time": "2022-04-15T08:53:15.466Z"
   },
   {
    "duration": 3,
    "start_time": "2022-04-15T08:53:15.472Z"
   },
   {
    "duration": 181,
    "start_time": "2022-04-15T08:53:15.477Z"
   },
   {
    "duration": 0,
    "start_time": "2022-04-15T08:53:15.660Z"
   },
   {
    "duration": 0,
    "start_time": "2022-04-15T08:53:15.661Z"
   },
   {
    "duration": 4425,
    "start_time": "2022-04-15T08:53:34.098Z"
   },
   {
    "duration": 4,
    "start_time": "2022-04-15T08:53:47.266Z"
   },
   {
    "duration": 9,
    "start_time": "2022-04-15T08:53:51.355Z"
   },
   {
    "duration": 3656,
    "start_time": "2022-04-15T08:54:19.811Z"
   },
   {
    "duration": 1347,
    "start_time": "2022-04-15T08:54:37.187Z"
   },
   {
    "duration": 577,
    "start_time": "2022-04-15T08:54:42.970Z"
   },
   {
    "duration": 541,
    "start_time": "2022-04-15T08:55:35.074Z"
   },
   {
    "duration": 556,
    "start_time": "2022-04-15T08:55:53.996Z"
   },
   {
    "duration": 315,
    "start_time": "2022-04-15T08:55:59.437Z"
   },
   {
    "duration": 197,
    "start_time": "2022-04-15T08:58:11.979Z"
   },
   {
    "duration": 3,
    "start_time": "2022-04-15T08:58:14.755Z"
   },
   {
    "duration": 8,
    "start_time": "2022-04-15T08:58:15.754Z"
   },
   {
    "duration": 1216,
    "start_time": "2022-04-15T08:58:42.057Z"
   },
   {
    "duration": 893,
    "start_time": "2022-04-15T08:58:47.115Z"
   },
   {
    "duration": 421,
    "start_time": "2022-04-15T08:58:56.371Z"
   },
   {
    "duration": 569,
    "start_time": "2022-04-15T08:59:02.890Z"
   },
   {
    "duration": 436,
    "start_time": "2022-04-15T08:59:07.011Z"
   },
   {
    "duration": 282,
    "start_time": "2022-04-15T08:59:18.842Z"
   },
   {
    "duration": 4,
    "start_time": "2022-04-15T08:59:21.682Z"
   },
   {
    "duration": 10,
    "start_time": "2022-04-15T08:59:23.169Z"
   },
   {
    "duration": 325,
    "start_time": "2022-04-15T08:59:44.938Z"
   },
   {
    "duration": 349,
    "start_time": "2022-04-15T08:59:54.579Z"
   },
   {
    "duration": 4,
    "start_time": "2022-04-15T08:59:56.474Z"
   },
   {
    "duration": 8,
    "start_time": "2022-04-15T08:59:58.067Z"
   },
   {
    "duration": 371,
    "start_time": "2022-04-15T09:00:12.075Z"
   },
   {
    "duration": 4,
    "start_time": "2022-04-15T09:00:13.546Z"
   },
   {
    "duration": 9,
    "start_time": "2022-04-15T09:00:15.202Z"
   },
   {
    "duration": 435,
    "start_time": "2022-04-15T09:00:23.347Z"
   },
   {
    "duration": 4,
    "start_time": "2022-04-15T09:00:24.074Z"
   },
   {
    "duration": 9,
    "start_time": "2022-04-15T09:00:24.818Z"
   },
   {
    "duration": 150,
    "start_time": "2022-04-15T09:00:44.898Z"
   },
   {
    "duration": 1525,
    "start_time": "2022-04-15T09:01:02.746Z"
   },
   {
    "duration": 27,
    "start_time": "2022-04-15T09:01:04.284Z"
   },
   {
    "duration": 9,
    "start_time": "2022-04-15T09:01:04.418Z"
   },
   {
    "duration": 4800,
    "start_time": "2022-04-15T09:02:08.602Z"
   },
   {
    "duration": 6,
    "start_time": "2022-04-15T09:02:15.322Z"
   },
   {
    "duration": 11,
    "start_time": "2022-04-15T09:02:18.427Z"
   },
   {
    "duration": 134,
    "start_time": "2022-04-15T09:03:23.210Z"
   },
   {
    "duration": 133,
    "start_time": "2022-04-15T09:03:28.635Z"
   },
   {
    "duration": 4394,
    "start_time": "2022-04-15T09:03:33.882Z"
   },
   {
    "duration": 3,
    "start_time": "2022-04-15T09:03:38.278Z"
   },
   {
    "duration": 16,
    "start_time": "2022-04-15T09:03:38.282Z"
   },
   {
    "duration": 5963,
    "start_time": "2022-04-15T09:03:55.225Z"
   },
   {
    "duration": 4,
    "start_time": "2022-04-15T09:04:01.190Z"
   },
   {
    "duration": 9,
    "start_time": "2022-04-15T09:04:01.314Z"
   },
   {
    "duration": 7219,
    "start_time": "2022-04-15T09:04:15.778Z"
   },
   {
    "duration": 5,
    "start_time": "2022-04-15T09:04:22.999Z"
   },
   {
    "duration": 27,
    "start_time": "2022-04-15T09:04:23.005Z"
   },
   {
    "duration": 7965,
    "start_time": "2022-04-15T09:04:44.562Z"
   },
   {
    "duration": 7,
    "start_time": "2022-04-15T09:04:52.532Z"
   },
   {
    "duration": 38,
    "start_time": "2022-04-15T09:04:52.541Z"
   },
   {
    "duration": 1742,
    "start_time": "2022-04-15T09:05:47.960Z"
   },
   {
    "duration": 22,
    "start_time": "2022-04-15T09:05:49.704Z"
   },
   {
    "duration": 13,
    "start_time": "2022-04-15T09:05:49.728Z"
   },
   {
    "duration": 36,
    "start_time": "2022-04-15T09:05:49.743Z"
   },
   {
    "duration": 4,
    "start_time": "2022-04-15T09:05:49.781Z"
   },
   {
    "duration": 5051,
    "start_time": "2022-04-15T09:05:49.787Z"
   },
   {
    "duration": 15,
    "start_time": "2022-04-15T09:05:54.843Z"
   },
   {
    "duration": 5,
    "start_time": "2022-04-15T09:05:54.860Z"
   },
   {
    "duration": 11,
    "start_time": "2022-04-15T09:05:54.866Z"
   },
   {
    "duration": 15,
    "start_time": "2022-04-15T09:05:54.880Z"
   },
   {
    "duration": 5,
    "start_time": "2022-04-15T09:05:54.896Z"
   },
   {
    "duration": 5,
    "start_time": "2022-04-15T09:05:54.902Z"
   },
   {
    "duration": 6132,
    "start_time": "2022-04-15T09:05:54.909Z"
   },
   {
    "duration": 4,
    "start_time": "2022-04-15T09:06:01.046Z"
   },
   {
    "duration": 24,
    "start_time": "2022-04-15T09:06:01.053Z"
   },
   {
    "duration": 1331,
    "start_time": "2022-04-15T09:06:01.079Z"
   },
   {
    "duration": 19,
    "start_time": "2022-04-15T09:06:02.411Z"
   },
   {
    "duration": 9870,
    "start_time": "2022-04-15T09:06:02.432Z"
   },
   {
    "duration": 33,
    "start_time": "2022-04-15T09:06:12.304Z"
   },
   {
    "duration": 17,
    "start_time": "2022-04-15T09:06:12.348Z"
   },
   {
    "duration": 132836,
    "start_time": "2022-04-15T09:06:42.337Z"
   },
   {
    "duration": 12,
    "start_time": "2022-04-15T09:08:55.175Z"
   },
   {
    "duration": 139,
    "start_time": "2022-04-15T09:14:11.881Z"
   },
   {
    "duration": 1774,
    "start_time": "2022-04-15T09:20:14.513Z"
   },
   {
    "duration": 26,
    "start_time": "2022-04-15T09:20:16.289Z"
   },
   {
    "duration": 15,
    "start_time": "2022-04-15T09:20:16.317Z"
   },
   {
    "duration": 18,
    "start_time": "2022-04-15T09:20:16.334Z"
   },
   {
    "duration": 6,
    "start_time": "2022-04-15T09:20:16.354Z"
   },
   {
    "duration": 4791,
    "start_time": "2022-04-15T09:20:16.362Z"
   },
   {
    "duration": 10,
    "start_time": "2022-04-15T09:20:21.154Z"
   },
   {
    "duration": 7,
    "start_time": "2022-04-15T09:20:21.166Z"
   },
   {
    "duration": 11,
    "start_time": "2022-04-15T09:20:21.174Z"
   },
   {
    "duration": 11,
    "start_time": "2022-04-15T09:20:21.187Z"
   },
   {
    "duration": 9,
    "start_time": "2022-04-15T09:20:21.200Z"
   },
   {
    "duration": 4,
    "start_time": "2022-04-15T09:20:21.210Z"
   },
   {
    "duration": 4,
    "start_time": "2022-04-15T09:20:21.216Z"
   },
   {
    "duration": 5852,
    "start_time": "2022-04-15T09:20:21.235Z"
   },
   {
    "duration": 4,
    "start_time": "2022-04-15T09:20:27.089Z"
   },
   {
    "duration": 13,
    "start_time": "2022-04-15T09:20:27.095Z"
   },
   {
    "duration": 1269,
    "start_time": "2022-04-15T09:20:27.125Z"
   },
   {
    "duration": 9,
    "start_time": "2022-04-15T09:20:28.395Z"
   },
   {
    "duration": 1449,
    "start_time": "2022-04-15T09:20:46.657Z"
   },
   {
    "duration": 24,
    "start_time": "2022-04-15T09:20:48.108Z"
   },
   {
    "duration": 14,
    "start_time": "2022-04-15T09:20:48.134Z"
   },
   {
    "duration": 14,
    "start_time": "2022-04-15T09:20:48.150Z"
   },
   {
    "duration": 5,
    "start_time": "2022-04-15T09:20:48.167Z"
   },
   {
    "duration": 5340,
    "start_time": "2022-04-15T09:20:48.173Z"
   },
   {
    "duration": 15,
    "start_time": "2022-04-15T09:20:53.515Z"
   },
   {
    "duration": 14,
    "start_time": "2022-04-15T09:20:53.532Z"
   },
   {
    "duration": 9,
    "start_time": "2022-04-15T09:20:53.549Z"
   },
   {
    "duration": 4,
    "start_time": "2022-04-15T09:20:53.559Z"
   },
   {
    "duration": 7,
    "start_time": "2022-04-15T09:20:53.565Z"
   },
   {
    "duration": 6,
    "start_time": "2022-04-15T09:20:53.574Z"
   },
   {
    "duration": 5,
    "start_time": "2022-04-15T09:20:53.581Z"
   },
   {
    "duration": 5005,
    "start_time": "2022-04-15T09:20:53.589Z"
   },
   {
    "duration": 5,
    "start_time": "2022-04-15T09:20:58.596Z"
   },
   {
    "duration": 24,
    "start_time": "2022-04-15T09:20:58.603Z"
   },
   {
    "duration": 1168,
    "start_time": "2022-04-15T09:20:58.629Z"
   },
   {
    "duration": 8,
    "start_time": "2022-04-15T09:20:59.799Z"
   },
   {
    "duration": 293433,
    "start_time": "2022-04-15T09:20:59.823Z"
   },
   {
    "duration": 13,
    "start_time": "2022-04-15T09:25:53.257Z"
   },
   {
    "duration": 12,
    "start_time": "2022-04-15T09:25:53.271Z"
   },
   {
    "duration": 3,
    "start_time": "2022-04-15T10:06:45.426Z"
   },
   {
    "duration": 1441,
    "start_time": "2022-04-15T10:06:55.630Z"
   },
   {
    "duration": 26,
    "start_time": "2022-04-15T10:06:57.073Z"
   },
   {
    "duration": 10,
    "start_time": "2022-04-15T10:06:57.100Z"
   },
   {
    "duration": 12,
    "start_time": "2022-04-15T10:06:57.112Z"
   },
   {
    "duration": 5,
    "start_time": "2022-04-15T10:06:57.125Z"
   },
   {
    "duration": 4369,
    "start_time": "2022-04-15T10:06:57.131Z"
   },
   {
    "duration": 10,
    "start_time": "2022-04-15T10:07:01.502Z"
   },
   {
    "duration": 11,
    "start_time": "2022-04-15T10:07:01.514Z"
   },
   {
    "duration": 23,
    "start_time": "2022-04-15T10:07:01.526Z"
   },
   {
    "duration": 11,
    "start_time": "2022-04-15T10:07:01.552Z"
   },
   {
    "duration": 21,
    "start_time": "2022-04-15T10:07:01.564Z"
   },
   {
    "duration": 19,
    "start_time": "2022-04-15T10:07:01.587Z"
   },
   {
    "duration": 12,
    "start_time": "2022-04-15T10:07:01.608Z"
   },
   {
    "duration": 3763,
    "start_time": "2022-04-15T10:07:01.622Z"
   },
   {
    "duration": 5,
    "start_time": "2022-04-15T10:07:05.386Z"
   },
   {
    "duration": 13,
    "start_time": "2022-04-15T10:07:05.392Z"
   },
   {
    "duration": 959,
    "start_time": "2022-04-15T10:07:05.406Z"
   },
   {
    "duration": 7,
    "start_time": "2022-04-15T10:07:06.366Z"
   },
   {
    "duration": 266350,
    "start_time": "2022-04-15T10:07:06.374Z"
   },
   {
    "duration": 13,
    "start_time": "2022-04-15T10:11:32.726Z"
   },
   {
    "duration": 13,
    "start_time": "2022-04-15T10:11:32.741Z"
   },
   {
    "duration": 1443,
    "start_time": "2022-04-15T10:36:59.740Z"
   },
   {
    "duration": 27,
    "start_time": "2022-04-15T10:37:01.185Z"
   },
   {
    "duration": 16,
    "start_time": "2022-04-15T10:37:01.214Z"
   },
   {
    "duration": 22,
    "start_time": "2022-04-15T10:37:01.233Z"
   },
   {
    "duration": 6,
    "start_time": "2022-04-15T10:37:01.257Z"
   },
   {
    "duration": 7043,
    "start_time": "2022-04-15T10:37:01.265Z"
   },
   {
    "duration": 13,
    "start_time": "2022-04-15T10:37:08.310Z"
   },
   {
    "duration": 16,
    "start_time": "2022-04-15T10:37:08.325Z"
   },
   {
    "duration": 32,
    "start_time": "2022-04-15T10:37:08.343Z"
   },
   {
    "duration": 21,
    "start_time": "2022-04-15T10:37:08.378Z"
   },
   {
    "duration": 37,
    "start_time": "2022-04-15T10:37:08.401Z"
   },
   {
    "duration": 33,
    "start_time": "2022-04-15T10:37:08.440Z"
   },
   {
    "duration": 9,
    "start_time": "2022-04-15T10:37:08.475Z"
   },
   {
    "duration": 8951,
    "start_time": "2022-04-15T10:37:08.486Z"
   },
   {
    "duration": 5,
    "start_time": "2022-04-15T10:37:17.439Z"
   },
   {
    "duration": 12,
    "start_time": "2022-04-15T10:37:17.446Z"
   },
   {
    "duration": 1724,
    "start_time": "2022-04-15T10:37:17.460Z"
   },
   {
    "duration": 8,
    "start_time": "2022-04-15T10:37:19.186Z"
   },
   {
    "duration": 345722,
    "start_time": "2022-04-15T10:37:19.195Z"
   },
   {
    "duration": 13,
    "start_time": "2022-04-15T10:43:04.919Z"
   },
   {
    "duration": 12,
    "start_time": "2022-04-15T10:43:04.933Z"
   },
   {
    "duration": 2,
    "start_time": "2022-04-15T10:45:22.470Z"
   },
   {
    "duration": 215,
    "start_time": "2022-04-15T14:20:33.354Z"
   },
   {
    "duration": 243,
    "start_time": "2022-04-15T14:22:09.451Z"
   },
   {
    "duration": 66,
    "start_time": "2022-04-15T14:28:39.315Z"
   },
   {
    "duration": 2606,
    "start_time": "2022-04-15T14:28:47.049Z"
   },
   {
    "duration": 107,
    "start_time": "2022-04-15T14:28:52.304Z"
   },
   {
    "duration": 2029,
    "start_time": "2022-04-15T14:29:04.532Z"
   },
   {
    "duration": 36,
    "start_time": "2022-04-15T14:29:06.564Z"
   },
   {
    "duration": 17,
    "start_time": "2022-04-15T14:29:06.602Z"
   },
   {
    "duration": 22,
    "start_time": "2022-04-15T14:29:06.622Z"
   },
   {
    "duration": 9,
    "start_time": "2022-04-15T14:29:06.646Z"
   },
   {
    "duration": 7585,
    "start_time": "2022-04-15T14:29:06.657Z"
   },
   {
    "duration": 15,
    "start_time": "2022-04-15T14:29:14.244Z"
   },
   {
    "duration": 3,
    "start_time": "2022-04-15T14:29:14.261Z"
   },
   {
    "duration": 7,
    "start_time": "2022-04-15T14:29:14.267Z"
   },
   {
    "duration": 4,
    "start_time": "2022-04-15T14:29:14.293Z"
   },
   {
    "duration": 10,
    "start_time": "2022-04-15T14:29:14.299Z"
   },
   {
    "duration": 5,
    "start_time": "2022-04-15T14:29:14.311Z"
   },
   {
    "duration": 5,
    "start_time": "2022-04-15T14:29:14.318Z"
   },
   {
    "duration": 9950,
    "start_time": "2022-04-15T14:29:14.325Z"
   },
   {
    "duration": 15,
    "start_time": "2022-04-15T14:29:24.278Z"
   },
   {
    "duration": 21,
    "start_time": "2022-04-15T14:29:24.296Z"
   },
   {
    "duration": 3034,
    "start_time": "2022-04-15T14:29:24.320Z"
   },
   {
    "duration": 15,
    "start_time": "2022-04-15T14:29:27.357Z"
   },
   {
    "duration": 3347,
    "start_time": "2022-04-15T14:29:27.393Z"
   },
   {
    "duration": 20,
    "start_time": "2022-04-15T14:29:30.743Z"
   },
   {
    "duration": 41,
    "start_time": "2022-04-15T14:29:30.766Z"
   },
   {
    "duration": 183,
    "start_time": "2022-04-15T14:29:30.810Z"
   },
   {
    "duration": 10,
    "start_time": "2022-04-15T14:31:20.840Z"
   },
   {
    "duration": 211,
    "start_time": "2022-04-15T14:33:52.028Z"
   }
  ],
  "kernelspec": {
   "display_name": "Python 3 (ipykernel)",
   "language": "python",
   "name": "python3"
  },
  "language_info": {
   "codemirror_mode": {
    "name": "ipython",
    "version": 3
   },
   "file_extension": ".py",
   "mimetype": "text/x-python",
   "name": "python",
   "nbconvert_exporter": "python",
   "pygments_lexer": "ipython3",
   "version": "3.9.7"
  },
  "toc": {
   "base_numbering": 1,
   "nav_menu": {},
   "number_sections": true,
   "sideBar": true,
   "skip_h1_title": true,
   "title_cell": "Table of Contents",
   "title_sidebar": "Contents",
   "toc_cell": false,
   "toc_position": {},
   "toc_section_display": true,
   "toc_window_display": false
  }
 },
 "nbformat": 4,
 "nbformat_minor": 2
}
