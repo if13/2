{
 "cells": [
  {
   "cell_type": "markdown",
   "metadata": {
    "toc": true
   },
   "source": [
    "<h1>Содержание<span class=\"tocSkip\"></span></h1>\n",
    "<div class=\"toc\"><ul class=\"toc-item\"><li><span><a href=\"#Подготовка-данных\" data-toc-modified-id=\"Подготовка-данных-1\"><span class=\"toc-item-num\">1&nbsp;&nbsp;</span>Подготовка данных</a></span></li><li><span><a href=\"#Исследование-задачи\" data-toc-modified-id=\"Исследование-задачи-2\"><span class=\"toc-item-num\">2&nbsp;&nbsp;</span>Исследование задачи</a></span></li><li><span><a href=\"#Борьба-с-дисбалансом\" data-toc-modified-id=\"Борьба-с-дисбалансом-3\"><span class=\"toc-item-num\">3&nbsp;&nbsp;</span>Борьба с дисбалансом</a></span></li><li><span><a href=\"#Тестирование-модели\" data-toc-modified-id=\"Тестирование-модели-4\"><span class=\"toc-item-num\">4&nbsp;&nbsp;</span>Тестирование модели</a></span></li><li><span><a href=\"#Чек-лист-готовности-проекта\" data-toc-modified-id=\"Чек-лист-готовности-проекта-5\"><span class=\"toc-item-num\">5&nbsp;&nbsp;</span>Чек-лист готовности проекта</a></span></li></ul></div>"
   ]
  },
  {
   "cell_type": "markdown",
   "metadata": {},
   "source": [
    "# Отток клиентов"
   ]
  },
  {
   "cell_type": "markdown",
   "metadata": {},
   "source": [
    "Из «Бета-Банка» стали уходить клиенты. Каждый месяц. Немного, но заметно. Банковские маркетологи посчитали: сохранять текущих клиентов дешевле, чем привлекать новых.\n",
    "\n",
    "Нужно спрогнозировать, уйдёт клиент из банка в ближайшее время или нет. Вам предоставлены исторические данные о поведении клиентов и расторжении договоров с банком. \n",
    "\n",
    "Постройте модель с предельно большим значением *F1*-меры. Чтобы сдать проект успешно, нужно довести метрику до 0.59. Проверьте *F1*-меру на тестовой выборке самостоятельно.\n",
    "\n",
    "Дополнительно измеряйте *AUC-ROC*, сравнивайте её значение с *F1*-мерой.\n",
    "\n",
    "Источник данных: [https://www.kaggle.com/barelydedicated/bank-customer-churn-modeling](https://www.kaggle.com/barelydedicated/bank-customer-churn-modeling)\n",
    "\n",
    "Признаки:\n",
    "- RowNumber — индекс строки в данных\n",
    "- CustomerId — уникальный идентификатор клиента\n",
    "- Surname — фамилия\n",
    "- CreditScore — кредитный рейтинг\n",
    "- Geography — страна проживания\n",
    "- Gender — пол\n",
    "- Age — возраст\n",
    "- Tenure — количество недвижимости у клиента\n",
    "- Balance — баланс на счёте\n",
    "- NumOfProducts — количество продуктов банка, используемых клиентом\n",
    "- HasCrCard — наличие кредитной карты\n",
    "- IsActiveMember — активность клиента\n",
    "- EstimatedSalary — предполагаемая зарплата\n",
    "- Exited — факт ухода клиента"
   ]
  },
  {
   "cell_type": "markdown",
   "metadata": {},
   "source": [
    "## Подготовка данных"
   ]
  },
  {
   "cell_type": "code",
   "execution_count": 1,
   "metadata": {},
   "outputs": [],
   "source": [
    "import pandas as pd\n",
    "import numpy as np\n",
    "import seaborn as sns\n",
    "import matplotlib.pyplot as plt \n",
    "from sklearn.utils import resample\n",
    "from sklearn.ensemble import RandomForestClassifier\n",
    "from sklearn.ensemble import RandomForestRegressor\n",
    "from sklearn.model_selection import train_test_split\n",
    "from sklearn.model_selection import RandomizedSearchCV, GridSearchCV\n",
    "from sklearn.metrics import f1_score, confusion_matrix, roc_auc_score, ConfusionMatrixDisplay, precision_score\n"
   ]
  },
  {
   "cell_type": "code",
   "execution_count": 2,
   "metadata": {},
   "outputs": [
    {
     "data": {
      "text/html": [
       "<div>\n",
       "<style scoped>\n",
       "    .dataframe tbody tr th:only-of-type {\n",
       "        vertical-align: middle;\n",
       "    }\n",
       "\n",
       "    .dataframe tbody tr th {\n",
       "        vertical-align: top;\n",
       "    }\n",
       "\n",
       "    .dataframe thead th {\n",
       "        text-align: right;\n",
       "    }\n",
       "</style>\n",
       "<table border=\"1\" class=\"dataframe\">\n",
       "  <thead>\n",
       "    <tr style=\"text-align: right;\">\n",
       "      <th></th>\n",
       "      <th>RowNumber</th>\n",
       "      <th>CustomerId</th>\n",
       "      <th>Surname</th>\n",
       "      <th>CreditScore</th>\n",
       "      <th>Geography</th>\n",
       "      <th>Gender</th>\n",
       "      <th>Age</th>\n",
       "      <th>Tenure</th>\n",
       "      <th>Balance</th>\n",
       "      <th>NumOfProducts</th>\n",
       "      <th>HasCrCard</th>\n",
       "      <th>IsActiveMember</th>\n",
       "      <th>EstimatedSalary</th>\n",
       "      <th>Exited</th>\n",
       "    </tr>\n",
       "  </thead>\n",
       "  <tbody>\n",
       "    <tr>\n",
       "      <th>0</th>\n",
       "      <td>1</td>\n",
       "      <td>15634602</td>\n",
       "      <td>Hargrave</td>\n",
       "      <td>619</td>\n",
       "      <td>France</td>\n",
       "      <td>Female</td>\n",
       "      <td>42</td>\n",
       "      <td>2.0</td>\n",
       "      <td>0.00</td>\n",
       "      <td>1</td>\n",
       "      <td>1</td>\n",
       "      <td>1</td>\n",
       "      <td>101348.88</td>\n",
       "      <td>1</td>\n",
       "    </tr>\n",
       "    <tr>\n",
       "      <th>1</th>\n",
       "      <td>2</td>\n",
       "      <td>15647311</td>\n",
       "      <td>Hill</td>\n",
       "      <td>608</td>\n",
       "      <td>Spain</td>\n",
       "      <td>Female</td>\n",
       "      <td>41</td>\n",
       "      <td>1.0</td>\n",
       "      <td>83807.86</td>\n",
       "      <td>1</td>\n",
       "      <td>0</td>\n",
       "      <td>1</td>\n",
       "      <td>112542.58</td>\n",
       "      <td>0</td>\n",
       "    </tr>\n",
       "    <tr>\n",
       "      <th>2</th>\n",
       "      <td>3</td>\n",
       "      <td>15619304</td>\n",
       "      <td>Onio</td>\n",
       "      <td>502</td>\n",
       "      <td>France</td>\n",
       "      <td>Female</td>\n",
       "      <td>42</td>\n",
       "      <td>8.0</td>\n",
       "      <td>159660.80</td>\n",
       "      <td>3</td>\n",
       "      <td>1</td>\n",
       "      <td>0</td>\n",
       "      <td>113931.57</td>\n",
       "      <td>1</td>\n",
       "    </tr>\n",
       "    <tr>\n",
       "      <th>3</th>\n",
       "      <td>4</td>\n",
       "      <td>15701354</td>\n",
       "      <td>Boni</td>\n",
       "      <td>699</td>\n",
       "      <td>France</td>\n",
       "      <td>Female</td>\n",
       "      <td>39</td>\n",
       "      <td>1.0</td>\n",
       "      <td>0.00</td>\n",
       "      <td>2</td>\n",
       "      <td>0</td>\n",
       "      <td>0</td>\n",
       "      <td>93826.63</td>\n",
       "      <td>0</td>\n",
       "    </tr>\n",
       "    <tr>\n",
       "      <th>4</th>\n",
       "      <td>5</td>\n",
       "      <td>15737888</td>\n",
       "      <td>Mitchell</td>\n",
       "      <td>850</td>\n",
       "      <td>Spain</td>\n",
       "      <td>Female</td>\n",
       "      <td>43</td>\n",
       "      <td>2.0</td>\n",
       "      <td>125510.82</td>\n",
       "      <td>1</td>\n",
       "      <td>1</td>\n",
       "      <td>1</td>\n",
       "      <td>79084.10</td>\n",
       "      <td>0</td>\n",
       "    </tr>\n",
       "  </tbody>\n",
       "</table>\n",
       "</div>"
      ],
      "text/plain": [
       "   RowNumber  CustomerId   Surname  CreditScore Geography  Gender  Age  \\\n",
       "0          1    15634602  Hargrave          619    France  Female   42   \n",
       "1          2    15647311      Hill          608     Spain  Female   41   \n",
       "2          3    15619304      Onio          502    France  Female   42   \n",
       "3          4    15701354      Boni          699    France  Female   39   \n",
       "4          5    15737888  Mitchell          850     Spain  Female   43   \n",
       "\n",
       "   Tenure    Balance  NumOfProducts  HasCrCard  IsActiveMember  \\\n",
       "0     2.0       0.00              1          1               1   \n",
       "1     1.0   83807.86              1          0               1   \n",
       "2     8.0  159660.80              3          1               0   \n",
       "3     1.0       0.00              2          0               0   \n",
       "4     2.0  125510.82              1          1               1   \n",
       "\n",
       "   EstimatedSalary  Exited  \n",
       "0        101348.88       1  \n",
       "1        112542.58       0  \n",
       "2        113931.57       1  \n",
       "3         93826.63       0  \n",
       "4         79084.10       0  "
      ]
     },
     "execution_count": 2,
     "metadata": {},
     "output_type": "execute_result"
    }
   ],
   "source": [
    "df = pd.read_csv('/datasets/Churn.csv')\n",
    "df.head()"
   ]
  },
  {
   "cell_type": "markdown",
   "metadata": {},
   "source": [
    "Посмотрим на вид данных."
   ]
  },
  {
   "cell_type": "code",
   "execution_count": 3,
   "metadata": {},
   "outputs": [
    {
     "name": "stdout",
     "output_type": "stream",
     "text": [
      "<class 'pandas.core.frame.DataFrame'>\n",
      "RangeIndex: 10000 entries, 0 to 9999\n",
      "Data columns (total 14 columns):\n",
      " #   Column           Non-Null Count  Dtype  \n",
      "---  ------           --------------  -----  \n",
      " 0   RowNumber        10000 non-null  int64  \n",
      " 1   CustomerId       10000 non-null  int64  \n",
      " 2   Surname          10000 non-null  object \n",
      " 3   CreditScore      10000 non-null  int64  \n",
      " 4   Geography        10000 non-null  object \n",
      " 5   Gender           10000 non-null  object \n",
      " 6   Age              10000 non-null  int64  \n",
      " 7   Tenure           9091 non-null   float64\n",
      " 8   Balance          10000 non-null  float64\n",
      " 9   NumOfProducts    10000 non-null  int64  \n",
      " 10  HasCrCard        10000 non-null  int64  \n",
      " 11  IsActiveMember   10000 non-null  int64  \n",
      " 12  EstimatedSalary  10000 non-null  float64\n",
      " 13  Exited           10000 non-null  int64  \n",
      "dtypes: float64(3), int64(8), object(3)\n",
      "memory usage: 1.1+ MB\n"
     ]
    }
   ],
   "source": [
    "df.info()"
   ]
  },
  {
   "cell_type": "markdown",
   "metadata": {},
   "source": [
    "Я решил провести небольшой эксперимент и заполнять не нулями, а предсказывать значения. Спойлер: показатели точности ухудшились, ниже я вернусь к заполнению пропусков нулями. Данный блок эксперимента удалять не стал :)\n"
   ]
  },
  {
   "cell_type": "code",
   "execution_count": 4,
   "metadata": {},
   "outputs": [],
   "source": [
    "#Имеем пропуски в Tenure (количество недвижимости у клиента). Пропуски скорее всего означают нулевые значения. #После замены пропусков скорректируем тип данных.\n",
    "\n",
    "#df['Tenure'] = df['Tenure'].fillna(0).astype(int)\n",
    "\n"
   ]
  },
  {
   "cell_type": "markdown",
   "metadata": {},
   "source": [
    "Удалим столбцы не содержащие признаки для обучения модели и округлим значения."
   ]
  },
  {
   "cell_type": "code",
   "execution_count": 5,
   "metadata": {},
   "outputs": [
    {
     "data": {
      "text/plain": [
       "Index(['RowNumber', 'CustomerId', 'Surname', 'CreditScore', 'Geography',\n",
       "       'Gender', 'Age', 'Tenure', 'Balance', 'NumOfProducts', 'HasCrCard',\n",
       "       'IsActiveMember', 'EstimatedSalary', 'Exited'],\n",
       "      dtype='object')"
      ]
     },
     "execution_count": 5,
     "metadata": {},
     "output_type": "execute_result"
    }
   ],
   "source": [
    "df.columns # для копипаста"
   ]
  },
  {
   "cell_type": "code",
   "execution_count": 6,
   "metadata": {},
   "outputs": [
    {
     "data": {
      "text/html": [
       "<div>\n",
       "<style scoped>\n",
       "    .dataframe tbody tr th:only-of-type {\n",
       "        vertical-align: middle;\n",
       "    }\n",
       "\n",
       "    .dataframe tbody tr th {\n",
       "        vertical-align: top;\n",
       "    }\n",
       "\n",
       "    .dataframe thead th {\n",
       "        text-align: right;\n",
       "    }\n",
       "</style>\n",
       "<table border=\"1\" class=\"dataframe\">\n",
       "  <thead>\n",
       "    <tr style=\"text-align: right;\">\n",
       "      <th></th>\n",
       "      <th>CreditScore</th>\n",
       "      <th>Geography</th>\n",
       "      <th>Gender</th>\n",
       "      <th>Age</th>\n",
       "      <th>Tenure</th>\n",
       "      <th>Balance</th>\n",
       "      <th>NumOfProducts</th>\n",
       "      <th>HasCrCard</th>\n",
       "      <th>IsActiveMember</th>\n",
       "      <th>EstimatedSalary</th>\n",
       "      <th>Exited</th>\n",
       "    </tr>\n",
       "  </thead>\n",
       "  <tbody>\n",
       "    <tr>\n",
       "      <th>0</th>\n",
       "      <td>619</td>\n",
       "      <td>France</td>\n",
       "      <td>Female</td>\n",
       "      <td>42</td>\n",
       "      <td>2.0</td>\n",
       "      <td>0</td>\n",
       "      <td>1</td>\n",
       "      <td>1</td>\n",
       "      <td>1</td>\n",
       "      <td>101349</td>\n",
       "      <td>1</td>\n",
       "    </tr>\n",
       "    <tr>\n",
       "      <th>1</th>\n",
       "      <td>608</td>\n",
       "      <td>Spain</td>\n",
       "      <td>Female</td>\n",
       "      <td>41</td>\n",
       "      <td>1.0</td>\n",
       "      <td>83808</td>\n",
       "      <td>1</td>\n",
       "      <td>0</td>\n",
       "      <td>1</td>\n",
       "      <td>112543</td>\n",
       "      <td>0</td>\n",
       "    </tr>\n",
       "    <tr>\n",
       "      <th>2</th>\n",
       "      <td>502</td>\n",
       "      <td>France</td>\n",
       "      <td>Female</td>\n",
       "      <td>42</td>\n",
       "      <td>8.0</td>\n",
       "      <td>159661</td>\n",
       "      <td>3</td>\n",
       "      <td>1</td>\n",
       "      <td>0</td>\n",
       "      <td>113932</td>\n",
       "      <td>1</td>\n",
       "    </tr>\n",
       "    <tr>\n",
       "      <th>3</th>\n",
       "      <td>699</td>\n",
       "      <td>France</td>\n",
       "      <td>Female</td>\n",
       "      <td>39</td>\n",
       "      <td>1.0</td>\n",
       "      <td>0</td>\n",
       "      <td>2</td>\n",
       "      <td>0</td>\n",
       "      <td>0</td>\n",
       "      <td>93827</td>\n",
       "      <td>0</td>\n",
       "    </tr>\n",
       "    <tr>\n",
       "      <th>4</th>\n",
       "      <td>850</td>\n",
       "      <td>Spain</td>\n",
       "      <td>Female</td>\n",
       "      <td>43</td>\n",
       "      <td>2.0</td>\n",
       "      <td>125511</td>\n",
       "      <td>1</td>\n",
       "      <td>1</td>\n",
       "      <td>1</td>\n",
       "      <td>79084</td>\n",
       "      <td>0</td>\n",
       "    </tr>\n",
       "  </tbody>\n",
       "</table>\n",
       "</div>"
      ],
      "text/plain": [
       "   CreditScore Geography  Gender  Age  Tenure  Balance  NumOfProducts  \\\n",
       "0          619    France  Female   42     2.0        0              1   \n",
       "1          608     Spain  Female   41     1.0    83808              1   \n",
       "2          502    France  Female   42     8.0   159661              3   \n",
       "3          699    France  Female   39     1.0        0              2   \n",
       "4          850     Spain  Female   43     2.0   125511              1   \n",
       "\n",
       "   HasCrCard  IsActiveMember  EstimatedSalary  Exited  \n",
       "0          1               1           101349       1  \n",
       "1          0               1           112543       0  \n",
       "2          1               0           113932       1  \n",
       "3          0               0            93827       0  \n",
       "4          1               1            79084       0  "
      ]
     },
     "execution_count": 6,
     "metadata": {},
     "output_type": "execute_result"
    }
   ],
   "source": [
    "df.drop(['RowNumber', 'CustomerId', 'Surname'], axis=1, inplace=True)\n",
    "df[['Balance', 'EstimatedSalary']] = df[['Balance', 'EstimatedSalary']].round(0).astype('int')\n",
    "df.head()"
   ]
  },
  {
   "cell_type": "code",
   "execution_count": 7,
   "metadata": {},
   "outputs": [
    {
     "data": {
      "text/plain": [
       "0"
      ]
     },
     "execution_count": 7,
     "metadata": {},
     "output_type": "execute_result"
    }
   ],
   "source": [
    "df.duplicated().sum() # глянем на явные дубли."
   ]
  },
  {
   "cell_type": "markdown",
   "metadata": {},
   "source": [
    "## Исследование задачи"
   ]
  },
  {
   "cell_type": "code",
   "execution_count": 8,
   "metadata": {},
   "outputs": [
    {
     "data": {
      "image/png": "[encoded data removed]",
      "text/plain": [
       "<Figure size 432x432 with 2 Axes>"
      ]
     },
     "metadata": {
      "needs_background": "light"
     },
     "output_type": "display_data"
    }
   ],
   "source": [
    "plt.figure(figsize=(6, 6))\n",
    "sns.heatmap(df.corr(), annot=True, fmt='.2f', cmap='RdYlGn')\n",
    "plt.title('Корреляция между признаками')\n",
    "plt.show()"
   ]
  },
  {
   "cell_type": "markdown",
   "metadata": {},
   "source": [
    "Видно явное влияние возраста на целевой признак. Также из всех признаков заметно влияние признаков 'IsActiveMember' и  'Balance'. Данный факт не поможет модели обучения, но было интересно это увидеть (я попробовал удалять признаки с 0.01 по модулю значением перед обучением модели, значимого результата не было получено)."
   ]
  },
  {
   "cell_type": "code",
   "execution_count": 9,
   "metadata": {},
   "outputs": [],
   "source": [
    "#Перекодируем категориальные признаки\n",
    "df = pd.get_dummies(df, drop_first=True)\n",
    "df.head(3)\n",
    "df0 = df.copy()"
   ]
  },
  {
   "cell_type": "code",
   "execution_count": 10,
   "metadata": {},
   "outputs": [
    {
     "data": {
      "text/plain": [
       "count    9091.000000\n",
       "mean        4.997690\n",
       "std         2.894723\n",
       "min         0.000000\n",
       "25%         2.000000\n",
       "50%         5.000000\n",
       "75%         7.000000\n",
       "max        10.000000\n",
       "Name: Tenure, dtype: float64"
      ]
     },
     "execution_count": 10,
     "metadata": {},
     "output_type": "execute_result"
    }
   ],
   "source": [
    "df.Tenure.describe()"
   ]
  },
  {
   "cell_type": "code",
   "execution_count": 11,
   "metadata": {},
   "outputs": [],
   "source": [
    "RS = 123\n",
    "\n",
    "#выделяем часть данных, где имеем пропуски, сохраняем и потом удаляем их из общих данных\n",
    "df_tenure_pred = df[df['Tenure'].isna()]\n",
    "df = df.dropna()\n",
    "\n",
    "#Выделяем фичи и целевой признак для обучения\n",
    "X = df.drop(['Tenure'], axis=1)\n",
    "y = df['Tenure']\n",
    "\n",
    "#берем фичи, где хотим предсказывать целевой признак\n",
    "X_pred = df_tenure_pred.drop(['Tenure'], axis=1)\n",
    "\n",
    "#разбиваем выборку на обучающую и тестовую\n",
    "(X_train, X_test, y_train, y_test) = train_test_split(X, y, test_size=1/4, random_state=RS)"
   ]
  },
  {
   "cell_type": "code",
   "execution_count": 12,
   "metadata": {},
   "outputs": [
    {
     "data": {
      "text/plain": [
       "(9091, 12)"
      ]
     },
     "execution_count": 12,
     "metadata": {},
     "output_type": "execute_result"
    }
   ],
   "source": [
    "df.shape"
   ]
  },
  {
   "cell_type": "code",
   "execution_count": 13,
   "metadata": {},
   "outputs": [
    {
     "data": {
      "text/plain": [
       "(909, 12)"
      ]
     },
     "execution_count": 13,
     "metadata": {},
     "output_type": "execute_result"
    }
   ],
   "source": [
    "df_tenure_pred.shape"
   ]
  },
  {
   "cell_type": "code",
   "execution_count": 14,
   "metadata": {},
   "outputs": [
    {
     "data": {
      "text/plain": [
       "{'n_estimators': 69, 'max_depth': 5}"
      ]
     },
     "execution_count": 14,
     "metadata": {},
     "output_type": "execute_result"
    }
   ],
   "source": [
    "# подтягиваем код который уже писали ниже. На этом этапе уже стоило бы написать функцию, \n",
    "# но так как все проект правлю на коленке, просто скопипастю\n",
    "\n",
    "params = {'n_estimators': range(5, 100) , 'max_depth': range(1, 20)} \n",
    "rfc = RandomForestClassifier(random_state=RS)\n",
    "clf = RandomizedSearchCV(rfc, params, n_jobs=-1, cv=2)\n",
    "clf.fit(X_train, y_train)\n",
    "clf.best_params_  "
   ]
  },
  {
   "cell_type": "code",
   "execution_count": 15,
   "metadata": {},
   "outputs": [
    {
     "data": {
      "text/plain": [
       "0.10910690717113947"
      ]
     },
     "execution_count": 15,
     "metadata": {},
     "output_type": "execute_result"
    }
   ],
   "source": [
    "clf.score(X_test, y_test) "
   ]
  },
  {
   "cell_type": "code",
   "execution_count": 16,
   "metadata": {
    "scrolled": true
   },
   "outputs": [
    {
     "data": {
      "text/plain": [
       "array([1., 2., 2., 1., 3., 8., 2., 2., 1., 1., 2., 7., 8., 1., 2., 7., 7.,\n",
       "       1., 8., 8., 2., 8., 1., 9., 2., 1., 5., 8., 4., 9., 8., 7., 7., 2.,\n",
       "       4., 1., 5., 1., 7., 7., 6., 8., 1., 8., 1., 1., 3., 1., 1., 1., 5.,\n",
       "       1., 5., 1., 7., 7., 1., 5., 9., 1., 2., 5., 5., 2., 8., 2., 5., 7.,\n",
       "       5., 1., 8., 7., 9., 1., 1., 2., 4., 1., 2., 6., 8., 8., 2., 8., 5.,\n",
       "       1., 2., 2., 8., 5., 5., 4., 2., 7., 8., 8., 5., 2., 7., 1., 2., 1.,\n",
       "       1., 1., 1., 7., 2., 7., 5., 1., 2., 2., 1., 5., 1., 1., 3., 5., 1.,\n",
       "       1., 1., 1., 9., 1., 2., 8., 1., 5., 1., 1., 5., 1., 1., 7., 2., 1.,\n",
       "       4., 9., 1., 1., 1., 8., 6., 5., 2., 1., 2., 1., 5., 7., 5., 1., 2.,\n",
       "       1., 8., 2., 2., 1., 2., 2., 4., 7., 2., 2., 8., 1., 5., 1., 2., 1.,\n",
       "       9., 6., 7., 7., 2., 8., 3., 5., 7., 8., 7., 1., 7., 3., 7., 1., 2.,\n",
       "       5., 1., 5., 1., 8., 5., 5., 2., 7., 7., 1., 2., 1.])"
      ]
     },
     "execution_count": 16,
     "metadata": {},
     "output_type": "execute_result"
    }
   ],
   "source": [
    "y = clf.predict(X_pred)\n",
    "y[100:300]"
   ]
  },
  {
   "cell_type": "markdown",
   "metadata": {},
   "source": [
    "Похоже, что модель предсказывает адекватные данные."
   ]
  },
  {
   "cell_type": "code",
   "execution_count": 17,
   "metadata": {},
   "outputs": [
    {
     "data": {
      "text/html": [
       "<div>\n",
       "<style scoped>\n",
       "    .dataframe tbody tr th:only-of-type {\n",
       "        vertical-align: middle;\n",
       "    }\n",
       "\n",
       "    .dataframe tbody tr th {\n",
       "        vertical-align: top;\n",
       "    }\n",
       "\n",
       "    .dataframe thead th {\n",
       "        text-align: right;\n",
       "    }\n",
       "</style>\n",
       "<table border=\"1\" class=\"dataframe\">\n",
       "  <thead>\n",
       "    <tr style=\"text-align: right;\">\n",
       "      <th></th>\n",
       "      <th>CreditScore</th>\n",
       "      <th>Age</th>\n",
       "      <th>Balance</th>\n",
       "      <th>NumOfProducts</th>\n",
       "      <th>HasCrCard</th>\n",
       "      <th>IsActiveMember</th>\n",
       "      <th>EstimatedSalary</th>\n",
       "      <th>Exited</th>\n",
       "      <th>Geography_Germany</th>\n",
       "      <th>Geography_Spain</th>\n",
       "      <th>Gender_Male</th>\n",
       "      <th>0</th>\n",
       "    </tr>\n",
       "  </thead>\n",
       "  <tbody>\n",
       "    <tr>\n",
       "      <th>30</th>\n",
       "      <td>591</td>\n",
       "      <td>39</td>\n",
       "      <td>0</td>\n",
       "      <td>3</td>\n",
       "      <td>1</td>\n",
       "      <td>0</td>\n",
       "      <td>140469</td>\n",
       "      <td>1</td>\n",
       "      <td>0</td>\n",
       "      <td>1</td>\n",
       "      <td>0</td>\n",
       "      <td>5.0</td>\n",
       "    </tr>\n",
       "    <tr>\n",
       "      <th>48</th>\n",
       "      <td>550</td>\n",
       "      <td>38</td>\n",
       "      <td>103391</td>\n",
       "      <td>1</td>\n",
       "      <td>0</td>\n",
       "      <td>1</td>\n",
       "      <td>90878</td>\n",
       "      <td>0</td>\n",
       "      <td>1</td>\n",
       "      <td>0</td>\n",
       "      <td>1</td>\n",
       "      <td>1.0</td>\n",
       "    </tr>\n",
       "  </tbody>\n",
       "</table>\n",
       "</div>"
      ],
      "text/plain": [
       "    CreditScore  Age  Balance  NumOfProducts  HasCrCard  IsActiveMember  \\\n",
       "30          591   39        0              3          1               0   \n",
       "48          550   38   103391              1          0               1   \n",
       "\n",
       "    EstimatedSalary  Exited  Geography_Germany  Geography_Spain  Gender_Male  \\\n",
       "30           140469       1                  0                1            0   \n",
       "48            90878       0                  1                0            1   \n",
       "\n",
       "      0  \n",
       "30  5.0  \n",
       "48  1.0  "
      ]
     },
     "execution_count": 17,
     "metadata": {},
     "output_type": "execute_result"
    }
   ],
   "source": [
    "df_tenure = pd.concat([X_pred, pd.Series(y, index=X_pred.index)], axis=1)\n",
    "df_tenure.head(2)"
   ]
  },
  {
   "cell_type": "code",
   "execution_count": 18,
   "metadata": {},
   "outputs": [
    {
     "data": {
      "text/html": [
       "<div>\n",
       "<style scoped>\n",
       "    .dataframe tbody tr th:only-of-type {\n",
       "        vertical-align: middle;\n",
       "    }\n",
       "\n",
       "    .dataframe tbody tr th {\n",
       "        vertical-align: top;\n",
       "    }\n",
       "\n",
       "    .dataframe thead th {\n",
       "        text-align: right;\n",
       "    }\n",
       "</style>\n",
       "<table border=\"1\" class=\"dataframe\">\n",
       "  <thead>\n",
       "    <tr style=\"text-align: right;\">\n",
       "      <th></th>\n",
       "      <th>CreditScore</th>\n",
       "      <th>Age</th>\n",
       "      <th>Balance</th>\n",
       "      <th>NumOfProducts</th>\n",
       "      <th>HasCrCard</th>\n",
       "      <th>IsActiveMember</th>\n",
       "      <th>EstimatedSalary</th>\n",
       "      <th>Exited</th>\n",
       "      <th>Geography_Germany</th>\n",
       "      <th>Geography_Spain</th>\n",
       "      <th>Gender_Male</th>\n",
       "      <th>Tenure</th>\n",
       "    </tr>\n",
       "  </thead>\n",
       "  <tbody>\n",
       "    <tr>\n",
       "      <th>30</th>\n",
       "      <td>591</td>\n",
       "      <td>39</td>\n",
       "      <td>0</td>\n",
       "      <td>3</td>\n",
       "      <td>1</td>\n",
       "      <td>0</td>\n",
       "      <td>140469</td>\n",
       "      <td>1</td>\n",
       "      <td>0</td>\n",
       "      <td>1</td>\n",
       "      <td>0</td>\n",
       "      <td>5.0</td>\n",
       "    </tr>\n",
       "    <tr>\n",
       "      <th>48</th>\n",
       "      <td>550</td>\n",
       "      <td>38</td>\n",
       "      <td>103391</td>\n",
       "      <td>1</td>\n",
       "      <td>0</td>\n",
       "      <td>1</td>\n",
       "      <td>90878</td>\n",
       "      <td>0</td>\n",
       "      <td>1</td>\n",
       "      <td>0</td>\n",
       "      <td>1</td>\n",
       "      <td>1.0</td>\n",
       "    </tr>\n",
       "  </tbody>\n",
       "</table>\n",
       "</div>"
      ],
      "text/plain": [
       "    CreditScore  Age  Balance  NumOfProducts  HasCrCard  IsActiveMember  \\\n",
       "30          591   39        0              3          1               0   \n",
       "48          550   38   103391              1          0               1   \n",
       "\n",
       "    EstimatedSalary  Exited  Geography_Germany  Geography_Spain  Gender_Male  \\\n",
       "30           140469       1                  0                1            0   \n",
       "48            90878       0                  1                0            1   \n",
       "\n",
       "    Tenure  \n",
       "30     5.0  \n",
       "48     1.0  "
      ]
     },
     "execution_count": 18,
     "metadata": {},
     "output_type": "execute_result"
    }
   ],
   "source": [
    "df_tenure.rename(columns = {0:'Tenure'}, inplace = True)\n",
    "df_tenure.head(2)"
   ]
  },
  {
   "cell_type": "code",
   "execution_count": 22,
   "metadata": {},
   "outputs": [
    {
     "data": {
      "image/png": "[encoded data removed]",
      "text/plain": [
       "<Figure size 432x288 with 1 Axes>"
      ]
     },
     "metadata": {
      "needs_background": "light"
     },
     "output_type": "display_data"
    }
   ],
   "source": [
    "df_tenure['Tenure'].hist(bins=50);"
   ]
  },
  {
   "cell_type": "code",
   "execution_count": 19,
   "metadata": {},
   "outputs": [
    {
     "data": {
      "text/plain": [
       "(10000, 12)"
      ]
     },
     "execution_count": 19,
     "metadata": {},
     "output_type": "execute_result"
    }
   ],
   "source": [
    "df = pd.concat([df, df_tenure], axis=0)\n",
    "df.shape"
   ]
  },
  {
   "cell_type": "code",
   "execution_count": 20,
   "metadata": {},
   "outputs": [
    {
     "data": {
      "text/plain": [
       "count    10000.000000\n",
       "mean         4.826100\n",
       "std          2.915529\n",
       "min          0.000000\n",
       "25%          2.000000\n",
       "50%          5.000000\n",
       "75%          7.000000\n",
       "max         10.000000\n",
       "Name: Tenure, dtype: float64"
      ]
     },
     "execution_count": 20,
     "metadata": {},
     "output_type": "execute_result"
    }
   ],
   "source": [
    "df.Tenure.describe()"
   ]
  },
  {
   "cell_type": "markdown",
   "metadata": {},
   "source": [
    "Показатель точности модели оставляет желать лучшего. Но улучшить показатели мне не удалось. Возможно тут стоило использовать другой подход к классификации или возможно, использовать регрессию. Но в любом случае характер распределения почти не изменился, данный подход, полагаю, будет лучше, тем заполнение значений случайными значениями."
   ]
  },
  {
   "cell_type": "code",
   "execution_count": 21,
   "metadata": {},
   "outputs": [
    {
     "name": "stdout",
     "output_type": "stream",
     "text": [
      "<class 'pandas.core.frame.DataFrame'>\n",
      "Int64Index: 10000 entries, 0 to 9999\n",
      "Data columns (total 12 columns):\n",
      " #   Column             Non-Null Count  Dtype  \n",
      "---  ------             --------------  -----  \n",
      " 0   CreditScore        10000 non-null  int64  \n",
      " 1   Age                10000 non-null  int64  \n",
      " 2   Tenure             10000 non-null  float64\n",
      " 3   Balance            10000 non-null  int64  \n",
      " 4   NumOfProducts      10000 non-null  int64  \n",
      " 5   HasCrCard          10000 non-null  int64  \n",
      " 6   IsActiveMember     10000 non-null  int64  \n",
      " 7   EstimatedSalary    10000 non-null  int64  \n",
      " 8   Exited             10000 non-null  int64  \n",
      " 9   Geography_Germany  10000 non-null  uint8  \n",
      " 10  Geography_Spain    10000 non-null  uint8  \n",
      " 11  Gender_Male        10000 non-null  uint8  \n",
      "dtypes: float64(1), int64(8), uint8(3)\n",
      "memory usage: 810.5 KB\n"
     ]
    }
   ],
   "source": [
    "df.info() # глянем, все ли в норме после преобразований датафрейма"
   ]
  },
  {
   "cell_type": "markdown",
   "metadata": {},
   "source": [
    "Как я и говорил, возвращаем все на место. Эксперимент провалился)\n"
   ]
  },
  {
   "cell_type": "code",
   "execution_count": 22,
   "metadata": {},
   "outputs": [
    {
     "data": {
      "text/plain": [
       "(10000, 12)"
      ]
     },
     "execution_count": 22,
     "metadata": {},
     "output_type": "execute_result"
    }
   ],
   "source": [
    "df = df0.copy()\n",
    "df['Tenure'] = df['Tenure'].fillna(0).astype(int)\n",
    "df.shape"
   ]
  },
  {
   "cell_type": "markdown",
   "metadata": {},
   "source": [
    "## Борьба с дисбалансом"
   ]
  },
  {
   "cell_type": "code",
   "execution_count": 23,
   "metadata": {},
   "outputs": [
    {
     "data": {
      "text/plain": [
       "0    0.7963\n",
       "1    0.2037\n",
       "Name: Exited, dtype: float64"
      ]
     },
     "execution_count": 23,
     "metadata": {},
     "output_type": "execute_result"
    }
   ],
   "source": [
    "df.Exited.value_counts(normalize=True)"
   ]
  },
  {
   "cell_type": "markdown",
   "metadata": {},
   "source": [
    "Виден дисбаланс классов 0/1 : 4/1 соотвественно. Для борьбы с дисбалансом будем использовать методы upsamling и downsampling, а также воспользуемся встроенным параметров модели.\n"
   ]
  },
  {
   "cell_type": "code",
   "execution_count": 24,
   "metadata": {},
   "outputs": [],
   "source": [
    "X = df.drop(['Exited'], axis=1)\n",
    "y= df['Exited']"
   ]
  },
  {
   "cell_type": "code",
   "execution_count": 25,
   "metadata": {},
   "outputs": [],
   "source": [
    "RS = 12345\n",
    "(X_train, X_test, y_train, y_test) = train_test_split(X, y, test_size=1/4, random_state=RS)"
   ]
  },
  {
   "cell_type": "code",
   "execution_count": 26,
   "metadata": {},
   "outputs": [
    {
     "name": "stdout",
     "output_type": "stream",
     "text": [
      "(5998, 12)\n",
      "(1502, 12)\n"
     ]
    }
   ],
   "source": [
    "train = pd.concat([X_train, y_train], axis=1)\n",
    "\n",
    "df_exited_yes = train[train.Exited==0]\n",
    "df_exited_no = train[train.Exited==1]\n",
    "print(df_exited_yes.shape)\n",
    "print(df_exited_no.shape)\n"
   ]
  },
  {
   "cell_type": "code",
   "execution_count": 27,
   "metadata": {},
   "outputs": [
    {
     "data": {
      "text/plain": [
       "(11996, 11)"
      ]
     },
     "execution_count": 27,
     "metadata": {},
     "output_type": "execute_result"
    }
   ],
   "source": [
    "RS=123\n",
    "\n",
    "df_exited_no_up = resample(df_exited_no, replace=True, \n",
    "                           n_samples=len(df_exited_yes), random_state=RS)\n",
    "train_up = pd.concat([df_exited_yes, df_exited_no_up])\n",
    "X_train_up = train_up.drop(['Exited'], axis=1)\n",
    "y_train_up = train_up['Exited']\n",
    "\n",
    "\n",
    "df_exited_yes_down = resample(df_exited_yes, replace=False, \n",
    "                              n_samples=len(df_exited_no), random_state=RS)\n",
    "train_down = pd.concat([df_exited_no, df_exited_yes_down])\n",
    "X_train_down = train_down.drop(['Exited'], axis=1)\n",
    "y_train_down = train_down['Exited']\n",
    "X_train_up.shape"
   ]
  },
  {
   "cell_type": "code",
   "execution_count": 28,
   "metadata": {},
   "outputs": [
    {
     "data": {
      "text/plain": [
       "0"
      ]
     },
     "execution_count": 28,
     "metadata": {},
     "output_type": "execute_result"
    }
   ],
   "source": [
    "#код ревьюера\n",
    "df_exited_yes_down.duplicated().sum()"
   ]
  },
  {
   "cell_type": "markdown",
   "metadata": {},
   "source": [
    "## Тестирование модели"
   ]
  },
  {
   "cell_type": "markdown",
   "metadata": {},
   "source": [
    "В качестве модели будем использовать Random Forest (RF). Для данной модели условия масштабирования признаков не является обязательным.  \n",
    "Поэтому этот этап обработки можно пропустить. Будем использовать RandomizedSearchCV, поэтому валидационная выборка не обязательна."
   ]
  },
  {
   "cell_type": "markdown",
   "metadata": {},
   "source": [
    "Фукнция, которая выводит результаты обучения и метрики качества обучения:"
   ]
  },
  {
   "cell_type": "code",
   "execution_count": 29,
   "metadata": {},
   "outputs": [],
   "source": [
    "def get_resume(clf, x, y, scv=True): #scv - SearchCV\n",
    "    print('Результаты обучения модели:')\n",
    "    if scv: # если это серч\n",
    "        print('лучшие параметры:', clf.best_params_)\n",
    "    vld_pred = clf.predict(x)\n",
    "    print('f1-мера:', f1_score(y, vld_pred))\n",
    "    print('roc-auc-мера:', roc_auc_score(y, clf.predict_proba(x)[:, 1]))\n",
    "    \n",
    "    cm = confusion_matrix(y_test, vld_pred, labels=clf.classes_)\n",
    "    disp = ConfusionMatrixDisplay(confusion_matrix=cm, display_labels=clf.classes_)\n",
    "    disp.plot()\n",
    "    plt.show()"
   ]
  },
  {
   "cell_type": "code",
   "execution_count": 30,
   "metadata": {},
   "outputs": [
    {
     "name": "stdout",
     "output_type": "stream",
     "text": [
      "Результаты обучения модели:\n",
      "лучшие параметры: {'n_estimators': 169, 'max_depth': 16}\n",
      "f1-мера: 0.5697399527186761\n",
      "roc-auc-мера: 0.8508225725904258\n"
     ]
    },
    {
     "data": {
      "image/png": "[encoded data removed]",
      "text/plain": [
       "<Figure size 432x288 with 2 Axes>"
      ]
     },
     "metadata": {
      "needs_background": "light"
     },
     "output_type": "display_data"
    }
   ],
   "source": [
    "params = {'n_estimators': range(5, 200) , 'max_depth': range(1, 20)} \n",
    "rfc = RandomForestClassifier(random_state=RS)\n",
    "clf = RandomizedSearchCV(rfc, params, n_jobs=-1, random_state=RS)\n",
    "clf.fit(X_train, y_train)\n",
    "get_resume(clf, X_test, y_test)"
   ]
  },
  {
   "cell_type": "markdown",
   "metadata": {},
   "source": [
    "На исходных данных f1-мера ниже требуемой. Попробуем обучить модель на сэмплированных данных:"
   ]
  },
  {
   "cell_type": "code",
   "execution_count": 31,
   "metadata": {},
   "outputs": [
    {
     "name": "stdout",
     "output_type": "stream",
     "text": [
      "Результаты обучения модели:\n",
      "f1-мера: 0.6275720164609054\n",
      "roc-auc-мера: 0.8549485148985756\n"
     ]
    },
    {
     "data": {
      "image/png": "[encoded data removed]",
      "text/plain": [
       "<Figure size 432x288 with 2 Axes>"
      ]
     },
     "metadata": {
      "needs_background": "light"
     },
     "output_type": "display_data"
    }
   ],
   "source": [
    "rfc.set_params(**clf.best_params_) # установим оптимальные гиперпараметры RF, чтобы не повторять их поиск.\n",
    "rfc.fit(X_train_up, y_train_up) # обучим модель на upsample выборке\n",
    "get_resume(rfc, X_test, y_test, scv=False)"
   ]
  },
  {
   "cell_type": "markdown",
   "metadata": {},
   "source": [
    "<b>f1 - мера получилась выше требуемой. Требуемый результат получен.  \n",
    "\n"
   ]
  },
  {
   "cell_type": "markdown",
   "metadata": {},
   "source": [
    "\n",
    "\n",
    "  \n",
    "Обучим модель на downsample выборке. Предположительно, результат будет не лучше того, что получился на общей выборке."
   ]
  },
  {
   "cell_type": "code",
   "execution_count": 32,
   "metadata": {},
   "outputs": [
    {
     "name": "stdout",
     "output_type": "stream",
     "text": [
      "Результаты обучения модели:\n",
      "f1-мера: 0.6115581565471836\n",
      "roc-auc-мера: 0.8549580271574992\n"
     ]
    },
    {
     "data": {
      "image/png": "[encoded data removed]",
      "text/plain": [
       "<Figure size 432x288 with 2 Axes>"
      ]
     },
     "metadata": {
      "needs_background": "light"
     },
     "output_type": "display_data"
    }
   ],
   "source": [
    "rfc.fit(X_train_down, y_train_down)\n",
    "get_resume(rfc, X_test, y_test, scv=False)"
   ]
  },
  {
   "cell_type": "markdown",
   "metadata": {},
   "source": [
    "Выяснилось, что даже на downsample выборке результат f1-меры оказался лучше, но roc-auc оказался немного меньше, т.к. значительно увеличился показатель FP, что в свою очередь связано с уменьшением выборки класса 0 - поэтому модель стала хуже предсказывать этот класс."
   ]
  },
  {
   "cell_type": "markdown",
   "metadata": {},
   "source": [
    "Теперь воспользуемся встроенными в модель методами балансировки классов (https://www.analyticsvidhya.com/blog/2020/10/improve-class-imbalance-class-weights/#free-courses)"
   ]
  },
  {
   "cell_type": "code",
   "execution_count": 33,
   "metadata": {},
   "outputs": [
    {
     "name": "stdout",
     "output_type": "stream",
     "text": [
      "0.8336112037345782 3.3288948069241013\n"
     ]
    }
   ],
   "source": [
    "len_ex0 = train[train.Exited==0].shape[0]\n",
    "len_ex1 = train[train.Exited==1].shape[0]\n",
    "w0 = len(df)/(2 * len_ex0)\n",
    "w1 = len(df)/(2 * len_ex1)\n",
    "print(w0, w1)"
   ]
  },
  {
   "cell_type": "code",
   "execution_count": 34,
   "metadata": {},
   "outputs": [
    {
     "name": "stdout",
     "output_type": "stream",
     "text": [
      "Результаты обучения модели:\n",
      "лучшие параметры: {'n_estimators': 130, 'max_depth': 18}\n",
      "f1-мера: 0.5666666666666667\n",
      "roc-auc-мера: 0.8526884021783073\n"
     ]
    },
    {
     "data": {
      "image/png": "[encoded data removed]",
      "text/plain": [
       "<Figure size 432x288 with 2 Axes>"
      ]
     },
     "metadata": {
      "needs_background": "light"
     },
     "output_type": "display_data"
    }
   ],
   "source": [
    "params = {'n_estimators': range(5, 200) , 'max_depth': range(1, 20)} \n",
    "rfc = RandomForestClassifier(random_state=RS, class_weight={0: w0, 1: w1})\n",
    "clf = RandomizedSearchCV(rfc, params, n_jobs=-1)\n",
    "clf.fit(X_train, y_train)\n",
    "get_resume(clf, X_test, y_test, scv=True)"
   ]
  },
  {
   "cell_type": "markdown",
   "metadata": {},
   "source": [
    "Результат чуть лучше обучения на исходных данных, но хуже чем на сэмплированных. "
   ]
  },
  {
   "cell_type": "markdown",
   "metadata": {},
   "source": [
    "<b> Вывод:\n",
    "Проведена предобработка данных, проведен краткий исследовательский анализ данных.  \n",
    "Категориальные переменные преобразованы методом OneHotEncoding.  \n",
    "Выявлен дисбаланс классов, для их устранения были применены методы upsampling, downsampling, весовая балансировка классов при обучении модели.  \n",
    "Изначально была выбрана модель RF, которая наиболее эффективна на задачах такого рода, кроме того не пришлось масштабировать признаки. Подобраны гиперпараметры с помощью класса RandomizedSearchCV, произведено тестирование модели и сравнение результатов f1-меры. После обучения модели выявлено, что наилучшие результаты дает upsampling, downsampling, весовая балансировка классов, исходные признаки -  в порядке убывания.\n",
    "Лучшие гиперпараметры модели: 'n_estimators': 169, 'max_depth': 16, метрики качества: f1-мера: 0.6275720164609054\n",
    "roc-auc-мера: 0.8549485148985756.\n"
   ]
  }
 ],
 "metadata": {
  "ExecuteTimeLog": [
   {
    "duration": 452,
    "start_time": "2022-05-04T17:27:50.332Z"
   },
   {
    "duration": 64,
    "start_time": "2022-05-04T17:28:20.366Z"
   },
   {
    "duration": 19,
    "start_time": "2022-05-04T17:34:28.343Z"
   },
   {
    "duration": 94,
    "start_time": "2022-05-04T18:09:24.161Z"
   },
   {
    "duration": 9,
    "start_time": "2022-05-04T18:09:26.880Z"
   },
   {
    "duration": 10,
    "start_time": "2022-05-04T18:11:49.535Z"
   },
   {
    "duration": 10,
    "start_time": "2022-05-04T18:11:54.900Z"
   },
   {
    "duration": 5,
    "start_time": "2022-05-04T18:11:59.035Z"
   },
   {
    "duration": 5,
    "start_time": "2022-05-04T18:15:29.476Z"
   },
   {
    "duration": 5,
    "start_time": "2022-05-04T18:15:35.087Z"
   },
   {
    "duration": 19,
    "start_time": "2022-05-04T18:15:38.582Z"
   },
   {
    "duration": 4,
    "start_time": "2022-05-04T18:19:37.543Z"
   },
   {
    "duration": 6,
    "start_time": "2022-05-04T18:24:52.843Z"
   },
   {
    "duration": 6,
    "start_time": "2022-05-04T18:25:34.085Z"
   },
   {
    "duration": 25,
    "start_time": "2022-05-04T18:49:17.957Z"
   },
   {
    "duration": 7,
    "start_time": "2022-05-04T18:49:27.972Z"
   },
   {
    "duration": 22,
    "start_time": "2022-05-04T18:49:47.988Z"
   },
   {
    "duration": 15,
    "start_time": "2022-05-04T18:49:58.317Z"
   },
   {
    "duration": 11,
    "start_time": "2022-05-04T18:51:23.117Z"
   },
   {
    "duration": 1357,
    "start_time": "2022-05-04T18:51:30.224Z"
   },
   {
    "duration": 571,
    "start_time": "2022-05-04T18:51:35.434Z"
   },
   {
    "duration": 543,
    "start_time": "2022-05-04T18:53:18.897Z"
   },
   {
    "duration": 456,
    "start_time": "2022-05-04T18:53:25.502Z"
   },
   {
    "duration": 4,
    "start_time": "2022-05-04T18:53:50.670Z"
   },
   {
    "duration": 477,
    "start_time": "2022-05-04T18:53:55.620Z"
   },
   {
    "duration": 9,
    "start_time": "2022-05-04T19:15:04.466Z"
   },
   {
    "duration": 13,
    "start_time": "2022-05-04T19:16:17.318Z"
   },
   {
    "duration": 195,
    "start_time": "2022-05-04T19:19:36.739Z"
   },
   {
    "duration": 1349,
    "start_time": "2022-05-05T05:39:30.956Z"
   },
   {
    "duration": 45,
    "start_time": "2022-05-05T05:39:32.308Z"
   },
   {
    "duration": 14,
    "start_time": "2022-05-05T05:39:32.355Z"
   },
   {
    "duration": 6,
    "start_time": "2022-05-05T05:39:32.371Z"
   },
   {
    "duration": 5,
    "start_time": "2022-05-05T05:39:32.379Z"
   },
   {
    "duration": 22,
    "start_time": "2022-05-05T05:39:32.385Z"
   },
   {
    "duration": 899,
    "start_time": "2022-05-05T05:39:32.409Z"
   },
   {
    "duration": 7,
    "start_time": "2022-05-05T05:39:33.310Z"
   },
   {
    "duration": 852,
    "start_time": "2022-05-05T05:39:45.414Z"
   },
   {
    "duration": 5,
    "start_time": "2022-05-05T05:44:28.717Z"
   },
   {
    "duration": 115,
    "start_time": "2022-05-05T05:44:43.093Z"
   },
   {
    "duration": 13,
    "start_time": "2022-05-05T05:44:46.813Z"
   },
   {
    "duration": 1221,
    "start_time": "2022-05-05T05:45:00.851Z"
   },
   {
    "duration": 44,
    "start_time": "2022-05-05T05:45:02.074Z"
   },
   {
    "duration": 12,
    "start_time": "2022-05-05T05:45:02.120Z"
   },
   {
    "duration": 18,
    "start_time": "2022-05-05T05:45:02.135Z"
   },
   {
    "duration": 32,
    "start_time": "2022-05-05T05:45:02.154Z"
   },
   {
    "duration": 24,
    "start_time": "2022-05-05T05:45:02.188Z"
   },
   {
    "duration": 818,
    "start_time": "2022-05-05T05:45:02.213Z"
   },
   {
    "duration": 8,
    "start_time": "2022-05-05T05:45:03.034Z"
   },
   {
    "duration": 3,
    "start_time": "2022-05-05T05:53:02.705Z"
   },
   {
    "duration": 113,
    "start_time": "2022-05-05T05:53:22.827Z"
   },
   {
    "duration": 12,
    "start_time": "2022-05-05T05:53:36.123Z"
   },
   {
    "duration": 9,
    "start_time": "2022-05-05T05:53:42.451Z"
   },
   {
    "duration": 12,
    "start_time": "2022-05-05T05:54:06.908Z"
   },
   {
    "duration": 15,
    "start_time": "2022-05-05T05:56:10.907Z"
   },
   {
    "duration": 17,
    "start_time": "2022-05-05T05:56:27.051Z"
   },
   {
    "duration": 16,
    "start_time": "2022-05-05T05:56:44.922Z"
   },
   {
    "duration": 2409,
    "start_time": "2022-05-05T05:56:52.155Z"
   },
   {
    "duration": 109,
    "start_time": "2022-05-05T05:57:08.042Z"
   },
   {
    "duration": 109,
    "start_time": "2022-05-05T05:57:31.051Z"
   },
   {
    "duration": 208,
    "start_time": "2022-05-05T05:57:59.475Z"
   },
   {
    "duration": 213,
    "start_time": "2022-05-05T10:44:36.868Z"
   },
   {
    "duration": 1370,
    "start_time": "2022-05-05T10:44:46.683Z"
   },
   {
    "duration": 39,
    "start_time": "2022-05-05T10:44:48.055Z"
   },
   {
    "duration": 15,
    "start_time": "2022-05-05T10:44:48.096Z"
   },
   {
    "duration": 4,
    "start_time": "2022-05-05T10:44:48.112Z"
   },
   {
    "duration": 6,
    "start_time": "2022-05-05T10:44:48.118Z"
   },
   {
    "duration": 14,
    "start_time": "2022-05-05T10:44:48.125Z"
   },
   {
    "duration": 9,
    "start_time": "2022-05-05T10:44:48.141Z"
   },
   {
    "duration": 851,
    "start_time": "2022-05-05T10:44:48.152Z"
   },
   {
    "duration": 7,
    "start_time": "2022-05-05T10:44:49.005Z"
   },
   {
    "duration": 2,
    "start_time": "2022-05-05T10:44:49.013Z"
   },
   {
    "duration": 120,
    "start_time": "2022-05-05T11:08:21.441Z"
   },
   {
    "duration": 3,
    "start_time": "2022-05-05T11:08:32.356Z"
   },
   {
    "duration": 48,
    "start_time": "2022-05-05T11:08:32.361Z"
   },
   {
    "duration": 13,
    "start_time": "2022-05-05T11:08:32.411Z"
   },
   {
    "duration": 3,
    "start_time": "2022-05-05T11:08:32.426Z"
   },
   {
    "duration": 4,
    "start_time": "2022-05-05T11:08:32.432Z"
   },
   {
    "duration": 19,
    "start_time": "2022-05-05T11:08:32.438Z"
   },
   {
    "duration": 10,
    "start_time": "2022-05-05T11:08:32.459Z"
   },
   {
    "duration": 833,
    "start_time": "2022-05-05T11:08:32.471Z"
   },
   {
    "duration": 7,
    "start_time": "2022-05-05T11:08:33.306Z"
   },
   {
    "duration": 6,
    "start_time": "2022-05-05T11:08:33.315Z"
   },
   {
    "duration": 10,
    "start_time": "2022-05-05T11:14:25.794Z"
   },
   {
    "duration": 17,
    "start_time": "2022-05-05T11:14:52.154Z"
   },
   {
    "duration": 5,
    "start_time": "2022-05-05T11:19:13.091Z"
   },
   {
    "duration": 7,
    "start_time": "2022-05-05T11:19:29.834Z"
   },
   {
    "duration": 8,
    "start_time": "2022-05-05T11:19:36.665Z"
   },
   {
    "duration": 5,
    "start_time": "2022-05-05T11:19:42.905Z"
   },
   {
    "duration": 18,
    "start_time": "2022-05-05T11:20:21.841Z"
   },
   {
    "duration": 14,
    "start_time": "2022-05-05T11:23:14.344Z"
   },
   {
    "duration": 7,
    "start_time": "2022-05-05T11:23:27.889Z"
   },
   {
    "duration": 325,
    "start_time": "2022-05-05T11:25:02.233Z"
   },
   {
    "duration": 4,
    "start_time": "2022-05-05T11:25:13.129Z"
   },
   {
    "duration": 6,
    "start_time": "2022-05-05T11:25:48.330Z"
   },
   {
    "duration": 7,
    "start_time": "2022-05-05T11:26:16.953Z"
   },
   {
    "duration": 8,
    "start_time": "2022-05-05T11:26:27.297Z"
   },
   {
    "duration": 6,
    "start_time": "2022-05-05T11:27:23.330Z"
   },
   {
    "duration": 542,
    "start_time": "2022-05-05T11:29:57.983Z"
   },
   {
    "duration": 13,
    "start_time": "2022-05-05T11:35:31.001Z"
   },
   {
    "duration": 4,
    "start_time": "2022-05-05T11:35:45.585Z"
   },
   {
    "duration": 12,
    "start_time": "2022-05-05T11:35:54.352Z"
   },
   {
    "duration": 3,
    "start_time": "2022-05-05T11:45:58.192Z"
   },
   {
    "duration": 11,
    "start_time": "2022-05-05T11:46:08.752Z"
   },
   {
    "duration": 3,
    "start_time": "2022-05-05T11:46:14.663Z"
   },
   {
    "duration": 24,
    "start_time": "2022-05-05T11:46:49.633Z"
   },
   {
    "duration": 9,
    "start_time": "2022-05-05T11:46:55.888Z"
   },
   {
    "duration": 10,
    "start_time": "2022-05-05T11:51:00.536Z"
   },
   {
    "duration": 9,
    "start_time": "2022-05-05T11:51:35.584Z"
   },
   {
    "duration": 68,
    "start_time": "2022-05-05T11:51:43.318Z"
   },
   {
    "duration": 7,
    "start_time": "2022-05-05T11:51:48.927Z"
   },
   {
    "duration": 12,
    "start_time": "2022-05-05T11:57:59.199Z"
   },
   {
    "duration": 25,
    "start_time": "2022-05-05T11:58:14.983Z"
   },
   {
    "duration": 16,
    "start_time": "2022-05-05T11:58:45.566Z"
   },
   {
    "duration": 9,
    "start_time": "2022-05-05T11:59:17.295Z"
   },
   {
    "duration": 6,
    "start_time": "2022-05-05T11:59:51.318Z"
   },
   {
    "duration": 7,
    "start_time": "2022-05-05T11:59:53.919Z"
   },
   {
    "duration": 8,
    "start_time": "2022-05-05T12:00:01.207Z"
   },
   {
    "duration": 8,
    "start_time": "2022-05-05T12:19:57.893Z"
   },
   {
    "duration": 6,
    "start_time": "2022-05-05T12:20:33.382Z"
   },
   {
    "duration": 4,
    "start_time": "2022-05-05T12:20:58.270Z"
   },
   {
    "duration": 9,
    "start_time": "2022-05-05T12:31:04.453Z"
   },
   {
    "duration": 1458,
    "start_time": "2022-05-05T12:37:55.016Z"
   },
   {
    "duration": 38,
    "start_time": "2022-05-05T12:37:56.476Z"
   },
   {
    "duration": 16,
    "start_time": "2022-05-05T12:37:56.516Z"
   },
   {
    "duration": 4,
    "start_time": "2022-05-05T12:37:56.535Z"
   },
   {
    "duration": 6,
    "start_time": "2022-05-05T12:37:56.541Z"
   },
   {
    "duration": 16,
    "start_time": "2022-05-05T12:37:56.549Z"
   },
   {
    "duration": 43,
    "start_time": "2022-05-05T12:37:56.567Z"
   },
   {
    "duration": 818,
    "start_time": "2022-05-05T12:37:56.611Z"
   },
   {
    "duration": 18,
    "start_time": "2022-05-05T12:37:57.431Z"
   },
   {
    "duration": 7,
    "start_time": "2022-05-05T12:37:57.452Z"
   },
   {
    "duration": 4,
    "start_time": "2022-05-05T12:37:57.460Z"
   },
   {
    "duration": 138,
    "start_time": "2022-05-05T12:37:57.466Z"
   },
   {
    "duration": 0,
    "start_time": "2022-05-05T12:37:57.606Z"
   },
   {
    "duration": 0,
    "start_time": "2022-05-05T12:37:57.607Z"
   },
   {
    "duration": 0,
    "start_time": "2022-05-05T12:37:57.609Z"
   },
   {
    "duration": 8,
    "start_time": "2022-05-05T12:38:11.946Z"
   },
   {
    "duration": 9,
    "start_time": "2022-05-05T12:38:12.770Z"
   },
   {
    "duration": 1543,
    "start_time": "2022-05-05T12:38:19.009Z"
   },
   {
    "duration": 42,
    "start_time": "2022-05-05T12:38:20.554Z"
   },
   {
    "duration": 20,
    "start_time": "2022-05-05T12:38:20.597Z"
   },
   {
    "duration": 4,
    "start_time": "2022-05-05T12:38:20.619Z"
   },
   {
    "duration": 5,
    "start_time": "2022-05-05T12:38:20.625Z"
   },
   {
    "duration": 17,
    "start_time": "2022-05-05T12:38:20.631Z"
   },
   {
    "duration": 9,
    "start_time": "2022-05-05T12:38:20.650Z"
   },
   {
    "duration": 863,
    "start_time": "2022-05-05T12:38:20.661Z"
   },
   {
    "duration": 19,
    "start_time": "2022-05-05T12:38:21.526Z"
   },
   {
    "duration": 8,
    "start_time": "2022-05-05T12:38:21.547Z"
   },
   {
    "duration": 14,
    "start_time": "2022-05-05T12:38:21.556Z"
   },
   {
    "duration": 11,
    "start_time": "2022-05-05T12:38:21.572Z"
   },
   {
    "duration": 31,
    "start_time": "2022-05-05T12:38:21.584Z"
   },
   {
    "duration": 137,
    "start_time": "2022-05-05T12:38:21.618Z"
   },
   {
    "duration": 0,
    "start_time": "2022-05-05T12:38:21.757Z"
   },
   {
    "duration": 14,
    "start_time": "2022-05-05T12:39:00.303Z"
   },
   {
    "duration": 4521,
    "start_time": "2022-05-05T12:39:02.493Z"
   },
   {
    "duration": 10,
    "start_time": "2022-05-05T12:40:07.101Z"
   },
   {
    "duration": 4,
    "start_time": "2022-05-05T12:40:09.925Z"
   },
   {
    "duration": 33,
    "start_time": "2022-05-05T12:40:10.205Z"
   },
   {
    "duration": 4,
    "start_time": "2022-05-05T12:41:09.478Z"
   },
   {
    "duration": 33,
    "start_time": "2022-05-05T12:41:09.901Z"
   },
   {
    "duration": 4053,
    "start_time": "2022-05-05T12:41:14.886Z"
   },
   {
    "duration": 4,
    "start_time": "2022-05-05T12:41:21.325Z"
   },
   {
    "duration": 30,
    "start_time": "2022-05-05T12:41:22.710Z"
   },
   {
    "duration": 4,
    "start_time": "2022-05-05T12:41:29.805Z"
   },
   {
    "duration": 31,
    "start_time": "2022-05-05T12:41:30.301Z"
   },
   {
    "duration": 4,
    "start_time": "2022-05-05T12:41:40.622Z"
   },
   {
    "duration": 29,
    "start_time": "2022-05-05T12:41:41.102Z"
   },
   {
    "duration": 4,
    "start_time": "2022-05-05T12:43:09.421Z"
   },
   {
    "duration": 30,
    "start_time": "2022-05-05T12:43:09.997Z"
   },
   {
    "duration": 3,
    "start_time": "2022-05-05T12:43:15.813Z"
   },
   {
    "duration": 28,
    "start_time": "2022-05-05T12:43:21.805Z"
   },
   {
    "duration": 3832,
    "start_time": "2022-05-05T12:44:19.957Z"
   },
   {
    "duration": 4,
    "start_time": "2022-05-05T12:44:25.636Z"
   },
   {
    "duration": 27,
    "start_time": "2022-05-05T12:44:31.581Z"
   },
   {
    "duration": 18521,
    "start_time": "2022-05-05T12:44:44.949Z"
   },
   {
    "duration": 4,
    "start_time": "2022-05-05T12:45:07.508Z"
   },
   {
    "duration": 58,
    "start_time": "2022-05-05T12:45:09.109Z"
   },
   {
    "duration": 12997,
    "start_time": "2022-05-05T12:47:37.732Z"
   },
   {
    "duration": 4,
    "start_time": "2022-05-05T12:47:53.804Z"
   },
   {
    "duration": 47,
    "start_time": "2022-05-05T12:47:54.188Z"
   },
   {
    "duration": 363739,
    "start_time": "2022-05-05T12:48:24.805Z"
   },
   {
    "duration": 10666,
    "start_time": "2022-05-05T12:54:35.074Z"
   },
   {
    "duration": 3,
    "start_time": "2022-05-05T12:54:49.964Z"
   },
   {
    "duration": 58,
    "start_time": "2022-05-05T12:54:51.907Z"
   },
   {
    "duration": 3,
    "start_time": "2022-05-05T12:57:40.580Z"
   },
   {
    "duration": 13,
    "start_time": "2022-05-05T12:57:41.027Z"
   },
   {
    "duration": 3,
    "start_time": "2022-05-05T12:57:50.916Z"
   },
   {
    "duration": 57,
    "start_time": "2022-05-05T12:57:51.331Z"
   },
   {
    "duration": 17648,
    "start_time": "2022-05-05T12:58:38.388Z"
   },
   {
    "duration": 60,
    "start_time": "2022-05-05T12:59:12.892Z"
   },
   {
    "duration": 29645,
    "start_time": "2022-05-05T13:00:32.676Z"
   },
   {
    "duration": 4,
    "start_time": "2022-05-05T13:01:05.075Z"
   },
   {
    "duration": 58,
    "start_time": "2022-05-05T13:01:08.388Z"
   },
   {
    "duration": 35124,
    "start_time": "2022-05-05T13:01:22.420Z"
   },
   {
    "duration": 10,
    "start_time": "2022-05-05T13:02:43.235Z"
   },
   {
    "duration": 124,
    "start_time": "2022-05-05T13:03:05.731Z"
   },
   {
    "duration": 3,
    "start_time": "2022-05-05T13:03:33.627Z"
   },
   {
    "duration": 10,
    "start_time": "2022-05-05T13:03:39.811Z"
   },
   {
    "duration": 9,
    "start_time": "2022-05-05T13:07:38.883Z"
   },
   {
    "duration": 4,
    "start_time": "2022-05-05T13:08:24.059Z"
   },
   {
    "duration": 979,
    "start_time": "2022-05-05T13:08:47.731Z"
   },
   {
    "duration": 13,
    "start_time": "2022-05-05T13:08:58.659Z"
   },
   {
    "duration": 79,
    "start_time": "2022-05-05T13:09:35.187Z"
   },
   {
    "duration": 29682,
    "start_time": "2022-05-05T13:10:10.683Z"
   },
   {
    "duration": 4,
    "start_time": "2022-05-05T13:10:45.738Z"
   },
   {
    "duration": 99,
    "start_time": "2022-05-05T13:10:46.666Z"
   },
   {
    "duration": 5,
    "start_time": "2022-05-05T13:11:09.287Z"
   },
   {
    "duration": 1329,
    "start_time": "2022-05-05T13:11:10.346Z"
   },
   {
    "duration": 103,
    "start_time": "2022-05-05T13:11:13.843Z"
   },
   {
    "duration": 72,
    "start_time": "2022-05-05T13:12:43.554Z"
   },
   {
    "duration": 92,
    "start_time": "2022-05-05T13:12:45.828Z"
   },
   {
    "duration": 520,
    "start_time": "2022-05-05T13:16:09.516Z"
   },
   {
    "duration": 465,
    "start_time": "2022-05-05T13:17:31.090Z"
   },
   {
    "duration": 1333,
    "start_time": "2022-05-05T13:17:45.362Z"
   },
   {
    "duration": 580,
    "start_time": "2022-05-05T13:17:55.530Z"
   },
   {
    "duration": 547,
    "start_time": "2022-05-05T13:19:44.298Z"
   },
   {
    "duration": 3370,
    "start_time": "2022-05-05T13:20:33.220Z"
   },
   {
    "duration": 47,
    "start_time": "2022-05-05T13:20:36.592Z"
   },
   {
    "duration": 15,
    "start_time": "2022-05-05T13:20:36.640Z"
   },
   {
    "duration": 4,
    "start_time": "2022-05-05T13:20:36.657Z"
   },
   {
    "duration": 4,
    "start_time": "2022-05-05T13:20:36.663Z"
   },
   {
    "duration": 17,
    "start_time": "2022-05-05T13:20:36.669Z"
   },
   {
    "duration": 10,
    "start_time": "2022-05-05T13:20:36.687Z"
   },
   {
    "duration": 828,
    "start_time": "2022-05-05T13:20:36.699Z"
   },
   {
    "duration": 17,
    "start_time": "2022-05-05T13:20:37.528Z"
   },
   {
    "duration": 7,
    "start_time": "2022-05-05T13:20:37.547Z"
   },
   {
    "duration": 6,
    "start_time": "2022-05-05T13:20:37.555Z"
   },
   {
    "duration": 6,
    "start_time": "2022-05-05T13:20:37.562Z"
   },
   {
    "duration": 8,
    "start_time": "2022-05-05T13:20:37.570Z"
   },
   {
    "duration": 14,
    "start_time": "2022-05-05T13:20:37.579Z"
   },
   {
    "duration": 30985,
    "start_time": "2022-05-05T13:20:37.594Z"
   },
   {
    "duration": 4,
    "start_time": "2022-05-05T13:21:08.581Z"
   },
   {
    "duration": 90,
    "start_time": "2022-05-05T13:21:08.587Z"
   },
   {
    "duration": 5,
    "start_time": "2022-05-05T13:21:08.679Z"
   },
   {
    "duration": 1082,
    "start_time": "2022-05-05T13:21:08.686Z"
   },
   {
    "duration": 458,
    "start_time": "2022-05-05T13:21:09.770Z"
   },
   {
    "duration": 68,
    "start_time": "2022-05-05T13:42:31.269Z"
   },
   {
    "duration": 4,
    "start_time": "2022-05-05T13:44:54.012Z"
   },
   {
    "duration": 198,
    "start_time": "2022-05-05T13:45:14.435Z"
   },
   {
    "duration": 3,
    "start_time": "2022-05-05T13:45:25.405Z"
   },
   {
    "duration": 175,
    "start_time": "2022-05-05T13:45:31.684Z"
   },
   {
    "duration": 5,
    "start_time": "2022-05-05T13:45:37.517Z"
   },
   {
    "duration": 175,
    "start_time": "2022-05-05T13:45:37.861Z"
   },
   {
    "duration": 4,
    "start_time": "2022-05-05T13:48:27.252Z"
   },
   {
    "duration": 152,
    "start_time": "2022-05-05T13:48:28.239Z"
   },
   {
    "duration": 5,
    "start_time": "2022-05-05T13:48:37.843Z"
   },
   {
    "duration": 1124,
    "start_time": "2022-05-05T13:48:39.603Z"
   },
   {
    "duration": 74,
    "start_time": "2022-05-05T13:49:08.043Z"
   },
   {
    "duration": 151,
    "start_time": "2022-05-05T13:49:08.364Z"
   },
   {
    "duration": 4,
    "start_time": "2022-05-05T13:49:19.316Z"
   },
   {
    "duration": 153,
    "start_time": "2022-05-05T13:49:20.082Z"
   },
   {
    "duration": 5,
    "start_time": "2022-05-05T13:49:25.635Z"
   },
   {
    "duration": 1113,
    "start_time": "2022-05-05T13:49:26.307Z"
   },
   {
    "duration": 501,
    "start_time": "2022-05-05T13:49:32.962Z"
   },
   {
    "duration": 4,
    "start_time": "2022-05-05T13:58:39.097Z"
   },
   {
    "duration": 276,
    "start_time": "2022-05-05T13:59:29.193Z"
   },
   {
    "duration": 494,
    "start_time": "2022-05-05T13:59:44.649Z"
   },
   {
    "duration": 204,
    "start_time": "2022-05-05T13:59:46.633Z"
   },
   {
    "duration": 13,
    "start_time": "2022-05-05T14:00:07.385Z"
   },
   {
    "duration": 222,
    "start_time": "2022-05-05T14:00:12.882Z"
   },
   {
    "duration": 4,
    "start_time": "2022-05-05T14:01:33.209Z"
   },
   {
    "duration": 285,
    "start_time": "2022-05-05T14:01:34.281Z"
   },
   {
    "duration": 5,
    "start_time": "2022-05-05T14:01:40.369Z"
   },
   {
    "duration": 1256,
    "start_time": "2022-05-05T14:01:40.818Z"
   },
   {
    "duration": 646,
    "start_time": "2022-05-05T14:01:52.880Z"
   },
   {
    "duration": 233,
    "start_time": "2022-05-05T14:01:53.528Z"
   },
   {
    "duration": 1551,
    "start_time": "2022-05-05T14:14:11.513Z"
   },
   {
    "duration": 47,
    "start_time": "2022-05-05T14:14:13.067Z"
   },
   {
    "duration": 16,
    "start_time": "2022-05-05T14:14:13.115Z"
   },
   {
    "duration": 5,
    "start_time": "2022-05-05T14:14:13.133Z"
   },
   {
    "duration": 10,
    "start_time": "2022-05-05T14:14:13.140Z"
   },
   {
    "duration": 25,
    "start_time": "2022-05-05T14:14:13.151Z"
   },
   {
    "duration": 10,
    "start_time": "2022-05-05T14:14:13.178Z"
   },
   {
    "duration": 842,
    "start_time": "2022-05-05T14:14:13.208Z"
   },
   {
    "duration": 19,
    "start_time": "2022-05-05T14:14:14.051Z"
   },
   {
    "duration": 9,
    "start_time": "2022-05-05T14:14:14.072Z"
   },
   {
    "duration": 25,
    "start_time": "2022-05-05T14:14:14.083Z"
   },
   {
    "duration": 9,
    "start_time": "2022-05-05T14:14:14.110Z"
   },
   {
    "duration": 10,
    "start_time": "2022-05-05T14:14:14.121Z"
   },
   {
    "duration": 15,
    "start_time": "2022-05-05T14:14:14.134Z"
   },
   {
    "duration": 28944,
    "start_time": "2022-05-05T14:14:14.150Z"
   },
   {
    "duration": 5,
    "start_time": "2022-05-05T14:14:43.095Z"
   },
   {
    "duration": 331,
    "start_time": "2022-05-05T14:14:43.101Z"
   },
   {
    "duration": 5,
    "start_time": "2022-05-05T14:14:43.434Z"
   },
   {
    "duration": 873,
    "start_time": "2022-05-05T14:14:43.441Z"
   },
   {
    "duration": 463,
    "start_time": "2022-05-05T14:14:44.315Z"
   },
   {
    "duration": 90,
    "start_time": "2022-05-05T14:28:00.378Z"
   },
   {
    "duration": 1535,
    "start_time": "2022-05-05T18:03:29.163Z"
   },
   {
    "duration": 35,
    "start_time": "2022-05-05T18:03:30.700Z"
   },
   {
    "duration": 17,
    "start_time": "2022-05-05T18:03:30.737Z"
   },
   {
    "duration": 4,
    "start_time": "2022-05-05T18:03:30.756Z"
   },
   {
    "duration": 10,
    "start_time": "2022-05-05T18:03:30.761Z"
   },
   {
    "duration": 18,
    "start_time": "2022-05-05T18:03:30.772Z"
   },
   {
    "duration": 8,
    "start_time": "2022-05-05T18:03:30.791Z"
   },
   {
    "duration": 782,
    "start_time": "2022-05-05T18:03:30.801Z"
   },
   {
    "duration": 16,
    "start_time": "2022-05-05T18:03:31.584Z"
   },
   {
    "duration": 6,
    "start_time": "2022-05-05T18:03:31.603Z"
   },
   {
    "duration": 7,
    "start_time": "2022-05-05T18:03:31.610Z"
   },
   {
    "duration": 12,
    "start_time": "2022-05-05T18:03:31.618Z"
   },
   {
    "duration": 21,
    "start_time": "2022-05-05T18:03:31.632Z"
   },
   {
    "duration": 11,
    "start_time": "2022-05-05T18:03:31.655Z"
   },
   {
    "duration": 27668,
    "start_time": "2022-05-05T18:03:31.668Z"
   },
   {
    "duration": 10,
    "start_time": "2022-05-05T18:03:59.338Z"
   },
   {
    "duration": 225,
    "start_time": "2022-05-05T18:03:59.350Z"
   },
   {
    "duration": 4,
    "start_time": "2022-05-05T18:03:59.577Z"
   },
   {
    "duration": 983,
    "start_time": "2022-05-05T18:03:59.583Z"
   },
   {
    "duration": 468,
    "start_time": "2022-05-05T18:04:00.568Z"
   },
   {
    "duration": 28221,
    "start_time": "2022-05-05T18:33:14.341Z"
   },
   {
    "duration": 4,
    "start_time": "2022-05-05T18:33:42.564Z"
   },
   {
    "duration": 329,
    "start_time": "2022-05-05T18:33:42.570Z"
   },
   {
    "duration": 5,
    "start_time": "2022-05-05T18:33:42.901Z"
   },
   {
    "duration": 1609,
    "start_time": "2022-05-05T18:33:42.908Z"
   },
   {
    "duration": 784,
    "start_time": "2022-05-05T18:33:44.519Z"
   },
   {
    "duration": 9814,
    "start_time": "2022-05-05T18:34:46.975Z"
   },
   {
    "duration": 4,
    "start_time": "2022-05-05T18:35:00.114Z"
   },
   {
    "duration": 292,
    "start_time": "2022-05-05T18:35:01.394Z"
   },
   {
    "duration": 4,
    "start_time": "2022-05-05T18:35:07.536Z"
   },
   {
    "duration": 1610,
    "start_time": "2022-05-05T18:35:08.265Z"
   },
   {
    "duration": 25417,
    "start_time": "2022-05-05T18:35:23.356Z"
   },
   {
    "duration": 4,
    "start_time": "2022-05-05T18:35:51.248Z"
   },
   {
    "duration": 211,
    "start_time": "2022-05-05T18:35:51.778Z"
   },
   {
    "duration": 5,
    "start_time": "2022-05-05T18:35:54.110Z"
   },
   {
    "duration": 971,
    "start_time": "2022-05-05T18:35:55.029Z"
   },
   {
    "duration": 36717,
    "start_time": "2022-05-05T18:50:15.193Z"
   },
   {
    "duration": 4,
    "start_time": "2022-05-05T18:50:56.469Z"
   },
   {
    "duration": 338,
    "start_time": "2022-05-05T18:51:05.155Z"
   },
   {
    "duration": 25333,
    "start_time": "2022-05-05T18:52:17.155Z"
   },
   {
    "duration": 4,
    "start_time": "2022-05-05T18:52:45.561Z"
   },
   {
    "duration": 266,
    "start_time": "2022-05-05T18:52:47.689Z"
   },
   {
    "duration": 5,
    "start_time": "2022-05-05T19:03:43.324Z"
   },
   {
    "duration": 6,
    "start_time": "2022-05-05T19:04:55.817Z"
   },
   {
    "duration": 28894,
    "start_time": "2022-05-05T19:06:16.877Z"
   },
   {
    "duration": 114,
    "start_time": "2022-05-05T19:08:41.334Z"
   },
   {
    "duration": 325,
    "start_time": "2022-05-05T19:08:59.853Z"
   },
   {
    "duration": 32968,
    "start_time": "2022-05-05T19:11:12.882Z"
   },
   {
    "duration": 345,
    "start_time": "2022-05-05T19:11:53.105Z"
   },
   {
    "duration": 1391,
    "start_time": "2022-05-05T19:12:40.020Z"
   },
   {
    "duration": 35,
    "start_time": "2022-05-05T19:12:41.413Z"
   },
   {
    "duration": 13,
    "start_time": "2022-05-05T19:12:41.450Z"
   },
   {
    "duration": 4,
    "start_time": "2022-05-05T19:12:41.465Z"
   },
   {
    "duration": 5,
    "start_time": "2022-05-05T19:12:41.470Z"
   },
   {
    "duration": 14,
    "start_time": "2022-05-05T19:12:41.477Z"
   },
   {
    "duration": 8,
    "start_time": "2022-05-05T19:12:41.493Z"
   },
   {
    "duration": 709,
    "start_time": "2022-05-05T19:12:41.503Z"
   },
   {
    "duration": 16,
    "start_time": "2022-05-05T19:12:42.213Z"
   },
   {
    "duration": 21,
    "start_time": "2022-05-05T19:12:42.231Z"
   },
   {
    "duration": 4,
    "start_time": "2022-05-05T19:12:42.254Z"
   },
   {
    "duration": 8,
    "start_time": "2022-05-05T19:12:42.260Z"
   },
   {
    "duration": 9,
    "start_time": "2022-05-05T19:12:42.269Z"
   },
   {
    "duration": 14,
    "start_time": "2022-05-05T19:12:42.280Z"
   },
   {
    "duration": 27500,
    "start_time": "2022-05-05T19:12:42.295Z"
   },
   {
    "duration": 4,
    "start_time": "2022-05-05T19:13:09.797Z"
   },
   {
    "duration": 328,
    "start_time": "2022-05-05T19:13:09.802Z"
   },
   {
    "duration": 5,
    "start_time": "2022-05-05T19:13:10.132Z"
   },
   {
    "duration": 1202,
    "start_time": "2022-05-05T19:13:10.148Z"
   },
   {
    "duration": 586,
    "start_time": "2022-05-05T19:13:11.352Z"
   },
   {
    "duration": 7,
    "start_time": "2022-05-05T19:13:11.947Z"
   },
   {
    "duration": 22374,
    "start_time": "2022-05-05T19:13:11.955Z"
   },
   {
    "duration": 228,
    "start_time": "2022-05-05T19:13:34.331Z"
   },
   {
    "duration": 1393,
    "start_time": "2022-05-05T19:17:01.617Z"
   },
   {
    "duration": 40,
    "start_time": "2022-05-05T19:17:03.012Z"
   },
   {
    "duration": 13,
    "start_time": "2022-05-05T19:17:03.054Z"
   },
   {
    "duration": 4,
    "start_time": "2022-05-05T19:17:03.068Z"
   },
   {
    "duration": 6,
    "start_time": "2022-05-05T19:17:03.073Z"
   },
   {
    "duration": 16,
    "start_time": "2022-05-05T19:17:03.081Z"
   },
   {
    "duration": 8,
    "start_time": "2022-05-05T19:17:03.098Z"
   },
   {
    "duration": 578,
    "start_time": "2022-05-05T19:17:03.107Z"
   },
   {
    "duration": 14,
    "start_time": "2022-05-05T19:17:03.687Z"
   },
   {
    "duration": 7,
    "start_time": "2022-05-05T19:17:03.703Z"
   },
   {
    "duration": 4,
    "start_time": "2022-05-05T19:17:03.711Z"
   },
   {
    "duration": 32,
    "start_time": "2022-05-05T19:17:03.716Z"
   },
   {
    "duration": 8,
    "start_time": "2022-05-05T19:17:03.749Z"
   },
   {
    "duration": 13,
    "start_time": "2022-05-05T19:17:03.759Z"
   },
   {
    "duration": 21769,
    "start_time": "2022-05-05T19:17:03.774Z"
   },
   {
    "duration": 3,
    "start_time": "2022-05-05T19:17:25.548Z"
   },
   {
    "duration": 226,
    "start_time": "2022-05-05T19:17:25.553Z"
   },
   {
    "duration": 4,
    "start_time": "2022-05-05T19:17:25.781Z"
   },
   {
    "duration": 892,
    "start_time": "2022-05-05T19:17:25.787Z"
   },
   {
    "duration": 521,
    "start_time": "2022-05-05T19:17:26.681Z"
   },
   {
    "duration": 7,
    "start_time": "2022-05-05T19:17:27.205Z"
   },
   {
    "duration": 23289,
    "start_time": "2022-05-05T19:17:27.213Z"
   },
   {
    "duration": 313,
    "start_time": "2022-05-05T19:17:50.503Z"
   },
   {
    "duration": 1370,
    "start_time": "2022-05-05T19:19:11.948Z"
   },
   {
    "duration": 37,
    "start_time": "2022-05-05T19:19:13.320Z"
   },
   {
    "duration": 14,
    "start_time": "2022-05-05T19:19:13.358Z"
   },
   {
    "duration": 4,
    "start_time": "2022-05-05T19:19:13.374Z"
   },
   {
    "duration": 5,
    "start_time": "2022-05-05T19:19:13.380Z"
   },
   {
    "duration": 17,
    "start_time": "2022-05-05T19:19:13.387Z"
   },
   {
    "duration": 8,
    "start_time": "2022-05-05T19:19:13.406Z"
   },
   {
    "duration": 782,
    "start_time": "2022-05-05T19:19:13.416Z"
   },
   {
    "duration": 16,
    "start_time": "2022-05-05T19:19:14.200Z"
   },
   {
    "duration": 6,
    "start_time": "2022-05-05T19:19:14.219Z"
   },
   {
    "duration": 23,
    "start_time": "2022-05-05T19:19:14.227Z"
   },
   {
    "duration": 8,
    "start_time": "2022-05-05T19:19:14.251Z"
   },
   {
    "duration": 8,
    "start_time": "2022-05-05T19:19:14.261Z"
   },
   {
    "duration": 12,
    "start_time": "2022-05-05T19:19:14.270Z"
   },
   {
    "duration": 31735,
    "start_time": "2022-05-05T19:19:14.284Z"
   },
   {
    "duration": 4,
    "start_time": "2022-05-05T19:19:46.021Z"
   },
   {
    "duration": 302,
    "start_time": "2022-05-05T19:19:46.026Z"
   },
   {
    "duration": 4,
    "start_time": "2022-05-05T19:19:46.329Z"
   },
   {
    "duration": 1544,
    "start_time": "2022-05-05T19:19:46.335Z"
   },
   {
    "duration": 745,
    "start_time": "2022-05-05T19:19:47.880Z"
   },
   {
    "duration": 5,
    "start_time": "2022-05-05T19:19:48.627Z"
   },
   {
    "duration": 26764,
    "start_time": "2022-05-05T19:19:48.634Z"
   },
   {
    "duration": 233,
    "start_time": "2022-05-05T19:20:15.400Z"
   },
   {
    "duration": 31674,
    "start_time": "2022-05-05T19:21:48.634Z"
   },
   {
    "duration": 306,
    "start_time": "2022-05-05T19:22:24.816Z"
   },
   {
    "duration": 29197,
    "start_time": "2022-05-05T19:25:40.990Z"
   },
   {
    "duration": 303,
    "start_time": "2022-05-05T19:26:14.794Z"
   },
   {
    "duration": 10339,
    "start_time": "2022-05-05T19:29:09.171Z"
   },
   {
    "duration": 193,
    "start_time": "2022-05-05T19:29:21.181Z"
   },
   {
    "duration": 1498,
    "start_time": "2022-05-05T19:29:47.763Z"
   },
   {
    "duration": 55,
    "start_time": "2022-05-05T19:29:49.263Z"
   },
   {
    "duration": 19,
    "start_time": "2022-05-05T19:29:49.320Z"
   },
   {
    "duration": 5,
    "start_time": "2022-05-05T19:29:49.346Z"
   },
   {
    "duration": 5,
    "start_time": "2022-05-05T19:29:49.353Z"
   },
   {
    "duration": 20,
    "start_time": "2022-05-05T19:29:49.360Z"
   },
   {
    "duration": 11,
    "start_time": "2022-05-05T19:29:49.382Z"
   },
   {
    "duration": 749,
    "start_time": "2022-05-05T19:29:49.395Z"
   },
   {
    "duration": 18,
    "start_time": "2022-05-05T19:29:50.147Z"
   },
   {
    "duration": 7,
    "start_time": "2022-05-05T19:29:50.168Z"
   },
   {
    "duration": 10,
    "start_time": "2022-05-05T19:29:50.176Z"
   },
   {
    "duration": 14,
    "start_time": "2022-05-05T19:29:50.188Z"
   },
   {
    "duration": 13,
    "start_time": "2022-05-05T19:29:50.204Z"
   },
   {
    "duration": 34,
    "start_time": "2022-05-05T19:29:50.219Z"
   },
   {
    "duration": 29056,
    "start_time": "2022-05-05T19:29:50.256Z"
   },
   {
    "duration": 4,
    "start_time": "2022-05-05T19:30:19.314Z"
   },
   {
    "duration": 353,
    "start_time": "2022-05-05T19:30:19.319Z"
   },
   {
    "duration": 4,
    "start_time": "2022-05-05T19:30:19.674Z"
   },
   {
    "duration": 1340,
    "start_time": "2022-05-05T19:30:19.680Z"
   },
   {
    "duration": 615,
    "start_time": "2022-05-05T19:30:21.022Z"
   },
   {
    "duration": 11,
    "start_time": "2022-05-05T19:30:21.647Z"
   },
   {
    "duration": 13980,
    "start_time": "2022-05-05T19:30:21.660Z"
   },
   {
    "duration": 222,
    "start_time": "2022-05-05T19:30:35.641Z"
   },
   {
    "duration": 12881,
    "start_time": "2022-05-05T19:31:48.377Z"
   },
   {
    "duration": 209,
    "start_time": "2022-05-05T19:32:08.047Z"
   },
   {
    "duration": 33009,
    "start_time": "2022-05-05T19:32:15.926Z"
   },
   {
    "duration": 1475,
    "start_time": "2022-05-05T19:34:13.168Z"
   },
   {
    "duration": 44,
    "start_time": "2022-05-05T19:34:14.645Z"
   },
   {
    "duration": 13,
    "start_time": "2022-05-05T19:34:14.690Z"
   },
   {
    "duration": 4,
    "start_time": "2022-05-05T19:34:14.705Z"
   },
   {
    "duration": 4,
    "start_time": "2022-05-05T19:34:14.711Z"
   },
   {
    "duration": 14,
    "start_time": "2022-05-05T19:34:14.716Z"
   },
   {
    "duration": 28,
    "start_time": "2022-05-05T19:34:14.732Z"
   },
   {
    "duration": 691,
    "start_time": "2022-05-05T19:34:14.762Z"
   },
   {
    "duration": 18,
    "start_time": "2022-05-05T19:34:15.455Z"
   },
   {
    "duration": 7,
    "start_time": "2022-05-05T19:34:15.476Z"
   },
   {
    "duration": 5,
    "start_time": "2022-05-05T19:34:15.484Z"
   },
   {
    "duration": 7,
    "start_time": "2022-05-05T19:34:15.491Z"
   },
   {
    "duration": 9,
    "start_time": "2022-05-05T19:34:15.500Z"
   },
   {
    "duration": 18,
    "start_time": "2022-05-05T19:34:15.547Z"
   },
   {
    "duration": 38393,
    "start_time": "2022-05-05T19:34:15.567Z"
   },
   {
    "duration": 5,
    "start_time": "2022-05-05T19:34:53.962Z"
   },
   {
    "duration": 214,
    "start_time": "2022-05-05T19:34:53.968Z"
   },
   {
    "duration": 4,
    "start_time": "2022-05-05T19:34:54.184Z"
   },
   {
    "duration": 1061,
    "start_time": "2022-05-05T19:34:54.189Z"
   },
   {
    "duration": 510,
    "start_time": "2022-05-05T19:34:55.252Z"
   },
   {
    "duration": 6,
    "start_time": "2022-05-05T19:34:55.763Z"
   },
   {
    "duration": 24049,
    "start_time": "2022-05-05T19:34:55.770Z"
   },
   {
    "duration": 220,
    "start_time": "2022-05-05T19:35:19.821Z"
   },
   {
    "duration": 1560,
    "start_time": "2022-05-06T06:44:59.241Z"
   },
   {
    "duration": 37,
    "start_time": "2022-05-06T06:45:00.803Z"
   },
   {
    "duration": 19,
    "start_time": "2022-05-06T06:45:00.841Z"
   },
   {
    "duration": 4,
    "start_time": "2022-05-06T06:45:00.862Z"
   },
   {
    "duration": 18,
    "start_time": "2022-05-06T06:45:00.867Z"
   },
   {
    "duration": 24,
    "start_time": "2022-05-06T06:45:00.886Z"
   },
   {
    "duration": 9,
    "start_time": "2022-05-06T06:45:00.912Z"
   },
   {
    "duration": 776,
    "start_time": "2022-05-06T06:45:00.922Z"
   },
   {
    "duration": 17,
    "start_time": "2022-05-06T06:45:01.700Z"
   },
   {
    "duration": 7,
    "start_time": "2022-05-06T06:45:01.719Z"
   },
   {
    "duration": 6,
    "start_time": "2022-05-06T06:45:01.748Z"
   },
   {
    "duration": 10,
    "start_time": "2022-05-06T06:45:01.755Z"
   },
   {
    "duration": 9,
    "start_time": "2022-05-06T06:45:01.766Z"
   },
   {
    "duration": 138,
    "start_time": "2022-05-06T06:45:01.777Z"
   },
   {
    "duration": 0,
    "start_time": "2022-05-06T06:45:01.916Z"
   },
   {
    "duration": 0,
    "start_time": "2022-05-06T06:45:01.917Z"
   },
   {
    "duration": 0,
    "start_time": "2022-05-06T06:45:01.919Z"
   },
   {
    "duration": 0,
    "start_time": "2022-05-06T06:45:01.920Z"
   },
   {
    "duration": 0,
    "start_time": "2022-05-06T06:45:01.920Z"
   },
   {
    "duration": 0,
    "start_time": "2022-05-06T06:45:01.921Z"
   },
   {
    "duration": 0,
    "start_time": "2022-05-06T06:45:01.922Z"
   },
   {
    "duration": 0,
    "start_time": "2022-05-06T06:45:01.923Z"
   },
   {
    "duration": 0,
    "start_time": "2022-05-06T06:45:01.924Z"
   },
   {
    "duration": 15,
    "start_time": "2022-05-06T08:20:46.790Z"
   },
   {
    "duration": 30782,
    "start_time": "2022-05-06T08:21:23.425Z"
   },
   {
    "duration": 6,
    "start_time": "2022-05-06T08:21:54.209Z"
   },
   {
    "duration": 407,
    "start_time": "2022-05-06T08:21:54.217Z"
   },
   {
    "duration": 5,
    "start_time": "2022-05-06T08:21:54.626Z"
   },
   {
    "duration": 2574,
    "start_time": "2022-05-06T08:21:54.647Z"
   },
   {
    "duration": 901,
    "start_time": "2022-05-06T08:21:57.223Z"
   },
   {
    "duration": 7,
    "start_time": "2022-05-06T08:21:58.126Z"
   },
   {
    "duration": 34367,
    "start_time": "2022-05-06T08:21:58.134Z"
   },
   {
    "duration": 231,
    "start_time": "2022-05-06T08:22:32.503Z"
   },
   {
    "duration": 43470,
    "start_time": "2022-05-06T08:23:15.310Z"
   },
   {
    "duration": 1543,
    "start_time": "2022-05-06T08:31:27.805Z"
   },
   {
    "duration": 62,
    "start_time": "2022-05-06T08:31:29.351Z"
   },
   {
    "duration": 20,
    "start_time": "2022-05-06T08:31:29.415Z"
   },
   {
    "duration": 8,
    "start_time": "2022-05-06T08:31:29.447Z"
   },
   {
    "duration": 25,
    "start_time": "2022-05-06T08:31:29.463Z"
   },
   {
    "duration": 19,
    "start_time": "2022-05-06T08:31:29.490Z"
   },
   {
    "duration": 12,
    "start_time": "2022-05-06T08:31:29.511Z"
   },
   {
    "duration": 1016,
    "start_time": "2022-05-06T08:31:29.525Z"
   },
   {
    "duration": 21,
    "start_time": "2022-05-06T08:31:30.547Z"
   },
   {
    "duration": 44,
    "start_time": "2022-05-06T08:31:30.571Z"
   },
   {
    "duration": 15,
    "start_time": "2022-05-06T08:31:30.617Z"
   },
   {
    "duration": 34,
    "start_time": "2022-05-06T08:31:30.634Z"
   },
   {
    "duration": 28,
    "start_time": "2022-05-06T08:31:30.671Z"
   },
   {
    "duration": 15,
    "start_time": "2022-05-06T08:31:30.700Z"
   },
   {
    "duration": 12,
    "start_time": "2022-05-06T08:31:30.716Z"
   },
   {
    "duration": 26759,
    "start_time": "2022-05-06T08:31:30.730Z"
   },
   {
    "duration": 1017,
    "start_time": "2022-05-06T08:31:57.490Z"
   },
   {
    "duration": 478,
    "start_time": "2022-05-06T08:31:58.508Z"
   },
   {
    "duration": 8,
    "start_time": "2022-05-06T08:31:58.987Z"
   },
   {
    "duration": 54607,
    "start_time": "2022-05-06T08:31:58.996Z"
   },
   {
    "duration": 1369,
    "start_time": "2022-05-06T08:36:36.166Z"
   },
   {
    "duration": 43,
    "start_time": "2022-05-06T08:36:37.536Z"
   },
   {
    "duration": 14,
    "start_time": "2022-05-06T08:36:37.580Z"
   },
   {
    "duration": 3,
    "start_time": "2022-05-06T08:36:37.596Z"
   },
   {
    "duration": 5,
    "start_time": "2022-05-06T08:36:37.601Z"
   },
   {
    "duration": 52,
    "start_time": "2022-05-06T08:36:37.607Z"
   },
   {
    "duration": 14,
    "start_time": "2022-05-06T08:36:37.661Z"
   },
   {
    "duration": 702,
    "start_time": "2022-05-06T08:36:37.676Z"
   },
   {
    "duration": 15,
    "start_time": "2022-05-06T08:36:38.379Z"
   },
   {
    "duration": 25,
    "start_time": "2022-05-06T08:36:38.396Z"
   },
   {
    "duration": 4,
    "start_time": "2022-05-06T08:36:38.422Z"
   },
   {
    "duration": 11,
    "start_time": "2022-05-06T08:36:38.428Z"
   },
   {
    "duration": 26,
    "start_time": "2022-05-06T08:36:38.441Z"
   },
   {
    "duration": 19,
    "start_time": "2022-05-06T08:36:38.470Z"
   },
   {
    "duration": 4,
    "start_time": "2022-05-06T08:36:38.491Z"
   },
   {
    "duration": 25937,
    "start_time": "2022-05-06T08:36:38.496Z"
   },
   {
    "duration": 808,
    "start_time": "2022-05-06T08:37:04.434Z"
   },
   {
    "duration": 411,
    "start_time": "2022-05-06T08:37:05.254Z"
   },
   {
    "duration": 7,
    "start_time": "2022-05-06T08:37:05.667Z"
   },
   {
    "duration": 36702,
    "start_time": "2022-05-06T08:37:05.675Z"
   },
   {
    "duration": 32900,
    "start_time": "2022-05-06T08:38:35.430Z"
   },
   {
    "duration": 1392,
    "start_time": "2022-05-06T08:41:54.700Z"
   },
   {
    "duration": 40,
    "start_time": "2022-05-06T08:41:56.094Z"
   },
   {
    "duration": 19,
    "start_time": "2022-05-06T08:41:56.135Z"
   },
   {
    "duration": 7,
    "start_time": "2022-05-06T08:41:56.158Z"
   },
   {
    "duration": 18,
    "start_time": "2022-05-06T08:41:56.168Z"
   },
   {
    "duration": 16,
    "start_time": "2022-05-06T08:41:56.188Z"
   },
   {
    "duration": 9,
    "start_time": "2022-05-06T08:41:56.205Z"
   },
   {
    "duration": 768,
    "start_time": "2022-05-06T08:41:56.216Z"
   },
   {
    "duration": 18,
    "start_time": "2022-05-06T08:41:56.986Z"
   },
   {
    "duration": 20,
    "start_time": "2022-05-06T08:41:57.006Z"
   },
   {
    "duration": 23,
    "start_time": "2022-05-06T08:41:57.028Z"
   },
   {
    "duration": 16,
    "start_time": "2022-05-06T08:41:57.057Z"
   },
   {
    "duration": 9,
    "start_time": "2022-05-06T08:41:57.074Z"
   },
   {
    "duration": 13,
    "start_time": "2022-05-06T08:41:57.086Z"
   },
   {
    "duration": 4,
    "start_time": "2022-05-06T08:41:57.100Z"
   },
   {
    "duration": 28900,
    "start_time": "2022-05-06T08:41:57.106Z"
   },
   {
    "duration": 2409,
    "start_time": "2022-05-06T08:42:26.008Z"
   },
   {
    "duration": 973,
    "start_time": "2022-05-06T08:42:28.419Z"
   },
   {
    "duration": 6,
    "start_time": "2022-05-06T08:42:29.394Z"
   },
   {
    "duration": 27950,
    "start_time": "2022-05-06T08:42:29.402Z"
   },
   {
    "duration": 105,
    "start_time": "2022-05-06T09:01:09.561Z"
   },
   {
    "duration": 10,
    "start_time": "2022-05-06T09:04:06.416Z"
   },
   {
    "duration": 1954,
    "start_time": "2022-05-06T09:07:59.206Z"
   },
   {
    "duration": 41,
    "start_time": "2022-05-06T09:08:01.162Z"
   },
   {
    "duration": 13,
    "start_time": "2022-05-06T09:08:01.205Z"
   },
   {
    "duration": 8,
    "start_time": "2022-05-06T09:08:01.220Z"
   },
   {
    "duration": 20,
    "start_time": "2022-05-06T09:08:01.229Z"
   },
   {
    "duration": 41,
    "start_time": "2022-05-06T09:08:01.251Z"
   },
   {
    "duration": 15,
    "start_time": "2022-05-06T09:08:01.294Z"
   },
   {
    "duration": 761,
    "start_time": "2022-05-06T09:08:01.311Z"
   },
   {
    "duration": 16,
    "start_time": "2022-05-06T09:08:02.073Z"
   },
   {
    "duration": 21,
    "start_time": "2022-05-06T09:08:02.092Z"
   },
   {
    "duration": 5,
    "start_time": "2022-05-06T09:08:02.115Z"
   },
   {
    "duration": 7,
    "start_time": "2022-05-06T09:08:02.121Z"
   },
   {
    "duration": 29,
    "start_time": "2022-05-06T09:08:02.130Z"
   },
   {
    "duration": 22,
    "start_time": "2022-05-06T09:08:02.163Z"
   },
   {
    "duration": 5,
    "start_time": "2022-05-06T09:08:02.186Z"
   },
   {
    "duration": 34792,
    "start_time": "2022-05-06T09:08:02.193Z"
   },
   {
    "duration": 1490,
    "start_time": "2022-05-06T09:08:36.987Z"
   },
   {
    "duration": 849,
    "start_time": "2022-05-06T09:08:38.478Z"
   },
   {
    "duration": 8,
    "start_time": "2022-05-06T09:08:39.329Z"
   },
   {
    "duration": 30821,
    "start_time": "2022-05-06T09:08:39.347Z"
   },
   {
    "duration": 1534,
    "start_time": "2022-05-06T09:11:06.562Z"
   },
   {
    "duration": 35,
    "start_time": "2022-05-06T09:11:08.097Z"
   },
   {
    "duration": 21,
    "start_time": "2022-05-06T09:11:08.134Z"
   },
   {
    "duration": 5,
    "start_time": "2022-05-06T09:11:08.159Z"
   },
   {
    "duration": 6,
    "start_time": "2022-05-06T09:11:08.172Z"
   },
   {
    "duration": 16,
    "start_time": "2022-05-06T09:11:08.180Z"
   },
   {
    "duration": 10,
    "start_time": "2022-05-06T09:11:08.198Z"
   },
   {
    "duration": 743,
    "start_time": "2022-05-06T09:11:08.210Z"
   },
   {
    "duration": 19,
    "start_time": "2022-05-06T09:11:08.955Z"
   },
   {
    "duration": 25,
    "start_time": "2022-05-06T09:11:08.976Z"
   },
   {
    "duration": 5,
    "start_time": "2022-05-06T09:11:09.003Z"
   },
   {
    "duration": 8,
    "start_time": "2022-05-06T09:11:09.009Z"
   },
   {
    "duration": 13,
    "start_time": "2022-05-06T09:11:09.019Z"
   },
   {
    "duration": 27,
    "start_time": "2022-05-06T09:11:09.034Z"
   },
   {
    "duration": 8,
    "start_time": "2022-05-06T09:11:09.062Z"
   },
   {
    "duration": 19645,
    "start_time": "2022-05-06T09:11:09.072Z"
   },
   {
    "duration": 1469,
    "start_time": "2022-05-06T09:11:28.718Z"
   },
   {
    "duration": 616,
    "start_time": "2022-05-06T09:11:30.189Z"
   },
   {
    "duration": 7,
    "start_time": "2022-05-06T09:11:30.807Z"
   },
   {
    "duration": 24087,
    "start_time": "2022-05-06T09:11:30.816Z"
   },
   {
    "duration": 107,
    "start_time": "2022-05-06T09:11:54.905Z"
   },
   {
    "duration": 36471,
    "start_time": "2022-05-06T09:13:14.463Z"
   },
   {
    "duration": 1469,
    "start_time": "2022-05-06T09:14:34.858Z"
   },
   {
    "duration": 50,
    "start_time": "2022-05-06T09:14:36.329Z"
   },
   {
    "duration": 14,
    "start_time": "2022-05-06T09:14:36.381Z"
   },
   {
    "duration": 3,
    "start_time": "2022-05-06T09:14:36.397Z"
   },
   {
    "duration": 7,
    "start_time": "2022-05-06T09:14:36.402Z"
   },
   {
    "duration": 45,
    "start_time": "2022-05-06T09:14:36.411Z"
   },
   {
    "duration": 17,
    "start_time": "2022-05-06T09:14:36.460Z"
   },
   {
    "duration": 979,
    "start_time": "2022-05-06T09:14:36.479Z"
   },
   {
    "duration": 21,
    "start_time": "2022-05-06T09:14:37.459Z"
   },
   {
    "duration": 20,
    "start_time": "2022-05-06T09:14:37.483Z"
   },
   {
    "duration": 5,
    "start_time": "2022-05-06T09:14:37.505Z"
   },
   {
    "duration": 11,
    "start_time": "2022-05-06T09:14:37.512Z"
   },
   {
    "duration": 33,
    "start_time": "2022-05-06T09:14:37.525Z"
   },
   {
    "duration": 28,
    "start_time": "2022-05-06T09:14:37.561Z"
   },
   {
    "duration": 4,
    "start_time": "2022-05-06T09:14:37.591Z"
   },
   {
    "duration": 38317,
    "start_time": "2022-05-06T09:14:37.597Z"
   },
   {
    "duration": 2244,
    "start_time": "2022-05-06T09:15:15.916Z"
   },
   {
    "duration": 1055,
    "start_time": "2022-05-06T09:15:18.162Z"
   },
   {
    "duration": 7,
    "start_time": "2022-05-06T09:15:19.219Z"
   },
   {
    "duration": 29895,
    "start_time": "2022-05-06T09:15:19.228Z"
   },
   {
    "duration": 1390,
    "start_time": "2022-05-06T18:52:12.315Z"
   },
   {
    "duration": 39,
    "start_time": "2022-05-06T18:52:13.707Z"
   },
   {
    "duration": 22,
    "start_time": "2022-05-06T18:52:13.750Z"
   },
   {
    "duration": 6,
    "start_time": "2022-05-06T18:52:13.774Z"
   },
   {
    "duration": 7,
    "start_time": "2022-05-06T18:52:13.783Z"
   },
   {
    "duration": 26,
    "start_time": "2022-05-06T18:52:13.793Z"
   },
   {
    "duration": 39,
    "start_time": "2022-05-06T18:52:13.821Z"
   },
   {
    "duration": 714,
    "start_time": "2022-05-06T18:52:13.862Z"
   },
   {
    "duration": 17,
    "start_time": "2022-05-06T18:52:14.578Z"
   },
   {
    "duration": 7,
    "start_time": "2022-05-06T18:52:14.597Z"
   },
   {
    "duration": 5,
    "start_time": "2022-05-06T18:52:14.605Z"
   },
   {
    "duration": 43,
    "start_time": "2022-05-06T18:52:14.612Z"
   },
   {
    "duration": 10,
    "start_time": "2022-05-06T18:52:14.657Z"
   },
   {
    "duration": 21,
    "start_time": "2022-05-06T18:52:14.670Z"
   },
   {
    "duration": 4,
    "start_time": "2022-05-06T18:52:14.692Z"
   },
   {
    "duration": 35323,
    "start_time": "2022-05-06T18:52:14.698Z"
   },
   {
    "duration": 3089,
    "start_time": "2022-05-06T18:52:50.023Z"
   },
   {
    "duration": 1319,
    "start_time": "2022-05-06T18:52:53.114Z"
   },
   {
    "duration": 18,
    "start_time": "2022-05-06T18:52:54.435Z"
   },
   {
    "duration": 33168,
    "start_time": "2022-05-06T18:52:54.455Z"
   },
   {
    "duration": 5,
    "start_time": "2022-05-06T19:22:02.113Z"
   },
   {
    "duration": 4,
    "start_time": "2022-05-06T19:22:15.096Z"
   },
   {
    "duration": 6,
    "start_time": "2022-05-06T19:22:36.670Z"
   },
   {
    "duration": 7,
    "start_time": "2022-05-06T19:23:14.433Z"
   },
   {
    "duration": 165,
    "start_time": "2022-05-07T16:31:53.009Z"
   },
   {
    "duration": 163,
    "start_time": "2022-05-07T16:31:56.005Z"
   },
   {
    "duration": 61,
    "start_time": "2022-05-07T16:32:11.444Z"
   },
   {
    "duration": 1781,
    "start_time": "2022-05-07T16:32:45.464Z"
   },
   {
    "duration": 58,
    "start_time": "2022-05-07T16:32:47.248Z"
   },
   {
    "duration": 22,
    "start_time": "2022-05-07T16:32:47.308Z"
   },
   {
    "duration": 3,
    "start_time": "2022-05-07T16:32:47.332Z"
   },
   {
    "duration": 12,
    "start_time": "2022-05-07T16:32:47.337Z"
   },
   {
    "duration": 18,
    "start_time": "2022-05-07T16:32:47.351Z"
   },
   {
    "duration": 12,
    "start_time": "2022-05-07T16:32:47.370Z"
   },
   {
    "duration": 927,
    "start_time": "2022-05-07T16:32:47.384Z"
   },
   {
    "duration": 29,
    "start_time": "2022-05-07T16:32:48.313Z"
   },
   {
    "duration": 9,
    "start_time": "2022-05-07T16:32:48.345Z"
   },
   {
    "duration": 5,
    "start_time": "2022-05-07T16:32:48.356Z"
   },
   {
    "duration": 8,
    "start_time": "2022-05-07T16:32:48.363Z"
   },
   {
    "duration": 10,
    "start_time": "2022-05-07T16:32:48.373Z"
   },
   {
    "duration": 117,
    "start_time": "2022-05-07T16:32:48.384Z"
   },
   {
    "duration": 0,
    "start_time": "2022-05-07T16:32:48.503Z"
   },
   {
    "duration": 10,
    "start_time": "2022-05-07T16:33:26.054Z"
   },
   {
    "duration": 6,
    "start_time": "2022-05-07T16:33:31.467Z"
   },
   {
    "duration": 56,
    "start_time": "2022-05-07T16:33:31.475Z"
   },
   {
    "duration": 15,
    "start_time": "2022-05-07T16:33:31.533Z"
   },
   {
    "duration": 5,
    "start_time": "2022-05-07T16:33:31.551Z"
   },
   {
    "duration": 16,
    "start_time": "2022-05-07T16:33:31.559Z"
   },
   {
    "duration": 26,
    "start_time": "2022-05-07T16:33:31.577Z"
   },
   {
    "duration": 29,
    "start_time": "2022-05-07T16:33:31.605Z"
   },
   {
    "duration": 836,
    "start_time": "2022-05-07T16:33:31.636Z"
   },
   {
    "duration": 18,
    "start_time": "2022-05-07T16:33:32.474Z"
   },
   {
    "duration": 8,
    "start_time": "2022-05-07T16:33:32.494Z"
   },
   {
    "duration": 31,
    "start_time": "2022-05-07T16:33:32.504Z"
   },
   {
    "duration": 8,
    "start_time": "2022-05-07T16:33:32.537Z"
   },
   {
    "duration": 11,
    "start_time": "2022-05-07T16:33:32.546Z"
   },
   {
    "duration": 14,
    "start_time": "2022-05-07T16:33:32.560Z"
   },
   {
    "duration": 14,
    "start_time": "2022-05-07T16:34:05.083Z"
   },
   {
    "duration": 15,
    "start_time": "2022-05-07T16:35:30.593Z"
   },
   {
    "duration": 9,
    "start_time": "2022-05-07T16:35:31.120Z"
   },
   {
    "duration": 4,
    "start_time": "2022-05-07T16:36:16.998Z"
   },
   {
    "duration": 3,
    "start_time": "2022-05-07T16:36:27.151Z"
   },
   {
    "duration": 6,
    "start_time": "2022-05-07T16:36:42.639Z"
   },
   {
    "duration": 8,
    "start_time": "2022-05-07T16:36:47.942Z"
   },
   {
    "duration": 5,
    "start_time": "2022-05-07T16:37:07.896Z"
   },
   {
    "duration": 4,
    "start_time": "2022-05-07T16:37:21.928Z"
   },
   {
    "duration": 63,
    "start_time": "2022-05-07T16:37:21.934Z"
   },
   {
    "duration": 14,
    "start_time": "2022-05-07T16:37:21.998Z"
   },
   {
    "duration": 22,
    "start_time": "2022-05-07T16:37:24.333Z"
   },
   {
    "duration": 4,
    "start_time": "2022-05-07T16:38:12.206Z"
   },
   {
    "duration": 8,
    "start_time": "2022-05-07T16:38:41.662Z"
   },
   {
    "duration": 6,
    "start_time": "2022-05-07T16:38:55.689Z"
   },
   {
    "duration": 15,
    "start_time": "2022-05-07T16:39:05.498Z"
   },
   {
    "duration": 23,
    "start_time": "2022-05-07T16:40:10.839Z"
   },
   {
    "duration": 21,
    "start_time": "2022-05-07T16:52:23.987Z"
   },
   {
    "duration": 318,
    "start_time": "2022-05-07T16:52:41.089Z"
   },
   {
    "duration": 3,
    "start_time": "2022-05-07T16:53:41.314Z"
   },
   {
    "duration": 4,
    "start_time": "2022-05-07T16:53:51.327Z"
   },
   {
    "duration": 49,
    "start_time": "2022-05-07T16:53:51.333Z"
   },
   {
    "duration": 14,
    "start_time": "2022-05-07T16:53:51.384Z"
   },
   {
    "duration": 2,
    "start_time": "2022-05-07T16:53:51.400Z"
   },
   {
    "duration": 7,
    "start_time": "2022-05-07T16:53:51.404Z"
   },
   {
    "duration": 17,
    "start_time": "2022-05-07T16:53:51.413Z"
   },
   {
    "duration": 9,
    "start_time": "2022-05-07T16:53:51.433Z"
   },
   {
    "duration": 262,
    "start_time": "2022-05-07T16:53:51.444Z"
   },
   {
    "duration": 4,
    "start_time": "2022-05-07T16:54:45.714Z"
   },
   {
    "duration": 46,
    "start_time": "2022-05-07T16:54:45.720Z"
   },
   {
    "duration": 13,
    "start_time": "2022-05-07T16:54:45.768Z"
   },
   {
    "duration": 2,
    "start_time": "2022-05-07T16:54:45.783Z"
   },
   {
    "duration": 7,
    "start_time": "2022-05-07T16:54:45.787Z"
   },
   {
    "duration": 17,
    "start_time": "2022-05-07T16:54:45.796Z"
   },
   {
    "duration": 26,
    "start_time": "2022-05-07T16:54:45.815Z"
   },
   {
    "duration": 842,
    "start_time": "2022-05-07T16:54:45.843Z"
   },
   {
    "duration": 20,
    "start_time": "2022-05-07T16:54:46.687Z"
   },
   {
    "duration": 45506,
    "start_time": "2022-05-07T16:54:49.728Z"
   },
   {
    "duration": 4,
    "start_time": "2022-05-07T16:58:16.600Z"
   },
   {
    "duration": 62,
    "start_time": "2022-05-07T16:58:16.606Z"
   },
   {
    "duration": 20,
    "start_time": "2022-05-07T16:58:16.670Z"
   },
   {
    "duration": 2,
    "start_time": "2022-05-07T16:58:16.692Z"
   },
   {
    "duration": 8,
    "start_time": "2022-05-07T16:58:16.697Z"
   },
   {
    "duration": 43,
    "start_time": "2022-05-07T16:58:16.707Z"
   },
   {
    "duration": 12,
    "start_time": "2022-05-07T16:58:16.752Z"
   },
   {
    "duration": 949,
    "start_time": "2022-05-07T16:58:16.766Z"
   },
   {
    "duration": 33,
    "start_time": "2022-05-07T16:58:17.717Z"
   },
   {
    "duration": 93349,
    "start_time": "2022-05-07T16:58:21.075Z"
   },
   {
    "duration": 19894,
    "start_time": "2022-05-07T17:02:20.048Z"
   },
   {
    "duration": 22,
    "start_time": "2022-05-07T17:03:28.021Z"
   },
   {
    "duration": 18983,
    "start_time": "2022-05-07T17:03:43.732Z"
   },
   {
    "duration": 19394,
    "start_time": "2022-05-07T17:04:52.668Z"
   },
   {
    "duration": 19940,
    "start_time": "2022-05-07T17:05:22.596Z"
   },
   {
    "duration": 19565,
    "start_time": "2022-05-07T17:05:58.081Z"
   },
   {
    "duration": 20024,
    "start_time": "2022-05-07T17:08:48.185Z"
   },
   {
    "duration": 38104,
    "start_time": "2022-05-07T17:11:23.701Z"
   },
   {
    "duration": 9453,
    "start_time": "2022-05-07T17:12:24.809Z"
   },
   {
    "duration": 9392,
    "start_time": "2022-05-07T17:13:35.035Z"
   },
   {
    "duration": 9436,
    "start_time": "2022-05-07T17:26:32.429Z"
   },
   {
    "duration": 9525,
    "start_time": "2022-05-07T17:28:26.356Z"
   },
   {
    "duration": 5,
    "start_time": "2022-05-07T17:28:44.262Z"
   },
   {
    "duration": 40,
    "start_time": "2022-05-07T17:28:44.278Z"
   },
   {
    "duration": 14,
    "start_time": "2022-05-07T17:28:44.321Z"
   },
   {
    "duration": 3,
    "start_time": "2022-05-07T17:28:44.337Z"
   },
   {
    "duration": 8,
    "start_time": "2022-05-07T17:28:44.341Z"
   },
   {
    "duration": 17,
    "start_time": "2022-05-07T17:28:44.352Z"
   },
   {
    "duration": 10,
    "start_time": "2022-05-07T17:28:44.371Z"
   },
   {
    "duration": 928,
    "start_time": "2022-05-07T17:28:44.383Z"
   },
   {
    "duration": 29,
    "start_time": "2022-05-07T17:28:45.313Z"
   },
   {
    "duration": 9405,
    "start_time": "2022-05-07T17:28:51.363Z"
   },
   {
    "duration": 5,
    "start_time": "2022-05-07T17:30:00.635Z"
   },
   {
    "duration": 67,
    "start_time": "2022-05-07T17:30:00.642Z"
   },
   {
    "duration": 15,
    "start_time": "2022-05-07T17:30:00.711Z"
   },
   {
    "duration": 7,
    "start_time": "2022-05-07T17:30:00.729Z"
   },
   {
    "duration": 9,
    "start_time": "2022-05-07T17:30:00.738Z"
   },
   {
    "duration": 20,
    "start_time": "2022-05-07T17:30:00.749Z"
   },
   {
    "duration": 11,
    "start_time": "2022-05-07T17:30:00.772Z"
   },
   {
    "duration": 924,
    "start_time": "2022-05-07T17:30:00.785Z"
   },
   {
    "duration": 31,
    "start_time": "2022-05-07T17:30:01.712Z"
   },
   {
    "duration": 39165,
    "start_time": "2022-05-07T17:30:01.745Z"
   },
   {
    "duration": 19590,
    "start_time": "2022-05-07T17:31:36.175Z"
   },
   {
    "duration": 4,
    "start_time": "2022-05-07T17:32:28.763Z"
   },
   {
    "duration": 65,
    "start_time": "2022-05-07T17:32:28.769Z"
   },
   {
    "duration": 14,
    "start_time": "2022-05-07T17:32:28.837Z"
   },
   {
    "duration": 2,
    "start_time": "2022-05-07T17:32:28.853Z"
   },
   {
    "duration": 6,
    "start_time": "2022-05-07T17:32:28.859Z"
   },
   {
    "duration": 18,
    "start_time": "2022-05-07T17:32:28.868Z"
   },
   {
    "duration": 48,
    "start_time": "2022-05-07T17:32:28.888Z"
   },
   {
    "duration": 863,
    "start_time": "2022-05-07T17:32:28.938Z"
   },
   {
    "duration": 34,
    "start_time": "2022-05-07T17:32:29.803Z"
   },
   {
    "duration": 19460,
    "start_time": "2022-05-07T17:32:32.798Z"
   },
   {
    "duration": 14,
    "start_time": "2022-05-07T17:34:21.794Z"
   },
   {
    "duration": 19256,
    "start_time": "2022-05-07T17:35:30.784Z"
   },
   {
    "duration": 4,
    "start_time": "2022-05-07T17:36:00.733Z"
   },
   {
    "duration": 43,
    "start_time": "2022-05-07T17:36:00.739Z"
   },
   {
    "duration": 13,
    "start_time": "2022-05-07T17:36:00.784Z"
   },
   {
    "duration": 2,
    "start_time": "2022-05-07T17:36:00.800Z"
   },
   {
    "duration": 8,
    "start_time": "2022-05-07T17:36:00.804Z"
   },
   {
    "duration": 36,
    "start_time": "2022-05-07T17:36:00.814Z"
   },
   {
    "duration": 13,
    "start_time": "2022-05-07T17:36:00.853Z"
   },
   {
    "duration": 956,
    "start_time": "2022-05-07T17:36:00.868Z"
   },
   {
    "duration": 25,
    "start_time": "2022-05-07T17:36:01.827Z"
   },
   {
    "duration": 19213,
    "start_time": "2022-05-07T17:36:01.854Z"
   },
   {
    "duration": 43,
    "start_time": "2022-05-07T17:36:32.662Z"
   },
   {
    "duration": 9,
    "start_time": "2022-05-07T17:37:08.791Z"
   },
   {
    "duration": 38,
    "start_time": "2022-05-07T17:39:30.665Z"
   },
   {
    "duration": 61,
    "start_time": "2022-05-07T17:39:46.092Z"
   },
   {
    "duration": 40,
    "start_time": "2022-05-07T17:39:51.505Z"
   },
   {
    "duration": 48,
    "start_time": "2022-05-07T17:40:15.255Z"
   },
   {
    "duration": 78,
    "start_time": "2022-05-07T17:42:50.864Z"
   },
   {
    "duration": 59,
    "start_time": "2022-05-07T17:47:40.505Z"
   },
   {
    "duration": 5,
    "start_time": "2022-05-07T17:48:09.471Z"
   },
   {
    "duration": 45,
    "start_time": "2022-05-07T17:48:14.664Z"
   },
   {
    "duration": 56,
    "start_time": "2022-05-07T17:48:21.131Z"
   },
   {
    "duration": 47,
    "start_time": "2022-05-07T17:48:30.834Z"
   },
   {
    "duration": 4,
    "start_time": "2022-05-07T17:48:47.517Z"
   },
   {
    "duration": 74,
    "start_time": "2022-05-07T17:48:47.524Z"
   },
   {
    "duration": 19,
    "start_time": "2022-05-07T17:48:47.601Z"
   },
   {
    "duration": 3,
    "start_time": "2022-05-07T17:48:47.623Z"
   },
   {
    "duration": 30,
    "start_time": "2022-05-07T17:48:47.628Z"
   },
   {
    "duration": 20,
    "start_time": "2022-05-07T17:48:47.660Z"
   },
   {
    "duration": 11,
    "start_time": "2022-05-07T17:48:47.682Z"
   },
   {
    "duration": 935,
    "start_time": "2022-05-07T17:48:47.695Z"
   },
   {
    "duration": 26,
    "start_time": "2022-05-07T17:48:48.633Z"
   },
   {
    "duration": 20495,
    "start_time": "2022-05-07T17:48:48.662Z"
   },
   {
    "duration": 58,
    "start_time": "2022-05-07T17:49:09.159Z"
   },
   {
    "duration": 27,
    "start_time": "2022-05-07T17:49:09.219Z"
   },
   {
    "duration": 42,
    "start_time": "2022-05-07T17:49:17.788Z"
   },
   {
    "duration": 5,
    "start_time": "2022-05-07T17:49:34.229Z"
   },
   {
    "duration": 45,
    "start_time": "2022-05-07T17:49:45.470Z"
   },
   {
    "duration": 60,
    "start_time": "2022-05-07T17:49:53.134Z"
   },
   {
    "duration": 5,
    "start_time": "2022-05-07T17:49:59.953Z"
   },
   {
    "duration": 64,
    "start_time": "2022-05-07T17:49:59.961Z"
   },
   {
    "duration": 23,
    "start_time": "2022-05-07T17:50:00.027Z"
   },
   {
    "duration": 12,
    "start_time": "2022-05-07T17:50:00.054Z"
   },
   {
    "duration": 16,
    "start_time": "2022-05-07T17:50:00.069Z"
   },
   {
    "duration": 26,
    "start_time": "2022-05-07T17:50:00.088Z"
   },
   {
    "duration": 29,
    "start_time": "2022-05-07T17:50:00.117Z"
   },
   {
    "duration": 937,
    "start_time": "2022-05-07T17:50:00.150Z"
   },
   {
    "duration": 27,
    "start_time": "2022-05-07T17:50:01.090Z"
   },
   {
    "duration": 20529,
    "start_time": "2022-05-07T17:50:01.134Z"
   },
   {
    "duration": 57,
    "start_time": "2022-05-07T17:50:21.665Z"
   },
   {
    "duration": 9,
    "start_time": "2022-05-07T17:50:21.738Z"
   },
   {
    "duration": 50,
    "start_time": "2022-05-07T17:50:24.325Z"
   },
   {
    "duration": 16,
    "start_time": "2022-05-07T17:51:35.475Z"
   },
   {
    "duration": 57,
    "start_time": "2022-05-07T17:51:57.468Z"
   },
   {
    "duration": 48,
    "start_time": "2022-05-07T17:52:06.150Z"
   },
   {
    "duration": 38,
    "start_time": "2022-05-07T17:52:11.115Z"
   },
   {
    "duration": 10,
    "start_time": "2022-05-07T17:53:13.666Z"
   },
   {
    "duration": 10,
    "start_time": "2022-05-07T17:53:36.158Z"
   },
   {
    "duration": 18,
    "start_time": "2022-05-07T17:54:01.587Z"
   },
   {
    "duration": 4,
    "start_time": "2022-05-07T17:54:13.893Z"
   },
   {
    "duration": 69,
    "start_time": "2022-05-07T17:54:13.900Z"
   },
   {
    "duration": 14,
    "start_time": "2022-05-07T17:54:13.971Z"
   },
   {
    "duration": 24,
    "start_time": "2022-05-07T17:54:13.987Z"
   },
   {
    "duration": 20,
    "start_time": "2022-05-07T17:54:14.013Z"
   },
   {
    "duration": 47,
    "start_time": "2022-05-07T17:54:14.035Z"
   },
   {
    "duration": 23,
    "start_time": "2022-05-07T17:54:14.084Z"
   },
   {
    "duration": 870,
    "start_time": "2022-05-07T17:54:14.109Z"
   },
   {
    "duration": 20,
    "start_time": "2022-05-07T17:54:14.983Z"
   },
   {
    "duration": 30,
    "start_time": "2022-05-07T17:54:15.005Z"
   },
   {
    "duration": 18788,
    "start_time": "2022-05-07T17:54:15.037Z"
   },
   {
    "duration": 59,
    "start_time": "2022-05-07T17:54:33.827Z"
   },
   {
    "duration": 48,
    "start_time": "2022-05-07T17:54:33.889Z"
   },
   {
    "duration": 45,
    "start_time": "2022-05-07T17:54:33.939Z"
   },
   {
    "duration": 10,
    "start_time": "2022-05-07T17:54:33.986Z"
   },
   {
    "duration": 13,
    "start_time": "2022-05-07T17:54:43.606Z"
   },
   {
    "duration": 4,
    "start_time": "2022-05-07T17:56:01.823Z"
   },
   {
    "duration": 48,
    "start_time": "2022-05-07T17:56:01.830Z"
   },
   {
    "duration": 14,
    "start_time": "2022-05-07T17:56:01.880Z"
   },
   {
    "duration": 3,
    "start_time": "2022-05-07T17:56:01.897Z"
   },
   {
    "duration": 11,
    "start_time": "2022-05-07T17:56:01.902Z"
   },
   {
    "duration": 32,
    "start_time": "2022-05-07T17:56:01.915Z"
   },
   {
    "duration": 10,
    "start_time": "2022-05-07T17:56:01.949Z"
   },
   {
    "duration": 851,
    "start_time": "2022-05-07T17:56:01.961Z"
   },
   {
    "duration": 33,
    "start_time": "2022-05-07T17:56:02.814Z"
   },
   {
    "duration": 10,
    "start_time": "2022-05-07T17:56:02.850Z"
   },
   {
    "duration": 17,
    "start_time": "2022-05-07T17:56:02.861Z"
   },
   {
    "duration": 4,
    "start_time": "2022-05-07T17:56:13.846Z"
   },
   {
    "duration": 16,
    "start_time": "2022-05-07T17:56:48.481Z"
   },
   {
    "duration": 4,
    "start_time": "2022-05-07T17:56:53.806Z"
   },
   {
    "duration": 4,
    "start_time": "2022-05-07T17:58:30.690Z"
   },
   {
    "duration": 53,
    "start_time": "2022-05-07T17:58:30.697Z"
   },
   {
    "duration": 14,
    "start_time": "2022-05-07T17:58:30.752Z"
   },
   {
    "duration": 3,
    "start_time": "2022-05-07T17:58:30.769Z"
   },
   {
    "duration": 11,
    "start_time": "2022-05-07T17:58:30.774Z"
   },
   {
    "duration": 22,
    "start_time": "2022-05-07T17:58:30.787Z"
   },
   {
    "duration": 14,
    "start_time": "2022-05-07T17:58:30.834Z"
   },
   {
    "duration": 836,
    "start_time": "2022-05-07T17:58:30.850Z"
   },
   {
    "duration": 18,
    "start_time": "2022-05-07T17:58:31.688Z"
   },
   {
    "duration": 24,
    "start_time": "2022-05-07T17:58:31.709Z"
   },
   {
    "duration": 13,
    "start_time": "2022-05-07T17:58:31.735Z"
   },
   {
    "duration": 10,
    "start_time": "2022-05-07T17:58:31.750Z"
   },
   {
    "duration": 18405,
    "start_time": "2022-05-07T17:58:31.761Z"
   },
   {
    "duration": 55,
    "start_time": "2022-05-07T17:58:50.168Z"
   },
   {
    "duration": 34,
    "start_time": "2022-05-07T17:58:50.233Z"
   },
   {
    "duration": 39,
    "start_time": "2022-05-07T17:58:50.268Z"
   },
   {
    "duration": 5,
    "start_time": "2022-05-07T18:00:01.679Z"
   },
   {
    "duration": 105,
    "start_time": "2022-05-07T18:00:01.686Z"
   },
   {
    "duration": 15,
    "start_time": "2022-05-07T18:00:01.793Z"
   },
   {
    "duration": 27,
    "start_time": "2022-05-07T18:00:01.811Z"
   },
   {
    "duration": 10,
    "start_time": "2022-05-07T18:00:01.840Z"
   },
   {
    "duration": 26,
    "start_time": "2022-05-07T18:00:01.852Z"
   },
   {
    "duration": 12,
    "start_time": "2022-05-07T18:00:01.880Z"
   },
   {
    "duration": 875,
    "start_time": "2022-05-07T18:00:01.894Z"
   },
   {
    "duration": 18,
    "start_time": "2022-05-07T18:00:02.771Z"
   },
   {
    "duration": 67,
    "start_time": "2022-05-07T18:00:02.792Z"
   },
   {
    "duration": 28,
    "start_time": "2022-05-07T18:00:02.862Z"
   },
   {
    "duration": 5,
    "start_time": "2022-05-07T18:00:17.891Z"
   },
   {
    "duration": 12,
    "start_time": "2022-05-07T18:00:42.559Z"
   },
   {
    "duration": 12,
    "start_time": "2022-05-07T18:01:41.792Z"
   },
   {
    "duration": 4,
    "start_time": "2022-05-07T18:02:17.669Z"
   },
   {
    "duration": 42,
    "start_time": "2022-05-07T18:02:17.674Z"
   },
   {
    "duration": 13,
    "start_time": "2022-05-07T18:02:17.718Z"
   },
   {
    "duration": 4,
    "start_time": "2022-05-07T18:02:17.733Z"
   },
   {
    "duration": 8,
    "start_time": "2022-05-07T18:02:17.739Z"
   },
   {
    "duration": 25,
    "start_time": "2022-05-07T18:02:17.749Z"
   },
   {
    "duration": 13,
    "start_time": "2022-05-07T18:02:17.777Z"
   },
   {
    "duration": 849,
    "start_time": "2022-05-07T18:02:17.793Z"
   },
   {
    "duration": 18,
    "start_time": "2022-05-07T18:02:18.645Z"
   },
   {
    "duration": 8,
    "start_time": "2022-05-07T18:02:18.665Z"
   },
   {
    "duration": 12,
    "start_time": "2022-05-07T18:02:18.675Z"
   },
   {
    "duration": 4,
    "start_time": "2022-05-07T18:02:18.689Z"
   },
   {
    "duration": 40,
    "start_time": "2022-05-07T18:02:18.695Z"
   },
   {
    "duration": 18800,
    "start_time": "2022-05-07T18:02:18.737Z"
   },
   {
    "duration": 55,
    "start_time": "2022-05-07T18:02:37.539Z"
   },
   {
    "duration": 48,
    "start_time": "2022-05-07T18:02:37.596Z"
   },
   {
    "duration": 13,
    "start_time": "2022-05-07T18:02:37.646Z"
   },
   {
    "duration": 11,
    "start_time": "2022-05-07T18:02:37.661Z"
   },
   {
    "duration": 12,
    "start_time": "2022-05-07T18:02:37.673Z"
   },
   {
    "duration": 16,
    "start_time": "2022-05-07T18:03:17.993Z"
   },
   {
    "duration": 3,
    "start_time": "2022-05-07T18:04:37.228Z"
   },
   {
    "duration": 11,
    "start_time": "2022-05-07T18:04:42.762Z"
   },
   {
    "duration": 16,
    "start_time": "2022-05-07T18:04:54.076Z"
   },
   {
    "duration": 8,
    "start_time": "2022-05-07T18:04:55.836Z"
   },
   {
    "duration": 12,
    "start_time": "2022-05-07T18:05:12.151Z"
   },
   {
    "duration": 10,
    "start_time": "2022-05-07T18:05:21.556Z"
   },
   {
    "duration": 5,
    "start_time": "2022-05-07T18:05:27.919Z"
   },
   {
    "duration": 55,
    "start_time": "2022-05-07T18:05:27.926Z"
   },
   {
    "duration": 12,
    "start_time": "2022-05-07T18:05:27.983Z"
   },
   {
    "duration": 2,
    "start_time": "2022-05-07T18:05:27.998Z"
   },
   {
    "duration": 14,
    "start_time": "2022-05-07T18:05:28.002Z"
   },
   {
    "duration": 27,
    "start_time": "2022-05-07T18:05:28.018Z"
   },
   {
    "duration": 14,
    "start_time": "2022-05-07T18:05:28.047Z"
   },
   {
    "duration": 822,
    "start_time": "2022-05-07T18:05:28.062Z"
   },
   {
    "duration": 19,
    "start_time": "2022-05-07T18:05:28.887Z"
   },
   {
    "duration": 28,
    "start_time": "2022-05-07T18:05:28.910Z"
   },
   {
    "duration": 14,
    "start_time": "2022-05-07T18:05:28.940Z"
   },
   {
    "duration": 4,
    "start_time": "2022-05-07T18:05:28.955Z"
   },
   {
    "duration": 7,
    "start_time": "2022-05-07T18:05:28.961Z"
   },
   {
    "duration": 18446,
    "start_time": "2022-05-07T18:05:28.970Z"
   },
   {
    "duration": 64,
    "start_time": "2022-05-07T18:05:47.418Z"
   },
   {
    "duration": 34,
    "start_time": "2022-05-07T18:05:47.484Z"
   },
   {
    "duration": 22,
    "start_time": "2022-05-07T18:05:47.519Z"
   },
   {
    "duration": 13,
    "start_time": "2022-05-07T18:05:47.542Z"
   },
   {
    "duration": 10,
    "start_time": "2022-05-07T18:05:47.557Z"
   },
   {
    "duration": 10,
    "start_time": "2022-05-07T18:05:52.522Z"
   },
   {
    "duration": 14,
    "start_time": "2022-05-07T18:05:55.704Z"
   },
   {
    "duration": 4,
    "start_time": "2022-05-07T18:05:59.427Z"
   },
   {
    "duration": 1596,
    "start_time": "2022-05-08T08:03:57.443Z"
   },
   {
    "duration": 43,
    "start_time": "2022-05-08T08:03:59.041Z"
   },
   {
    "duration": 13,
    "start_time": "2022-05-08T08:03:59.085Z"
   },
   {
    "duration": 2,
    "start_time": "2022-05-08T08:03:59.101Z"
   },
   {
    "duration": 9,
    "start_time": "2022-05-08T08:03:59.104Z"
   },
   {
    "duration": 17,
    "start_time": "2022-05-08T08:03:59.115Z"
   },
   {
    "duration": 8,
    "start_time": "2022-05-08T08:03:59.133Z"
   },
   {
    "duration": 927,
    "start_time": "2022-05-08T08:03:59.143Z"
   },
   {
    "duration": 18,
    "start_time": "2022-05-08T08:04:00.072Z"
   },
   {
    "duration": 9,
    "start_time": "2022-05-08T08:04:00.092Z"
   },
   {
    "duration": 16,
    "start_time": "2022-05-08T08:04:00.103Z"
   },
   {
    "duration": 4,
    "start_time": "2022-05-08T08:04:00.120Z"
   },
   {
    "duration": 15,
    "start_time": "2022-05-08T08:04:00.125Z"
   },
   {
    "duration": 15850,
    "start_time": "2022-05-08T08:04:00.141Z"
   },
   {
    "duration": 49,
    "start_time": "2022-05-08T08:04:15.992Z"
   },
   {
    "duration": 43,
    "start_time": "2022-05-08T08:04:16.043Z"
   },
   {
    "duration": 31,
    "start_time": "2022-05-08T08:04:38.932Z"
   },
   {
    "duration": 11,
    "start_time": "2022-05-08T08:04:38.964Z"
   },
   {
    "duration": 26,
    "start_time": "2022-05-08T08:04:38.976Z"
   },
   {
    "duration": 7,
    "start_time": "2022-05-08T08:04:39.004Z"
   },
   {
    "duration": 14,
    "start_time": "2022-05-08T08:04:39.013Z"
   },
   {
    "duration": 25,
    "start_time": "2022-05-08T08:04:39.029Z"
   },
   {
    "duration": 3,
    "start_time": "2022-05-08T08:04:39.056Z"
   },
   {
    "duration": 20,
    "start_time": "2022-05-08T08:04:39.061Z"
   },
   {
    "duration": 14,
    "start_time": "2022-05-08T08:04:39.083Z"
   },
   {
    "duration": 14,
    "start_time": "2022-05-08T08:04:39.100Z"
   },
   {
    "duration": 9,
    "start_time": "2022-05-08T08:04:39.116Z"
   },
   {
    "duration": 22,
    "start_time": "2022-05-08T08:04:39.127Z"
   },
   {
    "duration": 6,
    "start_time": "2022-05-08T08:04:39.151Z"
   },
   {
    "duration": 9,
    "start_time": "2022-05-08T08:04:39.159Z"
   },
   {
    "duration": 33605,
    "start_time": "2022-05-08T08:04:39.170Z"
   },
   {
    "duration": 1964,
    "start_time": "2022-05-08T08:05:12.777Z"
   },
   {
    "duration": 889,
    "start_time": "2022-05-08T08:05:14.742Z"
   },
   {
    "duration": 7,
    "start_time": "2022-05-08T08:05:15.632Z"
   },
   {
    "duration": 17625,
    "start_time": "2022-05-08T08:05:15.640Z"
   },
   {
    "duration": 4,
    "start_time": "2022-05-08T08:05:33.272Z"
   },
   {
    "duration": 36,
    "start_time": "2022-05-08T08:05:33.277Z"
   },
   {
    "duration": 11,
    "start_time": "2022-05-08T08:05:33.315Z"
   },
   {
    "duration": 2,
    "start_time": "2022-05-08T08:05:33.328Z"
   },
   {
    "duration": 10,
    "start_time": "2022-05-08T08:05:33.331Z"
   },
   {
    "duration": 21,
    "start_time": "2022-05-08T08:05:33.342Z"
   },
   {
    "duration": 8,
    "start_time": "2022-05-08T08:05:33.374Z"
   },
   {
    "duration": 724,
    "start_time": "2022-05-08T08:05:33.384Z"
   },
   {
    "duration": 17,
    "start_time": "2022-05-08T08:05:34.110Z"
   },
   {
    "duration": 13,
    "start_time": "2022-05-08T08:05:34.129Z"
   },
   {
    "duration": 18,
    "start_time": "2022-05-08T08:05:34.144Z"
   },
   {
    "duration": 4,
    "start_time": "2022-05-08T08:05:34.172Z"
   },
   {
    "duration": 11,
    "start_time": "2022-05-08T08:05:34.178Z"
   },
   {
    "duration": 32362,
    "start_time": "2022-05-08T08:05:34.190Z"
   },
   {
    "duration": 9,
    "start_time": "2022-05-08T08:06:06.554Z"
   },
   {
    "duration": 15,
    "start_time": "2022-05-08T08:06:06.564Z"
   },
   {
    "duration": 9,
    "start_time": "2022-05-08T08:07:05.866Z"
   },
   {
    "duration": 10,
    "start_time": "2022-05-08T08:07:14.960Z"
   },
   {
    "duration": 115,
    "start_time": "2022-05-08T08:13:26.615Z"
   },
   {
    "duration": 2610,
    "start_time": "2022-05-08T08:13:33.408Z"
   },
   {
    "duration": 28,
    "start_time": "2022-05-08T08:13:36.020Z"
   },
   {
    "duration": 35,
    "start_time": "2022-05-08T08:13:36.050Z"
   },
   {
    "duration": 11,
    "start_time": "2022-05-08T08:14:04.632Z"
   },
   {
    "duration": 11,
    "start_time": "2022-05-08T08:14:10.063Z"
   },
   {
    "duration": 3,
    "start_time": "2022-05-08T08:14:44.512Z"
   },
   {
    "duration": 3,
    "start_time": "2022-05-08T08:14:55.833Z"
   },
   {
    "duration": 36,
    "start_time": "2022-05-08T08:14:55.838Z"
   },
   {
    "duration": 11,
    "start_time": "2022-05-08T08:14:55.876Z"
   },
   {
    "duration": 2,
    "start_time": "2022-05-08T08:14:55.889Z"
   },
   {
    "duration": 6,
    "start_time": "2022-05-08T08:14:55.893Z"
   },
   {
    "duration": 21,
    "start_time": "2022-05-08T08:14:55.900Z"
   },
   {
    "duration": 8,
    "start_time": "2022-05-08T08:14:55.923Z"
   },
   {
    "duration": 745,
    "start_time": "2022-05-08T08:14:55.933Z"
   },
   {
    "duration": 16,
    "start_time": "2022-05-08T08:14:56.680Z"
   },
   {
    "duration": 7,
    "start_time": "2022-05-08T08:14:56.698Z"
   },
   {
    "duration": 11,
    "start_time": "2022-05-08T08:14:56.706Z"
   },
   {
    "duration": 3,
    "start_time": "2022-05-08T08:14:56.718Z"
   },
   {
    "duration": 5,
    "start_time": "2022-05-08T08:14:56.723Z"
   },
   {
    "duration": 12,
    "start_time": "2022-05-08T08:14:56.729Z"
   },
   {
    "duration": 0,
    "start_time": "2022-05-08T08:14:56.742Z"
   },
   {
    "duration": 12,
    "start_time": "2022-05-08T08:17:06.364Z"
   },
   {
    "duration": 2676,
    "start_time": "2022-05-08T08:17:25.684Z"
   },
   {
    "duration": 26,
    "start_time": "2022-05-08T08:17:35.193Z"
   },
   {
    "duration": 0,
    "start_time": "2022-05-08T08:20:43.577Z"
   },
   {
    "duration": 11,
    "start_time": "2022-05-08T08:26:52.850Z"
   },
   {
    "duration": 10,
    "start_time": "2022-05-08T08:27:07.146Z"
   },
   {
    "duration": 4011,
    "start_time": "2022-05-08T08:27:20.492Z"
   },
   {
    "duration": 26,
    "start_time": "2022-05-08T08:27:28.067Z"
   },
   {
    "duration": 18,
    "start_time": "2022-05-08T08:27:33.266Z"
   },
   {
    "duration": 19,
    "start_time": "2022-05-08T08:27:40.890Z"
   },
   {
    "duration": 4,
    "start_time": "2022-05-08T08:27:57.474Z"
   },
   {
    "duration": 47,
    "start_time": "2022-05-08T08:27:57.481Z"
   },
   {
    "duration": 17,
    "start_time": "2022-05-08T08:27:57.530Z"
   },
   {
    "duration": 23,
    "start_time": "2022-05-08T08:27:57.550Z"
   },
   {
    "duration": 4,
    "start_time": "2022-05-08T08:27:57.576Z"
   },
   {
    "duration": 41,
    "start_time": "2022-05-08T08:27:57.581Z"
   },
   {
    "duration": 35,
    "start_time": "2022-05-08T08:27:57.623Z"
   },
   {
    "duration": 765,
    "start_time": "2022-05-08T08:27:57.660Z"
   },
   {
    "duration": 16,
    "start_time": "2022-05-08T08:27:58.427Z"
   },
   {
    "duration": 8,
    "start_time": "2022-05-08T08:27:58.445Z"
   },
   {
    "duration": 28,
    "start_time": "2022-05-08T08:27:58.454Z"
   },
   {
    "duration": 6,
    "start_time": "2022-05-08T08:27:58.483Z"
   },
   {
    "duration": 14,
    "start_time": "2022-05-08T08:27:58.490Z"
   },
   {
    "duration": 4341,
    "start_time": "2022-05-08T08:27:58.506Z"
   },
   {
    "duration": 25,
    "start_time": "2022-05-08T08:28:02.849Z"
   },
   {
    "duration": 24,
    "start_time": "2022-05-08T08:28:02.877Z"
   },
   {
    "duration": 18,
    "start_time": "2022-05-08T08:28:02.903Z"
   },
   {
    "duration": 26,
    "start_time": "2022-05-08T08:28:02.922Z"
   },
   {
    "duration": 37,
    "start_time": "2022-05-08T08:28:02.950Z"
   },
   {
    "duration": 11,
    "start_time": "2022-05-08T08:28:02.989Z"
   },
   {
    "duration": 13,
    "start_time": "2022-05-08T08:28:03.002Z"
   },
   {
    "duration": 3,
    "start_time": "2022-05-08T08:29:09.398Z"
   },
   {
    "duration": 38,
    "start_time": "2022-05-08T08:29:09.403Z"
   },
   {
    "duration": 12,
    "start_time": "2022-05-08T08:29:09.443Z"
   },
   {
    "duration": 3,
    "start_time": "2022-05-08T08:29:09.456Z"
   },
   {
    "duration": 8,
    "start_time": "2022-05-08T08:29:09.461Z"
   },
   {
    "duration": 15,
    "start_time": "2022-05-08T08:29:09.471Z"
   },
   {
    "duration": 9,
    "start_time": "2022-05-08T08:29:09.488Z"
   },
   {
    "duration": 701,
    "start_time": "2022-05-08T08:29:09.499Z"
   },
   {
    "duration": 17,
    "start_time": "2022-05-08T08:29:10.202Z"
   },
   {
    "duration": 8,
    "start_time": "2022-05-08T08:29:10.221Z"
   },
   {
    "duration": 12,
    "start_time": "2022-05-08T08:29:10.231Z"
   },
   {
    "duration": 30,
    "start_time": "2022-05-08T08:29:10.244Z"
   },
   {
    "duration": 5,
    "start_time": "2022-05-08T08:29:10.277Z"
   },
   {
    "duration": 6083,
    "start_time": "2022-05-08T08:29:10.283Z"
   },
   {
    "duration": 34,
    "start_time": "2022-05-08T08:29:16.368Z"
   },
   {
    "duration": 24,
    "start_time": "2022-05-08T08:29:16.404Z"
   },
   {
    "duration": 12,
    "start_time": "2022-05-08T08:29:16.430Z"
   },
   {
    "duration": 11,
    "start_time": "2022-05-08T08:29:16.472Z"
   },
   {
    "duration": 10,
    "start_time": "2022-05-08T08:29:16.485Z"
   },
   {
    "duration": 8,
    "start_time": "2022-05-08T08:29:16.497Z"
   },
   {
    "duration": 11,
    "start_time": "2022-05-08T08:29:16.507Z"
   },
   {
    "duration": 12,
    "start_time": "2022-05-08T08:29:23.037Z"
   },
   {
    "duration": 4,
    "start_time": "2022-05-08T08:29:23.831Z"
   },
   {
    "duration": 10,
    "start_time": "2022-05-08T08:33:05.985Z"
   },
   {
    "duration": 3,
    "start_time": "2022-05-08T08:33:06.666Z"
   },
   {
    "duration": 6,
    "start_time": "2022-05-08T08:33:13.204Z"
   },
   {
    "duration": 11,
    "start_time": "2022-05-08T08:33:13.211Z"
   },
   {
    "duration": 6,
    "start_time": "2022-05-08T08:33:13.224Z"
   },
   {
    "duration": 7,
    "start_time": "2022-05-08T08:33:13.232Z"
   },
   {
    "duration": 12,
    "start_time": "2022-05-08T08:33:13.241Z"
   },
   {
    "duration": 7,
    "start_time": "2022-05-08T08:33:13.255Z"
   },
   {
    "duration": 4,
    "start_time": "2022-05-08T08:33:13.263Z"
   },
   {
    "duration": 33107,
    "start_time": "2022-05-08T08:33:13.268Z"
   },
   {
    "duration": 1963,
    "start_time": "2022-05-08T08:33:46.377Z"
   },
   {
    "duration": 883,
    "start_time": "2022-05-08T08:33:48.343Z"
   },
   {
    "duration": 7,
    "start_time": "2022-05-08T08:33:49.228Z"
   },
   {
    "duration": 31705,
    "start_time": "2022-05-08T08:33:49.236Z"
   },
   {
    "duration": 1486,
    "start_time": "2022-05-08T08:36:47.646Z"
   },
   {
    "duration": 42,
    "start_time": "2022-05-08T08:36:49.134Z"
   },
   {
    "duration": 15,
    "start_time": "2022-05-08T08:36:49.177Z"
   },
   {
    "duration": 2,
    "start_time": "2022-05-08T08:36:49.194Z"
   },
   {
    "duration": 6,
    "start_time": "2022-05-08T08:36:49.198Z"
   },
   {
    "duration": 17,
    "start_time": "2022-05-08T08:36:49.205Z"
   },
   {
    "duration": 9,
    "start_time": "2022-05-08T08:36:49.224Z"
   },
   {
    "duration": 787,
    "start_time": "2022-05-08T08:36:49.235Z"
   },
   {
    "duration": 19,
    "start_time": "2022-05-08T08:36:50.024Z"
   },
   {
    "duration": 30,
    "start_time": "2022-05-08T08:36:50.045Z"
   },
   {
    "duration": 13,
    "start_time": "2022-05-08T08:36:50.077Z"
   },
   {
    "duration": 3,
    "start_time": "2022-05-08T08:36:50.092Z"
   },
   {
    "duration": 7,
    "start_time": "2022-05-08T08:36:50.097Z"
   },
   {
    "duration": 4171,
    "start_time": "2022-05-08T08:36:50.106Z"
   },
   {
    "duration": 10,
    "start_time": "2022-05-08T08:36:54.279Z"
   },
   {
    "duration": 10,
    "start_time": "2022-05-08T08:36:54.291Z"
   },
   {
    "duration": 11,
    "start_time": "2022-05-08T08:36:54.302Z"
   },
   {
    "duration": 10,
    "start_time": "2022-05-08T08:36:54.315Z"
   },
   {
    "duration": 8,
    "start_time": "2022-05-08T08:36:54.326Z"
   },
   {
    "duration": 7,
    "start_time": "2022-05-08T08:36:54.335Z"
   },
   {
    "duration": 9,
    "start_time": "2022-05-08T08:36:54.344Z"
   },
   {
    "duration": 20,
    "start_time": "2022-05-08T08:36:54.354Z"
   },
   {
    "duration": 8,
    "start_time": "2022-05-08T08:36:54.375Z"
   },
   {
    "duration": 5,
    "start_time": "2022-05-08T08:36:54.385Z"
   },
   {
    "duration": 6,
    "start_time": "2022-05-08T08:36:54.392Z"
   },
   {
    "duration": 10,
    "start_time": "2022-05-08T08:36:54.400Z"
   },
   {
    "duration": 12,
    "start_time": "2022-05-08T08:36:54.412Z"
   },
   {
    "duration": 6,
    "start_time": "2022-05-08T08:36:54.425Z"
   },
   {
    "duration": 4,
    "start_time": "2022-05-08T08:36:54.433Z"
   },
   {
    "duration": 33349,
    "start_time": "2022-05-08T08:36:54.438Z"
   },
   {
    "duration": 1730,
    "start_time": "2022-05-08T08:37:27.788Z"
   },
   {
    "duration": 792,
    "start_time": "2022-05-08T08:37:29.519Z"
   },
   {
    "duration": 7,
    "start_time": "2022-05-08T08:37:30.313Z"
   },
   {
    "duration": 28513,
    "start_time": "2022-05-08T08:37:30.322Z"
   },
   {
    "duration": 4,
    "start_time": "2022-05-08T08:38:52.563Z"
   },
   {
    "duration": 1626,
    "start_time": "2022-05-08T08:39:44.857Z"
   },
   {
    "duration": 40,
    "start_time": "2022-05-08T08:39:46.485Z"
   },
   {
    "duration": 16,
    "start_time": "2022-05-08T08:39:46.526Z"
   },
   {
    "duration": 2,
    "start_time": "2022-05-08T08:39:46.544Z"
   },
   {
    "duration": 18,
    "start_time": "2022-05-08T08:39:46.548Z"
   },
   {
    "duration": 25,
    "start_time": "2022-05-08T08:39:46.568Z"
   },
   {
    "duration": 10,
    "start_time": "2022-05-08T08:39:46.594Z"
   },
   {
    "duration": 859,
    "start_time": "2022-05-08T08:39:46.606Z"
   },
   {
    "duration": 31,
    "start_time": "2022-05-08T08:39:47.467Z"
   },
   {
    "duration": 12,
    "start_time": "2022-05-08T08:39:47.501Z"
   },
   {
    "duration": 13,
    "start_time": "2022-05-08T08:39:47.515Z"
   },
   {
    "duration": 5,
    "start_time": "2022-05-08T08:39:47.530Z"
   },
   {
    "duration": 38,
    "start_time": "2022-05-08T08:39:47.537Z"
   },
   {
    "duration": 5318,
    "start_time": "2022-05-08T08:39:47.579Z"
   },
   {
    "duration": 33,
    "start_time": "2022-05-08T08:39:52.899Z"
   },
   {
    "duration": 24,
    "start_time": "2022-05-08T08:39:52.934Z"
   },
   {
    "duration": 11,
    "start_time": "2022-05-08T08:39:52.974Z"
   },
   {
    "duration": 14,
    "start_time": "2022-05-08T08:39:52.986Z"
   },
   {
    "duration": 10,
    "start_time": "2022-05-08T08:39:53.002Z"
   },
   {
    "duration": 12,
    "start_time": "2022-05-08T08:39:53.014Z"
   },
   {
    "duration": 13,
    "start_time": "2022-05-08T08:39:53.027Z"
   },
   {
    "duration": 3,
    "start_time": "2022-05-08T08:39:53.042Z"
   },
   {
    "duration": 33,
    "start_time": "2022-05-08T08:39:53.047Z"
   },
   {
    "duration": 6,
    "start_time": "2022-05-08T08:39:53.081Z"
   },
   {
    "duration": 6,
    "start_time": "2022-05-08T08:39:53.089Z"
   },
   {
    "duration": 9,
    "start_time": "2022-05-08T08:39:53.096Z"
   },
   {
    "duration": 13,
    "start_time": "2022-05-08T08:39:53.107Z"
   },
   {
    "duration": 8,
    "start_time": "2022-05-08T08:39:53.122Z"
   },
   {
    "duration": 43,
    "start_time": "2022-05-08T08:39:53.132Z"
   },
   {
    "duration": 34368,
    "start_time": "2022-05-08T08:39:53.177Z"
   },
   {
    "duration": 1727,
    "start_time": "2022-05-08T08:40:27.546Z"
   },
   {
    "duration": 773,
    "start_time": "2022-05-08T08:40:29.274Z"
   },
   {
    "duration": 7,
    "start_time": "2022-05-08T08:40:30.049Z"
   },
   {
    "duration": 37345,
    "start_time": "2022-05-08T08:40:30.058Z"
   },
   {
    "duration": 2,
    "start_time": "2022-05-08T08:51:16.192Z"
   },
   {
    "duration": 11,
    "start_time": "2022-05-08T08:51:49.339Z"
   },
   {
    "duration": 11,
    "start_time": "2022-05-08T08:51:57.013Z"
   },
   {
    "duration": 108,
    "start_time": "2022-05-08T08:53:17.540Z"
   },
   {
    "duration": 3,
    "start_time": "2022-05-08T08:53:53.361Z"
   },
   {
    "duration": 4,
    "start_time": "2022-05-08T08:54:20.645Z"
   },
   {
    "duration": 12,
    "start_time": "2022-05-08T08:54:32.422Z"
   },
   {
    "duration": 7,
    "start_time": "2022-05-08T08:54:39.992Z"
   },
   {
    "duration": 1364,
    "start_time": "2022-05-08T09:08:12.102Z"
   },
   {
    "duration": 41,
    "start_time": "2022-05-08T09:08:13.468Z"
   },
   {
    "duration": 12,
    "start_time": "2022-05-08T09:08:13.511Z"
   },
   {
    "duration": 3,
    "start_time": "2022-05-08T09:08:13.525Z"
   },
   {
    "duration": 8,
    "start_time": "2022-05-08T09:08:13.529Z"
   },
   {
    "duration": 16,
    "start_time": "2022-05-08T09:08:13.539Z"
   },
   {
    "duration": 24,
    "start_time": "2022-05-08T09:08:13.557Z"
   },
   {
    "duration": 726,
    "start_time": "2022-05-08T09:08:13.583Z"
   },
   {
    "duration": 112,
    "start_time": "2022-05-08T09:08:14.311Z"
   },
   {
    "duration": 0,
    "start_time": "2022-05-08T09:08:14.426Z"
   },
   {
    "duration": 0,
    "start_time": "2022-05-08T09:08:14.427Z"
   },
   {
    "duration": 0,
    "start_time": "2022-05-08T09:08:14.429Z"
   },
   {
    "duration": 0,
    "start_time": "2022-05-08T09:08:14.430Z"
   },
   {
    "duration": 0,
    "start_time": "2022-05-08T09:08:14.432Z"
   },
   {
    "duration": 0,
    "start_time": "2022-05-08T09:08:14.433Z"
   },
   {
    "duration": 0,
    "start_time": "2022-05-08T09:08:14.435Z"
   },
   {
    "duration": 0,
    "start_time": "2022-05-08T09:08:14.436Z"
   },
   {
    "duration": 0,
    "start_time": "2022-05-08T09:08:14.437Z"
   },
   {
    "duration": 0,
    "start_time": "2022-05-08T09:08:14.439Z"
   },
   {
    "duration": 0,
    "start_time": "2022-05-08T09:08:14.440Z"
   },
   {
    "duration": 0,
    "start_time": "2022-05-08T09:08:14.442Z"
   },
   {
    "duration": 0,
    "start_time": "2022-05-08T09:08:14.443Z"
   },
   {
    "duration": 0,
    "start_time": "2022-05-08T09:08:14.472Z"
   },
   {
    "duration": 0,
    "start_time": "2022-05-08T09:08:14.474Z"
   },
   {
    "duration": 0,
    "start_time": "2022-05-08T09:08:14.476Z"
   },
   {
    "duration": 0,
    "start_time": "2022-05-08T09:08:14.477Z"
   },
   {
    "duration": 0,
    "start_time": "2022-05-08T09:08:14.478Z"
   },
   {
    "duration": 0,
    "start_time": "2022-05-08T09:08:14.480Z"
   },
   {
    "duration": 0,
    "start_time": "2022-05-08T09:08:14.481Z"
   },
   {
    "duration": 0,
    "start_time": "2022-05-08T09:08:14.482Z"
   },
   {
    "duration": 0,
    "start_time": "2022-05-08T09:08:14.484Z"
   },
   {
    "duration": 0,
    "start_time": "2022-05-08T09:08:14.485Z"
   },
   {
    "duration": 0,
    "start_time": "2022-05-08T09:08:14.486Z"
   },
   {
    "duration": 0,
    "start_time": "2022-05-08T09:08:14.488Z"
   },
   {
    "duration": 1386,
    "start_time": "2022-05-08T09:09:03.116Z"
   },
   {
    "duration": 37,
    "start_time": "2022-05-08T09:09:04.504Z"
   },
   {
    "duration": 14,
    "start_time": "2022-05-08T09:09:04.542Z"
   },
   {
    "duration": 2,
    "start_time": "2022-05-08T09:09:04.558Z"
   },
   {
    "duration": 12,
    "start_time": "2022-05-08T09:09:04.562Z"
   },
   {
    "duration": 18,
    "start_time": "2022-05-08T09:09:04.575Z"
   },
   {
    "duration": 9,
    "start_time": "2022-05-08T09:09:04.594Z"
   },
   {
    "duration": 711,
    "start_time": "2022-05-08T09:09:04.605Z"
   },
   {
    "duration": 12,
    "start_time": "2022-05-08T09:09:05.318Z"
   },
   {
    "duration": 8,
    "start_time": "2022-05-08T09:09:05.332Z"
   },
   {
    "duration": 13,
    "start_time": "2022-05-08T09:09:05.341Z"
   },
   {
    "duration": 4,
    "start_time": "2022-05-08T09:09:05.374Z"
   },
   {
    "duration": 8,
    "start_time": "2022-05-08T09:09:05.379Z"
   },
   {
    "duration": 3933,
    "start_time": "2022-05-08T09:09:05.388Z"
   },
   {
    "duration": 33,
    "start_time": "2022-05-08T09:09:09.323Z"
   },
   {
    "duration": 32,
    "start_time": "2022-05-08T09:09:09.358Z"
   },
   {
    "duration": 11,
    "start_time": "2022-05-08T09:09:09.392Z"
   },
   {
    "duration": 14,
    "start_time": "2022-05-08T09:09:09.405Z"
   },
   {
    "duration": 8,
    "start_time": "2022-05-08T09:09:09.421Z"
   },
   {
    "duration": 8,
    "start_time": "2022-05-08T09:09:09.431Z"
   },
   {
    "duration": 42,
    "start_time": "2022-05-08T09:09:09.441Z"
   },
   {
    "duration": 6,
    "start_time": "2022-05-08T09:09:09.485Z"
   },
   {
    "duration": 7,
    "start_time": "2022-05-08T09:09:09.493Z"
   },
   {
    "duration": 6,
    "start_time": "2022-05-08T09:09:09.502Z"
   },
   {
    "duration": 7,
    "start_time": "2022-05-08T09:09:09.509Z"
   },
   {
    "duration": 8,
    "start_time": "2022-05-08T09:09:09.518Z"
   },
   {
    "duration": 46,
    "start_time": "2022-05-08T09:09:09.528Z"
   },
   {
    "duration": 8,
    "start_time": "2022-05-08T09:09:09.578Z"
   },
   {
    "duration": 5,
    "start_time": "2022-05-08T09:09:09.587Z"
   },
   {
    "duration": 33752,
    "start_time": "2022-05-08T09:09:09.594Z"
   },
   {
    "duration": 2217,
    "start_time": "2022-05-08T09:09:43.348Z"
   },
   {
    "duration": 1065,
    "start_time": "2022-05-08T09:09:45.566Z"
   },
   {
    "duration": 7,
    "start_time": "2022-05-08T09:09:46.633Z"
   },
   {
    "duration": 21339,
    "start_time": "2022-05-08T09:09:46.642Z"
   },
   {
    "duration": 105,
    "start_time": "2022-05-08T09:20:53.960Z"
   },
   {
    "duration": 1817,
    "start_time": "2022-05-08T10:26:33.543Z"
   },
   {
    "duration": 37,
    "start_time": "2022-05-08T10:26:35.362Z"
   },
   {
    "duration": 14,
    "start_time": "2022-05-08T10:26:35.401Z"
   },
   {
    "duration": 2,
    "start_time": "2022-05-08T10:26:35.417Z"
   },
   {
    "duration": 6,
    "start_time": "2022-05-08T10:26:35.422Z"
   },
   {
    "duration": 32,
    "start_time": "2022-05-08T10:26:35.430Z"
   },
   {
    "duration": 9,
    "start_time": "2022-05-08T10:26:35.463Z"
   },
   {
    "duration": 760,
    "start_time": "2022-05-08T10:26:35.474Z"
   },
   {
    "duration": 16,
    "start_time": "2022-05-08T10:26:36.236Z"
   },
   {
    "duration": 9,
    "start_time": "2022-05-08T10:26:36.254Z"
   },
   {
    "duration": 12,
    "start_time": "2022-05-08T10:26:36.264Z"
   },
   {
    "duration": 4,
    "start_time": "2022-05-08T10:26:36.278Z"
   },
   {
    "duration": 5,
    "start_time": "2022-05-08T10:26:36.283Z"
   },
   {
    "duration": 4993,
    "start_time": "2022-05-08T10:26:36.291Z"
   },
   {
    "duration": 26,
    "start_time": "2022-05-08T10:26:41.286Z"
   },
   {
    "duration": 36,
    "start_time": "2022-05-08T10:26:41.313Z"
   },
   {
    "duration": 13,
    "start_time": "2022-05-08T10:26:41.351Z"
   },
   {
    "duration": 14,
    "start_time": "2022-05-08T10:26:41.366Z"
   },
   {
    "duration": 796,
    "start_time": "2022-05-08T10:27:27.219Z"
   },
   {
    "duration": 113,
    "start_time": "2022-05-08T10:27:55.699Z"
   },
   {
    "duration": 111,
    "start_time": "2022-05-08T10:27:58.208Z"
   },
   {
    "duration": 155,
    "start_time": "2022-05-08T10:32:37.970Z"
   },
   {
    "duration": 123,
    "start_time": "2022-05-08T10:35:23.243Z"
   },
   {
    "duration": 30,
    "start_time": "2022-05-08T10:35:58.189Z"
   },
   {
    "duration": 27,
    "start_time": "2022-05-08T10:36:03.767Z"
   },
   {
    "duration": 1540,
    "start_time": "2022-05-08T10:48:48.298Z"
   },
   {
    "duration": 177,
    "start_time": "2022-05-08T10:49:18.358Z"
   }
  ],
  "kernelspec": {
   "display_name": "Python 3 (ipykernel)",
   "language": "python",
   "name": "python3"
  },
  "language_info": {
   "codemirror_mode": {
    "name": "ipython",
    "version": 3
   },
   "file_extension": ".py",
   "mimetype": "text/x-python",
   "name": "python",
   "nbconvert_exporter": "python",
   "pygments_lexer": "ipython3",
   "version": "3.9.7"
  },
  "toc": {
   "base_numbering": 1,
   "nav_menu": {},
   "number_sections": true,
   "sideBar": true,
   "skip_h1_title": true,
   "title_cell": "Содержание",
   "title_sidebar": "Contents",
   "toc_cell": true,
   "toc_position": {
    "height": "calc(100% - 180px)",
    "left": "10px",
    "top": "150px",
    "width": "319.463px"
   },
   "toc_section_display": true,
   "toc_window_display": true
  }
 },
 "nbformat": 4,
 "nbformat_minor": 2
}
