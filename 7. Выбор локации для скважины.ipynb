{
 "cells": [
  {
   "cell_type": "markdown",
   "metadata": {},
   "source": [
    "# Выбор локации для скважины"
   ]
  },
  {
   "cell_type": "markdown",
   "metadata": {},
   "source": [
    "Привет! Меня зовут Антон, и я буду совсем не против общения на \"ты\".\n",
    "Хочу заранее поблагодарить за проверку работы. Я сторонник лаконичности и красивого кода :) Конечно, реализую это в меру своих способностей :)\n",
    "Буду очень благодарен за наводки, советы, какие-то рассказы из своего опыта!\n"
   ]
  },
  {
   "cell_type": "markdown",
   "metadata": {},
   "source": [
    "Допустим, вы работаете в добывающей компании «ГлавРосГосНефть». Нужно решить, где бурить новую скважину.\n",
    "\n",
    "Вам предоставлены пробы нефти в трёх регионах: в каждом 10 000 месторождений, где измерили качество нефти и объём её запасов. Постройте модель машинного обучения, которая поможет определить регион, где добыча принесёт наибольшую прибыль. Проанализируйте возможную прибыль и риски техникой *Bootstrap.*\n",
    "\n",
    "Шаги для выбора локации:\n",
    "\n",
    "- В избранном регионе ищут месторождения, для каждого определяют значения признаков;\n",
    "- Строят модель и оценивают объём запасов;\n",
    "- Выбирают месторождения с самым высокими оценками значений. Количество месторождений зависит от бюджета компании и стоимости разработки одной скважины;\n",
    "- Прибыль равна суммарной прибыли отобранных месторождений."
   ]
  },
  {
   "cell_type": "markdown",
   "metadata": {},
   "source": [
    "## Загрузка и подготовка данных"
   ]
  },
  {
   "cell_type": "code",
   "execution_count": 1,
   "metadata": {},
   "outputs": [],
   "source": [
    "import numpy as np\n",
    "import pandas as pd\n",
    "import matplotlib.pyplot as plt\n",
    "import seaborn as sns\n",
    "\n",
    "from sklearn.model_selection import train_test_split\n",
    "from sklearn.linear_model import LinearRegression \n",
    "from sklearn.preprocessing import StandardScaler,MinMaxScaler,MaxAbsScaler,RobustScaler\n",
    "from sklearn.model_selection import GridSearchCV\n",
    "from sklearn.metrics import mean_squared_error \n",
    "from scipy import stats as st "
   ]
  },
  {
   "cell_type": "code",
   "execution_count": 2,
   "metadata": {},
   "outputs": [],
   "source": [
    "df0 = pd.read_csv('/datasets/geo_data_0.csv')\n",
    "df1 = pd.read_csv('/datasets/geo_data_1.csv')\n",
    "df2 = pd.read_csv('/datasets/geo_data_2.csv')\n",
    "\n",
    "dfs = [df0, df1, df2]"
   ]
  },
  {
   "cell_type": "code",
   "execution_count": 3,
   "metadata": {},
   "outputs": [
    {
     "data": {
      "text/plain": [
       "f0         0.143536\n",
       "f1        -0.192356\n",
       "f2         0.483663\n",
       "product    1.000000\n",
       "Name: product, dtype: float64"
      ]
     },
     "execution_count": 3,
     "metadata": {},
     "output_type": "execute_result"
    }
   ],
   "source": [
    "df0.corr().iloc[-1]"
   ]
  },
  {
   "cell_type": "code",
   "execution_count": 4,
   "metadata": {},
   "outputs": [
    {
     "name": "stdout",
     "output_type": "stream",
     "text": [
      "<class 'pandas.core.frame.DataFrame'>\n",
      "RangeIndex: 100000 entries, 0 to 99999\n",
      "Data columns (total 5 columns):\n",
      " #   Column   Non-Null Count   Dtype  \n",
      "---  ------   --------------   -----  \n",
      " 0   id       100000 non-null  object \n",
      " 1   f0       100000 non-null  float64\n",
      " 2   f1       100000 non-null  float64\n",
      " 3   f2       100000 non-null  float64\n",
      " 4   product  100000 non-null  float64\n",
      "dtypes: float64(4), object(1)\n",
      "memory usage: 3.8+ MB\n",
      "None\n",
      "=*=*=*=*=*=*=*=*=*=*\n",
      "          id        f0        f1        f2    product\n",
      "10501  QlXPj -0.773416  0.624082  1.079618  25.722552\n",
      "40707  Nybd2 -0.086190  0.953241 -1.905766   8.573203\n",
      "=*=*=*=*=*=*=*=*=*=*\n",
      "                  f0             f1             f2        product\n",
      "count  100000.000000  100000.000000  100000.000000  100000.000000\n",
      "mean        0.500419       0.250143       2.502647      92.500000\n",
      "std         0.871832       0.504433       3.248248      44.288691\n",
      "min        -1.408605      -0.848218     -12.088328       0.000000\n",
      "25%        -0.072580      -0.200881       0.287748      56.497507\n",
      "50%         0.502360       0.250252       2.515969      91.849972\n",
      "75%         1.073581       0.700646       4.715088     128.564089\n",
      "max         2.362331       1.343769      16.003790     185.364347\n",
      "=*=*=*=*=*=*=*=*=*=*\n"
     ]
    },
    {
     "data": {
      "image/png": "[encoded data removed]",
      "text/plain": [
       "<Figure size 432x288 with 2 Axes>"
      ]
     },
     "metadata": {
      "needs_background": "light"
     },
     "output_type": "display_data"
    },
    {
     "name": "stdout",
     "output_type": "stream",
     "text": [
      "=*=*=*=*=*=*=*=*=*=*=*=*=*=*=*=*=*=*=*=*=*=*=*=*=*=*=*=*=*=*=*=*=*=*=*=*=*=*=*=*\n",
      "<class 'pandas.core.frame.DataFrame'>\n",
      "RangeIndex: 100000 entries, 0 to 99999\n",
      "Data columns (total 5 columns):\n",
      " #   Column   Non-Null Count   Dtype  \n",
      "---  ------   --------------   -----  \n",
      " 0   id       100000 non-null  object \n",
      " 1   f0       100000 non-null  float64\n",
      " 2   f1       100000 non-null  float64\n",
      " 3   f2       100000 non-null  float64\n",
      " 4   product  100000 non-null  float64\n",
      "dtypes: float64(4), object(1)\n",
      "memory usage: 3.8+ MB\n",
      "None\n",
      "=*=*=*=*=*=*=*=*=*=*\n",
      "          id        f0         f1        f2    product\n",
      "95136  Ks9rv -7.800490  -3.719361  2.000509  57.085625\n",
      "3612   gjDr9 -7.979947 -12.786267  1.003335  30.132364\n",
      "=*=*=*=*=*=*=*=*=*=*\n",
      "                  f0             f1             f2        product\n",
      "count  100000.000000  100000.000000  100000.000000  100000.000000\n",
      "mean        1.141296      -4.796579       2.494541      68.825000\n",
      "std         8.965932       5.119872       1.703572      45.944423\n",
      "min       -31.609576     -26.358598      -0.018144       0.000000\n",
      "25%        -6.298551      -8.267985       1.000021      26.953261\n",
      "50%         1.153055      -4.813172       2.011479      57.085625\n",
      "75%         8.621015      -1.332816       3.999904     107.813044\n",
      "max        29.421755      18.734063       5.019721     137.945408\n",
      "=*=*=*=*=*=*=*=*=*=*\n"
     ]
    },
    {
     "data": {
      "image/png": "[encoded data removed]",
      "text/plain": [
       "<Figure size 432x288 with 2 Axes>"
      ]
     },
     "metadata": {
      "needs_background": "light"
     },
     "output_type": "display_data"
    },
    {
     "name": "stdout",
     "output_type": "stream",
     "text": [
      "=*=*=*=*=*=*=*=*=*=*=*=*=*=*=*=*=*=*=*=*=*=*=*=*=*=*=*=*=*=*=*=*=*=*=*=*=*=*=*=*\n",
      "<class 'pandas.core.frame.DataFrame'>\n",
      "RangeIndex: 100000 entries, 0 to 99999\n",
      "Data columns (total 5 columns):\n",
      " #   Column   Non-Null Count   Dtype  \n",
      "---  ------   --------------   -----  \n",
      " 0   id       100000 non-null  object \n",
      " 1   f0       100000 non-null  float64\n",
      " 2   f1       100000 non-null  float64\n",
      " 3   f2       100000 non-null  float64\n",
      " 4   product  100000 non-null  float64\n",
      "dtypes: float64(4), object(1)\n",
      "memory usage: 3.8+ MB\n",
      "None\n",
      "=*=*=*=*=*=*=*=*=*=*\n",
      "          id        f0        f1        f2    product\n",
      "67544  glIDp -0.759761 -0.113697  1.788634  21.072034\n",
      "60065  KvqHJ  1.195022  0.787031  3.680542  98.889740\n",
      "=*=*=*=*=*=*=*=*=*=*\n",
      "                  f0             f1             f2        product\n",
      "count  100000.000000  100000.000000  100000.000000  100000.000000\n",
      "mean        0.002023      -0.002081       2.495128      95.000000\n",
      "std         1.732045       1.730417       3.473445      44.749921\n",
      "min        -8.760004      -7.084020     -11.970335       0.000000\n",
      "25%        -1.162288      -1.174820       0.130359      59.450441\n",
      "50%         0.009424      -0.009482       2.484236      94.925613\n",
      "75%         1.158535       1.163678       4.858794     130.595027\n",
      "max         7.238262       7.844801      16.739402     190.029838\n",
      "=*=*=*=*=*=*=*=*=*=*\n"
     ]
    },
    {
     "data": {
      "image/png": "[encoded data removed]",
      "text/plain": [
       "<Figure size 432x288 with 2 Axes>"
      ]
     },
     "metadata": {
      "needs_background": "light"
     },
     "output_type": "display_data"
    },
    {
     "name": "stdout",
     "output_type": "stream",
     "text": [
      "=*=*=*=*=*=*=*=*=*=*=*=*=*=*=*=*=*=*=*=*=*=*=*=*=*=*=*=*=*=*=*=*=*=*=*=*=*=*=*=*\n"
     ]
    }
   ],
   "source": [
    "for df in dfs:\n",
    "    print(df.info())\n",
    "    print('=*'*10)\n",
    "    print(df.sample(2))\n",
    "    print('=*'*10)\n",
    "    print(df.describe())\n",
    "    print('=*'*10)\n",
    "    sns.heatmap(df.corr(), annot=True)\n",
    "    plt.show()\n",
    "    print('=*'*40)"
   ]
  },
  {
   "cell_type": "markdown",
   "metadata": {},
   "source": [
    "Похоже, что признаки уже отмасштабированы. Категориальных признаков нет (id мы удалим ниже, для обучения модели он не нужен). Во втором регионе имеем полную зависимость целевой переменной от признака f2."
   ]
  },
  {
   "cell_type": "markdown",
   "metadata": {},
   "source": [
    "## Обучение и проверка модели"
   ]
  },
  {
   "cell_type": "markdown",
   "metadata": {},
   "source": [
    "Функция, которая будет считать RMSE и выводить среднее предсказанное значение. Также в агрументах функции имеется возможность указать значения для удаления коррелирующих значений и применения масштабирования признаков. Как показали проверки ниже - это лишнее."
   ]
  },
  {
   "cell_type": "code",
   "execution_count": 5,
   "metadata": {},
   "outputs": [],
   "source": [
    "RS=123"
   ]
  },
  {
   "cell_type": "code",
   "execution_count": 6,
   "metadata": {},
   "outputs": [],
   "source": [
    "def do_lr(df, drop_col=None, scaler=None): # Do Logistic Regression for df\n",
    "    \n",
    "    df = df.drop('id', axis=1)\n",
    "   \n",
    "    if drop_col:\n",
    "        print('dropped', drop_col)\n",
    "        df = df.drop(drop_col, axis=1)\n",
    "    X = df.drop('product', axis=1)\n",
    "    y = df['product']\n",
    "    \n",
    "    X_train, X_test, y_train, y_test = train_test_split(X, y, test_size=0.25, random_state=RS)\n",
    "    \n",
    "    if scaler:\n",
    "        print(\"do scalling\")\n",
    "        #Creating Scaler Object\n",
    "        scaler_ = scaler\n",
    "        X_train = scaler_.fit_transform(X_train)\n",
    "        X_test = scaler_.transform(X_test)\n",
    "        \n",
    "    model = LinearRegression() \n",
    "    model.fit(X_train, y_train) \n",
    "    pred_test = pd.Series(model.predict(X_test)) \n",
    "    rmse = mean_squared_error(y_test, pred_test)**0.5 \n",
    "    mean_pred_test = pred_test.mean()\n",
    "    pred_all =  pd.Series(model.predict(X)) # чтобы сделать предсказания на всех данных и выбрать лучшие 200, нужно потом\n",
    "    \n",
    "    return  (rmse, mean_pred_test, pred_test, pred_all, y)   #2: добавим возвращаемое значение y\n",
    "\n",
    "\n",
    "def get_resume(args):\n",
    "    \n",
    "    print('Значение RMSE:', args[0])\n",
    "    print('Среднее предсказанное значение:', args[1])"
   ]
  },
  {
   "cell_type": "code",
   "execution_count": 7,
   "metadata": {},
   "outputs": [],
   "source": [
    "# Сохраним результаты обучения без предобработки данных\n",
    "lr_0 = do_lr(df0)\n",
    "lr_1 = do_lr(df1)\n",
    "lr_2 = do_lr(df2)\n",
    "lrs = [lr_0, lr_1, lr_2]"
   ]
  },
  {
   "cell_type": "code",
   "execution_count": 8,
   "metadata": {},
   "outputs": [
    {
     "name": "stdout",
     "output_type": "stream",
     "text": [
      "Значение RMSE: 37.64786282376177\n",
      "Среднее предсказанное значение: 92.54936189116306\n"
     ]
    }
   ],
   "source": [
    "get_resume(lr_0) "
   ]
  },
  {
   "cell_type": "markdown",
   "metadata": {},
   "source": [
    "Варьируем параметры входных данных:"
   ]
  },
  {
   "cell_type": "code",
   "execution_count": 9,
   "metadata": {},
   "outputs": [
    {
     "name": "stdout",
     "output_type": "stream",
     "text": [
      "do scalling\n",
      "Значение RMSE: 37.64786282376177\n",
      "Среднее предсказанное значение: 92.54936189116306\n"
     ]
    }
   ],
   "source": [
    "get_resume(do_lr(df0, scaler=RobustScaler())) # применим RobustScaler (https://machinelearningknowledge.ai/sklearn-feature-scaling-with-standardscaler-minmaxscaler-robustscaler-and-maxabsscaler/#Robust-Scaler)"
   ]
  },
  {
   "cell_type": "markdown",
   "metadata": {},
   "source": [
    "Эффекта от применения скалера нет."
   ]
  },
  {
   "cell_type": "code",
   "execution_count": 10,
   "metadata": {},
   "outputs": [
    {
     "name": "stdout",
     "output_type": "stream",
     "text": [
      "dropped ['f1']\n",
      "Значение RMSE: 38.196765022130705\n",
      "Среднее предсказанное значение: 92.50644418479048\n"
     ]
    }
   ],
   "source": [
    "get_resume(do_lr(df0, drop_col=['f1'])) # удалим коррелирующий признак"
   ]
  },
  {
   "cell_type": "markdown",
   "metadata": {},
   "source": [
    "Результат: удаление одного из признаков, который имеет обратную умеренную зависимость дает отрицательный эффект.  \n",
    "Модель работает неплохо и без лишних манипуляций с данными, соотвественно, не будем это использовать.\n",
    "Строим предсказания для трех регионов и анализируем результат:"
   ]
  },
  {
   "cell_type": "code",
   "execution_count": 11,
   "metadata": {},
   "outputs": [
    {
     "name": "stdout",
     "output_type": "stream",
     "text": [
      "Регион №1: \n",
      "Значение RMSE: 37.64786282376177\n",
      "Среднее предсказанное значение: 92.54936189116306\n",
      "Реальное среднее: 92.50000000000001\n",
      "\n",
      "Регион №2: \n",
      "Значение RMSE: 0.8954139804944313\n",
      "Среднее предсказанное значение: 69.28001860653976\n",
      "Реальное среднее: 68.82500000000002\n",
      "\n",
      "Регион №3: \n",
      "Значение RMSE: 40.12803006598514\n",
      "Среднее предсказанное значение: 95.09859933591373\n",
      "Реальное среднее: 95.00000000000004\n",
      "\n"
     ]
    }
   ],
   "source": [
    "for n, df in enumerate(dfs):\n",
    "    print(f'Регион №{n+1}: ')\n",
    "    get_resume(do_lr(df))\n",
    "    print('Реальное среднее:', df['product'].mean())\n",
    "    print()"
   ]
  },
  {
   "cell_type": "markdown",
   "metadata": {},
   "source": [
    "Вывод: среднее значение предсказано весьма точно, показатель RMSE в 1 и 3 регионе достаточно высок и почти одинаков, а во втором регионе за счет полной корреляции признака f2 - минимален, модель будет очень точно предсказывать данные."
   ]
  },
  {
   "cell_type": "markdown",
   "metadata": {},
   "source": [
    "## Подготовка к расчёту прибыли"
   ]
  },
  {
   "cell_type": "code",
   "execution_count": 12,
   "metadata": {},
   "outputs": [],
   "source": [
    "search_points = 500 # При разведке региона исследуют 500 точек\n",
    "best_points = 200 #  с помощью машинного обучения выбирают 200 лучших для разработки\n",
    "budget = 10000 #(в млн руб) Бюджет на разработку скважин в регионе — 10 млрд рублей.\n",
    "income_1000b = 0.45 #(в млн руб) Доход с каждой единицы продукта составляет 450 тыс. рублей\n",
    "prob_loss = 0.025 #вероятность убытков меньше 2.5%"
   ]
  },
  {
   "cell_type": "markdown",
   "metadata": {},
   "source": [
    "Рассчитаем достаточный объём сырья для безубыточной разработки новой скважины:"
   ]
  },
  {
   "cell_type": "code",
   "execution_count": 13,
   "metadata": {},
   "outputs": [
    {
     "data": {
      "text/plain": [
       "111.11111111111111"
      ]
     },
     "execution_count": 13,
     "metadata": {},
     "output_type": "execute_result"
    }
   ],
   "source": [
    "non_minuse_dev = budget / best_points / income_1000b\n",
    "non_minuse_dev"
   ]
  },
  {
   "cell_type": "markdown",
   "metadata": {},
   "source": [
    "Сравнивая данный объем со средними запасами в регионах можно сделать вывод, что все три региона  не имеют средние показатели выше этого порога. То есть, если случайным образом вести разработку скважин, скорее всего они окажутся убыточными."
   ]
  },
  {
   "cell_type": "markdown",
   "metadata": {},
   "source": [
    "## Расчёт прибыли и рисков \n"
   ]
  },
  {
   "cell_type": "code",
   "execution_count": 14,
   "metadata": {},
   "outputs": [],
   "source": [
    "def get_best_income(lr, to_print=0, region_n=None):\n",
    "    best_income = lr[3].sort_values(ascending=False).head(best_points).sum() * income_1000b - budget\n",
    "    if to_print:\n",
    "        print(f'Прогнозируемая прибыль (млн) с лучших {best_points} скважин в регионе №{region_n+1}: ')\n",
    "        print(best_income) \n",
    "    return best_income"
   ]
  },
  {
   "cell_type": "code",
   "execution_count": 15,
   "metadata": {},
   "outputs": [
    {
     "name": "stdout",
     "output_type": "stream",
     "text": [
      "Прогнозируемая прибыль (млн) с лучших 200 скважин в регионе №1: \n",
      "4678.58361482675\n",
      "Прогнозируемая прибыль (млн) с лучших 200 скважин в регионе №2: \n",
      "2524.90649073436\n",
      "Прогнозируемая прибыль (млн) с лучших 200 скважин в регионе №3: \n",
      "4138.6421333428225\n"
     ]
    }
   ],
   "source": [
    "for n, lr in enumerate(lrs):\n",
    "    get_best_income(lr, to_print=1, region_n=n)"
   ]
  },
  {
   "cell_type": "markdown",
   "metadata": {},
   "source": [
    "Вывод: по лучшим скважинам прибыль очень высокая. Но тут надо учитывать, что выбор происходит  лучших 200 точек не из 500 точек, как в условиях поиска, а из всего датасета с информацией о  100000 точках."
   ]
  },
  {
   "cell_type": "code",
   "execution_count": 16,
   "metadata": {},
   "outputs": [],
   "source": [
    "def get_distr_income(lr, n_samples=1000, n=search_points):\n",
    "    rs = np.random.RandomState(RS)\n",
    "    pred_reg = lr[3]\n",
    "    y = lr[4] # истинное значение запасов\n",
    "    distr = [] # distribution of best_samle_true_income\n",
    "        \n",
    "    for i in range(n_samples):\n",
    "        sample = pred_reg.sample(n=n, replace=True, random_state=rs)\n",
    "        # 2 исправляем логику расчета \n",
    "        # best_sample_income =  sample.sort_values(ascending=False).head(best_points).sum() * income_1000b - budget\n",
    "        best_sample_indexes = sample.sort_values(ascending=False).head(best_points).index #2\n",
    "        best_samle_true_income = y[best_sample_indexes].sum() * income_1000b - budget #2\n",
    "        distr.append(best_samle_true_income.mean())\n",
    "    return distr\n",
    "\n",
    "def get_resume_distr_income(distr:list, region_n=''):\n",
    "    risk = round(sum([i<0 for i in distr])/len(distr), 4) #Исправлено: поправил сравнение и сделал округление более точным\n",
    "    distr = pd.Series(distr)\n",
    "    print(f\"Результаты bootstrap-выборки в регионе {region_n+1}\")\n",
    "    print(\"-\"*40)\n",
    "    print(f\"График распределения прибыли:\")\n",
    "    distr.plot(kind='hist', bins=100)\n",
    "    plt.show()\n",
    "    mean_distr = round(distr.mean(), 3)\n",
    "    low = round(distr.quantile(0.025), 2)\n",
    "    up = round(distr.quantile(0.975), 2)\n",
    "    print(f\"Средняя прибыль: {mean_distr}\")\n",
    "    print(f\"95% доверительный интервал: от {low} до {up}\")\n",
    "    #print(f\"Риск убытков: {risk*100}%\")\n",
    "    \n",
    "    if risk < prob_loss:\n",
    "        print(f\"Вероятность убытков равна {risk*100}% и является меньше допустимой. Регион подходит!\")\n",
    "    else:\n",
    "        print(f\"Вероятность убытков равна {risk*100}% и является больше допустимой. Регион стоит исключить из разработки.\")   \n",
    "    print(\"*=\"*40)\n",
    "    print()\n"
   ]
  },
  {
   "cell_type": "code",
   "execution_count": 17,
   "metadata": {},
   "outputs": [
    {
     "name": "stdout",
     "output_type": "stream",
     "text": [
      "Результаты bootstrap-выборки в регионе 1\n",
      "----------------------------------------\n",
      "График распределения прибыли:\n"
     ]
    },
    {
     "data": {
      "image/png": "[encoded data removed]",
      "text/plain": [
       "<Figure size 432x288 with 1 Axes>"
      ]
     },
     "metadata": {
      "needs_background": "light"
     },
     "output_type": "display_data"
    },
    {
     "name": "stdout",
     "output_type": "stream",
     "text": [
      "Средняя прибыль: 420.618\n",
      "95% доверительный интервал: от -68.35 до 945.86\n",
      "Вероятность убытков равна 5.3% и является больше допустимой. Регион стоит исключить из разработки.\n",
      "*=*=*=*=*=*=*=*=*=*=*=*=*=*=*=*=*=*=*=*=*=*=*=*=*=*=*=*=*=*=*=*=*=*=*=*=*=*=*=*=\n",
      "\n",
      "Результаты bootstrap-выборки в регионе 2\n",
      "----------------------------------------\n",
      "График распределения прибыли:\n"
     ]
    },
    {
     "data": {
      "image/png": "[encoded data removed]",
      "text/plain": [
       "<Figure size 432x288 with 1 Axes>"
      ]
     },
     "metadata": {
      "needs_background": "light"
     },
     "output_type": "display_data"
    },
    {
     "name": "stdout",
     "output_type": "stream",
     "text": [
      "Средняя прибыль: 452.222\n",
      "95% доверительный интервал: от 42.53 до 850.21\n",
      "Вероятность убытков равна 1.3% и является меньше допустимой. Регион подходит!\n",
      "*=*=*=*=*=*=*=*=*=*=*=*=*=*=*=*=*=*=*=*=*=*=*=*=*=*=*=*=*=*=*=*=*=*=*=*=*=*=*=*=\n",
      "\n",
      "Результаты bootstrap-выборки в регионе 3\n",
      "----------------------------------------\n",
      "График распределения прибыли:\n"
     ]
    },
    {
     "data": {
      "image/png": "[encoded data removed]",
      "text/plain": [
       "<Figure size 432x288 with 1 Axes>"
      ]
     },
     "metadata": {
      "needs_background": "light"
     },
     "output_type": "display_data"
    },
    {
     "name": "stdout",
     "output_type": "stream",
     "text": [
      "Средняя прибыль: 371.707\n",
      "95% доверительный интервал: от -142.43 до 854.58\n",
      "Вероятность убытков равна 7.7% и является больше допустимой. Регион стоит исключить из разработки.\n",
      "*=*=*=*=*=*=*=*=*=*=*=*=*=*=*=*=*=*=*=*=*=*=*=*=*=*=*=*=*=*=*=*=*=*=*=*=*=*=*=*=\n",
      "\n"
     ]
    }
   ],
   "source": [
    "for n, lr in enumerate(lrs):\n",
    "    get_resume_distr_income(get_distr_income(lr), n)"
   ]
  },
  {
   "cell_type": "markdown",
   "metadata": {},
   "source": [
    "Вывод по результатам bootstrap:\n",
    "    из всех регионов исходя из ТЗ лучше остановится на регионе №2 со средней прибылью 452.222. Остальные регионы не подходят под условия задачи."
   ]
  }
 ],
 "metadata": {
  "ExecuteTimeLog": [
   {
    "duration": 43,
    "start_time": "2022-05-11T17:55:36.921Z"
   },
   {
    "duration": 356,
    "start_time": "2022-05-11T17:55:40.355Z"
   },
   {
    "duration": 326,
    "start_time": "2022-05-11T17:55:40.713Z"
   },
   {
    "duration": 15,
    "start_time": "2022-05-11T17:56:02.047Z"
   },
   {
    "duration": 8,
    "start_time": "2022-05-11T17:57:21.943Z"
   },
   {
    "duration": 14,
    "start_time": "2022-05-11T17:57:33.169Z"
   },
   {
    "duration": 26,
    "start_time": "2022-05-11T18:03:31.017Z"
   },
   {
    "duration": 322,
    "start_time": "2022-05-11T18:03:34.361Z"
   },
   {
    "duration": 15,
    "start_time": "2022-05-11T18:03:34.685Z"
   },
   {
    "duration": 33,
    "start_time": "2022-05-11T18:03:39.752Z"
   },
   {
    "duration": 30,
    "start_time": "2022-05-11T18:03:59.632Z"
   },
   {
    "duration": 30,
    "start_time": "2022-05-11T18:04:06.903Z"
   },
   {
    "duration": 31,
    "start_time": "2022-05-11T18:04:12.039Z"
   },
   {
    "duration": 30,
    "start_time": "2022-05-11T18:05:12.942Z"
   },
   {
    "duration": 32,
    "start_time": "2022-05-11T18:05:19.490Z"
   },
   {
    "duration": 30,
    "start_time": "2022-05-11T18:05:29.454Z"
   },
   {
    "duration": 1527,
    "start_time": "2022-05-11T18:10:06.599Z"
   },
   {
    "duration": 430,
    "start_time": "2022-05-11T18:10:08.128Z"
   },
   {
    "duration": 682,
    "start_time": "2022-05-11T18:10:23.278Z"
   },
   {
    "duration": 869,
    "start_time": "2022-05-11T18:10:36.040Z"
   },
   {
    "duration": 48,
    "start_time": "2022-05-11T18:12:22.566Z"
   },
   {
    "duration": 875,
    "start_time": "2022-05-11T18:12:34.277Z"
   },
   {
    "duration": 1080,
    "start_time": "2022-05-11T18:47:36.723Z"
   },
   {
    "duration": 1002,
    "start_time": "2022-05-11T18:49:24.151Z"
   },
   {
    "duration": 1235,
    "start_time": "2022-05-11T18:49:35.933Z"
   },
   {
    "duration": 20,
    "start_time": "2022-05-11T18:50:29.859Z"
   },
   {
    "duration": 12,
    "start_time": "2022-05-11T18:51:14.987Z"
   },
   {
    "duration": 8,
    "start_time": "2022-05-11T18:51:22.048Z"
   },
   {
    "duration": 7,
    "start_time": "2022-05-11T18:51:34.091Z"
   },
   {
    "duration": 13,
    "start_time": "2022-05-11T18:51:40.628Z"
   },
   {
    "duration": 12,
    "start_time": "2022-05-11T18:52:01.052Z"
   },
   {
    "duration": 19,
    "start_time": "2022-05-11T18:52:29.761Z"
   },
   {
    "duration": 17,
    "start_time": "2022-05-11T18:52:53.428Z"
   },
   {
    "duration": 294,
    "start_time": "2022-05-11T18:54:18.552Z"
   },
   {
    "duration": 18,
    "start_time": "2022-05-11T18:54:38.297Z"
   },
   {
    "duration": 4,
    "start_time": "2022-05-11T18:54:57.262Z"
   },
   {
    "duration": 19,
    "start_time": "2022-05-11T18:55:01.192Z"
   },
   {
    "duration": 4297,
    "start_time": "2022-05-11T18:55:22.782Z"
   },
   {
    "duration": 19,
    "start_time": "2022-05-11T18:55:27.081Z"
   },
   {
    "duration": 11,
    "start_time": "2022-05-11T18:55:42.937Z"
   },
   {
    "duration": 3218,
    "start_time": "2022-05-11T18:56:06.038Z"
   },
   {
    "duration": 16,
    "start_time": "2022-05-11T18:56:16.509Z"
   },
   {
    "duration": 1143,
    "start_time": "2022-05-11T19:03:12.341Z"
   },
   {
    "duration": 992,
    "start_time": "2022-05-11T19:03:55.317Z"
   },
   {
    "duration": 3,
    "start_time": "2022-05-11T19:04:11.056Z"
   },
   {
    "duration": 379,
    "start_time": "2022-05-11T19:04:11.061Z"
   },
   {
    "duration": 16,
    "start_time": "2022-05-11T19:04:11.442Z"
   },
   {
    "duration": 1043,
    "start_time": "2022-05-11T19:04:11.460Z"
   },
   {
    "duration": 1315,
    "start_time": "2022-05-11T19:04:39.029Z"
   },
   {
    "duration": 1673,
    "start_time": "2022-05-12T05:55:21.765Z"
   },
   {
    "duration": 331,
    "start_time": "2022-05-12T05:55:23.440Z"
   },
   {
    "duration": 14,
    "start_time": "2022-05-12T05:55:23.772Z"
   },
   {
    "duration": 974,
    "start_time": "2022-05-12T05:55:23.787Z"
   },
   {
    "duration": 4,
    "start_time": "2022-05-12T05:55:24.763Z"
   },
   {
    "duration": 103,
    "start_time": "2022-05-12T05:58:01.625Z"
   },
   {
    "duration": 4,
    "start_time": "2022-05-12T05:58:17.054Z"
   },
   {
    "duration": 26,
    "start_time": "2022-05-12T05:58:17.993Z"
   },
   {
    "duration": 4,
    "start_time": "2022-05-12T05:59:07.497Z"
   },
   {
    "duration": 50,
    "start_time": "2022-05-12T05:59:08.432Z"
   },
   {
    "duration": 5,
    "start_time": "2022-05-12T05:59:22.105Z"
   },
   {
    "duration": 114,
    "start_time": "2022-05-12T05:59:22.793Z"
   },
   {
    "duration": 4,
    "start_time": "2022-05-12T05:59:36.729Z"
   },
   {
    "duration": 79,
    "start_time": "2022-05-12T05:59:37.529Z"
   },
   {
    "duration": 5,
    "start_time": "2022-05-12T05:59:46.752Z"
   },
   {
    "duration": 28,
    "start_time": "2022-05-12T05:59:47.081Z"
   },
   {
    "duration": 31,
    "start_time": "2022-05-12T06:00:52.480Z"
   },
   {
    "duration": 43,
    "start_time": "2022-05-12T06:01:01.657Z"
   },
   {
    "duration": 28,
    "start_time": "2022-05-12T06:01:07.968Z"
   },
   {
    "duration": 4,
    "start_time": "2022-05-12T06:42:52.274Z"
   },
   {
    "duration": 26,
    "start_time": "2022-05-12T06:44:16.211Z"
   },
   {
    "duration": 194,
    "start_time": "2022-05-12T06:44:20.554Z"
   },
   {
    "duration": 23,
    "start_time": "2022-05-12T06:44:20.929Z"
   },
   {
    "duration": 5,
    "start_time": "2022-05-12T06:55:04.440Z"
   },
   {
    "duration": 15,
    "start_time": "2022-05-12T06:55:04.954Z"
   },
   {
    "duration": 5,
    "start_time": "2022-05-12T06:55:17.920Z"
   },
   {
    "duration": 34,
    "start_time": "2022-05-12T06:55:18.400Z"
   },
   {
    "duration": 23,
    "start_time": "2022-05-12T06:56:02.601Z"
   },
   {
    "duration": 4,
    "start_time": "2022-05-12T06:56:34.552Z"
   },
   {
    "duration": 38,
    "start_time": "2022-05-12T06:56:34.874Z"
   },
   {
    "duration": 27,
    "start_time": "2022-05-12T06:56:38.607Z"
   },
   {
    "duration": 27,
    "start_time": "2022-05-12T06:58:08.376Z"
   },
   {
    "duration": 5,
    "start_time": "2022-05-12T06:59:02.984Z"
   },
   {
    "duration": 25,
    "start_time": "2022-05-12T06:59:03.431Z"
   },
   {
    "duration": 5,
    "start_time": "2022-05-12T06:59:14.056Z"
   },
   {
    "duration": 73,
    "start_time": "2022-05-12T06:59:14.727Z"
   },
   {
    "duration": 35,
    "start_time": "2022-05-12T07:00:03.016Z"
   },
   {
    "duration": 65,
    "start_time": "2022-05-12T07:00:14.639Z"
   },
   {
    "duration": 5,
    "start_time": "2022-05-12T07:21:13.132Z"
   },
   {
    "duration": 30,
    "start_time": "2022-05-12T07:21:13.916Z"
   },
   {
    "duration": 24,
    "start_time": "2022-05-12T07:21:14.924Z"
   },
   {
    "duration": 14,
    "start_time": "2022-05-12T07:21:23.387Z"
   },
   {
    "duration": 6,
    "start_time": "2022-05-12T07:21:31.939Z"
   },
   {
    "duration": 23,
    "start_time": "2022-05-12T07:21:32.332Z"
   },
   {
    "duration": 105,
    "start_time": "2022-05-12T07:21:49.500Z"
   },
   {
    "duration": 5,
    "start_time": "2022-05-12T07:23:41.548Z"
   },
   {
    "duration": 29,
    "start_time": "2022-05-12T07:23:41.868Z"
   },
   {
    "duration": 119,
    "start_time": "2022-05-12T07:24:14.083Z"
   },
   {
    "duration": 9,
    "start_time": "2022-05-12T07:24:30.203Z"
   },
   {
    "duration": 92,
    "start_time": "2022-05-12T07:24:43.515Z"
   },
   {
    "duration": 5,
    "start_time": "2022-05-12T07:24:53.235Z"
   },
   {
    "duration": 30,
    "start_time": "2022-05-12T07:24:53.731Z"
   },
   {
    "duration": 22,
    "start_time": "2022-05-12T07:24:57.755Z"
   },
   {
    "duration": 35,
    "start_time": "2022-05-12T07:25:15.052Z"
   },
   {
    "duration": 4,
    "start_time": "2022-05-12T07:49:04.344Z"
   },
   {
    "duration": 80,
    "start_time": "2022-05-12T07:49:04.719Z"
   },
   {
    "duration": 21,
    "start_time": "2022-05-12T07:49:05.616Z"
   },
   {
    "duration": 9,
    "start_time": "2022-05-12T07:52:24.999Z"
   },
   {
    "duration": 26,
    "start_time": "2022-05-12T07:52:40.214Z"
   },
   {
    "duration": 198,
    "start_time": "2022-05-12T07:55:42.447Z"
   },
   {
    "duration": 9,
    "start_time": "2022-05-12T07:55:42.855Z"
   },
   {
    "duration": 193,
    "start_time": "2022-05-12T07:55:56.087Z"
   },
   {
    "duration": 8,
    "start_time": "2022-05-12T07:55:56.502Z"
   },
   {
    "duration": 6,
    "start_time": "2022-05-12T07:56:05.366Z"
   },
   {
    "duration": 58,
    "start_time": "2022-05-12T07:56:05.750Z"
   },
   {
    "duration": 5,
    "start_time": "2022-05-12T07:57:13.663Z"
   },
   {
    "duration": 77,
    "start_time": "2022-05-12T07:57:14.127Z"
   },
   {
    "duration": 109,
    "start_time": "2022-05-12T07:57:21.494Z"
   },
   {
    "duration": 6,
    "start_time": "2022-05-12T07:57:38.374Z"
   },
   {
    "duration": 30,
    "start_time": "2022-05-12T07:57:38.798Z"
   },
   {
    "duration": 20,
    "start_time": "2022-05-12T07:57:39.494Z"
   },
   {
    "duration": 21,
    "start_time": "2022-05-12T07:58:30.231Z"
   },
   {
    "duration": 41,
    "start_time": "2022-05-12T07:59:17.415Z"
   },
   {
    "duration": 20,
    "start_time": "2022-05-12T07:59:38.238Z"
   },
   {
    "duration": 375,
    "start_time": "2022-05-12T08:02:34.126Z"
   },
   {
    "duration": 9,
    "start_time": "2022-05-12T08:03:58.478Z"
   },
   {
    "duration": 299,
    "start_time": "2022-05-12T08:04:23.613Z"
   },
   {
    "duration": 171,
    "start_time": "2022-05-12T08:04:41.134Z"
   },
   {
    "duration": 390,
    "start_time": "2022-05-12T08:06:00.215Z"
   },
   {
    "duration": 183,
    "start_time": "2022-05-12T08:11:36.220Z"
   },
   {
    "duration": 19,
    "start_time": "2022-05-12T08:13:07.628Z"
   },
   {
    "duration": 29,
    "start_time": "2022-05-12T08:13:42.276Z"
   },
   {
    "duration": 5,
    "start_time": "2022-05-12T08:15:48.108Z"
   },
   {
    "duration": 26,
    "start_time": "2022-05-12T08:15:48.531Z"
   },
   {
    "duration": 32,
    "start_time": "2022-05-12T08:15:49.395Z"
   },
   {
    "duration": 21,
    "start_time": "2022-05-12T08:15:50.428Z"
   },
   {
    "duration": 304,
    "start_time": "2022-05-12T08:15:51.604Z"
   },
   {
    "duration": 6,
    "start_time": "2022-05-12T08:18:30.468Z"
   },
   {
    "duration": 26,
    "start_time": "2022-05-12T08:18:30.810Z"
   },
   {
    "duration": 32,
    "start_time": "2022-05-12T08:18:31.715Z"
   },
   {
    "duration": 20,
    "start_time": "2022-05-12T08:18:32.171Z"
   },
   {
    "duration": 353,
    "start_time": "2022-05-12T08:18:33.355Z"
   },
   {
    "duration": 3,
    "start_time": "2022-05-12T08:50:19.704Z"
   },
   {
    "duration": 2,
    "start_time": "2022-05-12T10:57:18.273Z"
   },
   {
    "duration": 3,
    "start_time": "2022-05-12T14:19:58.649Z"
   },
   {
    "duration": 4,
    "start_time": "2022-05-12T14:20:06.830Z"
   },
   {
    "duration": 4,
    "start_time": "2022-05-12T14:20:36.018Z"
   },
   {
    "duration": 227,
    "start_time": "2022-05-12T14:21:53.094Z"
   },
   {
    "duration": 500,
    "start_time": "2022-05-12T14:33:43.516Z"
   },
   {
    "duration": 370,
    "start_time": "2022-05-12T14:34:06.052Z"
   },
   {
    "duration": 457,
    "start_time": "2022-05-12T14:35:41.854Z"
   },
   {
    "duration": 526,
    "start_time": "2022-05-12T14:36:01.677Z"
   },
   {
    "duration": 356,
    "start_time": "2022-05-12T14:38:05.061Z"
   },
   {
    "duration": 549,
    "start_time": "2022-05-12T14:40:51.675Z"
   },
   {
    "duration": 307,
    "start_time": "2022-05-12T14:41:40.611Z"
   },
   {
    "duration": 456,
    "start_time": "2022-05-12T14:42:29.867Z"
   },
   {
    "duration": 406,
    "start_time": "2022-05-12T14:42:56.204Z"
   },
   {
    "duration": 5,
    "start_time": "2022-05-12T14:46:51.371Z"
   },
   {
    "duration": 374,
    "start_time": "2022-05-12T14:47:13.346Z"
   },
   {
    "duration": 669,
    "start_time": "2022-05-12T14:47:26.434Z"
   },
   {
    "duration": 619,
    "start_time": "2022-05-12T14:55:23.482Z"
   },
   {
    "duration": 537,
    "start_time": "2022-05-12T14:58:58.264Z"
   },
   {
    "duration": 215,
    "start_time": "2022-05-12T15:02:10.208Z"
   },
   {
    "duration": 5,
    "start_time": "2022-05-13T10:52:56.300Z"
   },
   {
    "duration": 4,
    "start_time": "2022-05-13T10:53:01.117Z"
   },
   {
    "duration": 5959,
    "start_time": "2022-05-13T10:53:01.124Z"
   },
   {
    "duration": 11,
    "start_time": "2022-05-13T10:53:07.085Z"
   },
   {
    "duration": 1191,
    "start_time": "2022-05-13T10:53:07.097Z"
   },
   {
    "duration": 11,
    "start_time": "2022-05-13T10:53:08.291Z"
   },
   {
    "duration": 98,
    "start_time": "2022-05-13T10:53:08.304Z"
   },
   {
    "duration": 126,
    "start_time": "2022-05-13T10:53:08.404Z"
   },
   {
    "duration": 181,
    "start_time": "2022-05-13T10:53:08.532Z"
   },
   {
    "duration": 604,
    "start_time": "2022-05-13T10:53:08.715Z"
   },
   {
    "duration": 7,
    "start_time": "2022-05-13T10:53:09.323Z"
   },
   {
    "duration": 117,
    "start_time": "2022-05-13T10:53:09.401Z"
   },
   {
    "duration": 5,
    "start_time": "2022-05-13T10:53:09.522Z"
   },
   {
    "duration": 223,
    "start_time": "2022-05-13T10:53:30.796Z"
   },
   {
    "duration": 3,
    "start_time": "2022-05-13T10:54:12.147Z"
   },
   {
    "duration": 123,
    "start_time": "2022-05-13T10:54:12.996Z"
   },
   {
    "duration": 4,
    "start_time": "2022-05-13T10:54:56.459Z"
   },
   {
    "duration": 201,
    "start_time": "2022-05-13T10:54:57.215Z"
   },
   {
    "duration": 3,
    "start_time": "2022-05-13T10:55:14.652Z"
   },
   {
    "duration": 74,
    "start_time": "2022-05-13T10:55:15.251Z"
   },
   {
    "duration": 7,
    "start_time": "2022-05-13T10:55:25.013Z"
   },
   {
    "duration": 415,
    "start_time": "2022-05-13T10:55:25.787Z"
   },
   {
    "duration": 3,
    "start_time": "2022-05-13T10:55:47.555Z"
   },
   {
    "duration": 594,
    "start_time": "2022-05-13T10:55:48.227Z"
   },
   {
    "duration": 180,
    "start_time": "2022-05-13T11:27:19.094Z"
   },
   {
    "duration": 8,
    "start_time": "2022-05-13T11:27:25.958Z"
   },
   {
    "duration": 9,
    "start_time": "2022-05-13T11:27:50.534Z"
   },
   {
    "duration": 186,
    "start_time": "2022-05-13T11:27:54.638Z"
   },
   {
    "duration": 9,
    "start_time": "2022-05-13T11:27:54.967Z"
   },
   {
    "duration": 209,
    "start_time": "2022-05-13T11:28:02.808Z"
   },
   {
    "duration": 4,
    "start_time": "2022-05-13T11:28:24.719Z"
   },
   {
    "duration": 466,
    "start_time": "2022-05-13T11:28:25.758Z"
   },
   {
    "duration": 221,
    "start_time": "2022-05-13T11:28:47.526Z"
   },
   {
    "duration": 4,
    "start_time": "2022-05-13T11:28:57.366Z"
   },
   {
    "duration": 712,
    "start_time": "2022-05-13T11:28:57.990Z"
   },
   {
    "duration": 533,
    "start_time": "2022-05-13T11:29:12.574Z"
   },
   {
    "duration": 5,
    "start_time": "2022-05-13T11:30:05.503Z"
   },
   {
    "duration": 480,
    "start_time": "2022-05-13T11:30:06.029Z"
   },
   {
    "duration": 3,
    "start_time": "2022-05-13T11:30:08.222Z"
   },
   {
    "duration": 3,
    "start_time": "2022-05-13T11:41:25.717Z"
   },
   {
    "duration": 3,
    "start_time": "2022-05-13T11:43:14.196Z"
   },
   {
    "duration": 3,
    "start_time": "2022-05-13T11:43:27.141Z"
   },
   {
    "duration": 12,
    "start_time": "2022-05-13T11:43:49.036Z"
   },
   {
    "duration": 4,
    "start_time": "2022-05-13T11:44:15.269Z"
   },
   {
    "duration": 41,
    "start_time": "2022-05-13T11:44:23.061Z"
   },
   {
    "duration": 4,
    "start_time": "2022-05-13T11:44:32.814Z"
   },
   {
    "duration": 227,
    "start_time": "2022-05-13T11:44:33.476Z"
   },
   {
    "duration": 3,
    "start_time": "2022-05-13T11:46:24.741Z"
   },
   {
    "duration": 298,
    "start_time": "2022-05-13T11:46:26.780Z"
   },
   {
    "duration": 201,
    "start_time": "2022-05-13T11:56:25.131Z"
   },
   {
    "duration": 327,
    "start_time": "2022-05-13T11:56:39.387Z"
   },
   {
    "duration": 400,
    "start_time": "2022-05-13T11:56:44.915Z"
   },
   {
    "duration": 11,
    "start_time": "2022-05-13T11:58:52.315Z"
   },
   {
    "duration": 307,
    "start_time": "2022-05-13T11:58:55.218Z"
   },
   {
    "duration": 211,
    "start_time": "2022-05-13T11:58:55.609Z"
   },
   {
    "duration": 384,
    "start_time": "2022-05-13T12:21:02.440Z"
   },
   {
    "duration": 251,
    "start_time": "2022-05-13T12:21:03.114Z"
   },
   {
    "duration": 4,
    "start_time": "2022-05-13T12:21:15.239Z"
   },
   {
    "duration": 4,
    "start_time": "2022-05-13T12:21:19.695Z"
   },
   {
    "duration": 3417,
    "start_time": "2022-05-13T12:21:20.167Z"
   },
   {
    "duration": 10,
    "start_time": "2022-05-13T12:22:16.327Z"
   },
   {
    "duration": 37,
    "start_time": "2022-05-13T12:22:25.542Z"
   },
   {
    "duration": 4,
    "start_time": "2022-05-13T12:24:38.734Z"
   },
   {
    "duration": 473,
    "start_time": "2022-05-13T12:25:31.256Z"
   },
   {
    "duration": 6,
    "start_time": "2022-05-13T12:25:45.094Z"
   },
   {
    "duration": 127,
    "start_time": "2022-05-13T12:26:26.574Z"
   },
   {
    "duration": 35,
    "start_time": "2022-05-13T12:26:27.430Z"
   },
   {
    "duration": 535,
    "start_time": "2022-05-13T12:27:36.894Z"
   },
   {
    "duration": 5,
    "start_time": "2022-05-13T12:28:00.711Z"
   },
   {
    "duration": 9,
    "start_time": "2022-05-13T12:28:06.893Z"
   },
   {
    "duration": 302,
    "start_time": "2022-05-13T12:28:12.608Z"
   },
   {
    "duration": 38,
    "start_time": "2022-05-13T12:28:19.342Z"
   },
   {
    "duration": 4,
    "start_time": "2022-05-13T12:29:05.597Z"
   },
   {
    "duration": 28,
    "start_time": "2022-05-13T12:29:05.997Z"
   },
   {
    "duration": 3,
    "start_time": "2022-05-13T12:29:18.878Z"
   },
   {
    "duration": 37,
    "start_time": "2022-05-13T12:29:19.221Z"
   },
   {
    "duration": 3,
    "start_time": "2022-05-13T12:33:31.486Z"
   },
   {
    "duration": 8,
    "start_time": "2022-05-13T12:34:17.437Z"
   },
   {
    "duration": 546,
    "start_time": "2022-05-13T12:34:22.460Z"
   },
   {
    "duration": 11,
    "start_time": "2022-05-13T12:34:28.813Z"
   },
   {
    "duration": 478,
    "start_time": "2022-05-13T12:34:33.868Z"
   },
   {
    "duration": 548,
    "start_time": "2022-05-13T12:34:53.277Z"
   },
   {
    "duration": 4,
    "start_time": "2022-05-13T12:37:07.181Z"
   },
   {
    "duration": 4099,
    "start_time": "2022-05-13T12:37:07.868Z"
   },
   {
    "duration": 3,
    "start_time": "2022-05-13T12:38:43.901Z"
   },
   {
    "duration": 1207,
    "start_time": "2022-05-13T12:38:43.906Z"
   },
   {
    "duration": 4,
    "start_time": "2022-05-13T12:45:18.604Z"
   },
   {
    "duration": 722,
    "start_time": "2022-05-13T12:45:18.931Z"
   },
   {
    "duration": 826,
    "start_time": "2022-05-13T12:45:25.204Z"
   },
   {
    "duration": 4,
    "start_time": "2022-05-13T12:51:01.547Z"
   },
   {
    "duration": 395,
    "start_time": "2022-05-13T12:51:02.235Z"
   },
   {
    "duration": 4,
    "start_time": "2022-05-13T12:51:21.827Z"
   },
   {
    "duration": 413,
    "start_time": "2022-05-13T12:51:22.219Z"
   },
   {
    "duration": 372,
    "start_time": "2022-05-13T12:51:30.939Z"
   },
   {
    "duration": 374,
    "start_time": "2022-05-13T12:51:50.068Z"
   },
   {
    "duration": 481,
    "start_time": "2022-05-13T12:52:35.164Z"
   },
   {
    "duration": 181,
    "start_time": "2022-05-13T12:54:01.508Z"
   },
   {
    "duration": 930,
    "start_time": "2022-05-13T12:54:04.843Z"
   },
   {
    "duration": 5,
    "start_time": "2022-05-13T12:59:09.443Z"
   },
   {
    "duration": 399,
    "start_time": "2022-05-13T12:59:10.106Z"
   },
   {
    "duration": 385,
    "start_time": "2022-05-13T12:59:35.721Z"
   },
   {
    "duration": 4,
    "start_time": "2022-05-13T12:59:42.633Z"
   },
   {
    "duration": 863,
    "start_time": "2022-05-13T12:59:45.345Z"
   },
   {
    "duration": 891,
    "start_time": "2022-05-13T12:59:55.522Z"
   },
   {
    "duration": 6,
    "start_time": "2022-05-13T13:00:35.074Z"
   },
   {
    "duration": 1289,
    "start_time": "2022-05-13T13:00:35.835Z"
   },
   {
    "duration": 1306,
    "start_time": "2022-05-13T13:01:07.785Z"
   },
   {
    "duration": 866,
    "start_time": "2022-05-13T13:01:13.314Z"
   },
   {
    "duration": 865,
    "start_time": "2022-05-13T13:01:17.914Z"
   },
   {
    "duration": 5,
    "start_time": "2022-05-13T13:02:15.257Z"
   },
   {
    "duration": 879,
    "start_time": "2022-05-13T13:02:15.857Z"
   },
   {
    "duration": 4,
    "start_time": "2022-05-13T13:05:52.153Z"
   },
   {
    "duration": 863,
    "start_time": "2022-05-13T13:05:52.698Z"
   },
   {
    "duration": 865,
    "start_time": "2022-05-13T13:06:07.706Z"
   },
   {
    "duration": 4,
    "start_time": "2022-05-13T13:06:23.386Z"
   },
   {
    "duration": 865,
    "start_time": "2022-05-13T13:06:23.913Z"
   },
   {
    "duration": 4,
    "start_time": "2022-05-13T13:06:36.097Z"
   },
   {
    "duration": 855,
    "start_time": "2022-05-13T13:06:36.777Z"
   },
   {
    "duration": 5,
    "start_time": "2022-05-13T13:07:14.497Z"
   },
   {
    "duration": 848,
    "start_time": "2022-05-13T13:07:15.200Z"
   },
   {
    "duration": 4,
    "start_time": "2022-05-13T13:08:56.593Z"
   },
   {
    "duration": 856,
    "start_time": "2022-05-13T13:08:57.025Z"
   },
   {
    "duration": 377,
    "start_time": "2022-05-13T13:09:23.408Z"
   },
   {
    "duration": 4,
    "start_time": "2022-05-13T13:09:58.521Z"
   },
   {
    "duration": 728,
    "start_time": "2022-05-13T13:09:59.224Z"
   },
   {
    "duration": 6,
    "start_time": "2022-05-13T13:10:12.329Z"
   },
   {
    "duration": 723,
    "start_time": "2022-05-13T13:10:13.017Z"
   },
   {
    "duration": 7,
    "start_time": "2022-05-13T13:10:23.449Z"
   },
   {
    "duration": 944,
    "start_time": "2022-05-13T13:10:24.273Z"
   },
   {
    "duration": 568,
    "start_time": "2022-05-13T13:39:45.317Z"
   },
   {
    "duration": 5,
    "start_time": "2022-05-13T13:42:36.668Z"
   },
   {
    "duration": 561,
    "start_time": "2022-05-13T13:42:37.147Z"
   },
   {
    "duration": 5,
    "start_time": "2022-05-13T13:42:44.060Z"
   },
   {
    "duration": 559,
    "start_time": "2022-05-13T13:42:44.435Z"
   },
   {
    "duration": 5,
    "start_time": "2022-05-13T13:43:37.636Z"
   },
   {
    "duration": 567,
    "start_time": "2022-05-13T13:43:38.027Z"
   },
   {
    "duration": 6,
    "start_time": "2022-05-13T13:45:52.236Z"
   },
   {
    "duration": 718,
    "start_time": "2022-05-13T13:45:52.747Z"
   },
   {
    "duration": 6,
    "start_time": "2022-05-13T13:47:35.643Z"
   },
   {
    "duration": 568,
    "start_time": "2022-05-13T13:47:35.939Z"
   },
   {
    "duration": 595,
    "start_time": "2022-05-13T13:48:47.586Z"
   },
   {
    "duration": 564,
    "start_time": "2022-05-13T13:49:10.746Z"
   },
   {
    "duration": 2190,
    "start_time": "2022-05-13T13:49:59.923Z"
   },
   {
    "duration": 6,
    "start_time": "2022-05-13T13:50:19.414Z"
   },
   {
    "duration": 2273,
    "start_time": "2022-05-13T13:50:21.258Z"
   },
   {
    "duration": 1886,
    "start_time": "2022-05-13T13:50:32.835Z"
   },
   {
    "duration": 6,
    "start_time": "2022-05-13T13:51:03.346Z"
   },
   {
    "duration": 1695,
    "start_time": "2022-05-13T13:51:04.050Z"
   },
   {
    "duration": 5,
    "start_time": "2022-05-13T13:51:55.963Z"
   },
   {
    "duration": 1848,
    "start_time": "2022-05-13T13:51:59.683Z"
   },
   {
    "duration": 6,
    "start_time": "2022-05-13T13:52:28.916Z"
   },
   {
    "duration": 1760,
    "start_time": "2022-05-13T13:52:29.290Z"
   },
   {
    "duration": 139,
    "start_time": "2022-05-13T13:53:00.267Z"
   },
   {
    "duration": 1752,
    "start_time": "2022-05-13T13:53:00.890Z"
   },
   {
    "duration": 7,
    "start_time": "2022-05-13T13:54:07.762Z"
   },
   {
    "duration": 2531,
    "start_time": "2022-05-13T13:54:08.218Z"
   },
   {
    "duration": 6,
    "start_time": "2022-05-13T13:58:30.842Z"
   },
   {
    "duration": 1804,
    "start_time": "2022-05-13T13:58:31.315Z"
   },
   {
    "duration": 8,
    "start_time": "2022-05-13T13:59:06.137Z"
   },
   {
    "duration": 2165,
    "start_time": "2022-05-13T13:59:06.498Z"
   },
   {
    "duration": 195,
    "start_time": "2022-05-13T14:08:12.169Z"
   },
   {
    "duration": 6,
    "start_time": "2022-05-13T14:18:51.680Z"
   },
   {
    "duration": 682,
    "start_time": "2022-05-13T14:18:52.240Z"
   },
   {
    "duration": 13,
    "start_time": "2022-05-13T14:19:07.537Z"
   },
   {
    "duration": 2305,
    "start_time": "2022-05-13T14:19:08.016Z"
   },
   {
    "duration": 151,
    "start_time": "2022-05-13T14:19:38.271Z"
   },
   {
    "duration": 1805,
    "start_time": "2022-05-13T14:19:38.663Z"
   },
   {
    "duration": 7,
    "start_time": "2022-05-13T14:20:57.616Z"
   },
   {
    "duration": 2001,
    "start_time": "2022-05-13T14:20:58.023Z"
   },
   {
    "duration": 8,
    "start_time": "2022-05-13T14:21:21.471Z"
   },
   {
    "duration": 1887,
    "start_time": "2022-05-13T14:21:21.847Z"
   },
   {
    "duration": 204,
    "start_time": "2022-05-13T14:22:51.695Z"
   },
   {
    "duration": 223,
    "start_time": "2022-05-13T14:22:54.632Z"
   },
   {
    "duration": 210,
    "start_time": "2022-05-13T14:22:57.671Z"
   },
   {
    "duration": 7,
    "start_time": "2022-05-13T14:24:43.368Z"
   },
   {
    "duration": 3249,
    "start_time": "2022-05-13T14:24:43.377Z"
   },
   {
    "duration": 6,
    "start_time": "2022-05-13T14:25:44.464Z"
   },
   {
    "duration": 1966,
    "start_time": "2022-05-13T14:25:44.920Z"
   },
   {
    "duration": 7,
    "start_time": "2022-05-13T14:28:39.663Z"
   },
   {
    "duration": 1936,
    "start_time": "2022-05-13T14:28:39.983Z"
   },
   {
    "duration": 1546,
    "start_time": "2022-05-13T14:29:08.566Z"
   },
   {
    "duration": 335,
    "start_time": "2022-05-13T14:29:10.114Z"
   },
   {
    "duration": 14,
    "start_time": "2022-05-13T14:29:10.453Z"
   },
   {
    "duration": 999,
    "start_time": "2022-05-13T14:29:10.468Z"
   },
   {
    "duration": 7,
    "start_time": "2022-05-13T14:29:11.468Z"
   },
   {
    "duration": 24,
    "start_time": "2022-05-13T14:29:11.476Z"
   },
   {
    "duration": 404,
    "start_time": "2022-05-13T14:29:11.502Z"
   },
   {
    "duration": 94,
    "start_time": "2022-05-13T14:29:11.908Z"
   },
   {
    "duration": 195,
    "start_time": "2022-05-13T14:29:12.006Z"
   },
   {
    "duration": 117,
    "start_time": "2022-05-13T14:29:12.205Z"
   },
   {
    "duration": 603,
    "start_time": "2022-05-13T14:29:12.401Z"
   },
   {
    "duration": 4,
    "start_time": "2022-05-13T14:29:13.006Z"
   },
   {
    "duration": 111,
    "start_time": "2022-05-13T14:29:13.012Z"
   },
   {
    "duration": 22,
    "start_time": "2022-05-13T14:29:13.125Z"
   },
   {
    "duration": 94,
    "start_time": "2022-05-13T14:29:13.149Z"
   },
   {
    "duration": 7,
    "start_time": "2022-05-13T14:29:13.245Z"
   },
   {
    "duration": 2117,
    "start_time": "2022-05-13T14:29:13.253Z"
   },
   {
    "duration": 1585,
    "start_time": "2022-05-13T14:30:09.839Z"
   },
   {
    "duration": 361,
    "start_time": "2022-05-13T14:30:11.426Z"
   },
   {
    "duration": 15,
    "start_time": "2022-05-13T14:30:11.789Z"
   },
   {
    "duration": 1080,
    "start_time": "2022-05-13T14:30:11.806Z"
   },
   {
    "duration": 14,
    "start_time": "2022-05-13T14:30:12.887Z"
   },
   {
    "duration": 38,
    "start_time": "2022-05-13T14:30:12.902Z"
   },
   {
    "duration": 273,
    "start_time": "2022-05-13T14:30:12.942Z"
   },
   {
    "duration": 5,
    "start_time": "2022-05-13T14:30:13.217Z"
   },
   {
    "duration": 138,
    "start_time": "2022-05-13T14:30:13.303Z"
   },
   {
    "duration": 118,
    "start_time": "2022-05-13T14:30:13.503Z"
   },
   {
    "duration": 677,
    "start_time": "2022-05-13T14:30:13.623Z"
   },
   {
    "duration": 96,
    "start_time": "2022-05-13T14:30:14.311Z"
   },
   {
    "duration": 24,
    "start_time": "2022-05-13T14:30:14.412Z"
   },
   {
    "duration": 9,
    "start_time": "2022-05-13T14:30:14.438Z"
   },
   {
    "duration": 42,
    "start_time": "2022-05-13T14:30:14.449Z"
   },
   {
    "duration": 6,
    "start_time": "2022-05-13T14:30:14.493Z"
   },
   {
    "duration": 1933,
    "start_time": "2022-05-13T14:30:14.501Z"
   },
   {
    "duration": 3,
    "start_time": "2022-05-14T16:29:41.778Z"
   },
   {
    "duration": 5,
    "start_time": "2022-05-14T16:29:42.438Z"
   },
   {
    "duration": 6,
    "start_time": "2022-05-14T16:32:16.742Z"
   },
   {
    "duration": 233,
    "start_time": "2022-05-14T16:34:18.933Z"
   },
   {
    "duration": 5,
    "start_time": "2022-05-14T16:36:14.276Z"
   },
   {
    "duration": 188,
    "start_time": "2022-05-14T16:41:24.288Z"
   },
   {
    "duration": 1503,
    "start_time": "2022-05-14T16:54:20.320Z"
   },
   {
    "duration": 355,
    "start_time": "2022-05-14T16:54:21.825Z"
   },
   {
    "duration": 19,
    "start_time": "2022-05-14T16:54:22.182Z"
   },
   {
    "duration": 977,
    "start_time": "2022-05-14T16:54:22.203Z"
   },
   {
    "duration": 18,
    "start_time": "2022-05-14T16:54:23.182Z"
   },
   {
    "duration": 6,
    "start_time": "2022-05-14T16:54:23.202Z"
   },
   {
    "duration": 396,
    "start_time": "2022-05-14T16:54:23.210Z"
   },
   {
    "duration": 93,
    "start_time": "2022-05-14T16:54:23.608Z"
   },
   {
    "duration": 196,
    "start_time": "2022-05-14T16:54:23.704Z"
   },
   {
    "duration": 199,
    "start_time": "2022-05-14T16:54:23.904Z"
   },
   {
    "duration": 498,
    "start_time": "2022-05-14T16:54:24.106Z"
   },
   {
    "duration": 3,
    "start_time": "2022-05-14T16:54:24.607Z"
   },
   {
    "duration": 9,
    "start_time": "2022-05-14T16:54:24.701Z"
   },
   {
    "duration": 4,
    "start_time": "2022-05-14T16:54:24.712Z"
   },
   {
    "duration": 116,
    "start_time": "2022-05-14T16:54:24.717Z"
   },
   {
    "duration": 7,
    "start_time": "2022-05-14T16:54:24.834Z"
   },
   {
    "duration": 1763,
    "start_time": "2022-05-14T16:54:24.842Z"
   },
   {
    "duration": 6,
    "start_time": "2022-05-14T17:03:29.528Z"
   },
   {
    "duration": 1711,
    "start_time": "2022-05-14T17:03:31.310Z"
   },
   {
    "duration": 91,
    "start_time": "2022-05-14T17:03:46.866Z"
   },
   {
    "duration": 1659,
    "start_time": "2022-05-14T17:03:48.074Z"
   },
   {
    "duration": 6,
    "start_time": "2022-05-14T17:04:49.242Z"
   },
   {
    "duration": 1881,
    "start_time": "2022-05-14T17:04:50.094Z"
   },
   {
    "duration": 6,
    "start_time": "2022-05-14T17:05:48.892Z"
   },
   {
    "duration": 1735,
    "start_time": "2022-05-14T17:05:50.280Z"
   },
   {
    "duration": 6,
    "start_time": "2022-05-14T17:06:06.292Z"
   },
   {
    "duration": 1977,
    "start_time": "2022-05-14T17:06:07.320Z"
   },
   {
    "duration": 6,
    "start_time": "2022-05-14T17:14:37.215Z"
   },
   {
    "duration": 1640,
    "start_time": "2022-05-14T17:14:38.661Z"
   },
   {
    "duration": 7,
    "start_time": "2022-05-14T17:14:58.869Z"
   },
   {
    "duration": 1766,
    "start_time": "2022-05-14T17:15:00.286Z"
   },
   {
    "duration": 194,
    "start_time": "2022-05-14T17:15:30.642Z"
   },
   {
    "duration": 6,
    "start_time": "2022-05-14T17:16:47.649Z"
   },
   {
    "duration": 1466,
    "start_time": "2022-05-14T17:26:24.652Z"
   },
   {
    "duration": 339,
    "start_time": "2022-05-14T17:26:26.120Z"
   },
   {
    "duration": 17,
    "start_time": "2022-05-14T17:26:26.461Z"
   },
   {
    "duration": 991,
    "start_time": "2022-05-14T17:26:26.480Z"
   },
   {
    "duration": 3,
    "start_time": "2022-05-14T17:26:27.473Z"
   },
   {
    "duration": 8,
    "start_time": "2022-05-14T17:26:27.477Z"
   },
   {
    "duration": 599,
    "start_time": "2022-05-14T17:26:27.501Z"
   },
   {
    "duration": 5,
    "start_time": "2022-05-14T17:26:28.103Z"
   },
   {
    "duration": 200,
    "start_time": "2022-05-14T17:26:28.110Z"
   },
   {
    "duration": 293,
    "start_time": "2022-05-14T17:26:28.313Z"
   },
   {
    "duration": 499,
    "start_time": "2022-05-14T17:26:28.609Z"
   },
   {
    "duration": 3,
    "start_time": "2022-05-14T17:26:29.110Z"
   },
   {
    "duration": 92,
    "start_time": "2022-05-14T17:26:29.115Z"
   },
   {
    "duration": 93,
    "start_time": "2022-05-14T17:26:29.213Z"
   },
   {
    "duration": 49,
    "start_time": "2022-05-14T17:26:29.308Z"
   },
   {
    "duration": 8,
    "start_time": "2022-05-14T17:26:29.359Z"
   },
   {
    "duration": 1832,
    "start_time": "2022-05-14T17:26:29.369Z"
   },
   {
    "duration": 1384,
    "start_time": "2022-05-19T17:36:05.131Z"
   },
   {
    "duration": 797,
    "start_time": "2022-05-19T17:36:06.518Z"
   },
   {
    "duration": 13,
    "start_time": "2022-05-19T17:36:07.317Z"
   },
   {
    "duration": 1046,
    "start_time": "2022-05-19T17:36:07.332Z"
   },
   {
    "duration": 3,
    "start_time": "2022-05-19T17:36:08.379Z"
   },
   {
    "duration": 9,
    "start_time": "2022-05-19T17:36:08.383Z"
   },
   {
    "duration": 370,
    "start_time": "2022-05-19T17:36:08.393Z"
   },
   {
    "duration": 3,
    "start_time": "2022-05-19T17:36:08.765Z"
   },
   {
    "duration": 200,
    "start_time": "2022-05-19T17:36:08.853Z"
   },
   {
    "duration": 118,
    "start_time": "2022-05-19T17:36:09.057Z"
   },
   {
    "duration": 506,
    "start_time": "2022-05-19T17:36:09.255Z"
   },
   {
    "duration": 90,
    "start_time": "2022-05-19T17:36:09.762Z"
   },
   {
    "duration": 4,
    "start_time": "2022-05-19T17:36:09.854Z"
   },
   {
    "duration": 101,
    "start_time": "2022-05-19T17:36:09.859Z"
   },
   {
    "duration": 42,
    "start_time": "2022-05-19T17:36:09.961Z"
   },
   {
    "duration": 7,
    "start_time": "2022-05-19T17:36:10.004Z"
   },
   {
    "duration": 128,
    "start_time": "2022-05-19T17:36:10.013Z"
   },
   {
    "duration": 4,
    "start_time": "2022-05-19T17:37:33.537Z"
   },
   {
    "duration": 324,
    "start_time": "2022-05-19T17:37:33.542Z"
   },
   {
    "duration": 12,
    "start_time": "2022-05-19T17:37:33.868Z"
   },
   {
    "duration": 1103,
    "start_time": "2022-05-19T17:37:33.882Z"
   },
   {
    "duration": 2,
    "start_time": "2022-05-19T17:37:34.987Z"
   },
   {
    "duration": 15,
    "start_time": "2022-05-19T17:37:34.991Z"
   },
   {
    "duration": 454,
    "start_time": "2022-05-19T17:37:35.008Z"
   },
   {
    "duration": 3,
    "start_time": "2022-05-19T17:37:35.464Z"
   },
   {
    "duration": 198,
    "start_time": "2022-05-19T17:37:35.553Z"
   },
   {
    "duration": 113,
    "start_time": "2022-05-19T17:37:35.755Z"
   },
   {
    "duration": 590,
    "start_time": "2022-05-19T17:37:35.870Z"
   },
   {
    "duration": 3,
    "start_time": "2022-05-19T17:37:36.553Z"
   },
   {
    "duration": 101,
    "start_time": "2022-05-19T17:37:36.558Z"
   },
   {
    "duration": 4,
    "start_time": "2022-05-19T17:37:36.662Z"
   },
   {
    "duration": 44,
    "start_time": "2022-05-19T17:37:36.667Z"
   },
   {
    "duration": 8,
    "start_time": "2022-05-19T17:37:36.712Z"
   },
   {
    "duration": 3937,
    "start_time": "2022-05-19T17:37:36.721Z"
   },
   {
    "duration": 4,
    "start_time": "2022-05-19T17:38:38.226Z"
   },
   {
    "duration": 321,
    "start_time": "2022-05-19T17:38:38.232Z"
   },
   {
    "duration": 10,
    "start_time": "2022-05-19T17:38:38.555Z"
   },
   {
    "duration": 1098,
    "start_time": "2022-05-19T17:38:38.567Z"
   },
   {
    "duration": 3,
    "start_time": "2022-05-19T17:38:39.667Z"
   },
   {
    "duration": 9,
    "start_time": "2022-05-19T17:38:39.672Z"
   },
   {
    "duration": 375,
    "start_time": "2022-05-19T17:38:39.682Z"
   },
   {
    "duration": 3,
    "start_time": "2022-05-19T17:38:40.059Z"
   },
   {
    "duration": 229,
    "start_time": "2022-05-19T17:38:40.064Z"
   },
   {
    "duration": 115,
    "start_time": "2022-05-19T17:38:40.353Z"
   },
   {
    "duration": 590,
    "start_time": "2022-05-19T17:38:40.470Z"
   },
   {
    "duration": 89,
    "start_time": "2022-05-19T17:38:41.064Z"
   },
   {
    "duration": 107,
    "start_time": "2022-05-19T17:38:41.155Z"
   },
   {
    "duration": 6,
    "start_time": "2022-05-19T17:38:41.263Z"
   },
   {
    "duration": 45,
    "start_time": "2022-05-19T17:38:41.271Z"
   },
   {
    "duration": 7,
    "start_time": "2022-05-19T17:38:41.353Z"
   },
   {
    "duration": 2990,
    "start_time": "2022-05-19T17:38:41.362Z"
   },
   {
    "duration": 4,
    "start_time": "2022-05-19T17:39:40.574Z"
   },
   {
    "duration": 342,
    "start_time": "2022-05-19T17:39:40.581Z"
   },
   {
    "duration": 11,
    "start_time": "2022-05-19T17:39:40.925Z"
   },
   {
    "duration": 1173,
    "start_time": "2022-05-19T17:39:40.938Z"
   },
   {
    "duration": 3,
    "start_time": "2022-05-19T17:39:42.113Z"
   },
   {
    "duration": 8,
    "start_time": "2022-05-19T17:39:42.118Z"
   },
   {
    "duration": 329,
    "start_time": "2022-05-19T17:39:42.128Z"
   },
   {
    "duration": 3,
    "start_time": "2022-05-19T17:39:42.459Z"
   },
   {
    "duration": 206,
    "start_time": "2022-05-19T17:39:42.552Z"
   },
   {
    "duration": 207,
    "start_time": "2022-05-19T17:39:42.760Z"
   },
   {
    "duration": 597,
    "start_time": "2022-05-19T17:39:42.969Z"
   },
   {
    "duration": 84,
    "start_time": "2022-05-19T17:39:43.568Z"
   },
   {
    "duration": 5,
    "start_time": "2022-05-19T17:39:43.654Z"
   },
   {
    "duration": 95,
    "start_time": "2022-05-19T17:39:43.661Z"
   },
   {
    "duration": 44,
    "start_time": "2022-05-19T17:39:43.758Z"
   },
   {
    "duration": 8,
    "start_time": "2022-05-19T17:39:43.804Z"
   },
   {
    "duration": 2947,
    "start_time": "2022-05-19T17:39:43.813Z"
   },
   {
    "duration": 1280,
    "start_time": "2022-05-19T17:43:55.864Z"
   },
   {
    "duration": 350,
    "start_time": "2022-05-19T17:43:57.146Z"
   },
   {
    "duration": 16,
    "start_time": "2022-05-19T17:43:57.498Z"
   },
   {
    "duration": 1083,
    "start_time": "2022-05-19T17:43:57.516Z"
   },
   {
    "duration": 3,
    "start_time": "2022-05-19T17:43:58.601Z"
   },
   {
    "duration": 7,
    "start_time": "2022-05-19T17:43:58.606Z"
   },
   {
    "duration": 639,
    "start_time": "2022-05-19T17:43:58.615Z"
   },
   {
    "duration": 4,
    "start_time": "2022-05-19T17:43:59.256Z"
   },
   {
    "duration": 197,
    "start_time": "2022-05-19T17:43:59.262Z"
   },
   {
    "duration": 214,
    "start_time": "2022-05-19T17:43:59.463Z"
   },
   {
    "duration": 510,
    "start_time": "2022-05-19T17:43:59.751Z"
   },
   {
    "duration": 90,
    "start_time": "2022-05-19T17:44:00.263Z"
   },
   {
    "duration": 98,
    "start_time": "2022-05-19T17:44:00.355Z"
   },
   {
    "duration": 19,
    "start_time": "2022-05-19T17:44:00.455Z"
   },
   {
    "duration": 61,
    "start_time": "2022-05-19T17:44:00.476Z"
   },
   {
    "duration": 7,
    "start_time": "2022-05-19T17:44:00.539Z"
   },
   {
    "duration": 3191,
    "start_time": "2022-05-19T17:44:00.548Z"
   }
  ],
  "kernelspec": {
   "display_name": "Python 3 (ipykernel)",
   "language": "python",
   "name": "python3"
  },
  "language_info": {
   "codemirror_mode": {
    "name": "ipython",
    "version": 3
   },
   "file_extension": ".py",
   "mimetype": "text/x-python",
   "name": "python",
   "nbconvert_exporter": "python",
   "pygments_lexer": "ipython3",
   "version": "3.9.7"
  },
  "toc": {
   "base_numbering": 1,
   "nav_menu": {},
   "number_sections": true,
   "sideBar": true,
   "skip_h1_title": true,
   "title_cell": "Table of Contents",
   "title_sidebar": "Contents",
   "toc_cell": false,
   "toc_position": {},
   "toc_section_display": true,
   "toc_window_display": false
  }
 },
 "nbformat": 4,
 "nbformat_minor": 2
}
