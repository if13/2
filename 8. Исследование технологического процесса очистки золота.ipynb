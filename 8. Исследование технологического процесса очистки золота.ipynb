{
 "cells": [
  {
   "cell_type": "markdown",
   "metadata": {
    "toc": true
   },
   "source": [
    "<h1>Содержание<span class=\"tocSkip\"></span></h1>\n",
    "<div class=\"toc\"><ul class=\"toc-item\"><li><span><a href=\"#Подготовка-данных\" data-toc-modified-id=\"Подготовка-данных-1\"><span class=\"toc-item-num\">1&nbsp;&nbsp;</span>Подготовка данных</a></span></li><li><span><a href=\"#Анализ-данных\" data-toc-modified-id=\"Анализ-данных-2\"><span class=\"toc-item-num\">2&nbsp;&nbsp;</span>Анализ данных</a></span></li><li><span><a href=\"#Модель\" data-toc-modified-id=\"Модель-3\"><span class=\"toc-item-num\">3&nbsp;&nbsp;</span>Модель</a></span></li><li><span><a href=\"#Чек-лист-готовности-проекта\" data-toc-modified-id=\"Чек-лист-готовности-проекта-4\"><span class=\"toc-item-num\">4&nbsp;&nbsp;</span>Чек-лист готовности проекта</a></span></li></ul></div>"
   ]
  },
  {
   "cell_type": "markdown",
   "metadata": {},
   "source": [
    "# Восстановление золота из руды"
   ]
  },
  {
   "cell_type": "markdown",
   "metadata": {},
   "source": [
    "Подготовьте прототип модели машинного обучения для «Цифры». Компания разрабатывает решения для эффективной работы промышленных предприятий.\n",
    "\n",
    "Модель должна предсказать коэффициент восстановления золота из золотосодержащей руды. Используйте данные с параметрами добычи и очистки. \n",
    "\n",
    "Модель поможет оптимизировать производство, чтобы не запускать предприятие с убыточными характеристиками.\n",
    "\n",
    "Вам нужно:\n",
    "\n",
    "1. Подготовить данные;\n",
    "2. Провести исследовательский анализ данных;\n",
    "3. Построить и обучить модель.\n",
    "\n",
    "Чтобы выполнить проект, обращайтесь к библиотекам *pandas*, *matplotlib* и *sklearn.* Вам поможет их документация."
   ]
  },
  {
   "cell_type": "markdown",
   "metadata": {},
   "source": [
    "## Подготовка данных"
   ]
  },
  {
   "cell_type": "code",
   "execution_count": 1,
   "metadata": {},
   "outputs": [],
   "source": [
    "import numpy as np\n",
    "import pandas as pd\n",
    "import matplotlib.pyplot as plt\n",
    "import seaborn as sns\n",
    "from sklearn.metrics import mean_absolute_error\n",
    "from operator import itemgetter\n",
    "from sklearn.ensemble import RandomForestRegressor\n",
    "from sklearn.linear_model import LinearRegression \n",
    "from sklearn.preprocessing import RobustScaler\n",
    "from sklearn.preprocessing import StandardScaler\n",
    "from sklearn.model_selection import RandomizedSearchCV, GridSearchCV\n",
    "from sklearn.metrics import r2_score\n",
    "from sklearn.metrics import mean_squared_error\n",
    "from sklearn.metrics import make_scorer\n",
    "from sklearn.pipeline import make_pipeline\n",
    "from sklearn.dummy import DummyRegressor\n",
    "\n",
    "sns.set(style=\"darkgrid\")"
   ]
  },
  {
   "cell_type": "code",
   "execution_count": 2,
   "metadata": {},
   "outputs": [],
   "source": [
    "pd.set_option('display.max_rows', 200)"
   ]
  },
  {
   "cell_type": "code",
   "execution_count": 3,
   "metadata": {},
   "outputs": [],
   "source": [
    "try:\n",
    "    train = pd.read_csv('/datasets/gold_recovery_train_new.csv')\n",
    "    test = pd.read_csv('/datasets/gold_recovery_test_new.csv')\n",
    "    df = pd.read_csv('/datasets/gold_recovery_full_new.csv')\n",
    "except:\n",
    "    print('Что то пошло не так!')"
   ]
  },
  {
   "cell_type": "markdown",
   "metadata": {},
   "source": [
    "<b>train - тренировочная выборка   \n",
    "test - проверочная выборка  \n",
    "df - полная выборка"
   ]
  },
  {
   "cell_type": "markdown",
   "metadata": {},
   "source": [
    "Хранилка-словарь с нашими данными:"
   ]
  },
  {
   "cell_type": "code",
   "execution_count": 4,
   "metadata": {},
   "outputs": [],
   "source": [
    "datas = {'обучающая выборка': train,\n",
    "        'тестовая выборка': test,\n",
    "        'полная выборка': df}"
   ]
  },
  {
   "cell_type": "code",
   "execution_count": 5,
   "metadata": {},
   "outputs": [
    {
     "name": "stdout",
     "output_type": "stream",
     "text": [
      "обучающая выборка, размер: (14149, 87)\n",
      "тестовая выборка, размер: (5290, 53)\n",
      "полная выборка, размер: (19439, 87)\n"
     ]
    }
   ],
   "source": [
    "# глянем на размеры выборок\n",
    "for k, v in datas.items():\n",
    "    print(f'{k}, размер: {v.shape}')\n"
   ]
  },
  {
   "cell_type": "markdown",
   "metadata": {},
   "source": [
    "В принципе, можно бы было использовать самостоятельно разделение данных, примерно 4/1, было бы меньше манипуляций. Но ТЗ."
   ]
  },
  {
   "cell_type": "markdown",
   "metadata": {},
   "source": [
    "Функция, которая будет искать недостающие колонки:"
   ]
  },
  {
   "cell_type": "code",
   "execution_count": 6,
   "metadata": {},
   "outputs": [],
   "source": [
    "def get_col_diff(df1, df2):\n",
    "    return set(df1.columns) - (set(df2.columns))"
   ]
  },
  {
   "cell_type": "code",
   "execution_count": 7,
   "metadata": {},
   "outputs": [
    {
     "data": {
      "text/plain": [
       "{'final.output.concentrate_ag',\n",
       " 'final.output.concentrate_au',\n",
       " 'final.output.concentrate_pb',\n",
       " 'final.output.concentrate_sol',\n",
       " 'final.output.recovery',\n",
       " 'final.output.tail_ag',\n",
       " 'final.output.tail_au',\n",
       " 'final.output.tail_pb',\n",
       " 'final.output.tail_sol',\n",
       " 'primary_cleaner.output.concentrate_ag',\n",
       " 'primary_cleaner.output.concentrate_au',\n",
       " 'primary_cleaner.output.concentrate_pb',\n",
       " 'primary_cleaner.output.concentrate_sol',\n",
       " 'primary_cleaner.output.tail_ag',\n",
       " 'primary_cleaner.output.tail_au',\n",
       " 'primary_cleaner.output.tail_pb',\n",
       " 'primary_cleaner.output.tail_sol',\n",
       " 'rougher.calculation.au_pb_ratio',\n",
       " 'rougher.calculation.floatbank10_sulfate_to_au_feed',\n",
       " 'rougher.calculation.floatbank11_sulfate_to_au_feed',\n",
       " 'rougher.calculation.sulfate_to_au_concentrate',\n",
       " 'rougher.output.concentrate_ag',\n",
       " 'rougher.output.concentrate_au',\n",
       " 'rougher.output.concentrate_pb',\n",
       " 'rougher.output.concentrate_sol',\n",
       " 'rougher.output.recovery',\n",
       " 'rougher.output.tail_ag',\n",
       " 'rougher.output.tail_au',\n",
       " 'rougher.output.tail_pb',\n",
       " 'rougher.output.tail_sol',\n",
       " 'secondary_cleaner.output.tail_ag',\n",
       " 'secondary_cleaner.output.tail_au',\n",
       " 'secondary_cleaner.output.tail_pb',\n",
       " 'secondary_cleaner.output.tail_sol'}"
      ]
     },
     "execution_count": 7,
     "metadata": {},
     "output_type": "execute_result"
    }
   ],
   "source": [
    "get_col_diff(train, test)"
   ]
  },
  {
   "cell_type": "markdown",
   "metadata": {},
   "source": [
    "В тестовом наборе не хватает 33-х столбцов."
   ]
  },
  {
   "cell_type": "markdown",
   "metadata": {},
   "source": [
    "Как было указано в ТЗ, в тестовой выборке недоступны признаки, которые нельзя рассчитать до момента запуска процесса очистки. Что вполне логично. Тут находятся характеристики процесса на промежуточных и финальной стадиях. То есть, эти признаки будут недоступны и для работы модели, которая должна строить прогнозы исходя из \"вводных\" данных."
   ]
  },
  {
   "cell_type": "code",
   "execution_count": 8,
   "metadata": {},
   "outputs": [
    {
     "data": {
      "text/plain": [
       "{'final.output.concentrate_ag',\n",
       " 'final.output.concentrate_au',\n",
       " 'final.output.concentrate_pb',\n",
       " 'final.output.concentrate_sol',\n",
       " 'final.output.recovery',\n",
       " 'final.output.tail_ag',\n",
       " 'final.output.tail_au',\n",
       " 'final.output.tail_pb',\n",
       " 'final.output.tail_sol',\n",
       " 'primary_cleaner.output.concentrate_ag',\n",
       " 'primary_cleaner.output.concentrate_au',\n",
       " 'primary_cleaner.output.concentrate_pb',\n",
       " 'primary_cleaner.output.concentrate_sol',\n",
       " 'primary_cleaner.output.tail_ag',\n",
       " 'primary_cleaner.output.tail_au',\n",
       " 'primary_cleaner.output.tail_pb',\n",
       " 'primary_cleaner.output.tail_sol',\n",
       " 'rougher.calculation.au_pb_ratio',\n",
       " 'rougher.calculation.floatbank10_sulfate_to_au_feed',\n",
       " 'rougher.calculation.floatbank11_sulfate_to_au_feed',\n",
       " 'rougher.calculation.sulfate_to_au_concentrate',\n",
       " 'rougher.output.concentrate_ag',\n",
       " 'rougher.output.concentrate_au',\n",
       " 'rougher.output.concentrate_pb',\n",
       " 'rougher.output.concentrate_sol',\n",
       " 'rougher.output.recovery',\n",
       " 'rougher.output.tail_ag',\n",
       " 'rougher.output.tail_au',\n",
       " 'rougher.output.tail_pb',\n",
       " 'rougher.output.tail_sol',\n",
       " 'secondary_cleaner.output.tail_ag',\n",
       " 'secondary_cleaner.output.tail_au',\n",
       " 'secondary_cleaner.output.tail_pb',\n",
       " 'secondary_cleaner.output.tail_sol'}"
      ]
     },
     "execution_count": 8,
     "metadata": {},
     "output_type": "execute_result"
    }
   ],
   "source": [
    "get_col_diff(df, test)"
   ]
  },
  {
   "cell_type": "code",
   "execution_count": 9,
   "metadata": {},
   "outputs": [],
   "source": [
    "# Функция, которая будет искать с сортировкой столбцы с недостающими данными:\n",
    "def get_na_cols(df, n=10):\n",
    "    return df.isna().sum().sort_values(ascending=False).head(n)"
   ]
  },
  {
   "cell_type": "code",
   "execution_count": 10,
   "metadata": {},
   "outputs": [],
   "source": [
    "# функция для поиска колонок по фрагменту имени:\n",
    "def search_cols_name(df, text:str, opt_text='')->list:\n",
    "    cols = []\n",
    "\n",
    "    for col in df.columns:\n",
    "        if text in col and opt_text in col:\n",
    "            cols.append(col)\n",
    "\n",
    "    return sorted(cols)   "
   ]
  },
  {
   "cell_type": "code",
   "execution_count": 11,
   "metadata": {},
   "outputs": [
    {
     "data": {
      "text/plain": [
       "['final.output.concentrate_au',\n",
       " 'final.output.tail_au',\n",
       " 'primary_cleaner.output.concentrate_au',\n",
       " 'primary_cleaner.output.tail_au',\n",
       " 'rougher.calculation.au_pb_ratio',\n",
       " 'rougher.calculation.floatbank10_sulfate_to_au_feed',\n",
       " 'rougher.calculation.floatbank11_sulfate_to_au_feed',\n",
       " 'rougher.calculation.sulfate_to_au_concentrate',\n",
       " 'rougher.input.feed_au',\n",
       " 'rougher.output.concentrate_au',\n",
       " 'rougher.output.tail_au',\n",
       " 'secondary_cleaner.output.tail_au']"
      ]
     },
     "execution_count": 11,
     "metadata": {},
     "output_type": "execute_result"
    }
   ],
   "source": [
    "search_cols_name(train, 'au') # запустим чтобы скопипастить для описания формулы"
   ]
  },
  {
   "cell_type": "code",
   "execution_count": 12,
   "metadata": {},
   "outputs": [
    {
     "data": {
      "text/plain": [
       "9.73512347450521e-15"
      ]
     },
     "execution_count": 12,
     "metadata": {},
     "output_type": "execute_result"
    }
   ],
   "source": [
    "# обозначаем переменные и задаем формулу\n",
    "F = train['rougher.input.feed_au']\n",
    "C = train['rougher.output.concentrate_au']\n",
    "T = train['rougher.output.tail_au']\n",
    "\n",
    "R = C*(F-T) / (F*(C-T)) * 100 # Recovery\n",
    "R_mae = mean_absolute_error(R, train['rougher.output.recovery'])\n",
    "R_mae"
   ]
  },
  {
   "cell_type": "code",
   "execution_count": 13,
   "metadata": {},
   "outputs": [],
   "source": [
    "def rmae(df):\n",
    "    F = df['rougher.input.feed_au']\n",
    "    C = df['rougher.output.concentrate_au']\n",
    "    T = df['rougher.output.tail_au']\n",
    "    R = C*(F-T) / (F*(C-T)) * 100 # Recovery\n",
    "    return mean_absolute_error(R, df['rougher.output.recovery'])\n",
    "\n",
    "    "
   ]
  },
  {
   "cell_type": "code",
   "execution_count": 14,
   "metadata": {},
   "outputs": [
    {
     "data": {
      "text/plain": [
       "9.73512347450521e-15"
      ]
     },
     "execution_count": 14,
     "metadata": {},
     "output_type": "execute_result"
    }
   ],
   "source": [
    "rmae(train)"
   ]
  },
  {
   "cell_type": "markdown",
   "metadata": {},
   "source": [
    "---"
   ]
  },
  {
   "cell_type": "code",
   "execution_count": 15,
   "metadata": {},
   "outputs": [
    {
     "data": {
      "text/plain": [
       "count    14149.000000\n",
       "mean        82.704502\n",
       "std         14.479156\n",
       "min          0.000000\n",
       "25%         79.993067\n",
       "50%         85.299462\n",
       "75%         90.165021\n",
       "max        100.000000\n",
       "Name: rougher.output.recovery, dtype: float64"
      ]
     },
     "execution_count": 15,
     "metadata": {},
     "output_type": "execute_result"
    }
   ],
   "source": [
    "train['rougher.output.recovery'].describe()"
   ]
  },
  {
   "cell_type": "code",
   "execution_count": 16,
   "metadata": {},
   "outputs": [
    {
     "data": {
      "text/plain": [
       "count    14149.000000\n",
       "mean        82.704502\n",
       "std         14.479156\n",
       "min         -0.000000\n",
       "25%         79.993067\n",
       "50%         85.299462\n",
       "75%         90.165021\n",
       "max        100.000000\n",
       "dtype: float64"
      ]
     },
     "execution_count": 16,
     "metadata": {},
     "output_type": "execute_result"
    }
   ],
   "source": [
    "R.describe()"
   ]
  },
  {
   "cell_type": "markdown",
   "metadata": {},
   "source": [
    "Вывод: ошибку mae можно считать ничтожно малой. Данные практически идентичны."
   ]
  },
  {
   "cell_type": "markdown",
   "metadata": {},
   "source": [
    "## Анализ данных"
   ]
  },
  {
   "cell_type": "markdown",
   "metadata": {},
   "source": [
    "Обработаем названия столбцов. Это чтобы в дальнейшем свести данные в один график. Изменим значения столбцов rougher.input.feed_... на rougher.input.concentrate_... для металлов."
   ]
  },
  {
   "cell_type": "code",
   "execution_count": 17,
   "metadata": {},
   "outputs": [
    {
     "data": {
      "text/plain": [
       "['final.output.concentrate_ag',\n",
       " 'final.output.concentrate_au',\n",
       " 'final.output.concentrate_pb',\n",
       " 'final.output.concentrate_sol',\n",
       " 'primary_cleaner.output.concentrate_ag',\n",
       " 'primary_cleaner.output.concentrate_au',\n",
       " 'primary_cleaner.output.concentrate_pb',\n",
       " 'primary_cleaner.output.concentrate_sol',\n",
       " 'rougher.output.concentrate_ag',\n",
       " 'rougher.output.concentrate_au',\n",
       " 'rougher.output.concentrate_pb',\n",
       " 'rougher.output.concentrate_sol']"
      ]
     },
     "execution_count": 17,
     "metadata": {},
     "output_type": "execute_result"
    }
   ],
   "source": [
    "search_cols_name(df, 'concentrate_', )"
   ]
  },
  {
   "cell_type": "code",
   "execution_count": 18,
   "metadata": {},
   "outputs": [
    {
     "data": {
      "text/plain": [
       "['rougher.input.feed_ag',\n",
       " 'rougher.input.feed_au',\n",
       " 'rougher.input.feed_pb',\n",
       " 'rougher.input.feed_rate',\n",
       " 'rougher.input.feed_size',\n",
       " 'rougher.input.feed_sol']"
      ]
     },
     "execution_count": 18,
     "metadata": {},
     "output_type": "execute_result"
    }
   ],
   "source": [
    "search_cols_name(df, 'rougher.input.feed_' ) # вот это именование портит всю картину"
   ]
  },
  {
   "cell_type": "code",
   "execution_count": 19,
   "metadata": {},
   "outputs": [],
   "source": [
    "def rename_to_conc(df): # напишем транслятор имени\n",
    "    from_ = ['rougher.input.feed_ag', 'rougher.input.feed_au', 'rougher.input.feed_pb']\n",
    "    to = ['rougher.input.concentrate_ag', 'rougher.input.concentrate_au', 'rougher.input.concentrate_pb']\n",
    "    df.rename(columns={k: v for k, v in zip(from_, to)}, inplace=True)\n",
    "    #return df"
   ]
  },
  {
   "cell_type": "code",
   "execution_count": 20,
   "metadata": {},
   "outputs": [
    {
     "data": {
      "text/plain": [
       "{'final.output.concentrate_ag',\n",
       " 'final.output.concentrate_au',\n",
       " 'final.output.concentrate_pb',\n",
       " 'final.output.concentrate_sol',\n",
       " 'final.output.recovery',\n",
       " 'final.output.tail_ag',\n",
       " 'final.output.tail_au',\n",
       " 'final.output.tail_pb',\n",
       " 'final.output.tail_sol',\n",
       " 'primary_cleaner.output.concentrate_ag',\n",
       " 'primary_cleaner.output.concentrate_au',\n",
       " 'primary_cleaner.output.concentrate_pb',\n",
       " 'primary_cleaner.output.concentrate_sol',\n",
       " 'primary_cleaner.output.tail_ag',\n",
       " 'primary_cleaner.output.tail_au',\n",
       " 'primary_cleaner.output.tail_pb',\n",
       " 'primary_cleaner.output.tail_sol',\n",
       " 'rougher.calculation.au_pb_ratio',\n",
       " 'rougher.calculation.floatbank10_sulfate_to_au_feed',\n",
       " 'rougher.calculation.floatbank11_sulfate_to_au_feed',\n",
       " 'rougher.calculation.sulfate_to_au_concentrate',\n",
       " 'rougher.output.concentrate_ag',\n",
       " 'rougher.output.concentrate_au',\n",
       " 'rougher.output.concentrate_pb',\n",
       " 'rougher.output.concentrate_sol',\n",
       " 'rougher.output.recovery',\n",
       " 'rougher.output.tail_ag',\n",
       " 'rougher.output.tail_au',\n",
       " 'rougher.output.tail_pb',\n",
       " 'rougher.output.tail_sol',\n",
       " 'secondary_cleaner.output.tail_ag',\n",
       " 'secondary_cleaner.output.tail_au',\n",
       " 'secondary_cleaner.output.tail_pb',\n",
       " 'secondary_cleaner.output.tail_sol'}"
      ]
     },
     "execution_count": 20,
     "metadata": {},
     "output_type": "execute_result"
    }
   ],
   "source": [
    "get_col_diff(df, test)"
   ]
  },
  {
   "cell_type": "code",
   "execution_count": 21,
   "metadata": {},
   "outputs": [],
   "source": [
    "rename_to_conc(df)"
   ]
  },
  {
   "cell_type": "code",
   "execution_count": 22,
   "metadata": {},
   "outputs": [],
   "source": [
    "stages = ['rougher.input', 'rougher.output', 'primary_cleaner.output', 'final.output'] # стадии очистки\n",
    "conc_metalls = ['concentrate_ag', 'concentrate_au', 'concentrate_pb'] # концентрации металлов"
   ]
  },
  {
   "cell_type": "code",
   "execution_count": 23,
   "metadata": {},
   "outputs": [],
   "source": [
    "def make_vis_via_stages(df, is_sum=0): # визуализации концетрации металлов на стадиях очистки\n",
    "    for conc_metall in conc_metalls:\n",
    "        plt.figure(figsize=(15, 5))\n",
    "        data = df[search_cols_name(df, conc_metall)]\n",
    "        order = [stage+'.'+conc_metall for stage in stages]\n",
    "        sns.violinplot(data=data, order=order)\n",
    "        #sns.histplot(data=data)\n",
    "        plt.show()\n",
    "        "
   ]
  },
  {
   "cell_type": "code",
   "execution_count": 24,
   "metadata": {},
   "outputs": [
    {
     "data": {
      "image/png": "[encoded data removed]",
      "text/plain": [
       "<Figure size 1080x360 with 1 Axes>"
      ]
     },
     "metadata": {},
     "output_type": "display_data"
    },
    {
     "data": {
      "image/png": "[encoded data removed]",
      "text/plain": [
       "<Figure size 1080x360 with 1 Axes>"
      ]
     },
     "metadata": {},
     "output_type": "display_data"
    },
    {
     "data": {
      "image/png": "[encoded data removed]",
      "text/plain": [
       "<Figure size 1080x360 with 1 Axes>"
      ]
     },
     "metadata": {},
     "output_type": "display_data"
    }
   ],
   "source": [
    "make_vis_via_stages(df)"
   ]
  },
  {
   "cell_type": "markdown",
   "metadata": {},
   "source": [
    "Выводы: концентрация золота повышается от стадии к стадии. Концентрация серебра на выходе меньше исходной, а вот свинец медианно - увеличивается. В исходном сырье видно две моды концентраций, вероятно сырье было использовано двух разных типов (разных карьеров, например).  \n",
    "Что самое неприятное, появляются хвосты, в том числе нулевые концентрации, которые можно считать выбросами, так как в исходном сырье не просматриваются нулевые концентрации. Вероятно, это вызвано погрешностью измерительной техники."
   ]
  },
  {
   "cell_type": "markdown",
   "metadata": {},
   "source": [
    "Посмотрим на распределение размеров гранул сырья в train и test"
   ]
  },
  {
   "cell_type": "code",
   "execution_count": 25,
   "metadata": {},
   "outputs": [
    {
     "data": {
      "text/plain": [
       "['primary_cleaner.input.feed_size', 'rougher.input.feed_size']"
      ]
     },
     "execution_count": 25,
     "metadata": {},
     "output_type": "execute_result"
    }
   ],
   "source": [
    "search_cols_name(train, 'size') #найдем нужный столбец"
   ]
  },
  {
   "cell_type": "code",
   "execution_count": 26,
   "metadata": {},
   "outputs": [
    {
     "data": {
      "image/png": "[encoded data removed]",
      "text/plain": [
       "<Figure size 720x720 with 1 Axes>"
      ]
     },
     "metadata": {},
     "output_type": "display_data"
    },
    {
     "data": {
      "image/png": "[encoded data removed]",
      "text/plain": [
       "<Figure size 432x288 with 1 Axes>"
      ]
     },
     "metadata": {},
     "output_type": "display_data"
    }
   ],
   "source": [
    "plt.figure(figsize=(10, 10))\n",
    "sns.histplot(train['rougher.input.feed_size'])\n",
    "sns.histplot(test['rougher.input.feed_size'])\n",
    "plt.show()\n",
    "sns.color_palette(\"rocket\", as_cmap=True)\n",
    "sns.boxplot(data=train['rougher.input.feed_size'])\n",
    "sns.boxplot(data=test['rougher.input.feed_size'])\n",
    "plt.show()"
   ]
  },
  {
   "cell_type": "markdown",
   "metadata": {},
   "source": [
    "<div class=\"alert alert-block alert-info\">\n",
    "<h4> Комментарий студента: <a class=\"tocSkip\"></h4>\n",
    "Обновил немного текст и графики.\n",
    "</div>"
   ]
  },
  {
   "cell_type": "markdown",
   "metadata": {},
   "source": [
    "<div class=\"alert alert-success\">\n",
    "<h2> Комментарий ревьюера v.2 <a class=\"tocSkip\"> </h2>\n",
    "\n",
    "<b>Все отлично!👍:</b>"
   ]
  },
  {
   "cell_type": "markdown",
   "metadata": {},
   "source": [
    "Распределения скошены вправо, видно, что ящики и усы боксплотов по сути легли друг на друга, гистограммы тоже схожи друг с другом с учетом различия масштабов выборок, что является признаком схожести выборок. Вывод: выборки можно считать корректными."
   ]
  },
  {
   "cell_type": "markdown",
   "metadata": {},
   "source": [
    "<div class=\"alert alert-success\">\n",
    "<h2> Комментарий ревьюера <a class=\"tocSkip\"> </h2>\n",
    "\n",
    "<b>Все отлично!👍:</b> \n",
    "\n",
    "Правильно, распределения примерно одинаковы. Можно было тут еще добавить пару слов, на что похожи распределения, смещены ли..."
   ]
  },
  {
   "cell_type": "markdown",
   "metadata": {},
   "source": [
    "---"
   ]
  },
  {
   "cell_type": "markdown",
   "metadata": {},
   "source": [
    "Посмотрим на суммарное распределение концентреций метталов.ь"
   ]
  },
  {
   "cell_type": "code",
   "execution_count": 27,
   "metadata": {},
   "outputs": [],
   "source": [
    "def make_vis_via_stages_all_met(df):\n",
    "    df_cols = df.columns\n",
    "    \n",
    "    for stage in stages:\n",
    "        cols = []\n",
    "        for conc_metall in conc_metalls:\n",
    "            cols+=search_cols_name(df, stage, conc_metall)\n",
    "        \n",
    "        data = df[cols].sum(axis=1)\n",
    "        print('Стадия:', stage, ':')\n",
    "        sns.histplot(data=data)\n",
    "        plt.show()\n",
    "    "
   ]
  },
  {
   "cell_type": "code",
   "execution_count": 28,
   "metadata": {},
   "outputs": [
    {
     "name": "stdout",
     "output_type": "stream",
     "text": [
      "Стадия: rougher.input :\n"
     ]
    },
    {
     "data": {
      "image/png": "[encoded data removed]",
      "text/plain": [
       "<Figure size 432x288 with 1 Axes>"
      ]
     },
     "metadata": {},
     "output_type": "display_data"
    },
    {
     "name": "stdout",
     "output_type": "stream",
     "text": [
      "Стадия: rougher.output :\n"
     ]
    },
    {
     "data": {
      "image/png": "[encoded data removed]",
      "text/plain": [
       "<Figure size 432x288 with 1 Axes>"
      ]
     },
     "metadata": {},
     "output_type": "display_data"
    },
    {
     "name": "stdout",
     "output_type": "stream",
     "text": [
      "Стадия: primary_cleaner.output :\n"
     ]
    },
    {
     "data": {
      "image/png": "[encoded data removed]",
      "text/plain": [
       "<Figure size 432x288 with 1 Axes>"
      ]
     },
     "metadata": {},
     "output_type": "display_data"
    },
    {
     "name": "stdout",
     "output_type": "stream",
     "text": [
      "Стадия: final.output :\n"
     ]
    },
    {
     "data": {
      "image/png": "[encoded data removed]",
      "text/plain": [
       "<Figure size 432x288 with 1 Axes>"
      ]
     },
     "metadata": {},
     "output_type": "display_data"
    }
   ],
   "source": [
    "make_vis_via_stages_all_met(df)"
   ]
  },
  {
   "cell_type": "markdown",
   "metadata": {},
   "source": [
    "Вывод: после каждой стадии очистки, разброс в распределении сокращается. Также снова видим хвост с выбросом в нуле."
   ]
  },
  {
   "cell_type": "markdown",
   "metadata": {},
   "source": [
    "<div class=\"alert alert-success\">\n",
    "<h2> Комментарий ревьюера <a class=\"tocSkip\"> </h2>\n",
    "\n",
    "<b>Все отлично!👍:</b> \n",
    "\n",
    "Замечательно, суммарную концентрацию всех веществ на разных стадиях исследовали и нашли аномалии.\n",
    " \n",
    "В целом отдельно по каждому веществу ноль может быть (не всегда же есть крупинки золота в руде), а ноль суммарно - вряд ли (в руде хоть что-то но будет). А если мы имеем ноль, значит большая вероятность неточности в измерениях."
   ]
  },
  {
   "cell_type": "markdown",
   "metadata": {},
   "source": [
    "Посмотрим на дубликаты."
   ]
  },
  {
   "cell_type": "code",
   "execution_count": 29,
   "metadata": {},
   "outputs": [
    {
     "data": {
      "text/plain": [
       "0"
      ]
     },
     "execution_count": 29,
     "metadata": {},
     "output_type": "execute_result"
    }
   ],
   "source": [
    "train.duplicated().sum()"
   ]
  },
  {
   "cell_type": "code",
   "execution_count": 30,
   "metadata": {},
   "outputs": [
    {
     "data": {
      "text/plain": [
       "0"
      ]
     },
     "execution_count": 30,
     "metadata": {},
     "output_type": "execute_result"
    }
   ],
   "source": [
    "test.duplicated().sum()"
   ]
  },
  {
   "cell_type": "markdown",
   "metadata": {},
   "source": [
    "Посмотрим на пропуски."
   ]
  },
  {
   "cell_type": "code",
   "execution_count": 31,
   "metadata": {},
   "outputs": [
    {
     "data": {
      "text/plain": [
       "secondary_cleaner.output.tail_sol           1605\n",
       "rougher.state.floatbank10_e_air              436\n",
       "rougher.input.floatbank11_xanthate           428\n",
       "primary_cleaner.output.concentrate_sol       286\n",
       "secondary_cleaner.state.floatbank2_a_air     217\n",
       "final.output.concentrate_sol                 211\n",
       "rougher.input.feed_size                      144\n",
       "primary_cleaner.input.xanthate               100\n",
       "rougher.input.feed_pb                        100\n",
       "final.output.tail_pb                         100\n",
       "dtype: int64"
      ]
     },
     "execution_count": 31,
     "metadata": {},
     "output_type": "execute_result"
    }
   ],
   "source": [
    "get_na_cols(train)"
   ]
  },
  {
   "cell_type": "markdown",
   "metadata": {},
   "source": [
    "<div class=\"alert alert-block alert-info\">\n",
    "<h4> Комментарий студента: <a class=\"tocSkip\"></h4>\n",
    "Ниже подправлю логику заполнения пропусков. Хотя на результате эти улучшатели почти не отразились.\n",
    "</div>"
   ]
  },
  {
   "cell_type": "markdown",
   "metadata": {},
   "source": [
    "<div class=\"alert alert-success\">\n",
    "<h2> Комментарий ревьюера v.2 <a class=\"tocSkip\"> </h2>\n",
    "\n",
    "<b>Все отлично!👍:</b>"
   ]
  },
  {
   "cell_type": "markdown",
   "metadata": {},
   "source": [
    "Посмотрим на первые шесть по количеству пропусков колонок:"
   ]
  },
  {
   "cell_type": "code",
   "execution_count": 32,
   "metadata": {},
   "outputs": [
    {
     "data": {
      "image/png": "[encoded data removed]",
      "text/plain": [
       "<Figure size 1440x504 with 1 Axes>"
      ]
     },
     "metadata": {},
     "output_type": "display_data"
    }
   ],
   "source": [
    "seven_na_cols = get_na_cols(train, 6).index\n",
    "plt.figure(figsize=(20, 7))\n",
    "sns.boxplot(data=(train[seven_na_cols]))\n",
    "plt.show()"
   ]
  },
  {
   "cell_type": "markdown",
   "metadata": {},
   "source": [
    "Наибольший размах по значениям, который потенциально может привести к ошибкам - rougher.state.floatbank10_e_air"
   ]
  },
  {
   "cell_type": "markdown",
   "metadata": {},
   "source": [
    "Сложно сказать, не зная специфику производства, насколько важны отображаемые признаки. Будем считать, что если бы они были очень важными, то пропусков было бы значительно меньше. Удилим перые 2 столбца с макс. кол-вом пропусков, чтобы не нарушать разницу фич в трейне и тесте."
   ]
  },
  {
   "cell_type": "code",
   "execution_count": 33,
   "metadata": {},
   "outputs": [],
   "source": [
    "# to_drop = list(get_na_cols(train, 2).index)\n",
    "# train = train.drop(columns=to_drop)"
   ]
  },
  {
   "cell_type": "code",
   "execution_count": 34,
   "metadata": {},
   "outputs": [],
   "source": [
    "# print(train.shape)\n",
    "# print(train.dropna().shape)"
   ]
  },
  {
   "cell_type": "code",
   "execution_count": 35,
   "metadata": {},
   "outputs": [
    {
     "name": "stdout",
     "output_type": "stream",
     "text": [
      "(5290, 53)\n",
      "(5229, 53)\n"
     ]
    }
   ],
   "source": [
    "print(test.shape)\n",
    "print(test.dropna().shape)"
   ]
  },
  {
   "cell_type": "code",
   "execution_count": 36,
   "metadata": {},
   "outputs": [],
   "source": [
    "#sns.heatmap(train[get_na_cols(train)[:5]].corr())"
   ]
  },
  {
   "cell_type": "markdown",
   "metadata": {},
   "source": [
    "<!-- Потеря при удалении строк с пропущенными значениями незначительны, данных, предополжительно, достаточно для обучения и проверки. Выполняем удаление. -->"
   ]
  },
  {
   "cell_type": "code",
   "execution_count": 37,
   "metadata": {},
   "outputs": [],
   "source": [
    "# train = train.dropna()\n",
    "# test = test.dropna()\n",
    "\n",
    "train_test = train.interpolate() # вот тут не совсем понял, что за параметр order и правильно ли я его применил"
   ]
  },
  {
   "cell_type": "markdown",
   "metadata": {},
   "source": [
    "<div class=\"alert alert-success\">\n",
    "<h2> Комментарий ревьюера v.2 <a class=\"tocSkip\"> </h2>\n",
    "\n",
    "<b>Все отлично!👍:</b> \n",
    "\n",
    "order - степень полинома, которым интерполируют. order опускается, если используется линейный метод (как в твоем случае)."
   ]
  },
  {
   "cell_type": "code",
   "execution_count": 38,
   "metadata": {},
   "outputs": [
    {
     "data": {
      "image/png": "[encoded data removed]",
      "text/plain": [
       "<Figure size 1440x504 with 1 Axes>"
      ]
     },
     "metadata": {},
     "output_type": "display_data"
    }
   ],
   "source": [
    "plt.figure(figsize=(20, 7))\n",
    "sns.boxplot(data=(train_test[get_na_cols(train, 6).index]))\n",
    "plt.show()"
   ]
  },
  {
   "cell_type": "markdown",
   "metadata": {},
   "source": [
    "Явных изменений в распределении не видно. Оставляем. Из тестовой выборки удалим недоступные данные, т.к. на ней потери будут почти незаметны."
   ]
  },
  {
   "cell_type": "code",
   "execution_count": 39,
   "metadata": {},
   "outputs": [],
   "source": [
    "train = train.interpolate()\n",
    "test = test.dropna()"
   ]
  },
  {
   "cell_type": "markdown",
   "metadata": {},
   "source": [
    "<div class=\"alert alert-warning\">\n",
    "    <h2> Комментарий ревьюера <a class=\"tocSkip\"> </h2>\n",
    "    \n",
    "<b>Некоторые замечания и рекомендации💡:</b> \n",
    "        \n",
    "Обработка пропусков таким способом возможна. Обрати пожалуйста внимание, что все наблюдения представляют собой последовательные измерения, заполнинить пропуски можно и  методами `pandas`: `ffill`/ `bfill`/ интерполяцией , это вполне уместно.\\\n",
    "Хочу посоветовать тебе статью, которая рассматривает разные способы обработки пропусков, выделяет их плюсы и минусы, думаю, тебе может быть интересно: https://loginom.ru/blog/missing   "
   ]
  },
  {
   "cell_type": "markdown",
   "metadata": {},
   "source": [
    "Удалим аномальные значения концентраций из тренировочный выборки."
   ]
  },
  {
   "cell_type": "code",
   "execution_count": 40,
   "metadata": {},
   "outputs": [],
   "source": [
    "for stage in stages:\n",
    "    for conc in conc_metalls:\n",
    "        col = search_cols_name(train, conc, stage)\n",
    "        if col:\n",
    "            index_to_drop = train[train[col[0]] < 0.1].index\n",
    "            train = train.drop(index=index_to_drop)"
   ]
  },
  {
   "cell_type": "code",
   "execution_count": 41,
   "metadata": {},
   "outputs": [
    {
     "data": {
      "text/plain": [
       "(13600, 87)"
      ]
     },
     "execution_count": 41,
     "metadata": {},
     "output_type": "execute_result"
    }
   ],
   "source": [
    "train.shape"
   ]
  },
  {
   "cell_type": "markdown",
   "metadata": {},
   "source": [
    "Потери удовлетворительные."
   ]
  },
  {
   "cell_type": "markdown",
   "metadata": {},
   "source": [
    "## Модель"
   ]
  },
  {
   "cell_type": "markdown",
   "metadata": {},
   "source": [
    "Определим функции для рассчета искомых ошибок:"
   ]
  },
  {
   "cell_type": "code",
   "execution_count": 42,
   "metadata": {},
   "outputs": [],
   "source": [
    "def smape(y_true, y_pred):\n",
    "    return np.mean(abs(y_true - y_pred) / ((abs(y_true) + abs(y_pred))/2)) * 100\n",
    "    \n",
    "\n",
    "def smape_final(smape_rougher, smape_final):\n",
    "    return smape_rougher * 0.25 + smape_final * 0.75"
   ]
  },
  {
   "cell_type": "markdown",
   "metadata": {},
   "source": [
    "<div class=\"alert alert-block alert-info\">\n",
    "<h4> Комментарий студента: <a class=\"tocSkip\"></h4>\n",
    "Добавляем свой скорер.\n",
    "</div>"
   ]
  },
  {
   "cell_type": "code",
   "execution_count": 43,
   "metadata": {},
   "outputs": [],
   "source": [
    "smape_score = make_scorer(smape ,greater_is_better=False)"
   ]
  },
  {
   "cell_type": "markdown",
   "metadata": {},
   "source": [
    "Чем меньше значения ошибок, тем точнее работает модель. То есть цель получить минимальные smape и smape_final."
   ]
  },
  {
   "cell_type": "code",
   "execution_count": 44,
   "metadata": {},
   "outputs": [],
   "source": [
    "features = sorted(test.columns)[1:] # а это наши фичи для обучения, без даты\n",
    "#features"
   ]
  },
  {
   "cell_type": "code",
   "execution_count": 45,
   "metadata": {},
   "outputs": [
    {
     "data": {
      "text/plain": [
       "['rougher.input.feed_ag',\n",
       " 'rougher.input.feed_au',\n",
       " 'rougher.input.feed_pb',\n",
       " 'rougher.input.feed_rate',\n",
       " 'rougher.input.feed_size',\n",
       " 'rougher.input.feed_sol',\n",
       " 'rougher.input.floatbank10_sulfate',\n",
       " 'rougher.input.floatbank10_xanthate',\n",
       " 'rougher.input.floatbank11_sulfate',\n",
       " 'rougher.input.floatbank11_xanthate']"
      ]
     },
     "execution_count": 45,
     "metadata": {},
     "output_type": "execute_result"
    }
   ],
   "source": [
    "features_f = search_cols_name(test, 'input') # убираем лишние признаки. модель работает точнее и быстрее\n",
    "\n",
    "features_r = search_cols_name(test, 'rougher.input.') # на этой стадии нам не нужны метрики более поздних стадий.\n",
    "features_r"
   ]
  },
  {
   "cell_type": "code",
   "execution_count": 46,
   "metadata": {},
   "outputs": [],
   "source": [
    "RS=123"
   ]
  },
  {
   "cell_type": "markdown",
   "metadata": {},
   "source": [
    "Нарезаем выборки для флотации (r) и финальной стадии очистки (f), отличаться будут в том числе и наборы фичей: "
   ]
  },
  {
   "cell_type": "code",
   "execution_count": 47,
   "metadata": {},
   "outputs": [],
   "source": [
    "cols_rougher = search_cols_name(train, 'rougher')\n",
    "\n",
    "X_train_r = train[features_r]\n",
    "X_train_f = train[features_f]\n",
    "y_train_r = train['rougher.output.recovery']\n",
    "y_train_f = train['final.output.recovery']\n",
    "\n",
    "X_test_r = test.drop(columns='date')[features_r]\n",
    "X_test_f = test.drop(columns='date')[features_f]\n",
    "y_test_r = df[df.set_index(['date']).index.isin(test.set_index(['date']).index)]['rougher.output.recovery']\n",
    "y_test_f = df[df.set_index(['date']).index.isin(test.set_index(['date']).index)]['final.output.recovery']"
   ]
  },
  {
   "cell_type": "code",
   "execution_count": 48,
   "metadata": {},
   "outputs": [],
   "source": [
    "def equal_n_col(df1, df2): # соотвествие кол-ва фич\n",
    "    return df1.shape[1] == df2.shape[1]"
   ]
  },
  {
   "cell_type": "code",
   "execution_count": 49,
   "metadata": {},
   "outputs": [
    {
     "data": {
      "text/plain": [
       "True"
      ]
     },
     "execution_count": 49,
     "metadata": {},
     "output_type": "execute_result"
    }
   ],
   "source": [
    "equal_n_col(X_train_r, X_test_r) "
   ]
  },
  {
   "cell_type": "code",
   "execution_count": 50,
   "metadata": {},
   "outputs": [
    {
     "data": {
      "text/plain": [
       "True"
      ]
     },
     "execution_count": 50,
     "metadata": {},
     "output_type": "execute_result"
    }
   ],
   "source": [
    "equal_n_col(X_train_f, X_test_f)"
   ]
  },
  {
   "cell_type": "code",
   "execution_count": 61,
   "metadata": {},
   "outputs": [],
   "source": [
    "lr_pipe = make_pipeline(StandardScaler(), LinearRegression()) # пайплайн для лин. регрессии со скалером.\n",
    "\n",
    "param_grid_rs = { \n",
    "    'classifier__n_estimators':  range(5, 70, 5),\n",
    "    'classifier__max_features': ['auto', 'sqrt', 'log2'],\n",
    "    'classifier__max_depth' : range(1, 15, 3),\n",
    "    }\n",
    "\n",
    "params = {'n_estimators': range(5, 85, 5) , 'max_depth': range(1, 15, 3)} \n",
    "\n",
    "gs_lr = GridSearchCV(lr_pipe, param_grid={}, scoring=smape_score)\n",
    "rs_rf = RandomizedSearchCV(RandomForestRegressor(), params, \n",
    "                           n_jobs= 1, scoring=smape_score)\n",
    "                  \n",
    "dummy = DummyRegressor(strategy='mean')"
   ]
  },
  {
   "cell_type": "code",
   "execution_count": 89,
   "metadata": {},
   "outputs": [],
   "source": [
    "def fit_model_and_get_scores(X_train, y_train):\n",
    "    gs_lr.fit(X_train, y_train)\n",
    "    rs_rf.fit(X_train, y_train)\n",
    "    print(rs_rf.best_params_)\n",
    "    dummy.fit(X_train, y_train)\n",
    "    return lr_pipe, rs_rf, dummy\n",
    "\n",
    "def get_scores(lr, rf, d, X, y):\n",
    "    return [smape(y, gs_lr.predict(X)),\n",
    "            smape(y, rf.predict(X)),\n",
    "            smape(y, d.predict(X))] \n",
    "    "
   ]
  },
  {
   "cell_type": "code",
   "execution_count": 90,
   "metadata": {},
   "outputs": [
    {
     "name": "stdout",
     "output_type": "stream",
     "text": [
      "{'n_estimators': 10, 'max_depth': 4}\n"
     ]
    }
   ],
   "source": [
    "lr, rf, d = fit_model_and_get_scores(X_train_r, y_train_r)"
   ]
  },
  {
   "cell_type": "code",
   "execution_count": 91,
   "metadata": {},
   "outputs": [
    {
     "data": {
      "text/plain": [
       "[5.41358548726254, 5.121682615353105, 7.295927212746451]"
      ]
     },
     "execution_count": 91,
     "metadata": {},
     "output_type": "execute_result"
    }
   ],
   "source": [
    "get_scores(lr, rf, d, X_train_r, y_train_r) #smape стадии флотации на трейне"
   ]
  },
  {
   "cell_type": "markdown",
   "metadata": {},
   "source": [
    "Результат соотвествует: [лин. регр.,   случ. лес,  глупая регр]."
   ]
  },
  {
   "cell_type": "markdown",
   "metadata": {},
   "source": [
    "Линейная регрессия для этапа флотация дает лучшие показатели. Получим прогнозы на тестовой выборке:"
   ]
  },
  {
   "cell_type": "code",
   "execution_count": 92,
   "metadata": {},
   "outputs": [
    {
     "data": {
      "text/plain": [
       "[7.893811847655313, 8.198029051369721, 8.925041221834718]"
      ]
     },
     "execution_count": 92,
     "metadata": {},
     "output_type": "execute_result"
    }
   ],
   "source": [
    "scores_r = get_scores(lr, rf, d, X_test_r, y_test_r) #smape стадии флотации на тесте\n",
    "scores_r"
   ]
  },
  {
   "cell_type": "code",
   "execution_count": 93,
   "metadata": {},
   "outputs": [
    {
     "name": "stdout",
     "output_type": "stream",
     "text": [
      "{'n_estimators': 75, 'max_depth': 4}\n"
     ]
    }
   ],
   "source": [
    "lr, rf, d = fit_model_and_get_scores(X_train_f, y_train_f)"
   ]
  },
  {
   "cell_type": "code",
   "execution_count": 94,
   "metadata": {},
   "outputs": [
    {
     "data": {
      "text/plain": [
       "[8.402351798435799, 7.981113122603649, 10.075409679981123]"
      ]
     },
     "execution_count": 94,
     "metadata": {},
     "output_type": "execute_result"
    }
   ],
   "source": [
    "get_scores(lr, rf, d, X_train_f, y_train_f) "
   ]
  },
  {
   "cell_type": "markdown",
   "metadata": {},
   "source": [
    "Для стадии финальной очистки лучшие показатели получаются у случайного леса. Получим прогнозы на тестовой выборке:"
   ]
  },
  {
   "cell_type": "code",
   "execution_count": 95,
   "metadata": {},
   "outputs": [
    {
     "data": {
      "text/plain": [
       "[9.510484570449227, 8.704533302086169, 9.571066331187792]"
      ]
     },
     "execution_count": 95,
     "metadata": {},
     "output_type": "execute_result"
    }
   ],
   "source": [
    "scores_f = get_scores(lr, rf, d, X_test_f, y_test_f)\n",
    "scores_f"
   ]
  },
  {
   "cell_type": "markdown",
   "metadata": {},
   "source": [
    "Сделаем гибридную модель - этап флотации будет прогнозировать линейная регрессия, финальный этап - случайный лес.\n",
    "Тогда итоговая метрика будет:"
   ]
  },
  {
   "cell_type": "code",
   "execution_count": 96,
   "metadata": {},
   "outputs": [
    {
     "data": {
      "text/plain": [
       "8.501852938478455"
      ]
     },
     "execution_count": 96,
     "metadata": {},
     "output_type": "execute_result"
    }
   ],
   "source": [
    "smape_final(scores_r[0], scores_f[1])"
   ]
  },
  {
   "cell_type": "markdown",
   "metadata": {},
   "source": [
    "Для глупого регрессора:"
   ]
  },
  {
   "cell_type": "code",
   "execution_count": 97,
   "metadata": {},
   "outputs": [
    {
     "data": {
      "text/plain": [
       "9.409560053849523"
      ]
     },
     "execution_count": 97,
     "metadata": {},
     "output_type": "execute_result"
    }
   ],
   "source": [
    "smape_final(scores_r[2], scores_f[2])"
   ]
  },
  {
   "cell_type": "markdown",
   "metadata": {},
   "source": [
    "Вывод: наименьшую ошибку дает гибридная модель, где прогнозы этапа флотации строятся с помощью линейной регрессии, а прогнозы финальной очистки - случайным лесом. Итоговое sMAPE на тестовой выборке составило 8.5"
   ]
  }
 ],
 "metadata": {
  "ExecuteTimeLog": [
   {
    "duration": 594,
    "start_time": "2022-05-23T10:57:14.942Z"
   },
   {
    "duration": 1221,
    "start_time": "2022-05-23T10:59:51.133Z"
   },
   {
    "duration": 33,
    "start_time": "2022-05-23T11:00:17.802Z"
   },
   {
    "duration": 257,
    "start_time": "2022-05-23T11:01:07.610Z"
   },
   {
    "duration": 4,
    "start_time": "2022-05-23T11:01:29.826Z"
   },
   {
    "duration": 2335,
    "start_time": "2022-05-23T12:55:20.706Z"
   },
   {
    "duration": 18,
    "start_time": "2022-05-23T13:02:56.625Z"
   },
   {
    "duration": 24,
    "start_time": "2022-05-23T13:03:25.454Z"
   },
   {
    "duration": 671,
    "start_time": "2022-05-23T13:03:44.774Z"
   },
   {
    "duration": 21,
    "start_time": "2022-05-23T13:03:45.446Z"
   },
   {
    "duration": 21,
    "start_time": "2022-05-23T13:03:53.058Z"
   },
   {
    "duration": 24,
    "start_time": "2022-05-23T13:04:05.657Z"
   },
   {
    "duration": 27,
    "start_time": "2022-05-23T13:04:46.797Z"
   },
   {
    "duration": 41,
    "start_time": "2022-05-23T13:04:55.822Z"
   },
   {
    "duration": 4,
    "start_time": "2022-05-23T13:04:57.085Z"
   },
   {
    "duration": 79,
    "start_time": "2022-05-23T13:05:11.726Z"
   },
   {
    "duration": 25,
    "start_time": "2022-05-23T13:06:36.168Z"
   },
   {
    "duration": 9,
    "start_time": "2022-05-23T13:06:40.510Z"
   },
   {
    "duration": 7,
    "start_time": "2022-05-23T13:07:06.554Z"
   },
   {
    "duration": 5,
    "start_time": "2022-05-23T13:07:19.878Z"
   },
   {
    "duration": 3,
    "start_time": "2022-05-23T13:08:17.485Z"
   },
   {
    "duration": 262,
    "start_time": "2022-05-23T13:08:34.606Z"
   },
   {
    "duration": 4,
    "start_time": "2022-05-23T13:08:45.589Z"
   },
   {
    "duration": 18,
    "start_time": "2022-05-23T13:08:50.284Z"
   },
   {
    "duration": 11,
    "start_time": "2022-05-23T13:08:57.733Z"
   },
   {
    "duration": 9,
    "start_time": "2022-05-23T13:09:12.405Z"
   },
   {
    "duration": 8,
    "start_time": "2022-05-23T13:09:34.277Z"
   },
   {
    "duration": 415,
    "start_time": "2022-05-23T13:09:41.660Z"
   },
   {
    "duration": 648,
    "start_time": "2022-05-23T13:09:42.077Z"
   },
   {
    "duration": 8,
    "start_time": "2022-05-23T13:09:42.726Z"
   },
   {
    "duration": 15,
    "start_time": "2022-05-23T13:10:22.324Z"
   },
   {
    "duration": 29,
    "start_time": "2022-05-24T10:27:46.996Z"
   },
   {
    "duration": 13,
    "start_time": "2022-05-24T10:28:35.298Z"
   },
   {
    "duration": 11,
    "start_time": "2022-05-24T10:29:15.706Z"
   },
   {
    "duration": 13,
    "start_time": "2022-05-24T10:29:19.770Z"
   },
   {
    "duration": 14,
    "start_time": "2022-05-24T10:30:10.498Z"
   },
   {
    "duration": 18,
    "start_time": "2022-05-24T11:10:24.510Z"
   },
   {
    "duration": 77,
    "start_time": "2022-05-24T11:11:34.973Z"
   },
   {
    "duration": 18,
    "start_time": "2022-05-24T11:11:43.192Z"
   },
   {
    "duration": 16,
    "start_time": "2022-05-24T11:12:05.941Z"
   },
   {
    "duration": 13,
    "start_time": "2022-05-24T11:12:20.596Z"
   },
   {
    "duration": 455,
    "start_time": "2022-05-24T11:26:06.847Z"
   },
   {
    "duration": 4,
    "start_time": "2022-05-24T11:26:07.304Z"
   },
   {
    "duration": 1901,
    "start_time": "2022-05-24T11:26:07.310Z"
   },
   {
    "duration": 15,
    "start_time": "2022-05-24T11:26:09.213Z"
   },
   {
    "duration": 19,
    "start_time": "2022-05-24T11:26:09.230Z"
   },
   {
    "duration": 4,
    "start_time": "2022-05-24T11:26:23.561Z"
   },
   {
    "duration": 3,
    "start_time": "2022-05-24T11:26:38.720Z"
   },
   {
    "duration": 67,
    "start_time": "2022-05-24T11:26:57.348Z"
   },
   {
    "duration": 4,
    "start_time": "2022-05-24T11:27:19.872Z"
   },
   {
    "duration": 4,
    "start_time": "2022-05-24T11:27:50.945Z"
   },
   {
    "duration": 4,
    "start_time": "2022-05-24T11:27:58.304Z"
   },
   {
    "duration": 3,
    "start_time": "2022-05-24T11:28:06.176Z"
   },
   {
    "duration": 5,
    "start_time": "2022-05-24T11:28:15.760Z"
   },
   {
    "duration": 4,
    "start_time": "2022-05-24T11:28:21.713Z"
   },
   {
    "duration": 6,
    "start_time": "2022-05-24T11:28:30.088Z"
   },
   {
    "duration": 5,
    "start_time": "2022-05-24T11:28:54.058Z"
   },
   {
    "duration": 5,
    "start_time": "2022-05-24T11:29:21.954Z"
   },
   {
    "duration": 4,
    "start_time": "2022-05-24T11:32:29.775Z"
   },
   {
    "duration": 441,
    "start_time": "2022-05-24T11:32:39.412Z"
   },
   {
    "duration": 4,
    "start_time": "2022-05-24T11:32:39.855Z"
   },
   {
    "duration": 744,
    "start_time": "2022-05-24T11:32:39.861Z"
   },
   {
    "duration": 18,
    "start_time": "2022-05-24T11:32:40.607Z"
   },
   {
    "duration": 28,
    "start_time": "2022-05-24T11:32:40.627Z"
   },
   {
    "duration": 7,
    "start_time": "2022-05-24T11:32:40.657Z"
   },
   {
    "duration": 3,
    "start_time": "2022-05-24T11:32:45.067Z"
   },
   {
    "duration": 2,
    "start_time": "2022-05-24T11:33:14.524Z"
   },
   {
    "duration": 3,
    "start_time": "2022-05-24T11:33:17.850Z"
   },
   {
    "duration": 4,
    "start_time": "2022-05-24T11:33:25.667Z"
   },
   {
    "duration": 4,
    "start_time": "2022-05-24T11:33:36.308Z"
   },
   {
    "duration": 5,
    "start_time": "2022-05-24T11:33:56.011Z"
   },
   {
    "duration": 5,
    "start_time": "2022-05-24T11:47:38.362Z"
   },
   {
    "duration": 81,
    "start_time": "2022-05-24T11:48:03.730Z"
   },
   {
    "duration": 27,
    "start_time": "2022-05-24T11:48:55.187Z"
   },
   {
    "duration": 4,
    "start_time": "2022-05-24T11:49:07.229Z"
   },
   {
    "duration": 7,
    "start_time": "2022-05-24T11:49:10.217Z"
   },
   {
    "duration": 7,
    "start_time": "2022-05-24T11:49:13.129Z"
   },
   {
    "duration": 20,
    "start_time": "2022-05-24T11:49:32.553Z"
   },
   {
    "duration": 80,
    "start_time": "2022-05-24T11:50:09.569Z"
   },
   {
    "duration": 18,
    "start_time": "2022-05-24T11:50:20.585Z"
   },
   {
    "duration": 49,
    "start_time": "2022-05-24T11:50:30.352Z"
   },
   {
    "duration": 49,
    "start_time": "2022-05-24T11:51:07.473Z"
   },
   {
    "duration": 3,
    "start_time": "2022-05-24T11:53:14.681Z"
   },
   {
    "duration": 11,
    "start_time": "2022-05-24T11:53:20.896Z"
   },
   {
    "duration": 16,
    "start_time": "2022-05-24T11:54:51.524Z"
   },
   {
    "duration": 10,
    "start_time": "2022-05-24T12:49:18.686Z"
   },
   {
    "duration": 38,
    "start_time": "2022-05-24T12:50:05.802Z"
   },
   {
    "duration": 25,
    "start_time": "2022-05-24T12:50:20.187Z"
   },
   {
    "duration": 24,
    "start_time": "2022-05-24T12:54:31.282Z"
   },
   {
    "duration": 32,
    "start_time": "2022-05-24T12:54:39.593Z"
   },
   {
    "duration": 18,
    "start_time": "2022-05-24T12:54:48.680Z"
   },
   {
    "duration": 15,
    "start_time": "2022-05-24T12:55:06.137Z"
   },
   {
    "duration": 17,
    "start_time": "2022-05-24T12:55:12.121Z"
   },
   {
    "duration": 4,
    "start_time": "2022-05-25T08:43:34.960Z"
   },
   {
    "duration": 101,
    "start_time": "2022-05-25T08:43:38.023Z"
   },
   {
    "duration": 8,
    "start_time": "2022-05-25T08:43:41.200Z"
   },
   {
    "duration": 4,
    "start_time": "2022-05-25T08:43:41.432Z"
   },
   {
    "duration": 3,
    "start_time": "2022-05-25T08:44:51.031Z"
   },
   {
    "duration": 453,
    "start_time": "2022-05-25T08:45:19.922Z"
   },
   {
    "duration": 2,
    "start_time": "2022-05-25T08:45:20.377Z"
   },
   {
    "duration": 874,
    "start_time": "2022-05-25T08:45:20.381Z"
   },
   {
    "duration": 3,
    "start_time": "2022-05-25T08:45:21.259Z"
   },
   {
    "duration": 20,
    "start_time": "2022-05-25T08:45:21.265Z"
   },
   {
    "duration": 85,
    "start_time": "2022-05-25T08:45:21.287Z"
   },
   {
    "duration": 6,
    "start_time": "2022-05-25T08:45:21.374Z"
   },
   {
    "duration": 49,
    "start_time": "2022-05-25T08:45:21.382Z"
   },
   {
    "duration": 7,
    "start_time": "2022-05-25T08:46:30.603Z"
   },
   {
    "duration": 3,
    "start_time": "2022-05-25T08:46:52.859Z"
   },
   {
    "duration": 3,
    "start_time": "2022-05-25T08:46:55.459Z"
   },
   {
    "duration": 2,
    "start_time": "2022-05-25T08:47:07.046Z"
   },
   {
    "duration": 4,
    "start_time": "2022-05-25T08:47:07.643Z"
   },
   {
    "duration": 4,
    "start_time": "2022-05-25T08:47:31.891Z"
   },
   {
    "duration": 1592,
    "start_time": "2022-05-25T11:00:36.018Z"
   },
   {
    "duration": 2455,
    "start_time": "2022-05-25T11:00:42.735Z"
   },
   {
    "duration": 128,
    "start_time": "2022-05-25T11:01:37.703Z"
   },
   {
    "duration": 3,
    "start_time": "2022-05-25T11:02:57.631Z"
   },
   {
    "duration": 2057,
    "start_time": "2022-05-25T11:04:00.687Z"
   },
   {
    "duration": 3008,
    "start_time": "2022-05-25T11:05:08.669Z"
   },
   {
    "duration": 4783,
    "start_time": "2022-05-25T11:05:30.686Z"
   },
   {
    "duration": 4829,
    "start_time": "2022-05-25T11:05:54.726Z"
   },
   {
    "duration": 4810,
    "start_time": "2022-05-25T11:07:04.182Z"
   },
   {
    "duration": 4816,
    "start_time": "2022-05-25T11:51:20.325Z"
   },
   {
    "duration": 2569,
    "start_time": "2022-05-25T11:51:50.669Z"
   },
   {
    "duration": 4809,
    "start_time": "2022-05-25T11:51:59.341Z"
   },
   {
    "duration": 4581,
    "start_time": "2022-05-25T11:55:00.293Z"
   },
   {
    "duration": 4824,
    "start_time": "2022-05-25T11:55:21.989Z"
   },
   {
    "duration": 8033,
    "start_time": "2022-05-25T11:57:51.956Z"
   },
   {
    "duration": 7044,
    "start_time": "2022-05-25T11:58:32.763Z"
   },
   {
    "duration": 7635,
    "start_time": "2022-05-25T12:31:07.889Z"
   },
   {
    "duration": 7595,
    "start_time": "2022-05-25T12:31:49.632Z"
   },
   {
    "duration": 7859,
    "start_time": "2022-05-25T12:32:05.160Z"
   },
   {
    "duration": 8650,
    "start_time": "2022-05-25T12:32:39.841Z"
   },
   {
    "duration": 6,
    "start_time": "2022-05-25T12:35:53.744Z"
   },
   {
    "duration": 3,
    "start_time": "2022-05-25T12:38:26.176Z"
   },
   {
    "duration": 12,
    "start_time": "2022-05-25T12:38:41.113Z"
   },
   {
    "duration": 9,
    "start_time": "2022-05-25T12:43:17.456Z"
   },
   {
    "duration": 13,
    "start_time": "2022-05-25T12:46:00.792Z"
   },
   {
    "duration": 4,
    "start_time": "2022-05-25T12:46:14.535Z"
   },
   {
    "duration": 13,
    "start_time": "2022-05-25T12:47:13.943Z"
   },
   {
    "duration": 274,
    "start_time": "2022-05-25T12:47:25.663Z"
   },
   {
    "duration": 6,
    "start_time": "2022-05-25T12:47:34.014Z"
   },
   {
    "duration": 163,
    "start_time": "2022-05-25T12:47:40.063Z"
   },
   {
    "duration": 64,
    "start_time": "2022-05-25T12:48:32.502Z"
   },
   {
    "duration": 27,
    "start_time": "2022-05-25T12:49:48.295Z"
   },
   {
    "duration": 20,
    "start_time": "2022-05-25T12:51:05.095Z"
   },
   {
    "duration": 22,
    "start_time": "2022-05-25T12:51:15.974Z"
   },
   {
    "duration": 27,
    "start_time": "2022-05-25T12:51:21.646Z"
   },
   {
    "duration": 171,
    "start_time": "2022-05-25T12:57:18.366Z"
   },
   {
    "duration": 9,
    "start_time": "2022-05-25T12:57:25.914Z"
   },
   {
    "duration": 8,
    "start_time": "2022-05-25T12:57:43.719Z"
   },
   {
    "duration": 18,
    "start_time": "2022-05-25T12:57:50.973Z"
   },
   {
    "duration": 708,
    "start_time": "2022-05-25T12:58:30.766Z"
   },
   {
    "duration": 17,
    "start_time": "2022-05-25T12:58:45.157Z"
   },
   {
    "duration": 20,
    "start_time": "2022-05-25T12:58:52.037Z"
   },
   {
    "duration": 23,
    "start_time": "2022-05-25T12:59:32.877Z"
   },
   {
    "duration": 8,
    "start_time": "2022-05-25T12:59:50.525Z"
   },
   {
    "duration": 17,
    "start_time": "2022-05-25T12:59:55.933Z"
   },
   {
    "duration": 12,
    "start_time": "2022-05-25T13:00:31.238Z"
   },
   {
    "duration": 10,
    "start_time": "2022-05-25T13:00:45.333Z"
   },
   {
    "duration": 9,
    "start_time": "2022-05-25T13:00:58.141Z"
   },
   {
    "duration": 9,
    "start_time": "2022-05-25T13:01:08.188Z"
   },
   {
    "duration": 22,
    "start_time": "2022-05-25T13:01:12.277Z"
   },
   {
    "duration": 14,
    "start_time": "2022-05-25T13:01:56.509Z"
   },
   {
    "duration": 9,
    "start_time": "2022-05-25T13:02:25.252Z"
   },
   {
    "duration": 8,
    "start_time": "2022-05-25T13:02:41.484Z"
   },
   {
    "duration": 10,
    "start_time": "2022-05-25T13:03:11.885Z"
   },
   {
    "duration": 10,
    "start_time": "2022-05-25T13:03:22.579Z"
   },
   {
    "duration": 9,
    "start_time": "2022-05-25T13:03:24.844Z"
   },
   {
    "duration": 8,
    "start_time": "2022-05-25T13:04:18.236Z"
   },
   {
    "duration": 9,
    "start_time": "2022-05-25T13:20:14.825Z"
   },
   {
    "duration": 10,
    "start_time": "2022-05-25T13:20:15.769Z"
   },
   {
    "duration": 12,
    "start_time": "2022-05-25T13:20:16.321Z"
   },
   {
    "duration": 4,
    "start_time": "2022-05-25T13:23:19.600Z"
   },
   {
    "duration": 6,
    "start_time": "2022-05-25T13:23:31.137Z"
   },
   {
    "duration": 3,
    "start_time": "2022-05-25T13:24:46.944Z"
   },
   {
    "duration": 5,
    "start_time": "2022-05-25T13:24:47.344Z"
   },
   {
    "duration": 10,
    "start_time": "2022-05-25T13:40:32.949Z"
   },
   {
    "duration": 5,
    "start_time": "2022-05-25T13:40:41.671Z"
   },
   {
    "duration": 4,
    "start_time": "2022-05-25T13:41:07.095Z"
   },
   {
    "duration": 5,
    "start_time": "2022-05-25T13:41:20.742Z"
   },
   {
    "duration": 5,
    "start_time": "2022-05-25T13:41:39.757Z"
   },
   {
    "duration": 442,
    "start_time": "2022-05-25T13:43:02.318Z"
   },
   {
    "duration": 100,
    "start_time": "2022-05-25T13:44:28.757Z"
   },
   {
    "duration": 312,
    "start_time": "2022-05-25T13:44:52.924Z"
   },
   {
    "duration": 5,
    "start_time": "2022-05-25T13:45:45.412Z"
   },
   {
    "duration": 334,
    "start_time": "2022-05-25T13:45:56.572Z"
   },
   {
    "duration": 8459,
    "start_time": "2022-05-25T13:46:14.877Z"
   },
   {
    "duration": 538,
    "start_time": "2022-05-25T13:46:33.069Z"
   },
   {
    "duration": 6,
    "start_time": "2022-05-25T13:47:00.013Z"
   },
   {
    "duration": 346,
    "start_time": "2022-05-25T13:47:10.852Z"
   },
   {
    "duration": 298,
    "start_time": "2022-05-25T13:47:15.452Z"
   },
   {
    "duration": 85,
    "start_time": "2022-05-25T13:47:23.781Z"
   },
   {
    "duration": 330,
    "start_time": "2022-05-25T13:47:28.468Z"
   },
   {
    "duration": 498,
    "start_time": "2022-05-25T13:48:17.869Z"
   },
   {
    "duration": 46,
    "start_time": "2022-05-25T13:49:02.076Z"
   },
   {
    "duration": 29,
    "start_time": "2022-05-25T13:49:06.572Z"
   },
   {
    "duration": 531,
    "start_time": "2022-05-25T13:49:13.644Z"
   },
   {
    "duration": 25,
    "start_time": "2022-05-25T13:50:04.209Z"
   },
   {
    "duration": 43,
    "start_time": "2022-05-25T13:50:17.532Z"
   },
   {
    "duration": 531,
    "start_time": "2022-05-25T13:50:31.828Z"
   },
   {
    "duration": 22,
    "start_time": "2022-05-25T13:52:37.820Z"
   },
   {
    "duration": 20,
    "start_time": "2022-05-25T13:52:51.628Z"
   },
   {
    "duration": 389,
    "start_time": "2022-05-25T13:52:57.918Z"
   },
   {
    "duration": 639,
    "start_time": "2022-05-25T13:54:25.915Z"
   },
   {
    "duration": 465,
    "start_time": "2022-05-25T13:54:37.916Z"
   },
   {
    "duration": 666,
    "start_time": "2022-05-25T13:54:41.252Z"
   },
   {
    "duration": 672,
    "start_time": "2022-05-25T13:55:40.436Z"
   },
   {
    "duration": 6,
    "start_time": "2022-05-25T13:55:59.115Z"
   },
   {
    "duration": 607,
    "start_time": "2022-05-25T13:56:10.788Z"
   },
   {
    "duration": 535,
    "start_time": "2022-05-25T13:57:19.756Z"
   },
   {
    "duration": 4,
    "start_time": "2022-05-25T13:58:43.717Z"
   },
   {
    "duration": 893,
    "start_time": "2022-05-25T13:58:47.140Z"
   },
   {
    "duration": 1044,
    "start_time": "2022-05-25T13:59:19.996Z"
   },
   {
    "duration": 753,
    "start_time": "2022-05-25T13:59:33.460Z"
   },
   {
    "duration": 3,
    "start_time": "2022-05-25T17:16:52.046Z"
   },
   {
    "duration": 54,
    "start_time": "2022-05-25T17:17:10.992Z"
   },
   {
    "duration": 1451,
    "start_time": "2022-05-25T17:17:18.273Z"
   },
   {
    "duration": 3,
    "start_time": "2022-05-25T17:17:19.726Z"
   },
   {
    "duration": 1992,
    "start_time": "2022-05-25T17:17:19.731Z"
   },
   {
    "duration": 3,
    "start_time": "2022-05-25T17:17:21.725Z"
   },
   {
    "duration": 8,
    "start_time": "2022-05-25T17:17:21.729Z"
   },
   {
    "duration": 5,
    "start_time": "2022-05-25T17:17:21.738Z"
   },
   {
    "duration": 9,
    "start_time": "2022-05-25T17:17:21.745Z"
   },
   {
    "duration": 19,
    "start_time": "2022-05-25T17:17:21.756Z"
   },
   {
    "duration": 29,
    "start_time": "2022-05-25T17:17:21.795Z"
   },
   {
    "duration": 10,
    "start_time": "2022-05-25T17:17:21.827Z"
   },
   {
    "duration": 3,
    "start_time": "2022-05-25T17:17:21.839Z"
   },
   {
    "duration": 7,
    "start_time": "2022-05-25T17:17:21.844Z"
   },
   {
    "duration": 42,
    "start_time": "2022-05-25T17:17:21.853Z"
   },
   {
    "duration": 14,
    "start_time": "2022-05-25T17:17:21.901Z"
   },
   {
    "duration": 13,
    "start_time": "2022-05-25T17:17:21.917Z"
   },
   {
    "duration": 7,
    "start_time": "2022-05-25T17:17:21.932Z"
   },
   {
    "duration": 7,
    "start_time": "2022-05-25T17:17:21.940Z"
   },
   {
    "duration": 995,
    "start_time": "2022-05-25T17:17:21.949Z"
   },
   {
    "duration": 9,
    "start_time": "2022-05-25T17:18:10.342Z"
   },
   {
    "duration": 11,
    "start_time": "2022-05-25T17:18:21.307Z"
   },
   {
    "duration": 10,
    "start_time": "2022-05-25T17:18:50.587Z"
   },
   {
    "duration": 204,
    "start_time": "2022-05-25T17:19:03.988Z"
   },
   {
    "duration": 10,
    "start_time": "2022-05-25T17:19:12.851Z"
   },
   {
    "duration": 135,
    "start_time": "2022-05-25T17:19:33.310Z"
   },
   {
    "duration": 10,
    "start_time": "2022-05-25T17:19:45.707Z"
   },
   {
    "duration": 815,
    "start_time": "2022-05-25T17:54:52.859Z"
   },
   {
    "duration": 1438,
    "start_time": "2022-05-25T17:55:45.618Z"
   },
   {
    "duration": 1492,
    "start_time": "2022-05-25T17:56:03.658Z"
   },
   {
    "duration": 1433,
    "start_time": "2022-05-25T17:56:49.167Z"
   },
   {
    "duration": 5,
    "start_time": "2022-05-25T17:58:23.733Z"
   },
   {
    "duration": 54,
    "start_time": "2022-05-25T18:00:31.396Z"
   },
   {
    "duration": 4,
    "start_time": "2022-05-25T18:00:36.699Z"
   },
   {
    "duration": 15,
    "start_time": "2022-05-25T18:00:37.377Z"
   },
   {
    "duration": 5,
    "start_time": "2022-05-25T18:00:59.738Z"
   },
   {
    "duration": 5,
    "start_time": "2022-05-25T18:01:00.192Z"
   },
   {
    "duration": 4,
    "start_time": "2022-05-25T18:01:24.592Z"
   },
   {
    "duration": 5,
    "start_time": "2022-05-25T18:01:24.945Z"
   },
   {
    "duration": 5,
    "start_time": "2022-05-25T18:01:51.761Z"
   },
   {
    "duration": 4,
    "start_time": "2022-05-25T18:02:09.577Z"
   },
   {
    "duration": 6,
    "start_time": "2022-05-25T18:04:00.190Z"
   },
   {
    "duration": 13,
    "start_time": "2022-05-25T18:06:42.418Z"
   },
   {
    "duration": 4,
    "start_time": "2022-05-25T18:17:26.480Z"
   },
   {
    "duration": 7,
    "start_time": "2022-05-25T18:17:37.445Z"
   },
   {
    "duration": 3,
    "start_time": "2022-05-25T18:22:22.156Z"
   },
   {
    "duration": 28,
    "start_time": "2022-05-25T18:24:59.659Z"
   },
   {
    "duration": 4,
    "start_time": "2022-05-25T18:25:32.431Z"
   },
   {
    "duration": 3,
    "start_time": "2022-05-25T18:25:36.816Z"
   },
   {
    "duration": 3943,
    "start_time": "2022-05-25T18:26:42.087Z"
   },
   {
    "duration": 3,
    "start_time": "2022-05-25T18:27:03.816Z"
   },
   {
    "duration": 2919,
    "start_time": "2022-05-25T18:27:04.552Z"
   },
   {
    "duration": 3,
    "start_time": "2022-05-25T18:27:45.829Z"
   },
   {
    "duration": 2847,
    "start_time": "2022-05-25T18:27:51.773Z"
   },
   {
    "duration": 3,
    "start_time": "2022-05-25T18:30:27.652Z"
   },
   {
    "duration": 2826,
    "start_time": "2022-05-25T18:30:28.170Z"
   },
   {
    "duration": 3,
    "start_time": "2022-05-25T18:31:13.298Z"
   },
   {
    "duration": 3572,
    "start_time": "2022-05-25T18:31:14.738Z"
   },
   {
    "duration": 3,
    "start_time": "2022-05-25T18:32:50.832Z"
   },
   {
    "duration": 2603,
    "start_time": "2022-05-25T18:32:53.041Z"
   },
   {
    "duration": 4,
    "start_time": "2022-05-25T18:33:04.727Z"
   },
   {
    "duration": 2733,
    "start_time": "2022-05-25T18:33:05.663Z"
   },
   {
    "duration": 2,
    "start_time": "2022-05-25T18:33:32.152Z"
   },
   {
    "duration": 835,
    "start_time": "2022-05-25T18:33:34.396Z"
   },
   {
    "duration": 1885,
    "start_time": "2022-05-25T18:33:53.015Z"
   },
   {
    "duration": 1385,
    "start_time": "2022-05-25T18:35:25.678Z"
   },
   {
    "duration": 2,
    "start_time": "2022-05-25T18:35:27.065Z"
   },
   {
    "duration": 1309,
    "start_time": "2022-05-25T18:37:12.043Z"
   },
   {
    "duration": 3,
    "start_time": "2022-05-25T18:37:51.385Z"
   },
   {
    "duration": 2964,
    "start_time": "2022-05-25T18:37:52.480Z"
   },
   {
    "duration": 4,
    "start_time": "2022-05-25T18:38:30.690Z"
   },
   {
    "duration": 3044,
    "start_time": "2022-05-25T18:38:31.354Z"
   },
   {
    "duration": 4,
    "start_time": "2022-05-25T18:38:46.247Z"
   },
   {
    "duration": 2778,
    "start_time": "2022-05-25T18:38:50.560Z"
   },
   {
    "duration": 4,
    "start_time": "2022-05-25T18:38:55.962Z"
   },
   {
    "duration": 2853,
    "start_time": "2022-05-25T18:38:56.392Z"
   },
   {
    "duration": 3,
    "start_time": "2022-05-25T18:40:51.046Z"
   },
   {
    "duration": 23,
    "start_time": "2022-05-25T18:40:51.862Z"
   },
   {
    "duration": 3,
    "start_time": "2022-05-25T18:41:03.114Z"
   },
   {
    "duration": 2786,
    "start_time": "2022-05-25T18:41:03.661Z"
   },
   {
    "duration": 4,
    "start_time": "2022-05-25T18:42:50.506Z"
   },
   {
    "duration": 809,
    "start_time": "2022-05-25T18:42:50.931Z"
   },
   {
    "duration": 3,
    "start_time": "2022-05-25T18:45:39.944Z"
   },
   {
    "duration": 2962,
    "start_time": "2022-05-25T18:45:40.392Z"
   },
   {
    "duration": 64,
    "start_time": "2022-05-25T18:47:22.174Z"
   },
   {
    "duration": 22,
    "start_time": "2022-05-25T18:47:47.771Z"
   },
   {
    "duration": 34,
    "start_time": "2022-05-25T18:53:48.520Z"
   },
   {
    "duration": 5,
    "start_time": "2022-05-25T18:54:06.265Z"
   },
   {
    "duration": 12,
    "start_time": "2022-05-25T18:55:20.326Z"
   },
   {
    "duration": 12,
    "start_time": "2022-05-25T18:55:41.391Z"
   },
   {
    "duration": 3,
    "start_time": "2022-05-25T18:56:12.787Z"
   },
   {
    "duration": 927,
    "start_time": "2022-05-25T18:56:13.298Z"
   },
   {
    "duration": 4,
    "start_time": "2022-05-25T18:57:32.803Z"
   },
   {
    "duration": 2819,
    "start_time": "2022-05-25T18:57:33.134Z"
   },
   {
    "duration": 345,
    "start_time": "2022-05-25T18:57:48.095Z"
   },
   {
    "duration": 45,
    "start_time": "2022-05-25T19:03:34.008Z"
   },
   {
    "duration": 61,
    "start_time": "2022-05-25T19:03:40.640Z"
   },
   {
    "duration": 4,
    "start_time": "2022-05-25T19:14:18.954Z"
   },
   {
    "duration": 5,
    "start_time": "2022-05-25T19:14:33.464Z"
   },
   {
    "duration": 4,
    "start_time": "2022-05-25T19:14:53.018Z"
   },
   {
    "duration": 4,
    "start_time": "2022-05-25T19:15:00.663Z"
   },
   {
    "duration": 1427,
    "start_time": "2022-05-25T19:18:15.812Z"
   },
   {
    "duration": 3149,
    "start_time": "2022-05-25T19:18:17.242Z"
   },
   {
    "duration": 611,
    "start_time": "2022-05-25T19:18:56.357Z"
   },
   {
    "duration": 2793,
    "start_time": "2022-05-25T19:18:59.862Z"
   },
   {
    "duration": 580,
    "start_time": "2022-05-25T19:19:58.038Z"
   },
   {
    "duration": 961,
    "start_time": "2022-05-25T19:20:24.902Z"
   },
   {
    "duration": 3,
    "start_time": "2022-05-25T19:20:55.976Z"
   },
   {
    "duration": 975,
    "start_time": "2022-05-25T19:21:10.739Z"
   },
   {
    "duration": 37,
    "start_time": "2022-05-25T19:26:39.976Z"
   },
   {
    "duration": 7,
    "start_time": "2022-05-25T19:26:57.001Z"
   },
   {
    "duration": 12,
    "start_time": "2022-05-25T19:29:07.416Z"
   },
   {
    "duration": 10,
    "start_time": "2022-05-25T19:29:15.038Z"
   },
   {
    "duration": 3,
    "start_time": "2022-05-25T19:29:16.980Z"
   },
   {
    "duration": 3045,
    "start_time": "2022-05-25T19:29:28.524Z"
   },
   {
    "duration": 9,
    "start_time": "2022-05-25T19:29:42.274Z"
   },
   {
    "duration": 2,
    "start_time": "2022-05-25T19:29:42.588Z"
   },
   {
    "duration": 3,
    "start_time": "2022-05-25T19:29:54.078Z"
   },
   {
    "duration": 3020,
    "start_time": "2022-05-25T19:30:00.332Z"
   },
   {
    "duration": 1021,
    "start_time": "2022-05-25T19:32:02.586Z"
   },
   {
    "duration": 3,
    "start_time": "2022-05-25T19:33:07.729Z"
   },
   {
    "duration": 1037,
    "start_time": "2022-05-25T19:33:09.388Z"
   },
   {
    "duration": 14,
    "start_time": "2022-05-25T19:33:10.427Z"
   },
   {
    "duration": 3,
    "start_time": "2022-05-25T19:33:16.448Z"
   },
   {
    "duration": 3,
    "start_time": "2022-05-25T19:33:22.595Z"
   },
   {
    "duration": 940,
    "start_time": "2022-05-25T19:33:23.662Z"
   },
   {
    "duration": 3359,
    "start_time": "2022-05-25T19:33:24.911Z"
   },
   {
    "duration": 59,
    "start_time": "2022-05-26T06:16:31.406Z"
   },
   {
    "duration": 1358,
    "start_time": "2022-05-26T06:16:37.633Z"
   },
   {
    "duration": 3,
    "start_time": "2022-05-26T06:16:38.992Z"
   },
   {
    "duration": 2807,
    "start_time": "2022-05-26T06:16:38.996Z"
   },
   {
    "duration": 3,
    "start_time": "2022-05-26T06:16:41.806Z"
   },
   {
    "duration": 7,
    "start_time": "2022-05-26T06:16:41.811Z"
   },
   {
    "duration": 5,
    "start_time": "2022-05-26T06:16:41.819Z"
   },
   {
    "duration": 8,
    "start_time": "2022-05-26T06:16:41.826Z"
   },
   {
    "duration": 17,
    "start_time": "2022-05-26T06:16:41.835Z"
   },
   {
    "duration": 23,
    "start_time": "2022-05-26T06:16:41.854Z"
   },
   {
    "duration": 9,
    "start_time": "2022-05-26T06:16:41.879Z"
   },
   {
    "duration": 8,
    "start_time": "2022-05-26T06:16:41.889Z"
   },
   {
    "duration": 5,
    "start_time": "2022-05-26T06:16:41.898Z"
   },
   {
    "duration": 6,
    "start_time": "2022-05-26T06:16:41.904Z"
   },
   {
    "duration": 9,
    "start_time": "2022-05-26T06:16:41.912Z"
   },
   {
    "duration": 9,
    "start_time": "2022-05-26T06:16:41.960Z"
   },
   {
    "duration": 7,
    "start_time": "2022-05-26T06:16:41.971Z"
   },
   {
    "duration": 4,
    "start_time": "2022-05-26T06:16:41.979Z"
   },
   {
    "duration": 13,
    "start_time": "2022-05-26T06:16:41.985Z"
   },
   {
    "duration": 13,
    "start_time": "2022-05-26T06:16:42.000Z"
   },
   {
    "duration": 7,
    "start_time": "2022-05-26T06:16:42.014Z"
   },
   {
    "duration": 83,
    "start_time": "2022-05-26T06:16:42.023Z"
   },
   {
    "duration": 7,
    "start_time": "2022-05-26T06:16:42.108Z"
   },
   {
    "duration": 0,
    "start_time": "2022-05-26T06:16:42.117Z"
   },
   {
    "duration": 0,
    "start_time": "2022-05-26T06:16:42.118Z"
   },
   {
    "duration": 0,
    "start_time": "2022-05-26T06:16:42.120Z"
   },
   {
    "duration": 25,
    "start_time": "2022-05-26T06:18:17.679Z"
   },
   {
    "duration": 8,
    "start_time": "2022-05-26T06:18:42.316Z"
   },
   {
    "duration": 13,
    "start_time": "2022-05-26T06:18:46.398Z"
   },
   {
    "duration": 34,
    "start_time": "2022-05-26T06:18:50.583Z"
   },
   {
    "duration": 3,
    "start_time": "2022-05-26T08:00:55.970Z"
   },
   {
    "duration": 104,
    "start_time": "2022-05-26T08:02:32.291Z"
   },
   {
    "duration": 10,
    "start_time": "2022-05-26T08:02:41.298Z"
   },
   {
    "duration": 3,
    "start_time": "2022-05-26T08:04:55.209Z"
   },
   {
    "duration": 3,
    "start_time": "2022-05-26T08:05:44.219Z"
   },
   {
    "duration": 2214,
    "start_time": "2022-05-26T08:05:49.914Z"
   },
   {
    "duration": 3,
    "start_time": "2022-05-26T08:06:52.995Z"
   },
   {
    "duration": 4,
    "start_time": "2022-05-26T08:07:11.418Z"
   },
   {
    "duration": 4,
    "start_time": "2022-05-26T08:07:12.066Z"
   },
   {
    "duration": 2098,
    "start_time": "2022-05-26T08:07:17.627Z"
   },
   {
    "duration": 3,
    "start_time": "2022-05-26T08:07:45.739Z"
   },
   {
    "duration": 3,
    "start_time": "2022-05-26T08:07:46.107Z"
   },
   {
    "duration": 4,
    "start_time": "2022-05-26T08:07:50.538Z"
   },
   {
    "duration": 2087,
    "start_time": "2022-05-26T08:07:52.835Z"
   },
   {
    "duration": 5,
    "start_time": "2022-05-26T08:08:27.643Z"
   },
   {
    "duration": 8,
    "start_time": "2022-05-26T08:10:02.100Z"
   },
   {
    "duration": 6,
    "start_time": "2022-05-26T08:10:05.819Z"
   },
   {
    "duration": 2962,
    "start_time": "2022-05-26T08:10:57.699Z"
   },
   {
    "duration": 5,
    "start_time": "2022-05-26T08:12:42.860Z"
   },
   {
    "duration": 2,
    "start_time": "2022-05-26T08:12:43.227Z"
   },
   {
    "duration": 3147,
    "start_time": "2022-05-26T08:12:43.723Z"
   },
   {
    "duration": 5,
    "start_time": "2022-05-26T08:14:22.861Z"
   },
   {
    "duration": 4,
    "start_time": "2022-05-26T08:14:31.412Z"
   },
   {
    "duration": 3,
    "start_time": "2022-05-26T08:14:31.939Z"
   },
   {
    "duration": 3023,
    "start_time": "2022-05-26T08:14:32.327Z"
   },
   {
    "duration": 4,
    "start_time": "2022-05-26T08:19:36.355Z"
   },
   {
    "duration": 2,
    "start_time": "2022-05-26T08:19:37.627Z"
   },
   {
    "duration": 3022,
    "start_time": "2022-05-26T08:19:38.124Z"
   },
   {
    "duration": 5,
    "start_time": "2022-05-26T08:22:09.227Z"
   },
   {
    "duration": 4,
    "start_time": "2022-05-26T08:22:42.660Z"
   },
   {
    "duration": 2,
    "start_time": "2022-05-26T08:22:43.435Z"
   },
   {
    "duration": 3029,
    "start_time": "2022-05-26T08:22:43.939Z"
   },
   {
    "duration": 4,
    "start_time": "2022-05-26T08:23:32.168Z"
   },
   {
    "duration": 2,
    "start_time": "2022-05-26T08:23:32.979Z"
   },
   {
    "duration": 18,
    "start_time": "2022-05-26T08:23:33.270Z"
   },
   {
    "duration": 35,
    "start_time": "2022-05-26T08:24:19.140Z"
   },
   {
    "duration": 159,
    "start_time": "2022-05-26T08:32:12.652Z"
   },
   {
    "duration": 5,
    "start_time": "2022-05-26T08:32:24.756Z"
   },
   {
    "duration": 2,
    "start_time": "2022-05-26T08:32:25.539Z"
   },
   {
    "duration": 2973,
    "start_time": "2022-05-26T08:32:25.988Z"
   },
   {
    "duration": 4,
    "start_time": "2022-05-26T08:32:39.907Z"
   },
   {
    "duration": 4,
    "start_time": "2022-05-26T08:32:40.273Z"
   },
   {
    "duration": 3021,
    "start_time": "2022-05-26T08:32:40.635Z"
   },
   {
    "duration": 5,
    "start_time": "2022-05-26T08:32:56.053Z"
   },
   {
    "duration": 3,
    "start_time": "2022-05-26T08:32:56.428Z"
   },
   {
    "duration": 3019,
    "start_time": "2022-05-26T08:32:56.844Z"
   },
   {
    "duration": 4,
    "start_time": "2022-05-26T08:33:21.387Z"
   },
   {
    "duration": 3,
    "start_time": "2022-05-26T08:33:21.775Z"
   },
   {
    "duration": 3029,
    "start_time": "2022-05-26T08:33:22.156Z"
   },
   {
    "duration": 6,
    "start_time": "2022-05-26T08:33:38.569Z"
   },
   {
    "duration": 2,
    "start_time": "2022-05-26T08:33:38.955Z"
   },
   {
    "duration": 19,
    "start_time": "2022-05-26T08:33:39.331Z"
   },
   {
    "duration": 4,
    "start_time": "2022-05-26T08:33:47.675Z"
   },
   {
    "duration": 2,
    "start_time": "2022-05-26T08:33:48.020Z"
   },
   {
    "duration": 2926,
    "start_time": "2022-05-26T08:33:48.275Z"
   },
   {
    "duration": 59,
    "start_time": "2022-05-26T08:34:41.923Z"
   },
   {
    "duration": 3213,
    "start_time": "2022-05-26T08:34:42.458Z"
   },
   {
    "duration": 4,
    "start_time": "2022-05-26T08:35:17.002Z"
   },
   {
    "duration": 15,
    "start_time": "2022-05-26T08:35:17.625Z"
   },
   {
    "duration": 4,
    "start_time": "2022-05-26T08:36:29.049Z"
   },
   {
    "duration": 6,
    "start_time": "2022-05-26T08:38:58.040Z"
   },
   {
    "duration": 3,
    "start_time": "2022-05-26T08:38:58.680Z"
   },
   {
    "duration": 2955,
    "start_time": "2022-05-26T08:38:59.432Z"
   },
   {
    "duration": 3,
    "start_time": "2022-05-26T08:39:35.400Z"
   },
   {
    "duration": 5,
    "start_time": "2022-05-26T08:39:35.856Z"
   },
   {
    "duration": 2974,
    "start_time": "2022-05-26T08:39:42.880Z"
   },
   {
    "duration": 4,
    "start_time": "2022-05-26T08:40:23.143Z"
   },
   {
    "duration": 4,
    "start_time": "2022-05-26T08:40:23.494Z"
   },
   {
    "duration": 23,
    "start_time": "2022-05-26T08:40:24.006Z"
   },
   {
    "duration": 4,
    "start_time": "2022-05-26T08:40:39.519Z"
   },
   {
    "duration": 3,
    "start_time": "2022-05-26T08:40:39.935Z"
   },
   {
    "duration": 389,
    "start_time": "2022-05-26T08:40:40.359Z"
   },
   {
    "duration": 4,
    "start_time": "2022-05-26T08:41:18.026Z"
   },
   {
    "duration": 4,
    "start_time": "2022-05-26T08:41:18.415Z"
   },
   {
    "duration": 1049,
    "start_time": "2022-05-26T08:41:18.970Z"
   },
   {
    "duration": 6,
    "start_time": "2022-05-26T08:45:58.462Z"
   },
   {
    "duration": 4,
    "start_time": "2022-05-26T08:45:59.637Z"
   },
   {
    "duration": 18,
    "start_time": "2022-05-26T08:46:00.838Z"
   },
   {
    "duration": 3,
    "start_time": "2022-05-26T08:46:15.143Z"
   },
   {
    "duration": 3,
    "start_time": "2022-05-26T08:46:15.598Z"
   },
   {
    "duration": 21,
    "start_time": "2022-05-26T08:46:16.110Z"
   },
   {
    "duration": 8,
    "start_time": "2022-05-26T08:47:12.654Z"
   },
   {
    "duration": 3,
    "start_time": "2022-05-26T08:47:12.941Z"
   },
   {
    "duration": 20,
    "start_time": "2022-05-26T08:47:13.398Z"
   },
   {
    "duration": 3,
    "start_time": "2022-05-26T08:47:52.845Z"
   },
   {
    "duration": 5,
    "start_time": "2022-05-26T08:47:57.438Z"
   },
   {
    "duration": 3049,
    "start_time": "2022-05-26T08:47:57.741Z"
   },
   {
    "duration": 2976,
    "start_time": "2022-05-26T08:50:00.118Z"
   },
   {
    "duration": 3,
    "start_time": "2022-05-26T08:50:35.674Z"
   },
   {
    "duration": 5,
    "start_time": "2022-05-26T08:50:53.021Z"
   },
   {
    "duration": 2934,
    "start_time": "2022-05-26T08:50:53.533Z"
   },
   {
    "duration": 61,
    "start_time": "2022-05-26T08:58:12.011Z"
   },
   {
    "duration": 4,
    "start_time": "2022-05-26T09:07:54.921Z"
   },
   {
    "duration": 7,
    "start_time": "2022-05-26T09:08:13.426Z"
   },
   {
    "duration": 7,
    "start_time": "2022-05-26T09:08:27.425Z"
   },
   {
    "duration": 36,
    "start_time": "2022-05-26T10:20:14.708Z"
   },
   {
    "duration": 35,
    "start_time": "2022-05-26T10:20:17.486Z"
   },
   {
    "duration": 36,
    "start_time": "2022-05-26T10:22:04.027Z"
   },
   {
    "duration": 19,
    "start_time": "2022-05-26T10:22:39.322Z"
   },
   {
    "duration": 25,
    "start_time": "2022-05-26T10:25:16.552Z"
   },
   {
    "duration": 3,
    "start_time": "2022-05-26T10:25:28.936Z"
   },
   {
    "duration": 3,
    "start_time": "2022-05-26T10:25:36.753Z"
   },
   {
    "duration": 19,
    "start_time": "2022-05-26T10:27:10.504Z"
   },
   {
    "duration": 4,
    "start_time": "2022-05-26T10:27:47.511Z"
   },
   {
    "duration": 4,
    "start_time": "2022-05-26T10:27:49.479Z"
   },
   {
    "duration": 4,
    "start_time": "2022-05-26T10:28:36.991Z"
   },
   {
    "duration": 328,
    "start_time": "2022-05-26T10:28:37.535Z"
   },
   {
    "duration": 1061,
    "start_time": "2022-05-26T10:28:53.910Z"
   },
   {
    "duration": 3,
    "start_time": "2022-05-26T10:28:54.973Z"
   },
   {
    "duration": 675,
    "start_time": "2022-05-26T10:28:54.978Z"
   },
   {
    "duration": 5,
    "start_time": "2022-05-26T10:28:55.654Z"
   },
   {
    "duration": 10,
    "start_time": "2022-05-26T10:28:55.660Z"
   },
   {
    "duration": 8,
    "start_time": "2022-05-26T10:28:55.672Z"
   },
   {
    "duration": 9,
    "start_time": "2022-05-26T10:28:55.681Z"
   },
   {
    "duration": 4,
    "start_time": "2022-05-26T10:28:55.691Z"
   },
   {
    "duration": 29,
    "start_time": "2022-05-26T10:28:55.697Z"
   },
   {
    "duration": 3,
    "start_time": "2022-05-26T10:28:55.728Z"
   },
   {
    "duration": 27,
    "start_time": "2022-05-26T10:28:55.733Z"
   },
   {
    "duration": 12,
    "start_time": "2022-05-26T10:28:55.761Z"
   },
   {
    "duration": 9,
    "start_time": "2022-05-26T10:28:55.774Z"
   },
   {
    "duration": 8,
    "start_time": "2022-05-26T10:28:55.785Z"
   },
   {
    "duration": 4,
    "start_time": "2022-05-26T10:28:55.795Z"
   },
   {
    "duration": 5,
    "start_time": "2022-05-26T10:28:55.801Z"
   },
   {
    "duration": 5,
    "start_time": "2022-05-26T10:28:55.808Z"
   },
   {
    "duration": 6,
    "start_time": "2022-05-26T10:28:55.815Z"
   },
   {
    "duration": 36,
    "start_time": "2022-05-26T10:28:55.823Z"
   },
   {
    "duration": 15,
    "start_time": "2022-05-26T10:28:55.860Z"
   },
   {
    "duration": 5,
    "start_time": "2022-05-26T10:28:55.877Z"
   },
   {
    "duration": 7,
    "start_time": "2022-05-26T10:28:55.883Z"
   },
   {
    "duration": 2970,
    "start_time": "2022-05-26T10:28:55.892Z"
   },
   {
    "duration": 7,
    "start_time": "2022-05-26T10:28:58.863Z"
   },
   {
    "duration": 4,
    "start_time": "2022-05-26T10:34:19.896Z"
   },
   {
    "duration": 226,
    "start_time": "2022-05-26T10:39:42.918Z"
   },
   {
    "duration": 16,
    "start_time": "2022-05-26T10:40:00.883Z"
   },
   {
    "duration": 13,
    "start_time": "2022-05-26T10:40:19.968Z"
   },
   {
    "duration": 46,
    "start_time": "2022-05-26T10:41:40.845Z"
   },
   {
    "duration": 23,
    "start_time": "2022-05-26T10:42:42.173Z"
   },
   {
    "duration": 29,
    "start_time": "2022-05-26T10:42:47.637Z"
   },
   {
    "duration": 234,
    "start_time": "2022-05-26T10:43:10.348Z"
   },
   {
    "duration": 19,
    "start_time": "2022-05-26T10:43:40.844Z"
   },
   {
    "duration": 14,
    "start_time": "2022-05-26T10:43:49.692Z"
   },
   {
    "duration": 5,
    "start_time": "2022-05-26T10:46:33.579Z"
   },
   {
    "duration": 4,
    "start_time": "2022-05-26T10:46:51.740Z"
   },
   {
    "duration": 4,
    "start_time": "2022-05-26T10:48:34.835Z"
   },
   {
    "duration": 1208,
    "start_time": "2022-05-26T10:48:50.083Z"
   },
   {
    "duration": 3,
    "start_time": "2022-05-26T10:48:51.294Z"
   },
   {
    "duration": 717,
    "start_time": "2022-05-26T10:48:51.298Z"
   },
   {
    "duration": 3,
    "start_time": "2022-05-26T10:48:52.017Z"
   },
   {
    "duration": 7,
    "start_time": "2022-05-26T10:48:52.022Z"
   },
   {
    "duration": 9,
    "start_time": "2022-05-26T10:48:52.030Z"
   },
   {
    "duration": 32,
    "start_time": "2022-05-26T10:48:52.040Z"
   },
   {
    "duration": 23,
    "start_time": "2022-05-26T10:48:52.074Z"
   },
   {
    "duration": 3,
    "start_time": "2022-05-26T10:48:52.099Z"
   },
   {
    "duration": 14,
    "start_time": "2022-05-26T10:48:52.103Z"
   },
   {
    "duration": 12,
    "start_time": "2022-05-26T10:48:52.119Z"
   },
   {
    "duration": 12,
    "start_time": "2022-05-26T10:48:52.133Z"
   },
   {
    "duration": 19,
    "start_time": "2022-05-26T10:48:52.147Z"
   },
   {
    "duration": 10,
    "start_time": "2022-05-26T10:48:52.171Z"
   },
   {
    "duration": 3,
    "start_time": "2022-05-26T10:48:52.182Z"
   },
   {
    "duration": 8,
    "start_time": "2022-05-26T10:48:52.187Z"
   },
   {
    "duration": 13,
    "start_time": "2022-05-26T10:48:52.197Z"
   },
   {
    "duration": 6,
    "start_time": "2022-05-26T10:48:52.212Z"
   },
   {
    "duration": 6,
    "start_time": "2022-05-26T10:48:52.220Z"
   },
   {
    "duration": 10,
    "start_time": "2022-05-26T10:48:52.228Z"
   },
   {
    "duration": 6,
    "start_time": "2022-05-26T10:48:52.240Z"
   },
   {
    "duration": 3135,
    "start_time": "2022-05-26T10:48:52.248Z"
   },
   {
    "duration": 7,
    "start_time": "2022-05-26T10:48:55.385Z"
   },
   {
    "duration": 4,
    "start_time": "2022-05-26T10:49:47.517Z"
   },
   {
    "duration": 3,
    "start_time": "2022-05-26T10:50:32.437Z"
   },
   {
    "duration": 4,
    "start_time": "2022-05-26T10:51:08.891Z"
   },
   {
    "duration": 2787,
    "start_time": "2022-05-26T10:51:09.472Z"
   },
   {
    "duration": 2,
    "start_time": "2022-05-26T10:51:39.339Z"
   },
   {
    "duration": 4,
    "start_time": "2022-05-26T10:59:59.648Z"
   },
   {
    "duration": 370,
    "start_time": "2022-05-26T11:00:00.240Z"
   },
   {
    "duration": 4,
    "start_time": "2022-05-26T11:00:38.008Z"
   },
   {
    "duration": 2503,
    "start_time": "2022-05-26T11:00:38.977Z"
   },
   {
    "duration": 5,
    "start_time": "2022-05-26T11:01:30.392Z"
   },
   {
    "duration": 2930,
    "start_time": "2022-05-26T11:01:31.121Z"
   },
   {
    "duration": 4,
    "start_time": "2022-05-26T11:35:21.004Z"
   },
   {
    "duration": 961,
    "start_time": "2022-05-26T11:36:55.269Z"
   },
   {
    "duration": 985,
    "start_time": "2022-05-26T11:37:32.205Z"
   },
   {
    "duration": 766,
    "start_time": "2022-05-26T11:37:44.037Z"
   },
   {
    "duration": 765,
    "start_time": "2022-05-26T11:38:58.084Z"
   },
   {
    "duration": 1068,
    "start_time": "2022-05-26T11:40:24.101Z"
   },
   {
    "duration": 752,
    "start_time": "2022-05-26T11:43:53.076Z"
   },
   {
    "duration": 1147,
    "start_time": "2022-05-26T11:46:06.572Z"
   },
   {
    "duration": 766,
    "start_time": "2022-05-26T11:46:30.803Z"
   },
   {
    "duration": 38,
    "start_time": "2022-05-26T11:47:00.220Z"
   },
   {
    "duration": 272,
    "start_time": "2022-05-26T11:47:44.492Z"
   },
   {
    "duration": 110,
    "start_time": "2022-05-26T11:47:49.412Z"
   },
   {
    "duration": 106,
    "start_time": "2022-05-26T11:48:06.571Z"
   },
   {
    "duration": 28,
    "start_time": "2022-05-26T11:48:20.644Z"
   },
   {
    "duration": 1140,
    "start_time": "2022-05-26T13:47:09.694Z"
   },
   {
    "duration": 3,
    "start_time": "2022-05-26T13:47:10.837Z"
   },
   {
    "duration": 680,
    "start_time": "2022-05-26T13:47:10.841Z"
   },
   {
    "duration": 3,
    "start_time": "2022-05-26T13:47:11.523Z"
   },
   {
    "duration": 12,
    "start_time": "2022-05-26T13:47:11.529Z"
   },
   {
    "duration": 16,
    "start_time": "2022-05-26T13:47:11.543Z"
   },
   {
    "duration": 9,
    "start_time": "2022-05-26T13:47:11.560Z"
   },
   {
    "duration": 25,
    "start_time": "2022-05-26T13:47:11.571Z"
   },
   {
    "duration": 2,
    "start_time": "2022-05-26T13:47:11.598Z"
   },
   {
    "duration": 8,
    "start_time": "2022-05-26T13:47:11.602Z"
   },
   {
    "duration": 24,
    "start_time": "2022-05-26T13:47:11.611Z"
   },
   {
    "duration": 10,
    "start_time": "2022-05-26T13:47:11.636Z"
   },
   {
    "duration": 12,
    "start_time": "2022-05-26T13:47:11.648Z"
   },
   {
    "duration": 8,
    "start_time": "2022-05-26T13:47:11.663Z"
   },
   {
    "duration": 6,
    "start_time": "2022-05-26T13:47:11.672Z"
   },
   {
    "duration": 7,
    "start_time": "2022-05-26T13:47:11.680Z"
   },
   {
    "duration": 7,
    "start_time": "2022-05-26T13:47:11.688Z"
   },
   {
    "duration": 16,
    "start_time": "2022-05-26T13:47:11.697Z"
   },
   {
    "duration": 12,
    "start_time": "2022-05-26T13:47:11.715Z"
   },
   {
    "duration": 8,
    "start_time": "2022-05-26T13:47:11.729Z"
   },
   {
    "duration": 25,
    "start_time": "2022-05-26T13:47:11.739Z"
   },
   {
    "duration": 3099,
    "start_time": "2022-05-26T13:47:11.766Z"
   },
   {
    "duration": 2,
    "start_time": "2022-05-26T13:47:14.867Z"
   },
   {
    "duration": 9,
    "start_time": "2022-05-26T13:47:14.871Z"
   },
   {
    "duration": 813,
    "start_time": "2022-05-26T13:47:14.882Z"
   },
   {
    "duration": 3,
    "start_time": "2022-05-26T13:47:15.697Z"
   },
   {
    "duration": 154,
    "start_time": "2022-05-26T13:47:15.702Z"
   },
   {
    "duration": 23,
    "start_time": "2022-05-26T13:47:15.859Z"
   },
   {
    "duration": 5,
    "start_time": "2022-05-26T13:52:43.510Z"
   },
   {
    "duration": 4,
    "start_time": "2022-05-26T13:52:50.966Z"
   },
   {
    "duration": 3,
    "start_time": "2022-05-26T13:53:59.686Z"
   },
   {
    "duration": 5,
    "start_time": "2022-05-26T13:54:08.934Z"
   },
   {
    "duration": 3,
    "start_time": "2022-05-26T13:55:23.653Z"
   },
   {
    "duration": 27,
    "start_time": "2022-05-26T13:55:24.229Z"
   },
   {
    "duration": 3,
    "start_time": "2022-05-26T13:55:36.622Z"
   },
   {
    "duration": 3,
    "start_time": "2022-05-26T13:58:39.982Z"
   },
   {
    "duration": 22,
    "start_time": "2022-05-26T13:58:41.061Z"
   },
   {
    "duration": 4,
    "start_time": "2022-05-26T14:07:24.672Z"
   },
   {
    "duration": 14,
    "start_time": "2022-05-26T14:07:25.027Z"
   },
   {
    "duration": 3,
    "start_time": "2022-05-26T14:08:14.052Z"
   },
   {
    "duration": 3,
    "start_time": "2022-05-26T14:08:14.421Z"
   },
   {
    "duration": 1180,
    "start_time": "2022-05-26T14:08:21.821Z"
   },
   {
    "duration": 3,
    "start_time": "2022-05-26T14:08:23.004Z"
   },
   {
    "duration": 774,
    "start_time": "2022-05-26T14:08:23.009Z"
   },
   {
    "duration": 4,
    "start_time": "2022-05-26T14:08:23.786Z"
   },
   {
    "duration": 12,
    "start_time": "2022-05-26T14:08:23.792Z"
   },
   {
    "duration": 6,
    "start_time": "2022-05-26T14:08:23.806Z"
   },
   {
    "duration": 9,
    "start_time": "2022-05-26T14:08:23.814Z"
   },
   {
    "duration": 41,
    "start_time": "2022-05-26T14:08:23.825Z"
   },
   {
    "duration": 13,
    "start_time": "2022-05-26T14:08:23.868Z"
   },
   {
    "duration": 18,
    "start_time": "2022-05-26T14:08:23.885Z"
   },
   {
    "duration": 9,
    "start_time": "2022-05-26T14:08:23.905Z"
   },
   {
    "duration": 12,
    "start_time": "2022-05-26T14:08:23.916Z"
   },
   {
    "duration": 14,
    "start_time": "2022-05-26T14:08:23.929Z"
   },
   {
    "duration": 29,
    "start_time": "2022-05-26T14:08:23.945Z"
   },
   {
    "duration": 3,
    "start_time": "2022-05-26T14:08:23.977Z"
   },
   {
    "duration": 8,
    "start_time": "2022-05-26T14:08:23.982Z"
   },
   {
    "duration": 9,
    "start_time": "2022-05-26T14:08:23.992Z"
   },
   {
    "duration": 8,
    "start_time": "2022-05-26T14:08:24.004Z"
   },
   {
    "duration": 8,
    "start_time": "2022-05-26T14:08:24.015Z"
   },
   {
    "duration": 5,
    "start_time": "2022-05-26T14:08:24.025Z"
   },
   {
    "duration": 7,
    "start_time": "2022-05-26T14:08:24.032Z"
   },
   {
    "duration": 3057,
    "start_time": "2022-05-26T14:08:24.041Z"
   },
   {
    "duration": 2,
    "start_time": "2022-05-26T14:08:27.100Z"
   },
   {
    "duration": 18,
    "start_time": "2022-05-26T14:08:27.104Z"
   },
   {
    "duration": 919,
    "start_time": "2022-05-26T14:08:27.125Z"
   },
   {
    "duration": 3,
    "start_time": "2022-05-26T14:08:28.046Z"
   },
   {
    "duration": 33,
    "start_time": "2022-05-26T14:08:28.051Z"
   },
   {
    "duration": 19,
    "start_time": "2022-05-26T14:08:28.088Z"
   },
   {
    "duration": 154,
    "start_time": "2022-05-26T14:08:28.109Z"
   },
   {
    "duration": 26,
    "start_time": "2022-05-26T14:08:28.267Z"
   },
   {
    "duration": 3,
    "start_time": "2022-05-26T14:09:44.708Z"
   },
   {
    "duration": 4,
    "start_time": "2022-05-26T14:09:45.051Z"
   },
   {
    "duration": 3,
    "start_time": "2022-05-26T14:10:15.381Z"
   },
   {
    "duration": 3,
    "start_time": "2022-05-26T14:10:15.756Z"
   },
   {
    "duration": 3,
    "start_time": "2022-05-26T14:11:35.315Z"
   },
   {
    "duration": 6,
    "start_time": "2022-05-26T14:12:10.768Z"
   },
   {
    "duration": 40,
    "start_time": "2022-05-26T14:12:11.123Z"
   },
   {
    "duration": 3,
    "start_time": "2022-05-26T14:12:23.314Z"
   },
   {
    "duration": 29,
    "start_time": "2022-05-26T14:12:23.973Z"
   },
   {
    "duration": 3,
    "start_time": "2022-05-26T14:13:31.995Z"
   },
   {
    "duration": 2007,
    "start_time": "2022-05-26T14:13:32.476Z"
   },
   {
    "duration": 4,
    "start_time": "2022-05-26T14:14:02.478Z"
   },
   {
    "duration": 2044,
    "start_time": "2022-05-26T14:14:02.872Z"
   },
   {
    "duration": 3,
    "start_time": "2022-05-26T14:14:17.388Z"
   },
   {
    "duration": 2215,
    "start_time": "2022-05-26T14:14:17.827Z"
   },
   {
    "duration": 5,
    "start_time": "2022-05-26T14:16:00.970Z"
   },
   {
    "duration": 229,
    "start_time": "2022-05-26T14:16:01.880Z"
   },
   {
    "duration": 7,
    "start_time": "2022-05-26T14:16:08.364Z"
   },
   {
    "duration": 565,
    "start_time": "2022-05-26T14:16:08.915Z"
   },
   {
    "duration": 3,
    "start_time": "2022-05-26T14:16:27.891Z"
   },
   {
    "duration": 1006,
    "start_time": "2022-05-26T14:16:28.322Z"
   },
   {
    "duration": 4,
    "start_time": "2022-05-26T14:16:46.740Z"
   },
   {
    "duration": 1276,
    "start_time": "2022-05-26T14:16:47.242Z"
   },
   {
    "duration": 4,
    "start_time": "2022-05-26T14:17:19.673Z"
   },
   {
    "duration": 1370,
    "start_time": "2022-05-26T14:17:20.122Z"
   },
   {
    "duration": 23,
    "start_time": "2022-05-26T14:18:46.453Z"
   },
   {
    "duration": 4,
    "start_time": "2022-05-26T14:19:21.070Z"
   },
   {
    "duration": 2082,
    "start_time": "2022-05-26T14:19:21.426Z"
   },
   {
    "duration": 86,
    "start_time": "2022-05-26T17:23:35.003Z"
   },
   {
    "duration": 1439,
    "start_time": "2022-05-26T17:23:41.514Z"
   },
   {
    "duration": 3,
    "start_time": "2022-05-26T17:23:42.956Z"
   },
   {
    "duration": 2013,
    "start_time": "2022-05-26T17:23:42.960Z"
   },
   {
    "duration": 3,
    "start_time": "2022-05-26T17:23:44.975Z"
   },
   {
    "duration": 28,
    "start_time": "2022-05-26T17:23:44.979Z"
   },
   {
    "duration": 24,
    "start_time": "2022-05-26T17:23:45.011Z"
   },
   {
    "duration": 27,
    "start_time": "2022-05-26T17:23:45.037Z"
   },
   {
    "duration": 52,
    "start_time": "2022-05-26T17:23:45.065Z"
   },
   {
    "duration": 5,
    "start_time": "2022-05-26T17:23:45.118Z"
   },
   {
    "duration": 25,
    "start_time": "2022-05-26T17:23:45.126Z"
   },
   {
    "duration": 18,
    "start_time": "2022-05-26T17:23:45.153Z"
   },
   {
    "duration": 31,
    "start_time": "2022-05-26T17:23:45.173Z"
   },
   {
    "duration": 19,
    "start_time": "2022-05-26T17:23:45.205Z"
   },
   {
    "duration": 35,
    "start_time": "2022-05-26T17:23:45.226Z"
   },
   {
    "duration": 17,
    "start_time": "2022-05-26T17:23:45.263Z"
   },
   {
    "duration": 50,
    "start_time": "2022-05-26T17:23:45.281Z"
   },
   {
    "duration": 8,
    "start_time": "2022-05-26T17:23:45.333Z"
   },
   {
    "duration": 30,
    "start_time": "2022-05-26T17:23:45.342Z"
   },
   {
    "duration": 42,
    "start_time": "2022-05-26T17:23:45.374Z"
   },
   {
    "duration": 13,
    "start_time": "2022-05-26T17:23:45.418Z"
   },
   {
    "duration": 32,
    "start_time": "2022-05-26T17:23:45.432Z"
   },
   {
    "duration": 3041,
    "start_time": "2022-05-26T17:23:45.466Z"
   },
   {
    "duration": 2,
    "start_time": "2022-05-26T17:23:48.510Z"
   },
   {
    "duration": 24,
    "start_time": "2022-05-26T17:23:48.514Z"
   },
   {
    "duration": 825,
    "start_time": "2022-05-26T17:23:48.540Z"
   },
   {
    "duration": 4,
    "start_time": "2022-05-26T17:23:49.366Z"
   },
   {
    "duration": 41,
    "start_time": "2022-05-26T17:23:49.372Z"
   },
   {
    "duration": 2105,
    "start_time": "2022-05-26T17:23:49.416Z"
   },
   {
    "duration": 133,
    "start_time": "2022-05-26T17:23:51.523Z"
   },
   {
    "duration": 23,
    "start_time": "2022-05-26T17:23:51.657Z"
   },
   {
    "duration": 10,
    "start_time": "2022-05-26T17:25:18.911Z"
   },
   {
    "duration": 12,
    "start_time": "2022-05-26T17:25:30.828Z"
   },
   {
    "duration": 7,
    "start_time": "2022-05-26T17:27:49.757Z"
   },
   {
    "duration": 10,
    "start_time": "2022-05-26T17:29:35.197Z"
   },
   {
    "duration": 3,
    "start_time": "2022-05-26T17:29:43.968Z"
   },
   {
    "duration": 4,
    "start_time": "2022-05-26T17:30:13.459Z"
   },
   {
    "duration": 4,
    "start_time": "2022-05-26T17:30:22.618Z"
   },
   {
    "duration": 10,
    "start_time": "2022-05-26T17:31:15.826Z"
   },
   {
    "duration": 4,
    "start_time": "2022-05-26T17:31:36.607Z"
   },
   {
    "duration": 1195,
    "start_time": "2022-05-26T17:32:34.868Z"
   },
   {
    "duration": 2,
    "start_time": "2022-05-26T17:32:36.065Z"
   },
   {
    "duration": 734,
    "start_time": "2022-05-26T17:32:36.069Z"
   },
   {
    "duration": 3,
    "start_time": "2022-05-26T17:32:36.804Z"
   },
   {
    "duration": 9,
    "start_time": "2022-05-26T17:32:36.809Z"
   },
   {
    "duration": 12,
    "start_time": "2022-05-26T17:32:36.820Z"
   },
   {
    "duration": 8,
    "start_time": "2022-05-26T17:32:36.833Z"
   },
   {
    "duration": 19,
    "start_time": "2022-05-26T17:32:36.843Z"
   },
   {
    "duration": 4,
    "start_time": "2022-05-26T17:32:36.863Z"
   },
   {
    "duration": 5,
    "start_time": "2022-05-26T17:32:36.868Z"
   },
   {
    "duration": 6,
    "start_time": "2022-05-26T17:32:36.874Z"
   },
   {
    "duration": 18,
    "start_time": "2022-05-26T17:32:36.881Z"
   },
   {
    "duration": 17,
    "start_time": "2022-05-26T17:32:36.900Z"
   },
   {
    "duration": 9,
    "start_time": "2022-05-26T17:32:36.920Z"
   },
   {
    "duration": 8,
    "start_time": "2022-05-26T17:32:36.930Z"
   },
   {
    "duration": 3,
    "start_time": "2022-05-26T17:32:36.939Z"
   },
   {
    "duration": 6,
    "start_time": "2022-05-26T17:32:36.943Z"
   },
   {
    "duration": 7,
    "start_time": "2022-05-26T17:32:36.951Z"
   },
   {
    "duration": 7,
    "start_time": "2022-05-26T17:32:36.960Z"
   },
   {
    "duration": 10,
    "start_time": "2022-05-26T17:32:36.969Z"
   },
   {
    "duration": 17,
    "start_time": "2022-05-26T17:32:36.981Z"
   },
   {
    "duration": 5,
    "start_time": "2022-05-26T17:32:37.006Z"
   },
   {
    "duration": 2899,
    "start_time": "2022-05-26T17:32:37.013Z"
   },
   {
    "duration": 2,
    "start_time": "2022-05-26T17:32:39.914Z"
   },
   {
    "duration": 9,
    "start_time": "2022-05-26T17:32:39.918Z"
   },
   {
    "duration": 839,
    "start_time": "2022-05-26T17:32:39.928Z"
   },
   {
    "duration": 4,
    "start_time": "2022-05-26T17:32:40.768Z"
   },
   {
    "duration": 6,
    "start_time": "2022-05-26T17:32:40.773Z"
   },
   {
    "duration": 2088,
    "start_time": "2022-05-26T17:32:40.780Z"
   },
   {
    "duration": 129,
    "start_time": "2022-05-26T17:32:42.870Z"
   },
   {
    "duration": 39,
    "start_time": "2022-05-26T17:32:43.000Z"
   },
   {
    "duration": 3,
    "start_time": "2022-05-26T17:32:43.041Z"
   },
   {
    "duration": 11,
    "start_time": "2022-05-26T17:32:43.045Z"
   },
   {
    "duration": 3,
    "start_time": "2022-05-26T17:32:43.058Z"
   },
   {
    "duration": 8,
    "start_time": "2022-05-26T17:32:43.063Z"
   },
   {
    "duration": 4,
    "start_time": "2022-05-26T17:34:35.219Z"
   },
   {
    "duration": 4,
    "start_time": "2022-05-26T17:34:41.209Z"
   },
   {
    "duration": 4,
    "start_time": "2022-05-26T17:35:18.463Z"
   },
   {
    "duration": 3,
    "start_time": "2022-05-26T17:35:25.607Z"
   },
   {
    "duration": 4,
    "start_time": "2022-05-26T17:36:20.708Z"
   },
   {
    "duration": 4,
    "start_time": "2022-05-26T17:36:30.861Z"
   },
   {
    "duration": 5,
    "start_time": "2022-05-26T17:37:00.174Z"
   },
   {
    "duration": 4,
    "start_time": "2022-05-26T17:38:44.874Z"
   },
   {
    "duration": 4,
    "start_time": "2022-05-26T17:38:50.960Z"
   },
   {
    "duration": 4,
    "start_time": "2022-05-26T17:38:55.869Z"
   },
   {
    "duration": 1197,
    "start_time": "2022-05-26T17:39:07.427Z"
   },
   {
    "duration": 2,
    "start_time": "2022-05-26T17:39:08.626Z"
   },
   {
    "duration": 794,
    "start_time": "2022-05-26T17:39:08.630Z"
   },
   {
    "duration": 3,
    "start_time": "2022-05-26T17:39:09.426Z"
   },
   {
    "duration": 5,
    "start_time": "2022-05-26T17:39:09.430Z"
   },
   {
    "duration": 4,
    "start_time": "2022-05-26T17:39:09.437Z"
   },
   {
    "duration": 7,
    "start_time": "2022-05-26T17:39:09.442Z"
   },
   {
    "duration": 24,
    "start_time": "2022-05-26T17:39:09.450Z"
   },
   {
    "duration": 3,
    "start_time": "2022-05-26T17:39:09.476Z"
   },
   {
    "duration": 24,
    "start_time": "2022-05-26T17:39:09.500Z"
   },
   {
    "duration": 7,
    "start_time": "2022-05-26T17:39:09.526Z"
   },
   {
    "duration": 10,
    "start_time": "2022-05-26T17:39:09.535Z"
   },
   {
    "duration": 10,
    "start_time": "2022-05-26T17:39:09.546Z"
   },
   {
    "duration": 8,
    "start_time": "2022-05-26T17:39:09.558Z"
   },
   {
    "duration": 7,
    "start_time": "2022-05-26T17:39:09.567Z"
   },
   {
    "duration": 4,
    "start_time": "2022-05-26T17:39:09.575Z"
   },
   {
    "duration": 6,
    "start_time": "2022-05-26T17:39:09.580Z"
   },
   {
    "duration": 32,
    "start_time": "2022-05-26T17:39:09.587Z"
   },
   {
    "duration": 7,
    "start_time": "2022-05-26T17:39:09.621Z"
   },
   {
    "duration": 8,
    "start_time": "2022-05-26T17:39:09.629Z"
   },
   {
    "duration": 5,
    "start_time": "2022-05-26T17:39:09.639Z"
   },
   {
    "duration": 6,
    "start_time": "2022-05-26T17:39:09.646Z"
   },
   {
    "duration": 5,
    "start_time": "2022-05-26T17:39:09.653Z"
   },
   {
    "duration": 7,
    "start_time": "2022-05-26T17:39:09.659Z"
   },
   {
    "duration": 2958,
    "start_time": "2022-05-26T17:39:09.668Z"
   },
   {
    "duration": 2,
    "start_time": "2022-05-26T17:39:12.628Z"
   },
   {
    "duration": 7,
    "start_time": "2022-05-26T17:39:12.632Z"
   },
   {
    "duration": 877,
    "start_time": "2022-05-26T17:39:12.642Z"
   },
   {
    "duration": 3,
    "start_time": "2022-05-26T17:39:13.522Z"
   },
   {
    "duration": 8,
    "start_time": "2022-05-26T17:39:13.526Z"
   },
   {
    "duration": 2253,
    "start_time": "2022-05-26T17:39:13.535Z"
   },
   {
    "duration": 147,
    "start_time": "2022-05-26T17:39:15.789Z"
   },
   {
    "duration": 35,
    "start_time": "2022-05-26T17:39:15.938Z"
   },
   {
    "duration": 5,
    "start_time": "2022-05-26T17:39:15.974Z"
   },
   {
    "duration": 32,
    "start_time": "2022-05-26T17:39:16.005Z"
   },
   {
    "duration": 7,
    "start_time": "2022-05-26T17:39:16.038Z"
   },
   {
    "duration": 22,
    "start_time": "2022-05-26T17:39:16.046Z"
   },
   {
    "duration": 8,
    "start_time": "2022-05-26T17:40:13.813Z"
   },
   {
    "duration": 4,
    "start_time": "2022-05-26T17:41:35.119Z"
   },
   {
    "duration": 5,
    "start_time": "2022-05-26T17:42:00.221Z"
   },
   {
    "duration": 4,
    "start_time": "2022-05-26T17:42:08.428Z"
   },
   {
    "duration": 3,
    "start_time": "2022-05-26T17:42:16.462Z"
   },
   {
    "duration": 4,
    "start_time": "2022-05-26T17:42:22.750Z"
   },
   {
    "duration": 1183,
    "start_time": "2022-05-26T17:43:14.552Z"
   },
   {
    "duration": 3,
    "start_time": "2022-05-26T17:43:15.737Z"
   },
   {
    "duration": 742,
    "start_time": "2022-05-26T17:43:15.742Z"
   },
   {
    "duration": 3,
    "start_time": "2022-05-26T17:43:16.486Z"
   },
   {
    "duration": 19,
    "start_time": "2022-05-26T17:43:16.494Z"
   },
   {
    "duration": 5,
    "start_time": "2022-05-26T17:43:16.515Z"
   },
   {
    "duration": 8,
    "start_time": "2022-05-26T17:43:16.522Z"
   },
   {
    "duration": 19,
    "start_time": "2022-05-26T17:43:16.531Z"
   },
   {
    "duration": 3,
    "start_time": "2022-05-26T17:43:16.552Z"
   },
   {
    "duration": 7,
    "start_time": "2022-05-26T17:43:16.558Z"
   },
   {
    "duration": 4,
    "start_time": "2022-05-26T17:43:16.566Z"
   },
   {
    "duration": 10,
    "start_time": "2022-05-26T17:43:16.572Z"
   },
   {
    "duration": 16,
    "start_time": "2022-05-26T17:43:16.595Z"
   },
   {
    "duration": 11,
    "start_time": "2022-05-26T17:43:16.613Z"
   },
   {
    "duration": 9,
    "start_time": "2022-05-26T17:43:16.626Z"
   },
   {
    "duration": 4,
    "start_time": "2022-05-26T17:43:16.638Z"
   },
   {
    "duration": 7,
    "start_time": "2022-05-26T17:43:16.644Z"
   },
   {
    "duration": 6,
    "start_time": "2022-05-26T17:43:16.652Z"
   },
   {
    "duration": 51,
    "start_time": "2022-05-26T17:43:16.660Z"
   },
   {
    "duration": 8,
    "start_time": "2022-05-26T17:43:16.713Z"
   },
   {
    "duration": 7,
    "start_time": "2022-05-26T17:43:16.723Z"
   },
   {
    "duration": 6,
    "start_time": "2022-05-26T17:43:16.732Z"
   },
   {
    "duration": 4,
    "start_time": "2022-05-26T17:43:16.740Z"
   },
   {
    "duration": 5,
    "start_time": "2022-05-26T17:43:16.746Z"
   },
   {
    "duration": 3268,
    "start_time": "2022-05-26T17:43:16.753Z"
   },
   {
    "duration": 3,
    "start_time": "2022-05-26T17:43:20.023Z"
   },
   {
    "duration": 10,
    "start_time": "2022-05-26T17:43:20.028Z"
   },
   {
    "duration": 873,
    "start_time": "2022-05-26T17:43:20.041Z"
   },
   {
    "duration": 4,
    "start_time": "2022-05-26T17:43:20.916Z"
   },
   {
    "duration": 5,
    "start_time": "2022-05-26T17:43:20.921Z"
   },
   {
    "duration": 2170,
    "start_time": "2022-05-26T17:43:20.928Z"
   },
   {
    "duration": 137,
    "start_time": "2022-05-26T17:43:23.100Z"
   },
   {
    "duration": 35,
    "start_time": "2022-05-26T17:43:23.240Z"
   },
   {
    "duration": 4,
    "start_time": "2022-05-26T17:43:23.277Z"
   },
   {
    "duration": 28,
    "start_time": "2022-05-26T17:43:23.294Z"
   },
   {
    "duration": 12,
    "start_time": "2022-05-26T17:43:23.323Z"
   },
   {
    "duration": 26,
    "start_time": "2022-05-26T17:43:23.336Z"
   },
   {
    "duration": 13,
    "start_time": "2022-05-26T17:45:54.720Z"
   },
   {
    "duration": 129,
    "start_time": "2022-05-26T17:45:55.108Z"
   },
   {
    "duration": 16,
    "start_time": "2022-05-26T17:46:00.217Z"
   },
   {
    "duration": 14,
    "start_time": "2022-05-26T17:46:00.514Z"
   },
   {
    "duration": 14,
    "start_time": "2022-05-26T17:46:04.325Z"
   },
   {
    "duration": 15,
    "start_time": "2022-05-26T17:46:04.644Z"
   },
   {
    "duration": 14,
    "start_time": "2022-05-26T17:46:14.624Z"
   },
   {
    "duration": 13,
    "start_time": "2022-05-26T17:46:59.680Z"
   },
   {
    "duration": 1272,
    "start_time": "2022-05-26T17:47:07.191Z"
   },
   {
    "duration": 3,
    "start_time": "2022-05-26T17:47:08.465Z"
   },
   {
    "duration": 732,
    "start_time": "2022-05-26T17:47:08.470Z"
   },
   {
    "duration": 4,
    "start_time": "2022-05-26T17:47:09.204Z"
   },
   {
    "duration": 7,
    "start_time": "2022-05-26T17:47:09.212Z"
   },
   {
    "duration": 10,
    "start_time": "2022-05-26T17:47:09.221Z"
   },
   {
    "duration": 15,
    "start_time": "2022-05-26T17:47:09.233Z"
   },
   {
    "duration": 20,
    "start_time": "2022-05-26T17:47:09.249Z"
   },
   {
    "duration": 3,
    "start_time": "2022-05-26T17:47:09.271Z"
   },
   {
    "duration": 8,
    "start_time": "2022-05-26T17:47:09.277Z"
   },
   {
    "duration": 27,
    "start_time": "2022-05-26T17:47:09.287Z"
   },
   {
    "duration": 7,
    "start_time": "2022-05-26T17:47:09.315Z"
   },
   {
    "duration": 10,
    "start_time": "2022-05-26T17:47:09.323Z"
   },
   {
    "duration": 9,
    "start_time": "2022-05-26T17:47:09.334Z"
   },
   {
    "duration": 8,
    "start_time": "2022-05-26T17:47:09.344Z"
   },
   {
    "duration": 3,
    "start_time": "2022-05-26T17:47:09.353Z"
   },
   {
    "duration": 10,
    "start_time": "2022-05-26T17:47:09.357Z"
   },
   {
    "duration": 38,
    "start_time": "2022-05-26T17:47:09.369Z"
   },
   {
    "duration": 7,
    "start_time": "2022-05-26T17:47:09.409Z"
   },
   {
    "duration": 7,
    "start_time": "2022-05-26T17:47:09.418Z"
   },
   {
    "duration": 7,
    "start_time": "2022-05-26T17:47:09.426Z"
   },
   {
    "duration": 8,
    "start_time": "2022-05-26T17:47:09.434Z"
   },
   {
    "duration": 4,
    "start_time": "2022-05-26T17:47:09.443Z"
   },
   {
    "duration": 4,
    "start_time": "2022-05-26T17:47:09.449Z"
   },
   {
    "duration": 3058,
    "start_time": "2022-05-26T17:47:09.455Z"
   },
   {
    "duration": 3,
    "start_time": "2022-05-26T17:47:12.514Z"
   },
   {
    "duration": 7,
    "start_time": "2022-05-26T17:47:12.519Z"
   },
   {
    "duration": 891,
    "start_time": "2022-05-26T17:47:12.531Z"
   },
   {
    "duration": 3,
    "start_time": "2022-05-26T17:47:13.424Z"
   },
   {
    "duration": 7,
    "start_time": "2022-05-26T17:47:13.428Z"
   },
   {
    "duration": 2260,
    "start_time": "2022-05-26T17:47:13.436Z"
   },
   {
    "duration": 139,
    "start_time": "2022-05-26T17:47:15.698Z"
   },
   {
    "duration": 35,
    "start_time": "2022-05-26T17:47:15.838Z"
   },
   {
    "duration": 4,
    "start_time": "2022-05-26T17:47:15.875Z"
   },
   {
    "duration": 18,
    "start_time": "2022-05-26T17:47:15.895Z"
   },
   {
    "duration": 23,
    "start_time": "2022-05-26T17:47:15.914Z"
   },
   {
    "duration": 24,
    "start_time": "2022-05-26T17:47:15.939Z"
   },
   {
    "duration": 15,
    "start_time": "2022-05-26T17:47:21.497Z"
   },
   {
    "duration": 4,
    "start_time": "2022-05-26T17:47:22.186Z"
   },
   {
    "duration": 4,
    "start_time": "2022-05-26T17:48:04.288Z"
   },
   {
    "duration": 4,
    "start_time": "2022-05-26T17:48:09.244Z"
   },
   {
    "duration": 4,
    "start_time": "2022-05-26T17:48:09.639Z"
   },
   {
    "duration": 10,
    "start_time": "2022-05-26T17:48:13.198Z"
   },
   {
    "duration": 5,
    "start_time": "2022-05-26T17:48:13.609Z"
   },
   {
    "duration": 4,
    "start_time": "2022-05-26T17:48:29.126Z"
   },
   {
    "duration": 6,
    "start_time": "2022-05-26T17:48:29.446Z"
   },
   {
    "duration": 3,
    "start_time": "2022-05-26T17:48:29.769Z"
   },
   {
    "duration": 4,
    "start_time": "2022-05-26T17:48:42.045Z"
   },
   {
    "duration": 8,
    "start_time": "2022-05-26T17:48:42.051Z"
   },
   {
    "duration": 752,
    "start_time": "2022-05-26T17:48:42.061Z"
   },
   {
    "duration": 4,
    "start_time": "2022-05-26T17:48:42.815Z"
   },
   {
    "duration": 8,
    "start_time": "2022-05-26T17:48:42.821Z"
   },
   {
    "duration": 10,
    "start_time": "2022-05-26T17:48:42.830Z"
   },
   {
    "duration": 9,
    "start_time": "2022-05-26T17:48:42.842Z"
   },
   {
    "duration": 18,
    "start_time": "2022-05-26T17:48:42.852Z"
   },
   {
    "duration": 4,
    "start_time": "2022-05-26T17:48:42.871Z"
   },
   {
    "duration": 4,
    "start_time": "2022-05-26T17:48:42.877Z"
   },
   {
    "duration": 16,
    "start_time": "2022-05-26T17:48:42.894Z"
   },
   {
    "duration": 8,
    "start_time": "2022-05-26T17:48:42.913Z"
   },
   {
    "duration": 12,
    "start_time": "2022-05-26T17:48:42.922Z"
   },
   {
    "duration": 8,
    "start_time": "2022-05-26T17:48:42.936Z"
   },
   {
    "duration": 8,
    "start_time": "2022-05-26T17:48:42.946Z"
   },
   {
    "duration": 3,
    "start_time": "2022-05-26T17:48:42.956Z"
   },
   {
    "duration": 6,
    "start_time": "2022-05-26T17:48:42.960Z"
   },
   {
    "duration": 39,
    "start_time": "2022-05-26T17:48:42.968Z"
   },
   {
    "duration": 6,
    "start_time": "2022-05-26T17:48:43.011Z"
   },
   {
    "duration": 13,
    "start_time": "2022-05-26T17:48:43.018Z"
   },
   {
    "duration": 16,
    "start_time": "2022-05-26T17:48:43.033Z"
   },
   {
    "duration": 4,
    "start_time": "2022-05-26T17:49:09.417Z"
   },
   {
    "duration": 1241,
    "start_time": "2022-05-26T17:49:33.510Z"
   },
   {
    "duration": 3,
    "start_time": "2022-05-26T17:49:34.753Z"
   },
   {
    "duration": 771,
    "start_time": "2022-05-26T17:49:34.757Z"
   },
   {
    "duration": 3,
    "start_time": "2022-05-26T17:49:35.529Z"
   },
   {
    "duration": 7,
    "start_time": "2022-05-26T17:49:35.535Z"
   },
   {
    "duration": 11,
    "start_time": "2022-05-26T17:49:35.544Z"
   },
   {
    "duration": 10,
    "start_time": "2022-05-26T17:49:35.557Z"
   },
   {
    "duration": 41,
    "start_time": "2022-05-26T17:49:35.569Z"
   },
   {
    "duration": 4,
    "start_time": "2022-05-26T17:49:35.612Z"
   },
   {
    "duration": 6,
    "start_time": "2022-05-26T17:49:35.617Z"
   },
   {
    "duration": 7,
    "start_time": "2022-05-26T17:49:35.625Z"
   },
   {
    "duration": 10,
    "start_time": "2022-05-26T17:49:35.634Z"
   },
   {
    "duration": 9,
    "start_time": "2022-05-26T17:49:35.646Z"
   },
   {
    "duration": 49,
    "start_time": "2022-05-26T17:49:35.658Z"
   },
   {
    "duration": 8,
    "start_time": "2022-05-26T17:49:35.710Z"
   },
   {
    "duration": 3,
    "start_time": "2022-05-26T17:49:35.719Z"
   },
   {
    "duration": 6,
    "start_time": "2022-05-26T17:49:35.724Z"
   },
   {
    "duration": 5,
    "start_time": "2022-05-26T17:49:35.731Z"
   },
   {
    "duration": 4,
    "start_time": "2022-05-26T17:49:35.738Z"
   },
   {
    "duration": 14,
    "start_time": "2022-05-26T17:49:35.744Z"
   },
   {
    "duration": 6,
    "start_time": "2022-05-26T17:49:35.759Z"
   },
   {
    "duration": 36,
    "start_time": "2022-05-26T17:49:35.767Z"
   },
   {
    "duration": 13,
    "start_time": "2022-05-26T17:49:35.805Z"
   },
   {
    "duration": 5,
    "start_time": "2022-05-26T17:49:35.819Z"
   },
   {
    "duration": 2987,
    "start_time": "2022-05-26T17:49:35.826Z"
   },
   {
    "duration": 2,
    "start_time": "2022-05-26T17:49:38.815Z"
   },
   {
    "duration": 16,
    "start_time": "2022-05-26T17:49:38.818Z"
   },
   {
    "duration": 855,
    "start_time": "2022-05-26T17:49:38.836Z"
   },
   {
    "duration": 6,
    "start_time": "2022-05-26T17:49:39.692Z"
   },
   {
    "duration": 30,
    "start_time": "2022-05-26T17:49:39.699Z"
   },
   {
    "duration": 2153,
    "start_time": "2022-05-26T17:49:39.730Z"
   },
   {
    "duration": 135,
    "start_time": "2022-05-26T17:49:41.885Z"
   },
   {
    "duration": 35,
    "start_time": "2022-05-26T17:49:42.022Z"
   },
   {
    "duration": 4,
    "start_time": "2022-05-26T17:49:42.059Z"
   },
   {
    "duration": 39,
    "start_time": "2022-05-26T17:49:42.064Z"
   },
   {
    "duration": 5,
    "start_time": "2022-05-26T17:49:42.108Z"
   },
   {
    "duration": 10,
    "start_time": "2022-05-26T17:49:42.115Z"
   },
   {
    "duration": 4,
    "start_time": "2022-05-26T17:49:50.857Z"
   },
   {
    "duration": 4,
    "start_time": "2022-05-26T17:49:54.726Z"
   },
   {
    "duration": 4,
    "start_time": "2022-05-26T17:50:02.961Z"
   },
   {
    "duration": 1164,
    "start_time": "2022-05-26T17:50:24.118Z"
   },
   {
    "duration": 3,
    "start_time": "2022-05-26T17:50:25.284Z"
   },
   {
    "duration": 769,
    "start_time": "2022-05-26T17:50:25.305Z"
   },
   {
    "duration": 3,
    "start_time": "2022-05-26T17:50:26.076Z"
   },
   {
    "duration": 20,
    "start_time": "2022-05-26T17:50:26.081Z"
   },
   {
    "duration": 19,
    "start_time": "2022-05-26T17:50:26.103Z"
   },
   {
    "duration": 9,
    "start_time": "2022-05-26T17:50:26.124Z"
   },
   {
    "duration": 23,
    "start_time": "2022-05-26T17:50:26.134Z"
   },
   {
    "duration": 4,
    "start_time": "2022-05-26T17:50:26.159Z"
   },
   {
    "duration": 8,
    "start_time": "2022-05-26T17:50:26.165Z"
   },
   {
    "duration": 6,
    "start_time": "2022-05-26T17:50:26.176Z"
   },
   {
    "duration": 10,
    "start_time": "2022-05-26T17:50:26.184Z"
   },
   {
    "duration": 41,
    "start_time": "2022-05-26T17:50:26.196Z"
   },
   {
    "duration": 11,
    "start_time": "2022-05-26T17:50:26.239Z"
   },
   {
    "duration": 13,
    "start_time": "2022-05-26T17:50:26.252Z"
   },
   {
    "duration": 6,
    "start_time": "2022-05-26T17:50:26.267Z"
   },
   {
    "duration": 22,
    "start_time": "2022-05-26T17:50:26.275Z"
   },
   {
    "duration": 10,
    "start_time": "2022-05-26T17:50:26.303Z"
   },
   {
    "duration": 7,
    "start_time": "2022-05-26T17:50:26.315Z"
   },
   {
    "duration": 13,
    "start_time": "2022-05-26T17:50:26.323Z"
   },
   {
    "duration": 20,
    "start_time": "2022-05-26T17:50:26.338Z"
   },
   {
    "duration": 15,
    "start_time": "2022-05-26T17:50:26.360Z"
   },
   {
    "duration": 10,
    "start_time": "2022-05-26T17:50:26.376Z"
   },
   {
    "duration": 19,
    "start_time": "2022-05-26T17:50:26.388Z"
   },
   {
    "duration": 3206,
    "start_time": "2022-05-26T17:50:26.412Z"
   },
   {
    "duration": 3,
    "start_time": "2022-05-26T17:50:29.620Z"
   },
   {
    "duration": 7,
    "start_time": "2022-05-26T17:50:29.624Z"
   },
   {
    "duration": 858,
    "start_time": "2022-05-26T17:50:29.633Z"
   },
   {
    "duration": 9,
    "start_time": "2022-05-26T17:50:30.493Z"
   },
   {
    "duration": 19,
    "start_time": "2022-05-26T17:50:30.510Z"
   },
   {
    "duration": 2180,
    "start_time": "2022-05-26T17:50:30.531Z"
   },
   {
    "duration": 125,
    "start_time": "2022-05-26T17:50:32.712Z"
   },
   {
    "duration": 33,
    "start_time": "2022-05-26T17:50:32.838Z"
   },
   {
    "duration": 4,
    "start_time": "2022-05-26T17:50:32.872Z"
   },
   {
    "duration": 25,
    "start_time": "2022-05-26T17:50:32.895Z"
   },
   {
    "duration": 3,
    "start_time": "2022-05-26T17:50:32.922Z"
   },
   {
    "duration": 13,
    "start_time": "2022-05-26T17:50:32.927Z"
   },
   {
    "duration": 3,
    "start_time": "2022-05-26T17:51:28.048Z"
   },
   {
    "duration": 43,
    "start_time": "2022-05-26T17:51:28.053Z"
   },
   {
    "duration": 857,
    "start_time": "2022-05-26T17:51:28.099Z"
   },
   {
    "duration": 4,
    "start_time": "2022-05-26T17:51:28.958Z"
   },
   {
    "duration": 16,
    "start_time": "2022-05-26T17:51:28.963Z"
   },
   {
    "duration": 18,
    "start_time": "2022-05-26T17:51:28.980Z"
   },
   {
    "duration": 43,
    "start_time": "2022-05-26T17:51:29.001Z"
   },
   {
    "duration": 23,
    "start_time": "2022-05-26T17:51:29.046Z"
   },
   {
    "duration": 4,
    "start_time": "2022-05-26T17:51:29.071Z"
   },
   {
    "duration": 5,
    "start_time": "2022-05-26T17:51:37.375Z"
   },
   {
    "duration": 8,
    "start_time": "2022-05-26T17:51:58.892Z"
   },
   {
    "duration": 18,
    "start_time": "2022-05-26T17:51:58.908Z"
   },
   {
    "duration": 786,
    "start_time": "2022-05-26T17:51:58.928Z"
   },
   {
    "duration": 4,
    "start_time": "2022-05-26T17:51:59.720Z"
   },
   {
    "duration": 5,
    "start_time": "2022-05-26T17:51:59.726Z"
   },
   {
    "duration": 4,
    "start_time": "2022-05-26T17:51:59.733Z"
   },
   {
    "duration": 5,
    "start_time": "2022-05-26T17:51:59.739Z"
   },
   {
    "duration": 14,
    "start_time": "2022-05-26T17:51:59.746Z"
   },
   {
    "duration": 4,
    "start_time": "2022-05-26T17:51:59.762Z"
   },
   {
    "duration": 5,
    "start_time": "2022-05-26T17:51:59.767Z"
   },
   {
    "duration": 5,
    "start_time": "2022-05-26T17:51:59.774Z"
   },
   {
    "duration": 16,
    "start_time": "2022-05-26T17:51:59.780Z"
   },
   {
    "duration": 12,
    "start_time": "2022-05-26T17:51:59.797Z"
   },
   {
    "duration": 24,
    "start_time": "2022-05-26T17:51:59.811Z"
   },
   {
    "duration": 7,
    "start_time": "2022-05-26T17:51:59.836Z"
   },
   {
    "duration": 4,
    "start_time": "2022-05-26T17:52:05.874Z"
   },
   {
    "duration": 3,
    "start_time": "2022-05-26T17:52:21.064Z"
   },
   {
    "duration": 4,
    "start_time": "2022-05-26T17:52:25.756Z"
   },
   {
    "duration": 7,
    "start_time": "2022-05-26T17:52:33.116Z"
   },
   {
    "duration": 2,
    "start_time": "2022-05-26T17:52:33.154Z"
   },
   {
    "duration": 798,
    "start_time": "2022-05-26T17:52:33.159Z"
   },
   {
    "duration": 4,
    "start_time": "2022-05-26T17:52:33.958Z"
   },
   {
    "duration": 9,
    "start_time": "2022-05-26T17:52:33.963Z"
   },
   {
    "duration": 9,
    "start_time": "2022-05-26T17:52:33.974Z"
   },
   {
    "duration": 11,
    "start_time": "2022-05-26T17:52:33.984Z"
   },
   {
    "duration": 45,
    "start_time": "2022-05-26T17:52:33.997Z"
   },
   {
    "duration": 3,
    "start_time": "2022-05-26T17:52:34.044Z"
   },
   {
    "duration": 4,
    "start_time": "2022-05-26T17:52:34.049Z"
   },
   {
    "duration": 6,
    "start_time": "2022-05-26T17:52:34.054Z"
   },
   {
    "duration": 7,
    "start_time": "2022-05-26T17:52:34.061Z"
   },
   {
    "duration": 13,
    "start_time": "2022-05-26T17:52:34.069Z"
   },
   {
    "duration": 8,
    "start_time": "2022-05-26T17:52:34.084Z"
   },
   {
    "duration": 15,
    "start_time": "2022-05-26T17:52:34.094Z"
   },
   {
    "duration": 19,
    "start_time": "2022-05-26T17:52:34.111Z"
   },
   {
    "duration": 6,
    "start_time": "2022-05-26T17:52:34.132Z"
   },
   {
    "duration": 4,
    "start_time": "2022-05-26T17:52:34.140Z"
   },
   {
    "duration": 4,
    "start_time": "2022-05-26T17:52:34.146Z"
   },
   {
    "duration": 3,
    "start_time": "2022-05-26T17:52:37.153Z"
   },
   {
    "duration": 4,
    "start_time": "2022-05-26T17:52:37.575Z"
   },
   {
    "duration": 4,
    "start_time": "2022-05-26T17:52:39.264Z"
   },
   {
    "duration": 7,
    "start_time": "2022-05-26T17:52:39.991Z"
   },
   {
    "duration": 4,
    "start_time": "2022-05-26T17:56:23.839Z"
   },
   {
    "duration": 5,
    "start_time": "2022-05-26T17:56:24.238Z"
   },
   {
    "duration": 4,
    "start_time": "2022-05-26T17:56:27.633Z"
   },
   {
    "duration": 3,
    "start_time": "2022-05-26T17:56:58.049Z"
   },
   {
    "duration": 11,
    "start_time": "2022-05-26T17:57:12.495Z"
   },
   {
    "duration": 4,
    "start_time": "2022-05-26T17:57:14.809Z"
   },
   {
    "duration": 4,
    "start_time": "2022-05-26T17:57:15.135Z"
   },
   {
    "duration": 4,
    "start_time": "2022-05-26T17:57:15.516Z"
   },
   {
    "duration": 4,
    "start_time": "2022-05-26T17:57:15.937Z"
   },
   {
    "duration": 5,
    "start_time": "2022-05-26T17:57:20.148Z"
   },
   {
    "duration": 28,
    "start_time": "2022-05-26T17:57:20.156Z"
   },
   {
    "duration": 712,
    "start_time": "2022-05-26T17:57:20.186Z"
   },
   {
    "duration": 5,
    "start_time": "2022-05-26T17:57:20.900Z"
   },
   {
    "duration": 13,
    "start_time": "2022-05-26T17:57:20.906Z"
   },
   {
    "duration": 6,
    "start_time": "2022-05-26T17:57:20.920Z"
   },
   {
    "duration": 10,
    "start_time": "2022-05-26T17:57:20.927Z"
   },
   {
    "duration": 17,
    "start_time": "2022-05-26T17:57:20.939Z"
   },
   {
    "duration": 4,
    "start_time": "2022-05-26T17:57:20.958Z"
   },
   {
    "duration": 5,
    "start_time": "2022-05-26T17:57:20.964Z"
   },
   {
    "duration": 7,
    "start_time": "2022-05-26T17:57:20.970Z"
   },
   {
    "duration": 18,
    "start_time": "2022-05-26T17:57:20.979Z"
   },
   {
    "duration": 21,
    "start_time": "2022-05-26T17:57:21.000Z"
   },
   {
    "duration": 8,
    "start_time": "2022-05-26T17:57:21.023Z"
   },
   {
    "duration": 8,
    "start_time": "2022-05-26T17:57:21.033Z"
   },
   {
    "duration": 4,
    "start_time": "2022-05-26T17:57:21.042Z"
   },
   {
    "duration": 13,
    "start_time": "2022-05-26T17:57:21.047Z"
   },
   {
    "duration": 6,
    "start_time": "2022-05-26T17:57:21.062Z"
   },
   {
    "duration": 7,
    "start_time": "2022-05-26T17:57:21.070Z"
   },
   {
    "duration": 27,
    "start_time": "2022-05-26T17:57:21.079Z"
   },
   {
    "duration": 9,
    "start_time": "2022-05-26T17:57:21.108Z"
   },
   {
    "duration": 4,
    "start_time": "2022-05-26T17:57:23.842Z"
   },
   {
    "duration": 5,
    "start_time": "2022-05-26T17:57:24.338Z"
   },
   {
    "duration": 6,
    "start_time": "2022-05-26T17:57:57.951Z"
   },
   {
    "duration": 5,
    "start_time": "2022-05-26T17:57:58.489Z"
   },
   {
    "duration": 2526,
    "start_time": "2022-05-26T17:58:28.111Z"
   },
   {
    "duration": 3,
    "start_time": "2022-05-26T17:58:33.440Z"
   },
   {
    "duration": 4,
    "start_time": "2022-05-26T17:59:24.986Z"
   },
   {
    "duration": 4,
    "start_time": "2022-05-26T17:59:47.283Z"
   },
   {
    "duration": 4,
    "start_time": "2022-05-26T17:59:47.838Z"
   },
   {
    "duration": 9,
    "start_time": "2022-05-26T17:59:48.696Z"
   },
   {
    "duration": 4,
    "start_time": "2022-05-26T17:59:50.644Z"
   },
   {
    "duration": 5,
    "start_time": "2022-05-26T17:59:52.508Z"
   },
   {
    "duration": 5,
    "start_time": "2022-05-26T18:00:08.608Z"
   },
   {
    "duration": 4,
    "start_time": "2022-05-26T18:00:18.732Z"
   },
   {
    "duration": 5,
    "start_time": "2022-05-26T18:01:18.510Z"
   },
   {
    "duration": 5,
    "start_time": "2022-05-26T18:01:36.452Z"
   },
   {
    "duration": 5,
    "start_time": "2022-05-26T18:01:36.892Z"
   },
   {
    "duration": 4,
    "start_time": "2022-05-26T18:01:37.938Z"
   },
   {
    "duration": 4,
    "start_time": "2022-05-26T18:01:48.163Z"
   },
   {
    "duration": 4,
    "start_time": "2022-05-26T18:01:48.514Z"
   },
   {
    "duration": 119,
    "start_time": "2022-05-26T18:03:09.842Z"
   },
   {
    "duration": 5,
    "start_time": "2022-05-26T18:03:15.460Z"
   },
   {
    "duration": 12,
    "start_time": "2022-05-26T18:03:18.393Z"
   },
   {
    "duration": 4,
    "start_time": "2022-05-26T18:03:25.557Z"
   },
   {
    "duration": 4,
    "start_time": "2022-05-26T18:03:28.810Z"
   },
   {
    "duration": 4,
    "start_time": "2022-05-26T18:03:29.310Z"
   },
   {
    "duration": 4,
    "start_time": "2022-05-26T18:03:30.521Z"
   },
   {
    "duration": 4,
    "start_time": "2022-05-26T18:03:49.813Z"
   },
   {
    "duration": 8,
    "start_time": "2022-05-26T18:03:49.819Z"
   },
   {
    "duration": 683,
    "start_time": "2022-05-26T18:03:49.829Z"
   },
   {
    "duration": 3,
    "start_time": "2022-05-26T18:03:50.514Z"
   },
   {
    "duration": 10,
    "start_time": "2022-05-26T18:03:50.520Z"
   },
   {
    "duration": 13,
    "start_time": "2022-05-26T18:03:50.532Z"
   },
   {
    "duration": 9,
    "start_time": "2022-05-26T18:03:50.546Z"
   },
   {
    "duration": 19,
    "start_time": "2022-05-26T18:03:50.557Z"
   },
   {
    "duration": 21,
    "start_time": "2022-05-26T18:03:50.578Z"
   },
   {
    "duration": 18,
    "start_time": "2022-05-26T18:03:50.604Z"
   },
   {
    "duration": 8,
    "start_time": "2022-05-26T18:03:50.624Z"
   },
   {
    "duration": 7,
    "start_time": "2022-05-26T18:03:50.634Z"
   },
   {
    "duration": 13,
    "start_time": "2022-05-26T18:03:50.643Z"
   },
   {
    "duration": 10,
    "start_time": "2022-05-26T18:03:50.660Z"
   },
   {
    "duration": 8,
    "start_time": "2022-05-26T18:03:50.671Z"
   },
   {
    "duration": 3,
    "start_time": "2022-05-26T18:03:50.680Z"
   },
   {
    "duration": 19,
    "start_time": "2022-05-26T18:03:50.696Z"
   },
   {
    "duration": 10,
    "start_time": "2022-05-26T18:03:50.717Z"
   },
   {
    "duration": 8,
    "start_time": "2022-05-26T18:03:50.728Z"
   },
   {
    "duration": 9,
    "start_time": "2022-05-26T18:03:50.738Z"
   },
   {
    "duration": 6,
    "start_time": "2022-05-26T18:03:50.748Z"
   },
   {
    "duration": 4,
    "start_time": "2022-05-26T18:03:54.152Z"
   },
   {
    "duration": 4,
    "start_time": "2022-05-26T18:04:02.021Z"
   },
   {
    "duration": 3,
    "start_time": "2022-05-26T18:05:06.922Z"
   },
   {
    "duration": 4,
    "start_time": "2022-05-26T18:05:20.808Z"
   },
   {
    "duration": 5,
    "start_time": "2022-05-26T18:05:22.341Z"
   },
   {
    "duration": 1167,
    "start_time": "2022-05-26T18:06:22.784Z"
   },
   {
    "duration": 3,
    "start_time": "2022-05-26T18:06:23.953Z"
   },
   {
    "duration": 715,
    "start_time": "2022-05-26T18:06:23.957Z"
   },
   {
    "duration": 2,
    "start_time": "2022-05-26T18:06:24.674Z"
   },
   {
    "duration": 11,
    "start_time": "2022-05-26T18:06:24.678Z"
   },
   {
    "duration": 14,
    "start_time": "2022-05-26T18:06:24.690Z"
   },
   {
    "duration": 16,
    "start_time": "2022-05-26T18:06:24.708Z"
   },
   {
    "duration": 19,
    "start_time": "2022-05-26T18:06:24.726Z"
   },
   {
    "duration": 4,
    "start_time": "2022-05-26T18:06:24.746Z"
   },
   {
    "duration": 6,
    "start_time": "2022-05-26T18:06:24.752Z"
   },
   {
    "duration": 8,
    "start_time": "2022-05-26T18:06:24.759Z"
   },
   {
    "duration": 9,
    "start_time": "2022-05-26T18:06:24.768Z"
   },
   {
    "duration": 10,
    "start_time": "2022-05-26T18:06:24.778Z"
   },
   {
    "duration": 14,
    "start_time": "2022-05-26T18:06:24.789Z"
   },
   {
    "duration": 15,
    "start_time": "2022-05-26T18:06:24.804Z"
   },
   {
    "duration": 3,
    "start_time": "2022-05-26T18:06:24.820Z"
   },
   {
    "duration": 7,
    "start_time": "2022-05-26T18:06:24.824Z"
   },
   {
    "duration": 5,
    "start_time": "2022-05-26T18:06:24.832Z"
   },
   {
    "duration": 4,
    "start_time": "2022-05-26T18:06:24.839Z"
   },
   {
    "duration": 7,
    "start_time": "2022-05-26T18:06:24.845Z"
   },
   {
    "duration": 13,
    "start_time": "2022-05-26T18:06:24.853Z"
   },
   {
    "duration": 5,
    "start_time": "2022-05-26T18:06:24.868Z"
   },
   {
    "duration": 24,
    "start_time": "2022-05-26T18:06:24.874Z"
   },
   {
    "duration": 5,
    "start_time": "2022-05-26T18:06:24.904Z"
   },
   {
    "duration": 3107,
    "start_time": "2022-05-26T18:06:24.910Z"
   },
   {
    "duration": 2,
    "start_time": "2022-05-26T18:06:28.019Z"
   },
   {
    "duration": 7,
    "start_time": "2022-05-26T18:06:28.023Z"
   },
   {
    "duration": 806,
    "start_time": "2022-05-26T18:06:28.033Z"
   },
   {
    "duration": 3,
    "start_time": "2022-05-26T18:06:28.841Z"
   },
   {
    "duration": 7,
    "start_time": "2022-05-26T18:06:28.845Z"
   },
   {
    "duration": 2214,
    "start_time": "2022-05-26T18:06:28.853Z"
   },
   {
    "duration": 140,
    "start_time": "2022-05-26T18:06:31.068Z"
   },
   {
    "duration": 34,
    "start_time": "2022-05-26T18:06:31.210Z"
   },
   {
    "duration": 5,
    "start_time": "2022-05-26T18:06:31.246Z"
   },
   {
    "duration": 14,
    "start_time": "2022-05-26T18:06:31.252Z"
   },
   {
    "duration": 3,
    "start_time": "2022-05-26T18:06:31.267Z"
   },
   {
    "duration": 46,
    "start_time": "2022-05-26T18:06:31.271Z"
   },
   {
    "duration": 4,
    "start_time": "2022-05-26T18:06:39.243Z"
   },
   {
    "duration": 13,
    "start_time": "2022-05-26T18:07:09.267Z"
   },
   {
    "duration": 4,
    "start_time": "2022-05-26T18:07:18.151Z"
   },
   {
    "duration": 4,
    "start_time": "2022-05-26T18:08:31.535Z"
   },
   {
    "duration": 11,
    "start_time": "2022-05-26T18:08:31.541Z"
   },
   {
    "duration": 742,
    "start_time": "2022-05-26T18:08:31.553Z"
   },
   {
    "duration": 6,
    "start_time": "2022-05-26T18:08:32.296Z"
   },
   {
    "duration": 13,
    "start_time": "2022-05-26T18:08:32.304Z"
   },
   {
    "duration": 6,
    "start_time": "2022-05-26T18:08:32.319Z"
   },
   {
    "duration": 9,
    "start_time": "2022-05-26T18:08:32.326Z"
   },
   {
    "duration": 14,
    "start_time": "2022-05-26T18:08:32.337Z"
   },
   {
    "duration": 4,
    "start_time": "2022-05-26T18:08:32.353Z"
   },
   {
    "duration": 13,
    "start_time": "2022-05-26T18:08:32.358Z"
   },
   {
    "duration": 5,
    "start_time": "2022-05-26T18:08:32.373Z"
   },
   {
    "duration": 8,
    "start_time": "2022-05-26T18:08:32.379Z"
   },
   {
    "duration": 17,
    "start_time": "2022-05-26T18:08:32.388Z"
   },
   {
    "duration": 8,
    "start_time": "2022-05-26T18:08:32.410Z"
   },
   {
    "duration": 7,
    "start_time": "2022-05-26T18:08:32.419Z"
   },
   {
    "duration": 2,
    "start_time": "2022-05-26T18:08:32.427Z"
   },
   {
    "duration": 8,
    "start_time": "2022-05-26T18:08:32.431Z"
   },
   {
    "duration": 6,
    "start_time": "2022-05-26T18:08:32.440Z"
   },
   {
    "duration": 7,
    "start_time": "2022-05-26T18:08:32.447Z"
   },
   {
    "duration": 12,
    "start_time": "2022-05-26T18:08:32.455Z"
   },
   {
    "duration": 8,
    "start_time": "2022-05-26T18:08:32.469Z"
   },
   {
    "duration": 2,
    "start_time": "2022-05-26T18:08:35.739Z"
   },
   {
    "duration": 4,
    "start_time": "2022-05-26T18:08:36.130Z"
   },
   {
    "duration": 4,
    "start_time": "2022-05-26T18:08:42.566Z"
   },
   {
    "duration": 3,
    "start_time": "2022-05-26T18:09:15.428Z"
   },
   {
    "duration": 4,
    "start_time": "2022-05-26T18:09:17.332Z"
   },
   {
    "duration": 4,
    "start_time": "2022-05-26T18:10:06.874Z"
   },
   {
    "duration": 4,
    "start_time": "2022-05-26T18:10:11.457Z"
   },
   {
    "duration": 6,
    "start_time": "2022-05-26T18:10:11.463Z"
   },
   {
    "duration": 699,
    "start_time": "2022-05-26T18:10:11.470Z"
   },
   {
    "duration": 3,
    "start_time": "2022-05-26T18:10:12.171Z"
   },
   {
    "duration": 7,
    "start_time": "2022-05-26T18:10:12.175Z"
   },
   {
    "duration": 20,
    "start_time": "2022-05-26T18:10:12.183Z"
   },
   {
    "duration": 22,
    "start_time": "2022-05-26T18:10:12.205Z"
   },
   {
    "duration": 18,
    "start_time": "2022-05-26T18:10:12.229Z"
   },
   {
    "duration": 4,
    "start_time": "2022-05-26T18:10:12.249Z"
   },
   {
    "duration": 7,
    "start_time": "2022-05-26T18:10:12.254Z"
   },
   {
    "duration": 5,
    "start_time": "2022-05-26T18:10:12.262Z"
   },
   {
    "duration": 8,
    "start_time": "2022-05-26T18:10:12.268Z"
   },
   {
    "duration": 10,
    "start_time": "2022-05-26T18:10:12.277Z"
   },
   {
    "duration": 13,
    "start_time": "2022-05-26T18:10:12.289Z"
   },
   {
    "duration": 22,
    "start_time": "2022-05-26T18:10:12.304Z"
   },
   {
    "duration": 4,
    "start_time": "2022-05-26T18:10:12.327Z"
   },
   {
    "duration": 6,
    "start_time": "2022-05-26T18:10:12.332Z"
   },
   {
    "duration": 10,
    "start_time": "2022-05-26T18:10:12.340Z"
   },
   {
    "duration": 5,
    "start_time": "2022-05-26T18:10:12.352Z"
   },
   {
    "duration": 8,
    "start_time": "2022-05-26T18:10:12.358Z"
   },
   {
    "duration": 4,
    "start_time": "2022-05-26T18:10:15.589Z"
   },
   {
    "duration": 3,
    "start_time": "2022-05-26T18:10:18.571Z"
   },
   {
    "duration": 4,
    "start_time": "2022-05-26T18:10:19.209Z"
   },
   {
    "duration": 4,
    "start_time": "2022-05-26T18:11:18.211Z"
   },
   {
    "duration": 3,
    "start_time": "2022-05-26T18:11:23.012Z"
   },
   {
    "duration": 4,
    "start_time": "2022-05-26T18:11:25.586Z"
   },
   {
    "duration": 5,
    "start_time": "2022-05-26T18:11:25.923Z"
   },
   {
    "duration": 4,
    "start_time": "2022-05-26T18:11:26.371Z"
   },
   {
    "duration": 4,
    "start_time": "2022-05-26T18:11:26.852Z"
   },
   {
    "duration": 4,
    "start_time": "2022-05-26T18:11:27.607Z"
   },
   {
    "duration": 4,
    "start_time": "2022-05-26T18:11:33.569Z"
   },
   {
    "duration": 51,
    "start_time": "2022-05-26T18:11:33.574Z"
   },
   {
    "duration": 707,
    "start_time": "2022-05-26T18:11:33.627Z"
   },
   {
    "duration": 3,
    "start_time": "2022-05-26T18:11:34.336Z"
   },
   {
    "duration": 40,
    "start_time": "2022-05-26T18:11:34.341Z"
   },
   {
    "duration": 27,
    "start_time": "2022-05-26T18:11:34.382Z"
   },
   {
    "duration": 35,
    "start_time": "2022-05-26T18:11:34.410Z"
   },
   {
    "duration": 32,
    "start_time": "2022-05-26T18:11:34.446Z"
   },
   {
    "duration": 28,
    "start_time": "2022-05-26T18:11:34.480Z"
   },
   {
    "duration": 20,
    "start_time": "2022-05-26T18:11:34.510Z"
   },
   {
    "duration": 27,
    "start_time": "2022-05-26T18:11:34.531Z"
   },
   {
    "duration": 19,
    "start_time": "2022-05-26T18:11:34.559Z"
   },
   {
    "duration": 50,
    "start_time": "2022-05-26T18:11:34.580Z"
   },
   {
    "duration": 30,
    "start_time": "2022-05-26T18:11:34.632Z"
   },
   {
    "duration": 16,
    "start_time": "2022-05-26T18:11:34.664Z"
   },
   {
    "duration": 28,
    "start_time": "2022-05-26T18:11:34.681Z"
   },
   {
    "duration": 44,
    "start_time": "2022-05-26T18:11:34.711Z"
   },
   {
    "duration": 17,
    "start_time": "2022-05-26T18:11:34.757Z"
   },
   {
    "duration": 36,
    "start_time": "2022-05-26T18:11:34.776Z"
   },
   {
    "duration": 37,
    "start_time": "2022-05-26T18:11:34.814Z"
   },
   {
    "duration": 26,
    "start_time": "2022-05-26T18:11:34.853Z"
   },
   {
    "duration": 45,
    "start_time": "2022-05-26T18:11:34.880Z"
   },
   {
    "duration": 18,
    "start_time": "2022-05-26T18:11:34.926Z"
   },
   {
    "duration": 4,
    "start_time": "2022-05-26T18:11:46.306Z"
   },
   {
    "duration": 3,
    "start_time": "2022-05-26T18:12:00.137Z"
   },
   {
    "duration": 4,
    "start_time": "2022-05-26T18:12:14.307Z"
   },
   {
    "duration": 4,
    "start_time": "2022-05-26T18:12:42.858Z"
   },
   {
    "duration": 3,
    "start_time": "2022-05-26T18:12:51.843Z"
   },
   {
    "duration": 1163,
    "start_time": "2022-05-26T18:13:16.874Z"
   },
   {
    "duration": 4,
    "start_time": "2022-05-26T18:13:30.976Z"
   },
   {
    "duration": 4,
    "start_time": "2022-05-26T18:13:44.470Z"
   },
   {
    "duration": 5,
    "start_time": "2022-05-26T18:14:08.759Z"
   },
   {
    "duration": 4,
    "start_time": "2022-05-26T18:15:45.110Z"
   },
   {
    "duration": 4,
    "start_time": "2022-05-26T18:15:55.268Z"
   },
   {
    "duration": 7,
    "start_time": "2022-05-26T18:16:03.502Z"
   },
   {
    "duration": 6,
    "start_time": "2022-05-26T18:16:03.511Z"
   },
   {
    "duration": 652,
    "start_time": "2022-05-26T18:16:03.519Z"
   },
   {
    "duration": 3,
    "start_time": "2022-05-26T18:16:04.173Z"
   },
   {
    "duration": 18,
    "start_time": "2022-05-26T18:16:04.177Z"
   },
   {
    "duration": 18,
    "start_time": "2022-05-26T18:16:04.200Z"
   },
   {
    "duration": 9,
    "start_time": "2022-05-26T18:16:04.220Z"
   },
   {
    "duration": 23,
    "start_time": "2022-05-26T18:16:04.231Z"
   },
   {
    "duration": 3,
    "start_time": "2022-05-26T18:16:04.256Z"
   },
   {
    "duration": 4,
    "start_time": "2022-05-26T18:16:04.261Z"
   },
   {
    "duration": 6,
    "start_time": "2022-05-26T18:16:04.267Z"
   },
   {
    "duration": 6,
    "start_time": "2022-05-26T18:16:04.275Z"
   },
   {
    "duration": 13,
    "start_time": "2022-05-26T18:16:04.283Z"
   },
   {
    "duration": 8,
    "start_time": "2022-05-26T18:16:04.299Z"
   },
   {
    "duration": 11,
    "start_time": "2022-05-26T18:16:04.309Z"
   },
   {
    "duration": 2,
    "start_time": "2022-05-26T18:16:04.322Z"
   },
   {
    "duration": 5,
    "start_time": "2022-05-26T18:16:04.326Z"
   },
   {
    "duration": 5,
    "start_time": "2022-05-26T18:16:04.333Z"
   },
   {
    "duration": 4,
    "start_time": "2022-05-26T18:16:04.340Z"
   },
   {
    "duration": 7,
    "start_time": "2022-05-26T18:16:04.345Z"
   },
   {
    "duration": 6,
    "start_time": "2022-05-26T18:16:04.354Z"
   },
   {
    "duration": 4,
    "start_time": "2022-05-26T18:16:04.361Z"
   },
   {
    "duration": 32,
    "start_time": "2022-05-26T18:16:04.367Z"
   },
   {
    "duration": 8,
    "start_time": "2022-05-26T18:16:04.404Z"
   },
   {
    "duration": 3,
    "start_time": "2022-05-26T18:18:51.451Z"
   },
   {
    "duration": 1201,
    "start_time": "2022-05-26T18:19:10.079Z"
   },
   {
    "duration": 2,
    "start_time": "2022-05-26T18:19:11.282Z"
   },
   {
    "duration": 743,
    "start_time": "2022-05-26T18:19:11.285Z"
   },
   {
    "duration": 4,
    "start_time": "2022-05-26T18:19:12.030Z"
   },
   {
    "duration": 16,
    "start_time": "2022-05-26T18:19:12.035Z"
   },
   {
    "duration": 12,
    "start_time": "2022-05-26T18:19:12.053Z"
   },
   {
    "duration": 20,
    "start_time": "2022-05-26T18:19:12.067Z"
   },
   {
    "duration": 37,
    "start_time": "2022-05-26T18:19:12.089Z"
   },
   {
    "duration": 8,
    "start_time": "2022-05-26T18:19:12.128Z"
   },
   {
    "duration": 11,
    "start_time": "2022-05-26T18:19:12.138Z"
   },
   {
    "duration": 17,
    "start_time": "2022-05-26T18:19:12.150Z"
   },
   {
    "duration": 31,
    "start_time": "2022-05-26T18:19:12.168Z"
   },
   {
    "duration": 21,
    "start_time": "2022-05-26T18:19:12.202Z"
   },
   {
    "duration": 21,
    "start_time": "2022-05-26T18:19:12.224Z"
   },
   {
    "duration": 18,
    "start_time": "2022-05-26T18:19:12.246Z"
   },
   {
    "duration": 10,
    "start_time": "2022-05-26T18:19:12.266Z"
   },
   {
    "duration": 33,
    "start_time": "2022-05-26T18:19:12.278Z"
   },
   {
    "duration": 15,
    "start_time": "2022-05-26T18:19:12.313Z"
   },
   {
    "duration": 16,
    "start_time": "2022-05-26T18:19:12.330Z"
   },
   {
    "duration": 8,
    "start_time": "2022-05-26T18:19:12.347Z"
   },
   {
    "duration": 5,
    "start_time": "2022-05-26T18:19:12.357Z"
   },
   {
    "duration": 6,
    "start_time": "2022-05-26T18:19:12.364Z"
   },
   {
    "duration": 6,
    "start_time": "2022-05-26T18:19:12.371Z"
   },
   {
    "duration": 7,
    "start_time": "2022-05-26T18:19:12.378Z"
   },
   {
    "duration": 6,
    "start_time": "2022-05-26T18:19:12.387Z"
   },
   {
    "duration": 13,
    "start_time": "2022-05-26T18:19:12.398Z"
   },
   {
    "duration": 8,
    "start_time": "2022-05-26T18:19:12.413Z"
   },
   {
    "duration": 2986,
    "start_time": "2022-05-26T18:19:12.424Z"
   },
   {
    "duration": 2,
    "start_time": "2022-05-26T18:19:15.413Z"
   },
   {
    "duration": 13,
    "start_time": "2022-05-26T18:19:15.417Z"
   },
   {
    "duration": 831,
    "start_time": "2022-05-26T18:19:15.431Z"
   },
   {
    "duration": 2,
    "start_time": "2022-05-26T18:19:16.264Z"
   },
   {
    "duration": 11,
    "start_time": "2022-05-26T18:19:16.268Z"
   },
   {
    "duration": 2178,
    "start_time": "2022-05-26T18:19:16.280Z"
   },
   {
    "duration": 148,
    "start_time": "2022-05-26T18:19:18.460Z"
   },
   {
    "duration": 39,
    "start_time": "2022-05-26T18:19:18.610Z"
   },
   {
    "duration": 4,
    "start_time": "2022-05-26T18:19:18.650Z"
   },
   {
    "duration": 19,
    "start_time": "2022-05-26T18:19:18.655Z"
   },
   {
    "duration": 4,
    "start_time": "2022-05-26T18:19:18.675Z"
   },
   {
    "duration": 15,
    "start_time": "2022-05-26T18:19:18.695Z"
   },
   {
    "duration": 5,
    "start_time": "2022-05-26T18:19:37.819Z"
   },
   {
    "duration": 20,
    "start_time": "2022-05-26T18:22:08.890Z"
   },
   {
    "duration": 3,
    "start_time": "2022-05-26T18:32:19.685Z"
   },
   {
    "duration": 3,
    "start_time": "2022-05-26T18:32:38.180Z"
   },
   {
    "duration": 3,
    "start_time": "2022-05-26T18:32:54.666Z"
   },
   {
    "duration": 4,
    "start_time": "2022-05-26T18:32:55.314Z"
   },
   {
    "duration": 3,
    "start_time": "2022-05-26T18:33:11.649Z"
   },
   {
    "duration": 1164,
    "start_time": "2022-05-26T18:48:19.321Z"
   },
   {
    "duration": 3,
    "start_time": "2022-05-26T18:48:20.487Z"
   },
   {
    "duration": 748,
    "start_time": "2022-05-26T18:48:20.491Z"
   },
   {
    "duration": 2,
    "start_time": "2022-05-26T18:48:21.241Z"
   },
   {
    "duration": 7,
    "start_time": "2022-05-26T18:48:21.246Z"
   },
   {
    "duration": 5,
    "start_time": "2022-05-26T18:48:21.254Z"
   },
   {
    "duration": 8,
    "start_time": "2022-05-26T18:48:21.260Z"
   },
   {
    "duration": 39,
    "start_time": "2022-05-26T18:48:21.269Z"
   },
   {
    "duration": 6,
    "start_time": "2022-05-26T18:48:21.310Z"
   },
   {
    "duration": 5,
    "start_time": "2022-05-26T18:48:21.318Z"
   },
   {
    "duration": 8,
    "start_time": "2022-05-26T18:48:21.325Z"
   },
   {
    "duration": 8,
    "start_time": "2022-05-26T18:48:21.334Z"
   },
   {
    "duration": 12,
    "start_time": "2022-05-26T18:48:21.344Z"
   },
   {
    "duration": 41,
    "start_time": "2022-05-26T18:48:21.359Z"
   },
   {
    "duration": 10,
    "start_time": "2022-05-26T18:48:21.401Z"
   },
   {
    "duration": 2,
    "start_time": "2022-05-26T18:48:21.413Z"
   },
   {
    "duration": 5,
    "start_time": "2022-05-26T18:48:21.417Z"
   },
   {
    "duration": 8,
    "start_time": "2022-05-26T18:48:21.423Z"
   },
   {
    "duration": 6,
    "start_time": "2022-05-26T18:48:21.433Z"
   },
   {
    "duration": 8,
    "start_time": "2022-05-26T18:48:21.441Z"
   },
   {
    "duration": 6,
    "start_time": "2022-05-26T18:48:21.450Z"
   },
   {
    "duration": 4,
    "start_time": "2022-05-26T18:48:21.457Z"
   },
   {
    "duration": 40,
    "start_time": "2022-05-26T18:48:21.462Z"
   },
   {
    "duration": 12,
    "start_time": "2022-05-26T18:48:21.503Z"
   },
   {
    "duration": 6,
    "start_time": "2022-05-26T18:48:21.516Z"
   },
   {
    "duration": 8,
    "start_time": "2022-05-26T18:48:21.524Z"
   },
   {
    "duration": 5,
    "start_time": "2022-05-26T18:48:21.534Z"
   },
   {
    "duration": 5,
    "start_time": "2022-05-26T18:48:21.540Z"
   },
   {
    "duration": 3244,
    "start_time": "2022-05-26T18:48:21.547Z"
   },
   {
    "duration": 3,
    "start_time": "2022-05-26T18:48:24.795Z"
   },
   {
    "duration": 45,
    "start_time": "2022-05-26T18:48:24.802Z"
   },
   {
    "duration": 877,
    "start_time": "2022-05-26T18:48:24.849Z"
   },
   {
    "duration": 4,
    "start_time": "2022-05-26T18:48:25.728Z"
   },
   {
    "duration": 2230,
    "start_time": "2022-05-26T18:48:25.733Z"
   },
   {
    "duration": 141,
    "start_time": "2022-05-26T18:48:27.965Z"
   },
   {
    "duration": 44,
    "start_time": "2022-05-26T18:48:28.110Z"
   },
   {
    "duration": 11,
    "start_time": "2022-05-26T18:48:28.156Z"
   },
   {
    "duration": 3,
    "start_time": "2022-05-26T18:49:42.938Z"
   },
   {
    "duration": 3,
    "start_time": "2022-05-26T18:49:43.538Z"
   },
   {
    "duration": 3,
    "start_time": "2022-05-26T18:50:34.369Z"
   },
   {
    "duration": 3,
    "start_time": "2022-05-26T18:51:10.837Z"
   },
   {
    "duration": 3,
    "start_time": "2022-05-26T18:51:29.376Z"
   },
   {
    "duration": 3,
    "start_time": "2022-05-26T18:51:30.775Z"
   },
   {
    "duration": 3,
    "start_time": "2022-05-26T18:51:31.111Z"
   },
   {
    "duration": 3,
    "start_time": "2022-05-26T18:51:33.145Z"
   },
   {
    "duration": 3,
    "start_time": "2022-05-26T18:51:33.489Z"
   },
   {
    "duration": 3,
    "start_time": "2022-05-26T18:53:28.684Z"
   },
   {
    "duration": 5,
    "start_time": "2022-05-26T18:53:28.689Z"
   },
   {
    "duration": 730,
    "start_time": "2022-05-26T18:53:28.700Z"
   },
   {
    "duration": 2,
    "start_time": "2022-05-26T18:53:29.433Z"
   },
   {
    "duration": 8,
    "start_time": "2022-05-26T18:53:29.437Z"
   },
   {
    "duration": 5,
    "start_time": "2022-05-26T18:53:29.446Z"
   },
   {
    "duration": 6,
    "start_time": "2022-05-26T18:53:29.452Z"
   },
   {
    "duration": 44,
    "start_time": "2022-05-26T18:53:29.459Z"
   },
   {
    "duration": 4,
    "start_time": "2022-05-26T18:53:29.506Z"
   },
   {
    "duration": 4,
    "start_time": "2022-05-26T18:53:29.512Z"
   },
   {
    "duration": 5,
    "start_time": "2022-05-26T18:53:29.518Z"
   },
   {
    "duration": 9,
    "start_time": "2022-05-26T18:53:29.524Z"
   },
   {
    "duration": 21,
    "start_time": "2022-05-26T18:53:29.534Z"
   },
   {
    "duration": 9,
    "start_time": "2022-05-26T18:53:29.557Z"
   },
   {
    "duration": 39,
    "start_time": "2022-05-26T18:53:29.568Z"
   },
   {
    "duration": 3,
    "start_time": "2022-05-26T18:53:29.609Z"
   },
   {
    "duration": 6,
    "start_time": "2022-05-26T18:53:29.613Z"
   },
   {
    "duration": 5,
    "start_time": "2022-05-26T18:53:29.620Z"
   },
   {
    "duration": 6,
    "start_time": "2022-05-26T18:53:29.626Z"
   },
   {
    "duration": 14,
    "start_time": "2022-05-26T18:53:29.634Z"
   },
   {
    "duration": 13,
    "start_time": "2022-05-26T18:53:29.650Z"
   },
   {
    "duration": 6,
    "start_time": "2022-05-26T18:53:29.666Z"
   },
   {
    "duration": 30,
    "start_time": "2022-05-26T18:53:29.673Z"
   },
   {
    "duration": 12,
    "start_time": "2022-05-26T18:53:29.704Z"
   },
   {
    "duration": 5,
    "start_time": "2022-05-26T18:53:29.718Z"
   },
   {
    "duration": 4,
    "start_time": "2022-05-26T18:53:29.724Z"
   },
   {
    "duration": 1180,
    "start_time": "2022-05-26T18:54:08.538Z"
   },
   {
    "duration": 3,
    "start_time": "2022-05-26T18:54:09.720Z"
   },
   {
    "duration": 751,
    "start_time": "2022-05-26T18:54:09.724Z"
   },
   {
    "duration": 3,
    "start_time": "2022-05-26T18:54:10.477Z"
   },
   {
    "duration": 17,
    "start_time": "2022-05-26T18:54:10.482Z"
   },
   {
    "duration": 14,
    "start_time": "2022-05-26T18:54:10.500Z"
   },
   {
    "duration": 10,
    "start_time": "2022-05-26T18:54:10.516Z"
   },
   {
    "duration": 21,
    "start_time": "2022-05-26T18:54:10.528Z"
   },
   {
    "duration": 4,
    "start_time": "2022-05-26T18:54:10.550Z"
   },
   {
    "duration": 7,
    "start_time": "2022-05-26T18:54:10.556Z"
   },
   {
    "duration": 6,
    "start_time": "2022-05-26T18:54:10.564Z"
   },
   {
    "duration": 38,
    "start_time": "2022-05-26T18:54:10.572Z"
   },
   {
    "duration": 11,
    "start_time": "2022-05-26T18:54:10.612Z"
   },
   {
    "duration": 11,
    "start_time": "2022-05-26T18:54:10.626Z"
   },
   {
    "duration": 8,
    "start_time": "2022-05-26T18:54:10.638Z"
   },
   {
    "duration": 3,
    "start_time": "2022-05-26T18:54:10.648Z"
   },
   {
    "duration": 10,
    "start_time": "2022-05-26T18:54:10.652Z"
   },
   {
    "duration": 47,
    "start_time": "2022-05-26T18:54:10.664Z"
   },
   {
    "duration": 5,
    "start_time": "2022-05-26T18:54:10.713Z"
   },
   {
    "duration": 9,
    "start_time": "2022-05-26T18:54:10.725Z"
   },
   {
    "duration": 7,
    "start_time": "2022-05-26T18:54:10.736Z"
   },
   {
    "duration": 5,
    "start_time": "2022-05-26T18:54:10.745Z"
   },
   {
    "duration": 7,
    "start_time": "2022-05-26T18:54:10.752Z"
   },
   {
    "duration": 6,
    "start_time": "2022-05-26T18:54:10.761Z"
   },
   {
    "duration": 7,
    "start_time": "2022-05-26T18:54:10.769Z"
   },
   {
    "duration": 8,
    "start_time": "2022-05-26T18:54:10.801Z"
   },
   {
    "duration": 8,
    "start_time": "2022-05-26T18:54:10.813Z"
   },
   {
    "duration": 5,
    "start_time": "2022-05-26T18:54:10.823Z"
   },
   {
    "duration": 5,
    "start_time": "2022-05-26T18:54:10.830Z"
   },
   {
    "duration": 2957,
    "start_time": "2022-05-26T18:54:10.837Z"
   },
   {
    "duration": 9,
    "start_time": "2022-05-26T18:54:13.800Z"
   },
   {
    "duration": 39,
    "start_time": "2022-05-26T18:54:13.810Z"
   },
   {
    "duration": 807,
    "start_time": "2022-05-26T18:54:13.851Z"
   },
   {
    "duration": 4,
    "start_time": "2022-05-26T18:54:14.659Z"
   },
   {
    "duration": 2110,
    "start_time": "2022-05-26T18:54:14.665Z"
   },
   {
    "duration": 143,
    "start_time": "2022-05-26T18:54:16.777Z"
   },
   {
    "duration": 33,
    "start_time": "2022-05-26T18:54:16.921Z"
   },
   {
    "duration": 8,
    "start_time": "2022-05-26T18:54:16.956Z"
   },
   {
    "duration": 3,
    "start_time": "2022-05-26T18:56:01.843Z"
   },
   {
    "duration": 3,
    "start_time": "2022-05-26T18:56:02.566Z"
   },
   {
    "duration": 3,
    "start_time": "2022-05-26T18:56:02.976Z"
   },
   {
    "duration": 4,
    "start_time": "2022-05-26T18:56:03.393Z"
   },
   {
    "duration": 4,
    "start_time": "2022-05-26T18:56:37.320Z"
   },
   {
    "duration": 7,
    "start_time": "2022-05-26T18:56:50.418Z"
   },
   {
    "duration": 5,
    "start_time": "2022-05-26T18:57:31.372Z"
   },
   {
    "duration": 5,
    "start_time": "2022-05-26T18:57:37.186Z"
   },
   {
    "duration": 4,
    "start_time": "2022-05-26T18:58:00.644Z"
   },
   {
    "duration": 4,
    "start_time": "2022-05-26T18:58:41.145Z"
   },
   {
    "duration": 4,
    "start_time": "2022-05-26T18:59:58.157Z"
   },
   {
    "duration": 4,
    "start_time": "2022-05-26T18:59:59.308Z"
   },
   {
    "duration": 1172,
    "start_time": "2022-05-26T19:00:10.640Z"
   },
   {
    "duration": 4,
    "start_time": "2022-05-26T19:00:11.814Z"
   },
   {
    "duration": 740,
    "start_time": "2022-05-26T19:00:11.819Z"
   },
   {
    "duration": 2,
    "start_time": "2022-05-26T19:00:12.561Z"
   },
   {
    "duration": 7,
    "start_time": "2022-05-26T19:00:12.565Z"
   },
   {
    "duration": 8,
    "start_time": "2022-05-26T19:00:12.573Z"
   },
   {
    "duration": 10,
    "start_time": "2022-05-26T19:00:12.594Z"
   },
   {
    "duration": 31,
    "start_time": "2022-05-26T19:00:12.605Z"
   },
   {
    "duration": 4,
    "start_time": "2022-05-26T19:00:12.638Z"
   },
   {
    "duration": 11,
    "start_time": "2022-05-26T19:00:12.644Z"
   },
   {
    "duration": 5,
    "start_time": "2022-05-26T19:00:12.656Z"
   },
   {
    "duration": 6,
    "start_time": "2022-05-26T19:00:12.662Z"
   },
   {
    "duration": 28,
    "start_time": "2022-05-26T19:00:12.669Z"
   },
   {
    "duration": 14,
    "start_time": "2022-05-26T19:00:12.700Z"
   },
   {
    "duration": 8,
    "start_time": "2022-05-26T19:00:12.715Z"
   },
   {
    "duration": 3,
    "start_time": "2022-05-26T19:00:12.726Z"
   },
   {
    "duration": 10,
    "start_time": "2022-05-26T19:00:12.731Z"
   },
   {
    "duration": 5,
    "start_time": "2022-05-26T19:00:12.743Z"
   },
   {
    "duration": 7,
    "start_time": "2022-05-26T19:00:12.750Z"
   },
   {
    "duration": 6,
    "start_time": "2022-05-26T19:00:12.799Z"
   },
   {
    "duration": 11,
    "start_time": "2022-05-26T19:00:12.807Z"
   },
   {
    "duration": 10,
    "start_time": "2022-05-26T19:00:12.820Z"
   },
   {
    "duration": 4,
    "start_time": "2022-05-26T19:00:12.832Z"
   },
   {
    "duration": 6,
    "start_time": "2022-05-26T19:00:12.838Z"
   },
   {
    "duration": 6,
    "start_time": "2022-05-26T19:00:12.846Z"
   },
   {
    "duration": 6,
    "start_time": "2022-05-26T19:00:12.853Z"
   },
   {
    "duration": 7,
    "start_time": "2022-05-26T19:00:12.860Z"
   },
   {
    "duration": 99,
    "start_time": "2022-05-26T19:00:12.868Z"
   },
   {
    "duration": 10,
    "start_time": "2022-05-26T19:00:12.968Z"
   },
   {
    "duration": 32,
    "start_time": "2022-05-26T19:00:12.979Z"
   },
   {
    "duration": 7,
    "start_time": "2022-05-26T19:00:13.012Z"
   },
   {
    "duration": 14,
    "start_time": "2022-05-26T19:00:13.020Z"
   },
   {
    "duration": 2975,
    "start_time": "2022-05-26T19:00:13.035Z"
   },
   {
    "duration": 3,
    "start_time": "2022-05-26T19:00:16.012Z"
   },
   {
    "duration": 25,
    "start_time": "2022-05-26T19:00:16.017Z"
   },
   {
    "duration": 828,
    "start_time": "2022-05-26T19:00:16.043Z"
   },
   {
    "duration": 4,
    "start_time": "2022-05-26T19:00:16.873Z"
   },
   {
    "duration": 2283,
    "start_time": "2022-05-26T19:00:16.879Z"
   },
   {
    "duration": 139,
    "start_time": "2022-05-26T19:00:19.164Z"
   },
   {
    "duration": 39,
    "start_time": "2022-05-26T19:00:19.304Z"
   },
   {
    "duration": 9,
    "start_time": "2022-05-26T19:00:19.348Z"
   },
   {
    "duration": 12,
    "start_time": "2022-05-26T19:03:20.309Z"
   },
   {
    "duration": 1268,
    "start_time": "2022-05-26T19:03:26.172Z"
   },
   {
    "duration": 4,
    "start_time": "2022-05-26T19:03:27.442Z"
   },
   {
    "duration": 764,
    "start_time": "2022-05-26T19:03:27.447Z"
   },
   {
    "duration": 3,
    "start_time": "2022-05-26T19:03:28.214Z"
   },
   {
    "duration": 9,
    "start_time": "2022-05-26T19:03:28.219Z"
   },
   {
    "duration": 9,
    "start_time": "2022-05-26T19:03:28.230Z"
   },
   {
    "duration": 13,
    "start_time": "2022-05-26T19:03:28.240Z"
   },
   {
    "duration": 18,
    "start_time": "2022-05-26T19:03:28.255Z"
   },
   {
    "duration": 9,
    "start_time": "2022-05-26T19:03:28.296Z"
   },
   {
    "duration": 6,
    "start_time": "2022-05-26T19:03:28.308Z"
   },
   {
    "duration": 6,
    "start_time": "2022-05-26T19:03:28.315Z"
   },
   {
    "duration": 6,
    "start_time": "2022-05-26T19:03:28.322Z"
   },
   {
    "duration": 10,
    "start_time": "2022-05-26T19:03:28.330Z"
   },
   {
    "duration": 9,
    "start_time": "2022-05-26T19:03:28.342Z"
   },
   {
    "duration": 42,
    "start_time": "2022-05-26T19:03:28.353Z"
   },
   {
    "duration": 12,
    "start_time": "2022-05-26T19:03:28.401Z"
   },
   {
    "duration": 7,
    "start_time": "2022-05-26T19:03:28.415Z"
   },
   {
    "duration": 11,
    "start_time": "2022-05-26T19:03:28.424Z"
   },
   {
    "duration": 7,
    "start_time": "2022-05-26T19:03:28.437Z"
   },
   {
    "duration": 5,
    "start_time": "2022-05-26T19:03:28.446Z"
   },
   {
    "duration": 5,
    "start_time": "2022-05-26T19:03:28.453Z"
   },
   {
    "duration": 5,
    "start_time": "2022-05-26T19:03:28.459Z"
   },
   {
    "duration": 29,
    "start_time": "2022-05-26T19:03:28.466Z"
   },
   {
    "duration": 19,
    "start_time": "2022-05-26T19:03:28.496Z"
   },
   {
    "duration": 4,
    "start_time": "2022-05-26T19:03:28.517Z"
   },
   {
    "duration": 4,
    "start_time": "2022-05-26T19:03:28.523Z"
   },
   {
    "duration": 4,
    "start_time": "2022-05-26T19:03:28.529Z"
   },
   {
    "duration": 6,
    "start_time": "2022-05-26T19:03:28.536Z"
   },
   {
    "duration": 2959,
    "start_time": "2022-05-26T19:03:28.544Z"
   },
   {
    "duration": 2,
    "start_time": "2022-05-26T19:03:31.509Z"
   },
   {
    "duration": 40,
    "start_time": "2022-05-26T19:03:31.513Z"
   },
   {
    "duration": 878,
    "start_time": "2022-05-26T19:03:31.555Z"
   },
   {
    "duration": 4,
    "start_time": "2022-05-26T19:03:32.435Z"
   },
   {
    "duration": 2039,
    "start_time": "2022-05-26T19:03:32.441Z"
   },
   {
    "duration": 138,
    "start_time": "2022-05-26T19:03:34.482Z"
   },
   {
    "duration": 35,
    "start_time": "2022-05-26T19:03:34.621Z"
   },
   {
    "duration": 11,
    "start_time": "2022-05-26T19:03:34.657Z"
   },
   {
    "duration": 1158,
    "start_time": "2022-05-26T19:05:35.010Z"
   },
   {
    "duration": 3,
    "start_time": "2022-05-26T19:05:36.170Z"
   },
   {
    "duration": 719,
    "start_time": "2022-05-26T19:05:36.174Z"
   },
   {
    "duration": 10,
    "start_time": "2022-05-26T19:05:36.897Z"
   },
   {
    "duration": 6,
    "start_time": "2022-05-26T19:05:36.910Z"
   },
   {
    "duration": 4,
    "start_time": "2022-05-26T19:05:36.918Z"
   },
   {
    "duration": 7,
    "start_time": "2022-05-26T19:05:36.923Z"
   },
   {
    "duration": 19,
    "start_time": "2022-05-26T19:05:36.932Z"
   },
   {
    "duration": 3,
    "start_time": "2022-05-26T19:05:36.953Z"
   },
   {
    "duration": 8,
    "start_time": "2022-05-26T19:05:36.957Z"
   },
   {
    "duration": 9,
    "start_time": "2022-05-26T19:05:36.966Z"
   },
   {
    "duration": 38,
    "start_time": "2022-05-26T19:05:36.976Z"
   },
   {
    "duration": 11,
    "start_time": "2022-05-26T19:05:37.016Z"
   },
   {
    "duration": 9,
    "start_time": "2022-05-26T19:05:37.030Z"
   },
   {
    "duration": 9,
    "start_time": "2022-05-26T19:05:37.040Z"
   },
   {
    "duration": 4,
    "start_time": "2022-05-26T19:05:37.050Z"
   },
   {
    "duration": 12,
    "start_time": "2022-05-26T19:05:37.055Z"
   },
   {
    "duration": 30,
    "start_time": "2022-05-26T19:05:37.069Z"
   },
   {
    "duration": 13,
    "start_time": "2022-05-26T19:05:37.101Z"
   },
   {
    "duration": 14,
    "start_time": "2022-05-26T19:05:37.115Z"
   },
   {
    "duration": 23,
    "start_time": "2022-05-26T19:05:37.130Z"
   },
   {
    "duration": 11,
    "start_time": "2022-05-26T19:05:37.154Z"
   },
   {
    "duration": 11,
    "start_time": "2022-05-26T19:05:37.166Z"
   },
   {
    "duration": 13,
    "start_time": "2022-05-26T19:05:37.179Z"
   },
   {
    "duration": 30,
    "start_time": "2022-05-26T19:05:37.194Z"
   },
   {
    "duration": 7,
    "start_time": "2022-05-26T19:05:37.226Z"
   },
   {
    "duration": 8,
    "start_time": "2022-05-26T19:05:37.234Z"
   },
   {
    "duration": 9,
    "start_time": "2022-05-26T19:05:37.244Z"
   },
   {
    "duration": 2931,
    "start_time": "2022-05-26T19:05:37.254Z"
   },
   {
    "duration": 10,
    "start_time": "2022-05-26T19:05:40.186Z"
   },
   {
    "duration": 34,
    "start_time": "2022-05-26T19:05:40.204Z"
   },
   {
    "duration": 810,
    "start_time": "2022-05-26T19:05:40.240Z"
   },
   {
    "duration": 3,
    "start_time": "2022-05-26T19:05:41.052Z"
   },
   {
    "duration": 2088,
    "start_time": "2022-05-26T19:05:41.057Z"
   },
   {
    "duration": 136,
    "start_time": "2022-05-26T19:05:43.146Z"
   },
   {
    "duration": 42,
    "start_time": "2022-05-26T19:05:43.283Z"
   },
   {
    "duration": 13,
    "start_time": "2022-05-26T19:05:43.330Z"
   },
   {
    "duration": 4,
    "start_time": "2022-05-26T19:07:16.351Z"
   },
   {
    "duration": 44,
    "start_time": "2022-05-26T19:12:11.875Z"
   },
   {
    "duration": 33,
    "start_time": "2022-05-26T19:12:14.686Z"
   },
   {
    "duration": 113,
    "start_time": "2022-05-26T19:13:21.565Z"
   },
   {
    "duration": 10,
    "start_time": "2022-05-26T19:13:39.443Z"
   },
   {
    "duration": 10,
    "start_time": "2022-05-26T19:13:53.941Z"
   },
   {
    "duration": 7,
    "start_time": "2022-05-26T19:14:08.140Z"
   },
   {
    "duration": 8,
    "start_time": "2022-05-26T19:14:10.518Z"
   },
   {
    "duration": 2502,
    "start_time": "2022-05-26T19:15:04.647Z"
   },
   {
    "duration": 1173,
    "start_time": "2022-05-26T19:16:19.446Z"
   },
   {
    "duration": 3,
    "start_time": "2022-05-26T19:16:20.620Z"
   },
   {
    "duration": 738,
    "start_time": "2022-05-26T19:16:20.624Z"
   },
   {
    "duration": 3,
    "start_time": "2022-05-26T19:16:21.364Z"
   },
   {
    "duration": 6,
    "start_time": "2022-05-26T19:16:21.368Z"
   },
   {
    "duration": 4,
    "start_time": "2022-05-26T19:16:21.376Z"
   },
   {
    "duration": 6,
    "start_time": "2022-05-26T19:16:21.403Z"
   },
   {
    "duration": 20,
    "start_time": "2022-05-26T19:16:21.410Z"
   },
   {
    "duration": 4,
    "start_time": "2022-05-26T19:16:21.431Z"
   },
   {
    "duration": 4,
    "start_time": "2022-05-26T19:16:21.437Z"
   },
   {
    "duration": 5,
    "start_time": "2022-05-26T19:16:21.442Z"
   },
   {
    "duration": 7,
    "start_time": "2022-05-26T19:16:21.449Z"
   },
   {
    "duration": 49,
    "start_time": "2022-05-26T19:16:21.457Z"
   },
   {
    "duration": 9,
    "start_time": "2022-05-26T19:16:21.510Z"
   },
   {
    "duration": 7,
    "start_time": "2022-05-26T19:16:21.521Z"
   },
   {
    "duration": 5,
    "start_time": "2022-05-26T19:16:21.529Z"
   },
   {
    "duration": 8,
    "start_time": "2022-05-26T19:16:21.535Z"
   },
   {
    "duration": 10,
    "start_time": "2022-05-26T19:16:21.544Z"
   },
   {
    "duration": 8,
    "start_time": "2022-05-26T19:16:21.556Z"
   },
   {
    "duration": 38,
    "start_time": "2022-05-26T19:16:21.565Z"
   },
   {
    "duration": 8,
    "start_time": "2022-05-26T19:16:21.605Z"
   },
   {
    "duration": 7,
    "start_time": "2022-05-26T19:16:21.614Z"
   },
   {
    "duration": 6,
    "start_time": "2022-05-26T19:16:21.623Z"
   },
   {
    "duration": 6,
    "start_time": "2022-05-26T19:16:21.630Z"
   },
   {
    "duration": 7,
    "start_time": "2022-05-26T19:16:21.638Z"
   },
   {
    "duration": 5,
    "start_time": "2022-05-26T19:16:21.647Z"
   },
   {
    "duration": 11,
    "start_time": "2022-05-26T19:16:21.653Z"
   },
   {
    "duration": 2941,
    "start_time": "2022-05-26T19:16:21.667Z"
   },
   {
    "duration": 3,
    "start_time": "2022-05-26T19:16:24.610Z"
   },
   {
    "duration": 55,
    "start_time": "2022-05-26T19:16:24.614Z"
   },
   {
    "duration": 875,
    "start_time": "2022-05-26T19:16:24.671Z"
   },
   {
    "duration": 5,
    "start_time": "2022-05-26T19:16:25.548Z"
   },
   {
    "duration": 2193,
    "start_time": "2022-05-26T19:16:25.555Z"
   },
   {
    "duration": 139,
    "start_time": "2022-05-26T19:16:27.750Z"
   },
   {
    "duration": 44,
    "start_time": "2022-05-26T19:16:27.891Z"
   },
   {
    "duration": 9,
    "start_time": "2022-05-26T19:16:27.937Z"
   },
   {
    "duration": 53,
    "start_time": "2022-05-26T19:16:27.947Z"
   },
   {
    "duration": 22,
    "start_time": "2022-05-26T19:16:53.685Z"
   },
   {
    "duration": 131,
    "start_time": "2022-05-26T19:17:17.086Z"
   },
   {
    "duration": 10,
    "start_time": "2022-05-26T19:17:46.807Z"
   },
   {
    "duration": 4,
    "start_time": "2022-05-26T19:18:16.744Z"
   },
   {
    "duration": 18,
    "start_time": "2022-05-26T19:18:50.491Z"
   },
   {
    "duration": 12,
    "start_time": "2022-05-26T19:19:31.633Z"
   },
   {
    "duration": 10,
    "start_time": "2022-05-26T19:20:04.475Z"
   },
   {
    "duration": 7,
    "start_time": "2022-05-26T19:20:11.981Z"
   },
   {
    "duration": 16,
    "start_time": "2022-05-26T19:22:25.213Z"
   },
   {
    "duration": 18,
    "start_time": "2022-05-26T19:22:45.247Z"
   },
   {
    "duration": 9,
    "start_time": "2022-05-26T19:22:59.403Z"
   },
   {
    "duration": 9,
    "start_time": "2022-05-26T19:23:04.405Z"
   },
   {
    "duration": 1466,
    "start_time": "2022-05-27T06:01:32.165Z"
   },
   {
    "duration": 3,
    "start_time": "2022-05-27T06:01:33.633Z"
   },
   {
    "duration": 3641,
    "start_time": "2022-05-27T06:01:33.637Z"
   },
   {
    "duration": 3,
    "start_time": "2022-05-27T06:01:37.281Z"
   },
   {
    "duration": 29,
    "start_time": "2022-05-27T06:01:37.287Z"
   },
   {
    "duration": 27,
    "start_time": "2022-05-27T06:01:37.317Z"
   },
   {
    "duration": 50,
    "start_time": "2022-05-27T06:01:37.346Z"
   },
   {
    "duration": 36,
    "start_time": "2022-05-27T06:01:37.398Z"
   },
   {
    "duration": 6,
    "start_time": "2022-05-27T06:01:37.436Z"
   },
   {
    "duration": 36,
    "start_time": "2022-05-27T06:01:37.443Z"
   },
   {
    "duration": 19,
    "start_time": "2022-05-27T06:01:37.481Z"
   },
   {
    "duration": 8,
    "start_time": "2022-05-27T06:01:37.502Z"
   },
   {
    "duration": 22,
    "start_time": "2022-05-27T06:01:37.512Z"
   },
   {
    "duration": 33,
    "start_time": "2022-05-27T06:01:37.537Z"
   },
   {
    "duration": 45,
    "start_time": "2022-05-27T06:01:37.572Z"
   },
   {
    "duration": 10,
    "start_time": "2022-05-27T06:01:37.619Z"
   },
   {
    "duration": 34,
    "start_time": "2022-05-27T06:01:37.631Z"
   },
   {
    "duration": 41,
    "start_time": "2022-05-27T06:01:37.667Z"
   },
   {
    "duration": 18,
    "start_time": "2022-05-27T06:01:37.710Z"
   },
   {
    "duration": 54,
    "start_time": "2022-05-27T06:01:37.730Z"
   },
   {
    "duration": 15,
    "start_time": "2022-05-27T06:01:37.786Z"
   },
   {
    "duration": 13,
    "start_time": "2022-05-27T06:01:37.803Z"
   },
   {
    "duration": 8,
    "start_time": "2022-05-27T06:01:37.818Z"
   },
   {
    "duration": 54,
    "start_time": "2022-05-27T06:01:37.828Z"
   },
   {
    "duration": 6,
    "start_time": "2022-05-27T06:01:37.884Z"
   },
   {
    "duration": 9,
    "start_time": "2022-05-27T06:01:37.892Z"
   },
   {
    "duration": 75,
    "start_time": "2022-05-27T06:01:37.903Z"
   },
   {
    "duration": 3060,
    "start_time": "2022-05-27T06:01:37.980Z"
   },
   {
    "duration": 2,
    "start_time": "2022-05-27T06:01:41.042Z"
   },
   {
    "duration": 26,
    "start_time": "2022-05-27T06:01:41.046Z"
   },
   {
    "duration": 1000,
    "start_time": "2022-05-27T06:01:41.074Z"
   },
   {
    "duration": 5,
    "start_time": "2022-05-27T06:01:42.082Z"
   },
   {
    "duration": 2512,
    "start_time": "2022-05-27T06:01:42.089Z"
   },
   {
    "duration": 142,
    "start_time": "2022-05-27T06:01:44.604Z"
   },
   {
    "duration": 57,
    "start_time": "2022-05-27T06:01:44.751Z"
   },
   {
    "duration": 12,
    "start_time": "2022-05-27T06:01:44.810Z"
   },
   {
    "duration": 40,
    "start_time": "2022-05-27T06:01:44.824Z"
   },
   {
    "duration": 12,
    "start_time": "2022-05-27T06:01:44.869Z"
   },
   {
    "duration": 22,
    "start_time": "2022-05-27T06:01:44.883Z"
   },
   {
    "duration": 8,
    "start_time": "2022-05-27T06:01:44.907Z"
   },
   {
    "duration": 43,
    "start_time": "2022-05-27T06:01:44.919Z"
   },
   {
    "duration": 42,
    "start_time": "2022-05-27T06:04:55.682Z"
   },
   {
    "duration": 35,
    "start_time": "2022-05-27T06:04:58.567Z"
   },
   {
    "duration": 6,
    "start_time": "2022-05-27T06:12:12.278Z"
   },
   {
    "duration": 3,
    "start_time": "2022-05-27T06:12:46.795Z"
   },
   {
    "duration": 8,
    "start_time": "2022-05-27T06:14:01.280Z"
   },
   {
    "duration": 4,
    "start_time": "2022-05-27T06:19:06.533Z"
   },
   {
    "duration": 4,
    "start_time": "2022-05-27T06:24:06.811Z"
   },
   {
    "duration": 10,
    "start_time": "2022-05-27T06:26:34.410Z"
   },
   {
    "duration": 15,
    "start_time": "2022-05-27T06:26:37.692Z"
   },
   {
    "duration": 397,
    "start_time": "2022-05-27T06:27:27.769Z"
   },
   {
    "duration": 122,
    "start_time": "2022-05-27T06:34:26.699Z"
   },
   {
    "duration": 978,
    "start_time": "2022-05-27T06:36:03.102Z"
   },
   {
    "duration": 12,
    "start_time": "2022-05-27T06:37:23.783Z"
   },
   {
    "duration": 540,
    "start_time": "2022-05-27T06:37:36.579Z"
   },
   {
    "duration": 5,
    "start_time": "2022-05-27T06:37:45.080Z"
   },
   {
    "duration": 1065,
    "start_time": "2022-05-27T06:37:54.029Z"
   },
   {
    "duration": 11,
    "start_time": "2022-05-27T06:38:41.873Z"
   },
   {
    "duration": 20,
    "start_time": "2022-05-27T06:39:37.172Z"
   },
   {
    "duration": 14,
    "start_time": "2022-05-27T06:40:09.480Z"
   },
   {
    "duration": 21,
    "start_time": "2022-05-27T06:40:22.167Z"
   },
   {
    "duration": 17,
    "start_time": "2022-05-27T06:41:02.286Z"
   },
   {
    "duration": 19,
    "start_time": "2022-05-27T06:41:17.982Z"
   },
   {
    "duration": 12,
    "start_time": "2022-05-27T06:41:32.598Z"
   },
   {
    "duration": 16,
    "start_time": "2022-05-27T06:42:12.281Z"
   },
   {
    "duration": 25,
    "start_time": "2022-05-27T06:42:30.879Z"
   },
   {
    "duration": 24,
    "start_time": "2022-05-27T06:42:47.285Z"
   },
   {
    "duration": 42,
    "start_time": "2022-05-27T06:43:42.580Z"
   },
   {
    "duration": 35,
    "start_time": "2022-05-27T06:43:49.883Z"
   },
   {
    "duration": 29,
    "start_time": "2022-05-27T06:43:54.751Z"
   },
   {
    "duration": 11,
    "start_time": "2022-05-27T06:56:04.983Z"
   },
   {
    "duration": 65,
    "start_time": "2022-05-27T06:56:32.325Z"
   },
   {
    "duration": 434459,
    "start_time": "2022-05-27T07:01:28.626Z"
   },
   {
    "duration": 0,
    "start_time": "2022-05-27T07:08:43.089Z"
   },
   {
    "duration": 11,
    "start_time": "2022-05-27T07:11:10.329Z"
   },
   {
    "duration": 11,
    "start_time": "2022-05-27T07:11:53.149Z"
   },
   {
    "duration": 10,
    "start_time": "2022-05-27T07:12:00.314Z"
   },
   {
    "duration": 452427,
    "start_time": "2022-05-27T07:12:05.591Z"
   },
   {
    "duration": 6,
    "start_time": "2022-05-27T07:20:38.013Z"
   },
   {
    "duration": 22,
    "start_time": "2022-05-27T07:24:20.777Z"
   },
   {
    "duration": 13,
    "start_time": "2022-05-27T07:24:47.448Z"
   },
   {
    "duration": 93,
    "start_time": "2022-05-27T07:24:56.720Z"
   },
   {
    "duration": 495,
    "start_time": "2022-05-27T07:26:40.205Z"
   },
   {
    "duration": 5,
    "start_time": "2022-05-27T07:32:42.070Z"
   },
   {
    "duration": 3,
    "start_time": "2022-05-27T07:32:52.322Z"
   },
   {
    "duration": 2,
    "start_time": "2022-05-27T07:33:07.391Z"
   },
   {
    "duration": 4,
    "start_time": "2022-05-27T07:33:51.598Z"
   },
   {
    "duration": 3,
    "start_time": "2022-05-27T07:33:59.624Z"
   },
   {
    "duration": 6,
    "start_time": "2022-05-27T07:35:25.942Z"
   },
   {
    "duration": 16,
    "start_time": "2022-05-27T07:35:45.074Z"
   },
   {
    "duration": 18,
    "start_time": "2022-05-27T07:36:27.980Z"
   },
   {
    "duration": 3,
    "start_time": "2022-05-27T07:36:47.593Z"
   },
   {
    "duration": 17,
    "start_time": "2022-05-27T07:36:53.225Z"
   },
   {
    "duration": 41,
    "start_time": "2022-05-27T07:37:53.268Z"
   },
   {
    "duration": 22,
    "start_time": "2022-05-27T07:38:07.197Z"
   },
   {
    "duration": 20,
    "start_time": "2022-05-27T07:38:21.277Z"
   },
   {
    "duration": 496,
    "start_time": "2022-05-27T07:38:30.104Z"
   },
   {
    "duration": 19,
    "start_time": "2022-05-27T07:38:33.303Z"
   },
   {
    "duration": 28,
    "start_time": "2022-05-27T07:39:00.883Z"
   },
   {
    "duration": 11,
    "start_time": "2022-05-27T07:40:33.510Z"
   },
   {
    "duration": 124,
    "start_time": "2022-05-27T07:40:43.482Z"
   },
   {
    "duration": 28,
    "start_time": "2022-05-27T07:40:53.976Z"
   },
   {
    "duration": 12,
    "start_time": "2022-05-27T07:50:26.278Z"
   },
   {
    "duration": 22,
    "start_time": "2022-05-27T07:50:51.274Z"
   },
   {
    "duration": 23,
    "start_time": "2022-05-27T07:51:23.812Z"
   },
   {
    "duration": 1864,
    "start_time": "2022-05-27T08:06:15.475Z"
   },
   {
    "duration": 3,
    "start_time": "2022-05-27T08:06:17.341Z"
   },
   {
    "duration": 5872,
    "start_time": "2022-05-27T08:06:17.345Z"
   },
   {
    "duration": 4,
    "start_time": "2022-05-27T08:06:23.223Z"
   },
   {
    "duration": 10,
    "start_time": "2022-05-27T08:06:23.230Z"
   },
   {
    "duration": 6,
    "start_time": "2022-05-27T08:06:23.241Z"
   },
   {
    "duration": 71,
    "start_time": "2022-05-27T08:06:23.249Z"
   },
   {
    "duration": 29,
    "start_time": "2022-05-27T08:06:23.325Z"
   },
   {
    "duration": 8,
    "start_time": "2022-05-27T08:06:23.356Z"
   },
   {
    "duration": 64,
    "start_time": "2022-05-27T08:06:23.365Z"
   },
   {
    "duration": 13,
    "start_time": "2022-05-27T08:06:23.432Z"
   },
   {
    "duration": 33,
    "start_time": "2022-05-27T08:06:23.447Z"
   },
   {
    "duration": 71,
    "start_time": "2022-05-27T08:06:23.482Z"
   },
   {
    "duration": 72,
    "start_time": "2022-05-27T08:06:23.567Z"
   },
   {
    "duration": 48,
    "start_time": "2022-05-27T08:06:23.641Z"
   },
   {
    "duration": 44,
    "start_time": "2022-05-27T08:06:23.691Z"
   },
   {
    "duration": 16,
    "start_time": "2022-05-27T08:06:23.738Z"
   },
   {
    "duration": 75,
    "start_time": "2022-05-27T08:06:23.757Z"
   },
   {
    "duration": 31,
    "start_time": "2022-05-27T08:06:23.837Z"
   },
   {
    "duration": 72,
    "start_time": "2022-05-27T08:06:23.869Z"
   },
   {
    "duration": 16,
    "start_time": "2022-05-27T08:06:23.943Z"
   },
   {
    "duration": 83,
    "start_time": "2022-05-27T08:06:23.960Z"
   },
   {
    "duration": 10,
    "start_time": "2022-05-27T08:06:24.045Z"
   },
   {
    "duration": 80,
    "start_time": "2022-05-27T08:06:24.056Z"
   },
   {
    "duration": 19,
    "start_time": "2022-05-27T08:06:24.138Z"
   },
   {
    "duration": 70,
    "start_time": "2022-05-27T08:06:24.159Z"
   },
   {
    "duration": 9,
    "start_time": "2022-05-27T08:06:24.231Z"
   },
   {
    "duration": 3289,
    "start_time": "2022-05-27T08:06:24.242Z"
   },
   {
    "duration": 2,
    "start_time": "2022-05-27T08:06:27.533Z"
   },
   {
    "duration": 74,
    "start_time": "2022-05-27T08:06:27.537Z"
   },
   {
    "duration": 1358,
    "start_time": "2022-05-27T08:06:27.613Z"
   },
   {
    "duration": 4,
    "start_time": "2022-05-27T08:06:28.973Z"
   },
   {
    "duration": 3032,
    "start_time": "2022-05-27T08:06:28.979Z"
   },
   {
    "duration": 203,
    "start_time": "2022-05-27T08:06:32.012Z"
   },
   {
    "duration": 63,
    "start_time": "2022-05-27T08:06:32.217Z"
   },
   {
    "duration": 52,
    "start_time": "2022-05-27T08:06:32.283Z"
   },
   {
    "duration": 86,
    "start_time": "2022-05-27T08:06:32.337Z"
   },
   {
    "duration": 25,
    "start_time": "2022-05-27T08:06:32.426Z"
   },
   {
    "duration": 85,
    "start_time": "2022-05-27T08:06:32.466Z"
   },
   {
    "duration": 43,
    "start_time": "2022-05-27T08:06:32.556Z"
   },
   {
    "duration": 110,
    "start_time": "2022-05-27T08:06:32.605Z"
   },
   {
    "duration": 41,
    "start_time": "2022-05-27T08:06:32.717Z"
   },
   {
    "duration": 296,
    "start_time": "2022-05-27T08:06:32.760Z"
   },
   {
    "duration": 0,
    "start_time": "2022-05-27T08:06:33.058Z"
   },
   {
    "duration": 0,
    "start_time": "2022-05-27T08:06:33.059Z"
   },
   {
    "duration": 0,
    "start_time": "2022-05-27T08:06:33.060Z"
   },
   {
    "duration": 0,
    "start_time": "2022-05-27T08:06:33.061Z"
   },
   {
    "duration": 0,
    "start_time": "2022-05-27T08:06:33.062Z"
   },
   {
    "duration": 0,
    "start_time": "2022-05-27T08:06:33.063Z"
   },
   {
    "duration": 0,
    "start_time": "2022-05-27T08:06:33.063Z"
   },
   {
    "duration": 1,
    "start_time": "2022-05-27T08:06:33.064Z"
   },
   {
    "duration": 0,
    "start_time": "2022-05-27T08:06:33.067Z"
   },
   {
    "duration": 463,
    "start_time": "2022-05-27T08:07:16.511Z"
   },
   {
    "duration": 1550,
    "start_time": "2022-05-27T10:18:15.947Z"
   },
   {
    "duration": 3,
    "start_time": "2022-05-27T10:18:17.501Z"
   },
   {
    "duration": 979,
    "start_time": "2022-05-27T10:18:17.505Z"
   },
   {
    "duration": 11,
    "start_time": "2022-05-27T10:18:18.485Z"
   },
   {
    "duration": 26,
    "start_time": "2022-05-27T10:18:18.499Z"
   },
   {
    "duration": 5,
    "start_time": "2022-05-27T10:18:18.527Z"
   },
   {
    "duration": 9,
    "start_time": "2022-05-27T10:18:18.533Z"
   },
   {
    "duration": 48,
    "start_time": "2022-05-27T10:18:18.543Z"
   },
   {
    "duration": 29,
    "start_time": "2022-05-27T10:18:18.593Z"
   },
   {
    "duration": 4,
    "start_time": "2022-05-27T10:18:18.624Z"
   },
   {
    "duration": 5,
    "start_time": "2022-05-27T10:18:18.629Z"
   },
   {
    "duration": 8,
    "start_time": "2022-05-27T10:18:18.636Z"
   },
   {
    "duration": 17,
    "start_time": "2022-05-27T10:18:18.645Z"
   },
   {
    "duration": 63,
    "start_time": "2022-05-27T10:18:18.665Z"
   },
   {
    "duration": 8,
    "start_time": "2022-05-27T10:18:18.729Z"
   },
   {
    "duration": 3,
    "start_time": "2022-05-27T10:18:18.738Z"
   },
   {
    "duration": 6,
    "start_time": "2022-05-27T10:18:18.743Z"
   },
   {
    "duration": 75,
    "start_time": "2022-05-27T10:18:18.751Z"
   },
   {
    "duration": 7,
    "start_time": "2022-05-27T10:18:18.827Z"
   },
   {
    "duration": 10,
    "start_time": "2022-05-27T10:18:18.835Z"
   },
   {
    "duration": 37,
    "start_time": "2022-05-27T10:18:18.847Z"
   },
   {
    "duration": 37,
    "start_time": "2022-05-27T10:18:18.885Z"
   },
   {
    "duration": 6,
    "start_time": "2022-05-27T10:18:18.924Z"
   },
   {
    "duration": 6,
    "start_time": "2022-05-27T10:18:18.931Z"
   },
   {
    "duration": 7,
    "start_time": "2022-05-27T10:18:18.938Z"
   },
   {
    "duration": 51,
    "start_time": "2022-05-27T10:18:18.946Z"
   },
   {
    "duration": 27,
    "start_time": "2022-05-27T10:18:18.998Z"
   },
   {
    "duration": 3082,
    "start_time": "2022-05-27T10:18:19.027Z"
   },
   {
    "duration": 6,
    "start_time": "2022-05-27T10:18:22.114Z"
   },
   {
    "duration": 111,
    "start_time": "2022-05-27T10:18:22.123Z"
   },
   {
    "duration": 1259,
    "start_time": "2022-05-27T10:18:22.235Z"
   },
   {
    "duration": 5,
    "start_time": "2022-05-27T10:18:23.495Z"
   },
   {
    "duration": 2802,
    "start_time": "2022-05-27T10:18:23.502Z"
   },
   {
    "duration": 161,
    "start_time": "2022-05-27T10:18:26.306Z"
   },
   {
    "duration": 58,
    "start_time": "2022-05-27T10:18:26.469Z"
   },
   {
    "duration": 12,
    "start_time": "2022-05-27T10:18:26.528Z"
   },
   {
    "duration": 45,
    "start_time": "2022-05-27T10:18:26.542Z"
   },
   {
    "duration": 35,
    "start_time": "2022-05-27T10:18:26.597Z"
   },
   {
    "duration": 16,
    "start_time": "2022-05-27T10:18:26.633Z"
   },
   {
    "duration": 20,
    "start_time": "2022-05-27T10:18:26.651Z"
   },
   {
    "duration": 77,
    "start_time": "2022-05-27T10:18:26.676Z"
   },
   {
    "duration": 65,
    "start_time": "2022-05-27T10:18:26.755Z"
   },
   {
    "duration": 437,
    "start_time": "2022-05-27T10:18:26.822Z"
   },
   {
    "duration": 5,
    "start_time": "2022-05-27T10:18:27.261Z"
   },
   {
    "duration": 68,
    "start_time": "2022-05-27T10:18:27.267Z"
   },
   {
    "duration": 39,
    "start_time": "2022-05-27T10:18:27.337Z"
   },
   {
    "duration": 44,
    "start_time": "2022-05-27T10:18:27.378Z"
   },
   {
    "duration": 8,
    "start_time": "2022-05-27T10:18:27.424Z"
   },
   {
    "duration": 6,
    "start_time": "2022-05-27T10:18:27.433Z"
   },
   {
    "duration": 7,
    "start_time": "2022-05-27T10:18:27.440Z"
   },
   {
    "duration": 215,
    "start_time": "2022-05-27T10:18:27.448Z"
   },
   {
    "duration": 222,
    "start_time": "2022-05-27T10:18:27.670Z"
   },
   {
    "duration": 33,
    "start_time": "2022-05-27T10:37:06.548Z"
   },
   {
    "duration": 8,
    "start_time": "2022-05-27T10:37:17.427Z"
   },
   {
    "duration": 121,
    "start_time": "2022-05-27T10:39:10.827Z"
   },
   {
    "duration": 136,
    "start_time": "2022-05-27T10:39:19.748Z"
   },
   {
    "duration": 100,
    "start_time": "2022-05-27T10:39:44.709Z"
   },
   {
    "duration": 115,
    "start_time": "2022-05-27T10:40:04.033Z"
   },
   {
    "duration": 125,
    "start_time": "2022-05-27T10:40:40.871Z"
   },
   {
    "duration": 10,
    "start_time": "2022-05-27T10:41:12.078Z"
   },
   {
    "duration": 25,
    "start_time": "2022-05-27T10:41:26.019Z"
   },
   {
    "duration": 119,
    "start_time": "2022-05-27T10:46:49.812Z"
   },
   {
    "duration": 30,
    "start_time": "2022-05-27T10:47:16.096Z"
   },
   {
    "duration": 52,
    "start_time": "2022-05-27T10:47:24.587Z"
   },
   {
    "duration": 68,
    "start_time": "2022-05-27T10:47:33.776Z"
   },
   {
    "duration": 42,
    "start_time": "2022-05-27T10:47:41.276Z"
   },
   {
    "duration": 22,
    "start_time": "2022-05-27T10:48:50.104Z"
   },
   {
    "duration": 346,
    "start_time": "2022-05-27T10:48:55.709Z"
   },
   {
    "duration": 22,
    "start_time": "2022-05-27T11:11:05.714Z"
   },
   {
    "duration": 438,
    "start_time": "2022-05-27T11:11:26.370Z"
   },
   {
    "duration": 27,
    "start_time": "2022-05-27T11:17:01.097Z"
   },
   {
    "duration": 39,
    "start_time": "2022-05-27T11:17:31.944Z"
   },
   {
    "duration": 40,
    "start_time": "2022-05-27T11:17:43.906Z"
   },
   {
    "duration": 32,
    "start_time": "2022-05-27T11:18:19.008Z"
   },
   {
    "duration": 190,
    "start_time": "2022-05-27T11:18:28.167Z"
   },
   {
    "duration": 66,
    "start_time": "2022-05-27T11:18:52.422Z"
   },
   {
    "duration": 366,
    "start_time": "2022-05-27T11:19:01.121Z"
   },
   {
    "duration": 228,
    "start_time": "2022-05-27T11:19:23.839Z"
   },
   {
    "duration": 4,
    "start_time": "2022-05-27T11:19:54.229Z"
   },
   {
    "duration": 5,
    "start_time": "2022-05-27T11:20:08.255Z"
   },
   {
    "duration": 1791,
    "start_time": "2022-05-27T11:20:16.042Z"
   },
   {
    "duration": 6,
    "start_time": "2022-05-27T11:20:17.837Z"
   },
   {
    "duration": 1024,
    "start_time": "2022-05-27T11:20:17.847Z"
   },
   {
    "duration": 13,
    "start_time": "2022-05-27T11:20:18.879Z"
   },
   {
    "duration": 27,
    "start_time": "2022-05-27T11:20:18.908Z"
   },
   {
    "duration": 7,
    "start_time": "2022-05-27T11:20:18.937Z"
   },
   {
    "duration": 80,
    "start_time": "2022-05-27T11:20:18.946Z"
   },
   {
    "duration": 35,
    "start_time": "2022-05-27T11:20:19.027Z"
   },
   {
    "duration": 6,
    "start_time": "2022-05-27T11:20:19.064Z"
   },
   {
    "duration": 60,
    "start_time": "2022-05-27T11:20:19.072Z"
   },
   {
    "duration": 8,
    "start_time": "2022-05-27T11:20:19.134Z"
   },
   {
    "duration": 10,
    "start_time": "2022-05-27T11:20:19.144Z"
   },
   {
    "duration": 78,
    "start_time": "2022-05-27T11:20:19.155Z"
   },
   {
    "duration": 13,
    "start_time": "2022-05-27T11:20:19.235Z"
   },
   {
    "duration": 19,
    "start_time": "2022-05-27T11:20:19.250Z"
   },
   {
    "duration": 61,
    "start_time": "2022-05-27T11:20:19.272Z"
   },
   {
    "duration": 8,
    "start_time": "2022-05-27T11:20:19.334Z"
   },
   {
    "duration": 12,
    "start_time": "2022-05-27T11:20:19.344Z"
   },
   {
    "duration": 75,
    "start_time": "2022-05-27T11:20:19.357Z"
   },
   {
    "duration": 12,
    "start_time": "2022-05-27T11:20:19.433Z"
   },
   {
    "duration": 49,
    "start_time": "2022-05-27T11:20:19.446Z"
   },
   {
    "duration": 39,
    "start_time": "2022-05-27T11:20:19.496Z"
   },
   {
    "duration": 9,
    "start_time": "2022-05-27T11:20:19.536Z"
   },
   {
    "duration": 8,
    "start_time": "2022-05-27T11:20:19.546Z"
   },
   {
    "duration": 81,
    "start_time": "2022-05-27T11:20:19.555Z"
   },
   {
    "duration": 6,
    "start_time": "2022-05-27T11:20:19.638Z"
   },
   {
    "duration": 6,
    "start_time": "2022-05-27T11:20:19.646Z"
   },
   {
    "duration": 3292,
    "start_time": "2022-05-27T11:20:19.662Z"
   },
   {
    "duration": 6,
    "start_time": "2022-05-27T11:20:22.956Z"
   },
   {
    "duration": 76,
    "start_time": "2022-05-27T11:20:22.966Z"
   },
   {
    "duration": 1742,
    "start_time": "2022-05-27T11:20:23.044Z"
   },
   {
    "duration": 20,
    "start_time": "2022-05-27T11:20:24.798Z"
   },
   {
    "duration": 3064,
    "start_time": "2022-05-27T11:20:24.825Z"
   },
   {
    "duration": 218,
    "start_time": "2022-05-27T11:20:27.896Z"
   },
   {
    "duration": 61,
    "start_time": "2022-05-27T11:20:28.121Z"
   },
   {
    "duration": 125,
    "start_time": "2022-05-27T11:20:28.189Z"
   },
   {
    "duration": 55,
    "start_time": "2022-05-27T11:20:28.319Z"
   },
   {
    "duration": 58,
    "start_time": "2022-05-27T11:20:28.376Z"
   },
   {
    "duration": 43,
    "start_time": "2022-05-27T11:20:28.436Z"
   },
   {
    "duration": 68,
    "start_time": "2022-05-27T11:20:28.482Z"
   },
   {
    "duration": 102,
    "start_time": "2022-05-27T11:20:28.557Z"
   },
   {
    "duration": 57,
    "start_time": "2022-05-27T11:20:28.661Z"
   },
   {
    "duration": 621,
    "start_time": "2022-05-27T11:20:28.720Z"
   },
   {
    "duration": 6,
    "start_time": "2022-05-27T11:20:29.347Z"
   },
   {
    "duration": 139,
    "start_time": "2022-05-27T11:20:29.360Z"
   },
   {
    "duration": 38,
    "start_time": "2022-05-27T11:20:29.510Z"
   },
   {
    "duration": 102,
    "start_time": "2022-05-27T11:20:29.551Z"
   },
   {
    "duration": 75,
    "start_time": "2022-05-27T11:20:29.657Z"
   },
   {
    "duration": 12,
    "start_time": "2022-05-27T11:20:29.738Z"
   },
   {
    "duration": 525,
    "start_time": "2022-05-27T11:20:29.754Z"
   },
   {
    "duration": 248,
    "start_time": "2022-05-27T11:20:30.291Z"
   },
   {
    "duration": 0,
    "start_time": "2022-05-27T11:20:30.545Z"
   },
   {
    "duration": 362,
    "start_time": "2022-05-27T11:20:49.524Z"
   },
   {
    "duration": 21,
    "start_time": "2022-05-27T11:20:51.709Z"
   },
   {
    "duration": 1972,
    "start_time": "2022-05-27T11:21:18.577Z"
   },
   {
    "duration": 4,
    "start_time": "2022-05-27T11:21:20.553Z"
   },
   {
    "duration": 1209,
    "start_time": "2022-05-27T11:21:20.562Z"
   },
   {
    "duration": 10,
    "start_time": "2022-05-27T11:21:21.773Z"
   },
   {
    "duration": 73,
    "start_time": "2022-05-27T11:21:21.784Z"
   },
   {
    "duration": 84,
    "start_time": "2022-05-27T11:21:21.863Z"
   },
   {
    "duration": 41,
    "start_time": "2022-05-27T11:21:21.956Z"
   },
   {
    "duration": 51,
    "start_time": "2022-05-27T11:21:21.999Z"
   },
   {
    "duration": 109,
    "start_time": "2022-05-27T11:21:22.055Z"
   },
   {
    "duration": 6,
    "start_time": "2022-05-27T11:21:22.168Z"
   },
   {
    "duration": 164,
    "start_time": "2022-05-27T11:21:22.181Z"
   },
   {
    "duration": 104,
    "start_time": "2022-05-27T11:21:22.349Z"
   },
   {
    "duration": 155,
    "start_time": "2022-05-27T11:21:22.454Z"
   },
   {
    "duration": 126,
    "start_time": "2022-05-27T11:21:22.611Z"
   },
   {
    "duration": 70,
    "start_time": "2022-05-27T11:21:22.739Z"
   },
   {
    "duration": 156,
    "start_time": "2022-05-27T11:21:22.811Z"
   },
   {
    "duration": 74,
    "start_time": "2022-05-27T11:21:22.969Z"
   },
   {
    "duration": 89,
    "start_time": "2022-05-27T11:21:23.045Z"
   },
   {
    "duration": 9,
    "start_time": "2022-05-27T11:21:23.141Z"
   },
   {
    "duration": 92,
    "start_time": "2022-05-27T11:21:23.157Z"
   },
   {
    "duration": 85,
    "start_time": "2022-05-27T11:21:23.259Z"
   },
   {
    "duration": 83,
    "start_time": "2022-05-27T11:21:23.346Z"
   },
   {
    "duration": 102,
    "start_time": "2022-05-27T11:21:23.438Z"
   },
   {
    "duration": 37,
    "start_time": "2022-05-27T11:21:23.542Z"
   },
   {
    "duration": 88,
    "start_time": "2022-05-27T11:21:23.583Z"
   },
   {
    "duration": 75,
    "start_time": "2022-05-27T11:21:23.673Z"
   },
   {
    "duration": 88,
    "start_time": "2022-05-27T11:21:23.752Z"
   },
   {
    "duration": 3692,
    "start_time": "2022-05-27T11:21:23.844Z"
   },
   {
    "duration": 3,
    "start_time": "2022-05-27T11:21:27.539Z"
   },
   {
    "duration": 163,
    "start_time": "2022-05-27T11:21:27.544Z"
   },
   {
    "duration": 1518,
    "start_time": "2022-05-27T11:21:27.710Z"
   },
   {
    "duration": 12,
    "start_time": "2022-05-27T11:21:29.237Z"
   },
   {
    "duration": 4171,
    "start_time": "2022-05-27T11:21:29.262Z"
   },
   {
    "duration": 213,
    "start_time": "2022-05-27T11:21:33.437Z"
   },
   {
    "duration": 74,
    "start_time": "2022-05-27T11:21:33.663Z"
   },
   {
    "duration": 30,
    "start_time": "2022-05-27T11:21:33.739Z"
   },
   {
    "duration": 340,
    "start_time": "2022-05-27T11:21:33.784Z"
   },
   {
    "duration": 0,
    "start_time": "2022-05-27T11:21:34.134Z"
   },
   {
    "duration": 0,
    "start_time": "2022-05-27T11:21:34.137Z"
   },
   {
    "duration": 0,
    "start_time": "2022-05-27T11:21:34.139Z"
   },
   {
    "duration": 0,
    "start_time": "2022-05-27T11:21:34.140Z"
   },
   {
    "duration": 0,
    "start_time": "2022-05-27T11:21:34.141Z"
   },
   {
    "duration": 0,
    "start_time": "2022-05-27T11:21:34.141Z"
   },
   {
    "duration": 0,
    "start_time": "2022-05-27T11:21:34.142Z"
   },
   {
    "duration": 0,
    "start_time": "2022-05-27T11:21:34.145Z"
   },
   {
    "duration": 0,
    "start_time": "2022-05-27T11:21:34.146Z"
   },
   {
    "duration": 0,
    "start_time": "2022-05-27T11:21:34.146Z"
   },
   {
    "duration": 0,
    "start_time": "2022-05-27T11:21:34.147Z"
   },
   {
    "duration": 0,
    "start_time": "2022-05-27T11:21:34.147Z"
   },
   {
    "duration": 0,
    "start_time": "2022-05-27T11:21:34.149Z"
   },
   {
    "duration": 0,
    "start_time": "2022-05-27T11:21:34.150Z"
   },
   {
    "duration": 0,
    "start_time": "2022-05-27T11:21:34.155Z"
   },
   {
    "duration": 11,
    "start_time": "2022-05-27T11:22:24.578Z"
   },
   {
    "duration": 38,
    "start_time": "2022-05-27T11:23:36.249Z"
   },
   {
    "duration": 6,
    "start_time": "2022-05-27T11:24:12.643Z"
   },
   {
    "duration": 22,
    "start_time": "2022-05-27T11:24:48.193Z"
   },
   {
    "duration": 25,
    "start_time": "2022-05-27T11:26:03.336Z"
   },
   {
    "duration": 14,
    "start_time": "2022-05-27T11:26:11.823Z"
   },
   {
    "duration": 11,
    "start_time": "2022-05-27T11:27:37.548Z"
   },
   {
    "duration": 20,
    "start_time": "2022-05-27T11:27:43.998Z"
   },
   {
    "duration": 4,
    "start_time": "2022-05-27T11:28:20.013Z"
   },
   {
    "duration": 10,
    "start_time": "2022-05-27T11:28:22.148Z"
   },
   {
    "duration": 1834,
    "start_time": "2022-05-27T11:35:37.569Z"
   },
   {
    "duration": 9,
    "start_time": "2022-05-27T11:35:39.410Z"
   },
   {
    "duration": 1255,
    "start_time": "2022-05-27T11:35:39.421Z"
   },
   {
    "duration": 6,
    "start_time": "2022-05-27T11:35:40.681Z"
   },
   {
    "duration": 55,
    "start_time": "2022-05-27T11:35:40.694Z"
   },
   {
    "duration": 48,
    "start_time": "2022-05-27T11:35:40.754Z"
   },
   {
    "duration": 40,
    "start_time": "2022-05-27T11:35:40.804Z"
   },
   {
    "duration": 93,
    "start_time": "2022-05-27T11:35:40.846Z"
   },
   {
    "duration": 98,
    "start_time": "2022-05-27T11:35:40.940Z"
   },
   {
    "duration": 8,
    "start_time": "2022-05-27T11:35:41.040Z"
   },
   {
    "duration": 76,
    "start_time": "2022-05-27T11:35:41.049Z"
   },
   {
    "duration": 16,
    "start_time": "2022-05-27T11:35:41.129Z"
   },
   {
    "duration": 60,
    "start_time": "2022-05-27T11:35:41.147Z"
   },
   {
    "duration": 29,
    "start_time": "2022-05-27T11:35:41.221Z"
   },
   {
    "duration": 54,
    "start_time": "2022-05-27T11:35:41.256Z"
   },
   {
    "duration": 27,
    "start_time": "2022-05-27T11:35:41.312Z"
   },
   {
    "duration": 15,
    "start_time": "2022-05-27T11:35:41.342Z"
   },
   {
    "duration": 86,
    "start_time": "2022-05-27T11:35:41.359Z"
   },
   {
    "duration": 22,
    "start_time": "2022-05-27T11:35:41.447Z"
   },
   {
    "duration": 55,
    "start_time": "2022-05-27T11:35:41.474Z"
   },
   {
    "duration": 9,
    "start_time": "2022-05-27T11:35:41.531Z"
   },
   {
    "duration": 7,
    "start_time": "2022-05-27T11:35:41.542Z"
   },
   {
    "duration": 70,
    "start_time": "2022-05-27T11:35:41.554Z"
   },
   {
    "duration": 26,
    "start_time": "2022-05-27T11:35:41.626Z"
   },
   {
    "duration": 94,
    "start_time": "2022-05-27T11:35:41.653Z"
   },
   {
    "duration": 72,
    "start_time": "2022-05-27T11:35:41.750Z"
   },
   {
    "duration": 34,
    "start_time": "2022-05-27T11:35:41.824Z"
   },
   {
    "duration": 3565,
    "start_time": "2022-05-27T11:35:41.859Z"
   },
   {
    "duration": 5,
    "start_time": "2022-05-27T11:35:45.426Z"
   },
   {
    "duration": 132,
    "start_time": "2022-05-27T11:35:45.433Z"
   },
   {
    "duration": 1653,
    "start_time": "2022-05-27T11:35:45.567Z"
   },
   {
    "duration": 12,
    "start_time": "2022-05-27T11:35:47.225Z"
   },
   {
    "duration": 4199,
    "start_time": "2022-05-27T11:35:47.241Z"
   },
   {
    "duration": 229,
    "start_time": "2022-05-27T11:35:51.443Z"
   },
   {
    "duration": 65,
    "start_time": "2022-05-27T11:35:51.680Z"
   },
   {
    "duration": 96,
    "start_time": "2022-05-27T11:35:51.747Z"
   },
   {
    "duration": 77,
    "start_time": "2022-05-27T11:35:51.845Z"
   },
   {
    "duration": 372,
    "start_time": "2022-05-27T11:35:51.924Z"
   },
   {
    "duration": 1,
    "start_time": "2022-05-27T11:35:52.298Z"
   },
   {
    "duration": 0,
    "start_time": "2022-05-27T11:35:52.300Z"
   },
   {
    "duration": 0,
    "start_time": "2022-05-27T11:35:52.301Z"
   },
   {
    "duration": 0,
    "start_time": "2022-05-27T11:35:52.302Z"
   },
   {
    "duration": 0,
    "start_time": "2022-05-27T11:35:52.310Z"
   },
   {
    "duration": 0,
    "start_time": "2022-05-27T11:35:52.314Z"
   },
   {
    "duration": 0,
    "start_time": "2022-05-27T11:35:52.315Z"
   },
   {
    "duration": 0,
    "start_time": "2022-05-27T11:35:52.326Z"
   },
   {
    "duration": 0,
    "start_time": "2022-05-27T11:35:52.334Z"
   },
   {
    "duration": 0,
    "start_time": "2022-05-27T11:35:52.342Z"
   },
   {
    "duration": 0,
    "start_time": "2022-05-27T11:35:52.347Z"
   },
   {
    "duration": 0,
    "start_time": "2022-05-27T11:35:52.354Z"
   },
   {
    "duration": 0,
    "start_time": "2022-05-27T11:35:52.362Z"
   },
   {
    "duration": 0,
    "start_time": "2022-05-27T11:35:52.370Z"
   },
   {
    "duration": 0,
    "start_time": "2022-05-27T11:35:52.378Z"
   },
   {
    "duration": 35,
    "start_time": "2022-05-27T11:37:14.115Z"
   },
   {
    "duration": 14,
    "start_time": "2022-05-27T11:37:18.138Z"
   },
   {
    "duration": 22,
    "start_time": "2022-05-27T11:37:47.956Z"
   },
   {
    "duration": 22,
    "start_time": "2022-05-27T11:37:48.425Z"
   },
   {
    "duration": 1705,
    "start_time": "2022-05-27T11:38:19.110Z"
   },
   {
    "duration": 12,
    "start_time": "2022-05-27T11:38:20.818Z"
   },
   {
    "duration": 1104,
    "start_time": "2022-05-27T11:38:20.835Z"
   },
   {
    "duration": 3,
    "start_time": "2022-05-27T11:38:21.947Z"
   },
   {
    "duration": 70,
    "start_time": "2022-05-27T11:38:21.963Z"
   },
   {
    "duration": 5,
    "start_time": "2022-05-27T11:38:22.036Z"
   },
   {
    "duration": 16,
    "start_time": "2022-05-27T11:38:22.043Z"
   },
   {
    "duration": 73,
    "start_time": "2022-05-27T11:38:22.061Z"
   },
   {
    "duration": 7,
    "start_time": "2022-05-27T11:38:22.136Z"
   },
   {
    "duration": 13,
    "start_time": "2022-05-27T11:38:22.145Z"
   },
   {
    "duration": 82,
    "start_time": "2022-05-27T11:38:22.161Z"
   },
   {
    "duration": 7,
    "start_time": "2022-05-27T11:38:22.245Z"
   },
   {
    "duration": 71,
    "start_time": "2022-05-27T11:38:22.254Z"
   },
   {
    "duration": 16,
    "start_time": "2022-05-27T11:38:22.328Z"
   },
   {
    "duration": 16,
    "start_time": "2022-05-27T11:38:22.346Z"
   },
   {
    "duration": 60,
    "start_time": "2022-05-27T11:38:22.363Z"
   },
   {
    "duration": 16,
    "start_time": "2022-05-27T11:38:22.425Z"
   },
   {
    "duration": 8,
    "start_time": "2022-05-27T11:38:22.443Z"
   },
   {
    "duration": 121,
    "start_time": "2022-05-27T11:38:22.453Z"
   },
   {
    "duration": 65,
    "start_time": "2022-05-27T11:38:22.579Z"
   },
   {
    "duration": 80,
    "start_time": "2022-05-27T11:38:22.646Z"
   },
   {
    "duration": 126,
    "start_time": "2022-05-27T11:38:22.730Z"
   },
   {
    "duration": 64,
    "start_time": "2022-05-27T11:38:22.858Z"
   },
   {
    "duration": 24,
    "start_time": "2022-05-27T11:38:22.925Z"
   },
   {
    "duration": 79,
    "start_time": "2022-05-27T11:38:22.951Z"
   },
   {
    "duration": 3,
    "start_time": "2022-05-27T11:38:23.034Z"
   },
   {
    "duration": 6,
    "start_time": "2022-05-27T11:38:23.039Z"
   },
   {
    "duration": 3289,
    "start_time": "2022-05-27T11:38:23.047Z"
   },
   {
    "duration": 2,
    "start_time": "2022-05-27T11:38:26.342Z"
   },
   {
    "duration": 159,
    "start_time": "2022-05-27T11:38:26.354Z"
   },
   {
    "duration": 1557,
    "start_time": "2022-05-27T11:38:26.515Z"
   },
   {
    "duration": 16,
    "start_time": "2022-05-27T11:38:28.074Z"
   },
   {
    "duration": 2893,
    "start_time": "2022-05-27T11:38:28.092Z"
   },
   {
    "duration": 165,
    "start_time": "2022-05-27T11:38:30.992Z"
   },
   {
    "duration": 35,
    "start_time": "2022-05-27T11:38:31.163Z"
   },
   {
    "duration": 26,
    "start_time": "2022-05-27T11:38:31.204Z"
   },
   {
    "duration": 65,
    "start_time": "2022-05-27T11:38:31.234Z"
   },
   {
    "duration": 45,
    "start_time": "2022-05-27T11:38:31.301Z"
   },
   {
    "duration": 86,
    "start_time": "2022-05-27T11:38:31.348Z"
   },
   {
    "duration": 103,
    "start_time": "2022-05-27T11:38:31.436Z"
   },
   {
    "duration": 27,
    "start_time": "2022-05-27T11:38:31.543Z"
   },
   {
    "duration": 52,
    "start_time": "2022-05-27T11:38:31.578Z"
   },
   {
    "duration": 31,
    "start_time": "2022-05-27T11:38:31.633Z"
   },
   {
    "duration": 66,
    "start_time": "2022-05-27T11:38:31.666Z"
   },
   {
    "duration": 541,
    "start_time": "2022-05-27T11:38:31.734Z"
   },
   {
    "duration": 7,
    "start_time": "2022-05-27T11:38:32.278Z"
   },
   {
    "duration": 267,
    "start_time": "2022-05-27T11:38:32.287Z"
   },
   {
    "duration": 0,
    "start_time": "2022-05-27T11:38:32.558Z"
   },
   {
    "duration": 0,
    "start_time": "2022-05-27T11:38:32.559Z"
   },
   {
    "duration": 0,
    "start_time": "2022-05-27T11:38:32.560Z"
   },
   {
    "duration": 0,
    "start_time": "2022-05-27T11:38:32.560Z"
   },
   {
    "duration": 0,
    "start_time": "2022-05-27T11:38:32.562Z"
   },
   {
    "duration": 0,
    "start_time": "2022-05-27T11:38:32.563Z"
   },
   {
    "duration": 0,
    "start_time": "2022-05-27T11:38:32.564Z"
   },
   {
    "duration": 1705,
    "start_time": "2022-05-27T11:39:41.829Z"
   },
   {
    "duration": 3,
    "start_time": "2022-05-27T11:39:43.537Z"
   },
   {
    "duration": 1106,
    "start_time": "2022-05-27T11:39:43.545Z"
   },
   {
    "duration": 3,
    "start_time": "2022-05-27T11:39:44.663Z"
   },
   {
    "duration": 70,
    "start_time": "2022-05-27T11:39:44.668Z"
   },
   {
    "duration": 10,
    "start_time": "2022-05-27T11:39:44.740Z"
   },
   {
    "duration": 63,
    "start_time": "2022-05-27T11:39:44.757Z"
   },
   {
    "duration": 13,
    "start_time": "2022-05-27T11:39:44.822Z"
   },
   {
    "duration": 19,
    "start_time": "2022-05-27T11:39:44.837Z"
   },
   {
    "duration": 61,
    "start_time": "2022-05-27T11:39:44.858Z"
   },
   {
    "duration": 14,
    "start_time": "2022-05-27T11:39:44.921Z"
   },
   {
    "duration": 10,
    "start_time": "2022-05-27T11:39:44.937Z"
   },
   {
    "duration": 45,
    "start_time": "2022-05-27T11:39:44.948Z"
   },
   {
    "duration": 63,
    "start_time": "2022-05-27T11:39:44.997Z"
   },
   {
    "duration": 76,
    "start_time": "2022-05-27T11:39:45.067Z"
   },
   {
    "duration": 3,
    "start_time": "2022-05-27T11:39:45.146Z"
   },
   {
    "duration": 85,
    "start_time": "2022-05-27T11:39:45.151Z"
   },
   {
    "duration": 8,
    "start_time": "2022-05-27T11:39:45.238Z"
   },
   {
    "duration": 91,
    "start_time": "2022-05-27T11:39:45.248Z"
   },
   {
    "duration": 149,
    "start_time": "2022-05-27T11:39:45.342Z"
   },
   {
    "duration": 66,
    "start_time": "2022-05-27T11:39:45.493Z"
   },
   {
    "duration": 110,
    "start_time": "2022-05-27T11:39:45.564Z"
   },
   {
    "duration": 35,
    "start_time": "2022-05-27T11:39:45.677Z"
   },
   {
    "duration": 106,
    "start_time": "2022-05-27T11:39:45.714Z"
   },
   {
    "duration": 58,
    "start_time": "2022-05-27T11:39:45.822Z"
   },
   {
    "duration": 149,
    "start_time": "2022-05-27T11:39:45.881Z"
   },
   {
    "duration": 22,
    "start_time": "2022-05-27T11:39:46.035Z"
   },
   {
    "duration": 3388,
    "start_time": "2022-05-27T11:39:46.060Z"
   },
   {
    "duration": 14,
    "start_time": "2022-05-27T11:39:49.450Z"
   },
   {
    "duration": 78,
    "start_time": "2022-05-27T11:39:49.466Z"
   },
   {
    "duration": 1398,
    "start_time": "2022-05-27T11:39:49.546Z"
   },
   {
    "duration": 11,
    "start_time": "2022-05-27T11:39:50.947Z"
   },
   {
    "duration": 3109,
    "start_time": "2022-05-27T11:39:50.965Z"
   },
   {
    "duration": 174,
    "start_time": "2022-05-27T11:39:54.078Z"
   },
   {
    "duration": 43,
    "start_time": "2022-05-27T11:39:54.254Z"
   },
   {
    "duration": 101,
    "start_time": "2022-05-27T11:39:54.305Z"
   },
   {
    "duration": 112,
    "start_time": "2022-05-27T11:39:54.409Z"
   },
   {
    "duration": 148,
    "start_time": "2022-05-27T11:39:54.528Z"
   },
   {
    "duration": 85,
    "start_time": "2022-05-27T11:39:54.680Z"
   },
   {
    "duration": 61,
    "start_time": "2022-05-27T11:39:54.772Z"
   },
   {
    "duration": 100,
    "start_time": "2022-05-27T11:39:54.840Z"
   },
   {
    "duration": 90,
    "start_time": "2022-05-27T11:39:54.944Z"
   },
   {
    "duration": 97,
    "start_time": "2022-05-27T11:39:55.044Z"
   },
   {
    "duration": 78,
    "start_time": "2022-05-27T11:39:55.149Z"
   },
   {
    "duration": 562,
    "start_time": "2022-05-27T11:39:55.228Z"
   },
   {
    "duration": 6,
    "start_time": "2022-05-27T11:39:55.799Z"
   },
   {
    "duration": 356,
    "start_time": "2022-05-27T11:39:55.817Z"
   },
   {
    "duration": 0,
    "start_time": "2022-05-27T11:39:56.175Z"
   },
   {
    "duration": 0,
    "start_time": "2022-05-27T11:39:56.177Z"
   },
   {
    "duration": 0,
    "start_time": "2022-05-27T11:39:56.178Z"
   },
   {
    "duration": 0,
    "start_time": "2022-05-27T11:39:56.179Z"
   },
   {
    "duration": 0,
    "start_time": "2022-05-27T11:39:56.180Z"
   },
   {
    "duration": 0,
    "start_time": "2022-05-27T11:39:56.182Z"
   },
   {
    "duration": 0,
    "start_time": "2022-05-27T11:39:56.183Z"
   },
   {
    "duration": 23,
    "start_time": "2022-05-27T11:41:22.867Z"
   },
   {
    "duration": 1715,
    "start_time": "2022-05-27T11:41:36.817Z"
   },
   {
    "duration": 4,
    "start_time": "2022-05-27T11:41:38.540Z"
   },
   {
    "duration": 1180,
    "start_time": "2022-05-27T11:41:38.548Z"
   },
   {
    "duration": 7,
    "start_time": "2022-05-27T11:41:39.731Z"
   },
   {
    "duration": 78,
    "start_time": "2022-05-27T11:41:39.741Z"
   },
   {
    "duration": 20,
    "start_time": "2022-05-27T11:41:39.822Z"
   },
   {
    "duration": 14,
    "start_time": "2022-05-27T11:41:39.844Z"
   },
   {
    "duration": 73,
    "start_time": "2022-05-27T11:41:39.860Z"
   },
   {
    "duration": 7,
    "start_time": "2022-05-27T11:41:39.935Z"
   },
   {
    "duration": 5,
    "start_time": "2022-05-27T11:41:39.944Z"
   },
   {
    "duration": 74,
    "start_time": "2022-05-27T11:41:39.951Z"
   },
   {
    "duration": 17,
    "start_time": "2022-05-27T11:41:40.028Z"
   },
   {
    "duration": 76,
    "start_time": "2022-05-27T11:41:40.047Z"
   },
   {
    "duration": 68,
    "start_time": "2022-05-27T11:41:40.134Z"
   },
   {
    "duration": 127,
    "start_time": "2022-05-27T11:41:40.204Z"
   },
   {
    "duration": 86,
    "start_time": "2022-05-27T11:41:40.333Z"
   },
   {
    "duration": 20,
    "start_time": "2022-05-27T11:41:40.422Z"
   },
   {
    "duration": 22,
    "start_time": "2022-05-27T11:41:40.444Z"
   },
   {
    "duration": 72,
    "start_time": "2022-05-27T11:41:40.472Z"
   },
   {
    "duration": 60,
    "start_time": "2022-05-27T11:41:40.546Z"
   },
   {
    "duration": 36,
    "start_time": "2022-05-27T11:41:40.608Z"
   },
   {
    "duration": 104,
    "start_time": "2022-05-27T11:41:40.646Z"
   },
   {
    "duration": 91,
    "start_time": "2022-05-27T11:41:40.754Z"
   },
   {
    "duration": 9,
    "start_time": "2022-05-27T11:41:40.847Z"
   },
   {
    "duration": 87,
    "start_time": "2022-05-27T11:41:40.858Z"
   },
   {
    "duration": 57,
    "start_time": "2022-05-27T11:41:40.947Z"
   },
   {
    "duration": 27,
    "start_time": "2022-05-27T11:41:41.015Z"
   },
   {
    "duration": 3564,
    "start_time": "2022-05-27T11:41:41.045Z"
   },
   {
    "duration": 6,
    "start_time": "2022-05-27T11:41:44.619Z"
   },
   {
    "duration": 101,
    "start_time": "2022-05-27T11:41:44.633Z"
   },
   {
    "duration": 1514,
    "start_time": "2022-05-27T11:41:44.736Z"
   },
   {
    "duration": 6,
    "start_time": "2022-05-27T11:41:46.252Z"
   },
   {
    "duration": 3897,
    "start_time": "2022-05-27T11:41:46.259Z"
   },
   {
    "duration": 260,
    "start_time": "2022-05-27T11:41:50.159Z"
   },
   {
    "duration": 53,
    "start_time": "2022-05-27T11:41:50.421Z"
   },
   {
    "duration": 67,
    "start_time": "2022-05-27T11:41:50.477Z"
   },
   {
    "duration": 45,
    "start_time": "2022-05-27T11:41:50.546Z"
   },
   {
    "duration": 54,
    "start_time": "2022-05-27T11:41:50.593Z"
   },
   {
    "duration": 26,
    "start_time": "2022-05-27T11:41:50.649Z"
   },
   {
    "duration": 43,
    "start_time": "2022-05-27T11:41:50.684Z"
   },
   {
    "duration": 89,
    "start_time": "2022-05-27T11:41:50.738Z"
   },
   {
    "duration": 17,
    "start_time": "2022-05-27T11:41:50.830Z"
   },
   {
    "duration": 109,
    "start_time": "2022-05-27T11:41:50.849Z"
   },
   {
    "duration": 90,
    "start_time": "2022-05-27T11:41:50.960Z"
   },
   {
    "duration": 643,
    "start_time": "2022-05-27T11:41:51.053Z"
   },
   {
    "duration": 3,
    "start_time": "2022-05-27T11:41:51.699Z"
   },
   {
    "duration": 266,
    "start_time": "2022-05-27T11:41:51.704Z"
   },
   {
    "duration": 0,
    "start_time": "2022-05-27T11:41:51.972Z"
   },
   {
    "duration": 0,
    "start_time": "2022-05-27T11:41:51.973Z"
   },
   {
    "duration": 0,
    "start_time": "2022-05-27T11:41:51.974Z"
   },
   {
    "duration": 0,
    "start_time": "2022-05-27T11:41:51.983Z"
   },
   {
    "duration": 0,
    "start_time": "2022-05-27T11:41:51.984Z"
   },
   {
    "duration": 0,
    "start_time": "2022-05-27T11:41:51.987Z"
   },
   {
    "duration": 0,
    "start_time": "2022-05-27T11:41:51.989Z"
   },
   {
    "duration": 38,
    "start_time": "2022-05-27T11:42:57.080Z"
   },
   {
    "duration": 6,
    "start_time": "2022-05-27T11:46:54.515Z"
   },
   {
    "duration": 4,
    "start_time": "2022-05-27T11:48:55.428Z"
   },
   {
    "duration": 19,
    "start_time": "2022-05-27T11:48:58.450Z"
   },
   {
    "duration": 7,
    "start_time": "2022-05-27T11:48:59.035Z"
   },
   {
    "duration": 1689,
    "start_time": "2022-05-27T11:50:38.340Z"
   },
   {
    "duration": 3,
    "start_time": "2022-05-27T11:50:40.031Z"
   },
   {
    "duration": 1147,
    "start_time": "2022-05-27T11:50:40.041Z"
   },
   {
    "duration": 16,
    "start_time": "2022-05-27T11:50:41.198Z"
   },
   {
    "duration": 13,
    "start_time": "2022-05-27T11:50:41.222Z"
   },
   {
    "duration": 8,
    "start_time": "2022-05-27T11:50:41.237Z"
   },
   {
    "duration": 21,
    "start_time": "2022-05-27T11:50:41.247Z"
   },
   {
    "duration": 60,
    "start_time": "2022-05-27T11:50:41.271Z"
   },
   {
    "duration": 14,
    "start_time": "2022-05-27T11:50:41.332Z"
   },
   {
    "duration": 9,
    "start_time": "2022-05-27T11:50:41.348Z"
   },
   {
    "duration": 75,
    "start_time": "2022-05-27T11:50:41.359Z"
   },
   {
    "duration": 10,
    "start_time": "2022-05-27T11:50:41.436Z"
   },
   {
    "duration": 88,
    "start_time": "2022-05-27T11:50:41.448Z"
   },
   {
    "duration": 14,
    "start_time": "2022-05-27T11:50:41.540Z"
   },
   {
    "duration": 22,
    "start_time": "2022-05-27T11:50:41.556Z"
   },
   {
    "duration": 47,
    "start_time": "2022-05-27T11:50:41.583Z"
   },
   {
    "duration": 14,
    "start_time": "2022-05-27T11:50:41.632Z"
   },
   {
    "duration": 87,
    "start_time": "2022-05-27T11:50:41.648Z"
   },
   {
    "duration": 6,
    "start_time": "2022-05-27T11:50:41.737Z"
   },
   {
    "duration": 9,
    "start_time": "2022-05-27T11:50:41.745Z"
   },
   {
    "duration": 78,
    "start_time": "2022-05-27T11:50:41.756Z"
   },
   {
    "duration": 8,
    "start_time": "2022-05-27T11:50:41.836Z"
   },
   {
    "duration": 16,
    "start_time": "2022-05-27T11:50:41.845Z"
   },
   {
    "duration": 70,
    "start_time": "2022-05-27T11:50:41.862Z"
   },
   {
    "duration": 9,
    "start_time": "2022-05-27T11:50:41.934Z"
   },
   {
    "duration": 8,
    "start_time": "2022-05-27T11:50:41.945Z"
   },
   {
    "duration": 71,
    "start_time": "2022-05-27T11:50:41.955Z"
   },
   {
    "duration": 3492,
    "start_time": "2022-05-27T11:50:42.028Z"
   },
   {
    "duration": 3,
    "start_time": "2022-05-27T11:50:45.522Z"
   },
   {
    "duration": 129,
    "start_time": "2022-05-27T11:50:45.527Z"
   },
   {
    "duration": 1550,
    "start_time": "2022-05-27T11:50:45.658Z"
   },
   {
    "duration": 6,
    "start_time": "2022-05-27T11:50:47.210Z"
   },
   {
    "duration": 2825,
    "start_time": "2022-05-27T11:50:47.219Z"
   },
   {
    "duration": 188,
    "start_time": "2022-05-27T11:50:50.045Z"
   },
   {
    "duration": 39,
    "start_time": "2022-05-27T11:50:50.235Z"
   },
   {
    "duration": 11,
    "start_time": "2022-05-27T11:50:50.276Z"
   },
   {
    "duration": 46,
    "start_time": "2022-05-27T11:50:50.289Z"
   },
   {
    "duration": 17,
    "start_time": "2022-05-27T11:50:50.337Z"
   },
   {
    "duration": 13,
    "start_time": "2022-05-27T11:50:50.359Z"
   },
   {
    "duration": 88,
    "start_time": "2022-05-27T11:50:50.375Z"
   },
   {
    "duration": 12,
    "start_time": "2022-05-27T11:50:50.468Z"
   },
   {
    "duration": 63,
    "start_time": "2022-05-27T11:50:50.482Z"
   },
   {
    "duration": 3,
    "start_time": "2022-05-27T11:50:50.546Z"
   },
   {
    "duration": 80,
    "start_time": "2022-05-27T11:50:50.551Z"
   },
   {
    "duration": 489,
    "start_time": "2022-05-27T11:50:50.633Z"
   },
   {
    "duration": 7,
    "start_time": "2022-05-27T11:50:51.128Z"
   },
   {
    "duration": 227,
    "start_time": "2022-05-27T11:50:51.141Z"
   },
   {
    "duration": 0,
    "start_time": "2022-05-27T11:50:51.370Z"
   },
   {
    "duration": 0,
    "start_time": "2022-05-27T11:50:51.371Z"
   },
   {
    "duration": 0,
    "start_time": "2022-05-27T11:50:51.373Z"
   },
   {
    "duration": 0,
    "start_time": "2022-05-27T11:50:51.374Z"
   },
   {
    "duration": 0,
    "start_time": "2022-05-27T11:50:51.376Z"
   },
   {
    "duration": 0,
    "start_time": "2022-05-27T11:50:51.377Z"
   },
   {
    "duration": 0,
    "start_time": "2022-05-27T11:50:51.378Z"
   },
   {
    "duration": 3,
    "start_time": "2022-05-27T11:51:09.396Z"
   },
   {
    "duration": 6,
    "start_time": "2022-05-27T11:51:09.808Z"
   },
   {
    "duration": 7,
    "start_time": "2022-05-27T11:53:01.929Z"
   },
   {
    "duration": 4,
    "start_time": "2022-05-27T12:32:34.043Z"
   },
   {
    "duration": 83,
    "start_time": "2022-05-27T12:33:32.167Z"
   },
   {
    "duration": 60,
    "start_time": "2022-05-27T12:33:38.487Z"
   },
   {
    "duration": 690,
    "start_time": "2022-05-27T12:33:56.166Z"
   },
   {
    "duration": 1409,
    "start_time": "2022-05-27T12:34:18.316Z"
   },
   {
    "duration": 79,
    "start_time": "2022-05-27T12:34:27.569Z"
   },
   {
    "duration": 61,
    "start_time": "2022-05-27T12:34:45.883Z"
   },
   {
    "duration": 150,
    "start_time": "2022-05-27T12:35:40.835Z"
   },
   {
    "duration": 30,
    "start_time": "2022-05-27T12:42:15.751Z"
   },
   {
    "duration": 36,
    "start_time": "2022-05-27T12:42:22.450Z"
   },
   {
    "duration": 20,
    "start_time": "2022-05-27T12:44:58.500Z"
   },
   {
    "duration": 19,
    "start_time": "2022-05-27T12:45:37.684Z"
   },
   {
    "duration": 14,
    "start_time": "2022-05-27T12:46:46.615Z"
   },
   {
    "duration": 166,
    "start_time": "2022-05-27T12:46:46.639Z"
   },
   {
    "duration": 3977,
    "start_time": "2022-05-27T12:46:46.806Z"
   },
   {
    "duration": 3,
    "start_time": "2022-05-27T12:46:50.785Z"
   },
   {
    "duration": 36,
    "start_time": "2022-05-27T12:46:50.792Z"
   },
   {
    "duration": 64,
    "start_time": "2022-05-27T12:46:50.830Z"
   },
   {
    "duration": 93,
    "start_time": "2022-05-27T12:46:50.897Z"
   },
   {
    "duration": 181,
    "start_time": "2022-05-27T12:46:50.993Z"
   },
   {
    "duration": 110,
    "start_time": "2022-05-27T12:46:51.183Z"
   },
   {
    "duration": 95,
    "start_time": "2022-05-27T12:46:51.300Z"
   },
   {
    "duration": 114,
    "start_time": "2022-05-27T12:46:51.397Z"
   },
   {
    "duration": 137,
    "start_time": "2022-05-27T12:46:51.512Z"
   },
   {
    "duration": 122,
    "start_time": "2022-05-27T12:46:51.650Z"
   },
   {
    "duration": 206,
    "start_time": "2022-05-27T12:46:51.775Z"
   },
   {
    "duration": 139,
    "start_time": "2022-05-27T12:46:51.983Z"
   },
   {
    "duration": 183,
    "start_time": "2022-05-27T12:46:52.124Z"
   },
   {
    "duration": 126,
    "start_time": "2022-05-27T12:46:52.310Z"
   },
   {
    "duration": 94,
    "start_time": "2022-05-27T12:46:52.438Z"
   },
   {
    "duration": 114,
    "start_time": "2022-05-27T12:46:52.533Z"
   },
   {
    "duration": 167,
    "start_time": "2022-05-27T12:46:52.649Z"
   },
   {
    "duration": 129,
    "start_time": "2022-05-27T12:46:52.817Z"
   },
   {
    "duration": 177,
    "start_time": "2022-05-27T12:46:52.951Z"
   },
   {
    "duration": 136,
    "start_time": "2022-05-27T12:46:53.129Z"
   },
   {
    "duration": 186,
    "start_time": "2022-05-27T12:46:53.266Z"
   },
   {
    "duration": 179,
    "start_time": "2022-05-27T12:46:53.454Z"
   },
   {
    "duration": 109,
    "start_time": "2022-05-27T12:46:53.634Z"
   },
   {
    "duration": 175,
    "start_time": "2022-05-27T12:46:53.744Z"
   },
   {
    "duration": 4721,
    "start_time": "2022-05-27T12:46:53.921Z"
   },
   {
    "duration": 4,
    "start_time": "2022-05-27T12:46:58.644Z"
   },
   {
    "duration": 164,
    "start_time": "2022-05-27T12:46:58.660Z"
   },
   {
    "duration": 2090,
    "start_time": "2022-05-27T12:46:58.826Z"
   },
   {
    "duration": 9,
    "start_time": "2022-05-27T12:47:00.934Z"
   },
   {
    "duration": 4770,
    "start_time": "2022-05-27T12:47:00.957Z"
   },
   {
    "duration": 210,
    "start_time": "2022-05-27T12:47:05.736Z"
   },
   {
    "duration": 47,
    "start_time": "2022-05-27T12:47:05.955Z"
   },
   {
    "duration": 61,
    "start_time": "2022-05-27T12:47:10.445Z"
   },
   {
    "duration": 13,
    "start_time": "2022-05-27T12:47:26.848Z"
   },
   {
    "duration": 6,
    "start_time": "2022-05-27T12:49:38.125Z"
   },
   {
    "duration": 8,
    "start_time": "2022-05-27T12:49:38.134Z"
   },
   {
    "duration": 1014,
    "start_time": "2022-05-27T12:49:38.144Z"
   },
   {
    "duration": 5,
    "start_time": "2022-05-27T12:49:39.161Z"
   },
   {
    "duration": 64,
    "start_time": "2022-05-27T12:49:39.168Z"
   },
   {
    "duration": 6,
    "start_time": "2022-05-27T12:49:39.234Z"
   },
   {
    "duration": 16,
    "start_time": "2022-05-27T12:49:39.242Z"
   },
   {
    "duration": 67,
    "start_time": "2022-05-27T12:49:39.261Z"
   },
   {
    "duration": 10,
    "start_time": "2022-05-27T12:49:39.330Z"
   },
   {
    "duration": 6,
    "start_time": "2022-05-27T12:49:39.343Z"
   },
   {
    "duration": 78,
    "start_time": "2022-05-27T12:49:39.351Z"
   },
   {
    "duration": 7,
    "start_time": "2022-05-27T12:49:39.431Z"
   },
   {
    "duration": 11,
    "start_time": "2022-05-27T12:49:39.439Z"
   },
   {
    "duration": 75,
    "start_time": "2022-05-27T12:49:39.451Z"
   },
   {
    "duration": 10,
    "start_time": "2022-05-27T12:49:39.528Z"
   },
   {
    "duration": 6,
    "start_time": "2022-05-27T12:49:39.540Z"
   },
   {
    "duration": 33,
    "start_time": "2022-05-27T12:49:39.548Z"
   },
   {
    "duration": 57,
    "start_time": "2022-05-27T12:49:39.583Z"
   },
   {
    "duration": 5,
    "start_time": "2022-05-27T12:49:39.642Z"
   },
   {
    "duration": 72,
    "start_time": "2022-05-27T12:49:39.649Z"
   },
   {
    "duration": 18,
    "start_time": "2022-05-27T12:49:39.722Z"
   },
   {
    "duration": 39,
    "start_time": "2022-05-27T12:49:39.742Z"
   },
   {
    "duration": 47,
    "start_time": "2022-05-27T12:49:39.783Z"
   },
   {
    "duration": 9,
    "start_time": "2022-05-27T12:49:39.831Z"
   },
   {
    "duration": 15,
    "start_time": "2022-05-27T12:49:39.842Z"
   },
   {
    "duration": 62,
    "start_time": "2022-05-27T12:49:39.859Z"
   },
   {
    "duration": 4,
    "start_time": "2022-05-27T12:49:39.923Z"
   },
   {
    "duration": 3396,
    "start_time": "2022-05-27T12:49:39.931Z"
   },
   {
    "duration": 3,
    "start_time": "2022-05-27T12:49:43.329Z"
   },
   {
    "duration": 60,
    "start_time": "2022-05-27T12:49:43.334Z"
   },
   {
    "duration": 1643,
    "start_time": "2022-05-27T12:49:43.396Z"
   },
   {
    "duration": 4,
    "start_time": "2022-05-27T12:49:45.041Z"
   },
   {
    "duration": 3352,
    "start_time": "2022-05-27T12:49:45.047Z"
   },
   {
    "duration": 149,
    "start_time": "2022-05-27T12:49:48.408Z"
   },
   {
    "duration": 46,
    "start_time": "2022-05-27T12:49:48.558Z"
   },
   {
    "duration": 33,
    "start_time": "2022-05-27T12:49:48.606Z"
   },
   {
    "duration": 14,
    "start_time": "2022-05-27T12:49:48.642Z"
   },
   {
    "duration": 62,
    "start_time": "2022-05-27T12:49:48.658Z"
   },
   {
    "duration": 22,
    "start_time": "2022-05-27T12:49:48.721Z"
   },
   {
    "duration": 24,
    "start_time": "2022-05-27T12:49:48.746Z"
   },
   {
    "duration": 87,
    "start_time": "2022-05-27T12:49:48.774Z"
   },
   {
    "duration": 74,
    "start_time": "2022-05-27T12:49:48.871Z"
   },
   {
    "duration": 4,
    "start_time": "2022-05-27T12:49:48.947Z"
   },
   {
    "duration": 70,
    "start_time": "2022-05-27T12:49:48.958Z"
   },
   {
    "duration": 6,
    "start_time": "2022-05-27T12:49:49.030Z"
   },
   {
    "duration": 17,
    "start_time": "2022-05-27T12:49:55.850Z"
   },
   {
    "duration": 26,
    "start_time": "2022-05-27T12:51:14.040Z"
   },
   {
    "duration": 7,
    "start_time": "2022-05-27T12:51:23.643Z"
   },
   {
    "duration": 37,
    "start_time": "2022-05-27T12:51:48.583Z"
   },
   {
    "duration": 6,
    "start_time": "2022-05-27T12:51:53.279Z"
   },
   {
    "duration": 31,
    "start_time": "2022-05-27T12:51:59.843Z"
   },
   {
    "duration": 14,
    "start_time": "2022-05-27T12:52:12.652Z"
   },
   {
    "duration": 28,
    "start_time": "2022-05-27T12:59:18.619Z"
   },
   {
    "duration": 9,
    "start_time": "2022-05-27T13:00:48.371Z"
   },
   {
    "duration": 8,
    "start_time": "2022-05-27T13:01:10.476Z"
   },
   {
    "duration": 44,
    "start_time": "2022-05-27T13:02:24.394Z"
   },
   {
    "duration": 7,
    "start_time": "2022-05-27T13:02:27.891Z"
   },
   {
    "duration": 14,
    "start_time": "2022-05-27T13:02:28.114Z"
   },
   {
    "duration": 1024,
    "start_time": "2022-05-27T13:03:31.505Z"
   },
   {
    "duration": 698,
    "start_time": "2022-05-27T13:03:45.245Z"
   },
   {
    "duration": 755,
    "start_time": "2022-05-27T13:12:01.823Z"
   },
   {
    "duration": 413763,
    "start_time": "2022-05-27T13:14:06.606Z"
   },
   {
    "duration": 19,
    "start_time": "2022-05-27T13:28:23.609Z"
   },
   {
    "duration": 18,
    "start_time": "2022-05-27T13:28:41.155Z"
   },
   {
    "duration": 23,
    "start_time": "2022-05-27T13:32:33.718Z"
   },
   {
    "duration": 3,
    "start_time": "2022-05-27T13:32:34.196Z"
   },
   {
    "duration": 5,
    "start_time": "2022-05-27T13:32:34.645Z"
   },
   {
    "duration": 8,
    "start_time": "2022-05-27T13:32:38.092Z"
   },
   {
    "duration": 10,
    "start_time": "2022-05-27T13:32:38.372Z"
   },
   {
    "duration": 2,
    "start_time": "2022-05-27T13:32:38.636Z"
   },
   {
    "duration": 3,
    "start_time": "2022-05-27T13:32:39.003Z"
   },
   {
    "duration": 1139,
    "start_time": "2022-05-27T13:32:42.378Z"
   },
   {
    "duration": 543,
    "start_time": "2022-05-27T13:33:09.119Z"
   },
   {
    "duration": 11,
    "start_time": "2022-05-27T13:33:18.811Z"
   },
   {
    "duration": 13196,
    "start_time": "2022-05-27T13:33:30.084Z"
   },
   {
    "duration": 19124,
    "start_time": "2022-05-27T13:33:52.308Z"
   },
   {
    "duration": 290039,
    "start_time": "2022-05-27T13:34:13.501Z"
   },
   {
    "duration": 861518,
    "start_time": "2022-05-27T13:43:56.450Z"
   },
   {
    "duration": 26,
    "start_time": "2022-05-27T13:58:41.252Z"
   },
   {
    "duration": 9,
    "start_time": "2022-05-27T13:58:47.761Z"
   },
   {
    "duration": 4,
    "start_time": "2022-05-27T13:58:48.105Z"
   },
   {
    "duration": 1180,
    "start_time": "2022-05-27T13:58:51.482Z"
   },
   {
    "duration": 1177,
    "start_time": "2022-05-27T13:58:58.627Z"
   },
   {
    "duration": 10,
    "start_time": "2022-05-27T13:59:00.077Z"
   },
   {
    "duration": 4846,
    "start_time": "2022-05-27T13:59:01.190Z"
   },
   {
    "duration": 400283,
    "start_time": "2022-05-27T13:59:12.635Z"
   },
   {
    "duration": 13,
    "start_time": "2022-05-27T14:05:52.920Z"
   },
   {
    "duration": 9,
    "start_time": "2022-05-27T14:05:52.935Z"
   },
   {
    "duration": 4,
    "start_time": "2022-05-28T10:00:15.718Z"
   },
   {
    "duration": 4,
    "start_time": "2022-05-28T10:01:41.630Z"
   },
   {
    "duration": 3,
    "start_time": "2022-05-28T10:02:14.159Z"
   },
   {
    "duration": 7,
    "start_time": "2022-05-28T10:02:15.413Z"
   },
   {
    "duration": 3,
    "start_time": "2022-05-28T10:02:18.704Z"
   },
   {
    "duration": 3,
    "start_time": "2022-05-28T10:02:19.061Z"
   },
   {
    "duration": 3,
    "start_time": "2022-05-28T10:02:19.464Z"
   },
   {
    "duration": 17,
    "start_time": "2022-05-28T10:02:19.942Z"
   },
   {
    "duration": 3,
    "start_time": "2022-05-28T10:02:21.589Z"
   },
   {
    "duration": 4,
    "start_time": "2022-05-28T10:02:24.269Z"
   },
   {
    "duration": 16,
    "start_time": "2022-05-28T10:03:03.200Z"
   },
   {
    "duration": 3,
    "start_time": "2022-05-28T10:03:03.628Z"
   },
   {
    "duration": 5,
    "start_time": "2022-05-28T10:03:04.090Z"
   },
   {
    "duration": 15,
    "start_time": "2022-05-28T10:03:09.797Z"
   },
   {
    "duration": 51,
    "start_time": "2022-05-28T10:03:22.807Z"
   },
   {
    "duration": 149598,
    "start_time": "2022-05-28T10:03:39.607Z"
   },
   {
    "duration": 3,
    "start_time": "2022-05-28T10:20:11.845Z"
   },
   {
    "duration": 30,
    "start_time": "2022-05-28T10:22:48.222Z"
   },
   {
    "duration": 96,
    "start_time": "2022-05-28T10:22:51.260Z"
   },
   {
    "duration": 29,
    "start_time": "2022-05-28T10:23:12.124Z"
   },
   {
    "duration": 13,
    "start_time": "2022-05-28T10:23:34.298Z"
   },
   {
    "duration": 5,
    "start_time": "2022-05-28T10:24:14.291Z"
   },
   {
    "duration": 10,
    "start_time": "2022-05-28T10:24:22.440Z"
   },
   {
    "duration": 12,
    "start_time": "2022-05-28T10:24:27.455Z"
   },
   {
    "duration": 25,
    "start_time": "2022-05-28T10:24:38.575Z"
   },
   {
    "duration": 29,
    "start_time": "2022-05-28T10:24:47.393Z"
   },
   {
    "duration": 189,
    "start_time": "2022-05-28T10:24:53.367Z"
   },
   {
    "duration": 77,
    "start_time": "2022-05-28T10:25:02.592Z"
   },
   {
    "duration": 12,
    "start_time": "2022-05-28T10:25:50.437Z"
   },
   {
    "duration": 85,
    "start_time": "2022-05-28T10:25:57.274Z"
   },
   {
    "duration": 83,
    "start_time": "2022-05-28T10:26:06.272Z"
   },
   {
    "duration": 36,
    "start_time": "2022-05-28T10:26:24.921Z"
   },
   {
    "duration": 102,
    "start_time": "2022-05-28T10:26:46.055Z"
   },
   {
    "duration": 218160,
    "start_time": "2022-05-28T10:28:08.236Z"
   },
   {
    "duration": 5,
    "start_time": "2022-05-28T10:31:46.397Z"
   },
   {
    "duration": 11,
    "start_time": "2022-05-28T10:33:12.253Z"
   },
   {
    "duration": 5,
    "start_time": "2022-05-28T10:33:47.965Z"
   },
   {
    "duration": 4,
    "start_time": "2022-05-28T10:33:54.617Z"
   },
   {
    "duration": 6,
    "start_time": "2022-05-28T10:34:23.466Z"
   },
   {
    "duration": 3,
    "start_time": "2022-05-28T10:34:33.284Z"
   },
   {
    "duration": 5,
    "start_time": "2022-05-28T10:34:34.034Z"
   },
   {
    "duration": 4,
    "start_time": "2022-05-28T10:34:58.505Z"
   },
   {
    "duration": 11,
    "start_time": "2022-05-28T10:38:47.189Z"
   },
   {
    "duration": 84,
    "start_time": "2022-05-28T10:40:15.775Z"
   },
   {
    "duration": 4,
    "start_time": "2022-05-28T10:51:24.455Z"
   },
   {
    "duration": 2,
    "start_time": "2022-05-28T10:52:22.753Z"
   },
   {
    "duration": 5,
    "start_time": "2022-05-28T10:54:15.738Z"
   },
   {
    "duration": 10,
    "start_time": "2022-05-28T10:54:41.571Z"
   },
   {
    "duration": 5,
    "start_time": "2022-05-28T10:55:17.727Z"
   },
   {
    "duration": 12,
    "start_time": "2022-05-28T10:55:23.941Z"
   },
   {
    "duration": 4,
    "start_time": "2022-05-28T10:56:40.232Z"
   },
   {
    "duration": 6,
    "start_time": "2022-05-28T10:56:45.757Z"
   },
   {
    "duration": 6,
    "start_time": "2022-05-28T10:57:24.902Z"
   },
   {
    "duration": 4,
    "start_time": "2022-05-28T11:08:34.959Z"
   },
   {
    "duration": 94205,
    "start_time": "2022-05-28T11:08:56.792Z"
   },
   {
    "duration": 11,
    "start_time": "2022-05-28T11:10:39.234Z"
   },
   {
    "duration": 14,
    "start_time": "2022-05-28T11:11:50.007Z"
   },
   {
    "duration": 15,
    "start_time": "2022-05-28T11:12:25.522Z"
   },
   {
    "duration": 2,
    "start_time": "2022-05-28T11:13:03.275Z"
   },
   {
    "duration": 77,
    "start_time": "2022-05-28T11:13:11.478Z"
   },
   {
    "duration": 7,
    "start_time": "2022-05-28T11:13:26.404Z"
   },
   {
    "duration": 15,
    "start_time": "2022-05-28T11:13:36.431Z"
   },
   {
    "duration": 5,
    "start_time": "2022-05-28T11:14:59.437Z"
   },
   {
    "duration": 11,
    "start_time": "2022-05-28T11:15:03.125Z"
   },
   {
    "duration": 25,
    "start_time": "2022-05-28T11:15:29.912Z"
   },
   {
    "duration": 11,
    "start_time": "2022-05-28T11:15:52.643Z"
   },
   {
    "duration": 13,
    "start_time": "2022-05-28T11:16:01.690Z"
   },
   {
    "duration": 16,
    "start_time": "2022-05-28T11:16:02.208Z"
   },
   {
    "duration": 37,
    "start_time": "2022-05-28T11:17:10.429Z"
   },
   {
    "duration": 22,
    "start_time": "2022-05-28T11:17:13.086Z"
   },
   {
    "duration": 6,
    "start_time": "2022-05-28T11:17:39.259Z"
   },
   {
    "duration": 77118,
    "start_time": "2022-05-28T11:18:34.909Z"
   },
   {
    "duration": 26,
    "start_time": "2022-05-28T11:21:51.550Z"
   },
   {
    "duration": 7,
    "start_time": "2022-05-28T11:21:54.030Z"
   },
   {
    "duration": 4,
    "start_time": "2022-05-28T11:22:13.249Z"
   },
   {
    "duration": 115,
    "start_time": "2022-05-28T11:24:46.740Z"
   },
   {
    "duration": 7,
    "start_time": "2022-05-28T11:25:10.692Z"
   },
   {
    "duration": 9,
    "start_time": "2022-05-28T11:25:27.579Z"
   },
   {
    "duration": 25,
    "start_time": "2022-05-28T12:34:43.721Z"
   },
   {
    "duration": 9,
    "start_time": "2022-05-28T12:35:27.828Z"
   },
   {
    "duration": 23,
    "start_time": "2022-05-28T12:35:30.971Z"
   },
   {
    "duration": 3,
    "start_time": "2022-05-28T12:35:31.261Z"
   },
   {
    "duration": 10,
    "start_time": "2022-05-28T12:35:31.505Z"
   },
   {
    "duration": 4,
    "start_time": "2022-05-28T12:35:39.387Z"
   },
   {
    "duration": 11,
    "start_time": "2022-05-28T12:35:56.626Z"
   },
   {
    "duration": 15,
    "start_time": "2022-05-28T12:36:27.403Z"
   },
   {
    "duration": 11,
    "start_time": "2022-05-28T12:36:33.828Z"
   },
   {
    "duration": 12,
    "start_time": "2022-05-28T12:39:18.255Z"
   },
   {
    "duration": 12,
    "start_time": "2022-05-28T12:39:57.687Z"
   },
   {
    "duration": 12,
    "start_time": "2022-05-28T12:40:18.424Z"
   },
   {
    "duration": 3,
    "start_time": "2022-05-28T12:40:25.659Z"
   },
   {
    "duration": 5,
    "start_time": "2022-05-28T12:40:55.224Z"
   },
   {
    "duration": 4,
    "start_time": "2022-05-28T12:48:03.564Z"
   },
   {
    "duration": 4,
    "start_time": "2022-05-28T12:50:46.249Z"
   },
   {
    "duration": 11,
    "start_time": "2022-05-28T12:53:32.098Z"
   },
   {
    "duration": 4,
    "start_time": "2022-05-28T12:53:35.513Z"
   },
   {
    "duration": 10,
    "start_time": "2022-05-28T12:53:36.014Z"
   },
   {
    "duration": 163,
    "start_time": "2022-05-28T12:55:02.389Z"
   },
   {
    "duration": 5,
    "start_time": "2022-05-28T12:57:25.280Z"
   },
   {
    "duration": 82964,
    "start_time": "2022-05-28T12:57:26.477Z"
   },
   {
    "duration": 4,
    "start_time": "2022-05-28T12:59:01.135Z"
   },
   {
    "duration": 75931,
    "start_time": "2022-05-28T12:59:01.606Z"
   },
   {
    "duration": 21,
    "start_time": "2022-05-28T13:02:09.435Z"
   },
   {
    "duration": 9,
    "start_time": "2022-05-28T13:03:18.468Z"
   },
   {
    "duration": 9,
    "start_time": "2022-05-28T13:04:07.467Z"
   },
   {
    "duration": 11,
    "start_time": "2022-05-28T13:04:09.383Z"
   },
   {
    "duration": 169,
    "start_time": "2022-05-28T13:05:13.596Z"
   },
   {
    "duration": 5,
    "start_time": "2022-05-28T13:08:49.837Z"
   },
   {
    "duration": 152,
    "start_time": "2022-05-28T13:08:51.212Z"
   },
   {
    "duration": 5,
    "start_time": "2022-05-28T13:09:44.304Z"
   },
   {
    "duration": 205,
    "start_time": "2022-05-28T13:09:44.570Z"
   },
   {
    "duration": 218,
    "start_time": "2022-05-28T13:11:37.435Z"
   },
   {
    "duration": 35,
    "start_time": "2022-05-28T13:11:56.597Z"
   },
   {
    "duration": 231,
    "start_time": "2022-05-28T13:12:37.638Z"
   },
   {
    "duration": 8,
    "start_time": "2022-05-28T13:13:25.285Z"
   },
   {
    "duration": 6,
    "start_time": "2022-05-28T13:13:31.704Z"
   },
   {
    "duration": 6,
    "start_time": "2022-05-28T13:13:45.115Z"
   },
   {
    "duration": 3,
    "start_time": "2022-05-28T13:16:22.057Z"
   },
   {
    "duration": 4,
    "start_time": "2022-05-28T13:16:37.519Z"
   },
   {
    "duration": 3,
    "start_time": "2022-05-28T13:17:08.742Z"
   },
   {
    "duration": 3,
    "start_time": "2022-05-28T13:17:23.344Z"
   },
   {
    "duration": 6,
    "start_time": "2022-05-28T13:17:32.568Z"
   },
   {
    "duration": 26,
    "start_time": "2022-05-28T13:18:22.422Z"
   },
   {
    "duration": 3,
    "start_time": "2022-05-28T13:18:25.964Z"
   },
   {
    "duration": 4,
    "start_time": "2022-05-28T13:18:26.253Z"
   },
   {
    "duration": 25,
    "start_time": "2022-05-28T13:20:25.118Z"
   },
   {
    "duration": 3,
    "start_time": "2022-05-28T13:20:25.761Z"
   },
   {
    "duration": 4,
    "start_time": "2022-05-28T13:20:26.254Z"
   },
   {
    "duration": 28,
    "start_time": "2022-05-28T13:20:28.314Z"
   },
   {
    "duration": 7,
    "start_time": "2022-05-28T13:20:28.556Z"
   },
   {
    "duration": 4,
    "start_time": "2022-05-28T13:20:28.825Z"
   },
   {
    "duration": 4,
    "start_time": "2022-05-28T13:20:48.545Z"
   },
   {
    "duration": 4,
    "start_time": "2022-05-28T13:21:11.083Z"
   },
   {
    "duration": 4,
    "start_time": "2022-05-28T13:22:29.745Z"
   },
   {
    "duration": 62914,
    "start_time": "2022-05-28T13:22:30.320Z"
   },
   {
    "duration": 4,
    "start_time": "2022-05-28T13:25:48.444Z"
   },
   {
    "duration": 24,
    "start_time": "2022-05-28T13:25:48.908Z"
   },
   {
    "duration": 17,
    "start_time": "2022-05-28T13:26:12.210Z"
   },
   {
    "duration": 4,
    "start_time": "2022-05-28T13:28:19.490Z"
   },
   {
    "duration": 60994,
    "start_time": "2022-05-28T13:28:21.916Z"
   },
   {
    "duration": 4,
    "start_time": "2022-05-28T13:29:22.912Z"
   },
   {
    "duration": 20,
    "start_time": "2022-05-28T13:29:22.918Z"
   },
   {
    "duration": 4,
    "start_time": "2022-05-28T13:30:40.278Z"
   },
   {
    "duration": 6,
    "start_time": "2022-05-28T13:31:01.274Z"
   },
   {
    "duration": 15,
    "start_time": "2022-05-28T13:31:32.092Z"
   },
   {
    "duration": 8,
    "start_time": "2022-05-28T13:31:41.788Z"
   },
   {
    "duration": 72924,
    "start_time": "2022-05-28T13:33:08.882Z"
   },
   {
    "duration": 142,
    "start_time": "2022-05-28T13:34:31.530Z"
   },
   {
    "duration": 7,
    "start_time": "2022-05-28T13:34:44.274Z"
   },
   {
    "duration": 8,
    "start_time": "2022-05-28T13:40:24.603Z"
   },
   {
    "duration": 62911,
    "start_time": "2022-05-28T13:42:21.234Z"
   },
   {
    "duration": 77060,
    "start_time": "2022-05-28T13:43:26.392Z"
   },
   {
    "duration": 11,
    "start_time": "2022-05-28T13:46:40.912Z"
   },
   {
    "duration": 21,
    "start_time": "2022-05-28T13:47:49.220Z"
   },
   {
    "duration": 23,
    "start_time": "2022-05-28T13:49:17.720Z"
   },
   {
    "duration": 19,
    "start_time": "2022-05-28T13:49:27.114Z"
   },
   {
    "duration": 5,
    "start_time": "2022-05-28T13:50:05.537Z"
   },
   {
    "duration": 13,
    "start_time": "2022-05-28T13:50:17.888Z"
   },
   {
    "duration": 4,
    "start_time": "2022-05-28T13:59:33.456Z"
   },
   {
    "duration": 4,
    "start_time": "2022-05-28T14:00:17.406Z"
   },
   {
    "duration": 10,
    "start_time": "2022-05-28T14:05:37.208Z"
   },
   {
    "duration": 23,
    "start_time": "2022-05-28T14:05:41.166Z"
   },
   {
    "duration": 4,
    "start_time": "2022-05-28T14:06:00.648Z"
   },
   {
    "duration": 11,
    "start_time": "2022-05-28T14:06:03.150Z"
   },
   {
    "duration": 5,
    "start_time": "2022-05-28T14:06:35.275Z"
   },
   {
    "duration": 10,
    "start_time": "2022-05-28T14:06:35.841Z"
   },
   {
    "duration": 9,
    "start_time": "2022-05-28T14:08:03.873Z"
   },
   {
    "duration": 48170,
    "start_time": "2022-05-28T14:08:11.346Z"
   },
   {
    "duration": 4,
    "start_time": "2022-05-28T14:11:44.639Z"
   },
   {
    "duration": 19127,
    "start_time": "2022-05-28T14:11:45.026Z"
   },
   {
    "duration": 5,
    "start_time": "2022-05-28T14:14:52.713Z"
   },
   {
    "duration": 51708,
    "start_time": "2022-05-28T14:20:10.551Z"
   },
   {
    "duration": 4,
    "start_time": "2022-05-28T14:21:10.719Z"
   },
   {
    "duration": 4,
    "start_time": "2022-05-28T14:21:38.887Z"
   },
   {
    "duration": 10,
    "start_time": "2022-05-28T14:22:04.196Z"
   },
   {
    "duration": 41379,
    "start_time": "2022-05-28T14:22:07.483Z"
   },
   {
    "duration": 4,
    "start_time": "2022-05-28T14:23:07.318Z"
   },
   {
    "duration": 4,
    "start_time": "2022-05-28T14:26:37.912Z"
   },
   {
    "duration": 5,
    "start_time": "2022-05-28T14:27:13.455Z"
   },
   {
    "duration": 5,
    "start_time": "2022-05-28T14:27:54.852Z"
   },
   {
    "duration": 29,
    "start_time": "2022-05-28T14:34:59.048Z"
   },
   {
    "duration": 1380,
    "start_time": "2022-05-28T14:40:44.880Z"
   },
   {
    "duration": 3,
    "start_time": "2022-05-28T14:40:46.262Z"
   },
   {
    "duration": 2889,
    "start_time": "2022-05-28T14:40:46.266Z"
   },
   {
    "duration": 3,
    "start_time": "2022-05-28T14:40:49.156Z"
   },
   {
    "duration": 8,
    "start_time": "2022-05-28T14:40:49.161Z"
   },
   {
    "duration": 5,
    "start_time": "2022-05-28T14:40:49.171Z"
   },
   {
    "duration": 10,
    "start_time": "2022-05-28T14:40:49.178Z"
   },
   {
    "duration": 4,
    "start_time": "2022-05-28T14:40:49.190Z"
   },
   {
    "duration": 9,
    "start_time": "2022-05-28T14:40:49.196Z"
   },
   {
    "duration": 7,
    "start_time": "2022-05-28T14:40:49.207Z"
   },
   {
    "duration": 6,
    "start_time": "2022-05-28T14:40:49.216Z"
   },
   {
    "duration": 29,
    "start_time": "2022-05-28T14:40:49.224Z"
   },
   {
    "duration": 20,
    "start_time": "2022-05-28T14:40:49.255Z"
   },
   {
    "duration": 9,
    "start_time": "2022-05-28T14:40:49.278Z"
   },
   {
    "duration": 8,
    "start_time": "2022-05-28T14:40:49.289Z"
   },
   {
    "duration": 3,
    "start_time": "2022-05-28T14:40:49.298Z"
   },
   {
    "duration": 11,
    "start_time": "2022-05-28T14:40:49.302Z"
   },
   {
    "duration": 39,
    "start_time": "2022-05-28T14:40:49.314Z"
   },
   {
    "duration": 5,
    "start_time": "2022-05-28T14:40:49.355Z"
   },
   {
    "duration": 4,
    "start_time": "2022-05-28T14:40:49.362Z"
   },
   {
    "duration": 10,
    "start_time": "2022-05-28T14:40:49.368Z"
   },
   {
    "duration": 6,
    "start_time": "2022-05-28T14:40:49.379Z"
   },
   {
    "duration": 7,
    "start_time": "2022-05-28T14:40:49.387Z"
   },
   {
    "duration": 7,
    "start_time": "2022-05-28T14:40:49.396Z"
   },
   {
    "duration": 6,
    "start_time": "2022-05-28T14:40:49.405Z"
   },
   {
    "duration": 41,
    "start_time": "2022-05-28T14:40:49.412Z"
   },
   {
    "duration": 6,
    "start_time": "2022-05-28T14:40:49.455Z"
   },
   {
    "duration": 3114,
    "start_time": "2022-05-28T14:40:49.462Z"
   },
   {
    "duration": 3,
    "start_time": "2022-05-28T14:40:52.578Z"
   },
   {
    "duration": 42,
    "start_time": "2022-05-28T14:40:52.583Z"
   },
   {
    "duration": 945,
    "start_time": "2022-05-28T14:40:52.627Z"
   },
   {
    "duration": 5,
    "start_time": "2022-05-28T14:40:53.574Z"
   },
   {
    "duration": 2157,
    "start_time": "2022-05-28T14:40:53.581Z"
   },
   {
    "duration": 137,
    "start_time": "2022-05-28T14:40:55.740Z"
   },
   {
    "duration": 27,
    "start_time": "2022-05-28T14:40:55.879Z"
   },
   {
    "duration": 11,
    "start_time": "2022-05-28T14:40:55.908Z"
   },
   {
    "duration": 8,
    "start_time": "2022-05-28T14:40:55.953Z"
   },
   {
    "duration": 14,
    "start_time": "2022-05-28T14:40:55.963Z"
   },
   {
    "duration": 10,
    "start_time": "2022-05-28T14:40:55.979Z"
   },
   {
    "duration": 16,
    "start_time": "2022-05-28T14:40:55.991Z"
   },
   {
    "duration": 9,
    "start_time": "2022-05-28T14:40:56.051Z"
   },
   {
    "duration": 17,
    "start_time": "2022-05-28T14:40:56.061Z"
   },
   {
    "duration": 4,
    "start_time": "2022-05-28T14:40:56.080Z"
   },
   {
    "duration": 5,
    "start_time": "2022-05-28T14:40:56.086Z"
   },
   {
    "duration": 8,
    "start_time": "2022-05-28T14:40:56.092Z"
   },
   {
    "duration": 7,
    "start_time": "2022-05-28T14:40:56.102Z"
   },
   {
    "duration": 42,
    "start_time": "2022-05-28T14:40:56.111Z"
   },
   {
    "duration": 46,
    "start_time": "2022-05-28T14:40:56.155Z"
   },
   {
    "duration": 3,
    "start_time": "2022-05-28T14:40:56.203Z"
   },
   {
    "duration": 11,
    "start_time": "2022-05-28T14:40:56.208Z"
   },
   {
    "duration": 9,
    "start_time": "2022-05-28T14:40:56.220Z"
   },
   {
    "duration": 22,
    "start_time": "2022-05-28T14:40:56.231Z"
   },
   {
    "duration": 4,
    "start_time": "2022-05-28T14:40:56.254Z"
   },
   {
    "duration": 9,
    "start_time": "2022-05-28T14:40:56.259Z"
   },
   {
    "duration": 22289,
    "start_time": "2022-05-28T14:40:56.269Z"
   },
   {
    "duration": 95,
    "start_time": "2022-05-28T14:41:18.559Z"
   },
   {
    "duration": 9,
    "start_time": "2022-05-28T14:41:18.655Z"
   },
   {
    "duration": 0,
    "start_time": "2022-05-28T14:41:18.665Z"
   },
   {
    "duration": 0,
    "start_time": "2022-05-28T14:41:18.666Z"
   },
   {
    "duration": 0,
    "start_time": "2022-05-28T14:41:18.667Z"
   },
   {
    "duration": 0,
    "start_time": "2022-05-28T14:41:18.668Z"
   },
   {
    "duration": 27269,
    "start_time": "2022-05-28T14:42:12.068Z"
   },
   {
    "duration": 0,
    "start_time": "2022-05-28T14:42:39.339Z"
   },
   {
    "duration": 0,
    "start_time": "2022-05-28T14:42:39.340Z"
   },
   {
    "duration": 1319,
    "start_time": "2022-05-28T14:42:56.118Z"
   },
   {
    "duration": 2,
    "start_time": "2022-05-28T14:42:57.439Z"
   },
   {
    "duration": 722,
    "start_time": "2022-05-28T14:42:57.442Z"
   },
   {
    "duration": 4,
    "start_time": "2022-05-28T14:42:58.166Z"
   },
   {
    "duration": 14,
    "start_time": "2022-05-28T14:42:58.171Z"
   },
   {
    "duration": 7,
    "start_time": "2022-05-28T14:42:58.187Z"
   },
   {
    "duration": 12,
    "start_time": "2022-05-28T14:42:58.195Z"
   },
   {
    "duration": 4,
    "start_time": "2022-05-28T14:42:58.209Z"
   },
   {
    "duration": 7,
    "start_time": "2022-05-28T14:42:58.215Z"
   },
   {
    "duration": 27,
    "start_time": "2022-05-28T14:42:58.225Z"
   },
   {
    "duration": 4,
    "start_time": "2022-05-28T14:42:58.254Z"
   },
   {
    "duration": 9,
    "start_time": "2022-05-28T14:42:58.259Z"
   },
   {
    "duration": 11,
    "start_time": "2022-05-28T14:42:58.270Z"
   },
   {
    "duration": 8,
    "start_time": "2022-05-28T14:42:58.282Z"
   },
   {
    "duration": 7,
    "start_time": "2022-05-28T14:42:58.291Z"
   },
   {
    "duration": 3,
    "start_time": "2022-05-28T14:42:58.299Z"
   },
   {
    "duration": 50,
    "start_time": "2022-05-28T14:42:58.303Z"
   },
   {
    "duration": 7,
    "start_time": "2022-05-28T14:42:58.354Z"
   },
   {
    "duration": 5,
    "start_time": "2022-05-28T14:42:58.362Z"
   },
   {
    "duration": 6,
    "start_time": "2022-05-28T14:42:58.368Z"
   },
   {
    "duration": 8,
    "start_time": "2022-05-28T14:42:58.375Z"
   },
   {
    "duration": 9,
    "start_time": "2022-05-28T14:42:58.384Z"
   },
   {
    "duration": 7,
    "start_time": "2022-05-28T14:42:58.395Z"
   },
   {
    "duration": 6,
    "start_time": "2022-05-28T14:42:58.403Z"
   },
   {
    "duration": 5,
    "start_time": "2022-05-28T14:42:58.411Z"
   },
   {
    "duration": 4,
    "start_time": "2022-05-28T14:42:58.451Z"
   },
   {
    "duration": 5,
    "start_time": "2022-05-28T14:42:58.456Z"
   },
   {
    "duration": 3001,
    "start_time": "2022-05-28T14:42:58.465Z"
   },
   {
    "duration": 3,
    "start_time": "2022-05-28T14:43:01.468Z"
   },
   {
    "duration": 42,
    "start_time": "2022-05-28T14:43:01.472Z"
   },
   {
    "duration": 1026,
    "start_time": "2022-05-28T14:43:01.516Z"
   },
   {
    "duration": 9,
    "start_time": "2022-05-28T14:43:02.543Z"
   },
   {
    "duration": 2087,
    "start_time": "2022-05-28T14:43:02.554Z"
   },
   {
    "duration": 141,
    "start_time": "2022-05-28T14:43:04.643Z"
   },
   {
    "duration": 27,
    "start_time": "2022-05-28T14:43:04.786Z"
   },
   {
    "duration": 37,
    "start_time": "2022-05-28T14:43:04.815Z"
   },
   {
    "duration": 7,
    "start_time": "2022-05-28T14:43:04.854Z"
   },
   {
    "duration": 16,
    "start_time": "2022-05-28T14:43:04.863Z"
   },
   {
    "duration": 9,
    "start_time": "2022-05-28T14:43:04.881Z"
   },
   {
    "duration": 14,
    "start_time": "2022-05-28T14:43:04.891Z"
   },
   {
    "duration": 15,
    "start_time": "2022-05-28T14:43:04.906Z"
   },
   {
    "duration": 16,
    "start_time": "2022-05-28T14:43:04.952Z"
   },
   {
    "duration": 4,
    "start_time": "2022-05-28T14:43:04.969Z"
   },
   {
    "duration": 22,
    "start_time": "2022-05-28T14:43:04.974Z"
   },
   {
    "duration": 11,
    "start_time": "2022-05-28T14:43:04.998Z"
   },
   {
    "duration": 12,
    "start_time": "2022-05-28T14:43:05.011Z"
   },
   {
    "duration": 10,
    "start_time": "2022-05-28T14:43:05.024Z"
   },
   {
    "duration": 45,
    "start_time": "2022-05-28T14:43:05.035Z"
   },
   {
    "duration": 3,
    "start_time": "2022-05-28T14:43:05.081Z"
   },
   {
    "duration": 19,
    "start_time": "2022-05-28T14:43:05.086Z"
   },
   {
    "duration": 8,
    "start_time": "2022-05-28T14:43:05.107Z"
   },
   {
    "duration": 13,
    "start_time": "2022-05-28T14:43:05.116Z"
   },
   {
    "duration": 7,
    "start_time": "2022-05-28T14:43:05.131Z"
   },
   {
    "duration": 19,
    "start_time": "2022-05-28T14:43:05.140Z"
   },
   {
    "duration": 29797,
    "start_time": "2022-05-28T14:43:05.161Z"
   },
   {
    "duration": 94,
    "start_time": "2022-05-28T14:43:34.960Z"
   },
   {
    "duration": 37304,
    "start_time": "2022-05-28T14:43:35.055Z"
   },
   {
    "duration": 94,
    "start_time": "2022-05-28T14:44:12.361Z"
   },
   {
    "duration": 6,
    "start_time": "2022-05-28T14:44:12.457Z"
   },
   {
    "duration": 5,
    "start_time": "2022-05-28T14:44:12.465Z"
   },
   {
    "duration": 108,
    "start_time": "2022-05-28T14:48:23.406Z"
   },
   {
    "duration": 4,
    "start_time": "2022-05-28T14:48:31.568Z"
   },
   {
    "duration": 4,
    "start_time": "2022-05-28T14:48:38.441Z"
   },
   {
    "duration": 4,
    "start_time": "2022-05-28T14:52:55.073Z"
   },
   {
    "duration": 4,
    "start_time": "2022-05-28T15:05:57.590Z"
   },
   {
    "duration": 5,
    "start_time": "2022-05-28T15:05:58.154Z"
   },
   {
    "duration": 5,
    "start_time": "2022-05-28T15:06:01.252Z"
   },
   {
    "duration": 5,
    "start_time": "2022-05-28T15:06:01.512Z"
   },
   {
    "duration": 5,
    "start_time": "2022-05-28T15:10:20.075Z"
   },
   {
    "duration": 11,
    "start_time": "2022-05-28T15:10:20.082Z"
   },
   {
    "duration": 713,
    "start_time": "2022-05-28T15:10:20.095Z"
   },
   {
    "duration": 3,
    "start_time": "2022-05-28T15:10:20.810Z"
   },
   {
    "duration": 8,
    "start_time": "2022-05-28T15:10:20.814Z"
   },
   {
    "duration": 7,
    "start_time": "2022-05-28T15:10:20.823Z"
   },
   {
    "duration": 21,
    "start_time": "2022-05-28T15:10:20.832Z"
   },
   {
    "duration": 6,
    "start_time": "2022-05-28T15:10:20.855Z"
   },
   {
    "duration": 13,
    "start_time": "2022-05-28T15:10:20.863Z"
   },
   {
    "duration": 8,
    "start_time": "2022-05-28T15:10:20.880Z"
   },
   {
    "duration": 15,
    "start_time": "2022-05-28T15:10:20.890Z"
   },
   {
    "duration": 10,
    "start_time": "2022-05-28T15:10:20.906Z"
   },
   {
    "duration": 9,
    "start_time": "2022-05-28T15:10:20.918Z"
   },
   {
    "duration": 10,
    "start_time": "2022-05-28T15:10:20.952Z"
   },
   {
    "duration": 4,
    "start_time": "2022-05-28T15:10:20.963Z"
   },
   {
    "duration": 7,
    "start_time": "2022-05-28T15:10:20.969Z"
   },
   {
    "duration": 9,
    "start_time": "2022-05-28T15:10:20.977Z"
   },
   {
    "duration": 6,
    "start_time": "2022-05-28T15:10:20.988Z"
   },
   {
    "duration": 7,
    "start_time": "2022-05-28T15:10:20.995Z"
   },
   {
    "duration": 7,
    "start_time": "2022-05-28T15:10:21.004Z"
   },
   {
    "duration": 39,
    "start_time": "2022-05-28T15:10:21.013Z"
   },
   {
    "duration": 4,
    "start_time": "2022-05-28T15:10:21.055Z"
   },
   {
    "duration": 2999,
    "start_time": "2022-05-28T15:10:21.061Z"
   },
   {
    "duration": 3,
    "start_time": "2022-05-28T15:10:24.062Z"
   },
   {
    "duration": 9,
    "start_time": "2022-05-28T15:10:24.067Z"
   },
   {
    "duration": 907,
    "start_time": "2022-05-28T15:10:24.078Z"
   },
   {
    "duration": 4,
    "start_time": "2022-05-28T15:10:24.987Z"
   },
   {
    "duration": 2511,
    "start_time": "2022-05-28T15:10:24.996Z"
   },
   {
    "duration": 145,
    "start_time": "2022-05-28T15:10:27.509Z"
   },
   {
    "duration": 25,
    "start_time": "2022-05-28T15:10:27.656Z"
   },
   {
    "duration": 9,
    "start_time": "2022-05-28T15:10:27.682Z"
   },
   {
    "duration": 7,
    "start_time": "2022-05-28T15:10:27.693Z"
   },
   {
    "duration": 26,
    "start_time": "2022-05-28T15:10:27.701Z"
   },
   {
    "duration": 31,
    "start_time": "2022-05-28T15:10:27.728Z"
   },
   {
    "duration": 23,
    "start_time": "2022-05-28T15:10:27.761Z"
   },
   {
    "duration": 9,
    "start_time": "2022-05-28T15:10:27.786Z"
   },
   {
    "duration": 16,
    "start_time": "2022-05-28T15:10:27.797Z"
   },
   {
    "duration": 38,
    "start_time": "2022-05-28T15:10:27.815Z"
   },
   {
    "duration": 13,
    "start_time": "2022-05-28T15:10:27.855Z"
   },
   {
    "duration": 16,
    "start_time": "2022-05-28T15:10:27.869Z"
   },
   {
    "duration": 8,
    "start_time": "2022-05-28T15:10:27.887Z"
   },
   {
    "duration": 18,
    "start_time": "2022-05-28T15:10:27.896Z"
   },
   {
    "duration": 0,
    "start_time": "2022-05-28T15:10:27.916Z"
   },
   {
    "duration": 0,
    "start_time": "2022-05-28T15:10:27.917Z"
   },
   {
    "duration": 0,
    "start_time": "2022-05-28T15:10:27.918Z"
   },
   {
    "duration": 0,
    "start_time": "2022-05-28T15:10:27.919Z"
   },
   {
    "duration": 7,
    "start_time": "2022-05-28T15:12:45.296Z"
   },
   {
    "duration": 13,
    "start_time": "2022-05-28T15:12:45.306Z"
   },
   {
    "duration": 787,
    "start_time": "2022-05-28T15:12:45.322Z"
   },
   {
    "duration": 4,
    "start_time": "2022-05-28T15:12:46.111Z"
   },
   {
    "duration": 9,
    "start_time": "2022-05-28T15:12:46.119Z"
   },
   {
    "duration": 26,
    "start_time": "2022-05-28T15:12:46.130Z"
   },
   {
    "duration": 20,
    "start_time": "2022-05-28T15:12:46.158Z"
   },
   {
    "duration": 20,
    "start_time": "2022-05-28T15:12:46.181Z"
   },
   {
    "duration": 18,
    "start_time": "2022-05-28T15:12:46.203Z"
   },
   {
    "duration": 10,
    "start_time": "2022-05-28T15:12:46.223Z"
   },
   {
    "duration": 10,
    "start_time": "2022-05-28T15:12:46.235Z"
   },
   {
    "duration": 15,
    "start_time": "2022-05-28T15:12:46.247Z"
   },
   {
    "duration": 11,
    "start_time": "2022-05-28T15:12:46.263Z"
   },
   {
    "duration": 8,
    "start_time": "2022-05-28T15:12:46.278Z"
   },
   {
    "duration": 5,
    "start_time": "2022-05-28T15:12:46.288Z"
   },
   {
    "duration": 9,
    "start_time": "2022-05-28T15:12:46.295Z"
   },
   {
    "duration": 6,
    "start_time": "2022-05-28T15:12:46.306Z"
   },
   {
    "duration": 39,
    "start_time": "2022-05-28T15:12:46.313Z"
   },
   {
    "duration": 38,
    "start_time": "2022-05-28T15:12:46.354Z"
   },
   {
    "duration": 6,
    "start_time": "2022-05-28T15:12:46.394Z"
   },
   {
    "duration": 6,
    "start_time": "2022-05-28T15:12:46.402Z"
   },
   {
    "duration": 9,
    "start_time": "2022-05-28T15:12:46.409Z"
   },
   {
    "duration": 3065,
    "start_time": "2022-05-28T15:12:46.420Z"
   },
   {
    "duration": 2,
    "start_time": "2022-05-28T15:12:49.487Z"
   },
   {
    "duration": 13,
    "start_time": "2022-05-28T15:12:49.491Z"
   },
   {
    "duration": 900,
    "start_time": "2022-05-28T15:12:49.506Z"
   },
   {
    "duration": 4,
    "start_time": "2022-05-28T15:12:50.408Z"
   },
   {
    "duration": 2538,
    "start_time": "2022-05-28T15:12:50.414Z"
   },
   {
    "duration": 144,
    "start_time": "2022-05-28T15:12:52.954Z"
   },
   {
    "duration": 36,
    "start_time": "2022-05-28T15:12:53.100Z"
   },
   {
    "duration": 25,
    "start_time": "2022-05-28T15:12:53.138Z"
   },
   {
    "duration": 8,
    "start_time": "2022-05-28T15:12:53.166Z"
   },
   {
    "duration": 14,
    "start_time": "2022-05-28T15:12:53.176Z"
   },
   {
    "duration": 11,
    "start_time": "2022-05-28T15:12:53.192Z"
   },
   {
    "duration": 48,
    "start_time": "2022-05-28T15:12:53.205Z"
   },
   {
    "duration": 9,
    "start_time": "2022-05-28T15:12:53.255Z"
   },
   {
    "duration": 16,
    "start_time": "2022-05-28T15:12:53.266Z"
   },
   {
    "duration": 4,
    "start_time": "2022-05-28T15:12:53.285Z"
   },
   {
    "duration": 7,
    "start_time": "2022-05-28T15:12:53.290Z"
   },
   {
    "duration": 11,
    "start_time": "2022-05-28T15:12:53.299Z"
   },
   {
    "duration": 5,
    "start_time": "2022-05-28T15:12:53.314Z"
   },
   {
    "duration": 35,
    "start_time": "2022-05-28T15:12:53.353Z"
   },
   {
    "duration": 36,
    "start_time": "2022-05-28T15:12:58.086Z"
   },
   {
    "duration": 4,
    "start_time": "2022-05-28T15:12:58.655Z"
   },
   {
    "duration": 5,
    "start_time": "2022-05-28T15:12:59.056Z"
   },
   {
    "duration": 5,
    "start_time": "2022-05-28T15:12:59.660Z"
   },
   {
    "duration": 4,
    "start_time": "2022-05-28T15:13:00.373Z"
   },
   {
    "duration": 4,
    "start_time": "2022-05-28T15:13:02.472Z"
   },
   {
    "duration": 4,
    "start_time": "2022-05-28T15:14:31.097Z"
   },
   {
    "duration": 6,
    "start_time": "2022-05-28T15:15:01.994Z"
   },
   {
    "duration": 4,
    "start_time": "2022-05-28T15:16:08.359Z"
   },
   {
    "duration": 3,
    "start_time": "2022-05-28T15:16:10.502Z"
   },
   {
    "duration": 3,
    "start_time": "2022-05-28T15:16:11.961Z"
   },
   {
    "duration": 4,
    "start_time": "2022-05-28T15:16:19.809Z"
   },
   {
    "duration": 4,
    "start_time": "2022-05-28T15:17:14.968Z"
   },
   {
    "duration": 4,
    "start_time": "2022-05-28T15:17:27.687Z"
   },
   {
    "duration": 50,
    "start_time": "2022-05-28T15:17:33.497Z"
   },
   {
    "duration": 33,
    "start_time": "2022-05-28T15:17:42.635Z"
   },
   {
    "duration": 33,
    "start_time": "2022-05-28T15:18:02.592Z"
   },
   {
    "duration": 31,
    "start_time": "2022-05-28T15:18:23.832Z"
   },
   {
    "duration": 32,
    "start_time": "2022-05-28T15:18:44.904Z"
   },
   {
    "duration": 35,
    "start_time": "2022-05-28T15:18:58.336Z"
   },
   {
    "duration": 21,
    "start_time": "2022-05-28T15:19:47.960Z"
   },
   {
    "duration": 5,
    "start_time": "2022-05-28T15:19:54.400Z"
   },
   {
    "duration": 53,
    "start_time": "2022-05-28T15:20:17.168Z"
   },
   {
    "duration": 39,
    "start_time": "2022-05-28T15:20:23.622Z"
   },
   {
    "duration": 4,
    "start_time": "2022-05-28T15:20:28.712Z"
   },
   {
    "duration": 35,
    "start_time": "2022-05-28T15:21:19.804Z"
   },
   {
    "duration": 5,
    "start_time": "2022-05-28T15:21:44.960Z"
   },
   {
    "duration": 7,
    "start_time": "2022-05-28T15:21:44.967Z"
   },
   {
    "duration": 718,
    "start_time": "2022-05-28T15:21:44.976Z"
   },
   {
    "duration": 2,
    "start_time": "2022-05-28T15:21:45.696Z"
   },
   {
    "duration": 12,
    "start_time": "2022-05-28T15:21:45.700Z"
   },
   {
    "duration": 6,
    "start_time": "2022-05-28T15:21:45.713Z"
   },
   {
    "duration": 8,
    "start_time": "2022-05-28T15:21:45.720Z"
   },
   {
    "duration": 24,
    "start_time": "2022-05-28T15:21:45.729Z"
   },
   {
    "duration": 4,
    "start_time": "2022-05-28T15:21:45.755Z"
   },
   {
    "duration": 6,
    "start_time": "2022-05-28T15:21:45.761Z"
   },
   {
    "duration": 6,
    "start_time": "2022-05-28T15:21:45.768Z"
   },
   {
    "duration": 13,
    "start_time": "2022-05-28T15:21:45.776Z"
   },
   {
    "duration": 10,
    "start_time": "2022-05-28T15:21:45.791Z"
   },
   {
    "duration": 49,
    "start_time": "2022-05-28T15:21:45.804Z"
   },
   {
    "duration": 4,
    "start_time": "2022-05-28T15:21:45.855Z"
   },
   {
    "duration": 14,
    "start_time": "2022-05-28T15:21:45.861Z"
   },
   {
    "duration": 6,
    "start_time": "2022-05-28T15:21:45.877Z"
   },
   {
    "duration": 7,
    "start_time": "2022-05-28T15:21:45.884Z"
   },
   {
    "duration": 7,
    "start_time": "2022-05-28T15:21:45.892Z"
   },
   {
    "duration": 4,
    "start_time": "2022-05-28T15:21:45.901Z"
   },
   {
    "duration": 10,
    "start_time": "2022-05-28T15:21:45.907Z"
   },
   {
    "duration": 34,
    "start_time": "2022-05-28T15:21:45.919Z"
   },
   {
    "duration": 3011,
    "start_time": "2022-05-28T15:21:45.955Z"
   },
   {
    "duration": 3,
    "start_time": "2022-05-28T15:21:48.968Z"
   },
   {
    "duration": 8,
    "start_time": "2022-05-28T15:21:48.973Z"
   },
   {
    "duration": 843,
    "start_time": "2022-05-28T15:21:48.982Z"
   },
   {
    "duration": 4,
    "start_time": "2022-05-28T15:21:49.827Z"
   },
   {
    "duration": 2425,
    "start_time": "2022-05-28T15:21:49.833Z"
   },
   {
    "duration": 128,
    "start_time": "2022-05-28T15:21:52.259Z"
   },
   {
    "duration": 25,
    "start_time": "2022-05-28T15:21:52.388Z"
   },
   {
    "duration": 8,
    "start_time": "2022-05-28T15:21:52.415Z"
   },
   {
    "duration": 31,
    "start_time": "2022-05-28T15:21:52.425Z"
   },
   {
    "duration": 10,
    "start_time": "2022-05-28T15:21:52.457Z"
   },
   {
    "duration": 8,
    "start_time": "2022-05-28T15:21:52.468Z"
   },
   {
    "duration": 11,
    "start_time": "2022-05-28T15:21:52.477Z"
   },
   {
    "duration": 7,
    "start_time": "2022-05-28T15:21:52.490Z"
   },
   {
    "duration": 58,
    "start_time": "2022-05-28T15:21:52.499Z"
   },
   {
    "duration": 5,
    "start_time": "2022-05-28T15:21:52.558Z"
   },
   {
    "duration": 33,
    "start_time": "2022-05-28T15:22:14.529Z"
   },
   {
    "duration": 33,
    "start_time": "2022-05-28T15:22:35.776Z"
   },
   {
    "duration": 32,
    "start_time": "2022-05-28T15:22:49.897Z"
   },
   {
    "duration": 46,
    "start_time": "2022-05-28T15:22:55.791Z"
   },
   {
    "duration": 37080,
    "start_time": "2022-05-28T15:23:16.862Z"
   },
   {
    "duration": 34504,
    "start_time": "2022-05-28T15:24:30.439Z"
   },
   {
    "duration": 5,
    "start_time": "2022-05-28T15:25:48.763Z"
   },
   {
    "duration": 15,
    "start_time": "2022-05-28T15:26:22.915Z"
   },
   {
    "duration": 22,
    "start_time": "2022-05-28T15:28:52.725Z"
   },
   {
    "duration": 35,
    "start_time": "2022-05-28T15:29:23.283Z"
   },
   {
    "duration": 5,
    "start_time": "2022-05-28T15:29:29.184Z"
   },
   {
    "duration": 3,
    "start_time": "2022-05-28T15:29:41.872Z"
   },
   {
    "duration": 31,
    "start_time": "2022-05-28T15:30:10.384Z"
   },
   {
    "duration": 6,
    "start_time": "2022-05-28T15:30:11.782Z"
   },
   {
    "duration": 4,
    "start_time": "2022-05-28T15:30:12.326Z"
   },
   {
    "duration": 40,
    "start_time": "2022-05-28T15:30:22.483Z"
   },
   {
    "duration": 6,
    "start_time": "2022-05-28T15:30:22.741Z"
   },
   {
    "duration": 4,
    "start_time": "2022-05-28T15:30:23.087Z"
   },
   {
    "duration": 5,
    "start_time": "2022-05-28T15:30:34.808Z"
   },
   {
    "duration": 10,
    "start_time": "2022-05-28T15:30:34.815Z"
   },
   {
    "duration": 686,
    "start_time": "2022-05-28T15:30:34.827Z"
   },
   {
    "duration": 4,
    "start_time": "2022-05-28T15:30:35.514Z"
   },
   {
    "duration": 8,
    "start_time": "2022-05-28T15:30:35.520Z"
   },
   {
    "duration": 7,
    "start_time": "2022-05-28T15:30:35.530Z"
   },
   {
    "duration": 15,
    "start_time": "2022-05-28T15:30:35.539Z"
   },
   {
    "duration": 17,
    "start_time": "2022-05-28T15:30:35.556Z"
   },
   {
    "duration": 6,
    "start_time": "2022-05-28T15:30:35.575Z"
   },
   {
    "duration": 6,
    "start_time": "2022-05-28T15:30:35.582Z"
   },
   {
    "duration": 13,
    "start_time": "2022-05-28T15:30:35.591Z"
   },
   {
    "duration": 14,
    "start_time": "2022-05-28T15:30:35.605Z"
   },
   {
    "duration": 31,
    "start_time": "2022-05-28T15:30:35.621Z"
   },
   {
    "duration": 11,
    "start_time": "2022-05-28T15:30:35.654Z"
   },
   {
    "duration": 15,
    "start_time": "2022-05-28T15:30:35.667Z"
   },
   {
    "duration": 27,
    "start_time": "2022-05-28T15:30:35.684Z"
   },
   {
    "duration": 13,
    "start_time": "2022-05-28T15:30:35.713Z"
   },
   {
    "duration": 24,
    "start_time": "2022-05-28T15:30:35.728Z"
   },
   {
    "duration": 17,
    "start_time": "2022-05-28T15:30:35.754Z"
   },
   {
    "duration": 32,
    "start_time": "2022-05-28T15:30:35.773Z"
   },
   {
    "duration": 12,
    "start_time": "2022-05-28T15:30:35.807Z"
   },
   {
    "duration": 22,
    "start_time": "2022-05-28T15:30:35.821Z"
   },
   {
    "duration": 3014,
    "start_time": "2022-05-28T15:30:35.845Z"
   },
   {
    "duration": 3,
    "start_time": "2022-05-28T15:30:38.860Z"
   },
   {
    "duration": 7,
    "start_time": "2022-05-28T15:30:38.865Z"
   },
   {
    "duration": 816,
    "start_time": "2022-05-28T15:30:38.873Z"
   },
   {
    "duration": 3,
    "start_time": "2022-05-28T15:30:39.691Z"
   },
   {
    "duration": 2293,
    "start_time": "2022-05-28T15:30:39.695Z"
   },
   {
    "duration": 406,
    "start_time": "2022-05-28T15:30:41.991Z"
   },
   {
    "duration": 25,
    "start_time": "2022-05-28T15:30:42.399Z"
   },
   {
    "duration": 31,
    "start_time": "2022-05-28T15:30:42.426Z"
   },
   {
    "duration": 7,
    "start_time": "2022-05-28T15:30:42.458Z"
   },
   {
    "duration": 11,
    "start_time": "2022-05-28T15:30:42.466Z"
   },
   {
    "duration": 9,
    "start_time": "2022-05-28T15:30:42.479Z"
   },
   {
    "duration": 12,
    "start_time": "2022-05-28T15:30:42.490Z"
   },
   {
    "duration": 7,
    "start_time": "2022-05-28T15:30:42.504Z"
   },
   {
    "duration": 19,
    "start_time": "2022-05-28T15:30:42.553Z"
   },
   {
    "duration": 40,
    "start_time": "2022-05-28T15:30:42.574Z"
   },
   {
    "duration": 6,
    "start_time": "2022-05-28T15:30:42.616Z"
   },
   {
    "duration": 5,
    "start_time": "2022-05-28T15:30:46.821Z"
   },
   {
    "duration": 5,
    "start_time": "2022-05-28T15:30:47.404Z"
   },
   {
    "duration": 1264,
    "start_time": "2022-05-28T15:31:22.086Z"
   },
   {
    "duration": 2,
    "start_time": "2022-05-28T15:31:23.352Z"
   },
   {
    "duration": 692,
    "start_time": "2022-05-28T15:31:23.356Z"
   },
   {
    "duration": 5,
    "start_time": "2022-05-28T15:31:24.049Z"
   },
   {
    "duration": 6,
    "start_time": "2022-05-28T15:31:24.057Z"
   },
   {
    "duration": 7,
    "start_time": "2022-05-28T15:31:24.065Z"
   },
   {
    "duration": 8,
    "start_time": "2022-05-28T15:31:24.073Z"
   },
   {
    "duration": 6,
    "start_time": "2022-05-28T15:31:24.083Z"
   },
   {
    "duration": 6,
    "start_time": "2022-05-28T15:31:24.091Z"
   },
   {
    "duration": 10,
    "start_time": "2022-05-28T15:31:24.098Z"
   },
   {
    "duration": 7,
    "start_time": "2022-05-28T15:31:24.109Z"
   },
   {
    "duration": 45,
    "start_time": "2022-05-28T15:31:24.118Z"
   },
   {
    "duration": 10,
    "start_time": "2022-05-28T15:31:24.165Z"
   },
   {
    "duration": 12,
    "start_time": "2022-05-28T15:31:24.178Z"
   },
   {
    "duration": 3,
    "start_time": "2022-05-28T15:31:24.192Z"
   },
   {
    "duration": 55,
    "start_time": "2022-05-28T15:31:24.197Z"
   },
   {
    "duration": 6,
    "start_time": "2022-05-28T15:31:24.254Z"
   },
   {
    "duration": 7,
    "start_time": "2022-05-28T15:31:24.262Z"
   },
   {
    "duration": 9,
    "start_time": "2022-05-28T15:31:24.270Z"
   },
   {
    "duration": 7,
    "start_time": "2022-05-28T15:31:24.280Z"
   },
   {
    "duration": 6,
    "start_time": "2022-05-28T15:31:24.288Z"
   },
   {
    "duration": 8,
    "start_time": "2022-05-28T15:31:24.295Z"
   },
   {
    "duration": 3050,
    "start_time": "2022-05-28T15:31:24.304Z"
   },
   {
    "duration": 3,
    "start_time": "2022-05-28T15:31:27.355Z"
   },
   {
    "duration": 17,
    "start_time": "2022-05-28T15:31:27.359Z"
   },
   {
    "duration": 952,
    "start_time": "2022-05-28T15:31:27.378Z"
   },
   {
    "duration": 4,
    "start_time": "2022-05-28T15:31:28.332Z"
   },
   {
    "duration": 2045,
    "start_time": "2022-05-28T15:31:28.337Z"
   },
   {
    "duration": 133,
    "start_time": "2022-05-28T15:31:30.383Z"
   },
   {
    "duration": 34,
    "start_time": "2022-05-28T15:31:30.518Z"
   },
   {
    "duration": 8,
    "start_time": "2022-05-28T15:31:30.554Z"
   },
   {
    "duration": 31,
    "start_time": "2022-05-28T15:31:30.563Z"
   },
   {
    "duration": 28,
    "start_time": "2022-05-28T15:31:30.596Z"
   },
   {
    "duration": 8,
    "start_time": "2022-05-28T15:31:30.626Z"
   },
   {
    "duration": 17,
    "start_time": "2022-05-28T15:31:30.636Z"
   },
   {
    "duration": 10,
    "start_time": "2022-05-28T15:31:30.655Z"
   },
   {
    "duration": 21,
    "start_time": "2022-05-28T15:31:30.666Z"
   },
   {
    "duration": 37,
    "start_time": "2022-05-28T15:31:30.689Z"
   },
   {
    "duration": 4,
    "start_time": "2022-05-28T15:31:30.728Z"
   },
   {
    "duration": 19,
    "start_time": "2022-05-28T15:31:30.733Z"
   },
   {
    "duration": 18,
    "start_time": "2022-05-28T15:31:30.756Z"
   },
   {
    "duration": 13,
    "start_time": "2022-05-28T15:31:30.776Z"
   },
   {
    "duration": 21,
    "start_time": "2022-05-28T15:31:30.791Z"
   },
   {
    "duration": 44,
    "start_time": "2022-05-28T15:31:30.814Z"
   },
   {
    "duration": 3,
    "start_time": "2022-05-28T15:31:30.860Z"
   },
   {
    "duration": 16,
    "start_time": "2022-05-28T15:31:30.864Z"
   },
   {
    "duration": 13,
    "start_time": "2022-05-28T15:31:30.881Z"
   },
   {
    "duration": 15,
    "start_time": "2022-05-28T15:31:30.895Z"
   },
   {
    "duration": 8,
    "start_time": "2022-05-28T15:31:30.912Z"
   },
   {
    "duration": 24331,
    "start_time": "2022-05-28T15:31:30.921Z"
   },
   {
    "duration": 4,
    "start_time": "2022-05-28T15:31:55.255Z"
   },
   {
    "duration": 37094,
    "start_time": "2022-05-28T15:31:55.261Z"
   },
   {
    "duration": 4,
    "start_time": "2022-05-28T15:32:32.357Z"
   },
   {
    "duration": 6,
    "start_time": "2022-05-28T15:32:32.362Z"
   },
   {
    "duration": 19,
    "start_time": "2022-05-28T15:32:32.369Z"
   },
   {
    "duration": 21,
    "start_time": "2022-05-28T15:38:25.835Z"
   },
   {
    "duration": 20,
    "start_time": "2022-05-28T15:38:28.602Z"
   },
   {
    "duration": 27,
    "start_time": "2022-05-28T15:45:10.880Z"
   },
   {
    "duration": 20,
    "start_time": "2022-05-28T15:45:13.137Z"
   },
   {
    "duration": 22,
    "start_time": "2022-05-28T15:46:35.781Z"
   },
   {
    "duration": 3,
    "start_time": "2022-05-28T15:46:59.818Z"
   },
   {
    "duration": 2785,
    "start_time": "2022-05-28T16:04:09.478Z"
   },
   {
    "duration": 4,
    "start_time": "2022-05-28T16:04:12.266Z"
   },
   {
    "duration": 5696,
    "start_time": "2022-05-28T16:04:12.272Z"
   },
   {
    "duration": 59,
    "start_time": "2022-05-28T16:04:17.971Z"
   },
   {
    "duration": 24,
    "start_time": "2022-05-28T16:04:18.035Z"
   },
   {
    "duration": 9,
    "start_time": "2022-05-28T16:04:18.062Z"
   },
   {
    "duration": 56,
    "start_time": "2022-05-28T16:04:18.073Z"
   },
   {
    "duration": 10,
    "start_time": "2022-05-28T16:04:18.131Z"
   },
   {
    "duration": 24,
    "start_time": "2022-05-28T16:04:18.143Z"
   },
   {
    "duration": 10,
    "start_time": "2022-05-28T16:04:18.170Z"
   },
   {
    "duration": 48,
    "start_time": "2022-05-28T16:04:18.226Z"
   },
   {
    "duration": 79,
    "start_time": "2022-05-28T16:04:18.276Z"
   },
   {
    "duration": 28,
    "start_time": "2022-05-28T16:04:18.357Z"
   },
   {
    "duration": 47,
    "start_time": "2022-05-28T16:04:18.430Z"
   },
   {
    "duration": 56,
    "start_time": "2022-05-28T16:04:18.479Z"
   },
   {
    "duration": 20,
    "start_time": "2022-05-28T16:04:18.542Z"
   },
   {
    "duration": 19,
    "start_time": "2022-05-28T16:04:18.564Z"
   },
   {
    "duration": 32,
    "start_time": "2022-05-28T16:04:18.627Z"
   },
   {
    "duration": 11,
    "start_time": "2022-05-28T16:04:18.660Z"
   },
   {
    "duration": 10,
    "start_time": "2022-05-28T16:04:18.673Z"
   },
   {
    "duration": 13,
    "start_time": "2022-05-28T16:04:18.732Z"
   },
   {
    "duration": 4410,
    "start_time": "2022-05-28T16:04:18.748Z"
   },
   {
    "duration": 5,
    "start_time": "2022-05-28T16:04:23.160Z"
   },
   {
    "duration": 2389,
    "start_time": "2022-05-28T16:04:23.167Z"
   },
   {
    "duration": 6,
    "start_time": "2022-05-28T16:04:25.558Z"
   },
   {
    "duration": 5983,
    "start_time": "2022-05-28T16:04:25.567Z"
   },
   {
    "duration": 381,
    "start_time": "2022-05-28T16:04:31.552Z"
   },
   {
    "duration": 39,
    "start_time": "2022-05-28T16:04:31.935Z"
   },
   {
    "duration": 26,
    "start_time": "2022-05-28T16:04:32.027Z"
   },
   {
    "duration": 24,
    "start_time": "2022-05-28T16:04:32.055Z"
   },
   {
    "duration": 187,
    "start_time": "2022-05-28T16:04:32.083Z"
   },
   {
    "duration": 64,
    "start_time": "2022-05-28T16:04:32.272Z"
   },
   {
    "duration": 37,
    "start_time": "2022-05-28T16:04:32.338Z"
   },
   {
    "duration": 59,
    "start_time": "2022-05-28T16:04:32.378Z"
   },
   {
    "duration": 40,
    "start_time": "2022-05-28T16:04:32.438Z"
   },
   {
    "duration": 273,
    "start_time": "2022-05-28T16:04:32.480Z"
   },
   {
    "duration": 5,
    "start_time": "2022-05-28T16:04:32.755Z"
   },
   {
    "duration": 6,
    "start_time": "2022-05-28T16:04:32.762Z"
   },
   {
    "duration": 9,
    "start_time": "2022-05-28T16:04:32.770Z"
   },
   {
    "duration": 6,
    "start_time": "2022-05-28T16:04:32.832Z"
   },
   {
    "duration": 14,
    "start_time": "2022-05-28T16:04:32.844Z"
   },
   {
    "duration": 110,
    "start_time": "2022-05-28T16:04:32.860Z"
   },
   {
    "duration": 71,
    "start_time": "2022-05-28T16:04:32.973Z"
   },
   {
    "duration": 23,
    "start_time": "2022-05-28T16:04:33.049Z"
   },
   {
    "duration": 8,
    "start_time": "2022-05-28T16:04:33.074Z"
   },
   {
    "duration": 52,
    "start_time": "2022-05-28T16:04:33.084Z"
   },
   {
    "duration": 24,
    "start_time": "2022-05-28T16:04:33.138Z"
   },
   {
    "duration": 62891,
    "start_time": "2022-05-28T16:04:33.164Z"
   },
   {
    "duration": 6,
    "start_time": "2022-05-28T16:05:36.128Z"
   },
   {
    "duration": 99317,
    "start_time": "2022-05-28T16:05:36.137Z"
   },
   {
    "duration": 9,
    "start_time": "2022-05-28T16:07:15.536Z"
   },
   {
    "duration": 10,
    "start_time": "2022-05-28T16:07:15.552Z"
   },
   {
    "duration": 12,
    "start_time": "2022-05-28T16:07:15.563Z"
   },
   {
    "duration": 69,
    "start_time": "2022-05-28T20:46:27.942Z"
   },
   {
    "duration": 1614,
    "start_time": "2022-05-28T20:46:35.182Z"
   },
   {
    "duration": 3,
    "start_time": "2022-05-28T20:46:36.798Z"
   },
   {
    "duration": 3851,
    "start_time": "2022-05-28T20:46:36.802Z"
   },
   {
    "duration": 2,
    "start_time": "2022-05-28T20:46:40.655Z"
   },
   {
    "duration": 21,
    "start_time": "2022-05-28T20:46:40.660Z"
   },
   {
    "duration": 8,
    "start_time": "2022-05-28T20:46:40.683Z"
   },
   {
    "duration": 11,
    "start_time": "2022-05-28T20:46:40.692Z"
   },
   {
    "duration": 10,
    "start_time": "2022-05-28T20:46:40.706Z"
   },
   {
    "duration": 7,
    "start_time": "2022-05-28T20:46:40.717Z"
   },
   {
    "duration": 8,
    "start_time": "2022-05-28T20:46:40.726Z"
   },
   {
    "duration": 11,
    "start_time": "2022-05-28T20:46:40.736Z"
   },
   {
    "duration": 20,
    "start_time": "2022-05-28T20:46:40.749Z"
   },
   {
    "duration": 39,
    "start_time": "2022-05-28T20:46:40.771Z"
   },
   {
    "duration": 30,
    "start_time": "2022-05-28T20:46:40.812Z"
   },
   {
    "duration": 7,
    "start_time": "2022-05-28T20:46:40.844Z"
   },
   {
    "duration": 8,
    "start_time": "2022-05-28T20:46:40.853Z"
   },
   {
    "duration": 21,
    "start_time": "2022-05-28T20:46:40.862Z"
   },
   {
    "duration": 9,
    "start_time": "2022-05-28T20:46:40.885Z"
   },
   {
    "duration": 5,
    "start_time": "2022-05-28T20:46:40.896Z"
   },
   {
    "duration": 6,
    "start_time": "2022-05-28T20:46:40.903Z"
   },
   {
    "duration": 16,
    "start_time": "2022-05-28T20:46:40.912Z"
   },
   {
    "duration": 3159,
    "start_time": "2022-05-28T20:46:40.930Z"
   },
   {
    "duration": 5,
    "start_time": "2022-05-28T20:46:44.090Z"
   },
   {
    "duration": 1083,
    "start_time": "2022-05-28T20:46:44.096Z"
   },
   {
    "duration": 4,
    "start_time": "2022-05-28T20:46:45.181Z"
   },
   {
    "duration": 2473,
    "start_time": "2022-05-28T20:46:45.186Z"
   },
   {
    "duration": 149,
    "start_time": "2022-05-28T20:46:47.661Z"
   },
   {
    "duration": 25,
    "start_time": "2022-05-28T20:46:47.814Z"
   },
   {
    "duration": 23,
    "start_time": "2022-05-28T20:46:47.841Z"
   },
   {
    "duration": 19,
    "start_time": "2022-05-28T20:46:47.866Z"
   },
   {
    "duration": 12,
    "start_time": "2022-05-28T20:46:47.887Z"
   },
   {
    "duration": 8,
    "start_time": "2022-05-28T20:46:47.902Z"
   },
   {
    "duration": 18,
    "start_time": "2022-05-28T20:46:47.912Z"
   },
   {
    "duration": 35,
    "start_time": "2022-05-28T20:46:47.932Z"
   },
   {
    "duration": 29,
    "start_time": "2022-05-28T20:46:47.969Z"
   },
   {
    "duration": 37,
    "start_time": "2022-05-28T20:46:48.000Z"
   },
   {
    "duration": 3,
    "start_time": "2022-05-28T20:46:48.039Z"
   },
   {
    "duration": 5,
    "start_time": "2022-05-28T20:46:48.061Z"
   },
   {
    "duration": 15,
    "start_time": "2022-05-28T20:46:48.068Z"
   },
   {
    "duration": 10,
    "start_time": "2022-05-28T20:46:48.084Z"
   },
   {
    "duration": 8,
    "start_time": "2022-05-28T20:46:48.096Z"
   },
   {
    "duration": 53,
    "start_time": "2022-05-28T20:46:48.106Z"
   },
   {
    "duration": 5,
    "start_time": "2022-05-28T20:46:48.162Z"
   },
   {
    "duration": 15,
    "start_time": "2022-05-28T20:46:48.169Z"
   },
   {
    "duration": 5,
    "start_time": "2022-05-28T20:46:48.186Z"
   },
   {
    "duration": 5,
    "start_time": "2022-05-28T20:46:48.193Z"
   },
   {
    "duration": 10,
    "start_time": "2022-05-28T20:46:48.200Z"
   },
   {
    "duration": 36758,
    "start_time": "2022-05-28T20:46:48.212Z"
   },
   {
    "duration": 6,
    "start_time": "2022-05-28T20:47:24.973Z"
   },
   {
    "duration": 54407,
    "start_time": "2022-05-28T20:47:25.060Z"
   },
   {
    "duration": 6,
    "start_time": "2022-05-28T20:48:19.473Z"
   },
   {
    "duration": 24,
    "start_time": "2022-05-28T20:48:19.562Z"
   },
   {
    "duration": 6,
    "start_time": "2022-05-28T20:48:19.588Z"
   },
   {
    "duration": 4,
    "start_time": "2022-05-28T21:08:15.886Z"
   },
   {
    "duration": 10,
    "start_time": "2022-05-28T21:08:26.857Z"
   },
   {
    "duration": 6,
    "start_time": "2022-05-28T21:08:39.657Z"
   },
   {
    "duration": 4,
    "start_time": "2022-05-28T21:08:45.001Z"
   },
   {
    "duration": 1402,
    "start_time": "2022-05-29T06:40:23.983Z"
   },
   {
    "duration": 3,
    "start_time": "2022-05-29T06:40:25.387Z"
   },
   {
    "duration": 2925,
    "start_time": "2022-05-29T06:40:25.392Z"
   },
   {
    "duration": 2,
    "start_time": "2022-05-29T06:40:28.319Z"
   },
   {
    "duration": 11,
    "start_time": "2022-05-29T06:40:28.323Z"
   },
   {
    "duration": 11,
    "start_time": "2022-05-29T06:40:28.335Z"
   },
   {
    "duration": 8,
    "start_time": "2022-05-29T06:40:28.347Z"
   },
   {
    "duration": 15,
    "start_time": "2022-05-29T06:40:28.357Z"
   },
   {
    "duration": 6,
    "start_time": "2022-05-29T06:40:28.374Z"
   },
   {
    "duration": 7,
    "start_time": "2022-05-29T06:40:28.382Z"
   },
   {
    "duration": 7,
    "start_time": "2022-05-29T06:40:28.390Z"
   },
   {
    "duration": 16,
    "start_time": "2022-05-29T06:40:28.399Z"
   },
   {
    "duration": 9,
    "start_time": "2022-05-29T06:40:28.416Z"
   },
   {
    "duration": 6,
    "start_time": "2022-05-29T06:40:28.427Z"
   },
   {
    "duration": 18,
    "start_time": "2022-05-29T06:40:28.434Z"
   },
   {
    "duration": 3,
    "start_time": "2022-05-29T06:40:28.454Z"
   },
   {
    "duration": 5,
    "start_time": "2022-05-29T06:40:28.458Z"
   },
   {
    "duration": 6,
    "start_time": "2022-05-29T06:40:28.464Z"
   },
   {
    "duration": 4,
    "start_time": "2022-05-29T06:40:28.472Z"
   },
   {
    "duration": 7,
    "start_time": "2022-05-29T06:40:28.477Z"
   },
   {
    "duration": 13,
    "start_time": "2022-05-29T06:40:28.486Z"
   },
   {
    "duration": 2943,
    "start_time": "2022-05-29T06:40:28.500Z"
   },
   {
    "duration": 7,
    "start_time": "2022-05-29T06:40:31.445Z"
   },
   {
    "duration": 908,
    "start_time": "2022-05-29T06:40:31.454Z"
   },
   {
    "duration": 3,
    "start_time": "2022-05-29T06:40:32.364Z"
   },
   {
    "duration": 1902,
    "start_time": "2022-05-29T06:40:32.369Z"
   },
   {
    "duration": 128,
    "start_time": "2022-05-29T06:40:34.273Z"
   },
   {
    "duration": 23,
    "start_time": "2022-05-29T06:40:34.405Z"
   },
   {
    "duration": 8,
    "start_time": "2022-05-29T06:40:34.430Z"
   },
   {
    "duration": 6,
    "start_time": "2022-05-29T06:40:34.452Z"
   },
   {
    "duration": 11,
    "start_time": "2022-05-29T06:40:34.460Z"
   },
   {
    "duration": 7,
    "start_time": "2022-05-29T06:40:34.473Z"
   },
   {
    "duration": 15,
    "start_time": "2022-05-29T06:40:34.482Z"
   },
   {
    "duration": 6,
    "start_time": "2022-05-29T06:40:34.498Z"
   },
   {
    "duration": 46,
    "start_time": "2022-05-29T06:40:34.506Z"
   },
   {
    "duration": 31,
    "start_time": "2022-05-29T06:40:34.553Z"
   },
   {
    "duration": 4,
    "start_time": "2022-05-29T06:40:34.585Z"
   },
   {
    "duration": 6,
    "start_time": "2022-05-29T06:40:34.591Z"
   },
   {
    "duration": 4,
    "start_time": "2022-05-29T06:40:34.599Z"
   },
   {
    "duration": 8,
    "start_time": "2022-05-29T06:40:34.605Z"
   },
   {
    "duration": 5,
    "start_time": "2022-05-29T06:40:34.615Z"
   },
   {
    "duration": 56,
    "start_time": "2022-05-29T06:40:34.621Z"
   },
   {
    "duration": 3,
    "start_time": "2022-05-29T06:40:34.679Z"
   },
   {
    "duration": 7,
    "start_time": "2022-05-29T06:40:34.684Z"
   },
   {
    "duration": 6,
    "start_time": "2022-05-29T06:40:34.693Z"
   },
   {
    "duration": 6,
    "start_time": "2022-05-29T06:40:34.700Z"
   },
   {
    "duration": 6,
    "start_time": "2022-05-29T06:40:34.707Z"
   },
   {
    "duration": 27248,
    "start_time": "2022-05-29T06:40:34.714Z"
   },
   {
    "duration": 4,
    "start_time": "2022-05-29T06:41:02.052Z"
   },
   {
    "duration": 45500,
    "start_time": "2022-05-29T06:41:02.057Z"
   },
   {
    "duration": 94,
    "start_time": "2022-05-29T06:41:47.561Z"
   },
   {
    "duration": 7,
    "start_time": "2022-05-29T06:41:47.657Z"
   },
   {
    "duration": 7,
    "start_time": "2022-05-29T06:41:47.665Z"
   },
   {
    "duration": 61,
    "start_time": "2022-05-30T07:54:03.579Z"
   },
   {
    "duration": 4248,
    "start_time": "2022-05-30T08:08:39.148Z"
   },
   {
    "duration": 20,
    "start_time": "2022-05-30T08:15:38.413Z"
   },
   {
    "duration": 37,
    "start_time": "2022-05-30T08:15:40.698Z"
   },
   {
    "duration": 4,
    "start_time": "2022-05-30T08:17:46.567Z"
   },
   {
    "duration": 11,
    "start_time": "2022-05-30T08:18:07.309Z"
   },
   {
    "duration": 91,
    "start_time": "2022-05-30T08:23:43.791Z"
   },
   {
    "duration": 1403,
    "start_time": "2022-05-30T08:37:15.303Z"
   },
   {
    "duration": 247,
    "start_time": "2022-05-30T08:38:16.066Z"
   },
   {
    "duration": 32,
    "start_time": "2022-05-30T08:38:33.572Z"
   },
   {
    "duration": 1106,
    "start_time": "2022-05-30T08:43:17.392Z"
   },
   {
    "duration": 1464,
    "start_time": "2022-05-30T08:43:46.097Z"
   },
   {
    "duration": 1694,
    "start_time": "2022-05-30T08:44:44.819Z"
   },
   {
    "duration": 1301,
    "start_time": "2022-05-30T08:45:06.979Z"
   },
   {
    "duration": 1444,
    "start_time": "2022-05-30T08:45:20.023Z"
   },
   {
    "duration": 1457,
    "start_time": "2022-05-30T08:46:05.935Z"
   },
   {
    "duration": 27,
    "start_time": "2022-05-30T08:49:09.703Z"
   },
   {
    "duration": 5,
    "start_time": "2022-05-30T08:50:08.727Z"
   },
   {
    "duration": 5,
    "start_time": "2022-05-30T08:50:23.397Z"
   },
   {
    "duration": 9,
    "start_time": "2022-05-30T08:51:00.006Z"
   },
   {
    "duration": 11,
    "start_time": "2022-05-30T08:51:09.215Z"
   },
   {
    "duration": 16,
    "start_time": "2022-05-30T08:51:26.880Z"
   },
   {
    "duration": 5,
    "start_time": "2022-05-30T08:51:58.511Z"
   },
   {
    "duration": 477,
    "start_time": "2022-05-30T08:52:04.093Z"
   },
   {
    "duration": 16,
    "start_time": "2022-05-30T11:41:42.468Z"
   },
   {
    "duration": 19,
    "start_time": "2022-05-30T11:41:58.122Z"
   },
   {
    "duration": 4,
    "start_time": "2022-05-30T11:42:09.530Z"
   },
   {
    "duration": 17,
    "start_time": "2022-05-30T11:42:13.170Z"
   },
   {
    "duration": 10,
    "start_time": "2022-05-30T11:42:19.811Z"
   },
   {
    "duration": 23,
    "start_time": "2022-05-30T11:42:29.749Z"
   },
   {
    "duration": 23,
    "start_time": "2022-05-30T11:42:46.716Z"
   },
   {
    "duration": 28,
    "start_time": "2022-05-30T11:42:56.562Z"
   },
   {
    "duration": 267,
    "start_time": "2022-05-30T11:43:21.283Z"
   },
   {
    "duration": 269,
    "start_time": "2022-05-30T11:44:52.924Z"
   },
   {
    "duration": 45,
    "start_time": "2022-05-30T11:45:14.500Z"
   },
   {
    "duration": 40,
    "start_time": "2022-05-30T11:45:39.075Z"
   },
   {
    "duration": 5,
    "start_time": "2022-05-30T11:46:24.207Z"
   },
   {
    "duration": 5,
    "start_time": "2022-05-30T11:46:24.216Z"
   },
   {
    "duration": 3074,
    "start_time": "2022-05-30T11:46:24.223Z"
   },
   {
    "duration": 4,
    "start_time": "2022-05-30T11:46:27.298Z"
   },
   {
    "duration": 16,
    "start_time": "2022-05-30T11:46:27.304Z"
   },
   {
    "duration": 9,
    "start_time": "2022-05-30T11:46:27.322Z"
   },
   {
    "duration": 19,
    "start_time": "2022-05-30T11:46:27.332Z"
   },
   {
    "duration": 21,
    "start_time": "2022-05-30T11:46:27.353Z"
   },
   {
    "duration": 7,
    "start_time": "2022-05-30T11:46:27.376Z"
   },
   {
    "duration": 37,
    "start_time": "2022-05-30T11:46:27.384Z"
   },
   {
    "duration": 17,
    "start_time": "2022-05-30T11:46:27.424Z"
   },
   {
    "duration": 15,
    "start_time": "2022-05-30T11:46:27.442Z"
   },
   {
    "duration": 4,
    "start_time": "2022-05-30T11:46:27.458Z"
   },
   {
    "duration": 12,
    "start_time": "2022-05-30T11:46:27.463Z"
   },
   {
    "duration": 14,
    "start_time": "2022-05-30T11:46:27.477Z"
   },
   {
    "duration": 10,
    "start_time": "2022-05-30T11:46:27.493Z"
   },
   {
    "duration": 4,
    "start_time": "2022-05-30T11:46:27.505Z"
   },
   {
    "duration": 7,
    "start_time": "2022-05-30T11:46:27.511Z"
   },
   {
    "duration": 9,
    "start_time": "2022-05-30T11:46:27.520Z"
   },
   {
    "duration": 4,
    "start_time": "2022-05-30T11:46:27.553Z"
   },
   {
    "duration": 5,
    "start_time": "2022-05-30T11:46:27.560Z"
   },
   {
    "duration": 8,
    "start_time": "2022-05-30T11:46:27.567Z"
   },
   {
    "duration": 6,
    "start_time": "2022-05-30T11:46:27.576Z"
   },
   {
    "duration": 3005,
    "start_time": "2022-05-30T11:46:27.584Z"
   },
   {
    "duration": 4,
    "start_time": "2022-05-30T11:46:30.591Z"
   },
   {
    "duration": 1117,
    "start_time": "2022-05-30T11:46:30.596Z"
   },
   {
    "duration": 4,
    "start_time": "2022-05-30T11:46:31.715Z"
   },
   {
    "duration": 2186,
    "start_time": "2022-05-30T11:46:31.720Z"
   },
   {
    "duration": 143,
    "start_time": "2022-05-30T11:46:33.910Z"
   },
   {
    "duration": 26,
    "start_time": "2022-05-30T11:46:34.055Z"
   },
   {
    "duration": 9,
    "start_time": "2022-05-30T11:46:36.218Z"
   },
   {
    "duration": 38,
    "start_time": "2022-05-30T11:46:40.661Z"
   },
   {
    "duration": 15,
    "start_time": "2022-05-30T11:46:58.778Z"
   },
   {
    "duration": 251,
    "start_time": "2022-05-30T11:47:07.826Z"
   },
   {
    "duration": 246,
    "start_time": "2022-05-30T11:47:47.659Z"
   },
   {
    "duration": 446,
    "start_time": "2022-05-30T11:48:03.672Z"
   },
   {
    "duration": 280,
    "start_time": "2022-05-30T11:48:31.280Z"
   },
   {
    "duration": 276,
    "start_time": "2022-05-30T11:48:43.765Z"
   },
   {
    "duration": 87,
    "start_time": "2022-05-30T11:50:04.490Z"
   },
   {
    "duration": 327,
    "start_time": "2022-05-30T11:50:23.979Z"
   },
   {
    "duration": 273,
    "start_time": "2022-05-30T11:50:30.866Z"
   },
   {
    "duration": 250,
    "start_time": "2022-05-30T11:50:36.452Z"
   },
   {
    "duration": 265,
    "start_time": "2022-05-30T11:50:46.560Z"
   },
   {
    "duration": 256,
    "start_time": "2022-05-30T11:50:54.561Z"
   },
   {
    "duration": 278,
    "start_time": "2022-05-30T11:51:04.298Z"
   },
   {
    "duration": 327,
    "start_time": "2022-05-30T11:51:09.861Z"
   },
   {
    "duration": 460,
    "start_time": "2022-05-30T11:51:52.121Z"
   },
   {
    "duration": 264,
    "start_time": "2022-05-30T11:52:43.073Z"
   },
   {
    "duration": 137,
    "start_time": "2022-05-30T11:53:09.691Z"
   },
   {
    "duration": 10,
    "start_time": "2022-05-30T12:30:44.118Z"
   },
   {
    "duration": 180,
    "start_time": "2022-05-30T12:31:58.996Z"
   },
   {
    "duration": 5,
    "start_time": "2022-05-30T12:32:26.333Z"
   },
   {
    "duration": 8,
    "start_time": "2022-05-30T12:32:26.340Z"
   },
   {
    "duration": 746,
    "start_time": "2022-05-30T12:32:26.350Z"
   },
   {
    "duration": 3,
    "start_time": "2022-05-30T12:32:27.098Z"
   },
   {
    "duration": 18,
    "start_time": "2022-05-30T12:32:27.103Z"
   },
   {
    "duration": 5,
    "start_time": "2022-05-30T12:32:27.123Z"
   },
   {
    "duration": 9,
    "start_time": "2022-05-30T12:32:27.129Z"
   },
   {
    "duration": 16,
    "start_time": "2022-05-30T12:32:27.139Z"
   },
   {
    "duration": 25,
    "start_time": "2022-05-30T12:32:27.157Z"
   },
   {
    "duration": 7,
    "start_time": "2022-05-30T12:32:27.262Z"
   },
   {
    "duration": 11,
    "start_time": "2022-05-30T12:32:27.271Z"
   },
   {
    "duration": 10,
    "start_time": "2022-05-30T12:32:27.284Z"
   },
   {
    "duration": 4,
    "start_time": "2022-05-30T12:32:27.296Z"
   },
   {
    "duration": 11,
    "start_time": "2022-05-30T12:32:27.302Z"
   },
   {
    "duration": 11,
    "start_time": "2022-05-30T12:32:27.316Z"
   },
   {
    "duration": 28,
    "start_time": "2022-05-30T12:32:27.329Z"
   },
   {
    "duration": 4,
    "start_time": "2022-05-30T12:32:27.359Z"
   },
   {
    "duration": 4,
    "start_time": "2022-05-30T12:32:27.365Z"
   },
   {
    "duration": 5,
    "start_time": "2022-05-30T12:32:27.371Z"
   },
   {
    "duration": 10,
    "start_time": "2022-05-30T12:32:27.377Z"
   },
   {
    "duration": 6,
    "start_time": "2022-05-30T12:32:27.389Z"
   },
   {
    "duration": 9,
    "start_time": "2022-05-30T12:32:27.397Z"
   },
   {
    "duration": 6,
    "start_time": "2022-05-30T12:32:27.409Z"
   },
   {
    "duration": 3055,
    "start_time": "2022-05-30T12:32:27.416Z"
   },
   {
    "duration": 5,
    "start_time": "2022-05-30T12:32:30.473Z"
   },
   {
    "duration": 1242,
    "start_time": "2022-05-30T12:32:30.480Z"
   },
   {
    "duration": 4,
    "start_time": "2022-05-30T12:32:31.725Z"
   },
   {
    "duration": 2513,
    "start_time": "2022-05-30T12:32:31.733Z"
   },
   {
    "duration": 135,
    "start_time": "2022-05-30T12:32:34.252Z"
   },
   {
    "duration": 26,
    "start_time": "2022-05-30T12:32:34.388Z"
   },
   {
    "duration": 9,
    "start_time": "2022-05-30T12:32:34.415Z"
   },
   {
    "duration": 33,
    "start_time": "2022-05-30T12:32:56.612Z"
   },
   {
    "duration": 4891,
    "start_time": "2022-05-30T12:33:21.636Z"
   },
   {
    "duration": 4963,
    "start_time": "2022-05-30T12:33:38.501Z"
   },
   {
    "duration": 5181,
    "start_time": "2022-05-30T12:34:06.204Z"
   },
   {
    "duration": 5160,
    "start_time": "2022-05-30T12:34:28.277Z"
   },
   {
    "duration": 40,
    "start_time": "2022-05-30T12:35:20.404Z"
   },
   {
    "duration": 42,
    "start_time": "2022-05-30T12:35:29.365Z"
   },
   {
    "duration": 335,
    "start_time": "2022-05-30T12:35:42.317Z"
   },
   {
    "duration": 276,
    "start_time": "2022-05-30T12:36:20.894Z"
   },
   {
    "duration": 151,
    "start_time": "2022-05-30T12:37:20.684Z"
   },
   {
    "duration": 61,
    "start_time": "2022-05-30T12:37:26.477Z"
   },
   {
    "duration": 27,
    "start_time": "2022-05-30T12:37:32.083Z"
   },
   {
    "duration": 8,
    "start_time": "2022-05-30T12:37:54.580Z"
   },
   {
    "duration": 85,
    "start_time": "2022-05-30T17:17:40.229Z"
   },
   {
    "duration": 1846,
    "start_time": "2022-05-30T17:17:50.310Z"
   },
   {
    "duration": 3,
    "start_time": "2022-05-30T17:17:52.159Z"
   },
   {
    "duration": 3451,
    "start_time": "2022-05-30T17:17:52.164Z"
   },
   {
    "duration": 3,
    "start_time": "2022-05-30T17:17:55.618Z"
   },
   {
    "duration": 14,
    "start_time": "2022-05-30T17:17:55.623Z"
   },
   {
    "duration": 9,
    "start_time": "2022-05-30T17:17:55.639Z"
   },
   {
    "duration": 8,
    "start_time": "2022-05-30T17:17:55.650Z"
   },
   {
    "duration": 7,
    "start_time": "2022-05-30T17:17:55.660Z"
   },
   {
    "duration": 15,
    "start_time": "2022-05-30T17:17:55.669Z"
   },
   {
    "duration": 7,
    "start_time": "2022-05-30T17:17:55.687Z"
   },
   {
    "duration": 12,
    "start_time": "2022-05-30T17:17:55.696Z"
   },
   {
    "duration": 21,
    "start_time": "2022-05-30T17:17:55.710Z"
   },
   {
    "duration": 4,
    "start_time": "2022-05-30T17:17:55.733Z"
   },
   {
    "duration": 10,
    "start_time": "2022-05-30T17:17:55.739Z"
   },
   {
    "duration": 11,
    "start_time": "2022-05-30T17:17:55.751Z"
   },
   {
    "duration": 10,
    "start_time": "2022-05-30T17:17:55.763Z"
   },
   {
    "duration": 6,
    "start_time": "2022-05-30T17:17:55.775Z"
   },
   {
    "duration": 44,
    "start_time": "2022-05-30T17:17:55.783Z"
   },
   {
    "duration": 4,
    "start_time": "2022-05-30T17:17:55.830Z"
   },
   {
    "duration": 10,
    "start_time": "2022-05-30T17:17:55.836Z"
   },
   {
    "duration": 6,
    "start_time": "2022-05-30T17:17:55.848Z"
   },
   {
    "duration": 7,
    "start_time": "2022-05-30T17:17:55.856Z"
   },
   {
    "duration": 11,
    "start_time": "2022-05-30T17:17:55.866Z"
   },
   {
    "duration": 3277,
    "start_time": "2022-05-30T17:17:55.880Z"
   },
   {
    "duration": 6,
    "start_time": "2022-05-30T17:17:59.160Z"
   },
   {
    "duration": 1293,
    "start_time": "2022-05-30T17:17:59.168Z"
   },
   {
    "duration": 6,
    "start_time": "2022-05-30T17:18:00.463Z"
   },
   {
    "duration": 2250,
    "start_time": "2022-05-30T17:18:00.474Z"
   },
   {
    "duration": 157,
    "start_time": "2022-05-30T17:18:02.725Z"
   },
   {
    "duration": 26,
    "start_time": "2022-05-30T17:18:02.884Z"
   },
   {
    "duration": 21,
    "start_time": "2022-05-30T17:18:02.912Z"
   },
   {
    "duration": 262,
    "start_time": "2022-05-30T17:18:02.935Z"
   },
   {
    "duration": 7,
    "start_time": "2022-05-30T17:18:03.198Z"
   },
   {
    "duration": 20,
    "start_time": "2022-05-30T17:18:03.207Z"
   },
   {
    "duration": 17,
    "start_time": "2022-05-30T17:18:03.229Z"
   },
   {
    "duration": 2,
    "start_time": "2022-05-30T17:18:03.248Z"
   },
   {
    "duration": 14,
    "start_time": "2022-05-30T17:18:03.252Z"
   },
   {
    "duration": 3,
    "start_time": "2022-05-30T17:18:03.268Z"
   },
   {
    "duration": 253,
    "start_time": "2022-05-30T17:18:03.273Z"
   },
   {
    "duration": 277,
    "start_time": "2022-05-30T17:18:03.528Z"
   },
   {
    "duration": 8,
    "start_time": "2022-05-30T17:18:03.807Z"
   },
   {
    "duration": 62,
    "start_time": "2022-05-30T17:18:03.827Z"
   },
   {
    "duration": 6,
    "start_time": "2022-05-30T17:18:03.891Z"
   },
   {
    "duration": 9,
    "start_time": "2022-05-30T17:18:03.899Z"
   },
   {
    "duration": 4,
    "start_time": "2022-05-30T17:18:03.926Z"
   },
   {
    "duration": 16,
    "start_time": "2022-05-30T17:18:03.932Z"
   },
   {
    "duration": 8,
    "start_time": "2022-05-30T17:18:03.949Z"
   },
   {
    "duration": 40,
    "start_time": "2022-05-30T17:18:03.958Z"
   },
   {
    "duration": 14,
    "start_time": "2022-05-30T17:18:04.000Z"
   },
   {
    "duration": 11,
    "start_time": "2022-05-30T17:18:04.025Z"
   },
   {
    "duration": 18,
    "start_time": "2022-05-30T17:18:04.038Z"
   },
   {
    "duration": 26,
    "start_time": "2022-05-30T17:18:04.058Z"
   },
   {
    "duration": 20,
    "start_time": "2022-05-30T17:18:04.086Z"
   },
   {
    "duration": 28720,
    "start_time": "2022-05-30T17:18:04.108Z"
   },
   {
    "duration": 9,
    "start_time": "2022-05-30T17:18:32.831Z"
   },
   {
    "duration": 42387,
    "start_time": "2022-05-30T17:18:32.842Z"
   },
   {
    "duration": 4,
    "start_time": "2022-05-30T17:19:15.231Z"
   },
   {
    "duration": 9,
    "start_time": "2022-05-30T17:19:15.237Z"
   },
   {
    "duration": 10,
    "start_time": "2022-05-30T17:19:15.248Z"
   },
   {
    "duration": 225,
    "start_time": "2022-05-30T17:20:43.697Z"
   },
   {
    "duration": 360,
    "start_time": "2022-05-30T17:21:53.158Z"
   },
   {
    "duration": 6,
    "start_time": "2022-05-30T17:24:20.642Z"
   },
   {
    "duration": 8,
    "start_time": "2022-05-30T17:24:20.650Z"
   },
   {
    "duration": 766,
    "start_time": "2022-05-30T17:24:20.660Z"
   },
   {
    "duration": 4,
    "start_time": "2022-05-30T17:24:21.429Z"
   },
   {
    "duration": 11,
    "start_time": "2022-05-30T17:24:21.435Z"
   },
   {
    "duration": 16,
    "start_time": "2022-05-30T17:24:21.448Z"
   },
   {
    "duration": 19,
    "start_time": "2022-05-30T17:24:21.466Z"
   },
   {
    "duration": 63,
    "start_time": "2022-05-30T17:24:21.488Z"
   },
   {
    "duration": 20,
    "start_time": "2022-05-30T17:24:21.553Z"
   },
   {
    "duration": 9,
    "start_time": "2022-05-30T17:24:21.575Z"
   },
   {
    "duration": 12,
    "start_time": "2022-05-30T17:24:21.586Z"
   },
   {
    "duration": 14,
    "start_time": "2022-05-30T17:24:21.599Z"
   },
   {
    "duration": 14,
    "start_time": "2022-05-30T17:24:21.615Z"
   },
   {
    "duration": 18,
    "start_time": "2022-05-30T17:24:21.631Z"
   },
   {
    "duration": 33,
    "start_time": "2022-05-30T17:24:21.650Z"
   },
   {
    "duration": 26,
    "start_time": "2022-05-30T17:24:21.684Z"
   },
   {
    "duration": 11,
    "start_time": "2022-05-30T17:24:21.712Z"
   },
   {
    "duration": 32,
    "start_time": "2022-05-30T17:24:21.725Z"
   },
   {
    "duration": 22,
    "start_time": "2022-05-30T17:24:21.759Z"
   },
   {
    "duration": 22,
    "start_time": "2022-05-30T17:24:21.785Z"
   },
   {
    "duration": 6,
    "start_time": "2022-05-30T17:24:21.809Z"
   },
   {
    "duration": 11,
    "start_time": "2022-05-30T17:24:21.817Z"
   },
   {
    "duration": 14,
    "start_time": "2022-05-30T17:24:21.830Z"
   },
   {
    "duration": 3469,
    "start_time": "2022-05-30T17:24:21.846Z"
   },
   {
    "duration": 10,
    "start_time": "2022-05-30T17:24:25.317Z"
   },
   {
    "duration": 1453,
    "start_time": "2022-05-30T17:24:25.329Z"
   },
   {
    "duration": 4,
    "start_time": "2022-05-30T17:24:26.784Z"
   },
   {
    "duration": 2147,
    "start_time": "2022-05-30T17:24:26.790Z"
   },
   {
    "duration": 132,
    "start_time": "2022-05-30T17:24:28.942Z"
   },
   {
    "duration": 25,
    "start_time": "2022-05-30T17:24:29.076Z"
   },
   {
    "duration": 31,
    "start_time": "2022-05-30T17:24:29.103Z"
   },
   {
    "duration": 273,
    "start_time": "2022-05-30T17:24:29.136Z"
   },
   {
    "duration": 3,
    "start_time": "2022-05-30T17:24:29.410Z"
   },
   {
    "duration": 11,
    "start_time": "2022-05-30T17:24:29.414Z"
   },
   {
    "duration": 2,
    "start_time": "2022-05-30T17:24:37.934Z"
   },
   {
    "duration": 8,
    "start_time": "2022-05-30T17:24:38.365Z"
   },
   {
    "duration": 2,
    "start_time": "2022-05-30T17:24:38.860Z"
   },
   {
    "duration": 194,
    "start_time": "2022-05-30T17:24:40.943Z"
   },
   {
    "duration": 270,
    "start_time": "2022-05-30T17:24:41.830Z"
   },
   {
    "duration": 6,
    "start_time": "2022-05-30T17:25:15.038Z"
   },
   {
    "duration": 43,
    "start_time": "2022-05-30T17:25:15.045Z"
   },
   {
    "duration": 755,
    "start_time": "2022-05-30T17:25:15.089Z"
   },
   {
    "duration": 4,
    "start_time": "2022-05-30T17:25:15.846Z"
   },
   {
    "duration": 7,
    "start_time": "2022-05-30T17:25:15.853Z"
   },
   {
    "duration": 9,
    "start_time": "2022-05-30T17:25:15.862Z"
   },
   {
    "duration": 9,
    "start_time": "2022-05-30T17:25:15.872Z"
   },
   {
    "duration": 18,
    "start_time": "2022-05-30T17:25:15.883Z"
   },
   {
    "duration": 11,
    "start_time": "2022-05-30T17:25:15.903Z"
   },
   {
    "duration": 9,
    "start_time": "2022-05-30T17:25:15.918Z"
   },
   {
    "duration": 12,
    "start_time": "2022-05-30T17:25:15.929Z"
   },
   {
    "duration": 10,
    "start_time": "2022-05-30T17:25:15.942Z"
   },
   {
    "duration": 6,
    "start_time": "2022-05-30T17:25:15.954Z"
   },
   {
    "duration": 11,
    "start_time": "2022-05-30T17:25:15.962Z"
   },
   {
    "duration": 8,
    "start_time": "2022-05-30T17:25:15.975Z"
   },
   {
    "duration": 14,
    "start_time": "2022-05-30T17:25:15.985Z"
   },
   {
    "duration": 28,
    "start_time": "2022-05-30T17:25:16.001Z"
   },
   {
    "duration": 10,
    "start_time": "2022-05-30T17:25:16.031Z"
   },
   {
    "duration": 29,
    "start_time": "2022-05-30T17:25:16.043Z"
   },
   {
    "duration": 33,
    "start_time": "2022-05-30T17:25:16.073Z"
   },
   {
    "duration": 12,
    "start_time": "2022-05-30T17:25:16.108Z"
   },
   {
    "duration": 21,
    "start_time": "2022-05-30T17:25:16.122Z"
   },
   {
    "duration": 11,
    "start_time": "2022-05-30T17:25:16.145Z"
   },
   {
    "duration": 2970,
    "start_time": "2022-05-30T17:25:16.158Z"
   },
   {
    "duration": 4,
    "start_time": "2022-05-30T17:25:19.130Z"
   },
   {
    "duration": 1115,
    "start_time": "2022-05-30T17:25:19.136Z"
   },
   {
    "duration": 4,
    "start_time": "2022-05-30T17:25:20.252Z"
   },
   {
    "duration": 2125,
    "start_time": "2022-05-30T17:25:20.261Z"
   },
   {
    "duration": 156,
    "start_time": "2022-05-30T17:25:22.388Z"
   },
   {
    "duration": 26,
    "start_time": "2022-05-30T17:25:22.545Z"
   },
   {
    "duration": 8,
    "start_time": "2022-05-30T17:25:22.572Z"
   },
   {
    "duration": 284,
    "start_time": "2022-05-30T17:25:22.582Z"
   },
   {
    "duration": 3,
    "start_time": "2022-05-30T17:25:22.868Z"
   },
   {
    "duration": 13,
    "start_time": "2022-05-30T17:25:22.872Z"
   },
   {
    "duration": 12,
    "start_time": "2022-05-30T17:25:22.887Z"
   },
   {
    "duration": 15,
    "start_time": "2022-05-30T17:25:22.901Z"
   },
   {
    "duration": 179,
    "start_time": "2022-05-30T17:25:22.918Z"
   },
   {
    "duration": 250,
    "start_time": "2022-05-30T17:25:43.884Z"
   },
   {
    "duration": 46,
    "start_time": "2022-05-30T17:26:07.942Z"
   },
   {
    "duration": 4,
    "start_time": "2022-05-30T17:26:07.990Z"
   },
   {
    "duration": 5,
    "start_time": "2022-05-30T17:26:07.996Z"
   },
   {
    "duration": 11,
    "start_time": "2022-05-30T17:26:08.002Z"
   },
   {
    "duration": 14,
    "start_time": "2022-05-30T17:26:08.016Z"
   },
   {
    "duration": 5,
    "start_time": "2022-05-30T17:26:08.032Z"
   },
   {
    "duration": 40,
    "start_time": "2022-05-30T17:26:08.039Z"
   },
   {
    "duration": 4,
    "start_time": "2022-05-30T17:26:08.081Z"
   },
   {
    "duration": 14,
    "start_time": "2022-05-30T17:26:08.086Z"
   },
   {
    "duration": 6,
    "start_time": "2022-05-30T17:26:08.102Z"
   },
   {
    "duration": 4,
    "start_time": "2022-05-30T17:26:08.126Z"
   },
   {
    "duration": 8,
    "start_time": "2022-05-30T17:26:08.132Z"
   },
   {
    "duration": 147,
    "start_time": "2022-05-30T17:26:08.141Z"
   },
   {
    "duration": 0,
    "start_time": "2022-05-30T17:26:08.290Z"
   },
   {
    "duration": 0,
    "start_time": "2022-05-30T17:26:08.291Z"
   },
   {
    "duration": 1,
    "start_time": "2022-05-30T17:26:08.292Z"
   },
   {
    "duration": 0,
    "start_time": "2022-05-30T17:26:08.294Z"
   },
   {
    "duration": 0,
    "start_time": "2022-05-30T17:26:08.294Z"
   },
   {
    "duration": 6,
    "start_time": "2022-05-30T17:26:26.202Z"
   },
   {
    "duration": 7,
    "start_time": "2022-05-30T17:26:26.211Z"
   },
   {
    "duration": 840,
    "start_time": "2022-05-30T17:26:26.220Z"
   },
   {
    "duration": 3,
    "start_time": "2022-05-30T17:26:27.062Z"
   },
   {
    "duration": 21,
    "start_time": "2022-05-30T17:26:27.068Z"
   },
   {
    "duration": 9,
    "start_time": "2022-05-30T17:26:27.091Z"
   },
   {
    "duration": 7,
    "start_time": "2022-05-30T17:26:27.102Z"
   },
   {
    "duration": 9,
    "start_time": "2022-05-30T17:26:27.110Z"
   },
   {
    "duration": 4,
    "start_time": "2022-05-30T17:26:27.126Z"
   },
   {
    "duration": 16,
    "start_time": "2022-05-30T17:26:27.132Z"
   },
   {
    "duration": 11,
    "start_time": "2022-05-30T17:26:27.151Z"
   },
   {
    "duration": 15,
    "start_time": "2022-05-30T17:26:27.164Z"
   },
   {
    "duration": 5,
    "start_time": "2022-05-30T17:26:27.181Z"
   },
   {
    "duration": 16,
    "start_time": "2022-05-30T17:26:27.190Z"
   },
   {
    "duration": 19,
    "start_time": "2022-05-30T17:26:27.208Z"
   },
   {
    "duration": 10,
    "start_time": "2022-05-30T17:26:27.229Z"
   },
   {
    "duration": 23,
    "start_time": "2022-05-30T17:26:27.241Z"
   },
   {
    "duration": 5,
    "start_time": "2022-05-30T17:26:27.270Z"
   },
   {
    "duration": 9,
    "start_time": "2022-05-30T17:26:27.277Z"
   },
   {
    "duration": 15,
    "start_time": "2022-05-30T17:26:27.288Z"
   },
   {
    "duration": 5,
    "start_time": "2022-05-30T17:26:27.305Z"
   },
   {
    "duration": 16,
    "start_time": "2022-05-30T17:26:27.312Z"
   },
   {
    "duration": 41,
    "start_time": "2022-05-30T17:26:27.330Z"
   },
   {
    "duration": 3079,
    "start_time": "2022-05-30T17:26:27.373Z"
   },
   {
    "duration": 4,
    "start_time": "2022-05-30T17:26:30.454Z"
   },
   {
    "duration": 1236,
    "start_time": "2022-05-30T17:26:30.460Z"
   },
   {
    "duration": 4,
    "start_time": "2022-05-30T17:26:31.699Z"
   },
   {
    "duration": 2910,
    "start_time": "2022-05-30T17:26:31.705Z"
   },
   {
    "duration": 154,
    "start_time": "2022-05-30T17:26:34.617Z"
   },
   {
    "duration": 40,
    "start_time": "2022-05-30T17:26:34.774Z"
   },
   {
    "duration": 17,
    "start_time": "2022-05-30T17:26:34.827Z"
   },
   {
    "duration": 279,
    "start_time": "2022-05-30T17:26:34.846Z"
   },
   {
    "duration": 2,
    "start_time": "2022-05-30T17:26:35.127Z"
   },
   {
    "duration": 8,
    "start_time": "2022-05-30T17:26:35.131Z"
   },
   {
    "duration": 12,
    "start_time": "2022-05-30T17:26:35.142Z"
   },
   {
    "duration": 10,
    "start_time": "2022-05-30T17:26:35.155Z"
   },
   {
    "duration": 250,
    "start_time": "2022-05-30T17:26:35.167Z"
   },
   {
    "duration": 312,
    "start_time": "2022-05-30T17:26:35.422Z"
   },
   {
    "duration": 564,
    "start_time": "2022-05-30T17:27:17.275Z"
   },
   {
    "duration": 593,
    "start_time": "2022-05-30T17:27:32.023Z"
   },
   {
    "duration": 34,
    "start_time": "2022-05-30T17:27:39.656Z"
   },
   {
    "duration": 262,
    "start_time": "2022-05-30T17:27:42.755Z"
   },
   {
    "duration": 1393,
    "start_time": "2022-05-30T17:29:04.422Z"
   },
   {
    "duration": 3,
    "start_time": "2022-05-30T17:29:05.817Z"
   },
   {
    "duration": 702,
    "start_time": "2022-05-30T17:29:05.826Z"
   },
   {
    "duration": 3,
    "start_time": "2022-05-30T17:29:06.530Z"
   },
   {
    "duration": 9,
    "start_time": "2022-05-30T17:29:06.535Z"
   },
   {
    "duration": 6,
    "start_time": "2022-05-30T17:29:06.546Z"
   },
   {
    "duration": 14,
    "start_time": "2022-05-30T17:29:06.555Z"
   },
   {
    "duration": 17,
    "start_time": "2022-05-30T17:29:06.572Z"
   },
   {
    "duration": 6,
    "start_time": "2022-05-30T17:29:06.591Z"
   },
   {
    "duration": 11,
    "start_time": "2022-05-30T17:29:06.599Z"
   },
   {
    "duration": 17,
    "start_time": "2022-05-30T17:29:06.612Z"
   },
   {
    "duration": 14,
    "start_time": "2022-05-30T17:29:06.631Z"
   },
   {
    "duration": 4,
    "start_time": "2022-05-30T17:29:06.647Z"
   },
   {
    "duration": 11,
    "start_time": "2022-05-30T17:29:06.653Z"
   },
   {
    "duration": 12,
    "start_time": "2022-05-30T17:29:06.666Z"
   },
   {
    "duration": 9,
    "start_time": "2022-05-30T17:29:06.680Z"
   },
   {
    "duration": 4,
    "start_time": "2022-05-30T17:29:06.726Z"
   },
   {
    "duration": 7,
    "start_time": "2022-05-30T17:29:06.732Z"
   },
   {
    "duration": 7,
    "start_time": "2022-05-30T17:29:06.740Z"
   },
   {
    "duration": 10,
    "start_time": "2022-05-30T17:29:06.749Z"
   },
   {
    "duration": 7,
    "start_time": "2022-05-30T17:29:06.761Z"
   },
   {
    "duration": 8,
    "start_time": "2022-05-30T17:29:06.770Z"
   },
   {
    "duration": 12,
    "start_time": "2022-05-30T17:29:06.779Z"
   },
   {
    "duration": 3039,
    "start_time": "2022-05-30T17:29:06.793Z"
   },
   {
    "duration": 4,
    "start_time": "2022-05-30T17:29:09.834Z"
   },
   {
    "duration": 1074,
    "start_time": "2022-05-30T17:29:09.840Z"
   },
   {
    "duration": 11,
    "start_time": "2022-05-30T17:29:10.915Z"
   },
   {
    "duration": 2035,
    "start_time": "2022-05-30T17:29:10.929Z"
   },
   {
    "duration": 159,
    "start_time": "2022-05-30T17:29:12.965Z"
   },
   {
    "duration": 28,
    "start_time": "2022-05-30T17:29:13.126Z"
   },
   {
    "duration": 10,
    "start_time": "2022-05-30T17:29:13.156Z"
   },
   {
    "duration": 295,
    "start_time": "2022-05-30T17:29:13.168Z"
   },
   {
    "duration": 4,
    "start_time": "2022-05-30T17:29:13.465Z"
   },
   {
    "duration": 7,
    "start_time": "2022-05-30T17:29:13.470Z"
   },
   {
    "duration": 12,
    "start_time": "2022-05-30T17:29:13.479Z"
   },
   {
    "duration": 4,
    "start_time": "2022-05-30T17:29:13.493Z"
   },
   {
    "duration": 60,
    "start_time": "2022-05-30T17:29:13.499Z"
   },
   {
    "duration": 242,
    "start_time": "2022-05-30T17:29:13.561Z"
   },
   {
    "duration": 46,
    "start_time": "2022-05-30T17:29:13.805Z"
   },
   {
    "duration": 35,
    "start_time": "2022-05-30T17:29:13.853Z"
   },
   {
    "duration": 5,
    "start_time": "2022-05-30T17:29:13.890Z"
   },
   {
    "duration": 5,
    "start_time": "2022-05-30T17:29:13.897Z"
   },
   {
    "duration": 3,
    "start_time": "2022-05-30T17:29:13.927Z"
   },
   {
    "duration": 8,
    "start_time": "2022-05-30T17:29:13.932Z"
   },
   {
    "duration": 4,
    "start_time": "2022-05-30T17:29:13.942Z"
   },
   {
    "duration": 35,
    "start_time": "2022-05-30T17:29:13.948Z"
   },
   {
    "duration": 2,
    "start_time": "2022-05-30T17:29:13.985Z"
   },
   {
    "duration": 8,
    "start_time": "2022-05-30T17:29:13.989Z"
   },
   {
    "duration": 4,
    "start_time": "2022-05-30T17:29:14.026Z"
   },
   {
    "duration": 6,
    "start_time": "2022-05-30T17:29:14.032Z"
   },
   {
    "duration": 11,
    "start_time": "2022-05-30T17:29:14.039Z"
   },
   {
    "duration": 38681,
    "start_time": "2022-05-30T17:29:14.051Z"
   },
   {
    "duration": 5,
    "start_time": "2022-05-30T17:29:52.734Z"
   },
   {
    "duration": 32802,
    "start_time": "2022-05-30T17:29:52.827Z"
   },
   {
    "duration": 5,
    "start_time": "2022-05-30T17:30:25.632Z"
   },
   {
    "duration": 90,
    "start_time": "2022-05-30T17:30:25.639Z"
   },
   {
    "duration": 12,
    "start_time": "2022-05-30T17:30:25.731Z"
   },
   {
    "duration": 1280,
    "start_time": "2022-05-30T17:31:52.962Z"
   },
   {
    "duration": 4,
    "start_time": "2022-05-30T17:31:54.244Z"
   },
   {
    "duration": 923,
    "start_time": "2022-05-30T17:31:54.250Z"
   },
   {
    "duration": 3,
    "start_time": "2022-05-30T17:31:55.175Z"
   },
   {
    "duration": 35,
    "start_time": "2022-05-30T17:31:55.180Z"
   },
   {
    "duration": 10,
    "start_time": "2022-05-30T17:31:55.217Z"
   },
   {
    "duration": 38,
    "start_time": "2022-05-30T17:31:55.230Z"
   },
   {
    "duration": 13,
    "start_time": "2022-05-30T17:31:55.270Z"
   },
   {
    "duration": 27,
    "start_time": "2022-05-30T17:31:55.284Z"
   },
   {
    "duration": 10,
    "start_time": "2022-05-30T17:31:55.314Z"
   },
   {
    "duration": 8,
    "start_time": "2022-05-30T17:31:55.325Z"
   },
   {
    "duration": 10,
    "start_time": "2022-05-30T17:31:55.334Z"
   },
   {
    "duration": 4,
    "start_time": "2022-05-30T17:31:55.346Z"
   },
   {
    "duration": 11,
    "start_time": "2022-05-30T17:31:55.352Z"
   },
   {
    "duration": 18,
    "start_time": "2022-05-30T17:31:55.365Z"
   },
   {
    "duration": 11,
    "start_time": "2022-05-30T17:31:55.385Z"
   },
   {
    "duration": 30,
    "start_time": "2022-05-30T17:31:55.397Z"
   },
   {
    "duration": 15,
    "start_time": "2022-05-30T17:31:55.430Z"
   },
   {
    "duration": 9,
    "start_time": "2022-05-30T17:31:55.447Z"
   },
   {
    "duration": 14,
    "start_time": "2022-05-30T17:31:55.458Z"
   },
   {
    "duration": 9,
    "start_time": "2022-05-30T17:31:55.473Z"
   },
   {
    "duration": 18,
    "start_time": "2022-05-30T17:31:55.483Z"
   },
   {
    "duration": 10,
    "start_time": "2022-05-30T17:31:55.503Z"
   },
   {
    "duration": 3031,
    "start_time": "2022-05-30T17:31:55.515Z"
   },
   {
    "duration": 5,
    "start_time": "2022-05-30T17:31:58.548Z"
   },
   {
    "duration": 1155,
    "start_time": "2022-05-30T17:31:58.555Z"
   },
   {
    "duration": 5,
    "start_time": "2022-05-30T17:31:59.712Z"
   },
   {
    "duration": 2294,
    "start_time": "2022-05-30T17:31:59.728Z"
   },
   {
    "duration": 151,
    "start_time": "2022-05-30T17:32:02.027Z"
   },
   {
    "duration": 36,
    "start_time": "2022-05-30T17:32:02.180Z"
   },
   {
    "duration": 10,
    "start_time": "2022-05-30T17:32:02.227Z"
   },
   {
    "duration": 306,
    "start_time": "2022-05-30T17:32:02.240Z"
   },
   {
    "duration": 3,
    "start_time": "2022-05-30T17:32:02.548Z"
   },
   {
    "duration": 14,
    "start_time": "2022-05-30T17:32:02.553Z"
   },
   {
    "duration": 15,
    "start_time": "2022-05-30T17:32:02.568Z"
   },
   {
    "duration": 19,
    "start_time": "2022-05-30T17:32:02.585Z"
   },
   {
    "duration": 105,
    "start_time": "2022-05-30T17:32:02.606Z"
   },
   {
    "duration": 288,
    "start_time": "2022-05-30T17:32:02.713Z"
   },
   {
    "duration": 54,
    "start_time": "2022-05-30T17:32:03.003Z"
   },
   {
    "duration": 41,
    "start_time": "2022-05-30T17:32:03.059Z"
   },
   {
    "duration": 29,
    "start_time": "2022-05-30T17:32:03.102Z"
   },
   {
    "duration": 12,
    "start_time": "2022-05-30T17:32:03.133Z"
   },
   {
    "duration": 10,
    "start_time": "2022-05-30T17:32:03.147Z"
   },
   {
    "duration": 23,
    "start_time": "2022-05-30T17:32:03.159Z"
   },
   {
    "duration": 12,
    "start_time": "2022-05-30T17:32:03.184Z"
   },
   {
    "duration": 38,
    "start_time": "2022-05-30T17:32:03.198Z"
   },
   {
    "duration": 8,
    "start_time": "2022-05-30T17:32:03.238Z"
   },
   {
    "duration": 19,
    "start_time": "2022-05-30T17:32:03.248Z"
   },
   {
    "duration": 8,
    "start_time": "2022-05-30T17:32:03.269Z"
   },
   {
    "duration": 13,
    "start_time": "2022-05-30T17:32:03.279Z"
   },
   {
    "duration": 11,
    "start_time": "2022-05-30T17:32:03.294Z"
   },
   {
    "duration": 44224,
    "start_time": "2022-05-30T17:32:03.306Z"
   },
   {
    "duration": 5,
    "start_time": "2022-05-30T17:32:47.532Z"
   },
   {
    "duration": 20692,
    "start_time": "2022-05-30T17:32:47.539Z"
   },
   {
    "duration": 5,
    "start_time": "2022-05-30T17:33:08.233Z"
   },
   {
    "duration": 98,
    "start_time": "2022-05-30T17:33:08.239Z"
   },
   {
    "duration": 14,
    "start_time": "2022-05-30T17:33:08.339Z"
   },
   {
    "duration": 119,
    "start_time": "2022-05-30T18:00:56.070Z"
   },
   {
    "duration": 6,
    "start_time": "2022-05-30T18:01:08.203Z"
   },
   {
    "duration": 17,
    "start_time": "2022-05-30T18:01:18.304Z"
   },
   {
    "duration": 5,
    "start_time": "2022-05-30T18:01:47.321Z"
   },
   {
    "duration": 3,
    "start_time": "2022-05-30T18:01:49.448Z"
   },
   {
    "duration": 4,
    "start_time": "2022-05-30T18:02:08.420Z"
   },
   {
    "duration": 10,
    "start_time": "2022-05-30T18:04:33.385Z"
   },
   {
    "duration": 2,
    "start_time": "2022-05-30T18:04:46.819Z"
   },
   {
    "duration": 12,
    "start_time": "2022-05-30T18:05:53.052Z"
   },
   {
    "duration": 13,
    "start_time": "2022-05-30T18:07:20.262Z"
   },
   {
    "duration": 5,
    "start_time": "2022-05-30T18:08:28.666Z"
   },
   {
    "duration": 5,
    "start_time": "2022-05-30T18:08:48.405Z"
   },
   {
    "duration": 67,
    "start_time": "2022-05-30T18:08:53.459Z"
   },
   {
    "duration": 6,
    "start_time": "2022-05-30T18:10:12.792Z"
   },
   {
    "duration": 492958,
    "start_time": "2022-05-30T18:10:19.280Z"
   },
   {
    "duration": 13,
    "start_time": "2022-05-30T18:18:38.152Z"
   },
   {
    "duration": 3,
    "start_time": "2022-05-30T18:18:38.464Z"
   },
   {
    "duration": 5,
    "start_time": "2022-05-30T18:19:30.808Z"
   },
   {
    "duration": 2,
    "start_time": "2022-05-30T18:19:31.512Z"
   },
   {
    "duration": 4,
    "start_time": "2022-05-30T18:19:33.295Z"
   },
   {
    "duration": 113373,
    "start_time": "2022-05-30T18:19:35.061Z"
   },
   {
    "duration": 27,
    "start_time": "2022-05-30T18:34:18.446Z"
   },
   {
    "duration": 9,
    "start_time": "2022-05-30T18:34:24.093Z"
   },
   {
    "duration": 10,
    "start_time": "2022-05-30T18:34:50.065Z"
   },
   {
    "duration": 45,
    "start_time": "2022-05-30T18:34:56.083Z"
   },
   {
    "duration": 7,
    "start_time": "2022-05-30T18:35:32.764Z"
   },
   {
    "duration": 43,
    "start_time": "2022-05-30T18:35:34.165Z"
   },
   {
    "duration": 4,
    "start_time": "2022-05-30T18:35:49.294Z"
   },
   {
    "duration": 5982,
    "start_time": "2022-05-30T18:35:50.850Z"
   },
   {
    "duration": 4,
    "start_time": "2022-05-30T18:37:09.497Z"
   },
   {
    "duration": 5770,
    "start_time": "2022-05-30T18:37:11.070Z"
   },
   {
    "duration": 4,
    "start_time": "2022-05-30T18:37:53.049Z"
   },
   {
    "duration": 6216,
    "start_time": "2022-05-30T18:37:54.497Z"
   },
   {
    "duration": 5,
    "start_time": "2022-05-30T18:39:05.570Z"
   },
   {
    "duration": 5491,
    "start_time": "2022-05-30T18:39:07.365Z"
   },
   {
    "duration": 5,
    "start_time": "2022-05-30T18:39:22.085Z"
   },
   {
    "duration": 4,
    "start_time": "2022-05-30T18:39:46.567Z"
   },
   {
    "duration": 5578,
    "start_time": "2022-05-30T18:39:47.206Z"
   },
   {
    "duration": 4,
    "start_time": "2022-05-30T18:40:07.423Z"
   },
   {
    "duration": 5397,
    "start_time": "2022-05-30T18:40:08.581Z"
   },
   {
    "duration": 5,
    "start_time": "2022-05-30T18:40:17.224Z"
   },
   {
    "duration": 7552,
    "start_time": "2022-05-30T18:40:51.474Z"
   },
   {
    "duration": 5,
    "start_time": "2022-05-30T18:40:59.029Z"
   },
   {
    "duration": 4,
    "start_time": "2022-05-30T18:43:55.075Z"
   },
   {
    "duration": 5609,
    "start_time": "2022-05-30T18:43:55.826Z"
   },
   {
    "duration": 11,
    "start_time": "2022-05-30T18:44:01.437Z"
   },
   {
    "duration": 7471,
    "start_time": "2022-05-30T18:44:08.959Z"
   },
   {
    "duration": 95,
    "start_time": "2022-05-30T18:44:16.433Z"
   },
   {
    "duration": 6,
    "start_time": "2022-05-30T18:46:29.353Z"
   },
   {
    "duration": 3,
    "start_time": "2022-05-30T18:46:32.324Z"
   },
   {
    "duration": 70990,
    "start_time": "2022-05-30T18:46:34.047Z"
   },
   {
    "duration": 0,
    "start_time": "2022-05-30T18:47:45.039Z"
   },
   {
    "duration": 0,
    "start_time": "2022-05-30T18:47:45.040Z"
   },
   {
    "duration": 0,
    "start_time": "2022-05-30T18:47:45.042Z"
   },
   {
    "duration": 5,
    "start_time": "2022-05-30T18:52:11.368Z"
   },
   {
    "duration": 10,
    "start_time": "2022-05-30T18:52:11.887Z"
   },
   {
    "duration": 5,
    "start_time": "2022-05-30T18:52:21.118Z"
   },
   {
    "duration": 44004,
    "start_time": "2022-05-30T18:52:21.589Z"
   },
   {
    "duration": 13,
    "start_time": "2022-05-30T18:53:22.958Z"
   },
   {
    "duration": 4,
    "start_time": "2022-05-30T18:54:35.810Z"
   },
   {
    "duration": 42764,
    "start_time": "2022-05-30T18:54:36.882Z"
   },
   {
    "duration": 47,
    "start_time": "2022-05-30T18:55:22.588Z"
   },
   {
    "duration": 4,
    "start_time": "2022-05-30T18:56:13.314Z"
   },
   {
    "duration": 81135,
    "start_time": "2022-05-30T18:56:13.882Z"
   },
   {
    "duration": 218,
    "start_time": "2022-05-30T18:57:35.019Z"
   },
   {
    "duration": 30,
    "start_time": "2022-05-30T18:58:08.414Z"
   },
   {
    "duration": 104656,
    "start_time": "2022-05-30T19:02:18.928Z"
   },
   {
    "duration": 160,
    "start_time": "2022-05-30T19:04:03.586Z"
   },
   {
    "duration": 183,
    "start_time": "2022-05-30T19:04:03.748Z"
   },
   {
    "duration": 6,
    "start_time": "2022-05-30T19:04:35.220Z"
   },
   {
    "duration": 7,
    "start_time": "2022-05-30T19:04:35.228Z"
   },
   {
    "duration": 3122,
    "start_time": "2022-05-30T19:04:35.237Z"
   },
   {
    "duration": 3,
    "start_time": "2022-05-30T19:04:38.361Z"
   },
   {
    "duration": 12,
    "start_time": "2022-05-30T19:04:38.365Z"
   },
   {
    "duration": 3,
    "start_time": "2022-05-30T19:04:38.380Z"
   },
   {
    "duration": 20,
    "start_time": "2022-05-30T19:04:38.396Z"
   },
   {
    "duration": 12,
    "start_time": "2022-05-30T19:04:38.417Z"
   },
   {
    "duration": 5,
    "start_time": "2022-05-30T19:04:38.431Z"
   },
   {
    "duration": 5,
    "start_time": "2022-05-30T19:04:38.439Z"
   },
   {
    "duration": 11,
    "start_time": "2022-05-30T19:04:38.446Z"
   },
   {
    "duration": 9,
    "start_time": "2022-05-30T19:04:38.459Z"
   },
   {
    "duration": 6,
    "start_time": "2022-05-30T19:04:38.470Z"
   },
   {
    "duration": 12,
    "start_time": "2022-05-30T19:04:38.478Z"
   },
   {
    "duration": 9,
    "start_time": "2022-05-30T19:04:38.492Z"
   },
   {
    "duration": 32,
    "start_time": "2022-05-30T19:04:38.503Z"
   },
   {
    "duration": 6,
    "start_time": "2022-05-30T19:04:38.537Z"
   },
   {
    "duration": 15,
    "start_time": "2022-05-30T19:04:38.545Z"
   },
   {
    "duration": 8,
    "start_time": "2022-05-30T19:04:38.562Z"
   },
   {
    "duration": 22,
    "start_time": "2022-05-30T19:04:38.572Z"
   },
   {
    "duration": 8,
    "start_time": "2022-05-30T19:04:38.596Z"
   },
   {
    "duration": 10,
    "start_time": "2022-05-30T19:04:38.605Z"
   },
   {
    "duration": 8,
    "start_time": "2022-05-30T19:04:38.617Z"
   },
   {
    "duration": 2991,
    "start_time": "2022-05-30T19:04:38.626Z"
   },
   {
    "duration": 10,
    "start_time": "2022-05-30T19:04:41.619Z"
   },
   {
    "duration": 1106,
    "start_time": "2022-05-30T19:04:41.631Z"
   },
   {
    "duration": 5,
    "start_time": "2022-05-30T19:04:42.739Z"
   },
   {
    "duration": 2233,
    "start_time": "2022-05-30T19:04:42.747Z"
   },
   {
    "duration": 348,
    "start_time": "2022-05-30T19:04:44.982Z"
   },
   {
    "duration": 29,
    "start_time": "2022-05-30T19:04:45.332Z"
   },
   {
    "duration": 14,
    "start_time": "2022-05-30T19:04:45.363Z"
   },
   {
    "duration": 294,
    "start_time": "2022-05-30T19:04:45.379Z"
   },
   {
    "duration": 3,
    "start_time": "2022-05-30T19:04:45.675Z"
   },
   {
    "duration": 8,
    "start_time": "2022-05-30T19:04:45.680Z"
   },
   {
    "duration": 13,
    "start_time": "2022-05-30T19:04:45.690Z"
   },
   {
    "duration": 21,
    "start_time": "2022-05-30T19:04:45.705Z"
   },
   {
    "duration": 47,
    "start_time": "2022-05-30T19:04:45.729Z"
   },
   {
    "duration": 284,
    "start_time": "2022-05-30T19:04:45.777Z"
   },
   {
    "duration": 63,
    "start_time": "2022-05-30T19:04:46.063Z"
   },
   {
    "duration": 44,
    "start_time": "2022-05-30T19:04:46.128Z"
   },
   {
    "duration": 5,
    "start_time": "2022-05-30T19:04:46.174Z"
   },
   {
    "duration": 12,
    "start_time": "2022-05-30T19:04:46.181Z"
   },
   {
    "duration": 6,
    "start_time": "2022-05-30T19:04:46.195Z"
   },
   {
    "duration": 23,
    "start_time": "2022-05-30T19:04:46.203Z"
   },
   {
    "duration": 10,
    "start_time": "2022-05-30T19:04:46.229Z"
   },
   {
    "duration": 6,
    "start_time": "2022-05-30T19:04:46.241Z"
   },
   {
    "duration": 41,
    "start_time": "2022-05-30T19:04:46.249Z"
   },
   {
    "duration": 9,
    "start_time": "2022-05-30T19:04:46.292Z"
   },
   {
    "duration": 28,
    "start_time": "2022-05-30T19:04:46.303Z"
   },
   {
    "duration": 19,
    "start_time": "2022-05-30T19:04:46.333Z"
   },
   {
    "duration": 10,
    "start_time": "2022-05-30T19:04:46.355Z"
   },
   {
    "duration": 19,
    "start_time": "2022-05-30T19:04:46.368Z"
   },
   {
    "duration": 77410,
    "start_time": "2022-05-30T19:04:46.390Z"
   },
   {
    "duration": 28,
    "start_time": "2022-05-30T19:06:03.803Z"
   },
   {
    "duration": 95,
    "start_time": "2022-05-30T19:06:03.833Z"
   },
   {
    "duration": 76506,
    "start_time": "2022-05-30T19:06:03.933Z"
   },
   {
    "duration": 187,
    "start_time": "2022-05-30T19:07:20.441Z"
   },
   {
    "duration": 197,
    "start_time": "2022-05-30T19:07:20.629Z"
   },
   {
    "duration": 4,
    "start_time": "2022-05-30T19:11:55.068Z"
   },
   {
    "duration": 5,
    "start_time": "2022-05-30T19:12:11.978Z"
   },
   {
    "duration": 4,
    "start_time": "2022-05-30T19:12:36.022Z"
   },
   {
    "duration": 4,
    "start_time": "2022-05-30T19:12:45.087Z"
   },
   {
    "duration": 29,
    "start_time": "2022-05-30T19:14:40.748Z"
   },
   {
    "duration": 1305,
    "start_time": "2022-05-30T19:15:38.349Z"
   },
   {
    "duration": 3,
    "start_time": "2022-05-30T19:15:39.656Z"
   },
   {
    "duration": 711,
    "start_time": "2022-05-30T19:15:39.661Z"
   },
   {
    "duration": 2,
    "start_time": "2022-05-30T19:15:40.375Z"
   },
   {
    "duration": 18,
    "start_time": "2022-05-30T19:15:40.379Z"
   },
   {
    "duration": 6,
    "start_time": "2022-05-30T19:15:40.398Z"
   },
   {
    "duration": 9,
    "start_time": "2022-05-30T19:15:40.406Z"
   },
   {
    "duration": 6,
    "start_time": "2022-05-30T19:15:40.417Z"
   },
   {
    "duration": 8,
    "start_time": "2022-05-30T19:15:40.424Z"
   },
   {
    "duration": 11,
    "start_time": "2022-05-30T19:15:40.435Z"
   },
   {
    "duration": 7,
    "start_time": "2022-05-30T19:15:40.448Z"
   },
   {
    "duration": 13,
    "start_time": "2022-05-30T19:15:40.457Z"
   },
   {
    "duration": 7,
    "start_time": "2022-05-30T19:15:40.472Z"
   },
   {
    "duration": 10,
    "start_time": "2022-05-30T19:15:40.481Z"
   },
   {
    "duration": 15,
    "start_time": "2022-05-30T19:15:40.493Z"
   },
   {
    "duration": 8,
    "start_time": "2022-05-30T19:15:40.509Z"
   },
   {
    "duration": 10,
    "start_time": "2022-05-30T19:15:40.519Z"
   },
   {
    "duration": 6,
    "start_time": "2022-05-30T19:15:40.531Z"
   },
   {
    "duration": 4,
    "start_time": "2022-05-30T19:15:40.539Z"
   },
   {
    "duration": 6,
    "start_time": "2022-05-30T19:15:40.545Z"
   },
   {
    "duration": 8,
    "start_time": "2022-05-30T19:15:40.553Z"
   },
   {
    "duration": 7,
    "start_time": "2022-05-30T19:15:40.562Z"
   },
   {
    "duration": 9,
    "start_time": "2022-05-30T19:15:40.571Z"
   },
   {
    "duration": 3048,
    "start_time": "2022-05-30T19:15:40.582Z"
   },
   {
    "duration": 4,
    "start_time": "2022-05-30T19:15:43.632Z"
   },
   {
    "duration": 1107,
    "start_time": "2022-05-30T19:15:43.637Z"
   },
   {
    "duration": 4,
    "start_time": "2022-05-30T19:15:44.746Z"
   },
   {
    "duration": 2098,
    "start_time": "2022-05-30T19:15:44.753Z"
   },
   {
    "duration": 148,
    "start_time": "2022-05-30T19:15:46.853Z"
   },
   {
    "duration": 32,
    "start_time": "2022-05-30T19:15:47.002Z"
   },
   {
    "duration": 9,
    "start_time": "2022-05-30T19:15:47.035Z"
   },
   {
    "duration": 260,
    "start_time": "2022-05-30T19:15:47.046Z"
   },
   {
    "duration": 2,
    "start_time": "2022-05-30T19:15:47.308Z"
   },
   {
    "duration": 14,
    "start_time": "2022-05-30T19:15:47.312Z"
   },
   {
    "duration": 8,
    "start_time": "2022-05-30T19:15:47.328Z"
   },
   {
    "duration": 7,
    "start_time": "2022-05-30T19:15:47.337Z"
   },
   {
    "duration": 66,
    "start_time": "2022-05-30T19:15:47.345Z"
   },
   {
    "duration": 238,
    "start_time": "2022-05-30T19:15:47.413Z"
   },
   {
    "duration": 44,
    "start_time": "2022-05-30T19:15:47.653Z"
   },
   {
    "duration": 56,
    "start_time": "2022-05-30T19:15:47.699Z"
   },
   {
    "duration": 3,
    "start_time": "2022-05-30T19:15:47.757Z"
   },
   {
    "duration": 5,
    "start_time": "2022-05-30T19:15:47.762Z"
   },
   {
    "duration": 15,
    "start_time": "2022-05-30T19:15:47.769Z"
   },
   {
    "duration": 8,
    "start_time": "2022-05-30T19:15:47.785Z"
   },
   {
    "duration": 11,
    "start_time": "2022-05-30T19:15:47.794Z"
   },
   {
    "duration": 5,
    "start_time": "2022-05-30T19:15:47.807Z"
   },
   {
    "duration": 43,
    "start_time": "2022-05-30T19:15:47.813Z"
   },
   {
    "duration": 3,
    "start_time": "2022-05-30T19:15:47.858Z"
   },
   {
    "duration": 12,
    "start_time": "2022-05-30T19:15:47.863Z"
   },
   {
    "duration": 6,
    "start_time": "2022-05-30T19:15:47.877Z"
   },
   {
    "duration": 10,
    "start_time": "2022-05-30T19:15:47.885Z"
   },
   {
    "duration": 9,
    "start_time": "2022-05-30T19:15:47.897Z"
   },
   {
    "duration": 107430,
    "start_time": "2022-05-30T19:15:47.907Z"
   },
   {
    "duration": 189,
    "start_time": "2022-05-30T19:17:35.339Z"
   },
   {
    "duration": 111,
    "start_time": "2022-05-30T19:17:35.530Z"
   },
   {
    "duration": 69291,
    "start_time": "2022-05-30T19:17:35.727Z"
   },
   {
    "duration": 213,
    "start_time": "2022-05-30T19:18:45.020Z"
   },
   {
    "duration": 100,
    "start_time": "2022-05-30T19:18:45.235Z"
   },
   {
    "duration": 5,
    "start_time": "2022-05-30T19:18:45.427Z"
   },
   {
    "duration": 8,
    "start_time": "2022-05-30T19:18:45.433Z"
   },
   {
    "duration": 5,
    "start_time": "2022-05-30T19:23:55.781Z"
   },
   {
    "duration": 69102,
    "start_time": "2022-05-30T19:23:56.507Z"
   },
   {
    "duration": 139,
    "start_time": "2022-05-30T19:25:05.611Z"
   },
   {
    "duration": 4,
    "start_time": "2022-05-30T19:25:24.906Z"
   },
   {
    "duration": 89844,
    "start_time": "2022-05-30T19:25:25.366Z"
   },
   {
    "duration": 223,
    "start_time": "2022-05-30T19:26:55.212Z"
   },
   {
    "duration": 22,
    "start_time": "2022-05-30T19:44:37.552Z"
   },
   {
    "duration": 1304,
    "start_time": "2022-05-30T19:48:46.634Z"
   },
   {
    "duration": 4,
    "start_time": "2022-05-30T19:48:47.940Z"
   },
   {
    "duration": 761,
    "start_time": "2022-05-30T19:48:47.945Z"
   },
   {
    "duration": 2,
    "start_time": "2022-05-30T19:48:48.708Z"
   },
   {
    "duration": 9,
    "start_time": "2022-05-30T19:48:48.712Z"
   },
   {
    "duration": 10,
    "start_time": "2022-05-30T19:48:48.726Z"
   },
   {
    "duration": 9,
    "start_time": "2022-05-30T19:48:48.737Z"
   },
   {
    "duration": 6,
    "start_time": "2022-05-30T19:48:48.748Z"
   },
   {
    "duration": 4,
    "start_time": "2022-05-30T19:48:48.756Z"
   },
   {
    "duration": 4,
    "start_time": "2022-05-30T19:48:48.764Z"
   },
   {
    "duration": 7,
    "start_time": "2022-05-30T19:48:48.770Z"
   },
   {
    "duration": 15,
    "start_time": "2022-05-30T19:48:48.779Z"
   },
   {
    "duration": 30,
    "start_time": "2022-05-30T19:48:48.796Z"
   },
   {
    "duration": 7,
    "start_time": "2022-05-30T19:48:48.828Z"
   },
   {
    "duration": 10,
    "start_time": "2022-05-30T19:48:48.836Z"
   },
   {
    "duration": 9,
    "start_time": "2022-05-30T19:48:48.848Z"
   },
   {
    "duration": 6,
    "start_time": "2022-05-30T19:48:48.859Z"
   },
   {
    "duration": 6,
    "start_time": "2022-05-30T19:48:48.866Z"
   },
   {
    "duration": 5,
    "start_time": "2022-05-30T19:48:48.874Z"
   },
   {
    "duration": 46,
    "start_time": "2022-05-30T19:48:48.881Z"
   },
   {
    "duration": 5,
    "start_time": "2022-05-30T19:48:48.930Z"
   },
   {
    "duration": 5,
    "start_time": "2022-05-30T19:48:48.937Z"
   },
   {
    "duration": 7,
    "start_time": "2022-05-30T19:48:48.943Z"
   },
   {
    "duration": 2985,
    "start_time": "2022-05-30T19:48:48.952Z"
   },
   {
    "duration": 5,
    "start_time": "2022-05-30T19:48:51.938Z"
   },
   {
    "duration": 1061,
    "start_time": "2022-05-30T19:48:51.945Z"
   },
   {
    "duration": 3,
    "start_time": "2022-05-30T19:48:53.008Z"
   },
   {
    "duration": 2203,
    "start_time": "2022-05-30T19:48:53.026Z"
   },
   {
    "duration": 159,
    "start_time": "2022-05-30T19:48:55.231Z"
   },
   {
    "duration": 41,
    "start_time": "2022-05-30T19:48:55.392Z"
   },
   {
    "duration": 9,
    "start_time": "2022-05-30T19:48:55.435Z"
   },
   {
    "duration": 246,
    "start_time": "2022-05-30T19:48:55.446Z"
   },
   {
    "duration": 3,
    "start_time": "2022-05-30T19:48:55.693Z"
   },
   {
    "duration": 13,
    "start_time": "2022-05-30T19:48:55.698Z"
   },
   {
    "duration": 13,
    "start_time": "2022-05-30T19:48:55.713Z"
   },
   {
    "duration": 3,
    "start_time": "2022-05-30T19:48:55.728Z"
   },
   {
    "duration": 49,
    "start_time": "2022-05-30T19:48:55.732Z"
   },
   {
    "duration": 267,
    "start_time": "2022-05-30T19:48:55.782Z"
   },
   {
    "duration": 44,
    "start_time": "2022-05-30T19:48:56.051Z"
   },
   {
    "duration": 65,
    "start_time": "2022-05-30T19:48:56.096Z"
   },
   {
    "duration": 8,
    "start_time": "2022-05-30T19:48:56.162Z"
   },
   {
    "duration": 22,
    "start_time": "2022-05-30T19:48:56.172Z"
   },
   {
    "duration": 11,
    "start_time": "2022-05-30T19:48:56.195Z"
   },
   {
    "duration": 10,
    "start_time": "2022-05-30T19:48:56.208Z"
   },
   {
    "duration": 9,
    "start_time": "2022-05-30T19:48:56.220Z"
   },
   {
    "duration": 5,
    "start_time": "2022-05-30T19:48:56.231Z"
   },
   {
    "duration": 43,
    "start_time": "2022-05-30T19:48:56.238Z"
   },
   {
    "duration": 5,
    "start_time": "2022-05-30T19:48:56.284Z"
   },
   {
    "duration": 21,
    "start_time": "2022-05-30T19:48:56.294Z"
   },
   {
    "duration": 12,
    "start_time": "2022-05-30T19:48:56.317Z"
   },
   {
    "duration": 5,
    "start_time": "2022-05-30T19:48:56.331Z"
   },
   {
    "duration": 18,
    "start_time": "2022-05-30T19:48:56.338Z"
   },
   {
    "duration": 52701,
    "start_time": "2022-05-30T19:48:56.359Z"
   },
   {
    "duration": 182,
    "start_time": "2022-05-30T19:49:49.062Z"
   },
   {
    "duration": 195,
    "start_time": "2022-05-30T19:49:49.246Z"
   },
   {
    "duration": 121058,
    "start_time": "2022-05-30T19:49:49.444Z"
   },
   {
    "duration": 222,
    "start_time": "2022-05-30T19:51:50.504Z"
   },
   {
    "duration": 198,
    "start_time": "2022-05-30T19:51:50.728Z"
   },
   {
    "duration": 4,
    "start_time": "2022-05-30T19:51:50.930Z"
   },
   {
    "duration": 7,
    "start_time": "2022-05-30T19:51:50.936Z"
   },
   {
    "duration": 28,
    "start_time": "2022-05-30T19:58:37.984Z"
   },
   {
    "duration": 5991,
    "start_time": "2022-05-31T14:37:08.589Z"
   },
   {
    "duration": 5,
    "start_time": "2022-05-31T14:37:14.667Z"
   },
   {
    "duration": 4697,
    "start_time": "2022-05-31T14:37:14.676Z"
   },
   {
    "duration": 4,
    "start_time": "2022-05-31T14:37:19.376Z"
   },
   {
    "duration": 85,
    "start_time": "2022-05-31T14:37:19.384Z"
   },
   {
    "duration": 104,
    "start_time": "2022-05-31T14:37:19.480Z"
   },
   {
    "duration": 8,
    "start_time": "2022-05-31T14:37:19.586Z"
   },
   {
    "duration": 73,
    "start_time": "2022-05-31T14:37:19.596Z"
   },
   {
    "duration": 3,
    "start_time": "2022-05-31T14:37:19.670Z"
   },
   {
    "duration": 390,
    "start_time": "2022-05-31T14:37:19.676Z"
   },
   {
    "duration": 24,
    "start_time": "2022-05-31T14:37:20.068Z"
   },
   {
    "duration": 283,
    "start_time": "2022-05-31T14:37:20.095Z"
   },
   {
    "duration": 3,
    "start_time": "2022-05-31T14:37:20.382Z"
   },
   {
    "duration": 84,
    "start_time": "2022-05-31T14:37:20.387Z"
   },
   {
    "duration": 93,
    "start_time": "2022-05-31T14:37:20.475Z"
   },
   {
    "duration": 98,
    "start_time": "2022-05-31T14:37:20.571Z"
   },
   {
    "duration": 97,
    "start_time": "2022-05-31T14:37:20.671Z"
   },
   {
    "duration": 95,
    "start_time": "2022-05-31T14:37:20.774Z"
   },
   {
    "duration": 94,
    "start_time": "2022-05-31T14:37:20.872Z"
   },
   {
    "duration": 93,
    "start_time": "2022-05-31T14:37:20.977Z"
   },
   {
    "duration": 5,
    "start_time": "2022-05-31T14:37:21.074Z"
   },
   {
    "duration": 89,
    "start_time": "2022-05-31T14:37:21.080Z"
   },
   {
    "duration": 93,
    "start_time": "2022-05-31T14:37:21.173Z"
   },
   {
    "duration": 7805,
    "start_time": "2022-05-31T14:37:21.274Z"
   },
   {
    "duration": 86,
    "start_time": "2022-05-31T14:37:29.081Z"
   },
   {
    "duration": 6602,
    "start_time": "2022-05-31T14:37:29.172Z"
   },
   {
    "duration": 78,
    "start_time": "2022-05-31T14:37:35.788Z"
   },
   {
    "duration": 12491,
    "start_time": "2022-05-31T14:37:35.877Z"
   },
   {
    "duration": 906,
    "start_time": "2022-05-31T14:37:48.374Z"
   },
   {
    "duration": 190,
    "start_time": "2022-05-31T14:37:49.284Z"
   },
   {
    "duration": 111,
    "start_time": "2022-05-31T14:37:49.476Z"
   },
   {
    "duration": 1693,
    "start_time": "2022-05-31T14:37:49.590Z"
   },
   {
    "duration": 90,
    "start_time": "2022-05-31T14:37:51.287Z"
   },
   {
    "duration": 20,
    "start_time": "2022-05-31T14:37:51.384Z"
   },
   {
    "duration": 16,
    "start_time": "2022-05-31T14:37:51.470Z"
   },
   {
    "duration": 22,
    "start_time": "2022-05-31T14:37:51.488Z"
   },
   {
    "duration": 297,
    "start_time": "2022-05-31T14:37:51.568Z"
   },
   {
    "duration": 1606,
    "start_time": "2022-05-31T14:37:51.867Z"
   },
   {
    "duration": 213,
    "start_time": "2022-05-31T14:37:53.475Z"
   },
   {
    "duration": 292,
    "start_time": "2022-05-31T14:37:53.774Z"
   },
   {
    "duration": 8,
    "start_time": "2022-05-31T14:37:54.078Z"
   },
   {
    "duration": 87,
    "start_time": "2022-05-31T14:37:54.088Z"
   },
   {
    "duration": 109,
    "start_time": "2022-05-31T14:37:54.177Z"
   },
   {
    "duration": 90,
    "start_time": "2022-05-31T14:37:54.288Z"
   },
   {
    "duration": 89,
    "start_time": "2022-05-31T14:37:54.379Z"
   },
   {
    "duration": 95,
    "start_time": "2022-05-31T14:37:54.471Z"
   },
   {
    "duration": 311,
    "start_time": "2022-05-31T14:37:54.568Z"
   },
   {
    "duration": 6,
    "start_time": "2022-05-31T14:37:54.881Z"
   },
   {
    "duration": 104,
    "start_time": "2022-05-31T14:37:54.965Z"
   },
   {
    "duration": 100,
    "start_time": "2022-05-31T14:37:55.071Z"
   },
   {
    "duration": 89,
    "start_time": "2022-05-31T14:37:55.177Z"
   },
   {
    "duration": 100,
    "start_time": "2022-05-31T14:37:55.268Z"
   },
   {
    "duration": 306497,
    "start_time": "2022-05-31T14:37:55.373Z"
   },
   {
    "duration": 307,
    "start_time": "2022-05-31T14:43:01.872Z"
   },
   {
    "duration": 197,
    "start_time": "2022-05-31T14:43:02.181Z"
   },
   {
    "duration": 668790,
    "start_time": "2022-05-31T14:43:02.383Z"
   },
   {
    "duration": 195,
    "start_time": "2022-05-31T14:54:11.175Z"
   },
   {
    "duration": 208,
    "start_time": "2022-05-31T14:54:11.375Z"
   },
   {
    "duration": 5,
    "start_time": "2022-05-31T14:54:11.587Z"
   },
   {
    "duration": 12,
    "start_time": "2022-05-31T14:54:11.670Z"
   },
   {
    "duration": 10,
    "start_time": "2022-05-31T15:07:12.765Z"
   },
   {
    "duration": 20,
    "start_time": "2022-05-31T15:22:35.946Z"
   },
   {
    "duration": 300,
    "start_time": "2022-05-31T15:23:51.709Z"
   },
   {
    "duration": 4,
    "start_time": "2022-05-31T15:25:03.594Z"
   },
   {
    "duration": 5,
    "start_time": "2022-05-31T15:28:43.815Z"
   },
   {
    "duration": 4,
    "start_time": "2022-05-31T15:28:44.540Z"
   },
   {
    "duration": 276631,
    "start_time": "2022-05-31T15:28:54.251Z"
   },
   {
    "duration": 201,
    "start_time": "2022-05-31T15:33:30.885Z"
   },
   {
    "duration": 167,
    "start_time": "2022-05-31T15:36:58.217Z"
   },
   {
    "duration": 377903,
    "start_time": "2022-05-31T15:38:35.207Z"
   },
   {
    "duration": 172,
    "start_time": "2022-05-31T15:44:53.112Z"
   },
   {
    "duration": 201,
    "start_time": "2022-05-31T15:44:53.368Z"
   },
   {
    "duration": 22,
    "start_time": "2022-05-31T15:44:53.571Z"
   },
   {
    "duration": 15,
    "start_time": "2022-05-31T15:47:12.954Z"
   },
   {
    "duration": 14,
    "start_time": "2022-05-31T15:47:13.389Z"
   },
   {
    "duration": 13,
    "start_time": "2022-05-31T15:47:48.566Z"
   },
   {
    "duration": 75,
    "start_time": "2022-05-31T15:48:01.345Z"
   },
   {
    "duration": 4,
    "start_time": "2022-05-31T15:48:58.483Z"
   },
   {
    "duration": 154410,
    "start_time": "2022-05-31T15:49:03.786Z"
   },
   {
    "duration": 192,
    "start_time": "2022-05-31T15:51:38.198Z"
   },
   {
    "duration": 4,
    "start_time": "2022-05-31T15:54:54.418Z"
   },
   {
    "duration": 194286,
    "start_time": "2022-05-31T15:54:57.418Z"
   },
   {
    "duration": 270,
    "start_time": "2022-05-31T15:58:11.707Z"
   },
   {
    "duration": 194,
    "start_time": "2022-05-31T15:58:11.979Z"
   },
   {
    "duration": 360605,
    "start_time": "2022-05-31T15:58:12.176Z"
   },
   {
    "duration": 200,
    "start_time": "2022-05-31T16:04:12.783Z"
   },
   {
    "duration": 197,
    "start_time": "2022-05-31T16:04:12.985Z"
   },
   {
    "duration": 4,
    "start_time": "2022-05-31T16:04:13.184Z"
   },
   {
    "duration": 4,
    "start_time": "2022-05-31T16:12:05.126Z"
   },
   {
    "duration": 303525,
    "start_time": "2022-05-31T16:12:05.773Z"
   },
   {
    "duration": 164,
    "start_time": "2022-05-31T16:17:09.301Z"
   },
   {
    "duration": 203,
    "start_time": "2022-05-31T16:17:09.468Z"
   },
   {
    "duration": 387139,
    "start_time": "2022-05-31T16:17:09.674Z"
   },
   {
    "duration": 211,
    "start_time": "2022-05-31T16:23:36.872Z"
   },
   {
    "duration": 196,
    "start_time": "2022-05-31T16:23:37.084Z"
   },
   {
    "duration": 5,
    "start_time": "2022-05-31T16:23:37.281Z"
   },
   {
    "duration": 6,
    "start_time": "2022-05-31T16:23:37.287Z"
   }
  ],
  "kernelspec": {
   "display_name": "Python 3 (ipykernel)",
   "language": "python",
   "name": "python3"
  },
  "language_info": {
   "codemirror_mode": {
    "name": "ipython",
    "version": 3
   },
   "file_extension": ".py",
   "mimetype": "text/x-python",
   "name": "python",
   "nbconvert_exporter": "python",
   "pygments_lexer": "ipython3",
   "version": "3.9.7"
  },
  "toc": {
   "base_numbering": 1,
   "nav_menu": {},
   "number_sections": true,
   "sideBar": true,
   "skip_h1_title": true,
   "title_cell": "Содержание",
   "title_sidebar": "Contents",
   "toc_cell": true,
   "toc_position": {
    "height": "calc(100% - 180px)",
    "left": "10px",
    "top": "150px",
    "width": "366.391px"
   },
   "toc_section_display": true,
   "toc_window_display": true
  }
 },
 "nbformat": 4,
 "nbformat_minor": 2
}
