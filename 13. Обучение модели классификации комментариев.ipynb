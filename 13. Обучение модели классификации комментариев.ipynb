{
 "cells": [
  {
   "cell_type": "markdown",
   "metadata": {
    "toc": true
   },
   "source": [
    "<h1>Содержание<span class=\"tocSkip\"></span></h1>\n",
    "<div class=\"toc\"><ul class=\"toc-item\"><li><span><a href=\"#Подготовка\" data-toc-modified-id=\"Подготовка-1\"><span class=\"toc-item-num\">1&nbsp;&nbsp;</span>Подготовка</a></span></li><li><span><a href=\"#Обучение\" data-toc-modified-id=\"Обучение-2\"><span class=\"toc-item-num\">2&nbsp;&nbsp;</span>Обучение</a></span></li><li><span><a href=\"#Выводы\" data-toc-modified-id=\"Выводы-3\"><span class=\"toc-item-num\">3&nbsp;&nbsp;</span>Выводы</a></span></li><li><span><a href=\"#Чек-лист-проверки\" data-toc-modified-id=\"Чек-лист-проверки-4\"><span class=\"toc-item-num\">4&nbsp;&nbsp;</span>Чек-лист проверки</a></span></li></ul></div>"
   ]
  },
  {
   "cell_type": "markdown",
   "metadata": {
    "toc": true
   },
   "source": [
    "<h1>Содержание<span class=\"tocSkip\"></span></h1>\n",
    "<div class=\"toc\"><ul class=\"toc-item\"><li><span><a href=\"#Подготовка\" data-toc-modified-id=\"Подготовка-1\"><span class=\"toc-item-num\">1&nbsp;&nbsp;</span>Подготовка</a></span></li><li><span><a href=\"#Обучение\" data-toc-modified-id=\"Обучение-2\"><span class=\"toc-item-num\">2&nbsp;&nbsp;</span>Обучение</a></span></li><li><span><a href=\"#Выводы\" data-toc-modified-id=\"Выводы-3\"><span class=\"toc-item-num\">3&nbsp;&nbsp;</span>Выводы</a></span></li><li><span><a href=\"#Чек-лист-проверки\" data-toc-modified-id=\"Чек-лист-проверки-4\"><span class=\"toc-item-num\">4&nbsp;&nbsp;</span>Чек-лист проверки</a></span></li></ul></div>"
   ]
  },
  {
   "cell_type": "markdown",
   "metadata": {},
   "source": [
    "# Проект для «Викишоп»"
   ]
  },
  {
   "cell_type": "markdown",
   "metadata": {},
   "source": [
    "Интернет-магазин «Викишоп» запускает новый сервис. Теперь пользователи могут редактировать и дополнять описания товаров, как в вики-сообществах. То есть клиенты предлагают свои правки и комментируют изменения других. Магазину нужен инструмент, который будет искать токсичные комментарии и отправлять их на модерацию. \n",
    "\n",
    "Обучите модель классифицировать комментарии на позитивные и негативные. В вашем распоряжении набор данных с разметкой о токсичности правок.\n",
    "\n",
    "Постройте модель со значением метрики качества *F1* не меньше 0.75. \n",
    "\n",
    "**Инструкция по выполнению проекта**\n",
    "\n",
    "1. Загрузите и подготовьте данные.\n",
    "2. Обучите разные модели. \n",
    "3. Сделайте выводы.\n",
    "\n",
    "Для выполнения проекта применять *BERT* необязательно, но вы можете попробовать.\n",
    "\n",
    "**Описание данных**\n",
    "\n",
    "Данные находятся в файле `toxic_comments.csv`. Столбец *text* в нём содержит текст комментария, а *toxic* — целевой признак."
   ]
  },
  {
   "cell_type": "markdown",
   "metadata": {},
   "source": [
    "---\n",
    "Приветствую! Меня зовут Антон, и я совсем не против общения на \"ты\"! Вероятно, многие пошли путем преодобратки данных через TF-IDF, я в данной работе решил попробовать готовый фреймворк Spacy, воодушевившись статьей на https://habr.com/ru/post/504680/.\n",
    "Работа не изобилует красивым кодом, но на мой взгляд она получилась лаконичной и с неплохим результатом по скорингу, при этом в целях экономии времени на создание векторов и обучение, я урезал исходный датасет. Если работать со всеми данными, полагаю, результат был бы еще лучше.\n",
    "Заранее хочу поблагодарить за проверку работы и советы :)\n"
   ]
  },
  {
   "cell_type": "markdown",
   "metadata": {},
   "source": [
    "## Подготовка"
   ]
  },
  {
   "cell_type": "code",
   "execution_count": 3,
   "metadata": {},
   "outputs": [],
   "source": [
    "import spacy\n",
    "import pandas as pd\n",
    "import numpy as np\n",
    "import re\n",
    "\n",
    "from sklearn.model_selection import train_test_split\n",
    "import xgboost\n",
    "from sklearn.linear_model import LogisticRegression\n",
    "from sklearn.metrics import f1_score"
   ]
  },
  {
   "cell_type": "code",
   "execution_count": 2,
   "metadata": {},
   "outputs": [
    {
     "name": "stdout",
     "output_type": "stream",
     "text": [
      "Collecting en-core-web-md==3.2.0\n",
      "  Downloading https://github.com/explosion/spacy-models/releases/download/en_core_web_md-3.2.0/en_core_web_md-3.2.0-py3-none-any.whl (45.7 MB)\n",
      "\u001b[K     |████████████████████████████████| 45.7 MB 48 kB/s  eta 0:00:01\n",
      "\u001b[?25hRequirement already satisfied: spacy<3.3.0,>=3.2.0 in /opt/conda/lib/python3.9/site-packages (from en-core-web-md==3.2.0) (3.2.0)\n",
      "Requirement already satisfied: pydantic!=1.8,!=1.8.1,<1.9.0,>=1.7.4 in /opt/conda/lib/python3.9/site-packages (from spacy<3.3.0,>=3.2.0->en-core-web-md==3.2.0) (1.8.2)\n",
      "Requirement already satisfied: packaging>=20.0 in /opt/conda/lib/python3.9/site-packages (from spacy<3.3.0,>=3.2.0->en-core-web-md==3.2.0) (21.3)\n",
      "Requirement already satisfied: spacy-legacy<3.1.0,>=3.0.8 in /opt/conda/lib/python3.9/site-packages (from spacy<3.3.0,>=3.2.0->en-core-web-md==3.2.0) (3.0.9)\n",
      "Requirement already satisfied: jinja2 in /opt/conda/lib/python3.9/site-packages (from spacy<3.3.0,>=3.2.0->en-core-web-md==3.2.0) (3.0.1)\n",
      "Requirement already satisfied: thinc<8.1.0,>=8.0.12 in /opt/conda/lib/python3.9/site-packages (from spacy<3.3.0,>=3.2.0->en-core-web-md==3.2.0) (8.0.15)\n",
      "Requirement already satisfied: typer<0.5.0,>=0.3.0 in /opt/conda/lib/python3.9/site-packages (from spacy<3.3.0,>=3.2.0->en-core-web-md==3.2.0) (0.4.1)\n",
      "Requirement already satisfied: tqdm<5.0.0,>=4.38.0 in /opt/conda/lib/python3.9/site-packages (from spacy<3.3.0,>=3.2.0->en-core-web-md==3.2.0) (4.61.2)\n",
      "Requirement already satisfied: murmurhash<1.1.0,>=0.28.0 in /opt/conda/lib/python3.9/site-packages (from spacy<3.3.0,>=3.2.0->en-core-web-md==3.2.0) (1.0.7)\n",
      "Requirement already satisfied: preshed<3.1.0,>=3.0.2 in /opt/conda/lib/python3.9/site-packages (from spacy<3.3.0,>=3.2.0->en-core-web-md==3.2.0) (3.0.6)\n",
      "Requirement already satisfied: requests<3.0.0,>=2.13.0 in /opt/conda/lib/python3.9/site-packages (from spacy<3.3.0,>=3.2.0->en-core-web-md==3.2.0) (2.25.1)\n",
      "Requirement already satisfied: setuptools in /opt/conda/lib/python3.9/site-packages (from spacy<3.3.0,>=3.2.0->en-core-web-md==3.2.0) (49.6.0.post20210108)\n",
      "Requirement already satisfied: blis<0.8.0,>=0.4.0 in /opt/conda/lib/python3.9/site-packages (from spacy<3.3.0,>=3.2.0->en-core-web-md==3.2.0) (0.7.7)\n",
      "Requirement already satisfied: langcodes<4.0.0,>=3.2.0 in /opt/conda/lib/python3.9/site-packages (from spacy<3.3.0,>=3.2.0->en-core-web-md==3.2.0) (3.3.0)\n",
      "Requirement already satisfied: catalogue<2.1.0,>=2.0.6 in /opt/conda/lib/python3.9/site-packages (from spacy<3.3.0,>=3.2.0->en-core-web-md==3.2.0) (2.0.7)\n",
      "Requirement already satisfied: numpy>=1.15.0 in /opt/conda/lib/python3.9/site-packages (from spacy<3.3.0,>=3.2.0->en-core-web-md==3.2.0) (1.21.1)\n",
      "Requirement already satisfied: wasabi<1.1.0,>=0.8.1 in /opt/conda/lib/python3.9/site-packages (from spacy<3.3.0,>=3.2.0->en-core-web-md==3.2.0) (0.9.1)\n",
      "Requirement already satisfied: cymem<2.1.0,>=2.0.2 in /opt/conda/lib/python3.9/site-packages (from spacy<3.3.0,>=3.2.0->en-core-web-md==3.2.0) (2.0.6)\n",
      "Requirement already satisfied: pathy>=0.3.5 in /opt/conda/lib/python3.9/site-packages (from spacy<3.3.0,>=3.2.0->en-core-web-md==3.2.0) (0.6.1)\n",
      "Requirement already satisfied: srsly<3.0.0,>=2.4.1 in /opt/conda/lib/python3.9/site-packages (from spacy<3.3.0,>=3.2.0->en-core-web-md==3.2.0) (2.4.3)\n",
      "Requirement already satisfied: spacy-loggers<2.0.0,>=1.0.0 in /opt/conda/lib/python3.9/site-packages (from spacy<3.3.0,>=3.2.0->en-core-web-md==3.2.0) (1.0.2)\n",
      "Requirement already satisfied: pyparsing!=3.0.5,>=2.0.2 in /opt/conda/lib/python3.9/site-packages (from packaging>=20.0->spacy<3.3.0,>=3.2.0->en-core-web-md==3.2.0) (2.4.7)\n",
      "Requirement already satisfied: smart-open<6.0.0,>=5.0.0 in /opt/conda/lib/python3.9/site-packages (from pathy>=0.3.5->spacy<3.3.0,>=3.2.0->en-core-web-md==3.2.0) (5.2.1)\n",
      "Requirement already satisfied: typing-extensions>=3.7.4.3 in /opt/conda/lib/python3.9/site-packages (from pydantic!=1.8,!=1.8.1,<1.9.0,>=1.7.4->spacy<3.3.0,>=3.2.0->en-core-web-md==3.2.0) (4.2.0)\n",
      "Requirement already satisfied: idna<3,>=2.5 in /opt/conda/lib/python3.9/site-packages (from requests<3.0.0,>=2.13.0->spacy<3.3.0,>=3.2.0->en-core-web-md==3.2.0) (2.10)\n",
      "Requirement already satisfied: urllib3<1.27,>=1.21.1 in /opt/conda/lib/python3.9/site-packages (from requests<3.0.0,>=2.13.0->spacy<3.3.0,>=3.2.0->en-core-web-md==3.2.0) (1.26.6)\n",
      "Requirement already satisfied: chardet<5,>=3.0.2 in /opt/conda/lib/python3.9/site-packages (from requests<3.0.0,>=2.13.0->spacy<3.3.0,>=3.2.0->en-core-web-md==3.2.0) (4.0.0)\n",
      "Requirement already satisfied: certifi>=2017.4.17 in /opt/conda/lib/python3.9/site-packages (from requests<3.0.0,>=2.13.0->spacy<3.3.0,>=3.2.0->en-core-web-md==3.2.0) (2022.5.18.1)\n",
      "Requirement already satisfied: click<9.0.0,>=7.1.1 in /opt/conda/lib/python3.9/site-packages (from typer<0.5.0,>=0.3.0->spacy<3.3.0,>=3.2.0->en-core-web-md==3.2.0) (8.1.3)\n",
      "Requirement already satisfied: MarkupSafe>=2.0 in /opt/conda/lib/python3.9/site-packages (from jinja2->spacy<3.3.0,>=3.2.0->en-core-web-md==3.2.0) (2.0.1)\n",
      "\u001b[38;5;2m✔ Download and installation successful\u001b[0m\n",
      "You can now load the package via spacy.load('en_core_web_md')\n"
     ]
    }
   ],
   "source": [
    "!python -m spacy download en_core_web_md"
   ]
  },
  {
   "cell_type": "code",
   "execution_count": 3,
   "metadata": {},
   "outputs": [],
   "source": [
    "df = pd.read_csv('https://code.s3.yandex.net/datasets/toxic_comments.csv')"
   ]
  },
  {
   "cell_type": "code",
   "execution_count": 4,
   "metadata": {},
   "outputs": [
    {
     "data": {
      "text/html": [
       "<div>\n",
       "<style scoped>\n",
       "    .dataframe tbody tr th:only-of-type {\n",
       "        vertical-align: middle;\n",
       "    }\n",
       "\n",
       "    .dataframe tbody tr th {\n",
       "        vertical-align: top;\n",
       "    }\n",
       "\n",
       "    .dataframe thead th {\n",
       "        text-align: right;\n",
       "    }\n",
       "</style>\n",
       "<table border=\"1\" class=\"dataframe\">\n",
       "  <thead>\n",
       "    <tr style=\"text-align: right;\">\n",
       "      <th></th>\n",
       "      <th>text</th>\n",
       "      <th>toxic</th>\n",
       "    </tr>\n",
       "  </thead>\n",
       "  <tbody>\n",
       "    <tr>\n",
       "      <th>125314</th>\n",
       "      <td>Call it being pushed into a corner or call it ...</td>\n",
       "      <td>1</td>\n",
       "    </tr>\n",
       "    <tr>\n",
       "      <th>1618</th>\n",
       "      <td>And, many taxonomists classify T.durum as a su...</td>\n",
       "      <td>0</td>\n",
       "    </tr>\n",
       "    <tr>\n",
       "      <th>115640</th>\n",
       "      <td>Air and Kilometers\\nI guess only 'classic song...</td>\n",
       "      <td>0</td>\n",
       "    </tr>\n",
       "    <tr>\n",
       "      <th>70199</th>\n",
       "      <td>My bad \\n\\nEverything on here is so confusing &gt;_&lt;</td>\n",
       "      <td>0</td>\n",
       "    </tr>\n",
       "    <tr>\n",
       "      <th>156061</th>\n",
       "      <td>Urartian-Armenians \\n\\nHey can you do me a fav...</td>\n",
       "      <td>0</td>\n",
       "    </tr>\n",
       "  </tbody>\n",
       "</table>\n",
       "</div>"
      ],
      "text/plain": [
       "                                                     text  toxic\n",
       "125314  Call it being pushed into a corner or call it ...      1\n",
       "1618    And, many taxonomists classify T.durum as a su...      0\n",
       "115640  Air and Kilometers\\nI guess only 'classic song...      0\n",
       "70199   My bad \\n\\nEverything on here is so confusing >_<      0\n",
       "156061  Urartian-Armenians \\n\\nHey can you do me a fav...      0"
      ]
     },
     "execution_count": 4,
     "metadata": {},
     "output_type": "execute_result"
    }
   ],
   "source": [
    "df.sample(5)"
   ]
  },
  {
   "cell_type": "code",
   "execution_count": 5,
   "metadata": {},
   "outputs": [
    {
     "name": "stdout",
     "output_type": "stream",
     "text": [
      "<class 'pandas.core.frame.DataFrame'>\n",
      "RangeIndex: 159571 entries, 0 to 159570\n",
      "Data columns (total 2 columns):\n",
      " #   Column  Non-Null Count   Dtype \n",
      "---  ------  --------------   ----- \n",
      " 0   text    159571 non-null  object\n",
      " 1   toxic   159571 non-null  int64 \n",
      "dtypes: int64(1), object(1)\n",
      "memory usage: 2.4+ MB\n"
     ]
    }
   ],
   "source": [
    "df.info()"
   ]
  },
  {
   "cell_type": "code",
   "execution_count": 6,
   "metadata": {},
   "outputs": [
    {
     "data": {
      "text/plain": [
       "0    143346\n",
       "1     16225\n",
       "Name: toxic, dtype: int64"
      ]
     },
     "execution_count": 6,
     "metadata": {},
     "output_type": "execute_result"
    }
   ],
   "source": [
    "df['toxic'].value_counts()"
   ]
  },
  {
   "cell_type": "markdown",
   "metadata": {},
   "source": [
    "Видим несбалансированность целевых классов."
   ]
  },
  {
   "cell_type": "markdown",
   "metadata": {},
   "source": [
    "Посмотрим на пример текста:"
   ]
  },
  {
   "cell_type": "code",
   "execution_count": 7,
   "metadata": {},
   "outputs": [
    {
     "name": "stdout",
     "output_type": "stream",
     "text": [
      "\"\n",
      "\n",
      " Name one time where I have ignored them. Show me right now, give me a link. I have replied to all of your accusations, and I have countered all of your false claims effectively. You are seriously embarrassing yourself. Do you seriously expect me to believe that some random individual is denying all of my claims backed up by evidence. Then this same individual tells you that instead of relying on facts, you have to get more people to agree with you on the talk page, which I did. Then when you ask this same individual why there are have been no changes to the page since they have managed to get more people to agree with them, and the individual replies with the statement of \"\"the consensus is biased as the proposal.\"\" Now do you seriously want me to believe that after all of that you are not either\n",
      "\n",
      "1. Biased/Prejudice\n",
      "2. Taking Orders from another person\n",
      "3. Being Paid to do so\n",
      "\n",
      "If you seriously want me to believe that you do not apply to any of those categories and you are just a regular person with an ordinary life who just happenes to \"\"disagree\"\" with me then you are insane.\"\n"
     ]
    }
   ],
   "source": [
    "print(df.text[156205])"
   ]
  },
  {
   "cell_type": "markdown",
   "metadata": {},
   "source": [
    " Далее мы урежем данные, сбалансировав попутно классы по наименьшему классу в соотношении 1:1. Таким образом мы получаем баланс классов и уменьшим время, необходимое для векторизации текстов и обучение моделей."
   ]
  },
  {
   "cell_type": "code",
   "execution_count": 8,
   "metadata": {},
   "outputs": [
    {
     "data": {
      "text/plain": [
       "(143346, 2)"
      ]
     },
     "execution_count": 8,
     "metadata": {},
     "output_type": "execute_result"
    }
   ],
   "source": [
    "df_0 = df.query(\"toxic==0\")\n",
    "df_0.shape"
   ]
  },
  {
   "cell_type": "code",
   "execution_count": 9,
   "metadata": {},
   "outputs": [
    {
     "data": {
      "text/plain": [
       "(16225, 2)"
      ]
     },
     "execution_count": 9,
     "metadata": {},
     "output_type": "execute_result"
    }
   ],
   "source": [
    "df_1 = df.query(\"toxic==1\")\n",
    "df_1.shape"
   ]
  },
  {
   "cell_type": "code",
   "execution_count": 10,
   "metadata": {},
   "outputs": [
    {
     "data": {
      "text/plain": [
       "(16225, 2)"
      ]
     },
     "execution_count": 10,
     "metadata": {},
     "output_type": "execute_result"
    }
   ],
   "source": [
    "df_0 = df_0.sample(df_1.shape[0])\n",
    "df_0.shape"
   ]
  },
  {
   "cell_type": "code",
   "execution_count": 11,
   "metadata": {},
   "outputs": [
    {
     "data": {
      "text/html": [
       "<div>\n",
       "<style scoped>\n",
       "    .dataframe tbody tr th:only-of-type {\n",
       "        vertical-align: middle;\n",
       "    }\n",
       "\n",
       "    .dataframe tbody tr th {\n",
       "        vertical-align: top;\n",
       "    }\n",
       "\n",
       "    .dataframe thead th {\n",
       "        text-align: right;\n",
       "    }\n",
       "</style>\n",
       "<table border=\"1\" class=\"dataframe\">\n",
       "  <thead>\n",
       "    <tr style=\"text-align: right;\">\n",
       "      <th></th>\n",
       "      <th>text</th>\n",
       "      <th>toxic</th>\n",
       "    </tr>\n",
       "  </thead>\n",
       "  <tbody>\n",
       "    <tr>\n",
       "      <th>7800</th>\n",
       "      <td>The picture is not showing up?</td>\n",
       "      <td>0</td>\n",
       "    </tr>\n",
       "    <tr>\n",
       "      <th>111034</th>\n",
       "      <td>This information is incorrect.</td>\n",
       "      <td>0</td>\n",
       "    </tr>\n",
       "    <tr>\n",
       "      <th>116831</th>\n",
       "      <td>Matthew Gagnon is a hoax \\n\\nIt's a vanity pag...</td>\n",
       "      <td>0</td>\n",
       "    </tr>\n",
       "    <tr>\n",
       "      <th>76023</th>\n",
       "      <td>Contested deletion \\n\\nThis page should not be...</td>\n",
       "      <td>0</td>\n",
       "    </tr>\n",
       "    <tr>\n",
       "      <th>48108</th>\n",
       "      <td>\":Please sign your name next time. By the way ...</td>\n",
       "      <td>0</td>\n",
       "    </tr>\n",
       "  </tbody>\n",
       "</table>\n",
       "</div>"
      ],
      "text/plain": [
       "                                                     text  toxic\n",
       "7800                       The picture is not showing up?      0\n",
       "111034                     This information is incorrect.      0\n",
       "116831  Matthew Gagnon is a hoax \\n\\nIt's a vanity pag...      0\n",
       "76023   Contested deletion \\n\\nThis page should not be...      0\n",
       "48108   \":Please sign your name next time. By the way ...      0"
      ]
     },
     "execution_count": 11,
     "metadata": {},
     "output_type": "execute_result"
    }
   ],
   "source": [
    "df_0.head()"
   ]
  },
  {
   "cell_type": "code",
   "execution_count": 12,
   "metadata": {},
   "outputs": [],
   "source": [
    "df_r = pd.concat([df_0, df_1], ignore_index=True)"
   ]
  },
  {
   "cell_type": "markdown",
   "metadata": {},
   "source": [
    "Ниже исправлю логику разбиения и даунсемплинга"
   ]
  },
  {
   "cell_type": "markdown",
   "metadata": {},
   "source": [
    "Ниже ноутбук носит характер неудачной работы. После изменения логики разбиения выборок, модели стали работать значительно хуже и не дотягивают то требуемого результата. Я пробовал обучать как на сбалансированной выборке так и несбалансированной, результат плохой."
   ]
  },
  {
   "cell_type": "code",
   "execution_count": 13,
   "metadata": {},
   "outputs": [
    {
     "data": {
      "text/plain": [
       "0    16225\n",
       "1    16225\n",
       "Name: toxic, dtype: int64"
      ]
     },
     "execution_count": 13,
     "metadata": {},
     "output_type": "execute_result"
    }
   ],
   "source": [
    "df_r.toxic.value_counts()"
   ]
  },
  {
   "cell_type": "code",
   "execution_count": 14,
   "metadata": {},
   "outputs": [
    {
     "data": {
      "text/html": [
       "<div>\n",
       "<style scoped>\n",
       "    .dataframe tbody tr th:only-of-type {\n",
       "        vertical-align: middle;\n",
       "    }\n",
       "\n",
       "    .dataframe tbody tr th {\n",
       "        vertical-align: top;\n",
       "    }\n",
       "\n",
       "    .dataframe thead th {\n",
       "        text-align: right;\n",
       "    }\n",
       "</style>\n",
       "<table border=\"1\" class=\"dataframe\">\n",
       "  <thead>\n",
       "    <tr style=\"text-align: right;\">\n",
       "      <th></th>\n",
       "      <th>text</th>\n",
       "      <th>toxic</th>\n",
       "    </tr>\n",
       "  </thead>\n",
       "  <tbody>\n",
       "    <tr>\n",
       "      <th>0</th>\n",
       "      <td>The picture is not showing up?</td>\n",
       "      <td>0</td>\n",
       "    </tr>\n",
       "    <tr>\n",
       "      <th>1</th>\n",
       "      <td>This information is incorrect.</td>\n",
       "      <td>0</td>\n",
       "    </tr>\n",
       "    <tr>\n",
       "      <th>2</th>\n",
       "      <td>Matthew Gagnon is a hoax \\n\\nIt's a vanity pag...</td>\n",
       "      <td>0</td>\n",
       "    </tr>\n",
       "    <tr>\n",
       "      <th>3</th>\n",
       "      <td>Contested deletion \\n\\nThis page should not be...</td>\n",
       "      <td>0</td>\n",
       "    </tr>\n",
       "  </tbody>\n",
       "</table>\n",
       "</div>"
      ],
      "text/plain": [
       "                                                text  toxic\n",
       "0                     The picture is not showing up?      0\n",
       "1                     This information is incorrect.      0\n",
       "2  Matthew Gagnon is a hoax \\n\\nIt's a vanity pag...      0\n",
       "3  Contested deletion \\n\\nThis page should not be...      0"
      ]
     },
     "execution_count": 14,
     "metadata": {},
     "output_type": "execute_result"
    }
   ],
   "source": [
    "df_r.head(4)"
   ]
  },
  {
   "cell_type": "markdown",
   "metadata": {},
   "source": [
    "## Обучение"
   ]
  },
  {
   "cell_type": "code",
   "execution_count": 9,
   "metadata": {},
   "outputs": [],
   "source": [
    "nlp = spacy.load('ru_core_news_md')"
   ]
  },
  {
   "cell_type": "code",
   "execution_count": 16,
   "metadata": {},
   "outputs": [
    {
     "data": {
      "text/plain": [
       "(300,)"
      ]
     },
     "execution_count": 16,
     "metadata": {},
     "output_type": "execute_result"
    }
   ],
   "source": [
    "nlp('I love Yandex!').vector.shape"
   ]
  },
  {
   "cell_type": "code",
   "execution_count": 17,
   "metadata": {},
   "outputs": [],
   "source": [
    "# %%time\n",
    "# df_r['text2vec'] = df_r['text'].apply(lambda x: nlp(x).vector) #векторизуем текст. Операция небыстрая."
   ]
  },
  {
   "cell_type": "code",
   "execution_count": 18,
   "metadata": {},
   "outputs": [],
   "source": [
    "# X = df_r['text2vec']\n",
    "# y = df_r['toxic']"
   ]
  },
  {
   "cell_type": "code",
   "execution_count": 19,
   "metadata": {},
   "outputs": [],
   "source": [
    "# X_train, X_test, y_train, y_test = train_test_split(\n",
    "#     X,\n",
    "#     y,\n",
    "#     test_size=0.25,\n",
    "#     stratify=df_r['toxic'],\n",
    "#     random_state=123,\n",
    "# )"
   ]
  },
  {
   "cell_type": "markdown",
   "metadata": {},
   "source": [
    "Воспользуемся функцией очистки текста. В фунцию мы добавим проверку на пустые значения."
   ]
  },
  {
   "cell_type": "code",
   "execution_count": 20,
   "metadata": {},
   "outputs": [],
   "source": [
    "stopwords = nlp.Defaults.stop_words\n",
    "\n",
    "def remove_stop_words(text):\n",
    "    lst = []\n",
    "    #text = re.sub(r\"[^'a-zA-Z ]\", ' ', text) \n",
    "    for token in text.split():\n",
    "        if token.lower() not in stopwords:    #checking whether the word is not \n",
    "            lst.append(token)                    #present in the stopword list.\n",
    "    if ' '.join(lst).strip() == '':\n",
    "        return np.nan\n",
    "    return ' '.join(lst).strip()"
   ]
  },
  {
   "cell_type": "code",
   "execution_count": 21,
   "metadata": {},
   "outputs": [],
   "source": [
    "df['text'] = df['text'].apply(lambda x: remove_stop_words(x))"
   ]
  },
  {
   "cell_type": "code",
   "execution_count": 22,
   "metadata": {},
   "outputs": [
    {
     "name": "stdout",
     "output_type": "stream",
     "text": [
      "<class 'pandas.core.frame.DataFrame'>\n",
      "RangeIndex: 159571 entries, 0 to 159570\n",
      "Data columns (total 2 columns):\n",
      " #   Column  Non-Null Count   Dtype \n",
      "---  ------  --------------   ----- \n",
      " 0   text    159565 non-null  object\n",
      " 1   toxic   159571 non-null  int64 \n",
      "dtypes: int64(1), object(1)\n",
      "memory usage: 2.4+ MB\n"
     ]
    }
   ],
   "source": [
    "df.info()"
   ]
  },
  {
   "cell_type": "code",
   "execution_count": 23,
   "metadata": {},
   "outputs": [],
   "source": [
    "df = df.dropna()"
   ]
  },
  {
   "cell_type": "code",
   "execution_count": 24,
   "metadata": {},
   "outputs": [
    {
     "data": {
      "text/html": [
       "<div>\n",
       "<style scoped>\n",
       "    .dataframe tbody tr th:only-of-type {\n",
       "        vertical-align: middle;\n",
       "    }\n",
       "\n",
       "    .dataframe tbody tr th {\n",
       "        vertical-align: top;\n",
       "    }\n",
       "\n",
       "    .dataframe thead th {\n",
       "        text-align: right;\n",
       "    }\n",
       "</style>\n",
       "<table border=\"1\" class=\"dataframe\">\n",
       "  <thead>\n",
       "    <tr style=\"text-align: right;\">\n",
       "      <th></th>\n",
       "      <th>text</th>\n",
       "      <th>toxic</th>\n",
       "    </tr>\n",
       "  </thead>\n",
       "  <tbody>\n",
       "    <tr>\n",
       "      <th>0</th>\n",
       "      <td>Explanation edits username Hardcore Metallica ...</td>\n",
       "      <td>0</td>\n",
       "    </tr>\n",
       "    <tr>\n",
       "      <th>1</th>\n",
       "      <td>D'aww! matches background colour I'm seemingly...</td>\n",
       "      <td>0</td>\n",
       "    </tr>\n",
       "    <tr>\n",
       "      <th>2</th>\n",
       "      <td>Hey man, I'm trying edit war. It's guy constan...</td>\n",
       "      <td>0</td>\n",
       "    </tr>\n",
       "    <tr>\n",
       "      <th>3</th>\n",
       "      <td>\" can't real suggestions improvement - wondere...</td>\n",
       "      <td>0</td>\n",
       "    </tr>\n",
       "    <tr>\n",
       "      <th>4</th>\n",
       "      <td>You, sir, hero. chance remember page that's on?</td>\n",
       "      <td>0</td>\n",
       "    </tr>\n",
       "  </tbody>\n",
       "</table>\n",
       "</div>"
      ],
      "text/plain": [
       "                                                text  toxic\n",
       "0  Explanation edits username Hardcore Metallica ...      0\n",
       "1  D'aww! matches background colour I'm seemingly...      0\n",
       "2  Hey man, I'm trying edit war. It's guy constan...      0\n",
       "3  \" can't real suggestions improvement - wondere...      0\n",
       "4    You, sir, hero. chance remember page that's on?      0"
      ]
     },
     "execution_count": 24,
     "metadata": {},
     "output_type": "execute_result"
    }
   ],
   "source": [
    "df.head()"
   ]
  },
  {
   "cell_type": "code",
   "execution_count": 25,
   "metadata": {},
   "outputs": [],
   "source": [
    "X = df['text']\n",
    "y = df['toxic']"
   ]
  },
  {
   "cell_type": "markdown",
   "metadata": {},
   "source": [
    "Делаем предварительное разбиение выборки. Ниже ее придется немного доработать."
   ]
  },
  {
   "cell_type": "code",
   "execution_count": 26,
   "metadata": {},
   "outputs": [],
   "source": [
    "X_train, X_test, y_train, y_test = train_test_split(\n",
    "    X,\n",
    "    y,\n",
    "    #train_size=0.3,\n",
    "    test_size=0.05,\n",
    "    stratify=df['toxic'],\n",
    "    random_state=123,\n",
    ")"
   ]
  },
  {
   "cell_type": "code",
   "execution_count": 27,
   "metadata": {},
   "outputs": [
    {
     "data": {
      "text/plain": [
       "(7979,)"
      ]
     },
     "execution_count": 27,
     "metadata": {},
     "output_type": "execute_result"
    }
   ],
   "source": [
    "X_test.shape"
   ]
  },
  {
   "cell_type": "code",
   "execution_count": 28,
   "metadata": {},
   "outputs": [
    {
     "data": {
      "text/plain": [
       "(151586,)"
      ]
     },
     "execution_count": 28,
     "metadata": {},
     "output_type": "execute_result"
    }
   ],
   "source": [
    "X_train.shape"
   ]
  },
  {
   "cell_type": "code",
   "execution_count": 29,
   "metadata": {},
   "outputs": [
    {
     "data": {
      "text/plain": [
       "0    136172\n",
       "1     15414\n",
       "Name: toxic, dtype: int64"
      ]
     },
     "execution_count": 29,
     "metadata": {},
     "output_type": "execute_result"
    }
   ],
   "source": [
    "y_train.value_counts()"
   ]
  },
  {
   "cell_type": "code",
   "execution_count": 30,
   "metadata": {},
   "outputs": [
    {
     "data": {
      "text/plain": [
       "0    136172\n",
       "1     15414\n",
       "Name: toxic, dtype: int64"
      ]
     },
     "execution_count": 30,
     "metadata": {},
     "output_type": "execute_result"
    }
   ],
   "source": [
    "train = pd.concat([X_train, y_train], axis=1)\n",
    "train['toxic'].value_counts()"
   ]
  },
  {
   "cell_type": "code",
   "execution_count": 31,
   "metadata": {},
   "outputs": [],
   "source": [
    "train_1 = train.query(\"toxic==1\")\n",
    "train_0 = train.query('toxic==0').sample(train_1.shape[0])\n",
    "train = pd.concat([train_0, train_1])\n",
    "train = train.sample(frac=1).reset_index(drop=True) #перемешаем данные\n",
    "X_train = train['text']\n",
    "y_train = train['toxic']"
   ]
  },
  {
   "cell_type": "code",
   "execution_count": 32,
   "metadata": {},
   "outputs": [
    {
     "name": "stdout",
     "output_type": "stream",
     "text": [
      "CPU times: user 6min 20s, sys: 1.07 s, total: 6min 21s\n",
      "Wall time: 6min 21s\n"
     ]
    }
   ],
   "source": [
    "%%time\n",
    "X_train = X_train.apply(lambda x: nlp(x).vector)"
   ]
  },
  {
   "cell_type": "code",
   "execution_count": 33,
   "metadata": {},
   "outputs": [
    {
     "name": "stdout",
     "output_type": "stream",
     "text": [
      "CPU times: user 1min 34s, sys: 132 ms, total: 1min 34s\n",
      "Wall time: 1min 34s\n"
     ]
    }
   ],
   "source": [
    "%%time\n",
    "X_test = X_test.apply(lambda x: nlp(x).vector)"
   ]
  },
  {
   "cell_type": "markdown",
   "metadata": {},
   "source": [
    "<b> Обучим модель XGBoost:"
   ]
  },
  {
   "cell_type": "code",
   "execution_count": 34,
   "metadata": {},
   "outputs": [
    {
     "name": "stderr",
     "output_type": "stream",
     "text": [
      "/opt/conda/lib/python3.9/site-packages/xgboost/sklearn.py:1224: UserWarning: The use of label encoder in XGBClassifier is deprecated and will be removed in a future release. To remove this warning, do the following: 1) Pass option use_label_encoder=False when constructing XGBClassifier object; and 2) Encode your labels (y) as integers starting with 0, i.e. 0, 1, 2, ..., [num_class - 1].\n",
      "  warnings.warn(label_encoder_deprecation_msg, UserWarning)\n"
     ]
    },
    {
     "name": "stdout",
     "output_type": "stream",
     "text": [
      "[16:41:48] WARNING: ../src/learner.cc:1115: Starting in XGBoost 1.3.0, the default evaluation metric used with the objective 'binary:logistic' was changed from 'error' to 'logloss'. Explicitly set eval_metric if you'd like to restore the old behavior.\n",
      "CPU times: user 7min 32s, sys: 2.01 s, total: 7min 34s\n",
      "Wall time: 7min 35s\n"
     ]
    },
    {
     "data": {
      "text/plain": [
       "XGBClassifier(base_score=0.5, booster='gbtree', colsample_bylevel=1,\n",
       "              colsample_bynode=1, colsample_bytree=1, enable_categorical=False,\n",
       "              gamma=0, gpu_id=-1, importance_type=None,\n",
       "              interaction_constraints='', learning_rate=0.300000012,\n",
       "              max_delta_step=0, max_depth=6, min_child_weight=1, missing=nan,\n",
       "              monotone_constraints='()', n_estimators=100, n_jobs=8,\n",
       "              num_parallel_tree=1, predictor='auto', random_state=0,\n",
       "              reg_alpha=0, reg_lambda=1, scale_pos_weight=1, subsample=1,\n",
       "              tree_method='exact', validate_parameters=1, verbosity=None)"
      ]
     },
     "execution_count": 34,
     "metadata": {},
     "output_type": "execute_result"
    }
   ],
   "source": [
    "%%time\n",
    "xgb_model = xgboost.XGBClassifier()\n",
    "xgb_model.fit(np.vstack(X_train), y_train) # подсмотрено на https://stackoverflow.com/questions/66092161/xgboost-valueerror-please-reshape-the-input-data-x-into-2-dimensional-matrix-in, иначе возникает ошибка\n",
    "#predictions = xgb.predict(np.vstack(val['doc_vector']))\n"
   ]
  },
  {
   "cell_type": "code",
   "execution_count": 35,
   "metadata": {},
   "outputs": [
    {
     "name": "stdout",
     "output_type": "stream",
     "text": [
      "CPU times: user 132 ms, sys: 0 ns, total: 132 ms\n",
      "Wall time: 107 ms\n"
     ]
    }
   ],
   "source": [
    "%%time\n",
    "test_f1_score = f1_score(y_test, xgb_model.predict(np.vstack(X_test)))"
   ]
  },
  {
   "cell_type": "markdown",
   "metadata": {},
   "source": [
    "<b> Результирующий скоринг XGBoost: "
   ]
  },
  {
   "cell_type": "code",
   "execution_count": 36,
   "metadata": {},
   "outputs": [
    {
     "data": {
      "text/plain": [
       "0.636842105263158"
      ]
     },
     "execution_count": 36,
     "metadata": {},
     "output_type": "execute_result"
    }
   ],
   "source": [
    "test_f1_score"
   ]
  },
  {
   "cell_type": "markdown",
   "metadata": {},
   "source": [
    "<b>Обучим модель Logistic Regression:"
   ]
  },
  {
   "cell_type": "code",
   "execution_count": 37,
   "metadata": {},
   "outputs": [
    {
     "name": "stdout",
     "output_type": "stream",
     "text": [
      "CPU times: user 8.63 s, sys: 7.02 s, total: 15.6 s\n",
      "Wall time: 15.7 s\n"
     ]
    },
    {
     "data": {
      "text/plain": [
       "LogisticRegression(max_iter=1000, random_state=123)"
      ]
     },
     "execution_count": 37,
     "metadata": {},
     "output_type": "execute_result"
    }
   ],
   "source": [
    "%%time\n",
    "lr_model = LogisticRegression(max_iter=1000, random_state=123)\n",
    "lr_model.fit(np.vstack(X_train), y_train)"
   ]
  },
  {
   "cell_type": "code",
   "execution_count": 38,
   "metadata": {},
   "outputs": [
    {
     "name": "stdout",
     "output_type": "stream",
     "text": [
      "CPU times: user 50.6 ms, sys: 65.5 ms, total: 116 ms\n",
      "Wall time: 112 ms\n"
     ]
    }
   ],
   "source": [
    "%%time\n",
    "test_f1_score = f1_score(y_test, lr_model.predict(np.vstack(X_test)))"
   ]
  },
  {
   "cell_type": "markdown",
   "metadata": {},
   "source": [
    "<b> Результирующий скоринг LogisticRegression: "
   ]
  },
  {
   "cell_type": "code",
   "execution_count": 39,
   "metadata": {},
   "outputs": [
    {
     "data": {
      "text/plain": [
       "0.6498161764705882"
      ]
     },
     "execution_count": 39,
     "metadata": {},
     "output_type": "execute_result"
    }
   ],
   "source": [
    "test_f1_score"
   ]
  },
  {
   "cell_type": "markdown",
   "metadata": {},
   "source": [
    "<b> Итог: скоринги низкие, переходим к тестированию модели на основе векторизации TF-IDF"
   ]
  },
  {
   "cell_type": "markdown",
   "metadata": {},
   "source": [
    " <h1>Часть 2 (векторизация TF-IDF)<font color='blue'>  </font>"
   ]
  },
  {
   "cell_type": "code",
   "execution_count": 1,
   "metadata": {},
   "outputs": [
    {
     "name": "stderr",
     "output_type": "stream",
     "text": [
      "[nltk_data] Downloading package punkt to /home/jovyan/nltk_data...\n",
      "[nltk_data]   Package punkt is already up-to-date!\n",
      "[nltk_data] Downloading package wordnet to /home/jovyan/nltk_data...\n",
      "[nltk_data]   Package wordnet is already up-to-date!\n"
     ]
    }
   ],
   "source": [
    "# Импортируем недостающие библиотеки\n",
    "import nltk\n",
    "nltk.download('punkt')\n",
    "nltk.download('wordnet')\n",
    "from nltk.corpus import stopwords as nltk_stopwords\n",
    "from sklearn.feature_extraction.text import TfidfVectorizer\n",
    "from nltk.stem import WordNetLemmatizer\n",
    "from sklearn.model_selection import GridSearchCV"
   ]
  },
  {
   "cell_type": "code",
   "execution_count": 4,
   "metadata": {},
   "outputs": [],
   "source": [
    "# Заново прочитаем файл и инициализируем наборы для моделей\n",
    "df = pd.read_csv('https://code.s3.yandex.net/datasets/toxic_comments.csv')"
   ]
  },
  {
   "cell_type": "code",
   "execution_count": 10,
   "metadata": {},
   "outputs": [
    {
     "name": "stderr",
     "output_type": "stream",
     "text": [
      "[nltk_data] Downloading package stopwords to /home/jovyan/nltk_data...\n",
      "[nltk_data]   Package stopwords is already up-to-date!\n"
     ]
    },
    {
     "data": {
      "text/plain": [
       "382"
      ]
     },
     "execution_count": 10,
     "metadata": {},
     "output_type": "execute_result"
    }
   ],
   "source": [
    "# Интереса ради объеденим два набора стоп-слов\n",
    "stopwords_nlp = nlp.Defaults.stop_words\n",
    "nltk.download('stopwords')\n",
    "stopwords_nltk = set(nltk_stopwords.words('english'))\n",
    "stopwords = stopwords_nlp.union(stopwords_nltk)\n",
    "len(stopwords)"
   ]
  },
  {
   "cell_type": "markdown",
   "metadata": {},
   "source": [
    "Фукнция, которая будет очищать, токинизировать и лемматизировать текст."
   ]
  },
  {
   "cell_type": "code",
   "execution_count": 11,
   "metadata": {},
   "outputs": [],
   "source": [
    "m = WordNetLemmatizer() \n",
    "\n",
    "def prepare_text(text):\n",
    "    text = (re.sub(r'[^a-zA-Z]', ' ', text)).split(' ')\n",
    "    text = ' '.join([word for word in text if word not in stopwords])\n",
    "    text = ' '.join([m.lemmatize(word) for word in text.split()])\n",
    "    if text == '': # добавляем проверку на пустые строки\n",
    "        return np.nan\n",
    "    return text   "
   ]
  },
  {
   "cell_type": "code",
   "execution_count": 15,
   "metadata": {},
   "outputs": [
    {
     "name": "stdout",
     "output_type": "stream",
     "text": [
      "CPU times: user 20.6 s, sys: 22.7 ms, total: 20.6 s\n",
      "Wall time: 20.7 s\n"
     ]
    }
   ],
   "source": [
    "%%time\n",
    "df['prep_text'] =prepare_text df['text'].apply(lambda x: prepare_text(x))"
   ]
  },
  {
   "cell_type": "code",
   "execution_count": 16,
   "metadata": {},
   "outputs": [
    {
     "name": "stdout",
     "output_type": "stream",
     "text": [
      "<class 'pandas.core.frame.DataFrame'>\n",
      "RangeIndex: 159571 entries, 0 to 159570\n",
      "Data columns (total 3 columns):\n",
      " #   Column     Non-Null Count   Dtype \n",
      "---  ------     --------------   ----- \n",
      " 0   text       159571 non-null  object\n",
      " 1   toxic      159571 non-null  int64 \n",
      " 2   prep_text  159535 non-null  object\n",
      "dtypes: int64(1), object(2)\n",
      "memory usage: 3.7+ MB\n"
     ]
    }
   ],
   "source": [
    "df.info() "
   ]
  },
  {
   "cell_type": "markdown",
   "metadata": {},
   "source": [
    "Видим, что после обработки текста, появились nan'ы, удалим их"
   ]
  },
  {
   "cell_type": "code",
   "execution_count": 17,
   "metadata": {},
   "outputs": [],
   "source": [
    "df = df.dropna()"
   ]
  },
  {
   "cell_type": "code",
   "execution_count": 18,
   "metadata": {},
   "outputs": [],
   "source": [
    "X = df['prep_text']\n",
    "y = df['toxic']\n",
    "\n",
    "X_train, X_test, y_train, y_test = train_test_split(\n",
    "    X,\n",
    "    y,\n",
    "    test_size=0.20,\n",
    "    stratify=df['toxic'],\n",
    "    random_state=123,\n",
    ")"
   ]
  },
  {
   "cell_type": "code",
   "execution_count": 19,
   "metadata": {},
   "outputs": [],
   "source": [
    "tf_idf = TfidfVectorizer() #stop_words=stopwords)"
   ]
  },
  {
   "cell_type": "code",
   "execution_count": 20,
   "metadata": {},
   "outputs": [
    {
     "name": "stdout",
     "output_type": "stream",
     "text": [
      "CPU times: user 4.29 s, sys: 65.3 ms, total: 4.36 s\n",
      "Wall time: 4.36 s\n"
     ]
    }
   ],
   "source": [
    "%%time\n",
    "X_train = tf_idf.fit_transform(X_train)\n",
    "X_test = tf_idf.transform(X_test)"
   ]
  },
  {
   "cell_type": "markdown",
   "metadata": {},
   "source": [
    "<b>Обучим модель Logistic Regression c поиском гиперпараметра 'C' по сетке:"
   ]
  },
  {
   "cell_type": "code",
   "execution_count": 50,
   "metadata": {},
   "outputs": [
    {
     "name": "stdout",
     "output_type": "stream",
     "text": [
      "CPU times: user 5min 58s, sys: 12min 9s, total: 18min 7s\n",
      "Wall time: 18min 8s\n"
     ]
    },
    {
     "data": {
      "text/plain": [
       "{'C': 4.7}"
      ]
     },
     "execution_count": 50,
     "metadata": {},
     "output_type": "execute_result"
    }
   ],
   "source": [
    "%%time\n",
    "\n",
    "clf_lr = LogisticRegression(random_state=12345,  class_weight='balanced', max_iter=1000)\n",
    "parametrs_lr = {'C': np.arange(4.7, 5.3, 0.1)}\n",
    "grid_lr = GridSearchCV(clf_lr, parametrs_lr, cv=3, scoring='f1')\n",
    "grid_lr.fit(X_train, y_train)\n",
    "grid_lr.best_params_"
   ]
  },
  {
   "cell_type": "code",
   "execution_count": 25,
   "metadata": {},
   "outputs": [
    {
     "name": "stdout",
     "output_type": "stream",
     "text": [
      "CPU times: user 20 ms, sys: 8.77 ms, total: 28.8 ms\n",
      "Wall time: 92.9 ms\n"
     ]
    }
   ],
   "source": [
    "%%time\n",
    "test_f1_score = f1_score(y_test, grid_lr.predict(X_test))"
   ]
  },
  {
   "cell_type": "code",
   "execution_count": 26,
   "metadata": {},
   "outputs": [
    {
     "data": {
      "text/plain": [
       "0.7732730611668315"
      ]
     },
     "execution_count": 26,
     "metadata": {},
     "output_type": "execute_result"
    }
   ],
   "source": [
    "test_f1_score"
   ]
  },
  {
   "cell_type": "code",
   "execution_count": 53,
   "metadata": {},
   "outputs": [
    {
     "name": "stderr",
     "output_type": "stream",
     "text": [
      "/opt/conda/lib/python3.9/site-packages/xgboost/sklearn.py:1224: UserWarning: The use of label encoder in XGBClassifier is deprecated and will be removed in a future release. To remove this warning, do the following: 1) Pass option use_label_encoder=False when constructing XGBClassifier object; and 2) Encode your labels (y) as integers starting with 0, i.e. 0, 1, 2, ..., [num_class - 1].\n",
      "  warnings.warn(label_encoder_deprecation_msg, UserWarning)\n"
     ]
    },
    {
     "name": "stdout",
     "output_type": "stream",
     "text": [
      "[17:08:21] WARNING: ../src/learner.cc:1115: Starting in XGBoost 1.3.0, the default evaluation metric used with the objective 'binary:logistic' was changed from 'error' to 'logloss'. Explicitly set eval_metric if you'd like to restore the old behavior.\n",
      "CPU times: user 4min 27s, sys: 0 ns, total: 4min 27s\n",
      "Wall time: 4min 28s\n"
     ]
    },
    {
     "data": {
      "text/plain": [
       "XGBClassifier(base_score=0.5, booster='gbtree', colsample_bylevel=1,\n",
       "              colsample_bynode=1, colsample_bytree=1, enable_categorical=False,\n",
       "              gamma=0, gpu_id=-1, importance_type=None,\n",
       "              interaction_constraints='', learning_rate=0.300000012,\n",
       "              max_delta_step=0, max_depth=6, min_child_weight=1, missing=nan,\n",
       "              monotone_constraints='()', n_estimators=100, n_jobs=8,\n",
       "              num_parallel_tree=1, predictor='auto', random_state=0,\n",
       "              reg_alpha=0, reg_lambda=1, scale_pos_weight=1, subsample=1,\n",
       "              tree_method='exact', validate_parameters=1, verbosity=None)"
      ]
     },
     "execution_count": 53,
     "metadata": {},
     "output_type": "execute_result"
    }
   ],
   "source": [
    "%%time\n",
    "xgb_model = xgboost.XGBClassifier()\n",
    "xgb_model.fit(X_train, y_train) "
   ]
  },
  {
   "cell_type": "code",
   "execution_count": 54,
   "metadata": {},
   "outputs": [
    {
     "name": "stdout",
     "output_type": "stream",
     "text": [
      "CPU times: user 285 ms, sys: 0 ns, total: 285 ms\n",
      "Wall time: 222 ms\n"
     ]
    }
   ],
   "source": [
    "%%time\n",
    "test_f1_score = f1_score(y_test, xgb_model.predict(X_test))"
   ]
  },
  {
   "cell_type": "code",
   "execution_count": 55,
   "metadata": {},
   "outputs": [
    {
     "data": {
      "text/plain": [
       "0.7359467455621302"
      ]
     },
     "execution_count": 55,
     "metadata": {},
     "output_type": "execute_result"
    }
   ],
   "source": [
    "test_f1_score"
   ]
  },
  {
   "cell_type": "code",
   "execution_count": 56,
   "metadata": {},
   "outputs": [],
   "source": [
    "# обучается очень долго\n",
    "# estimator = xgboost.XGBClassifier(\n",
    "#     seed=42\n",
    "# )\n",
    "\n",
    "# parameters = {\n",
    "#     'max_depth': [10],\n",
    "#     'n_estimators': [10, 100],\n",
    "#     'learning_rate': [0.2, 0,7]\n",
    "# }\n",
    "\n",
    "# grid_xgboost = GridSearchCV(\n",
    "#     estimator=estimator,\n",
    "#     param_grid=parameters,\n",
    "#     scoring='f1',\n",
    "#     cv=3,\n",
    "#     verbose=True\n",
    "# )"
   ]
  },
  {
   "cell_type": "code",
   "execution_count": 57,
   "metadata": {},
   "outputs": [],
   "source": [
    "# %%time\n",
    "# grid_xgboost.fit(X_train, y_train)"
   ]
  },
  {
   "cell_type": "code",
   "execution_count": 58,
   "metadata": {},
   "outputs": [],
   "source": [
    "# grid_xgboost.best_params_"
   ]
  },
  {
   "cell_type": "code",
   "execution_count": 59,
   "metadata": {},
   "outputs": [],
   "source": [
    "# test_f1_score = f1_score(y_test, grid_xgboost.predict(X_test))"
   ]
  },
  {
   "cell_type": "code",
   "execution_count": 60,
   "metadata": {},
   "outputs": [],
   "source": [
    "# test_f1_score"
   ]
  },
  {
   "cell_type": "markdown",
   "metadata": {},
   "source": [
    "<b>\n",
    "Вывод: в результате работы было выяснено, что модели, работающие на предобработанных такстах с помощью векторизация библиотекой Spacy не дает требуемой точности обучаемых моделей. Поэтому было использовано простое решение с использованием векторизации на основые ТF-IDF.\n",
    "Оптимальной моделью с требуемой точностью можно назвать логистическую регрессию, в результате подбора гиперпараметров с помощью GridSearch, которое заняло около 6 минут удалось получить точность метрики F1 на тестовом наборе равным 0.773, что выше требуемого в задаче порога.\n",
    "    "
   ]
  }
 ],
 "metadata": {
  "ExecuteTimeLog": [
   {
    "duration": 387,
    "start_time": "2022-07-21T12:11:29.135Z"
   },
   {
    "duration": 3798,
    "start_time": "2022-07-21T12:11:45.566Z"
   },
   {
    "duration": 18,
    "start_time": "2022-07-21T12:11:57.582Z"
   },
   {
    "duration": 37,
    "start_time": "2022-07-21T12:12:24.587Z"
   },
   {
    "duration": 8,
    "start_time": "2022-07-21T12:13:06.492Z"
   },
   {
    "duration": 45,
    "start_time": "2022-07-22T09:36:50.024Z"
   },
   {
    "duration": 382,
    "start_time": "2022-07-22T09:36:57.259Z"
   },
   {
    "duration": 2580,
    "start_time": "2022-07-22T09:36:57.643Z"
   },
   {
    "duration": 16,
    "start_time": "2022-07-22T09:37:00.225Z"
   },
   {
    "duration": 30,
    "start_time": "2022-07-22T09:37:00.243Z"
   },
   {
    "duration": 8,
    "start_time": "2022-07-22T09:37:00.274Z"
   },
   {
    "duration": 8,
    "start_time": "2022-07-22T09:37:00.284Z"
   },
   {
    "duration": 71,
    "start_time": "2022-07-22T09:47:38.171Z"
   },
   {
    "duration": 68271,
    "start_time": "2022-07-22T09:47:42.724Z"
   },
   {
    "duration": 356,
    "start_time": "2022-07-22T09:48:50.997Z"
   },
   {
    "duration": 3,
    "start_time": "2022-07-22T09:51:41.797Z"
   },
   {
    "duration": 696,
    "start_time": "2022-07-22T09:51:43.091Z"
   },
   {
    "duration": 15,
    "start_time": "2022-07-22T09:51:43.791Z"
   },
   {
    "duration": 56,
    "start_time": "2022-07-22T09:51:50.044Z"
   },
   {
    "duration": 4,
    "start_time": "2022-07-22T09:52:30.143Z"
   },
   {
    "duration": 4,
    "start_time": "2022-07-22T09:52:45.920Z"
   },
   {
    "duration": 4,
    "start_time": "2022-07-22T09:53:20.255Z"
   },
   {
    "duration": 514,
    "start_time": "2022-07-22T09:58:01.436Z"
   },
   {
    "duration": 74,
    "start_time": "2022-07-22T10:02:33.634Z"
   },
   {
    "duration": 94,
    "start_time": "2022-07-22T10:03:10.089Z"
   },
   {
    "duration": 2200,
    "start_time": "2022-07-22T10:03:35.865Z"
   },
   {
    "duration": 130,
    "start_time": "2022-07-22T10:03:44.129Z"
   },
   {
    "duration": 173258,
    "start_time": "2022-07-22T10:11:05.365Z"
   },
   {
    "duration": 715,
    "start_time": "2022-07-22T10:13:58.626Z"
   },
   {
    "duration": 1015,
    "start_time": "2022-07-22T10:13:59.342Z"
   },
   {
    "duration": 2087,
    "start_time": "2022-07-22T10:14:00.359Z"
   },
   {
    "duration": 1461,
    "start_time": "2022-07-22T10:14:02.448Z"
   },
   {
    "duration": 1597,
    "start_time": "2022-07-22T10:14:03.911Z"
   },
   {
    "duration": 2231,
    "start_time": "2022-07-22T10:14:05.518Z"
   },
   {
    "duration": 517,
    "start_time": "2022-07-22T10:14:07.751Z"
   },
   {
    "duration": 414,
    "start_time": "2022-07-22T10:14:08.270Z"
   },
   {
    "duration": 0,
    "start_time": "2022-07-22T10:14:08.686Z"
   },
   {
    "duration": 750,
    "start_time": "2022-07-22T10:17:09.394Z"
   },
   {
    "duration": 12,
    "start_time": "2022-07-22T10:17:11.034Z"
   },
   {
    "duration": 30,
    "start_time": "2022-07-22T10:17:12.012Z"
   },
   {
    "duration": 2317,
    "start_time": "2022-07-22T10:18:31.162Z"
   },
   {
    "duration": 18,
    "start_time": "2022-07-22T10:20:04.750Z"
   },
   {
    "duration": 12,
    "start_time": "2022-07-22T10:20:16.695Z"
   },
   {
    "duration": 61949,
    "start_time": "2022-07-22T10:41:39.269Z"
   },
   {
    "duration": 2662,
    "start_time": "2022-07-22T10:42:41.220Z"
   },
   {
    "duration": 19,
    "start_time": "2022-07-22T10:42:43.884Z"
   },
   {
    "duration": 38,
    "start_time": "2022-07-22T10:42:43.905Z"
   },
   {
    "duration": 7,
    "start_time": "2022-07-22T10:42:43.945Z"
   },
   {
    "duration": 4,
    "start_time": "2022-07-22T10:42:43.954Z"
   },
   {
    "duration": 713,
    "start_time": "2022-07-22T10:42:43.960Z"
   },
   {
    "duration": 3,
    "start_time": "2022-07-22T10:42:44.676Z"
   },
   {
    "duration": 80,
    "start_time": "2022-07-22T10:42:44.681Z"
   },
   {
    "duration": 314,
    "start_time": "2022-07-22T10:43:30.032Z"
   },
   {
    "duration": 26,
    "start_time": "2022-07-22T10:44:04.676Z"
   },
   {
    "duration": 21,
    "start_time": "2022-07-22T10:44:11.375Z"
   },
   {
    "duration": 4,
    "start_time": "2022-07-22T10:44:27.455Z"
   },
   {
    "duration": 17,
    "start_time": "2022-07-22T10:44:34.598Z"
   },
   {
    "duration": 16,
    "start_time": "2022-07-22T10:44:50.375Z"
   },
   {
    "duration": 15,
    "start_time": "2022-07-22T10:44:54.021Z"
   },
   {
    "duration": 19,
    "start_time": "2022-07-22T10:45:33.176Z"
   },
   {
    "duration": 73,
    "start_time": "2022-07-22T10:47:03.086Z"
   },
   {
    "duration": 9,
    "start_time": "2022-07-22T10:47:14.627Z"
   },
   {
    "duration": 8,
    "start_time": "2022-07-22T10:47:41.312Z"
   },
   {
    "duration": 1429213,
    "start_time": "2022-07-22T10:47:49.840Z"
   },
   {
    "duration": 141,
    "start_time": "2022-07-22T11:11:47.943Z"
   },
   {
    "duration": 38391,
    "start_time": "2022-07-22T11:12:04.909Z"
   },
   {
    "duration": 1342,
    "start_time": "2022-07-22T11:13:13.942Z"
   },
   {
    "duration": 13,
    "start_time": "2022-07-22T11:13:18.146Z"
   },
   {
    "duration": 104,
    "start_time": "2022-07-22T11:13:52.638Z"
   },
   {
    "duration": 23,
    "start_time": "2022-07-22T11:14:24.105Z"
   },
   {
    "duration": 15,
    "start_time": "2022-07-22T11:14:44.650Z"
   },
   {
    "duration": 15,
    "start_time": "2022-07-22T11:14:56.850Z"
   },
   {
    "duration": 9,
    "start_time": "2022-07-22T11:15:28.898Z"
   },
   {
    "duration": 2709802,
    "start_time": "2022-07-22T11:16:33.794Z"
   },
   {
    "duration": 20,
    "start_time": "2022-07-22T12:05:22.010Z"
   },
   {
    "duration": 3,
    "start_time": "2022-07-22T12:11:26.444Z"
   },
   {
    "duration": 19,
    "start_time": "2022-07-22T12:11:28.094Z"
   },
   {
    "duration": 19,
    "start_time": "2022-07-22T12:11:39.082Z"
   },
   {
    "duration": 23,
    "start_time": "2022-07-22T12:11:47.040Z"
   },
   {
    "duration": 58,
    "start_time": "2022-07-22T12:11:55.311Z"
   },
   {
    "duration": 2,
    "start_time": "2022-07-22T12:14:46.243Z"
   },
   {
    "duration": 106,
    "start_time": "2022-07-22T12:15:24.060Z"
   },
   {
    "duration": 33,
    "start_time": "2022-07-22T12:15:52.682Z"
   },
   {
    "duration": 42,
    "start_time": "2022-07-22T12:16:00.135Z"
   },
   {
    "duration": 6,
    "start_time": "2022-07-22T12:18:33.697Z"
   },
   {
    "duration": 65,
    "start_time": "2022-07-22T12:18:36.054Z"
   },
   {
    "duration": 2,
    "start_time": "2022-07-22T12:18:36.479Z"
   },
   {
    "duration": 54,
    "start_time": "2022-07-22T12:18:37.641Z"
   },
   {
    "duration": 90,
    "start_time": "2022-07-22T12:18:47.203Z"
   },
   {
    "duration": 17,
    "start_time": "2022-07-22T12:19:07.485Z"
   },
   {
    "duration": 4,
    "start_time": "2022-07-22T12:19:30.773Z"
   },
   {
    "duration": 4,
    "start_time": "2022-07-22T12:21:28.743Z"
   },
   {
    "duration": 515,
    "start_time": "2022-07-22T12:25:52.043Z"
   },
   {
    "duration": 20,
    "start_time": "2022-07-22T12:27:02.469Z"
   },
   {
    "duration": 17,
    "start_time": "2022-07-22T12:31:44.160Z"
   },
   {
    "duration": 24,
    "start_time": "2022-07-22T12:32:01.586Z"
   },
   {
    "duration": 9,
    "start_time": "2022-07-22T12:32:11.896Z"
   },
   {
    "duration": 20,
    "start_time": "2022-07-22T12:32:16.400Z"
   },
   {
    "duration": 23408,
    "start_time": "2022-07-22T12:33:36.088Z"
   },
   {
    "duration": 26,
    "start_time": "2022-07-22T12:34:15.282Z"
   },
   {
    "duration": 18,
    "start_time": "2022-07-22T12:35:39.798Z"
   },
   {
    "duration": 2,
    "start_time": "2022-07-22T12:35:44.115Z"
   },
   {
    "duration": 437,
    "start_time": "2022-07-22T12:35:44.557Z"
   },
   {
    "duration": 442,
    "start_time": "2022-07-22T12:35:55.076Z"
   },
   {
    "duration": 3,
    "start_time": "2022-07-22T12:35:55.574Z"
   },
   {
    "duration": 79,
    "start_time": "2022-07-22T12:35:56.605Z"
   },
   {
    "duration": 179,
    "start_time": "2022-07-22T12:41:47.191Z"
   },
   {
    "duration": 808085,
    "start_time": "2022-07-22T12:42:08.244Z"
   },
   {
    "duration": 5,
    "start_time": "2022-07-22T12:55:36.332Z"
   },
   {
    "duration": 44,
    "start_time": "2022-07-22T12:55:36.339Z"
   },
   {
    "duration": 17,
    "start_time": "2022-07-22T12:56:18.855Z"
   },
   {
    "duration": 20,
    "start_time": "2022-07-22T12:56:28.156Z"
   },
   {
    "duration": 263,
    "start_time": "2022-07-22T12:56:48.744Z"
   },
   {
    "duration": 9,
    "start_time": "2022-07-22T12:57:02.892Z"
   },
   {
    "duration": 9,
    "start_time": "2022-07-22T12:57:09.852Z"
   },
   {
    "duration": 10,
    "start_time": "2022-07-22T12:57:17.141Z"
   },
   {
    "duration": 20,
    "start_time": "2022-07-22T12:57:45.141Z"
   },
   {
    "duration": 9,
    "start_time": "2022-07-22T12:57:55.040Z"
   },
   {
    "duration": 20,
    "start_time": "2022-07-22T12:58:30.409Z"
   },
   {
    "duration": 11,
    "start_time": "2022-07-22T13:01:13.576Z"
   },
   {
    "duration": 3,
    "start_time": "2022-07-22T13:01:54.055Z"
   },
   {
    "duration": 740,
    "start_time": "2022-07-22T13:01:54.060Z"
   },
   {
    "duration": 12,
    "start_time": "2022-07-22T13:01:54.802Z"
   },
   {
    "duration": 48,
    "start_time": "2022-07-22T13:01:54.816Z"
   },
   {
    "duration": 8,
    "start_time": "2022-07-22T13:01:54.866Z"
   },
   {
    "duration": 7,
    "start_time": "2022-07-22T13:01:54.876Z"
   },
   {
    "duration": 36,
    "start_time": "2022-07-22T13:01:54.885Z"
   },
   {
    "duration": 9,
    "start_time": "2022-07-22T13:01:54.923Z"
   },
   {
    "duration": 12,
    "start_time": "2022-07-22T13:01:54.934Z"
   },
   {
    "duration": 10,
    "start_time": "2022-07-22T13:01:54.948Z"
   },
   {
    "duration": 11,
    "start_time": "2022-07-22T13:02:02.518Z"
   },
   {
    "duration": 18,
    "start_time": "2022-07-22T13:02:03.376Z"
   },
   {
    "duration": 5,
    "start_time": "2022-07-22T13:02:19.744Z"
   },
   {
    "duration": 7,
    "start_time": "2022-07-22T13:02:30.855Z"
   },
   {
    "duration": 6,
    "start_time": "2022-07-22T13:02:44.948Z"
   },
   {
    "duration": 1285,
    "start_time": "2022-07-22T13:03:29.180Z"
   },
   {
    "duration": 1348,
    "start_time": "2022-07-22T13:03:46.279Z"
   },
   {
    "duration": 1084,
    "start_time": "2022-07-22T13:03:56.316Z"
   },
   {
    "duration": 1176,
    "start_time": "2022-07-22T13:04:00.796Z"
   },
   {
    "duration": 5,
    "start_time": "2022-07-22T13:04:25.788Z"
   },
   {
    "duration": 6,
    "start_time": "2022-07-22T13:04:26.664Z"
   },
   {
    "duration": 8,
    "start_time": "2022-07-22T13:04:45.586Z"
   },
   {
    "duration": 8,
    "start_time": "2022-07-22T13:04:54.658Z"
   },
   {
    "duration": 13,
    "start_time": "2022-07-22T13:05:17.080Z"
   },
   {
    "duration": 523870,
    "start_time": "2022-07-22T13:05:18.281Z"
   },
   {
    "duration": 3,
    "start_time": "2022-07-22T13:16:48.480Z"
   },
   {
    "duration": 23,
    "start_time": "2022-07-22T13:16:49.460Z"
   },
   {
    "duration": 20,
    "start_time": "2022-07-22T13:17:03.983Z"
   },
   {
    "duration": 3,
    "start_time": "2022-07-22T13:17:10.661Z"
   },
   {
    "duration": 17,
    "start_time": "2022-07-22T13:17:11.370Z"
   },
   {
    "duration": 398,
    "start_time": "2022-07-22T13:17:15.157Z"
   },
   {
    "duration": 3,
    "start_time": "2022-07-22T13:17:40.948Z"
   },
   {
    "duration": 17,
    "start_time": "2022-07-22T13:17:41.357Z"
   },
   {
    "duration": 6,
    "start_time": "2022-07-22T13:17:56.924Z"
   },
   {
    "duration": 352821,
    "start_time": "2022-07-22T13:18:12.280Z"
   },
   {
    "duration": 81,
    "start_time": "2022-07-22T13:27:03.722Z"
   },
   {
    "duration": 59,
    "start_time": "2022-07-22T13:27:36.669Z"
   },
   {
    "duration": 4,
    "start_time": "2022-07-22T13:27:45.679Z"
   },
   {
    "duration": 94,
    "start_time": "2022-07-22T13:37:30.957Z"
   },
   {
    "duration": 31,
    "start_time": "2022-07-22T13:38:00.609Z"
   },
   {
    "duration": 16647,
    "start_time": "2022-07-22T13:38:09.165Z"
   },
   {
    "duration": 33,
    "start_time": "2022-07-22T13:38:29.170Z"
   },
   {
    "duration": 4,
    "start_time": "2022-07-22T13:38:38.011Z"
   },
   {
    "duration": 3,
    "start_time": "2022-07-22T14:09:11.858Z"
   },
   {
    "duration": 102,
    "start_time": "2022-07-22T14:16:45.519Z"
   },
   {
    "duration": 50,
    "start_time": "2022-07-22T14:18:05.385Z"
   },
   {
    "duration": 102,
    "start_time": "2022-07-22T14:18:57.363Z"
   },
   {
    "duration": 44,
    "start_time": "2022-07-22T14:19:27.525Z"
   },
   {
    "duration": 56872,
    "start_time": "2022-07-22T14:20:17.784Z"
   },
   {
    "duration": 781,
    "start_time": "2022-07-22T14:21:14.659Z"
   },
   {
    "duration": 18,
    "start_time": "2022-07-22T14:21:15.444Z"
   },
   {
    "duration": 53,
    "start_time": "2022-07-22T14:21:15.464Z"
   },
   {
    "duration": 18,
    "start_time": "2022-07-22T14:21:15.518Z"
   },
   {
    "duration": 21,
    "start_time": "2022-07-22T14:21:15.537Z"
   },
   {
    "duration": 41,
    "start_time": "2022-07-22T14:21:15.559Z"
   },
   {
    "duration": 20,
    "start_time": "2022-07-22T14:21:15.601Z"
   },
   {
    "duration": 24,
    "start_time": "2022-07-22T14:21:15.623Z"
   },
   {
    "duration": 21,
    "start_time": "2022-07-22T14:21:15.649Z"
   },
   {
    "duration": 25,
    "start_time": "2022-07-22T14:21:15.671Z"
   },
   {
    "duration": 34,
    "start_time": "2022-07-22T14:21:15.698Z"
   },
   {
    "duration": 26,
    "start_time": "2022-07-22T14:21:15.734Z"
   },
   {
    "duration": 25,
    "start_time": "2022-07-22T14:21:15.762Z"
   },
   {
    "duration": 1436,
    "start_time": "2022-07-22T14:21:15.788Z"
   },
   {
    "duration": 12,
    "start_time": "2022-07-22T14:21:17.226Z"
   },
   {
    "duration": 510554,
    "start_time": "2022-07-22T14:21:17.240Z"
   },
   {
    "duration": 2,
    "start_time": "2022-07-22T14:29:47.796Z"
   },
   {
    "duration": 38,
    "start_time": "2022-07-22T14:29:47.800Z"
   },
   {
    "duration": 258820,
    "start_time": "2022-07-22T14:29:47.840Z"
   },
   {
    "duration": 154,
    "start_time": "2022-07-22T14:34:06.662Z"
   },
   {
    "duration": 4,
    "start_time": "2022-07-22T14:34:06.817Z"
   },
   {
    "duration": 10590,
    "start_time": "2022-07-22T14:34:06.822Z"
   },
   {
    "duration": 120,
    "start_time": "2022-07-22T14:34:17.414Z"
   },
   {
    "duration": 5,
    "start_time": "2022-07-22T14:34:17.611Z"
   },
   {
    "duration": 45,
    "start_time": "2022-07-24T07:41:31.680Z"
   },
   {
    "duration": 52222,
    "start_time": "2022-07-24T07:41:41.376Z"
   },
   {
    "duration": 2184,
    "start_time": "2022-07-24T07:42:33.600Z"
   },
   {
    "duration": 23,
    "start_time": "2022-07-24T07:42:35.786Z"
   },
   {
    "duration": 35,
    "start_time": "2022-07-24T07:42:35.811Z"
   },
   {
    "duration": 6,
    "start_time": "2022-07-24T07:42:35.847Z"
   },
   {
    "duration": 3,
    "start_time": "2022-07-24T07:42:35.861Z"
   },
   {
    "duration": 19,
    "start_time": "2022-07-24T07:42:35.866Z"
   },
   {
    "duration": 8,
    "start_time": "2022-07-24T07:42:35.886Z"
   },
   {
    "duration": 10,
    "start_time": "2022-07-24T07:42:35.896Z"
   },
   {
    "duration": 6,
    "start_time": "2022-07-24T07:42:35.909Z"
   },
   {
    "duration": 44,
    "start_time": "2022-07-24T07:42:35.917Z"
   },
   {
    "duration": 6,
    "start_time": "2022-07-24T07:42:35.963Z"
   },
   {
    "duration": 10,
    "start_time": "2022-07-24T07:42:35.970Z"
   },
   {
    "duration": 5,
    "start_time": "2022-07-24T07:42:35.982Z"
   },
   {
    "duration": 418,
    "start_time": "2022-07-24T07:42:35.989Z"
   },
   {
    "duration": 0,
    "start_time": "2022-07-24T07:42:36.410Z"
   },
   {
    "duration": 0,
    "start_time": "2022-07-24T07:42:36.412Z"
   },
   {
    "duration": 0,
    "start_time": "2022-07-24T07:42:36.413Z"
   },
   {
    "duration": 0,
    "start_time": "2022-07-24T07:42:36.414Z"
   },
   {
    "duration": 0,
    "start_time": "2022-07-24T07:42:36.416Z"
   },
   {
    "duration": 34911,
    "start_time": "2022-07-24T07:44:34.723Z"
   },
   {
    "duration": 916,
    "start_time": "2022-07-24T07:45:09.636Z"
   },
   {
    "duration": 28,
    "start_time": "2022-07-24T07:45:10.555Z"
   },
   {
    "duration": 32,
    "start_time": "2022-07-24T07:45:10.586Z"
   },
   {
    "duration": 8,
    "start_time": "2022-07-24T07:45:10.620Z"
   },
   {
    "duration": 11,
    "start_time": "2022-07-24T07:45:10.629Z"
   },
   {
    "duration": 25,
    "start_time": "2022-07-24T07:45:10.663Z"
   },
   {
    "duration": 18,
    "start_time": "2022-07-24T07:45:10.690Z"
   },
   {
    "duration": 28,
    "start_time": "2022-07-24T07:45:10.710Z"
   },
   {
    "duration": 24,
    "start_time": "2022-07-24T07:45:10.741Z"
   },
   {
    "duration": 20,
    "start_time": "2022-07-24T07:45:10.768Z"
   },
   {
    "duration": 11,
    "start_time": "2022-07-24T07:45:10.790Z"
   },
   {
    "duration": 10,
    "start_time": "2022-07-24T07:45:10.803Z"
   },
   {
    "duration": 1706,
    "start_time": "2022-07-24T07:45:10.814Z"
   },
   {
    "duration": 14,
    "start_time": "2022-07-24T07:45:12.522Z"
   },
   {
    "duration": 2,
    "start_time": "2022-07-24T07:45:12.538Z"
   },
   {
    "duration": 22,
    "start_time": "2022-07-24T07:45:12.542Z"
   },
   {
    "duration": 10,
    "start_time": "2022-07-24T07:45:12.567Z"
   },
   {
    "duration": 14,
    "start_time": "2022-07-24T07:45:12.582Z"
   },
   {
    "duration": 71,
    "start_time": "2022-07-24T07:46:46.627Z"
   },
   {
    "duration": 28,
    "start_time": "2022-07-24T07:54:01.615Z"
   },
   {
    "duration": 5,
    "start_time": "2022-07-24T07:54:29.911Z"
   },
   {
    "duration": 9,
    "start_time": "2022-07-24T07:56:43.043Z"
   },
   {
    "duration": 14,
    "start_time": "2022-07-24T07:56:49.872Z"
   },
   {
    "duration": 18,
    "start_time": "2022-07-24T07:57:07.114Z"
   },
   {
    "duration": 14,
    "start_time": "2022-07-24T07:57:12.874Z"
   },
   {
    "duration": 27,
    "start_time": "2022-07-24T07:57:59.871Z"
   },
   {
    "duration": 37,
    "start_time": "2022-07-24T07:58:05.153Z"
   },
   {
    "duration": 18,
    "start_time": "2022-07-24T07:58:08.802Z"
   },
   {
    "duration": 19,
    "start_time": "2022-07-24T08:01:11.537Z"
   },
   {
    "duration": 7,
    "start_time": "2022-07-24T08:04:19.881Z"
   },
   {
    "duration": 26,
    "start_time": "2022-07-24T08:04:54.492Z"
   },
   {
    "duration": 21,
    "start_time": "2022-07-24T08:05:01.259Z"
   },
   {
    "duration": 21,
    "start_time": "2022-07-24T08:05:16.074Z"
   },
   {
    "duration": 26,
    "start_time": "2022-07-24T08:06:31.889Z"
   },
   {
    "duration": 15,
    "start_time": "2022-07-24T08:07:46.241Z"
   },
   {
    "duration": 71,
    "start_time": "2022-07-24T08:08:17.022Z"
   },
   {
    "duration": 4,
    "start_time": "2022-07-24T08:08:17.439Z"
   },
   {
    "duration": 14,
    "start_time": "2022-07-24T08:08:18.717Z"
   },
   {
    "duration": 33,
    "start_time": "2022-07-24T08:08:23.751Z"
   },
   {
    "duration": 3,
    "start_time": "2022-07-24T08:08:24.247Z"
   },
   {
    "duration": 2,
    "start_time": "2022-07-24T08:13:49.879Z"
   },
   {
    "duration": 5,
    "start_time": "2022-07-24T08:13:49.883Z"
   },
   {
    "duration": 6,
    "start_time": "2022-07-24T08:13:49.890Z"
   },
   {
    "duration": 4,
    "start_time": "2022-07-24T08:13:49.898Z"
   },
   {
    "duration": 53,
    "start_time": "2022-07-24T08:13:49.904Z"
   },
   {
    "duration": 4,
    "start_time": "2022-07-24T08:13:49.958Z"
   },
   {
    "duration": 15,
    "start_time": "2022-07-24T08:13:49.963Z"
   },
   {
    "duration": 28,
    "start_time": "2022-07-24T08:13:49.979Z"
   },
   {
    "duration": 538550,
    "start_time": "2022-07-24T08:13:50.009Z"
   },
   {
    "duration": 0,
    "start_time": "2022-07-24T08:22:48.567Z"
   },
   {
    "duration": 0,
    "start_time": "2022-07-24T08:22:48.569Z"
   },
   {
    "duration": 0,
    "start_time": "2022-07-24T08:22:48.570Z"
   },
   {
    "duration": 0,
    "start_time": "2022-07-24T08:22:48.572Z"
   },
   {
    "duration": 0,
    "start_time": "2022-07-24T08:22:48.574Z"
   },
   {
    "duration": 0,
    "start_time": "2022-07-24T08:22:48.575Z"
   },
   {
    "duration": 8,
    "start_time": "2022-07-24T08:25:26.633Z"
   },
   {
    "duration": 621,
    "start_time": "2022-07-24T08:25:34.603Z"
   },
   {
    "duration": 5,
    "start_time": "2022-07-24T08:25:54.084Z"
   },
   {
    "duration": 18,
    "start_time": "2022-07-24T08:26:30.945Z"
   },
   {
    "duration": 143349,
    "start_time": "2022-07-24T08:26:40.143Z"
   },
   {
    "duration": 19960,
    "start_time": "2022-07-24T08:39:11.707Z"
   },
   {
    "duration": 193,
    "start_time": "2022-07-24T08:39:31.669Z"
   },
   {
    "duration": 4,
    "start_time": "2022-07-24T08:39:37.863Z"
   },
   {
    "duration": 7,
    "start_time": "2022-07-24T08:42:17.133Z"
   },
   {
    "duration": 14,
    "start_time": "2022-07-24T08:42:50.053Z"
   },
   {
    "duration": 4,
    "start_time": "2022-07-24T08:45:35.048Z"
   },
   {
    "duration": 755,
    "start_time": "2022-07-24T08:45:35.054Z"
   },
   {
    "duration": 10,
    "start_time": "2022-07-24T08:45:35.811Z"
   },
   {
    "duration": 44,
    "start_time": "2022-07-24T08:45:35.823Z"
   },
   {
    "duration": 6,
    "start_time": "2022-07-24T08:45:35.869Z"
   },
   {
    "duration": 8,
    "start_time": "2022-07-24T08:45:35.876Z"
   },
   {
    "duration": 21,
    "start_time": "2022-07-24T08:45:35.885Z"
   },
   {
    "duration": 8,
    "start_time": "2022-07-24T08:45:35.908Z"
   },
   {
    "duration": 16,
    "start_time": "2022-07-24T08:45:35.919Z"
   },
   {
    "duration": 7,
    "start_time": "2022-07-24T08:45:35.961Z"
   },
   {
    "duration": 14,
    "start_time": "2022-07-24T08:45:35.970Z"
   },
   {
    "duration": 8,
    "start_time": "2022-07-24T08:45:35.986Z"
   },
   {
    "duration": 14,
    "start_time": "2022-07-24T08:45:35.996Z"
   },
   {
    "duration": 1436,
    "start_time": "2022-07-24T08:45:36.012Z"
   },
   {
    "duration": 17,
    "start_time": "2022-07-24T08:45:37.450Z"
   },
   {
    "duration": 3,
    "start_time": "2022-07-24T08:45:37.468Z"
   },
   {
    "duration": 9,
    "start_time": "2022-07-24T08:45:37.472Z"
   },
   {
    "duration": 8,
    "start_time": "2022-07-24T08:45:37.483Z"
   },
   {
    "duration": 12,
    "start_time": "2022-07-24T08:45:37.493Z"
   },
   {
    "duration": 117,
    "start_time": "2022-07-24T08:45:37.507Z"
   },
   {
    "duration": 3,
    "start_time": "2022-07-24T08:45:37.627Z"
   },
   {
    "duration": 29,
    "start_time": "2022-07-24T08:45:37.632Z"
   },
   {
    "duration": 37,
    "start_time": "2022-07-24T08:45:37.663Z"
   },
   {
    "duration": 10,
    "start_time": "2022-07-24T08:45:37.703Z"
   },
   {
    "duration": 52085,
    "start_time": "2022-07-24T08:46:20.452Z"
   },
   {
    "duration": 2372,
    "start_time": "2022-07-24T08:47:12.538Z"
   },
   {
    "duration": 18,
    "start_time": "2022-07-24T08:47:14.912Z"
   },
   {
    "duration": 43,
    "start_time": "2022-07-24T08:47:14.932Z"
   },
   {
    "duration": 9,
    "start_time": "2022-07-24T08:47:14.978Z"
   },
   {
    "duration": 5,
    "start_time": "2022-07-24T08:47:14.988Z"
   },
   {
    "duration": 20,
    "start_time": "2022-07-24T08:47:14.994Z"
   },
   {
    "duration": 9,
    "start_time": "2022-07-24T08:47:15.015Z"
   },
   {
    "duration": 48,
    "start_time": "2022-07-24T08:47:15.025Z"
   },
   {
    "duration": 10,
    "start_time": "2022-07-24T08:47:15.076Z"
   },
   {
    "duration": 31,
    "start_time": "2022-07-24T08:47:15.088Z"
   },
   {
    "duration": 7,
    "start_time": "2022-07-24T08:47:15.121Z"
   },
   {
    "duration": 9,
    "start_time": "2022-07-24T08:47:15.130Z"
   },
   {
    "duration": 2257,
    "start_time": "2022-07-24T08:47:15.142Z"
   },
   {
    "duration": 13,
    "start_time": "2022-07-24T08:47:17.400Z"
   },
   {
    "duration": 32,
    "start_time": "2022-07-24T08:47:17.415Z"
   },
   {
    "duration": 39,
    "start_time": "2022-07-24T08:47:17.448Z"
   },
   {
    "duration": 37,
    "start_time": "2022-07-24T08:47:17.489Z"
   },
   {
    "duration": 43,
    "start_time": "2022-07-24T08:47:17.527Z"
   },
   {
    "duration": 118,
    "start_time": "2022-07-24T08:47:17.573Z"
   },
   {
    "duration": 4,
    "start_time": "2022-07-24T08:47:17.693Z"
   },
   {
    "duration": 34,
    "start_time": "2022-07-24T08:47:17.698Z"
   },
   {
    "duration": 72,
    "start_time": "2022-07-24T08:47:17.734Z"
   },
   {
    "duration": 9,
    "start_time": "2022-07-24T08:47:17.808Z"
   },
   {
    "duration": 514530,
    "start_time": "2022-07-24T08:47:17.818Z"
   },
   {
    "duration": 140454,
    "start_time": "2022-07-24T08:55:52.351Z"
   },
   {
    "duration": 26004,
    "start_time": "2022-07-24T08:59:09.859Z"
   },
   {
    "duration": 97,
    "start_time": "2022-07-24T08:59:35.865Z"
   },
   {
    "duration": 5,
    "start_time": "2022-07-24T08:59:35.964Z"
   },
   {
    "duration": 10,
    "start_time": "2022-07-24T09:00:18.407Z"
   },
   {
    "duration": 5,
    "start_time": "2022-07-24T09:00:22.742Z"
   },
   {
    "duration": 10,
    "start_time": "2022-07-24T09:00:31.285Z"
   },
   {
    "duration": 5,
    "start_time": "2022-07-24T09:00:38.104Z"
   },
   {
    "duration": 5,
    "start_time": "2022-07-24T09:01:02.647Z"
   },
   {
    "duration": 5,
    "start_time": "2022-07-24T09:01:44.421Z"
   },
   {
    "duration": 359739,
    "start_time": "2022-07-24T09:03:07.988Z"
   },
   {
    "duration": 142,
    "start_time": "2022-07-24T09:09:07.729Z"
   },
   {
    "duration": 5,
    "start_time": "2022-07-24T09:09:07.873Z"
   },
   {
    "duration": 15,
    "start_time": "2022-07-24T09:09:07.880Z"
   },
   {
    "duration": 24868,
    "start_time": "2022-07-24T09:09:07.897Z"
   },
   {
    "duration": 116,
    "start_time": "2022-07-24T09:09:32.767Z"
   },
   {
    "duration": 77,
    "start_time": "2022-07-24T09:09:32.888Z"
   },
   {
    "duration": 4,
    "start_time": "2022-07-24T09:17:49.313Z"
   },
   {
    "duration": 817,
    "start_time": "2022-07-24T09:17:49.318Z"
   },
   {
    "duration": 10,
    "start_time": "2022-07-24T09:17:50.137Z"
   },
   {
    "duration": 44,
    "start_time": "2022-07-24T09:17:50.148Z"
   },
   {
    "duration": 5,
    "start_time": "2022-07-24T09:17:50.195Z"
   },
   {
    "duration": 6,
    "start_time": "2022-07-24T09:17:50.201Z"
   },
   {
    "duration": 18,
    "start_time": "2022-07-24T09:17:50.208Z"
   },
   {
    "duration": 6,
    "start_time": "2022-07-24T09:17:50.227Z"
   },
   {
    "duration": 30,
    "start_time": "2022-07-24T09:17:50.235Z"
   },
   {
    "duration": 14,
    "start_time": "2022-07-24T09:17:50.268Z"
   },
   {
    "duration": 13,
    "start_time": "2022-07-24T09:17:50.285Z"
   },
   {
    "duration": 9,
    "start_time": "2022-07-24T09:17:50.300Z"
   },
   {
    "duration": 6,
    "start_time": "2022-07-24T09:17:50.311Z"
   },
   {
    "duration": 1472,
    "start_time": "2022-07-24T09:17:50.318Z"
   },
   {
    "duration": 11,
    "start_time": "2022-07-24T09:17:51.792Z"
   },
   {
    "duration": 3,
    "start_time": "2022-07-24T09:17:51.804Z"
   },
   {
    "duration": 5,
    "start_time": "2022-07-24T09:17:51.809Z"
   },
   {
    "duration": 5,
    "start_time": "2022-07-24T09:17:51.815Z"
   },
   {
    "duration": 5,
    "start_time": "2022-07-24T09:17:51.822Z"
   },
   {
    "duration": 57,
    "start_time": "2022-07-24T09:17:51.828Z"
   },
   {
    "duration": 0,
    "start_time": "2022-07-24T09:17:51.887Z"
   },
   {
    "duration": 0,
    "start_time": "2022-07-24T09:17:51.889Z"
   },
   {
    "duration": 0,
    "start_time": "2022-07-24T09:17:51.890Z"
   },
   {
    "duration": 0,
    "start_time": "2022-07-24T09:17:51.892Z"
   },
   {
    "duration": 1,
    "start_time": "2022-07-24T09:17:51.892Z"
   },
   {
    "duration": 0,
    "start_time": "2022-07-24T09:17:51.894Z"
   },
   {
    "duration": 3,
    "start_time": "2022-07-24T09:18:15.704Z"
   },
   {
    "duration": 886,
    "start_time": "2022-07-24T09:18:15.709Z"
   },
   {
    "duration": 12,
    "start_time": "2022-07-24T09:18:16.597Z"
   },
   {
    "duration": 37,
    "start_time": "2022-07-24T09:18:16.611Z"
   },
   {
    "duration": 13,
    "start_time": "2022-07-24T09:18:16.650Z"
   },
   {
    "duration": 5,
    "start_time": "2022-07-24T09:18:16.666Z"
   },
   {
    "duration": 22,
    "start_time": "2022-07-24T09:18:16.673Z"
   },
   {
    "duration": 9,
    "start_time": "2022-07-24T09:18:16.697Z"
   },
   {
    "duration": 23,
    "start_time": "2022-07-24T09:18:16.708Z"
   },
   {
    "duration": 31,
    "start_time": "2022-07-24T09:18:16.732Z"
   },
   {
    "duration": 7,
    "start_time": "2022-07-24T09:18:16.768Z"
   },
   {
    "duration": 12,
    "start_time": "2022-07-24T09:18:16.778Z"
   },
   {
    "duration": 8,
    "start_time": "2022-07-24T09:18:16.792Z"
   },
   {
    "duration": 1488,
    "start_time": "2022-07-24T09:18:16.801Z"
   },
   {
    "duration": 11,
    "start_time": "2022-07-24T09:18:18.290Z"
   },
   {
    "duration": 7,
    "start_time": "2022-07-24T09:18:18.303Z"
   },
   {
    "duration": 6,
    "start_time": "2022-07-24T09:18:18.311Z"
   },
   {
    "duration": 5,
    "start_time": "2022-07-24T09:18:18.318Z"
   },
   {
    "duration": 20,
    "start_time": "2022-07-24T09:18:18.325Z"
   },
   {
    "duration": 45,
    "start_time": "2022-07-24T09:18:18.348Z"
   },
   {
    "duration": 3,
    "start_time": "2022-07-24T09:18:18.395Z"
   },
   {
    "duration": 6,
    "start_time": "2022-07-24T09:18:18.400Z"
   },
   {
    "duration": 6,
    "start_time": "2022-07-24T09:18:18.408Z"
   },
   {
    "duration": 13,
    "start_time": "2022-07-24T09:18:18.417Z"
   },
   {
    "duration": 1269,
    "start_time": "2022-07-24T09:18:18.432Z"
   },
   {
    "duration": 0,
    "start_time": "2022-07-24T09:18:19.703Z"
   },
   {
    "duration": 3,
    "start_time": "2022-07-24T09:18:50.526Z"
   },
   {
    "duration": 793,
    "start_time": "2022-07-24T09:18:50.531Z"
   },
   {
    "duration": 11,
    "start_time": "2022-07-24T09:18:51.326Z"
   },
   {
    "duration": 50,
    "start_time": "2022-07-24T09:18:51.339Z"
   },
   {
    "duration": 6,
    "start_time": "2022-07-24T09:18:51.391Z"
   },
   {
    "duration": 4,
    "start_time": "2022-07-24T09:18:51.399Z"
   },
   {
    "duration": 17,
    "start_time": "2022-07-24T09:18:51.404Z"
   },
   {
    "duration": 8,
    "start_time": "2022-07-24T09:18:51.423Z"
   },
   {
    "duration": 14,
    "start_time": "2022-07-24T09:18:51.465Z"
   },
   {
    "duration": 8,
    "start_time": "2022-07-24T09:18:51.481Z"
   },
   {
    "duration": 8,
    "start_time": "2022-07-24T09:18:51.490Z"
   },
   {
    "duration": 8,
    "start_time": "2022-07-24T09:18:51.500Z"
   },
   {
    "duration": 9,
    "start_time": "2022-07-24T09:18:51.510Z"
   },
   {
    "duration": 1427,
    "start_time": "2022-07-24T09:18:51.520Z"
   },
   {
    "duration": 13,
    "start_time": "2022-07-24T09:18:52.949Z"
   },
   {
    "duration": 3,
    "start_time": "2022-07-24T09:18:52.964Z"
   },
   {
    "duration": 5,
    "start_time": "2022-07-24T09:18:52.969Z"
   },
   {
    "duration": 8,
    "start_time": "2022-07-24T09:18:52.977Z"
   },
   {
    "duration": 13,
    "start_time": "2022-07-24T09:18:52.988Z"
   },
   {
    "duration": 57,
    "start_time": "2022-07-24T09:18:53.004Z"
   },
   {
    "duration": 6,
    "start_time": "2022-07-24T09:18:53.065Z"
   },
   {
    "duration": 12,
    "start_time": "2022-07-24T09:18:53.074Z"
   },
   {
    "duration": 6,
    "start_time": "2022-07-24T09:18:53.088Z"
   },
   {
    "duration": 12,
    "start_time": "2022-07-24T09:18:53.096Z"
   },
   {
    "duration": 4,
    "start_time": "2022-07-24T09:47:00.789Z"
   },
   {
    "duration": 1836,
    "start_time": "2022-07-24T09:47:00.795Z"
   },
   {
    "duration": 12,
    "start_time": "2022-07-24T09:47:02.633Z"
   },
   {
    "duration": 66,
    "start_time": "2022-07-24T09:47:02.647Z"
   },
   {
    "duration": 5,
    "start_time": "2022-07-24T09:47:02.716Z"
   },
   {
    "duration": 14,
    "start_time": "2022-07-24T09:47:02.723Z"
   },
   {
    "duration": 46,
    "start_time": "2022-07-24T09:47:02.738Z"
   },
   {
    "duration": 11,
    "start_time": "2022-07-24T09:47:02.786Z"
   },
   {
    "duration": 16,
    "start_time": "2022-07-24T09:47:02.799Z"
   },
   {
    "duration": 11,
    "start_time": "2022-07-24T09:47:02.816Z"
   },
   {
    "duration": 8,
    "start_time": "2022-07-24T09:47:02.828Z"
   },
   {
    "duration": 8,
    "start_time": "2022-07-24T09:47:02.838Z"
   },
   {
    "duration": 6,
    "start_time": "2022-07-24T09:47:02.848Z"
   },
   {
    "duration": 1549,
    "start_time": "2022-07-24T09:47:02.875Z"
   },
   {
    "duration": 12,
    "start_time": "2022-07-24T09:47:04.425Z"
   },
   {
    "duration": 2,
    "start_time": "2022-07-24T09:47:04.439Z"
   },
   {
    "duration": 7,
    "start_time": "2022-07-24T09:47:04.443Z"
   },
   {
    "duration": 27,
    "start_time": "2022-07-24T09:47:04.460Z"
   },
   {
    "duration": 21,
    "start_time": "2022-07-24T09:47:04.489Z"
   },
   {
    "duration": 62,
    "start_time": "2022-07-24T09:47:04.512Z"
   },
   {
    "duration": 4,
    "start_time": "2022-07-24T09:47:04.593Z"
   },
   {
    "duration": 7,
    "start_time": "2022-07-24T09:47:04.598Z"
   },
   {
    "duration": 7,
    "start_time": "2022-07-24T09:47:04.606Z"
   },
   {
    "duration": 11,
    "start_time": "2022-07-24T09:47:04.615Z"
   },
   {
    "duration": 621651,
    "start_time": "2022-07-24T09:47:04.627Z"
   },
   {
    "duration": 140084,
    "start_time": "2022-07-24T09:57:26.283Z"
   },
   {
    "duration": 13891,
    "start_time": "2022-07-24T09:59:46.375Z"
   },
   {
    "duration": 37,
    "start_time": "2022-07-24T10:00:00.270Z"
   },
   {
    "duration": 104,
    "start_time": "2022-07-24T10:00:00.371Z"
   },
   {
    "duration": 13599,
    "start_time": "2022-07-24T10:00:16.168Z"
   },
   {
    "duration": 124,
    "start_time": "2022-07-24T10:00:29.770Z"
   },
   {
    "duration": 6,
    "start_time": "2022-07-24T10:00:29.962Z"
   },
   {
    "duration": 13379,
    "start_time": "2022-07-24T10:00:36.884Z"
   },
   {
    "duration": 125,
    "start_time": "2022-07-24T10:00:50.266Z"
   },
   {
    "duration": 6,
    "start_time": "2022-07-24T10:00:50.462Z"
   },
   {
    "duration": 35,
    "start_time": "2022-07-24T10:01:05.171Z"
   },
   {
    "duration": 21446,
    "start_time": "2022-07-24T10:01:12.128Z"
   },
   {
    "duration": 190,
    "start_time": "2022-07-24T10:01:33.577Z"
   },
   {
    "duration": 88,
    "start_time": "2022-07-24T10:01:33.774Z"
   },
   {
    "duration": 12836,
    "start_time": "2022-07-24T10:01:45.348Z"
   },
   {
    "duration": 178,
    "start_time": "2022-07-24T10:01:58.187Z"
   },
   {
    "duration": 117,
    "start_time": "2022-07-24T10:01:58.368Z"
   },
   {
    "duration": 4,
    "start_time": "2022-07-24T10:02:31.907Z"
   },
   {
    "duration": 1416,
    "start_time": "2022-07-24T10:05:42.243Z"
   },
   {
    "duration": 945,
    "start_time": "2022-07-24T10:05:53.827Z"
   },
   {
    "duration": 4,
    "start_time": "2022-07-24T10:06:09.731Z"
   },
   {
    "duration": 22,
    "start_time": "2022-07-24T10:06:46.428Z"
   },
   {
    "duration": 17,
    "start_time": "2022-07-24T10:07:04.299Z"
   },
   {
    "duration": 18,
    "start_time": "2022-07-24T10:07:15.112Z"
   },
   {
    "duration": 20,
    "start_time": "2022-07-24T10:07:39.580Z"
   },
   {
    "duration": 19,
    "start_time": "2022-07-24T10:08:03.133Z"
   },
   {
    "duration": 3,
    "start_time": "2022-07-24T10:08:08.907Z"
   },
   {
    "duration": 18,
    "start_time": "2022-07-24T10:08:19.539Z"
   },
   {
    "duration": 4,
    "start_time": "2022-07-24T10:08:51.751Z"
   },
   {
    "duration": 23,
    "start_time": "2022-07-24T10:08:52.351Z"
   },
   {
    "duration": 16,
    "start_time": "2022-07-24T10:08:59.935Z"
   },
   {
    "duration": 4,
    "start_time": "2022-07-24T10:09:13.734Z"
   },
   {
    "duration": 4,
    "start_time": "2022-07-24T10:09:22.896Z"
   },
   {
    "duration": 6,
    "start_time": "2022-07-24T10:09:27.673Z"
   },
   {
    "duration": 5,
    "start_time": "2022-07-24T10:09:31.256Z"
   },
   {
    "duration": 4,
    "start_time": "2022-07-24T10:09:35.518Z"
   },
   {
    "duration": 20,
    "start_time": "2022-07-24T10:10:01.905Z"
   },
   {
    "duration": 5,
    "start_time": "2022-07-24T10:10:11.855Z"
   },
   {
    "duration": 5,
    "start_time": "2022-07-24T10:10:20.589Z"
   },
   {
    "duration": 5,
    "start_time": "2022-07-24T10:11:03.198Z"
   },
   {
    "duration": 5,
    "start_time": "2022-07-24T10:11:10.412Z"
   },
   {
    "duration": 4,
    "start_time": "2022-07-24T10:18:39.874Z"
   },
   {
    "duration": 672,
    "start_time": "2022-07-24T10:18:39.880Z"
   },
   {
    "duration": 14,
    "start_time": "2022-07-24T10:18:40.554Z"
   },
   {
    "duration": 44,
    "start_time": "2022-07-24T10:18:40.571Z"
   },
   {
    "duration": 5,
    "start_time": "2022-07-24T10:18:40.618Z"
   },
   {
    "duration": 3,
    "start_time": "2022-07-24T10:18:40.624Z"
   },
   {
    "duration": 36,
    "start_time": "2022-07-24T10:18:40.629Z"
   },
   {
    "duration": 12,
    "start_time": "2022-07-24T10:18:40.667Z"
   },
   {
    "duration": 23,
    "start_time": "2022-07-24T10:18:40.681Z"
   },
   {
    "duration": 7,
    "start_time": "2022-07-24T10:18:40.705Z"
   },
   {
    "duration": 6,
    "start_time": "2022-07-24T10:18:40.713Z"
   },
   {
    "duration": 24,
    "start_time": "2022-07-24T10:18:40.720Z"
   },
   {
    "duration": 8,
    "start_time": "2022-07-24T10:18:40.745Z"
   },
   {
    "duration": 1298,
    "start_time": "2022-07-24T10:18:40.760Z"
   },
   {
    "duration": 17,
    "start_time": "2022-07-24T10:18:42.060Z"
   },
   {
    "duration": 3,
    "start_time": "2022-07-24T10:18:42.080Z"
   },
   {
    "duration": 9,
    "start_time": "2022-07-24T10:18:42.085Z"
   },
   {
    "duration": 8,
    "start_time": "2022-07-24T10:18:42.095Z"
   },
   {
    "duration": 6,
    "start_time": "2022-07-24T10:18:42.105Z"
   },
   {
    "duration": 29,
    "start_time": "2022-07-24T10:18:42.112Z"
   },
   {
    "duration": 20,
    "start_time": "2022-07-24T10:18:42.143Z"
   },
   {
    "duration": 6,
    "start_time": "2022-07-24T10:18:42.166Z"
   },
   {
    "duration": 17,
    "start_time": "2022-07-24T10:18:42.175Z"
   },
   {
    "duration": 6,
    "start_time": "2022-07-24T10:18:42.194Z"
   },
   {
    "duration": 17,
    "start_time": "2022-07-24T10:18:42.202Z"
   },
   {
    "duration": 14,
    "start_time": "2022-07-24T10:18:42.220Z"
   },
   {
    "duration": 11,
    "start_time": "2022-07-24T10:18:42.236Z"
   },
   {
    "duration": 7,
    "start_time": "2022-07-24T10:18:42.248Z"
   },
   {
    "duration": 40220,
    "start_time": "2022-07-24T10:18:42.256Z"
   },
   {
    "duration": 0,
    "start_time": "2022-07-24T10:19:22.479Z"
   },
   {
    "duration": 58,
    "start_time": "2022-07-24T10:20:41.709Z"
   },
   {
    "duration": 35827,
    "start_time": "2022-07-24T10:20:46.484Z"
   },
   {
    "duration": 254,
    "start_time": "2022-07-24T10:21:47.333Z"
   },
   {
    "duration": 266,
    "start_time": "2022-07-24T10:22:05.355Z"
   },
   {
    "duration": 38949,
    "start_time": "2022-07-24T10:23:49.423Z"
   },
   {
    "duration": 19,
    "start_time": "2022-07-24T10:25:41.711Z"
   },
   {
    "duration": 4,
    "start_time": "2022-07-24T10:25:48.151Z"
   },
   {
    "duration": 28,
    "start_time": "2022-07-24T10:26:01.934Z"
   },
   {
    "duration": 11,
    "start_time": "2022-07-24T10:26:12.733Z"
   },
   {
    "duration": 10,
    "start_time": "2022-07-24T10:26:27.737Z"
   },
   {
    "duration": 4,
    "start_time": "2022-07-24T10:35:16.730Z"
   },
   {
    "duration": 3,
    "start_time": "2022-07-24T10:35:37.025Z"
   },
   {
    "duration": 4,
    "start_time": "2022-07-24T10:36:13.047Z"
   },
   {
    "duration": 68,
    "start_time": "2022-07-24T10:36:15.609Z"
   },
   {
    "duration": 14,
    "start_time": "2022-07-24T10:36:32.207Z"
   },
   {
    "duration": 15,
    "start_time": "2022-07-24T10:36:43.297Z"
   },
   {
    "duration": 219,
    "start_time": "2022-07-24T10:38:05.785Z"
   },
   {
    "duration": 20,
    "start_time": "2022-07-24T10:38:55.990Z"
   },
   {
    "duration": 7,
    "start_time": "2022-07-24T10:39:03.926Z"
   },
   {
    "duration": 327,
    "start_time": "2022-07-24T10:39:43.985Z"
   },
   {
    "duration": 3,
    "start_time": "2022-07-24T10:43:43.693Z"
   },
   {
    "duration": 794,
    "start_time": "2022-07-24T10:43:43.698Z"
   },
   {
    "duration": 10,
    "start_time": "2022-07-24T10:43:44.494Z"
   },
   {
    "duration": 38,
    "start_time": "2022-07-24T10:43:44.506Z"
   },
   {
    "duration": 5,
    "start_time": "2022-07-24T10:43:44.546Z"
   },
   {
    "duration": 7,
    "start_time": "2022-07-24T10:43:44.571Z"
   },
   {
    "duration": 17,
    "start_time": "2022-07-24T10:43:44.580Z"
   },
   {
    "duration": 8,
    "start_time": "2022-07-24T10:43:44.599Z"
   },
   {
    "duration": 12,
    "start_time": "2022-07-24T10:43:44.610Z"
   },
   {
    "duration": 7,
    "start_time": "2022-07-24T10:43:44.623Z"
   },
   {
    "duration": 30,
    "start_time": "2022-07-24T10:43:44.632Z"
   },
   {
    "duration": 24,
    "start_time": "2022-07-24T10:43:44.664Z"
   },
   {
    "duration": 9,
    "start_time": "2022-07-24T10:43:44.690Z"
   },
   {
    "duration": 1305,
    "start_time": "2022-07-24T10:43:44.701Z"
   },
   {
    "duration": 13,
    "start_time": "2022-07-24T10:43:46.008Z"
   },
   {
    "duration": 3,
    "start_time": "2022-07-24T10:43:46.023Z"
   },
   {
    "duration": 7,
    "start_time": "2022-07-24T10:43:46.028Z"
   },
   {
    "duration": 6,
    "start_time": "2022-07-24T10:43:46.036Z"
   },
   {
    "duration": 22,
    "start_time": "2022-07-24T10:43:46.060Z"
   },
   {
    "duration": 3,
    "start_time": "2022-07-24T10:43:48.582Z"
   },
   {
    "duration": 2306,
    "start_time": "2022-07-24T10:43:49.474Z"
   },
   {
    "duration": 12,
    "start_time": "2022-07-24T10:43:59.126Z"
   },
   {
    "duration": 49,
    "start_time": "2022-07-24T10:46:41.299Z"
   },
   {
    "duration": 4,
    "start_time": "2022-07-24T10:46:48.691Z"
   },
   {
    "duration": 1533,
    "start_time": "2022-07-24T10:46:49.298Z"
   },
   {
    "duration": 4,
    "start_time": "2022-07-24T10:47:11.903Z"
   },
   {
    "duration": 1545,
    "start_time": "2022-07-24T10:47:12.780Z"
   },
   {
    "duration": 32,
    "start_time": "2022-07-24T10:47:24.739Z"
   },
   {
    "duration": 53,
    "start_time": "2022-07-24T10:47:45.555Z"
   },
   {
    "duration": 31,
    "start_time": "2022-07-24T10:47:52.201Z"
   },
   {
    "duration": 10,
    "start_time": "2022-07-24T10:47:59.795Z"
   },
   {
    "duration": 5,
    "start_time": "2022-07-24T10:50:45.561Z"
   },
   {
    "duration": 932,
    "start_time": "2022-07-24T10:50:45.569Z"
   },
   {
    "duration": 15,
    "start_time": "2022-07-24T10:50:46.504Z"
   },
   {
    "duration": 73,
    "start_time": "2022-07-24T10:50:46.522Z"
   },
   {
    "duration": 13,
    "start_time": "2022-07-24T10:50:46.599Z"
   },
   {
    "duration": 8,
    "start_time": "2022-07-24T10:50:46.615Z"
   },
   {
    "duration": 38,
    "start_time": "2022-07-24T10:50:46.625Z"
   },
   {
    "duration": 17,
    "start_time": "2022-07-24T10:50:46.673Z"
   },
   {
    "duration": 37,
    "start_time": "2022-07-24T10:50:46.692Z"
   },
   {
    "duration": 68,
    "start_time": "2022-07-24T10:50:46.732Z"
   },
   {
    "duration": 23,
    "start_time": "2022-07-24T10:50:46.802Z"
   },
   {
    "duration": 22,
    "start_time": "2022-07-24T10:50:46.827Z"
   },
   {
    "duration": 47,
    "start_time": "2022-07-24T10:50:46.851Z"
   },
   {
    "duration": 1420,
    "start_time": "2022-07-24T10:50:46.903Z"
   },
   {
    "duration": 13,
    "start_time": "2022-07-24T10:50:48.325Z"
   },
   {
    "duration": 7,
    "start_time": "2022-07-24T10:50:48.340Z"
   },
   {
    "duration": 3,
    "start_time": "2022-07-24T10:50:48.360Z"
   },
   {
    "duration": 16,
    "start_time": "2022-07-24T10:50:48.365Z"
   },
   {
    "duration": 7,
    "start_time": "2022-07-24T10:50:48.383Z"
   },
   {
    "duration": 2681,
    "start_time": "2022-07-24T10:50:48.392Z"
   },
   {
    "duration": 45,
    "start_time": "2022-07-24T10:50:51.081Z"
   },
   {
    "duration": 50,
    "start_time": "2022-07-24T10:50:51.128Z"
   },
   {
    "duration": 7,
    "start_time": "2022-07-24T10:50:51.181Z"
   },
   {
    "duration": 8,
    "start_time": "2022-07-24T10:50:51.190Z"
   },
   {
    "duration": 28,
    "start_time": "2022-07-24T10:50:51.199Z"
   },
   {
    "duration": 3,
    "start_time": "2022-07-24T10:50:51.229Z"
   },
   {
    "duration": 29,
    "start_time": "2022-07-24T10:50:51.234Z"
   },
   {
    "duration": 5,
    "start_time": "2022-07-24T10:50:51.265Z"
   },
   {
    "duration": 19,
    "start_time": "2022-07-24T10:50:51.273Z"
   },
   {
    "duration": 440400,
    "start_time": "2022-07-24T10:50:51.295Z"
   },
   {
    "duration": 56,
    "start_time": "2022-07-24T10:58:11.697Z"
   },
   {
    "duration": 103471,
    "start_time": "2022-07-24T11:02:09.238Z"
   },
   {
    "duration": 16445,
    "start_time": "2022-07-24T11:06:11.732Z"
   },
   {
    "duration": 200,
    "start_time": "2022-07-24T11:06:28.181Z"
   },
   {
    "duration": 81,
    "start_time": "2022-07-24T11:06:28.384Z"
   },
   {
    "duration": 181591,
    "start_time": "2022-07-24T12:27:50.971Z"
   },
   {
    "duration": 8401,
    "start_time": "2022-07-24T12:30:52.565Z"
   },
   {
    "duration": 294,
    "start_time": "2022-07-24T12:31:00.969Z"
   },
   {
    "duration": 397,
    "start_time": "2022-07-24T12:31:01.266Z"
   },
   {
    "duration": 199,
    "start_time": "2022-07-24T12:31:01.667Z"
   },
   {
    "duration": 395,
    "start_time": "2022-07-24T12:31:01.869Z"
   },
   {
    "duration": 606,
    "start_time": "2022-07-24T12:31:02.265Z"
   },
   {
    "duration": 400,
    "start_time": "2022-07-24T12:31:02.962Z"
   },
   {
    "duration": 402,
    "start_time": "2022-07-24T12:31:03.460Z"
   },
   {
    "duration": 394,
    "start_time": "2022-07-24T12:31:03.875Z"
   },
   {
    "duration": 494,
    "start_time": "2022-07-24T12:31:04.271Z"
   },
   {
    "duration": 194,
    "start_time": "2022-07-24T12:31:04.768Z"
   },
   {
    "duration": 98,
    "start_time": "2022-07-24T12:31:04.963Z"
   },
   {
    "duration": 15538,
    "start_time": "2022-07-24T12:31:05.064Z"
   },
   {
    "duration": 67,
    "start_time": "2022-07-24T12:31:20.604Z"
   },
   {
    "duration": 3,
    "start_time": "2022-07-24T12:31:20.672Z"
   },
   {
    "duration": 184,
    "start_time": "2022-07-24T12:31:20.677Z"
   },
   {
    "duration": 3,
    "start_time": "2022-07-24T12:31:20.863Z"
   },
   {
    "duration": 18,
    "start_time": "2022-07-24T12:31:20.868Z"
   },
   {
    "duration": 28373,
    "start_time": "2022-07-24T12:31:20.888Z"
   },
   {
    "duration": 298,
    "start_time": "2022-07-24T12:31:49.277Z"
   },
   {
    "duration": 392,
    "start_time": "2022-07-24T12:31:49.671Z"
   },
   {
    "duration": 97,
    "start_time": "2022-07-24T12:31:50.065Z"
   },
   {
    "duration": 26,
    "start_time": "2022-07-24T12:31:50.164Z"
   },
   {
    "duration": 290,
    "start_time": "2022-07-24T12:31:50.193Z"
   },
   {
    "duration": 5,
    "start_time": "2022-07-24T12:31:50.485Z"
   },
   {
    "duration": 67,
    "start_time": "2022-07-24T12:31:50.495Z"
   },
   {
    "duration": 30,
    "start_time": "2022-07-24T12:31:50.564Z"
   },
   {
    "duration": 76,
    "start_time": "2022-07-24T12:31:50.597Z"
   },
   {
    "duration": 43,
    "start_time": "2022-07-24T12:31:50.675Z"
   },
   {
    "duration": 359416,
    "start_time": "2022-07-24T12:31:50.722Z"
   },
   {
    "duration": 87311,
    "start_time": "2022-07-24T12:37:50.140Z"
   },
   {
    "duration": 316150,
    "start_time": "2022-07-24T12:39:17.453Z"
   },
   {
    "duration": 70,
    "start_time": "2022-07-24T12:44:33.604Z"
   },
   {
    "duration": 4,
    "start_time": "2022-07-24T12:44:33.676Z"
   },
   {
    "duration": 14688,
    "start_time": "2022-07-24T12:44:33.682Z"
   },
   {
    "duration": 124,
    "start_time": "2022-07-24T12:44:48.463Z"
   },
   {
    "duration": 5,
    "start_time": "2022-07-24T12:44:48.661Z"
   },
   {
    "duration": 124971,
    "start_time": "2022-07-25T10:38:41.430Z"
   },
   {
    "duration": 2813,
    "start_time": "2022-07-25T10:40:46.403Z"
   },
   {
    "duration": 16,
    "start_time": "2022-07-25T10:40:49.217Z"
   },
   {
    "duration": 38,
    "start_time": "2022-07-25T10:40:49.235Z"
   },
   {
    "duration": 7,
    "start_time": "2022-07-25T10:40:49.275Z"
   },
   {
    "duration": 16,
    "start_time": "2022-07-25T10:40:49.283Z"
   },
   {
    "duration": 31,
    "start_time": "2022-07-25T10:40:49.302Z"
   },
   {
    "duration": 8,
    "start_time": "2022-07-25T10:40:49.334Z"
   },
   {
    "duration": 31,
    "start_time": "2022-07-25T10:40:49.344Z"
   },
   {
    "duration": 35,
    "start_time": "2022-07-25T10:40:49.378Z"
   },
   {
    "duration": 17,
    "start_time": "2022-07-25T10:40:49.414Z"
   },
   {
    "duration": 8,
    "start_time": "2022-07-25T10:40:49.432Z"
   },
   {
    "duration": 7,
    "start_time": "2022-07-25T10:40:49.442Z"
   },
   {
    "duration": 403,
    "start_time": "2022-07-25T10:40:49.450Z"
   },
   {
    "duration": 0,
    "start_time": "2022-07-25T10:40:49.854Z"
   },
   {
    "duration": 0,
    "start_time": "2022-07-25T10:40:49.855Z"
   },
   {
    "duration": 0,
    "start_time": "2022-07-25T10:40:49.856Z"
   },
   {
    "duration": 106,
    "start_time": "2022-07-25T10:41:11.165Z"
   },
   {
    "duration": 457,
    "start_time": "2022-07-25T10:41:36.156Z"
   },
   {
    "duration": 11,
    "start_time": "2022-07-25T10:41:45.536Z"
   },
   {
    "duration": 181,
    "start_time": "2022-07-25T10:42:11.626Z"
   },
   {
    "duration": 109,
    "start_time": "2022-07-25T10:42:13.573Z"
   },
   {
    "duration": 59846,
    "start_time": "2022-07-25T10:42:34.395Z"
   },
   {
    "duration": 1382,
    "start_time": "2022-07-25T10:43:51.899Z"
   },
   {
    "duration": 11,
    "start_time": "2022-07-25T10:44:01.226Z"
   },
   {
    "duration": 18,
    "start_time": "2022-07-25T10:44:16.772Z"
   },
   {
    "duration": 4,
    "start_time": "2022-07-25T10:44:18.480Z"
   },
   {
    "duration": 4,
    "start_time": "2022-07-25T10:44:19.780Z"
   },
   {
    "duration": 1105,
    "start_time": "2022-07-25T12:01:12.994Z"
   },
   {
    "duration": 6,
    "start_time": "2022-07-25T12:09:11.486Z"
   },
   {
    "duration": 3,
    "start_time": "2022-07-25T12:09:12.621Z"
   },
   {
    "duration": 123,
    "start_time": "2022-07-25T12:09:29.951Z"
   },
   {
    "duration": 103759,
    "start_time": "2022-07-25T12:09:59.581Z"
   },
   {
    "duration": 2935,
    "start_time": "2022-07-25T12:11:43.342Z"
   },
   {
    "duration": 23,
    "start_time": "2022-07-25T12:11:46.284Z"
   },
   {
    "duration": 38,
    "start_time": "2022-07-25T12:11:46.308Z"
   },
   {
    "duration": 35,
    "start_time": "2022-07-25T12:11:46.349Z"
   },
   {
    "duration": 18,
    "start_time": "2022-07-25T12:11:46.386Z"
   },
   {
    "duration": 25,
    "start_time": "2022-07-25T12:11:46.405Z"
   },
   {
    "duration": 8,
    "start_time": "2022-07-25T12:11:46.431Z"
   },
   {
    "duration": 15,
    "start_time": "2022-07-25T12:11:46.440Z"
   },
   {
    "duration": 15,
    "start_time": "2022-07-25T12:11:46.470Z"
   },
   {
    "duration": 7,
    "start_time": "2022-07-25T12:11:46.489Z"
   },
   {
    "duration": 7,
    "start_time": "2022-07-25T12:11:46.498Z"
   },
   {
    "duration": 6,
    "start_time": "2022-07-25T12:11:46.507Z"
   },
   {
    "duration": 362,
    "start_time": "2022-07-25T12:11:46.516Z"
   },
   {
    "duration": 0,
    "start_time": "2022-07-25T12:11:46.880Z"
   },
   {
    "duration": 0,
    "start_time": "2022-07-25T12:11:46.881Z"
   },
   {
    "duration": 0,
    "start_time": "2022-07-25T12:11:46.883Z"
   },
   {
    "duration": 0,
    "start_time": "2022-07-25T12:11:46.885Z"
   },
   {
    "duration": 0,
    "start_time": "2022-07-25T12:11:46.886Z"
   },
   {
    "duration": 0,
    "start_time": "2022-07-25T12:11:46.888Z"
   },
   {
    "duration": 0,
    "start_time": "2022-07-25T12:11:46.889Z"
   },
   {
    "duration": 0,
    "start_time": "2022-07-25T12:11:46.893Z"
   },
   {
    "duration": 0,
    "start_time": "2022-07-25T12:11:46.894Z"
   },
   {
    "duration": 0,
    "start_time": "2022-07-25T12:11:46.895Z"
   },
   {
    "duration": 0,
    "start_time": "2022-07-25T12:11:46.896Z"
   },
   {
    "duration": 0,
    "start_time": "2022-07-25T12:11:46.897Z"
   },
   {
    "duration": 0,
    "start_time": "2022-07-25T12:11:46.898Z"
   },
   {
    "duration": 0,
    "start_time": "2022-07-25T12:11:46.899Z"
   },
   {
    "duration": 0,
    "start_time": "2022-07-25T12:11:46.900Z"
   },
   {
    "duration": 83975,
    "start_time": "2022-07-25T16:31:28.748Z"
   },
   {
    "duration": 46215,
    "start_time": "2022-07-25T16:32:52.725Z"
   },
   {
    "duration": 2980,
    "start_time": "2022-07-25T16:33:38.942Z"
   },
   {
    "duration": 17,
    "start_time": "2022-07-25T16:33:41.924Z"
   },
   {
    "duration": 34,
    "start_time": "2022-07-25T16:33:41.943Z"
   },
   {
    "duration": 6,
    "start_time": "2022-07-25T16:33:41.979Z"
   },
   {
    "duration": 3,
    "start_time": "2022-07-25T16:33:41.987Z"
   },
   {
    "duration": 63,
    "start_time": "2022-07-25T16:33:41.992Z"
   },
   {
    "duration": 11,
    "start_time": "2022-07-25T16:33:42.057Z"
   },
   {
    "duration": 15,
    "start_time": "2022-07-25T16:33:42.070Z"
   },
   {
    "duration": 7,
    "start_time": "2022-07-25T16:33:42.087Z"
   },
   {
    "duration": 56,
    "start_time": "2022-07-25T16:33:42.096Z"
   },
   {
    "duration": 8,
    "start_time": "2022-07-25T16:33:42.154Z"
   },
   {
    "duration": 10,
    "start_time": "2022-07-25T16:33:42.167Z"
   },
   {
    "duration": 1711,
    "start_time": "2022-07-25T16:33:42.179Z"
   },
   {
    "duration": 44,
    "start_time": "2022-07-25T16:33:43.892Z"
   },
   {
    "duration": 2,
    "start_time": "2022-07-25T16:33:43.938Z"
   },
   {
    "duration": 5,
    "start_time": "2022-07-25T16:33:43.942Z"
   },
   {
    "duration": 6,
    "start_time": "2022-07-25T16:33:43.949Z"
   },
   {
    "duration": 11,
    "start_time": "2022-07-25T16:33:43.957Z"
   },
   {
    "duration": 2490,
    "start_time": "2022-07-25T16:33:43.969Z"
   },
   {
    "duration": 33,
    "start_time": "2022-07-25T16:33:46.462Z"
   },
   {
    "duration": 63,
    "start_time": "2022-07-25T16:33:46.497Z"
   },
   {
    "duration": 9,
    "start_time": "2022-07-25T16:33:46.565Z"
   },
   {
    "duration": 19,
    "start_time": "2022-07-25T16:33:46.577Z"
   },
   {
    "duration": 100,
    "start_time": "2022-07-25T16:33:46.598Z"
   },
   {
    "duration": 4,
    "start_time": "2022-07-25T16:33:46.700Z"
   },
   {
    "duration": 10,
    "start_time": "2022-07-25T16:33:46.705Z"
   },
   {
    "duration": 28,
    "start_time": "2022-07-25T16:33:46.717Z"
   },
   {
    "duration": 43,
    "start_time": "2022-07-25T16:33:46.747Z"
   },
   {
    "duration": 76,
    "start_time": "2022-07-25T16:33:46.792Z"
   },
   {
    "duration": 381703,
    "start_time": "2022-07-25T16:33:46.874Z"
   },
   {
    "duration": 94373,
    "start_time": "2022-07-25T16:40:08.579Z"
   },
   {
    "duration": 455796,
    "start_time": "2022-07-25T16:41:42.954Z"
   },
   {
    "duration": 110,
    "start_time": "2022-07-25T16:49:18.752Z"
   },
   {
    "duration": 5,
    "start_time": "2022-07-25T16:49:18.864Z"
   },
   {
    "duration": 15695,
    "start_time": "2022-07-25T16:49:18.870Z"
   },
   {
    "duration": 120,
    "start_time": "2022-07-25T16:49:34.654Z"
   },
   {
    "duration": 80,
    "start_time": "2022-07-25T16:49:34.776Z"
   },
   {
    "duration": 1733,
    "start_time": "2022-07-25T16:49:34.858Z"
   },
   {
    "duration": 2293,
    "start_time": "2022-07-25T16:49:36.595Z"
   },
   {
    "duration": 199,
    "start_time": "2022-07-25T16:49:38.890Z"
   },
   {
    "duration": 4,
    "start_time": "2022-07-25T16:49:39.091Z"
   },
   {
    "duration": 25421,
    "start_time": "2022-07-25T16:49:39.097Z"
   },
   {
    "duration": 56,
    "start_time": "2022-07-25T16:50:04.520Z"
   },
   {
    "duration": 106,
    "start_time": "2022-07-25T16:50:04.578Z"
   },
   {
    "duration": 81,
    "start_time": "2022-07-25T16:50:04.688Z"
   },
   {
    "duration": 3,
    "start_time": "2022-07-25T16:50:04.772Z"
   },
   {
    "duration": 4535,
    "start_time": "2022-07-25T16:50:04.777Z"
   },
   {
    "duration": 1088651,
    "start_time": "2022-07-25T16:50:09.314Z"
   },
   {
    "duration": 94,
    "start_time": "2022-07-25T17:08:17.967Z"
   },
   {
    "duration": 4,
    "start_time": "2022-07-25T17:08:18.063Z"
   },
   {
    "duration": 268440,
    "start_time": "2022-07-25T17:08:18.069Z"
   },
   {
    "duration": 225,
    "start_time": "2022-07-25T17:12:46.553Z"
   },
   {
    "duration": 4,
    "start_time": "2022-07-25T17:12:46.853Z"
   },
   {
    "duration": 4,
    "start_time": "2022-07-25T17:12:46.858Z"
   },
   {
    "duration": 7,
    "start_time": "2022-07-25T17:12:46.864Z"
   },
   {
    "duration": 5,
    "start_time": "2022-07-25T17:12:46.873Z"
   },
   {
    "duration": 7,
    "start_time": "2022-07-25T17:12:46.880Z"
   },
   {
    "duration": 7,
    "start_time": "2022-07-25T17:12:46.888Z"
   },
   {
    "duration": 1119,
    "start_time": "2022-07-25T20:46:00.200Z"
   },
   {
    "duration": 113,
    "start_time": "2022-07-25T20:46:02.559Z"
   },
   {
    "duration": 75058,
    "start_time": "2022-07-25T20:46:17.766Z"
   },
   {
    "duration": 1948,
    "start_time": "2022-07-25T20:47:32.826Z"
   },
   {
    "duration": 231,
    "start_time": "2022-07-25T20:47:34.776Z"
   },
   {
    "duration": 91,
    "start_time": "2022-07-25T20:48:02.848Z"
   },
   {
    "duration": 79,
    "start_time": "2022-07-25T20:48:27.758Z"
   },
   {
    "duration": 47919,
    "start_time": "2022-07-25T20:48:30.161Z"
   },
   {
    "duration": 1469,
    "start_time": "2022-07-25T20:49:25.578Z"
   },
   {
    "duration": 13,
    "start_time": "2022-07-25T20:49:34.144Z"
   },
   {
    "duration": 4,
    "start_time": "2022-07-25T20:49:36.759Z"
   },
   {
    "duration": 1300,
    "start_time": "2022-07-25T20:49:45.302Z"
   },
   {
    "duration": 4,
    "start_time": "2022-07-25T20:49:49.909Z"
   },
   {
    "duration": 6,
    "start_time": "2022-07-25T20:49:52.557Z"
   },
   {
    "duration": 20671,
    "start_time": "2022-07-25T20:50:41.765Z"
   },
   {
    "duration": 62,
    "start_time": "2022-07-25T20:51:02.438Z"
   },
   {
    "duration": 103,
    "start_time": "2022-07-25T20:54:47.337Z"
   },
   {
    "duration": 60,
    "start_time": "2022-07-25T20:54:47.910Z"
   },
   {
    "duration": 3,
    "start_time": "2022-07-25T20:54:48.688Z"
   },
   {
    "duration": 4365,
    "start_time": "2022-07-25T20:54:49.321Z"
   },
   {
    "duration": 6,
    "start_time": "2022-07-25T20:55:06.085Z"
   },
   {
    "duration": 3,
    "start_time": "2022-07-25T20:55:12.865Z"
   },
   {
    "duration": 189,
    "start_time": "2022-07-25T20:55:19.097Z"
   },
   {
    "duration": 92945,
    "start_time": "2022-07-25T20:55:41.926Z"
   },
   {
    "duration": 97,
    "start_time": "2022-07-25T20:57:14.873Z"
   },
   {
    "duration": 4,
    "start_time": "2022-07-25T20:57:14.972Z"
   }
  ],
  "kernelspec": {
   "display_name": "Python 3 (ipykernel)",
   "language": "python",
   "name": "python3"
  },
  "language_info": {
   "codemirror_mode": {
    "name": "ipython",
    "version": 3
   },
   "file_extension": ".py",
   "mimetype": "text/x-python",
   "name": "python",
   "nbconvert_exporter": "python",
   "pygments_lexer": "ipython3",
   "version": "3.9.7"
  },
  "toc": {
   "base_numbering": 1,
   "nav_menu": {},
   "number_sections": true,
   "sideBar": true,
   "skip_h1_title": true,
   "title_cell": "Содержание",
   "title_sidebar": "Contents",
   "toc_cell": true,
   "toc_position": {
    "height": "calc(100% - 180px)",
    "left": "10px",
    "top": "150px",
    "width": "302.391px"
   },
   "toc_section_display": true,
   "toc_window_display": false
  }
 },
 "nbformat": 4,
 "nbformat_minor": 2
}
