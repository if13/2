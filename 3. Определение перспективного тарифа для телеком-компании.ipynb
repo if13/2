{
 "cells": [
  {
   "cell_type": "markdown",
   "metadata": {},
   "source": [
    "# Определение перспективного тарифа для телеком компании"
   ]
  },
  {
   "cell_type": "markdown",
   "metadata": {},
   "source": [
    "Клиентам предлагают два тарифных плана: «Смарт» и «Ультра». Чтобы скорректировать рекламный бюджет, коммерческий департамент федерального оператора сотовой связи хочет понять, какой тариф приносит больше денег.  \n",
    "    Необходимо сделать предварительный анализ тарифов на небольшой выборке клиентов. В распоряжении данные 500 пользователей «Мегалайна»: кто они, откуда, каким тарифом пользуются, сколько звонков и сообщений каждый отправил за 2018 год. Нужно проанализировать поведение клиентов и сделать вывод — какой тариф лучше.\n",
    "\n",
    "### Описание тарифов\n",
    "\n",
    "**Тариф «Смарт»**\n",
    "\n",
    "1.  Ежемесячная плата: 550 рублей\n",
    "2.  Включено 500 минут разговора, 50 сообщений и 15 Гб интернет-трафика\n",
    "3.  Стоимость услуг сверх тарифного пакета:\n",
    "    -   минута разговора: 3 рубля\n",
    "    -   сообщение: 3 рубля\n",
    "    -   1 Гб интернет-трафика: 200 рублей\n",
    "\n",
    "**Тариф «Ультра»**\n",
    "\n",
    "1.  Ежемесячная плата: 1950 рублей\n",
    "2.  Включено 3000 минут разговора, 1000 сообщений и 30 Гб интернет-трафика\n",
    "3.  Стоимость услуг сверх тарифного пакета:\n",
    "    -   минута разговора: 1 рубль\n",
    "    -   сообщение: 1 рубль\n",
    "    -   1 Гб интернет-трафика: 150 рублей"
   ]
  },
  {
   "cell_type": "code",
   "execution_count": 1,
   "metadata": {},
   "outputs": [],
   "source": [
    "import numpy as np\n",
    "import pandas as pd\n",
    "import seaborn as sns\n",
    "from IPython.display import display, HTML\n",
    "import matplotlib.pyplot as plt\n",
    "import scipy.stats as st\n",
    "from scipy import stats as st\n",
    "\n",
    "sns.set_style(\"darkgrid\")"
   ]
  },
  {
   "cell_type": "markdown",
   "metadata": {},
   "source": [
    "### Шаг 1. Откройте файл с данными и изучите общую информацию"
   ]
  },
  {
   "cell_type": "code",
   "execution_count": 2,
   "metadata": {},
   "outputs": [],
   "source": [
    "calls = pd.read_csv('/datasets/calls.csv')\n",
    "internet = pd.read_csv('/datasets/internet.csv', index_col=0)\n",
    "messages = pd.read_csv('/datasets/messages.csv')\n",
    "tariffs = pd.read_csv('/datasets/tariffs.csv')\n",
    "users = pd.read_csv('/datasets/users.csv')"
   ]
  },
  {
   "cell_type": "markdown",
   "metadata": {},
   "source": [
    "### Шаг 2. Подготовьте данные"
   ]
  },
  {
   "cell_type": "code",
   "execution_count": 3,
   "metadata": {},
   "outputs": [],
   "source": [
    "all_dfs = [calls, internet, messages, tariffs, users]"
   ]
  },
  {
   "cell_type": "code",
   "execution_count": 4,
   "metadata": {},
   "outputs": [],
   "source": [
    "def get_info(df):\n",
    "    display(df.head(3))\n",
    "    print('***'*10)\n",
    "    display(df.info())\n",
    "    print('***'*20)"
   ]
  },
  {
   "cell_type": "code",
   "execution_count": 5,
   "metadata": {},
   "outputs": [
    {
     "data": {
      "text/html": [
       "<div>\n",
       "<style scoped>\n",
       "    .dataframe tbody tr th:only-of-type {\n",
       "        vertical-align: middle;\n",
       "    }\n",
       "\n",
       "    .dataframe tbody tr th {\n",
       "        vertical-align: top;\n",
       "    }\n",
       "\n",
       "    .dataframe thead th {\n",
       "        text-align: right;\n",
       "    }\n",
       "</style>\n",
       "<table border=\"1\" class=\"dataframe\">\n",
       "  <thead>\n",
       "    <tr style=\"text-align: right;\">\n",
       "      <th></th>\n",
       "      <th>id</th>\n",
       "      <th>call_date</th>\n",
       "      <th>duration</th>\n",
       "      <th>user_id</th>\n",
       "    </tr>\n",
       "  </thead>\n",
       "  <tbody>\n",
       "    <tr>\n",
       "      <th>0</th>\n",
       "      <td>1000_0</td>\n",
       "      <td>2018-07-25</td>\n",
       "      <td>0.00</td>\n",
       "      <td>1000</td>\n",
       "    </tr>\n",
       "    <tr>\n",
       "      <th>1</th>\n",
       "      <td>1000_1</td>\n",
       "      <td>2018-08-17</td>\n",
       "      <td>0.00</td>\n",
       "      <td>1000</td>\n",
       "    </tr>\n",
       "    <tr>\n",
       "      <th>2</th>\n",
       "      <td>1000_2</td>\n",
       "      <td>2018-06-11</td>\n",
       "      <td>2.85</td>\n",
       "      <td>1000</td>\n",
       "    </tr>\n",
       "  </tbody>\n",
       "</table>\n",
       "</div>"
      ],
      "text/plain": [
       "       id   call_date  duration  user_id\n",
       "0  1000_0  2018-07-25      0.00     1000\n",
       "1  1000_1  2018-08-17      0.00     1000\n",
       "2  1000_2  2018-06-11      2.85     1000"
      ]
     },
     "metadata": {},
     "output_type": "display_data"
    },
    {
     "name": "stdout",
     "output_type": "stream",
     "text": [
      "******************************\n",
      "<class 'pandas.core.frame.DataFrame'>\n",
      "RangeIndex: 202607 entries, 0 to 202606\n",
      "Data columns (total 4 columns):\n",
      " #   Column     Non-Null Count   Dtype  \n",
      "---  ------     --------------   -----  \n",
      " 0   id         202607 non-null  object \n",
      " 1   call_date  202607 non-null  object \n",
      " 2   duration   202607 non-null  float64\n",
      " 3   user_id    202607 non-null  int64  \n",
      "dtypes: float64(1), int64(1), object(2)\n",
      "memory usage: 6.2+ MB\n"
     ]
    },
    {
     "data": {
      "text/plain": [
       "None"
      ]
     },
     "metadata": {},
     "output_type": "display_data"
    },
    {
     "name": "stdout",
     "output_type": "stream",
     "text": [
      "************************************************************\n"
     ]
    },
    {
     "data": {
      "text/html": [
       "<div>\n",
       "<style scoped>\n",
       "    .dataframe tbody tr th:only-of-type {\n",
       "        vertical-align: middle;\n",
       "    }\n",
       "\n",
       "    .dataframe tbody tr th {\n",
       "        vertical-align: top;\n",
       "    }\n",
       "\n",
       "    .dataframe thead th {\n",
       "        text-align: right;\n",
       "    }\n",
       "</style>\n",
       "<table border=\"1\" class=\"dataframe\">\n",
       "  <thead>\n",
       "    <tr style=\"text-align: right;\">\n",
       "      <th></th>\n",
       "      <th>id</th>\n",
       "      <th>mb_used</th>\n",
       "      <th>session_date</th>\n",
       "      <th>user_id</th>\n",
       "    </tr>\n",
       "  </thead>\n",
       "  <tbody>\n",
       "    <tr>\n",
       "      <th>0</th>\n",
       "      <td>1000_0</td>\n",
       "      <td>112.95</td>\n",
       "      <td>2018-11-25</td>\n",
       "      <td>1000</td>\n",
       "    </tr>\n",
       "    <tr>\n",
       "      <th>1</th>\n",
       "      <td>1000_1</td>\n",
       "      <td>1052.81</td>\n",
       "      <td>2018-09-07</td>\n",
       "      <td>1000</td>\n",
       "    </tr>\n",
       "    <tr>\n",
       "      <th>2</th>\n",
       "      <td>1000_2</td>\n",
       "      <td>1197.26</td>\n",
       "      <td>2018-06-25</td>\n",
       "      <td>1000</td>\n",
       "    </tr>\n",
       "  </tbody>\n",
       "</table>\n",
       "</div>"
      ],
      "text/plain": [
       "       id  mb_used session_date  user_id\n",
       "0  1000_0   112.95   2018-11-25     1000\n",
       "1  1000_1  1052.81   2018-09-07     1000\n",
       "2  1000_2  1197.26   2018-06-25     1000"
      ]
     },
     "metadata": {},
     "output_type": "display_data"
    },
    {
     "name": "stdout",
     "output_type": "stream",
     "text": [
      "******************************\n",
      "<class 'pandas.core.frame.DataFrame'>\n",
      "Int64Index: 149396 entries, 0 to 149395\n",
      "Data columns (total 4 columns):\n",
      " #   Column        Non-Null Count   Dtype  \n",
      "---  ------        --------------   -----  \n",
      " 0   id            149396 non-null  object \n",
      " 1   mb_used       149396 non-null  float64\n",
      " 2   session_date  149396 non-null  object \n",
      " 3   user_id       149396 non-null  int64  \n",
      "dtypes: float64(1), int64(1), object(2)\n",
      "memory usage: 5.7+ MB\n"
     ]
    },
    {
     "data": {
      "text/plain": [
       "None"
      ]
     },
     "metadata": {},
     "output_type": "display_data"
    },
    {
     "name": "stdout",
     "output_type": "stream",
     "text": [
      "************************************************************\n"
     ]
    },
    {
     "data": {
      "text/html": [
       "<div>\n",
       "<style scoped>\n",
       "    .dataframe tbody tr th:only-of-type {\n",
       "        vertical-align: middle;\n",
       "    }\n",
       "\n",
       "    .dataframe tbody tr th {\n",
       "        vertical-align: top;\n",
       "    }\n",
       "\n",
       "    .dataframe thead th {\n",
       "        text-align: right;\n",
       "    }\n",
       "</style>\n",
       "<table border=\"1\" class=\"dataframe\">\n",
       "  <thead>\n",
       "    <tr style=\"text-align: right;\">\n",
       "      <th></th>\n",
       "      <th>id</th>\n",
       "      <th>message_date</th>\n",
       "      <th>user_id</th>\n",
       "    </tr>\n",
       "  </thead>\n",
       "  <tbody>\n",
       "    <tr>\n",
       "      <th>0</th>\n",
       "      <td>1000_0</td>\n",
       "      <td>2018-06-27</td>\n",
       "      <td>1000</td>\n",
       "    </tr>\n",
       "    <tr>\n",
       "      <th>1</th>\n",
       "      <td>1000_1</td>\n",
       "      <td>2018-10-08</td>\n",
       "      <td>1000</td>\n",
       "    </tr>\n",
       "    <tr>\n",
       "      <th>2</th>\n",
       "      <td>1000_2</td>\n",
       "      <td>2018-08-04</td>\n",
       "      <td>1000</td>\n",
       "    </tr>\n",
       "  </tbody>\n",
       "</table>\n",
       "</div>"
      ],
      "text/plain": [
       "       id message_date  user_id\n",
       "0  1000_0   2018-06-27     1000\n",
       "1  1000_1   2018-10-08     1000\n",
       "2  1000_2   2018-08-04     1000"
      ]
     },
     "metadata": {},
     "output_type": "display_data"
    },
    {
     "name": "stdout",
     "output_type": "stream",
     "text": [
      "******************************\n",
      "<class 'pandas.core.frame.DataFrame'>\n",
      "RangeIndex: 123036 entries, 0 to 123035\n",
      "Data columns (total 3 columns):\n",
      " #   Column        Non-Null Count   Dtype \n",
      "---  ------        --------------   ----- \n",
      " 0   id            123036 non-null  object\n",
      " 1   message_date  123036 non-null  object\n",
      " 2   user_id       123036 non-null  int64 \n",
      "dtypes: int64(1), object(2)\n",
      "memory usage: 2.8+ MB\n"
     ]
    },
    {
     "data": {
      "text/plain": [
       "None"
      ]
     },
     "metadata": {},
     "output_type": "display_data"
    },
    {
     "name": "stdout",
     "output_type": "stream",
     "text": [
      "************************************************************\n"
     ]
    },
    {
     "data": {
      "text/html": [
       "<div>\n",
       "<style scoped>\n",
       "    .dataframe tbody tr th:only-of-type {\n",
       "        vertical-align: middle;\n",
       "    }\n",
       "\n",
       "    .dataframe tbody tr th {\n",
       "        vertical-align: top;\n",
       "    }\n",
       "\n",
       "    .dataframe thead th {\n",
       "        text-align: right;\n",
       "    }\n",
       "</style>\n",
       "<table border=\"1\" class=\"dataframe\">\n",
       "  <thead>\n",
       "    <tr style=\"text-align: right;\">\n",
       "      <th></th>\n",
       "      <th>messages_included</th>\n",
       "      <th>mb_per_month_included</th>\n",
       "      <th>minutes_included</th>\n",
       "      <th>rub_monthly_fee</th>\n",
       "      <th>rub_per_gb</th>\n",
       "      <th>rub_per_message</th>\n",
       "      <th>rub_per_minute</th>\n",
       "      <th>tariff_name</th>\n",
       "    </tr>\n",
       "  </thead>\n",
       "  <tbody>\n",
       "    <tr>\n",
       "      <th>0</th>\n",
       "      <td>50</td>\n",
       "      <td>15360</td>\n",
       "      <td>500</td>\n",
       "      <td>550</td>\n",
       "      <td>200</td>\n",
       "      <td>3</td>\n",
       "      <td>3</td>\n",
       "      <td>smart</td>\n",
       "    </tr>\n",
       "    <tr>\n",
       "      <th>1</th>\n",
       "      <td>1000</td>\n",
       "      <td>30720</td>\n",
       "      <td>3000</td>\n",
       "      <td>1950</td>\n",
       "      <td>150</td>\n",
       "      <td>1</td>\n",
       "      <td>1</td>\n",
       "      <td>ultra</td>\n",
       "    </tr>\n",
       "  </tbody>\n",
       "</table>\n",
       "</div>"
      ],
      "text/plain": [
       "   messages_included  mb_per_month_included  minutes_included  \\\n",
       "0                 50                  15360               500   \n",
       "1               1000                  30720              3000   \n",
       "\n",
       "   rub_monthly_fee  rub_per_gb  rub_per_message  rub_per_minute tariff_name  \n",
       "0              550         200                3               3       smart  \n",
       "1             1950         150                1               1       ultra  "
      ]
     },
     "metadata": {},
     "output_type": "display_data"
    },
    {
     "name": "stdout",
     "output_type": "stream",
     "text": [
      "******************************\n",
      "<class 'pandas.core.frame.DataFrame'>\n",
      "RangeIndex: 2 entries, 0 to 1\n",
      "Data columns (total 8 columns):\n",
      " #   Column                 Non-Null Count  Dtype \n",
      "---  ------                 --------------  ----- \n",
      " 0   messages_included      2 non-null      int64 \n",
      " 1   mb_per_month_included  2 non-null      int64 \n",
      " 2   minutes_included       2 non-null      int64 \n",
      " 3   rub_monthly_fee        2 non-null      int64 \n",
      " 4   rub_per_gb             2 non-null      int64 \n",
      " 5   rub_per_message        2 non-null      int64 \n",
      " 6   rub_per_minute         2 non-null      int64 \n",
      " 7   tariff_name            2 non-null      object\n",
      "dtypes: int64(7), object(1)\n",
      "memory usage: 256.0+ bytes\n"
     ]
    },
    {
     "data": {
      "text/plain": [
       "None"
      ]
     },
     "metadata": {},
     "output_type": "display_data"
    },
    {
     "name": "stdout",
     "output_type": "stream",
     "text": [
      "************************************************************\n"
     ]
    },
    {
     "data": {
      "text/html": [
       "<div>\n",
       "<style scoped>\n",
       "    .dataframe tbody tr th:only-of-type {\n",
       "        vertical-align: middle;\n",
       "    }\n",
       "\n",
       "    .dataframe tbody tr th {\n",
       "        vertical-align: top;\n",
       "    }\n",
       "\n",
       "    .dataframe thead th {\n",
       "        text-align: right;\n",
       "    }\n",
       "</style>\n",
       "<table border=\"1\" class=\"dataframe\">\n",
       "  <thead>\n",
       "    <tr style=\"text-align: right;\">\n",
       "      <th></th>\n",
       "      <th>user_id</th>\n",
       "      <th>age</th>\n",
       "      <th>churn_date</th>\n",
       "      <th>city</th>\n",
       "      <th>first_name</th>\n",
       "      <th>last_name</th>\n",
       "      <th>reg_date</th>\n",
       "      <th>tariff</th>\n",
       "    </tr>\n",
       "  </thead>\n",
       "  <tbody>\n",
       "    <tr>\n",
       "      <th>0</th>\n",
       "      <td>1000</td>\n",
       "      <td>52</td>\n",
       "      <td>NaN</td>\n",
       "      <td>Краснодар</td>\n",
       "      <td>Рафаил</td>\n",
       "      <td>Верещагин</td>\n",
       "      <td>2018-05-25</td>\n",
       "      <td>ultra</td>\n",
       "    </tr>\n",
       "    <tr>\n",
       "      <th>1</th>\n",
       "      <td>1001</td>\n",
       "      <td>41</td>\n",
       "      <td>NaN</td>\n",
       "      <td>Москва</td>\n",
       "      <td>Иван</td>\n",
       "      <td>Ежов</td>\n",
       "      <td>2018-11-01</td>\n",
       "      <td>smart</td>\n",
       "    </tr>\n",
       "    <tr>\n",
       "      <th>2</th>\n",
       "      <td>1002</td>\n",
       "      <td>59</td>\n",
       "      <td>NaN</td>\n",
       "      <td>Стерлитамак</td>\n",
       "      <td>Евгений</td>\n",
       "      <td>Абрамович</td>\n",
       "      <td>2018-06-17</td>\n",
       "      <td>smart</td>\n",
       "    </tr>\n",
       "  </tbody>\n",
       "</table>\n",
       "</div>"
      ],
      "text/plain": [
       "   user_id  age churn_date         city first_name  last_name    reg_date  \\\n",
       "0     1000   52        NaN    Краснодар     Рафаил  Верещагин  2018-05-25   \n",
       "1     1001   41        NaN       Москва       Иван       Ежов  2018-11-01   \n",
       "2     1002   59        NaN  Стерлитамак    Евгений  Абрамович  2018-06-17   \n",
       "\n",
       "  tariff  \n",
       "0  ultra  \n",
       "1  smart  \n",
       "2  smart  "
      ]
     },
     "metadata": {},
     "output_type": "display_data"
    },
    {
     "name": "stdout",
     "output_type": "stream",
     "text": [
      "******************************\n",
      "<class 'pandas.core.frame.DataFrame'>\n",
      "RangeIndex: 500 entries, 0 to 499\n",
      "Data columns (total 8 columns):\n",
      " #   Column      Non-Null Count  Dtype \n",
      "---  ------      --------------  ----- \n",
      " 0   user_id     500 non-null    int64 \n",
      " 1   age         500 non-null    int64 \n",
      " 2   churn_date  38 non-null     object\n",
      " 3   city        500 non-null    object\n",
      " 4   first_name  500 non-null    object\n",
      " 5   last_name   500 non-null    object\n",
      " 6   reg_date    500 non-null    object\n",
      " 7   tariff      500 non-null    object\n",
      "dtypes: int64(2), object(6)\n",
      "memory usage: 31.4+ KB\n"
     ]
    },
    {
     "data": {
      "text/plain": [
       "None"
      ]
     },
     "metadata": {},
     "output_type": "display_data"
    },
    {
     "name": "stdout",
     "output_type": "stream",
     "text": [
      "************************************************************\n"
     ]
    }
   ],
   "source": [
    "for i in all_dfs:\n",
    "    get_info(i)"
   ]
  },
  {
   "cell_type": "markdown",
   "metadata": {},
   "source": [
    "Неправильный тип данных у дат. Ниже исправим это.  \n",
    "Имеем пропуски значений в users.churn_date. Из описания задания это говорит о том, что договор действующий, то есть заполнять пропуски не нужно."
   ]
  },
  {
   "cell_type": "markdown",
   "metadata": {},
   "source": [
    "#### Приведите данные к нужным типам; найдите и исправьте ошибки в данных, если они есть."
   ]
  },
  {
   "cell_type": "markdown",
   "metadata": {},
   "source": [
    "Исправляем тип данных у дат."
   ]
  },
  {
   "cell_type": "code",
   "execution_count": 6,
   "metadata": {},
   "outputs": [],
   "source": [
    "def conv_to_date(df_col):  # почему то эта функция не отрабатывает должным образом, тип данных не меняется. Почему? \n",
    "    df_col = pd.to_datetime(df_col, format='%Y-%m-%d')\n",
    "    "
   ]
  },
  {
   "cell_type": "code",
   "execution_count": 7,
   "metadata": {},
   "outputs": [],
   "source": [
    "def conv_to_date(df, col): \n",
    "    df[col] = pd.to_datetime(df[col], format='%Y-%m-%d')\n",
    "    return df"
   ]
  },
  {
   "cell_type": "markdown",
   "metadata": {},
   "source": [
    "Ну что же, будем менять тип столбцов без функции:"
   ]
  },
  {
   "cell_type": "code",
   "execution_count": 9,
   "metadata": {},
   "outputs": [],
   "source": [
    "for df, col in zip((calls, internet, messages, users, users),\n",
    "                  ('call_date', 'session_date', 'message_date', 'churn_date', 'reg_date')):\n",
    "    conv_to_date(df, col)\n",
    "    "
   ]
  },
  {
   "cell_type": "code",
   "execution_count": 10,
   "metadata": {},
   "outputs": [],
   "source": [
    "#calls.info() # проверил, сработало ли."
   ]
  },
  {
   "cell_type": "markdown",
   "metadata": {},
   "source": [
    "#### количество сделанных звонков и израсходованных минут разговора по месяцам(Для каждого пользователя)"
   ]
  },
  {
   "cell_type": "markdown",
   "metadata": {},
   "source": [
    "Добавим колонку со значением месяца и вспомним, что оператор округляет в большую сторону до минуты каждый звонок. Внесем соотв-щие изменения"
   ]
  },
  {
   "cell_type": "code",
   "execution_count": 11,
   "metadata": {},
   "outputs": [],
   "source": [
    "calls['duration'] = calls['duration'].apply(np.ceil)\n",
    "calls['duration'] = calls['duration'].astype(int)"
   ]
  },
  {
   "cell_type": "code",
   "execution_count": 12,
   "metadata": {},
   "outputs": [
    {
     "data": {
      "text/html": [
       "<div>\n",
       "<style scoped>\n",
       "    .dataframe tbody tr th:only-of-type {\n",
       "        vertical-align: middle;\n",
       "    }\n",
       "\n",
       "    .dataframe tbody tr th {\n",
       "        vertical-align: top;\n",
       "    }\n",
       "\n",
       "    .dataframe thead th {\n",
       "        text-align: right;\n",
       "    }\n",
       "</style>\n",
       "<table border=\"1\" class=\"dataframe\">\n",
       "  <thead>\n",
       "    <tr style=\"text-align: right;\">\n",
       "      <th></th>\n",
       "      <th>id</th>\n",
       "      <th>call_date</th>\n",
       "      <th>duration</th>\n",
       "      <th>user_id</th>\n",
       "      <th>month</th>\n",
       "      <th>age</th>\n",
       "      <th>churn_date</th>\n",
       "      <th>city</th>\n",
       "      <th>first_name</th>\n",
       "      <th>last_name</th>\n",
       "      <th>reg_date</th>\n",
       "      <th>tariff</th>\n",
       "    </tr>\n",
       "  </thead>\n",
       "  <tbody>\n",
       "    <tr>\n",
       "      <th>0</th>\n",
       "      <td>1000_0</td>\n",
       "      <td>2018-07-25</td>\n",
       "      <td>0</td>\n",
       "      <td>1000</td>\n",
       "      <td>7</td>\n",
       "      <td>52</td>\n",
       "      <td>NaT</td>\n",
       "      <td>Краснодар</td>\n",
       "      <td>Рафаил</td>\n",
       "      <td>Верещагин</td>\n",
       "      <td>2018-05-25</td>\n",
       "      <td>ultra</td>\n",
       "    </tr>\n",
       "    <tr>\n",
       "      <th>1</th>\n",
       "      <td>1000_1</td>\n",
       "      <td>2018-08-17</td>\n",
       "      <td>0</td>\n",
       "      <td>1000</td>\n",
       "      <td>8</td>\n",
       "      <td>52</td>\n",
       "      <td>NaT</td>\n",
       "      <td>Краснодар</td>\n",
       "      <td>Рафаил</td>\n",
       "      <td>Верещагин</td>\n",
       "      <td>2018-05-25</td>\n",
       "      <td>ultra</td>\n",
       "    </tr>\n",
       "  </tbody>\n",
       "</table>\n",
       "</div>"
      ],
      "text/plain": [
       "       id  call_date  duration  user_id  month  age churn_date       city  \\\n",
       "0  1000_0 2018-07-25         0     1000      7   52        NaT  Краснодар   \n",
       "1  1000_1 2018-08-17         0     1000      8   52        NaT  Краснодар   \n",
       "\n",
       "  first_name  last_name   reg_date tariff  \n",
       "0     Рафаил  Верещагин 2018-05-25  ultra  \n",
       "1     Рафаил  Верещагин 2018-05-25  ultra  "
      ]
     },
     "execution_count": 12,
     "metadata": {},
     "output_type": "execute_result"
    }
   ],
   "source": [
    "calls['month'] = calls['call_date'].dt.month\n",
    "calls_temp = calls.merge(users, on='user_id', how='inner')\n",
    "calls_temp.head(2) # посмотрим что получилось"
   ]
  },
  {
   "cell_type": "code",
   "execution_count": 13,
   "metadata": {},
   "outputs": [
    {
     "data": {
      "text/html": [
       "<div>\n",
       "<style scoped>\n",
       "    .dataframe tbody tr th:only-of-type {\n",
       "        vertical-align: middle;\n",
       "    }\n",
       "\n",
       "    .dataframe tbody tr th {\n",
       "        vertical-align: top;\n",
       "    }\n",
       "\n",
       "    .dataframe thead th {\n",
       "        text-align: right;\n",
       "    }\n",
       "</style>\n",
       "<table border=\"1\" class=\"dataframe\">\n",
       "  <thead>\n",
       "    <tr style=\"text-align: right;\">\n",
       "      <th></th>\n",
       "      <th></th>\n",
       "      <th>duration</th>\n",
       "      <th>call_count</th>\n",
       "    </tr>\n",
       "    <tr>\n",
       "      <th>user_id</th>\n",
       "      <th>month</th>\n",
       "      <th></th>\n",
       "      <th></th>\n",
       "    </tr>\n",
       "  </thead>\n",
       "  <tbody>\n",
       "    <tr>\n",
       "      <th rowspan=\"8\" valign=\"top\">1000</th>\n",
       "      <th>5</th>\n",
       "      <td>159</td>\n",
       "      <td>22</td>\n",
       "    </tr>\n",
       "    <tr>\n",
       "      <th>6</th>\n",
       "      <td>172</td>\n",
       "      <td>43</td>\n",
       "    </tr>\n",
       "    <tr>\n",
       "      <th>7</th>\n",
       "      <td>340</td>\n",
       "      <td>47</td>\n",
       "    </tr>\n",
       "    <tr>\n",
       "      <th>8</th>\n",
       "      <td>408</td>\n",
       "      <td>52</td>\n",
       "    </tr>\n",
       "    <tr>\n",
       "      <th>9</th>\n",
       "      <td>466</td>\n",
       "      <td>58</td>\n",
       "    </tr>\n",
       "    <tr>\n",
       "      <th>10</th>\n",
       "      <td>350</td>\n",
       "      <td>57</td>\n",
       "    </tr>\n",
       "    <tr>\n",
       "      <th>11</th>\n",
       "      <td>338</td>\n",
       "      <td>43</td>\n",
       "    </tr>\n",
       "    <tr>\n",
       "      <th>12</th>\n",
       "      <td>333</td>\n",
       "      <td>46</td>\n",
       "    </tr>\n",
       "    <tr>\n",
       "      <th rowspan=\"2\" valign=\"top\">1001</th>\n",
       "      <th>11</th>\n",
       "      <td>430</td>\n",
       "      <td>59</td>\n",
       "    </tr>\n",
       "    <tr>\n",
       "      <th>12</th>\n",
       "      <td>414</td>\n",
       "      <td>63</td>\n",
       "    </tr>\n",
       "  </tbody>\n",
       "</table>\n",
       "</div>"
      ],
      "text/plain": [
       "               duration  call_count\n",
       "user_id month                      \n",
       "1000    5           159          22\n",
       "        6           172          43\n",
       "        7           340          47\n",
       "        8           408          52\n",
       "        9           466          58\n",
       "        10          350          57\n",
       "        11          338          43\n",
       "        12          333          46\n",
       "1001    11          430          59\n",
       "        12          414          63"
      ]
     },
     "execution_count": 13,
     "metadata": {},
     "output_type": "execute_result"
    }
   ],
   "source": [
    "calls_month = calls_temp.pivot_table(index=['user_id', 'month'], \n",
    "                       aggfunc={'user_id': 'count', 'duration': 'sum'}).\\\n",
    "                        rename(columns={'user_id':'call_count'})\n",
    "calls_month.head(10)"
   ]
  },
  {
   "cell_type": "markdown",
   "metadata": {},
   "source": [
    "#### количество отправленных сообщений по месяцам\n"
   ]
  },
  {
   "cell_type": "code",
   "execution_count": 14,
   "metadata": {},
   "outputs": [
    {
     "data": {
      "text/html": [
       "<div>\n",
       "<style scoped>\n",
       "    .dataframe tbody tr th:only-of-type {\n",
       "        vertical-align: middle;\n",
       "    }\n",
       "\n",
       "    .dataframe tbody tr th {\n",
       "        vertical-align: top;\n",
       "    }\n",
       "\n",
       "    .dataframe thead th {\n",
       "        text-align: right;\n",
       "    }\n",
       "</style>\n",
       "<table border=\"1\" class=\"dataframe\">\n",
       "  <thead>\n",
       "    <tr style=\"text-align: right;\">\n",
       "      <th></th>\n",
       "      <th></th>\n",
       "      <th>message_count</th>\n",
       "    </tr>\n",
       "    <tr>\n",
       "      <th>user_id</th>\n",
       "      <th>month</th>\n",
       "      <th></th>\n",
       "    </tr>\n",
       "  </thead>\n",
       "  <tbody>\n",
       "    <tr>\n",
       "      <th rowspan=\"8\" valign=\"top\">1000</th>\n",
       "      <th>5</th>\n",
       "      <td>22</td>\n",
       "    </tr>\n",
       "    <tr>\n",
       "      <th>6</th>\n",
       "      <td>60</td>\n",
       "    </tr>\n",
       "    <tr>\n",
       "      <th>7</th>\n",
       "      <td>75</td>\n",
       "    </tr>\n",
       "    <tr>\n",
       "      <th>8</th>\n",
       "      <td>81</td>\n",
       "    </tr>\n",
       "    <tr>\n",
       "      <th>9</th>\n",
       "      <td>57</td>\n",
       "    </tr>\n",
       "    <tr>\n",
       "      <th>10</th>\n",
       "      <td>73</td>\n",
       "    </tr>\n",
       "    <tr>\n",
       "      <th>11</th>\n",
       "      <td>58</td>\n",
       "    </tr>\n",
       "    <tr>\n",
       "      <th>12</th>\n",
       "      <td>70</td>\n",
       "    </tr>\n",
       "    <tr>\n",
       "      <th rowspan=\"2\" valign=\"top\">1002</th>\n",
       "      <th>6</th>\n",
       "      <td>4</td>\n",
       "    </tr>\n",
       "    <tr>\n",
       "      <th>7</th>\n",
       "      <td>11</td>\n",
       "    </tr>\n",
       "  </tbody>\n",
       "</table>\n",
       "</div>"
      ],
      "text/plain": [
       "               message_count\n",
       "user_id month               \n",
       "1000    5                 22\n",
       "        6                 60\n",
       "        7                 75\n",
       "        8                 81\n",
       "        9                 57\n",
       "        10                73\n",
       "        11                58\n",
       "        12                70\n",
       "1002    6                  4\n",
       "        7                 11"
      ]
     },
     "execution_count": 14,
     "metadata": {},
     "output_type": "execute_result"
    }
   ],
   "source": [
    "messages['month'] = messages['message_date'].dt.month\n",
    "messages_temp = messages.merge(users, on='user_id', how='inner')\n",
    "messages_month = messages_temp.pivot_table(index=['user_id', 'month'], \n",
    "                       aggfunc={'user_id': 'count'}).\\\n",
    "                        rename(columns={'user_id':'message_count'})\n",
    "messages_month.head(10)"
   ]
  },
  {
   "cell_type": "markdown",
   "metadata": {},
   "source": [
    "#### объем израсходованного интернет-трафика по месяцам"
   ]
  },
  {
   "cell_type": "code",
   "execution_count": 15,
   "metadata": {},
   "outputs": [
    {
     "data": {
      "text/html": [
       "<div>\n",
       "<style scoped>\n",
       "    .dataframe tbody tr th:only-of-type {\n",
       "        vertical-align: middle;\n",
       "    }\n",
       "\n",
       "    .dataframe tbody tr th {\n",
       "        vertical-align: top;\n",
       "    }\n",
       "\n",
       "    .dataframe thead th {\n",
       "        text-align: right;\n",
       "    }\n",
       "</style>\n",
       "<table border=\"1\" class=\"dataframe\">\n",
       "  <thead>\n",
       "    <tr style=\"text-align: right;\">\n",
       "      <th></th>\n",
       "      <th>id</th>\n",
       "      <th>mb_used</th>\n",
       "      <th>session_date</th>\n",
       "      <th>user_id</th>\n",
       "    </tr>\n",
       "  </thead>\n",
       "  <tbody>\n",
       "    <tr>\n",
       "      <th>0</th>\n",
       "      <td>1000_0</td>\n",
       "      <td>112.95</td>\n",
       "      <td>2018-11-25</td>\n",
       "      <td>1000</td>\n",
       "    </tr>\n",
       "    <tr>\n",
       "      <th>1</th>\n",
       "      <td>1000_1</td>\n",
       "      <td>1052.81</td>\n",
       "      <td>2018-09-07</td>\n",
       "      <td>1000</td>\n",
       "    </tr>\n",
       "  </tbody>\n",
       "</table>\n",
       "</div>"
      ],
      "text/plain": [
       "       id  mb_used session_date  user_id\n",
       "0  1000_0   112.95   2018-11-25     1000\n",
       "1  1000_1  1052.81   2018-09-07     1000"
      ]
     },
     "execution_count": 15,
     "metadata": {},
     "output_type": "execute_result"
    }
   ],
   "source": [
    "internet.head(2)"
   ]
  },
  {
   "cell_type": "code",
   "execution_count": 16,
   "metadata": {},
   "outputs": [],
   "source": [
    "internet['month'] = internet['session_date'].dt.month\n",
    "internet_temp = internet.merge(users, on='user_id', how='inner')\n",
    "internet_month = internet_temp.pivot_table(index=['user_id', 'month'], \n",
    "                       aggfunc={'mb_used': 'sum'}).\\\n",
    "                        rename(columns={'mb_used':'mb_total'})"
   ]
  },
  {
   "cell_type": "markdown",
   "metadata": {},
   "source": [
    "Оператор округляет в конце месяца трафик, учтем это:"
   ]
  },
  {
   "cell_type": "code",
   "execution_count": 17,
   "metadata": {},
   "outputs": [
    {
     "data": {
      "text/html": [
       "<div>\n",
       "<style scoped>\n",
       "    .dataframe tbody tr th:only-of-type {\n",
       "        vertical-align: middle;\n",
       "    }\n",
       "\n",
       "    .dataframe tbody tr th {\n",
       "        vertical-align: top;\n",
       "    }\n",
       "\n",
       "    .dataframe thead th {\n",
       "        text-align: right;\n",
       "    }\n",
       "</style>\n",
       "<table border=\"1\" class=\"dataframe\">\n",
       "  <thead>\n",
       "    <tr style=\"text-align: right;\">\n",
       "      <th></th>\n",
       "      <th></th>\n",
       "      <th>mb_total</th>\n",
       "    </tr>\n",
       "    <tr>\n",
       "      <th>user_id</th>\n",
       "      <th>month</th>\n",
       "      <th></th>\n",
       "    </tr>\n",
       "  </thead>\n",
       "  <tbody>\n",
       "    <tr>\n",
       "      <th rowspan=\"5\" valign=\"top\">1000</th>\n",
       "      <th>5</th>\n",
       "      <td>2254.0</td>\n",
       "    </tr>\n",
       "    <tr>\n",
       "      <th>6</th>\n",
       "      <td>23234.0</td>\n",
       "    </tr>\n",
       "    <tr>\n",
       "      <th>7</th>\n",
       "      <td>14004.0</td>\n",
       "    </tr>\n",
       "    <tr>\n",
       "      <th>8</th>\n",
       "      <td>14056.0</td>\n",
       "    </tr>\n",
       "    <tr>\n",
       "      <th>9</th>\n",
       "      <td>14569.0</td>\n",
       "    </tr>\n",
       "    <tr>\n",
       "      <th>...</th>\n",
       "      <th>...</th>\n",
       "      <td>...</td>\n",
       "    </tr>\n",
       "    <tr>\n",
       "      <th>1498</th>\n",
       "      <th>10</th>\n",
       "      <td>20580.0</td>\n",
       "    </tr>\n",
       "    <tr>\n",
       "      <th rowspan=\"4\" valign=\"top\">1499</th>\n",
       "      <th>9</th>\n",
       "      <td>1846.0</td>\n",
       "    </tr>\n",
       "    <tr>\n",
       "      <th>10</th>\n",
       "      <td>17789.0</td>\n",
       "    </tr>\n",
       "    <tr>\n",
       "      <th>11</th>\n",
       "      <td>17964.0</td>\n",
       "    </tr>\n",
       "    <tr>\n",
       "      <th>12</th>\n",
       "      <td>13056.0</td>\n",
       "    </tr>\n",
       "  </tbody>\n",
       "</table>\n",
       "<p>3203 rows × 1 columns</p>\n",
       "</div>"
      ],
      "text/plain": [
       "               mb_total\n",
       "user_id month          \n",
       "1000    5        2254.0\n",
       "        6       23234.0\n",
       "        7       14004.0\n",
       "        8       14056.0\n",
       "        9       14569.0\n",
       "...                 ...\n",
       "1498    10      20580.0\n",
       "1499    9        1846.0\n",
       "        10      17789.0\n",
       "        11      17964.0\n",
       "        12      13056.0\n",
       "\n",
       "[3203 rows x 1 columns]"
      ]
     },
     "execution_count": 17,
     "metadata": {},
     "output_type": "execute_result"
    }
   ],
   "source": [
    "internet_month['mb_total'] = internet_month['mb_total'].apply(np.ceil)\n",
    "internet_month"
   ]
  },
  {
   "cell_type": "code",
   "execution_count": 18,
   "metadata": {},
   "outputs": [],
   "source": [
    "internet_month['mb_total'] = internet_month['mb_total'].astype(int)"
   ]
  },
  {
   "cell_type": "code",
   "execution_count": 19,
   "metadata": {},
   "outputs": [
    {
     "data": {
      "text/html": [
       "<div>\n",
       "<style scoped>\n",
       "    .dataframe tbody tr th:only-of-type {\n",
       "        vertical-align: middle;\n",
       "    }\n",
       "\n",
       "    .dataframe tbody tr th {\n",
       "        vertical-align: top;\n",
       "    }\n",
       "\n",
       "    .dataframe thead th {\n",
       "        text-align: right;\n",
       "    }\n",
       "</style>\n",
       "<table border=\"1\" class=\"dataframe\">\n",
       "  <thead>\n",
       "    <tr style=\"text-align: right;\">\n",
       "      <th></th>\n",
       "      <th></th>\n",
       "      <th>mb_total</th>\n",
       "    </tr>\n",
       "    <tr>\n",
       "      <th>user_id</th>\n",
       "      <th>month</th>\n",
       "      <th></th>\n",
       "    </tr>\n",
       "  </thead>\n",
       "  <tbody>\n",
       "    <tr>\n",
       "      <th rowspan=\"8\" valign=\"top\">1000</th>\n",
       "      <th>5</th>\n",
       "      <td>2254</td>\n",
       "    </tr>\n",
       "    <tr>\n",
       "      <th>6</th>\n",
       "      <td>23234</td>\n",
       "    </tr>\n",
       "    <tr>\n",
       "      <th>7</th>\n",
       "      <td>14004</td>\n",
       "    </tr>\n",
       "    <tr>\n",
       "      <th>8</th>\n",
       "      <td>14056</td>\n",
       "    </tr>\n",
       "    <tr>\n",
       "      <th>9</th>\n",
       "      <td>14569</td>\n",
       "    </tr>\n",
       "    <tr>\n",
       "      <th>10</th>\n",
       "      <td>14703</td>\n",
       "    </tr>\n",
       "    <tr>\n",
       "      <th>11</th>\n",
       "      <td>14757</td>\n",
       "    </tr>\n",
       "    <tr>\n",
       "      <th>12</th>\n",
       "      <td>9818</td>\n",
       "    </tr>\n",
       "    <tr>\n",
       "      <th rowspan=\"2\" valign=\"top\">1001</th>\n",
       "      <th>11</th>\n",
       "      <td>18430</td>\n",
       "    </tr>\n",
       "    <tr>\n",
       "      <th>12</th>\n",
       "      <td>14037</td>\n",
       "    </tr>\n",
       "  </tbody>\n",
       "</table>\n",
       "</div>"
      ],
      "text/plain": [
       "               mb_total\n",
       "user_id month          \n",
       "1000    5          2254\n",
       "        6         23234\n",
       "        7         14004\n",
       "        8         14056\n",
       "        9         14569\n",
       "        10        14703\n",
       "        11        14757\n",
       "        12         9818\n",
       "1001    11        18430\n",
       "        12        14037"
      ]
     },
     "execution_count": 19,
     "metadata": {},
     "output_type": "execute_result"
    }
   ],
   "source": [
    "internet_month.head(10)"
   ]
  },
  {
   "cell_type": "code",
   "execution_count": 20,
   "metadata": {},
   "outputs": [
    {
     "name": "stdout",
     "output_type": "stream",
     "text": [
      "(3174, 2) (2717, 1) (3203, 1)\n"
     ]
    }
   ],
   "source": [
    "print(calls_month.shape, messages_month.shape, internet_month.shape) # глянем на форму датафреймов"
   ]
  },
  {
   "cell_type": "markdown",
   "metadata": {},
   "source": [
    "Ожидаемо размер таблиц различается: кто то из клиентов может  не звонить, не писать смс, не использовать интернет, в разных комбинациях. Будем использовать внешнее соединение, чтобы не потерять данные, там где будут пропуски в значения, позднее заполним их."
   ]
  },
  {
   "cell_type": "code",
   "execution_count": 21,
   "metadata": {},
   "outputs": [],
   "source": [
    "df = pd.merge(calls_month, messages_month, how='outer', \n",
    "                   left_on=['user_id', 'month'], right_on=['user_id', 'month'])\n",
    "df = pd.merge(df, internet_month, how='outer',\n",
    "                  left_on=['user_id', 'month'], right_on=['user_id', 'month']).reset_index() # и сбросим индекс\n",
    "df = pd.merge(df, users[['user_id', 'tariff', 'city']], how='left',\n",
    "                  left_on=['user_id'], right_on=['user_id'])\n",
    "df.fillna(0, inplace=True)"
   ]
  },
  {
   "cell_type": "code",
   "execution_count": 22,
   "metadata": {},
   "outputs": [
    {
     "data": {
      "text/html": [
       "<div>\n",
       "<style scoped>\n",
       "    .dataframe tbody tr th:only-of-type {\n",
       "        vertical-align: middle;\n",
       "    }\n",
       "\n",
       "    .dataframe tbody tr th {\n",
       "        vertical-align: top;\n",
       "    }\n",
       "\n",
       "    .dataframe thead th {\n",
       "        text-align: right;\n",
       "    }\n",
       "</style>\n",
       "<table border=\"1\" class=\"dataframe\">\n",
       "  <thead>\n",
       "    <tr style=\"text-align: right;\">\n",
       "      <th></th>\n",
       "      <th>user_id</th>\n",
       "      <th>month</th>\n",
       "      <th>duration</th>\n",
       "      <th>call_count</th>\n",
       "      <th>message_count</th>\n",
       "      <th>mb_total</th>\n",
       "      <th>tariff</th>\n",
       "      <th>city</th>\n",
       "    </tr>\n",
       "  </thead>\n",
       "  <tbody>\n",
       "    <tr>\n",
       "      <th>0</th>\n",
       "      <td>1000</td>\n",
       "      <td>5</td>\n",
       "      <td>159.0</td>\n",
       "      <td>22.0</td>\n",
       "      <td>22.0</td>\n",
       "      <td>2254.0</td>\n",
       "      <td>ultra</td>\n",
       "      <td>Краснодар</td>\n",
       "    </tr>\n",
       "    <tr>\n",
       "      <th>1</th>\n",
       "      <td>1000</td>\n",
       "      <td>6</td>\n",
       "      <td>172.0</td>\n",
       "      <td>43.0</td>\n",
       "      <td>60.0</td>\n",
       "      <td>23234.0</td>\n",
       "      <td>ultra</td>\n",
       "      <td>Краснодар</td>\n",
       "    </tr>\n",
       "    <tr>\n",
       "      <th>2</th>\n",
       "      <td>1000</td>\n",
       "      <td>7</td>\n",
       "      <td>340.0</td>\n",
       "      <td>47.0</td>\n",
       "      <td>75.0</td>\n",
       "      <td>14004.0</td>\n",
       "      <td>ultra</td>\n",
       "      <td>Краснодар</td>\n",
       "    </tr>\n",
       "    <tr>\n",
       "      <th>3</th>\n",
       "      <td>1000</td>\n",
       "      <td>8</td>\n",
       "      <td>408.0</td>\n",
       "      <td>52.0</td>\n",
       "      <td>81.0</td>\n",
       "      <td>14056.0</td>\n",
       "      <td>ultra</td>\n",
       "      <td>Краснодар</td>\n",
       "    </tr>\n",
       "    <tr>\n",
       "      <th>4</th>\n",
       "      <td>1000</td>\n",
       "      <td>9</td>\n",
       "      <td>466.0</td>\n",
       "      <td>58.0</td>\n",
       "      <td>57.0</td>\n",
       "      <td>14569.0</td>\n",
       "      <td>ultra</td>\n",
       "      <td>Краснодар</td>\n",
       "    </tr>\n",
       "    <tr>\n",
       "      <th>5</th>\n",
       "      <td>1000</td>\n",
       "      <td>10</td>\n",
       "      <td>350.0</td>\n",
       "      <td>57.0</td>\n",
       "      <td>73.0</td>\n",
       "      <td>14703.0</td>\n",
       "      <td>ultra</td>\n",
       "      <td>Краснодар</td>\n",
       "    </tr>\n",
       "    <tr>\n",
       "      <th>6</th>\n",
       "      <td>1000</td>\n",
       "      <td>11</td>\n",
       "      <td>338.0</td>\n",
       "      <td>43.0</td>\n",
       "      <td>58.0</td>\n",
       "      <td>14757.0</td>\n",
       "      <td>ultra</td>\n",
       "      <td>Краснодар</td>\n",
       "    </tr>\n",
       "    <tr>\n",
       "      <th>7</th>\n",
       "      <td>1000</td>\n",
       "      <td>12</td>\n",
       "      <td>333.0</td>\n",
       "      <td>46.0</td>\n",
       "      <td>70.0</td>\n",
       "      <td>9818.0</td>\n",
       "      <td>ultra</td>\n",
       "      <td>Краснодар</td>\n",
       "    </tr>\n",
       "    <tr>\n",
       "      <th>8</th>\n",
       "      <td>1001</td>\n",
       "      <td>11</td>\n",
       "      <td>430.0</td>\n",
       "      <td>59.0</td>\n",
       "      <td>0.0</td>\n",
       "      <td>18430.0</td>\n",
       "      <td>smart</td>\n",
       "      <td>Москва</td>\n",
       "    </tr>\n",
       "    <tr>\n",
       "      <th>9</th>\n",
       "      <td>1001</td>\n",
       "      <td>12</td>\n",
       "      <td>414.0</td>\n",
       "      <td>63.0</td>\n",
       "      <td>0.0</td>\n",
       "      <td>14037.0</td>\n",
       "      <td>smart</td>\n",
       "      <td>Москва</td>\n",
       "    </tr>\n",
       "    <tr>\n",
       "      <th>10</th>\n",
       "      <td>1002</td>\n",
       "      <td>6</td>\n",
       "      <td>117.0</td>\n",
       "      <td>15.0</td>\n",
       "      <td>4.0</td>\n",
       "      <td>10857.0</td>\n",
       "      <td>smart</td>\n",
       "      <td>Стерлитамак</td>\n",
       "    </tr>\n",
       "    <tr>\n",
       "      <th>11</th>\n",
       "      <td>1002</td>\n",
       "      <td>7</td>\n",
       "      <td>214.0</td>\n",
       "      <td>26.0</td>\n",
       "      <td>11.0</td>\n",
       "      <td>17581.0</td>\n",
       "      <td>smart</td>\n",
       "      <td>Стерлитамак</td>\n",
       "    </tr>\n",
       "    <tr>\n",
       "      <th>12</th>\n",
       "      <td>1002</td>\n",
       "      <td>8</td>\n",
       "      <td>289.0</td>\n",
       "      <td>42.0</td>\n",
       "      <td>13.0</td>\n",
       "      <td>20320.0</td>\n",
       "      <td>smart</td>\n",
       "      <td>Стерлитамак</td>\n",
       "    </tr>\n",
       "    <tr>\n",
       "      <th>13</th>\n",
       "      <td>1002</td>\n",
       "      <td>9</td>\n",
       "      <td>206.0</td>\n",
       "      <td>36.0</td>\n",
       "      <td>4.0</td>\n",
       "      <td>16692.0</td>\n",
       "      <td>smart</td>\n",
       "      <td>Стерлитамак</td>\n",
       "    </tr>\n",
       "    <tr>\n",
       "      <th>14</th>\n",
       "      <td>1002</td>\n",
       "      <td>10</td>\n",
       "      <td>212.0</td>\n",
       "      <td>33.0</td>\n",
       "      <td>10.0</td>\n",
       "      <td>13889.0</td>\n",
       "      <td>smart</td>\n",
       "      <td>Стерлитамак</td>\n",
       "    </tr>\n",
       "    <tr>\n",
       "      <th>15</th>\n",
       "      <td>1002</td>\n",
       "      <td>11</td>\n",
       "      <td>243.0</td>\n",
       "      <td>32.0</td>\n",
       "      <td>16.0</td>\n",
       "      <td>18588.0</td>\n",
       "      <td>smart</td>\n",
       "      <td>Стерлитамак</td>\n",
       "    </tr>\n",
       "    <tr>\n",
       "      <th>16</th>\n",
       "      <td>1002</td>\n",
       "      <td>12</td>\n",
       "      <td>236.0</td>\n",
       "      <td>33.0</td>\n",
       "      <td>12.0</td>\n",
       "      <td>18114.0</td>\n",
       "      <td>smart</td>\n",
       "      <td>Стерлитамак</td>\n",
       "    </tr>\n",
       "    <tr>\n",
       "      <th>17</th>\n",
       "      <td>1003</td>\n",
       "      <td>8</td>\n",
       "      <td>380.0</td>\n",
       "      <td>55.0</td>\n",
       "      <td>37.0</td>\n",
       "      <td>8566.0</td>\n",
       "      <td>ultra</td>\n",
       "      <td>Москва</td>\n",
       "    </tr>\n",
       "    <tr>\n",
       "      <th>18</th>\n",
       "      <td>1003</td>\n",
       "      <td>9</td>\n",
       "      <td>961.0</td>\n",
       "      <td>134.0</td>\n",
       "      <td>91.0</td>\n",
       "      <td>12469.0</td>\n",
       "      <td>ultra</td>\n",
       "      <td>Москва</td>\n",
       "    </tr>\n",
       "    <tr>\n",
       "      <th>19</th>\n",
       "      <td>1003</td>\n",
       "      <td>10</td>\n",
       "      <td>855.0</td>\n",
       "      <td>108.0</td>\n",
       "      <td>83.0</td>\n",
       "      <td>14769.0</td>\n",
       "      <td>ultra</td>\n",
       "      <td>Москва</td>\n",
       "    </tr>\n",
       "  </tbody>\n",
       "</table>\n",
       "</div>"
      ],
      "text/plain": [
       "    user_id  month  duration  call_count  message_count  mb_total tariff  \\\n",
       "0      1000      5     159.0        22.0           22.0    2254.0  ultra   \n",
       "1      1000      6     172.0        43.0           60.0   23234.0  ultra   \n",
       "2      1000      7     340.0        47.0           75.0   14004.0  ultra   \n",
       "3      1000      8     408.0        52.0           81.0   14056.0  ultra   \n",
       "4      1000      9     466.0        58.0           57.0   14569.0  ultra   \n",
       "5      1000     10     350.0        57.0           73.0   14703.0  ultra   \n",
       "6      1000     11     338.0        43.0           58.0   14757.0  ultra   \n",
       "7      1000     12     333.0        46.0           70.0    9818.0  ultra   \n",
       "8      1001     11     430.0        59.0            0.0   18430.0  smart   \n",
       "9      1001     12     414.0        63.0            0.0   14037.0  smart   \n",
       "10     1002      6     117.0        15.0            4.0   10857.0  smart   \n",
       "11     1002      7     214.0        26.0           11.0   17581.0  smart   \n",
       "12     1002      8     289.0        42.0           13.0   20320.0  smart   \n",
       "13     1002      9     206.0        36.0            4.0   16692.0  smart   \n",
       "14     1002     10     212.0        33.0           10.0   13889.0  smart   \n",
       "15     1002     11     243.0        32.0           16.0   18588.0  smart   \n",
       "16     1002     12     236.0        33.0           12.0   18114.0  smart   \n",
       "17     1003      8     380.0        55.0           37.0    8566.0  ultra   \n",
       "18     1003      9     961.0       134.0           91.0   12469.0  ultra   \n",
       "19     1003     10     855.0       108.0           83.0   14769.0  ultra   \n",
       "\n",
       "           city  \n",
       "0     Краснодар  \n",
       "1     Краснодар  \n",
       "2     Краснодар  \n",
       "3     Краснодар  \n",
       "4     Краснодар  \n",
       "5     Краснодар  \n",
       "6     Краснодар  \n",
       "7     Краснодар  \n",
       "8        Москва  \n",
       "9        Москва  \n",
       "10  Стерлитамак  \n",
       "11  Стерлитамак  \n",
       "12  Стерлитамак  \n",
       "13  Стерлитамак  \n",
       "14  Стерлитамак  \n",
       "15  Стерлитамак  \n",
       "16  Стерлитамак  \n",
       "17       Москва  \n",
       "18       Москва  \n",
       "19       Москва  "
      ]
     },
     "execution_count": 22,
     "metadata": {},
     "output_type": "execute_result"
    }
   ],
   "source": [
    "df.head(20) # и что же у нас получилось?"
   ]
  },
  {
   "cell_type": "code",
   "execution_count": 23,
   "metadata": {},
   "outputs": [
    {
     "name": "stdout",
     "output_type": "stream",
     "text": [
      "<class 'pandas.core.frame.DataFrame'>\n",
      "Int64Index: 3214 entries, 0 to 3213\n",
      "Data columns (total 8 columns):\n",
      " #   Column         Non-Null Count  Dtype  \n",
      "---  ------         --------------  -----  \n",
      " 0   user_id        3214 non-null   int64  \n",
      " 1   month          3214 non-null   int64  \n",
      " 2   duration       3214 non-null   float64\n",
      " 3   call_count     3214 non-null   float64\n",
      " 4   message_count  3214 non-null   float64\n",
      " 5   mb_total       3214 non-null   float64\n",
      " 6   tariff         3214 non-null   object \n",
      " 7   city           3214 non-null   object \n",
      "dtypes: float64(4), int64(2), object(2)\n",
      "memory usage: 226.0+ KB\n"
     ]
    }
   ],
   "source": [
    "df.info() # уплыли типы некоторых столбцов"
   ]
  },
  {
   "cell_type": "code",
   "execution_count": 24,
   "metadata": {},
   "outputs": [
    {
     "data": {
      "text/plain": [
       "Index(['user_id', 'month', 'duration', 'call_count', 'message_count',\n",
       "       'mb_total', 'tariff', 'city'],\n",
       "      dtype='object')"
      ]
     },
     "execution_count": 24,
     "metadata": {},
     "output_type": "execute_result"
    }
   ],
   "source": [
    "df.columns # чтобы скопипастить для цикла ниже"
   ]
  },
  {
   "cell_type": "code",
   "execution_count": 25,
   "metadata": {},
   "outputs": [],
   "source": [
    "for i in [ 'duration', 'call_count', 'message_count', 'mb_total']:\n",
    "    df[i] = df[i].astype(int)"
   ]
  },
  {
   "cell_type": "markdown",
   "metadata": {},
   "source": [
    "Функция для подчета затрат по пользователям по месяцам."
   ]
  },
  {
   "cell_type": "code",
   "execution_count": 26,
   "metadata": {},
   "outputs": [],
   "source": [
    "def calculate_month_pay(row):\n",
    "    \n",
    "    def get_over(cur, lim):\n",
    "        return 0 if lim>=cur else cur-lim # внутрення функция для учета бесплатного пакета\n",
    "    \n",
    "    pay = 0\n",
    "    \n",
    "    if row.tariff == 'smart':\n",
    "        pay += 550\n",
    "        pay += get_over(row.duration, 500) * 3    \n",
    "        pay += get_over(row.message_count, 50) *3\n",
    "        pay += np.ceil(get_over(row.mb_total, 15*1024)/1024) * 200\n",
    "    \n",
    "    if row.tariff == 'ultra':\n",
    "        pay += 1950\n",
    "        pay += get_over(row.duration, 3000) * 1    \n",
    "        pay += get_over(row.message_count, 1000) * 1\n",
    "        pay += np.ceil(get_over(row.mb_total, 30*1024)/1024) * 150\n",
    "    \n",
    "    return pay"
   ]
  },
  {
   "cell_type": "code",
   "execution_count": 27,
   "metadata": {},
   "outputs": [
    {
     "data": {
      "text/html": [
       "<div>\n",
       "<style scoped>\n",
       "    .dataframe tbody tr th:only-of-type {\n",
       "        vertical-align: middle;\n",
       "    }\n",
       "\n",
       "    .dataframe tbody tr th {\n",
       "        vertical-align: top;\n",
       "    }\n",
       "\n",
       "    .dataframe thead th {\n",
       "        text-align: right;\n",
       "    }\n",
       "</style>\n",
       "<table border=\"1\" class=\"dataframe\">\n",
       "  <thead>\n",
       "    <tr style=\"text-align: right;\">\n",
       "      <th></th>\n",
       "      <th>messages_included</th>\n",
       "      <th>mb_per_month_included</th>\n",
       "      <th>minutes_included</th>\n",
       "      <th>rub_monthly_fee</th>\n",
       "      <th>rub_per_gb</th>\n",
       "      <th>rub_per_message</th>\n",
       "      <th>rub_per_minute</th>\n",
       "      <th>tariff_name</th>\n",
       "    </tr>\n",
       "  </thead>\n",
       "  <tbody>\n",
       "    <tr>\n",
       "      <th>0</th>\n",
       "      <td>50</td>\n",
       "      <td>15360</td>\n",
       "      <td>500</td>\n",
       "      <td>550</td>\n",
       "      <td>200</td>\n",
       "      <td>3</td>\n",
       "      <td>3</td>\n",
       "      <td>smart</td>\n",
       "    </tr>\n",
       "    <tr>\n",
       "      <th>1</th>\n",
       "      <td>1000</td>\n",
       "      <td>30720</td>\n",
       "      <td>3000</td>\n",
       "      <td>1950</td>\n",
       "      <td>150</td>\n",
       "      <td>1</td>\n",
       "      <td>1</td>\n",
       "      <td>ultra</td>\n",
       "    </tr>\n",
       "  </tbody>\n",
       "</table>\n",
       "</div>"
      ],
      "text/plain": [
       "   messages_included  mb_per_month_included  minutes_included  \\\n",
       "0                 50                  15360               500   \n",
       "1               1000                  30720              3000   \n",
       "\n",
       "   rub_monthly_fee  rub_per_gb  rub_per_message  rub_per_minute tariff_name  \n",
       "0              550         200                3               3       smart  \n",
       "1             1950         150                1               1       ultra  "
      ]
     },
     "execution_count": 27,
     "metadata": {},
     "output_type": "execute_result"
    }
   ],
   "source": [
    "tariffs"
   ]
  },
  {
   "cell_type": "code",
   "execution_count": 28,
   "metadata": {},
   "outputs": [],
   "source": [
    "# код ревьюера\n",
    "\n",
    "if row.tariff == 'smart':\n",
    "        pay += tariffs.loc[0, 'rub_monthly_fee']\n",
    "        pay += get_over(row.duration, tariffs.loc[0, 'minutes_included']) * tariffs.loc[0, 'rub_per_minute'] \n",
    "        pay += get_over(row.message_count, tariffs.loc[0, 'messages_included']) * tariffs.loc[0, 'rub_per_message']\n",
    "        \n",
    "# Соответсвенно, если тариф ультра, то индекс 0 меняется на 1"
   ]
  },
  {
   "cell_type": "code",
   "execution_count": 29,
   "metadata": {},
   "outputs": [],
   "source": [
    "df['month_pay'] = df.apply(lambda x: calculate_month_pay(x), axis=1) # считаем затраты в отдельном столбце"
   ]
  },
  {
   "cell_type": "code",
   "execution_count": 30,
   "metadata": {},
   "outputs": [
    {
     "data": {
      "text/html": [
       "<div>\n",
       "<style scoped>\n",
       "    .dataframe tbody tr th:only-of-type {\n",
       "        vertical-align: middle;\n",
       "    }\n",
       "\n",
       "    .dataframe tbody tr th {\n",
       "        vertical-align: top;\n",
       "    }\n",
       "\n",
       "    .dataframe thead th {\n",
       "        text-align: right;\n",
       "    }\n",
       "</style>\n",
       "<table border=\"1\" class=\"dataframe\">\n",
       "  <thead>\n",
       "    <tr style=\"text-align: right;\">\n",
       "      <th></th>\n",
       "      <th>user_id</th>\n",
       "      <th>month</th>\n",
       "      <th>duration</th>\n",
       "      <th>call_count</th>\n",
       "      <th>message_count</th>\n",
       "      <th>mb_total</th>\n",
       "      <th>tariff</th>\n",
       "      <th>city</th>\n",
       "      <th>month_pay</th>\n",
       "    </tr>\n",
       "  </thead>\n",
       "  <tbody>\n",
       "    <tr>\n",
       "      <th>0</th>\n",
       "      <td>1000</td>\n",
       "      <td>5</td>\n",
       "      <td>159</td>\n",
       "      <td>22</td>\n",
       "      <td>22</td>\n",
       "      <td>2254</td>\n",
       "      <td>ultra</td>\n",
       "      <td>Краснодар</td>\n",
       "      <td>1950.0</td>\n",
       "    </tr>\n",
       "    <tr>\n",
       "      <th>1</th>\n",
       "      <td>1000</td>\n",
       "      <td>6</td>\n",
       "      <td>172</td>\n",
       "      <td>43</td>\n",
       "      <td>60</td>\n",
       "      <td>23234</td>\n",
       "      <td>ultra</td>\n",
       "      <td>Краснодар</td>\n",
       "      <td>1950.0</td>\n",
       "    </tr>\n",
       "    <tr>\n",
       "      <th>2</th>\n",
       "      <td>1000</td>\n",
       "      <td>7</td>\n",
       "      <td>340</td>\n",
       "      <td>47</td>\n",
       "      <td>75</td>\n",
       "      <td>14004</td>\n",
       "      <td>ultra</td>\n",
       "      <td>Краснодар</td>\n",
       "      <td>1950.0</td>\n",
       "    </tr>\n",
       "    <tr>\n",
       "      <th>3</th>\n",
       "      <td>1000</td>\n",
       "      <td>8</td>\n",
       "      <td>408</td>\n",
       "      <td>52</td>\n",
       "      <td>81</td>\n",
       "      <td>14056</td>\n",
       "      <td>ultra</td>\n",
       "      <td>Краснодар</td>\n",
       "      <td>1950.0</td>\n",
       "    </tr>\n",
       "    <tr>\n",
       "      <th>4</th>\n",
       "      <td>1000</td>\n",
       "      <td>9</td>\n",
       "      <td>466</td>\n",
       "      <td>58</td>\n",
       "      <td>57</td>\n",
       "      <td>14569</td>\n",
       "      <td>ultra</td>\n",
       "      <td>Краснодар</td>\n",
       "      <td>1950.0</td>\n",
       "    </tr>\n",
       "  </tbody>\n",
       "</table>\n",
       "</div>"
      ],
      "text/plain": [
       "   user_id  month  duration  call_count  message_count  mb_total tariff  \\\n",
       "0     1000      5       159          22             22      2254  ultra   \n",
       "1     1000      6       172          43             60     23234  ultra   \n",
       "2     1000      7       340          47             75     14004  ultra   \n",
       "3     1000      8       408          52             81     14056  ultra   \n",
       "4     1000      9       466          58             57     14569  ultra   \n",
       "\n",
       "        city  month_pay  \n",
       "0  Краснодар     1950.0  \n",
       "1  Краснодар     1950.0  \n",
       "2  Краснодар     1950.0  \n",
       "3  Краснодар     1950.0  \n",
       "4  Краснодар     1950.0  "
      ]
     },
     "execution_count": 30,
     "metadata": {},
     "output_type": "execute_result"
    }
   ],
   "source": [
    "df.head() "
   ]
  },
  {
   "cell_type": "markdown",
   "metadata": {},
   "source": [
    "###  Проанализируйте данные  \n",
    "Опишите поведение клиентов оператора, исходя из выборки. Сколько минут разговора, сколько сообщений и какой объём интернет-трафика требуется пользователям каждого тарифа в месяц? Посчитайте среднее количество, дисперсию и стандартное отклонение. Постройте гистограммы. Опишите распределения."
   ]
  },
  {
   "cell_type": "code",
   "execution_count": 31,
   "metadata": {},
   "outputs": [
    {
     "data": {
      "text/html": [
       "<div>\n",
       "<style scoped>\n",
       "    .dataframe tbody tr th:only-of-type {\n",
       "        vertical-align: middle;\n",
       "    }\n",
       "\n",
       "    .dataframe tbody tr th {\n",
       "        vertical-align: top;\n",
       "    }\n",
       "\n",
       "    .dataframe thead tr th {\n",
       "        text-align: left;\n",
       "    }\n",
       "\n",
       "    .dataframe thead tr:last-of-type th {\n",
       "        text-align: right;\n",
       "    }\n",
       "</style>\n",
       "<table border=\"1\" class=\"dataframe\">\n",
       "  <thead>\n",
       "    <tr>\n",
       "      <th></th>\n",
       "      <th></th>\n",
       "      <th colspan=\"3\" halign=\"left\">duration</th>\n",
       "      <th colspan=\"3\" halign=\"left\">mb_total</th>\n",
       "      <th colspan=\"3\" halign=\"left\">message_count</th>\n",
       "      <th>month_pay</th>\n",
       "    </tr>\n",
       "    <tr>\n",
       "      <th></th>\n",
       "      <th></th>\n",
       "      <th>mean</th>\n",
       "      <th>std</th>\n",
       "      <th>var</th>\n",
       "      <th>mean</th>\n",
       "      <th>std</th>\n",
       "      <th>var</th>\n",
       "      <th>mean</th>\n",
       "      <th>std</th>\n",
       "      <th>var</th>\n",
       "      <th>mean</th>\n",
       "    </tr>\n",
       "    <tr>\n",
       "      <th>tariff</th>\n",
       "      <th>month</th>\n",
       "      <th></th>\n",
       "      <th></th>\n",
       "      <th></th>\n",
       "      <th></th>\n",
       "      <th></th>\n",
       "      <th></th>\n",
       "      <th></th>\n",
       "      <th></th>\n",
       "      <th></th>\n",
       "      <th></th>\n",
       "    </tr>\n",
       "  </thead>\n",
       "  <tbody>\n",
       "    <tr>\n",
       "      <th rowspan=\"12\" valign=\"top\">smart</th>\n",
       "      <th>1</th>\n",
       "      <td>203.0</td>\n",
       "      <td>154.0</td>\n",
       "      <td>23787.0</td>\n",
       "      <td>8514.0</td>\n",
       "      <td>6444.0</td>\n",
       "      <td>41534011.0</td>\n",
       "      <td>18.0</td>\n",
       "      <td>16.0</td>\n",
       "      <td>262.0</td>\n",
       "      <td>721.0</td>\n",
       "    </tr>\n",
       "    <tr>\n",
       "      <th>2</th>\n",
       "      <td>298.0</td>\n",
       "      <td>190.0</td>\n",
       "      <td>36412.0</td>\n",
       "      <td>11597.0</td>\n",
       "      <td>6247.0</td>\n",
       "      <td>39029116.0</td>\n",
       "      <td>24.0</td>\n",
       "      <td>21.0</td>\n",
       "      <td>473.0</td>\n",
       "      <td>827.0</td>\n",
       "    </tr>\n",
       "    <tr>\n",
       "      <th>3</th>\n",
       "      <td>390.0</td>\n",
       "      <td>191.0</td>\n",
       "      <td>36823.0</td>\n",
       "      <td>15104.0</td>\n",
       "      <td>5828.0</td>\n",
       "      <td>33968406.0</td>\n",
       "      <td>31.0</td>\n",
       "      <td>26.0</td>\n",
       "      <td>718.0</td>\n",
       "      <td>1164.0</td>\n",
       "    </tr>\n",
       "    <tr>\n",
       "      <th>4</th>\n",
       "      <td>367.0</td>\n",
       "      <td>186.0</td>\n",
       "      <td>34778.0</td>\n",
       "      <td>13462.0</td>\n",
       "      <td>5698.0</td>\n",
       "      <td>32469724.0</td>\n",
       "      <td>30.0</td>\n",
       "      <td>24.0</td>\n",
       "      <td>602.0</td>\n",
       "      <td>963.0</td>\n",
       "    </tr>\n",
       "    <tr>\n",
       "      <th>5</th>\n",
       "      <td>387.0</td>\n",
       "      <td>186.0</td>\n",
       "      <td>34820.0</td>\n",
       "      <td>15805.0</td>\n",
       "      <td>5978.0</td>\n",
       "      <td>35739600.0</td>\n",
       "      <td>33.0</td>\n",
       "      <td>27.0</td>\n",
       "      <td>730.0</td>\n",
       "      <td>1197.0</td>\n",
       "    </tr>\n",
       "    <tr>\n",
       "      <th>6</th>\n",
       "      <td>395.0</td>\n",
       "      <td>175.0</td>\n",
       "      <td>30742.0</td>\n",
       "      <td>15795.0</td>\n",
       "      <td>5791.0</td>\n",
       "      <td>33537223.0</td>\n",
       "      <td>33.0</td>\n",
       "      <td>28.0</td>\n",
       "      <td>806.0</td>\n",
       "      <td>1204.0</td>\n",
       "    </tr>\n",
       "    <tr>\n",
       "      <th>7</th>\n",
       "      <td>408.0</td>\n",
       "      <td>179.0</td>\n",
       "      <td>32250.0</td>\n",
       "      <td>15743.0</td>\n",
       "      <td>5897.0</td>\n",
       "      <td>34776835.0</td>\n",
       "      <td>33.0</td>\n",
       "      <td>28.0</td>\n",
       "      <td>799.0</td>\n",
       "      <td>1223.0</td>\n",
       "    </tr>\n",
       "    <tr>\n",
       "      <th>8</th>\n",
       "      <td>421.0</td>\n",
       "      <td>186.0</td>\n",
       "      <td>34793.0</td>\n",
       "      <td>16611.0</td>\n",
       "      <td>5593.0</td>\n",
       "      <td>31287251.0</td>\n",
       "      <td>33.0</td>\n",
       "      <td>28.0</td>\n",
       "      <td>838.0</td>\n",
       "      <td>1320.0</td>\n",
       "    </tr>\n",
       "    <tr>\n",
       "      <th>9</th>\n",
       "      <td>428.0</td>\n",
       "      <td>183.0</td>\n",
       "      <td>33535.0</td>\n",
       "      <td>16304.0</td>\n",
       "      <td>5196.0</td>\n",
       "      <td>26999781.0</td>\n",
       "      <td>33.0</td>\n",
       "      <td>28.0</td>\n",
       "      <td>790.0</td>\n",
       "      <td>1249.0</td>\n",
       "    </tr>\n",
       "    <tr>\n",
       "      <th>10</th>\n",
       "      <td>426.0</td>\n",
       "      <td>188.0</td>\n",
       "      <td>35392.0</td>\n",
       "      <td>16757.0</td>\n",
       "      <td>5859.0</td>\n",
       "      <td>34332382.0</td>\n",
       "      <td>33.0</td>\n",
       "      <td>28.0</td>\n",
       "      <td>816.0</td>\n",
       "      <td>1364.0</td>\n",
       "    </tr>\n",
       "    <tr>\n",
       "      <th>11</th>\n",
       "      <td>435.0</td>\n",
       "      <td>177.0</td>\n",
       "      <td>31605.0</td>\n",
       "      <td>16896.0</td>\n",
       "      <td>5340.0</td>\n",
       "      <td>28518716.0</td>\n",
       "      <td>34.0</td>\n",
       "      <td>28.0</td>\n",
       "      <td>805.0</td>\n",
       "      <td>1343.0</td>\n",
       "    </tr>\n",
       "    <tr>\n",
       "      <th>12</th>\n",
       "      <td>478.0</td>\n",
       "      <td>199.0</td>\n",
       "      <td>39698.0</td>\n",
       "      <td>18114.0</td>\n",
       "      <td>5573.0</td>\n",
       "      <td>31065832.0</td>\n",
       "      <td>35.0</td>\n",
       "      <td>30.0</td>\n",
       "      <td>934.0</td>\n",
       "      <td>1578.0</td>\n",
       "    </tr>\n",
       "    <tr>\n",
       "      <th rowspan=\"12\" valign=\"top\">ultra</th>\n",
       "      <th>1</th>\n",
       "      <td>428.0</td>\n",
       "      <td>269.0</td>\n",
       "      <td>72769.0</td>\n",
       "      <td>13141.0</td>\n",
       "      <td>6865.0</td>\n",
       "      <td>47135896.0</td>\n",
       "      <td>33.0</td>\n",
       "      <td>30.0</td>\n",
       "      <td>940.0</td>\n",
       "      <td>1950.0</td>\n",
       "    </tr>\n",
       "    <tr>\n",
       "      <th>2</th>\n",
       "      <td>297.0</td>\n",
       "      <td>296.0</td>\n",
       "      <td>87919.0</td>\n",
       "      <td>11776.0</td>\n",
       "      <td>10644.0</td>\n",
       "      <td>113312128.0</td>\n",
       "      <td>21.0</td>\n",
       "      <td>26.0</td>\n",
       "      <td>716.0</td>\n",
       "      <td>1975.0</td>\n",
       "    </tr>\n",
       "    <tr>\n",
       "      <th>3</th>\n",
       "      <td>489.0</td>\n",
       "      <td>333.0</td>\n",
       "      <td>111384.0</td>\n",
       "      <td>17536.0</td>\n",
       "      <td>10951.0</td>\n",
       "      <td>119943281.0</td>\n",
       "      <td>32.0</td>\n",
       "      <td>41.0</td>\n",
       "      <td>1732.0</td>\n",
       "      <td>2014.0</td>\n",
       "    </tr>\n",
       "    <tr>\n",
       "      <th>4</th>\n",
       "      <td>458.0</td>\n",
       "      <td>267.0</td>\n",
       "      <td>71653.0</td>\n",
       "      <td>16828.0</td>\n",
       "      <td>9718.0</td>\n",
       "      <td>94453559.0</td>\n",
       "      <td>31.0</td>\n",
       "      <td>37.0</td>\n",
       "      <td>1407.0</td>\n",
       "      <td>2001.0</td>\n",
       "    </tr>\n",
       "    <tr>\n",
       "      <th>5</th>\n",
       "      <td>510.0</td>\n",
       "      <td>289.0</td>\n",
       "      <td>83870.0</td>\n",
       "      <td>19363.0</td>\n",
       "      <td>10046.0</td>\n",
       "      <td>100924381.0</td>\n",
       "      <td>37.0</td>\n",
       "      <td>40.0</td>\n",
       "      <td>1624.0</td>\n",
       "      <td>2059.0</td>\n",
       "    </tr>\n",
       "    <tr>\n",
       "      <th>6</th>\n",
       "      <td>479.0</td>\n",
       "      <td>302.0</td>\n",
       "      <td>91535.0</td>\n",
       "      <td>18925.0</td>\n",
       "      <td>9292.0</td>\n",
       "      <td>86356960.0</td>\n",
       "      <td>41.0</td>\n",
       "      <td>44.0</td>\n",
       "      <td>1986.0</td>\n",
       "      <td>2039.0</td>\n",
       "    </tr>\n",
       "    <tr>\n",
       "      <th>7</th>\n",
       "      <td>545.0</td>\n",
       "      <td>307.0</td>\n",
       "      <td>94322.0</td>\n",
       "      <td>20496.0</td>\n",
       "      <td>10065.0</td>\n",
       "      <td>101308222.0</td>\n",
       "      <td>49.0</td>\n",
       "      <td>48.0</td>\n",
       "      <td>2372.0</td>\n",
       "      <td>2118.0</td>\n",
       "    </tr>\n",
       "    <tr>\n",
       "      <th>8</th>\n",
       "      <td>510.0</td>\n",
       "      <td>312.0</td>\n",
       "      <td>97956.0</td>\n",
       "      <td>19576.0</td>\n",
       "      <td>10476.0</td>\n",
       "      <td>109758874.0</td>\n",
       "      <td>48.0</td>\n",
       "      <td>46.0</td>\n",
       "      <td>2171.0</td>\n",
       "      <td>2083.0</td>\n",
       "    </tr>\n",
       "    <tr>\n",
       "      <th>9</th>\n",
       "      <td>539.0</td>\n",
       "      <td>325.0</td>\n",
       "      <td>105716.0</td>\n",
       "      <td>19204.0</td>\n",
       "      <td>9486.0</td>\n",
       "      <td>89986689.0</td>\n",
       "      <td>52.0</td>\n",
       "      <td>46.0</td>\n",
       "      <td>2152.0</td>\n",
       "      <td>2024.0</td>\n",
       "    </tr>\n",
       "    <tr>\n",
       "      <th>10</th>\n",
       "      <td>558.0</td>\n",
       "      <td>326.0</td>\n",
       "      <td>106464.0</td>\n",
       "      <td>20045.0</td>\n",
       "      <td>9803.0</td>\n",
       "      <td>96100672.0</td>\n",
       "      <td>58.0</td>\n",
       "      <td>51.0</td>\n",
       "      <td>2697.0</td>\n",
       "      <td>2065.0</td>\n",
       "    </tr>\n",
       "    <tr>\n",
       "      <th>11</th>\n",
       "      <td>541.0</td>\n",
       "      <td>310.0</td>\n",
       "      <td>96570.0</td>\n",
       "      <td>19787.0</td>\n",
       "      <td>9907.0</td>\n",
       "      <td>98159284.0</td>\n",
       "      <td>55.0</td>\n",
       "      <td>49.0</td>\n",
       "      <td>2476.0</td>\n",
       "      <td>2092.0</td>\n",
       "    </tr>\n",
       "    <tr>\n",
       "      <th>12</th>\n",
       "      <td>592.0</td>\n",
       "      <td>342.0</td>\n",
       "      <td>117276.0</td>\n",
       "      <td>21793.0</td>\n",
       "      <td>10378.0</td>\n",
       "      <td>107711871.0</td>\n",
       "      <td>60.0</td>\n",
       "      <td>51.0</td>\n",
       "      <td>2681.0</td>\n",
       "      <td>2138.0</td>\n",
       "    </tr>\n",
       "  </tbody>\n",
       "</table>\n",
       "</div>"
      ],
      "text/plain": [
       "             duration                  mb_total                        \\\n",
       "                 mean    std       var     mean      std          var   \n",
       "tariff month                                                            \n",
       "smart  1        203.0  154.0   23787.0   8514.0   6444.0   41534011.0   \n",
       "       2        298.0  190.0   36412.0  11597.0   6247.0   39029116.0   \n",
       "       3        390.0  191.0   36823.0  15104.0   5828.0   33968406.0   \n",
       "       4        367.0  186.0   34778.0  13462.0   5698.0   32469724.0   \n",
       "       5        387.0  186.0   34820.0  15805.0   5978.0   35739600.0   \n",
       "       6        395.0  175.0   30742.0  15795.0   5791.0   33537223.0   \n",
       "       7        408.0  179.0   32250.0  15743.0   5897.0   34776835.0   \n",
       "       8        421.0  186.0   34793.0  16611.0   5593.0   31287251.0   \n",
       "       9        428.0  183.0   33535.0  16304.0   5196.0   26999781.0   \n",
       "       10       426.0  188.0   35392.0  16757.0   5859.0   34332382.0   \n",
       "       11       435.0  177.0   31605.0  16896.0   5340.0   28518716.0   \n",
       "       12       478.0  199.0   39698.0  18114.0   5573.0   31065832.0   \n",
       "ultra  1        428.0  269.0   72769.0  13141.0   6865.0   47135896.0   \n",
       "       2        297.0  296.0   87919.0  11776.0  10644.0  113312128.0   \n",
       "       3        489.0  333.0  111384.0  17536.0  10951.0  119943281.0   \n",
       "       4        458.0  267.0   71653.0  16828.0   9718.0   94453559.0   \n",
       "       5        510.0  289.0   83870.0  19363.0  10046.0  100924381.0   \n",
       "       6        479.0  302.0   91535.0  18925.0   9292.0   86356960.0   \n",
       "       7        545.0  307.0   94322.0  20496.0  10065.0  101308222.0   \n",
       "       8        510.0  312.0   97956.0  19576.0  10476.0  109758874.0   \n",
       "       9        539.0  325.0  105716.0  19204.0   9486.0   89986689.0   \n",
       "       10       558.0  326.0  106464.0  20045.0   9803.0   96100672.0   \n",
       "       11       541.0  310.0   96570.0  19787.0   9907.0   98159284.0   \n",
       "       12       592.0  342.0  117276.0  21793.0  10378.0  107711871.0   \n",
       "\n",
       "             message_count               month_pay  \n",
       "                      mean   std     var      mean  \n",
       "tariff month                                        \n",
       "smart  1              18.0  16.0   262.0     721.0  \n",
       "       2              24.0  21.0   473.0     827.0  \n",
       "       3              31.0  26.0   718.0    1164.0  \n",
       "       4              30.0  24.0   602.0     963.0  \n",
       "       5              33.0  27.0   730.0    1197.0  \n",
       "       6              33.0  28.0   806.0    1204.0  \n",
       "       7              33.0  28.0   799.0    1223.0  \n",
       "       8              33.0  28.0   838.0    1320.0  \n",
       "       9              33.0  28.0   790.0    1249.0  \n",
       "       10             33.0  28.0   816.0    1364.0  \n",
       "       11             34.0  28.0   805.0    1343.0  \n",
       "       12             35.0  30.0   934.0    1578.0  \n",
       "ultra  1              33.0  30.0   940.0    1950.0  \n",
       "       2              21.0  26.0   716.0    1975.0  \n",
       "       3              32.0  41.0  1732.0    2014.0  \n",
       "       4              31.0  37.0  1407.0    2001.0  \n",
       "       5              37.0  40.0  1624.0    2059.0  \n",
       "       6              41.0  44.0  1986.0    2039.0  \n",
       "       7              49.0  48.0  2372.0    2118.0  \n",
       "       8              48.0  46.0  2171.0    2083.0  \n",
       "       9              52.0  46.0  2152.0    2024.0  \n",
       "       10             58.0  51.0  2697.0    2065.0  \n",
       "       11             55.0  49.0  2476.0    2092.0  \n",
       "       12             60.0  51.0  2681.0    2138.0  "
      ]
     },
     "execution_count": 31,
     "metadata": {},
     "output_type": "execute_result"
    }
   ],
   "source": [
    "distr = df.pivot_table(index=['tariff', 'month'], \n",
    "                          aggfunc={'duration':['mean', np.std, 'var'],\n",
    "                                  'message_count': ['mean', np.std, 'var'],\n",
    "                                  'mb_total': ['mean', np.std, 'var'],\n",
    "                                  'month_pay':'mean'}\n",
    "                      )\n",
    "                          #rename(columns={'user_id':'call_count'})\n",
    "distr.apply(np.floor)"
   ]
  },
  {
   "cell_type": "code",
   "execution_count": 32,
   "metadata": {},
   "outputs": [
    {
     "data": {
      "text/html": [
       "<div>\n",
       "<style scoped>\n",
       "    .dataframe tbody tr th:only-of-type {\n",
       "        vertical-align: middle;\n",
       "    }\n",
       "\n",
       "    .dataframe tbody tr th {\n",
       "        vertical-align: top;\n",
       "    }\n",
       "\n",
       "    .dataframe thead th {\n",
       "        text-align: right;\n",
       "    }\n",
       "</style>\n",
       "<table border=\"1\" class=\"dataframe\">\n",
       "  <thead>\n",
       "    <tr style=\"text-align: right;\">\n",
       "      <th></th>\n",
       "      <th></th>\n",
       "      <th>duration</th>\n",
       "      <th>mb_total</th>\n",
       "      <th>message_count</th>\n",
       "      <th>month_pay</th>\n",
       "    </tr>\n",
       "    <tr>\n",
       "      <th>tariff</th>\n",
       "      <th>month</th>\n",
       "      <th></th>\n",
       "      <th></th>\n",
       "      <th></th>\n",
       "      <th></th>\n",
       "    </tr>\n",
       "  </thead>\n",
       "  <tbody>\n",
       "    <tr>\n",
       "      <th rowspan=\"12\" valign=\"top\">smart</th>\n",
       "      <th>1</th>\n",
       "      <td>203.0</td>\n",
       "      <td>8514.0</td>\n",
       "      <td>18.0</td>\n",
       "      <td>721.0</td>\n",
       "    </tr>\n",
       "    <tr>\n",
       "      <th>2</th>\n",
       "      <td>298.0</td>\n",
       "      <td>11597.0</td>\n",
       "      <td>24.0</td>\n",
       "      <td>827.0</td>\n",
       "    </tr>\n",
       "    <tr>\n",
       "      <th>3</th>\n",
       "      <td>390.0</td>\n",
       "      <td>15104.0</td>\n",
       "      <td>31.0</td>\n",
       "      <td>1164.0</td>\n",
       "    </tr>\n",
       "    <tr>\n",
       "      <th>4</th>\n",
       "      <td>367.0</td>\n",
       "      <td>13462.0</td>\n",
       "      <td>30.0</td>\n",
       "      <td>963.0</td>\n",
       "    </tr>\n",
       "    <tr>\n",
       "      <th>5</th>\n",
       "      <td>387.0</td>\n",
       "      <td>15805.0</td>\n",
       "      <td>33.0</td>\n",
       "      <td>1197.0</td>\n",
       "    </tr>\n",
       "    <tr>\n",
       "      <th>6</th>\n",
       "      <td>395.0</td>\n",
       "      <td>15795.0</td>\n",
       "      <td>33.0</td>\n",
       "      <td>1204.0</td>\n",
       "    </tr>\n",
       "    <tr>\n",
       "      <th>7</th>\n",
       "      <td>408.0</td>\n",
       "      <td>15743.0</td>\n",
       "      <td>33.0</td>\n",
       "      <td>1223.0</td>\n",
       "    </tr>\n",
       "    <tr>\n",
       "      <th>8</th>\n",
       "      <td>421.0</td>\n",
       "      <td>16611.0</td>\n",
       "      <td>33.0</td>\n",
       "      <td>1320.0</td>\n",
       "    </tr>\n",
       "    <tr>\n",
       "      <th>9</th>\n",
       "      <td>428.0</td>\n",
       "      <td>16304.0</td>\n",
       "      <td>33.0</td>\n",
       "      <td>1249.0</td>\n",
       "    </tr>\n",
       "    <tr>\n",
       "      <th>10</th>\n",
       "      <td>426.0</td>\n",
       "      <td>16757.0</td>\n",
       "      <td>33.0</td>\n",
       "      <td>1364.0</td>\n",
       "    </tr>\n",
       "    <tr>\n",
       "      <th>11</th>\n",
       "      <td>435.0</td>\n",
       "      <td>16896.0</td>\n",
       "      <td>34.0</td>\n",
       "      <td>1343.0</td>\n",
       "    </tr>\n",
       "    <tr>\n",
       "      <th>12</th>\n",
       "      <td>478.0</td>\n",
       "      <td>18114.0</td>\n",
       "      <td>35.0</td>\n",
       "      <td>1578.0</td>\n",
       "    </tr>\n",
       "    <tr>\n",
       "      <th rowspan=\"12\" valign=\"top\">ultra</th>\n",
       "      <th>1</th>\n",
       "      <td>428.0</td>\n",
       "      <td>13141.0</td>\n",
       "      <td>33.0</td>\n",
       "      <td>1950.0</td>\n",
       "    </tr>\n",
       "    <tr>\n",
       "      <th>2</th>\n",
       "      <td>297.0</td>\n",
       "      <td>11776.0</td>\n",
       "      <td>21.0</td>\n",
       "      <td>1975.0</td>\n",
       "    </tr>\n",
       "    <tr>\n",
       "      <th>3</th>\n",
       "      <td>489.0</td>\n",
       "      <td>17536.0</td>\n",
       "      <td>32.0</td>\n",
       "      <td>2014.0</td>\n",
       "    </tr>\n",
       "    <tr>\n",
       "      <th>4</th>\n",
       "      <td>458.0</td>\n",
       "      <td>16828.0</td>\n",
       "      <td>31.0</td>\n",
       "      <td>2001.0</td>\n",
       "    </tr>\n",
       "    <tr>\n",
       "      <th>5</th>\n",
       "      <td>510.0</td>\n",
       "      <td>19363.0</td>\n",
       "      <td>37.0</td>\n",
       "      <td>2059.0</td>\n",
       "    </tr>\n",
       "    <tr>\n",
       "      <th>6</th>\n",
       "      <td>479.0</td>\n",
       "      <td>18925.0</td>\n",
       "      <td>41.0</td>\n",
       "      <td>2039.0</td>\n",
       "    </tr>\n",
       "    <tr>\n",
       "      <th>7</th>\n",
       "      <td>545.0</td>\n",
       "      <td>20496.0</td>\n",
       "      <td>49.0</td>\n",
       "      <td>2118.0</td>\n",
       "    </tr>\n",
       "    <tr>\n",
       "      <th>8</th>\n",
       "      <td>510.0</td>\n",
       "      <td>19576.0</td>\n",
       "      <td>48.0</td>\n",
       "      <td>2083.0</td>\n",
       "    </tr>\n",
       "    <tr>\n",
       "      <th>9</th>\n",
       "      <td>539.0</td>\n",
       "      <td>19204.0</td>\n",
       "      <td>52.0</td>\n",
       "      <td>2024.0</td>\n",
       "    </tr>\n",
       "    <tr>\n",
       "      <th>10</th>\n",
       "      <td>558.0</td>\n",
       "      <td>20045.0</td>\n",
       "      <td>58.0</td>\n",
       "      <td>2065.0</td>\n",
       "    </tr>\n",
       "    <tr>\n",
       "      <th>11</th>\n",
       "      <td>541.0</td>\n",
       "      <td>19787.0</td>\n",
       "      <td>55.0</td>\n",
       "      <td>2092.0</td>\n",
       "    </tr>\n",
       "    <tr>\n",
       "      <th>12</th>\n",
       "      <td>592.0</td>\n",
       "      <td>21793.0</td>\n",
       "      <td>60.0</td>\n",
       "      <td>2138.0</td>\n",
       "    </tr>\n",
       "  </tbody>\n",
       "</table>\n",
       "</div>"
      ],
      "text/plain": [
       "              duration  mb_total  message_count  month_pay\n",
       "tariff month                                              \n",
       "smart  1         203.0    8514.0           18.0      721.0\n",
       "       2         298.0   11597.0           24.0      827.0\n",
       "       3         390.0   15104.0           31.0     1164.0\n",
       "       4         367.0   13462.0           30.0      963.0\n",
       "       5         387.0   15805.0           33.0     1197.0\n",
       "       6         395.0   15795.0           33.0     1204.0\n",
       "       7         408.0   15743.0           33.0     1223.0\n",
       "       8         421.0   16611.0           33.0     1320.0\n",
       "       9         428.0   16304.0           33.0     1249.0\n",
       "       10        426.0   16757.0           33.0     1364.0\n",
       "       11        435.0   16896.0           34.0     1343.0\n",
       "       12        478.0   18114.0           35.0     1578.0\n",
       "ultra  1         428.0   13141.0           33.0     1950.0\n",
       "       2         297.0   11776.0           21.0     1975.0\n",
       "       3         489.0   17536.0           32.0     2014.0\n",
       "       4         458.0   16828.0           31.0     2001.0\n",
       "       5         510.0   19363.0           37.0     2059.0\n",
       "       6         479.0   18925.0           41.0     2039.0\n",
       "       7         545.0   20496.0           49.0     2118.0\n",
       "       8         510.0   19576.0           48.0     2083.0\n",
       "       9         539.0   19204.0           52.0     2024.0\n",
       "       10        558.0   20045.0           58.0     2065.0\n",
       "       11        541.0   19787.0           55.0     2092.0\n",
       "       12        592.0   21793.0           60.0     2138.0"
      ]
     },
     "execution_count": 32,
     "metadata": {},
     "output_type": "execute_result"
    }
   ],
   "source": [
    "distr_mean = df.pivot_table(index=['tariff', 'month'], \n",
    "                            aggfunc={'duration':'mean',\n",
    "                                  'message_count': 'mean',\n",
    "                                  'mb_total': 'mean',\n",
    "                                  'month_pay':'mean'}\n",
    "                      )\n",
    "                    \n",
    "distr_mean.apply(np.floor)"
   ]
  },
  {
   "cell_type": "markdown",
   "metadata": {},
   "source": [
    "По средним значениям можно сделать следующие выводы: на тарифе \"смарт\" начиная с марта виден перерасход по всем параметрам, но перерасходы в оплате видны за весь год. Явная категория перерасхода - минуты разговоров. Интернет и смс-ки сверх лимита расходуют не так сильно. Видно что в декабре расходы приближаются к тарифу \"ультра\" и превышают стоимость пакета в 3 раза.\n",
    "На тарифе \"ультра\" абоненты явно не выбирают лимиты пакета, но некоторые пользователи, все же делают перерасход, за счет этого мы видим, что средние расходы выше стоимости пакета. В целом эти отклонения невелики. \n",
    "В декабре видим максимальные показатели потребления, перерасходов и соотв-но начислений."
   ]
  },
  {
   "cell_type": "code",
   "execution_count": 33,
   "metadata": {},
   "outputs": [
    {
     "name": "stderr",
     "output_type": "stream",
     "text": [
      "/tmp/ipykernel_68/4211143422.py:4: FutureWarning: Indexing with multiple keys (implicitly converted to a tuple of keys) will be deprecated, use a list instead.\n",
      "  df\n"
     ]
    },
    {
     "data": {
      "text/html": [
       "<div>\n",
       "<style scoped>\n",
       "    .dataframe tbody tr th:only-of-type {\n",
       "        vertical-align: middle;\n",
       "    }\n",
       "\n",
       "    .dataframe tbody tr th {\n",
       "        vertical-align: top;\n",
       "    }\n",
       "\n",
       "    .dataframe thead th {\n",
       "        text-align: right;\n",
       "    }\n",
       "</style>\n",
       "<table border=\"1\" class=\"dataframe\">\n",
       "  <thead>\n",
       "    <tr style=\"text-align: right;\">\n",
       "      <th></th>\n",
       "      <th>tariff</th>\n",
       "      <th>smart</th>\n",
       "      <th>ultra</th>\n",
       "    </tr>\n",
       "  </thead>\n",
       "  <tbody>\n",
       "    <tr>\n",
       "      <th rowspan=\"4\" valign=\"top\">duration</th>\n",
       "      <th>mean</th>\n",
       "      <td>418.0</td>\n",
       "      <td>527.0</td>\n",
       "    </tr>\n",
       "    <tr>\n",
       "      <th>median</th>\n",
       "      <td>422.0</td>\n",
       "      <td>518.0</td>\n",
       "    </tr>\n",
       "    <tr>\n",
       "      <th>var</th>\n",
       "      <td>36219.0</td>\n",
       "      <td>100874.0</td>\n",
       "    </tr>\n",
       "    <tr>\n",
       "      <th>std</th>\n",
       "      <td>190.0</td>\n",
       "      <td>318.0</td>\n",
       "    </tr>\n",
       "    <tr>\n",
       "      <th rowspan=\"4\" valign=\"top\">message_count</th>\n",
       "      <th>mean</th>\n",
       "      <td>33.0</td>\n",
       "      <td>49.0</td>\n",
       "    </tr>\n",
       "    <tr>\n",
       "      <th>median</th>\n",
       "      <td>28.0</td>\n",
       "      <td>38.0</td>\n",
       "    </tr>\n",
       "    <tr>\n",
       "      <th>var</th>\n",
       "      <td>797.0</td>\n",
       "      <td>2285.0</td>\n",
       "    </tr>\n",
       "    <tr>\n",
       "      <th>std</th>\n",
       "      <td>28.0</td>\n",
       "      <td>48.0</td>\n",
       "    </tr>\n",
       "    <tr>\n",
       "      <th rowspan=\"4\" valign=\"top\">mb_total</th>\n",
       "      <th>mean</th>\n",
       "      <td>16209.0</td>\n",
       "      <td>19469.0</td>\n",
       "    </tr>\n",
       "    <tr>\n",
       "      <th>median</th>\n",
       "      <td>16507.0</td>\n",
       "      <td>19309.0</td>\n",
       "    </tr>\n",
       "    <tr>\n",
       "      <th>var</th>\n",
       "      <td>34462563.0</td>\n",
       "      <td>101751558.0</td>\n",
       "    </tr>\n",
       "    <tr>\n",
       "      <th>std</th>\n",
       "      <td>5870.0</td>\n",
       "      <td>10087.0</td>\n",
       "    </tr>\n",
       "    <tr>\n",
       "      <th rowspan=\"4\" valign=\"top\">month_pay</th>\n",
       "      <th>mean</th>\n",
       "      <td>1290.0</td>\n",
       "      <td>2070.0</td>\n",
       "    </tr>\n",
       "    <tr>\n",
       "      <th>median</th>\n",
       "      <td>1023.0</td>\n",
       "      <td>1950.0</td>\n",
       "    </tr>\n",
       "    <tr>\n",
       "      <th>var</th>\n",
       "      <td>669786.0</td>\n",
       "      <td>141517.0</td>\n",
       "    </tr>\n",
       "    <tr>\n",
       "      <th>std</th>\n",
       "      <td>818.0</td>\n",
       "      <td>376.0</td>\n",
       "    </tr>\n",
       "  </tbody>\n",
       "</table>\n",
       "</div>"
      ],
      "text/plain": [
       "tariff                     smart        ultra\n",
       "duration      mean         418.0        527.0\n",
       "              median       422.0        518.0\n",
       "              var        36219.0     100874.0\n",
       "              std          190.0        318.0\n",
       "message_count mean          33.0         49.0\n",
       "              median        28.0         38.0\n",
       "              var          797.0       2285.0\n",
       "              std           28.0         48.0\n",
       "mb_total      mean       16209.0      19469.0\n",
       "              median     16507.0      19309.0\n",
       "              var     34462563.0  101751558.0\n",
       "              std         5870.0      10087.0\n",
       "month_pay     mean        1290.0       2070.0\n",
       "              median      1023.0       1950.0\n",
       "              var       669786.0     141517.0\n",
       "              std          818.0        376.0"
      ]
     },
     "execution_count": 33,
     "metadata": {},
     "output_type": "execute_result"
    }
   ],
   "source": [
    "# код ревьюера\n",
    "\n",
    "(\n",
    "    df\n",
    "    .groupby('tariff')['duration', 'message_count', 'mb_total', 'month_pay']\n",
    "    .agg(['mean', 'median', 'var', 'std'])\n",
    "    .T\n",
    "    .round()\n",
    ")\n",
    "# не обращай внимания на ошибку"
   ]
  },
  {
   "cell_type": "code",
   "execution_count": 34,
   "metadata": {},
   "outputs": [
    {
     "data": {
      "text/plain": [
       "Index(['user_id', 'month', 'duration', 'call_count', 'message_count',\n",
       "       'mb_total', 'tariff', 'city', 'month_pay'],\n",
       "      dtype='object')"
      ]
     },
     "execution_count": 34,
     "metadata": {},
     "output_type": "execute_result"
    }
   ],
   "source": [
    "df.columns"
   ]
  },
  {
   "cell_type": "code",
   "execution_count": 35,
   "metadata": {},
   "outputs": [
    {
     "data": {
      "image/png": "[encoded data removed]",
      "text/plain": [
       "<Figure size 432x288 with 1 Axes>"
      ]
     },
     "metadata": {},
     "output_type": "display_data"
    },
    {
     "data": {
      "image/png": "[encoded data removed]",
      "text/plain": [
       "<Figure size 432x288 with 1 Axes>"
      ]
     },
     "metadata": {},
     "output_type": "display_data"
    },
    {
     "data": {
      "image/png": "[encoded data removed]",
      "text/plain": [
       "<Figure size 432x288 with 1 Axes>"
      ]
     },
     "metadata": {},
     "output_type": "display_data"
    }
   ],
   "source": [
    "for col in ['duration', 'message_count', 'mb_total']:\n",
    "    sns.histplot(data=df, x=col, hue='tariff',  linewidth=.2)\n",
    "    plt.show()"
   ]
  },
  {
   "cell_type": "code",
   "execution_count": 36,
   "metadata": {},
   "outputs": [
    {
     "data": {
      "text/html": [
       "<div>\n",
       "<style scoped>\n",
       "    .dataframe tbody tr th:only-of-type {\n",
       "        vertical-align: middle;\n",
       "    }\n",
       "\n",
       "    .dataframe tbody tr th {\n",
       "        vertical-align: top;\n",
       "    }\n",
       "\n",
       "    .dataframe thead tr th {\n",
       "        text-align: left;\n",
       "    }\n",
       "\n",
       "    .dataframe thead tr:last-of-type th {\n",
       "        text-align: right;\n",
       "    }\n",
       "</style>\n",
       "<table border=\"1\" class=\"dataframe\">\n",
       "  <thead>\n",
       "    <tr>\n",
       "      <th></th>\n",
       "      <th colspan=\"3\" halign=\"left\">month_pay</th>\n",
       "    </tr>\n",
       "    <tr>\n",
       "      <th></th>\n",
       "      <th>mean</th>\n",
       "      <th>median</th>\n",
       "      <th>sum</th>\n",
       "    </tr>\n",
       "    <tr>\n",
       "      <th>tariff</th>\n",
       "      <th></th>\n",
       "      <th></th>\n",
       "      <th></th>\n",
       "    </tr>\n",
       "  </thead>\n",
       "  <tbody>\n",
       "    <tr>\n",
       "      <th>smart</th>\n",
       "      <td>1289.973531</td>\n",
       "      <td>1023.0</td>\n",
       "      <td>2875351.0</td>\n",
       "    </tr>\n",
       "    <tr>\n",
       "      <th>ultra</th>\n",
       "      <td>2070.152284</td>\n",
       "      <td>1950.0</td>\n",
       "      <td>2039100.0</td>\n",
       "    </tr>\n",
       "  </tbody>\n",
       "</table>\n",
       "</div>"
      ],
      "text/plain": [
       "          month_pay                   \n",
       "               mean  median        sum\n",
       "tariff                                \n",
       "smart   1289.973531  1023.0  2875351.0\n",
       "ultra   2070.152284  1950.0  2039100.0"
      ]
     },
     "execution_count": 36,
     "metadata": {},
     "output_type": "execute_result"
    }
   ],
   "source": [
    "pay_mean_all = df.pivot_table(index=['tariff' ], \n",
    "                          aggfunc={'month_pay':['mean', 'median', 'sum']}\n",
    "                             )\n",
    "pay_mean_all"
   ]
  },
  {
   "cell_type": "code",
   "execution_count": 37,
   "metadata": {},
   "outputs": [
    {
     "data": {
      "text/html": [
       "<div>\n",
       "<style scoped>\n",
       "    .dataframe tbody tr th:only-of-type {\n",
       "        vertical-align: middle;\n",
       "    }\n",
       "\n",
       "    .dataframe tbody tr th {\n",
       "        vertical-align: top;\n",
       "    }\n",
       "\n",
       "    .dataframe thead th {\n",
       "        text-align: right;\n",
       "    }\n",
       "</style>\n",
       "<table border=\"1\" class=\"dataframe\">\n",
       "  <thead>\n",
       "    <tr style=\"text-align: right;\">\n",
       "      <th></th>\n",
       "      <th>user_id</th>\n",
       "    </tr>\n",
       "    <tr>\n",
       "      <th>tariff</th>\n",
       "      <th></th>\n",
       "    </tr>\n",
       "  </thead>\n",
       "  <tbody>\n",
       "    <tr>\n",
       "      <th>smart</th>\n",
       "      <td>2229</td>\n",
       "    </tr>\n",
       "    <tr>\n",
       "      <th>ultra</th>\n",
       "      <td>985</td>\n",
       "    </tr>\n",
       "  </tbody>\n",
       "</table>\n",
       "</div>"
      ],
      "text/plain": [
       "        user_id\n",
       "tariff         \n",
       "smart      2229\n",
       "ultra       985"
      ]
     },
     "execution_count": 37,
     "metadata": {},
     "output_type": "execute_result"
    }
   ],
   "source": [
    "users_per_tariff = df.pivot_table(index=['tariff' ], \n",
    "                          aggfunc={'user_id':'count'}\n",
    "                                 )\n",
    "users_per_tariff"
   ]
  },
  {
   "cell_type": "markdown",
   "metadata": {},
   "source": [
    "Основные выводы: т.к. пользователей тарифа \"Ультра\" меньше, имеем более \"низкое\" распределение. \n",
    "\n",
    "Пользователи тарифа \"Ультра\" реже выходят за лимиты стоимости пакета (медиана = 1950), в то время как у \"Смарт\" - перерасходы более частые.  \n",
    "\n",
    "Распределение у тарифа \"Ультра\" имеет более длинный хвост справа (дисперсия выше), т.к. абоненты имеют больший пакет и соотвестнно чаще выходят на повешенное потребление.Заметно, что в пользователи \"Смарт\", имея ограниченность в пакете и стараясь не превышать лимиты,  максимально приближаются к лимиту пакета минут, часто укладываются в лимит пакета СМС, и часто незначительно превышают лимит пакета интернета.  \n",
    "У тарифа \"Ультра\" пользователи даже близко не расходуют пакет минут, не часто расходую пакет СМС, но некоторые и расходуют больше, и также чаще не превышают лимит пакета Интернета. Неплохим рекламным ходом, возможно, было бы еще большее увеличение пакета минут(его все равно никто не расходует должным образом).\n",
    "\n",
    "<b>Средняя прибыль от пользователя тарифа \"Ультра\" - выше, при этом в выборке оказалось более чем в два раза меньше таких абонентов. А общая прибыль от абонентов \"Смарт\" - больше почти на треть.\n",
    "Итог: \"Мегалайну\" стоит сосредоточится на рекламной акции тарифа \"Ультра\" и привлечь большее количество его пользователей.\n",
    "\n",
    "\n"
   ]
  },
  {
   "cell_type": "markdown",
   "metadata": {},
   "source": [
    "### Проверьте гипотезы\n",
    "Cредняя выручка пользователей тарифов «Ультра» и «Смарт» различаются;\n",
    "средняя выручка пользователей из Москвы отличается от выручки пользователей из других регионов."
   ]
  },
  {
   "cell_type": "markdown",
   "metadata": {},
   "source": [
    "#### Cредняя выручка пользователей тарифов «Ультра» и «Смарт» различаются"
   ]
  },
  {
   "cell_type": "markdown",
   "metadata": {},
   "source": [
    "Сформулируем нулевую и альтернативную гипотезу.\n",
    "\n",
    "$H_0 $ — средняя выручка пользователей тарифа «Ультра» равна средней выручке пользователей тарифа «Смарт».\n",
    "\n",
    "$H_1 $ — средняя выручка пользователей тарифов «Ультра» и «Смарт» различаются."
   ]
  },
  {
   "cell_type": "code",
   "execution_count": 38,
   "metadata": {},
   "outputs": [
    {
     "name": "stdout",
     "output_type": "stream",
     "text": [
      "p-значение: 4.2606313931076085e-250\n",
      "Отвергаем нулевую гипотезу\n"
     ]
    }
   ],
   "source": [
    "ultra = df.query('tariff == \"ultra\"')['month_pay']\n",
    "smart = df.query('tariff == \"smart\"')['month_pay']\n",
    "\n",
    "alpha = .01\n",
    "\n",
    "results = st.ttest_ind(\n",
    "    ultra, \n",
    "    smart, \n",
    "    equal_var=False)\n",
    "\n",
    "print('p-значение:', results.pvalue)\n",
    "\n",
    "if (results.pvalue < alpha):\n",
    "    print(\"Отвергаем нулевую гипотезу\")\n",
    "else:\n",
    "    print(\"Не получилось отвергнуть нулевую гипотезу\")"
   ]
  },
  {
   "cell_type": "markdown",
   "metadata": {},
   "source": [
    "Без сомнений (значение значительно меньше alpha) отвегаем нулевую гипотезу."
   ]
  },
  {
   "cell_type": "markdown",
   "metadata": {},
   "source": [
    "Ранее, мы получили среднее и медианные значения прибыли по тарифам, тариф \"Ультра\" больше почти в 2 раза.  \n",
    "<b>Вывод: с уверенностью 99% средняя выручка пользователей тарифов «Ультра» и «Смарт» различаются."
   ]
  },
  {
   "cell_type": "markdown",
   "metadata": {},
   "source": [
    "#### средняя выручка пользователей из Москвы отличается от выручки пользователей из других регионов."
   ]
  },
  {
   "cell_type": "markdown",
   "metadata": {},
   "source": [
    "Сформулируем гипотезы.\n",
    "\n",
    "$H_0 $ — средняя выручка пользователей из Москвы равна средней выручке пользователей из других регионов.\n",
    "\n",
    "$H_1 $ — средняя выручка пользователей из Москвы отличается от средней выручке пользователей из других регионов."
   ]
  },
  {
   "cell_type": "code",
   "execution_count": 39,
   "metadata": {},
   "outputs": [
    {
     "name": "stdout",
     "output_type": "stream",
     "text": [
      "p-значение: 0.5257376663729298\n",
      "Не получилось отвергнуть нулевую гипотезу\n"
     ]
    }
   ],
   "source": [
    "msk_users = df.query('city == \"Москва\"')\n",
    "ather_users = df.query('city != \"Москва\"')\n",
    "\n",
    "alpha = .1\n",
    "\n",
    "results = st.ttest_ind(\n",
    "    msk_users['month_pay'], \n",
    "    ather_users['month_pay'], \n",
    "    equal_var=False)\n",
    "\n",
    "print('p-значение:', results.pvalue)\n",
    "\n",
    "if (results.pvalue < alpha):\n",
    "    print(\"Отвергаем нулевую гипотезу\")\n",
    "else:\n",
    "    print(\"Не получилось отвергнуть нулевую гипотезу\")"
   ]
  },
  {
   "cell_type": "code",
   "execution_count": 40,
   "metadata": {},
   "outputs": [
    {
     "data": {
      "text/html": [
       "<div>\n",
       "<style scoped>\n",
       "    .dataframe tbody tr th:only-of-type {\n",
       "        vertical-align: middle;\n",
       "    }\n",
       "\n",
       "    .dataframe tbody tr th {\n",
       "        vertical-align: top;\n",
       "    }\n",
       "\n",
       "    .dataframe thead th {\n",
       "        text-align: right;\n",
       "    }\n",
       "</style>\n",
       "<table border=\"1\" class=\"dataframe\">\n",
       "  <thead>\n",
       "    <tr style=\"text-align: right;\">\n",
       "      <th></th>\n",
       "      <th>month_pay</th>\n",
       "    </tr>\n",
       "    <tr>\n",
       "      <th>tariff</th>\n",
       "      <th></th>\n",
       "    </tr>\n",
       "  </thead>\n",
       "  <tbody>\n",
       "    <tr>\n",
       "      <th>smart</th>\n",
       "      <td>1239.357513</td>\n",
       "    </tr>\n",
       "    <tr>\n",
       "      <th>ultra</th>\n",
       "      <td>2074.000000</td>\n",
       "    </tr>\n",
       "  </tbody>\n",
       "</table>\n",
       "</div>"
      ],
      "text/plain": [
       "          month_pay\n",
       "tariff             \n",
       "smart   1239.357513\n",
       "ultra   2074.000000"
      ]
     },
     "execution_count": 40,
     "metadata": {},
     "output_type": "execute_result"
    }
   ],
   "source": [
    "msk_users.pivot_table(index='tariff', aggfunc={'month_pay':'mean'}) # посмотрим среднюю выручку по тарифам в Москве"
   ]
  },
  {
   "cell_type": "code",
   "execution_count": 44,
   "metadata": {},
   "outputs": [
    {
     "data": {
      "text/html": [
       "<div>\n",
       "<style scoped>\n",
       "    .dataframe tbody tr th:only-of-type {\n",
       "        vertical-align: middle;\n",
       "    }\n",
       "\n",
       "    .dataframe tbody tr th {\n",
       "        vertical-align: top;\n",
       "    }\n",
       "\n",
       "    .dataframe thead th {\n",
       "        text-align: right;\n",
       "    }\n",
       "</style>\n",
       "<table border=\"1\" class=\"dataframe\">\n",
       "  <thead>\n",
       "    <tr style=\"text-align: right;\">\n",
       "      <th></th>\n",
       "      <th>month_pay</th>\n",
       "    </tr>\n",
       "    <tr>\n",
       "      <th>tariff</th>\n",
       "      <th></th>\n",
       "    </tr>\n",
       "  </thead>\n",
       "  <tbody>\n",
       "    <tr>\n",
       "      <th>smart</th>\n",
       "      <td>1300.574607</td>\n",
       "    </tr>\n",
       "    <tr>\n",
       "      <th>ultra</th>\n",
       "      <td>2069.013158</td>\n",
       "    </tr>\n",
       "  </tbody>\n",
       "</table>\n",
       "</div>"
      ],
      "text/plain": [
       "          month_pay\n",
       "tariff             \n",
       "smart   1300.574607\n",
       "ultra   2069.013158"
      ]
     },
     "execution_count": 44,
     "metadata": {},
     "output_type": "execute_result"
    }
   ],
   "source": [
    "ather_users.pivot_table(index='tariff', aggfunc={'month_pay':'mean'}) # посмотрим среднюю выручку по другим городам"
   ]
  },
  {
   "cell_type": "markdown",
   "metadata": {},
   "source": [
    "Да, действительно, показатели почти равны."
   ]
  },
  {
   "cell_type": "markdown",
   "metadata": {},
   "source": [
    "<b>Вывод: гипотезу о том, что доходы от пользователей из Москвы и из других регионов равны отвергнуть не удалось. \n",
    "\n",
    "Если бы мы отклонили нулевую гипотезу, вероятность ошибиться составила бы 50.3%."
   ]
  },
  {
   "cell_type": "markdown",
   "metadata": {},
   "source": [
    "### Напишите общий вывод"
   ]
  },
  {
   "cell_type": "markdown",
   "metadata": {},
   "source": [
    "<b>В ходе проекта мы импортировали данные: исправлены типы переменных столбцов, произведено объеденение таблиц, сформировано множество сводных таблиц, составлены гистрограммы, проверены две гипотезы.\n",
    "\n",
    "Из анализа гистограмм были сделаны выводы:\n",
    "По средним значениям можно сделать следующие выводы: на тарифе \"смарт\" начиная с марта виден перерасход по всем параметрам, но перерасходы в оплате видны за весь год. Явная категория перерасхода - минуты разговоров. Интернет и смс-ки сверх лимита расходуют не так сильно. Видно что в декабре расходы приближаются к тарифу \"ультра\" и превышают стоимость пакета в 3 раза.\n",
    "\n",
    "Общий вывод: <b>Средняя прибыль от пользователя тарифа \"Ультра\" - выше, при этом в выборке оказалось более чем в два раза меньше таких абонентов. А общая прибыль от абонентов \"Смарт\" - больше почти на треть.\n",
    "Итог: \"Мегалайну\" стоит сосредоточится на рекламной акции тарифа \"Ультра\" и привлечь большее количество его пользователей.\n",
    "На тарифе \"ультра\" абоненты явно не выбирают лимиты пакета, но некоторые пользователи, все же делают перерасход, за счет этого мы видим, что средние расходы выше стоимости пакета. В целом эти отклонения невелики. \n",
    "В декабре видим максимальные показатели потребления, перерасходов и соотв-но начислений.  \n",
    "\n",
    "    \n",
    "Были проверены две гипотезы:\n",
    "Результат первой: средняя выручка пользователей тарифов «Ультра» и «Смарт» различаются. \n",
    "Результат второй:  гипотезу о том, что доходы от пользователей из Москвы и из других регионов равны отвергнуть не удалось."
   ]
  }
 ],
 "metadata": {
  "ExecuteTimeLog": [
   {
    "duration": 2088,
    "start_time": "2022-03-24T14:28:58.674Z"
   },
   {
    "duration": 242,
    "start_time": "2022-03-24T14:29:39.897Z"
   },
   {
    "duration": 637,
    "start_time": "2022-03-24T14:31:31.528Z"
   },
   {
    "duration": 560,
    "start_time": "2022-03-24T14:32:47.161Z"
   },
   {
    "duration": 13,
    "start_time": "2022-03-24T14:33:05.721Z"
   },
   {
    "duration": 4,
    "start_time": "2022-03-24T14:34:03.448Z"
   },
   {
    "duration": 41,
    "start_time": "2022-03-24T14:34:12.984Z"
   },
   {
    "duration": 4,
    "start_time": "2022-03-24T14:34:33.544Z"
   },
   {
    "duration": 35,
    "start_time": "2022-03-24T14:34:34.200Z"
   },
   {
    "duration": 4,
    "start_time": "2022-03-24T14:35:44.079Z"
   },
   {
    "duration": 4,
    "start_time": "2022-03-24T14:36:01.241Z"
   },
   {
    "duration": 59,
    "start_time": "2022-03-24T14:36:02.368Z"
   },
   {
    "duration": 281,
    "start_time": "2022-03-24T14:36:08.961Z"
   },
   {
    "duration": 5,
    "start_time": "2022-03-24T14:36:13.361Z"
   },
   {
    "duration": 55,
    "start_time": "2022-03-24T14:36:40.088Z"
   },
   {
    "duration": 21,
    "start_time": "2022-03-24T14:37:12.648Z"
   },
   {
    "duration": 5,
    "start_time": "2022-03-24T14:37:22.440Z"
   },
   {
    "duration": 80,
    "start_time": "2022-03-24T14:37:23.736Z"
   },
   {
    "duration": 6,
    "start_time": "2022-03-24T14:37:44.072Z"
   },
   {
    "duration": 44,
    "start_time": "2022-03-24T14:37:44.852Z"
   },
   {
    "duration": 4,
    "start_time": "2022-03-24T14:37:50.360Z"
   },
   {
    "duration": 79,
    "start_time": "2022-03-24T14:37:50.608Z"
   },
   {
    "duration": 6,
    "start_time": "2022-03-24T14:38:03.520Z"
   },
   {
    "duration": 77,
    "start_time": "2022-03-24T14:38:03.776Z"
   },
   {
    "duration": 464,
    "start_time": "2022-03-24T14:48:51.110Z"
   },
   {
    "duration": 5,
    "start_time": "2022-03-24T14:50:44.022Z"
   },
   {
    "duration": 55,
    "start_time": "2022-03-24T14:50:44.343Z"
   },
   {
    "duration": 4,
    "start_time": "2022-03-24T14:50:56.759Z"
   },
   {
    "duration": 15,
    "start_time": "2022-03-24T14:50:57.639Z"
   },
   {
    "duration": 4,
    "start_time": "2022-03-24T14:52:09.567Z"
   },
   {
    "duration": 5,
    "start_time": "2022-03-24T14:52:10.094Z"
   },
   {
    "duration": 188,
    "start_time": "2022-03-24T14:52:10.734Z"
   },
   {
    "duration": 185,
    "start_time": "2022-03-24T14:52:23.055Z"
   },
   {
    "duration": 4,
    "start_time": "2022-03-24T14:53:15.895Z"
   },
   {
    "duration": 250,
    "start_time": "2022-03-24T14:53:16.135Z"
   },
   {
    "duration": 4,
    "start_time": "2022-03-24T14:59:09.614Z"
   },
   {
    "duration": 43,
    "start_time": "2022-03-24T14:59:24.158Z"
   },
   {
    "duration": 11,
    "start_time": "2022-03-24T14:59:35.510Z"
   },
   {
    "duration": 34,
    "start_time": "2022-03-24T14:59:43.566Z"
   },
   {
    "duration": 4,
    "start_time": "2022-03-24T15:01:17.918Z"
   },
   {
    "duration": 53,
    "start_time": "2022-03-24T15:01:18.382Z"
   },
   {
    "duration": 3,
    "start_time": "2022-03-24T15:01:23.647Z"
   },
   {
    "duration": 44,
    "start_time": "2022-03-24T15:01:24.726Z"
   },
   {
    "duration": 33,
    "start_time": "2022-03-24T15:01:38.542Z"
   },
   {
    "duration": 4,
    "start_time": "2022-03-24T15:03:44.623Z"
   },
   {
    "duration": 48,
    "start_time": "2022-03-24T15:03:44.982Z"
   },
   {
    "duration": 33,
    "start_time": "2022-03-24T15:03:50.174Z"
   },
   {
    "duration": 157,
    "start_time": "2022-03-24T15:04:15.878Z"
   },
   {
    "duration": 188,
    "start_time": "2022-03-24T15:04:25.878Z"
   },
   {
    "duration": 167,
    "start_time": "2022-03-24T15:04:32.550Z"
   },
   {
    "duration": 45,
    "start_time": "2022-03-24T15:04:32.951Z"
   },
   {
    "duration": 4,
    "start_time": "2022-03-24T15:05:01.062Z"
   },
   {
    "duration": 44,
    "start_time": "2022-03-24T15:05:01.414Z"
   },
   {
    "duration": 54,
    "start_time": "2022-03-24T15:05:18.918Z"
   },
   {
    "duration": 40,
    "start_time": "2022-03-24T15:05:33.309Z"
   },
   {
    "duration": 47,
    "start_time": "2022-03-24T15:05:38.302Z"
   },
   {
    "duration": 29,
    "start_time": "2022-03-24T15:05:38.701Z"
   },
   {
    "duration": 4,
    "start_time": "2022-03-24T15:13:55.686Z"
   },
   {
    "duration": 484,
    "start_time": "2022-03-24T15:13:55.949Z"
   },
   {
    "duration": 5,
    "start_time": "2022-03-24T15:13:56.435Z"
   },
   {
    "duration": 4,
    "start_time": "2022-03-24T15:13:56.574Z"
   },
   {
    "duration": 197,
    "start_time": "2022-03-24T15:13:57.094Z"
   },
   {
    "duration": 523,
    "start_time": "2022-03-24T15:16:30.461Z"
   },
   {
    "duration": 18,
    "start_time": "2022-03-24T15:16:30.987Z"
   },
   {
    "duration": 5,
    "start_time": "2022-03-24T15:16:31.037Z"
   },
   {
    "duration": 233,
    "start_time": "2022-03-24T15:16:31.358Z"
   },
   {
    "duration": 5,
    "start_time": "2022-03-24T15:17:06.837Z"
   },
   {
    "duration": 192,
    "start_time": "2022-03-24T15:17:07.125Z"
   },
   {
    "duration": 122,
    "start_time": "2022-03-24T15:17:11.245Z"
   },
   {
    "duration": 43,
    "start_time": "2022-03-24T15:17:12.045Z"
   },
   {
    "duration": 4,
    "start_time": "2022-03-24T15:21:56.612Z"
   },
   {
    "duration": 160,
    "start_time": "2022-03-24T15:23:17.108Z"
   },
   {
    "duration": 32,
    "start_time": "2022-03-24T15:29:15.388Z"
   },
   {
    "duration": 14,
    "start_time": "2022-03-24T15:31:35.395Z"
   },
   {
    "duration": 18,
    "start_time": "2022-03-24T15:31:41.083Z"
   },
   {
    "duration": 13,
    "start_time": "2022-03-24T15:31:50.076Z"
   },
   {
    "duration": 19,
    "start_time": "2022-03-24T15:32:03.940Z"
   },
   {
    "duration": 18,
    "start_time": "2022-03-24T15:32:15.651Z"
   },
   {
    "duration": 14,
    "start_time": "2022-03-24T15:32:23.468Z"
   },
   {
    "duration": 18,
    "start_time": "2022-03-24T15:33:08.483Z"
   },
   {
    "duration": 11,
    "start_time": "2022-03-24T15:33:30.466Z"
   },
   {
    "duration": 12,
    "start_time": "2022-03-24T15:36:26.291Z"
   },
   {
    "duration": 14,
    "start_time": "2022-03-24T15:40:08.747Z"
   },
   {
    "duration": 15,
    "start_time": "2022-03-24T15:40:25.356Z"
   },
   {
    "duration": 70,
    "start_time": "2022-03-24T15:41:27.598Z"
   },
   {
    "duration": 27,
    "start_time": "2022-03-24T15:41:42.220Z"
   },
   {
    "duration": 110,
    "start_time": "2022-03-24T15:42:03.074Z"
   },
   {
    "duration": 26,
    "start_time": "2022-03-24T15:42:03.412Z"
   },
   {
    "duration": 78,
    "start_time": "2022-03-24T15:47:29.378Z"
   },
   {
    "duration": 21,
    "start_time": "2022-03-24T15:47:29.835Z"
   },
   {
    "duration": 427,
    "start_time": "2022-03-24T15:50:44.019Z"
   },
   {
    "duration": 697,
    "start_time": "2022-03-24T15:51:47.220Z"
   },
   {
    "duration": 102,
    "start_time": "2022-03-24T15:52:11.338Z"
   },
   {
    "duration": 101,
    "start_time": "2022-03-24T15:52:20.875Z"
   },
   {
    "duration": 172,
    "start_time": "2022-03-24T15:54:07.907Z"
   },
   {
    "duration": 36,
    "start_time": "2022-03-24T15:54:27.810Z"
   },
   {
    "duration": 171,
    "start_time": "2022-03-24T15:56:44.810Z"
   },
   {
    "duration": 202,
    "start_time": "2022-03-24T15:59:37.602Z"
   },
   {
    "duration": 136,
    "start_time": "2022-03-24T16:00:05.602Z"
   },
   {
    "duration": 207,
    "start_time": "2022-03-24T16:01:13.754Z"
   },
   {
    "duration": 121,
    "start_time": "2022-03-24T16:02:03.825Z"
   },
   {
    "duration": 124,
    "start_time": "2022-03-24T16:02:24.537Z"
   },
   {
    "duration": 126,
    "start_time": "2022-03-24T16:02:31.881Z"
   },
   {
    "duration": 122,
    "start_time": "2022-03-24T16:02:53.642Z"
   },
   {
    "duration": 26,
    "start_time": "2022-03-24T16:03:56.393Z"
   },
   {
    "duration": 62,
    "start_time": "2022-03-24T16:05:03.877Z"
   },
   {
    "duration": 4,
    "start_time": "2022-03-24T18:00:29.244Z"
   },
   {
    "duration": 501,
    "start_time": "2022-03-24T18:00:29.252Z"
   },
   {
    "duration": 4,
    "start_time": "2022-03-24T18:00:29.755Z"
   },
   {
    "duration": 12,
    "start_time": "2022-03-24T18:00:29.762Z"
   },
   {
    "duration": 247,
    "start_time": "2022-03-24T18:00:29.777Z"
   },
   {
    "duration": 5,
    "start_time": "2022-03-24T18:00:30.027Z"
   },
   {
    "duration": 128,
    "start_time": "2022-03-24T18:00:30.082Z"
   },
   {
    "duration": 30,
    "start_time": "2022-03-24T18:00:30.213Z"
   },
   {
    "duration": 111,
    "start_time": "2022-03-24T18:00:30.245Z"
   },
   {
    "duration": 41,
    "start_time": "2022-03-24T18:00:30.360Z"
   },
   {
    "duration": 305,
    "start_time": "2022-03-24T18:00:30.404Z"
   },
   {
    "duration": 79,
    "start_time": "2022-03-24T18:00:30.712Z"
   },
   {
    "duration": 40,
    "start_time": "2022-03-24T18:01:49.026Z"
   },
   {
    "duration": 169,
    "start_time": "2022-03-24T18:03:51.815Z"
   },
   {
    "duration": 56,
    "start_time": "2022-03-24T18:04:01.722Z"
   },
   {
    "duration": 177,
    "start_time": "2022-03-24T18:04:33.123Z"
   },
   {
    "duration": 47,
    "start_time": "2022-03-24T18:04:37.873Z"
   },
   {
    "duration": 13,
    "start_time": "2022-03-24T18:13:47.866Z"
   },
   {
    "duration": 42,
    "start_time": "2022-03-24T18:14:26.799Z"
   },
   {
    "duration": 30,
    "start_time": "2022-03-24T18:14:42.284Z"
   },
   {
    "duration": 14,
    "start_time": "2022-03-24T18:14:42.660Z"
   },
   {
    "duration": 12,
    "start_time": "2022-03-24T18:16:32.187Z"
   },
   {
    "duration": 28,
    "start_time": "2022-03-24T18:16:53.954Z"
   },
   {
    "duration": 23,
    "start_time": "2022-03-24T18:17:02.229Z"
   },
   {
    "duration": 47,
    "start_time": "2022-03-24T18:17:39.138Z"
   },
   {
    "duration": 86,
    "start_time": "2022-03-24T18:19:14.624Z"
   },
   {
    "duration": 88,
    "start_time": "2022-03-24T18:19:29.064Z"
   },
   {
    "duration": 92,
    "start_time": "2022-03-24T18:20:08.824Z"
   },
   {
    "duration": 83,
    "start_time": "2022-03-24T18:20:24.099Z"
   },
   {
    "duration": 120,
    "start_time": "2022-03-24T18:27:27.332Z"
   },
   {
    "duration": 59,
    "start_time": "2022-03-24T18:27:45.494Z"
   },
   {
    "duration": 16,
    "start_time": "2022-03-24T18:28:13.597Z"
   },
   {
    "duration": 13,
    "start_time": "2022-03-24T18:28:48.870Z"
   },
   {
    "duration": 116,
    "start_time": "2022-03-24T18:30:46.168Z"
   },
   {
    "duration": 109,
    "start_time": "2022-03-24T18:31:23.553Z"
   },
   {
    "duration": 102,
    "start_time": "2022-03-24T18:32:28.027Z"
   },
   {
    "duration": 12,
    "start_time": "2022-03-24T19:07:12.712Z"
   },
   {
    "duration": 6,
    "start_time": "2022-03-24T19:07:23.618Z"
   },
   {
    "duration": 116,
    "start_time": "2022-03-24T19:09:28.001Z"
   },
   {
    "duration": 8,
    "start_time": "2022-03-24T19:11:34.568Z"
   },
   {
    "duration": 111,
    "start_time": "2022-03-24T19:11:36.522Z"
   },
   {
    "duration": 5,
    "start_time": "2022-03-24T19:12:14.906Z"
   },
   {
    "duration": 119,
    "start_time": "2022-03-24T19:12:15.276Z"
   },
   {
    "duration": 44,
    "start_time": "2022-03-24T19:12:15.624Z"
   },
   {
    "duration": 20,
    "start_time": "2022-03-24T19:13:10.309Z"
   },
   {
    "duration": 4,
    "start_time": "2022-03-24T19:13:26.840Z"
   },
   {
    "duration": 488,
    "start_time": "2022-03-24T19:13:26.846Z"
   },
   {
    "duration": 5,
    "start_time": "2022-03-24T19:13:27.338Z"
   },
   {
    "duration": 27,
    "start_time": "2022-03-24T19:13:27.345Z"
   },
   {
    "duration": 217,
    "start_time": "2022-03-24T19:13:27.375Z"
   },
   {
    "duration": 4,
    "start_time": "2022-03-24T19:13:27.594Z"
   },
   {
    "duration": 138,
    "start_time": "2022-03-24T19:13:27.601Z"
   },
   {
    "duration": 16,
    "start_time": "2022-03-24T19:13:27.742Z"
   },
   {
    "duration": 17,
    "start_time": "2022-03-24T19:13:30.967Z"
   },
   {
    "duration": 117,
    "start_time": "2022-03-24T19:13:41.336Z"
   },
   {
    "duration": 56,
    "start_time": "2022-03-24T19:13:49.744Z"
   },
   {
    "duration": 5,
    "start_time": "2022-03-24T19:13:59.119Z"
   },
   {
    "duration": 699,
    "start_time": "2022-03-24T19:13:59.128Z"
   },
   {
    "duration": 13,
    "start_time": "2022-03-24T19:13:59.830Z"
   },
   {
    "duration": 8,
    "start_time": "2022-03-24T19:13:59.846Z"
   },
   {
    "duration": 254,
    "start_time": "2022-03-24T19:13:59.856Z"
   },
   {
    "duration": 5,
    "start_time": "2022-03-24T19:14:00.112Z"
   },
   {
    "duration": 209,
    "start_time": "2022-03-24T19:14:00.119Z"
   },
   {
    "duration": 20,
    "start_time": "2022-03-24T19:14:00.331Z"
   },
   {
    "duration": 164,
    "start_time": "2022-03-24T19:14:00.356Z"
   },
   {
    "duration": 5,
    "start_time": "2022-03-24T19:15:06.974Z"
   },
   {
    "duration": 786,
    "start_time": "2022-03-24T19:15:06.989Z"
   },
   {
    "duration": 16,
    "start_time": "2022-03-24T19:15:07.779Z"
   },
   {
    "duration": 11,
    "start_time": "2022-03-24T19:15:07.798Z"
   },
   {
    "duration": 238,
    "start_time": "2022-03-24T19:15:07.811Z"
   },
   {
    "duration": 5,
    "start_time": "2022-03-24T19:15:08.084Z"
   },
   {
    "duration": 141,
    "start_time": "2022-03-24T19:15:08.092Z"
   },
   {
    "duration": 27,
    "start_time": "2022-03-24T19:15:08.237Z"
   },
   {
    "duration": 25,
    "start_time": "2022-03-24T19:17:15.124Z"
   },
   {
    "duration": 15,
    "start_time": "2022-03-24T19:18:13.702Z"
   },
   {
    "duration": 76,
    "start_time": "2022-03-24T19:18:25.936Z"
   },
   {
    "duration": 20,
    "start_time": "2022-03-24T19:18:47.307Z"
   },
   {
    "duration": 20,
    "start_time": "2022-03-24T19:19:21.720Z"
   },
   {
    "duration": 22,
    "start_time": "2022-03-24T19:19:30.400Z"
   },
   {
    "duration": 27,
    "start_time": "2022-03-24T19:19:51.760Z"
   },
   {
    "duration": 23,
    "start_time": "2022-03-24T19:19:59.911Z"
   },
   {
    "duration": 16,
    "start_time": "2022-03-24T19:20:13.616Z"
   },
   {
    "duration": 6,
    "start_time": "2022-03-24T19:21:00.021Z"
   },
   {
    "duration": 114,
    "start_time": "2022-03-24T19:21:00.462Z"
   },
   {
    "duration": 8,
    "start_time": "2022-03-24T19:21:16.333Z"
   },
   {
    "duration": 126,
    "start_time": "2022-03-24T19:21:16.575Z"
   },
   {
    "duration": 37,
    "start_time": "2022-03-24T19:21:16.878Z"
   },
   {
    "duration": 126,
    "start_time": "2022-03-24T19:22:00.373Z"
   },
   {
    "duration": 123,
    "start_time": "2022-03-24T19:22:10.613Z"
   },
   {
    "duration": 15,
    "start_time": "2022-03-24T19:22:23.022Z"
   },
   {
    "duration": 4,
    "start_time": "2022-03-24T19:22:51.681Z"
   },
   {
    "duration": 506,
    "start_time": "2022-03-24T19:22:51.688Z"
   },
   {
    "duration": 4,
    "start_time": "2022-03-24T19:22:52.197Z"
   },
   {
    "duration": 7,
    "start_time": "2022-03-24T19:22:52.203Z"
   },
   {
    "duration": 217,
    "start_time": "2022-03-24T19:22:52.214Z"
   },
   {
    "duration": 4,
    "start_time": "2022-03-24T19:22:52.434Z"
   },
   {
    "duration": 140,
    "start_time": "2022-03-24T19:22:52.483Z"
   },
   {
    "duration": 13,
    "start_time": "2022-03-24T19:22:52.625Z"
   },
   {
    "duration": 44,
    "start_time": "2022-03-24T19:22:52.641Z"
   },
   {
    "duration": 108,
    "start_time": "2022-03-24T19:38:13.494Z"
   },
   {
    "duration": 6,
    "start_time": "2022-03-24T19:39:39.422Z"
   },
   {
    "duration": 10,
    "start_time": "2022-03-24T19:40:47.757Z"
   },
   {
    "duration": 12,
    "start_time": "2022-03-24T19:41:01.963Z"
   },
   {
    "duration": 1336,
    "start_time": "2022-03-25T08:36:50.090Z"
   },
   {
    "duration": 360,
    "start_time": "2022-03-25T08:36:51.429Z"
   },
   {
    "duration": 2,
    "start_time": "2022-03-25T08:36:51.791Z"
   },
   {
    "duration": 6,
    "start_time": "2022-03-25T08:36:51.794Z"
   },
   {
    "duration": 100,
    "start_time": "2022-03-25T08:36:51.802Z"
   },
   {
    "duration": 2,
    "start_time": "2022-03-25T08:36:51.903Z"
   },
   {
    "duration": 91,
    "start_time": "2022-03-25T08:36:51.907Z"
   },
   {
    "duration": 5,
    "start_time": "2022-03-25T08:36:52.000Z"
   },
   {
    "duration": 90,
    "start_time": "2022-03-25T08:36:52.007Z"
   },
   {
    "duration": 26,
    "start_time": "2022-03-25T08:36:52.099Z"
   },
   {
    "duration": 7,
    "start_time": "2022-03-25T08:36:52.126Z"
   },
   {
    "duration": 78,
    "start_time": "2022-03-25T08:36:52.135Z"
   },
   {
    "duration": 7,
    "start_time": "2022-03-25T08:36:52.216Z"
   },
   {
    "duration": 78,
    "start_time": "2022-03-25T08:36:52.225Z"
   },
   {
    "duration": 3,
    "start_time": "2022-03-25T08:36:52.304Z"
   },
   {
    "duration": 9,
    "start_time": "2022-03-25T08:36:52.309Z"
   },
   {
    "duration": 93,
    "start_time": "2022-03-25T08:37:24.787Z"
   },
   {
    "duration": 3,
    "start_time": "2022-03-25T08:37:33.022Z"
   },
   {
    "duration": 9,
    "start_time": "2022-03-25T08:42:02.854Z"
   },
   {
    "duration": 9,
    "start_time": "2022-03-25T08:42:12.236Z"
   },
   {
    "duration": 10,
    "start_time": "2022-03-25T08:42:34.117Z"
   },
   {
    "duration": 3,
    "start_time": "2022-03-25T08:44:52.093Z"
   },
   {
    "duration": 15,
    "start_time": "2022-03-25T08:44:58.549Z"
   },
   {
    "duration": 11,
    "start_time": "2022-03-25T08:44:59.157Z"
   },
   {
    "duration": 16,
    "start_time": "2022-03-25T08:45:41.669Z"
   },
   {
    "duration": 12,
    "start_time": "2022-03-25T08:45:50.765Z"
   },
   {
    "duration": 13,
    "start_time": "2022-03-25T08:45:55.756Z"
   },
   {
    "duration": 2,
    "start_time": "2022-03-25T08:46:22.140Z"
   },
   {
    "duration": 11,
    "start_time": "2022-03-25T08:49:51.269Z"
   },
   {
    "duration": 7,
    "start_time": "2022-03-25T08:50:06.989Z"
   },
   {
    "duration": 3,
    "start_time": "2022-03-25T08:50:30.572Z"
   },
   {
    "duration": 7,
    "start_time": "2022-03-25T09:03:19.299Z"
   },
   {
    "duration": 16,
    "start_time": "2022-03-25T09:03:30.380Z"
   },
   {
    "duration": 8,
    "start_time": "2022-03-25T09:04:38.940Z"
   },
   {
    "duration": 23,
    "start_time": "2022-03-25T09:04:45.043Z"
   },
   {
    "duration": 11,
    "start_time": "2022-03-25T09:05:21.115Z"
   },
   {
    "duration": 3,
    "start_time": "2022-03-25T09:05:59.308Z"
   },
   {
    "duration": 369,
    "start_time": "2022-03-25T09:05:59.313Z"
   },
   {
    "duration": 3,
    "start_time": "2022-03-25T09:05:59.684Z"
   },
   {
    "duration": 4,
    "start_time": "2022-03-25T09:05:59.690Z"
   },
   {
    "duration": 109,
    "start_time": "2022-03-25T09:05:59.695Z"
   },
   {
    "duration": 3,
    "start_time": "2022-03-25T09:05:59.805Z"
   },
   {
    "duration": 94,
    "start_time": "2022-03-25T09:05:59.809Z"
   },
   {
    "duration": 5,
    "start_time": "2022-03-25T09:05:59.904Z"
   },
   {
    "duration": 89,
    "start_time": "2022-03-25T09:05:59.911Z"
   },
   {
    "duration": 28,
    "start_time": "2022-03-25T09:06:00.002Z"
   },
   {
    "duration": 7,
    "start_time": "2022-03-25T09:06:00.032Z"
   },
   {
    "duration": 76,
    "start_time": "2022-03-25T09:06:00.040Z"
   },
   {
    "duration": 7,
    "start_time": "2022-03-25T09:06:00.118Z"
   },
   {
    "duration": 85,
    "start_time": "2022-03-25T09:06:00.126Z"
   },
   {
    "duration": 4,
    "start_time": "2022-03-25T09:06:00.212Z"
   },
   {
    "duration": 17,
    "start_time": "2022-03-25T09:06:00.218Z"
   },
   {
    "duration": 11,
    "start_time": "2022-03-25T09:06:00.237Z"
   },
   {
    "duration": 20,
    "start_time": "2022-03-25T09:06:00.249Z"
   },
   {
    "duration": 9,
    "start_time": "2022-03-25T09:06:00.271Z"
   },
   {
    "duration": 174,
    "start_time": "2022-03-25T09:06:00.282Z"
   },
   {
    "duration": 0,
    "start_time": "2022-03-25T09:06:00.458Z"
   },
   {
    "duration": 8,
    "start_time": "2022-03-25T09:06:21.275Z"
   },
   {
    "duration": 14,
    "start_time": "2022-03-25T09:06:22.083Z"
   },
   {
    "duration": 12,
    "start_time": "2022-03-25T09:14:14.854Z"
   },
   {
    "duration": 12,
    "start_time": "2022-03-25T11:12:12.361Z"
   },
   {
    "duration": 18,
    "start_time": "2022-03-25T11:12:30.128Z"
   },
   {
    "duration": 11,
    "start_time": "2022-03-25T11:12:30.465Z"
   },
   {
    "duration": 13,
    "start_time": "2022-03-25T11:12:35.664Z"
   },
   {
    "duration": 24,
    "start_time": "2022-03-25T11:13:09.785Z"
   },
   {
    "duration": 7,
    "start_time": "2022-03-25T11:14:11.777Z"
   },
   {
    "duration": 11,
    "start_time": "2022-03-25T11:14:24.024Z"
   },
   {
    "duration": 13,
    "start_time": "2022-03-25T11:15:04.144Z"
   },
   {
    "duration": 3,
    "start_time": "2022-03-25T11:15:40.458Z"
   },
   {
    "duration": 347,
    "start_time": "2022-03-25T11:15:40.462Z"
   },
   {
    "duration": 2,
    "start_time": "2022-03-25T11:15:40.811Z"
   },
   {
    "duration": 6,
    "start_time": "2022-03-25T11:15:40.815Z"
   },
   {
    "duration": 95,
    "start_time": "2022-03-25T11:15:40.822Z"
   },
   {
    "duration": 3,
    "start_time": "2022-03-25T11:15:40.918Z"
   },
   {
    "duration": 89,
    "start_time": "2022-03-25T11:15:40.922Z"
   },
   {
    "duration": 5,
    "start_time": "2022-03-25T11:15:41.012Z"
   },
   {
    "duration": 81,
    "start_time": "2022-03-25T11:15:41.018Z"
   },
   {
    "duration": 25,
    "start_time": "2022-03-25T11:15:41.101Z"
   },
   {
    "duration": 5,
    "start_time": "2022-03-25T11:15:41.128Z"
   },
   {
    "duration": 67,
    "start_time": "2022-03-25T11:15:41.135Z"
   },
   {
    "duration": 7,
    "start_time": "2022-03-25T11:15:41.204Z"
   },
   {
    "duration": 74,
    "start_time": "2022-03-25T11:15:41.212Z"
   },
   {
    "duration": 3,
    "start_time": "2022-03-25T11:15:41.288Z"
   },
   {
    "duration": 10,
    "start_time": "2022-03-25T11:15:41.292Z"
   },
   {
    "duration": 4,
    "start_time": "2022-03-25T11:15:41.303Z"
   },
   {
    "duration": 32,
    "start_time": "2022-03-25T11:15:41.309Z"
   },
   {
    "duration": 7,
    "start_time": "2022-03-25T11:15:41.363Z"
   },
   {
    "duration": 12,
    "start_time": "2022-03-25T11:15:41.372Z"
   },
   {
    "duration": 2,
    "start_time": "2022-03-25T11:16:19.890Z"
   },
   {
    "duration": 368,
    "start_time": "2022-03-25T11:16:19.894Z"
   },
   {
    "duration": 2,
    "start_time": "2022-03-25T11:16:20.264Z"
   },
   {
    "duration": 6,
    "start_time": "2022-03-25T11:16:20.268Z"
   },
   {
    "duration": 114,
    "start_time": "2022-03-25T11:16:20.276Z"
   },
   {
    "duration": 3,
    "start_time": "2022-03-25T11:16:20.391Z"
   },
   {
    "duration": 94,
    "start_time": "2022-03-25T11:16:20.395Z"
   },
   {
    "duration": 5,
    "start_time": "2022-03-25T11:16:20.491Z"
   },
   {
    "duration": 82,
    "start_time": "2022-03-25T11:16:20.497Z"
   },
   {
    "duration": 25,
    "start_time": "2022-03-25T11:16:20.580Z"
   },
   {
    "duration": 6,
    "start_time": "2022-03-25T11:16:20.607Z"
   },
   {
    "duration": 74,
    "start_time": "2022-03-25T11:16:20.615Z"
   },
   {
    "duration": 7,
    "start_time": "2022-03-25T11:16:20.691Z"
   },
   {
    "duration": 79,
    "start_time": "2022-03-25T11:16:20.700Z"
   },
   {
    "duration": 4,
    "start_time": "2022-03-25T11:16:20.780Z"
   },
   {
    "duration": 13,
    "start_time": "2022-03-25T11:16:20.785Z"
   },
   {
    "duration": 5,
    "start_time": "2022-03-25T11:16:20.799Z"
   },
   {
    "duration": 33,
    "start_time": "2022-03-25T11:16:20.805Z"
   },
   {
    "duration": 23,
    "start_time": "2022-03-25T11:16:20.840Z"
   },
   {
    "duration": 14,
    "start_time": "2022-03-25T11:16:20.865Z"
   },
   {
    "duration": 26,
    "start_time": "2022-03-25T11:17:21.529Z"
   },
   {
    "duration": 31,
    "start_time": "2022-03-25T11:17:30.505Z"
   },
   {
    "duration": 3,
    "start_time": "2022-03-25T11:17:37.818Z"
   },
   {
    "duration": 339,
    "start_time": "2022-03-25T11:17:37.822Z"
   },
   {
    "duration": 3,
    "start_time": "2022-03-25T11:17:38.162Z"
   },
   {
    "duration": 6,
    "start_time": "2022-03-25T11:17:38.167Z"
   },
   {
    "duration": 114,
    "start_time": "2022-03-25T11:17:38.175Z"
   },
   {
    "duration": 3,
    "start_time": "2022-03-25T11:17:38.290Z"
   },
   {
    "duration": 90,
    "start_time": "2022-03-25T11:17:38.294Z"
   },
   {
    "duration": 5,
    "start_time": "2022-03-25T11:17:38.386Z"
   },
   {
    "duration": 80,
    "start_time": "2022-03-25T11:17:38.392Z"
   },
   {
    "duration": 23,
    "start_time": "2022-03-25T11:17:38.473Z"
   },
   {
    "duration": 6,
    "start_time": "2022-03-25T11:17:38.498Z"
   },
   {
    "duration": 75,
    "start_time": "2022-03-25T11:17:38.506Z"
   },
   {
    "duration": 7,
    "start_time": "2022-03-25T11:17:38.582Z"
   },
   {
    "duration": 81,
    "start_time": "2022-03-25T11:17:38.592Z"
   },
   {
    "duration": 4,
    "start_time": "2022-03-25T11:17:38.674Z"
   },
   {
    "duration": 13,
    "start_time": "2022-03-25T11:17:38.680Z"
   },
   {
    "duration": 14,
    "start_time": "2022-03-25T11:17:38.695Z"
   },
   {
    "duration": 41,
    "start_time": "2022-03-25T11:17:38.711Z"
   },
   {
    "duration": 0,
    "start_time": "2022-03-25T11:17:38.754Z"
   },
   {
    "duration": 0,
    "start_time": "2022-03-25T11:17:38.763Z"
   },
   {
    "duration": 33,
    "start_time": "2022-03-25T11:18:46.441Z"
   },
   {
    "duration": 33,
    "start_time": "2022-03-25T11:19:10.088Z"
   },
   {
    "duration": 34,
    "start_time": "2022-03-25T11:19:17.985Z"
   },
   {
    "duration": 34,
    "start_time": "2022-03-25T11:20:57.024Z"
   },
   {
    "duration": 33,
    "start_time": "2022-03-25T11:33:40.760Z"
   },
   {
    "duration": 34,
    "start_time": "2022-03-25T11:33:53.799Z"
   },
   {
    "duration": 36,
    "start_time": "2022-03-25T11:34:08.424Z"
   },
   {
    "duration": 34,
    "start_time": "2022-03-25T11:34:24.519Z"
   },
   {
    "duration": 35,
    "start_time": "2022-03-25T11:35:38.863Z"
   },
   {
    "duration": 4,
    "start_time": "2022-03-25T11:37:05.560Z"
   },
   {
    "duration": 379,
    "start_time": "2022-03-25T11:37:05.566Z"
   },
   {
    "duration": 4,
    "start_time": "2022-03-25T11:37:05.947Z"
   },
   {
    "duration": 6,
    "start_time": "2022-03-25T11:37:05.953Z"
   },
   {
    "duration": 119,
    "start_time": "2022-03-25T11:37:05.960Z"
   },
   {
    "duration": 3,
    "start_time": "2022-03-25T11:37:06.081Z"
   },
   {
    "duration": 88,
    "start_time": "2022-03-25T11:37:06.085Z"
   },
   {
    "duration": 5,
    "start_time": "2022-03-25T11:37:06.174Z"
   },
   {
    "duration": 86,
    "start_time": "2022-03-25T11:37:06.181Z"
   },
   {
    "duration": 22,
    "start_time": "2022-03-25T11:37:06.269Z"
   },
   {
    "duration": 6,
    "start_time": "2022-03-25T11:37:06.292Z"
   },
   {
    "duration": 68,
    "start_time": "2022-03-25T11:37:06.300Z"
   },
   {
    "duration": 7,
    "start_time": "2022-03-25T11:37:06.370Z"
   },
   {
    "duration": 65,
    "start_time": "2022-03-25T11:37:06.379Z"
   },
   {
    "duration": 17,
    "start_time": "2022-03-25T11:37:06.446Z"
   },
   {
    "duration": 8,
    "start_time": "2022-03-25T11:37:06.465Z"
   },
   {
    "duration": 5,
    "start_time": "2022-03-25T11:37:06.475Z"
   },
   {
    "duration": 38,
    "start_time": "2022-03-25T11:37:06.481Z"
   },
   {
    "duration": 18,
    "start_time": "2022-03-25T11:37:06.521Z"
   },
   {
    "duration": 10,
    "start_time": "2022-03-25T11:38:46.087Z"
   },
   {
    "duration": 10,
    "start_time": "2022-03-25T11:39:03.399Z"
   },
   {
    "duration": 4,
    "start_time": "2022-03-25T11:39:07.991Z"
   },
   {
    "duration": 11,
    "start_time": "2022-03-25T11:39:17.710Z"
   },
   {
    "duration": 9,
    "start_time": "2022-03-25T12:37:40.961Z"
   },
   {
    "duration": 1924,
    "start_time": "2022-03-25T12:37:53.553Z"
   },
   {
    "duration": 3,
    "start_time": "2022-03-25T12:38:09.498Z"
   },
   {
    "duration": 346,
    "start_time": "2022-03-25T12:38:09.503Z"
   },
   {
    "duration": 3,
    "start_time": "2022-03-25T12:38:09.850Z"
   },
   {
    "duration": 4,
    "start_time": "2022-03-25T12:38:09.857Z"
   },
   {
    "duration": 119,
    "start_time": "2022-03-25T12:38:09.862Z"
   },
   {
    "duration": 3,
    "start_time": "2022-03-25T12:38:09.983Z"
   },
   {
    "duration": 96,
    "start_time": "2022-03-25T12:38:09.988Z"
   },
   {
    "duration": 5,
    "start_time": "2022-03-25T12:38:10.086Z"
   },
   {
    "duration": 82,
    "start_time": "2022-03-25T12:38:10.093Z"
   },
   {
    "duration": 23,
    "start_time": "2022-03-25T12:38:10.177Z"
   },
   {
    "duration": 6,
    "start_time": "2022-03-25T12:38:10.201Z"
   },
   {
    "duration": 79,
    "start_time": "2022-03-25T12:38:10.209Z"
   },
   {
    "duration": 8,
    "start_time": "2022-03-25T12:38:10.290Z"
   },
   {
    "duration": 86,
    "start_time": "2022-03-25T12:38:10.300Z"
   },
   {
    "duration": 4,
    "start_time": "2022-03-25T12:38:10.387Z"
   },
   {
    "duration": 13,
    "start_time": "2022-03-25T12:38:10.393Z"
   },
   {
    "duration": 6,
    "start_time": "2022-03-25T12:38:10.407Z"
   },
   {
    "duration": 53,
    "start_time": "2022-03-25T12:38:10.414Z"
   },
   {
    "duration": 13,
    "start_time": "2022-03-25T12:38:10.469Z"
   },
   {
    "duration": 2035,
    "start_time": "2022-03-25T12:38:10.484Z"
   },
   {
    "duration": 26,
    "start_time": "2022-03-25T12:43:32.297Z"
   },
   {
    "duration": 15,
    "start_time": "2022-03-25T12:43:38.312Z"
   },
   {
    "duration": 23,
    "start_time": "2022-03-25T12:44:03.737Z"
   },
   {
    "duration": 15,
    "start_time": "2022-03-25T12:44:06.273Z"
   },
   {
    "duration": 5,
    "start_time": "2022-03-25T13:46:03.324Z"
   },
   {
    "duration": 24,
    "start_time": "2022-03-25T13:46:27.357Z"
   },
   {
    "duration": 5,
    "start_time": "2022-03-25T13:47:13.700Z"
   },
   {
    "duration": 4,
    "start_time": "2022-03-25T13:47:29.165Z"
   },
   {
    "duration": 19,
    "start_time": "2022-03-25T13:47:29.830Z"
   },
   {
    "duration": 5,
    "start_time": "2022-03-25T13:47:36.172Z"
   },
   {
    "duration": 21,
    "start_time": "2022-03-25T13:47:36.420Z"
   },
   {
    "duration": 11,
    "start_time": "2022-03-25T13:48:04.020Z"
   },
   {
    "duration": 10,
    "start_time": "2022-03-25T13:49:02.251Z"
   },
   {
    "duration": 4,
    "start_time": "2022-03-25T13:49:35.333Z"
   },
   {
    "duration": 5,
    "start_time": "2022-03-25T13:52:10.252Z"
   },
   {
    "duration": 5,
    "start_time": "2022-03-25T13:52:12.628Z"
   },
   {
    "duration": 151,
    "start_time": "2022-03-25T13:52:13.587Z"
   },
   {
    "duration": 16,
    "start_time": "2022-03-25T13:52:20.028Z"
   },
   {
    "duration": 3,
    "start_time": "2022-03-25T13:54:38.445Z"
   },
   {
    "duration": 333,
    "start_time": "2022-03-25T13:54:38.449Z"
   },
   {
    "duration": 2,
    "start_time": "2022-03-25T13:54:38.784Z"
   },
   {
    "duration": 5,
    "start_time": "2022-03-25T13:54:38.788Z"
   },
   {
    "duration": 97,
    "start_time": "2022-03-25T13:54:38.796Z"
   },
   {
    "duration": 3,
    "start_time": "2022-03-25T13:54:38.894Z"
   },
   {
    "duration": 93,
    "start_time": "2022-03-25T13:54:38.898Z"
   },
   {
    "duration": 5,
    "start_time": "2022-03-25T13:54:38.993Z"
   },
   {
    "duration": 80,
    "start_time": "2022-03-25T13:54:38.999Z"
   },
   {
    "duration": 23,
    "start_time": "2022-03-25T13:54:39.081Z"
   },
   {
    "duration": 7,
    "start_time": "2022-03-25T13:54:39.105Z"
   },
   {
    "duration": 81,
    "start_time": "2022-03-25T13:54:39.113Z"
   },
   {
    "duration": 11,
    "start_time": "2022-03-25T13:54:39.196Z"
   },
   {
    "duration": 11,
    "start_time": "2022-03-25T13:54:39.210Z"
   },
   {
    "duration": 76,
    "start_time": "2022-03-25T13:54:39.223Z"
   },
   {
    "duration": 3,
    "start_time": "2022-03-25T13:54:39.301Z"
   },
   {
    "duration": 14,
    "start_time": "2022-03-25T13:54:39.305Z"
   },
   {
    "duration": 4,
    "start_time": "2022-03-25T13:54:39.321Z"
   },
   {
    "duration": 44,
    "start_time": "2022-03-25T13:54:39.327Z"
   },
   {
    "duration": 11,
    "start_time": "2022-03-25T13:54:39.373Z"
   },
   {
    "duration": 12,
    "start_time": "2022-03-25T13:54:39.386Z"
   },
   {
    "duration": 4,
    "start_time": "2022-03-25T13:54:39.399Z"
   },
   {
    "duration": 10,
    "start_time": "2022-03-25T13:54:39.404Z"
   },
   {
    "duration": 9,
    "start_time": "2022-03-25T13:54:39.415Z"
   },
   {
    "duration": 104,
    "start_time": "2022-03-25T13:54:39.425Z"
   },
   {
    "duration": 12,
    "start_time": "2022-03-25T13:54:39.531Z"
   },
   {
    "duration": 4,
    "start_time": "2022-03-25T13:56:06.892Z"
   },
   {
    "duration": 360,
    "start_time": "2022-03-25T13:56:06.898Z"
   },
   {
    "duration": 4,
    "start_time": "2022-03-25T13:56:07.260Z"
   },
   {
    "duration": 7,
    "start_time": "2022-03-25T13:56:07.266Z"
   },
   {
    "duration": 116,
    "start_time": "2022-03-25T13:56:07.275Z"
   },
   {
    "duration": 3,
    "start_time": "2022-03-25T13:56:07.392Z"
   },
   {
    "duration": 94,
    "start_time": "2022-03-25T13:56:07.396Z"
   },
   {
    "duration": 4,
    "start_time": "2022-03-25T13:56:07.492Z"
   },
   {
    "duration": 81,
    "start_time": "2022-03-25T13:56:07.498Z"
   },
   {
    "duration": 24,
    "start_time": "2022-03-25T13:56:07.581Z"
   },
   {
    "duration": 6,
    "start_time": "2022-03-25T13:56:07.606Z"
   },
   {
    "duration": 93,
    "start_time": "2022-03-25T13:56:07.614Z"
   },
   {
    "duration": 10,
    "start_time": "2022-03-25T13:56:07.709Z"
   },
   {
    "duration": 11,
    "start_time": "2022-03-25T13:56:07.721Z"
   },
   {
    "duration": 79,
    "start_time": "2022-03-25T13:56:07.734Z"
   },
   {
    "duration": 3,
    "start_time": "2022-03-25T13:56:07.815Z"
   },
   {
    "duration": 11,
    "start_time": "2022-03-25T13:56:07.819Z"
   },
   {
    "duration": 4,
    "start_time": "2022-03-25T13:56:07.832Z"
   },
   {
    "duration": 53,
    "start_time": "2022-03-25T13:56:07.837Z"
   },
   {
    "duration": 12,
    "start_time": "2022-03-25T13:56:07.892Z"
   },
   {
    "duration": 14,
    "start_time": "2022-03-25T13:56:07.906Z"
   },
   {
    "duration": 5,
    "start_time": "2022-03-25T13:56:07.921Z"
   },
   {
    "duration": 7,
    "start_time": "2022-03-25T13:56:07.928Z"
   },
   {
    "duration": 25,
    "start_time": "2022-03-25T13:56:07.937Z"
   },
   {
    "duration": 99,
    "start_time": "2022-03-25T13:56:07.964Z"
   },
   {
    "duration": 14,
    "start_time": "2022-03-25T13:56:08.065Z"
   },
   {
    "duration": 4,
    "start_time": "2022-03-25T13:56:37.875Z"
   },
   {
    "duration": 102,
    "start_time": "2022-03-25T13:56:38.282Z"
   },
   {
    "duration": 14,
    "start_time": "2022-03-25T13:56:38.707Z"
   },
   {
    "duration": 11,
    "start_time": "2022-03-25T14:22:26.485Z"
   },
   {
    "duration": 10,
    "start_time": "2022-03-25T14:33:08.960Z"
   },
   {
    "duration": 60,
    "start_time": "2022-03-25T16:45:41.799Z"
   },
   {
    "duration": 1710,
    "start_time": "2022-03-25T16:45:45.685Z"
   },
   {
    "duration": 535,
    "start_time": "2022-03-25T16:45:47.397Z"
   },
   {
    "duration": 4,
    "start_time": "2022-03-25T16:45:47.934Z"
   },
   {
    "duration": 6,
    "start_time": "2022-03-25T16:45:47.941Z"
   },
   {
    "duration": 161,
    "start_time": "2022-03-25T16:45:47.951Z"
   },
   {
    "duration": 4,
    "start_time": "2022-03-25T16:45:48.114Z"
   },
   {
    "duration": 132,
    "start_time": "2022-03-25T16:45:48.121Z"
   },
   {
    "duration": 7,
    "start_time": "2022-03-25T16:45:48.255Z"
   },
   {
    "duration": 118,
    "start_time": "2022-03-25T16:45:48.264Z"
   },
   {
    "duration": 40,
    "start_time": "2022-03-25T16:45:48.383Z"
   },
   {
    "duration": 10,
    "start_time": "2022-03-25T16:45:48.425Z"
   },
   {
    "duration": 92,
    "start_time": "2022-03-25T16:45:48.437Z"
   },
   {
    "duration": 11,
    "start_time": "2022-03-25T16:45:48.531Z"
   },
   {
    "duration": 11,
    "start_time": "2022-03-25T16:45:48.546Z"
   },
   {
    "duration": 108,
    "start_time": "2022-03-25T16:45:48.559Z"
   },
   {
    "duration": 4,
    "start_time": "2022-03-25T16:45:48.669Z"
   },
   {
    "duration": 11,
    "start_time": "2022-03-25T16:45:48.674Z"
   },
   {
    "duration": 15,
    "start_time": "2022-03-25T16:45:48.687Z"
   },
   {
    "duration": 41,
    "start_time": "2022-03-25T16:45:48.705Z"
   },
   {
    "duration": 17,
    "start_time": "2022-03-25T16:45:48.748Z"
   },
   {
    "duration": 44,
    "start_time": "2022-03-25T16:45:48.767Z"
   },
   {
    "duration": 5,
    "start_time": "2022-03-25T16:45:48.814Z"
   },
   {
    "duration": 8,
    "start_time": "2022-03-25T16:45:48.821Z"
   },
   {
    "duration": 7,
    "start_time": "2022-03-25T16:45:48.831Z"
   },
   {
    "duration": 149,
    "start_time": "2022-03-25T16:45:48.840Z"
   },
   {
    "duration": 16,
    "start_time": "2022-03-25T16:45:48.991Z"
   },
   {
    "duration": 14,
    "start_time": "2022-03-25T16:49:12.135Z"
   },
   {
    "duration": 18,
    "start_time": "2022-03-25T16:49:34.398Z"
   },
   {
    "duration": 14,
    "start_time": "2022-03-25T16:50:17.061Z"
   },
   {
    "duration": 5,
    "start_time": "2022-03-25T16:50:44.434Z"
   },
   {
    "duration": 196,
    "start_time": "2022-03-25T16:51:15.715Z"
   },
   {
    "duration": 3,
    "start_time": "2022-03-25T16:55:05.962Z"
   },
   {
    "duration": 198,
    "start_time": "2022-03-25T17:02:52.654Z"
   },
   {
    "duration": 196,
    "start_time": "2022-03-25T17:03:00.789Z"
   },
   {
    "duration": 79,
    "start_time": "2022-03-25T17:03:07.699Z"
   },
   {
    "duration": 4,
    "start_time": "2022-03-25T17:03:14.299Z"
   },
   {
    "duration": 2028,
    "start_time": "2022-03-25T17:03:14.306Z"
   },
   {
    "duration": 6,
    "start_time": "2022-03-25T17:03:16.337Z"
   },
   {
    "duration": 6,
    "start_time": "2022-03-25T17:03:16.345Z"
   },
   {
    "duration": 158,
    "start_time": "2022-03-25T17:03:16.353Z"
   },
   {
    "duration": 5,
    "start_time": "2022-03-25T17:03:16.513Z"
   },
   {
    "duration": 118,
    "start_time": "2022-03-25T17:03:16.520Z"
   },
   {
    "duration": 6,
    "start_time": "2022-03-25T17:03:16.640Z"
   },
   {
    "duration": 109,
    "start_time": "2022-03-25T17:03:16.648Z"
   },
   {
    "duration": 50,
    "start_time": "2022-03-25T17:03:16.759Z"
   },
   {
    "duration": 90,
    "start_time": "2022-03-25T17:03:16.813Z"
   },
   {
    "duration": 13,
    "start_time": "2022-03-25T17:03:16.905Z"
   },
   {
    "duration": 105,
    "start_time": "2022-03-25T17:03:16.920Z"
   },
   {
    "duration": 5,
    "start_time": "2022-03-25T17:03:17.027Z"
   },
   {
    "duration": 13,
    "start_time": "2022-03-25T17:03:17.033Z"
   },
   {
    "duration": 7,
    "start_time": "2022-03-25T17:03:17.048Z"
   },
   {
    "duration": 69,
    "start_time": "2022-03-25T17:03:17.057Z"
   },
   {
    "duration": 19,
    "start_time": "2022-03-25T17:03:17.128Z"
   },
   {
    "duration": 14,
    "start_time": "2022-03-25T17:03:17.149Z"
   },
   {
    "duration": 5,
    "start_time": "2022-03-25T17:03:17.165Z"
   },
   {
    "duration": 35,
    "start_time": "2022-03-25T17:03:17.172Z"
   },
   {
    "duration": 6,
    "start_time": "2022-03-25T17:03:17.210Z"
   },
   {
    "duration": 153,
    "start_time": "2022-03-25T17:03:17.218Z"
   },
   {
    "duration": 13,
    "start_time": "2022-03-25T17:03:17.373Z"
   },
   {
    "duration": 31,
    "start_time": "2022-03-25T17:03:17.388Z"
   },
   {
    "duration": 11,
    "start_time": "2022-03-25T17:03:48.375Z"
   },
   {
    "duration": 12,
    "start_time": "2022-03-25T17:04:03.828Z"
   },
   {
    "duration": 19,
    "start_time": "2022-03-25T17:04:43.135Z"
   },
   {
    "duration": 19,
    "start_time": "2022-03-25T17:05:11.443Z"
   },
   {
    "duration": 11,
    "start_time": "2022-03-25T17:06:01.292Z"
   },
   {
    "duration": 7,
    "start_time": "2022-03-25T17:06:08.733Z"
   },
   {
    "duration": 35,
    "start_time": "2022-03-25T17:08:42.501Z"
   },
   {
    "duration": 46,
    "start_time": "2022-03-25T17:08:44.596Z"
   },
   {
    "duration": 14,
    "start_time": "2022-03-25T17:09:04.357Z"
   },
   {
    "duration": 20,
    "start_time": "2022-03-25T17:09:06.207Z"
   },
   {
    "duration": 202,
    "start_time": "2022-03-25T17:10:37.801Z"
   },
   {
    "duration": 11,
    "start_time": "2022-03-25T17:10:42.454Z"
   },
   {
    "duration": 7,
    "start_time": "2022-03-25T17:10:44.731Z"
   },
   {
    "duration": 15,
    "start_time": "2022-03-25T17:11:23.030Z"
   },
   {
    "duration": 9,
    "start_time": "2022-03-25T17:11:24.353Z"
   },
   {
    "duration": 190,
    "start_time": "2022-03-25T17:13:45.165Z"
   },
   {
    "duration": 197,
    "start_time": "2022-03-25T17:13:59.375Z"
   },
   {
    "duration": 13,
    "start_time": "2022-03-25T17:14:06.556Z"
   },
   {
    "duration": 12,
    "start_time": "2022-03-25T17:14:06.955Z"
   },
   {
    "duration": 7361,
    "start_time": "2022-03-25T17:20:18.152Z"
   },
   {
    "duration": 298,
    "start_time": "2022-03-25T17:25:10.582Z"
   },
   {
    "duration": 243,
    "start_time": "2022-03-25T17:26:47.371Z"
   },
   {
    "duration": 196,
    "start_time": "2022-03-25T17:26:54.846Z"
   },
   {
    "duration": 205,
    "start_time": "2022-03-25T17:27:05.193Z"
   },
   {
    "duration": 3,
    "start_time": "2022-03-25T17:27:30.979Z"
   },
   {
    "duration": 473,
    "start_time": "2022-03-25T17:27:36.465Z"
   },
   {
    "duration": 20,
    "start_time": "2022-03-25T17:28:44.314Z"
   },
   {
    "duration": 8,
    "start_time": "2022-03-25T17:29:25.078Z"
   },
   {
    "duration": 14,
    "start_time": "2022-03-25T17:30:14.577Z"
   },
   {
    "duration": 5,
    "start_time": "2022-03-25T17:37:15.166Z"
   },
   {
    "duration": 16,
    "start_time": "2022-03-25T17:39:14.171Z"
   },
   {
    "duration": 490,
    "start_time": "2022-03-25T17:39:24.795Z"
   },
   {
    "duration": 474,
    "start_time": "2022-03-25T17:40:36.203Z"
   },
   {
    "duration": 3531,
    "start_time": "2022-03-25T17:41:19.025Z"
   },
   {
    "duration": 14,
    "start_time": "2022-03-25T17:41:31.475Z"
   },
   {
    "duration": 13,
    "start_time": "2022-03-25T17:41:44.169Z"
   },
   {
    "duration": 9,
    "start_time": "2022-03-25T17:43:35.855Z"
   },
   {
    "duration": 11,
    "start_time": "2022-03-25T17:43:44.490Z"
   },
   {
    "duration": 17,
    "start_time": "2022-03-25T17:43:53.006Z"
   },
   {
    "duration": 13,
    "start_time": "2022-03-25T17:46:29.530Z"
   },
   {
    "duration": 7,
    "start_time": "2022-03-25T17:46:40.482Z"
   },
   {
    "duration": 14,
    "start_time": "2022-03-25T17:46:45.288Z"
   },
   {
    "duration": 12,
    "start_time": "2022-03-25T17:46:57.668Z"
   },
   {
    "duration": 17,
    "start_time": "2022-03-25T17:48:42.363Z"
   },
   {
    "duration": 3,
    "start_time": "2022-03-25T17:49:12.210Z"
   },
   {
    "duration": 518,
    "start_time": "2022-03-25T17:49:12.215Z"
   },
   {
    "duration": 3,
    "start_time": "2022-03-25T17:49:12.735Z"
   },
   {
    "duration": 30,
    "start_time": "2022-03-25T17:49:12.740Z"
   },
   {
    "duration": 171,
    "start_time": "2022-03-25T17:49:12.773Z"
   },
   {
    "duration": 4,
    "start_time": "2022-03-25T17:49:12.946Z"
   },
   {
    "duration": 115,
    "start_time": "2022-03-25T17:49:12.952Z"
   },
   {
    "duration": 7,
    "start_time": "2022-03-25T17:49:13.069Z"
   },
   {
    "duration": 116,
    "start_time": "2022-03-25T17:49:13.077Z"
   },
   {
    "duration": 28,
    "start_time": "2022-03-25T17:49:13.195Z"
   },
   {
    "duration": 77,
    "start_time": "2022-03-25T17:49:13.225Z"
   },
   {
    "duration": 9,
    "start_time": "2022-03-25T17:49:13.304Z"
   },
   {
    "duration": 105,
    "start_time": "2022-03-25T17:49:13.315Z"
   },
   {
    "duration": 4,
    "start_time": "2022-03-25T17:49:13.423Z"
   },
   {
    "duration": 31,
    "start_time": "2022-03-25T17:49:13.429Z"
   },
   {
    "duration": 28,
    "start_time": "2022-03-25T17:49:13.462Z"
   },
   {
    "duration": 63,
    "start_time": "2022-03-25T17:49:13.491Z"
   },
   {
    "duration": 21,
    "start_time": "2022-03-25T17:49:13.556Z"
   },
   {
    "duration": 30,
    "start_time": "2022-03-25T17:49:13.579Z"
   },
   {
    "duration": 23,
    "start_time": "2022-03-25T17:49:13.611Z"
   },
   {
    "duration": 17,
    "start_time": "2022-03-25T17:49:13.635Z"
   },
   {
    "duration": 27,
    "start_time": "2022-03-25T17:49:13.654Z"
   },
   {
    "duration": 130,
    "start_time": "2022-03-25T17:49:13.683Z"
   },
   {
    "duration": 11,
    "start_time": "2022-03-25T17:49:13.815Z"
   },
   {
    "duration": 30,
    "start_time": "2022-03-25T17:49:13.828Z"
   },
   {
    "duration": 15,
    "start_time": "2022-03-25T17:49:13.860Z"
   },
   {
    "duration": 34,
    "start_time": "2022-03-25T17:49:13.877Z"
   },
   {
    "duration": 16,
    "start_time": "2022-03-25T17:49:29.502Z"
   },
   {
    "duration": 17,
    "start_time": "2022-03-25T17:50:08.357Z"
   },
   {
    "duration": 4,
    "start_time": "2022-03-25T17:50:16.877Z"
   },
   {
    "duration": 510,
    "start_time": "2022-03-25T17:50:16.883Z"
   },
   {
    "duration": 6,
    "start_time": "2022-03-25T17:50:17.395Z"
   },
   {
    "duration": 6,
    "start_time": "2022-03-25T17:50:17.403Z"
   },
   {
    "duration": 138,
    "start_time": "2022-03-25T17:50:17.411Z"
   },
   {
    "duration": 3,
    "start_time": "2022-03-25T17:50:17.551Z"
   },
   {
    "duration": 114,
    "start_time": "2022-03-25T17:50:17.556Z"
   },
   {
    "duration": 7,
    "start_time": "2022-03-25T17:50:17.672Z"
   },
   {
    "duration": 108,
    "start_time": "2022-03-25T17:50:17.681Z"
   },
   {
    "duration": 29,
    "start_time": "2022-03-25T17:50:17.801Z"
   },
   {
    "duration": 80,
    "start_time": "2022-03-25T17:50:17.831Z"
   },
   {
    "duration": 10,
    "start_time": "2022-03-25T17:50:17.913Z"
   },
   {
    "duration": 93,
    "start_time": "2022-03-25T17:50:17.925Z"
   },
   {
    "duration": 4,
    "start_time": "2022-03-25T17:50:18.022Z"
   },
   {
    "duration": 11,
    "start_time": "2022-03-25T17:50:18.028Z"
   },
   {
    "duration": 5,
    "start_time": "2022-03-25T17:50:18.041Z"
   },
   {
    "duration": 64,
    "start_time": "2022-03-25T17:50:18.049Z"
   },
   {
    "duration": 15,
    "start_time": "2022-03-25T17:50:18.115Z"
   },
   {
    "duration": 15,
    "start_time": "2022-03-25T17:50:18.132Z"
   },
   {
    "duration": 9,
    "start_time": "2022-03-25T17:50:18.148Z"
   },
   {
    "duration": 23,
    "start_time": "2022-03-25T17:50:18.158Z"
   },
   {
    "duration": 19,
    "start_time": "2022-03-25T17:50:18.183Z"
   },
   {
    "duration": 126,
    "start_time": "2022-03-25T17:50:18.204Z"
   },
   {
    "duration": 11,
    "start_time": "2022-03-25T17:50:18.332Z"
   },
   {
    "duration": 15,
    "start_time": "2022-03-25T17:50:18.345Z"
   },
   {
    "duration": 11,
    "start_time": "2022-03-25T17:50:18.361Z"
   },
   {
    "duration": 40,
    "start_time": "2022-03-25T17:50:18.374Z"
   },
   {
    "duration": 9,
    "start_time": "2022-03-25T17:50:28.444Z"
   },
   {
    "duration": 8,
    "start_time": "2022-03-25T17:50:33.725Z"
   },
   {
    "duration": 9,
    "start_time": "2022-03-25T17:53:40.763Z"
   },
   {
    "duration": 10,
    "start_time": "2022-03-25T17:53:59.968Z"
   },
   {
    "duration": 15,
    "start_time": "2022-03-25T17:54:09.783Z"
   },
   {
    "duration": 8,
    "start_time": "2022-03-25T18:13:00.088Z"
   },
   {
    "duration": 9,
    "start_time": "2022-03-25T18:13:09.200Z"
   },
   {
    "duration": 10,
    "start_time": "2022-03-25T18:13:16.111Z"
   },
   {
    "duration": 9,
    "start_time": "2022-03-25T18:13:27.167Z"
   },
   {
    "duration": 9,
    "start_time": "2022-03-25T18:13:38.534Z"
   },
   {
    "duration": 7,
    "start_time": "2022-03-25T18:19:03.937Z"
   },
   {
    "duration": 12,
    "start_time": "2022-03-25T18:19:04.303Z"
   },
   {
    "duration": 8,
    "start_time": "2022-03-25T18:19:45.026Z"
   },
   {
    "duration": 8,
    "start_time": "2022-03-25T18:19:45.142Z"
   },
   {
    "duration": 31,
    "start_time": "2022-03-25T18:24:55.907Z"
   },
   {
    "duration": 16,
    "start_time": "2022-03-25T18:24:56.725Z"
   },
   {
    "duration": 204,
    "start_time": "2022-03-25T18:34:24.356Z"
   },
   {
    "duration": 33,
    "start_time": "2022-03-25T18:34:44.295Z"
   },
   {
    "duration": 32,
    "start_time": "2022-03-25T18:34:52.885Z"
   },
   {
    "duration": 20,
    "start_time": "2022-03-25T18:34:56.925Z"
   },
   {
    "duration": 30,
    "start_time": "2022-03-25T18:36:10.417Z"
   },
   {
    "duration": 15,
    "start_time": "2022-03-25T18:36:12.215Z"
   },
   {
    "duration": 33,
    "start_time": "2022-03-25T18:38:20.125Z"
   },
   {
    "duration": 48,
    "start_time": "2022-03-25T18:38:31.100Z"
   },
   {
    "duration": 27,
    "start_time": "2022-03-25T18:38:43.061Z"
   },
   {
    "duration": 32,
    "start_time": "2022-03-25T18:39:05.577Z"
   },
   {
    "duration": 29,
    "start_time": "2022-03-25T18:39:52.855Z"
   },
   {
    "duration": 20,
    "start_time": "2022-03-25T18:39:53.979Z"
   },
   {
    "duration": 10,
    "start_time": "2022-03-25T18:41:05.015Z"
   },
   {
    "duration": 27,
    "start_time": "2022-03-25T18:41:13.321Z"
   },
   {
    "duration": 28,
    "start_time": "2022-03-25T18:41:44.883Z"
   },
   {
    "duration": 30,
    "start_time": "2022-03-25T18:41:55.076Z"
   },
   {
    "duration": 15,
    "start_time": "2022-03-25T18:42:20.634Z"
   },
   {
    "duration": 30,
    "start_time": "2022-03-25T18:42:28.206Z"
   },
   {
    "duration": 4,
    "start_time": "2022-03-25T18:48:03.194Z"
   },
   {
    "duration": 732,
    "start_time": "2022-03-25T18:48:03.200Z"
   },
   {
    "duration": 5,
    "start_time": "2022-03-25T18:48:03.940Z"
   },
   {
    "duration": 11,
    "start_time": "2022-03-25T18:48:03.947Z"
   },
   {
    "duration": 239,
    "start_time": "2022-03-25T18:48:03.962Z"
   },
   {
    "duration": 4,
    "start_time": "2022-03-25T18:48:04.205Z"
   },
   {
    "duration": 160,
    "start_time": "2022-03-25T18:48:04.211Z"
   },
   {
    "duration": 8,
    "start_time": "2022-03-25T18:48:04.373Z"
   },
   {
    "duration": 112,
    "start_time": "2022-03-25T18:48:04.382Z"
   },
   {
    "duration": 45,
    "start_time": "2022-03-25T18:48:04.500Z"
   },
   {
    "duration": 94,
    "start_time": "2022-03-25T18:48:04.547Z"
   },
   {
    "duration": 12,
    "start_time": "2022-03-25T18:48:04.643Z"
   },
   {
    "duration": 104,
    "start_time": "2022-03-25T18:48:04.658Z"
   },
   {
    "duration": 5,
    "start_time": "2022-03-25T18:48:04.766Z"
   },
   {
    "duration": 29,
    "start_time": "2022-03-25T18:48:04.773Z"
   },
   {
    "duration": 15,
    "start_time": "2022-03-25T18:48:04.805Z"
   },
   {
    "duration": 57,
    "start_time": "2022-03-25T18:48:04.825Z"
   },
   {
    "duration": 38,
    "start_time": "2022-03-25T18:48:04.884Z"
   },
   {
    "duration": 26,
    "start_time": "2022-03-25T18:48:04.925Z"
   },
   {
    "duration": 10,
    "start_time": "2022-03-25T18:48:04.954Z"
   },
   {
    "duration": 36,
    "start_time": "2022-03-25T18:48:04.966Z"
   },
   {
    "duration": 23,
    "start_time": "2022-03-25T18:48:05.005Z"
   },
   {
    "duration": 184,
    "start_time": "2022-03-25T18:48:05.031Z"
   },
   {
    "duration": 23,
    "start_time": "2022-03-25T18:48:05.218Z"
   },
   {
    "duration": 47,
    "start_time": "2022-03-25T18:48:05.246Z"
   },
   {
    "duration": 45,
    "start_time": "2022-03-25T18:48:05.296Z"
   },
   {
    "duration": 5,
    "start_time": "2022-03-25T18:49:39.836Z"
   },
   {
    "duration": 490,
    "start_time": "2022-03-25T18:49:39.844Z"
   },
   {
    "duration": 6,
    "start_time": "2022-03-25T18:49:40.336Z"
   },
   {
    "duration": 5,
    "start_time": "2022-03-25T18:49:40.345Z"
   },
   {
    "duration": 179,
    "start_time": "2022-03-25T18:49:40.353Z"
   },
   {
    "duration": 5,
    "start_time": "2022-03-25T18:49:40.535Z"
   },
   {
    "duration": 118,
    "start_time": "2022-03-25T18:49:40.542Z"
   },
   {
    "duration": 6,
    "start_time": "2022-03-25T18:49:40.662Z"
   },
   {
    "duration": 102,
    "start_time": "2022-03-25T18:49:40.670Z"
   },
   {
    "duration": 50,
    "start_time": "2022-03-25T18:49:40.774Z"
   },
   {
    "duration": 82,
    "start_time": "2022-03-25T18:49:40.826Z"
   },
   {
    "duration": 15,
    "start_time": "2022-03-25T18:49:40.911Z"
   },
   {
    "duration": 98,
    "start_time": "2022-03-25T18:49:40.930Z"
   },
   {
    "duration": 4,
    "start_time": "2022-03-25T18:49:41.032Z"
   },
   {
    "duration": 11,
    "start_time": "2022-03-25T18:49:41.039Z"
   },
   {
    "duration": 4,
    "start_time": "2022-03-25T18:49:41.052Z"
   },
   {
    "duration": 69,
    "start_time": "2022-03-25T18:49:41.058Z"
   },
   {
    "duration": 14,
    "start_time": "2022-03-25T18:49:41.129Z"
   },
   {
    "duration": 18,
    "start_time": "2022-03-25T18:49:41.145Z"
   },
   {
    "duration": 6,
    "start_time": "2022-03-25T18:49:41.165Z"
   },
   {
    "duration": 32,
    "start_time": "2022-03-25T18:49:41.173Z"
   },
   {
    "duration": 8,
    "start_time": "2022-03-25T18:49:41.208Z"
   },
   {
    "duration": 159,
    "start_time": "2022-03-25T18:49:41.218Z"
   },
   {
    "duration": 10,
    "start_time": "2022-03-25T18:49:41.379Z"
   },
   {
    "duration": 34,
    "start_time": "2022-03-25T18:49:41.402Z"
   },
   {
    "duration": 29,
    "start_time": "2022-03-25T18:49:41.439Z"
   },
   {
    "duration": 185,
    "start_time": "2022-03-25T18:50:47.996Z"
   },
   {
    "duration": 29,
    "start_time": "2022-03-25T18:50:59.683Z"
   },
   {
    "duration": 31,
    "start_time": "2022-03-25T18:51:01.860Z"
   },
   {
    "duration": 16,
    "start_time": "2022-03-25T18:54:42.700Z"
   },
   {
    "duration": 8,
    "start_time": "2022-03-25T18:54:51.777Z"
   },
   {
    "duration": 158,
    "start_time": "2022-03-25T18:55:03.438Z"
   },
   {
    "duration": 178,
    "start_time": "2022-03-25T18:55:13.681Z"
   },
   {
    "duration": 5,
    "start_time": "2022-03-25T18:56:16.921Z"
   },
   {
    "duration": 60,
    "start_time": "2022-03-25T18:57:18.376Z"
   },
   {
    "duration": 218,
    "start_time": "2022-03-25T18:58:51.098Z"
   },
   {
    "duration": 192,
    "start_time": "2022-03-25T18:59:17.784Z"
   },
   {
    "duration": 39,
    "start_time": "2022-03-25T18:59:49.105Z"
   },
   {
    "duration": 4,
    "start_time": "2022-03-25T19:02:27.508Z"
   },
   {
    "duration": 456,
    "start_time": "2022-03-25T19:02:27.514Z"
   },
   {
    "duration": 4,
    "start_time": "2022-03-25T19:02:27.972Z"
   },
   {
    "duration": 5,
    "start_time": "2022-03-25T19:02:27.977Z"
   },
   {
    "duration": 145,
    "start_time": "2022-03-25T19:02:27.985Z"
   },
   {
    "duration": 3,
    "start_time": "2022-03-25T19:02:28.132Z"
   },
   {
    "duration": 124,
    "start_time": "2022-03-25T19:02:28.136Z"
   },
   {
    "duration": 6,
    "start_time": "2022-03-25T19:02:28.262Z"
   },
   {
    "duration": 94,
    "start_time": "2022-03-25T19:02:28.270Z"
   },
   {
    "duration": 36,
    "start_time": "2022-03-25T19:02:28.366Z"
   },
   {
    "duration": 67,
    "start_time": "2022-03-25T19:02:28.405Z"
   },
   {
    "duration": 9,
    "start_time": "2022-03-25T19:02:28.474Z"
   },
   {
    "duration": 90,
    "start_time": "2022-03-25T19:02:28.485Z"
   },
   {
    "duration": 4,
    "start_time": "2022-03-25T19:02:28.578Z"
   },
   {
    "duration": 10,
    "start_time": "2022-03-25T19:02:28.602Z"
   },
   {
    "duration": 6,
    "start_time": "2022-03-25T19:02:28.614Z"
   },
   {
    "duration": 42,
    "start_time": "2022-03-25T19:02:28.622Z"
   },
   {
    "duration": 38,
    "start_time": "2022-03-25T19:02:28.666Z"
   },
   {
    "duration": 12,
    "start_time": "2022-03-25T19:02:28.707Z"
   },
   {
    "duration": 5,
    "start_time": "2022-03-25T19:02:28.721Z"
   },
   {
    "duration": 7,
    "start_time": "2022-03-25T19:02:28.728Z"
   },
   {
    "duration": 7,
    "start_time": "2022-03-25T19:02:28.737Z"
   },
   {
    "duration": 170,
    "start_time": "2022-03-25T19:02:28.746Z"
   },
   {
    "duration": 14,
    "start_time": "2022-03-25T19:02:28.918Z"
   },
   {
    "duration": 82,
    "start_time": "2022-03-25T19:02:28.934Z"
   },
   {
    "duration": 34,
    "start_time": "2022-03-25T19:02:29.018Z"
   },
   {
    "duration": 5,
    "start_time": "2022-03-25T19:02:29.054Z"
   },
   {
    "duration": 5,
    "start_time": "2022-03-25T19:06:10.679Z"
   },
   {
    "duration": 3,
    "start_time": "2022-03-25T19:06:16.875Z"
   },
   {
    "duration": 544,
    "start_time": "2022-03-25T19:06:16.882Z"
   },
   {
    "duration": 6,
    "start_time": "2022-03-25T19:06:17.428Z"
   },
   {
    "duration": 12,
    "start_time": "2022-03-25T19:06:17.436Z"
   },
   {
    "duration": 181,
    "start_time": "2022-03-25T19:06:17.451Z"
   },
   {
    "duration": 4,
    "start_time": "2022-03-25T19:06:17.634Z"
   },
   {
    "duration": 122,
    "start_time": "2022-03-25T19:06:17.640Z"
   },
   {
    "duration": 7,
    "start_time": "2022-03-25T19:06:17.764Z"
   },
   {
    "duration": 105,
    "start_time": "2022-03-25T19:06:17.773Z"
   },
   {
    "duration": 49,
    "start_time": "2022-03-25T19:06:17.880Z"
   },
   {
    "duration": 85,
    "start_time": "2022-03-25T19:06:17.931Z"
   },
   {
    "duration": 12,
    "start_time": "2022-03-25T19:06:18.019Z"
   },
   {
    "duration": 100,
    "start_time": "2022-03-25T19:06:18.033Z"
   },
   {
    "duration": 4,
    "start_time": "2022-03-25T19:06:18.136Z"
   },
   {
    "duration": 33,
    "start_time": "2022-03-25T19:06:18.142Z"
   },
   {
    "duration": 23,
    "start_time": "2022-03-25T19:06:18.177Z"
   },
   {
    "duration": 53,
    "start_time": "2022-03-25T19:06:18.204Z"
   },
   {
    "duration": 13,
    "start_time": "2022-03-25T19:06:18.259Z"
   },
   {
    "duration": 34,
    "start_time": "2022-03-25T19:06:18.274Z"
   },
   {
    "duration": 12,
    "start_time": "2022-03-25T19:06:18.311Z"
   },
   {
    "duration": 26,
    "start_time": "2022-03-25T19:06:18.325Z"
   },
   {
    "duration": 21,
    "start_time": "2022-03-25T19:06:18.354Z"
   },
   {
    "duration": 158,
    "start_time": "2022-03-25T19:06:18.377Z"
   },
   {
    "duration": 13,
    "start_time": "2022-03-25T19:06:18.538Z"
   },
   {
    "duration": 77,
    "start_time": "2022-03-25T19:06:18.553Z"
   },
   {
    "duration": 33,
    "start_time": "2022-03-25T19:06:18.633Z"
   },
   {
    "duration": 5,
    "start_time": "2022-03-25T19:06:18.667Z"
   },
   {
    "duration": 13,
    "start_time": "2022-03-25T19:08:16.983Z"
   },
   {
    "duration": 3,
    "start_time": "2022-03-25T19:08:20.863Z"
   },
   {
    "duration": 559,
    "start_time": "2022-03-25T19:08:20.869Z"
   },
   {
    "duration": 7,
    "start_time": "2022-03-25T19:08:21.430Z"
   },
   {
    "duration": 8,
    "start_time": "2022-03-25T19:08:21.439Z"
   },
   {
    "duration": 157,
    "start_time": "2022-03-25T19:08:21.451Z"
   },
   {
    "duration": 4,
    "start_time": "2022-03-25T19:08:21.610Z"
   },
   {
    "duration": 126,
    "start_time": "2022-03-25T19:08:21.617Z"
   },
   {
    "duration": 6,
    "start_time": "2022-03-25T19:08:21.746Z"
   },
   {
    "duration": 103,
    "start_time": "2022-03-25T19:08:21.754Z"
   },
   {
    "duration": 43,
    "start_time": "2022-03-25T19:08:21.859Z"
   },
   {
    "duration": 68,
    "start_time": "2022-03-25T19:08:21.906Z"
   },
   {
    "duration": 8,
    "start_time": "2022-03-25T19:08:21.976Z"
   },
   {
    "duration": 76,
    "start_time": "2022-03-25T19:08:22.002Z"
   },
   {
    "duration": 24,
    "start_time": "2022-03-25T19:08:22.080Z"
   },
   {
    "duration": 6,
    "start_time": "2022-03-25T19:08:22.107Z"
   },
   {
    "duration": 11,
    "start_time": "2022-03-25T19:08:22.115Z"
   },
   {
    "duration": 6,
    "start_time": "2022-03-25T19:08:22.128Z"
   },
   {
    "duration": 79,
    "start_time": "2022-03-25T19:08:22.136Z"
   },
   {
    "duration": 16,
    "start_time": "2022-03-25T19:08:22.217Z"
   },
   {
    "duration": 23,
    "start_time": "2022-03-25T19:08:22.235Z"
   },
   {
    "duration": 7,
    "start_time": "2022-03-25T19:08:22.260Z"
   },
   {
    "duration": 12,
    "start_time": "2022-03-25T19:08:22.268Z"
   },
   {
    "duration": 22,
    "start_time": "2022-03-25T19:08:22.282Z"
   },
   {
    "duration": 140,
    "start_time": "2022-03-25T19:08:22.306Z"
   },
   {
    "duration": 13,
    "start_time": "2022-03-25T19:08:22.448Z"
   },
   {
    "duration": 77,
    "start_time": "2022-03-25T19:08:22.463Z"
   },
   {
    "duration": 30,
    "start_time": "2022-03-25T19:08:22.543Z"
   },
   {
    "duration": 5,
    "start_time": "2022-03-25T19:08:22.574Z"
   },
   {
    "duration": 10,
    "start_time": "2022-03-25T19:11:42.907Z"
   },
   {
    "duration": 6,
    "start_time": "2022-03-25T19:11:54.828Z"
   },
   {
    "duration": 494,
    "start_time": "2022-03-25T19:11:54.837Z"
   },
   {
    "duration": 6,
    "start_time": "2022-03-25T19:11:55.333Z"
   },
   {
    "duration": 5,
    "start_time": "2022-03-25T19:11:55.341Z"
   },
   {
    "duration": 160,
    "start_time": "2022-03-25T19:11:55.348Z"
   },
   {
    "duration": 4,
    "start_time": "2022-03-25T19:11:55.512Z"
   },
   {
    "duration": 109,
    "start_time": "2022-03-25T19:11:55.518Z"
   },
   {
    "duration": 7,
    "start_time": "2022-03-25T19:11:55.630Z"
   },
   {
    "duration": 101,
    "start_time": "2022-03-25T19:11:55.639Z"
   },
   {
    "duration": 30,
    "start_time": "2022-03-25T19:11:55.742Z"
   },
   {
    "duration": 86,
    "start_time": "2022-03-25T19:11:55.773Z"
   },
   {
    "duration": 12,
    "start_time": "2022-03-25T19:11:55.861Z"
   },
   {
    "duration": 93,
    "start_time": "2022-03-25T19:11:55.875Z"
   },
   {
    "duration": 12,
    "start_time": "2022-03-25T19:11:55.971Z"
   },
   {
    "duration": 24,
    "start_time": "2022-03-25T19:11:55.985Z"
   },
   {
    "duration": 11,
    "start_time": "2022-03-25T19:11:56.011Z"
   },
   {
    "duration": 5,
    "start_time": "2022-03-25T19:11:56.024Z"
   },
   {
    "duration": 41,
    "start_time": "2022-03-25T19:11:56.031Z"
   },
   {
    "duration": 43,
    "start_time": "2022-03-25T19:11:56.074Z"
   },
   {
    "duration": 16,
    "start_time": "2022-03-25T19:11:56.120Z"
   },
   {
    "duration": 6,
    "start_time": "2022-03-25T19:11:56.138Z"
   },
   {
    "duration": 6,
    "start_time": "2022-03-25T19:11:56.146Z"
   },
   {
    "duration": 6,
    "start_time": "2022-03-25T19:11:56.153Z"
   },
   {
    "duration": 170,
    "start_time": "2022-03-25T19:11:56.161Z"
   },
   {
    "duration": 9,
    "start_time": "2022-03-25T19:11:56.334Z"
   },
   {
    "duration": 62,
    "start_time": "2022-03-25T19:11:56.345Z"
   },
   {
    "duration": 46,
    "start_time": "2022-03-25T19:11:56.409Z"
   },
   {
    "duration": 5,
    "start_time": "2022-03-25T19:11:56.458Z"
   },
   {
    "duration": 4,
    "start_time": "2022-03-25T19:13:39.882Z"
   },
   {
    "duration": 589,
    "start_time": "2022-03-25T19:13:39.888Z"
   },
   {
    "duration": 7,
    "start_time": "2022-03-25T19:13:40.479Z"
   },
   {
    "duration": 7,
    "start_time": "2022-03-25T19:13:40.488Z"
   },
   {
    "duration": 222,
    "start_time": "2022-03-25T19:13:40.498Z"
   },
   {
    "duration": 5,
    "start_time": "2022-03-25T19:13:40.722Z"
   },
   {
    "duration": 131,
    "start_time": "2022-03-25T19:13:40.729Z"
   },
   {
    "duration": 7,
    "start_time": "2022-03-25T19:13:40.862Z"
   },
   {
    "duration": 123,
    "start_time": "2022-03-25T19:13:40.872Z"
   },
   {
    "duration": 44,
    "start_time": "2022-03-25T19:13:41.000Z"
   },
   {
    "duration": 96,
    "start_time": "2022-03-25T19:13:41.047Z"
   },
   {
    "duration": 11,
    "start_time": "2022-03-25T19:13:41.145Z"
   },
   {
    "duration": 107,
    "start_time": "2022-03-25T19:13:41.160Z"
   },
   {
    "duration": 16,
    "start_time": "2022-03-25T19:13:41.272Z"
   },
   {
    "duration": 20,
    "start_time": "2022-03-25T19:13:41.290Z"
   },
   {
    "duration": 32,
    "start_time": "2022-03-25T19:13:41.313Z"
   },
   {
    "duration": 16,
    "start_time": "2022-03-25T19:13:41.347Z"
   },
   {
    "duration": 53,
    "start_time": "2022-03-25T19:13:41.366Z"
   },
   {
    "duration": 18,
    "start_time": "2022-03-25T19:13:41.421Z"
   },
   {
    "duration": 22,
    "start_time": "2022-03-25T19:13:41.441Z"
   },
   {
    "duration": 11,
    "start_time": "2022-03-25T19:13:41.465Z"
   },
   {
    "duration": 33,
    "start_time": "2022-03-25T19:13:41.478Z"
   },
   {
    "duration": 21,
    "start_time": "2022-03-25T19:13:41.513Z"
   },
   {
    "duration": 128,
    "start_time": "2022-03-25T19:13:41.538Z"
   },
   {
    "duration": 0,
    "start_time": "2022-03-25T19:13:41.669Z"
   },
   {
    "duration": 0,
    "start_time": "2022-03-25T19:13:41.672Z"
   },
   {
    "duration": 0,
    "start_time": "2022-03-25T19:13:41.674Z"
   },
   {
    "duration": 0,
    "start_time": "2022-03-25T19:13:41.675Z"
   },
   {
    "duration": 20,
    "start_time": "2022-03-25T19:18:25.601Z"
   },
   {
    "duration": 3,
    "start_time": "2022-03-25T19:21:03.911Z"
   },
   {
    "duration": 521,
    "start_time": "2022-03-25T19:21:03.917Z"
   },
   {
    "duration": 6,
    "start_time": "2022-03-25T19:21:04.441Z"
   },
   {
    "duration": 10,
    "start_time": "2022-03-25T19:21:04.449Z"
   },
   {
    "duration": 173,
    "start_time": "2022-03-25T19:21:04.463Z"
   },
   {
    "duration": 4,
    "start_time": "2022-03-25T19:21:04.639Z"
   },
   {
    "duration": 124,
    "start_time": "2022-03-25T19:21:04.645Z"
   },
   {
    "duration": 6,
    "start_time": "2022-03-25T19:21:04.771Z"
   },
   {
    "duration": 109,
    "start_time": "2022-03-25T19:21:04.779Z"
   },
   {
    "duration": 45,
    "start_time": "2022-03-25T19:21:04.890Z"
   },
   {
    "duration": 88,
    "start_time": "2022-03-25T19:21:04.937Z"
   },
   {
    "duration": 11,
    "start_time": "2022-03-25T19:21:05.027Z"
   },
   {
    "duration": 91,
    "start_time": "2022-03-25T19:21:05.040Z"
   },
   {
    "duration": 3207,
    "start_time": "2022-03-25T19:21:05.134Z"
   },
   {
    "duration": 4,
    "start_time": "2022-03-25T19:21:35.766Z"
   },
   {
    "duration": 2505,
    "start_time": "2022-03-25T19:21:35.772Z"
   },
   {
    "duration": 5,
    "start_time": "2022-03-25T19:21:38.278Z"
   },
   {
    "duration": 6,
    "start_time": "2022-03-25T19:21:38.284Z"
   },
   {
    "duration": 151,
    "start_time": "2022-03-25T19:21:38.293Z"
   },
   {
    "duration": 3,
    "start_time": "2022-03-25T19:21:38.446Z"
   },
   {
    "duration": 120,
    "start_time": "2022-03-25T19:21:38.451Z"
   },
   {
    "duration": 5,
    "start_time": "2022-03-25T19:21:38.573Z"
   },
   {
    "duration": 95,
    "start_time": "2022-03-25T19:21:38.580Z"
   },
   {
    "duration": 46,
    "start_time": "2022-03-25T19:21:38.677Z"
   },
   {
    "duration": 88,
    "start_time": "2022-03-25T19:21:38.726Z"
   },
   {
    "duration": 11,
    "start_time": "2022-03-25T19:21:38.816Z"
   },
   {
    "duration": 90,
    "start_time": "2022-03-25T19:21:38.831Z"
   },
   {
    "duration": 18,
    "start_time": "2022-03-25T19:21:38.923Z"
   },
   {
    "duration": 5,
    "start_time": "2022-03-25T19:21:38.943Z"
   },
   {
    "duration": 5,
    "start_time": "2022-03-25T19:21:45.019Z"
   },
   {
    "duration": 8,
    "start_time": "2022-03-25T19:21:45.466Z"
   },
   {
    "duration": 2,
    "start_time": "2022-03-25T19:22:46.165Z"
   },
   {
    "duration": 541,
    "start_time": "2022-03-25T19:22:46.170Z"
   },
   {
    "duration": 7,
    "start_time": "2022-03-25T19:22:46.713Z"
   },
   {
    "duration": 12,
    "start_time": "2022-03-25T19:22:46.724Z"
   },
   {
    "duration": 195,
    "start_time": "2022-03-25T19:22:46.740Z"
   },
   {
    "duration": 4,
    "start_time": "2022-03-25T19:22:46.938Z"
   },
   {
    "duration": 131,
    "start_time": "2022-03-25T19:22:46.944Z"
   },
   {
    "duration": 8,
    "start_time": "2022-03-25T19:22:47.077Z"
   },
   {
    "duration": 127,
    "start_time": "2022-03-25T19:22:47.088Z"
   },
   {
    "duration": 29,
    "start_time": "2022-03-25T19:22:47.219Z"
   },
   {
    "duration": 94,
    "start_time": "2022-03-25T19:22:47.250Z"
   },
   {
    "duration": 12,
    "start_time": "2022-03-25T19:22:47.346Z"
   },
   {
    "duration": 103,
    "start_time": "2022-03-25T19:22:47.361Z"
   },
   {
    "duration": 15,
    "start_time": "2022-03-25T19:22:47.466Z"
   },
   {
    "duration": 26,
    "start_time": "2022-03-25T19:22:47.483Z"
   },
   {
    "duration": 12,
    "start_time": "2022-03-25T19:22:47.513Z"
   },
   {
    "duration": 5,
    "start_time": "2022-03-25T19:22:47.527Z"
   },
   {
    "duration": 49,
    "start_time": "2022-03-25T19:22:47.534Z"
   },
   {
    "duration": 19,
    "start_time": "2022-03-25T19:22:52.809Z"
   },
   {
    "duration": 34,
    "start_time": "2022-03-25T19:23:19.380Z"
   },
   {
    "duration": 17,
    "start_time": "2022-03-25T19:23:20.020Z"
   },
   {
    "duration": 14,
    "start_time": "2022-03-25T19:23:34.761Z"
   },
   {
    "duration": 13,
    "start_time": "2022-03-25T19:24:02.303Z"
   },
   {
    "duration": 37,
    "start_time": "2022-03-25T19:24:03.395Z"
   },
   {
    "duration": 7,
    "start_time": "2022-03-25T19:24:53.488Z"
   },
   {
    "duration": 6,
    "start_time": "2022-03-25T19:24:54.656Z"
   },
   {
    "duration": 131,
    "start_time": "2022-03-25T19:24:56.345Z"
   },
   {
    "duration": 13,
    "start_time": "2022-03-25T19:24:58.925Z"
   },
   {
    "duration": 63,
    "start_time": "2022-03-25T19:25:05.488Z"
   },
   {
    "duration": 31,
    "start_time": "2022-03-25T19:25:05.920Z"
   },
   {
    "duration": 5,
    "start_time": "2022-03-25T19:25:07.279Z"
   },
   {
    "duration": 867,
    "start_time": "2022-03-25T19:25:34.653Z"
   },
   {
    "duration": 12,
    "start_time": "2022-03-25T19:26:33.935Z"
   },
   {
    "duration": 1103,
    "start_time": "2022-03-25T19:26:42.186Z"
   },
   {
    "duration": 25,
    "start_time": "2022-03-25T19:26:56.590Z"
   },
   {
    "duration": 14,
    "start_time": "2022-03-25T19:27:27.536Z"
   },
   {
    "duration": 15,
    "start_time": "2022-03-25T19:27:38.525Z"
   },
   {
    "duration": 22,
    "start_time": "2022-03-25T19:28:47.389Z"
   },
   {
    "duration": 5,
    "start_time": "2022-03-25T19:30:07.924Z"
   },
   {
    "duration": 5,
    "start_time": "2022-03-25T19:30:11.834Z"
   },
   {
    "duration": 16,
    "start_time": "2022-03-25T19:30:22.946Z"
   },
   {
    "duration": 3,
    "start_time": "2022-03-25T19:32:52.353Z"
   },
   {
    "duration": 486,
    "start_time": "2022-03-25T19:32:52.359Z"
   },
   {
    "duration": 3,
    "start_time": "2022-03-25T19:32:52.847Z"
   },
   {
    "duration": 5,
    "start_time": "2022-03-25T19:32:52.854Z"
   },
   {
    "duration": 170,
    "start_time": "2022-03-25T19:32:52.861Z"
   },
   {
    "duration": 4,
    "start_time": "2022-03-25T19:32:53.033Z"
   },
   {
    "duration": 122,
    "start_time": "2022-03-25T19:32:53.039Z"
   },
   {
    "duration": 7,
    "start_time": "2022-03-25T19:32:53.164Z"
   },
   {
    "duration": 114,
    "start_time": "2022-03-25T19:32:53.175Z"
   },
   {
    "duration": 45,
    "start_time": "2022-03-25T19:32:53.291Z"
   },
   {
    "duration": 69,
    "start_time": "2022-03-25T19:32:53.338Z"
   },
   {
    "duration": 9,
    "start_time": "2022-03-25T19:32:53.409Z"
   },
   {
    "duration": 93,
    "start_time": "2022-03-25T19:32:53.420Z"
   },
   {
    "duration": 18,
    "start_time": "2022-03-25T19:32:53.515Z"
   },
   {
    "duration": 5,
    "start_time": "2022-03-25T19:32:53.536Z"
   },
   {
    "duration": 12,
    "start_time": "2022-03-25T19:32:53.543Z"
   },
   {
    "duration": 5,
    "start_time": "2022-03-25T19:32:53.557Z"
   },
   {
    "duration": 68,
    "start_time": "2022-03-25T19:32:53.564Z"
   },
   {
    "duration": 16,
    "start_time": "2022-03-25T19:32:53.635Z"
   },
   {
    "duration": 13,
    "start_time": "2022-03-25T19:32:53.654Z"
   },
   {
    "duration": 5,
    "start_time": "2022-03-25T19:32:53.668Z"
   },
   {
    "duration": 8,
    "start_time": "2022-03-25T19:32:53.702Z"
   },
   {
    "duration": 9,
    "start_time": "2022-03-25T19:32:53.714Z"
   },
   {
    "duration": 145,
    "start_time": "2022-03-25T19:32:53.727Z"
   },
   {
    "duration": 11,
    "start_time": "2022-03-25T19:32:53.873Z"
   },
   {
    "duration": 73,
    "start_time": "2022-03-25T19:32:53.886Z"
   },
   {
    "duration": 41,
    "start_time": "2022-03-25T19:32:53.961Z"
   },
   {
    "duration": 17,
    "start_time": "2022-03-25T19:32:54.004Z"
   },
   {
    "duration": 25,
    "start_time": "2022-03-25T19:33:44.806Z"
   },
   {
    "duration": 469,
    "start_time": "2022-03-25T19:33:50.774Z"
   },
   {
    "duration": 284,
    "start_time": "2022-03-25T19:34:00.942Z"
   },
   {
    "duration": 253,
    "start_time": "2022-03-25T19:34:52.597Z"
   },
   {
    "duration": 16,
    "start_time": "2022-03-25T19:58:56.201Z"
   },
   {
    "duration": 16,
    "start_time": "2022-03-25T20:04:23.974Z"
   },
   {
    "duration": 171,
    "start_time": "2022-03-25T20:08:11.468Z"
   },
   {
    "duration": 16,
    "start_time": "2022-03-25T20:08:30.740Z"
   },
   {
    "duration": 312,
    "start_time": "2022-03-25T20:08:47.075Z"
   },
   {
    "duration": 328,
    "start_time": "2022-03-25T20:09:10.255Z"
   },
   {
    "duration": 405,
    "start_time": "2022-03-25T20:10:28.368Z"
   },
   {
    "duration": 4,
    "start_time": "2022-03-25T20:11:07.287Z"
   },
   {
    "duration": 6,
    "start_time": "2022-03-25T20:12:14.374Z"
   },
   {
    "duration": 1522,
    "start_time": "2022-03-25T20:12:51.210Z"
   },
   {
    "duration": 1312,
    "start_time": "2022-03-25T20:13:54.069Z"
   },
   {
    "duration": 722,
    "start_time": "2022-03-25T20:14:59.479Z"
   },
   {
    "duration": 1052,
    "start_time": "2022-03-25T20:15:40.906Z"
   },
   {
    "duration": 1180,
    "start_time": "2022-03-25T20:18:01.400Z"
   },
   {
    "duration": 1189,
    "start_time": "2022-03-25T20:18:55.775Z"
   },
   {
    "duration": 1851,
    "start_time": "2022-03-25T20:19:32.884Z"
   },
   {
    "duration": 1232,
    "start_time": "2022-03-25T20:19:45.853Z"
   },
   {
    "duration": 1143,
    "start_time": "2022-03-25T20:20:01.291Z"
   },
   {
    "duration": 1085,
    "start_time": "2022-03-25T20:20:06.380Z"
   },
   {
    "duration": 374,
    "start_time": "2022-03-25T20:20:18.093Z"
   },
   {
    "duration": 1073,
    "start_time": "2022-03-25T20:20:24.354Z"
   },
   {
    "duration": 1081,
    "start_time": "2022-03-25T20:21:14.849Z"
   },
   {
    "duration": 1136,
    "start_time": "2022-03-25T20:21:21.002Z"
   },
   {
    "duration": 1046,
    "start_time": "2022-03-25T20:44:22.485Z"
   },
   {
    "duration": 1798,
    "start_time": "2022-03-25T20:44:29.053Z"
   },
   {
    "duration": 1716,
    "start_time": "2022-03-26T09:42:28.178Z"
   },
   {
    "duration": 525,
    "start_time": "2022-03-26T09:42:29.897Z"
   },
   {
    "duration": 4,
    "start_time": "2022-03-26T09:42:30.425Z"
   },
   {
    "duration": 12,
    "start_time": "2022-03-26T09:42:30.430Z"
   },
   {
    "duration": 165,
    "start_time": "2022-03-26T09:42:30.446Z"
   },
   {
    "duration": 33,
    "start_time": "2022-03-26T09:42:30.613Z"
   },
   {
    "duration": 125,
    "start_time": "2022-03-26T09:42:30.648Z"
   },
   {
    "duration": 7,
    "start_time": "2022-03-26T09:42:30.775Z"
   },
   {
    "duration": 142,
    "start_time": "2022-03-26T09:42:30.784Z"
   },
   {
    "duration": 49,
    "start_time": "2022-03-26T09:42:30.928Z"
   },
   {
    "duration": 99,
    "start_time": "2022-03-26T09:42:30.979Z"
   },
   {
    "duration": 11,
    "start_time": "2022-03-26T09:42:31.080Z"
   },
   {
    "duration": 120,
    "start_time": "2022-03-26T09:42:31.093Z"
   },
   {
    "duration": 29,
    "start_time": "2022-03-26T09:42:31.217Z"
   },
   {
    "duration": 13,
    "start_time": "2022-03-26T09:42:31.249Z"
   },
   {
    "duration": 23,
    "start_time": "2022-03-26T09:42:31.264Z"
   },
   {
    "duration": 9,
    "start_time": "2022-03-26T09:42:31.289Z"
   },
   {
    "duration": 55,
    "start_time": "2022-03-26T09:42:31.300Z"
   },
   {
    "duration": 18,
    "start_time": "2022-03-26T09:42:31.358Z"
   },
   {
    "duration": 20,
    "start_time": "2022-03-26T09:42:31.377Z"
   },
   {
    "duration": 5,
    "start_time": "2022-03-26T09:42:31.399Z"
   },
   {
    "duration": 37,
    "start_time": "2022-03-26T09:42:31.406Z"
   },
   {
    "duration": 7,
    "start_time": "2022-03-26T09:42:31.445Z"
   },
   {
    "duration": 201,
    "start_time": "2022-03-26T09:42:31.455Z"
   },
   {
    "duration": 14,
    "start_time": "2022-03-26T09:42:31.658Z"
   },
   {
    "duration": 93,
    "start_time": "2022-03-26T09:42:31.674Z"
   },
   {
    "duration": 39,
    "start_time": "2022-03-26T09:42:31.769Z"
   },
   {
    "duration": 5,
    "start_time": "2022-03-26T09:42:31.810Z"
   },
   {
    "duration": 1638,
    "start_time": "2022-03-26T09:42:31.842Z"
   },
   {
    "duration": 16,
    "start_time": "2022-03-26T09:42:33.483Z"
   },
   {
    "duration": 18,
    "start_time": "2022-03-26T09:42:40.447Z"
   },
   {
    "duration": 20,
    "start_time": "2022-03-26T09:46:23.209Z"
   },
   {
    "duration": 1500,
    "start_time": "2022-03-26T09:49:03.466Z"
   },
   {
    "duration": 149,
    "start_time": "2022-03-26T09:49:43.000Z"
   },
   {
    "duration": 302,
    "start_time": "2022-03-26T09:50:57.485Z"
   },
   {
    "duration": 1784,
    "start_time": "2022-03-26T09:51:02.598Z"
   },
   {
    "duration": 1658,
    "start_time": "2022-03-26T09:51:14.166Z"
   },
   {
    "duration": 1595,
    "start_time": "2022-03-26T09:51:56.941Z"
   },
   {
    "duration": 1610,
    "start_time": "2022-03-26T09:53:00.676Z"
   },
   {
    "duration": 2248,
    "start_time": "2022-03-26T09:53:13.837Z"
   },
   {
    "duration": 26,
    "start_time": "2022-03-26T09:53:56.059Z"
   },
   {
    "duration": 17,
    "start_time": "2022-03-26T09:54:19.939Z"
   },
   {
    "duration": 5,
    "start_time": "2022-03-26T10:00:13.108Z"
   },
   {
    "duration": 24,
    "start_time": "2022-03-26T10:00:23.809Z"
   },
   {
    "duration": 25,
    "start_time": "2022-03-26T10:18:21.301Z"
   },
   {
    "duration": 243,
    "start_time": "2022-03-26T10:26:31.553Z"
   },
   {
    "duration": 15,
    "start_time": "2022-03-26T10:42:19.860Z"
   },
   {
    "duration": 20,
    "start_time": "2022-03-26T10:42:59.587Z"
   },
   {
    "duration": 5,
    "start_time": "2022-03-26T10:43:43.177Z"
   },
   {
    "duration": 18,
    "start_time": "2022-03-26T10:43:50.346Z"
   },
   {
    "duration": 14,
    "start_time": "2022-03-26T10:45:46.557Z"
   },
   {
    "duration": 4,
    "start_time": "2022-03-26T10:52:39.658Z"
   },
   {
    "duration": 2,
    "start_time": "2022-03-26T10:54:38.136Z"
   },
   {
    "duration": 18,
    "start_time": "2022-03-26T10:55:16.592Z"
   },
   {
    "duration": 15,
    "start_time": "2022-03-26T10:59:27.799Z"
   },
   {
    "duration": 14,
    "start_time": "2022-03-26T10:59:41.812Z"
   },
   {
    "duration": 14,
    "start_time": "2022-03-26T10:59:54.827Z"
   },
   {
    "duration": 69,
    "start_time": "2022-03-26T11:12:41.754Z"
   },
   {
    "duration": 12,
    "start_time": "2022-03-26T11:12:45.376Z"
   },
   {
    "duration": 1930,
    "start_time": "2022-03-26T11:12:48.818Z"
   },
   {
    "duration": 541,
    "start_time": "2022-03-26T11:12:50.751Z"
   },
   {
    "duration": 4,
    "start_time": "2022-03-26T11:12:51.294Z"
   },
   {
    "duration": 5,
    "start_time": "2022-03-26T11:12:51.302Z"
   },
   {
    "duration": 191,
    "start_time": "2022-03-26T11:12:51.310Z"
   },
   {
    "duration": 41,
    "start_time": "2022-03-26T11:12:51.504Z"
   },
   {
    "duration": 128,
    "start_time": "2022-03-26T11:12:51.548Z"
   },
   {
    "duration": 7,
    "start_time": "2022-03-26T11:12:51.678Z"
   },
   {
    "duration": 149,
    "start_time": "2022-03-26T11:12:51.687Z"
   },
   {
    "duration": 41,
    "start_time": "2022-03-26T11:12:51.844Z"
   },
   {
    "duration": 107,
    "start_time": "2022-03-26T11:12:51.887Z"
   },
   {
    "duration": 12,
    "start_time": "2022-03-26T11:12:51.996Z"
   },
   {
    "duration": 135,
    "start_time": "2022-03-26T11:12:52.010Z"
   },
   {
    "duration": 19,
    "start_time": "2022-03-26T11:12:52.147Z"
   },
   {
    "duration": 13,
    "start_time": "2022-03-26T11:12:52.168Z"
   },
   {
    "duration": 18,
    "start_time": "2022-03-26T11:12:52.184Z"
   },
   {
    "duration": 7,
    "start_time": "2022-03-26T11:12:52.204Z"
   },
   {
    "duration": 37,
    "start_time": "2022-03-26T11:12:52.243Z"
   },
   {
    "duration": 19,
    "start_time": "2022-03-26T11:12:52.283Z"
   },
   {
    "duration": 42,
    "start_time": "2022-03-26T11:12:52.304Z"
   },
   {
    "duration": 6,
    "start_time": "2022-03-26T11:12:52.348Z"
   },
   {
    "duration": 10,
    "start_time": "2022-03-26T11:12:52.356Z"
   },
   {
    "duration": 8,
    "start_time": "2022-03-26T11:12:52.368Z"
   },
   {
    "duration": 223,
    "start_time": "2022-03-26T11:12:52.378Z"
   },
   {
    "duration": 15,
    "start_time": "2022-03-26T11:12:52.603Z"
   },
   {
    "duration": 149,
    "start_time": "2022-03-26T11:12:52.620Z"
   },
   {
    "duration": 72,
    "start_time": "2022-03-26T11:12:52.772Z"
   },
   {
    "duration": 5,
    "start_time": "2022-03-26T11:12:52.849Z"
   },
   {
    "duration": 1446,
    "start_time": "2022-03-26T11:12:52.856Z"
   },
   {
    "duration": 40,
    "start_time": "2022-03-26T11:12:54.304Z"
   },
   {
    "duration": 17,
    "start_time": "2022-03-26T11:12:54.347Z"
   },
   {
    "duration": 15,
    "start_time": "2022-03-26T11:12:54.366Z"
   },
   {
    "duration": 14,
    "start_time": "2022-03-26T11:12:54.383Z"
   },
   {
    "duration": 48,
    "start_time": "2022-03-26T11:12:54.400Z"
   },
   {
    "duration": 9,
    "start_time": "2022-03-26T11:13:07.687Z"
   },
   {
    "duration": 16,
    "start_time": "2022-03-26T11:13:36.407Z"
   },
   {
    "duration": 27,
    "start_time": "2022-03-26T11:13:36.781Z"
   },
   {
    "duration": 27,
    "start_time": "2022-03-26T11:13:37.229Z"
   },
   {
    "duration": 243,
    "start_time": "2022-03-26T11:16:30.644Z"
   },
   {
    "duration": 19,
    "start_time": "2022-03-26T11:16:45.101Z"
   },
   {
    "duration": 17,
    "start_time": "2022-03-26T11:17:17.603Z"
   },
   {
    "duration": 18,
    "start_time": "2022-03-26T11:17:46.664Z"
   },
   {
    "duration": 24,
    "start_time": "2022-03-26T11:27:02.392Z"
   },
   {
    "duration": 25,
    "start_time": "2022-03-26T11:27:02.852Z"
   },
   {
    "duration": 365,
    "start_time": "2022-03-26T11:28:07.460Z"
   },
   {
    "duration": 18,
    "start_time": "2022-03-26T11:29:03.628Z"
   },
   {
    "duration": 18,
    "start_time": "2022-03-26T11:29:04.488Z"
   },
   {
    "duration": 215,
    "start_time": "2022-03-26T11:49:57.018Z"
   },
   {
    "duration": 196,
    "start_time": "2022-03-26T11:50:00.371Z"
   },
   {
    "duration": 5,
    "start_time": "2022-03-26T11:52:41.280Z"
   },
   {
    "duration": 582,
    "start_time": "2022-03-26T11:52:41.289Z"
   },
   {
    "duration": 4,
    "start_time": "2022-03-26T11:52:41.873Z"
   },
   {
    "duration": 5,
    "start_time": "2022-03-26T11:52:41.879Z"
   },
   {
    "duration": 187,
    "start_time": "2022-03-26T11:52:41.887Z"
   },
   {
    "duration": 4,
    "start_time": "2022-03-26T11:52:42.076Z"
   },
   {
    "duration": 137,
    "start_time": "2022-03-26T11:52:42.083Z"
   },
   {
    "duration": 7,
    "start_time": "2022-03-26T11:52:42.222Z"
   },
   {
    "duration": 128,
    "start_time": "2022-03-26T11:52:42.244Z"
   },
   {
    "duration": 35,
    "start_time": "2022-03-26T11:52:42.375Z"
   },
   {
    "duration": 105,
    "start_time": "2022-03-26T11:52:42.414Z"
   },
   {
    "duration": 23,
    "start_time": "2022-03-26T11:52:42.521Z"
   },
   {
    "duration": 118,
    "start_time": "2022-03-26T11:52:42.546Z"
   },
   {
    "duration": 19,
    "start_time": "2022-03-26T11:52:42.666Z"
   },
   {
    "duration": 5,
    "start_time": "2022-03-26T11:52:42.687Z"
   },
   {
    "duration": 11,
    "start_time": "2022-03-26T11:52:42.694Z"
   },
   {
    "duration": 36,
    "start_time": "2022-03-26T11:52:42.707Z"
   },
   {
    "duration": 35,
    "start_time": "2022-03-26T11:52:42.745Z"
   },
   {
    "duration": 17,
    "start_time": "2022-03-26T11:52:42.783Z"
   },
   {
    "duration": 51,
    "start_time": "2022-03-26T11:52:42.803Z"
   },
   {
    "duration": 11,
    "start_time": "2022-03-26T11:52:42.857Z"
   },
   {
    "duration": 12,
    "start_time": "2022-03-26T11:52:42.871Z"
   },
   {
    "duration": 12,
    "start_time": "2022-03-26T11:52:42.885Z"
   },
   {
    "duration": 205,
    "start_time": "2022-03-26T11:52:42.899Z"
   },
   {
    "duration": 15,
    "start_time": "2022-03-26T11:52:43.107Z"
   },
   {
    "duration": 96,
    "start_time": "2022-03-26T11:52:43.125Z"
   },
   {
    "duration": 50,
    "start_time": "2022-03-26T11:52:43.224Z"
   },
   {
    "duration": 7,
    "start_time": "2022-03-26T11:52:43.277Z"
   },
   {
    "duration": 2183,
    "start_time": "2022-03-26T11:52:43.290Z"
   },
   {
    "duration": 26,
    "start_time": "2022-03-26T11:52:45.476Z"
   },
   {
    "duration": 40,
    "start_time": "2022-03-26T11:52:45.504Z"
   },
   {
    "duration": 14,
    "start_time": "2022-03-26T11:52:45.546Z"
   },
   {
    "duration": 14,
    "start_time": "2022-03-26T11:52:45.562Z"
   },
   {
    "duration": 24,
    "start_time": "2022-03-26T11:52:45.578Z"
   },
   {
    "duration": 23,
    "start_time": "2022-03-26T11:52:45.644Z"
   },
   {
    "duration": 1657,
    "start_time": "2022-04-05T19:16:00.957Z"
   },
   {
    "duration": 537,
    "start_time": "2022-04-05T19:16:02.617Z"
   },
   {
    "duration": 4,
    "start_time": "2022-04-05T19:16:03.156Z"
   },
   {
    "duration": 24,
    "start_time": "2022-04-05T19:16:03.162Z"
   },
   {
    "duration": 201,
    "start_time": "2022-04-05T19:16:03.189Z"
   },
   {
    "duration": 3,
    "start_time": "2022-04-05T19:16:03.392Z"
   },
   {
    "duration": 104,
    "start_time": "2022-04-05T19:16:03.398Z"
   },
   {
    "duration": 6,
    "start_time": "2022-04-05T19:16:03.504Z"
   },
   {
    "duration": 96,
    "start_time": "2022-04-05T19:16:03.512Z"
   },
   {
    "duration": 32,
    "start_time": "2022-04-05T19:16:03.609Z"
   },
   {
    "duration": 74,
    "start_time": "2022-04-05T19:16:03.643Z"
   },
   {
    "duration": 8,
    "start_time": "2022-04-05T19:16:03.718Z"
   },
   {
    "duration": 94,
    "start_time": "2022-04-05T19:16:03.728Z"
   },
   {
    "duration": 13,
    "start_time": "2022-04-05T19:16:03.825Z"
   },
   {
    "duration": 12,
    "start_time": "2022-04-05T19:16:03.839Z"
   },
   {
    "duration": 33,
    "start_time": "2022-04-05T19:16:03.853Z"
   },
   {
    "duration": 29,
    "start_time": "2022-04-05T19:16:03.888Z"
   },
   {
    "duration": 27,
    "start_time": "2022-04-05T19:16:03.919Z"
   },
   {
    "duration": 12,
    "start_time": "2022-04-05T19:16:03.947Z"
   },
   {
    "duration": 17,
    "start_time": "2022-04-05T19:16:03.960Z"
   },
   {
    "duration": 4,
    "start_time": "2022-04-05T19:16:03.979Z"
   },
   {
    "duration": 11,
    "start_time": "2022-04-05T19:16:03.984Z"
   },
   {
    "duration": 7,
    "start_time": "2022-04-05T19:16:03.999Z"
   },
   {
    "duration": 194,
    "start_time": "2022-04-05T19:16:04.009Z"
   },
   {
    "duration": 12,
    "start_time": "2022-04-05T19:16:04.206Z"
   },
   {
    "duration": 67,
    "start_time": "2022-04-05T19:16:04.220Z"
   },
   {
    "duration": 25,
    "start_time": "2022-04-05T19:16:04.289Z"
   },
   {
    "duration": 54,
    "start_time": "2022-04-05T19:16:04.315Z"
   },
   {
    "duration": 5,
    "start_time": "2022-04-05T19:16:04.371Z"
   },
   {
    "duration": 1333,
    "start_time": "2022-04-05T19:16:04.378Z"
   },
   {
    "duration": 17,
    "start_time": "2022-04-05T19:16:05.713Z"
   },
   {
    "duration": 31,
    "start_time": "2022-04-05T19:16:05.732Z"
   },
   {
    "duration": 10,
    "start_time": "2022-04-05T19:16:05.765Z"
   },
   {
    "duration": 10,
    "start_time": "2022-04-05T19:16:05.777Z"
   },
   {
    "duration": 24,
    "start_time": "2022-04-05T19:16:05.788Z"
   },
   {
    "duration": 14,
    "start_time": "2022-04-05T19:16:05.814Z"
   },
   {
    "duration": 47,
    "start_time": "2022-04-05T19:16:23.074Z"
   },
   {
    "duration": 40,
    "start_time": "2022-04-05T19:16:28.416Z"
   },
   {
    "duration": 41,
    "start_time": "2022-04-05T19:16:48.210Z"
   },
   {
    "duration": 1930,
    "start_time": "2022-04-06T05:09:14.527Z"
   },
   {
    "duration": 540,
    "start_time": "2022-04-06T05:09:16.460Z"
   },
   {
    "duration": 4,
    "start_time": "2022-04-06T05:09:17.002Z"
   },
   {
    "duration": 7,
    "start_time": "2022-04-06T05:09:17.008Z"
   },
   {
    "duration": 193,
    "start_time": "2022-04-06T05:09:17.018Z"
   },
   {
    "duration": 4,
    "start_time": "2022-04-06T05:09:17.213Z"
   },
   {
    "duration": 147,
    "start_time": "2022-04-06T05:09:17.219Z"
   },
   {
    "duration": 14,
    "start_time": "2022-04-06T05:09:17.368Z"
   },
   {
    "duration": 152,
    "start_time": "2022-04-06T05:09:17.385Z"
   },
   {
    "duration": 68,
    "start_time": "2022-04-06T05:09:17.539Z"
   },
   {
    "duration": 100,
    "start_time": "2022-04-06T05:09:17.609Z"
   },
   {
    "duration": 11,
    "start_time": "2022-04-06T05:09:17.711Z"
   },
   {
    "duration": 124,
    "start_time": "2022-04-06T05:09:17.724Z"
   },
   {
    "duration": 27,
    "start_time": "2022-04-06T05:09:17.852Z"
   },
   {
    "duration": 15,
    "start_time": "2022-04-06T05:09:17.882Z"
   },
   {
    "duration": 16,
    "start_time": "2022-04-06T05:09:17.899Z"
   },
   {
    "duration": 5,
    "start_time": "2022-04-06T05:09:17.917Z"
   },
   {
    "duration": 68,
    "start_time": "2022-04-06T05:09:17.924Z"
   },
   {
    "duration": 18,
    "start_time": "2022-04-06T05:09:17.995Z"
   },
   {
    "duration": 19,
    "start_time": "2022-04-06T05:09:18.014Z"
   },
   {
    "duration": 5,
    "start_time": "2022-04-06T05:09:18.035Z"
   },
   {
    "duration": 35,
    "start_time": "2022-04-06T05:09:18.042Z"
   },
   {
    "duration": 10,
    "start_time": "2022-04-06T05:09:18.084Z"
   },
   {
    "duration": 213,
    "start_time": "2022-04-06T05:09:18.096Z"
   },
   {
    "duration": 14,
    "start_time": "2022-04-06T05:09:18.311Z"
   },
   {
    "duration": 103,
    "start_time": "2022-04-06T05:09:18.327Z"
   },
   {
    "duration": 65,
    "start_time": "2022-04-06T05:09:18.432Z"
   },
   {
    "duration": 40,
    "start_time": "2022-04-06T05:09:18.499Z"
   },
   {
    "duration": 5,
    "start_time": "2022-04-06T05:09:18.541Z"
   },
   {
    "duration": 1549,
    "start_time": "2022-04-06T05:09:18.549Z"
   },
   {
    "duration": 27,
    "start_time": "2022-04-06T05:09:20.100Z"
   },
   {
    "duration": 17,
    "start_time": "2022-04-06T05:09:20.130Z"
   },
   {
    "duration": 19,
    "start_time": "2022-04-06T05:09:20.175Z"
   },
   {
    "duration": 14,
    "start_time": "2022-04-06T05:09:20.196Z"
   },
   {
    "duration": 17,
    "start_time": "2022-04-06T05:09:20.212Z"
   },
   {
    "duration": 61,
    "start_time": "2022-04-06T05:09:20.230Z"
   },
   {
    "duration": 7,
    "start_time": "2022-04-06T05:11:25.856Z"
   },
   {
    "duration": 5,
    "start_time": "2022-04-06T05:11:37.092Z"
   },
   {
    "duration": 499,
    "start_time": "2022-04-06T05:11:37.100Z"
   },
   {
    "duration": 7,
    "start_time": "2022-04-06T05:11:37.602Z"
   },
   {
    "duration": 14,
    "start_time": "2022-04-06T05:11:37.612Z"
   },
   {
    "duration": 178,
    "start_time": "2022-04-06T05:11:37.629Z"
   },
   {
    "duration": 5,
    "start_time": "2022-04-06T05:11:43.983Z"
   },
   {
    "duration": 8,
    "start_time": "2022-04-06T05:11:45.104Z"
   },
   {
    "duration": 173,
    "start_time": "2022-04-06T05:12:16.000Z"
   },
   {
    "duration": 4,
    "start_time": "2022-04-06T05:12:37.392Z"
   },
   {
    "duration": 8,
    "start_time": "2022-04-06T05:12:38.000Z"
   },
   {
    "duration": 155,
    "start_time": "2022-04-06T05:13:00.153Z"
   },
   {
    "duration": 4,
    "start_time": "2022-04-06T05:13:16.495Z"
   },
   {
    "duration": 15,
    "start_time": "2022-04-06T05:13:17.431Z"
   },
   {
    "duration": 4,
    "start_time": "2022-04-06T05:13:39.856Z"
   },
   {
    "duration": 15,
    "start_time": "2022-04-06T05:13:40.409Z"
   },
   {
    "duration": 4,
    "start_time": "2022-04-06T05:17:30.312Z"
   },
   {
    "duration": 49,
    "start_time": "2022-04-06T05:17:30.943Z"
   },
   {
    "duration": 8,
    "start_time": "2022-04-06T05:17:37.863Z"
   },
   {
    "duration": 122,
    "start_time": "2022-04-06T05:18:05.193Z"
   },
   {
    "duration": 4,
    "start_time": "2022-04-06T05:19:30.144Z"
   },
   {
    "duration": 58,
    "start_time": "2022-04-06T05:19:30.735Z"
   },
   {
    "duration": 5,
    "start_time": "2022-04-06T05:19:36.391Z"
   },
   {
    "duration": 66,
    "start_time": "2022-04-06T05:19:36.743Z"
   },
   {
    "duration": 4,
    "start_time": "2022-04-06T05:19:59.304Z"
   },
   {
    "duration": 60,
    "start_time": "2022-04-06T05:19:59.839Z"
   },
   {
    "duration": 5,
    "start_time": "2022-04-06T05:22:00.758Z"
   },
   {
    "duration": 44,
    "start_time": "2022-04-06T05:22:01.063Z"
   },
   {
    "duration": 4,
    "start_time": "2022-04-06T05:22:11.701Z"
   },
   {
    "duration": 532,
    "start_time": "2022-04-06T05:22:11.708Z"
   },
   {
    "duration": 11,
    "start_time": "2022-04-06T05:22:12.242Z"
   },
   {
    "duration": 9,
    "start_time": "2022-04-06T05:22:12.255Z"
   },
   {
    "duration": 211,
    "start_time": "2022-04-06T05:22:12.267Z"
   },
   {
    "duration": 6,
    "start_time": "2022-04-06T05:22:12.483Z"
   },
   {
    "duration": 20,
    "start_time": "2022-04-06T05:22:12.491Z"
   },
   {
    "duration": 82,
    "start_time": "2022-04-06T05:22:12.513Z"
   },
   {
    "duration": 9,
    "start_time": "2022-04-06T05:22:15.253Z"
   },
   {
    "duration": 119,
    "start_time": "2022-04-06T05:24:50.887Z"
   },
   {
    "duration": 115,
    "start_time": "2022-04-06T05:25:04.839Z"
   },
   {
    "duration": 42,
    "start_time": "2022-04-06T05:26:37.134Z"
   },
   {
    "duration": 149,
    "start_time": "2022-04-06T05:27:38.542Z"
   },
   {
    "duration": 39,
    "start_time": "2022-04-06T05:27:47.735Z"
   },
   {
    "duration": 21,
    "start_time": "2022-04-06T05:27:53.943Z"
   },
   {
    "duration": 21,
    "start_time": "2022-04-06T05:28:12.439Z"
   },
   {
    "duration": 28,
    "start_time": "2022-04-06T05:28:20.807Z"
   },
   {
    "duration": 32,
    "start_time": "2022-04-06T05:28:24.991Z"
   },
   {
    "duration": 22,
    "start_time": "2022-04-06T05:28:28.167Z"
   },
   {
    "duration": 23,
    "start_time": "2022-04-06T05:29:00.887Z"
   },
   {
    "duration": 27,
    "start_time": "2022-04-06T05:29:06.398Z"
   },
   {
    "duration": 112,
    "start_time": "2022-04-06T05:29:13.318Z"
   },
   {
    "duration": 12,
    "start_time": "2022-04-06T05:37:35.999Z"
   },
   {
    "duration": 103,
    "start_time": "2022-04-06T05:37:47.374Z"
   },
   {
    "duration": 123,
    "start_time": "2022-04-06T05:37:54.831Z"
   },
   {
    "duration": 5,
    "start_time": "2022-04-06T05:39:28.459Z"
   },
   {
    "duration": 565,
    "start_time": "2022-04-06T05:39:28.466Z"
   },
   {
    "duration": 4,
    "start_time": "2022-04-06T05:39:29.033Z"
   },
   {
    "duration": 19,
    "start_time": "2022-04-06T05:39:29.040Z"
   },
   {
    "duration": 192,
    "start_time": "2022-04-06T05:39:29.061Z"
   },
   {
    "duration": 8,
    "start_time": "2022-04-06T05:39:29.277Z"
   },
   {
    "duration": 23,
    "start_time": "2022-04-06T05:39:29.289Z"
   },
   {
    "duration": 143,
    "start_time": "2022-04-06T05:39:29.314Z"
   },
   {
    "duration": 54,
    "start_time": "2022-04-06T05:39:33.205Z"
   },
   {
    "duration": 34,
    "start_time": "2022-04-06T05:39:53.670Z"
   },
   {
    "duration": 3,
    "start_time": "2022-04-06T05:40:40.069Z"
   },
   {
    "duration": 130,
    "start_time": "2022-04-06T05:42:44.199Z"
   },
   {
    "duration": 5,
    "start_time": "2022-04-06T05:44:25.978Z"
   },
   {
    "duration": 572,
    "start_time": "2022-04-06T05:44:25.987Z"
   },
   {
    "duration": 15,
    "start_time": "2022-04-06T05:44:26.562Z"
   },
   {
    "duration": 32,
    "start_time": "2022-04-06T05:44:26.581Z"
   },
   {
    "duration": 274,
    "start_time": "2022-04-06T05:44:26.615Z"
   },
   {
    "duration": 6,
    "start_time": "2022-04-06T05:44:26.895Z"
   },
   {
    "duration": 12,
    "start_time": "2022-04-06T05:44:26.903Z"
   },
   {
    "duration": 153,
    "start_time": "2022-04-06T05:44:26.917Z"
   },
   {
    "duration": 7,
    "start_time": "2022-04-06T05:44:27.080Z"
   },
   {
    "duration": 26,
    "start_time": "2022-04-06T05:44:27.090Z"
   },
   {
    "duration": 307,
    "start_time": "2022-04-06T05:44:27.119Z"
   },
   {
    "duration": 67,
    "start_time": "2022-04-06T05:44:27.429Z"
   },
   {
    "duration": 110,
    "start_time": "2022-04-06T05:44:27.499Z"
   },
   {
    "duration": 12,
    "start_time": "2022-04-06T05:44:27.611Z"
   },
   {
    "duration": 118,
    "start_time": "2022-04-06T05:44:27.625Z"
   },
   {
    "duration": 33,
    "start_time": "2022-04-06T05:44:27.745Z"
   },
   {
    "duration": 21,
    "start_time": "2022-04-06T05:44:27.781Z"
   },
   {
    "duration": 18,
    "start_time": "2022-04-06T05:44:27.805Z"
   },
   {
    "duration": 11,
    "start_time": "2022-04-06T05:44:27.827Z"
   },
   {
    "duration": 64,
    "start_time": "2022-04-06T05:44:27.841Z"
   },
   {
    "duration": 24,
    "start_time": "2022-04-06T05:44:27.908Z"
   },
   {
    "duration": 33,
    "start_time": "2022-04-06T05:44:30.862Z"
   },
   {
    "duration": 120,
    "start_time": "2022-04-06T05:53:57.206Z"
   },
   {
    "duration": 157,
    "start_time": "2022-04-06T05:54:00.501Z"
   },
   {
    "duration": 1546,
    "start_time": "2022-04-06T06:02:43.749Z"
   },
   {
    "duration": 560,
    "start_time": "2022-04-06T06:02:45.297Z"
   },
   {
    "duration": 4,
    "start_time": "2022-04-06T06:02:45.859Z"
   },
   {
    "duration": 14,
    "start_time": "2022-04-06T06:02:45.866Z"
   },
   {
    "duration": 230,
    "start_time": "2022-04-06T06:02:45.884Z"
   },
   {
    "duration": 4,
    "start_time": "2022-04-06T06:02:46.117Z"
   },
   {
    "duration": 7,
    "start_time": "2022-04-06T06:02:46.124Z"
   },
   {
    "duration": 191,
    "start_time": "2022-04-06T06:02:46.133Z"
   },
   {
    "duration": 4,
    "start_time": "2022-04-06T06:02:46.326Z"
   },
   {
    "duration": 8,
    "start_time": "2022-04-06T06:02:46.336Z"
   },
   {
    "duration": 172,
    "start_time": "2022-04-06T06:02:46.346Z"
   },
   {
    "duration": 42,
    "start_time": "2022-04-06T06:02:46.520Z"
   },
   {
    "duration": 102,
    "start_time": "2022-04-06T06:02:46.573Z"
   },
   {
    "duration": 17,
    "start_time": "2022-04-06T06:02:46.678Z"
   },
   {
    "duration": 133,
    "start_time": "2022-04-06T06:02:46.698Z"
   },
   {
    "duration": 19,
    "start_time": "2022-04-06T06:02:46.834Z"
   },
   {
    "duration": 5,
    "start_time": "2022-04-06T06:02:46.855Z"
   },
   {
    "duration": 17,
    "start_time": "2022-04-06T06:02:46.876Z"
   },
   {
    "duration": 8,
    "start_time": "2022-04-06T06:02:46.896Z"
   },
   {
    "duration": 30,
    "start_time": "2022-04-06T06:02:46.906Z"
   },
   {
    "duration": 29,
    "start_time": "2022-04-06T06:02:46.976Z"
   },
   {
    "duration": 17,
    "start_time": "2022-04-06T06:02:47.007Z"
   },
   {
    "duration": 5,
    "start_time": "2022-04-06T06:02:47.026Z"
   },
   {
    "duration": 48,
    "start_time": "2022-04-06T06:02:47.033Z"
   },
   {
    "duration": 18,
    "start_time": "2022-04-06T06:02:47.084Z"
   },
   {
    "duration": 249,
    "start_time": "2022-04-06T06:02:47.104Z"
   },
   {
    "duration": 20,
    "start_time": "2022-04-06T06:02:47.355Z"
   },
   {
    "duration": 104,
    "start_time": "2022-04-06T06:02:47.382Z"
   },
   {
    "duration": 40,
    "start_time": "2022-04-06T06:02:47.490Z"
   },
   {
    "duration": 74,
    "start_time": "2022-04-06T06:02:47.532Z"
   },
   {
    "duration": 5,
    "start_time": "2022-04-06T06:02:47.608Z"
   },
   {
    "duration": 1692,
    "start_time": "2022-04-06T06:02:47.615Z"
   },
   {
    "duration": 27,
    "start_time": "2022-04-06T06:02:49.309Z"
   },
   {
    "duration": 39,
    "start_time": "2022-04-06T06:02:49.338Z"
   },
   {
    "duration": 18,
    "start_time": "2022-04-06T06:02:49.380Z"
   },
   {
    "duration": 14,
    "start_time": "2022-04-06T06:02:49.401Z"
   },
   {
    "duration": 17,
    "start_time": "2022-04-06T06:02:49.417Z"
   },
   {
    "duration": 63,
    "start_time": "2022-04-06T06:02:49.436Z"
   },
   {
    "duration": 4,
    "start_time": "2022-04-06T06:05:46.068Z"
   },
   {
    "duration": 3,
    "start_time": "2022-04-06T06:08:08.108Z"
   },
   {
    "duration": 1618,
    "start_time": "2022-04-06T06:12:20.587Z"
   },
   {
    "duration": 687,
    "start_time": "2022-04-06T06:12:22.207Z"
   },
   {
    "duration": 6,
    "start_time": "2022-04-06T06:12:22.897Z"
   },
   {
    "duration": 14,
    "start_time": "2022-04-06T06:12:22.907Z"
   },
   {
    "duration": 264,
    "start_time": "2022-04-06T06:12:22.924Z"
   },
   {
    "duration": 6,
    "start_time": "2022-04-06T06:12:23.191Z"
   },
   {
    "duration": 14,
    "start_time": "2022-04-06T06:12:23.201Z"
   },
   {
    "duration": 11,
    "start_time": "2022-04-06T06:12:23.219Z"
   },
   {
    "duration": 166,
    "start_time": "2022-04-06T06:12:23.233Z"
   },
   {
    "duration": 10,
    "start_time": "2022-04-06T06:12:23.404Z"
   },
   {
    "duration": 12,
    "start_time": "2022-04-06T06:12:23.417Z"
   },
   {
    "duration": 185,
    "start_time": "2022-04-06T06:12:23.432Z"
   },
   {
    "duration": 61,
    "start_time": "2022-04-06T06:12:23.620Z"
   },
   {
    "duration": 130,
    "start_time": "2022-04-06T06:12:23.684Z"
   },
   {
    "duration": 12,
    "start_time": "2022-04-06T06:12:23.817Z"
   },
   {
    "duration": 278,
    "start_time": "2022-04-06T06:12:23.831Z"
   },
   {
    "duration": 19,
    "start_time": "2022-04-06T06:12:24.112Z"
   },
   {
    "duration": 44,
    "start_time": "2022-04-06T06:12:24.133Z"
   },
   {
    "duration": 31,
    "start_time": "2022-04-06T06:12:24.180Z"
   },
   {
    "duration": 7,
    "start_time": "2022-04-06T06:12:24.213Z"
   },
   {
    "duration": 32,
    "start_time": "2022-04-06T06:12:24.223Z"
   },
   {
    "duration": 30,
    "start_time": "2022-04-06T06:12:24.258Z"
   },
   {
    "duration": 23,
    "start_time": "2022-04-06T06:12:24.291Z"
   },
   {
    "duration": 10,
    "start_time": "2022-04-06T06:12:24.317Z"
   },
   {
    "duration": 11,
    "start_time": "2022-04-06T06:12:24.329Z"
   },
   {
    "duration": 7,
    "start_time": "2022-04-06T06:12:24.342Z"
   },
   {
    "duration": 236,
    "start_time": "2022-04-06T06:12:24.351Z"
   },
   {
    "duration": 17,
    "start_time": "2022-04-06T06:12:24.594Z"
   },
   {
    "duration": 101,
    "start_time": "2022-04-06T06:12:24.614Z"
   },
   {
    "duration": 41,
    "start_time": "2022-04-06T06:12:24.717Z"
   },
   {
    "duration": 59,
    "start_time": "2022-04-06T06:12:24.761Z"
   },
   {
    "duration": 6,
    "start_time": "2022-04-06T06:12:24.822Z"
   },
   {
    "duration": 2352,
    "start_time": "2022-04-06T06:12:24.830Z"
   },
   {
    "duration": 34,
    "start_time": "2022-04-06T06:12:27.185Z"
   },
   {
    "duration": 18,
    "start_time": "2022-04-06T06:12:27.221Z"
   },
   {
    "duration": 46,
    "start_time": "2022-04-06T06:12:27.241Z"
   },
   {
    "duration": 30,
    "start_time": "2022-04-06T06:12:27.290Z"
   },
   {
    "duration": 25,
    "start_time": "2022-04-06T06:12:27.323Z"
   },
   {
    "duration": 26,
    "start_time": "2022-04-06T06:12:27.375Z"
   },
   {
    "duration": 41,
    "start_time": "2022-04-06T08:20:49.345Z"
   },
   {
    "duration": 1684,
    "start_time": "2022-04-06T08:20:56.653Z"
   },
   {
    "duration": 468,
    "start_time": "2022-04-06T08:20:58.340Z"
   },
   {
    "duration": 3,
    "start_time": "2022-04-06T08:20:58.810Z"
   },
   {
    "duration": 4,
    "start_time": "2022-04-06T08:20:58.815Z"
   },
   {
    "duration": 94,
    "start_time": "2022-04-06T08:20:58.821Z"
   },
   {
    "duration": 3,
    "start_time": "2022-04-06T08:20:58.917Z"
   },
   {
    "duration": 2,
    "start_time": "2022-04-06T08:20:58.930Z"
   },
   {
    "duration": 13,
    "start_time": "2022-04-06T08:20:58.934Z"
   },
   {
    "duration": 74,
    "start_time": "2022-04-06T08:20:58.949Z"
   },
   {
    "duration": 2,
    "start_time": "2022-04-06T08:20:59.026Z"
   },
   {
    "duration": 8,
    "start_time": "2022-04-06T08:20:59.030Z"
   },
   {
    "duration": 102,
    "start_time": "2022-04-06T08:20:59.039Z"
   },
   {
    "duration": 25,
    "start_time": "2022-04-06T08:20:59.143Z"
   },
   {
    "duration": 68,
    "start_time": "2022-04-06T08:20:59.170Z"
   },
   {
    "duration": 7,
    "start_time": "2022-04-06T08:20:59.240Z"
   },
   {
    "duration": 100,
    "start_time": "2022-04-06T08:20:59.248Z"
   },
   {
    "duration": 11,
    "start_time": "2022-04-06T08:20:59.350Z"
   },
   {
    "duration": 5,
    "start_time": "2022-04-06T08:20:59.363Z"
   },
   {
    "duration": 61,
    "start_time": "2022-04-06T08:20:59.369Z"
   },
   {
    "duration": 4,
    "start_time": "2022-04-06T08:20:59.431Z"
   },
   {
    "duration": 19,
    "start_time": "2022-04-06T08:20:59.436Z"
   },
   {
    "duration": 13,
    "start_time": "2022-04-06T08:20:59.457Z"
   },
   {
    "duration": 10,
    "start_time": "2022-04-06T08:20:59.471Z"
   },
   {
    "duration": 3,
    "start_time": "2022-04-06T08:20:59.483Z"
   },
   {
    "duration": 9,
    "start_time": "2022-04-06T08:20:59.488Z"
   },
   {
    "duration": 31,
    "start_time": "2022-04-06T08:20:59.498Z"
   },
   {
    "duration": 98,
    "start_time": "2022-04-06T08:20:59.531Z"
   },
   {
    "duration": 9,
    "start_time": "2022-04-06T08:20:59.632Z"
   },
   {
    "duration": 44,
    "start_time": "2022-04-06T08:20:59.643Z"
   },
   {
    "duration": 43,
    "start_time": "2022-04-06T08:20:59.689Z"
   },
   {
    "duration": 25,
    "start_time": "2022-04-06T08:20:59.734Z"
   },
   {
    "duration": 3,
    "start_time": "2022-04-06T08:20:59.760Z"
   },
   {
    "duration": 771,
    "start_time": "2022-04-06T08:20:59.765Z"
   },
   {
    "duration": 15,
    "start_time": "2022-04-06T08:21:00.538Z"
   },
   {
    "duration": 10,
    "start_time": "2022-04-06T08:21:00.554Z"
   },
   {
    "duration": 8,
    "start_time": "2022-04-06T08:21:00.566Z"
   },
   {
    "duration": 10,
    "start_time": "2022-04-06T08:21:00.576Z"
   },
   {
    "duration": 17,
    "start_time": "2022-04-06T08:21:00.588Z"
   },
   {
    "duration": 57,
    "start_time": "2022-04-06T08:21:00.629Z"
   },
   {
    "duration": 127,
    "start_time": "2022-04-06T08:24:09.847Z"
   },
   {
    "duration": 147,
    "start_time": "2022-04-06T08:24:12.846Z"
   },
   {
    "duration": 138,
    "start_time": "2022-04-06T08:39:52.975Z"
   },
   {
    "duration": 1110,
    "start_time": "2022-04-06T08:44:54.167Z"
   },
   {
    "duration": 318,
    "start_time": "2022-04-06T08:44:55.279Z"
   },
   {
    "duration": 2,
    "start_time": "2022-04-06T08:44:55.599Z"
   },
   {
    "duration": 12,
    "start_time": "2022-04-06T08:44:55.603Z"
   },
   {
    "duration": 114,
    "start_time": "2022-04-06T08:44:55.616Z"
   },
   {
    "duration": 2,
    "start_time": "2022-04-06T08:44:55.732Z"
   },
   {
    "duration": 26,
    "start_time": "2022-04-06T08:44:55.735Z"
   },
   {
    "duration": 15,
    "start_time": "2022-04-06T08:44:55.762Z"
   },
   {
    "duration": 86,
    "start_time": "2022-04-06T08:44:55.778Z"
   },
   {
    "duration": 2,
    "start_time": "2022-04-06T08:44:55.867Z"
   },
   {
    "duration": 10,
    "start_time": "2022-04-06T08:44:55.870Z"
   },
   {
    "duration": 89,
    "start_time": "2022-04-06T08:44:55.881Z"
   },
   {
    "duration": 23,
    "start_time": "2022-04-06T08:44:55.972Z"
   },
   {
    "duration": 63,
    "start_time": "2022-04-06T08:44:55.996Z"
   },
   {
    "duration": 7,
    "start_time": "2022-04-06T08:44:56.060Z"
   },
   {
    "duration": 69,
    "start_time": "2022-04-06T08:44:56.068Z"
   },
   {
    "duration": 11,
    "start_time": "2022-04-06T08:44:56.138Z"
   },
   {
    "duration": 10,
    "start_time": "2022-04-06T08:44:56.151Z"
   },
   {
    "duration": 22,
    "start_time": "2022-04-06T08:44:56.163Z"
   },
   {
    "duration": 6,
    "start_time": "2022-04-06T08:44:56.186Z"
   },
   {
    "duration": 18,
    "start_time": "2022-04-06T08:44:56.194Z"
   },
   {
    "duration": 16,
    "start_time": "2022-04-06T08:44:56.213Z"
   },
   {
    "duration": 10,
    "start_time": "2022-04-06T08:44:56.230Z"
   },
   {
    "duration": 3,
    "start_time": "2022-04-06T08:44:56.242Z"
   },
   {
    "duration": 6,
    "start_time": "2022-04-06T08:44:56.246Z"
   },
   {
    "duration": 4,
    "start_time": "2022-04-06T08:44:56.253Z"
   },
   {
    "duration": 109,
    "start_time": "2022-04-06T08:44:56.259Z"
   },
   {
    "duration": 9,
    "start_time": "2022-04-06T08:44:56.371Z"
   },
   {
    "duration": 59,
    "start_time": "2022-04-06T08:44:56.381Z"
   },
   {
    "duration": 22,
    "start_time": "2022-04-06T08:44:56.441Z"
   },
   {
    "duration": 23,
    "start_time": "2022-04-06T08:44:56.464Z"
   },
   {
    "duration": 4,
    "start_time": "2022-04-06T08:44:56.488Z"
   },
   {
    "duration": 820,
    "start_time": "2022-04-06T08:44:56.493Z"
   },
   {
    "duration": 28,
    "start_time": "2022-04-06T08:44:57.315Z"
   },
   {
    "duration": 11,
    "start_time": "2022-04-06T08:44:57.344Z"
   },
   {
    "duration": 49,
    "start_time": "2022-04-06T08:44:57.357Z"
   },
   {
    "duration": 11,
    "start_time": "2022-04-06T08:44:57.407Z"
   },
   {
    "duration": 18,
    "start_time": "2022-04-06T08:44:57.420Z"
   },
   {
    "duration": 86,
    "start_time": "2022-04-06T08:44:57.439Z"
   },
   {
    "duration": 43,
    "start_time": "2022-04-06T09:00:53.507Z"
   },
   {
    "duration": 5,
    "start_time": "2022-04-06T09:00:55.402Z"
   },
   {
    "duration": 1270,
    "start_time": "2022-04-06T09:01:06.416Z"
   },
   {
    "duration": 403,
    "start_time": "2022-04-06T09:01:07.688Z"
   },
   {
    "duration": 3,
    "start_time": "2022-04-06T09:01:08.092Z"
   },
   {
    "duration": 5,
    "start_time": "2022-04-06T09:01:08.097Z"
   },
   {
    "duration": 111,
    "start_time": "2022-04-06T09:01:08.104Z"
   },
   {
    "duration": 2,
    "start_time": "2022-04-06T09:01:08.217Z"
   },
   {
    "duration": 5,
    "start_time": "2022-04-06T09:01:08.221Z"
   },
   {
    "duration": 6,
    "start_time": "2022-04-06T09:01:08.227Z"
   },
   {
    "duration": 94,
    "start_time": "2022-04-06T09:01:08.234Z"
   },
   {
    "duration": 2,
    "start_time": "2022-04-06T09:01:08.331Z"
   },
   {
    "duration": 8,
    "start_time": "2022-04-06T09:01:08.335Z"
   },
   {
    "duration": 89,
    "start_time": "2022-04-06T09:01:08.345Z"
   },
   {
    "duration": 25,
    "start_time": "2022-04-06T09:01:08.436Z"
   },
   {
    "duration": 66,
    "start_time": "2022-04-06T09:01:08.462Z"
   },
   {
    "duration": 6,
    "start_time": "2022-04-06T09:01:08.530Z"
   },
   {
    "duration": 79,
    "start_time": "2022-04-06T09:01:08.538Z"
   },
   {
    "duration": 12,
    "start_time": "2022-04-06T09:01:08.618Z"
   },
   {
    "duration": 6,
    "start_time": "2022-04-06T09:01:08.632Z"
   },
   {
    "duration": 8,
    "start_time": "2022-04-06T09:01:08.640Z"
   },
   {
    "duration": 5,
    "start_time": "2022-04-06T09:01:08.649Z"
   },
   {
    "duration": 36,
    "start_time": "2022-04-06T09:01:08.655Z"
   },
   {
    "duration": 13,
    "start_time": "2022-04-06T09:01:08.693Z"
   },
   {
    "duration": 11,
    "start_time": "2022-04-06T09:01:08.708Z"
   },
   {
    "duration": 4,
    "start_time": "2022-04-06T09:01:08.721Z"
   },
   {
    "duration": 5,
    "start_time": "2022-04-06T09:01:08.726Z"
   },
   {
    "duration": 4,
    "start_time": "2022-04-06T09:01:08.733Z"
   },
   {
    "duration": 13,
    "start_time": "2022-04-06T09:01:08.739Z"
   },
   {
    "duration": 26,
    "start_time": "2022-04-06T09:01:08.755Z"
   },
   {
    "duration": 100,
    "start_time": "2022-04-06T09:01:08.782Z"
   },
   {
    "duration": 9,
    "start_time": "2022-04-06T09:01:08.884Z"
   },
   {
    "duration": 47,
    "start_time": "2022-04-06T09:01:08.895Z"
   },
   {
    "duration": 40,
    "start_time": "2022-04-06T09:01:08.944Z"
   },
   {
    "duration": 23,
    "start_time": "2022-04-06T09:01:08.985Z"
   },
   {
    "duration": 3,
    "start_time": "2022-04-06T09:01:09.010Z"
   },
   {
    "duration": 777,
    "start_time": "2022-04-06T09:01:09.015Z"
   },
   {
    "duration": 17,
    "start_time": "2022-04-06T09:01:09.793Z"
   },
   {
    "duration": 10,
    "start_time": "2022-04-06T09:01:09.811Z"
   },
   {
    "duration": 11,
    "start_time": "2022-04-06T09:01:09.823Z"
   },
   {
    "duration": 9,
    "start_time": "2022-04-06T09:01:09.836Z"
   },
   {
    "duration": 35,
    "start_time": "2022-04-06T09:01:09.847Z"
   },
   {
    "duration": 104,
    "start_time": "2022-04-06T09:01:09.884Z"
   },
   {
    "duration": 13,
    "start_time": "2022-04-06T09:02:57.930Z"
   },
   {
    "duration": 4,
    "start_time": "2022-04-06T09:03:08.630Z"
   },
   {
    "duration": 11,
    "start_time": "2022-04-06T09:08:23.910Z"
   }
  ],
  "kernelspec": {
   "display_name": "Python 3 (ipykernel)",
   "language": "python",
   "name": "python3"
  },
  "language_info": {
   "codemirror_mode": {
    "name": "ipython",
    "version": 3
   },
   "file_extension": ".py",
   "mimetype": "text/x-python",
   "name": "python",
   "nbconvert_exporter": "python",
   "pygments_lexer": "ipython3",
   "version": "3.9.7"
  },
  "toc": {
   "base_numbering": 1,
   "nav_menu": {},
   "number_sections": true,
   "sideBar": true,
   "skip_h1_title": true,
   "title_cell": "Table of Contents",
   "title_sidebar": "Contents",
   "toc_cell": false,
   "toc_position": {},
   "toc_section_display": true,
   "toc_window_display": false
  }
 },
 "nbformat": 4,
 "nbformat_minor": 2
}
