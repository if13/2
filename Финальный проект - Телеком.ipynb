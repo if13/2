{
 "cells": [
  {
   "cell_type": "markdown",
   "metadata": {},
   "source": [
    "# Телеком — задача проекта\n",
    "\n",
    "Оператор связи «Ниединогоразрыва.ком» хочет научиться прогнозировать отток клиентов. Если выяснится, что пользователь планирует уйти, ему будут предложены промокоды и специальные условия. Команда оператора собрала персональные данные о некоторых клиентах, информацию об их тарифах и договорах.\n",
    "\n",
    "### Описание услуг\n",
    "\n",
    "Оператор предоставляет два основных типа услуг: \n",
    "\n",
    "1. Стационарную телефонную связь. Возможно подключение телефонного аппарата к нескольким линиям одновременно.\n",
    "2. Интернет. Подключение может быть двух типов: через телефонную линию (DSL*,* от англ. *digital subscriber line*, «цифровая абонентская линия») или оптоволоконный кабель (*Fiber optic*).  \n",
    "\n",
    "Также доступны такие услуги:\n",
    "\n",
    "- Интернет-безопасность: антивирус (*DeviceProtection*) и блокировка небезопасных сайтов (*OnlineSecurity*);\n",
    "- Выделенная линия технической поддержки (*TechSupport*);\n",
    "- Облачное хранилище файлов для резервного копирования данных (*OnlineBackup*);\n",
    "- Стриминговое телевидение (*StreamingTV*) и каталог фильмов (*StreamingMovies*).\n",
    "\n",
    "За услуги клиенты могут платить каждый месяц или заключить договор на 1–2 года. Доступны различные способы расчёта и возможность получения электронного чека.\n",
    "\n",
    "### Описание данных\n",
    "\n",
    "Данные состоят из файлов, полученных из разных источников. Во всех таблицах присутсвует поле  \n",
    "**customerID: уникальный идентификатор клиента**\n",
    "\n",
    "**- `contract.csv` — информация о договоре:**\n",
    "\n",
    "-     BeginDate: дата начала пользования услугами;\n",
    "-     EndDate: дата окончания пользования услугами;\n",
    "-     Type: тип оплаты (ежемесячный, годовой и т.п.);\n",
    "-     Paperlessbilling: электронный платежный документ;\n",
    "-     PaymentMethod: способ оплаты;\n",
    "-     MonthlyCharges: ежемесячная траты на услуги;\n",
    "-     TotalCharges: общие затраты на услуги.\n",
    "\n",
    "**- `personal.csv` — персональные данные клиента:**\n",
    "-     Gender: пол клиента;  \n",
    "-     SeniorCitizen: статус пенсионера;  \n",
    "-     Partner: наличие супруга(и);  \n",
    "-     Dependents: наличие иждивенцев.\n",
    "\n",
    "**- `internet.csv` — информация об интернет-услугах:**\n",
    "-     InternetService: тип подключения: через линию-DSL или оптокабель-Fiber optic;  \n",
    "-     OnlineSecurity: наличие услуги блокировки небезопасных сайтов;  \n",
    "-     OnlineBackup: наличие облачного хранилища для резервирования данных;  \n",
    "-     DeviceProtection: наличие услуги антивируса;\n",
    "-     TechSupport: наличие выделенной линии технической поддержки;\n",
    "-     StreamingTV: наличие услуги стримингового телевидиния;\n",
    "-     StreamingMovies: наличие услуги каталога фильмов.\n",
    "\n",
    "**- `phone.csv` — информация об услугах телефонии:**\n",
    "-     MultipleLines: налачие возможности нескольких линий во время звонка.\n",
    "\n",
    "\n",
    "**Информация о договорах актуальна на 1 февраля 2020.**\n",
    "\n",
    "\n",
    "### Данные\n",
    "\n",
    "[final_provider.zip](https://s3-us-west-2.amazonaws.com/secure.notion-static.com/ac39c23b-718e-4cd6-bdaa-85b3a127a457/final_provider.zip)\n",
    "\n",
    "Данные также находятся в тренажёре, в папке `/datasets/final_provider/`."
   ]
  },
  {
   "cell_type": "code",
   "execution_count": 1,
   "metadata": {},
   "outputs": [
    {
     "name": "stdout",
     "output_type": "stream",
     "text": [
      "Collecting phik\n",
      "  Downloading phik-0.12.2-cp39-cp39-manylinux_2_17_x86_64.manylinux2014_x86_64.whl (709 kB)\n",
      "\u001b[K     |████████████████████████████████| 709 kB 2.5 MB/s eta 0:00:01\n",
      "\u001b[?25hRequirement already satisfied: scipy>=1.5.2 in /opt/conda/lib/python3.9/site-packages (from phik) (1.9.1)\n",
      "Requirement already satisfied: joblib>=0.14.1 in /opt/conda/lib/python3.9/site-packages (from phik) (1.1.0)\n",
      "Requirement already satisfied: matplotlib>=2.2.3 in /opt/conda/lib/python3.9/site-packages (from phik) (3.3.4)\n",
      "Requirement already satisfied: pandas>=0.25.1 in /opt/conda/lib/python3.9/site-packages (from phik) (1.2.4)\n",
      "Requirement already satisfied: numpy>=1.18.0 in /opt/conda/lib/python3.9/site-packages (from phik) (1.21.1)\n",
      "Requirement already satisfied: pyparsing!=2.0.4,!=2.1.2,!=2.1.6,>=2.0.3 in /opt/conda/lib/python3.9/site-packages (from matplotlib>=2.2.3->phik) (2.4.7)\n",
      "Requirement already satisfied: kiwisolver>=1.0.1 in /opt/conda/lib/python3.9/site-packages (from matplotlib>=2.2.3->phik) (1.4.4)\n",
      "Requirement already satisfied: cycler>=0.10 in /opt/conda/lib/python3.9/site-packages (from matplotlib>=2.2.3->phik) (0.11.0)\n",
      "Requirement already satisfied: python-dateutil>=2.1 in /opt/conda/lib/python3.9/site-packages (from matplotlib>=2.2.3->phik) (2.8.1)\n",
      "Requirement already satisfied: pillow>=6.2.0 in /opt/conda/lib/python3.9/site-packages (from matplotlib>=2.2.3->phik) (8.4.0)\n",
      "Requirement already satisfied: pytz>=2017.3 in /opt/conda/lib/python3.9/site-packages (from pandas>=0.25.1->phik) (2021.1)\n",
      "Requirement already satisfied: six>=1.5 in /opt/conda/lib/python3.9/site-packages (from python-dateutil>=2.1->matplotlib>=2.2.3->phik) (1.16.0)\n",
      "Installing collected packages: phik\n",
      "Successfully installed phik-0.12.2\n"
     ]
    }
   ],
   "source": [
    "#all imports and CONSTANTS\n",
    "import pandas as pd\n",
    "import numpy as np\n",
    "\n",
    "import matplotlib.pyplot as plt\n",
    "import seaborn as sns\n",
    "\n",
    "RS = 120922\n",
    "pd.set_option('display.max_columns', None)\n",
    "\n",
    "from sklearn.model_selection import train_test_split, GridSearchCV\n",
    "from sklearn.metrics import roc_auc_score, roc_curve, accuracy_score\n",
    "from sklearn import metrics\n",
    "from sklearn.utils import shuffle\n",
    "from sklearn.preprocessing import StandardScaler\n",
    "from sklearn.tree import DecisionTreeClassifier\n",
    "from sklearn.linear_model import LogisticRegression\n",
    "from sklearn.ensemble import RandomForestClassifier\n",
    "from sklearn.metrics import confusion_matrix\n",
    "from catboost import CatBoostClassifier\n",
    "from lightgbm import LGBMClassifier\n",
    "!pip install phik\n",
    "import phik\n",
    "from phik import resources, report\n",
    "from sklearn.preprocessing import  OneHotEncoder\n",
    "\n"
   ]
  },
  {
   "cell_type": "markdown",
   "metadata": {},
   "source": [
    "Загружаем данные"
   ]
  },
  {
   "cell_type": "code",
   "execution_count": 2,
   "metadata": {},
   "outputs": [],
   "source": [
    "contract = pd.read_csv('/datasets/final_provider/contract.csv')\n",
    "personal = pd.read_csv('/datasets/final_provider/personal.csv')\n",
    "internet = pd.read_csv('/datasets/final_provider/internet.csv')\n",
    "phone = pd.read_csv('/datasets/final_provider/phone.csv')\n",
    "\n",
    "dfs = [contract, personal, internet, phone]"
   ]
  },
  {
   "cell_type": "markdown",
   "metadata": {},
   "source": [
    "Изучим общую информацию о датафреймов"
   ]
  },
  {
   "cell_type": "code",
   "execution_count": 3,
   "metadata": {},
   "outputs": [],
   "source": [
    "def get_df_name(df):\n",
    "    name =[x for x in globals() if globals()[x] is df][0]\n",
    "    return name\n",
    "\n",
    "def get_info(df):\n",
    "    display(get_df_name(df))\n",
    "    display(df.sample(3))\n",
    "    display(df.info())\n",
    "    display(df.describe())\n",
    "    print('====='*10)"
   ]
  },
  {
   "cell_type": "code",
   "execution_count": 4,
   "metadata": {},
   "outputs": [
    {
     "data": {
      "text/plain": [
       "'contract'"
      ]
     },
     "metadata": {},
     "output_type": "display_data"
    },
    {
     "data": {
      "text/html": [
       "<div>\n",
       "<style scoped>\n",
       "    .dataframe tbody tr th:only-of-type {\n",
       "        vertical-align: middle;\n",
       "    }\n",
       "\n",
       "    .dataframe tbody tr th {\n",
       "        vertical-align: top;\n",
       "    }\n",
       "\n",
       "    .dataframe thead th {\n",
       "        text-align: right;\n",
       "    }\n",
       "</style>\n",
       "<table border=\"1\" class=\"dataframe\">\n",
       "  <thead>\n",
       "    <tr style=\"text-align: right;\">\n",
       "      <th></th>\n",
       "      <th>customerID</th>\n",
       "      <th>BeginDate</th>\n",
       "      <th>EndDate</th>\n",
       "      <th>Type</th>\n",
       "      <th>PaperlessBilling</th>\n",
       "      <th>PaymentMethod</th>\n",
       "      <th>MonthlyCharges</th>\n",
       "      <th>TotalCharges</th>\n",
       "    </tr>\n",
       "  </thead>\n",
       "  <tbody>\n",
       "    <tr>\n",
       "      <th>5066</th>\n",
       "      <td>7191-ADRGF</td>\n",
       "      <td>2016-06-01</td>\n",
       "      <td>No</td>\n",
       "      <td>Two year</td>\n",
       "      <td>No</td>\n",
       "      <td>Bank transfer (automatic)</td>\n",
       "      <td>54.30</td>\n",
       "      <td>2390.45</td>\n",
       "    </tr>\n",
       "    <tr>\n",
       "      <th>6623</th>\n",
       "      <td>9248-OJYKK</td>\n",
       "      <td>2019-09-01</td>\n",
       "      <td>2019-10-01 00:00:00</td>\n",
       "      <td>Month-to-month</td>\n",
       "      <td>Yes</td>\n",
       "      <td>Electronic check</td>\n",
       "      <td>76.45</td>\n",
       "      <td>76.45</td>\n",
       "    </tr>\n",
       "    <tr>\n",
       "      <th>2831</th>\n",
       "      <td>2454-RPBRZ</td>\n",
       "      <td>2018-10-01</td>\n",
       "      <td>2019-10-01 00:00:00</td>\n",
       "      <td>Month-to-month</td>\n",
       "      <td>Yes</td>\n",
       "      <td>Electronic check</td>\n",
       "      <td>98.10</td>\n",
       "      <td>1060.2</td>\n",
       "    </tr>\n",
       "  </tbody>\n",
       "</table>\n",
       "</div>"
      ],
      "text/plain": [
       "      customerID   BeginDate              EndDate            Type  \\\n",
       "5066  7191-ADRGF  2016-06-01                   No        Two year   \n",
       "6623  9248-OJYKK  2019-09-01  2019-10-01 00:00:00  Month-to-month   \n",
       "2831  2454-RPBRZ  2018-10-01  2019-10-01 00:00:00  Month-to-month   \n",
       "\n",
       "     PaperlessBilling              PaymentMethod  MonthlyCharges TotalCharges  \n",
       "5066               No  Bank transfer (automatic)           54.30      2390.45  \n",
       "6623              Yes           Electronic check           76.45        76.45  \n",
       "2831              Yes           Electronic check           98.10       1060.2  "
      ]
     },
     "metadata": {},
     "output_type": "display_data"
    },
    {
     "name": "stdout",
     "output_type": "stream",
     "text": [
      "<class 'pandas.core.frame.DataFrame'>\n",
      "RangeIndex: 7043 entries, 0 to 7042\n",
      "Data columns (total 8 columns):\n",
      " #   Column            Non-Null Count  Dtype  \n",
      "---  ------            --------------  -----  \n",
      " 0   customerID        7043 non-null   object \n",
      " 1   BeginDate         7043 non-null   object \n",
      " 2   EndDate           7043 non-null   object \n",
      " 3   Type              7043 non-null   object \n",
      " 4   PaperlessBilling  7043 non-null   object \n",
      " 5   PaymentMethod     7043 non-null   object \n",
      " 6   MonthlyCharges    7043 non-null   float64\n",
      " 7   TotalCharges      7043 non-null   object \n",
      "dtypes: float64(1), object(7)\n",
      "memory usage: 440.3+ KB\n"
     ]
    },
    {
     "data": {
      "text/plain": [
       "None"
      ]
     },
     "metadata": {},
     "output_type": "display_data"
    },
    {
     "data": {
      "text/html": [
       "<div>\n",
       "<style scoped>\n",
       "    .dataframe tbody tr th:only-of-type {\n",
       "        vertical-align: middle;\n",
       "    }\n",
       "\n",
       "    .dataframe tbody tr th {\n",
       "        vertical-align: top;\n",
       "    }\n",
       "\n",
       "    .dataframe thead th {\n",
       "        text-align: right;\n",
       "    }\n",
       "</style>\n",
       "<table border=\"1\" class=\"dataframe\">\n",
       "  <thead>\n",
       "    <tr style=\"text-align: right;\">\n",
       "      <th></th>\n",
       "      <th>MonthlyCharges</th>\n",
       "    </tr>\n",
       "  </thead>\n",
       "  <tbody>\n",
       "    <tr>\n",
       "      <th>count</th>\n",
       "      <td>7043.000000</td>\n",
       "    </tr>\n",
       "    <tr>\n",
       "      <th>mean</th>\n",
       "      <td>64.761692</td>\n",
       "    </tr>\n",
       "    <tr>\n",
       "      <th>std</th>\n",
       "      <td>30.090047</td>\n",
       "    </tr>\n",
       "    <tr>\n",
       "      <th>min</th>\n",
       "      <td>18.250000</td>\n",
       "    </tr>\n",
       "    <tr>\n",
       "      <th>25%</th>\n",
       "      <td>35.500000</td>\n",
       "    </tr>\n",
       "    <tr>\n",
       "      <th>50%</th>\n",
       "      <td>70.350000</td>\n",
       "    </tr>\n",
       "    <tr>\n",
       "      <th>75%</th>\n",
       "      <td>89.850000</td>\n",
       "    </tr>\n",
       "    <tr>\n",
       "      <th>max</th>\n",
       "      <td>118.750000</td>\n",
       "    </tr>\n",
       "  </tbody>\n",
       "</table>\n",
       "</div>"
      ],
      "text/plain": [
       "       MonthlyCharges\n",
       "count     7043.000000\n",
       "mean        64.761692\n",
       "std         30.090047\n",
       "min         18.250000\n",
       "25%         35.500000\n",
       "50%         70.350000\n",
       "75%         89.850000\n",
       "max        118.750000"
      ]
     },
     "metadata": {},
     "output_type": "display_data"
    },
    {
     "name": "stdout",
     "output_type": "stream",
     "text": [
      "==================================================\n"
     ]
    },
    {
     "data": {
      "text/plain": [
       "'personal'"
      ]
     },
     "metadata": {},
     "output_type": "display_data"
    },
    {
     "data": {
      "text/html": [
       "<div>\n",
       "<style scoped>\n",
       "    .dataframe tbody tr th:only-of-type {\n",
       "        vertical-align: middle;\n",
       "    }\n",
       "\n",
       "    .dataframe tbody tr th {\n",
       "        vertical-align: top;\n",
       "    }\n",
       "\n",
       "    .dataframe thead th {\n",
       "        text-align: right;\n",
       "    }\n",
       "</style>\n",
       "<table border=\"1\" class=\"dataframe\">\n",
       "  <thead>\n",
       "    <tr style=\"text-align: right;\">\n",
       "      <th></th>\n",
       "      <th>customerID</th>\n",
       "      <th>gender</th>\n",
       "      <th>SeniorCitizen</th>\n",
       "      <th>Partner</th>\n",
       "      <th>Dependents</th>\n",
       "    </tr>\n",
       "  </thead>\n",
       "  <tbody>\n",
       "    <tr>\n",
       "      <th>5915</th>\n",
       "      <td>9500-WBGRP</td>\n",
       "      <td>Male</td>\n",
       "      <td>0</td>\n",
       "      <td>No</td>\n",
       "      <td>No</td>\n",
       "    </tr>\n",
       "    <tr>\n",
       "      <th>127</th>\n",
       "      <td>6734-PSBAW</td>\n",
       "      <td>Male</td>\n",
       "      <td>0</td>\n",
       "      <td>Yes</td>\n",
       "      <td>No</td>\n",
       "    </tr>\n",
       "    <tr>\n",
       "      <th>3521</th>\n",
       "      <td>2550-AEVRU</td>\n",
       "      <td>Female</td>\n",
       "      <td>0</td>\n",
       "      <td>Yes</td>\n",
       "      <td>Yes</td>\n",
       "    </tr>\n",
       "  </tbody>\n",
       "</table>\n",
       "</div>"
      ],
      "text/plain": [
       "      customerID  gender  SeniorCitizen Partner Dependents\n",
       "5915  9500-WBGRP    Male              0      No         No\n",
       "127   6734-PSBAW    Male              0     Yes         No\n",
       "3521  2550-AEVRU  Female              0     Yes        Yes"
      ]
     },
     "metadata": {},
     "output_type": "display_data"
    },
    {
     "name": "stdout",
     "output_type": "stream",
     "text": [
      "<class 'pandas.core.frame.DataFrame'>\n",
      "RangeIndex: 7043 entries, 0 to 7042\n",
      "Data columns (total 5 columns):\n",
      " #   Column         Non-Null Count  Dtype \n",
      "---  ------         --------------  ----- \n",
      " 0   customerID     7043 non-null   object\n",
      " 1   gender         7043 non-null   object\n",
      " 2   SeniorCitizen  7043 non-null   int64 \n",
      " 3   Partner        7043 non-null   object\n",
      " 4   Dependents     7043 non-null   object\n",
      "dtypes: int64(1), object(4)\n",
      "memory usage: 275.2+ KB\n"
     ]
    },
    {
     "data": {
      "text/plain": [
       "None"
      ]
     },
     "metadata": {},
     "output_type": "display_data"
    },
    {
     "data": {
      "text/html": [
       "<div>\n",
       "<style scoped>\n",
       "    .dataframe tbody tr th:only-of-type {\n",
       "        vertical-align: middle;\n",
       "    }\n",
       "\n",
       "    .dataframe tbody tr th {\n",
       "        vertical-align: top;\n",
       "    }\n",
       "\n",
       "    .dataframe thead th {\n",
       "        text-align: right;\n",
       "    }\n",
       "</style>\n",
       "<table border=\"1\" class=\"dataframe\">\n",
       "  <thead>\n",
       "    <tr style=\"text-align: right;\">\n",
       "      <th></th>\n",
       "      <th>SeniorCitizen</th>\n",
       "    </tr>\n",
       "  </thead>\n",
       "  <tbody>\n",
       "    <tr>\n",
       "      <th>count</th>\n",
       "      <td>7043.000000</td>\n",
       "    </tr>\n",
       "    <tr>\n",
       "      <th>mean</th>\n",
       "      <td>0.162147</td>\n",
       "    </tr>\n",
       "    <tr>\n",
       "      <th>std</th>\n",
       "      <td>0.368612</td>\n",
       "    </tr>\n",
       "    <tr>\n",
       "      <th>min</th>\n",
       "      <td>0.000000</td>\n",
       "    </tr>\n",
       "    <tr>\n",
       "      <th>25%</th>\n",
       "      <td>0.000000</td>\n",
       "    </tr>\n",
       "    <tr>\n",
       "      <th>50%</th>\n",
       "      <td>0.000000</td>\n",
       "    </tr>\n",
       "    <tr>\n",
       "      <th>75%</th>\n",
       "      <td>0.000000</td>\n",
       "    </tr>\n",
       "    <tr>\n",
       "      <th>max</th>\n",
       "      <td>1.000000</td>\n",
       "    </tr>\n",
       "  </tbody>\n",
       "</table>\n",
       "</div>"
      ],
      "text/plain": [
       "       SeniorCitizen\n",
       "count    7043.000000\n",
       "mean        0.162147\n",
       "std         0.368612\n",
       "min         0.000000\n",
       "25%         0.000000\n",
       "50%         0.000000\n",
       "75%         0.000000\n",
       "max         1.000000"
      ]
     },
     "metadata": {},
     "output_type": "display_data"
    },
    {
     "name": "stdout",
     "output_type": "stream",
     "text": [
      "==================================================\n"
     ]
    },
    {
     "data": {
      "text/plain": [
       "'internet'"
      ]
     },
     "metadata": {},
     "output_type": "display_data"
    },
    {
     "data": {
      "text/html": [
       "<div>\n",
       "<style scoped>\n",
       "    .dataframe tbody tr th:only-of-type {\n",
       "        vertical-align: middle;\n",
       "    }\n",
       "\n",
       "    .dataframe tbody tr th {\n",
       "        vertical-align: top;\n",
       "    }\n",
       "\n",
       "    .dataframe thead th {\n",
       "        text-align: right;\n",
       "    }\n",
       "</style>\n",
       "<table border=\"1\" class=\"dataframe\">\n",
       "  <thead>\n",
       "    <tr style=\"text-align: right;\">\n",
       "      <th></th>\n",
       "      <th>customerID</th>\n",
       "      <th>InternetService</th>\n",
       "      <th>OnlineSecurity</th>\n",
       "      <th>OnlineBackup</th>\n",
       "      <th>DeviceProtection</th>\n",
       "      <th>TechSupport</th>\n",
       "      <th>StreamingTV</th>\n",
       "      <th>StreamingMovies</th>\n",
       "    </tr>\n",
       "  </thead>\n",
       "  <tbody>\n",
       "    <tr>\n",
       "      <th>1870</th>\n",
       "      <td>6993-YGFJV</td>\n",
       "      <td>Fiber optic</td>\n",
       "      <td>Yes</td>\n",
       "      <td>Yes</td>\n",
       "      <td>Yes</td>\n",
       "      <td>Yes</td>\n",
       "      <td>Yes</td>\n",
       "      <td>Yes</td>\n",
       "    </tr>\n",
       "    <tr>\n",
       "      <th>3179</th>\n",
       "      <td>0757-WCUUZ</td>\n",
       "      <td>DSL</td>\n",
       "      <td>No</td>\n",
       "      <td>No</td>\n",
       "      <td>Yes</td>\n",
       "      <td>No</td>\n",
       "      <td>No</td>\n",
       "      <td>Yes</td>\n",
       "    </tr>\n",
       "    <tr>\n",
       "      <th>2034</th>\n",
       "      <td>3096-YXENJ</td>\n",
       "      <td>Fiber optic</td>\n",
       "      <td>No</td>\n",
       "      <td>Yes</td>\n",
       "      <td>Yes</td>\n",
       "      <td>Yes</td>\n",
       "      <td>Yes</td>\n",
       "      <td>Yes</td>\n",
       "    </tr>\n",
       "  </tbody>\n",
       "</table>\n",
       "</div>"
      ],
      "text/plain": [
       "      customerID InternetService OnlineSecurity OnlineBackup DeviceProtection  \\\n",
       "1870  6993-YGFJV     Fiber optic            Yes          Yes              Yes   \n",
       "3179  0757-WCUUZ             DSL             No           No              Yes   \n",
       "2034  3096-YXENJ     Fiber optic             No          Yes              Yes   \n",
       "\n",
       "     TechSupport StreamingTV StreamingMovies  \n",
       "1870         Yes         Yes             Yes  \n",
       "3179          No          No             Yes  \n",
       "2034         Yes         Yes             Yes  "
      ]
     },
     "metadata": {},
     "output_type": "display_data"
    },
    {
     "name": "stdout",
     "output_type": "stream",
     "text": [
      "<class 'pandas.core.frame.DataFrame'>\n",
      "RangeIndex: 5517 entries, 0 to 5516\n",
      "Data columns (total 8 columns):\n",
      " #   Column            Non-Null Count  Dtype \n",
      "---  ------            --------------  ----- \n",
      " 0   customerID        5517 non-null   object\n",
      " 1   InternetService   5517 non-null   object\n",
      " 2   OnlineSecurity    5517 non-null   object\n",
      " 3   OnlineBackup      5517 non-null   object\n",
      " 4   DeviceProtection  5517 non-null   object\n",
      " 5   TechSupport       5517 non-null   object\n",
      " 6   StreamingTV       5517 non-null   object\n",
      " 7   StreamingMovies   5517 non-null   object\n",
      "dtypes: object(8)\n",
      "memory usage: 344.9+ KB\n"
     ]
    },
    {
     "data": {
      "text/plain": [
       "None"
      ]
     },
     "metadata": {},
     "output_type": "display_data"
    },
    {
     "data": {
      "text/html": [
       "<div>\n",
       "<style scoped>\n",
       "    .dataframe tbody tr th:only-of-type {\n",
       "        vertical-align: middle;\n",
       "    }\n",
       "\n",
       "    .dataframe tbody tr th {\n",
       "        vertical-align: top;\n",
       "    }\n",
       "\n",
       "    .dataframe thead th {\n",
       "        text-align: right;\n",
       "    }\n",
       "</style>\n",
       "<table border=\"1\" class=\"dataframe\">\n",
       "  <thead>\n",
       "    <tr style=\"text-align: right;\">\n",
       "      <th></th>\n",
       "      <th>customerID</th>\n",
       "      <th>InternetService</th>\n",
       "      <th>OnlineSecurity</th>\n",
       "      <th>OnlineBackup</th>\n",
       "      <th>DeviceProtection</th>\n",
       "      <th>TechSupport</th>\n",
       "      <th>StreamingTV</th>\n",
       "      <th>StreamingMovies</th>\n",
       "    </tr>\n",
       "  </thead>\n",
       "  <tbody>\n",
       "    <tr>\n",
       "      <th>count</th>\n",
       "      <td>5517</td>\n",
       "      <td>5517</td>\n",
       "      <td>5517</td>\n",
       "      <td>5517</td>\n",
       "      <td>5517</td>\n",
       "      <td>5517</td>\n",
       "      <td>5517</td>\n",
       "      <td>5517</td>\n",
       "    </tr>\n",
       "    <tr>\n",
       "      <th>unique</th>\n",
       "      <td>5517</td>\n",
       "      <td>2</td>\n",
       "      <td>2</td>\n",
       "      <td>2</td>\n",
       "      <td>2</td>\n",
       "      <td>2</td>\n",
       "      <td>2</td>\n",
       "      <td>2</td>\n",
       "    </tr>\n",
       "    <tr>\n",
       "      <th>top</th>\n",
       "      <td>9309-BZGNT</td>\n",
       "      <td>Fiber optic</td>\n",
       "      <td>No</td>\n",
       "      <td>No</td>\n",
       "      <td>No</td>\n",
       "      <td>No</td>\n",
       "      <td>No</td>\n",
       "      <td>No</td>\n",
       "    </tr>\n",
       "    <tr>\n",
       "      <th>freq</th>\n",
       "      <td>1</td>\n",
       "      <td>3096</td>\n",
       "      <td>3498</td>\n",
       "      <td>3088</td>\n",
       "      <td>3095</td>\n",
       "      <td>3473</td>\n",
       "      <td>2810</td>\n",
       "      <td>2785</td>\n",
       "    </tr>\n",
       "  </tbody>\n",
       "</table>\n",
       "</div>"
      ],
      "text/plain": [
       "        customerID InternetService OnlineSecurity OnlineBackup  \\\n",
       "count         5517            5517           5517         5517   \n",
       "unique        5517               2              2            2   \n",
       "top     9309-BZGNT     Fiber optic             No           No   \n",
       "freq             1            3096           3498         3088   \n",
       "\n",
       "       DeviceProtection TechSupport StreamingTV StreamingMovies  \n",
       "count              5517        5517        5517            5517  \n",
       "unique                2           2           2               2  \n",
       "top                  No          No          No              No  \n",
       "freq               3095        3473        2810            2785  "
      ]
     },
     "metadata": {},
     "output_type": "display_data"
    },
    {
     "name": "stdout",
     "output_type": "stream",
     "text": [
      "==================================================\n"
     ]
    },
    {
     "data": {
      "text/plain": [
       "'phone'"
      ]
     },
     "metadata": {},
     "output_type": "display_data"
    },
    {
     "data": {
      "text/html": [
       "<div>\n",
       "<style scoped>\n",
       "    .dataframe tbody tr th:only-of-type {\n",
       "        vertical-align: middle;\n",
       "    }\n",
       "\n",
       "    .dataframe tbody tr th {\n",
       "        vertical-align: top;\n",
       "    }\n",
       "\n",
       "    .dataframe thead th {\n",
       "        text-align: right;\n",
       "    }\n",
       "</style>\n",
       "<table border=\"1\" class=\"dataframe\">\n",
       "  <thead>\n",
       "    <tr style=\"text-align: right;\">\n",
       "      <th></th>\n",
       "      <th>customerID</th>\n",
       "      <th>MultipleLines</th>\n",
       "    </tr>\n",
       "  </thead>\n",
       "  <tbody>\n",
       "    <tr>\n",
       "      <th>4999</th>\n",
       "      <td>3173-NVMPX</td>\n",
       "      <td>Yes</td>\n",
       "    </tr>\n",
       "    <tr>\n",
       "      <th>1647</th>\n",
       "      <td>6016-LVTJQ</td>\n",
       "      <td>No</td>\n",
       "    </tr>\n",
       "    <tr>\n",
       "      <th>4151</th>\n",
       "      <td>7639-SUPCW</td>\n",
       "      <td>No</td>\n",
       "    </tr>\n",
       "  </tbody>\n",
       "</table>\n",
       "</div>"
      ],
      "text/plain": [
       "      customerID MultipleLines\n",
       "4999  3173-NVMPX           Yes\n",
       "1647  6016-LVTJQ            No\n",
       "4151  7639-SUPCW            No"
      ]
     },
     "metadata": {},
     "output_type": "display_data"
    },
    {
     "name": "stdout",
     "output_type": "stream",
     "text": [
      "<class 'pandas.core.frame.DataFrame'>\n",
      "RangeIndex: 6361 entries, 0 to 6360\n",
      "Data columns (total 2 columns):\n",
      " #   Column         Non-Null Count  Dtype \n",
      "---  ------         --------------  ----- \n",
      " 0   customerID     6361 non-null   object\n",
      " 1   MultipleLines  6361 non-null   object\n",
      "dtypes: object(2)\n",
      "memory usage: 99.5+ KB\n"
     ]
    },
    {
     "data": {
      "text/plain": [
       "None"
      ]
     },
     "metadata": {},
     "output_type": "display_data"
    },
    {
     "data": {
      "text/html": [
       "<div>\n",
       "<style scoped>\n",
       "    .dataframe tbody tr th:only-of-type {\n",
       "        vertical-align: middle;\n",
       "    }\n",
       "\n",
       "    .dataframe tbody tr th {\n",
       "        vertical-align: top;\n",
       "    }\n",
       "\n",
       "    .dataframe thead th {\n",
       "        text-align: right;\n",
       "    }\n",
       "</style>\n",
       "<table border=\"1\" class=\"dataframe\">\n",
       "  <thead>\n",
       "    <tr style=\"text-align: right;\">\n",
       "      <th></th>\n",
       "      <th>customerID</th>\n",
       "      <th>MultipleLines</th>\n",
       "    </tr>\n",
       "  </thead>\n",
       "  <tbody>\n",
       "    <tr>\n",
       "      <th>count</th>\n",
       "      <td>6361</td>\n",
       "      <td>6361</td>\n",
       "    </tr>\n",
       "    <tr>\n",
       "      <th>unique</th>\n",
       "      <td>6361</td>\n",
       "      <td>2</td>\n",
       "    </tr>\n",
       "    <tr>\n",
       "      <th>top</th>\n",
       "      <td>3916-NRPAP</td>\n",
       "      <td>No</td>\n",
       "    </tr>\n",
       "    <tr>\n",
       "      <th>freq</th>\n",
       "      <td>1</td>\n",
       "      <td>3390</td>\n",
       "    </tr>\n",
       "  </tbody>\n",
       "</table>\n",
       "</div>"
      ],
      "text/plain": [
       "        customerID MultipleLines\n",
       "count         6361          6361\n",
       "unique        6361             2\n",
       "top     3916-NRPAP            No\n",
       "freq             1          3390"
      ]
     },
     "metadata": {},
     "output_type": "display_data"
    },
    {
     "name": "stdout",
     "output_type": "stream",
     "text": [
      "==================================================\n"
     ]
    }
   ],
   "source": [
    "for df in dfs:\n",
    "    get_info(df)"
   ]
  },
  {
   "cell_type": "markdown",
   "metadata": {},
   "source": [
    "Суть задачи: данные размещенны в 4 датафреймах, связующим во всех четырех таблицах является поле customerID. Цель - спроектировать модель бинарной классификации: клиент скоро уйдет/клиент не собирается уходить. \n",
    "Так как имеем значительное число категориальных данных, будем ориентироваться на модели  RandomForest, CatBoost, LightGBM.  \n",
    "\n",
    "<b>План работы:</b>\n",
    "1. Исправляем название columns в snake_case, \n",
    "    посмотрим на duplicates, \n",
    "    nan, если есть возможность заполнить пропуски, заполним, \n",
    "    обработаем корректность типов данных (числа, даты)\n",
    "2. Посмотрим на выборосы, в случае если детектируем явные выбросы - удалим.\n",
    "3. Возможно заменим строковые данные на бинарные. \n",
    "4. Подумать над созданием дополнительных признаков, а также сгенерировать целевой признак. Выделить категориальные признаки    \n",
    "5. Разбить данные на выборки\n",
    "6. Используя GridSearchCV и/или RandomizedSearchCV попробуем подобрать оптимальные гиперпараметры моделей\n",
    "7. Выявляем оптимальную модель, анализируем результаты и делаем выводы.    "
   ]
  },
  {
   "cell_type": "code",
   "execution_count": 5,
   "metadata": {},
   "outputs": [
    {
     "data": {
      "text/plain": [
       "Index(['customerID', 'BeginDate', 'EndDate', 'Type', 'PaperlessBilling',\n",
       "       'PaymentMethod', 'MonthlyCharges', 'TotalCharges'],\n",
       "      dtype='object')"
      ]
     },
     "execution_count": 5,
     "metadata": {},
     "output_type": "execute_result"
    }
   ],
   "source": [
    "contract.columns"
   ]
  },
  {
   "cell_type": "markdown",
   "metadata": {},
   "source": [
    "Переименуем столбцы датафреймов в snake_case тип:"
   ]
  },
  {
   "cell_type": "code",
   "execution_count": 6,
   "metadata": {},
   "outputs": [],
   "source": [
    "def splitAtUpperCase(text): # вспомогательная функция для разделения текста по upper case\n",
    "    result = \"\"\n",
    "    for char in text:\n",
    "        if char.isupper():\n",
    "            result += \"_\" + char.lower()\n",
    "        else:\n",
    "            result += char\n",
    "    return result.strip('_')"
   ]
  },
  {
   "cell_type": "code",
   "execution_count": 7,
   "metadata": {},
   "outputs": [],
   "source": [
    "def rename_columns(df):\n",
    "    df.rename(columns=dict(zip(df.columns, [splitAtUpperCase(i) for i in df.columns])), inplace=True)\n",
    "    df.rename(columns={'customer_i_d':'customer_id'}, inplace=True) # устраняем недоделки нашей функции splitAtUpperCase\n",
    "    \n",
    "  "
   ]
  },
  {
   "cell_type": "code",
   "execution_count": 8,
   "metadata": {},
   "outputs": [
    {
     "name": "stdout",
     "output_type": "stream",
     "text": [
      "Index(['customer_id', 'begin_date', 'end_date', 'type', 'paperless_billing',\n",
      "       'payment_method', 'monthly_charges', 'total_charges'],\n",
      "      dtype='object')\n",
      "Index(['customer_id', 'gender', 'senior_citizen', 'partner', 'dependents'], dtype='object')\n",
      "Index(['customer_id', 'internet_service', 'online_security', 'online_backup',\n",
      "       'device_protection', 'tech_support', 'streaming_t_v',\n",
      "       'streaming_movies'],\n",
      "      dtype='object')\n",
      "Index(['customer_id', 'multiple_lines'], dtype='object')\n"
     ]
    }
   ],
   "source": [
    "internet.rename(columns={'streaming_t_v':'streaming_tv'}, inplace=True) \n",
    "\n",
    "for df in dfs:\n",
    "    rename_columns(df)\n",
    "    print(df.columns)    "
   ]
  },
  {
   "cell_type": "markdown",
   "metadata": {},
   "source": [
    "Добавим целевую переменную и заменим дату незавершения договора на дату выгрузки данных:"
   ]
  },
  {
   "cell_type": "code",
   "execution_count": 9,
   "metadata": {},
   "outputs": [],
   "source": [
    "contract['gone'] = (contract['end_date'] != 'No').astype(int)"
   ]
  },
  {
   "cell_type": "code",
   "execution_count": 10,
   "metadata": {},
   "outputs": [],
   "source": [
    "contract['end_date'].replace({'No': '2020-02-01'}, inplace=True)"
   ]
  },
  {
   "cell_type": "markdown",
   "metadata": {},
   "source": [
    "Преобразуем строковые бинарные данные в цифровые."
   ]
  },
  {
   "cell_type": "code",
   "execution_count": 11,
   "metadata": {},
   "outputs": [],
   "source": [
    "for df in dfs:\n",
    "    df.replace({'Yes':1, 'No':0}, inplace=True)"
   ]
  },
  {
   "cell_type": "markdown",
   "metadata": {},
   "source": [
    "Посмотрим на типы данных в колонках датафреймов"
   ]
  },
  {
   "cell_type": "code",
   "execution_count": 12,
   "metadata": {},
   "outputs": [
    {
     "data": {
      "text/plain": [
       "'contract'"
      ]
     },
     "metadata": {},
     "output_type": "display_data"
    },
    {
     "data": {
      "text/html": [
       "<div>\n",
       "<style scoped>\n",
       "    .dataframe tbody tr th:only-of-type {\n",
       "        vertical-align: middle;\n",
       "    }\n",
       "\n",
       "    .dataframe tbody tr th {\n",
       "        vertical-align: top;\n",
       "    }\n",
       "\n",
       "    .dataframe thead th {\n",
       "        text-align: right;\n",
       "    }\n",
       "</style>\n",
       "<table border=\"1\" class=\"dataframe\">\n",
       "  <thead>\n",
       "    <tr style=\"text-align: right;\">\n",
       "      <th></th>\n",
       "      <th>customer_id</th>\n",
       "      <th>begin_date</th>\n",
       "      <th>end_date</th>\n",
       "      <th>type</th>\n",
       "      <th>paperless_billing</th>\n",
       "      <th>payment_method</th>\n",
       "      <th>monthly_charges</th>\n",
       "      <th>total_charges</th>\n",
       "      <th>gone</th>\n",
       "    </tr>\n",
       "  </thead>\n",
       "  <tbody>\n",
       "    <tr>\n",
       "      <th>6836</th>\n",
       "      <td>5868-YWPDW</td>\n",
       "      <td>2019-05-01</td>\n",
       "      <td>2019-11-01 00:00:00</td>\n",
       "      <td>Month-to-month</td>\n",
       "      <td>1</td>\n",
       "      <td>Electronic check</td>\n",
       "      <td>84.2</td>\n",
       "      <td>519.15</td>\n",
       "      <td>1</td>\n",
       "    </tr>\n",
       "    <tr>\n",
       "      <th>1731</th>\n",
       "      <td>8375-DKEBR</td>\n",
       "      <td>2019-12-01</td>\n",
       "      <td>2020-01-01 00:00:00</td>\n",
       "      <td>Month-to-month</td>\n",
       "      <td>1</td>\n",
       "      <td>Electronic check</td>\n",
       "      <td>69.6</td>\n",
       "      <td>69.6</td>\n",
       "      <td>1</td>\n",
       "    </tr>\n",
       "    <tr>\n",
       "      <th>4184</th>\n",
       "      <td>0495-ZBNGW</td>\n",
       "      <td>2019-05-01</td>\n",
       "      <td>2019-10-01 00:00:00</td>\n",
       "      <td>Month-to-month</td>\n",
       "      <td>1</td>\n",
       "      <td>Bank transfer (automatic)</td>\n",
       "      <td>79.9</td>\n",
       "      <td>343.95</td>\n",
       "      <td>1</td>\n",
       "    </tr>\n",
       "  </tbody>\n",
       "</table>\n",
       "</div>"
      ],
      "text/plain": [
       "     customer_id  begin_date             end_date            type  \\\n",
       "6836  5868-YWPDW  2019-05-01  2019-11-01 00:00:00  Month-to-month   \n",
       "1731  8375-DKEBR  2019-12-01  2020-01-01 00:00:00  Month-to-month   \n",
       "4184  0495-ZBNGW  2019-05-01  2019-10-01 00:00:00  Month-to-month   \n",
       "\n",
       "      paperless_billing             payment_method  monthly_charges  \\\n",
       "6836                  1           Electronic check             84.2   \n",
       "1731                  1           Electronic check             69.6   \n",
       "4184                  1  Bank transfer (automatic)             79.9   \n",
       "\n",
       "     total_charges  gone  \n",
       "6836        519.15     1  \n",
       "1731          69.6     1  \n",
       "4184        343.95     1  "
      ]
     },
     "metadata": {},
     "output_type": "display_data"
    },
    {
     "name": "stdout",
     "output_type": "stream",
     "text": [
      "<class 'pandas.core.frame.DataFrame'>\n",
      "RangeIndex: 7043 entries, 0 to 7042\n",
      "Data columns (total 9 columns):\n",
      " #   Column             Non-Null Count  Dtype  \n",
      "---  ------             --------------  -----  \n",
      " 0   customer_id        7043 non-null   object \n",
      " 1   begin_date         7043 non-null   object \n",
      " 2   end_date           7043 non-null   object \n",
      " 3   type               7043 non-null   object \n",
      " 4   paperless_billing  7043 non-null   int64  \n",
      " 5   payment_method     7043 non-null   object \n",
      " 6   monthly_charges    7043 non-null   float64\n",
      " 7   total_charges      7043 non-null   object \n",
      " 8   gone               7043 non-null   int64  \n",
      "dtypes: float64(1), int64(2), object(6)\n",
      "memory usage: 495.3+ KB\n"
     ]
    },
    {
     "data": {
      "text/plain": [
       "None"
      ]
     },
     "metadata": {},
     "output_type": "display_data"
    },
    {
     "data": {
      "text/html": [
       "<div>\n",
       "<style scoped>\n",
       "    .dataframe tbody tr th:only-of-type {\n",
       "        vertical-align: middle;\n",
       "    }\n",
       "\n",
       "    .dataframe tbody tr th {\n",
       "        vertical-align: top;\n",
       "    }\n",
       "\n",
       "    .dataframe thead th {\n",
       "        text-align: right;\n",
       "    }\n",
       "</style>\n",
       "<table border=\"1\" class=\"dataframe\">\n",
       "  <thead>\n",
       "    <tr style=\"text-align: right;\">\n",
       "      <th></th>\n",
       "      <th>paperless_billing</th>\n",
       "      <th>monthly_charges</th>\n",
       "      <th>gone</th>\n",
       "    </tr>\n",
       "  </thead>\n",
       "  <tbody>\n",
       "    <tr>\n",
       "      <th>count</th>\n",
       "      <td>7043.000000</td>\n",
       "      <td>7043.000000</td>\n",
       "      <td>7043.000000</td>\n",
       "    </tr>\n",
       "    <tr>\n",
       "      <th>mean</th>\n",
       "      <td>0.592219</td>\n",
       "      <td>64.761692</td>\n",
       "      <td>0.265370</td>\n",
       "    </tr>\n",
       "    <tr>\n",
       "      <th>std</th>\n",
       "      <td>0.491457</td>\n",
       "      <td>30.090047</td>\n",
       "      <td>0.441561</td>\n",
       "    </tr>\n",
       "    <tr>\n",
       "      <th>min</th>\n",
       "      <td>0.000000</td>\n",
       "      <td>18.250000</td>\n",
       "      <td>0.000000</td>\n",
       "    </tr>\n",
       "    <tr>\n",
       "      <th>25%</th>\n",
       "      <td>0.000000</td>\n",
       "      <td>35.500000</td>\n",
       "      <td>0.000000</td>\n",
       "    </tr>\n",
       "    <tr>\n",
       "      <th>50%</th>\n",
       "      <td>1.000000</td>\n",
       "      <td>70.350000</td>\n",
       "      <td>0.000000</td>\n",
       "    </tr>\n",
       "    <tr>\n",
       "      <th>75%</th>\n",
       "      <td>1.000000</td>\n",
       "      <td>89.850000</td>\n",
       "      <td>1.000000</td>\n",
       "    </tr>\n",
       "    <tr>\n",
       "      <th>max</th>\n",
       "      <td>1.000000</td>\n",
       "      <td>118.750000</td>\n",
       "      <td>1.000000</td>\n",
       "    </tr>\n",
       "  </tbody>\n",
       "</table>\n",
       "</div>"
      ],
      "text/plain": [
       "       paperless_billing  monthly_charges         gone\n",
       "count        7043.000000      7043.000000  7043.000000\n",
       "mean            0.592219        64.761692     0.265370\n",
       "std             0.491457        30.090047     0.441561\n",
       "min             0.000000        18.250000     0.000000\n",
       "25%             0.000000        35.500000     0.000000\n",
       "50%             1.000000        70.350000     0.000000\n",
       "75%             1.000000        89.850000     1.000000\n",
       "max             1.000000       118.750000     1.000000"
      ]
     },
     "metadata": {},
     "output_type": "display_data"
    },
    {
     "name": "stdout",
     "output_type": "stream",
     "text": [
      "==================================================\n"
     ]
    },
    {
     "data": {
      "text/plain": [
       "'personal'"
      ]
     },
     "metadata": {},
     "output_type": "display_data"
    },
    {
     "data": {
      "text/html": [
       "<div>\n",
       "<style scoped>\n",
       "    .dataframe tbody tr th:only-of-type {\n",
       "        vertical-align: middle;\n",
       "    }\n",
       "\n",
       "    .dataframe tbody tr th {\n",
       "        vertical-align: top;\n",
       "    }\n",
       "\n",
       "    .dataframe thead th {\n",
       "        text-align: right;\n",
       "    }\n",
       "</style>\n",
       "<table border=\"1\" class=\"dataframe\">\n",
       "  <thead>\n",
       "    <tr style=\"text-align: right;\">\n",
       "      <th></th>\n",
       "      <th>customer_id</th>\n",
       "      <th>gender</th>\n",
       "      <th>senior_citizen</th>\n",
       "      <th>partner</th>\n",
       "      <th>dependents</th>\n",
       "    </tr>\n",
       "  </thead>\n",
       "  <tbody>\n",
       "    <tr>\n",
       "      <th>3856</th>\n",
       "      <td>6710-HSJRD</td>\n",
       "      <td>Male</td>\n",
       "      <td>0</td>\n",
       "      <td>1</td>\n",
       "      <td>0</td>\n",
       "    </tr>\n",
       "    <tr>\n",
       "      <th>5717</th>\n",
       "      <td>8169-SAEJD</td>\n",
       "      <td>Male</td>\n",
       "      <td>1</td>\n",
       "      <td>1</td>\n",
       "      <td>0</td>\n",
       "    </tr>\n",
       "    <tr>\n",
       "      <th>3756</th>\n",
       "      <td>9136-ALYBR</td>\n",
       "      <td>Male</td>\n",
       "      <td>0</td>\n",
       "      <td>0</td>\n",
       "      <td>0</td>\n",
       "    </tr>\n",
       "  </tbody>\n",
       "</table>\n",
       "</div>"
      ],
      "text/plain": [
       "     customer_id gender  senior_citizen  partner  dependents\n",
       "3856  6710-HSJRD   Male               0        1           0\n",
       "5717  8169-SAEJD   Male               1        1           0\n",
       "3756  9136-ALYBR   Male               0        0           0"
      ]
     },
     "metadata": {},
     "output_type": "display_data"
    },
    {
     "name": "stdout",
     "output_type": "stream",
     "text": [
      "<class 'pandas.core.frame.DataFrame'>\n",
      "RangeIndex: 7043 entries, 0 to 7042\n",
      "Data columns (total 5 columns):\n",
      " #   Column          Non-Null Count  Dtype \n",
      "---  ------          --------------  ----- \n",
      " 0   customer_id     7043 non-null   object\n",
      " 1   gender          7043 non-null   object\n",
      " 2   senior_citizen  7043 non-null   int64 \n",
      " 3   partner         7043 non-null   int64 \n",
      " 4   dependents      7043 non-null   int64 \n",
      "dtypes: int64(3), object(2)\n",
      "memory usage: 275.2+ KB\n"
     ]
    },
    {
     "data": {
      "text/plain": [
       "None"
      ]
     },
     "metadata": {},
     "output_type": "display_data"
    },
    {
     "data": {
      "text/html": [
       "<div>\n",
       "<style scoped>\n",
       "    .dataframe tbody tr th:only-of-type {\n",
       "        vertical-align: middle;\n",
       "    }\n",
       "\n",
       "    .dataframe tbody tr th {\n",
       "        vertical-align: top;\n",
       "    }\n",
       "\n",
       "    .dataframe thead th {\n",
       "        text-align: right;\n",
       "    }\n",
       "</style>\n",
       "<table border=\"1\" class=\"dataframe\">\n",
       "  <thead>\n",
       "    <tr style=\"text-align: right;\">\n",
       "      <th></th>\n",
       "      <th>senior_citizen</th>\n",
       "      <th>partner</th>\n",
       "      <th>dependents</th>\n",
       "    </tr>\n",
       "  </thead>\n",
       "  <tbody>\n",
       "    <tr>\n",
       "      <th>count</th>\n",
       "      <td>7043.000000</td>\n",
       "      <td>7043.000000</td>\n",
       "      <td>7043.000000</td>\n",
       "    </tr>\n",
       "    <tr>\n",
       "      <th>mean</th>\n",
       "      <td>0.162147</td>\n",
       "      <td>0.483033</td>\n",
       "      <td>0.299588</td>\n",
       "    </tr>\n",
       "    <tr>\n",
       "      <th>std</th>\n",
       "      <td>0.368612</td>\n",
       "      <td>0.499748</td>\n",
       "      <td>0.458110</td>\n",
       "    </tr>\n",
       "    <tr>\n",
       "      <th>min</th>\n",
       "      <td>0.000000</td>\n",
       "      <td>0.000000</td>\n",
       "      <td>0.000000</td>\n",
       "    </tr>\n",
       "    <tr>\n",
       "      <th>25%</th>\n",
       "      <td>0.000000</td>\n",
       "      <td>0.000000</td>\n",
       "      <td>0.000000</td>\n",
       "    </tr>\n",
       "    <tr>\n",
       "      <th>50%</th>\n",
       "      <td>0.000000</td>\n",
       "      <td>0.000000</td>\n",
       "      <td>0.000000</td>\n",
       "    </tr>\n",
       "    <tr>\n",
       "      <th>75%</th>\n",
       "      <td>0.000000</td>\n",
       "      <td>1.000000</td>\n",
       "      <td>1.000000</td>\n",
       "    </tr>\n",
       "    <tr>\n",
       "      <th>max</th>\n",
       "      <td>1.000000</td>\n",
       "      <td>1.000000</td>\n",
       "      <td>1.000000</td>\n",
       "    </tr>\n",
       "  </tbody>\n",
       "</table>\n",
       "</div>"
      ],
      "text/plain": [
       "       senior_citizen      partner   dependents\n",
       "count     7043.000000  7043.000000  7043.000000\n",
       "mean         0.162147     0.483033     0.299588\n",
       "std          0.368612     0.499748     0.458110\n",
       "min          0.000000     0.000000     0.000000\n",
       "25%          0.000000     0.000000     0.000000\n",
       "50%          0.000000     0.000000     0.000000\n",
       "75%          0.000000     1.000000     1.000000\n",
       "max          1.000000     1.000000     1.000000"
      ]
     },
     "metadata": {},
     "output_type": "display_data"
    },
    {
     "name": "stdout",
     "output_type": "stream",
     "text": [
      "==================================================\n"
     ]
    },
    {
     "data": {
      "text/plain": [
       "'internet'"
      ]
     },
     "metadata": {},
     "output_type": "display_data"
    },
    {
     "data": {
      "text/html": [
       "<div>\n",
       "<style scoped>\n",
       "    .dataframe tbody tr th:only-of-type {\n",
       "        vertical-align: middle;\n",
       "    }\n",
       "\n",
       "    .dataframe tbody tr th {\n",
       "        vertical-align: top;\n",
       "    }\n",
       "\n",
       "    .dataframe thead th {\n",
       "        text-align: right;\n",
       "    }\n",
       "</style>\n",
       "<table border=\"1\" class=\"dataframe\">\n",
       "  <thead>\n",
       "    <tr style=\"text-align: right;\">\n",
       "      <th></th>\n",
       "      <th>customer_id</th>\n",
       "      <th>internet_service</th>\n",
       "      <th>online_security</th>\n",
       "      <th>online_backup</th>\n",
       "      <th>device_protection</th>\n",
       "      <th>tech_support</th>\n",
       "      <th>streaming_t_v</th>\n",
       "      <th>streaming_movies</th>\n",
       "    </tr>\n",
       "  </thead>\n",
       "  <tbody>\n",
       "    <tr>\n",
       "      <th>1776</th>\n",
       "      <td>6204-IEUXJ</td>\n",
       "      <td>Fiber optic</td>\n",
       "      <td>0</td>\n",
       "      <td>0</td>\n",
       "      <td>1</td>\n",
       "      <td>1</td>\n",
       "      <td>0</td>\n",
       "      <td>0</td>\n",
       "    </tr>\n",
       "    <tr>\n",
       "      <th>2804</th>\n",
       "      <td>5913-INRQV</td>\n",
       "      <td>Fiber optic</td>\n",
       "      <td>1</td>\n",
       "      <td>0</td>\n",
       "      <td>0</td>\n",
       "      <td>1</td>\n",
       "      <td>1</td>\n",
       "      <td>0</td>\n",
       "    </tr>\n",
       "    <tr>\n",
       "      <th>5049</th>\n",
       "      <td>4726-DLWQN</td>\n",
       "      <td>DSL</td>\n",
       "      <td>1</td>\n",
       "      <td>1</td>\n",
       "      <td>0</td>\n",
       "      <td>0</td>\n",
       "      <td>1</td>\n",
       "      <td>0</td>\n",
       "    </tr>\n",
       "  </tbody>\n",
       "</table>\n",
       "</div>"
      ],
      "text/plain": [
       "     customer_id internet_service  online_security  online_backup  \\\n",
       "1776  6204-IEUXJ      Fiber optic                0              0   \n",
       "2804  5913-INRQV      Fiber optic                1              0   \n",
       "5049  4726-DLWQN              DSL                1              1   \n",
       "\n",
       "      device_protection  tech_support  streaming_t_v  streaming_movies  \n",
       "1776                  1             1              0                 0  \n",
       "2804                  0             1              1                 0  \n",
       "5049                  0             0              1                 0  "
      ]
     },
     "metadata": {},
     "output_type": "display_data"
    },
    {
     "name": "stdout",
     "output_type": "stream",
     "text": [
      "<class 'pandas.core.frame.DataFrame'>\n",
      "RangeIndex: 5517 entries, 0 to 5516\n",
      "Data columns (total 8 columns):\n",
      " #   Column             Non-Null Count  Dtype \n",
      "---  ------             --------------  ----- \n",
      " 0   customer_id        5517 non-null   object\n",
      " 1   internet_service   5517 non-null   object\n",
      " 2   online_security    5517 non-null   int64 \n",
      " 3   online_backup      5517 non-null   int64 \n",
      " 4   device_protection  5517 non-null   int64 \n",
      " 5   tech_support       5517 non-null   int64 \n",
      " 6   streaming_t_v      5517 non-null   int64 \n",
      " 7   streaming_movies   5517 non-null   int64 \n",
      "dtypes: int64(6), object(2)\n",
      "memory usage: 344.9+ KB\n"
     ]
    },
    {
     "data": {
      "text/plain": [
       "None"
      ]
     },
     "metadata": {},
     "output_type": "display_data"
    },
    {
     "data": {
      "text/html": [
       "<div>\n",
       "<style scoped>\n",
       "    .dataframe tbody tr th:only-of-type {\n",
       "        vertical-align: middle;\n",
       "    }\n",
       "\n",
       "    .dataframe tbody tr th {\n",
       "        vertical-align: top;\n",
       "    }\n",
       "\n",
       "    .dataframe thead th {\n",
       "        text-align: right;\n",
       "    }\n",
       "</style>\n",
       "<table border=\"1\" class=\"dataframe\">\n",
       "  <thead>\n",
       "    <tr style=\"text-align: right;\">\n",
       "      <th></th>\n",
       "      <th>online_security</th>\n",
       "      <th>online_backup</th>\n",
       "      <th>device_protection</th>\n",
       "      <th>tech_support</th>\n",
       "      <th>streaming_t_v</th>\n",
       "      <th>streaming_movies</th>\n",
       "    </tr>\n",
       "  </thead>\n",
       "  <tbody>\n",
       "    <tr>\n",
       "      <th>count</th>\n",
       "      <td>5517.000000</td>\n",
       "      <td>5517.000000</td>\n",
       "      <td>5517.000000</td>\n",
       "      <td>5517.000000</td>\n",
       "      <td>5517.000000</td>\n",
       "      <td>5517.000000</td>\n",
       "    </tr>\n",
       "    <tr>\n",
       "      <th>mean</th>\n",
       "      <td>0.365960</td>\n",
       "      <td>0.440276</td>\n",
       "      <td>0.439007</td>\n",
       "      <td>0.370491</td>\n",
       "      <td>0.490665</td>\n",
       "      <td>0.495197</td>\n",
       "    </tr>\n",
       "    <tr>\n",
       "      <th>std</th>\n",
       "      <td>0.481742</td>\n",
       "      <td>0.496465</td>\n",
       "      <td>0.496311</td>\n",
       "      <td>0.482980</td>\n",
       "      <td>0.499958</td>\n",
       "      <td>0.500022</td>\n",
       "    </tr>\n",
       "    <tr>\n",
       "      <th>min</th>\n",
       "      <td>0.000000</td>\n",
       "      <td>0.000000</td>\n",
       "      <td>0.000000</td>\n",
       "      <td>0.000000</td>\n",
       "      <td>0.000000</td>\n",
       "      <td>0.000000</td>\n",
       "    </tr>\n",
       "    <tr>\n",
       "      <th>25%</th>\n",
       "      <td>0.000000</td>\n",
       "      <td>0.000000</td>\n",
       "      <td>0.000000</td>\n",
       "      <td>0.000000</td>\n",
       "      <td>0.000000</td>\n",
       "      <td>0.000000</td>\n",
       "    </tr>\n",
       "    <tr>\n",
       "      <th>50%</th>\n",
       "      <td>0.000000</td>\n",
       "      <td>0.000000</td>\n",
       "      <td>0.000000</td>\n",
       "      <td>0.000000</td>\n",
       "      <td>0.000000</td>\n",
       "      <td>0.000000</td>\n",
       "    </tr>\n",
       "    <tr>\n",
       "      <th>75%</th>\n",
       "      <td>1.000000</td>\n",
       "      <td>1.000000</td>\n",
       "      <td>1.000000</td>\n",
       "      <td>1.000000</td>\n",
       "      <td>1.000000</td>\n",
       "      <td>1.000000</td>\n",
       "    </tr>\n",
       "    <tr>\n",
       "      <th>max</th>\n",
       "      <td>1.000000</td>\n",
       "      <td>1.000000</td>\n",
       "      <td>1.000000</td>\n",
       "      <td>1.000000</td>\n",
       "      <td>1.000000</td>\n",
       "      <td>1.000000</td>\n",
       "    </tr>\n",
       "  </tbody>\n",
       "</table>\n",
       "</div>"
      ],
      "text/plain": [
       "       online_security  online_backup  device_protection  tech_support  \\\n",
       "count      5517.000000    5517.000000        5517.000000   5517.000000   \n",
       "mean          0.365960       0.440276           0.439007      0.370491   \n",
       "std           0.481742       0.496465           0.496311      0.482980   \n",
       "min           0.000000       0.000000           0.000000      0.000000   \n",
       "25%           0.000000       0.000000           0.000000      0.000000   \n",
       "50%           0.000000       0.000000           0.000000      0.000000   \n",
       "75%           1.000000       1.000000           1.000000      1.000000   \n",
       "max           1.000000       1.000000           1.000000      1.000000   \n",
       "\n",
       "       streaming_t_v  streaming_movies  \n",
       "count    5517.000000       5517.000000  \n",
       "mean        0.490665          0.495197  \n",
       "std         0.499958          0.500022  \n",
       "min         0.000000          0.000000  \n",
       "25%         0.000000          0.000000  \n",
       "50%         0.000000          0.000000  \n",
       "75%         1.000000          1.000000  \n",
       "max         1.000000          1.000000  "
      ]
     },
     "metadata": {},
     "output_type": "display_data"
    },
    {
     "name": "stdout",
     "output_type": "stream",
     "text": [
      "==================================================\n"
     ]
    },
    {
     "data": {
      "text/plain": [
       "'phone'"
      ]
     },
     "metadata": {},
     "output_type": "display_data"
    },
    {
     "data": {
      "text/html": [
       "<div>\n",
       "<style scoped>\n",
       "    .dataframe tbody tr th:only-of-type {\n",
       "        vertical-align: middle;\n",
       "    }\n",
       "\n",
       "    .dataframe tbody tr th {\n",
       "        vertical-align: top;\n",
       "    }\n",
       "\n",
       "    .dataframe thead th {\n",
       "        text-align: right;\n",
       "    }\n",
       "</style>\n",
       "<table border=\"1\" class=\"dataframe\">\n",
       "  <thead>\n",
       "    <tr style=\"text-align: right;\">\n",
       "      <th></th>\n",
       "      <th>customer_id</th>\n",
       "      <th>multiple_lines</th>\n",
       "    </tr>\n",
       "  </thead>\n",
       "  <tbody>\n",
       "    <tr>\n",
       "      <th>2707</th>\n",
       "      <td>9348-ROUAI</td>\n",
       "      <td>1</td>\n",
       "    </tr>\n",
       "    <tr>\n",
       "      <th>157</th>\n",
       "      <td>5918-VUKWP</td>\n",
       "      <td>0</td>\n",
       "    </tr>\n",
       "    <tr>\n",
       "      <th>1170</th>\n",
       "      <td>8800-ZKRFW</td>\n",
       "      <td>1</td>\n",
       "    </tr>\n",
       "  </tbody>\n",
       "</table>\n",
       "</div>"
      ],
      "text/plain": [
       "     customer_id  multiple_lines\n",
       "2707  9348-ROUAI               1\n",
       "157   5918-VUKWP               0\n",
       "1170  8800-ZKRFW               1"
      ]
     },
     "metadata": {},
     "output_type": "display_data"
    },
    {
     "name": "stdout",
     "output_type": "stream",
     "text": [
      "<class 'pandas.core.frame.DataFrame'>\n",
      "RangeIndex: 6361 entries, 0 to 6360\n",
      "Data columns (total 2 columns):\n",
      " #   Column          Non-Null Count  Dtype \n",
      "---  ------          --------------  ----- \n",
      " 0   customer_id     6361 non-null   object\n",
      " 1   multiple_lines  6361 non-null   int64 \n",
      "dtypes: int64(1), object(1)\n",
      "memory usage: 99.5+ KB\n"
     ]
    },
    {
     "data": {
      "text/plain": [
       "None"
      ]
     },
     "metadata": {},
     "output_type": "display_data"
    },
    {
     "data": {
      "text/html": [
       "<div>\n",
       "<style scoped>\n",
       "    .dataframe tbody tr th:only-of-type {\n",
       "        vertical-align: middle;\n",
       "    }\n",
       "\n",
       "    .dataframe tbody tr th {\n",
       "        vertical-align: top;\n",
       "    }\n",
       "\n",
       "    .dataframe thead th {\n",
       "        text-align: right;\n",
       "    }\n",
       "</style>\n",
       "<table border=\"1\" class=\"dataframe\">\n",
       "  <thead>\n",
       "    <tr style=\"text-align: right;\">\n",
       "      <th></th>\n",
       "      <th>multiple_lines</th>\n",
       "    </tr>\n",
       "  </thead>\n",
       "  <tbody>\n",
       "    <tr>\n",
       "      <th>count</th>\n",
       "      <td>6361.000000</td>\n",
       "    </tr>\n",
       "    <tr>\n",
       "      <th>mean</th>\n",
       "      <td>0.467065</td>\n",
       "    </tr>\n",
       "    <tr>\n",
       "      <th>std</th>\n",
       "      <td>0.498953</td>\n",
       "    </tr>\n",
       "    <tr>\n",
       "      <th>min</th>\n",
       "      <td>0.000000</td>\n",
       "    </tr>\n",
       "    <tr>\n",
       "      <th>25%</th>\n",
       "      <td>0.000000</td>\n",
       "    </tr>\n",
       "    <tr>\n",
       "      <th>50%</th>\n",
       "      <td>0.000000</td>\n",
       "    </tr>\n",
       "    <tr>\n",
       "      <th>75%</th>\n",
       "      <td>1.000000</td>\n",
       "    </tr>\n",
       "    <tr>\n",
       "      <th>max</th>\n",
       "      <td>1.000000</td>\n",
       "    </tr>\n",
       "  </tbody>\n",
       "</table>\n",
       "</div>"
      ],
      "text/plain": [
       "       multiple_lines\n",
       "count     6361.000000\n",
       "mean         0.467065\n",
       "std          0.498953\n",
       "min          0.000000\n",
       "25%          0.000000\n",
       "50%          0.000000\n",
       "75%          1.000000\n",
       "max          1.000000"
      ]
     },
     "metadata": {},
     "output_type": "display_data"
    },
    {
     "name": "stdout",
     "output_type": "stream",
     "text": [
      "==================================================\n"
     ]
    }
   ],
   "source": [
    "for df in dfs:\n",
    "    get_info(df)"
   ]
  },
  {
   "cell_type": "code",
   "execution_count": 13,
   "metadata": {},
   "outputs": [
    {
     "data": {
      "text/html": [
       "<div>\n",
       "<style scoped>\n",
       "    .dataframe tbody tr th:only-of-type {\n",
       "        vertical-align: middle;\n",
       "    }\n",
       "\n",
       "    .dataframe tbody tr th {\n",
       "        vertical-align: top;\n",
       "    }\n",
       "\n",
       "    .dataframe thead th {\n",
       "        text-align: right;\n",
       "    }\n",
       "</style>\n",
       "<table border=\"1\" class=\"dataframe\">\n",
       "  <thead>\n",
       "    <tr style=\"text-align: right;\">\n",
       "      <th></th>\n",
       "      <th>customer_id</th>\n",
       "      <th>begin_date</th>\n",
       "      <th>end_date</th>\n",
       "      <th>type</th>\n",
       "      <th>paperless_billing</th>\n",
       "      <th>payment_method</th>\n",
       "      <th>monthly_charges</th>\n",
       "      <th>total_charges</th>\n",
       "      <th>gone</th>\n",
       "    </tr>\n",
       "  </thead>\n",
       "  <tbody>\n",
       "    <tr>\n",
       "      <th>0</th>\n",
       "      <td>7590-VHVEG</td>\n",
       "      <td>2020-01-01</td>\n",
       "      <td>2020-02-01</td>\n",
       "      <td>Month-to-month</td>\n",
       "      <td>1</td>\n",
       "      <td>Electronic check</td>\n",
       "      <td>29.85</td>\n",
       "      <td>29.85</td>\n",
       "      <td>0</td>\n",
       "    </tr>\n",
       "    <tr>\n",
       "      <th>1</th>\n",
       "      <td>5575-GNVDE</td>\n",
       "      <td>2017-04-01</td>\n",
       "      <td>2020-02-01</td>\n",
       "      <td>One year</td>\n",
       "      <td>0</td>\n",
       "      <td>Mailed check</td>\n",
       "      <td>56.95</td>\n",
       "      <td>1889.5</td>\n",
       "      <td>0</td>\n",
       "    </tr>\n",
       "    <tr>\n",
       "      <th>2</th>\n",
       "      <td>3668-QPYBK</td>\n",
       "      <td>2019-10-01</td>\n",
       "      <td>2019-12-01</td>\n",
       "      <td>Month-to-month</td>\n",
       "      <td>1</td>\n",
       "      <td>Mailed check</td>\n",
       "      <td>53.85</td>\n",
       "      <td>108.15</td>\n",
       "      <td>1</td>\n",
       "    </tr>\n",
       "    <tr>\n",
       "      <th>3</th>\n",
       "      <td>7795-CFOCW</td>\n",
       "      <td>2016-05-01</td>\n",
       "      <td>2020-02-01</td>\n",
       "      <td>One year</td>\n",
       "      <td>0</td>\n",
       "      <td>Bank transfer (automatic)</td>\n",
       "      <td>42.30</td>\n",
       "      <td>1840.75</td>\n",
       "      <td>0</td>\n",
       "    </tr>\n",
       "    <tr>\n",
       "      <th>4</th>\n",
       "      <td>9237-HQITU</td>\n",
       "      <td>2019-09-01</td>\n",
       "      <td>2019-11-01</td>\n",
       "      <td>Month-to-month</td>\n",
       "      <td>1</td>\n",
       "      <td>Electronic check</td>\n",
       "      <td>70.70</td>\n",
       "      <td>151.65</td>\n",
       "      <td>1</td>\n",
       "    </tr>\n",
       "  </tbody>\n",
       "</table>\n",
       "</div>"
      ],
      "text/plain": [
       "  customer_id begin_date   end_date            type  paperless_billing  \\\n",
       "0  7590-VHVEG 2020-01-01 2020-02-01  Month-to-month                  1   \n",
       "1  5575-GNVDE 2017-04-01 2020-02-01        One year                  0   \n",
       "2  3668-QPYBK 2019-10-01 2019-12-01  Month-to-month                  1   \n",
       "3  7795-CFOCW 2016-05-01 2020-02-01        One year                  0   \n",
       "4  9237-HQITU 2019-09-01 2019-11-01  Month-to-month                  1   \n",
       "\n",
       "              payment_method  monthly_charges total_charges  gone  \n",
       "0           Electronic check            29.85         29.85     0  \n",
       "1               Mailed check            56.95        1889.5     0  \n",
       "2               Mailed check            53.85        108.15     1  \n",
       "3  Bank transfer (automatic)            42.30       1840.75     0  \n",
       "4           Electronic check            70.70        151.65     1  "
      ]
     },
     "execution_count": 13,
     "metadata": {},
     "output_type": "execute_result"
    }
   ],
   "source": [
    "contract['begin_date'] = pd.to_datetime(contract['begin_date'], format='%Y-%m-%d')\n",
    "contract['end_date'] = pd.to_datetime(contract['end_date'], format='%Y-%m-%d')\n",
    "contract.head()"
   ]
  },
  {
   "cell_type": "code",
   "execution_count": 14,
   "metadata": {},
   "outputs": [
    {
     "data": {
      "text/html": [
       "<div>\n",
       "<style scoped>\n",
       "    .dataframe tbody tr th:only-of-type {\n",
       "        vertical-align: middle;\n",
       "    }\n",
       "\n",
       "    .dataframe tbody tr th {\n",
       "        vertical-align: top;\n",
       "    }\n",
       "\n",
       "    .dataframe thead th {\n",
       "        text-align: right;\n",
       "    }\n",
       "</style>\n",
       "<table border=\"1\" class=\"dataframe\">\n",
       "  <thead>\n",
       "    <tr style=\"text-align: right;\">\n",
       "      <th></th>\n",
       "      <th>customer_id</th>\n",
       "      <th>begin_date</th>\n",
       "      <th>end_date</th>\n",
       "      <th>type</th>\n",
       "      <th>paperless_billing</th>\n",
       "      <th>payment_method</th>\n",
       "      <th>monthly_charges</th>\n",
       "      <th>total_charges</th>\n",
       "      <th>gone</th>\n",
       "    </tr>\n",
       "  </thead>\n",
       "  <tbody>\n",
       "    <tr>\n",
       "      <th>488</th>\n",
       "      <td>4472-LVYGI</td>\n",
       "      <td>2020-02-01</td>\n",
       "      <td>2020-02-01</td>\n",
       "      <td>Two year</td>\n",
       "      <td>1</td>\n",
       "      <td>Bank transfer (automatic)</td>\n",
       "      <td>52.55</td>\n",
       "      <td></td>\n",
       "      <td>0</td>\n",
       "    </tr>\n",
       "    <tr>\n",
       "      <th>753</th>\n",
       "      <td>3115-CZMZD</td>\n",
       "      <td>2020-02-01</td>\n",
       "      <td>2020-02-01</td>\n",
       "      <td>Two year</td>\n",
       "      <td>0</td>\n",
       "      <td>Mailed check</td>\n",
       "      <td>20.25</td>\n",
       "      <td></td>\n",
       "      <td>0</td>\n",
       "    </tr>\n",
       "    <tr>\n",
       "      <th>936</th>\n",
       "      <td>5709-LVOEQ</td>\n",
       "      <td>2020-02-01</td>\n",
       "      <td>2020-02-01</td>\n",
       "      <td>Two year</td>\n",
       "      <td>0</td>\n",
       "      <td>Mailed check</td>\n",
       "      <td>80.85</td>\n",
       "      <td></td>\n",
       "      <td>0</td>\n",
       "    </tr>\n",
       "    <tr>\n",
       "      <th>1082</th>\n",
       "      <td>4367-NUYAO</td>\n",
       "      <td>2020-02-01</td>\n",
       "      <td>2020-02-01</td>\n",
       "      <td>Two year</td>\n",
       "      <td>0</td>\n",
       "      <td>Mailed check</td>\n",
       "      <td>25.75</td>\n",
       "      <td></td>\n",
       "      <td>0</td>\n",
       "    </tr>\n",
       "    <tr>\n",
       "      <th>1340</th>\n",
       "      <td>1371-DWPAZ</td>\n",
       "      <td>2020-02-01</td>\n",
       "      <td>2020-02-01</td>\n",
       "      <td>Two year</td>\n",
       "      <td>0</td>\n",
       "      <td>Credit card (automatic)</td>\n",
       "      <td>56.05</td>\n",
       "      <td></td>\n",
       "      <td>0</td>\n",
       "    </tr>\n",
       "    <tr>\n",
       "      <th>3331</th>\n",
       "      <td>7644-OMVMY</td>\n",
       "      <td>2020-02-01</td>\n",
       "      <td>2020-02-01</td>\n",
       "      <td>Two year</td>\n",
       "      <td>0</td>\n",
       "      <td>Mailed check</td>\n",
       "      <td>19.85</td>\n",
       "      <td></td>\n",
       "      <td>0</td>\n",
       "    </tr>\n",
       "    <tr>\n",
       "      <th>3826</th>\n",
       "      <td>3213-VVOLG</td>\n",
       "      <td>2020-02-01</td>\n",
       "      <td>2020-02-01</td>\n",
       "      <td>Two year</td>\n",
       "      <td>0</td>\n",
       "      <td>Mailed check</td>\n",
       "      <td>25.35</td>\n",
       "      <td></td>\n",
       "      <td>0</td>\n",
       "    </tr>\n",
       "    <tr>\n",
       "      <th>4380</th>\n",
       "      <td>2520-SGTTA</td>\n",
       "      <td>2020-02-01</td>\n",
       "      <td>2020-02-01</td>\n",
       "      <td>Two year</td>\n",
       "      <td>0</td>\n",
       "      <td>Mailed check</td>\n",
       "      <td>20.00</td>\n",
       "      <td></td>\n",
       "      <td>0</td>\n",
       "    </tr>\n",
       "    <tr>\n",
       "      <th>5218</th>\n",
       "      <td>2923-ARZLG</td>\n",
       "      <td>2020-02-01</td>\n",
       "      <td>2020-02-01</td>\n",
       "      <td>One year</td>\n",
       "      <td>1</td>\n",
       "      <td>Mailed check</td>\n",
       "      <td>19.70</td>\n",
       "      <td></td>\n",
       "      <td>0</td>\n",
       "    </tr>\n",
       "    <tr>\n",
       "      <th>6670</th>\n",
       "      <td>4075-WKNIU</td>\n",
       "      <td>2020-02-01</td>\n",
       "      <td>2020-02-01</td>\n",
       "      <td>Two year</td>\n",
       "      <td>0</td>\n",
       "      <td>Mailed check</td>\n",
       "      <td>73.35</td>\n",
       "      <td></td>\n",
       "      <td>0</td>\n",
       "    </tr>\n",
       "    <tr>\n",
       "      <th>6754</th>\n",
       "      <td>2775-SEFEE</td>\n",
       "      <td>2020-02-01</td>\n",
       "      <td>2020-02-01</td>\n",
       "      <td>Two year</td>\n",
       "      <td>1</td>\n",
       "      <td>Bank transfer (automatic)</td>\n",
       "      <td>61.90</td>\n",
       "      <td></td>\n",
       "      <td>0</td>\n",
       "    </tr>\n",
       "  </tbody>\n",
       "</table>\n",
       "</div>"
      ],
      "text/plain": [
       "     customer_id begin_date   end_date      type  paperless_billing  \\\n",
       "488   4472-LVYGI 2020-02-01 2020-02-01  Two year                  1   \n",
       "753   3115-CZMZD 2020-02-01 2020-02-01  Two year                  0   \n",
       "936   5709-LVOEQ 2020-02-01 2020-02-01  Two year                  0   \n",
       "1082  4367-NUYAO 2020-02-01 2020-02-01  Two year                  0   \n",
       "1340  1371-DWPAZ 2020-02-01 2020-02-01  Two year                  0   \n",
       "3331  7644-OMVMY 2020-02-01 2020-02-01  Two year                  0   \n",
       "3826  3213-VVOLG 2020-02-01 2020-02-01  Two year                  0   \n",
       "4380  2520-SGTTA 2020-02-01 2020-02-01  Two year                  0   \n",
       "5218  2923-ARZLG 2020-02-01 2020-02-01  One year                  1   \n",
       "6670  4075-WKNIU 2020-02-01 2020-02-01  Two year                  0   \n",
       "6754  2775-SEFEE 2020-02-01 2020-02-01  Two year                  1   \n",
       "\n",
       "                 payment_method  monthly_charges total_charges  gone  \n",
       "488   Bank transfer (automatic)            52.55                   0  \n",
       "753                Mailed check            20.25                   0  \n",
       "936                Mailed check            80.85                   0  \n",
       "1082               Mailed check            25.75                   0  \n",
       "1340    Credit card (automatic)            56.05                   0  \n",
       "3331               Mailed check            19.85                   0  \n",
       "3826               Mailed check            25.35                   0  \n",
       "4380               Mailed check            20.00                   0  \n",
       "5218               Mailed check            19.70                   0  \n",
       "6670               Mailed check            73.35                   0  \n",
       "6754  Bank transfer (automatic)            61.90                   0  "
      ]
     },
     "execution_count": 14,
     "metadata": {},
     "output_type": "execute_result"
    }
   ],
   "source": [
    "contract.query(\"total_charges==' '\") "
   ]
  },
  {
   "cell_type": "markdown",
   "metadata": {},
   "source": [
    "Эти данные можно считать \"шумом\", они только что зарегистрировались(на момент выгрузки данных), их лучше удалить"
   ]
  },
  {
   "cell_type": "code",
   "execution_count": 15,
   "metadata": {},
   "outputs": [],
   "source": [
    "contract['total_charges'].replace({' ': np.nan}, inplace=True)\n",
    "contract.dropna(inplace=True)\n",
    "contract['total_charges'] = contract['total_charges'].astype('float')"
   ]
  },
  {
   "cell_type": "markdown",
   "metadata": {},
   "source": [
    "Выделем дополнительный признак - как долго клиент остается с компанией."
   ]
  },
  {
   "cell_type": "code",
   "execution_count": 16,
   "metadata": {},
   "outputs": [],
   "source": [
    "contract['cooperation_time'] = contract['end_date'].dt.to_period('D').view(dtype='int64')- contract['begin_date'].dt.to_period('D').view(dtype='int64')"
   ]
  },
  {
   "cell_type": "markdown",
   "metadata": {},
   "source": [
    "Сравним распределения величин ежемесячных платежей (MonthlyCharges) всех клиентов и тех, кто ушёл. Для каждой группы посчитаем статистики: средние, минимальные и максимальные значения, медиану и величины 25%- и 75%-квартилей. Построим гистограммы распределения."
   ]
  },
  {
   "cell_type": "code",
   "execution_count": 17,
   "metadata": {},
   "outputs": [
    {
     "data": {
      "image/png": "[encoded data removed]",
      "text/plain": [
       "<Figure size 432x288 with 1 Axes>"
      ]
     },
     "metadata": {
      "needs_background": "light"
     },
     "output_type": "display_data"
    }
   ],
   "source": [
    "sns.histplot(data=contract, x=\"monthly_charges\", hue=\"gone\", element=\"poly\")\n",
    "plt.show()"
   ]
  },
  {
   "cell_type": "code",
   "execution_count": 18,
   "metadata": {},
   "outputs": [
    {
     "data": {
      "image/png": "[encoded data removed]",
      "text/plain": [
       "<Figure size 432x288 with 1 Axes>"
      ]
     },
     "metadata": {
      "needs_background": "light"
     },
     "output_type": "display_data"
    },
    {
     "data": {
      "image/png": "[encoded data removed]",
      "text/plain": [
       "<Figure size 432x288 with 1 Axes>"
      ]
     },
     "metadata": {
      "needs_background": "light"
     },
     "output_type": "display_data"
    }
   ],
   "source": [
    "monthly_charges_0 = sns.boxplot(data=contract.query(\"gone==0\"), x=\"monthly_charges\")\n",
    "monthly_charges_0.set_title('Боксплот помесячных платежей ушедших клиентов')\n",
    "plt.show()\n",
    "monthly_charges_1 = sns.boxplot(data=contract.query(\"gone==1\"), x=\"monthly_charges\")\n",
    "monthly_charges_1.set_title('Боксплот помесячных платежей оставшихся клиентов')\n",
    "plt.show()"
   ]
  },
  {
   "cell_type": "code",
   "execution_count": 19,
   "metadata": {},
   "outputs": [
    {
     "data": {
      "text/html": [
       "<div>\n",
       "<style scoped>\n",
       "    .dataframe tbody tr th:only-of-type {\n",
       "        vertical-align: middle;\n",
       "    }\n",
       "\n",
       "    .dataframe tbody tr th {\n",
       "        vertical-align: top;\n",
       "    }\n",
       "\n",
       "    .dataframe thead th {\n",
       "        text-align: right;\n",
       "    }\n",
       "</style>\n",
       "<table border=\"1\" class=\"dataframe\">\n",
       "  <thead>\n",
       "    <tr style=\"text-align: right;\">\n",
       "      <th></th>\n",
       "      <th>paperless_billing</th>\n",
       "      <th>monthly_charges</th>\n",
       "      <th>total_charges</th>\n",
       "      <th>gone</th>\n",
       "      <th>cooperation_time</th>\n",
       "    </tr>\n",
       "  </thead>\n",
       "  <tbody>\n",
       "    <tr>\n",
       "      <th>count</th>\n",
       "      <td>5163.000000</td>\n",
       "      <td>5163.000000</td>\n",
       "      <td>5163.000000</td>\n",
       "      <td>5163.0</td>\n",
       "      <td>5163.000000</td>\n",
       "    </tr>\n",
       "    <tr>\n",
       "      <th>mean</th>\n",
       "      <td>0.536122</td>\n",
       "      <td>61.307408</td>\n",
       "      <td>2555.344141</td>\n",
       "      <td>0.0</td>\n",
       "      <td>1146.885532</td>\n",
       "    </tr>\n",
       "    <tr>\n",
       "      <th>std</th>\n",
       "      <td>0.498742</td>\n",
       "      <td>31.094557</td>\n",
       "      <td>2329.456984</td>\n",
       "      <td>0.0</td>\n",
       "      <td>732.773458</td>\n",
       "    </tr>\n",
       "    <tr>\n",
       "      <th>min</th>\n",
       "      <td>0.000000</td>\n",
       "      <td>18.250000</td>\n",
       "      <td>18.800000</td>\n",
       "      <td>0.0</td>\n",
       "      <td>31.000000</td>\n",
       "    </tr>\n",
       "    <tr>\n",
       "      <th>25%</th>\n",
       "      <td>0.000000</td>\n",
       "      <td>25.100000</td>\n",
       "      <td>577.825000</td>\n",
       "      <td>0.0</td>\n",
       "      <td>457.000000</td>\n",
       "    </tr>\n",
       "    <tr>\n",
       "      <th>50%</th>\n",
       "      <td>1.000000</td>\n",
       "      <td>64.450000</td>\n",
       "      <td>1683.600000</td>\n",
       "      <td>0.0</td>\n",
       "      <td>1157.000000</td>\n",
       "    </tr>\n",
       "    <tr>\n",
       "      <th>75%</th>\n",
       "      <td>1.000000</td>\n",
       "      <td>88.475000</td>\n",
       "      <td>4264.125000</td>\n",
       "      <td>0.0</td>\n",
       "      <td>1857.000000</td>\n",
       "    </tr>\n",
       "    <tr>\n",
       "      <th>max</th>\n",
       "      <td>1.000000</td>\n",
       "      <td>118.750000</td>\n",
       "      <td>8672.450000</td>\n",
       "      <td>0.0</td>\n",
       "      <td>2191.000000</td>\n",
       "    </tr>\n",
       "  </tbody>\n",
       "</table>\n",
       "</div>"
      ],
      "text/plain": [
       "       paperless_billing  monthly_charges  total_charges    gone  \\\n",
       "count        5163.000000      5163.000000    5163.000000  5163.0   \n",
       "mean            0.536122        61.307408    2555.344141     0.0   \n",
       "std             0.498742        31.094557    2329.456984     0.0   \n",
       "min             0.000000        18.250000      18.800000     0.0   \n",
       "25%             0.000000        25.100000     577.825000     0.0   \n",
       "50%             1.000000        64.450000    1683.600000     0.0   \n",
       "75%             1.000000        88.475000    4264.125000     0.0   \n",
       "max             1.000000       118.750000    8672.450000     0.0   \n",
       "\n",
       "       cooperation_time  \n",
       "count       5163.000000  \n",
       "mean        1146.885532  \n",
       "std          732.773458  \n",
       "min           31.000000  \n",
       "25%          457.000000  \n",
       "50%         1157.000000  \n",
       "75%         1857.000000  \n",
       "max         2191.000000  "
      ]
     },
     "execution_count": 19,
     "metadata": {},
     "output_type": "execute_result"
    }
   ],
   "source": [
    "contract.query(\"gone==0\").describe()"
   ]
  },
  {
   "cell_type": "code",
   "execution_count": 20,
   "metadata": {},
   "outputs": [
    {
     "data": {
      "text/html": [
       "<div>\n",
       "<style scoped>\n",
       "    .dataframe tbody tr th:only-of-type {\n",
       "        vertical-align: middle;\n",
       "    }\n",
       "\n",
       "    .dataframe tbody tr th {\n",
       "        vertical-align: top;\n",
       "    }\n",
       "\n",
       "    .dataframe thead th {\n",
       "        text-align: right;\n",
       "    }\n",
       "</style>\n",
       "<table border=\"1\" class=\"dataframe\">\n",
       "  <thead>\n",
       "    <tr style=\"text-align: right;\">\n",
       "      <th></th>\n",
       "      <th>paperless_billing</th>\n",
       "      <th>monthly_charges</th>\n",
       "      <th>total_charges</th>\n",
       "      <th>gone</th>\n",
       "      <th>cooperation_time</th>\n",
       "    </tr>\n",
       "  </thead>\n",
       "  <tbody>\n",
       "    <tr>\n",
       "      <th>count</th>\n",
       "      <td>1869.000000</td>\n",
       "      <td>1869.000000</td>\n",
       "      <td>1869.000000</td>\n",
       "      <td>1869.0</td>\n",
       "      <td>1869.000000</td>\n",
       "    </tr>\n",
       "    <tr>\n",
       "      <th>mean</th>\n",
       "      <td>0.749064</td>\n",
       "      <td>74.441332</td>\n",
       "      <td>1531.796094</td>\n",
       "      <td>1.0</td>\n",
       "      <td>547.352060</td>\n",
       "    </tr>\n",
       "    <tr>\n",
       "      <th>std</th>\n",
       "      <td>0.433668</td>\n",
       "      <td>24.666053</td>\n",
       "      <td>1890.822994</td>\n",
       "      <td>0.0</td>\n",
       "      <td>594.389607</td>\n",
       "    </tr>\n",
       "    <tr>\n",
       "      <th>min</th>\n",
       "      <td>0.000000</td>\n",
       "      <td>18.850000</td>\n",
       "      <td>18.850000</td>\n",
       "      <td>1.0</td>\n",
       "      <td>30.000000</td>\n",
       "    </tr>\n",
       "    <tr>\n",
       "      <th>25%</th>\n",
       "      <td>0.000000</td>\n",
       "      <td>56.150000</td>\n",
       "      <td>134.500000</td>\n",
       "      <td>1.0</td>\n",
       "      <td>61.000000</td>\n",
       "    </tr>\n",
       "    <tr>\n",
       "      <th>50%</th>\n",
       "      <td>1.000000</td>\n",
       "      <td>79.650000</td>\n",
       "      <td>703.550000</td>\n",
       "      <td>1.0</td>\n",
       "      <td>304.000000</td>\n",
       "    </tr>\n",
       "    <tr>\n",
       "      <th>75%</th>\n",
       "      <td>1.000000</td>\n",
       "      <td>94.200000</td>\n",
       "      <td>2331.300000</td>\n",
       "      <td>1.0</td>\n",
       "      <td>883.000000</td>\n",
       "    </tr>\n",
       "    <tr>\n",
       "      <th>max</th>\n",
       "      <td>1.000000</td>\n",
       "      <td>118.350000</td>\n",
       "      <td>8684.800000</td>\n",
       "      <td>1.0</td>\n",
       "      <td>2191.000000</td>\n",
       "    </tr>\n",
       "  </tbody>\n",
       "</table>\n",
       "</div>"
      ],
      "text/plain": [
       "       paperless_billing  monthly_charges  total_charges    gone  \\\n",
       "count        1869.000000      1869.000000    1869.000000  1869.0   \n",
       "mean            0.749064        74.441332    1531.796094     1.0   \n",
       "std             0.433668        24.666053    1890.822994     0.0   \n",
       "min             0.000000        18.850000      18.850000     1.0   \n",
       "25%             0.000000        56.150000     134.500000     1.0   \n",
       "50%             1.000000        79.650000     703.550000     1.0   \n",
       "75%             1.000000        94.200000    2331.300000     1.0   \n",
       "max             1.000000       118.350000    8684.800000     1.0   \n",
       "\n",
       "       cooperation_time  \n",
       "count       1869.000000  \n",
       "mean         547.352060  \n",
       "std          594.389607  \n",
       "min           30.000000  \n",
       "25%           61.000000  \n",
       "50%          304.000000  \n",
       "75%          883.000000  \n",
       "max         2191.000000  "
      ]
     },
     "execution_count": 20,
     "metadata": {},
     "output_type": "execute_result"
    }
   ],
   "source": [
    "contract.query(\"gone==1\").describe()"
   ]
  },
  {
   "cell_type": "markdown",
   "metadata": {},
   "source": [
    "Наибольшее количество ушедших клиентов ежемесячно вносили плату в районе 75-105 рублей (предполагаем, что рублей)."
   ]
  },
  {
   "cell_type": "code",
   "execution_count": 21,
   "metadata": {},
   "outputs": [],
   "source": [
    "#########"
   ]
  },
  {
   "cell_type": "markdown",
   "metadata": {},
   "source": [
    "Создаем общий датафрейм"
   ]
  },
  {
   "cell_type": "code",
   "execution_count": 22,
   "metadata": {},
   "outputs": [],
   "source": [
    "all_data = contract.merge(personal, on='customer_id', how='left')\n",
    "all_data = all_data.merge(internet, on='customer_id', how='left')\n",
    "all_data = all_data.merge(phone, on='customer_id', how='left')\n"
   ]
  },
  {
   "cell_type": "code",
   "execution_count": 23,
   "metadata": {},
   "outputs": [
    {
     "data": {
      "text/html": [
       "<div>\n",
       "<style scoped>\n",
       "    .dataframe tbody tr th:only-of-type {\n",
       "        vertical-align: middle;\n",
       "    }\n",
       "\n",
       "    .dataframe tbody tr th {\n",
       "        vertical-align: top;\n",
       "    }\n",
       "\n",
       "    .dataframe thead th {\n",
       "        text-align: right;\n",
       "    }\n",
       "</style>\n",
       "<table border=\"1\" class=\"dataframe\">\n",
       "  <thead>\n",
       "    <tr style=\"text-align: right;\">\n",
       "      <th></th>\n",
       "      <th>customer_id</th>\n",
       "      <th>begin_date</th>\n",
       "      <th>end_date</th>\n",
       "      <th>type</th>\n",
       "      <th>paperless_billing</th>\n",
       "      <th>payment_method</th>\n",
       "      <th>monthly_charges</th>\n",
       "      <th>total_charges</th>\n",
       "      <th>gone</th>\n",
       "      <th>cooperation_time</th>\n",
       "      <th>gender</th>\n",
       "      <th>senior_citizen</th>\n",
       "      <th>partner</th>\n",
       "      <th>dependents</th>\n",
       "      <th>internet_service</th>\n",
       "      <th>online_security</th>\n",
       "      <th>online_backup</th>\n",
       "      <th>device_protection</th>\n",
       "      <th>tech_support</th>\n",
       "      <th>streaming_t_v</th>\n",
       "      <th>streaming_movies</th>\n",
       "      <th>multiple_lines</th>\n",
       "    </tr>\n",
       "  </thead>\n",
       "  <tbody>\n",
       "    <tr>\n",
       "      <th>0</th>\n",
       "      <td>7590-VHVEG</td>\n",
       "      <td>2020-01-01</td>\n",
       "      <td>2020-02-01</td>\n",
       "      <td>Month-to-month</td>\n",
       "      <td>1</td>\n",
       "      <td>Electronic check</td>\n",
       "      <td>29.85</td>\n",
       "      <td>29.85</td>\n",
       "      <td>0</td>\n",
       "      <td>31</td>\n",
       "      <td>Female</td>\n",
       "      <td>0</td>\n",
       "      <td>1</td>\n",
       "      <td>0</td>\n",
       "      <td>DSL</td>\n",
       "      <td>0.0</td>\n",
       "      <td>1.0</td>\n",
       "      <td>0.0</td>\n",
       "      <td>0.0</td>\n",
       "      <td>0.0</td>\n",
       "      <td>0.0</td>\n",
       "      <td>NaN</td>\n",
       "    </tr>\n",
       "    <tr>\n",
       "      <th>1</th>\n",
       "      <td>5575-GNVDE</td>\n",
       "      <td>2017-04-01</td>\n",
       "      <td>2020-02-01</td>\n",
       "      <td>One year</td>\n",
       "      <td>0</td>\n",
       "      <td>Mailed check</td>\n",
       "      <td>56.95</td>\n",
       "      <td>1889.50</td>\n",
       "      <td>0</td>\n",
       "      <td>1036</td>\n",
       "      <td>Male</td>\n",
       "      <td>0</td>\n",
       "      <td>0</td>\n",
       "      <td>0</td>\n",
       "      <td>DSL</td>\n",
       "      <td>1.0</td>\n",
       "      <td>0.0</td>\n",
       "      <td>1.0</td>\n",
       "      <td>0.0</td>\n",
       "      <td>0.0</td>\n",
       "      <td>0.0</td>\n",
       "      <td>0.0</td>\n",
       "    </tr>\n",
       "    <tr>\n",
       "      <th>2</th>\n",
       "      <td>3668-QPYBK</td>\n",
       "      <td>2019-10-01</td>\n",
       "      <td>2019-12-01</td>\n",
       "      <td>Month-to-month</td>\n",
       "      <td>1</td>\n",
       "      <td>Mailed check</td>\n",
       "      <td>53.85</td>\n",
       "      <td>108.15</td>\n",
       "      <td>1</td>\n",
       "      <td>61</td>\n",
       "      <td>Male</td>\n",
       "      <td>0</td>\n",
       "      <td>0</td>\n",
       "      <td>0</td>\n",
       "      <td>DSL</td>\n",
       "      <td>1.0</td>\n",
       "      <td>1.0</td>\n",
       "      <td>0.0</td>\n",
       "      <td>0.0</td>\n",
       "      <td>0.0</td>\n",
       "      <td>0.0</td>\n",
       "      <td>0.0</td>\n",
       "    </tr>\n",
       "    <tr>\n",
       "      <th>3</th>\n",
       "      <td>7795-CFOCW</td>\n",
       "      <td>2016-05-01</td>\n",
       "      <td>2020-02-01</td>\n",
       "      <td>One year</td>\n",
       "      <td>0</td>\n",
       "      <td>Bank transfer (automatic)</td>\n",
       "      <td>42.30</td>\n",
       "      <td>1840.75</td>\n",
       "      <td>0</td>\n",
       "      <td>1371</td>\n",
       "      <td>Male</td>\n",
       "      <td>0</td>\n",
       "      <td>0</td>\n",
       "      <td>0</td>\n",
       "      <td>DSL</td>\n",
       "      <td>1.0</td>\n",
       "      <td>0.0</td>\n",
       "      <td>1.0</td>\n",
       "      <td>1.0</td>\n",
       "      <td>0.0</td>\n",
       "      <td>0.0</td>\n",
       "      <td>NaN</td>\n",
       "    </tr>\n",
       "    <tr>\n",
       "      <th>4</th>\n",
       "      <td>9237-HQITU</td>\n",
       "      <td>2019-09-01</td>\n",
       "      <td>2019-11-01</td>\n",
       "      <td>Month-to-month</td>\n",
       "      <td>1</td>\n",
       "      <td>Electronic check</td>\n",
       "      <td>70.70</td>\n",
       "      <td>151.65</td>\n",
       "      <td>1</td>\n",
       "      <td>61</td>\n",
       "      <td>Female</td>\n",
       "      <td>0</td>\n",
       "      <td>0</td>\n",
       "      <td>0</td>\n",
       "      <td>Fiber optic</td>\n",
       "      <td>0.0</td>\n",
       "      <td>0.0</td>\n",
       "      <td>0.0</td>\n",
       "      <td>0.0</td>\n",
       "      <td>0.0</td>\n",
       "      <td>0.0</td>\n",
       "      <td>0.0</td>\n",
       "    </tr>\n",
       "  </tbody>\n",
       "</table>\n",
       "</div>"
      ],
      "text/plain": [
       "  customer_id begin_date   end_date            type  paperless_billing  \\\n",
       "0  7590-VHVEG 2020-01-01 2020-02-01  Month-to-month                  1   \n",
       "1  5575-GNVDE 2017-04-01 2020-02-01        One year                  0   \n",
       "2  3668-QPYBK 2019-10-01 2019-12-01  Month-to-month                  1   \n",
       "3  7795-CFOCW 2016-05-01 2020-02-01        One year                  0   \n",
       "4  9237-HQITU 2019-09-01 2019-11-01  Month-to-month                  1   \n",
       "\n",
       "              payment_method  monthly_charges  total_charges  gone  \\\n",
       "0           Electronic check            29.85          29.85     0   \n",
       "1               Mailed check            56.95        1889.50     0   \n",
       "2               Mailed check            53.85         108.15     1   \n",
       "3  Bank transfer (automatic)            42.30        1840.75     0   \n",
       "4           Electronic check            70.70         151.65     1   \n",
       "\n",
       "   cooperation_time  gender  senior_citizen  partner  dependents  \\\n",
       "0                31  Female               0        1           0   \n",
       "1              1036    Male               0        0           0   \n",
       "2                61    Male               0        0           0   \n",
       "3              1371    Male               0        0           0   \n",
       "4                61  Female               0        0           0   \n",
       "\n",
       "  internet_service  online_security  online_backup  device_protection  \\\n",
       "0              DSL              0.0            1.0                0.0   \n",
       "1              DSL              1.0            0.0                1.0   \n",
       "2              DSL              1.0            1.0                0.0   \n",
       "3              DSL              1.0            0.0                1.0   \n",
       "4      Fiber optic              0.0            0.0                0.0   \n",
       "\n",
       "   tech_support  streaming_t_v  streaming_movies  multiple_lines  \n",
       "0           0.0            0.0               0.0             NaN  \n",
       "1           0.0            0.0               0.0             0.0  \n",
       "2           0.0            0.0               0.0             0.0  \n",
       "3           1.0            0.0               0.0             NaN  \n",
       "4           0.0            0.0               0.0             0.0  "
      ]
     },
     "execution_count": 23,
     "metadata": {},
     "output_type": "execute_result"
    }
   ],
   "source": [
    "all_data.head()"
   ]
  },
  {
   "cell_type": "markdown",
   "metadata": {},
   "source": [
    "После объеденения датайфремов можно обраружить пропуски в данных"
   ]
  },
  {
   "cell_type": "code",
   "execution_count": 24,
   "metadata": {},
   "outputs": [
    {
     "name": "stdout",
     "output_type": "stream",
     "text": [
      "<class 'pandas.core.frame.DataFrame'>\n",
      "Int64Index: 7032 entries, 0 to 7031\n",
      "Data columns (total 22 columns):\n",
      " #   Column             Non-Null Count  Dtype         \n",
      "---  ------             --------------  -----         \n",
      " 0   customer_id        7032 non-null   object        \n",
      " 1   begin_date         7032 non-null   datetime64[ns]\n",
      " 2   end_date           7032 non-null   datetime64[ns]\n",
      " 3   type               7032 non-null   object        \n",
      " 4   paperless_billing  7032 non-null   int64         \n",
      " 5   payment_method     7032 non-null   object        \n",
      " 6   monthly_charges    7032 non-null   float64       \n",
      " 7   total_charges      7032 non-null   float64       \n",
      " 8   gone               7032 non-null   int64         \n",
      " 9   cooperation_time   7032 non-null   int64         \n",
      " 10  gender             7032 non-null   object        \n",
      " 11  senior_citizen     7032 non-null   int64         \n",
      " 12  partner            7032 non-null   int64         \n",
      " 13  dependents         7032 non-null   int64         \n",
      " 14  internet_service   5512 non-null   object        \n",
      " 15  online_security    5512 non-null   float64       \n",
      " 16  online_backup      5512 non-null   float64       \n",
      " 17  device_protection  5512 non-null   float64       \n",
      " 18  tech_support       5512 non-null   float64       \n",
      " 19  streaming_t_v      5512 non-null   float64       \n",
      " 20  streaming_movies   5512 non-null   float64       \n",
      " 21  multiple_lines     6352 non-null   float64       \n",
      "dtypes: datetime64[ns](2), float64(9), int64(6), object(5)\n",
      "memory usage: 1.2+ MB\n"
     ]
    }
   ],
   "source": [
    "all_data.info()"
   ]
  },
  {
   "cell_type": "code",
   "execution_count": 25,
   "metadata": {},
   "outputs": [
    {
     "data": {
      "text/plain": [
       "Index(['customer_id', 'begin_date', 'end_date', 'type', 'paperless_billing',\n",
       "       'payment_method', 'monthly_charges', 'total_charges', 'gone',\n",
       "       'cooperation_time', 'gender', 'senior_citizen', 'partner', 'dependents',\n",
       "       'internet_service', 'online_security', 'online_backup',\n",
       "       'device_protection', 'tech_support', 'streaming_t_v',\n",
       "       'streaming_movies', 'multiple_lines'],\n",
       "      dtype='object')"
      ]
     },
     "execution_count": 25,
     "metadata": {},
     "output_type": "execute_result"
    }
   ],
   "source": [
    "all_data.columns"
   ]
  },
  {
   "cell_type": "markdown",
   "metadata": {},
   "source": [
    "Пропуски в колонках 'internet_service', 'online_security', 'online_backup',   'device_protection', 'tech_support', 'streaming_t_v', 'streaming_movies', 'multiple_lines' вероятнее всего обусловлены тем, что отсуствие услуги не было отмечено. Заполним пропуски."
   ]
  },
  {
   "cell_type": "code",
   "execution_count": 26,
   "metadata": {},
   "outputs": [],
   "source": [
    "all_data = all_data.fillna(0)"
   ]
  },
  {
   "cell_type": "code",
   "execution_count": 27,
   "metadata": {},
   "outputs": [],
   "source": [
    "# def do_pairplot(df):\n",
    "#     plt.figure(figsize=(10, 3))\n",
    "#     pairplot = sns.pairplot(df, hue='gone', corner=True, kind='kde')\n",
    "#     title = \"Попарная зависимость значений в \" + get_df_name(df)\n",
    "#     pairplot.fig.suptitle(title)    \n"
   ]
  },
  {
   "cell_type": "code",
   "execution_count": 28,
   "metadata": {},
   "outputs": [
    {
     "name": "stdout",
     "output_type": "stream",
     "text": [
      "<class 'pandas.core.frame.DataFrame'>\n",
      "Int64Index: 7032 entries, 0 to 7031\n",
      "Data columns (total 22 columns):\n",
      " #   Column             Non-Null Count  Dtype         \n",
      "---  ------             --------------  -----         \n",
      " 0   customer_id        7032 non-null   object        \n",
      " 1   begin_date         7032 non-null   datetime64[ns]\n",
      " 2   end_date           7032 non-null   datetime64[ns]\n",
      " 3   type               7032 non-null   object        \n",
      " 4   paperless_billing  7032 non-null   int64         \n",
      " 5   payment_method     7032 non-null   object        \n",
      " 6   monthly_charges    7032 non-null   float64       \n",
      " 7   total_charges      7032 non-null   float64       \n",
      " 8   gone               7032 non-null   int64         \n",
      " 9   cooperation_time   7032 non-null   int64         \n",
      " 10  gender             7032 non-null   object        \n",
      " 11  senior_citizen     7032 non-null   int64         \n",
      " 12  partner            7032 non-null   int64         \n",
      " 13  dependents         7032 non-null   int64         \n",
      " 14  internet_service   7032 non-null   object        \n",
      " 15  online_security    7032 non-null   float64       \n",
      " 16  online_backup      7032 non-null   float64       \n",
      " 17  device_protection  7032 non-null   float64       \n",
      " 18  tech_support       7032 non-null   float64       \n",
      " 19  streaming_t_v      7032 non-null   float64       \n",
      " 20  streaming_movies   7032 non-null   float64       \n",
      " 21  multiple_lines     7032 non-null   float64       \n",
      "dtypes: datetime64[ns](2), float64(9), int64(6), object(5)\n",
      "memory usage: 1.2+ MB\n"
     ]
    }
   ],
   "source": [
    "all_data.info()"
   ]
  },
  {
   "cell_type": "markdown",
   "metadata": {},
   "source": [
    "Удаляем колонки ненужные столбцы"
   ]
  },
  {
   "cell_type": "code",
   "execution_count": 29,
   "metadata": {},
   "outputs": [],
   "source": [
    "# cols = all_data.select_dtypes([np.int64]).columns\n",
    "# for col in cols:\n",
    "#     all_data[col] = all_data[col].astype('float')"
   ]
  },
  {
   "cell_type": "code",
   "execution_count": 30,
   "metadata": {},
   "outputs": [
    {
     "name": "stdout",
     "output_type": "stream",
     "text": [
      "<class 'pandas.core.frame.DataFrame'>\n",
      "Int64Index: 7032 entries, 0 to 7031\n",
      "Data columns (total 22 columns):\n",
      " #   Column             Non-Null Count  Dtype         \n",
      "---  ------             --------------  -----         \n",
      " 0   customer_id        7032 non-null   object        \n",
      " 1   begin_date         7032 non-null   datetime64[ns]\n",
      " 2   end_date           7032 non-null   datetime64[ns]\n",
      " 3   type               7032 non-null   object        \n",
      " 4   paperless_billing  7032 non-null   int64         \n",
      " 5   payment_method     7032 non-null   object        \n",
      " 6   monthly_charges    7032 non-null   float64       \n",
      " 7   total_charges      7032 non-null   float64       \n",
      " 8   gone               7032 non-null   int64         \n",
      " 9   cooperation_time   7032 non-null   int64         \n",
      " 10  gender             7032 non-null   object        \n",
      " 11  senior_citizen     7032 non-null   int64         \n",
      " 12  partner            7032 non-null   int64         \n",
      " 13  dependents         7032 non-null   int64         \n",
      " 14  internet_service   7032 non-null   object        \n",
      " 15  online_security    7032 non-null   float64       \n",
      " 16  online_backup      7032 non-null   float64       \n",
      " 17  device_protection  7032 non-null   float64       \n",
      " 18  tech_support       7032 non-null   float64       \n",
      " 19  streaming_t_v      7032 non-null   float64       \n",
      " 20  streaming_movies   7032 non-null   float64       \n",
      " 21  multiple_lines     7032 non-null   float64       \n",
      "dtypes: datetime64[ns](2), float64(9), int64(6), object(5)\n",
      "memory usage: 1.2+ MB\n"
     ]
    }
   ],
   "source": [
    "all_data.info()"
   ]
  },
  {
   "cell_type": "code",
   "execution_count": 31,
   "metadata": {},
   "outputs": [],
   "source": [
    "all_data.drop(columns=['customer_id', 'begin_date', 'end_date'], inplace=True)"
   ]
  },
  {
   "cell_type": "code",
   "execution_count": 32,
   "metadata": {},
   "outputs": [],
   "source": [
    "#all_data.query('internet_service==0').sample(10)\n",
    "all_data['internet_service'].replace({0:'DSL'}, inplace=True)"
   ]
  },
  {
   "cell_type": "code",
   "execution_count": 33,
   "metadata": {},
   "outputs": [
    {
     "name": "stdout",
     "output_type": "stream",
     "text": [
      "Столбец:  type\n"
     ]
    },
    {
     "data": {
      "image/png": "[encoded data removed]",
      "text/plain": [
       "<Figure size 576x216 with 1 Axes>"
      ]
     },
     "metadata": {
      "needs_background": "light"
     },
     "output_type": "display_data"
    },
    {
     "name": "stdout",
     "output_type": "stream",
     "text": [
      "Столбец:  paperless_billing\n"
     ]
    },
    {
     "data": {
      "image/png": "[encoded data removed]",
      "text/plain": [
       "<Figure size 576x216 with 1 Axes>"
      ]
     },
     "metadata": {
      "needs_background": "light"
     },
     "output_type": "display_data"
    },
    {
     "name": "stdout",
     "output_type": "stream",
     "text": [
      "Столбец:  payment_method\n"
     ]
    },
    {
     "data": {
      "image/png": "[encoded data removed]",
      "text/plain": [
       "<Figure size 576x216 with 1 Axes>"
      ]
     },
     "metadata": {
      "needs_background": "light"
     },
     "output_type": "display_data"
    },
    {
     "name": "stdout",
     "output_type": "stream",
     "text": [
      "Столбец:  monthly_charges\n"
     ]
    },
    {
     "data": {
      "image/png": "[encoded data removed]",
      "text/plain": [
       "<Figure size 576x216 with 1 Axes>"
      ]
     },
     "metadata": {
      "needs_background": "light"
     },
     "output_type": "display_data"
    },
    {
     "name": "stdout",
     "output_type": "stream",
     "text": [
      "Столбец:  total_charges\n"
     ]
    },
    {
     "data": {
      "image/png": "[encoded data removed]",
      "text/plain": [
       "<Figure size 576x216 with 1 Axes>"
      ]
     },
     "metadata": {
      "needs_background": "light"
     },
     "output_type": "display_data"
    },
    {
     "name": "stdout",
     "output_type": "stream",
     "text": [
      "Столбец:  gone\n"
     ]
    },
    {
     "data": {
      "image/png": "[encoded data removed]",
      "text/plain": [
       "<Figure size 576x216 with 1 Axes>"
      ]
     },
     "metadata": {
      "needs_background": "light"
     },
     "output_type": "display_data"
    },
    {
     "name": "stdout",
     "output_type": "stream",
     "text": [
      "Столбец:  cooperation_time\n"
     ]
    },
    {
     "data": {
      "image/png": "[encoded data removed]",
      "text/plain": [
       "<Figure size 576x216 with 1 Axes>"
      ]
     },
     "metadata": {
      "needs_background": "light"
     },
     "output_type": "display_data"
    },
    {
     "name": "stdout",
     "output_type": "stream",
     "text": [
      "Столбец:  gender\n"
     ]
    },
    {
     "data": {
      "image/png": "[encoded data removed]",
      "text/plain": [
       "<Figure size 576x216 with 1 Axes>"
      ]
     },
     "metadata": {
      "needs_background": "light"
     },
     "output_type": "display_data"
    },
    {
     "name": "stdout",
     "output_type": "stream",
     "text": [
      "Столбец:  senior_citizen\n"
     ]
    },
    {
     "data": {
      "image/png": "[encoded data removed]",
      "text/plain": [
       "<Figure size 576x216 with 1 Axes>"
      ]
     },
     "metadata": {
      "needs_background": "light"
     },
     "output_type": "display_data"
    },
    {
     "name": "stdout",
     "output_type": "stream",
     "text": [
      "Столбец:  partner\n"
     ]
    },
    {
     "data": {
      "image/png": "[encoded data removed]",
      "text/plain": [
       "<Figure size 576x216 with 1 Axes>"
      ]
     },
     "metadata": {
      "needs_background": "light"
     },
     "output_type": "display_data"
    },
    {
     "name": "stdout",
     "output_type": "stream",
     "text": [
      "Столбец:  dependents\n"
     ]
    },
    {
     "data": {
      "image/png": "[encoded data removed]",
      "text/plain": [
       "<Figure size 576x216 with 1 Axes>"
      ]
     },
     "metadata": {
      "needs_background": "light"
     },
     "output_type": "display_data"
    },
    {
     "name": "stdout",
     "output_type": "stream",
     "text": [
      "Столбец:  internet_service\n"
     ]
    },
    {
     "data": {
      "image/png": "[encoded data removed]",
      "text/plain": [
       "<Figure size 576x216 with 1 Axes>"
      ]
     },
     "metadata": {
      "needs_background": "light"
     },
     "output_type": "display_data"
    },
    {
     "name": "stdout",
     "output_type": "stream",
     "text": [
      "Столбец:  online_security\n"
     ]
    },
    {
     "data": {
      "image/png": "[encoded data removed]",
      "text/plain": [
       "<Figure size 576x216 with 1 Axes>"
      ]
     },
     "metadata": {
      "needs_background": "light"
     },
     "output_type": "display_data"
    },
    {
     "name": "stdout",
     "output_type": "stream",
     "text": [
      "Столбец:  online_backup\n"
     ]
    },
    {
     "data": {
      "image/png": "[encoded data removed]",
      "text/plain": [
       "<Figure size 576x216 with 1 Axes>"
      ]
     },
     "metadata": {
      "needs_background": "light"
     },
     "output_type": "display_data"
    },
    {
     "name": "stdout",
     "output_type": "stream",
     "text": [
      "Столбец:  device_protection\n"
     ]
    },
    {
     "data": {
      "image/png": "[encoded data removed]",
      "text/plain": [
       "<Figure size 576x216 with 1 Axes>"
      ]
     },
     "metadata": {
      "needs_background": "light"
     },
     "output_type": "display_data"
    },
    {
     "name": "stdout",
     "output_type": "stream",
     "text": [
      "Столбец:  tech_support\n"
     ]
    },
    {
     "data": {
      "image/png": "[encoded data removed]",
      "text/plain": [
       "<Figure size 576x216 with 1 Axes>"
      ]
     },
     "metadata": {
      "needs_background": "light"
     },
     "output_type": "display_data"
    },
    {
     "name": "stdout",
     "output_type": "stream",
     "text": [
      "Столбец:  streaming_t_v\n"
     ]
    },
    {
     "data": {
      "image/png": "[encoded data removed]",
      "text/plain": [
       "<Figure size 576x216 with 1 Axes>"
      ]
     },
     "metadata": {
      "needs_background": "light"
     },
     "output_type": "display_data"
    },
    {
     "name": "stdout",
     "output_type": "stream",
     "text": [
      "Столбец:  streaming_movies\n"
     ]
    },
    {
     "data": {
      "image/png": "[encoded data removed]",
      "text/plain": [
       "<Figure size 576x216 with 1 Axes>"
      ]
     },
     "metadata": {
      "needs_background": "light"
     },
     "output_type": "display_data"
    },
    {
     "name": "stdout",
     "output_type": "stream",
     "text": [
      "Столбец:  multiple_lines\n"
     ]
    },
    {
     "data": {
      "image/png": "[encoded data removed]",
      "text/plain": [
       "<Figure size 576x216 with 1 Axes>"
      ]
     },
     "metadata": {
      "needs_background": "light"
     },
     "output_type": "display_data"
    }
   ],
   "source": [
    "for col in all_data.columns:\n",
    "    print('Столбец: ', col)\n",
    "    plt.figure(figsize=(8, 3))\n",
    "    sns.histplot(data=all_data, x=col, hue=\"gone\")\n",
    "    plt.show()"
   ]
  },
  {
   "cell_type": "markdown",
   "metadata": {},
   "source": [
    "**Выводы:**\n",
    "- явная зависимость оттока клиентов в первые месяцы обслуживания. \n",
    "\n",
    "Чаще уходят, те кто:\n",
    "- платят значительную ежемесячную сумму\n",
    "- платят ежемесячно \n",
    "- не используют пакеты доп. услуг\n",
    "- пенсионеры, почти половина пенсионеров ушли \n",
    "- холостые, ушедших нехолостых примерно на треть меньше\n",
    "- не имеющие иждевенцев, как ни странно.\n",
    "\n",
    "В представленных данных мужчины и женщины находятся в сбалансированном соотношении как в целом, так и ушедшие/оставшиеся (видно на графике для столбца gender).\n",
    "\n",
    "\n",
    "\n"
   ]
  },
  {
   "cell_type": "markdown",
   "metadata": {},
   "source": [
    "\n",
    "- существенного значения признак multiple_lines не оказывает."
   ]
  },
  {
   "cell_type": "markdown",
   "metadata": {},
   "source": [
    "Воспользуемся критерием корреляции phik (https://phik.readthedocs.io/en/latest/)"
   ]
  },
  {
   "cell_type": "code",
   "execution_count": 34,
   "metadata": {},
   "outputs": [
    {
     "name": "stdout",
     "output_type": "stream",
     "text": [
      "interval columns not set, guessing: ['paperless_billing', 'monthly_charges', 'total_charges', 'gone', 'cooperation_time', 'senior_citizen', 'partner', 'dependents', 'online_security', 'online_backup', 'device_protection', 'tech_support', 'streaming_t_v', 'streaming_movies', 'multiple_lines']\n"
     ]
    },
    {
     "data": {
      "image/png": "[encoded data removed]",
      "text/plain": [
       "<Figure size 1296x432 with 2 Axes>"
      ]
     },
     "metadata": {
      "needs_background": "light"
     },
     "output_type": "display_data"
    }
   ],
   "source": [
    "def do_corr_heatmap_phik(df):\n",
    "    plt.figure(figsize=(18, 6))\n",
    "    heatmap = sns.heatmap(all_data.phik_matrix(), vmin=-1, vmax=1, annot=True, cmap='BrBG')\n",
    "    title = \"Матрица корреляций phik в \" + get_df_name(df)\n",
    "    heatmap.set_title(title, fontdict={'fontsize':18}, pad=16);\n",
    "\n",
    "do_corr_heatmap_phik(all_data)"
   ]
  },
  {
   "cell_type": "code",
   "execution_count": 35,
   "metadata": {},
   "outputs": [
    {
     "data": {
      "image/png": "[encoded data removed]",
      "text/plain": [
       "<Figure size 1296x432 with 2 Axes>"
      ]
     },
     "metadata": {
      "needs_background": "light"
     },
     "output_type": "display_data"
    }
   ],
   "source": [
    "def do_corr_heatmap_spearmen(df):\n",
    "    plt.figure(figsize=(18, 6))\n",
    "    heatmap = sns.heatmap(all_data.corr(method='spearman'), vmin=-1, vmax=1, annot=True, cmap='BrBG')\n",
    "    title = \"Матрица корреляций Спирмена в \" + get_df_name(df)\n",
    "    heatmap.set_title(title, fontdict={'fontsize':18}, pad=16);\n",
    "\n",
    "do_corr_heatmap_spearmen(all_data)"
   ]
  },
  {
   "cell_type": "markdown",
   "metadata": {},
   "source": [
    "Исключим признак gender - этот признак имеет крайне малое влияние (это видно на матрицах корреляций) на целевую переменную и на остальные признаки также."
   ]
  },
  {
   "cell_type": "code",
   "execution_count": 37,
   "metadata": {},
   "outputs": [],
   "source": [
    "all_data.drop(columns=['gender'], inplace=True)"
   ]
  },
  {
   "cell_type": "markdown",
   "metadata": {},
   "source": [
    "---\n"
   ]
  },
  {
   "cell_type": "markdown",
   "metadata": {},
   "source": [
    "### Разбивка данных, OHE, upsampling"
   ]
  },
  {
   "cell_type": "code",
   "execution_count": 39,
   "metadata": {},
   "outputs": [],
   "source": [
    "X = all_data.drop(columns=['gone'])\n",
    "y = all_data['gone'] "
   ]
  },
  {
   "cell_type": "code",
   "execution_count": 40,
   "metadata": {},
   "outputs": [],
   "source": [
    "X_train, X_test, y_train, y_test = train_test_split(X, y, test_size=0.25, random_state=RS)"
   ]
  },
  {
   "cell_type": "code",
   "execution_count": 41,
   "metadata": {},
   "outputs": [
    {
     "data": {
      "text/html": [
       "<div>\n",
       "<style scoped>\n",
       "    .dataframe tbody tr th:only-of-type {\n",
       "        vertical-align: middle;\n",
       "    }\n",
       "\n",
       "    .dataframe tbody tr th {\n",
       "        vertical-align: top;\n",
       "    }\n",
       "\n",
       "    .dataframe thead th {\n",
       "        text-align: right;\n",
       "    }\n",
       "</style>\n",
       "<table border=\"1\" class=\"dataframe\">\n",
       "  <thead>\n",
       "    <tr style=\"text-align: right;\">\n",
       "      <th></th>\n",
       "      <th>type</th>\n",
       "      <th>paperless_billing</th>\n",
       "      <th>payment_method</th>\n",
       "      <th>monthly_charges</th>\n",
       "      <th>total_charges</th>\n",
       "      <th>cooperation_time</th>\n",
       "      <th>senior_citizen</th>\n",
       "      <th>partner</th>\n",
       "      <th>dependents</th>\n",
       "      <th>internet_service</th>\n",
       "      <th>online_security</th>\n",
       "      <th>online_backup</th>\n",
       "      <th>device_protection</th>\n",
       "      <th>tech_support</th>\n",
       "      <th>streaming_t_v</th>\n",
       "      <th>streaming_movies</th>\n",
       "      <th>multiple_lines</th>\n",
       "    </tr>\n",
       "  </thead>\n",
       "  <tbody>\n",
       "    <tr>\n",
       "      <th>2416</th>\n",
       "      <td>Month-to-month</td>\n",
       "      <td>1</td>\n",
       "      <td>Bank transfer (automatic)</td>\n",
       "      <td>39.9</td>\n",
       "      <td>2796.35</td>\n",
       "      <td>2071</td>\n",
       "      <td>0</td>\n",
       "      <td>0</td>\n",
       "      <td>0</td>\n",
       "      <td>DSL</td>\n",
       "      <td>0.0</td>\n",
       "      <td>0.0</td>\n",
       "      <td>1.0</td>\n",
       "      <td>0.0</td>\n",
       "      <td>0.0</td>\n",
       "      <td>1.0</td>\n",
       "      <td>0.0</td>\n",
       "    </tr>\n",
       "  </tbody>\n",
       "</table>\n",
       "</div>"
      ],
      "text/plain": [
       "                type  paperless_billing             payment_method  \\\n",
       "2416  Month-to-month                  1  Bank transfer (automatic)   \n",
       "\n",
       "      monthly_charges  total_charges  cooperation_time  senior_citizen  \\\n",
       "2416             39.9        2796.35              2071               0   \n",
       "\n",
       "      partner  dependents internet_service  online_security  online_backup  \\\n",
       "2416        0           0              DSL              0.0            0.0   \n",
       "\n",
       "      device_protection  tech_support  streaming_t_v  streaming_movies  \\\n",
       "2416                1.0           0.0            0.0               1.0   \n",
       "\n",
       "      multiple_lines  \n",
       "2416             0.0  "
      ]
     },
     "execution_count": 41,
     "metadata": {},
     "output_type": "execute_result"
    }
   ],
   "source": [
    "X_test.head(1)"
   ]
  },
  {
   "cell_type": "code",
   "execution_count": 42,
   "metadata": {},
   "outputs": [
    {
     "data": {
      "text/plain": [
       "Index(['type', 'paperless_billing', 'payment_method', 'monthly_charges',\n",
       "       'total_charges', 'cooperation_time', 'senior_citizen', 'partner',\n",
       "       'dependents', 'internet_service', 'online_security', 'online_backup',\n",
       "       'device_protection', 'tech_support', 'streaming_t_v',\n",
       "       'streaming_movies', 'multiple_lines'],\n",
       "      dtype='object')"
      ]
     },
     "execution_count": 42,
     "metadata": {},
     "output_type": "execute_result"
    }
   ],
   "source": [
    "X_train.columns"
   ]
  },
  {
   "cell_type": "code",
   "execution_count": 43,
   "metadata": {},
   "outputs": [],
   "source": [
    "to_ohe_col = ['type', 'payment_method', 'internet_service']"
   ]
  },
  {
   "cell_type": "markdown",
   "metadata": {},
   "source": [
    "Кодируем признаки после разбиения на выборки, чтобы избежать возможные утечки."
   ]
  },
  {
   "cell_type": "code",
   "execution_count": 44,
   "metadata": {},
   "outputs": [],
   "source": [
    "X_train = pd.get_dummies(X_train, columns = to_ohe_col, drop_first = True)\n",
    "X_test = pd.get_dummies(X_test, columns = to_ohe_col, drop_first = True)"
   ]
  },
  {
   "cell_type": "markdown",
   "metadata": {},
   "source": [
    "Проверим, что все прошло успешно и данные представлены в нужном нам виде."
   ]
  },
  {
   "cell_type": "code",
   "execution_count": 45,
   "metadata": {},
   "outputs": [
    {
     "name": "stdout",
     "output_type": "stream",
     "text": [
      "<class 'pandas.core.frame.DataFrame'>\n",
      "Int64Index: 5274 entries, 5386 to 6040\n",
      "Data columns (total 20 columns):\n",
      " #   Column                                  Non-Null Count  Dtype  \n",
      "---  ------                                  --------------  -----  \n",
      " 0   paperless_billing                       5274 non-null   int64  \n",
      " 1   monthly_charges                         5274 non-null   float64\n",
      " 2   total_charges                           5274 non-null   float64\n",
      " 3   cooperation_time                        5274 non-null   int64  \n",
      " 4   senior_citizen                          5274 non-null   int64  \n",
      " 5   partner                                 5274 non-null   int64  \n",
      " 6   dependents                              5274 non-null   int64  \n",
      " 7   online_security                         5274 non-null   float64\n",
      " 8   online_backup                           5274 non-null   float64\n",
      " 9   device_protection                       5274 non-null   float64\n",
      " 10  tech_support                            5274 non-null   float64\n",
      " 11  streaming_t_v                           5274 non-null   float64\n",
      " 12  streaming_movies                        5274 non-null   float64\n",
      " 13  multiple_lines                          5274 non-null   float64\n",
      " 14  type_One year                           5274 non-null   uint8  \n",
      " 15  type_Two year                           5274 non-null   uint8  \n",
      " 16  payment_method_Credit card (automatic)  5274 non-null   uint8  \n",
      " 17  payment_method_Electronic check         5274 non-null   uint8  \n",
      " 18  payment_method_Mailed check             5274 non-null   uint8  \n",
      " 19  internet_service_Fiber optic            5274 non-null   uint8  \n",
      "dtypes: float64(9), int64(5), uint8(6)\n",
      "memory usage: 648.9 KB\n"
     ]
    }
   ],
   "source": [
    "X_train.info()"
   ]
  },
  {
   "cell_type": "code",
   "execution_count": 46,
   "metadata": {},
   "outputs": [
    {
     "name": "stdout",
     "output_type": "stream",
     "text": [
      "<class 'pandas.core.frame.DataFrame'>\n",
      "Int64Index: 1758 entries, 2416 to 4230\n",
      "Data columns (total 20 columns):\n",
      " #   Column                                  Non-Null Count  Dtype  \n",
      "---  ------                                  --------------  -----  \n",
      " 0   paperless_billing                       1758 non-null   int64  \n",
      " 1   monthly_charges                         1758 non-null   float64\n",
      " 2   total_charges                           1758 non-null   float64\n",
      " 3   cooperation_time                        1758 non-null   int64  \n",
      " 4   senior_citizen                          1758 non-null   int64  \n",
      " 5   partner                                 1758 non-null   int64  \n",
      " 6   dependents                              1758 non-null   int64  \n",
      " 7   online_security                         1758 non-null   float64\n",
      " 8   online_backup                           1758 non-null   float64\n",
      " 9   device_protection                       1758 non-null   float64\n",
      " 10  tech_support                            1758 non-null   float64\n",
      " 11  streaming_t_v                           1758 non-null   float64\n",
      " 12  streaming_movies                        1758 non-null   float64\n",
      " 13  multiple_lines                          1758 non-null   float64\n",
      " 14  type_One year                           1758 non-null   uint8  \n",
      " 15  type_Two year                           1758 non-null   uint8  \n",
      " 16  payment_method_Credit card (automatic)  1758 non-null   uint8  \n",
      " 17  payment_method_Electronic check         1758 non-null   uint8  \n",
      " 18  payment_method_Mailed check             1758 non-null   uint8  \n",
      " 19  internet_service_Fiber optic            1758 non-null   uint8  \n",
      "dtypes: float64(9), int64(5), uint8(6)\n",
      "memory usage: 216.3 KB\n"
     ]
    }
   ],
   "source": [
    "X_test.info()"
   ]
  },
  {
   "cell_type": "code",
   "execution_count": 47,
   "metadata": {},
   "outputs": [
    {
     "data": {
      "text/html": [
       "<div>\n",
       "<style scoped>\n",
       "    .dataframe tbody tr th:only-of-type {\n",
       "        vertical-align: middle;\n",
       "    }\n",
       "\n",
       "    .dataframe tbody tr th {\n",
       "        vertical-align: top;\n",
       "    }\n",
       "\n",
       "    .dataframe thead th {\n",
       "        text-align: right;\n",
       "    }\n",
       "</style>\n",
       "<table border=\"1\" class=\"dataframe\">\n",
       "  <thead>\n",
       "    <tr style=\"text-align: right;\">\n",
       "      <th></th>\n",
       "      <th>paperless_billing</th>\n",
       "      <th>monthly_charges</th>\n",
       "      <th>total_charges</th>\n",
       "      <th>cooperation_time</th>\n",
       "      <th>senior_citizen</th>\n",
       "      <th>partner</th>\n",
       "      <th>dependents</th>\n",
       "      <th>online_security</th>\n",
       "      <th>online_backup</th>\n",
       "      <th>device_protection</th>\n",
       "      <th>tech_support</th>\n",
       "      <th>streaming_t_v</th>\n",
       "      <th>streaming_movies</th>\n",
       "      <th>multiple_lines</th>\n",
       "      <th>type_One year</th>\n",
       "      <th>type_Two year</th>\n",
       "      <th>payment_method_Credit card (automatic)</th>\n",
       "      <th>payment_method_Electronic check</th>\n",
       "      <th>payment_method_Mailed check</th>\n",
       "      <th>internet_service_Fiber optic</th>\n",
       "    </tr>\n",
       "  </thead>\n",
       "  <tbody>\n",
       "    <tr>\n",
       "      <th>5386</th>\n",
       "      <td>1</td>\n",
       "      <td>81.00</td>\n",
       "      <td>389.60</td>\n",
       "      <td>153</td>\n",
       "      <td>0</td>\n",
       "      <td>0</td>\n",
       "      <td>0</td>\n",
       "      <td>0.0</td>\n",
       "      <td>0.0</td>\n",
       "      <td>0.0</td>\n",
       "      <td>0.0</td>\n",
       "      <td>1.0</td>\n",
       "      <td>0.0</td>\n",
       "      <td>0.0</td>\n",
       "      <td>0</td>\n",
       "      <td>0</td>\n",
       "      <td>1</td>\n",
       "      <td>0</td>\n",
       "      <td>0</td>\n",
       "      <td>1</td>\n",
       "    </tr>\n",
       "    <tr>\n",
       "      <th>5622</th>\n",
       "      <td>0</td>\n",
       "      <td>25.00</td>\n",
       "      <td>78.25</td>\n",
       "      <td>92</td>\n",
       "      <td>0</td>\n",
       "      <td>1</td>\n",
       "      <td>0</td>\n",
       "      <td>0.0</td>\n",
       "      <td>0.0</td>\n",
       "      <td>0.0</td>\n",
       "      <td>0.0</td>\n",
       "      <td>0.0</td>\n",
       "      <td>0.0</td>\n",
       "      <td>0.0</td>\n",
       "      <td>0</td>\n",
       "      <td>0</td>\n",
       "      <td>0</td>\n",
       "      <td>0</td>\n",
       "      <td>1</td>\n",
       "      <td>0</td>\n",
       "    </tr>\n",
       "    <tr>\n",
       "      <th>2970</th>\n",
       "      <td>0</td>\n",
       "      <td>60.65</td>\n",
       "      <td>196.90</td>\n",
       "      <td>92</td>\n",
       "      <td>0</td>\n",
       "      <td>0</td>\n",
       "      <td>0</td>\n",
       "      <td>0.0</td>\n",
       "      <td>0.0</td>\n",
       "      <td>0.0</td>\n",
       "      <td>1.0</td>\n",
       "      <td>0.0</td>\n",
       "      <td>1.0</td>\n",
       "      <td>0.0</td>\n",
       "      <td>0</td>\n",
       "      <td>0</td>\n",
       "      <td>0</td>\n",
       "      <td>0</td>\n",
       "      <td>1</td>\n",
       "      <td>0</td>\n",
       "    </tr>\n",
       "    <tr>\n",
       "      <th>4069</th>\n",
       "      <td>1</td>\n",
       "      <td>99.35</td>\n",
       "      <td>6944.50</td>\n",
       "      <td>2132</td>\n",
       "      <td>0</td>\n",
       "      <td>1</td>\n",
       "      <td>0</td>\n",
       "      <td>1.0</td>\n",
       "      <td>1.0</td>\n",
       "      <td>1.0</td>\n",
       "      <td>0.0</td>\n",
       "      <td>1.0</td>\n",
       "      <td>0.0</td>\n",
       "      <td>1.0</td>\n",
       "      <td>0</td>\n",
       "      <td>1</td>\n",
       "      <td>1</td>\n",
       "      <td>0</td>\n",
       "      <td>0</td>\n",
       "      <td>1</td>\n",
       "    </tr>\n",
       "    <tr>\n",
       "      <th>6833</th>\n",
       "      <td>0</td>\n",
       "      <td>89.65</td>\n",
       "      <td>2623.65</td>\n",
       "      <td>883</td>\n",
       "      <td>0</td>\n",
       "      <td>0</td>\n",
       "      <td>0</td>\n",
       "      <td>0.0</td>\n",
       "      <td>1.0</td>\n",
       "      <td>0.0</td>\n",
       "      <td>1.0</td>\n",
       "      <td>1.0</td>\n",
       "      <td>0.0</td>\n",
       "      <td>0.0</td>\n",
       "      <td>0</td>\n",
       "      <td>0</td>\n",
       "      <td>0</td>\n",
       "      <td>0</td>\n",
       "      <td>1</td>\n",
       "      <td>1</td>\n",
       "    </tr>\n",
       "  </tbody>\n",
       "</table>\n",
       "</div>"
      ],
      "text/plain": [
       "      paperless_billing  monthly_charges  total_charges  cooperation_time  \\\n",
       "5386                  1            81.00         389.60               153   \n",
       "5622                  0            25.00          78.25                92   \n",
       "2970                  0            60.65         196.90                92   \n",
       "4069                  1            99.35        6944.50              2132   \n",
       "6833                  0            89.65        2623.65               883   \n",
       "\n",
       "      senior_citizen  partner  dependents  online_security  online_backup  \\\n",
       "5386               0        0           0              0.0            0.0   \n",
       "5622               0        1           0              0.0            0.0   \n",
       "2970               0        0           0              0.0            0.0   \n",
       "4069               0        1           0              1.0            1.0   \n",
       "6833               0        0           0              0.0            1.0   \n",
       "\n",
       "      device_protection  tech_support  streaming_t_v  streaming_movies  \\\n",
       "5386                0.0           0.0            1.0               0.0   \n",
       "5622                0.0           0.0            0.0               0.0   \n",
       "2970                0.0           1.0            0.0               1.0   \n",
       "4069                1.0           0.0            1.0               0.0   \n",
       "6833                0.0           1.0            1.0               0.0   \n",
       "\n",
       "      multiple_lines  type_One year  type_Two year  \\\n",
       "5386             0.0              0              0   \n",
       "5622             0.0              0              0   \n",
       "2970             0.0              0              0   \n",
       "4069             1.0              0              1   \n",
       "6833             0.0              0              0   \n",
       "\n",
       "      payment_method_Credit card (automatic)  payment_method_Electronic check  \\\n",
       "5386                                       1                                0   \n",
       "5622                                       0                                0   \n",
       "2970                                       0                                0   \n",
       "4069                                       1                                0   \n",
       "6833                                       0                                0   \n",
       "\n",
       "      payment_method_Mailed check  internet_service_Fiber optic  \n",
       "5386                            0                             1  \n",
       "5622                            1                             0  \n",
       "2970                            1                             0  \n",
       "4069                            0                             1  \n",
       "6833                            1                             1  "
      ]
     },
     "execution_count": 47,
     "metadata": {},
     "output_type": "execute_result"
    }
   ],
   "source": [
    "X_train.head()"
   ]
  },
  {
   "cell_type": "markdown",
   "metadata": {},
   "source": [
    "Отказываемся от upsampling #."
   ]
  },
  {
   "cell_type": "code",
   "execution_count": 48,
   "metadata": {},
   "outputs": [],
   "source": [
    "# def upsample(features, target, repeat):\n",
    "#     features_zeros = features[target == 0]\n",
    "#     features_ones = features[target == 1]\n",
    "#     target_zeros = target[target == 0]\n",
    "#     target_ones = target[target == 1]\n",
    "#     features_upsampled = pd.concat([features_zeros] + [features_ones] * repeat)\n",
    "#     target_upsampled = pd.concat([target_zeros] + [target_ones] * repeat)\n",
    "#     features_upsampled, target_upsampled = shuffle(\n",
    "#     features_upsampled, target_upsampled, random_state=12345)\n",
    "#     return features_upsampled, target_upsampled"
   ]
  },
  {
   "cell_type": "code",
   "execution_count": 49,
   "metadata": {},
   "outputs": [],
   "source": [
    "# X_train, y_train = upsample(X_train, y_train, 2) "
   ]
  },
  {
   "cell_type": "markdown",
   "metadata": {},
   "source": [
    "### Работа с моделями"
   ]
  },
  {
   "cell_type": "markdown",
   "metadata": {},
   "source": [
    "---\n",
    "**Модель CatBoost**"
   ]
  },
  {
   "cell_type": "code",
   "execution_count": 50,
   "metadata": {},
   "outputs": [
    {
     "name": "stdout",
     "output_type": "stream",
     "text": [
      "Наилучшие параметры модели:  {'iterations': 1000, 'l2_leaf_reg': 2, 'learning_rate': 0.1}\n",
      "Наилучшая метрика точности модели:  0.907199964304328\n",
      "CPU times: user 2min 12s, sys: 6.2 s, total: 2min 18s\n",
      "Wall time: 3min 3s\n"
     ]
    }
   ],
   "source": [
    "%%time\n",
    "\n",
    "param_grid = {\n",
    "    'learning_rate': [0.01, 0.04, 0.1],\n",
    "    'iterations': [1000],\n",
    "    'l2_leaf_reg': [2, 3, 5, 10],\n",
    "    #'n_estimators': [10, 20, 40, 70],\n",
    "    #'max_depth': range (5, 20 ,5),\n",
    "    #'min_samples_leaf': range (1,5)\n",
    "    #'max_depth': []\n",
    "    }\n",
    "\n",
    "model = CatBoostClassifier(random_state=RS, verbose=0)\n",
    "\n",
    "catboost = GridSearchCV(model, param_grid, cv=5, scoring='roc_auc')\n",
    "catboost.fit(X_train, y_train)\n",
    "\n",
    "print('Наилучшие параметры модели: ', catboost.best_params_)\n",
    "print('Наилучшая метрика точности модели: ', catboost.best_score_)"
   ]
  },
  {
   "cell_type": "markdown",
   "metadata": {},
   "source": [
    "---\n",
    "**Модель RandomForest**"
   ]
  },
  {
   "cell_type": "code",
   "execution_count": 51,
   "metadata": {},
   "outputs": [
    {
     "name": "stdout",
     "output_type": "stream",
     "text": [
      "{'max_depth': 30, 'min_samples_leaf': 2, 'min_samples_split': 15, 'n_estimators': 300}\n",
      "0.859194728371976\n",
      "CPU times: user 41 s, sys: 168 ms, total: 41.1 s\n",
      "Wall time: 41.1 s\n"
     ]
    }
   ],
   "source": [
    "%%time\n",
    "param_grid = {\n",
    "    'max_depth': [30],\n",
    "    'min_samples_split': [10, 15],\n",
    "    'min_samples_leaf': [2, 5],\n",
    "    'n_estimators': [100, 200, 300], \n",
    "}\n",
    "\n",
    "model = RandomForestClassifier(random_state=RS)\n",
    "\n",
    "random_forest = GridSearchCV(model, param_grid, cv=5, scoring='roc_auc')\n",
    "random_forest.fit(X_train, y_train)\n",
    "\n",
    "print(random_forest.best_params_)\n",
    "print(random_forest.best_score_)"
   ]
  },
  {
   "cell_type": "markdown",
   "metadata": {},
   "source": [
    "---\n",
    "**Модель LGBMClassifier**"
   ]
  },
  {
   "cell_type": "code",
   "execution_count": 53,
   "metadata": {},
   "outputs": [
    {
     "name": "stdout",
     "output_type": "stream",
     "text": [
      "{'class_weight': 'balanced', 'learning_rate': 0.05, 'n_estimators': 300, 'num_leaves': 40}\n",
      "0.8883716854671219\n",
      "CPU times: user 24min 12s, sys: 13.8 s, total: 24min 26s\n",
      "Wall time: 24min 35s\n"
     ]
    }
   ],
   "source": [
    "%%time\n",
    "\n",
    "params = [{'learning_rate': [0.05, 0.1],\n",
    "                       'n_estimators': [300, 500],\n",
    "                       'num_leaves': [40, 70],\n",
    "                     'class_weight': ['balanced']}]\n",
    "\n",
    "model = LGBMClassifier(objective='binary', metric='auc', random_state=RS)\n",
    "\n",
    "lgbm = GridSearchCV(model, params, cv = 5, verbose = 0, \n",
    "                      n_jobs=1,scoring={'AUC':'roc_auc'}, refit='AUC')\n",
    "\n",
    "lgbm.fit(X_train, y_train)\n",
    "print(lgbm.best_params_)\n",
    "print(lgbm.best_score_)"
   ]
  },
  {
   "cell_type": "markdown",
   "metadata": {},
   "source": [
    "По результат проверки, наилучшие показатели удалось получить на модели CatBoost. Произведем окончательную проверку и получим итоговые метрики точности."
   ]
  },
  {
   "cell_type": "markdown",
   "metadata": {},
   "source": [
    "---"
   ]
  },
  {
   "cell_type": "code",
   "execution_count": 54,
   "metadata": {},
   "outputs": [],
   "source": [
    "# Отображаем итоговую информацию о модели.\n",
    "def get_resume(model_, X_test, y_test, title):\n",
    "    \n",
    "    print(title)\n",
    "    print('==='*10)\n",
    "\n",
    "    print('График ROC-AUC')\n",
    "    pred = model_.best_estimator_.predict_proba(X_test)[:, 1]\n",
    "    roc_auc = metrics.plot_roc_curve(model_, X_test, y_test) \n",
    "    plt.show()\n",
    "    \n",
    "    print('ROC-AUC: ', roc_auc_score(y_test, pred))\n",
    "    print('Accuracy модели: ', accuracy_score(y_test, model_.best_estimator_.predict(X_test)))\n",
    "    \n",
    "  \n",
    "    \n",
    "    print('Матрица истинности')\n",
    "    conf_matrix = sns.heatmap(confusion_matrix(y_test, model_.best_estimator_.predict(X_test)),\n",
    "                annot=True)\n",
    "    plt.show()\n",
    "    \n",
    "   \n",
    "    print('\\nВажность признаков:')\n",
    "    feat_imp = pd.DataFrame(model_.best_estimator_.feature_importances_, \n",
    "                           index = X_test.columns, columns=['importances'])\n",
    "    feat_imp = feat_imp.sort_values(by='importances', ascending=False)\n",
    "    print(feat_imp.head(7))"
   ]
  },
  {
   "cell_type": "code",
   "execution_count": 55,
   "metadata": {},
   "outputs": [
    {
     "name": "stdout",
     "output_type": "stream",
     "text": [
      "Результаты модели CatBoost\n",
      "==============================\n",
      "График ROC-AUC\n"
     ]
    },
    {
     "data": {
      "image/png": "[encoded data removed]",
      "text/plain": [
       "<Figure size 432x288 with 1 Axes>"
      ]
     },
     "metadata": {
      "needs_background": "light"
     },
     "output_type": "display_data"
    },
    {
     "name": "stdout",
     "output_type": "stream",
     "text": [
      "ROC-AUC:  0.9143054727357053\n",
      "Accuracy модели:  0.8663253697383391\n",
      "Матрица истинности\n"
     ]
    },
    {
     "data": {
      "image/png": "[encoded data removed]",
      "text/plain": [
       "<Figure size 432x288 with 2 Axes>"
      ]
     },
     "metadata": {
      "needs_background": "light"
     },
     "output_type": "display_data"
    },
    {
     "name": "stdout",
     "output_type": "stream",
     "text": [
      "\n",
      "Важность признаков:\n",
      "                                 importances\n",
      "cooperation_time                   39.877504\n",
      "monthly_charges                    13.811619\n",
      "total_charges                      12.147460\n",
      "type_Two year                       3.726750\n",
      "internet_service_Fiber optic        3.446931\n",
      "payment_method_Electronic check     2.651333\n",
      "paperless_billing                   2.601473\n"
     ]
    }
   ],
   "source": [
    "get_resume(catboost, X_test, y_test, 'Результаты модели CatBoost')"
   ]
  },
  {
   "cell_type": "markdown",
   "metadata": {},
   "source": [
    "### Общие выводы:\n",
    "- В работе произведен анализ и построены модели для предсказания откажется ли клиент от услуг оператора сотовой связи или нет\n",
    "- Данные были получены из 4-x файлов, в дальнейшем данные объеденены и произведена обработка данных\n",
    "- Произведен EDA, были сделаны краткие выводы о важности признаков. Основной вывод: отказыаваются от услуг в основном новые клиенты и клиенты с высокой стоимостью пакета\n",
    "- Прозведена обработка данных для подачи их в модели обучения: добавлен новый признак, удален несущественный признак, выделена целевая переменная, произведен разбивка данных на выборки, кодирование данных\n",
    "- Обучены три модели CatBoost, RandomForestClassifier и LGBMClassifier\n",
    "\n",
    "Лучший результат показала модель CatBoost со значением метрики ROC-AUC=0.914 и accuracy_score=0.876, время обучения - 2min 51s.\n",
    "Самые важные факторы - как долго клиент пользуется услугами и сколько он платит в месяц, общая оплата, далее признаки уже не оказывают такого сильного влияния: тип подключения,  наличие супруга(и), способы оплаты, и т.д."
   ]
  }
 ],
 "metadata": {
  "ExecuteTimeLog": [
   {
    "duration": 43,
    "start_time": "2022-09-12T13:52:53.631Z"
   },
   {
    "duration": 361,
    "start_time": "2022-09-12T13:52:56.629Z"
   },
   {
    "duration": 464,
    "start_time": "2022-09-12T13:52:57.309Z"
   },
   {
    "duration": 3,
    "start_time": "2022-09-12T13:56:11.195Z"
   },
   {
    "duration": 25,
    "start_time": "2022-09-12T13:56:25.740Z"
   },
   {
    "duration": 21,
    "start_time": "2022-09-12T13:56:31.077Z"
   },
   {
    "duration": 2,
    "start_time": "2022-09-12T13:57:13.966Z"
   },
   {
    "duration": 28,
    "start_time": "2022-09-12T13:57:14.604Z"
   },
   {
    "duration": 9,
    "start_time": "2022-09-12T13:58:35.213Z"
   },
   {
    "duration": 105,
    "start_time": "2022-09-12T13:58:43.173Z"
   },
   {
    "duration": 3,
    "start_time": "2022-09-12T13:58:44.094Z"
   },
   {
    "duration": 137,
    "start_time": "2022-09-12T13:58:44.493Z"
   },
   {
    "duration": 4,
    "start_time": "2022-09-12T13:59:07.142Z"
   },
   {
    "duration": 119,
    "start_time": "2022-09-12T13:59:07.649Z"
   },
   {
    "duration": 9,
    "start_time": "2022-09-12T13:59:51.901Z"
   },
   {
    "duration": 7,
    "start_time": "2022-09-12T13:59:57.261Z"
   },
   {
    "duration": 3,
    "start_time": "2022-09-12T14:01:23.950Z"
   },
   {
    "duration": 5,
    "start_time": "2022-09-12T14:01:47.165Z"
   },
   {
    "duration": 122,
    "start_time": "2022-09-12T14:01:47.646Z"
   },
   {
    "duration": 3,
    "start_time": "2022-09-12T14:02:08.919Z"
   },
   {
    "duration": 113,
    "start_time": "2022-09-12T14:02:09.455Z"
   },
   {
    "duration": 4,
    "start_time": "2022-09-12T14:02:18.093Z"
   },
   {
    "duration": 106,
    "start_time": "2022-09-12T14:02:18.661Z"
   },
   {
    "duration": 75,
    "start_time": "2022-09-12T14:04:23.245Z"
   },
   {
    "duration": 105,
    "start_time": "2022-09-12T17:51:03.270Z"
   },
   {
    "duration": 93,
    "start_time": "2022-09-12T18:02:43.048Z"
   },
   {
    "duration": 339,
    "start_time": "2022-09-13T16:16:54.873Z"
   },
   {
    "duration": 99,
    "start_time": "2022-09-13T16:16:55.214Z"
   },
   {
    "duration": 3,
    "start_time": "2022-09-13T16:16:55.315Z"
   },
   {
    "duration": 140,
    "start_time": "2022-09-13T16:16:55.320Z"
   },
   {
    "duration": 402,
    "start_time": "2022-09-14T18:19:08.198Z"
   },
   {
    "duration": 374,
    "start_time": "2022-09-14T18:19:08.602Z"
   },
   {
    "duration": 4,
    "start_time": "2022-09-14T18:19:08.977Z"
   },
   {
    "duration": 160,
    "start_time": "2022-09-14T18:19:08.982Z"
   },
   {
    "duration": 54,
    "start_time": "2022-09-14T18:19:57.230Z"
   },
   {
    "duration": 11,
    "start_time": "2022-09-14T18:20:18.065Z"
   },
   {
    "duration": 4,
    "start_time": "2022-09-14T18:21:31.887Z"
   },
   {
    "duration": 3,
    "start_time": "2022-09-14T18:36:37.746Z"
   },
   {
    "duration": 4,
    "start_time": "2022-09-14T18:36:46.603Z"
   },
   {
    "duration": 2,
    "start_time": "2022-09-14T18:37:37.741Z"
   },
   {
    "duration": 3,
    "start_time": "2022-09-14T18:37:38.083Z"
   },
   {
    "duration": 4,
    "start_time": "2022-09-14T18:38:04.451Z"
   },
   {
    "duration": 66,
    "start_time": "2022-09-14T18:38:04.975Z"
   },
   {
    "duration": 3,
    "start_time": "2022-09-14T18:38:14.658Z"
   },
   {
    "duration": 12,
    "start_time": "2022-09-14T18:38:14.664Z"
   },
   {
    "duration": 3,
    "start_time": "2022-09-14T18:38:39.895Z"
   },
   {
    "duration": 9,
    "start_time": "2022-09-14T18:38:40.129Z"
   },
   {
    "duration": 3,
    "start_time": "2022-09-14T18:38:57.337Z"
   },
   {
    "duration": 3,
    "start_time": "2022-09-14T18:38:57.682Z"
   },
   {
    "duration": 4,
    "start_time": "2022-09-14T18:39:04.319Z"
   },
   {
    "duration": 3,
    "start_time": "2022-09-14T18:39:13.442Z"
   },
   {
    "duration": 3,
    "start_time": "2022-09-14T18:43:51.437Z"
   },
   {
    "duration": 4,
    "start_time": "2022-09-14T18:44:01.945Z"
   },
   {
    "duration": 4,
    "start_time": "2022-09-14T18:44:25.556Z"
   },
   {
    "duration": 3,
    "start_time": "2022-09-14T18:44:33.733Z"
   },
   {
    "duration": 3,
    "start_time": "2022-09-14T18:44:44.928Z"
   },
   {
    "duration": 11,
    "start_time": "2022-09-14T18:44:45.229Z"
   },
   {
    "duration": 4,
    "start_time": "2022-09-14T18:44:52.389Z"
   },
   {
    "duration": 3,
    "start_time": "2022-09-14T18:44:52.836Z"
   },
   {
    "duration": 2,
    "start_time": "2022-09-14T18:47:20.284Z"
   },
   {
    "duration": 3,
    "start_time": "2022-09-14T18:47:41.396Z"
   },
   {
    "duration": 3,
    "start_time": "2022-09-14T18:47:52.212Z"
   },
   {
    "duration": 3,
    "start_time": "2022-09-14T18:48:12.399Z"
   },
   {
    "duration": 3,
    "start_time": "2022-09-14T18:48:19.994Z"
   },
   {
    "duration": 9,
    "start_time": "2022-09-14T18:48:20.311Z"
   },
   {
    "duration": 4,
    "start_time": "2022-09-14T18:48:20.673Z"
   },
   {
    "duration": 3,
    "start_time": "2022-09-14T18:50:27.730Z"
   },
   {
    "duration": 3,
    "start_time": "2022-09-14T18:50:28.964Z"
   },
   {
    "duration": 4,
    "start_time": "2022-09-14T18:50:30.434Z"
   },
   {
    "duration": 4,
    "start_time": "2022-09-14T18:51:16.237Z"
   },
   {
    "duration": 3,
    "start_time": "2022-09-14T18:51:22.799Z"
   },
   {
    "duration": 4,
    "start_time": "2022-09-14T18:51:23.398Z"
   },
   {
    "duration": 4,
    "start_time": "2022-09-14T18:51:24.050Z"
   },
   {
    "duration": 3,
    "start_time": "2022-09-14T18:51:37.499Z"
   },
   {
    "duration": 3,
    "start_time": "2022-09-14T18:51:37.848Z"
   },
   {
    "duration": 4,
    "start_time": "2022-09-14T18:51:38.356Z"
   },
   {
    "duration": 71,
    "start_time": "2022-09-14T18:53:20.795Z"
   },
   {
    "duration": 3,
    "start_time": "2022-09-14T18:54:33.000Z"
   },
   {
    "duration": 7,
    "start_time": "2022-09-14T18:56:42.036Z"
   },
   {
    "duration": 113,
    "start_time": "2022-09-14T18:56:52.167Z"
   },
   {
    "duration": 5,
    "start_time": "2022-09-14T18:56:57.646Z"
   },
   {
    "duration": 5,
    "start_time": "2022-09-14T18:56:59.908Z"
   },
   {
    "duration": 6,
    "start_time": "2022-09-14T18:57:19.542Z"
   },
   {
    "duration": 18,
    "start_time": "2022-09-14T18:59:00.242Z"
   },
   {
    "duration": 18,
    "start_time": "2022-09-14T18:59:07.265Z"
   },
   {
    "duration": 5,
    "start_time": "2022-09-14T18:59:23.013Z"
   },
   {
    "duration": 6,
    "start_time": "2022-09-14T18:59:23.835Z"
   },
   {
    "duration": 3,
    "start_time": "2022-09-14T19:00:01.331Z"
   },
   {
    "duration": 6,
    "start_time": "2022-09-14T19:00:01.788Z"
   },
   {
    "duration": 3,
    "start_time": "2022-09-14T19:00:44.922Z"
   },
   {
    "duration": 13,
    "start_time": "2022-09-14T19:00:56.592Z"
   },
   {
    "duration": 10,
    "start_time": "2022-09-14T19:01:41.055Z"
   },
   {
    "duration": 8,
    "start_time": "2022-09-14T19:01:56.293Z"
   },
   {
    "duration": 9,
    "start_time": "2022-09-14T19:01:56.773Z"
   },
   {
    "duration": 24,
    "start_time": "2022-09-14T19:02:07.009Z"
   },
   {
    "duration": 8,
    "start_time": "2022-09-14T19:02:07.498Z"
   },
   {
    "duration": 7,
    "start_time": "2022-09-14T19:03:15.702Z"
   },
   {
    "duration": 15,
    "start_time": "2022-09-14T19:03:30.450Z"
   },
   {
    "duration": 6,
    "start_time": "2022-09-14T19:03:58.330Z"
   },
   {
    "duration": 9,
    "start_time": "2022-09-14T19:07:14.711Z"
   },
   {
    "duration": 71,
    "start_time": "2022-09-14T19:22:34.296Z"
   },
   {
    "duration": 34,
    "start_time": "2022-09-14T19:22:38.152Z"
   },
   {
    "duration": 97,
    "start_time": "2022-09-14T19:25:21.558Z"
   },
   {
    "duration": 13,
    "start_time": "2022-09-14T19:26:26.205Z"
   },
   {
    "duration": 2,
    "start_time": "2022-09-14T19:27:05.478Z"
   },
   {
    "duration": 9,
    "start_time": "2022-09-14T19:27:38.590Z"
   },
   {
    "duration": 14,
    "start_time": "2022-09-14T19:27:46.906Z"
   },
   {
    "duration": 7,
    "start_time": "2022-09-14T19:28:28.354Z"
   },
   {
    "duration": 6,
    "start_time": "2022-09-14T19:28:31.735Z"
   },
   {
    "duration": 3,
    "start_time": "2022-09-14T19:28:41.461Z"
   },
   {
    "duration": 13,
    "start_time": "2022-09-14T19:31:10.999Z"
   },
   {
    "duration": 151,
    "start_time": "2022-09-14T19:31:24.852Z"
   },
   {
    "duration": 21,
    "start_time": "2022-09-14T19:31:46.830Z"
   },
   {
    "duration": 6,
    "start_time": "2022-09-14T19:42:58.232Z"
   },
   {
    "duration": 3,
    "start_time": "2022-09-14T19:43:09.006Z"
   },
   {
    "duration": 104,
    "start_time": "2022-09-14T19:43:31.247Z"
   },
   {
    "duration": 3,
    "start_time": "2022-09-14T19:43:31.353Z"
   },
   {
    "duration": 113,
    "start_time": "2022-09-14T19:43:31.357Z"
   },
   {
    "duration": 3,
    "start_time": "2022-09-14T19:43:31.472Z"
   },
   {
    "duration": 26,
    "start_time": "2022-09-14T19:43:31.476Z"
   },
   {
    "duration": 7,
    "start_time": "2022-09-14T19:43:31.503Z"
   },
   {
    "duration": 31,
    "start_time": "2022-09-14T19:43:31.511Z"
   },
   {
    "duration": 19,
    "start_time": "2022-09-14T19:43:31.543Z"
   },
   {
    "duration": 39,
    "start_time": "2022-09-14T19:43:31.563Z"
   },
   {
    "duration": 98,
    "start_time": "2022-09-14T19:43:31.603Z"
   },
   {
    "duration": 0,
    "start_time": "2022-09-14T19:43:31.702Z"
   },
   {
    "duration": 0,
    "start_time": "2022-09-14T19:43:31.703Z"
   },
   {
    "duration": 0,
    "start_time": "2022-09-14T19:43:31.704Z"
   },
   {
    "duration": 0,
    "start_time": "2022-09-14T19:43:31.704Z"
   },
   {
    "duration": 0,
    "start_time": "2022-09-14T19:43:31.705Z"
   },
   {
    "duration": 0,
    "start_time": "2022-09-14T19:43:31.706Z"
   },
   {
    "duration": 129,
    "start_time": "2022-09-14T19:43:37.800Z"
   },
   {
    "duration": 15,
    "start_time": "2022-09-14T19:43:42.870Z"
   },
   {
    "duration": 2,
    "start_time": "2022-09-14T19:43:49.627Z"
   },
   {
    "duration": 14,
    "start_time": "2022-09-14T19:43:50.961Z"
   },
   {
    "duration": 7,
    "start_time": "2022-09-14T19:45:20.052Z"
   },
   {
    "duration": 13,
    "start_time": "2022-09-14T19:45:28.514Z"
   },
   {
    "duration": 8,
    "start_time": "2022-09-14T19:50:32.628Z"
   },
   {
    "duration": 3,
    "start_time": "2022-09-14T19:50:49.245Z"
   },
   {
    "duration": 6,
    "start_time": "2022-09-14T19:50:57.031Z"
   },
   {
    "duration": 4,
    "start_time": "2022-09-14T19:51:08.764Z"
   },
   {
    "duration": 11,
    "start_time": "2022-09-14T19:51:17.972Z"
   },
   {
    "duration": 8,
    "start_time": "2022-09-14T19:52:03.391Z"
   },
   {
    "duration": 8,
    "start_time": "2022-09-14T19:52:47.033Z"
   },
   {
    "duration": 13,
    "start_time": "2022-09-14T19:53:00.809Z"
   },
   {
    "duration": 33,
    "start_time": "2022-09-14T20:02:23.069Z"
   },
   {
    "duration": 83,
    "start_time": "2022-09-14T20:02:27.061Z"
   },
   {
    "duration": 11,
    "start_time": "2022-09-14T20:02:34.828Z"
   },
   {
    "duration": 21,
    "start_time": "2022-09-14T20:02:52.564Z"
   },
   {
    "duration": 17,
    "start_time": "2022-09-14T20:04:31.631Z"
   },
   {
    "duration": 17,
    "start_time": "2022-09-14T20:04:49.206Z"
   },
   {
    "duration": 405,
    "start_time": "2022-09-14T20:10:37.690Z"
   },
   {
    "duration": 108,
    "start_time": "2022-09-14T20:10:38.096Z"
   },
   {
    "duration": 4,
    "start_time": "2022-09-14T20:10:38.205Z"
   },
   {
    "duration": 131,
    "start_time": "2022-09-14T20:10:38.210Z"
   },
   {
    "duration": 4,
    "start_time": "2022-09-14T20:10:38.342Z"
   },
   {
    "duration": 5,
    "start_time": "2022-09-14T20:10:38.348Z"
   },
   {
    "duration": 9,
    "start_time": "2022-09-14T20:10:38.354Z"
   },
   {
    "duration": 9,
    "start_time": "2022-09-14T20:10:38.364Z"
   },
   {
    "duration": 5,
    "start_time": "2022-09-14T20:10:38.374Z"
   },
   {
    "duration": 47,
    "start_time": "2022-09-14T20:10:38.381Z"
   },
   {
    "duration": 121,
    "start_time": "2022-09-14T20:10:38.430Z"
   },
   {
    "duration": 509,
    "start_time": "2022-09-14T20:10:38.553Z"
   },
   {
    "duration": 1,
    "start_time": "2022-09-14T20:10:39.063Z"
   },
   {
    "duration": 0,
    "start_time": "2022-09-14T20:10:39.064Z"
   },
   {
    "duration": 0,
    "start_time": "2022-09-14T20:10:39.065Z"
   },
   {
    "duration": 0,
    "start_time": "2022-09-14T20:10:39.066Z"
   },
   {
    "duration": 0,
    "start_time": "2022-09-14T20:10:39.067Z"
   },
   {
    "duration": 0,
    "start_time": "2022-09-14T20:10:39.068Z"
   },
   {
    "duration": 85,
    "start_time": "2022-09-14T20:11:43.391Z"
   },
   {
    "duration": 79,
    "start_time": "2022-09-14T20:11:53.848Z"
   },
   {
    "duration": 6,
    "start_time": "2022-09-14T20:13:51.162Z"
   },
   {
    "duration": 3,
    "start_time": "2022-09-14T20:13:56.306Z"
   },
   {
    "duration": 334,
    "start_time": "2022-09-14T20:14:03.259Z"
   },
   {
    "duration": 103,
    "start_time": "2022-09-14T20:14:03.595Z"
   },
   {
    "duration": 4,
    "start_time": "2022-09-14T20:14:03.699Z"
   },
   {
    "duration": 138,
    "start_time": "2022-09-14T20:14:03.705Z"
   },
   {
    "duration": 3,
    "start_time": "2022-09-14T20:14:03.845Z"
   },
   {
    "duration": 5,
    "start_time": "2022-09-14T20:14:03.849Z"
   },
   {
    "duration": 4,
    "start_time": "2022-09-14T20:14:03.856Z"
   },
   {
    "duration": 8,
    "start_time": "2022-09-14T20:14:03.861Z"
   },
   {
    "duration": 39,
    "start_time": "2022-09-14T20:14:03.871Z"
   },
   {
    "duration": 27,
    "start_time": "2022-09-14T20:14:03.912Z"
   },
   {
    "duration": 127,
    "start_time": "2022-09-14T20:14:03.941Z"
   },
   {
    "duration": 4,
    "start_time": "2022-09-14T20:14:04.069Z"
   },
   {
    "duration": 51,
    "start_time": "2022-09-14T20:14:04.074Z"
   },
   {
    "duration": 3,
    "start_time": "2022-09-14T20:14:04.126Z"
   },
   {
    "duration": 17,
    "start_time": "2022-09-14T20:14:04.130Z"
   },
   {
    "duration": 8,
    "start_time": "2022-09-14T20:14:04.148Z"
   },
   {
    "duration": 37,
    "start_time": "2022-09-14T20:14:04.158Z"
   },
   {
    "duration": 2,
    "start_time": "2022-09-14T20:14:04.209Z"
   },
   {
    "duration": 407,
    "start_time": "2022-09-14T20:15:40.231Z"
   },
   {
    "duration": 106,
    "start_time": "2022-09-14T20:15:40.640Z"
   },
   {
    "duration": 4,
    "start_time": "2022-09-14T20:15:40.747Z"
   },
   {
    "duration": 157,
    "start_time": "2022-09-14T20:15:40.753Z"
   },
   {
    "duration": 4,
    "start_time": "2022-09-14T20:15:40.912Z"
   },
   {
    "duration": 4,
    "start_time": "2022-09-14T20:15:40.917Z"
   },
   {
    "duration": 5,
    "start_time": "2022-09-14T20:15:40.923Z"
   },
   {
    "duration": 9,
    "start_time": "2022-09-14T20:15:40.929Z"
   },
   {
    "duration": 29,
    "start_time": "2022-09-14T20:15:40.939Z"
   },
   {
    "duration": 175,
    "start_time": "2022-09-14T20:15:40.971Z"
   },
   {
    "duration": 5,
    "start_time": "2022-09-14T20:15:41.148Z"
   },
   {
    "duration": 5,
    "start_time": "2022-09-14T20:15:41.155Z"
   },
   {
    "duration": 49,
    "start_time": "2022-09-14T20:15:41.162Z"
   },
   {
    "duration": 2,
    "start_time": "2022-09-14T20:15:41.214Z"
   },
   {
    "duration": 19,
    "start_time": "2022-09-14T20:15:41.218Z"
   },
   {
    "duration": 8,
    "start_time": "2022-09-14T20:15:41.239Z"
   },
   {
    "duration": 19,
    "start_time": "2022-09-14T20:15:41.248Z"
   },
   {
    "duration": 2,
    "start_time": "2022-09-14T20:15:41.269Z"
   },
   {
    "duration": 395,
    "start_time": "2022-09-14T20:17:40.801Z"
   },
   {
    "duration": 104,
    "start_time": "2022-09-14T20:17:41.198Z"
   },
   {
    "duration": 4,
    "start_time": "2022-09-14T20:17:41.303Z"
   },
   {
    "duration": 145,
    "start_time": "2022-09-14T20:17:41.308Z"
   },
   {
    "duration": 4,
    "start_time": "2022-09-14T20:17:41.456Z"
   },
   {
    "duration": 6,
    "start_time": "2022-09-14T20:17:41.462Z"
   },
   {
    "duration": 5,
    "start_time": "2022-09-14T20:17:41.470Z"
   },
   {
    "duration": 36,
    "start_time": "2022-09-14T20:17:41.476Z"
   },
   {
    "duration": 5,
    "start_time": "2022-09-14T20:17:41.514Z"
   },
   {
    "duration": 29,
    "start_time": "2022-09-14T20:17:41.520Z"
   },
   {
    "duration": 175,
    "start_time": "2022-09-14T20:17:41.550Z"
   },
   {
    "duration": 4,
    "start_time": "2022-09-14T20:17:41.727Z"
   },
   {
    "duration": 22,
    "start_time": "2022-09-14T20:17:41.733Z"
   },
   {
    "duration": 2,
    "start_time": "2022-09-14T20:17:41.757Z"
   },
   {
    "duration": 16,
    "start_time": "2022-09-14T20:17:41.761Z"
   },
   {
    "duration": 30,
    "start_time": "2022-09-14T20:17:41.779Z"
   },
   {
    "duration": 18,
    "start_time": "2022-09-14T20:17:41.811Z"
   },
   {
    "duration": 2,
    "start_time": "2022-09-14T20:17:41.831Z"
   },
   {
    "duration": 5,
    "start_time": "2022-09-14T20:18:06.433Z"
   },
   {
    "duration": 10,
    "start_time": "2022-09-14T20:18:14.466Z"
   },
   {
    "duration": 7,
    "start_time": "2022-09-14T20:18:27.088Z"
   },
   {
    "duration": 19,
    "start_time": "2022-09-14T20:18:29.361Z"
   },
   {
    "duration": 27,
    "start_time": "2022-09-14T20:19:48.100Z"
   },
   {
    "duration": 4,
    "start_time": "2022-09-14T20:22:20.050Z"
   },
   {
    "duration": 19,
    "start_time": "2022-09-14T20:22:31.453Z"
   },
   {
    "duration": 379,
    "start_time": "2022-09-14T20:22:52.533Z"
   },
   {
    "duration": 106,
    "start_time": "2022-09-14T20:22:52.914Z"
   },
   {
    "duration": 4,
    "start_time": "2022-09-14T20:22:53.022Z"
   },
   {
    "duration": 135,
    "start_time": "2022-09-14T20:22:53.028Z"
   },
   {
    "duration": 4,
    "start_time": "2022-09-14T20:22:53.165Z"
   },
   {
    "duration": 7,
    "start_time": "2022-09-14T20:22:53.170Z"
   },
   {
    "duration": 33,
    "start_time": "2022-09-14T20:22:53.179Z"
   },
   {
    "duration": 17,
    "start_time": "2022-09-14T20:22:53.214Z"
   },
   {
    "duration": 23,
    "start_time": "2022-09-14T20:22:53.233Z"
   },
   {
    "duration": 30,
    "start_time": "2022-09-14T20:22:53.258Z"
   },
   {
    "duration": 142,
    "start_time": "2022-09-14T20:22:53.289Z"
   },
   {
    "duration": 5,
    "start_time": "2022-09-14T20:22:53.433Z"
   },
   {
    "duration": 19,
    "start_time": "2022-09-14T20:22:53.439Z"
   },
   {
    "duration": 14,
    "start_time": "2022-09-14T20:22:53.460Z"
   },
   {
    "duration": 40,
    "start_time": "2022-09-14T20:22:53.476Z"
   },
   {
    "duration": 19,
    "start_time": "2022-09-14T20:22:53.518Z"
   },
   {
    "duration": 5,
    "start_time": "2022-09-14T20:22:53.538Z"
   },
   {
    "duration": 26,
    "start_time": "2022-09-14T20:22:53.545Z"
   },
   {
    "duration": 348,
    "start_time": "2022-09-14T20:25:04.043Z"
   },
   {
    "duration": 105,
    "start_time": "2022-09-14T20:25:04.392Z"
   },
   {
    "duration": 4,
    "start_time": "2022-09-14T20:25:04.498Z"
   },
   {
    "duration": 132,
    "start_time": "2022-09-14T20:25:04.503Z"
   },
   {
    "duration": 4,
    "start_time": "2022-09-14T20:25:04.637Z"
   },
   {
    "duration": 4,
    "start_time": "2022-09-14T20:25:04.643Z"
   },
   {
    "duration": 7,
    "start_time": "2022-09-14T20:25:04.648Z"
   },
   {
    "duration": 7,
    "start_time": "2022-09-14T20:25:04.657Z"
   },
   {
    "duration": 6,
    "start_time": "2022-09-14T20:25:04.665Z"
   },
   {
    "duration": 37,
    "start_time": "2022-09-14T20:25:04.672Z"
   },
   {
    "duration": 27,
    "start_time": "2022-09-14T20:25:04.710Z"
   },
   {
    "duration": 173,
    "start_time": "2022-09-14T20:25:04.739Z"
   },
   {
    "duration": 16,
    "start_time": "2022-09-14T20:25:04.914Z"
   },
   {
    "duration": 28,
    "start_time": "2022-09-14T20:25:04.933Z"
   },
   {
    "duration": 12,
    "start_time": "2022-09-14T20:25:04.963Z"
   },
   {
    "duration": 19,
    "start_time": "2022-09-14T20:25:04.976Z"
   },
   {
    "duration": 14,
    "start_time": "2022-09-14T20:25:04.996Z"
   },
   {
    "duration": 23,
    "start_time": "2022-09-14T20:25:05.012Z"
   },
   {
    "duration": 19,
    "start_time": "2022-09-14T20:26:45.336Z"
   },
   {
    "duration": 418,
    "start_time": "2022-09-14T20:27:15.027Z"
   },
   {
    "duration": 442,
    "start_time": "2022-09-14T20:27:29.997Z"
   },
   {
    "duration": 20,
    "start_time": "2022-09-14T20:28:01.817Z"
   },
   {
    "duration": 20,
    "start_time": "2022-09-14T20:28:08.907Z"
   },
   {
    "duration": 20,
    "start_time": "2022-09-14T20:28:22.341Z"
   },
   {
    "duration": 26,
    "start_time": "2022-09-14T20:28:29.350Z"
   },
   {
    "duration": 10,
    "start_time": "2022-09-14T20:28:36.400Z"
   },
   {
    "duration": 19,
    "start_time": "2022-09-14T20:28:49.740Z"
   },
   {
    "duration": 10,
    "start_time": "2022-09-14T20:28:59.307Z"
   },
   {
    "duration": 9,
    "start_time": "2022-09-14T20:29:10.732Z"
   },
   {
    "duration": 17,
    "start_time": "2022-09-14T20:29:19.190Z"
   },
   {
    "duration": 10,
    "start_time": "2022-09-14T20:29:26.560Z"
   },
   {
    "duration": 19,
    "start_time": "2022-09-14T20:29:46.788Z"
   },
   {
    "duration": 7,
    "start_time": "2022-09-14T20:31:21.432Z"
   },
   {
    "duration": 7,
    "start_time": "2022-09-14T20:31:38.847Z"
   },
   {
    "duration": 7,
    "start_time": "2022-09-14T20:31:46.732Z"
   },
   {
    "duration": 66,
    "start_time": "2022-09-14T20:32:02.054Z"
   },
   {
    "duration": 315,
    "start_time": "2022-09-14T20:32:07.665Z"
   },
   {
    "duration": 19,
    "start_time": "2022-09-14T20:32:21.460Z"
   },
   {
    "duration": 13,
    "start_time": "2022-09-14T20:33:39.870Z"
   },
   {
    "duration": 55,
    "start_time": "2022-09-14T20:34:27.432Z"
   },
   {
    "duration": 6,
    "start_time": "2022-09-14T20:34:39.308Z"
   },
   {
    "duration": 18,
    "start_time": "2022-09-14T20:34:40.542Z"
   },
   {
    "duration": 45,
    "start_time": "2022-09-15T15:24:29.138Z"
   },
   {
    "duration": 392,
    "start_time": "2022-09-15T15:24:40.656Z"
   },
   {
    "duration": 337,
    "start_time": "2022-09-15T15:24:41.049Z"
   },
   {
    "duration": 4,
    "start_time": "2022-09-15T15:24:41.388Z"
   },
   {
    "duration": 158,
    "start_time": "2022-09-15T15:24:41.393Z"
   },
   {
    "duration": 4,
    "start_time": "2022-09-15T15:24:41.553Z"
   },
   {
    "duration": 7,
    "start_time": "2022-09-15T15:24:41.559Z"
   },
   {
    "duration": 13,
    "start_time": "2022-09-15T15:24:41.567Z"
   },
   {
    "duration": 14,
    "start_time": "2022-09-15T15:24:41.581Z"
   },
   {
    "duration": 27,
    "start_time": "2022-09-15T15:24:41.597Z"
   },
   {
    "duration": 29,
    "start_time": "2022-09-15T15:24:41.627Z"
   },
   {
    "duration": 33,
    "start_time": "2022-09-15T15:24:41.658Z"
   },
   {
    "duration": 172,
    "start_time": "2022-09-15T15:24:41.693Z"
   },
   {
    "duration": 19,
    "start_time": "2022-09-15T15:24:41.866Z"
   },
   {
    "duration": 15,
    "start_time": "2022-09-15T15:24:41.887Z"
   },
   {
    "duration": 22,
    "start_time": "2022-09-15T15:24:41.904Z"
   },
   {
    "duration": 28,
    "start_time": "2022-09-15T15:24:41.928Z"
   },
   {
    "duration": 6,
    "start_time": "2022-09-15T15:24:41.959Z"
   },
   {
    "duration": 35,
    "start_time": "2022-09-15T15:24:41.967Z"
   },
   {
    "duration": 12,
    "start_time": "2022-09-15T15:24:42.003Z"
   },
   {
    "duration": 10,
    "start_time": "2022-09-15T15:24:48.223Z"
   },
   {
    "duration": 84,
    "start_time": "2022-09-15T15:25:03.787Z"
   },
   {
    "duration": 11,
    "start_time": "2022-09-15T15:25:13.360Z"
   },
   {
    "duration": 9,
    "start_time": "2022-09-15T15:26:51.954Z"
   },
   {
    "duration": 9,
    "start_time": "2022-09-15T15:26:56.909Z"
   },
   {
    "duration": 722,
    "start_time": "2022-09-15T15:34:48.342Z"
   },
   {
    "duration": 17,
    "start_time": "2022-09-15T15:35:09.387Z"
   },
   {
    "duration": 210,
    "start_time": "2022-09-15T15:35:21.513Z"
   },
   {
    "duration": 130,
    "start_time": "2022-09-15T15:38:26.935Z"
   },
   {
    "duration": 132,
    "start_time": "2022-09-15T15:38:58.753Z"
   },
   {
    "duration": 168,
    "start_time": "2022-09-15T15:39:29.384Z"
   },
   {
    "duration": 123,
    "start_time": "2022-09-15T15:39:45.885Z"
   },
   {
    "duration": 131,
    "start_time": "2022-09-15T15:40:09.521Z"
   },
   {
    "duration": 132,
    "start_time": "2022-09-15T15:40:31.264Z"
   },
   {
    "duration": 583,
    "start_time": "2022-09-15T17:29:14.566Z"
   },
   {
    "duration": 3744,
    "start_time": "2022-09-15T17:29:37.988Z"
   },
   {
    "duration": 6649,
    "start_time": "2022-09-15T17:34:57.520Z"
   },
   {
    "duration": 39,
    "start_time": "2022-09-15T17:38:00.194Z"
   },
   {
    "duration": 136,
    "start_time": "2022-09-15T17:38:06.708Z"
   },
   {
    "duration": 7645,
    "start_time": "2022-09-15T18:04:48.314Z"
   },
   {
    "duration": 4423,
    "start_time": "2022-09-15T18:06:08.093Z"
   },
   {
    "duration": 318,
    "start_time": "2022-09-15T18:41:52.413Z"
   },
   {
    "duration": 342,
    "start_time": "2022-09-15T18:42:19.618Z"
   },
   {
    "duration": 5,
    "start_time": "2022-09-15T19:02:35.507Z"
   },
   {
    "duration": 4,
    "start_time": "2022-09-15T19:02:42.732Z"
   },
   {
    "duration": 8,
    "start_time": "2022-09-15T19:02:59.110Z"
   },
   {
    "duration": 4,
    "start_time": "2022-09-15T19:03:06.119Z"
   },
   {
    "duration": 4,
    "start_time": "2022-09-15T19:03:18.558Z"
   },
   {
    "duration": 349,
    "start_time": "2022-09-15T19:03:24.129Z"
   },
   {
    "duration": 5,
    "start_time": "2022-09-15T19:03:32.806Z"
   },
   {
    "duration": 4,
    "start_time": "2022-09-15T19:09:23.024Z"
   },
   {
    "duration": 8,
    "start_time": "2022-09-15T19:09:36.496Z"
   },
   {
    "duration": 8,
    "start_time": "2022-09-15T19:13:36.732Z"
   },
   {
    "duration": 8,
    "start_time": "2022-09-15T19:13:49.605Z"
   },
   {
    "duration": 10,
    "start_time": "2022-09-15T19:14:56.793Z"
   },
   {
    "duration": 8,
    "start_time": "2022-09-15T19:15:02.834Z"
   },
   {
    "duration": 8,
    "start_time": "2022-09-15T19:15:13.196Z"
   },
   {
    "duration": 8,
    "start_time": "2022-09-15T19:15:21.200Z"
   },
   {
    "duration": 8,
    "start_time": "2022-09-15T19:15:21.752Z"
   },
   {
    "duration": 9,
    "start_time": "2022-09-15T19:17:40.881Z"
   },
   {
    "duration": 8,
    "start_time": "2022-09-15T19:17:46.338Z"
   },
   {
    "duration": 3774,
    "start_time": "2022-09-15T19:18:26.386Z"
   },
   {
    "duration": 188,
    "start_time": "2022-09-15T19:27:20.373Z"
   },
   {
    "duration": 182,
    "start_time": "2022-09-15T19:27:43.449Z"
   },
   {
    "duration": 136,
    "start_time": "2022-09-15T19:29:49.445Z"
   },
   {
    "duration": 96,
    "start_time": "2022-09-15T19:35:37.172Z"
   },
   {
    "duration": 30752,
    "start_time": "2022-09-15T19:36:39.329Z"
   },
   {
    "duration": 85,
    "start_time": "2022-09-15T19:38:42.654Z"
   },
   {
    "duration": 92,
    "start_time": "2022-09-15T19:39:06.354Z"
   },
   {
    "duration": 2212,
    "start_time": "2022-09-15T19:40:02.884Z"
   },
   {
    "duration": 114,
    "start_time": "2022-09-15T19:41:12.418Z"
   },
   {
    "duration": 83,
    "start_time": "2022-09-15T19:41:16.699Z"
   },
   {
    "duration": 98,
    "start_time": "2022-09-15T19:41:36.773Z"
   },
   {
    "duration": 183,
    "start_time": "2022-09-15T19:41:43.298Z"
   },
   {
    "duration": 20,
    "start_time": "2022-09-15T19:43:00.248Z"
   },
   {
    "duration": 21,
    "start_time": "2022-09-15T19:43:24.123Z"
   },
   {
    "duration": 19,
    "start_time": "2022-09-15T19:43:24.541Z"
   },
   {
    "duration": 1179,
    "start_time": "2022-09-15T19:57:29.304Z"
   },
   {
    "duration": 107,
    "start_time": "2022-09-15T19:57:30.485Z"
   },
   {
    "duration": 4,
    "start_time": "2022-09-15T19:57:30.594Z"
   },
   {
    "duration": 164,
    "start_time": "2022-09-15T19:57:30.599Z"
   },
   {
    "duration": 5,
    "start_time": "2022-09-15T19:57:30.766Z"
   },
   {
    "duration": 13,
    "start_time": "2022-09-15T19:57:30.773Z"
   },
   {
    "duration": 16,
    "start_time": "2022-09-15T19:57:30.787Z"
   },
   {
    "duration": 28,
    "start_time": "2022-09-15T19:57:30.805Z"
   },
   {
    "duration": 18,
    "start_time": "2022-09-15T19:57:30.834Z"
   },
   {
    "duration": 22,
    "start_time": "2022-09-15T19:57:30.853Z"
   },
   {
    "duration": 32,
    "start_time": "2022-09-15T19:57:30.876Z"
   },
   {
    "duration": 135,
    "start_time": "2022-09-15T19:57:30.909Z"
   },
   {
    "duration": 16,
    "start_time": "2022-09-15T19:57:31.045Z"
   },
   {
    "duration": 16,
    "start_time": "2022-09-15T19:57:31.063Z"
   },
   {
    "duration": 43,
    "start_time": "2022-09-15T19:57:31.080Z"
   },
   {
    "duration": 25,
    "start_time": "2022-09-15T19:57:31.125Z"
   },
   {
    "duration": 7,
    "start_time": "2022-09-15T19:57:31.152Z"
   },
   {
    "duration": 163,
    "start_time": "2022-09-15T19:57:31.160Z"
   },
   {
    "duration": 159,
    "start_time": "2022-09-15T19:57:31.325Z"
   },
   {
    "duration": 22,
    "start_time": "2022-09-15T19:57:31.485Z"
   },
   {
    "duration": 20,
    "start_time": "2022-09-15T19:57:31.521Z"
   },
   {
    "duration": 3718,
    "start_time": "2022-09-15T19:57:31.542Z"
   },
   {
    "duration": 311,
    "start_time": "2022-09-15T19:57:35.262Z"
   },
   {
    "duration": 5,
    "start_time": "2022-09-15T19:57:35.574Z"
   },
   {
    "duration": 8,
    "start_time": "2022-09-15T19:57:35.580Z"
   },
   {
    "duration": 12,
    "start_time": "2022-09-15T19:57:35.590Z"
   },
   {
    "duration": 19,
    "start_time": "2022-09-15T19:57:35.603Z"
   },
   {
    "duration": 7,
    "start_time": "2022-09-15T19:57:35.624Z"
   },
   {
    "duration": 9,
    "start_time": "2022-09-15T19:57:35.633Z"
   },
   {
    "duration": 3496,
    "start_time": "2022-09-15T19:57:35.644Z"
   },
   {
    "duration": 227,
    "start_time": "2022-09-15T19:59:18.736Z"
   },
   {
    "duration": 148,
    "start_time": "2022-09-15T19:59:32.984Z"
   },
   {
    "duration": 152,
    "start_time": "2022-09-15T19:59:47.357Z"
   },
   {
    "duration": 220,
    "start_time": "2022-09-15T20:00:47.690Z"
   },
   {
    "duration": 48135,
    "start_time": "2022-09-15T20:06:28.036Z"
   },
   {
    "duration": 149,
    "start_time": "2022-09-15T20:07:50.368Z"
   },
   {
    "duration": 134,
    "start_time": "2022-09-15T20:08:46.797Z"
   },
   {
    "duration": 1151,
    "start_time": "2022-09-16T07:31:03.404Z"
   },
   {
    "duration": 318,
    "start_time": "2022-09-16T07:31:04.557Z"
   },
   {
    "duration": 3,
    "start_time": "2022-09-16T07:31:04.877Z"
   },
   {
    "duration": 141,
    "start_time": "2022-09-16T07:31:04.882Z"
   },
   {
    "duration": 3,
    "start_time": "2022-09-16T07:31:05.024Z"
   },
   {
    "duration": 7,
    "start_time": "2022-09-16T07:31:05.029Z"
   },
   {
    "duration": 6,
    "start_time": "2022-09-16T07:31:05.037Z"
   },
   {
    "duration": 10,
    "start_time": "2022-09-16T07:31:05.045Z"
   },
   {
    "duration": 27,
    "start_time": "2022-09-16T07:31:05.056Z"
   },
   {
    "duration": 6,
    "start_time": "2022-09-16T07:31:05.085Z"
   },
   {
    "duration": 28,
    "start_time": "2022-09-16T07:31:05.092Z"
   },
   {
    "duration": 128,
    "start_time": "2022-09-16T07:31:05.121Z"
   },
   {
    "duration": 40,
    "start_time": "2022-09-16T07:31:05.251Z"
   },
   {
    "duration": 15,
    "start_time": "2022-09-16T07:31:05.292Z"
   },
   {
    "duration": 8,
    "start_time": "2022-09-16T07:31:05.309Z"
   },
   {
    "duration": 19,
    "start_time": "2022-09-16T07:31:05.319Z"
   },
   {
    "duration": 6,
    "start_time": "2022-09-16T07:31:05.339Z"
   },
   {
    "duration": 179,
    "start_time": "2022-09-16T07:31:05.346Z"
   },
   {
    "duration": 153,
    "start_time": "2022-09-16T07:31:05.527Z"
   },
   {
    "duration": 21,
    "start_time": "2022-09-16T07:31:05.682Z"
   },
   {
    "duration": 19,
    "start_time": "2022-09-16T07:31:05.705Z"
   },
   {
    "duration": 3733,
    "start_time": "2022-09-16T07:31:05.726Z"
   },
   {
    "duration": 302,
    "start_time": "2022-09-16T07:31:09.461Z"
   },
   {
    "duration": 4,
    "start_time": "2022-09-16T07:31:09.764Z"
   },
   {
    "duration": 7,
    "start_time": "2022-09-16T07:31:09.777Z"
   },
   {
    "duration": 8,
    "start_time": "2022-09-16T07:31:09.786Z"
   },
   {
    "duration": 10,
    "start_time": "2022-09-16T07:31:09.795Z"
   },
   {
    "duration": 3447,
    "start_time": "2022-09-16T07:31:09.807Z"
   },
   {
    "duration": 360,
    "start_time": "2022-09-16T07:31:52.981Z"
   },
   {
    "duration": 276,
    "start_time": "2022-09-16T07:32:12.417Z"
   },
   {
    "duration": 1103,
    "start_time": "2022-09-16T07:32:24.969Z"
   },
   {
    "duration": 105,
    "start_time": "2022-09-16T07:32:26.074Z"
   },
   {
    "duration": 4,
    "start_time": "2022-09-16T07:32:26.180Z"
   },
   {
    "duration": 140,
    "start_time": "2022-09-16T07:32:26.185Z"
   },
   {
    "duration": 4,
    "start_time": "2022-09-16T07:32:26.326Z"
   },
   {
    "duration": 5,
    "start_time": "2022-09-16T07:32:26.332Z"
   },
   {
    "duration": 7,
    "start_time": "2022-09-16T07:32:26.339Z"
   },
   {
    "duration": 8,
    "start_time": "2022-09-16T07:32:26.348Z"
   },
   {
    "duration": 3,
    "start_time": "2022-09-16T07:32:26.378Z"
   },
   {
    "duration": 6,
    "start_time": "2022-09-16T07:32:26.383Z"
   },
   {
    "duration": 25,
    "start_time": "2022-09-16T07:32:26.391Z"
   },
   {
    "duration": 133,
    "start_time": "2022-09-16T07:32:26.417Z"
   },
   {
    "duration": 15,
    "start_time": "2022-09-16T07:32:26.578Z"
   },
   {
    "duration": 17,
    "start_time": "2022-09-16T07:32:26.596Z"
   },
   {
    "duration": 8,
    "start_time": "2022-09-16T07:32:26.615Z"
   },
   {
    "duration": 18,
    "start_time": "2022-09-16T07:32:26.624Z"
   },
   {
    "duration": 33,
    "start_time": "2022-09-16T07:32:26.644Z"
   },
   {
    "duration": 161,
    "start_time": "2022-09-16T07:32:26.679Z"
   },
   {
    "duration": 167,
    "start_time": "2022-09-16T07:32:26.841Z"
   },
   {
    "duration": 25,
    "start_time": "2022-09-16T07:32:27.009Z"
   },
   {
    "duration": 20,
    "start_time": "2022-09-16T07:32:27.036Z"
   },
   {
    "duration": 3689,
    "start_time": "2022-09-16T07:32:27.058Z"
   },
   {
    "duration": 367,
    "start_time": "2022-09-16T07:32:30.749Z"
   },
   {
    "duration": 268,
    "start_time": "2022-09-16T07:32:31.117Z"
   },
   {
    "duration": 3,
    "start_time": "2022-09-16T07:32:31.386Z"
   },
   {
    "duration": 10,
    "start_time": "2022-09-16T07:32:31.391Z"
   },
   {
    "duration": 7,
    "start_time": "2022-09-16T07:32:31.402Z"
   },
   {
    "duration": 9,
    "start_time": "2022-09-16T07:32:31.410Z"
   },
   {
    "duration": 3563,
    "start_time": "2022-09-16T07:32:31.420Z"
   },
   {
    "duration": 663,
    "start_time": "2022-09-16T07:35:55.092Z"
   },
   {
    "duration": 86,
    "start_time": "2022-09-16T07:36:01.100Z"
   },
   {
    "duration": 289,
    "start_time": "2022-09-16T07:36:06.191Z"
   },
   {
    "duration": 315,
    "start_time": "2022-09-16T07:36:45.141Z"
   },
   {
    "duration": 1091,
    "start_time": "2022-09-16T07:37:08.756Z"
   },
   {
    "duration": 100,
    "start_time": "2022-09-16T07:37:09.849Z"
   },
   {
    "duration": 3,
    "start_time": "2022-09-16T07:37:09.950Z"
   },
   {
    "duration": 135,
    "start_time": "2022-09-16T07:37:09.955Z"
   },
   {
    "duration": 4,
    "start_time": "2022-09-16T07:37:10.091Z"
   },
   {
    "duration": 6,
    "start_time": "2022-09-16T07:37:10.097Z"
   },
   {
    "duration": 6,
    "start_time": "2022-09-16T07:37:10.104Z"
   },
   {
    "duration": 15,
    "start_time": "2022-09-16T07:37:10.111Z"
   },
   {
    "duration": 20,
    "start_time": "2022-09-16T07:37:10.127Z"
   },
   {
    "duration": 10,
    "start_time": "2022-09-16T07:37:10.150Z"
   },
   {
    "duration": 33,
    "start_time": "2022-09-16T07:37:10.162Z"
   },
   {
    "duration": 144,
    "start_time": "2022-09-16T07:37:10.197Z"
   },
   {
    "duration": 41,
    "start_time": "2022-09-16T07:37:10.343Z"
   },
   {
    "duration": 14,
    "start_time": "2022-09-16T07:37:10.385Z"
   },
   {
    "duration": 9,
    "start_time": "2022-09-16T07:37:10.401Z"
   },
   {
    "duration": 17,
    "start_time": "2022-09-16T07:37:10.412Z"
   },
   {
    "duration": 6,
    "start_time": "2022-09-16T07:37:10.431Z"
   },
   {
    "duration": 175,
    "start_time": "2022-09-16T07:37:10.438Z"
   },
   {
    "duration": 156,
    "start_time": "2022-09-16T07:37:10.615Z"
   },
   {
    "duration": 25,
    "start_time": "2022-09-16T07:37:10.772Z"
   },
   {
    "duration": 21,
    "start_time": "2022-09-16T07:37:10.798Z"
   },
   {
    "duration": 3770,
    "start_time": "2022-09-16T07:37:10.821Z"
   },
   {
    "duration": 299,
    "start_time": "2022-09-16T07:37:14.593Z"
   },
   {
    "duration": 4,
    "start_time": "2022-09-16T07:37:14.894Z"
   },
   {
    "duration": 12,
    "start_time": "2022-09-16T07:37:14.899Z"
   },
   {
    "duration": 6,
    "start_time": "2022-09-16T07:37:14.913Z"
   },
   {
    "duration": 11,
    "start_time": "2022-09-16T07:37:14.920Z"
   },
   {
    "duration": 3547,
    "start_time": "2022-09-16T07:37:14.934Z"
   },
   {
    "duration": 335,
    "start_time": "2022-09-16T07:38:11.829Z"
   },
   {
    "duration": 408,
    "start_time": "2022-09-16T07:38:22.825Z"
   },
   {
    "duration": 305,
    "start_time": "2022-09-16T07:38:54.477Z"
   },
   {
    "duration": 300,
    "start_time": "2022-09-16T07:39:03.154Z"
   },
   {
    "duration": 294,
    "start_time": "2022-09-16T07:47:27.968Z"
   },
   {
    "duration": 264,
    "start_time": "2022-09-16T07:47:46.301Z"
   },
   {
    "duration": 4,
    "start_time": "2022-09-16T07:48:19.968Z"
   },
   {
    "duration": 303,
    "start_time": "2022-09-16T07:48:29.565Z"
   },
   {
    "duration": 282,
    "start_time": "2022-09-16T07:50:39.801Z"
   },
   {
    "duration": 8,
    "start_time": "2022-09-16T07:54:15.604Z"
   },
   {
    "duration": 4,
    "start_time": "2022-09-16T07:55:13.569Z"
   },
   {
    "duration": 8,
    "start_time": "2022-09-16T07:57:37.695Z"
   },
   {
    "duration": 8,
    "start_time": "2022-09-16T07:57:44.047Z"
   },
   {
    "duration": 11,
    "start_time": "2022-09-16T07:57:55.422Z"
   },
   {
    "duration": 4,
    "start_time": "2022-09-16T08:02:17.452Z"
   },
   {
    "duration": 2184,
    "start_time": "2022-09-16T08:02:33.088Z"
   },
   {
    "duration": 5,
    "start_time": "2022-09-16T08:02:48.139Z"
   },
   {
    "duration": 2212,
    "start_time": "2022-09-16T08:02:50.313Z"
   },
   {
    "duration": 4,
    "start_time": "2022-09-16T08:03:52.782Z"
   },
   {
    "duration": 2294,
    "start_time": "2022-09-16T08:03:53.065Z"
   },
   {
    "duration": 3,
    "start_time": "2022-09-16T08:04:00.848Z"
   },
   {
    "duration": 2109,
    "start_time": "2022-09-16T08:04:01.121Z"
   },
   {
    "duration": 3,
    "start_time": "2022-09-16T08:04:09.763Z"
   },
   {
    "duration": 2178,
    "start_time": "2022-09-16T08:04:11.212Z"
   },
   {
    "duration": 4,
    "start_time": "2022-09-16T08:04:59.702Z"
   },
   {
    "duration": 2584,
    "start_time": "2022-09-16T08:05:00.281Z"
   },
   {
    "duration": 3,
    "start_time": "2022-09-16T08:06:17.914Z"
   },
   {
    "duration": 2196,
    "start_time": "2022-09-16T08:06:18.532Z"
   },
   {
    "duration": 3,
    "start_time": "2022-09-16T08:06:37.956Z"
   },
   {
    "duration": 2163,
    "start_time": "2022-09-16T08:06:38.982Z"
   },
   {
    "duration": 3,
    "start_time": "2022-09-16T08:06:46.907Z"
   },
   {
    "duration": 2194,
    "start_time": "2022-09-16T08:06:47.442Z"
   },
   {
    "duration": 4,
    "start_time": "2022-09-16T08:07:06.936Z"
   },
   {
    "duration": 2244,
    "start_time": "2022-09-16T08:07:07.188Z"
   },
   {
    "duration": 3,
    "start_time": "2022-09-16T08:07:40.399Z"
   },
   {
    "duration": 2168,
    "start_time": "2022-09-16T08:07:40.899Z"
   },
   {
    "duration": 4,
    "start_time": "2022-09-16T08:09:49.350Z"
   },
   {
    "duration": 8,
    "start_time": "2022-09-16T08:09:49.879Z"
   },
   {
    "duration": 317,
    "start_time": "2022-09-16T08:09:58.149Z"
   },
   {
    "duration": 3,
    "start_time": "2022-09-16T08:11:45.370Z"
   },
   {
    "duration": 2235,
    "start_time": "2022-09-16T08:12:11.908Z"
   },
   {
    "duration": 8,
    "start_time": "2022-09-16T08:12:46.223Z"
   },
   {
    "duration": 9,
    "start_time": "2022-09-16T08:13:29.083Z"
   },
   {
    "duration": 8,
    "start_time": "2022-09-16T08:13:39.585Z"
   },
   {
    "duration": 2828,
    "start_time": "2022-09-16T08:14:23.736Z"
   },
   {
    "duration": 4,
    "start_time": "2022-09-16T08:14:53.755Z"
   },
   {
    "duration": 2226,
    "start_time": "2022-09-16T08:15:17.455Z"
   },
   {
    "duration": 9275,
    "start_time": "2022-09-16T08:15:30.838Z"
   },
   {
    "duration": 3,
    "start_time": "2022-09-16T08:23:13.562Z"
   },
   {
    "duration": 10929,
    "start_time": "2022-09-16T08:23:14.162Z"
   },
   {
    "duration": 10480,
    "start_time": "2022-09-16T08:23:44.805Z"
   },
   {
    "duration": 55888,
    "start_time": "2022-09-16T08:28:30.298Z"
   },
   {
    "duration": 8,
    "start_time": "2022-09-16T08:35:23.707Z"
   },
   {
    "duration": 491,
    "start_time": "2022-09-16T08:35:28.329Z"
   },
   {
    "duration": 5,
    "start_time": "2022-09-16T08:40:36.894Z"
   },
   {
    "duration": 6,
    "start_time": "2022-09-16T08:40:58.958Z"
   },
   {
    "duration": 6,
    "start_time": "2022-09-16T08:41:11.429Z"
   },
   {
    "duration": 88,
    "start_time": "2022-09-16T08:44:29.359Z"
   },
   {
    "duration": 3,
    "start_time": "2022-09-16T08:44:59.029Z"
   },
   {
    "duration": 8,
    "start_time": "2022-09-16T08:45:05.983Z"
   },
   {
    "duration": 4,
    "start_time": "2022-09-16T08:45:50.297Z"
   },
   {
    "duration": 7,
    "start_time": "2022-09-16T08:57:48.768Z"
   },
   {
    "duration": 1297,
    "start_time": "2022-09-16T08:58:10.389Z"
   },
   {
    "duration": 11,
    "start_time": "2022-09-16T08:58:43.967Z"
   },
   {
    "duration": 398,
    "start_time": "2022-09-16T08:58:44.494Z"
   },
   {
    "duration": 285,
    "start_time": "2022-09-16T08:58:57.960Z"
   },
   {
    "duration": 374,
    "start_time": "2022-09-16T08:59:46.127Z"
   },
   {
    "duration": 4,
    "start_time": "2022-09-16T09:11:30.777Z"
   },
   {
    "duration": 7,
    "start_time": "2022-09-16T09:13:27.798Z"
   },
   {
    "duration": 6,
    "start_time": "2022-09-16T09:13:35.413Z"
   },
   {
    "duration": 9,
    "start_time": "2022-09-16T09:15:41.192Z"
   },
   {
    "duration": 11,
    "start_time": "2022-09-16T09:15:47.453Z"
   },
   {
    "duration": 13,
    "start_time": "2022-09-16T09:16:26.710Z"
   },
   {
    "duration": 11,
    "start_time": "2022-09-16T09:16:34.246Z"
   },
   {
    "duration": 21,
    "start_time": "2022-09-16T09:16:52.788Z"
   },
   {
    "duration": 12,
    "start_time": "2022-09-16T09:16:53.292Z"
   },
   {
    "duration": 5,
    "start_time": "2022-09-16T09:18:05.626Z"
   },
   {
    "duration": 5,
    "start_time": "2022-09-16T09:19:52.312Z"
   },
   {
    "duration": 197,
    "start_time": "2022-09-16T09:20:53.694Z"
   },
   {
    "duration": 1096,
    "start_time": "2022-09-16T09:21:01.372Z"
   },
   {
    "duration": 18,
    "start_time": "2022-09-16T09:21:48.578Z"
   },
   {
    "duration": 8,
    "start_time": "2022-09-16T09:21:57.573Z"
   },
   {
    "duration": 5,
    "start_time": "2022-09-16T09:21:59.758Z"
   },
   {
    "duration": 6,
    "start_time": "2022-09-16T09:22:00.584Z"
   },
   {
    "duration": 11,
    "start_time": "2022-09-16T09:22:04.782Z"
   },
   {
    "duration": 19,
    "start_time": "2022-09-16T09:22:05.301Z"
   },
   {
    "duration": 4,
    "start_time": "2022-09-16T09:22:40.194Z"
   },
   {
    "duration": 11,
    "start_time": "2022-09-16T09:23:19.809Z"
   },
   {
    "duration": 5,
    "start_time": "2022-09-16T09:25:34.276Z"
   },
   {
    "duration": 8,
    "start_time": "2022-09-16T09:26:39.646Z"
   },
   {
    "duration": 9,
    "start_time": "2022-09-16T09:27:19.240Z"
   },
   {
    "duration": 291,
    "start_time": "2022-09-16T09:27:32.348Z"
   },
   {
    "duration": 22,
    "start_time": "2022-09-16T09:27:37.957Z"
   },
   {
    "duration": 5,
    "start_time": "2022-09-16T09:27:46.629Z"
   },
   {
    "duration": 13,
    "start_time": "2022-09-16T09:28:53.615Z"
   },
   {
    "duration": 16,
    "start_time": "2022-09-16T09:29:00.310Z"
   },
   {
    "duration": 15,
    "start_time": "2022-09-16T09:29:37.848Z"
   },
   {
    "duration": 15,
    "start_time": "2022-09-16T09:30:44.820Z"
   },
   {
    "duration": 5,
    "start_time": "2022-09-16T09:30:48.998Z"
   },
   {
    "duration": 4,
    "start_time": "2022-09-16T09:31:15.896Z"
   },
   {
    "duration": 4,
    "start_time": "2022-09-16T09:31:33.115Z"
   },
   {
    "duration": 4,
    "start_time": "2022-09-16T09:31:50.115Z"
   },
   {
    "duration": 3,
    "start_time": "2022-09-16T09:32:03.478Z"
   },
   {
    "duration": 103,
    "start_time": "2022-09-16T09:32:03.490Z"
   },
   {
    "duration": 3,
    "start_time": "2022-09-16T09:32:03.595Z"
   },
   {
    "duration": 132,
    "start_time": "2022-09-16T09:32:03.599Z"
   },
   {
    "duration": 4,
    "start_time": "2022-09-16T09:32:03.732Z"
   },
   {
    "duration": 4,
    "start_time": "2022-09-16T09:32:03.739Z"
   },
   {
    "duration": 35,
    "start_time": "2022-09-16T09:32:03.744Z"
   },
   {
    "duration": 32,
    "start_time": "2022-09-16T09:32:03.780Z"
   },
   {
    "duration": 16,
    "start_time": "2022-09-16T09:32:03.813Z"
   },
   {
    "duration": 13,
    "start_time": "2022-09-16T09:32:03.831Z"
   },
   {
    "duration": 40,
    "start_time": "2022-09-16T09:32:03.845Z"
   },
   {
    "duration": 144,
    "start_time": "2022-09-16T09:32:03.887Z"
   },
   {
    "duration": 16,
    "start_time": "2022-09-16T09:32:04.032Z"
   },
   {
    "duration": 28,
    "start_time": "2022-09-16T09:32:04.078Z"
   },
   {
    "duration": 18,
    "start_time": "2022-09-16T09:32:04.109Z"
   },
   {
    "duration": 22,
    "start_time": "2022-09-16T09:32:04.129Z"
   },
   {
    "duration": 27,
    "start_time": "2022-09-16T09:32:04.153Z"
   },
   {
    "duration": 184,
    "start_time": "2022-09-16T09:32:04.182Z"
   },
   {
    "duration": 168,
    "start_time": "2022-09-16T09:32:04.368Z"
   },
   {
    "duration": 24,
    "start_time": "2022-09-16T09:32:04.538Z"
   },
   {
    "duration": 35,
    "start_time": "2022-09-16T09:32:04.563Z"
   },
   {
    "duration": 13,
    "start_time": "2022-09-16T09:32:04.600Z"
   },
   {
    "duration": 21569,
    "start_time": "2022-09-16T09:32:04.615Z"
   },
   {
    "duration": 5,
    "start_time": "2022-09-16T09:32:26.187Z"
   },
   {
    "duration": 352,
    "start_time": "2022-09-16T09:32:26.195Z"
   },
   {
    "duration": 4,
    "start_time": "2022-09-16T09:32:26.549Z"
   },
   {
    "duration": 23,
    "start_time": "2022-09-16T09:32:26.555Z"
   },
   {
    "duration": 9,
    "start_time": "2022-09-16T09:32:26.580Z"
   },
   {
    "duration": 17,
    "start_time": "2022-09-16T09:32:26.591Z"
   },
   {
    "duration": 21511,
    "start_time": "2022-09-16T09:32:26.610Z"
   },
   {
    "duration": 9,
    "start_time": "2022-09-16T09:32:48.122Z"
   },
   {
    "duration": 0,
    "start_time": "2022-09-16T09:32:48.133Z"
   },
   {
    "duration": 0,
    "start_time": "2022-09-16T09:32:48.134Z"
   },
   {
    "duration": 0,
    "start_time": "2022-09-16T09:32:48.135Z"
   },
   {
    "duration": 0,
    "start_time": "2022-09-16T09:32:48.136Z"
   },
   {
    "duration": 0,
    "start_time": "2022-09-16T09:32:48.137Z"
   },
   {
    "duration": 0,
    "start_time": "2022-09-16T09:32:48.139Z"
   },
   {
    "duration": 0,
    "start_time": "2022-09-16T09:32:48.140Z"
   },
   {
    "duration": 0,
    "start_time": "2022-09-16T09:32:48.141Z"
   },
   {
    "duration": 0,
    "start_time": "2022-09-16T09:32:48.143Z"
   },
   {
    "duration": 0,
    "start_time": "2022-09-16T09:32:48.145Z"
   },
   {
    "duration": 0,
    "start_time": "2022-09-16T09:32:48.177Z"
   },
   {
    "duration": 0,
    "start_time": "2022-09-16T09:32:48.179Z"
   },
   {
    "duration": 0,
    "start_time": "2022-09-16T09:32:48.180Z"
   },
   {
    "duration": 0,
    "start_time": "2022-09-16T09:32:48.181Z"
   },
   {
    "duration": 35,
    "start_time": "2022-09-16T09:33:17.825Z"
   },
   {
    "duration": 73,
    "start_time": "2022-09-16T09:34:01.303Z"
   },
   {
    "duration": 27,
    "start_time": "2022-09-16T09:34:07.301Z"
   },
   {
    "duration": 32,
    "start_time": "2022-09-16T09:34:20.027Z"
   },
   {
    "duration": 4,
    "start_time": "2022-09-16T09:34:58.822Z"
   },
   {
    "duration": 347,
    "start_time": "2022-09-16T09:35:11.456Z"
   },
   {
    "duration": 27,
    "start_time": "2022-09-16T09:36:01.852Z"
   },
   {
    "duration": 14,
    "start_time": "2022-09-16T09:36:01.881Z"
   },
   {
    "duration": 8,
    "start_time": "2022-09-16T09:36:01.896Z"
   },
   {
    "duration": 8,
    "start_time": "2022-09-16T09:36:01.906Z"
   },
   {
    "duration": 8,
    "start_time": "2022-09-16T09:36:01.915Z"
   },
   {
    "duration": 10,
    "start_time": "2022-09-16T09:36:01.925Z"
   },
   {
    "duration": 13,
    "start_time": "2022-09-16T09:36:01.937Z"
   },
   {
    "duration": 14,
    "start_time": "2022-09-16T09:36:01.978Z"
   },
   {
    "duration": 0,
    "start_time": "2022-09-16T09:36:01.994Z"
   },
   {
    "duration": 0,
    "start_time": "2022-09-16T09:36:01.996Z"
   },
   {
    "duration": 0,
    "start_time": "2022-09-16T09:36:01.997Z"
   },
   {
    "duration": 0,
    "start_time": "2022-09-16T09:36:01.999Z"
   },
   {
    "duration": 14,
    "start_time": "2022-09-16T09:37:05.093Z"
   },
   {
    "duration": 5,
    "start_time": "2022-09-16T09:37:25.758Z"
   },
   {
    "duration": 112,
    "start_time": "2022-09-16T09:37:25.765Z"
   },
   {
    "duration": 4,
    "start_time": "2022-09-16T09:37:25.878Z"
   },
   {
    "duration": 163,
    "start_time": "2022-09-16T09:37:25.884Z"
   },
   {
    "duration": 29,
    "start_time": "2022-09-16T09:37:26.048Z"
   },
   {
    "duration": 4,
    "start_time": "2022-09-16T09:37:26.079Z"
   },
   {
    "duration": 8,
    "start_time": "2022-09-16T09:37:26.084Z"
   },
   {
    "duration": 12,
    "start_time": "2022-09-16T09:37:26.093Z"
   },
   {
    "duration": 20,
    "start_time": "2022-09-16T09:37:26.106Z"
   },
   {
    "duration": 9,
    "start_time": "2022-09-16T09:37:26.129Z"
   },
   {
    "duration": 46,
    "start_time": "2022-09-16T09:37:26.139Z"
   },
   {
    "duration": 154,
    "start_time": "2022-09-16T09:37:26.187Z"
   },
   {
    "duration": 43,
    "start_time": "2022-09-16T09:37:26.343Z"
   },
   {
    "duration": 16,
    "start_time": "2022-09-16T09:37:26.387Z"
   },
   {
    "duration": 10,
    "start_time": "2022-09-16T09:37:26.404Z"
   },
   {
    "duration": 22,
    "start_time": "2022-09-16T09:37:26.416Z"
   },
   {
    "duration": 6,
    "start_time": "2022-09-16T09:37:26.440Z"
   },
   {
    "duration": 180,
    "start_time": "2022-09-16T09:37:26.447Z"
   },
   {
    "duration": 171,
    "start_time": "2022-09-16T09:37:26.629Z"
   },
   {
    "duration": 25,
    "start_time": "2022-09-16T09:37:26.801Z"
   },
   {
    "duration": 22,
    "start_time": "2022-09-16T09:37:26.828Z"
   },
   {
    "duration": 3,
    "start_time": "2022-09-16T09:37:26.852Z"
   },
   {
    "duration": 21103,
    "start_time": "2022-09-16T09:37:26.856Z"
   },
   {
    "duration": 16,
    "start_time": "2022-09-16T09:37:47.962Z"
   },
   {
    "duration": 338,
    "start_time": "2022-09-16T09:37:47.980Z"
   },
   {
    "duration": 4,
    "start_time": "2022-09-16T09:37:48.319Z"
   },
   {
    "duration": 14,
    "start_time": "2022-09-16T09:37:48.324Z"
   },
   {
    "duration": 8,
    "start_time": "2022-09-16T09:37:48.341Z"
   },
   {
    "duration": 31,
    "start_time": "2022-09-16T09:37:48.351Z"
   },
   {
    "duration": 20622,
    "start_time": "2022-09-16T09:37:48.384Z"
   },
   {
    "duration": 298,
    "start_time": "2022-09-16T09:38:09.008Z"
   },
   {
    "duration": 4,
    "start_time": "2022-09-16T09:38:09.307Z"
   },
   {
    "duration": 10,
    "start_time": "2022-09-16T09:38:09.313Z"
   },
   {
    "duration": 6,
    "start_time": "2022-09-16T09:38:09.325Z"
   },
   {
    "duration": 6,
    "start_time": "2022-09-16T09:38:09.333Z"
   },
   {
    "duration": 36,
    "start_time": "2022-09-16T09:38:09.341Z"
   },
   {
    "duration": 57393,
    "start_time": "2022-09-16T09:38:09.379Z"
   },
   {
    "duration": 522,
    "start_time": "2022-09-16T09:39:06.774Z"
   },
   {
    "duration": 4,
    "start_time": "2022-09-16T09:39:07.298Z"
   },
   {
    "duration": 19,
    "start_time": "2022-09-16T09:39:07.304Z"
   },
   {
    "duration": 26,
    "start_time": "2022-09-16T09:39:07.325Z"
   },
   {
    "duration": 14,
    "start_time": "2022-09-16T09:39:07.353Z"
   },
   {
    "duration": 440,
    "start_time": "2022-09-16T09:39:07.368Z"
   },
   {
    "duration": 712,
    "start_time": "2022-09-16T09:39:07.822Z"
   },
   {
    "duration": 6,
    "start_time": "2022-09-16T09:39:08.536Z"
   },
   {
    "duration": 39,
    "start_time": "2022-09-16T09:39:08.543Z"
   },
   {
    "duration": 28,
    "start_time": "2022-09-16T09:39:56.102Z"
   },
   {
    "duration": 13,
    "start_time": "2022-09-16T09:39:56.672Z"
   },
   {
    "duration": 12,
    "start_time": "2022-09-16T09:40:17.204Z"
   },
   {
    "duration": 5,
    "start_time": "2022-09-16T09:41:53.694Z"
   },
   {
    "duration": 4,
    "start_time": "2022-09-16T09:41:54.366Z"
   },
   {
    "duration": 5,
    "start_time": "2022-09-16T09:41:54.992Z"
   },
   {
    "duration": 8,
    "start_time": "2022-09-16T09:42:01.192Z"
   },
   {
    "duration": 12,
    "start_time": "2022-09-16T09:42:03.494Z"
   },
   {
    "duration": 14,
    "start_time": "2022-09-16T09:42:42.329Z"
   },
   {
    "duration": 13,
    "start_time": "2022-09-16T09:43:29.090Z"
   },
   {
    "duration": 5,
    "start_time": "2022-09-16T09:43:41.431Z"
   },
   {
    "duration": 5,
    "start_time": "2022-09-16T09:43:55.172Z"
   },
   {
    "duration": 5,
    "start_time": "2022-09-16T09:44:00.693Z"
   },
   {
    "duration": 12,
    "start_time": "2022-09-16T09:44:02.691Z"
   },
   {
    "duration": 11,
    "start_time": "2022-09-16T09:44:59.558Z"
   },
   {
    "duration": 6,
    "start_time": "2022-09-16T09:45:08.505Z"
   },
   {
    "duration": 4,
    "start_time": "2022-09-16T09:45:15.689Z"
   },
   {
    "duration": 10,
    "start_time": "2022-09-16T09:45:43.242Z"
   },
   {
    "duration": 7,
    "start_time": "2022-09-16T09:45:50.746Z"
   },
   {
    "duration": 8,
    "start_time": "2022-09-16T09:46:13.696Z"
   },
   {
    "duration": 12,
    "start_time": "2022-09-16T09:46:19.824Z"
   },
   {
    "duration": 10,
    "start_time": "2022-09-16T09:49:36.869Z"
   },
   {
    "duration": 31733,
    "start_time": "2022-09-16T09:49:55.598Z"
   },
   {
    "duration": 27892,
    "start_time": "2022-09-16T09:50:32.512Z"
   },
   {
    "duration": 5,
    "start_time": "2022-09-16T09:51:04.645Z"
   },
   {
    "duration": 8,
    "start_time": "2022-09-16T09:51:26.112Z"
   },
   {
    "duration": 4,
    "start_time": "2022-09-16T09:52:10.439Z"
   },
   {
    "duration": 34,
    "start_time": "2022-09-16T09:52:10.841Z"
   },
   {
    "duration": 12,
    "start_time": "2022-09-16T09:56:48.003Z"
   },
   {
    "duration": 83,
    "start_time": "2022-09-16T09:56:59.950Z"
   },
   {
    "duration": 4,
    "start_time": "2022-09-16T09:57:04.785Z"
   },
   {
    "duration": 145,
    "start_time": "2022-09-16T09:57:11.583Z"
   },
   {
    "duration": 10,
    "start_time": "2022-09-16T09:58:42.835Z"
   },
   {
    "duration": 4,
    "start_time": "2022-09-16T09:58:47.991Z"
   },
   {
    "duration": 14,
    "start_time": "2022-09-16T09:58:54.264Z"
   },
   {
    "duration": 3,
    "start_time": "2022-09-16T09:59:19.497Z"
   },
   {
    "duration": 13,
    "start_time": "2022-09-16T09:59:23.305Z"
   },
   {
    "duration": 5,
    "start_time": "2022-09-16T09:59:48.641Z"
   },
   {
    "duration": 12,
    "start_time": "2022-09-16T10:00:04.546Z"
   },
   {
    "duration": 8,
    "start_time": "2022-09-16T10:01:44.904Z"
   },
   {
    "duration": 6,
    "start_time": "2022-09-16T10:02:05.371Z"
   },
   {
    "duration": 4,
    "start_time": "2022-09-16T10:11:36.409Z"
   },
   {
    "duration": 6,
    "start_time": "2022-09-16T10:11:50.062Z"
   },
   {
    "duration": 152079,
    "start_time": "2022-09-16T10:12:57.950Z"
   },
   {
    "duration": 4,
    "start_time": "2022-09-16T10:15:30.030Z"
   },
   {
    "duration": 124,
    "start_time": "2022-09-16T10:15:30.035Z"
   },
   {
    "duration": 5,
    "start_time": "2022-09-16T10:15:30.161Z"
   },
   {
    "duration": 14,
    "start_time": "2022-09-16T10:17:03.962Z"
   },
   {
    "duration": 0,
    "start_time": "2022-09-16T10:17:03.978Z"
   },
   {
    "duration": 0,
    "start_time": "2022-09-16T10:17:03.979Z"
   },
   {
    "duration": 0,
    "start_time": "2022-09-16T10:17:03.980Z"
   },
   {
    "duration": 102,
    "start_time": "2022-09-16T10:17:22.618Z"
   },
   {
    "duration": 90371,
    "start_time": "2022-09-16T10:17:44.918Z"
   },
   {
    "duration": 619187,
    "start_time": "2022-09-16T10:19:32.384Z"
   },
   {
    "duration": 9,
    "start_time": "2022-09-16T10:29:51.573Z"
   },
   {
    "duration": 0,
    "start_time": "2022-09-16T10:29:51.584Z"
   },
   {
    "duration": 0,
    "start_time": "2022-09-16T10:29:51.585Z"
   },
   {
    "duration": 701818,
    "start_time": "2022-09-16T10:29:56.529Z"
   },
   {
    "duration": 9,
    "start_time": "2022-09-16T10:41:38.348Z"
   },
   {
    "duration": 0,
    "start_time": "2022-09-16T10:41:38.358Z"
   },
   {
    "duration": 0,
    "start_time": "2022-09-16T10:41:38.360Z"
   },
   {
    "duration": 81101,
    "start_time": "2022-09-16T10:41:41.483Z"
   },
   {
    "duration": 4,
    "start_time": "2022-09-16T10:43:15.201Z"
   },
   {
    "duration": 144,
    "start_time": "2022-09-16T10:43:15.801Z"
   },
   {
    "duration": 6,
    "start_time": "2022-09-16T10:43:16.151Z"
   },
   {
    "duration": 121,
    "start_time": "2022-09-16T10:43:33.916Z"
   },
   {
    "duration": 136748,
    "start_time": "2022-09-16T10:43:40.303Z"
   },
   {
    "duration": 4,
    "start_time": "2022-09-16T10:45:57.053Z"
   },
   {
    "duration": 124,
    "start_time": "2022-09-16T10:45:57.059Z"
   },
   {
    "duration": 6,
    "start_time": "2022-09-16T10:45:57.186Z"
   },
   {
    "duration": 119960,
    "start_time": "2022-09-16T10:51:21.159Z"
   },
   {
    "duration": 4,
    "start_time": "2022-09-16T10:53:21.121Z"
   },
   {
    "duration": 124,
    "start_time": "2022-09-16T10:53:21.126Z"
   },
   {
    "duration": 6,
    "start_time": "2022-09-16T10:53:21.252Z"
   },
   {
    "duration": 62777,
    "start_time": "2022-09-16T10:53:44.995Z"
   },
   {
    "duration": 5,
    "start_time": "2022-09-16T10:54:47.774Z"
   },
   {
    "duration": 149,
    "start_time": "2022-09-16T10:54:47.781Z"
   },
   {
    "duration": 5,
    "start_time": "2022-09-16T10:54:47.932Z"
   },
   {
    "duration": 66293,
    "start_time": "2022-09-16T10:55:34.167Z"
   },
   {
    "duration": 3,
    "start_time": "2022-09-16T10:56:40.462Z"
   },
   {
    "duration": 120,
    "start_time": "2022-09-16T10:56:40.467Z"
   },
   {
    "duration": 68019,
    "start_time": "2022-09-16T10:58:13.382Z"
   },
   {
    "duration": 4,
    "start_time": "2022-09-16T10:59:21.403Z"
   },
   {
    "duration": 121,
    "start_time": "2022-09-16T10:59:21.409Z"
   },
   {
    "duration": 6,
    "start_time": "2022-09-16T10:59:21.532Z"
   },
   {
    "duration": 4,
    "start_time": "2022-09-16T11:00:05.204Z"
   },
   {
    "duration": 16,
    "start_time": "2022-09-16T11:00:06.335Z"
   },
   {
    "duration": 10,
    "start_time": "2022-09-16T11:00:43.531Z"
   },
   {
    "duration": 71881,
    "start_time": "2022-09-16T11:00:50.329Z"
   },
   {
    "duration": 4,
    "start_time": "2022-09-16T11:02:02.212Z"
   },
   {
    "duration": 132,
    "start_time": "2022-09-16T11:02:02.217Z"
   },
   {
    "duration": 5,
    "start_time": "2022-09-16T11:02:02.351Z"
   },
   {
    "duration": 2734,
    "start_time": "2022-09-16T11:05:04.471Z"
   },
   {
    "duration": 105,
    "start_time": "2022-09-16T11:05:07.207Z"
   },
   {
    "duration": 3,
    "start_time": "2022-09-16T11:05:07.314Z"
   },
   {
    "duration": 125,
    "start_time": "2022-09-16T11:05:07.319Z"
   },
   {
    "duration": 4,
    "start_time": "2022-09-16T11:05:07.446Z"
   },
   {
    "duration": 4,
    "start_time": "2022-09-16T11:05:07.477Z"
   },
   {
    "duration": 10,
    "start_time": "2022-09-16T11:05:07.482Z"
   },
   {
    "duration": 17,
    "start_time": "2022-09-16T11:05:07.493Z"
   },
   {
    "duration": 13,
    "start_time": "2022-09-16T11:05:07.511Z"
   },
   {
    "duration": 11,
    "start_time": "2022-09-16T11:05:07.526Z"
   },
   {
    "duration": 38,
    "start_time": "2022-09-16T11:05:07.539Z"
   },
   {
    "duration": 174,
    "start_time": "2022-09-16T11:05:07.579Z"
   },
   {
    "duration": 21,
    "start_time": "2022-09-16T11:05:07.778Z"
   },
   {
    "duration": 28,
    "start_time": "2022-09-16T11:05:07.801Z"
   },
   {
    "duration": 27,
    "start_time": "2022-09-16T11:05:07.831Z"
   },
   {
    "duration": 35,
    "start_time": "2022-09-16T11:05:07.860Z"
   },
   {
    "duration": 7,
    "start_time": "2022-09-16T11:05:07.897Z"
   },
   {
    "duration": 163,
    "start_time": "2022-09-16T11:05:07.906Z"
   },
   {
    "duration": 166,
    "start_time": "2022-09-16T11:05:08.076Z"
   },
   {
    "duration": 24,
    "start_time": "2022-09-16T11:05:08.244Z"
   },
   {
    "duration": 22,
    "start_time": "2022-09-16T11:05:08.278Z"
   },
   {
    "duration": 3,
    "start_time": "2022-09-16T11:05:08.302Z"
   },
   {
    "duration": 21146,
    "start_time": "2022-09-16T11:05:08.306Z"
   },
   {
    "duration": 4,
    "start_time": "2022-09-16T11:05:29.453Z"
   },
   {
    "duration": 334,
    "start_time": "2022-09-16T11:05:29.459Z"
   },
   {
    "duration": 4,
    "start_time": "2022-09-16T11:05:29.795Z"
   },
   {
    "duration": 16,
    "start_time": "2022-09-16T11:05:29.800Z"
   },
   {
    "duration": 8,
    "start_time": "2022-09-16T11:05:29.819Z"
   },
   {
    "duration": 13,
    "start_time": "2022-09-16T11:05:29.829Z"
   },
   {
    "duration": 20637,
    "start_time": "2022-09-16T11:05:29.844Z"
   },
   {
    "duration": 308,
    "start_time": "2022-09-16T11:05:50.483Z"
   },
   {
    "duration": 2,
    "start_time": "2022-09-16T11:05:50.793Z"
   },
   {
    "duration": 11,
    "start_time": "2022-09-16T11:05:50.796Z"
   },
   {
    "duration": 6,
    "start_time": "2022-09-16T11:05:50.808Z"
   },
   {
    "duration": 7,
    "start_time": "2022-09-16T11:05:50.815Z"
   },
   {
    "duration": 12,
    "start_time": "2022-09-16T11:05:50.823Z"
   },
   {
    "duration": 56190,
    "start_time": "2022-09-16T11:05:50.837Z"
   },
   {
    "duration": 563,
    "start_time": "2022-09-16T11:06:47.029Z"
   },
   {
    "duration": 2,
    "start_time": "2022-09-16T11:06:47.594Z"
   },
   {
    "duration": 5,
    "start_time": "2022-09-16T11:06:47.598Z"
   },
   {
    "duration": 10,
    "start_time": "2022-09-16T11:06:47.605Z"
   },
   {
    "duration": 9,
    "start_time": "2022-09-16T11:06:47.617Z"
   },
   {
    "duration": 465,
    "start_time": "2022-09-16T11:06:47.628Z"
   },
   {
    "duration": 254,
    "start_time": "2022-09-16T11:06:48.095Z"
   },
   {
    "duration": 7,
    "start_time": "2022-09-16T11:06:48.351Z"
   },
   {
    "duration": 32,
    "start_time": "2022-09-16T11:06:48.359Z"
   },
   {
    "duration": 14,
    "start_time": "2022-09-16T11:06:48.393Z"
   },
   {
    "duration": 14,
    "start_time": "2022-09-16T11:06:48.409Z"
   },
   {
    "duration": 5,
    "start_time": "2022-09-16T11:06:48.424Z"
   },
   {
    "duration": 5,
    "start_time": "2022-09-16T11:06:48.430Z"
   },
   {
    "duration": 5,
    "start_time": "2022-09-16T11:06:48.437Z"
   },
   {
    "duration": 37,
    "start_time": "2022-09-16T11:06:48.443Z"
   },
   {
    "duration": 12,
    "start_time": "2022-09-16T11:06:48.481Z"
   },
   {
    "duration": 4,
    "start_time": "2022-09-16T11:06:48.494Z"
   },
   {
    "duration": 8,
    "start_time": "2022-09-16T11:06:48.499Z"
   },
   {
    "duration": 4,
    "start_time": "2022-09-16T11:06:48.508Z"
   },
   {
    "duration": 5,
    "start_time": "2022-09-16T11:06:48.514Z"
   },
   {
    "duration": 71167,
    "start_time": "2022-09-16T11:06:48.520Z"
   },
   {
    "duration": 5,
    "start_time": "2022-09-16T11:07:59.689Z"
   },
   {
    "duration": 185,
    "start_time": "2022-09-16T11:07:59.696Z"
   },
   {
    "duration": 7,
    "start_time": "2022-09-16T11:07:59.883Z"
   },
   {
    "duration": 1564,
    "start_time": "2022-09-16T11:09:52.781Z"
   },
   {
    "duration": 4,
    "start_time": "2022-09-16T11:10:15.087Z"
   },
   {
    "duration": 104,
    "start_time": "2022-09-16T11:10:15.093Z"
   },
   {
    "duration": 3,
    "start_time": "2022-09-16T11:10:15.199Z"
   },
   {
    "duration": 317,
    "start_time": "2022-09-16T11:10:15.203Z"
   },
   {
    "duration": 4,
    "start_time": "2022-09-16T11:10:15.522Z"
   },
   {
    "duration": 4,
    "start_time": "2022-09-16T11:10:15.528Z"
   },
   {
    "duration": 11,
    "start_time": "2022-09-16T11:10:15.533Z"
   },
   {
    "duration": 10,
    "start_time": "2022-09-16T11:10:15.546Z"
   },
   {
    "duration": 10,
    "start_time": "2022-09-16T11:10:15.577Z"
   },
   {
    "duration": 9,
    "start_time": "2022-09-16T11:10:15.589Z"
   },
   {
    "duration": 27,
    "start_time": "2022-09-16T11:10:15.600Z"
   },
   {
    "duration": 162,
    "start_time": "2022-09-16T11:10:15.628Z"
   },
   {
    "duration": 16,
    "start_time": "2022-09-16T11:10:15.792Z"
   },
   {
    "duration": 15,
    "start_time": "2022-09-16T11:10:15.809Z"
   },
   {
    "duration": 11,
    "start_time": "2022-09-16T11:10:15.825Z"
   },
   {
    "duration": 53,
    "start_time": "2022-09-16T11:10:15.838Z"
   },
   {
    "duration": 6,
    "start_time": "2022-09-16T11:10:18.480Z"
   },
   {
    "duration": 138,
    "start_time": "2022-09-16T11:10:28.668Z"
   },
   {
    "duration": 144,
    "start_time": "2022-09-16T11:10:44.343Z"
   },
   {
    "duration": 153,
    "start_time": "2022-09-16T11:10:47.189Z"
   },
   {
    "duration": 23,
    "start_time": "2022-09-16T11:10:48.819Z"
   },
   {
    "duration": 23,
    "start_time": "2022-09-16T11:10:49.969Z"
   },
   {
    "duration": 3,
    "start_time": "2022-09-16T11:10:59.680Z"
   },
   {
    "duration": 21024,
    "start_time": "2022-09-16T11:11:00.505Z"
   },
   {
    "duration": 3,
    "start_time": "2022-09-16T11:11:21.531Z"
   },
   {
    "duration": 354,
    "start_time": "2022-09-16T11:11:21.536Z"
   },
   {
    "duration": 4,
    "start_time": "2022-09-16T11:11:23.995Z"
   },
   {
    "duration": 12,
    "start_time": "2022-09-16T11:11:47.679Z"
   },
   {
    "duration": 1325,
    "start_time": "2022-09-16T11:12:07.906Z"
   },
   {
    "duration": 104,
    "start_time": "2022-09-16T11:12:09.232Z"
   },
   {
    "duration": 4,
    "start_time": "2022-09-16T11:12:09.337Z"
   },
   {
    "duration": 154,
    "start_time": "2022-09-16T11:12:09.343Z"
   },
   {
    "duration": 4,
    "start_time": "2022-09-16T11:12:09.498Z"
   },
   {
    "duration": 16,
    "start_time": "2022-09-16T11:12:09.504Z"
   },
   {
    "duration": 19,
    "start_time": "2022-09-16T11:12:09.522Z"
   },
   {
    "duration": 16,
    "start_time": "2022-09-16T11:12:09.542Z"
   },
   {
    "duration": 17,
    "start_time": "2022-09-16T11:12:09.560Z"
   },
   {
    "duration": 5,
    "start_time": "2022-09-16T11:12:09.580Z"
   },
   {
    "duration": 28,
    "start_time": "2022-09-16T11:12:09.586Z"
   },
   {
    "duration": 134,
    "start_time": "2022-09-16T11:12:09.616Z"
   },
   {
    "duration": 16,
    "start_time": "2022-09-16T11:12:09.778Z"
   },
   {
    "duration": 14,
    "start_time": "2022-09-16T11:12:09.795Z"
   },
   {
    "duration": 21,
    "start_time": "2022-09-16T11:12:09.811Z"
   },
   {
    "duration": 23,
    "start_time": "2022-09-16T11:12:09.833Z"
   },
   {
    "duration": 23,
    "start_time": "2022-09-16T11:12:09.858Z"
   },
   {
    "duration": 168,
    "start_time": "2022-09-16T11:12:09.883Z"
   },
   {
    "duration": 184,
    "start_time": "2022-09-16T11:12:10.053Z"
   },
   {
    "duration": 25,
    "start_time": "2022-09-16T11:12:10.239Z"
   },
   {
    "duration": 34,
    "start_time": "2022-09-16T11:12:10.266Z"
   },
   {
    "duration": 4,
    "start_time": "2022-09-16T11:12:10.301Z"
   },
   {
    "duration": 21548,
    "start_time": "2022-09-16T11:12:10.307Z"
   },
   {
    "duration": 4,
    "start_time": "2022-09-16T11:12:31.857Z"
   },
   {
    "duration": 345,
    "start_time": "2022-09-16T11:12:31.862Z"
   },
   {
    "duration": 4,
    "start_time": "2022-09-16T11:12:32.208Z"
   },
   {
    "duration": 21,
    "start_time": "2022-09-16T11:12:32.213Z"
   },
   {
    "duration": 5,
    "start_time": "2022-09-16T11:12:32.238Z"
   },
   {
    "duration": 11,
    "start_time": "2022-09-16T11:12:32.245Z"
   },
   {
    "duration": 20914,
    "start_time": "2022-09-16T11:12:32.258Z"
   },
   {
    "duration": 327,
    "start_time": "2022-09-16T11:12:53.173Z"
   },
   {
    "duration": 2,
    "start_time": "2022-09-16T11:12:53.501Z"
   },
   {
    "duration": 12,
    "start_time": "2022-09-16T11:12:53.505Z"
   },
   {
    "duration": 7,
    "start_time": "2022-09-16T11:12:53.518Z"
   },
   {
    "duration": 9,
    "start_time": "2022-09-16T11:12:53.526Z"
   },
   {
    "duration": 11,
    "start_time": "2022-09-16T11:12:53.536Z"
   },
   {
    "duration": 2,
    "start_time": "2022-09-16T11:12:53.548Z"
   },
   {
    "duration": 540,
    "start_time": "2022-09-16T11:12:53.551Z"
   },
   {
    "duration": 2,
    "start_time": "2022-09-16T11:12:54.093Z"
   },
   {
    "duration": 8,
    "start_time": "2022-09-16T11:12:54.097Z"
   },
   {
    "duration": 9,
    "start_time": "2022-09-16T11:12:54.107Z"
   },
   {
    "duration": 10,
    "start_time": "2022-09-16T11:12:54.117Z"
   },
   {
    "duration": 448,
    "start_time": "2022-09-16T11:12:54.129Z"
   },
   {
    "duration": 254,
    "start_time": "2022-09-16T11:12:54.579Z"
   },
   {
    "duration": 5,
    "start_time": "2022-09-16T11:12:54.835Z"
   },
   {
    "duration": 21,
    "start_time": "2022-09-16T11:12:54.842Z"
   },
   {
    "duration": 24,
    "start_time": "2022-09-16T11:12:54.864Z"
   },
   {
    "duration": 13,
    "start_time": "2022-09-16T11:12:54.890Z"
   },
   {
    "duration": 5,
    "start_time": "2022-09-16T11:12:54.905Z"
   },
   {
    "duration": 7,
    "start_time": "2022-09-16T11:12:54.912Z"
   },
   {
    "duration": 8,
    "start_time": "2022-09-16T11:12:54.920Z"
   },
   {
    "duration": 9,
    "start_time": "2022-09-16T11:12:54.929Z"
   },
   {
    "duration": 150,
    "start_time": "2022-09-16T11:12:54.939Z"
   },
   {
    "duration": 4,
    "start_time": "2022-09-16T11:12:55.090Z"
   },
   {
    "duration": 7,
    "start_time": "2022-09-16T11:12:55.095Z"
   },
   {
    "duration": 2,
    "start_time": "2022-09-16T11:12:55.104Z"
   },
   {
    "duration": 4,
    "start_time": "2022-09-16T11:12:55.108Z"
   },
   {
    "duration": 72704,
    "start_time": "2022-09-16T11:12:55.114Z"
   },
   {
    "duration": 6,
    "start_time": "2022-09-16T11:14:07.820Z"
   },
   {
    "duration": 163,
    "start_time": "2022-09-16T11:14:07.829Z"
   },
   {
    "duration": 6,
    "start_time": "2022-09-16T11:14:07.994Z"
   },
   {
    "duration": 5,
    "start_time": "2022-09-16T11:17:35.822Z"
   },
   {
    "duration": 11,
    "start_time": "2022-09-16T11:17:36.289Z"
   },
   {
    "duration": 83033,
    "start_time": "2022-09-16T11:17:37.850Z"
   },
   {
    "duration": 4,
    "start_time": "2022-09-16T11:19:00.884Z"
   },
   {
    "duration": 135,
    "start_time": "2022-09-16T11:19:00.889Z"
   },
   {
    "duration": 6,
    "start_time": "2022-09-16T11:19:01.026Z"
   },
   {
    "duration": 7,
    "start_time": "2022-09-16T11:19:57.730Z"
   },
   {
    "duration": 95819,
    "start_time": "2022-09-16T11:20:00.835Z"
   },
   {
    "duration": 4,
    "start_time": "2022-09-16T11:21:36.656Z"
   },
   {
    "duration": 128,
    "start_time": "2022-09-16T11:21:36.661Z"
   },
   {
    "duration": 6,
    "start_time": "2022-09-16T11:21:36.791Z"
   },
   {
    "duration": 2,
    "start_time": "2022-09-16T11:23:35.122Z"
   },
   {
    "duration": 263,
    "start_time": "2022-09-16T11:26:25.040Z"
   },
   {
    "duration": 11,
    "start_time": "2022-09-16T11:28:20.954Z"
   },
   {
    "duration": 10,
    "start_time": "2022-09-16T11:29:52.087Z"
   },
   {
    "duration": 7,
    "start_time": "2022-09-16T11:30:39.062Z"
   },
   {
    "duration": 6,
    "start_time": "2022-09-16T11:30:47.109Z"
   },
   {
    "duration": 116,
    "start_time": "2022-09-16T11:30:47.117Z"
   },
   {
    "duration": 3,
    "start_time": "2022-09-16T11:30:47.235Z"
   },
   {
    "duration": 147,
    "start_time": "2022-09-16T11:30:47.240Z"
   },
   {
    "duration": 4,
    "start_time": "2022-09-16T11:30:47.389Z"
   },
   {
    "duration": 10,
    "start_time": "2022-09-16T11:30:47.395Z"
   },
   {
    "duration": 15,
    "start_time": "2022-09-16T11:30:47.406Z"
   },
   {
    "duration": 8,
    "start_time": "2022-09-16T11:30:47.423Z"
   },
   {
    "duration": 8,
    "start_time": "2022-09-16T11:30:47.433Z"
   },
   {
    "duration": 5,
    "start_time": "2022-09-16T11:30:47.443Z"
   },
   {
    "duration": 44,
    "start_time": "2022-09-16T11:30:47.450Z"
   },
   {
    "duration": 139,
    "start_time": "2022-09-16T11:30:47.495Z"
   },
   {
    "duration": 47,
    "start_time": "2022-09-16T11:30:47.636Z"
   },
   {
    "duration": 19,
    "start_time": "2022-09-16T11:30:47.686Z"
   },
   {
    "duration": 37,
    "start_time": "2022-09-16T11:30:47.707Z"
   },
   {
    "duration": 33,
    "start_time": "2022-09-16T11:30:47.746Z"
   },
   {
    "duration": 9,
    "start_time": "2022-09-16T11:30:47.781Z"
   },
   {
    "duration": 213,
    "start_time": "2022-09-16T11:30:47.792Z"
   },
   {
    "duration": 180,
    "start_time": "2022-09-16T11:30:48.007Z"
   },
   {
    "duration": 27,
    "start_time": "2022-09-16T11:30:48.188Z"
   },
   {
    "duration": 24,
    "start_time": "2022-09-16T11:30:48.218Z"
   },
   {
    "duration": 4,
    "start_time": "2022-09-16T11:30:48.243Z"
   },
   {
    "duration": 1464,
    "start_time": "2022-09-16T11:31:08.406Z"
   },
   {
    "duration": 103,
    "start_time": "2022-09-16T11:31:09.872Z"
   },
   {
    "duration": 4,
    "start_time": "2022-09-16T11:31:09.977Z"
   },
   {
    "duration": 142,
    "start_time": "2022-09-16T11:31:09.984Z"
   },
   {
    "duration": 4,
    "start_time": "2022-09-16T11:31:10.127Z"
   },
   {
    "duration": 5,
    "start_time": "2022-09-16T11:31:10.132Z"
   },
   {
    "duration": 8,
    "start_time": "2022-09-16T11:31:10.138Z"
   },
   {
    "duration": 35,
    "start_time": "2022-09-16T11:31:10.147Z"
   },
   {
    "duration": 9,
    "start_time": "2022-09-16T11:31:10.183Z"
   },
   {
    "duration": 5,
    "start_time": "2022-09-16T11:31:10.195Z"
   },
   {
    "duration": 30,
    "start_time": "2022-09-16T11:31:10.201Z"
   },
   {
    "duration": 157,
    "start_time": "2022-09-16T11:31:10.232Z"
   },
   {
    "duration": 15,
    "start_time": "2022-09-16T11:31:10.391Z"
   },
   {
    "duration": 16,
    "start_time": "2022-09-16T11:31:10.408Z"
   },
   {
    "duration": 9,
    "start_time": "2022-09-16T11:31:10.426Z"
   },
   {
    "duration": 42,
    "start_time": "2022-09-16T11:31:10.436Z"
   },
   {
    "duration": 7,
    "start_time": "2022-09-16T11:31:10.479Z"
   },
   {
    "duration": 164,
    "start_time": "2022-09-16T11:31:10.488Z"
   },
   {
    "duration": 166,
    "start_time": "2022-09-16T11:31:10.653Z"
   },
   {
    "duration": 23,
    "start_time": "2022-09-16T11:31:10.820Z"
   },
   {
    "duration": 38,
    "start_time": "2022-09-16T11:31:10.844Z"
   },
   {
    "duration": 3,
    "start_time": "2022-09-16T11:31:10.884Z"
   },
   {
    "duration": 21407,
    "start_time": "2022-09-16T11:31:10.889Z"
   },
   {
    "duration": 5,
    "start_time": "2022-09-16T11:31:32.298Z"
   },
   {
    "duration": 319,
    "start_time": "2022-09-16T11:31:32.305Z"
   },
   {
    "duration": 4,
    "start_time": "2022-09-16T11:31:32.625Z"
   },
   {
    "duration": 10,
    "start_time": "2022-09-16T11:31:32.631Z"
   },
   {
    "duration": 7,
    "start_time": "2022-09-16T11:31:32.645Z"
   },
   {
    "duration": 29,
    "start_time": "2022-09-16T11:31:32.654Z"
   },
   {
    "duration": 20780,
    "start_time": "2022-09-16T11:31:32.685Z"
   },
   {
    "duration": 332,
    "start_time": "2022-09-16T11:31:53.467Z"
   },
   {
    "duration": 8,
    "start_time": "2022-09-16T11:31:53.801Z"
   },
   {
    "duration": 7,
    "start_time": "2022-09-16T11:31:53.811Z"
   },
   {
    "duration": 7,
    "start_time": "2022-09-16T11:31:53.819Z"
   },
   {
    "duration": 12,
    "start_time": "2022-09-16T11:31:53.828Z"
   },
   {
    "duration": 6,
    "start_time": "2022-09-16T11:31:53.843Z"
   },
   {
    "duration": 531,
    "start_time": "2022-09-16T11:31:53.851Z"
   },
   {
    "duration": 6,
    "start_time": "2022-09-16T11:31:54.384Z"
   },
   {
    "duration": 13,
    "start_time": "2022-09-16T11:31:54.391Z"
   },
   {
    "duration": 378,
    "start_time": "2022-09-16T11:31:54.406Z"
   },
   {
    "duration": 255,
    "start_time": "2022-09-16T11:31:54.786Z"
   },
   {
    "duration": 7,
    "start_time": "2022-09-16T11:31:55.042Z"
   },
   {
    "duration": 34,
    "start_time": "2022-09-16T11:31:55.051Z"
   },
   {
    "duration": 14,
    "start_time": "2022-09-16T11:31:55.086Z"
   },
   {
    "duration": 13,
    "start_time": "2022-09-16T11:31:55.101Z"
   },
   {
    "duration": 5,
    "start_time": "2022-09-16T11:31:55.116Z"
   },
   {
    "duration": 4,
    "start_time": "2022-09-16T11:31:55.122Z"
   },
   {
    "duration": 5,
    "start_time": "2022-09-16T11:31:55.128Z"
   },
   {
    "duration": 9,
    "start_time": "2022-09-16T11:31:55.135Z"
   },
   {
    "duration": 38,
    "start_time": "2022-09-16T11:31:55.146Z"
   },
   {
    "duration": 139,
    "start_time": "2022-09-16T11:31:55.185Z"
   },
   {
    "duration": 5,
    "start_time": "2022-09-16T11:31:55.326Z"
   },
   {
    "duration": 9,
    "start_time": "2022-09-16T11:31:55.333Z"
   },
   {
    "duration": 4,
    "start_time": "2022-09-16T11:31:55.343Z"
   },
   {
    "duration": 76945,
    "start_time": "2022-09-16T11:31:55.349Z"
   },
   {
    "duration": 4,
    "start_time": "2022-09-16T11:33:12.296Z"
   },
   {
    "duration": 127,
    "start_time": "2022-09-16T11:33:12.301Z"
   },
   {
    "duration": 6,
    "start_time": "2022-09-16T11:33:12.429Z"
   },
   {
    "duration": 13,
    "start_time": "2022-09-16T11:33:12.436Z"
   },
   {
    "duration": 24131,
    "start_time": "2022-09-16T11:33:12.451Z"
   },
   {
    "duration": 11,
    "start_time": "2022-09-16T11:34:42.254Z"
   },
   {
    "duration": 9,
    "start_time": "2022-09-16T11:34:55.202Z"
   },
   {
    "duration": 138,
    "start_time": "2022-09-16T11:34:55.213Z"
   },
   {
    "duration": 3,
    "start_time": "2022-09-16T11:34:55.353Z"
   },
   {
    "duration": 152,
    "start_time": "2022-09-16T11:34:55.358Z"
   },
   {
    "duration": 4,
    "start_time": "2022-09-16T11:34:55.511Z"
   },
   {
    "duration": 20,
    "start_time": "2022-09-16T11:34:55.517Z"
   },
   {
    "duration": 9,
    "start_time": "2022-09-16T11:34:55.539Z"
   },
   {
    "duration": 17,
    "start_time": "2022-09-16T11:34:55.549Z"
   },
   {
    "duration": 24,
    "start_time": "2022-09-16T11:34:55.568Z"
   },
   {
    "duration": 30,
    "start_time": "2022-09-16T11:34:55.595Z"
   },
   {
    "duration": 39,
    "start_time": "2022-09-16T11:34:55.627Z"
   },
   {
    "duration": 142,
    "start_time": "2022-09-16T11:34:55.668Z"
   },
   {
    "duration": 17,
    "start_time": "2022-09-16T11:34:55.811Z"
   },
   {
    "duration": 21,
    "start_time": "2022-09-16T11:34:55.830Z"
   },
   {
    "duration": 42,
    "start_time": "2022-09-16T11:34:55.852Z"
   },
   {
    "duration": 39,
    "start_time": "2022-09-16T11:34:55.896Z"
   },
   {
    "duration": 7,
    "start_time": "2022-09-16T11:34:55.937Z"
   },
   {
    "duration": 168,
    "start_time": "2022-09-16T11:34:55.945Z"
   },
   {
    "duration": 179,
    "start_time": "2022-09-16T11:34:56.114Z"
   },
   {
    "duration": 25,
    "start_time": "2022-09-16T11:34:56.294Z"
   },
   {
    "duration": 22,
    "start_time": "2022-09-16T11:34:56.320Z"
   },
   {
    "duration": 3,
    "start_time": "2022-09-16T11:34:56.343Z"
   },
   {
    "duration": 21084,
    "start_time": "2022-09-16T11:34:56.348Z"
   },
   {
    "duration": 3,
    "start_time": "2022-09-16T11:35:17.434Z"
   },
   {
    "duration": 392,
    "start_time": "2022-09-16T11:35:17.439Z"
   },
   {
    "duration": 4,
    "start_time": "2022-09-16T11:35:17.833Z"
   },
   {
    "duration": 19,
    "start_time": "2022-09-16T11:35:17.839Z"
   },
   {
    "duration": 22,
    "start_time": "2022-09-16T11:35:17.862Z"
   },
   {
    "duration": 25,
    "start_time": "2022-09-16T11:35:17.886Z"
   },
   {
    "duration": 20608,
    "start_time": "2022-09-16T11:35:17.913Z"
   },
   {
    "duration": 461,
    "start_time": "2022-09-16T11:35:38.523Z"
   },
   {
    "duration": 8,
    "start_time": "2022-09-16T11:35:38.986Z"
   },
   {
    "duration": 10,
    "start_time": "2022-09-16T11:35:38.996Z"
   },
   {
    "duration": 11,
    "start_time": "2022-09-16T11:35:39.008Z"
   },
   {
    "duration": 11,
    "start_time": "2022-09-16T11:35:39.021Z"
   },
   {
    "duration": 2,
    "start_time": "2022-09-16T11:35:39.034Z"
   },
   {
    "duration": 556,
    "start_time": "2022-09-16T11:35:39.037Z"
   },
   {
    "duration": 6,
    "start_time": "2022-09-16T11:35:39.595Z"
   },
   {
    "duration": 27,
    "start_time": "2022-09-16T11:35:39.602Z"
   },
   {
    "duration": 369,
    "start_time": "2022-09-16T11:35:39.630Z"
   },
   {
    "duration": 333,
    "start_time": "2022-09-16T11:35:40.001Z"
   },
   {
    "duration": 7,
    "start_time": "2022-09-16T11:35:40.335Z"
   },
   {
    "duration": 34,
    "start_time": "2022-09-16T11:35:40.343Z"
   },
   {
    "duration": 14,
    "start_time": "2022-09-16T11:35:40.379Z"
   },
   {
    "duration": 23,
    "start_time": "2022-09-16T11:35:40.394Z"
   },
   {
    "duration": 17,
    "start_time": "2022-09-16T11:35:40.418Z"
   },
   {
    "duration": 18,
    "start_time": "2022-09-16T11:35:40.436Z"
   },
   {
    "duration": 21,
    "start_time": "2022-09-16T11:35:40.456Z"
   },
   {
    "duration": 11,
    "start_time": "2022-09-16T11:35:40.478Z"
   },
   {
    "duration": 22,
    "start_time": "2022-09-16T11:35:40.491Z"
   },
   {
    "duration": 5,
    "start_time": "2022-09-16T11:36:09.906Z"
   },
   {
    "duration": 12,
    "start_time": "2022-09-16T11:36:36.634Z"
   },
   {
    "duration": 4,
    "start_time": "2022-09-16T11:38:19.503Z"
   },
   {
    "duration": 8,
    "start_time": "2022-09-16T11:38:19.508Z"
   },
   {
    "duration": 3,
    "start_time": "2022-09-16T11:38:19.518Z"
   },
   {
    "duration": 97796,
    "start_time": "2022-09-16T11:38:19.523Z"
   },
   {
    "duration": 4,
    "start_time": "2022-09-16T11:39:57.322Z"
   },
   {
    "duration": 148,
    "start_time": "2022-09-16T11:39:57.328Z"
   },
   {
    "duration": 7,
    "start_time": "2022-09-16T11:39:57.477Z"
   },
   {
    "duration": 13,
    "start_time": "2022-09-16T11:39:57.485Z"
   },
   {
    "duration": 35577,
    "start_time": "2022-09-16T11:39:57.500Z"
   },
   {
    "duration": 15472,
    "start_time": "2022-09-16T11:42:56.305Z"
   },
   {
    "duration": 10,
    "start_time": "2022-09-16T11:43:41.823Z"
   },
   {
    "duration": 146778,
    "start_time": "2022-09-16T11:43:44.295Z"
   },
   {
    "duration": 5,
    "start_time": "2022-09-16T11:46:11.074Z"
   },
   {
    "duration": 145,
    "start_time": "2022-09-16T11:46:11.080Z"
   },
   {
    "duration": 6,
    "start_time": "2022-09-16T11:46:11.228Z"
   },
   {
    "duration": 4,
    "start_time": "2022-09-16T11:51:58.989Z"
   },
   {
    "duration": 14,
    "start_time": "2022-09-16T11:53:39.768Z"
   },
   {
    "duration": 3,
    "start_time": "2022-09-16T11:59:14.547Z"
   },
   {
    "duration": 5,
    "start_time": "2022-09-16T11:59:36.776Z"
   },
   {
    "duration": 292,
    "start_time": "2022-09-16T12:00:07.541Z"
   },
   {
    "duration": 4,
    "start_time": "2022-09-16T12:01:48.844Z"
   },
   {
    "duration": 22,
    "start_time": "2022-09-16T12:01:50.774Z"
   },
   {
    "duration": 4,
    "start_time": "2022-09-16T12:02:39.317Z"
   },
   {
    "duration": 136,
    "start_time": "2022-09-16T12:02:39.671Z"
   },
   {
    "duration": 12,
    "start_time": "2022-09-16T12:03:06.640Z"
   },
   {
    "duration": 4,
    "start_time": "2022-09-16T12:07:51.026Z"
   },
   {
    "duration": 12,
    "start_time": "2022-09-16T12:07:52.123Z"
   },
   {
    "duration": 3,
    "start_time": "2022-09-16T12:07:59.110Z"
   },
   {
    "duration": 132,
    "start_time": "2022-09-16T12:08:00.443Z"
   },
   {
    "duration": 10,
    "start_time": "2022-09-16T12:08:26.278Z"
   },
   {
    "duration": 4,
    "start_time": "2022-09-16T12:09:08.813Z"
   },
   {
    "duration": 136,
    "start_time": "2022-09-16T12:09:09.575Z"
   },
   {
    "duration": 4,
    "start_time": "2022-09-16T12:09:55.692Z"
   },
   {
    "duration": 131,
    "start_time": "2022-09-16T12:09:56.017Z"
   },
   {
    "duration": 14,
    "start_time": "2022-09-16T12:10:06.464Z"
   },
   {
    "duration": 17,
    "start_time": "2022-09-16T12:11:07.760Z"
   },
   {
    "duration": 29,
    "start_time": "2022-09-16T12:11:19.530Z"
   },
   {
    "duration": 27,
    "start_time": "2022-09-16T12:12:19.438Z"
   },
   {
    "duration": 12,
    "start_time": "2022-09-16T12:15:07.083Z"
   },
   {
    "duration": 21025,
    "start_time": "2022-09-16T12:15:18.459Z"
   },
   {
    "duration": 18383,
    "start_time": "2022-09-16T12:15:53.202Z"
   },
   {
    "duration": 18086,
    "start_time": "2022-09-16T12:16:28.793Z"
   },
   {
    "duration": 34054,
    "start_time": "2022-09-16T12:18:12.482Z"
   },
   {
    "duration": 279,
    "start_time": "2022-09-16T12:19:18.568Z"
   },
   {
    "duration": 4,
    "start_time": "2022-09-16T12:28:49.275Z"
   },
   {
    "duration": 229,
    "start_time": "2022-09-16T12:28:50.624Z"
   },
   {
    "duration": 4,
    "start_time": "2022-09-16T12:29:09.792Z"
   },
   {
    "duration": 4,
    "start_time": "2022-09-16T12:29:18.010Z"
   },
   {
    "duration": 226,
    "start_time": "2022-09-16T12:29:18.904Z"
   },
   {
    "duration": 4,
    "start_time": "2022-09-16T12:29:28.536Z"
   },
   {
    "duration": 240,
    "start_time": "2022-09-16T12:29:29.092Z"
   },
   {
    "duration": 4,
    "start_time": "2022-09-16T12:30:02.968Z"
   },
   {
    "duration": 312,
    "start_time": "2022-09-16T12:30:03.479Z"
   },
   {
    "duration": 4,
    "start_time": "2022-09-16T12:30:53.592Z"
   },
   {
    "duration": 459,
    "start_time": "2022-09-16T12:30:54.143Z"
   },
   {
    "duration": 4,
    "start_time": "2022-09-16T12:31:14.433Z"
   },
   {
    "duration": 564,
    "start_time": "2022-09-16T12:31:15.023Z"
   },
   {
    "duration": 5,
    "start_time": "2022-09-16T12:35:35.509Z"
   },
   {
    "duration": 239,
    "start_time": "2022-09-16T12:35:35.851Z"
   },
   {
    "duration": 4,
    "start_time": "2022-09-16T12:37:51.993Z"
   },
   {
    "duration": 230,
    "start_time": "2022-09-16T12:37:52.855Z"
   },
   {
    "duration": 5,
    "start_time": "2022-09-16T12:38:02.688Z"
   },
   {
    "duration": 562,
    "start_time": "2022-09-16T12:38:02.995Z"
   },
   {
    "duration": 575,
    "start_time": "2022-09-16T12:38:17.706Z"
   },
   {
    "duration": 16,
    "start_time": "2022-09-16T12:44:01.604Z"
   },
   {
    "duration": 13,
    "start_time": "2022-09-16T12:46:33.512Z"
   },
   {
    "duration": 36,
    "start_time": "2022-09-16T12:47:17.856Z"
   },
   {
    "duration": 14,
    "start_time": "2022-09-16T12:47:25.339Z"
   },
   {
    "duration": 10,
    "start_time": "2022-09-16T12:53:22.328Z"
   },
   {
    "duration": 12,
    "start_time": "2022-09-16T12:54:26.194Z"
   },
   {
    "duration": 5,
    "start_time": "2022-09-16T12:54:37.788Z"
   },
   {
    "duration": 11,
    "start_time": "2022-09-16T12:54:43.669Z"
   },
   {
    "duration": 11,
    "start_time": "2022-09-16T12:54:59.691Z"
   },
   {
    "duration": 11,
    "start_time": "2022-09-16T12:55:13.215Z"
   },
   {
    "duration": 133655,
    "start_time": "2022-09-16T12:55:54.648Z"
   },
   {
    "duration": 6,
    "start_time": "2022-09-16T12:58:21.246Z"
   },
   {
    "duration": 1023716,
    "start_time": "2022-09-16T12:58:28.870Z"
   },
   {
    "duration": 2,
    "start_time": "2022-09-16T13:15:32.588Z"
   },
   {
    "duration": 507,
    "start_time": "2022-09-16T13:31:42.631Z"
   },
   {
    "duration": 10,
    "start_time": "2022-09-16T14:10:20.796Z"
   },
   {
    "duration": 9,
    "start_time": "2022-09-16T14:10:37.265Z"
   },
   {
    "duration": 7,
    "start_time": "2022-09-16T14:10:56.131Z"
   },
   {
    "duration": 5,
    "start_time": "2022-09-16T14:13:14.404Z"
   },
   {
    "duration": 558,
    "start_time": "2022-09-16T14:13:16.983Z"
   },
   {
    "duration": 6,
    "start_time": "2022-09-16T14:13:30.763Z"
   },
   {
    "duration": 437,
    "start_time": "2022-09-16T14:13:31.446Z"
   },
   {
    "duration": 5,
    "start_time": "2022-09-16T14:13:43.104Z"
   },
   {
    "duration": 558,
    "start_time": "2022-09-16T14:13:43.524Z"
   },
   {
    "duration": 5,
    "start_time": "2022-09-16T14:14:08.907Z"
   },
   {
    "duration": 514,
    "start_time": "2022-09-16T14:16:09.003Z"
   },
   {
    "duration": 75,
    "start_time": "2022-09-16T14:16:42.503Z"
   },
   {
    "duration": 4,
    "start_time": "2022-09-16T14:32:07.679Z"
   },
   {
    "duration": 1410,
    "start_time": "2022-09-16T14:32:49.744Z"
   },
   {
    "duration": 107,
    "start_time": "2022-09-16T14:32:51.156Z"
   },
   {
    "duration": 4,
    "start_time": "2022-09-16T14:32:51.265Z"
   },
   {
    "duration": 166,
    "start_time": "2022-09-16T14:32:51.271Z"
   },
   {
    "duration": 5,
    "start_time": "2022-09-16T14:32:51.440Z"
   },
   {
    "duration": 8,
    "start_time": "2022-09-16T14:32:51.446Z"
   },
   {
    "duration": 4,
    "start_time": "2022-09-16T14:32:51.476Z"
   },
   {
    "duration": 10,
    "start_time": "2022-09-16T14:32:51.481Z"
   },
   {
    "duration": 6,
    "start_time": "2022-09-16T14:32:51.493Z"
   },
   {
    "duration": 6,
    "start_time": "2022-09-16T14:32:51.502Z"
   },
   {
    "duration": 29,
    "start_time": "2022-09-16T14:32:51.510Z"
   },
   {
    "duration": 177,
    "start_time": "2022-09-16T14:32:51.541Z"
   },
   {
    "duration": 18,
    "start_time": "2022-09-16T14:32:51.719Z"
   },
   {
    "duration": 47,
    "start_time": "2022-09-16T14:32:51.739Z"
   },
   {
    "duration": 11,
    "start_time": "2022-09-16T14:32:51.788Z"
   },
   {
    "duration": 9,
    "start_time": "2022-09-16T14:32:51.800Z"
   },
   {
    "duration": 179,
    "start_time": "2022-09-16T14:32:51.810Z"
   },
   {
    "duration": 239,
    "start_time": "2022-09-16T14:32:51.991Z"
   },
   {
    "duration": 24,
    "start_time": "2022-09-16T14:32:52.231Z"
   },
   {
    "duration": 38,
    "start_time": "2022-09-16T14:32:52.256Z"
   },
   {
    "duration": 4,
    "start_time": "2022-09-16T14:32:52.295Z"
   },
   {
    "duration": 21640,
    "start_time": "2022-09-16T14:32:52.300Z"
   },
   {
    "duration": 3,
    "start_time": "2022-09-16T14:33:13.942Z"
   },
   {
    "duration": 367,
    "start_time": "2022-09-16T14:33:13.947Z"
   },
   {
    "duration": 3,
    "start_time": "2022-09-16T14:33:14.316Z"
   },
   {
    "duration": 14,
    "start_time": "2022-09-16T14:33:14.321Z"
   },
   {
    "duration": 8,
    "start_time": "2022-09-16T14:33:14.336Z"
   },
   {
    "duration": 10,
    "start_time": "2022-09-16T14:33:14.347Z"
   },
   {
    "duration": 21447,
    "start_time": "2022-09-16T14:33:14.358Z"
   },
   {
    "duration": 308,
    "start_time": "2022-09-16T14:33:35.807Z"
   },
   {
    "duration": 8,
    "start_time": "2022-09-16T14:33:36.117Z"
   },
   {
    "duration": 12,
    "start_time": "2022-09-16T14:33:36.127Z"
   },
   {
    "duration": 7,
    "start_time": "2022-09-16T14:33:36.141Z"
   },
   {
    "duration": 13,
    "start_time": "2022-09-16T14:33:36.149Z"
   },
   {
    "duration": 14,
    "start_time": "2022-09-16T14:33:36.163Z"
   },
   {
    "duration": 501,
    "start_time": "2022-09-16T14:33:36.179Z"
   },
   {
    "duration": 7,
    "start_time": "2022-09-16T14:33:36.682Z"
   },
   {
    "duration": 12,
    "start_time": "2022-09-16T14:33:36.690Z"
   },
   {
    "duration": 376,
    "start_time": "2022-09-16T14:33:36.703Z"
   },
   {
    "duration": 364,
    "start_time": "2022-09-16T14:33:37.081Z"
   },
   {
    "duration": 6,
    "start_time": "2022-09-16T14:33:37.447Z"
   },
   {
    "duration": 32,
    "start_time": "2022-09-16T14:33:37.454Z"
   },
   {
    "duration": 11,
    "start_time": "2022-09-16T14:33:37.488Z"
   },
   {
    "duration": 13,
    "start_time": "2022-09-16T14:33:37.500Z"
   },
   {
    "duration": 5,
    "start_time": "2022-09-16T14:33:37.514Z"
   },
   {
    "duration": 5,
    "start_time": "2022-09-16T14:33:37.520Z"
   },
   {
    "duration": 6,
    "start_time": "2022-09-16T14:33:37.526Z"
   },
   {
    "duration": 9,
    "start_time": "2022-09-16T14:33:37.534Z"
   },
   {
    "duration": 42,
    "start_time": "2022-09-16T14:33:37.545Z"
   },
   {
    "duration": 5,
    "start_time": "2022-09-16T14:33:37.589Z"
   },
   {
    "duration": 19,
    "start_time": "2022-09-16T14:33:37.595Z"
   },
   {
    "duration": 5,
    "start_time": "2022-09-16T14:33:37.616Z"
   },
   {
    "duration": 9,
    "start_time": "2022-09-16T14:33:37.623Z"
   },
   {
    "duration": 10,
    "start_time": "2022-09-16T14:33:37.634Z"
   },
   {
    "duration": 31,
    "start_time": "2022-09-16T14:33:37.646Z"
   },
   {
    "duration": 179622,
    "start_time": "2022-09-16T14:33:37.679Z"
   },
   {
    "duration": 5,
    "start_time": "2022-09-16T14:36:37.303Z"
   },
   {
    "duration": 563,
    "start_time": "2022-09-16T14:36:37.311Z"
   },
   {
    "duration": 0,
    "start_time": "2022-09-16T14:36:37.877Z"
   },
   {
    "duration": 0,
    "start_time": "2022-09-16T14:36:37.879Z"
   },
   {
    "duration": 0,
    "start_time": "2022-09-16T14:36:37.880Z"
   },
   {
    "duration": 0,
    "start_time": "2022-09-16T14:36:37.881Z"
   },
   {
    "duration": 6,
    "start_time": "2022-09-16T14:40:58.722Z"
   },
   {
    "duration": 354,
    "start_time": "2022-09-16T14:40:59.185Z"
   },
   {
    "duration": 1383,
    "start_time": "2022-09-16T14:41:18.295Z"
   },
   {
    "duration": 103,
    "start_time": "2022-09-16T14:41:19.680Z"
   },
   {
    "duration": 4,
    "start_time": "2022-09-16T14:41:19.785Z"
   },
   {
    "duration": 159,
    "start_time": "2022-09-16T14:41:19.790Z"
   },
   {
    "duration": 4,
    "start_time": "2022-09-16T14:41:19.952Z"
   },
   {
    "duration": 4,
    "start_time": "2022-09-16T14:41:19.978Z"
   },
   {
    "duration": 6,
    "start_time": "2022-09-16T14:41:19.983Z"
   },
   {
    "duration": 9,
    "start_time": "2022-09-16T14:41:19.990Z"
   },
   {
    "duration": 10,
    "start_time": "2022-09-16T14:41:20.000Z"
   },
   {
    "duration": 9,
    "start_time": "2022-09-16T14:41:20.011Z"
   },
   {
    "duration": 31,
    "start_time": "2022-09-16T14:41:20.021Z"
   },
   {
    "duration": 161,
    "start_time": "2022-09-16T14:41:20.054Z"
   },
   {
    "duration": 18,
    "start_time": "2022-09-16T14:41:20.217Z"
   },
   {
    "duration": 42,
    "start_time": "2022-09-16T14:41:20.238Z"
   },
   {
    "duration": 12,
    "start_time": "2022-09-16T14:41:20.282Z"
   },
   {
    "duration": 7,
    "start_time": "2022-09-16T14:41:20.296Z"
   },
   {
    "duration": 173,
    "start_time": "2022-09-16T14:41:20.305Z"
   },
   {
    "duration": 243,
    "start_time": "2022-09-16T14:41:20.480Z"
   },
   {
    "duration": 24,
    "start_time": "2022-09-16T14:41:20.726Z"
   },
   {
    "duration": 36,
    "start_time": "2022-09-16T14:41:20.752Z"
   },
   {
    "duration": 4,
    "start_time": "2022-09-16T14:41:20.790Z"
   },
   {
    "duration": 21713,
    "start_time": "2022-09-16T14:41:20.795Z"
   },
   {
    "duration": 4,
    "start_time": "2022-09-16T14:41:42.509Z"
   },
   {
    "duration": 345,
    "start_time": "2022-09-16T14:41:42.514Z"
   },
   {
    "duration": 5,
    "start_time": "2022-09-16T14:41:42.861Z"
   },
   {
    "duration": 27,
    "start_time": "2022-09-16T14:41:42.876Z"
   },
   {
    "duration": 19,
    "start_time": "2022-09-16T14:41:42.905Z"
   },
   {
    "duration": 22,
    "start_time": "2022-09-16T14:41:42.925Z"
   },
   {
    "duration": 21079,
    "start_time": "2022-09-16T14:41:42.949Z"
   },
   {
    "duration": 333,
    "start_time": "2022-09-16T14:42:04.030Z"
   },
   {
    "duration": 13,
    "start_time": "2022-09-16T14:42:04.365Z"
   },
   {
    "duration": 4,
    "start_time": "2022-09-16T14:42:04.379Z"
   },
   {
    "duration": 9,
    "start_time": "2022-09-16T14:42:04.384Z"
   },
   {
    "duration": 10,
    "start_time": "2022-09-16T14:42:04.394Z"
   },
   {
    "duration": 3,
    "start_time": "2022-09-16T14:42:04.405Z"
   },
   {
    "duration": 476,
    "start_time": "2022-09-16T14:42:04.409Z"
   },
   {
    "duration": 6,
    "start_time": "2022-09-16T14:42:04.887Z"
   },
   {
    "duration": 10,
    "start_time": "2022-09-16T14:42:04.895Z"
   },
   {
    "duration": 386,
    "start_time": "2022-09-16T14:42:04.907Z"
   },
   {
    "duration": 354,
    "start_time": "2022-09-16T14:42:05.295Z"
   },
   {
    "duration": 6,
    "start_time": "2022-09-16T14:42:05.654Z"
   },
   {
    "duration": 38,
    "start_time": "2022-09-16T14:42:05.662Z"
   },
   {
    "duration": 18,
    "start_time": "2022-09-16T14:42:05.702Z"
   },
   {
    "duration": 41,
    "start_time": "2022-09-16T14:42:05.721Z"
   },
   {
    "duration": 15,
    "start_time": "2022-09-16T14:42:05.763Z"
   },
   {
    "duration": 16,
    "start_time": "2022-09-16T14:42:05.780Z"
   },
   {
    "duration": 20,
    "start_time": "2022-09-16T14:42:05.798Z"
   },
   {
    "duration": 19,
    "start_time": "2022-09-16T14:42:05.820Z"
   },
   {
    "duration": 15,
    "start_time": "2022-09-16T14:42:05.840Z"
   },
   {
    "duration": 7,
    "start_time": "2022-09-16T14:42:05.857Z"
   },
   {
    "duration": 23,
    "start_time": "2022-09-16T14:42:05.866Z"
   },
   {
    "duration": 7,
    "start_time": "2022-09-16T14:42:05.890Z"
   },
   {
    "duration": 11,
    "start_time": "2022-09-16T14:42:05.898Z"
   },
   {
    "duration": 12,
    "start_time": "2022-09-16T14:42:05.910Z"
   },
   {
    "duration": 22,
    "start_time": "2022-09-16T14:42:05.924Z"
   },
   {
    "duration": 137776,
    "start_time": "2022-09-16T14:42:05.948Z"
   },
   {
    "duration": 6,
    "start_time": "2022-09-16T14:44:23.726Z"
   },
   {
    "duration": 396,
    "start_time": "2022-09-16T14:44:23.733Z"
   },
   {
    "duration": 5,
    "start_time": "2022-09-16T14:44:24.131Z"
   },
   {
    "duration": 0,
    "start_time": "2022-09-16T14:44:24.138Z"
   },
   {
    "duration": 0,
    "start_time": "2022-09-16T14:44:24.139Z"
   },
   {
    "duration": 0,
    "start_time": "2022-09-16T14:44:24.140Z"
   },
   {
    "duration": 19241,
    "start_time": "2022-09-16T14:51:18.830Z"
   },
   {
    "duration": 523,
    "start_time": "2022-09-16T14:51:38.073Z"
   },
   {
    "duration": 1440,
    "start_time": "2022-09-16T14:56:05.630Z"
   },
   {
    "duration": 125,
    "start_time": "2022-09-16T14:56:07.072Z"
   },
   {
    "duration": 3,
    "start_time": "2022-09-16T14:56:07.199Z"
   },
   {
    "duration": 148,
    "start_time": "2022-09-16T14:56:07.204Z"
   },
   {
    "duration": 7,
    "start_time": "2022-09-16T14:56:07.378Z"
   },
   {
    "duration": 17,
    "start_time": "2022-09-16T14:56:07.389Z"
   },
   {
    "duration": 13,
    "start_time": "2022-09-16T14:56:07.408Z"
   },
   {
    "duration": 11,
    "start_time": "2022-09-16T14:56:07.423Z"
   },
   {
    "duration": 20,
    "start_time": "2022-09-16T14:56:07.435Z"
   },
   {
    "duration": 9,
    "start_time": "2022-09-16T14:56:07.458Z"
   },
   {
    "duration": 34,
    "start_time": "2022-09-16T14:56:07.469Z"
   },
   {
    "duration": 190,
    "start_time": "2022-09-16T14:56:07.504Z"
   },
   {
    "duration": 21,
    "start_time": "2022-09-16T14:56:07.700Z"
   },
   {
    "duration": 21,
    "start_time": "2022-09-16T14:56:07.723Z"
   },
   {
    "duration": 31,
    "start_time": "2022-09-16T14:56:07.747Z"
   },
   {
    "duration": 11,
    "start_time": "2022-09-16T14:56:07.780Z"
   },
   {
    "duration": 234,
    "start_time": "2022-09-16T14:56:07.793Z"
   },
   {
    "duration": 185,
    "start_time": "2022-09-16T14:56:08.028Z"
   },
   {
    "duration": 24,
    "start_time": "2022-09-16T14:56:08.215Z"
   },
   {
    "duration": 43,
    "start_time": "2022-09-16T14:56:08.241Z"
   },
   {
    "duration": 9,
    "start_time": "2022-09-16T14:56:08.287Z"
   },
   {
    "duration": 22841,
    "start_time": "2022-09-16T14:56:08.298Z"
   },
   {
    "duration": 4,
    "start_time": "2022-09-16T14:56:31.141Z"
   },
   {
    "duration": 351,
    "start_time": "2022-09-16T14:56:31.146Z"
   },
   {
    "duration": 4,
    "start_time": "2022-09-16T14:56:31.498Z"
   },
   {
    "duration": 13,
    "start_time": "2022-09-16T14:56:31.504Z"
   },
   {
    "duration": 15,
    "start_time": "2022-09-16T14:56:31.519Z"
   },
   {
    "duration": 12,
    "start_time": "2022-09-16T14:56:31.538Z"
   },
   {
    "duration": 22451,
    "start_time": "2022-09-16T14:56:31.552Z"
   },
   {
    "duration": 308,
    "start_time": "2022-09-16T14:56:54.005Z"
   },
   {
    "duration": 9,
    "start_time": "2022-09-16T14:56:54.315Z"
   },
   {
    "duration": 7,
    "start_time": "2022-09-16T14:56:54.325Z"
   },
   {
    "duration": 7,
    "start_time": "2022-09-16T14:56:54.333Z"
   },
   {
    "duration": 10,
    "start_time": "2022-09-16T14:56:54.342Z"
   },
   {
    "duration": 2,
    "start_time": "2022-09-16T14:56:54.353Z"
   },
   {
    "duration": 519,
    "start_time": "2022-09-16T14:56:54.387Z"
   },
   {
    "duration": 6,
    "start_time": "2022-09-16T14:56:54.908Z"
   },
   {
    "duration": 10,
    "start_time": "2022-09-16T14:56:54.916Z"
   },
   {
    "duration": 381,
    "start_time": "2022-09-16T14:56:54.928Z"
   },
   {
    "duration": 326,
    "start_time": "2022-09-16T14:56:55.311Z"
   },
   {
    "duration": 6,
    "start_time": "2022-09-16T14:56:55.638Z"
   },
   {
    "duration": 46,
    "start_time": "2022-09-16T14:56:55.645Z"
   },
   {
    "duration": 12,
    "start_time": "2022-09-16T14:56:55.692Z"
   },
   {
    "duration": 14,
    "start_time": "2022-09-16T14:56:55.705Z"
   },
   {
    "duration": 4,
    "start_time": "2022-09-16T14:56:55.721Z"
   },
   {
    "duration": 4,
    "start_time": "2022-09-16T14:56:55.727Z"
   },
   {
    "duration": 8,
    "start_time": "2022-09-16T14:56:55.733Z"
   },
   {
    "duration": 11,
    "start_time": "2022-09-16T14:56:55.742Z"
   },
   {
    "duration": 146,
    "start_time": "2022-09-16T14:56:55.754Z"
   },
   {
    "duration": 4,
    "start_time": "2022-09-16T14:56:55.901Z"
   },
   {
    "duration": 12,
    "start_time": "2022-09-16T14:56:55.906Z"
   },
   {
    "duration": 3,
    "start_time": "2022-09-16T14:56:55.920Z"
   },
   {
    "duration": 6,
    "start_time": "2022-09-16T14:56:55.925Z"
   },
   {
    "duration": 4,
    "start_time": "2022-09-16T14:56:55.932Z"
   },
   {
    "duration": 12,
    "start_time": "2022-09-16T14:56:55.937Z"
   },
   {
    "duration": 129292,
    "start_time": "2022-09-16T14:56:55.951Z"
   },
   {
    "duration": 5,
    "start_time": "2022-09-16T14:59:05.245Z"
   },
   {
    "duration": 374,
    "start_time": "2022-09-16T14:59:05.252Z"
   },
   {
    "duration": 34345,
    "start_time": "2022-09-16T14:59:05.627Z"
   },
   {
    "duration": 796,
    "start_time": "2022-09-16T14:59:39.974Z"
   },
   {
    "duration": 524624,
    "start_time": "2022-09-16T14:59:40.771Z"
   },
   {
    "duration": 693,
    "start_time": "2022-09-16T15:08:25.396Z"
   },
   {
    "duration": 1400,
    "start_time": "2022-09-16T15:11:11.577Z"
   },
   {
    "duration": 108,
    "start_time": "2022-09-16T15:11:12.979Z"
   },
   {
    "duration": 3,
    "start_time": "2022-09-16T15:11:13.089Z"
   },
   {
    "duration": 140,
    "start_time": "2022-09-16T15:11:13.094Z"
   },
   {
    "duration": 4,
    "start_time": "2022-09-16T15:11:13.235Z"
   },
   {
    "duration": 4,
    "start_time": "2022-09-16T15:11:13.241Z"
   },
   {
    "duration": 4,
    "start_time": "2022-09-16T15:11:13.276Z"
   },
   {
    "duration": 10,
    "start_time": "2022-09-16T15:11:13.282Z"
   },
   {
    "duration": 6,
    "start_time": "2022-09-16T15:11:13.294Z"
   },
   {
    "duration": 6,
    "start_time": "2022-09-16T15:11:13.302Z"
   },
   {
    "duration": 32,
    "start_time": "2022-09-16T15:11:13.309Z"
   },
   {
    "duration": 155,
    "start_time": "2022-09-16T15:11:13.344Z"
   },
   {
    "duration": 16,
    "start_time": "2022-09-16T15:11:13.500Z"
   },
   {
    "duration": 15,
    "start_time": "2022-09-16T15:11:13.517Z"
   },
   {
    "duration": 10,
    "start_time": "2022-09-16T15:11:13.534Z"
   },
   {
    "duration": 34,
    "start_time": "2022-09-16T15:11:13.546Z"
   },
   {
    "duration": 168,
    "start_time": "2022-09-16T15:11:13.582Z"
   },
   {
    "duration": 255,
    "start_time": "2022-09-16T15:11:13.752Z"
   },
   {
    "duration": 23,
    "start_time": "2022-09-16T15:11:14.009Z"
   },
   {
    "duration": 22,
    "start_time": "2022-09-16T15:11:14.034Z"
   },
   {
    "duration": 19,
    "start_time": "2022-09-16T15:11:14.058Z"
   },
   {
    "duration": 21501,
    "start_time": "2022-09-16T15:11:14.079Z"
   },
   {
    "duration": 4,
    "start_time": "2022-09-16T15:11:35.582Z"
   },
   {
    "duration": 340,
    "start_time": "2022-09-16T15:11:35.587Z"
   },
   {
    "duration": 4,
    "start_time": "2022-09-16T15:11:35.929Z"
   },
   {
    "duration": 19,
    "start_time": "2022-09-16T15:11:35.935Z"
   },
   {
    "duration": 7,
    "start_time": "2022-09-16T15:11:35.955Z"
   },
   {
    "duration": 15,
    "start_time": "2022-09-16T15:11:35.966Z"
   },
   {
    "duration": 20872,
    "start_time": "2022-09-16T15:11:35.983Z"
   },
   {
    "duration": 328,
    "start_time": "2022-09-16T15:11:56.857Z"
   },
   {
    "duration": 8,
    "start_time": "2022-09-16T15:11:57.186Z"
   },
   {
    "duration": 7,
    "start_time": "2022-09-16T15:11:57.195Z"
   },
   {
    "duration": 7,
    "start_time": "2022-09-16T15:11:57.204Z"
   },
   {
    "duration": 9,
    "start_time": "2022-09-16T15:11:57.213Z"
   },
   {
    "duration": 2,
    "start_time": "2022-09-16T15:11:57.224Z"
   },
   {
    "duration": 611,
    "start_time": "2022-09-16T15:11:57.227Z"
   },
   {
    "duration": 7,
    "start_time": "2022-09-16T15:11:57.840Z"
   },
   {
    "duration": 11,
    "start_time": "2022-09-16T15:11:57.849Z"
   },
   {
    "duration": 418,
    "start_time": "2022-09-16T15:11:57.862Z"
   },
   {
    "duration": 363,
    "start_time": "2022-09-16T15:11:58.282Z"
   },
   {
    "duration": 6,
    "start_time": "2022-09-16T15:11:58.647Z"
   },
   {
    "duration": 35,
    "start_time": "2022-09-16T15:11:58.655Z"
   },
   {
    "duration": 12,
    "start_time": "2022-09-16T15:11:58.691Z"
   },
   {
    "duration": 23,
    "start_time": "2022-09-16T15:11:58.705Z"
   },
   {
    "duration": 6,
    "start_time": "2022-09-16T15:11:58.730Z"
   },
   {
    "duration": 5,
    "start_time": "2022-09-16T15:11:58.737Z"
   },
   {
    "duration": 6,
    "start_time": "2022-09-16T15:11:58.743Z"
   },
   {
    "duration": 32,
    "start_time": "2022-09-16T15:11:58.750Z"
   },
   {
    "duration": 12,
    "start_time": "2022-09-16T15:11:58.783Z"
   },
   {
    "duration": 4,
    "start_time": "2022-09-16T15:11:58.796Z"
   },
   {
    "duration": 10,
    "start_time": "2022-09-16T15:11:58.801Z"
   },
   {
    "duration": 3,
    "start_time": "2022-09-16T15:11:58.812Z"
   },
   {
    "duration": 8,
    "start_time": "2022-09-16T15:11:58.817Z"
   },
   {
    "duration": 5,
    "start_time": "2022-09-16T15:11:58.827Z"
   },
   {
    "duration": 10,
    "start_time": "2022-09-16T15:11:58.834Z"
   },
   {
    "duration": 139702,
    "start_time": "2022-09-16T15:11:58.846Z"
   },
   {
    "duration": 5,
    "start_time": "2022-09-16T15:14:18.550Z"
   },
   {
    "duration": 374,
    "start_time": "2022-09-16T15:14:18.557Z"
   },
   {
    "duration": 40043,
    "start_time": "2022-09-16T15:14:18.933Z"
   },
   {
    "duration": 790,
    "start_time": "2022-09-16T15:14:58.977Z"
   },
   {
    "duration": 1400,
    "start_time": "2022-09-16T15:15:45.664Z"
   },
   {
    "duration": 104,
    "start_time": "2022-09-16T15:15:47.067Z"
   },
   {
    "duration": 7,
    "start_time": "2022-09-16T15:15:47.172Z"
   },
   {
    "duration": 154,
    "start_time": "2022-09-16T15:15:47.182Z"
   },
   {
    "duration": 4,
    "start_time": "2022-09-16T15:15:47.338Z"
   },
   {
    "duration": 36,
    "start_time": "2022-09-16T15:15:47.344Z"
   },
   {
    "duration": 5,
    "start_time": "2022-09-16T15:15:47.381Z"
   },
   {
    "duration": 8,
    "start_time": "2022-09-16T15:15:47.388Z"
   },
   {
    "duration": 7,
    "start_time": "2022-09-16T15:15:47.398Z"
   },
   {
    "duration": 5,
    "start_time": "2022-09-16T15:15:47.408Z"
   },
   {
    "duration": 27,
    "start_time": "2022-09-16T15:15:47.415Z"
   },
   {
    "duration": 182,
    "start_time": "2022-09-16T15:15:47.444Z"
   },
   {
    "duration": 20,
    "start_time": "2022-09-16T15:15:47.629Z"
   },
   {
    "duration": 20,
    "start_time": "2022-09-16T15:15:47.676Z"
   },
   {
    "duration": 13,
    "start_time": "2022-09-16T15:15:47.698Z"
   },
   {
    "duration": 13,
    "start_time": "2022-09-16T15:15:47.713Z"
   },
   {
    "duration": 205,
    "start_time": "2022-09-16T15:15:47.728Z"
   },
   {
    "duration": 242,
    "start_time": "2022-09-16T15:15:47.935Z"
   },
   {
    "duration": 25,
    "start_time": "2022-09-16T15:15:48.178Z"
   },
   {
    "duration": 26,
    "start_time": "2022-09-16T15:15:48.205Z"
   },
   {
    "duration": 3,
    "start_time": "2022-09-16T15:15:48.232Z"
   },
   {
    "duration": 21416,
    "start_time": "2022-09-16T15:15:48.236Z"
   },
   {
    "duration": 4,
    "start_time": "2022-09-16T15:16:09.653Z"
   },
   {
    "duration": 356,
    "start_time": "2022-09-16T15:16:09.659Z"
   },
   {
    "duration": 5,
    "start_time": "2022-09-16T15:16:10.016Z"
   },
   {
    "duration": 20,
    "start_time": "2022-09-16T15:16:10.023Z"
   },
   {
    "duration": 9,
    "start_time": "2022-09-16T15:16:10.045Z"
   },
   {
    "duration": 10,
    "start_time": "2022-09-16T15:16:10.058Z"
   },
   {
    "duration": 21122,
    "start_time": "2022-09-16T15:16:10.078Z"
   },
   {
    "duration": 302,
    "start_time": "2022-09-16T15:16:31.201Z"
   },
   {
    "duration": 11,
    "start_time": "2022-09-16T15:16:31.505Z"
   },
   {
    "duration": 18,
    "start_time": "2022-09-16T15:16:31.517Z"
   },
   {
    "duration": 10,
    "start_time": "2022-09-16T15:16:31.537Z"
   },
   {
    "duration": 11,
    "start_time": "2022-09-16T15:16:31.548Z"
   },
   {
    "duration": 10,
    "start_time": "2022-09-16T15:16:31.561Z"
   },
   {
    "duration": 509,
    "start_time": "2022-09-16T15:16:31.578Z"
   },
   {
    "duration": 6,
    "start_time": "2022-09-16T15:16:32.089Z"
   },
   {
    "duration": 14,
    "start_time": "2022-09-16T15:16:32.096Z"
   },
   {
    "duration": 368,
    "start_time": "2022-09-16T15:16:32.111Z"
   },
   {
    "duration": 367,
    "start_time": "2022-09-16T15:16:32.481Z"
   },
   {
    "duration": 6,
    "start_time": "2022-09-16T15:16:32.850Z"
   },
   {
    "duration": 34,
    "start_time": "2022-09-16T15:16:32.858Z"
   },
   {
    "duration": 12,
    "start_time": "2022-09-16T15:16:32.893Z"
   },
   {
    "duration": 12,
    "start_time": "2022-09-16T15:16:32.907Z"
   },
   {
    "duration": 5,
    "start_time": "2022-09-16T15:16:32.921Z"
   },
   {
    "duration": 5,
    "start_time": "2022-09-16T15:16:32.927Z"
   },
   {
    "duration": 5,
    "start_time": "2022-09-16T15:16:32.934Z"
   },
   {
    "duration": 43,
    "start_time": "2022-09-16T15:16:32.940Z"
   },
   {
    "duration": 12,
    "start_time": "2022-09-16T15:16:32.985Z"
   },
   {
    "duration": 3,
    "start_time": "2022-09-16T15:16:32.998Z"
   },
   {
    "duration": 14,
    "start_time": "2022-09-16T15:16:33.002Z"
   },
   {
    "duration": 4,
    "start_time": "2022-09-16T15:16:33.017Z"
   },
   {
    "duration": 7,
    "start_time": "2022-09-16T15:16:33.022Z"
   },
   {
    "duration": 4,
    "start_time": "2022-09-16T15:16:33.030Z"
   },
   {
    "duration": 11,
    "start_time": "2022-09-16T15:16:33.035Z"
   },
   {
    "duration": 137596,
    "start_time": "2022-09-16T15:16:33.047Z"
   },
   {
    "duration": 4,
    "start_time": "2022-09-16T15:18:50.645Z"
   },
   {
    "duration": 388,
    "start_time": "2022-09-16T15:18:50.651Z"
   },
   {
    "duration": 34518,
    "start_time": "2022-09-16T15:18:51.041Z"
   },
   {
    "duration": 939,
    "start_time": "2022-09-16T15:19:25.561Z"
   },
   {
    "duration": 863281,
    "start_time": "2022-09-16T15:19:26.502Z"
   },
   {
    "duration": 1199,
    "start_time": "2022-09-16T15:33:49.785Z"
   },
   {
    "duration": 1577,
    "start_time": "2022-09-17T09:38:37.872Z"
   },
   {
    "duration": 101,
    "start_time": "2022-09-17T09:38:39.451Z"
   },
   {
    "duration": 4,
    "start_time": "2022-09-17T09:38:39.554Z"
   },
   {
    "duration": 154,
    "start_time": "2022-09-17T09:38:39.560Z"
   },
   {
    "duration": 5,
    "start_time": "2022-09-17T09:38:39.716Z"
   },
   {
    "duration": 23,
    "start_time": "2022-09-17T09:38:39.723Z"
   },
   {
    "duration": 46,
    "start_time": "2022-09-17T09:38:39.748Z"
   },
   {
    "duration": 32,
    "start_time": "2022-09-17T09:38:39.796Z"
   },
   {
    "duration": 30,
    "start_time": "2022-09-17T09:38:39.830Z"
   },
   {
    "duration": 35,
    "start_time": "2022-09-17T09:38:39.862Z"
   },
   {
    "duration": 86,
    "start_time": "2022-09-17T09:38:39.899Z"
   },
   {
    "duration": 147,
    "start_time": "2022-09-17T09:38:39.987Z"
   },
   {
    "duration": 18,
    "start_time": "2022-09-17T09:38:40.135Z"
   },
   {
    "duration": 48,
    "start_time": "2022-09-17T09:38:40.154Z"
   },
   {
    "duration": 15,
    "start_time": "2022-09-17T09:38:40.204Z"
   },
   {
    "duration": 20,
    "start_time": "2022-09-17T09:38:40.221Z"
   },
   {
    "duration": 188,
    "start_time": "2022-09-17T09:38:40.243Z"
   },
   {
    "duration": 190,
    "start_time": "2022-09-17T09:38:40.432Z"
   },
   {
    "duration": 25,
    "start_time": "2022-09-17T09:38:40.624Z"
   },
   {
    "duration": 40,
    "start_time": "2022-09-17T09:38:40.651Z"
   },
   {
    "duration": 4,
    "start_time": "2022-09-17T09:38:40.693Z"
   },
   {
    "duration": 23623,
    "start_time": "2022-09-17T09:38:40.698Z"
   },
   {
    "duration": 4,
    "start_time": "2022-09-17T09:39:04.323Z"
   },
   {
    "duration": 380,
    "start_time": "2022-09-17T09:39:04.329Z"
   },
   {
    "duration": 4,
    "start_time": "2022-09-17T09:39:04.711Z"
   },
   {
    "duration": 25,
    "start_time": "2022-09-17T09:39:04.716Z"
   },
   {
    "duration": 42,
    "start_time": "2022-09-17T09:39:04.743Z"
   },
   {
    "duration": 24,
    "start_time": "2022-09-17T09:39:04.789Z"
   },
   {
    "duration": 23818,
    "start_time": "2022-09-17T09:39:04.814Z"
   },
   {
    "duration": 330,
    "start_time": "2022-09-17T09:39:28.634Z"
   },
   {
    "duration": 9,
    "start_time": "2022-09-17T09:39:28.966Z"
   },
   {
    "duration": 43,
    "start_time": "2022-09-17T09:39:28.991Z"
   },
   {
    "duration": 24,
    "start_time": "2022-09-17T09:39:29.036Z"
   },
   {
    "duration": 14,
    "start_time": "2022-09-17T09:39:29.061Z"
   },
   {
    "duration": 7,
    "start_time": "2022-09-17T09:39:29.076Z"
   },
   {
    "duration": 584,
    "start_time": "2022-09-17T09:39:29.084Z"
   },
   {
    "duration": 7,
    "start_time": "2022-09-17T09:39:29.670Z"
   },
   {
    "duration": 38,
    "start_time": "2022-09-17T09:39:29.678Z"
   },
   {
    "duration": 487,
    "start_time": "2022-09-17T09:39:29.718Z"
   },
   {
    "duration": 272,
    "start_time": "2022-09-17T09:39:30.208Z"
   },
   {
    "duration": 22,
    "start_time": "2022-09-17T09:39:30.481Z"
   },
   {
    "duration": 26,
    "start_time": "2022-09-17T09:39:30.505Z"
   },
   {
    "duration": 22,
    "start_time": "2022-09-17T09:39:30.533Z"
   },
   {
    "duration": 38,
    "start_time": "2022-09-17T09:39:30.556Z"
   },
   {
    "duration": 15,
    "start_time": "2022-09-17T09:39:30.601Z"
   },
   {
    "duration": 19,
    "start_time": "2022-09-17T09:39:30.618Z"
   },
   {
    "duration": 11,
    "start_time": "2022-09-17T09:39:30.638Z"
   },
   {
    "duration": 21,
    "start_time": "2022-09-17T09:39:30.651Z"
   },
   {
    "duration": 167,
    "start_time": "2022-09-17T09:39:30.673Z"
   },
   {
    "duration": 4,
    "start_time": "2022-09-17T09:39:30.842Z"
   },
   {
    "duration": 33,
    "start_time": "2022-09-17T09:39:30.847Z"
   },
   {
    "duration": 61,
    "start_time": "2022-09-17T09:39:30.881Z"
   },
   {
    "duration": 38,
    "start_time": "2022-09-17T09:39:30.944Z"
   },
   {
    "duration": 77,
    "start_time": "2022-09-17T09:39:30.984Z"
   },
   {
    "duration": 70,
    "start_time": "2022-09-17T09:39:31.063Z"
   },
   {
    "duration": 178322,
    "start_time": "2022-09-17T09:39:31.135Z"
   },
   {
    "duration": 6,
    "start_time": "2022-09-17T09:42:29.459Z"
   },
   {
    "duration": 396,
    "start_time": "2022-09-17T09:42:29.467Z"
   },
   {
    "duration": 39709,
    "start_time": "2022-09-17T09:42:29.865Z"
   },
   {
    "duration": 946,
    "start_time": "2022-09-17T09:43:09.576Z"
   },
   {
    "duration": 2102780,
    "start_time": "2022-09-17T09:43:10.524Z"
   },
   {
    "duration": 1385,
    "start_time": "2022-09-17T10:18:13.305Z"
   },
   {
    "duration": 80,
    "start_time": "2022-09-17T16:33:49.999Z"
   },
   {
    "duration": 1619,
    "start_time": "2022-09-17T16:44:02.222Z"
   },
   {
    "duration": 321,
    "start_time": "2022-09-17T16:44:03.843Z"
   },
   {
    "duration": 3,
    "start_time": "2022-09-17T16:44:04.165Z"
   },
   {
    "duration": 115,
    "start_time": "2022-09-17T16:44:04.170Z"
   },
   {
    "duration": 23,
    "start_time": "2022-09-17T16:44:04.286Z"
   },
   {
    "duration": 3,
    "start_time": "2022-09-17T16:44:04.310Z"
   },
   {
    "duration": 4,
    "start_time": "2022-09-17T16:44:04.314Z"
   },
   {
    "duration": 8,
    "start_time": "2022-09-17T16:44:04.320Z"
   },
   {
    "duration": 5,
    "start_time": "2022-09-17T16:44:04.329Z"
   },
   {
    "duration": 5,
    "start_time": "2022-09-17T16:44:04.337Z"
   },
   {
    "duration": 28,
    "start_time": "2022-09-17T16:44:04.343Z"
   },
   {
    "duration": 190,
    "start_time": "2022-09-17T16:44:04.372Z"
   },
   {
    "duration": 45,
    "start_time": "2022-09-17T16:44:04.564Z"
   },
   {
    "duration": 16,
    "start_time": "2022-09-17T16:44:04.611Z"
   },
   {
    "duration": 9,
    "start_time": "2022-09-17T16:44:04.629Z"
   },
   {
    "duration": 5,
    "start_time": "2022-09-17T16:44:04.640Z"
   },
   {
    "duration": 165,
    "start_time": "2022-09-17T16:44:04.647Z"
   },
   {
    "duration": 164,
    "start_time": "2022-09-17T16:44:04.814Z"
   },
   {
    "duration": 29,
    "start_time": "2022-09-17T16:44:04.980Z"
   },
   {
    "duration": 22,
    "start_time": "2022-09-17T16:44:05.010Z"
   },
   {
    "duration": 21,
    "start_time": "2022-09-17T16:44:11.874Z"
   },
   {
    "duration": 15,
    "start_time": "2022-09-17T16:44:23.026Z"
   },
   {
    "duration": 23,
    "start_time": "2022-09-17T17:05:27.284Z"
   },
   {
    "duration": 117,
    "start_time": "2022-09-17T17:06:20.271Z"
   },
   {
    "duration": 4,
    "start_time": "2022-09-17T17:06:29.461Z"
   },
   {
    "duration": 115,
    "start_time": "2022-09-17T17:06:29.467Z"
   },
   {
    "duration": 3,
    "start_time": "2022-09-17T17:06:29.583Z"
   },
   {
    "duration": 124,
    "start_time": "2022-09-17T17:06:29.588Z"
   },
   {
    "duration": 3,
    "start_time": "2022-09-17T17:06:29.713Z"
   },
   {
    "duration": 8,
    "start_time": "2022-09-17T17:06:29.717Z"
   },
   {
    "duration": 5,
    "start_time": "2022-09-17T17:06:29.726Z"
   },
   {
    "duration": 9,
    "start_time": "2022-09-17T17:06:29.732Z"
   },
   {
    "duration": 8,
    "start_time": "2022-09-17T17:06:29.743Z"
   },
   {
    "duration": 8,
    "start_time": "2022-09-17T17:06:29.753Z"
   },
   {
    "duration": 29,
    "start_time": "2022-09-17T17:06:29.762Z"
   },
   {
    "duration": 149,
    "start_time": "2022-09-17T17:06:29.792Z"
   },
   {
    "duration": 15,
    "start_time": "2022-09-17T17:06:29.942Z"
   },
   {
    "duration": 15,
    "start_time": "2022-09-17T17:06:29.958Z"
   },
   {
    "duration": 42,
    "start_time": "2022-09-17T17:06:29.974Z"
   },
   {
    "duration": 6,
    "start_time": "2022-09-17T17:06:30.018Z"
   },
   {
    "duration": 150,
    "start_time": "2022-09-17T17:06:30.025Z"
   },
   {
    "duration": 160,
    "start_time": "2022-09-17T17:06:30.177Z"
   },
   {
    "duration": 21,
    "start_time": "2022-09-17T17:06:30.338Z"
   },
   {
    "duration": 19,
    "start_time": "2022-09-17T17:06:30.360Z"
   },
   {
    "duration": 39,
    "start_time": "2022-09-17T17:06:30.380Z"
   },
   {
    "duration": 14,
    "start_time": "2022-09-17T17:06:30.420Z"
   },
   {
    "duration": 8,
    "start_time": "2022-09-17T17:06:30.435Z"
   },
   {
    "duration": 3,
    "start_time": "2022-09-17T17:06:33.398Z"
   },
   {
    "duration": 214933,
    "start_time": "2022-09-17T17:06:33.843Z"
   },
   {
    "duration": 9,
    "start_time": "2022-09-17T17:11:03.583Z"
   },
   {
    "duration": 8,
    "start_time": "2022-09-17T17:11:08.171Z"
   },
   {
    "duration": 14,
    "start_time": "2022-09-17T17:11:11.456Z"
   },
   {
    "duration": 7,
    "start_time": "2022-09-17T17:11:12.401Z"
   },
   {
    "duration": 11,
    "start_time": "2022-09-17T17:11:19.504Z"
   },
   {
    "duration": 337,
    "start_time": "2022-09-17T17:11:41.161Z"
   },
   {
    "duration": 117,
    "start_time": "2022-09-17T17:11:41.500Z"
   },
   {
    "duration": 4,
    "start_time": "2022-09-17T17:11:41.618Z"
   },
   {
    "duration": 135,
    "start_time": "2022-09-17T17:11:41.623Z"
   },
   {
    "duration": 3,
    "start_time": "2022-09-17T17:11:41.759Z"
   },
   {
    "duration": 13,
    "start_time": "2022-09-17T17:11:41.764Z"
   },
   {
    "duration": 11,
    "start_time": "2022-09-17T17:11:41.779Z"
   },
   {
    "duration": 24,
    "start_time": "2022-09-17T17:11:41.791Z"
   },
   {
    "duration": 37,
    "start_time": "2022-09-17T17:11:41.817Z"
   },
   {
    "duration": 10,
    "start_time": "2022-09-17T17:11:41.857Z"
   },
   {
    "duration": 36,
    "start_time": "2022-09-17T17:11:41.868Z"
   },
   {
    "duration": 126,
    "start_time": "2022-09-17T17:11:41.906Z"
   },
   {
    "duration": 15,
    "start_time": "2022-09-17T17:11:42.033Z"
   },
   {
    "duration": 15,
    "start_time": "2022-09-17T17:11:42.049Z"
   },
   {
    "duration": 11,
    "start_time": "2022-09-17T17:11:42.065Z"
   },
   {
    "duration": 5,
    "start_time": "2022-09-17T17:11:42.078Z"
   },
   {
    "duration": 143,
    "start_time": "2022-09-17T17:11:42.109Z"
   },
   {
    "duration": 166,
    "start_time": "2022-09-17T17:11:42.253Z"
   },
   {
    "duration": 21,
    "start_time": "2022-09-17T17:11:42.421Z"
   },
   {
    "duration": 20,
    "start_time": "2022-09-17T17:11:42.444Z"
   },
   {
    "duration": 4,
    "start_time": "2022-09-17T17:11:42.466Z"
   },
   {
    "duration": 39,
    "start_time": "2022-09-17T17:11:42.472Z"
   },
   {
    "duration": 14,
    "start_time": "2022-09-17T17:11:42.513Z"
   },
   {
    "duration": 16,
    "start_time": "2022-09-17T17:11:44.284Z"
   },
   {
    "duration": 13,
    "start_time": "2022-09-17T17:11:44.703Z"
   },
   {
    "duration": 4,
    "start_time": "2022-09-17T17:12:10.061Z"
   },
   {
    "duration": 23,
    "start_time": "2022-09-17T17:12:14.756Z"
   },
   {
    "duration": 18,
    "start_time": "2022-09-17T17:12:15.639Z"
   },
   {
    "duration": 13,
    "start_time": "2022-09-17T17:12:16.750Z"
   },
   {
    "duration": 4,
    "start_time": "2022-09-17T17:13:44.391Z"
   },
   {
    "duration": 7,
    "start_time": "2022-09-17T17:15:40.273Z"
   },
   {
    "duration": 12,
    "start_time": "2022-09-17T17:15:50.147Z"
   },
   {
    "duration": 57,
    "start_time": "2022-09-17T17:16:26.008Z"
   },
   {
    "duration": 3,
    "start_time": "2022-09-17T17:17:45.710Z"
   },
   {
    "duration": 909,
    "start_time": "2022-09-17T17:17:54.892Z"
   },
   {
    "duration": 3,
    "start_time": "2022-09-17T17:21:02.375Z"
   },
   {
    "duration": 856,
    "start_time": "2022-09-17T17:21:02.845Z"
   },
   {
    "duration": 3,
    "start_time": "2022-09-17T17:21:29.262Z"
   },
   {
    "duration": 1481,
    "start_time": "2022-09-17T17:21:29.708Z"
   },
   {
    "duration": 3,
    "start_time": "2022-09-17T17:21:57.497Z"
   },
   {
    "duration": 1383,
    "start_time": "2022-09-17T17:21:58.300Z"
   },
   {
    "duration": 3,
    "start_time": "2022-09-17T17:22:13.362Z"
   },
   {
    "duration": 1380,
    "start_time": "2022-09-17T17:22:13.716Z"
   },
   {
    "duration": 158,
    "start_time": "2022-09-17T17:30:29.671Z"
   },
   {
    "duration": 170,
    "start_time": "2022-09-17T17:31:07.207Z"
   },
   {
    "duration": 195,
    "start_time": "2022-09-17T17:31:14.524Z"
   },
   {
    "duration": 12,
    "start_time": "2022-09-17T17:32:03.571Z"
   },
   {
    "duration": 184,
    "start_time": "2022-09-17T17:34:51.420Z"
   },
   {
    "duration": 186,
    "start_time": "2022-09-17T17:35:22.212Z"
   },
   {
    "duration": 119,
    "start_time": "2022-09-17T17:35:41.695Z"
   },
   {
    "duration": 124,
    "start_time": "2022-09-17T17:35:58.835Z"
   },
   {
    "duration": 176,
    "start_time": "2022-09-17T17:36:15.386Z"
   },
   {
    "duration": 13,
    "start_time": "2022-09-17T17:37:26.590Z"
   },
   {
    "duration": 0,
    "start_time": "2022-09-17T17:37:52.647Z"
   },
   {
    "duration": 74680,
    "start_time": "2022-09-17T17:37:54.349Z"
   },
   {
    "duration": 6,
    "start_time": "2022-09-17T17:39:44.858Z"
   },
   {
    "duration": 2605,
    "start_time": "2022-09-17T17:39:45.417Z"
   },
   {
    "duration": 8,
    "start_time": "2022-09-17T17:40:44.654Z"
   },
   {
    "duration": 8,
    "start_time": "2022-09-17T17:41:00.489Z"
   },
   {
    "duration": 171,
    "start_time": "2022-09-17T17:41:06.630Z"
   },
   {
    "duration": 49,
    "start_time": "2022-09-17T17:44:23.736Z"
   },
   {
    "duration": 16,
    "start_time": "2022-09-17T17:44:27.517Z"
   },
   {
    "duration": 4,
    "start_time": "2022-09-17T17:44:43.347Z"
   },
   {
    "duration": 102,
    "start_time": "2022-09-17T17:44:43.353Z"
   },
   {
    "duration": 3,
    "start_time": "2022-09-17T17:44:43.457Z"
   },
   {
    "duration": 102,
    "start_time": "2022-09-17T17:44:43.461Z"
   },
   {
    "duration": 3,
    "start_time": "2022-09-17T17:44:43.564Z"
   },
   {
    "duration": 5,
    "start_time": "2022-09-17T17:44:43.569Z"
   },
   {
    "duration": 4,
    "start_time": "2022-09-17T17:44:43.576Z"
   },
   {
    "duration": 32,
    "start_time": "2022-09-17T17:44:43.581Z"
   },
   {
    "duration": 3,
    "start_time": "2022-09-17T17:44:43.616Z"
   },
   {
    "duration": 6,
    "start_time": "2022-09-17T17:44:43.620Z"
   },
   {
    "duration": 27,
    "start_time": "2022-09-17T17:44:43.627Z"
   },
   {
    "duration": 155,
    "start_time": "2022-09-17T17:44:43.655Z"
   },
   {
    "duration": 15,
    "start_time": "2022-09-17T17:44:43.811Z"
   },
   {
    "duration": 13,
    "start_time": "2022-09-17T17:44:43.827Z"
   },
   {
    "duration": 10,
    "start_time": "2022-09-17T17:44:43.841Z"
   },
   {
    "duration": 5,
    "start_time": "2022-09-17T17:44:43.852Z"
   },
   {
    "duration": 158,
    "start_time": "2022-09-17T17:44:43.859Z"
   },
   {
    "duration": 181,
    "start_time": "2022-09-17T17:44:44.019Z"
   },
   {
    "duration": 32,
    "start_time": "2022-09-17T17:44:44.201Z"
   },
   {
    "duration": 23,
    "start_time": "2022-09-17T17:44:44.234Z"
   },
   {
    "duration": 2,
    "start_time": "2022-09-17T17:44:44.259Z"
   },
   {
    "duration": 50,
    "start_time": "2022-09-17T17:44:44.263Z"
   },
   {
    "duration": 19,
    "start_time": "2022-09-17T17:44:44.314Z"
   },
   {
    "duration": 12,
    "start_time": "2022-09-17T17:44:44.336Z"
   },
   {
    "duration": 4,
    "start_time": "2022-09-17T17:44:44.350Z"
   },
   {
    "duration": 11,
    "start_time": "2022-09-17T17:44:44.356Z"
   },
   {
    "duration": 2,
    "start_time": "2022-09-17T17:44:44.369Z"
   },
   {
    "duration": 45,
    "start_time": "2022-09-17T17:44:44.372Z"
   },
   {
    "duration": 6,
    "start_time": "2022-09-17T17:44:44.419Z"
   },
   {
    "duration": 1897,
    "start_time": "2022-09-17T17:44:47.320Z"
   },
   {
    "duration": 3,
    "start_time": "2022-09-17T17:45:51.365Z"
   },
   {
    "duration": 2119,
    "start_time": "2022-09-17T17:45:58.731Z"
   },
   {
    "duration": 2043,
    "start_time": "2022-09-17T17:46:09.537Z"
   },
   {
    "duration": 2206,
    "start_time": "2022-09-17T17:46:16.539Z"
   },
   {
    "duration": 5,
    "start_time": "2022-09-17T17:48:14.330Z"
   },
   {
    "duration": 5,
    "start_time": "2022-09-17T17:49:00.181Z"
   },
   {
    "duration": 52,
    "start_time": "2022-09-17T17:52:14.233Z"
   },
   {
    "duration": 7,
    "start_time": "2022-09-17T17:52:18.603Z"
   },
   {
    "duration": 17,
    "start_time": "2022-09-17T17:52:24.401Z"
   },
   {
    "duration": 2056,
    "start_time": "2022-09-17T17:52:27.423Z"
   },
   {
    "duration": 7,
    "start_time": "2022-09-17T17:52:51.145Z"
   },
   {
    "duration": 13,
    "start_time": "2022-09-17T17:52:51.680Z"
   },
   {
    "duration": 1911,
    "start_time": "2022-09-17T17:52:52.305Z"
   },
   {
    "duration": 12,
    "start_time": "2022-09-17T17:53:18.830Z"
   },
   {
    "duration": 2417,
    "start_time": "2022-09-17T17:54:04.696Z"
   },
   {
    "duration": 5,
    "start_time": "2022-09-17T17:55:35.442Z"
   },
   {
    "duration": 47,
    "start_time": "2022-09-17T17:56:33.273Z"
   },
   {
    "duration": 8,
    "start_time": "2022-09-17T17:56:53.176Z"
   },
   {
    "duration": 30,
    "start_time": "2022-09-17T18:04:06.922Z"
   },
   {
    "duration": 28,
    "start_time": "2022-09-17T18:04:50.540Z"
   },
   {
    "duration": 25,
    "start_time": "2022-09-17T18:05:00.458Z"
   },
   {
    "duration": 25,
    "start_time": "2022-09-17T18:05:08.455Z"
   },
   {
    "duration": 2,
    "start_time": "2022-09-17T18:06:11.525Z"
   },
   {
    "duration": 1261,
    "start_time": "2022-09-17T18:07:10.924Z"
   },
   {
    "duration": 6,
    "start_time": "2022-09-17T18:07:20.226Z"
   },
   {
    "duration": 4,
    "start_time": "2022-09-17T18:07:30.610Z"
   },
   {
    "duration": 3663,
    "start_time": "2022-09-17T18:07:31.611Z"
   },
   {
    "duration": 3193,
    "start_time": "2022-09-17T18:08:34.579Z"
   },
   {
    "duration": 7,
    "start_time": "2022-09-17T18:10:12.749Z"
   },
   {
    "duration": 3908,
    "start_time": "2022-09-17T18:29:47.679Z"
   },
   {
    "duration": 3294,
    "start_time": "2022-09-17T18:30:36.352Z"
   },
   {
    "duration": 3757,
    "start_time": "2022-09-17T18:31:00.652Z"
   },
   {
    "duration": 3349,
    "start_time": "2022-09-17T18:31:10.354Z"
   },
   {
    "duration": 3726,
    "start_time": "2022-09-17T18:31:18.322Z"
   },
   {
    "duration": 3472,
    "start_time": "2022-09-17T18:31:45.021Z"
   },
   {
    "duration": 10,
    "start_time": "2022-09-17T18:47:05.609Z"
   },
   {
    "duration": 48,
    "start_time": "2022-09-17T18:47:30.457Z"
   },
   {
    "duration": 32,
    "start_time": "2022-09-17T18:47:52.778Z"
   },
   {
    "duration": 41,
    "start_time": "2022-09-17T18:48:03.224Z"
   },
   {
    "duration": 1458,
    "start_time": "2022-09-17T19:00:46.095Z"
   },
   {
    "duration": 105,
    "start_time": "2022-09-17T19:00:47.555Z"
   },
   {
    "duration": 4,
    "start_time": "2022-09-17T19:00:47.661Z"
   },
   {
    "duration": 115,
    "start_time": "2022-09-17T19:00:47.667Z"
   },
   {
    "duration": 26,
    "start_time": "2022-09-17T19:00:47.783Z"
   },
   {
    "duration": 9,
    "start_time": "2022-09-17T19:00:47.811Z"
   },
   {
    "duration": 15,
    "start_time": "2022-09-17T19:00:47.822Z"
   },
   {
    "duration": 20,
    "start_time": "2022-09-17T19:00:47.838Z"
   },
   {
    "duration": 14,
    "start_time": "2022-09-17T19:00:47.860Z"
   },
   {
    "duration": 5,
    "start_time": "2022-09-17T19:00:47.877Z"
   },
   {
    "duration": 30,
    "start_time": "2022-09-17T19:00:47.883Z"
   },
   {
    "duration": 129,
    "start_time": "2022-09-17T19:00:47.914Z"
   },
   {
    "duration": 15,
    "start_time": "2022-09-17T19:00:48.044Z"
   },
   {
    "duration": 13,
    "start_time": "2022-09-17T19:00:48.061Z"
   },
   {
    "duration": 39,
    "start_time": "2022-09-17T19:00:48.075Z"
   },
   {
    "duration": 14,
    "start_time": "2022-09-17T19:00:48.115Z"
   },
   {
    "duration": 157,
    "start_time": "2022-09-17T19:00:48.131Z"
   },
   {
    "duration": 235,
    "start_time": "2022-09-17T19:00:48.290Z"
   },
   {
    "duration": 20,
    "start_time": "2022-09-17T19:00:48.527Z"
   },
   {
    "duration": 19,
    "start_time": "2022-09-17T19:00:48.549Z"
   },
   {
    "duration": 2,
    "start_time": "2022-09-17T19:00:48.569Z"
   },
   {
    "duration": 44,
    "start_time": "2022-09-17T19:00:48.573Z"
   },
   {
    "duration": 17,
    "start_time": "2022-09-17T19:00:48.618Z"
   },
   {
    "duration": 19,
    "start_time": "2022-09-17T19:00:48.636Z"
   },
   {
    "duration": 3,
    "start_time": "2022-09-17T19:00:48.657Z"
   },
   {
    "duration": 13,
    "start_time": "2022-09-17T19:00:48.662Z"
   },
   {
    "duration": 15,
    "start_time": "2022-09-17T19:00:48.677Z"
   },
   {
    "duration": 19,
    "start_time": "2022-09-17T19:00:48.696Z"
   },
   {
    "duration": 6,
    "start_time": "2022-09-17T19:00:48.717Z"
   },
   {
    "duration": 14,
    "start_time": "2022-09-17T19:00:48.725Z"
   },
   {
    "duration": 4,
    "start_time": "2022-09-17T19:00:48.741Z"
   },
   {
    "duration": 8,
    "start_time": "2022-09-17T19:00:48.747Z"
   },
   {
    "duration": 3272,
    "start_time": "2022-09-17T19:00:48.756Z"
   },
   {
    "duration": 4,
    "start_time": "2022-09-17T19:00:52.029Z"
   },
   {
    "duration": 1433,
    "start_time": "2022-09-17T19:00:52.035Z"
   },
   {
    "duration": 40,
    "start_time": "2022-09-17T19:00:53.469Z"
   },
   {
    "duration": 5,
    "start_time": "2022-09-17T19:00:53.511Z"
   },
   {
    "duration": 6,
    "start_time": "2022-09-17T19:00:53.518Z"
   },
   {
    "duration": 8,
    "start_time": "2022-09-17T19:00:53.525Z"
   },
   {
    "duration": 7,
    "start_time": "2022-09-17T19:00:53.534Z"
   },
   {
    "duration": 6,
    "start_time": "2022-09-17T19:00:53.543Z"
   },
   {
    "duration": 6,
    "start_time": "2022-09-17T19:00:53.550Z"
   },
   {
    "duration": 20,
    "start_time": "2022-09-17T19:00:53.558Z"
   },
   {
    "duration": 38777,
    "start_time": "2022-09-17T19:00:53.579Z"
   },
   {
    "duration": 5,
    "start_time": "2022-09-17T19:01:32.357Z"
   },
   {
    "duration": 21,
    "start_time": "2022-09-17T19:01:32.363Z"
   },
   {
    "duration": 0,
    "start_time": "2022-09-17T19:01:32.386Z"
   },
   {
    "duration": 0,
    "start_time": "2022-09-17T19:01:32.386Z"
   },
   {
    "duration": 0,
    "start_time": "2022-09-17T19:01:32.387Z"
   },
   {
    "duration": 0,
    "start_time": "2022-09-17T19:01:32.388Z"
   },
   {
    "duration": 49,
    "start_time": "2022-09-17T19:04:19.368Z"
   },
   {
    "duration": 3,
    "start_time": "2022-09-17T19:04:20.070Z"
   },
   {
    "duration": 4,
    "start_time": "2022-09-17T19:04:26.052Z"
   },
   {
    "duration": 6,
    "start_time": "2022-09-17T19:04:26.480Z"
   },
   {
    "duration": 3,
    "start_time": "2022-09-17T19:04:26.977Z"
   },
   {
    "duration": 2,
    "start_time": "2022-09-17T19:04:27.602Z"
   },
   {
    "duration": 130555,
    "start_time": "2022-09-17T19:04:29.468Z"
   },
   {
    "duration": 3,
    "start_time": "2022-09-17T19:07:40.488Z"
   },
   {
    "duration": 504,
    "start_time": "2022-09-17T19:08:56.940Z"
   },
   {
    "duration": 3387,
    "start_time": "2022-09-17T19:10:53.842Z"
   },
   {
    "duration": 104,
    "start_time": "2022-09-17T19:10:57.231Z"
   },
   {
    "duration": 4,
    "start_time": "2022-09-17T19:10:57.336Z"
   },
   {
    "duration": 121,
    "start_time": "2022-09-17T19:10:57.341Z"
   },
   {
    "duration": 4,
    "start_time": "2022-09-17T19:10:57.463Z"
   },
   {
    "duration": 5,
    "start_time": "2022-09-17T19:10:57.468Z"
   },
   {
    "duration": 5,
    "start_time": "2022-09-17T19:10:57.474Z"
   },
   {
    "duration": 7,
    "start_time": "2022-09-17T19:10:57.509Z"
   },
   {
    "duration": 12,
    "start_time": "2022-09-17T19:10:57.518Z"
   },
   {
    "duration": 9,
    "start_time": "2022-09-17T19:10:57.532Z"
   },
   {
    "duration": 31,
    "start_time": "2022-09-17T19:10:57.542Z"
   },
   {
    "duration": 136,
    "start_time": "2022-09-17T19:10:57.574Z"
   },
   {
    "duration": 15,
    "start_time": "2022-09-17T19:10:57.712Z"
   },
   {
    "duration": 14,
    "start_time": "2022-09-17T19:10:57.730Z"
   },
   {
    "duration": 8,
    "start_time": "2022-09-17T19:10:57.745Z"
   },
   {
    "duration": 7,
    "start_time": "2022-09-17T19:10:57.754Z"
   },
   {
    "duration": 172,
    "start_time": "2022-09-17T19:10:57.762Z"
   },
   {
    "duration": 233,
    "start_time": "2022-09-17T19:10:57.936Z"
   },
   {
    "duration": 21,
    "start_time": "2022-09-17T19:10:58.171Z"
   },
   {
    "duration": 29,
    "start_time": "2022-09-17T19:10:58.193Z"
   },
   {
    "duration": 1,
    "start_time": "2022-09-17T19:10:58.224Z"
   },
   {
    "duration": 25,
    "start_time": "2022-09-17T19:10:58.227Z"
   },
   {
    "duration": 18,
    "start_time": "2022-09-17T19:10:58.254Z"
   },
   {
    "duration": 14,
    "start_time": "2022-09-17T19:10:58.274Z"
   },
   {
    "duration": 4,
    "start_time": "2022-09-17T19:10:58.308Z"
   },
   {
    "duration": 18,
    "start_time": "2022-09-17T19:10:58.313Z"
   },
   {
    "duration": 2,
    "start_time": "2022-09-17T19:10:58.333Z"
   },
   {
    "duration": 37,
    "start_time": "2022-09-17T19:10:58.336Z"
   },
   {
    "duration": 2,
    "start_time": "2022-09-17T19:10:58.375Z"
   },
   {
    "duration": 14,
    "start_time": "2022-09-17T19:10:58.379Z"
   },
   {
    "duration": 5,
    "start_time": "2022-09-17T19:10:58.394Z"
   },
   {
    "duration": 7,
    "start_time": "2022-09-17T19:10:58.400Z"
   },
   {
    "duration": 3243,
    "start_time": "2022-09-17T19:10:58.408Z"
   },
   {
    "duration": 4,
    "start_time": "2022-09-17T19:11:01.653Z"
   },
   {
    "duration": 1450,
    "start_time": "2022-09-17T19:11:01.658Z"
   },
   {
    "duration": 148,
    "start_time": "2022-09-17T19:11:03.110Z"
   },
   {
    "duration": 0,
    "start_time": "2022-09-17T19:11:03.260Z"
   },
   {
    "duration": 0,
    "start_time": "2022-09-17T19:11:03.261Z"
   },
   {
    "duration": 0,
    "start_time": "2022-09-17T19:11:03.262Z"
   },
   {
    "duration": 0,
    "start_time": "2022-09-17T19:11:03.264Z"
   },
   {
    "duration": 0,
    "start_time": "2022-09-17T19:11:03.265Z"
   },
   {
    "duration": 0,
    "start_time": "2022-09-17T19:11:03.265Z"
   },
   {
    "duration": 0,
    "start_time": "2022-09-17T19:11:03.266Z"
   },
   {
    "duration": 0,
    "start_time": "2022-09-17T19:11:03.266Z"
   },
   {
    "duration": 0,
    "start_time": "2022-09-17T19:11:03.267Z"
   },
   {
    "duration": 0,
    "start_time": "2022-09-17T19:11:03.268Z"
   },
   {
    "duration": 0,
    "start_time": "2022-09-17T19:11:03.273Z"
   },
   {
    "duration": 0,
    "start_time": "2022-09-17T19:11:03.274Z"
   },
   {
    "duration": 0,
    "start_time": "2022-09-17T19:11:03.275Z"
   },
   {
    "duration": 0,
    "start_time": "2022-09-17T19:11:03.277Z"
   },
   {
    "duration": 0,
    "start_time": "2022-09-17T19:11:03.278Z"
   },
   {
    "duration": 29,
    "start_time": "2022-09-17T19:17:20.380Z"
   },
   {
    "duration": 18,
    "start_time": "2022-09-17T19:17:40.178Z"
   },
   {
    "duration": 12,
    "start_time": "2022-09-17T19:18:00.912Z"
   },
   {
    "duration": 1372,
    "start_time": "2022-09-17T19:18:57.848Z"
   },
   {
    "duration": 107,
    "start_time": "2022-09-17T19:18:59.222Z"
   },
   {
    "duration": 4,
    "start_time": "2022-09-17T19:18:59.331Z"
   },
   {
    "duration": 122,
    "start_time": "2022-09-17T19:18:59.336Z"
   },
   {
    "duration": 3,
    "start_time": "2022-09-17T19:18:59.460Z"
   },
   {
    "duration": 5,
    "start_time": "2022-09-17T19:18:59.465Z"
   },
   {
    "duration": 7,
    "start_time": "2022-09-17T19:18:59.472Z"
   },
   {
    "duration": 32,
    "start_time": "2022-09-17T19:18:59.480Z"
   },
   {
    "duration": 3,
    "start_time": "2022-09-17T19:18:59.513Z"
   },
   {
    "duration": 8,
    "start_time": "2022-09-17T19:18:59.517Z"
   },
   {
    "duration": 36,
    "start_time": "2022-09-17T19:18:59.527Z"
   },
   {
    "duration": 154,
    "start_time": "2022-09-17T19:18:59.565Z"
   },
   {
    "duration": 16,
    "start_time": "2022-09-17T19:18:59.721Z"
   },
   {
    "duration": 15,
    "start_time": "2022-09-17T19:18:59.740Z"
   },
   {
    "duration": 14,
    "start_time": "2022-09-17T19:18:59.756Z"
   },
   {
    "duration": 6,
    "start_time": "2022-09-17T19:18:59.771Z"
   },
   {
    "duration": 177,
    "start_time": "2022-09-17T19:18:59.779Z"
   },
   {
    "duration": 241,
    "start_time": "2022-09-17T19:18:59.957Z"
   },
   {
    "duration": 27,
    "start_time": "2022-09-17T19:19:00.200Z"
   },
   {
    "duration": 21,
    "start_time": "2022-09-17T19:19:00.229Z"
   },
   {
    "duration": 2,
    "start_time": "2022-09-17T19:19:00.252Z"
   },
   {
    "duration": 23,
    "start_time": "2022-09-17T19:19:00.256Z"
   },
   {
    "duration": 35,
    "start_time": "2022-09-17T19:19:00.280Z"
   },
   {
    "duration": 17,
    "start_time": "2022-09-17T19:19:00.317Z"
   },
   {
    "duration": 16,
    "start_time": "2022-09-17T19:19:00.336Z"
   },
   {
    "duration": 18,
    "start_time": "2022-09-17T19:19:00.353Z"
   },
   {
    "duration": 25,
    "start_time": "2022-09-17T19:19:00.372Z"
   },
   {
    "duration": 30,
    "start_time": "2022-09-17T19:19:00.399Z"
   },
   {
    "duration": 2,
    "start_time": "2022-09-17T19:19:00.430Z"
   },
   {
    "duration": 13,
    "start_time": "2022-09-17T19:19:00.433Z"
   },
   {
    "duration": 19,
    "start_time": "2022-09-17T19:19:00.448Z"
   },
   {
    "duration": 10,
    "start_time": "2022-09-17T19:19:00.469Z"
   },
   {
    "duration": 3278,
    "start_time": "2022-09-17T19:19:00.480Z"
   },
   {
    "duration": 3,
    "start_time": "2022-09-17T19:19:03.759Z"
   },
   {
    "duration": 1525,
    "start_time": "2022-09-17T19:19:03.763Z"
   },
   {
    "duration": 36,
    "start_time": "2022-09-17T19:19:05.290Z"
   },
   {
    "duration": 21,
    "start_time": "2022-09-17T19:19:05.328Z"
   },
   {
    "duration": 12,
    "start_time": "2022-09-17T19:19:05.350Z"
   },
   {
    "duration": 2,
    "start_time": "2022-09-17T19:19:05.364Z"
   },
   {
    "duration": 5,
    "start_time": "2022-09-17T19:19:05.367Z"
   },
   {
    "duration": 6,
    "start_time": "2022-09-17T19:19:05.376Z"
   },
   {
    "duration": 5,
    "start_time": "2022-09-17T19:19:05.384Z"
   },
   {
    "duration": 19,
    "start_time": "2022-09-17T19:19:05.390Z"
   },
   {
    "duration": 4,
    "start_time": "2022-09-17T19:19:05.411Z"
   },
   {
    "duration": 10,
    "start_time": "2022-09-17T19:19:05.417Z"
   },
   {
    "duration": 121453,
    "start_time": "2022-09-17T19:19:05.428Z"
   },
   {
    "duration": 6,
    "start_time": "2022-09-17T19:21:06.883Z"
   },
   {
    "duration": 24,
    "start_time": "2022-09-17T19:21:06.890Z"
   },
   {
    "duration": 6,
    "start_time": "2022-09-17T19:21:06.916Z"
   },
   {
    "duration": 45570,
    "start_time": "2022-09-17T19:21:06.923Z"
   },
   {
    "duration": 2,
    "start_time": "2022-09-17T19:21:52.495Z"
   },
   {
    "duration": 1410,
    "start_time": "2022-09-17T19:22:47.946Z"
   },
   {
    "duration": 104,
    "start_time": "2022-09-17T19:22:49.358Z"
   },
   {
    "duration": 4,
    "start_time": "2022-09-17T19:22:49.464Z"
   },
   {
    "duration": 110,
    "start_time": "2022-09-17T19:22:49.469Z"
   },
   {
    "duration": 4,
    "start_time": "2022-09-17T19:22:49.580Z"
   },
   {
    "duration": 4,
    "start_time": "2022-09-17T19:22:49.609Z"
   },
   {
    "duration": 4,
    "start_time": "2022-09-17T19:22:49.614Z"
   },
   {
    "duration": 11,
    "start_time": "2022-09-17T19:22:49.620Z"
   },
   {
    "duration": 4,
    "start_time": "2022-09-17T19:22:49.632Z"
   },
   {
    "duration": 5,
    "start_time": "2022-09-17T19:22:49.638Z"
   },
   {
    "duration": 27,
    "start_time": "2022-09-17T19:22:49.645Z"
   },
   {
    "duration": 175,
    "start_time": "2022-09-17T19:22:49.673Z"
   },
   {
    "duration": 16,
    "start_time": "2022-09-17T19:22:49.849Z"
   },
   {
    "duration": 14,
    "start_time": "2022-09-17T19:22:49.867Z"
   },
   {
    "duration": 36,
    "start_time": "2022-09-17T19:22:49.882Z"
   },
   {
    "duration": 6,
    "start_time": "2022-09-17T19:22:49.919Z"
   },
   {
    "duration": 160,
    "start_time": "2022-09-17T19:22:49.926Z"
   },
   {
    "duration": 186,
    "start_time": "2022-09-17T19:22:50.087Z"
   },
   {
    "duration": 22,
    "start_time": "2022-09-17T19:22:50.274Z"
   },
   {
    "duration": 30,
    "start_time": "2022-09-17T19:22:50.297Z"
   },
   {
    "duration": 2,
    "start_time": "2022-09-17T19:22:50.329Z"
   },
   {
    "duration": 29,
    "start_time": "2022-09-17T19:22:50.333Z"
   },
   {
    "duration": 17,
    "start_time": "2022-09-17T19:22:50.365Z"
   },
   {
    "duration": 92,
    "start_time": "2022-09-17T19:22:50.384Z"
   },
   {
    "duration": 4,
    "start_time": "2022-09-17T19:22:50.477Z"
   },
   {
    "duration": 11,
    "start_time": "2022-09-17T19:22:50.482Z"
   },
   {
    "duration": 2,
    "start_time": "2022-09-17T19:22:50.494Z"
   },
   {
    "duration": 16,
    "start_time": "2022-09-17T19:22:50.509Z"
   },
   {
    "duration": 2,
    "start_time": "2022-09-17T19:22:50.527Z"
   },
   {
    "duration": 13,
    "start_time": "2022-09-17T19:22:50.530Z"
   },
   {
    "duration": 5,
    "start_time": "2022-09-17T19:22:50.544Z"
   },
   {
    "duration": 6,
    "start_time": "2022-09-17T19:22:50.550Z"
   },
   {
    "duration": 3352,
    "start_time": "2022-09-17T19:22:50.557Z"
   },
   {
    "duration": 4,
    "start_time": "2022-09-17T19:22:53.910Z"
   },
   {
    "duration": 1429,
    "start_time": "2022-09-17T19:22:53.915Z"
   },
   {
    "duration": 24,
    "start_time": "2022-09-17T19:22:55.346Z"
   },
   {
    "duration": 17,
    "start_time": "2022-09-17T19:22:55.372Z"
   },
   {
    "duration": 13,
    "start_time": "2022-09-17T19:22:55.391Z"
   },
   {
    "duration": 2,
    "start_time": "2022-09-17T19:22:55.409Z"
   },
   {
    "duration": 4,
    "start_time": "2022-09-17T19:22:55.413Z"
   },
   {
    "duration": 7,
    "start_time": "2022-09-17T19:22:55.419Z"
   },
   {
    "duration": 8,
    "start_time": "2022-09-17T19:22:55.427Z"
   },
   {
    "duration": 9,
    "start_time": "2022-09-17T19:22:55.437Z"
   },
   {
    "duration": 105,
    "start_time": "2022-09-17T19:22:55.447Z"
   },
   {
    "duration": 5,
    "start_time": "2022-09-17T19:22:55.554Z"
   },
   {
    "duration": 129373,
    "start_time": "2022-09-17T19:22:55.560Z"
   },
   {
    "duration": 5,
    "start_time": "2022-09-17T19:25:04.935Z"
   },
   {
    "duration": 4,
    "start_time": "2022-09-17T19:25:04.942Z"
   },
   {
    "duration": 44962,
    "start_time": "2022-09-17T19:25:04.948Z"
   },
   {
    "duration": 2,
    "start_time": "2022-09-17T19:25:49.912Z"
   },
   {
    "duration": 1772898,
    "start_time": "2022-09-17T19:25:49.915Z"
   },
   {
    "duration": 2,
    "start_time": "2022-09-17T19:55:22.815Z"
   },
   {
    "duration": 895,
    "start_time": "2022-09-17T19:55:22.822Z"
   },
   {
    "duration": 1922,
    "start_time": "2022-09-17T19:55:24.711Z"
   },
   {
    "duration": 9,
    "start_time": "2022-09-18T07:58:42.048Z"
   },
   {
    "duration": 42,
    "start_time": "2022-09-18T07:58:42.477Z"
   },
   {
    "duration": 1691,
    "start_time": "2022-09-18T07:59:39.711Z"
   },
   {
    "duration": 316,
    "start_time": "2022-09-18T07:59:41.404Z"
   },
   {
    "duration": 4,
    "start_time": "2022-09-18T07:59:41.722Z"
   },
   {
    "duration": 134,
    "start_time": "2022-09-18T07:59:41.728Z"
   },
   {
    "duration": 5,
    "start_time": "2022-09-18T07:59:41.864Z"
   },
   {
    "duration": 3,
    "start_time": "2022-09-18T07:59:41.896Z"
   },
   {
    "duration": 8,
    "start_time": "2022-09-18T07:59:41.902Z"
   },
   {
    "duration": 16,
    "start_time": "2022-09-18T07:59:41.912Z"
   },
   {
    "duration": 6,
    "start_time": "2022-09-18T07:59:41.931Z"
   },
   {
    "duration": 6,
    "start_time": "2022-09-18T07:59:41.940Z"
   },
   {
    "duration": 56,
    "start_time": "2022-09-18T07:59:41.948Z"
   },
   {
    "duration": 145,
    "start_time": "2022-09-18T07:59:42.005Z"
   },
   {
    "duration": 44,
    "start_time": "2022-09-18T07:59:42.152Z"
   },
   {
    "duration": 16,
    "start_time": "2022-09-18T07:59:42.200Z"
   },
   {
    "duration": 10,
    "start_time": "2022-09-18T07:59:42.218Z"
   },
   {
    "duration": 8,
    "start_time": "2022-09-18T07:59:42.229Z"
   },
   {
    "duration": 196,
    "start_time": "2022-09-18T07:59:42.238Z"
   },
   {
    "duration": 280,
    "start_time": "2022-09-18T07:59:42.436Z"
   },
   {
    "duration": 27,
    "start_time": "2022-09-18T07:59:42.718Z"
   },
   {
    "duration": 26,
    "start_time": "2022-09-18T07:59:42.747Z"
   },
   {
    "duration": 3,
    "start_time": "2022-09-18T07:59:42.795Z"
   },
   {
    "duration": 29,
    "start_time": "2022-09-18T07:59:42.799Z"
   },
   {
    "duration": 27,
    "start_time": "2022-09-18T07:59:42.830Z"
   },
   {
    "duration": 38,
    "start_time": "2022-09-18T07:59:42.859Z"
   },
   {
    "duration": 5,
    "start_time": "2022-09-18T07:59:42.899Z"
   },
   {
    "duration": 10,
    "start_time": "2022-09-18T07:59:42.906Z"
   },
   {
    "duration": 4,
    "start_time": "2022-09-18T07:59:42.918Z"
   },
   {
    "duration": 15,
    "start_time": "2022-09-18T07:59:42.924Z"
   },
   {
    "duration": 2,
    "start_time": "2022-09-18T07:59:42.941Z"
   },
   {
    "duration": 18,
    "start_time": "2022-09-18T07:59:42.945Z"
   },
   {
    "duration": 33,
    "start_time": "2022-09-18T07:59:42.965Z"
   },
   {
    "duration": 8,
    "start_time": "2022-09-18T07:59:43.000Z"
   },
   {
    "duration": 4114,
    "start_time": "2022-09-18T07:59:43.009Z"
   },
   {
    "duration": 5,
    "start_time": "2022-09-18T07:59:47.126Z"
   },
   {
    "duration": 1959,
    "start_time": "2022-09-18T07:59:47.133Z"
   },
   {
    "duration": 28,
    "start_time": "2022-09-18T07:59:49.094Z"
   },
   {
    "duration": 25,
    "start_time": "2022-09-18T07:59:49.125Z"
   },
   {
    "duration": 16,
    "start_time": "2022-09-18T07:59:49.152Z"
   },
   {
    "duration": 2540,
    "start_time": "2022-09-18T07:59:49.195Z"
   },
   {
    "duration": 3,
    "start_time": "2022-09-18T07:59:51.737Z"
   },
   {
    "duration": 4,
    "start_time": "2022-09-18T07:59:51.743Z"
   },
   {
    "duration": 6,
    "start_time": "2022-09-18T07:59:51.748Z"
   },
   {
    "duration": 13,
    "start_time": "2022-09-18T07:59:51.756Z"
   },
   {
    "duration": 30,
    "start_time": "2022-09-18T08:17:14.661Z"
   },
   {
    "duration": 4,
    "start_time": "2022-09-18T08:25:59.613Z"
   },
   {
    "duration": 5,
    "start_time": "2022-09-18T08:26:16.506Z"
   },
   {
    "duration": 127,
    "start_time": "2022-09-18T08:26:16.513Z"
   },
   {
    "duration": 6,
    "start_time": "2022-09-18T08:26:16.641Z"
   },
   {
    "duration": 183,
    "start_time": "2022-09-18T08:26:16.649Z"
   },
   {
    "duration": 5,
    "start_time": "2022-09-18T08:26:16.835Z"
   },
   {
    "duration": 12,
    "start_time": "2022-09-18T08:26:16.842Z"
   },
   {
    "duration": 13,
    "start_time": "2022-09-18T08:26:16.856Z"
   },
   {
    "duration": 28,
    "start_time": "2022-09-18T08:26:16.871Z"
   },
   {
    "duration": 5,
    "start_time": "2022-09-18T08:26:16.900Z"
   },
   {
    "duration": 7,
    "start_time": "2022-09-18T08:26:16.907Z"
   },
   {
    "duration": 31,
    "start_time": "2022-09-18T08:26:16.915Z"
   },
   {
    "duration": 187,
    "start_time": "2022-09-18T08:26:16.948Z"
   },
   {
    "duration": 17,
    "start_time": "2022-09-18T08:26:17.138Z"
   },
   {
    "duration": 39,
    "start_time": "2022-09-18T08:26:17.157Z"
   },
   {
    "duration": 11,
    "start_time": "2022-09-18T08:26:17.197Z"
   },
   {
    "duration": 7,
    "start_time": "2022-09-18T08:26:17.210Z"
   },
   {
    "duration": 179,
    "start_time": "2022-09-18T08:26:17.218Z"
   },
   {
    "duration": 207,
    "start_time": "2022-09-18T08:26:17.398Z"
   },
   {
    "duration": 25,
    "start_time": "2022-09-18T08:26:17.607Z"
   },
   {
    "duration": 28,
    "start_time": "2022-09-18T08:26:17.634Z"
   },
   {
    "duration": 3,
    "start_time": "2022-09-18T08:26:17.664Z"
   },
   {
    "duration": 25,
    "start_time": "2022-09-18T08:26:17.696Z"
   },
   {
    "duration": 20,
    "start_time": "2022-09-18T08:26:17.722Z"
   },
   {
    "duration": 18,
    "start_time": "2022-09-18T08:26:17.744Z"
   },
   {
    "duration": 4,
    "start_time": "2022-09-18T08:26:17.763Z"
   },
   {
    "duration": 35,
    "start_time": "2022-09-18T08:26:17.768Z"
   },
   {
    "duration": 3,
    "start_time": "2022-09-18T08:26:17.805Z"
   },
   {
    "duration": 16,
    "start_time": "2022-09-18T08:26:17.810Z"
   },
   {
    "duration": 3,
    "start_time": "2022-09-18T08:26:17.827Z"
   },
   {
    "duration": 16,
    "start_time": "2022-09-18T08:26:17.831Z"
   },
   {
    "duration": 5,
    "start_time": "2022-09-18T08:26:17.848Z"
   },
   {
    "duration": 7,
    "start_time": "2022-09-18T08:26:17.855Z"
   },
   {
    "duration": 3773,
    "start_time": "2022-09-18T08:26:17.863Z"
   },
   {
    "duration": 27,
    "start_time": "2022-09-18T08:26:21.637Z"
   },
   {
    "duration": 37,
    "start_time": "2022-09-18T08:26:21.666Z"
   },
   {
    "duration": 15,
    "start_time": "2022-09-18T08:26:21.705Z"
   },
   {
    "duration": 4,
    "start_time": "2022-09-18T08:26:21.724Z"
   },
   {
    "duration": 2619,
    "start_time": "2022-09-18T08:26:21.729Z"
   },
   {
    "duration": 4,
    "start_time": "2022-09-18T08:26:24.349Z"
   },
   {
    "duration": 10,
    "start_time": "2022-09-18T08:26:24.355Z"
   },
   {
    "duration": 12,
    "start_time": "2022-09-18T08:26:24.366Z"
   },
   {
    "duration": 15,
    "start_time": "2022-09-18T08:26:24.380Z"
   },
   {
    "duration": 10,
    "start_time": "2022-09-18T08:26:24.397Z"
   },
   {
    "duration": 10,
    "start_time": "2022-09-18T08:26:24.409Z"
   },
   {
    "duration": 198561,
    "start_time": "2022-09-18T08:26:24.420Z"
   },
   {
    "duration": 5,
    "start_time": "2022-09-18T08:39:23.771Z"
   },
   {
    "duration": 103,
    "start_time": "2022-09-18T08:39:23.778Z"
   },
   {
    "duration": 4,
    "start_time": "2022-09-18T08:39:23.882Z"
   },
   {
    "duration": 161,
    "start_time": "2022-09-18T08:39:23.888Z"
   },
   {
    "duration": 4,
    "start_time": "2022-09-18T08:39:24.051Z"
   },
   {
    "duration": 4,
    "start_time": "2022-09-18T08:39:24.057Z"
   },
   {
    "duration": 5,
    "start_time": "2022-09-18T08:39:24.063Z"
   },
   {
    "duration": 30,
    "start_time": "2022-09-18T08:39:24.069Z"
   },
   {
    "duration": 4,
    "start_time": "2022-09-18T08:39:24.101Z"
   },
   {
    "duration": 7,
    "start_time": "2022-09-18T08:39:24.107Z"
   },
   {
    "duration": 37,
    "start_time": "2022-09-18T08:39:24.115Z"
   },
   {
    "duration": 188,
    "start_time": "2022-09-18T08:39:24.153Z"
   },
   {
    "duration": 18,
    "start_time": "2022-09-18T08:39:24.343Z"
   },
   {
    "duration": 47,
    "start_time": "2022-09-18T08:39:24.365Z"
   },
   {
    "duration": 11,
    "start_time": "2022-09-18T08:39:24.414Z"
   },
   {
    "duration": 8,
    "start_time": "2022-09-18T08:39:24.427Z"
   },
   {
    "duration": 185,
    "start_time": "2022-09-18T08:39:24.436Z"
   },
   {
    "duration": 232,
    "start_time": "2022-09-18T08:39:24.623Z"
   },
   {
    "duration": 50,
    "start_time": "2022-09-18T08:39:24.857Z"
   },
   {
    "duration": 26,
    "start_time": "2022-09-18T08:39:24.909Z"
   },
   {
    "duration": 2,
    "start_time": "2022-09-18T08:39:24.936Z"
   },
   {
    "duration": 26,
    "start_time": "2022-09-18T08:39:24.940Z"
   },
   {
    "duration": 41,
    "start_time": "2022-09-18T08:39:24.968Z"
   },
   {
    "duration": 18,
    "start_time": "2022-09-18T08:39:25.011Z"
   },
   {
    "duration": 5,
    "start_time": "2022-09-18T08:39:25.031Z"
   },
   {
    "duration": 8,
    "start_time": "2022-09-18T08:39:25.037Z"
   },
   {
    "duration": 4,
    "start_time": "2022-09-18T08:39:25.046Z"
   },
   {
    "duration": 20,
    "start_time": "2022-09-18T08:39:25.052Z"
   },
   {
    "duration": 4,
    "start_time": "2022-09-18T08:39:25.095Z"
   },
   {
    "duration": 24,
    "start_time": "2022-09-18T08:39:25.102Z"
   },
   {
    "duration": 5,
    "start_time": "2022-09-18T08:39:25.128Z"
   },
   {
    "duration": 7,
    "start_time": "2022-09-18T08:39:25.134Z"
   },
   {
    "duration": 4327,
    "start_time": "2022-09-18T08:39:25.143Z"
   },
   {
    "duration": 43,
    "start_time": "2022-09-18T08:39:29.472Z"
   },
   {
    "duration": 29,
    "start_time": "2022-09-18T08:39:29.517Z"
   },
   {
    "duration": 13,
    "start_time": "2022-09-18T08:39:29.548Z"
   },
   {
    "duration": 3,
    "start_time": "2022-09-18T08:39:29.563Z"
   },
   {
    "duration": 2342,
    "start_time": "2022-09-18T08:39:29.568Z"
   },
   {
    "duration": 4,
    "start_time": "2022-09-18T08:39:31.912Z"
   },
   {
    "duration": 13,
    "start_time": "2022-09-18T08:39:31.918Z"
   },
   {
    "duration": 8,
    "start_time": "2022-09-18T08:39:31.935Z"
   },
   {
    "duration": 11,
    "start_time": "2022-09-18T08:39:31.945Z"
   },
   {
    "duration": 4,
    "start_time": "2022-09-18T08:39:31.957Z"
   },
   {
    "duration": 5,
    "start_time": "2022-09-18T08:39:31.964Z"
   },
   {
    "duration": 250463,
    "start_time": "2022-09-18T08:39:31.971Z"
   },
   {
    "duration": 5,
    "start_time": "2022-09-18T08:53:43.753Z"
   },
   {
    "duration": 2115,
    "start_time": "2022-09-18T08:53:44.258Z"
   },
   {
    "duration": 5,
    "start_time": "2022-09-18T08:55:01.135Z"
   },
   {
    "duration": 111,
    "start_time": "2022-09-18T08:55:01.142Z"
   },
   {
    "duration": 4,
    "start_time": "2022-09-18T08:55:01.255Z"
   },
   {
    "duration": 174,
    "start_time": "2022-09-18T08:55:01.260Z"
   },
   {
    "duration": 4,
    "start_time": "2022-09-18T08:55:01.436Z"
   },
   {
    "duration": 52,
    "start_time": "2022-09-18T08:55:01.441Z"
   },
   {
    "duration": 6,
    "start_time": "2022-09-18T08:55:01.495Z"
   },
   {
    "duration": 15,
    "start_time": "2022-09-18T08:55:01.503Z"
   },
   {
    "duration": 91,
    "start_time": "2022-09-18T08:55:01.520Z"
   },
   {
    "duration": 23,
    "start_time": "2022-09-18T08:55:01.613Z"
   },
   {
    "duration": 45,
    "start_time": "2022-09-18T08:55:01.638Z"
   },
   {
    "duration": 174,
    "start_time": "2022-09-18T08:55:01.685Z"
   },
   {
    "duration": 47,
    "start_time": "2022-09-18T08:55:01.860Z"
   },
   {
    "duration": 17,
    "start_time": "2022-09-18T08:55:01.910Z"
   },
   {
    "duration": 14,
    "start_time": "2022-09-18T08:55:01.929Z"
   },
   {
    "duration": 8,
    "start_time": "2022-09-18T08:55:01.945Z"
   },
   {
    "duration": 191,
    "start_time": "2022-09-18T08:55:01.955Z"
   },
   {
    "duration": 208,
    "start_time": "2022-09-18T08:55:02.147Z"
   },
   {
    "duration": 25,
    "start_time": "2022-09-18T08:55:02.357Z"
   },
   {
    "duration": 35,
    "start_time": "2022-09-18T08:55:02.383Z"
   },
   {
    "duration": 2,
    "start_time": "2022-09-18T08:55:02.420Z"
   },
   {
    "duration": 29,
    "start_time": "2022-09-18T08:55:02.424Z"
   },
   {
    "duration": 21,
    "start_time": "2022-09-18T08:55:02.454Z"
   },
   {
    "duration": 15,
    "start_time": "2022-09-18T08:55:02.495Z"
   },
   {
    "duration": 4,
    "start_time": "2022-09-18T08:55:02.512Z"
   },
   {
    "duration": 14,
    "start_time": "2022-09-18T08:55:02.517Z"
   },
   {
    "duration": 3,
    "start_time": "2022-09-18T08:55:02.533Z"
   },
   {
    "duration": 25,
    "start_time": "2022-09-18T08:55:02.537Z"
   },
   {
    "duration": 3,
    "start_time": "2022-09-18T08:55:02.563Z"
   },
   {
    "duration": 36,
    "start_time": "2022-09-18T08:55:02.568Z"
   },
   {
    "duration": 8,
    "start_time": "2022-09-18T08:55:02.606Z"
   },
   {
    "duration": 8,
    "start_time": "2022-09-18T08:55:02.615Z"
   },
   {
    "duration": 4120,
    "start_time": "2022-09-18T08:55:02.625Z"
   },
   {
    "duration": 31,
    "start_time": "2022-09-18T08:55:06.748Z"
   },
   {
    "duration": 52,
    "start_time": "2022-09-18T08:55:06.781Z"
   },
   {
    "duration": 24,
    "start_time": "2022-09-18T08:55:06.834Z"
   },
   {
    "duration": 12,
    "start_time": "2022-09-18T08:55:06.860Z"
   },
   {
    "duration": 2379,
    "start_time": "2022-09-18T08:55:06.874Z"
   },
   {
    "duration": 4,
    "start_time": "2022-09-18T08:55:09.255Z"
   },
   {
    "duration": 68,
    "start_time": "2022-09-18T09:06:13.056Z"
   },
   {
    "duration": 1493,
    "start_time": "2022-09-18T09:08:58.224Z"
   },
   {
    "duration": 105,
    "start_time": "2022-09-18T09:08:59.719Z"
   },
   {
    "duration": 4,
    "start_time": "2022-09-18T09:08:59.826Z"
   },
   {
    "duration": 130,
    "start_time": "2022-09-18T09:08:59.831Z"
   },
   {
    "duration": 4,
    "start_time": "2022-09-18T09:08:59.963Z"
   },
   {
    "duration": 3,
    "start_time": "2022-09-18T09:08:59.996Z"
   },
   {
    "duration": 13,
    "start_time": "2022-09-18T09:09:00.000Z"
   },
   {
    "duration": 16,
    "start_time": "2022-09-18T09:09:00.015Z"
   },
   {
    "duration": 17,
    "start_time": "2022-09-18T09:09:00.033Z"
   },
   {
    "duration": 14,
    "start_time": "2022-09-18T09:09:00.051Z"
   },
   {
    "duration": 36,
    "start_time": "2022-09-18T09:09:00.067Z"
   },
   {
    "duration": 150,
    "start_time": "2022-09-18T09:09:00.104Z"
   },
   {
    "duration": 42,
    "start_time": "2022-09-18T09:09:00.255Z"
   },
   {
    "duration": 16,
    "start_time": "2022-09-18T09:09:00.300Z"
   },
   {
    "duration": 9,
    "start_time": "2022-09-18T09:09:00.318Z"
   },
   {
    "duration": 7,
    "start_time": "2022-09-18T09:09:00.329Z"
   },
   {
    "duration": 196,
    "start_time": "2022-09-18T09:09:00.338Z"
   },
   {
    "duration": 289,
    "start_time": "2022-09-18T09:09:00.535Z"
   },
   {
    "duration": 29,
    "start_time": "2022-09-18T09:09:00.826Z"
   },
   {
    "duration": 42,
    "start_time": "2022-09-18T09:09:00.857Z"
   },
   {
    "duration": 3,
    "start_time": "2022-09-18T09:09:00.900Z"
   },
   {
    "duration": 29,
    "start_time": "2022-09-18T09:09:00.904Z"
   },
   {
    "duration": 21,
    "start_time": "2022-09-18T09:09:00.935Z"
   },
   {
    "duration": 38,
    "start_time": "2022-09-18T09:09:00.957Z"
   },
   {
    "duration": 4,
    "start_time": "2022-09-18T09:09:00.997Z"
   },
   {
    "duration": 10,
    "start_time": "2022-09-18T09:09:01.003Z"
   },
   {
    "duration": 3,
    "start_time": "2022-09-18T09:09:01.015Z"
   },
   {
    "duration": 22,
    "start_time": "2022-09-18T09:09:01.020Z"
   },
   {
    "duration": 2,
    "start_time": "2022-09-18T09:09:01.044Z"
   },
   {
    "duration": 18,
    "start_time": "2022-09-18T09:09:01.048Z"
   },
   {
    "duration": 27,
    "start_time": "2022-09-18T09:09:01.068Z"
   },
   {
    "duration": 5,
    "start_time": "2022-09-18T09:09:01.097Z"
   },
   {
    "duration": 3913,
    "start_time": "2022-09-18T09:09:01.103Z"
   },
   {
    "duration": 28,
    "start_time": "2022-09-18T09:09:05.018Z"
   },
   {
    "duration": 31,
    "start_time": "2022-09-18T09:09:05.048Z"
   },
   {
    "duration": 23,
    "start_time": "2022-09-18T09:09:05.081Z"
   },
   {
    "duration": 4,
    "start_time": "2022-09-18T09:09:05.106Z"
   },
   {
    "duration": 2493,
    "start_time": "2022-09-18T09:09:05.112Z"
   },
   {
    "duration": 4,
    "start_time": "2022-09-18T09:09:07.607Z"
   },
   {
    "duration": 6,
    "start_time": "2022-09-18T09:09:07.613Z"
   },
   {
    "duration": 7,
    "start_time": "2022-09-18T09:09:07.623Z"
   },
   {
    "duration": 7,
    "start_time": "2022-09-18T09:09:07.632Z"
   },
   {
    "duration": 3,
    "start_time": "2022-09-18T09:09:07.641Z"
   },
   {
    "duration": 12,
    "start_time": "2022-09-18T09:09:07.645Z"
   },
   {
    "duration": 328378,
    "start_time": "2022-09-18T09:09:07.659Z"
   },
   {
    "duration": 6,
    "start_time": "2022-09-18T09:14:36.039Z"
   },
   {
    "duration": 77734,
    "start_time": "2022-09-18T09:14:36.047Z"
   },
   {
    "duration": 3,
    "start_time": "2022-09-18T09:15:53.782Z"
   },
   {
    "duration": 282204,
    "start_time": "2022-09-18T09:15:53.795Z"
   },
   {
    "duration": 133,
    "start_time": "2022-09-18T09:20:36.001Z"
   },
   {
    "duration": 5,
    "start_time": "2022-09-18T09:25:49.019Z"
   },
   {
    "duration": 14,
    "start_time": "2022-09-18T09:25:49.486Z"
   },
   {
    "duration": 5,
    "start_time": "2022-09-18T09:26:20.550Z"
   },
   {
    "duration": 695,
    "start_time": "2022-09-18T09:26:21.052Z"
   },
   {
    "duration": 1502,
    "start_time": "2022-09-18T09:29:52.331Z"
   },
   {
    "duration": 106,
    "start_time": "2022-09-18T09:29:53.835Z"
   },
   {
    "duration": 4,
    "start_time": "2022-09-18T09:29:53.943Z"
   },
   {
    "duration": 192,
    "start_time": "2022-09-18T09:29:53.949Z"
   },
   {
    "duration": 4,
    "start_time": "2022-09-18T09:29:54.143Z"
   },
   {
    "duration": 11,
    "start_time": "2022-09-18T09:29:54.149Z"
   },
   {
    "duration": 8,
    "start_time": "2022-09-18T09:29:54.161Z"
   },
   {
    "duration": 28,
    "start_time": "2022-09-18T09:29:54.171Z"
   },
   {
    "duration": 7,
    "start_time": "2022-09-18T09:29:54.201Z"
   },
   {
    "duration": 11,
    "start_time": "2022-09-18T09:29:54.210Z"
   },
   {
    "duration": 40,
    "start_time": "2022-09-18T09:29:54.223Z"
   },
   {
    "duration": 155,
    "start_time": "2022-09-18T09:29:54.264Z"
   },
   {
    "duration": 20,
    "start_time": "2022-09-18T09:29:54.420Z"
   },
   {
    "duration": 16,
    "start_time": "2022-09-18T09:29:54.441Z"
   },
   {
    "duration": 43,
    "start_time": "2022-09-18T09:29:54.459Z"
   },
   {
    "duration": 7,
    "start_time": "2022-09-18T09:29:54.504Z"
   },
   {
    "duration": 195,
    "start_time": "2022-09-18T09:29:54.513Z"
   },
   {
    "duration": 282,
    "start_time": "2022-09-18T09:29:54.710Z"
   },
   {
    "duration": 26,
    "start_time": "2022-09-18T09:29:54.995Z"
   },
   {
    "duration": 24,
    "start_time": "2022-09-18T09:29:55.022Z"
   },
   {
    "duration": 2,
    "start_time": "2022-09-18T09:29:55.048Z"
   },
   {
    "duration": 48,
    "start_time": "2022-09-18T09:29:55.052Z"
   },
   {
    "duration": 21,
    "start_time": "2022-09-18T09:29:55.101Z"
   },
   {
    "duration": 19,
    "start_time": "2022-09-18T09:29:55.123Z"
   },
   {
    "duration": 4,
    "start_time": "2022-09-18T09:29:55.144Z"
   },
   {
    "duration": 17,
    "start_time": "2022-09-18T09:29:55.150Z"
   },
   {
    "duration": 2,
    "start_time": "2022-09-18T09:29:55.169Z"
   },
   {
    "duration": 16,
    "start_time": "2022-09-18T09:29:55.194Z"
   },
   {
    "duration": 3,
    "start_time": "2022-09-18T09:29:55.211Z"
   },
   {
    "duration": 23,
    "start_time": "2022-09-18T09:29:55.215Z"
   },
   {
    "duration": 5,
    "start_time": "2022-09-18T09:29:55.240Z"
   },
   {
    "duration": 8,
    "start_time": "2022-09-18T09:29:55.247Z"
   },
   {
    "duration": 4029,
    "start_time": "2022-09-18T09:29:55.257Z"
   },
   {
    "duration": 33,
    "start_time": "2022-09-18T09:29:59.287Z"
   },
   {
    "duration": 30,
    "start_time": "2022-09-18T09:29:59.322Z"
   },
   {
    "duration": 17,
    "start_time": "2022-09-18T09:29:59.354Z"
   },
   {
    "duration": 23,
    "start_time": "2022-09-18T09:29:59.373Z"
   },
   {
    "duration": 2471,
    "start_time": "2022-09-18T09:29:59.398Z"
   },
   {
    "duration": 5,
    "start_time": "2022-09-18T09:30:01.870Z"
   },
   {
    "duration": 8,
    "start_time": "2022-09-18T09:30:01.877Z"
   },
   {
    "duration": 16,
    "start_time": "2022-09-18T09:30:01.886Z"
   },
   {
    "duration": 17,
    "start_time": "2022-09-18T09:30:01.903Z"
   },
   {
    "duration": 9,
    "start_time": "2022-09-18T09:30:01.922Z"
   },
   {
    "duration": 9,
    "start_time": "2022-09-18T09:30:01.933Z"
   },
   {
    "duration": 245,
    "start_time": "2022-09-18T09:30:01.944Z"
   },
   {
    "duration": 79237,
    "start_time": "2022-09-18T09:30:02.191Z"
   },
   {
    "duration": 3,
    "start_time": "2022-09-18T09:31:21.430Z"
   },
   {
    "duration": 134,
    "start_time": "2022-09-18T09:31:21.435Z"
   },
   {
    "duration": 6,
    "start_time": "2022-09-18T09:31:21.570Z"
   },
   {
    "duration": 16,
    "start_time": "2022-09-18T09:31:21.577Z"
   },
   {
    "duration": 6,
    "start_time": "2022-09-18T09:33:03.775Z"
   },
   {
    "duration": 10,
    "start_time": "2022-09-18T09:33:04.079Z"
   },
   {
    "duration": 6,
    "start_time": "2022-09-18T09:33:16.172Z"
   },
   {
    "duration": 14,
    "start_time": "2022-09-18T09:33:16.635Z"
   },
   {
    "duration": 5,
    "start_time": "2022-09-18T09:33:59.333Z"
   },
   {
    "duration": 15,
    "start_time": "2022-09-18T09:33:59.610Z"
   },
   {
    "duration": 1533,
    "start_time": "2022-09-18T09:35:34.803Z"
   },
   {
    "duration": 106,
    "start_time": "2022-09-18T09:35:36.338Z"
   },
   {
    "duration": 4,
    "start_time": "2022-09-18T09:35:36.446Z"
   },
   {
    "duration": 162,
    "start_time": "2022-09-18T09:35:36.453Z"
   },
   {
    "duration": 5,
    "start_time": "2022-09-18T09:35:36.617Z"
   },
   {
    "duration": 9,
    "start_time": "2022-09-18T09:35:36.625Z"
   },
   {
    "duration": 15,
    "start_time": "2022-09-18T09:35:36.636Z"
   },
   {
    "duration": 13,
    "start_time": "2022-09-18T09:35:36.653Z"
   },
   {
    "duration": 13,
    "start_time": "2022-09-18T09:35:36.668Z"
   },
   {
    "duration": 6,
    "start_time": "2022-09-18T09:35:36.698Z"
   },
   {
    "duration": 46,
    "start_time": "2022-09-18T09:35:36.706Z"
   },
   {
    "duration": 201,
    "start_time": "2022-09-18T09:35:36.755Z"
   },
   {
    "duration": 48,
    "start_time": "2022-09-18T09:35:36.958Z"
   },
   {
    "duration": 18,
    "start_time": "2022-09-18T09:35:37.008Z"
   },
   {
    "duration": 11,
    "start_time": "2022-09-18T09:35:37.028Z"
   },
   {
    "duration": 11,
    "start_time": "2022-09-18T09:35:37.041Z"
   },
   {
    "duration": 207,
    "start_time": "2022-09-18T09:35:37.054Z"
   },
   {
    "duration": 287,
    "start_time": "2022-09-18T09:35:37.262Z"
   },
   {
    "duration": 26,
    "start_time": "2022-09-18T09:35:37.551Z"
   },
   {
    "duration": 40,
    "start_time": "2022-09-18T09:35:37.579Z"
   },
   {
    "duration": 2,
    "start_time": "2022-09-18T09:35:37.621Z"
   },
   {
    "duration": 28,
    "start_time": "2022-09-18T09:35:37.625Z"
   },
   {
    "duration": 40,
    "start_time": "2022-09-18T09:35:37.655Z"
   },
   {
    "duration": 17,
    "start_time": "2022-09-18T09:35:37.696Z"
   },
   {
    "duration": 4,
    "start_time": "2022-09-18T09:35:37.715Z"
   },
   {
    "duration": 10,
    "start_time": "2022-09-18T09:35:37.721Z"
   },
   {
    "duration": 2,
    "start_time": "2022-09-18T09:35:37.733Z"
   },
   {
    "duration": 14,
    "start_time": "2022-09-18T09:35:37.739Z"
   },
   {
    "duration": 3,
    "start_time": "2022-09-18T09:35:37.754Z"
   },
   {
    "duration": 49,
    "start_time": "2022-09-18T09:35:37.758Z"
   },
   {
    "duration": 6,
    "start_time": "2022-09-18T09:35:37.808Z"
   },
   {
    "duration": 7,
    "start_time": "2022-09-18T09:35:37.815Z"
   },
   {
    "duration": 3999,
    "start_time": "2022-09-18T09:35:37.824Z"
   },
   {
    "duration": 28,
    "start_time": "2022-09-18T09:35:41.825Z"
   },
   {
    "duration": 42,
    "start_time": "2022-09-18T09:35:41.855Z"
   },
   {
    "duration": 12,
    "start_time": "2022-09-18T09:35:41.899Z"
   },
   {
    "duration": 3,
    "start_time": "2022-09-18T09:35:41.913Z"
   },
   {
    "duration": 2502,
    "start_time": "2022-09-18T09:35:41.918Z"
   },
   {
    "duration": 4,
    "start_time": "2022-09-18T09:35:44.423Z"
   },
   {
    "duration": 12,
    "start_time": "2022-09-18T09:35:44.429Z"
   },
   {
    "duration": 7,
    "start_time": "2022-09-18T09:35:44.443Z"
   },
   {
    "duration": 7,
    "start_time": "2022-09-18T09:35:44.452Z"
   },
   {
    "duration": 3,
    "start_time": "2022-09-18T09:35:44.461Z"
   },
   {
    "duration": 4,
    "start_time": "2022-09-18T09:35:44.466Z"
   },
   {
    "duration": 153730,
    "start_time": "2022-09-18T09:35:44.471Z"
   },
   {
    "duration": 77011,
    "start_time": "2022-09-18T09:38:18.203Z"
   },
   {
    "duration": 3,
    "start_time": "2022-09-18T09:39:35.215Z"
   },
   {
    "duration": 315583,
    "start_time": "2022-09-18T09:39:35.220Z"
   },
   {
    "duration": 6,
    "start_time": "2022-09-18T09:44:50.805Z"
   },
   {
    "duration": 455,
    "start_time": "2022-09-18T09:44:50.813Z"
   },
   {
    "duration": 51,
    "start_time": "2022-09-18T13:29:41.853Z"
   },
   {
    "duration": 66,
    "start_time": "2022-09-18T14:12:54.553Z"
   },
   {
    "duration": 4245,
    "start_time": "2022-09-18T14:13:09.484Z"
   },
   {
    "duration": 67,
    "start_time": "2022-09-18T14:13:42.854Z"
   },
   {
    "duration": 267,
    "start_time": "2022-09-18T14:13:54.352Z"
   },
   {
    "duration": 305,
    "start_time": "2022-09-18T14:13:54.621Z"
   },
   {
    "duration": 3,
    "start_time": "2022-09-18T14:13:54.928Z"
   },
   {
    "duration": 117,
    "start_time": "2022-09-18T14:13:54.933Z"
   },
   {
    "duration": 3,
    "start_time": "2022-09-18T14:13:55.052Z"
   },
   {
    "duration": 11,
    "start_time": "2022-09-18T14:13:55.056Z"
   },
   {
    "duration": 5,
    "start_time": "2022-09-18T14:13:55.068Z"
   },
   {
    "duration": 13,
    "start_time": "2022-09-18T14:13:55.074Z"
   },
   {
    "duration": 21,
    "start_time": "2022-09-18T14:13:55.088Z"
   },
   {
    "duration": 3,
    "start_time": "2022-09-18T14:13:55.111Z"
   },
   {
    "duration": 29,
    "start_time": "2022-09-18T14:13:55.116Z"
   },
   {
    "duration": 120,
    "start_time": "2022-09-18T14:13:55.147Z"
   },
   {
    "duration": 47,
    "start_time": "2022-09-18T14:13:55.269Z"
   },
   {
    "duration": 16,
    "start_time": "2022-09-18T14:13:55.317Z"
   },
   {
    "duration": 10,
    "start_time": "2022-09-18T14:13:55.335Z"
   },
   {
    "duration": 7,
    "start_time": "2022-09-18T14:13:55.346Z"
   },
   {
    "duration": 175,
    "start_time": "2022-09-18T14:13:55.354Z"
   },
   {
    "duration": 187,
    "start_time": "2022-09-18T14:13:55.531Z"
   },
   {
    "duration": 22,
    "start_time": "2022-09-18T14:13:55.719Z"
   },
   {
    "duration": 21,
    "start_time": "2022-09-18T14:13:55.742Z"
   },
   {
    "duration": 2,
    "start_time": "2022-09-18T14:13:55.764Z"
   },
   {
    "duration": 46,
    "start_time": "2022-09-18T14:13:55.768Z"
   },
   {
    "duration": 17,
    "start_time": "2022-09-18T14:13:55.816Z"
   },
   {
    "duration": 17,
    "start_time": "2022-09-18T14:13:55.834Z"
   },
   {
    "duration": 4,
    "start_time": "2022-09-18T14:13:55.853Z"
   },
   {
    "duration": 16,
    "start_time": "2022-09-18T14:13:55.859Z"
   },
   {
    "duration": 3,
    "start_time": "2022-09-18T14:13:55.876Z"
   },
   {
    "duration": 32,
    "start_time": "2022-09-18T14:13:55.881Z"
   },
   {
    "duration": 2,
    "start_time": "2022-09-18T14:13:55.915Z"
   },
   {
    "duration": 13,
    "start_time": "2022-09-18T14:13:55.918Z"
   },
   {
    "duration": 5,
    "start_time": "2022-09-18T14:13:55.932Z"
   },
   {
    "duration": 5,
    "start_time": "2022-09-18T14:13:55.938Z"
   },
   {
    "duration": 3353,
    "start_time": "2022-09-18T14:13:55.944Z"
   },
   {
    "duration": 2120,
    "start_time": "2022-09-18T14:13:59.299Z"
   },
   {
    "duration": 1120,
    "start_time": "2022-09-18T14:14:03.517Z"
   },
   {
    "duration": 2845,
    "start_time": "2022-09-18T14:15:36.715Z"
   },
   {
    "duration": 3,
    "start_time": "2022-09-18T14:16:57.351Z"
   },
   {
    "duration": 67,
    "start_time": "2022-09-18T14:27:32.013Z"
   },
   {
    "duration": 2825,
    "start_time": "2022-09-18T14:32:54.502Z"
   },
   {
    "duration": 2027,
    "start_time": "2022-09-18T14:33:14.195Z"
   },
   {
    "duration": 3055,
    "start_time": "2022-09-18T14:35:13.277Z"
   },
   {
    "duration": 2796,
    "start_time": "2022-09-18T14:43:31.403Z"
   },
   {
    "duration": 2926,
    "start_time": "2022-09-18T14:44:08.989Z"
   },
   {
    "duration": 1364,
    "start_time": "2022-09-18T14:44:26.669Z"
   },
   {
    "duration": 1431,
    "start_time": "2022-09-18T14:47:17.404Z"
   },
   {
    "duration": 1345,
    "start_time": "2022-09-18T14:48:21.423Z"
   },
   {
    "duration": 1969,
    "start_time": "2022-09-18T14:59:27.905Z"
   },
   {
    "duration": 106,
    "start_time": "2022-09-18T14:59:29.876Z"
   },
   {
    "duration": 4,
    "start_time": "2022-09-18T14:59:29.983Z"
   },
   {
    "duration": 133,
    "start_time": "2022-09-18T14:59:29.989Z"
   },
   {
    "duration": 4,
    "start_time": "2022-09-18T14:59:30.124Z"
   },
   {
    "duration": 18,
    "start_time": "2022-09-18T14:59:30.130Z"
   },
   {
    "duration": 16,
    "start_time": "2022-09-18T14:59:30.149Z"
   },
   {
    "duration": 9,
    "start_time": "2022-09-18T14:59:30.167Z"
   },
   {
    "duration": 13,
    "start_time": "2022-09-18T14:59:30.178Z"
   },
   {
    "duration": 11,
    "start_time": "2022-09-18T14:59:30.194Z"
   },
   {
    "duration": 40,
    "start_time": "2022-09-18T14:59:30.206Z"
   },
   {
    "duration": 116,
    "start_time": "2022-09-18T14:59:30.248Z"
   },
   {
    "duration": 15,
    "start_time": "2022-09-18T14:59:30.365Z"
   },
   {
    "duration": 41,
    "start_time": "2022-09-18T14:59:30.382Z"
   },
   {
    "duration": 10,
    "start_time": "2022-09-18T14:59:30.425Z"
   },
   {
    "duration": 16,
    "start_time": "2022-09-18T14:59:30.436Z"
   },
   {
    "duration": 158,
    "start_time": "2022-09-18T14:59:30.453Z"
   },
   {
    "duration": 185,
    "start_time": "2022-09-18T14:59:30.613Z"
   },
   {
    "duration": 31,
    "start_time": "2022-09-18T14:59:30.799Z"
   },
   {
    "duration": 22,
    "start_time": "2022-09-18T14:59:30.832Z"
   },
   {
    "duration": 2,
    "start_time": "2022-09-18T14:59:30.855Z"
   },
   {
    "duration": 31,
    "start_time": "2022-09-18T14:59:30.859Z"
   },
   {
    "duration": 32,
    "start_time": "2022-09-18T14:59:30.891Z"
   },
   {
    "duration": 21,
    "start_time": "2022-09-18T14:59:30.925Z"
   },
   {
    "duration": 6,
    "start_time": "2022-09-18T14:59:30.948Z"
   },
   {
    "duration": 24,
    "start_time": "2022-09-18T14:59:30.956Z"
   },
   {
    "duration": 15,
    "start_time": "2022-09-18T14:59:30.982Z"
   },
   {
    "duration": 44,
    "start_time": "2022-09-18T14:59:31.000Z"
   },
   {
    "duration": 4,
    "start_time": "2022-09-18T14:59:31.046Z"
   },
   {
    "duration": 36,
    "start_time": "2022-09-18T14:59:31.051Z"
   },
   {
    "duration": 15,
    "start_time": "2022-09-18T14:59:31.089Z"
   },
   {
    "duration": 32,
    "start_time": "2022-09-18T14:59:31.106Z"
   },
   {
    "duration": 3445,
    "start_time": "2022-09-18T14:59:31.139Z"
   },
   {
    "duration": 53,
    "start_time": "2022-09-18T14:59:34.585Z"
   },
   {
    "duration": 0,
    "start_time": "2022-09-18T14:59:34.640Z"
   },
   {
    "duration": 0,
    "start_time": "2022-09-18T14:59:34.641Z"
   },
   {
    "duration": 0,
    "start_time": "2022-09-18T14:59:34.643Z"
   },
   {
    "duration": 0,
    "start_time": "2022-09-18T14:59:34.644Z"
   },
   {
    "duration": 0,
    "start_time": "2022-09-18T14:59:34.645Z"
   },
   {
    "duration": 0,
    "start_time": "2022-09-18T14:59:34.646Z"
   },
   {
    "duration": 0,
    "start_time": "2022-09-18T14:59:34.648Z"
   },
   {
    "duration": 0,
    "start_time": "2022-09-18T14:59:34.649Z"
   },
   {
    "duration": 0,
    "start_time": "2022-09-18T14:59:34.650Z"
   },
   {
    "duration": 0,
    "start_time": "2022-09-18T14:59:34.651Z"
   },
   {
    "duration": 0,
    "start_time": "2022-09-18T14:59:34.652Z"
   },
   {
    "duration": 71,
    "start_time": "2022-09-18T14:59:43.875Z"
   },
   {
    "duration": 2081,
    "start_time": "2022-09-18T14:59:55.466Z"
   },
   {
    "duration": 104,
    "start_time": "2022-09-18T14:59:57.549Z"
   },
   {
    "duration": 3,
    "start_time": "2022-09-18T14:59:57.655Z"
   },
   {
    "duration": 109,
    "start_time": "2022-09-18T14:59:57.659Z"
   },
   {
    "duration": 4,
    "start_time": "2022-09-18T14:59:57.770Z"
   },
   {
    "duration": 6,
    "start_time": "2022-09-18T14:59:57.775Z"
   },
   {
    "duration": 26,
    "start_time": "2022-09-18T14:59:57.783Z"
   },
   {
    "duration": 8,
    "start_time": "2022-09-18T14:59:57.810Z"
   },
   {
    "duration": 7,
    "start_time": "2022-09-18T14:59:57.820Z"
   },
   {
    "duration": 6,
    "start_time": "2022-09-18T14:59:57.828Z"
   },
   {
    "duration": 29,
    "start_time": "2022-09-18T14:59:57.835Z"
   },
   {
    "duration": 163,
    "start_time": "2022-09-18T14:59:57.865Z"
   },
   {
    "duration": 16,
    "start_time": "2022-09-18T14:59:58.030Z"
   },
   {
    "duration": 14,
    "start_time": "2022-09-18T14:59:58.050Z"
   },
   {
    "duration": 44,
    "start_time": "2022-09-18T14:59:58.066Z"
   },
   {
    "duration": 5,
    "start_time": "2022-09-18T14:59:58.112Z"
   },
   {
    "duration": 152,
    "start_time": "2022-09-18T14:59:58.119Z"
   },
   {
    "duration": 181,
    "start_time": "2022-09-18T14:59:58.273Z"
   },
   {
    "duration": 23,
    "start_time": "2022-09-18T14:59:58.456Z"
   },
   {
    "duration": 35,
    "start_time": "2022-09-18T14:59:58.480Z"
   },
   {
    "duration": 2,
    "start_time": "2022-09-18T14:59:58.517Z"
   },
   {
    "duration": 23,
    "start_time": "2022-09-18T14:59:58.521Z"
   },
   {
    "duration": 16,
    "start_time": "2022-09-18T14:59:58.546Z"
   },
   {
    "duration": 19,
    "start_time": "2022-09-18T14:59:58.563Z"
   },
   {
    "duration": 7,
    "start_time": "2022-09-18T14:59:58.583Z"
   },
   {
    "duration": 9,
    "start_time": "2022-09-18T14:59:58.608Z"
   },
   {
    "duration": 3,
    "start_time": "2022-09-18T14:59:58.618Z"
   },
   {
    "duration": 14,
    "start_time": "2022-09-18T14:59:58.622Z"
   },
   {
    "duration": 2,
    "start_time": "2022-09-18T14:59:58.638Z"
   },
   {
    "duration": 16,
    "start_time": "2022-09-18T14:59:58.641Z"
   },
   {
    "duration": 5,
    "start_time": "2022-09-18T14:59:58.658Z"
   },
   {
    "duration": 20,
    "start_time": "2022-09-18T14:59:58.664Z"
   },
   {
    "duration": 3635,
    "start_time": "2022-09-18T14:59:58.685Z"
   },
   {
    "duration": 276,
    "start_time": "2022-09-18T15:00:02.322Z"
   },
   {
    "duration": 0,
    "start_time": "2022-09-18T15:00:02.600Z"
   },
   {
    "duration": 0,
    "start_time": "2022-09-18T15:00:02.601Z"
   },
   {
    "duration": 0,
    "start_time": "2022-09-18T15:00:02.602Z"
   },
   {
    "duration": 0,
    "start_time": "2022-09-18T15:00:02.603Z"
   },
   {
    "duration": 0,
    "start_time": "2022-09-18T15:00:02.604Z"
   },
   {
    "duration": 0,
    "start_time": "2022-09-18T15:00:02.605Z"
   },
   {
    "duration": 0,
    "start_time": "2022-09-18T15:00:02.606Z"
   },
   {
    "duration": 0,
    "start_time": "2022-09-18T15:00:02.607Z"
   },
   {
    "duration": 0,
    "start_time": "2022-09-18T15:00:02.608Z"
   },
   {
    "duration": 0,
    "start_time": "2022-09-18T15:00:02.609Z"
   },
   {
    "duration": 0,
    "start_time": "2022-09-18T15:00:02.610Z"
   },
   {
    "duration": 91,
    "start_time": "2022-09-18T15:00:25.413Z"
   },
   {
    "duration": 2076,
    "start_time": "2022-09-18T15:00:51.485Z"
   },
   {
    "duration": 113,
    "start_time": "2022-09-18T15:00:53.564Z"
   },
   {
    "duration": 4,
    "start_time": "2022-09-18T15:00:53.678Z"
   },
   {
    "duration": 146,
    "start_time": "2022-09-18T15:00:53.684Z"
   },
   {
    "duration": 4,
    "start_time": "2022-09-18T15:00:53.833Z"
   },
   {
    "duration": 4,
    "start_time": "2022-09-18T15:00:53.839Z"
   },
   {
    "duration": 4,
    "start_time": "2022-09-18T15:00:53.845Z"
   },
   {
    "duration": 9,
    "start_time": "2022-09-18T15:00:53.850Z"
   },
   {
    "duration": 6,
    "start_time": "2022-09-18T15:00:53.860Z"
   },
   {
    "duration": 42,
    "start_time": "2022-09-18T15:00:53.868Z"
   },
   {
    "duration": 27,
    "start_time": "2022-09-18T15:00:53.912Z"
   },
   {
    "duration": 178,
    "start_time": "2022-09-18T15:00:53.941Z"
   },
   {
    "duration": 17,
    "start_time": "2022-09-18T15:00:54.120Z"
   },
   {
    "duration": 14,
    "start_time": "2022-09-18T15:00:54.140Z"
   },
   {
    "duration": 9,
    "start_time": "2022-09-18T15:00:54.156Z"
   },
   {
    "duration": 6,
    "start_time": "2022-09-18T15:00:54.167Z"
   },
   {
    "duration": 208,
    "start_time": "2022-09-18T15:00:54.175Z"
   },
   {
    "duration": 225,
    "start_time": "2022-09-18T15:00:54.386Z"
   },
   {
    "duration": 29,
    "start_time": "2022-09-18T15:00:54.613Z"
   },
   {
    "duration": 36,
    "start_time": "2022-09-18T15:00:54.645Z"
   },
   {
    "duration": 2,
    "start_time": "2022-09-18T15:00:54.684Z"
   },
   {
    "duration": 41,
    "start_time": "2022-09-18T15:00:54.689Z"
   },
   {
    "duration": 19,
    "start_time": "2022-09-18T15:00:54.731Z"
   },
   {
    "duration": 24,
    "start_time": "2022-09-18T15:00:54.751Z"
   },
   {
    "duration": 5,
    "start_time": "2022-09-18T15:00:54.776Z"
   },
   {
    "duration": 13,
    "start_time": "2022-09-18T15:00:54.782Z"
   },
   {
    "duration": 13,
    "start_time": "2022-09-18T15:00:54.796Z"
   },
   {
    "duration": 18,
    "start_time": "2022-09-18T15:00:54.811Z"
   },
   {
    "duration": 5,
    "start_time": "2022-09-18T15:00:54.831Z"
   },
   {
    "duration": 22,
    "start_time": "2022-09-18T15:00:54.838Z"
   },
   {
    "duration": 6,
    "start_time": "2022-09-18T15:00:54.862Z"
   },
   {
    "duration": 6,
    "start_time": "2022-09-18T15:00:54.870Z"
   },
   {
    "duration": 3710,
    "start_time": "2022-09-18T15:00:54.878Z"
   },
   {
    "duration": 169,
    "start_time": "2022-09-18T15:00:58.589Z"
   },
   {
    "duration": 0,
    "start_time": "2022-09-18T15:00:58.759Z"
   },
   {
    "duration": 0,
    "start_time": "2022-09-18T15:00:58.760Z"
   },
   {
    "duration": 0,
    "start_time": "2022-09-18T15:00:58.761Z"
   },
   {
    "duration": 0,
    "start_time": "2022-09-18T15:00:58.762Z"
   },
   {
    "duration": 0,
    "start_time": "2022-09-18T15:00:58.764Z"
   },
   {
    "duration": 0,
    "start_time": "2022-09-18T15:00:58.764Z"
   },
   {
    "duration": 0,
    "start_time": "2022-09-18T15:00:58.765Z"
   },
   {
    "duration": 0,
    "start_time": "2022-09-18T15:00:58.766Z"
   },
   {
    "duration": 13,
    "start_time": "2022-09-18T15:01:14.901Z"
   },
   {
    "duration": 10,
    "start_time": "2022-09-18T15:01:25.218Z"
   },
   {
    "duration": 9,
    "start_time": "2022-09-18T15:01:27.214Z"
   },
   {
    "duration": 11,
    "start_time": "2022-09-18T15:01:30.261Z"
   },
   {
    "duration": 4,
    "start_time": "2022-09-18T15:01:33.602Z"
   },
   {
    "duration": 6,
    "start_time": "2022-09-18T15:01:34.370Z"
   },
   {
    "duration": 41,
    "start_time": "2022-09-18T15:01:35.697Z"
   },
   {
    "duration": 26,
    "start_time": "2022-09-18T15:01:36.802Z"
   },
   {
    "duration": 2,
    "start_time": "2022-09-18T15:02:01.815Z"
   },
   {
    "duration": 2017,
    "start_time": "2022-09-18T15:02:41.823Z"
   },
   {
    "duration": 104,
    "start_time": "2022-09-18T15:02:43.843Z"
   },
   {
    "duration": 4,
    "start_time": "2022-09-18T15:02:43.949Z"
   },
   {
    "duration": 120,
    "start_time": "2022-09-18T15:02:43.954Z"
   },
   {
    "duration": 4,
    "start_time": "2022-09-18T15:02:44.075Z"
   },
   {
    "duration": 12,
    "start_time": "2022-09-18T15:02:44.080Z"
   },
   {
    "duration": 4,
    "start_time": "2022-09-18T15:02:44.109Z"
   },
   {
    "duration": 15,
    "start_time": "2022-09-18T15:02:44.114Z"
   },
   {
    "duration": 17,
    "start_time": "2022-09-18T15:02:44.130Z"
   },
   {
    "duration": 8,
    "start_time": "2022-09-18T15:02:44.150Z"
   },
   {
    "duration": 31,
    "start_time": "2022-09-18T15:02:44.160Z"
   },
   {
    "duration": 137,
    "start_time": "2022-09-18T15:02:44.193Z"
   },
   {
    "duration": 15,
    "start_time": "2022-09-18T15:02:44.331Z"
   },
   {
    "duration": 13,
    "start_time": "2022-09-18T15:02:44.348Z"
   },
   {
    "duration": 13,
    "start_time": "2022-09-18T15:02:44.363Z"
   },
   {
    "duration": 44,
    "start_time": "2022-09-18T15:02:44.377Z"
   },
   {
    "duration": 195,
    "start_time": "2022-09-18T15:02:44.424Z"
   },
   {
    "duration": 203,
    "start_time": "2022-09-18T15:02:44.621Z"
   },
   {
    "duration": 23,
    "start_time": "2022-09-18T15:02:44.826Z"
   },
   {
    "duration": 20,
    "start_time": "2022-09-18T15:02:44.851Z"
   },
   {
    "duration": 3,
    "start_time": "2022-09-18T15:02:44.872Z"
   },
   {
    "duration": 46,
    "start_time": "2022-09-18T15:02:44.876Z"
   },
   {
    "duration": 18,
    "start_time": "2022-09-18T15:02:44.923Z"
   },
   {
    "duration": 16,
    "start_time": "2022-09-18T15:02:44.943Z"
   },
   {
    "duration": 5,
    "start_time": "2022-09-18T15:02:44.960Z"
   },
   {
    "duration": 8,
    "start_time": "2022-09-18T15:02:44.966Z"
   },
   {
    "duration": 2,
    "start_time": "2022-09-18T15:02:44.976Z"
   },
   {
    "duration": 39,
    "start_time": "2022-09-18T15:02:44.981Z"
   },
   {
    "duration": 3,
    "start_time": "2022-09-18T15:02:45.021Z"
   },
   {
    "duration": 31,
    "start_time": "2022-09-18T15:02:45.025Z"
   },
   {
    "duration": 16,
    "start_time": "2022-09-18T15:02:45.058Z"
   },
   {
    "duration": 10,
    "start_time": "2022-09-18T15:02:45.076Z"
   },
   {
    "duration": 3492,
    "start_time": "2022-09-18T15:02:45.088Z"
   },
   {
    "duration": 2988,
    "start_time": "2022-09-18T15:02:48.582Z"
   },
   {
    "duration": 1640,
    "start_time": "2022-09-18T15:02:51.572Z"
   },
   {
    "duration": 2,
    "start_time": "2022-09-18T15:02:53.214Z"
   },
   {
    "duration": 10,
    "start_time": "2022-09-18T15:02:53.218Z"
   },
   {
    "duration": 9,
    "start_time": "2022-09-18T15:02:53.229Z"
   },
   {
    "duration": 16,
    "start_time": "2022-09-18T15:02:53.239Z"
   },
   {
    "duration": 9,
    "start_time": "2022-09-18T15:02:53.257Z"
   },
   {
    "duration": 45,
    "start_time": "2022-09-18T15:02:53.267Z"
   },
   {
    "duration": 30,
    "start_time": "2022-09-18T15:02:53.313Z"
   },
   {
    "duration": 25,
    "start_time": "2022-09-18T15:03:02.936Z"
   },
   {
    "duration": 2,
    "start_time": "2022-09-18T15:03:05.084Z"
   },
   {
    "duration": 2,
    "start_time": "2022-09-18T15:03:05.386Z"
   },
   {
    "duration": 117684,
    "start_time": "2022-09-18T15:03:08.301Z"
   },
   {
    "duration": 537,
    "start_time": "2022-09-18T15:07:53.107Z"
   },
   {
    "duration": 230,
    "start_time": "2022-09-18T15:08:21.778Z"
   },
   {
    "duration": 356,
    "start_time": "2022-09-18T15:08:45.171Z"
   },
   {
    "duration": 5,
    "start_time": "2022-09-18T15:10:48.423Z"
   },
   {
    "duration": 11,
    "start_time": "2022-09-18T15:11:04.093Z"
   },
   {
    "duration": 21,
    "start_time": "2022-09-18T15:11:13.006Z"
   },
   {
    "duration": 3,
    "start_time": "2022-09-18T15:11:51.273Z"
   },
   {
    "duration": 4,
    "start_time": "2022-09-18T15:11:51.679Z"
   },
   {
    "duration": 14,
    "start_time": "2022-09-18T15:11:52.413Z"
   },
   {
    "duration": 42,
    "start_time": "2022-09-18T15:11:52.966Z"
   },
   {
    "duration": 29,
    "start_time": "2022-09-18T15:11:53.628Z"
   },
   {
    "duration": 130319,
    "start_time": "2022-09-18T15:12:13.271Z"
   },
   {
    "duration": 1979,
    "start_time": "2022-09-18T15:14:38.557Z"
   },
   {
    "duration": 106,
    "start_time": "2022-09-18T15:14:40.538Z"
   },
   {
    "duration": 4,
    "start_time": "2022-09-18T15:14:40.645Z"
   },
   {
    "duration": 119,
    "start_time": "2022-09-18T15:14:40.651Z"
   },
   {
    "duration": 4,
    "start_time": "2022-09-18T15:14:40.773Z"
   },
   {
    "duration": 30,
    "start_time": "2022-09-18T15:14:40.779Z"
   },
   {
    "duration": 4,
    "start_time": "2022-09-18T15:14:40.811Z"
   },
   {
    "duration": 24,
    "start_time": "2022-09-18T15:14:40.816Z"
   },
   {
    "duration": 6,
    "start_time": "2022-09-18T15:14:40.841Z"
   },
   {
    "duration": 6,
    "start_time": "2022-09-18T15:14:40.849Z"
   },
   {
    "duration": 29,
    "start_time": "2022-09-18T15:14:40.856Z"
   },
   {
    "duration": 149,
    "start_time": "2022-09-18T15:14:40.887Z"
   },
   {
    "duration": 15,
    "start_time": "2022-09-18T15:14:41.037Z"
   },
   {
    "duration": 15,
    "start_time": "2022-09-18T15:14:41.056Z"
   },
   {
    "duration": 39,
    "start_time": "2022-09-18T15:14:41.073Z"
   },
   {
    "duration": 7,
    "start_time": "2022-09-18T15:14:41.113Z"
   },
   {
    "duration": 161,
    "start_time": "2022-09-18T15:14:41.121Z"
   },
   {
    "duration": 189,
    "start_time": "2022-09-18T15:14:41.284Z"
   },
   {
    "duration": 23,
    "start_time": "2022-09-18T15:14:41.475Z"
   },
   {
    "duration": 28,
    "start_time": "2022-09-18T15:14:41.500Z"
   },
   {
    "duration": 2,
    "start_time": "2022-09-18T15:14:41.530Z"
   },
   {
    "duration": 34,
    "start_time": "2022-09-18T15:14:41.534Z"
   },
   {
    "duration": 41,
    "start_time": "2022-09-18T15:14:41.570Z"
   },
   {
    "duration": 14,
    "start_time": "2022-09-18T15:14:41.612Z"
   },
   {
    "duration": 4,
    "start_time": "2022-09-18T15:14:41.628Z"
   },
   {
    "duration": 16,
    "start_time": "2022-09-18T15:14:41.634Z"
   },
   {
    "duration": 2,
    "start_time": "2022-09-18T15:14:41.652Z"
   },
   {
    "duration": 20,
    "start_time": "2022-09-18T15:14:41.656Z"
   },
   {
    "duration": 3,
    "start_time": "2022-09-18T15:14:41.677Z"
   },
   {
    "duration": 38,
    "start_time": "2022-09-18T15:14:41.682Z"
   },
   {
    "duration": 6,
    "start_time": "2022-09-18T15:14:41.721Z"
   },
   {
    "duration": 12,
    "start_time": "2022-09-18T15:14:41.728Z"
   },
   {
    "duration": 3550,
    "start_time": "2022-09-18T15:14:41.741Z"
   },
   {
    "duration": 2898,
    "start_time": "2022-09-18T15:14:45.292Z"
   },
   {
    "duration": 1380,
    "start_time": "2022-09-18T15:14:48.192Z"
   },
   {
    "duration": 2,
    "start_time": "2022-09-18T15:14:49.573Z"
   },
   {
    "duration": 8,
    "start_time": "2022-09-18T15:14:49.577Z"
   },
   {
    "duration": 6,
    "start_time": "2022-09-18T15:14:49.586Z"
   },
   {
    "duration": 47,
    "start_time": "2022-09-18T15:14:49.593Z"
   },
   {
    "duration": 0,
    "start_time": "2022-09-18T15:14:49.641Z"
   },
   {
    "duration": 0,
    "start_time": "2022-09-18T15:14:49.643Z"
   },
   {
    "duration": 0,
    "start_time": "2022-09-18T15:14:49.644Z"
   },
   {
    "duration": 0,
    "start_time": "2022-09-18T15:14:49.646Z"
   },
   {
    "duration": 0,
    "start_time": "2022-09-18T15:14:49.647Z"
   },
   {
    "duration": 0,
    "start_time": "2022-09-18T15:14:49.648Z"
   },
   {
    "duration": 0,
    "start_time": "2022-09-18T15:14:49.649Z"
   },
   {
    "duration": 0,
    "start_time": "2022-09-18T15:14:49.651Z"
   },
   {
    "duration": 0,
    "start_time": "2022-09-18T15:14:49.652Z"
   },
   {
    "duration": 2029,
    "start_time": "2022-09-18T15:15:38.208Z"
   },
   {
    "duration": 108,
    "start_time": "2022-09-18T15:15:40.239Z"
   },
   {
    "duration": 4,
    "start_time": "2022-09-18T15:15:40.349Z"
   },
   {
    "duration": 121,
    "start_time": "2022-09-18T15:15:40.354Z"
   },
   {
    "duration": 3,
    "start_time": "2022-09-18T15:15:40.477Z"
   },
   {
    "duration": 32,
    "start_time": "2022-09-18T15:15:40.482Z"
   },
   {
    "duration": 6,
    "start_time": "2022-09-18T15:15:40.515Z"
   },
   {
    "duration": 11,
    "start_time": "2022-09-18T15:15:40.522Z"
   },
   {
    "duration": 6,
    "start_time": "2022-09-18T15:15:40.534Z"
   },
   {
    "duration": 3,
    "start_time": "2022-09-18T15:15:40.543Z"
   },
   {
    "duration": 28,
    "start_time": "2022-09-18T15:15:40.548Z"
   },
   {
    "duration": 151,
    "start_time": "2022-09-18T15:15:40.577Z"
   },
   {
    "duration": 15,
    "start_time": "2022-09-18T15:15:40.730Z"
   },
   {
    "duration": 14,
    "start_time": "2022-09-18T15:15:40.746Z"
   },
   {
    "duration": 11,
    "start_time": "2022-09-18T15:15:40.762Z"
   },
   {
    "duration": 36,
    "start_time": "2022-09-18T15:15:40.774Z"
   },
   {
    "duration": 154,
    "start_time": "2022-09-18T15:15:40.812Z"
   },
   {
    "duration": 184,
    "start_time": "2022-09-18T15:15:40.967Z"
   },
   {
    "duration": 22,
    "start_time": "2022-09-18T15:15:41.153Z"
   },
   {
    "duration": 34,
    "start_time": "2022-09-18T15:15:41.176Z"
   },
   {
    "duration": 3,
    "start_time": "2022-09-18T15:15:41.211Z"
   },
   {
    "duration": 25,
    "start_time": "2022-09-18T15:15:41.215Z"
   },
   {
    "duration": 17,
    "start_time": "2022-09-18T15:15:41.241Z"
   },
   {
    "duration": 16,
    "start_time": "2022-09-18T15:15:41.260Z"
   },
   {
    "duration": 6,
    "start_time": "2022-09-18T15:15:41.278Z"
   },
   {
    "duration": 30,
    "start_time": "2022-09-18T15:15:41.286Z"
   },
   {
    "duration": 2,
    "start_time": "2022-09-18T15:15:41.318Z"
   },
   {
    "duration": 13,
    "start_time": "2022-09-18T15:15:41.323Z"
   },
   {
    "duration": 2,
    "start_time": "2022-09-18T15:15:41.337Z"
   },
   {
    "duration": 20,
    "start_time": "2022-09-18T15:15:41.340Z"
   },
   {
    "duration": 5,
    "start_time": "2022-09-18T15:15:41.361Z"
   },
   {
    "duration": 5,
    "start_time": "2022-09-18T15:15:41.367Z"
   },
   {
    "duration": 3506,
    "start_time": "2022-09-18T15:15:41.373Z"
   },
   {
    "duration": 2948,
    "start_time": "2022-09-18T15:15:44.881Z"
   },
   {
    "duration": 1633,
    "start_time": "2022-09-18T15:15:47.830Z"
   },
   {
    "duration": 2,
    "start_time": "2022-09-18T15:15:49.464Z"
   },
   {
    "duration": 8,
    "start_time": "2022-09-18T15:15:49.467Z"
   },
   {
    "duration": 6,
    "start_time": "2022-09-18T15:15:49.476Z"
   },
   {
    "duration": 9,
    "start_time": "2022-09-18T15:15:49.483Z"
   },
   {
    "duration": 32,
    "start_time": "2022-09-18T15:15:49.493Z"
   },
   {
    "duration": 3,
    "start_time": "2022-09-18T15:15:49.526Z"
   },
   {
    "duration": 9,
    "start_time": "2022-09-18T15:15:49.531Z"
   },
   {
    "duration": 7,
    "start_time": "2022-09-18T15:15:49.541Z"
   },
   {
    "duration": 31,
    "start_time": "2022-09-18T15:15:49.550Z"
   },
   {
    "duration": 34,
    "start_time": "2022-09-18T15:15:49.582Z"
   },
   {
    "duration": 3,
    "start_time": "2022-09-18T15:15:49.617Z"
   },
   {
    "duration": 6,
    "start_time": "2022-09-18T15:15:49.621Z"
   },
   {
    "duration": 162706,
    "start_time": "2022-09-18T15:15:49.629Z"
   },
   {
    "duration": 15,
    "start_time": "2022-09-18T15:21:38.302Z"
   },
   {
    "duration": 10,
    "start_time": "2022-09-18T15:21:54.916Z"
   },
   {
    "duration": 10,
    "start_time": "2022-09-18T15:22:01.252Z"
   },
   {
    "duration": 36,
    "start_time": "2022-09-18T15:22:34.489Z"
   },
   {
    "duration": 9,
    "start_time": "2022-09-18T15:22:35.010Z"
   },
   {
    "duration": 11,
    "start_time": "2022-09-18T15:22:35.674Z"
   },
   {
    "duration": 31,
    "start_time": "2022-09-18T15:22:50.889Z"
   },
   {
    "duration": 11,
    "start_time": "2022-09-18T15:22:51.271Z"
   },
   {
    "duration": 10,
    "start_time": "2022-09-18T15:22:51.769Z"
   },
   {
    "duration": 1964,
    "start_time": "2022-09-18T15:23:06.265Z"
   },
   {
    "duration": 110,
    "start_time": "2022-09-18T15:23:08.232Z"
   },
   {
    "duration": 4,
    "start_time": "2022-09-18T15:23:08.343Z"
   },
   {
    "duration": 117,
    "start_time": "2022-09-18T15:23:08.349Z"
   },
   {
    "duration": 4,
    "start_time": "2022-09-18T15:23:08.467Z"
   },
   {
    "duration": 4,
    "start_time": "2022-09-18T15:23:08.473Z"
   },
   {
    "duration": 32,
    "start_time": "2022-09-18T15:23:08.479Z"
   },
   {
    "duration": 7,
    "start_time": "2022-09-18T15:23:08.513Z"
   },
   {
    "duration": 5,
    "start_time": "2022-09-18T15:23:08.522Z"
   },
   {
    "duration": 5,
    "start_time": "2022-09-18T15:23:08.530Z"
   },
   {
    "duration": 30,
    "start_time": "2022-09-18T15:23:08.536Z"
   },
   {
    "duration": 155,
    "start_time": "2022-09-18T15:23:08.567Z"
   },
   {
    "duration": 15,
    "start_time": "2022-09-18T15:23:08.723Z"
   },
   {
    "duration": 15,
    "start_time": "2022-09-18T15:23:08.739Z"
   },
   {
    "duration": 9,
    "start_time": "2022-09-18T15:23:08.755Z"
   },
   {
    "duration": 6,
    "start_time": "2022-09-18T15:23:08.766Z"
   },
   {
    "duration": 176,
    "start_time": "2022-09-18T15:23:08.774Z"
   },
   {
    "duration": 186,
    "start_time": "2022-09-18T15:23:08.952Z"
   },
   {
    "duration": 24,
    "start_time": "2022-09-18T15:23:09.140Z"
   },
   {
    "duration": 25,
    "start_time": "2022-09-18T15:23:09.165Z"
   },
   {
    "duration": 2,
    "start_time": "2022-09-18T15:23:09.209Z"
   },
   {
    "duration": 23,
    "start_time": "2022-09-18T15:23:09.212Z"
   },
   {
    "duration": 17,
    "start_time": "2022-09-18T15:23:09.236Z"
   },
   {
    "duration": 19,
    "start_time": "2022-09-18T15:23:09.255Z"
   },
   {
    "duration": 5,
    "start_time": "2022-09-18T15:23:09.275Z"
   },
   {
    "duration": 36,
    "start_time": "2022-09-18T15:23:09.282Z"
   },
   {
    "duration": 2,
    "start_time": "2022-09-18T15:23:09.320Z"
   },
   {
    "duration": 13,
    "start_time": "2022-09-18T15:23:09.324Z"
   },
   {
    "duration": 2,
    "start_time": "2022-09-18T15:23:09.338Z"
   },
   {
    "duration": 14,
    "start_time": "2022-09-18T15:23:09.341Z"
   },
   {
    "duration": 5,
    "start_time": "2022-09-18T15:23:09.356Z"
   },
   {
    "duration": 7,
    "start_time": "2022-09-18T15:23:09.363Z"
   },
   {
    "duration": 3299,
    "start_time": "2022-09-18T15:23:09.372Z"
   },
   {
    "duration": 3160,
    "start_time": "2022-09-18T15:23:12.672Z"
   },
   {
    "duration": 1352,
    "start_time": "2022-09-18T15:23:15.834Z"
   },
   {
    "duration": 2,
    "start_time": "2022-09-18T15:23:17.187Z"
   },
   {
    "duration": 7,
    "start_time": "2022-09-18T15:23:17.190Z"
   },
   {
    "duration": 11,
    "start_time": "2022-09-18T15:23:17.198Z"
   },
   {
    "duration": 5,
    "start_time": "2022-09-18T15:23:17.211Z"
   },
   {
    "duration": 7,
    "start_time": "2022-09-18T15:23:17.218Z"
   },
   {
    "duration": 3,
    "start_time": "2022-09-18T15:23:27.217Z"
   },
   {
    "duration": 4,
    "start_time": "2022-09-18T15:23:33.502Z"
   },
   {
    "duration": 29,
    "start_time": "2022-09-18T15:23:46.787Z"
   },
   {
    "duration": 10,
    "start_time": "2022-09-18T15:23:47.313Z"
   },
   {
    "duration": 11,
    "start_time": "2022-09-18T15:23:48.987Z"
   },
   {
    "duration": 3665,
    "start_time": "2022-09-18T15:25:03.393Z"
   },
   {
    "duration": 115,
    "start_time": "2022-09-18T15:25:07.060Z"
   },
   {
    "duration": 5,
    "start_time": "2022-09-18T15:25:07.177Z"
   },
   {
    "duration": 154,
    "start_time": "2022-09-18T15:25:07.183Z"
   },
   {
    "duration": 5,
    "start_time": "2022-09-18T15:25:07.338Z"
   },
   {
    "duration": 5,
    "start_time": "2022-09-18T15:25:07.345Z"
   },
   {
    "duration": 21,
    "start_time": "2022-09-18T15:25:07.352Z"
   },
   {
    "duration": 7,
    "start_time": "2022-09-18T15:25:07.375Z"
   },
   {
    "duration": 26,
    "start_time": "2022-09-18T15:25:07.384Z"
   },
   {
    "duration": 5,
    "start_time": "2022-09-18T15:25:07.413Z"
   },
   {
    "duration": 29,
    "start_time": "2022-09-18T15:25:07.419Z"
   },
   {
    "duration": 170,
    "start_time": "2022-09-18T15:25:07.449Z"
   },
   {
    "duration": 17,
    "start_time": "2022-09-18T15:25:07.621Z"
   },
   {
    "duration": 16,
    "start_time": "2022-09-18T15:25:07.640Z"
   },
   {
    "duration": 10,
    "start_time": "2022-09-18T15:25:07.658Z"
   },
   {
    "duration": 17,
    "start_time": "2022-09-18T15:25:07.670Z"
   },
   {
    "duration": 172,
    "start_time": "2022-09-18T15:25:07.709Z"
   },
   {
    "duration": 261,
    "start_time": "2022-09-18T15:25:07.883Z"
   },
   {
    "duration": 29,
    "start_time": "2022-09-18T15:25:08.146Z"
   },
   {
    "duration": 37,
    "start_time": "2022-09-18T15:25:08.177Z"
   },
   {
    "duration": 2,
    "start_time": "2022-09-18T15:25:08.215Z"
   },
   {
    "duration": 30,
    "start_time": "2022-09-18T15:25:08.219Z"
   },
   {
    "duration": 23,
    "start_time": "2022-09-18T15:25:08.250Z"
   },
   {
    "duration": 35,
    "start_time": "2022-09-18T15:25:08.275Z"
   },
   {
    "duration": 5,
    "start_time": "2022-09-18T15:25:08.312Z"
   },
   {
    "duration": 11,
    "start_time": "2022-09-18T15:25:08.318Z"
   },
   {
    "duration": 2,
    "start_time": "2022-09-18T15:25:08.331Z"
   },
   {
    "duration": 16,
    "start_time": "2022-09-18T15:25:08.337Z"
   },
   {
    "duration": 3,
    "start_time": "2022-09-18T15:25:08.355Z"
   },
   {
    "duration": 13,
    "start_time": "2022-09-18T15:25:08.359Z"
   },
   {
    "duration": 6,
    "start_time": "2022-09-18T15:25:08.374Z"
   },
   {
    "duration": 5,
    "start_time": "2022-09-18T15:25:08.408Z"
   },
   {
    "duration": 3455,
    "start_time": "2022-09-18T15:25:08.414Z"
   },
   {
    "duration": 127,
    "start_time": "2022-09-18T15:25:11.870Z"
   },
   {
    "duration": 0,
    "start_time": "2022-09-18T15:25:11.999Z"
   },
   {
    "duration": 0,
    "start_time": "2022-09-18T15:25:12.000Z"
   },
   {
    "duration": 0,
    "start_time": "2022-09-18T15:25:12.001Z"
   },
   {
    "duration": 0,
    "start_time": "2022-09-18T15:25:12.009Z"
   },
   {
    "duration": 0,
    "start_time": "2022-09-18T15:25:12.010Z"
   },
   {
    "duration": 0,
    "start_time": "2022-09-18T15:25:12.011Z"
   },
   {
    "duration": 0,
    "start_time": "2022-09-18T15:25:12.012Z"
   },
   {
    "duration": 0,
    "start_time": "2022-09-18T15:25:12.013Z"
   },
   {
    "duration": 0,
    "start_time": "2022-09-18T15:25:12.013Z"
   },
   {
    "duration": 0,
    "start_time": "2022-09-18T15:25:12.014Z"
   },
   {
    "duration": 0,
    "start_time": "2022-09-18T15:25:12.015Z"
   },
   {
    "duration": 0,
    "start_time": "2022-09-18T15:25:12.015Z"
   },
   {
    "duration": 0,
    "start_time": "2022-09-18T15:25:12.016Z"
   },
   {
    "duration": 0,
    "start_time": "2022-09-18T15:25:12.017Z"
   },
   {
    "duration": 0,
    "start_time": "2022-09-18T15:25:12.018Z"
   },
   {
    "duration": 0,
    "start_time": "2022-09-18T15:25:12.019Z"
   },
   {
    "duration": 0,
    "start_time": "2022-09-18T15:25:12.020Z"
   },
   {
    "duration": 0,
    "start_time": "2022-09-18T15:25:12.021Z"
   },
   {
    "duration": 3029,
    "start_time": "2022-09-18T15:28:42.091Z"
   },
   {
    "duration": 1385,
    "start_time": "2022-09-18T15:28:45.122Z"
   },
   {
    "duration": 3367,
    "start_time": "2022-09-18T15:28:49.589Z"
   },
   {
    "duration": 106,
    "start_time": "2022-09-18T15:28:52.958Z"
   },
   {
    "duration": 5,
    "start_time": "2022-09-18T15:28:53.065Z"
   },
   {
    "duration": 109,
    "start_time": "2022-09-18T15:28:53.072Z"
   },
   {
    "duration": 28,
    "start_time": "2022-09-18T15:28:53.182Z"
   },
   {
    "duration": 4,
    "start_time": "2022-09-18T15:28:53.212Z"
   },
   {
    "duration": 5,
    "start_time": "2022-09-18T15:28:53.217Z"
   },
   {
    "duration": 8,
    "start_time": "2022-09-18T15:28:53.224Z"
   },
   {
    "duration": 6,
    "start_time": "2022-09-18T15:28:53.234Z"
   },
   {
    "duration": 6,
    "start_time": "2022-09-18T15:28:53.242Z"
   },
   {
    "duration": 36,
    "start_time": "2022-09-18T15:28:53.249Z"
   },
   {
    "duration": 141,
    "start_time": "2022-09-18T15:28:53.308Z"
   },
   {
    "duration": 15,
    "start_time": "2022-09-18T15:28:53.450Z"
   },
   {
    "duration": 44,
    "start_time": "2022-09-18T15:28:53.466Z"
   },
   {
    "duration": 9,
    "start_time": "2022-09-18T15:28:53.512Z"
   },
   {
    "duration": 8,
    "start_time": "2022-09-18T15:28:53.522Z"
   },
   {
    "duration": 186,
    "start_time": "2022-09-18T15:28:53.531Z"
   },
   {
    "duration": 266,
    "start_time": "2022-09-18T15:28:53.719Z"
   },
   {
    "duration": 33,
    "start_time": "2022-09-18T15:28:53.986Z"
   },
   {
    "duration": 21,
    "start_time": "2022-09-18T15:28:54.020Z"
   },
   {
    "duration": 2,
    "start_time": "2022-09-18T15:28:54.043Z"
   },
   {
    "duration": 30,
    "start_time": "2022-09-18T15:28:54.046Z"
   },
   {
    "duration": 33,
    "start_time": "2022-09-18T15:28:54.077Z"
   },
   {
    "duration": 15,
    "start_time": "2022-09-18T15:28:54.111Z"
   },
   {
    "duration": 4,
    "start_time": "2022-09-18T15:28:54.127Z"
   },
   {
    "duration": 8,
    "start_time": "2022-09-18T15:28:54.132Z"
   },
   {
    "duration": 2,
    "start_time": "2022-09-18T15:28:54.142Z"
   },
   {
    "duration": 13,
    "start_time": "2022-09-18T15:28:54.147Z"
   },
   {
    "duration": 2,
    "start_time": "2022-09-18T15:28:54.161Z"
   },
   {
    "duration": 45,
    "start_time": "2022-09-18T15:28:54.165Z"
   },
   {
    "duration": 5,
    "start_time": "2022-09-18T15:28:54.212Z"
   },
   {
    "duration": 5,
    "start_time": "2022-09-18T15:28:54.219Z"
   },
   {
    "duration": 3383,
    "start_time": "2022-09-18T15:28:54.226Z"
   },
   {
    "duration": 2954,
    "start_time": "2022-09-18T15:28:57.610Z"
   },
   {
    "duration": 1416,
    "start_time": "2022-09-18T15:29:00.566Z"
   },
   {
    "duration": 2,
    "start_time": "2022-09-18T15:29:01.984Z"
   },
   {
    "duration": 10,
    "start_time": "2022-09-18T15:29:01.988Z"
   },
   {
    "duration": 2,
    "start_time": "2022-09-18T15:29:02.010Z"
   },
   {
    "duration": 6,
    "start_time": "2022-09-18T15:29:02.014Z"
   },
   {
    "duration": 7,
    "start_time": "2022-09-18T15:29:02.022Z"
   },
   {
    "duration": 5,
    "start_time": "2022-09-18T15:29:02.031Z"
   },
   {
    "duration": 27,
    "start_time": "2022-09-18T15:29:02.037Z"
   },
   {
    "duration": 9,
    "start_time": "2022-09-18T15:29:02.066Z"
   },
   {
    "duration": 33,
    "start_time": "2022-09-18T15:29:02.077Z"
   },
   {
    "duration": 3,
    "start_time": "2022-09-18T15:29:02.111Z"
   },
   {
    "duration": 7,
    "start_time": "2022-09-18T15:29:02.116Z"
   },
   {
    "duration": 120958,
    "start_time": "2022-09-18T15:29:02.125Z"
   },
   {
    "duration": 77114,
    "start_time": "2022-09-18T15:31:03.085Z"
   },
   {
    "duration": 2,
    "start_time": "2022-09-18T15:32:20.201Z"
   },
   {
    "duration": 683708,
    "start_time": "2022-09-18T15:32:20.208Z"
   },
   {
    "duration": 5,
    "start_time": "2022-09-18T15:43:43.917Z"
   },
   {
    "duration": 429,
    "start_time": "2022-09-18T15:43:43.924Z"
   },
   {
    "duration": 4,
    "start_time": "2022-09-18T15:54:14.277Z"
   },
   {
    "duration": 6,
    "start_time": "2022-09-18T15:54:14.668Z"
   },
   {
    "duration": 4,
    "start_time": "2022-09-18T15:54:15.016Z"
   },
   {
    "duration": 146,
    "start_time": "2022-09-18T15:54:16.234Z"
   },
   {
    "duration": 10,
    "start_time": "2022-09-18T16:22:00.062Z"
   },
   {
    "duration": 1999,
    "start_time": "2022-09-18T16:22:12.105Z"
   },
   {
    "duration": 113,
    "start_time": "2022-09-18T16:22:14.107Z"
   },
   {
    "duration": 4,
    "start_time": "2022-09-18T16:22:14.222Z"
   },
   {
    "duration": 150,
    "start_time": "2022-09-18T16:22:14.228Z"
   },
   {
    "duration": 34,
    "start_time": "2022-09-18T16:22:14.380Z"
   },
   {
    "duration": 15,
    "start_time": "2022-09-18T16:22:14.417Z"
   },
   {
    "duration": 26,
    "start_time": "2022-09-18T16:22:14.434Z"
   },
   {
    "duration": 23,
    "start_time": "2022-09-18T16:22:14.462Z"
   },
   {
    "duration": 18,
    "start_time": "2022-09-18T16:22:14.487Z"
   },
   {
    "duration": 21,
    "start_time": "2022-09-18T16:22:14.507Z"
   },
   {
    "duration": 63,
    "start_time": "2022-09-18T16:22:14.530Z"
   },
   {
    "duration": 158,
    "start_time": "2022-09-18T16:22:14.595Z"
   },
   {
    "duration": 15,
    "start_time": "2022-09-18T16:22:14.755Z"
   },
   {
    "duration": 37,
    "start_time": "2022-09-18T16:22:14.773Z"
   },
   {
    "duration": 14,
    "start_time": "2022-09-18T16:22:14.811Z"
   },
   {
    "duration": 7,
    "start_time": "2022-09-18T16:22:14.826Z"
   },
   {
    "duration": 160,
    "start_time": "2022-09-18T16:22:14.834Z"
   },
   {
    "duration": 190,
    "start_time": "2022-09-18T16:22:14.996Z"
   },
   {
    "duration": 28,
    "start_time": "2022-09-18T16:22:15.187Z"
   },
   {
    "duration": 22,
    "start_time": "2022-09-18T16:22:15.217Z"
   },
   {
    "duration": 2,
    "start_time": "2022-09-18T16:22:15.240Z"
   },
   {
    "duration": 27,
    "start_time": "2022-09-18T16:22:15.244Z"
   },
   {
    "duration": 39,
    "start_time": "2022-09-18T16:22:15.272Z"
   },
   {
    "duration": 21,
    "start_time": "2022-09-18T16:22:15.313Z"
   },
   {
    "duration": 4,
    "start_time": "2022-09-18T16:22:15.335Z"
   },
   {
    "duration": 13,
    "start_time": "2022-09-18T16:22:15.341Z"
   },
   {
    "duration": 4,
    "start_time": "2022-09-18T16:22:15.355Z"
   },
   {
    "duration": 15,
    "start_time": "2022-09-18T16:22:15.361Z"
   },
   {
    "duration": 2,
    "start_time": "2022-09-18T16:22:15.378Z"
   },
   {
    "duration": 36,
    "start_time": "2022-09-18T16:22:15.381Z"
   },
   {
    "duration": 6,
    "start_time": "2022-09-18T16:22:15.418Z"
   },
   {
    "duration": 8,
    "start_time": "2022-09-18T16:22:15.425Z"
   },
   {
    "duration": 3503,
    "start_time": "2022-09-18T16:22:15.435Z"
   },
   {
    "duration": 2944,
    "start_time": "2022-09-18T16:22:18.939Z"
   },
   {
    "duration": 1513,
    "start_time": "2022-09-18T16:22:21.885Z"
   },
   {
    "duration": 2,
    "start_time": "2022-09-18T16:22:23.408Z"
   },
   {
    "duration": 20,
    "start_time": "2022-09-18T16:22:23.412Z"
   },
   {
    "duration": 9,
    "start_time": "2022-09-18T16:22:23.434Z"
   },
   {
    "duration": 13,
    "start_time": "2022-09-18T16:22:23.444Z"
   },
   {
    "duration": 10,
    "start_time": "2022-09-18T16:22:23.459Z"
   },
   {
    "duration": 5,
    "start_time": "2022-09-18T16:22:23.472Z"
   },
   {
    "duration": 206,
    "start_time": "2022-09-18T16:22:23.478Z"
   },
   {
    "duration": 197,
    "start_time": "2022-09-18T16:23:04.743Z"
   },
   {
    "duration": 4,
    "start_time": "2022-09-18T16:23:12.708Z"
   },
   {
    "duration": 5,
    "start_time": "2022-09-18T16:23:13.019Z"
   },
   {
    "duration": 4,
    "start_time": "2022-09-18T16:23:13.501Z"
   },
   {
    "duration": 201,
    "start_time": "2022-09-18T16:23:14.661Z"
   },
   {
    "duration": 4,
    "start_time": "2022-09-18T16:23:36.616Z"
   },
   {
    "duration": 12,
    "start_time": "2022-09-18T16:23:59.328Z"
   },
   {
    "duration": 3,
    "start_time": "2022-09-18T16:25:05.311Z"
   },
   {
    "duration": 240,
    "start_time": "2022-09-18T16:25:12.675Z"
   },
   {
    "duration": 219,
    "start_time": "2022-09-18T16:25:38.175Z"
   },
   {
    "duration": 13,
    "start_time": "2022-09-18T16:28:37.597Z"
   },
   {
    "duration": 3318,
    "start_time": "2022-09-18T16:28:52.766Z"
   },
   {
    "duration": 109,
    "start_time": "2022-09-18T16:28:56.087Z"
   },
   {
    "duration": 7,
    "start_time": "2022-09-18T16:28:56.197Z"
   },
   {
    "duration": 138,
    "start_time": "2022-09-18T16:28:56.206Z"
   },
   {
    "duration": 3,
    "start_time": "2022-09-18T16:28:56.346Z"
   },
   {
    "duration": 6,
    "start_time": "2022-09-18T16:28:56.351Z"
   },
   {
    "duration": 5,
    "start_time": "2022-09-18T16:28:56.358Z"
   },
   {
    "duration": 15,
    "start_time": "2022-09-18T16:28:56.365Z"
   },
   {
    "duration": 28,
    "start_time": "2022-09-18T16:28:56.381Z"
   },
   {
    "duration": 5,
    "start_time": "2022-09-18T16:28:56.410Z"
   },
   {
    "duration": 30,
    "start_time": "2022-09-18T16:28:56.417Z"
   },
   {
    "duration": 164,
    "start_time": "2022-09-18T16:28:56.449Z"
   },
   {
    "duration": 15,
    "start_time": "2022-09-18T16:28:56.614Z"
   },
   {
    "duration": 14,
    "start_time": "2022-09-18T16:28:56.631Z"
   },
   {
    "duration": 9,
    "start_time": "2022-09-18T16:28:56.647Z"
   },
   {
    "duration": 6,
    "start_time": "2022-09-18T16:28:56.658Z"
   },
   {
    "duration": 178,
    "start_time": "2022-09-18T16:28:56.665Z"
   },
   {
    "duration": 235,
    "start_time": "2022-09-18T16:28:56.844Z"
   },
   {
    "duration": 31,
    "start_time": "2022-09-18T16:28:57.080Z"
   },
   {
    "duration": 20,
    "start_time": "2022-09-18T16:28:57.113Z"
   },
   {
    "duration": 2,
    "start_time": "2022-09-18T16:28:57.135Z"
   },
   {
    "duration": 26,
    "start_time": "2022-09-18T16:28:57.138Z"
   },
   {
    "duration": 17,
    "start_time": "2022-09-18T16:28:57.166Z"
   },
   {
    "duration": 31,
    "start_time": "2022-09-18T16:28:57.185Z"
   },
   {
    "duration": 4,
    "start_time": "2022-09-18T16:28:57.218Z"
   },
   {
    "duration": 15,
    "start_time": "2022-09-18T16:28:57.224Z"
   },
   {
    "duration": 3,
    "start_time": "2022-09-18T16:28:57.240Z"
   },
   {
    "duration": 20,
    "start_time": "2022-09-18T16:28:57.244Z"
   },
   {
    "duration": 3,
    "start_time": "2022-09-18T16:28:57.266Z"
   },
   {
    "duration": 20,
    "start_time": "2022-09-18T16:28:57.271Z"
   },
   {
    "duration": 20,
    "start_time": "2022-09-18T16:28:57.292Z"
   },
   {
    "duration": 8,
    "start_time": "2022-09-18T16:28:57.314Z"
   },
   {
    "duration": 3273,
    "start_time": "2022-09-18T16:28:57.323Z"
   },
   {
    "duration": 2962,
    "start_time": "2022-09-18T16:29:00.598Z"
   },
   {
    "duration": 1457,
    "start_time": "2022-09-18T16:29:03.561Z"
   },
   {
    "duration": 2,
    "start_time": "2022-09-18T16:29:05.019Z"
   },
   {
    "duration": 7,
    "start_time": "2022-09-18T16:29:05.022Z"
   },
   {
    "duration": 4,
    "start_time": "2022-09-18T16:29:05.031Z"
   },
   {
    "duration": 11,
    "start_time": "2022-09-18T16:29:05.036Z"
   },
   {
    "duration": 9,
    "start_time": "2022-09-18T16:29:05.049Z"
   },
   {
    "duration": 23,
    "start_time": "2022-09-18T16:29:05.062Z"
   },
   {
    "duration": 7,
    "start_time": "2022-09-18T16:29:05.087Z"
   },
   {
    "duration": 14,
    "start_time": "2022-09-18T16:29:05.095Z"
   },
   {
    "duration": 21,
    "start_time": "2022-09-18T16:29:05.110Z"
   },
   {
    "duration": 12,
    "start_time": "2022-09-18T16:29:05.134Z"
   },
   {
    "duration": 10,
    "start_time": "2022-09-18T16:29:05.147Z"
   },
   {
    "duration": 2,
    "start_time": "2022-09-18T16:29:05.159Z"
   },
   {
    "duration": 5,
    "start_time": "2022-09-18T16:29:05.163Z"
   },
   {
    "duration": 130333,
    "start_time": "2022-09-18T16:29:05.169Z"
   },
   {
    "duration": 71409,
    "start_time": "2022-09-18T16:31:15.504Z"
   },
   {
    "duration": 2,
    "start_time": "2022-09-18T16:32:26.915Z"
   },
   {
    "duration": 7,
    "start_time": "2022-09-18T16:32:26.918Z"
   },
   {
    "duration": 5,
    "start_time": "2022-09-18T16:32:26.926Z"
   },
   {
    "duration": 378,
    "start_time": "2022-09-18T16:32:26.932Z"
   },
   {
    "duration": 16,
    "start_time": "2022-09-18T16:45:10.059Z"
   },
   {
    "duration": 14,
    "start_time": "2022-09-18T16:45:24.807Z"
   },
   {
    "duration": 3386,
    "start_time": "2022-09-18T16:46:29.698Z"
   },
   {
    "duration": 105,
    "start_time": "2022-09-18T16:46:33.086Z"
   },
   {
    "duration": 5,
    "start_time": "2022-09-18T16:46:33.192Z"
   },
   {
    "duration": 144,
    "start_time": "2022-09-18T16:46:33.198Z"
   },
   {
    "duration": 4,
    "start_time": "2022-09-18T16:46:33.344Z"
   },
   {
    "duration": 8,
    "start_time": "2022-09-18T16:46:33.350Z"
   },
   {
    "duration": 5,
    "start_time": "2022-09-18T16:46:33.360Z"
   },
   {
    "duration": 10,
    "start_time": "2022-09-18T16:46:33.367Z"
   },
   {
    "duration": 8,
    "start_time": "2022-09-18T16:46:33.379Z"
   },
   {
    "duration": 5,
    "start_time": "2022-09-18T16:46:33.409Z"
   },
   {
    "duration": 29,
    "start_time": "2022-09-18T16:46:33.415Z"
   },
   {
    "duration": 136,
    "start_time": "2022-09-18T16:46:33.446Z"
   },
   {
    "duration": 38,
    "start_time": "2022-09-18T16:46:33.584Z"
   },
   {
    "duration": 15,
    "start_time": "2022-09-18T16:46:33.625Z"
   },
   {
    "duration": 10,
    "start_time": "2022-09-18T16:46:33.642Z"
   },
   {
    "duration": 6,
    "start_time": "2022-09-18T16:46:33.653Z"
   },
   {
    "duration": 175,
    "start_time": "2022-09-18T16:46:33.661Z"
   },
   {
    "duration": 249,
    "start_time": "2022-09-18T16:46:33.837Z"
   },
   {
    "duration": 29,
    "start_time": "2022-09-18T16:46:34.088Z"
   },
   {
    "duration": 22,
    "start_time": "2022-09-18T16:46:34.118Z"
   },
   {
    "duration": 10,
    "start_time": "2022-09-18T16:46:34.146Z"
   },
   {
    "duration": 25,
    "start_time": "2022-09-18T16:46:34.158Z"
   },
   {
    "duration": 36,
    "start_time": "2022-09-18T16:46:34.185Z"
   },
   {
    "duration": 20,
    "start_time": "2022-09-18T16:46:34.224Z"
   },
   {
    "duration": 4,
    "start_time": "2022-09-18T16:46:34.246Z"
   },
   {
    "duration": 15,
    "start_time": "2022-09-18T16:46:34.251Z"
   },
   {
    "duration": 4,
    "start_time": "2022-09-18T16:46:34.268Z"
   },
   {
    "duration": 18,
    "start_time": "2022-09-18T16:46:34.273Z"
   },
   {
    "duration": 3,
    "start_time": "2022-09-18T16:46:34.293Z"
   },
   {
    "duration": 27,
    "start_time": "2022-09-18T16:46:34.297Z"
   },
   {
    "duration": 6,
    "start_time": "2022-09-18T16:46:34.325Z"
   },
   {
    "duration": 6,
    "start_time": "2022-09-18T16:46:34.332Z"
   },
   {
    "duration": 3459,
    "start_time": "2022-09-18T16:46:34.340Z"
   },
   {
    "duration": 2947,
    "start_time": "2022-09-18T16:46:37.801Z"
   },
   {
    "duration": 1437,
    "start_time": "2022-09-18T16:46:40.750Z"
   },
   {
    "duration": 2,
    "start_time": "2022-09-18T16:46:42.189Z"
   },
   {
    "duration": 6,
    "start_time": "2022-09-18T16:46:42.193Z"
   },
   {
    "duration": 12,
    "start_time": "2022-09-18T16:46:42.208Z"
   },
   {
    "duration": 9,
    "start_time": "2022-09-18T16:46:42.221Z"
   },
   {
    "duration": 6,
    "start_time": "2022-09-18T16:46:42.232Z"
   },
   {
    "duration": 12,
    "start_time": "2022-09-18T16:46:42.242Z"
   },
   {
    "duration": 5,
    "start_time": "2022-09-18T16:46:42.256Z"
   },
   {
    "duration": 4,
    "start_time": "2022-09-18T16:46:42.262Z"
   },
   {
    "duration": 14,
    "start_time": "2022-09-18T16:46:42.268Z"
   },
   {
    "duration": 37,
    "start_time": "2022-09-18T16:46:42.283Z"
   },
   {
    "duration": 12,
    "start_time": "2022-09-18T16:46:42.321Z"
   },
   {
    "duration": 17,
    "start_time": "2022-09-18T16:46:42.335Z"
   },
   {
    "duration": 6,
    "start_time": "2022-09-18T16:46:42.354Z"
   },
   {
    "duration": 4,
    "start_time": "2022-09-18T16:46:42.362Z"
   },
   {
    "duration": 171977,
    "start_time": "2022-09-18T16:46:42.368Z"
   },
   {
    "duration": 71533,
    "start_time": "2022-09-18T16:49:34.346Z"
   },
   {
    "duration": 2,
    "start_time": "2022-09-18T16:50:45.881Z"
   },
   {
    "duration": 1068031,
    "start_time": "2022-09-18T16:50:45.885Z"
   },
   {
    "duration": 6,
    "start_time": "2022-09-18T17:08:33.917Z"
   },
   {
    "duration": 354,
    "start_time": "2022-09-18T17:08:34.010Z"
   },
   {
    "duration": 4038,
    "start_time": "2022-09-19T07:37:39.047Z"
   },
   {
    "duration": 291,
    "start_time": "2022-09-19T07:37:43.087Z"
   },
   {
    "duration": 5,
    "start_time": "2022-09-19T07:37:43.379Z"
   },
   {
    "duration": 147,
    "start_time": "2022-09-19T07:37:43.386Z"
   },
   {
    "duration": 3,
    "start_time": "2022-09-19T07:37:43.535Z"
   },
   {
    "duration": 6,
    "start_time": "2022-09-19T07:37:43.540Z"
   },
   {
    "duration": 4,
    "start_time": "2022-09-19T07:37:43.548Z"
   },
   {
    "duration": 9,
    "start_time": "2022-09-19T07:37:43.553Z"
   },
   {
    "duration": 8,
    "start_time": "2022-09-19T07:37:43.564Z"
   },
   {
    "duration": 27,
    "start_time": "2022-09-19T07:37:43.574Z"
   },
   {
    "duration": 31,
    "start_time": "2022-09-19T07:37:43.603Z"
   },
   {
    "duration": 130,
    "start_time": "2022-09-19T07:37:43.635Z"
   },
   {
    "duration": 41,
    "start_time": "2022-09-19T07:37:43.766Z"
   },
   {
    "duration": 17,
    "start_time": "2022-09-19T07:37:43.808Z"
   },
   {
    "duration": 8,
    "start_time": "2022-09-19T07:37:43.827Z"
   },
   {
    "duration": 6,
    "start_time": "2022-09-19T07:37:43.837Z"
   },
   {
    "duration": 166,
    "start_time": "2022-09-19T07:37:43.844Z"
   },
   {
    "duration": 270,
    "start_time": "2022-09-19T07:37:44.011Z"
   },
   {
    "duration": 30,
    "start_time": "2022-09-19T07:37:44.283Z"
   },
   {
    "duration": 22,
    "start_time": "2022-09-19T07:37:44.315Z"
   },
   {
    "duration": 2,
    "start_time": "2022-09-19T07:37:44.339Z"
   },
   {
    "duration": 26,
    "start_time": "2022-09-19T07:37:44.343Z"
   },
   {
    "duration": 38,
    "start_time": "2022-09-19T07:37:44.371Z"
   },
   {
    "duration": 18,
    "start_time": "2022-09-19T07:37:44.411Z"
   },
   {
    "duration": 4,
    "start_time": "2022-09-19T07:37:44.431Z"
   },
   {
    "duration": 33,
    "start_time": "2022-09-19T07:37:44.436Z"
   },
   {
    "duration": 6,
    "start_time": "2022-09-19T07:37:44.471Z"
   },
   {
    "duration": 34,
    "start_time": "2022-09-19T07:37:44.481Z"
   },
   {
    "duration": 26,
    "start_time": "2022-09-19T07:37:44.517Z"
   },
   {
    "duration": 31,
    "start_time": "2022-09-19T07:37:44.545Z"
   },
   {
    "duration": 16,
    "start_time": "2022-09-19T07:37:44.578Z"
   },
   {
    "duration": 12,
    "start_time": "2022-09-19T07:37:44.596Z"
   },
   {
    "duration": 3325,
    "start_time": "2022-09-19T07:37:44.610Z"
   },
   {
    "duration": 2978,
    "start_time": "2022-09-19T07:37:47.937Z"
   },
   {
    "duration": 1599,
    "start_time": "2022-09-19T07:37:50.916Z"
   },
   {
    "duration": 2,
    "start_time": "2022-09-19T07:37:52.517Z"
   },
   {
    "duration": 7,
    "start_time": "2022-09-19T07:37:52.520Z"
   },
   {
    "duration": 6,
    "start_time": "2022-09-19T07:37:52.528Z"
   },
   {
    "duration": 7,
    "start_time": "2022-09-19T07:37:52.535Z"
   },
   {
    "duration": 7,
    "start_time": "2022-09-19T07:37:52.543Z"
   },
   {
    "duration": 12,
    "start_time": "2022-09-19T07:37:52.552Z"
   },
   {
    "duration": 6,
    "start_time": "2022-09-19T07:37:52.566Z"
   },
   {
    "duration": 5,
    "start_time": "2022-09-19T07:37:52.573Z"
   },
   {
    "duration": 11,
    "start_time": "2022-09-19T07:37:52.600Z"
   },
   {
    "duration": 10,
    "start_time": "2022-09-19T07:37:52.613Z"
   },
   {
    "duration": 10,
    "start_time": "2022-09-19T07:37:52.625Z"
   },
   {
    "duration": 15,
    "start_time": "2022-09-19T07:37:52.637Z"
   },
   {
    "duration": 4,
    "start_time": "2022-09-19T07:37:52.653Z"
   },
   {
    "duration": 6,
    "start_time": "2022-09-19T07:37:52.658Z"
   },
   {
    "duration": 183724,
    "start_time": "2022-09-19T07:37:52.665Z"
   },
   {
    "duration": 41139,
    "start_time": "2022-09-19T07:40:56.390Z"
   },
   {
    "duration": 2,
    "start_time": "2022-09-19T07:41:37.531Z"
   },
   {
    "duration": 1475770,
    "start_time": "2022-09-19T07:41:37.535Z"
   },
   {
    "duration": 7,
    "start_time": "2022-09-19T08:06:13.307Z"
   },
   {
    "duration": 624,
    "start_time": "2022-09-19T08:06:13.317Z"
   }
  ],
  "kernelspec": {
   "display_name": "Python 3 (ipykernel)",
   "language": "python",
   "name": "python3"
  },
  "language_info": {
   "codemirror_mode": {
    "name": "ipython",
    "version": 3
   },
   "file_extension": ".py",
   "mimetype": "text/x-python",
   "name": "python",
   "nbconvert_exporter": "python",
   "pygments_lexer": "ipython3",
   "version": "3.9.12"
  },
  "toc": {
   "base_numbering": 1,
   "nav_menu": {},
   "number_sections": true,
   "sideBar": true,
   "skip_h1_title": true,
   "title_cell": "Table of Contents",
   "title_sidebar": "Contents",
   "toc_cell": false,
   "toc_position": {},
   "toc_section_display": true,
   "toc_window_display": false
  }
 },
 "nbformat": 4,
 "nbformat_minor": 2
}
